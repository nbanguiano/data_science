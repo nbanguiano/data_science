{
 "metadata": {
  "name": "",
  "signature": "sha256:a8abbd0cd9cedabfc0596a2ea753e5948cd5ee4465ff4aeeb6d37181589ae032"
 },
 "nbformat": 3,
 "nbformat_minor": 0,
 "worksheets": [
  {
   "cells": [
    {
     "cell_type": "markdown",
     "metadata": {},
     "source": [
      "# Advanced programming for data analysis: pandas.\n",
      "\n",
      "pandas is a Python package providing fast, flexible, and expressive data structures designed to work with relational or labeled data both. It is a fundamental high-level building block for doing practical, real world data analysis in Python.\n",
      "\n",
      "pandas is well suited for:\n",
      "\n",
      "+ Tabular data with heterogeneously-typed columns, as in an SQL table or Excel spreadsheet\n",
      "+ Ordered and unordered (not necessarily fixed-frequency) time series data.\n",
      "+ Arbitrary matrix data (homogeneously typed or heterogeneous) with row and column labels.\n",
      "\n",
      "Key features:\n",
      "\n",
      "+ Easy handling of missing data\n",
      "+ Size mutability: columns can be inserted and deleted from DataFrame\n",
      "+ Powerful, flexible ``group by`` functionality to perform split-apply-combine operations on data sets\n",
      "+ Intelligent label-based slicing, fancy indexing, and subsetting of large data sets\n",
      "+ Intuitive merging and joining data sets\n",
      "+ Flexible reshaping and pivoting of data sets\n",
      "+ Hierarchical labeling of axes\n",
      "+ Robust IO tools for loading data from flat files, Excel files, databases, and HDF5\n",
      "+ Time series functionality: date range generation and frequency conversion, moving window statistics, moving window linear regressions, date shifting and lagging, etc.\n"
     ]
    },
    {
     "cell_type": "markdown",
     "metadata": {},
     "source": [
      "Importing pandas:"
     ]
    },
    {
     "cell_type": "code",
     "collapsed": false,
     "input": [
      "import pandas as pd                            # convention, alias 'pd'\n"
     ],
     "language": "python",
     "metadata": {},
     "outputs": [],
     "prompt_number": 21
    },
    {
     "cell_type": "markdown",
     "metadata": {},
     "source": [
      "## Pandas Data Structure\n",
      "\n",
      "###Series\n",
      "\n",
      "A Series is a single vector of data with an index that labels every element in the vector. If we do not specify the index, a sequence of integers is assigned as the index."
     ]
    },
    {
     "cell_type": "code",
     "collapsed": false,
     "input": [
      "c = pd.Series([1956, 1967, 1989, 2000])\n",
      "c"
     ],
     "language": "python",
     "metadata": {},
     "outputs": [
      {
       "metadata": {},
       "output_type": "pyout",
       "prompt_number": 22,
       "text": [
        "0    1956\n",
        "1    1967\n",
        "2    1989\n",
        "3    2000\n",
        "dtype: int64"
       ]
      }
     ],
     "prompt_number": 22
    },
    {
     "cell_type": "markdown",
     "metadata": {},
     "source": [
      "Its values are stored in a NumPy array (``values``) and the index in a pandas ``Index`` object:"
     ]
    },
    {
     "cell_type": "code",
     "collapsed": false,
     "input": [
      "c.values"
     ],
     "language": "python",
     "metadata": {},
     "outputs": [
      {
       "metadata": {},
       "output_type": "pyout",
       "prompt_number": 23,
       "text": [
        "array([1956, 1967, 1989, 2000], dtype=int64)"
       ]
      }
     ],
     "prompt_number": 23
    },
    {
     "cell_type": "code",
     "collapsed": false,
     "input": [
      "c.index"
     ],
     "language": "python",
     "metadata": {},
     "outputs": [
      {
       "metadata": {},
       "output_type": "pyout",
       "prompt_number": 24,
       "text": [
        "Int64Index([0, 1, 2, 3], dtype='int64')"
       ]
      }
     ],
     "prompt_number": 24
    },
    {
     "cell_type": "markdown",
     "metadata": {},
     "source": [
      "We can assign labels to the index, while creating the serie"
     ]
    },
    {
     "cell_type": "code",
     "collapsed": false,
     "input": [
      "c = pd.Series([1956, 1967, 1989, 2000], index = ['a','b','c','d'])\n",
      "c"
     ],
     "language": "python",
     "metadata": {},
     "outputs": [
      {
       "metadata": {},
       "output_type": "pyout",
       "prompt_number": 25,
       "text": [
        "a    1956\n",
        "b    1967\n",
        "c    1989\n",
        "d    2000\n",
        "dtype: int64"
       ]
      }
     ],
     "prompt_number": 25
    },
    {
     "cell_type": "markdown",
     "metadata": {},
     "source": [
      "Labels can be used to refer to the values in the serie"
     ]
    },
    {
     "cell_type": "code",
     "collapsed": false,
     "input": [
      "c['d']"
     ],
     "language": "python",
     "metadata": {},
     "outputs": [
      {
       "metadata": {},
       "output_type": "pyout",
       "prompt_number": 26,
       "text": [
        "2000"
       ]
      }
     ],
     "prompt_number": 26
    },
    {
     "cell_type": "markdown",
     "metadata": {},
     "source": [
      "We can still use positional index"
     ]
    },
    {
     "cell_type": "code",
     "collapsed": false,
     "input": [
      "c[3]"
     ],
     "language": "python",
     "metadata": {},
     "outputs": [
      {
       "metadata": {},
       "output_type": "pyout",
       "prompt_number": 27,
       "text": [
        "2000"
       ]
      }
     ],
     "prompt_number": 27
    },
    {
     "cell_type": "markdown",
     "metadata": {},
     "source": [
      "We can give both the array of values and the index meaningful labels names"
     ]
    },
    {
     "cell_type": "code",
     "collapsed": false,
     "input": [
      "c.name = 'years'\n",
      "c.index.name = 'obs'\n",
      "c"
     ],
     "language": "python",
     "metadata": {},
     "outputs": [
      {
       "metadata": {},
       "output_type": "pyout",
       "prompt_number": 28,
       "text": [
        "obs\n",
        "a      1956\n",
        "b      1967\n",
        "c      1989\n",
        "d      2000\n",
        "Name: years, dtype: int64"
       ]
      }
     ],
     "prompt_number": 28
    },
    {
     "cell_type": "markdown",
     "metadata": {},
     "source": [
      "###Time Series"
     ]
    },
    {
     "cell_type": "markdown",
     "metadata": {},
     "source": [
      "In working with time series data, we will frequently seek to:\n",
      "\n",
      "- generate sequences of fixed-frequency dates and time spans\n",
      "- conform or convert time series to a particular frequency\n",
      "- compute \u201crelative\u201d dates based on various non-standard time increments (e.g. 5 business days before the last business day of the year), or \u201croll\u201d dates forward or backward\n",
      "\n",
      "pandas provides a relatively compact and self-contained set of tools for performing the above tasks.\n",
      "\n",
      "Create a range of dates:"
     ]
    },
    {
     "cell_type": "code",
     "collapsed": false,
     "input": [
      "# 72 hours starting with midnight Jan 1st, 2011\n",
      "rng = pd.date_range('1/1/2011', periods=72, freq='H')"
     ],
     "language": "python",
     "metadata": {},
     "outputs": [],
     "prompt_number": 29
    },
    {
     "cell_type": "markdown",
     "metadata": {},
     "source": [
      "Index pandas objects with dates:"
     ]
    },
    {
     "cell_type": "code",
     "collapsed": false,
     "input": [
      "import numpy as np\n",
      "ts = pd.Series(np.random.randint(0,500,len(rng)),index = rng)\n",
      "ts.head()"
     ],
     "language": "python",
     "metadata": {},
     "outputs": [
      {
       "metadata": {},
       "output_type": "pyout",
       "prompt_number": 30,
       "text": [
        "2011-01-01 00:00:00    235\n",
        "2011-01-01 01:00:00    126\n",
        "2011-01-01 02:00:00    407\n",
        "2011-01-01 03:00:00    182\n",
        "2011-01-01 04:00:00     54\n",
        "Freq: H, dtype: int32"
       ]
      }
     ],
     "prompt_number": 30
    },
    {
     "cell_type": "markdown",
     "metadata": {},
     "source": [
      "Change frequency and fill gaps:"
     ]
    },
    {
     "cell_type": "code",
     "collapsed": false,
     "input": [
      "# to 45 minute frequency and forward fill\n",
      "converted = ts.asfreq('45Min', method='pad')\n",
      "converted.head()"
     ],
     "language": "python",
     "metadata": {},
     "outputs": [
      {
       "metadata": {},
       "output_type": "pyout",
       "prompt_number": 31,
       "text": [
        "2011-01-01 00:00:00    235\n",
        "2011-01-01 00:45:00    235\n",
        "2011-01-01 01:30:00    126\n",
        "2011-01-01 02:15:00    407\n",
        "2011-01-01 03:00:00    182\n",
        "Freq: 45T, dtype: int32"
       ]
      }
     ],
     "prompt_number": 31
    },
    {
     "cell_type": "code",
     "collapsed": false,
     "input": [
      "ts.resample('D', how='mean')"
     ],
     "language": "python",
     "metadata": {},
     "outputs": [
      {
       "metadata": {},
       "output_type": "pyout",
       "prompt_number": 32,
       "text": [
        "2011-01-01    227.208333\n",
        "2011-01-02    275.333333\n",
        "2011-01-03    254.666667\n",
        "Freq: D, dtype: float64"
       ]
      }
     ],
     "prompt_number": 32
    },
    {
     "cell_type": "markdown",
     "metadata": {},
     "source": [
      "Time zone representation"
     ]
    },
    {
     "cell_type": "markdown",
     "metadata": {},
     "source": [
      "Convert to another time zone"
     ]
    },
    {
     "cell_type": "markdown",
     "metadata": {},
     "source": [
      "Convert to TimeStamps"
     ]
    },
    {
     "cell_type": "markdown",
     "metadata": {},
     "source": [
      "###DataFrames \n",
      "DataFrames are designed to store heterogeneous multivarite data, where for every index there are multiple fields or columns of data, often of different data type.\n",
      "\n",
      "A `DataFrame` os a tabular data structure, encapsulating multiple series like columns in a spreadsheet. Data are stored interally as a 2-dimensional object, but the `DataFrame` allows us to represent and manipulate higher-dimensional data.\n"
     ]
    },
    {
     "cell_type": "markdown",
     "metadata": {},
     "source": [
      "##Reading tabular data\n",
      "\n",
      "The \u2018pandas\u2019 Python library provides several operators, <code>read_csv(), read_table(), \n",
      "read_excel() ...</code> that allows you to access data \ufb01les in tabular format on your computer as well as data stored in web repositories.\n",
      "\n",
      "Reading in a data table is simply a matter of knowing the name (and location) of the data set."
     ]
    },
    {
     "cell_type": "markdown",
     "metadata": {},
     "source": [
      "###EUROSTAT data\n",
      "\n",
      "Eurostat is the home of the European Commssion data. Eurostat\u2019s main role is to process and publish comparable statistical information at European level. Data in eurostat is provided by each member state. Eurostat's re-use policy is free re-use of its data, both for non-commercial and commercial purposes (with some minor exceptions)."
     ]
    },
    {
     "cell_type": "code",
     "collapsed": false,
     "input": [
      "from IPython.display import HTML\n",
      "HTML('<iframe src=http://epp.eurostat.ec.europa.eu/portal/page/portal/eurostat/home  width=900 height=500></iframe>')"
     ],
     "language": "python",
     "metadata": {},
     "outputs": [
      {
       "html": [
        "<iframe src=http://epp.eurostat.ec.europa.eu/portal/page/portal/eurostat/home  width=900 height=500></iframe>"
       ],
       "metadata": {},
       "output_type": "pyout",
       "prompt_number": 33,
       "text": [
        "<IPython.core.display.HTML at 0x9f16748>"
       ]
      }
     ],
     "prompt_number": 33
    },
    {
     "cell_type": "markdown",
     "metadata": {},
     "source": [
      "In this case study we are going to retrieve Eurostat data. The amount of data in the database is huge, thus we are going to use a small subset for illustration purposes. In our first study we are going to focus on **indicators on education finance data** among the member states. The data is already downloaded and provided as is in the file `educ_figdp_1_Data.csv`. You can download it directly following this links `Database by terms>Population and social conditions>Education and training>Indicators on education finance > Expenditure on education as % of GDP or public expenditure (educ_figdp)`\n",
      "\n",
      "Let us start reading the data:"
     ]
    },
    {
     "cell_type": "code",
     "collapsed": false,
     "input": [
      "edu=pd.read_csv('data_files/educ_figdp/educ_figdp_1_Data.csv',na_values=':')"
     ],
     "language": "python",
     "metadata": {},
     "outputs": [],
     "prompt_number": 34
    },
    {
     "cell_type": "markdown",
     "metadata": {},
     "source": [
      "Check the shape and type of `DataFrame`"
     ]
    },
    {
     "cell_type": "code",
     "collapsed": false,
     "input": [
      "edu.shape "
     ],
     "language": "python",
     "metadata": {},
     "outputs": [
      {
       "metadata": {},
       "output_type": "pyout",
       "prompt_number": 35,
       "text": [
        "(384, 5)"
       ]
      }
     ],
     "prompt_number": 35
    },
    {
     "cell_type": "code",
     "collapsed": false,
     "input": [
      "type(edu)"
     ],
     "language": "python",
     "metadata": {},
     "outputs": [
      {
       "metadata": {},
       "output_type": "pyout",
       "prompt_number": 36,
       "text": [
        "pandas.core.frame.DataFrame"
       ]
      }
     ],
     "prompt_number": 36
    },
    {
     "cell_type": "markdown",
     "metadata": {},
     "source": [
      "It is also possible to create a `DataFrame` from a multidimensional numpy array or by passing a `dict` of objects that can be converted to series-like."
     ]
    },
    {
     "cell_type": "code",
     "collapsed": false,
     "input": [
      "import numpy as np\n",
      "dates = pd.date_range('19781212',periods=7)\n",
      "df = pd.DataFrame(np.random.randn(7,3),index=dates, columns=['A','B','C'])\n",
      "df"
     ],
     "language": "python",
     "metadata": {},
     "outputs": [
      {
       "html": [
        "<div style=\"max-height:1000px;max-width:1500px;overflow:auto;\">\n",
        "<table border=\"1\" class=\"dataframe\">\n",
        "  <thead>\n",
        "    <tr style=\"text-align: right;\">\n",
        "      <th></th>\n",
        "      <th>A</th>\n",
        "      <th>B</th>\n",
        "      <th>C</th>\n",
        "    </tr>\n",
        "  </thead>\n",
        "  <tbody>\n",
        "    <tr>\n",
        "      <th>1978-12-12</th>\n",
        "      <td> 1.393063</td>\n",
        "      <td>-1.339984</td>\n",
        "      <td> 0.233392</td>\n",
        "    </tr>\n",
        "    <tr>\n",
        "      <th>1978-12-13</th>\n",
        "      <td> 1.175944</td>\n",
        "      <td>-0.137994</td>\n",
        "      <td>-0.031485</td>\n",
        "    </tr>\n",
        "    <tr>\n",
        "      <th>1978-12-14</th>\n",
        "      <td>-0.984372</td>\n",
        "      <td>-1.379645</td>\n",
        "      <td>-0.953687</td>\n",
        "    </tr>\n",
        "    <tr>\n",
        "      <th>1978-12-15</th>\n",
        "      <td> 1.472684</td>\n",
        "      <td>-0.734686</td>\n",
        "      <td>-0.757234</td>\n",
        "    </tr>\n",
        "    <tr>\n",
        "      <th>1978-12-16</th>\n",
        "      <td> 0.341133</td>\n",
        "      <td>-0.294578</td>\n",
        "      <td> 0.936470</td>\n",
        "    </tr>\n",
        "    <tr>\n",
        "      <th>1978-12-17</th>\n",
        "      <td>-0.472207</td>\n",
        "      <td> 0.076492</td>\n",
        "      <td> 0.639186</td>\n",
        "    </tr>\n",
        "    <tr>\n",
        "      <th>1978-12-18</th>\n",
        "      <td> 2.235504</td>\n",
        "      <td> 1.152207</td>\n",
        "      <td>-0.011031</td>\n",
        "    </tr>\n",
        "  </tbody>\n",
        "</table>\n",
        "</div>"
       ],
       "metadata": {},
       "output_type": "pyout",
       "prompt_number": 37,
       "text": [
        "                   A         B         C\n",
        "1978-12-12  1.393063 -1.339984  0.233392\n",
        "1978-12-13  1.175944 -0.137994 -0.031485\n",
        "1978-12-14 -0.984372 -1.379645 -0.953687\n",
        "1978-12-15  1.472684 -0.734686 -0.757234\n",
        "1978-12-16  0.341133 -0.294578  0.936470\n",
        "1978-12-17 -0.472207  0.076492  0.639186\n",
        "1978-12-18  2.235504  1.152207 -0.011031"
       ]
      }
     ],
     "prompt_number": 37
    },
    {
     "cell_type": "code",
     "collapsed": false,
     "input": [
      "dictionary = dict({'A' : 1, \n",
      "                   'B' : pd.date_range('19781212',periods=7), \n",
      "                   'C' : range(7),\n",
      "                   'D' : np.arange(7)[::-1],\n",
      "                   'E' : 'foo' })\n",
      "pd.DataFrame(dictionary, index=range(1,8))"
     ],
     "language": "python",
     "metadata": {},
     "outputs": [
      {
       "html": [
        "<div style=\"max-height:1000px;max-width:1500px;overflow:auto;\">\n",
        "<table border=\"1\" class=\"dataframe\">\n",
        "  <thead>\n",
        "    <tr style=\"text-align: right;\">\n",
        "      <th></th>\n",
        "      <th>A</th>\n",
        "      <th>B</th>\n",
        "      <th>C</th>\n",
        "      <th>D</th>\n",
        "      <th>E</th>\n",
        "    </tr>\n",
        "  </thead>\n",
        "  <tbody>\n",
        "    <tr>\n",
        "      <th>1</th>\n",
        "      <td> 1</td>\n",
        "      <td>1978-12-12</td>\n",
        "      <td> 0</td>\n",
        "      <td> 6</td>\n",
        "      <td> foo</td>\n",
        "    </tr>\n",
        "    <tr>\n",
        "      <th>2</th>\n",
        "      <td> 1</td>\n",
        "      <td>1978-12-13</td>\n",
        "      <td> 1</td>\n",
        "      <td> 5</td>\n",
        "      <td> foo</td>\n",
        "    </tr>\n",
        "    <tr>\n",
        "      <th>3</th>\n",
        "      <td> 1</td>\n",
        "      <td>1978-12-14</td>\n",
        "      <td> 2</td>\n",
        "      <td> 4</td>\n",
        "      <td> foo</td>\n",
        "    </tr>\n",
        "    <tr>\n",
        "      <th>4</th>\n",
        "      <td> 1</td>\n",
        "      <td>1978-12-15</td>\n",
        "      <td> 3</td>\n",
        "      <td> 3</td>\n",
        "      <td> foo</td>\n",
        "    </tr>\n",
        "    <tr>\n",
        "      <th>5</th>\n",
        "      <td> 1</td>\n",
        "      <td>1978-12-16</td>\n",
        "      <td> 4</td>\n",
        "      <td> 2</td>\n",
        "      <td> foo</td>\n",
        "    </tr>\n",
        "    <tr>\n",
        "      <th>6</th>\n",
        "      <td> 1</td>\n",
        "      <td>1978-12-17</td>\n",
        "      <td> 5</td>\n",
        "      <td> 1</td>\n",
        "      <td> foo</td>\n",
        "    </tr>\n",
        "    <tr>\n",
        "      <th>7</th>\n",
        "      <td> 1</td>\n",
        "      <td>1978-12-18</td>\n",
        "      <td> 6</td>\n",
        "      <td> 0</td>\n",
        "      <td> foo</td>\n",
        "    </tr>\n",
        "  </tbody>\n",
        "</table>\n",
        "</div>"
       ],
       "metadata": {},
       "output_type": "pyout",
       "prompt_number": 38,
       "text": [
        "   A          B  C  D    E\n",
        "1  1 1978-12-12  0  6  foo\n",
        "2  1 1978-12-13  1  5  foo\n",
        "3  1 1978-12-14  2  4  foo\n",
        "4  1 1978-12-15  3  3  foo\n",
        "5  1 1978-12-16  4  2  foo\n",
        "6  1 1978-12-17  5  1  foo\n",
        "7  1 1978-12-18  6  0  foo"
       ]
      }
     ],
     "prompt_number": 38
    },
    {
     "cell_type": "markdown",
     "metadata": {},
     "source": [
      "We can also read data directly from the *clipboard*. Just `copy` some rows to the clipboard and use `read_clipboard()` function. By default it uses `S+` (space characters) as column separator."
     ]
    },
    {
     "cell_type": "code",
     "collapsed": false,
     "input": [
      "clipboard = pd.read_clipboard()\n",
      "clipboard"
     ],
     "language": "python",
     "metadata": {},
     "outputs": [
      {
       "ename": "TypeError",
       "evalue": "'NoneType' object has no attribute '__getitem__'",
       "output_type": "pyerr",
       "traceback": [
        "\u001b[1;31m---------------------------------------------------------------------------\u001b[0m\n\u001b[1;31mTypeError\u001b[0m                                 Traceback (most recent call last)",
        "\u001b[1;32m<ipython-input-39-d479020af214>\u001b[0m in \u001b[0;36m<module>\u001b[1;34m()\u001b[0m\n\u001b[1;32m----> 1\u001b[1;33m \u001b[0mclipboard\u001b[0m \u001b[1;33m=\u001b[0m \u001b[0mpd\u001b[0m\u001b[1;33m.\u001b[0m\u001b[0mread_clipboard\u001b[0m\u001b[1;33m(\u001b[0m\u001b[1;33m)\u001b[0m\u001b[1;33m\u001b[0m\u001b[0m\n\u001b[0m\u001b[0;32m      2\u001b[0m \u001b[0mclipboard\u001b[0m\u001b[1;33m\u001b[0m\u001b[0m\n",
        "\u001b[1;32mC:\\Users\\nanguiano\\Anaconda\\lib\\site-packages\\pandas\\io\\clipboard.pyc\u001b[0m in \u001b[0;36mread_clipboard\u001b[1;34m(**kwargs)\u001b[0m\n\u001b[0;32m     34\u001b[0m     \u001b[1;31m# all contain an equal number (>0) of tabs, infer\u001b[0m\u001b[1;33m\u001b[0m\u001b[1;33m\u001b[0m\u001b[0m\n\u001b[0;32m     35\u001b[0m     \u001b[1;31m# that this came from excel and set 'sep' accordingly\u001b[0m\u001b[1;33m\u001b[0m\u001b[1;33m\u001b[0m\u001b[0m\n\u001b[1;32m---> 36\u001b[1;33m     \u001b[0mlines\u001b[0m \u001b[1;33m=\u001b[0m \u001b[0mtext\u001b[0m\u001b[1;33m[\u001b[0m\u001b[1;33m:\u001b[0m\u001b[1;36m10000\u001b[0m\u001b[1;33m]\u001b[0m\u001b[1;33m.\u001b[0m\u001b[0msplit\u001b[0m\u001b[1;33m(\u001b[0m\u001b[1;34m'\\n'\u001b[0m\u001b[1;33m)\u001b[0m\u001b[1;33m[\u001b[0m\u001b[1;33m:\u001b[0m\u001b[1;33m-\u001b[0m\u001b[1;36m1\u001b[0m\u001b[1;33m]\u001b[0m\u001b[1;33m[\u001b[0m\u001b[1;33m:\u001b[0m\u001b[1;36m10\u001b[0m\u001b[1;33m]\u001b[0m\u001b[1;33m\u001b[0m\u001b[0m\n\u001b[0m\u001b[0;32m     37\u001b[0m \u001b[1;33m\u001b[0m\u001b[0m\n\u001b[0;32m     38\u001b[0m     \u001b[1;31m# Need to remove leading white space, since read_table\u001b[0m\u001b[1;33m\u001b[0m\u001b[1;33m\u001b[0m\u001b[0m\n",
        "\u001b[1;31mTypeError\u001b[0m: 'NoneType' object has no attribute '__getitem__'"
       ]
      }
     ],
     "prompt_number": 39
    },
    {
     "cell_type": "markdown",
     "metadata": {},
     "source": [
      "## Viewing Data\n",
      "\n",
      "Take a look at the **Eurostat** data:\n",
      "\n",
      "The 5 first rows:"
     ]
    },
    {
     "cell_type": "code",
     "collapsed": false,
     "input": [
      "edu.head()"
     ],
     "language": "python",
     "metadata": {},
     "outputs": []
    },
    {
     "cell_type": "markdown",
     "metadata": {},
     "source": [
      "The last 5 rows:"
     ]
    },
    {
     "cell_type": "code",
     "collapsed": false,
     "input": [
      "edu.tail()"
     ],
     "language": "python",
     "metadata": {},
     "outputs": []
    },
    {
     "cell_type": "markdown",
     "metadata": {},
     "source": [
      "Data in CSV and databases are often organized in what is called *stacked* or *record* formats. In this case for each year (`TIME`) and country (`GEO`) of the EU as well as some reference countries such as Japan and United States, we have twelve indicators (`INDIC_ED`) on education finance with their values (`Value`): "
     ]
    },
    {
     "cell_type": "code",
     "collapsed": false,
     "input": [
      "edu.columns  # This is not a function; it is an attribute of the data frame."
     ],
     "language": "python",
     "metadata": {},
     "outputs": []
    },
    {
     "cell_type": "markdown",
     "metadata": {},
     "source": [
      "The values of the indexes can be retrieved using:"
     ]
    },
    {
     "cell_type": "code",
     "collapsed": false,
     "input": [
      "edu.index"
     ],
     "language": "python",
     "metadata": {},
     "outputs": []
    },
    {
     "cell_type": "markdown",
     "metadata": {},
     "source": [
      "The values of the `DataFrame` can be retrieved as a numpy array using:"
     ]
    },
    {
     "cell_type": "code",
     "collapsed": false,
     "input": [
      "edu.values"
     ],
     "language": "python",
     "metadata": {},
     "outputs": []
    },
    {
     "cell_type": "markdown",
     "metadata": {},
     "source": [
      "To get quick stadistical information about the numeric columns in a data frame is with the function `describe()`. The result is itself a data frame."
     ]
    },
    {
     "cell_type": "code",
     "collapsed": false,
     "input": [
      "edu.describe()\n"
     ],
     "language": "python",
     "metadata": {},
     "outputs": []
    },
    {
     "cell_type": "markdown",
     "metadata": {},
     "source": [
      "## Sorting"
     ]
    },
    {
     "cell_type": "markdown",
     "metadata": {},
     "source": [
      "We can sort the `DataFrame` using any column. If we want to see the data sorted by Time, it can be done like this:"
     ]
    },
    {
     "cell_type": "code",
     "collapsed": false,
     "input": [
      "s = edu.sort(columns='Value', ascending= False)\n",
      "s.head(9)"
     ],
     "language": "python",
     "metadata": {},
     "outputs": []
    },
    {
     "cell_type": "markdown",
     "metadata": {},
     "source": [
      "We can sort by index again, using the `sort_index` function and specifying `axis=0`"
     ]
    },
    {
     "cell_type": "code",
     "collapsed": false,
     "input": [
      "s.sort_index(axis=0,ascending=True).head()"
     ],
     "language": "python",
     "metadata": {},
     "outputs": []
    },
    {
     "cell_type": "markdown",
     "metadata": {},
     "source": [
      "##Selection\n",
      "\n",
      "We can acces to each column by name:"
     ]
    },
    {
     "cell_type": "code",
     "collapsed": false,
     "input": [
      "edu['TIME']"
     ],
     "language": "python",
     "metadata": {},
     "outputs": []
    },
    {
     "cell_type": "markdown",
     "metadata": {},
     "source": [
      "We can acces to a *slice* of rows using []"
     ]
    },
    {
     "cell_type": "code",
     "collapsed": false,
     "input": [
      "edu[10:14]"
     ],
     "language": "python",
     "metadata": {},
     "outputs": []
    },
    {
     "cell_type": "markdown",
     "metadata": {},
     "source": [
      "If we want to select a subset of columns and rows we can use `ix` indexing"
     ]
    },
    {
     "cell_type": "code",
     "collapsed": false,
     "input": [
      "edu.ix[15:20,['TIME','GEO','Value']]"
     ],
     "language": "python",
     "metadata": {},
     "outputs": []
    },
    {
     "cell_type": "markdown",
     "metadata": {},
     "source": [
      "We can filter a `DataFrame` using boolean indexing."
     ]
    },
    {
     "cell_type": "code",
     "collapsed": false,
     "input": [
      "edu[edu.Value > 6.5].sort(columns='Value', ascending= False).head(10)"
     ],
     "language": "python",
     "metadata": {},
     "outputs": []
    },
    {
     "cell_type": "markdown",
     "metadata": {},
     "source": [
      "We can **set** new values to rows or columns by using `=`after a selection."
     ]
    },
    {
     "cell_type": "code",
     "collapsed": false,
     "input": [
      "edu['Flag and Footnotes']=0\n",
      "edu.head()"
     ],
     "language": "python",
     "metadata": {},
     "outputs": []
    },
    {
     "cell_type": "markdown",
     "metadata": {},
     "source": [
      "Adding a new column to a data frame can be done similarly to accessing a column."
     ]
    },
    {
     "cell_type": "code",
     "collapsed": false,
     "input": [
      "edu['ValueNorm'] = edu.Value/np.max(edu.Value) # or data['time']/60.\n",
      "edu.head()"
     ],
     "language": "python",
     "metadata": {},
     "outputs": []
    },
    {
     "cell_type": "markdown",
     "metadata": {},
     "source": [
      "NOTE: If instead of using Pandas/numpy `max` function, we would use python built-in `max` function:"
     ]
    },
    {
     "cell_type": "code",
     "collapsed": false,
     "input": [
      "max(edu.Value) ## don't use max min python built-in functions!!!!"
     ],
     "language": "python",
     "metadata": {},
     "outputs": []
    },
    {
     "cell_type": "markdown",
     "metadata": {},
     "source": [
      "By default, columns get inserted at the end. The <code>insert</code> function is available to insert at a particular location in the columns."
     ]
    },
    {
     "cell_type": "code",
     "collapsed": false,
     "input": [
      "edu.insert(4, 'ValueSub',  edu.Value - np.min(edu.Value))\n",
      "edu.head()"
     ],
     "language": "python",
     "metadata": {},
     "outputs": []
    },
    {
     "cell_type": "markdown",
     "metadata": {},
     "source": [
      "If we want to add a new row on the bottom of the table, we can do it by assigning the new row to the last index:"
     ]
    },
    {
     "cell_type": "code",
     "collapsed": false,
     "input": [
      "edu.ix[len(edu)] = [2000,'a','b',5.00,np.nan,0,np.nan]\n",
      "edu.tail()"
     ],
     "language": "python",
     "metadata": {},
     "outputs": []
    },
    {
     "cell_type": "markdown",
     "metadata": {},
     "source": [
      "## Missing Data"
     ]
    },
    {
     "cell_type": "markdown",
     "metadata": {},
     "source": [
      "Pandas uses the value `np.nan` to represent missing data. \n",
      "\n",
      "The pandas.isnull function can be used to tell whether or not a value is missing.\n",
      "We can use the `numpy` values for filtering rows with NaN values"
     ]
    },
    {
     "cell_type": "code",
     "collapsed": false,
     "input": [
      "edu[pd.isnull(edu).values]"
     ],
     "language": "python",
     "metadata": {},
     "outputs": []
    },
    {
     "cell_type": "markdown",
     "metadata": {},
     "source": [
      "We can either filling missing values with `fillna(value=<value>)` function or drop all rows using `dropna()` function"
     ]
    },
    {
     "cell_type": "code",
     "collapsed": false,
     "input": [
      "eduDrop = edu.dropna(how='any') #returns a copy of the data!!!\n",
      "eduDrop.head()"
     ],
     "language": "python",
     "metadata": {},
     "outputs": []
    },
    {
     "cell_type": "code",
     "collapsed": false,
     "input": [
      "edu.head()"
     ],
     "language": "python",
     "metadata": {},
     "outputs": []
    },
    {
     "cell_type": "markdown",
     "metadata": {},
     "source": [
      "It is equivalent to use `drop` function over the indexes of rows with `NaN` values"
     ]
    },
    {
     "cell_type": "code",
     "collapsed": false,
     "input": [
      "edu = edu.drop(edu[pd.isnull(edu).values].index) ### Overwritting data!!!!\n",
      "edu.head()\n"
     ],
     "language": "python",
     "metadata": {},
     "outputs": []
    },
    {
     "cell_type": "markdown",
     "metadata": {},
     "source": [
      "##Operations\n",
      "###Statistical Operations:\n",
      "Operations in general exclude missing data.\n",
      " "
     ]
    },
    {
     "cell_type": "code",
     "collapsed": false,
     "input": [
      "edu.mean()"
     ],
     "language": "python",
     "metadata": {},
     "outputs": []
    },
    {
     "cell_type": "code",
     "collapsed": false,
     "input": [
      "print edu.Value.count()    # number of non-NaN values\n",
      "print edu['Value'].mean()     # mean value \n",
      "print edu.Value.sum()   # sum of values"
     ],
     "language": "python",
     "metadata": {},
     "outputs": [
      {
       "output_type": "stream",
       "stream": "stdout",
       "text": [
        "361\n",
        "5.20398891967\n",
        "1878.64\n"
       ]
      }
     ],
     "prompt_number": 159
    },
    {
     "cell_type": "code",
     "collapsed": false,
     "input": [
      "print edu.Value.argmin()   # index location at which min is obtained\n",
      "print edu.Value.min()      # min value\n",
      "edu.ix[edu.Value.argmin(),['TIME','GEO']].values"
     ],
     "language": "python",
     "metadata": {},
     "outputs": [
      {
       "output_type": "stream",
       "stream": "stdout",
       "text": [
        "336\n",
        "2.88\n"
       ]
      },
      {
       "metadata": {},
       "output_type": "pyout",
       "prompt_number": 160,
       "text": [
        "array([2000, 'Romania'], dtype=object)"
       ]
      }
     ],
     "prompt_number": 160
    },
    {
     "cell_type": "code",
     "collapsed": false,
     "input": [
      "print edu.Value.argmax()   # index location at which min is obtained\n",
      "print edu.Value.max()      # min value\n",
      "edu.ix[edu.Value.argmax(),['TIME','GEO']].values"
     ],
     "language": "python",
     "metadata": {},
     "outputs": [
      {
       "output_type": "stream",
       "stream": "stdout",
       "text": [
        "130\n",
        "8.81\n"
       ]
      },
      {
       "metadata": {},
       "output_type": "pyout",
       "prompt_number": 161,
       "text": [
        "array([2010, 'Denmark'], dtype=object)"
       ]
      }
     ],
     "prompt_number": 161
    },
    {
     "cell_type": "code",
     "collapsed": false,
     "input": [
      "minim=edu.Value.min()\n",
      "edu.Value=edu.Value.sub(minim) #Substraction and Overwritting data!!!!\n",
      "edu.head()"
     ],
     "language": "python",
     "metadata": {},
     "outputs": []
    },
    {
     "cell_type": "markdown",
     "metadata": {},
     "source": [
      "\n",
      "When you encounter a function that isn\u2019t supported by data frames, you can use \u2018numpy\u2019 functions or the special <code>apply</code> function built-into data frames.\n",
      "\n",
      "Using the ``apply()``method, which takes an anonymous function, we can apply any function to each value in a column."
     ]
    },
    {
     "cell_type": "code",
     "collapsed": false,
     "input": [
      "edu.Value=edu.Value.apply(lambda d: d**2)\n",
      "edu.head()"
     ],
     "language": "python",
     "metadata": {},
     "outputs": []
    },
    {
     "cell_type": "code",
     "collapsed": false,
     "input": [
      "edu.Value=edu.Value.apply(np.sqrt)\n",
      "edu.head()"
     ],
     "language": "python",
     "metadata": {},
     "outputs": []
    },
    {
     "cell_type": "markdown",
     "metadata": {},
     "source": []
    },
    {
     "cell_type": "code",
     "collapsed": false,
     "input": [],
     "language": "python",
     "metadata": {},
     "outputs": []
    },
    {
     "cell_type": "markdown",
     "metadata": {},
     "source": [
      "## Reshaping and Pivoting\n"
     ]
    },
    {
     "cell_type": "markdown",
     "metadata": {},
     "source": [
      "Let us reshape the table into a feature vector style data set. To the process of reshaping stacked data into a table is sometimes called **pivoting**."
     ]
    },
    {
     "cell_type": "code",
     "collapsed": false,
     "input": [
      "#Pivot table in order to get a nice feature vector representation with dual indexing by TIME and GEO \n",
      "edu=pd.read_csv('data_files/educ_figdp/educ_figdp_1_Data.csv',na_values=':')\n",
      "edu.INDIC_ED.value_counts()"
     ],
     "language": "python",
     "metadata": {},
     "outputs": [
      {
       "metadata": {},
       "output_type": "pyout",
       "prompt_number": 41,
       "text": [
        "Total public expenditure on education as % of GDP, for all levels of education combined    384\n",
        "dtype: int64"
       ]
      }
     ],
     "prompt_number": 41
    },
    {
     "cell_type": "code",
     "collapsed": false,
     "input": [
      "pivedu=pd.pivot_table(edu, values='Value', index=['TIME', 'GEO'],columns = ['INDIC_ED'])\n",
      "pivedu.head()"
     ],
     "language": "python",
     "metadata": {},
     "outputs": [
      {
       "html": [
        "<div style=\"max-height:1000px;max-width:1500px;overflow:auto;\">\n",
        "<table border=\"1\" class=\"dataframe\">\n",
        "  <thead>\n",
        "    <tr style=\"text-align: right;\">\n",
        "      <th></th>\n",
        "      <th>INDIC_ED</th>\n",
        "      <th>Total public expenditure on education as % of GDP, for all levels of education combined</th>\n",
        "    </tr>\n",
        "    <tr>\n",
        "      <th>TIME</th>\n",
        "      <th>GEO</th>\n",
        "      <th></th>\n",
        "    </tr>\n",
        "  </thead>\n",
        "  <tbody>\n",
        "    <tr>\n",
        "      <th rowspan=\"5\" valign=\"top\">2000</th>\n",
        "      <th>Austria</th>\n",
        "      <td> 5.66</td>\n",
        "    </tr>\n",
        "    <tr>\n",
        "      <th>Belgium</th>\n",
        "      <td>  NaN</td>\n",
        "    </tr>\n",
        "    <tr>\n",
        "      <th>Bulgaria</th>\n",
        "      <td> 3.88</td>\n",
        "    </tr>\n",
        "    <tr>\n",
        "      <th>Cyprus</th>\n",
        "      <td> 5.42</td>\n",
        "    </tr>\n",
        "    <tr>\n",
        "      <th>Czech Republic</th>\n",
        "      <td> 3.83</td>\n",
        "    </tr>\n",
        "  </tbody>\n",
        "</table>\n",
        "</div>"
       ],
       "metadata": {},
       "output_type": "pyout",
       "prompt_number": 42,
       "text": [
        "INDIC_ED             Total public expenditure on education as % of GDP, for all levels of education combined\n",
        "TIME GEO                                                                                                    \n",
        "2000 Austria                                                      5.66                                      \n",
        "     Belgium                                                       NaN                                      \n",
        "     Bulgaria                                                     3.88                                      \n",
        "     Cyprus                                                       5.42                                      \n",
        "     Czech Republic                                               3.83                                      "
       ]
      }
     ],
     "prompt_number": 42
    },
    {
     "cell_type": "code",
     "collapsed": false,
     "input": [
      "pivedu.ix[2010:2011,:]"
     ],
     "language": "python",
     "metadata": {},
     "outputs": [
      {
       "html": [
        "<div style=\"max-height:1000px;max-width:1500px;overflow:auto;\">\n",
        "<table border=\"1\" class=\"dataframe\">\n",
        "  <thead>\n",
        "    <tr style=\"text-align: right;\">\n",
        "      <th></th>\n",
        "      <th>INDIC_ED</th>\n",
        "      <th>Total public expenditure on education as % of GDP, for all levels of education combined</th>\n",
        "    </tr>\n",
        "    <tr>\n",
        "      <th>TIME</th>\n",
        "      <th>GEO</th>\n",
        "      <th></th>\n",
        "    </tr>\n",
        "  </thead>\n",
        "  <tbody>\n",
        "    <tr>\n",
        "      <th rowspan=\"30\" valign=\"top\">2010</th>\n",
        "      <th>Austria</th>\n",
        "      <td> 5.91</td>\n",
        "    </tr>\n",
        "    <tr>\n",
        "      <th>Belgium</th>\n",
        "      <td> 6.58</td>\n",
        "    </tr>\n",
        "    <tr>\n",
        "      <th>Bulgaria</th>\n",
        "      <td> 4.10</td>\n",
        "    </tr>\n",
        "    <tr>\n",
        "      <th>Cyprus</th>\n",
        "      <td> 7.92</td>\n",
        "    </tr>\n",
        "    <tr>\n",
        "      <th>Czech Republic</th>\n",
        "      <td> 4.25</td>\n",
        "    </tr>\n",
        "    <tr>\n",
        "      <th>Denmark</th>\n",
        "      <td> 8.81</td>\n",
        "    </tr>\n",
        "    <tr>\n",
        "      <th>Estonia</th>\n",
        "      <td> 5.66</td>\n",
        "    </tr>\n",
        "    <tr>\n",
        "      <th>Euro area (13 countries)</th>\n",
        "      <td> 5.28</td>\n",
        "    </tr>\n",
        "    <tr>\n",
        "      <th>Euro area (15 countries)</th>\n",
        "      <td> 5.29</td>\n",
        "    </tr>\n",
        "    <tr>\n",
        "      <th>Euro area (17 countries)</th>\n",
        "      <td> 5.28</td>\n",
        "    </tr>\n",
        "    <tr>\n",
        "      <th>Euro area (18 countries)</th>\n",
        "      <td> 5.28</td>\n",
        "    </tr>\n",
        "    <tr>\n",
        "      <th>European Union (25 countries)</th>\n",
        "      <td> 5.46</td>\n",
        "    </tr>\n",
        "    <tr>\n",
        "      <th>European Union (27 countries)</th>\n",
        "      <td> 5.41</td>\n",
        "    </tr>\n",
        "    <tr>\n",
        "      <th>European Union (28 countries)</th>\n",
        "      <td> 5.41</td>\n",
        "    </tr>\n",
        "    <tr>\n",
        "      <th>Finland</th>\n",
        "      <td> 6.85</td>\n",
        "    </tr>\n",
        "    <tr>\n",
        "      <th>France</th>\n",
        "      <td> 5.86</td>\n",
        "    </tr>\n",
        "    <tr>\n",
        "      <th>Germany (until 1990 former territory of the FRG)</th>\n",
        "      <td> 5.08</td>\n",
        "    </tr>\n",
        "    <tr>\n",
        "      <th>Greece</th>\n",
        "      <td>  NaN</td>\n",
        "    </tr>\n",
        "    <tr>\n",
        "      <th>Hungary</th>\n",
        "      <td> 4.90</td>\n",
        "    </tr>\n",
        "    <tr>\n",
        "      <th>Ireland</th>\n",
        "      <td> 6.41</td>\n",
        "    </tr>\n",
        "    <tr>\n",
        "      <th>Italy</th>\n",
        "      <td> 4.50</td>\n",
        "    </tr>\n",
        "    <tr>\n",
        "      <th>Latvia</th>\n",
        "      <td> 4.96</td>\n",
        "    </tr>\n",
        "    <tr>\n",
        "      <th>Lithuania</th>\n",
        "      <td> 5.36</td>\n",
        "    </tr>\n",
        "    <tr>\n",
        "      <th>Luxembourg</th>\n",
        "      <td>  NaN</td>\n",
        "    </tr>\n",
        "    <tr>\n",
        "      <th>Malta</th>\n",
        "      <td> 6.74</td>\n",
        "    </tr>\n",
        "    <tr>\n",
        "      <th>Netherlands</th>\n",
        "      <td> 5.98</td>\n",
        "    </tr>\n",
        "    <tr>\n",
        "      <th>Poland</th>\n",
        "      <td> 5.17</td>\n",
        "    </tr>\n",
        "    <tr>\n",
        "      <th>Portugal</th>\n",
        "      <td> 5.62</td>\n",
        "    </tr>\n",
        "    <tr>\n",
        "      <th>Romania</th>\n",
        "      <td> 3.53</td>\n",
        "    </tr>\n",
        "    <tr>\n",
        "      <th>Slovakia</th>\n",
        "      <td> 4.22</td>\n",
        "    </tr>\n",
        "    <tr>\n",
        "      <th>...</th>\n",
        "      <th>...</th>\n",
        "      <td>...</td>\n",
        "    </tr>\n",
        "    <tr>\n",
        "      <th rowspan=\"30\" valign=\"top\">2011</th>\n",
        "      <th>Bulgaria</th>\n",
        "      <td> 3.82</td>\n",
        "    </tr>\n",
        "    <tr>\n",
        "      <th>Cyprus</th>\n",
        "      <td> 7.87</td>\n",
        "    </tr>\n",
        "    <tr>\n",
        "      <th>Czech Republic</th>\n",
        "      <td> 4.51</td>\n",
        "    </tr>\n",
        "    <tr>\n",
        "      <th>Denmark</th>\n",
        "      <td> 8.75</td>\n",
        "    </tr>\n",
        "    <tr>\n",
        "      <th>Estonia</th>\n",
        "      <td> 5.16</td>\n",
        "    </tr>\n",
        "    <tr>\n",
        "      <th>Euro area (13 countries)</th>\n",
        "      <td> 5.15</td>\n",
        "    </tr>\n",
        "    <tr>\n",
        "      <th>Euro area (15 countries)</th>\n",
        "      <td> 5.16</td>\n",
        "    </tr>\n",
        "    <tr>\n",
        "      <th>Euro area (17 countries)</th>\n",
        "      <td> 5.15</td>\n",
        "    </tr>\n",
        "    <tr>\n",
        "      <th>Euro area (18 countries)</th>\n",
        "      <td> 5.15</td>\n",
        "    </tr>\n",
        "    <tr>\n",
        "      <th>European Union (25 countries)</th>\n",
        "      <td> 5.31</td>\n",
        "    </tr>\n",
        "    <tr>\n",
        "      <th>European Union (27 countries)</th>\n",
        "      <td> 5.25</td>\n",
        "    </tr>\n",
        "    <tr>\n",
        "      <th>European Union (28 countries)</th>\n",
        "      <td> 5.25</td>\n",
        "    </tr>\n",
        "    <tr>\n",
        "      <th>Finland</th>\n",
        "      <td> 6.76</td>\n",
        "    </tr>\n",
        "    <tr>\n",
        "      <th>France</th>\n",
        "      <td> 5.68</td>\n",
        "    </tr>\n",
        "    <tr>\n",
        "      <th>Germany (until 1990 former territory of the FRG)</th>\n",
        "      <td> 4.98</td>\n",
        "    </tr>\n",
        "    <tr>\n",
        "      <th>Greece</th>\n",
        "      <td>  NaN</td>\n",
        "    </tr>\n",
        "    <tr>\n",
        "      <th>Hungary</th>\n",
        "      <td> 4.71</td>\n",
        "    </tr>\n",
        "    <tr>\n",
        "      <th>Ireland</th>\n",
        "      <td> 6.15</td>\n",
        "    </tr>\n",
        "    <tr>\n",
        "      <th>Italy</th>\n",
        "      <td> 4.29</td>\n",
        "    </tr>\n",
        "    <tr>\n",
        "      <th>Latvia</th>\n",
        "      <td> 4.96</td>\n",
        "    </tr>\n",
        "    <tr>\n",
        "      <th>Lithuania</th>\n",
        "      <td> 5.17</td>\n",
        "    </tr>\n",
        "    <tr>\n",
        "      <th>Luxembourg</th>\n",
        "      <td>  NaN</td>\n",
        "    </tr>\n",
        "    <tr>\n",
        "      <th>Malta</th>\n",
        "      <td> 7.96</td>\n",
        "    </tr>\n",
        "    <tr>\n",
        "      <th>Netherlands</th>\n",
        "      <td> 5.93</td>\n",
        "    </tr>\n",
        "    <tr>\n",
        "      <th>Poland</th>\n",
        "      <td> 4.94</td>\n",
        "    </tr>\n",
        "    <tr>\n",
        "      <th>Portugal</th>\n",
        "      <td> 5.27</td>\n",
        "    </tr>\n",
        "    <tr>\n",
        "      <th>Romania</th>\n",
        "      <td> 3.07</td>\n",
        "    </tr>\n",
        "    <tr>\n",
        "      <th>Slovakia</th>\n",
        "      <td> 4.06</td>\n",
        "    </tr>\n",
        "    <tr>\n",
        "      <th>Slovenia</th>\n",
        "      <td> 5.68</td>\n",
        "    </tr>\n",
        "    <tr>\n",
        "      <th>Spain</th>\n",
        "      <td> 4.82</td>\n",
        "    </tr>\n",
        "  </tbody>\n",
        "</table>\n",
        "<p>64 rows \u00d7 1 columns</p>\n",
        "</div>"
       ],
       "metadata": {},
       "output_type": "pyout",
       "prompt_number": 45,
       "text": [
        "INDIC_ED                                               Total public expenditure on education as % of GDP, for all levels of education combined\n",
        "TIME GEO                                                                                                                                      \n",
        "2010 Austria                                                                                        5.91                                      \n",
        "     Belgium                                                                                        6.58                                      \n",
        "     Bulgaria                                                                                       4.10                                      \n",
        "     Cyprus                                                                                         7.92                                      \n",
        "     Czech Republic                                                                                 4.25                                      \n",
        "     Denmark                                                                                        8.81                                      \n",
        "     Estonia                                                                                        5.66                                      \n",
        "     Euro area (13 countries)                                                                       5.28                                      \n",
        "     Euro area (15 countries)                                                                       5.29                                      \n",
        "     Euro area (17 countries)                                                                       5.28                                      \n",
        "     Euro area (18 countries)                                                                       5.28                                      \n",
        "     European Union (25 countries)                                                                  5.46                                      \n",
        "     European Union (27 countries)                                                                  5.41                                      \n",
        "     European Union (28 countries)                                                                  5.41                                      \n",
        "     Finland                                                                                        6.85                                      \n",
        "     France                                                                                         5.86                                      \n",
        "     Germany (until 1990 former territory of the FRG)                                               5.08                                      \n",
        "     Greece                                                                                          NaN                                      \n",
        "     Hungary                                                                                        4.90                                      \n",
        "     Ireland                                                                                        6.41                                      \n",
        "     Italy                                                                                          4.50                                      \n",
        "     Latvia                                                                                         4.96                                      \n",
        "     Lithuania                                                                                      5.36                                      \n",
        "     Luxembourg                                                                                      NaN                                      \n",
        "     Malta                                                                                          6.74                                      \n",
        "     Netherlands                                                                                    5.98                                      \n",
        "     Poland                                                                                         5.17                                      \n",
        "     Portugal                                                                                       5.62                                      \n",
        "     Romania                                                                                        3.53                                      \n",
        "     Slovakia                                                                                       4.22                                      \n",
        "...                                                                                                  ...                                      \n",
        "2011 Bulgaria                                                                                       3.82                                      \n",
        "     Cyprus                                                                                         7.87                                      \n",
        "     Czech Republic                                                                                 4.51                                      \n",
        "     Denmark                                                                                        8.75                                      \n",
        "     Estonia                                                                                        5.16                                      \n",
        "     Euro area (13 countries)                                                                       5.15                                      \n",
        "     Euro area (15 countries)                                                                       5.16                                      \n",
        "     Euro area (17 countries)                                                                       5.15                                      \n",
        "     Euro area (18 countries)                                                                       5.15                                      \n",
        "     European Union (25 countries)                                                                  5.31                                      \n",
        "     European Union (27 countries)                                                                  5.25                                      \n",
        "     European Union (28 countries)                                                                  5.25                                      \n",
        "     Finland                                                                                        6.76                                      \n",
        "     France                                                                                         5.68                                      \n",
        "     Germany (until 1990 former territory of the FRG)                                               4.98                                      \n",
        "     Greece                                                                                          NaN                                      \n",
        "     Hungary                                                                                        4.71                                      \n",
        "     Ireland                                                                                        6.15                                      \n",
        "     Italy                                                                                          4.29                                      \n",
        "     Latvia                                                                                         4.96                                      \n",
        "     Lithuania                                                                                      5.17                                      \n",
        "     Luxembourg                                                                                      NaN                                      \n",
        "     Malta                                                                                          7.96                                      \n",
        "     Netherlands                                                                                    5.93                                      \n",
        "     Poland                                                                                         4.94                                      \n",
        "     Portugal                                                                                       5.27                                      \n",
        "     Romania                                                                                        3.07                                      \n",
        "     Slovakia                                                                                       4.06                                      \n",
        "     Slovenia                                                                                       5.68                                      \n",
        "     Spain                                                                                          4.82                                      \n",
        "\n",
        "[64 rows x 1 columns]"
       ]
      }
     ],
     "prompt_number": 45
    },
    {
     "cell_type": "code",
     "collapsed": false,
     "input": [
      "pivedu.ix[[(2010,'Spain'),(2010,'Romania'),(2010, 'Denmark'),(2011,'Spain'),(2011,'Romania'),(2011, 'Denmark')]]"
     ],
     "language": "python",
     "metadata": {},
     "outputs": [
      {
       "html": [
        "<div style=\"max-height:1000px;max-width:1500px;overflow:auto;\">\n",
        "<table border=\"1\" class=\"dataframe\">\n",
        "  <thead>\n",
        "    <tr style=\"text-align: right;\">\n",
        "      <th></th>\n",
        "      <th>INDIC_ED</th>\n",
        "      <th>Total public expenditure on education as % of GDP, for all levels of education combined</th>\n",
        "    </tr>\n",
        "    <tr>\n",
        "      <th>TIME</th>\n",
        "      <th>GEO</th>\n",
        "      <th></th>\n",
        "    </tr>\n",
        "  </thead>\n",
        "  <tbody>\n",
        "    <tr>\n",
        "      <th rowspan=\"3\" valign=\"top\">2010</th>\n",
        "      <th>Spain</th>\n",
        "      <td> 4.98</td>\n",
        "    </tr>\n",
        "    <tr>\n",
        "      <th>Romania</th>\n",
        "      <td> 3.53</td>\n",
        "    </tr>\n",
        "    <tr>\n",
        "      <th>Denmark</th>\n",
        "      <td> 8.81</td>\n",
        "    </tr>\n",
        "    <tr>\n",
        "      <th rowspan=\"3\" valign=\"top\">2011</th>\n",
        "      <th>Spain</th>\n",
        "      <td> 4.82</td>\n",
        "    </tr>\n",
        "    <tr>\n",
        "      <th>Romania</th>\n",
        "      <td> 3.07</td>\n",
        "    </tr>\n",
        "    <tr>\n",
        "      <th>Denmark</th>\n",
        "      <td> 8.75</td>\n",
        "    </tr>\n",
        "  </tbody>\n",
        "</table>\n",
        "</div>"
       ],
       "metadata": {},
       "output_type": "pyout",
       "prompt_number": 48,
       "text": [
        "INDIC_ED      Total public expenditure on education as % of GDP, for all levels of education combined\n",
        "TIME GEO                                                                                             \n",
        "2010 Spain                                                 4.98                                      \n",
        "     Romania                                               3.53                                      \n",
        "     Denmark                                               8.81                                      \n",
        "2011 Spain                                                 4.82                                      \n",
        "     Romania                                               3.07                                      \n",
        "     Denmark                                               8.75                                      "
       ]
      }
     ],
     "prompt_number": 48
    },
    {
     "cell_type": "markdown",
     "metadata": {},
     "source": [
      "##Ranking Countries"
     ]
    },
    {
     "cell_type": "markdown",
     "metadata": {},
     "source": [
      "We want to rank \"Total public expenditure on education as % of GDP, for all levels of education combined\" for all the coutries by year.\n",
      "\n",
      "First we clean the data. Removing all non-countries and Countries without values (NaN):"
     ]
    },
    {
     "cell_type": "code",
     "collapsed": false,
     "input": [
      "eduCtry=edu.drop(edu[edu.ix[:,'GEO'].isin(['Euro area (13 countries)','Euro area (15 countries)',\n",
      "                      'Euro area (17 countries)','Euro area (18 countries)',\n",
      "                      'European Union (25 countries)','European Union (27 countries)',\n",
      "                      'European Union (28 countries)'])].index)\n",
      "eduCtry = eduCtry.dropna(subset = ['Value'])"
     ],
     "language": "python",
     "metadata": {},
     "outputs": [],
     "prompt_number": 49
    },
    {
     "cell_type": "code",
     "collapsed": false,
     "input": [
      "piveduCtry=pd.pivot_table(eduCtry, values='Value', index=['GEO'],columns = ['INDIC_ED','TIME'])\n",
      "piveduCtry= piveduCtry.rename(index={'Germany (until 1990 former territory of the FRG)': 'Germany'})\n",
      "piveduCtry.rank(ascending=False,method='dense')"
     ],
     "language": "python",
     "metadata": {},
     "outputs": [
      {
       "html": [
        "<div style=\"max-height:1000px;max-width:1500px;overflow:auto;\">\n",
        "<table border=\"1\" class=\"dataframe\">\n",
        "  <thead>\n",
        "    <tr>\n",
        "      <th>INDIC_ED</th>\n",
        "      <th colspan=\"12\" halign=\"left\">Total public expenditure on education as % of GDP, for all levels of education combined</th>\n",
        "    </tr>\n",
        "    <tr>\n",
        "      <th>TIME</th>\n",
        "      <th>2000</th>\n",
        "      <th>2001</th>\n",
        "      <th>2002</th>\n",
        "      <th>2003</th>\n",
        "      <th>2004</th>\n",
        "      <th>2005</th>\n",
        "      <th>2006</th>\n",
        "      <th>2007</th>\n",
        "      <th>2008</th>\n",
        "      <th>2009</th>\n",
        "      <th>2010</th>\n",
        "      <th>2011</th>\n",
        "    </tr>\n",
        "    <tr>\n",
        "      <th>GEO</th>\n",
        "      <th></th>\n",
        "      <th></th>\n",
        "      <th></th>\n",
        "      <th></th>\n",
        "      <th></th>\n",
        "      <th></th>\n",
        "      <th></th>\n",
        "      <th></th>\n",
        "      <th></th>\n",
        "      <th></th>\n",
        "      <th></th>\n",
        "      <th></th>\n",
        "    </tr>\n",
        "  </thead>\n",
        "  <tbody>\n",
        "    <tr>\n",
        "      <th>Austria</th>\n",
        "      <td>  4</td>\n",
        "      <td>  8</td>\n",
        "      <td>  8</td>\n",
        "      <td>  9</td>\n",
        "      <td>  8</td>\n",
        "      <td> 11</td>\n",
        "      <td> 10</td>\n",
        "      <td>  7</td>\n",
        "      <td> 11</td>\n",
        "      <td>  7</td>\n",
        "      <td>  8</td>\n",
        "      <td>  8</td>\n",
        "    </tr>\n",
        "    <tr>\n",
        "      <th>Belgium</th>\n",
        "      <td>NaN</td>\n",
        "      <td>  4</td>\n",
        "      <td>  4</td>\n",
        "      <td>  4</td>\n",
        "      <td>  4</td>\n",
        "      <td>  5</td>\n",
        "      <td>  5</td>\n",
        "      <td>  4</td>\n",
        "      <td>  3</td>\n",
        "      <td>  4</td>\n",
        "      <td>  5</td>\n",
        "      <td>  5</td>\n",
        "    </tr>\n",
        "    <tr>\n",
        "      <th>Bulgaria</th>\n",
        "      <td> 17</td>\n",
        "      <td> 21</td>\n",
        "      <td> 21</td>\n",
        "      <td> 22</td>\n",
        "      <td> 18</td>\n",
        "      <td> 18</td>\n",
        "      <td> 21</td>\n",
        "      <td> 22</td>\n",
        "      <td> 20</td>\n",
        "      <td> 20</td>\n",
        "      <td> 22</td>\n",
        "      <td> 21</td>\n",
        "    </tr>\n",
        "    <tr>\n",
        "      <th>Cyprus</th>\n",
        "      <td>  8</td>\n",
        "      <td>  5</td>\n",
        "      <td>  2</td>\n",
        "      <td>  2</td>\n",
        "      <td>  2</td>\n",
        "      <td>  2</td>\n",
        "      <td>  2</td>\n",
        "      <td>  2</td>\n",
        "      <td>  2</td>\n",
        "      <td>  2</td>\n",
        "      <td>  2</td>\n",
        "      <td>  3</td>\n",
        "    </tr>\n",
        "    <tr>\n",
        "      <th>Czech Republic</th>\n",
        "      <td> 18</td>\n",
        "      <td> 19</td>\n",
        "      <td> 20</td>\n",
        "      <td> 19</td>\n",
        "      <td> 20</td>\n",
        "      <td> 21</td>\n",
        "      <td> 19</td>\n",
        "      <td> 21</td>\n",
        "      <td> 21</td>\n",
        "      <td> 21</td>\n",
        "      <td> 20</td>\n",
        "      <td> 18</td>\n",
        "    </tr>\n",
        "    <tr>\n",
        "      <th>Denmark</th>\n",
        "      <td>  1</td>\n",
        "      <td>  1</td>\n",
        "      <td>  1</td>\n",
        "      <td>  1</td>\n",
        "      <td>  1</td>\n",
        "      <td>  1</td>\n",
        "      <td>  1</td>\n",
        "      <td>  1</td>\n",
        "      <td>  1</td>\n",
        "      <td>  1</td>\n",
        "      <td>  1</td>\n",
        "      <td>  1</td>\n",
        "    </tr>\n",
        "    <tr>\n",
        "      <th>Estonia</th>\n",
        "      <td>  7</td>\n",
        "      <td> 11</td>\n",
        "      <td>  9</td>\n",
        "      <td> 13</td>\n",
        "      <td> 14</td>\n",
        "      <td> 14</td>\n",
        "      <td> 16</td>\n",
        "      <td> 15</td>\n",
        "      <td>  9</td>\n",
        "      <td>  6</td>\n",
        "      <td> 11</td>\n",
        "      <td> 12</td>\n",
        "    </tr>\n",
        "    <tr>\n",
        "      <th>Finland</th>\n",
        "      <td>  3</td>\n",
        "      <td>  3</td>\n",
        "      <td>  3</td>\n",
        "      <td>  3</td>\n",
        "      <td>  3</td>\n",
        "      <td>  4</td>\n",
        "      <td>  4</td>\n",
        "      <td>  5</td>\n",
        "      <td>  4</td>\n",
        "      <td>  3</td>\n",
        "      <td>  3</td>\n",
        "      <td>  4</td>\n",
        "    </tr>\n",
        "    <tr>\n",
        "      <th>France</th>\n",
        "      <td>  2</td>\n",
        "      <td>  6</td>\n",
        "      <td>  5</td>\n",
        "      <td>  5</td>\n",
        "      <td>  5</td>\n",
        "      <td>  7</td>\n",
        "      <td>  7</td>\n",
        "      <td>  6</td>\n",
        "      <td>  8</td>\n",
        "      <td>  9</td>\n",
        "      <td>  9</td>\n",
        "      <td>  9</td>\n",
        "    </tr>\n",
        "    <tr>\n",
        "      <th>Germany</th>\n",
        "      <td> 13</td>\n",
        "      <td> 15</td>\n",
        "      <td> 14</td>\n",
        "      <td> 15</td>\n",
        "      <td> 16</td>\n",
        "      <td> 16</td>\n",
        "      <td> 18</td>\n",
        "      <td> 17</td>\n",
        "      <td> 18</td>\n",
        "      <td> 17</td>\n",
        "      <td> 15</td>\n",
        "      <td> 13</td>\n",
        "    </tr>\n",
        "    <tr>\n",
        "      <th>Greece</th>\n",
        "      <td> 19</td>\n",
        "      <td> 22</td>\n",
        "      <td> 23</td>\n",
        "      <td> 24</td>\n",
        "      <td> 23</td>\n",
        "      <td> 20</td>\n",
        "      <td>NaN</td>\n",
        "      <td>NaN</td>\n",
        "      <td>NaN</td>\n",
        "      <td>NaN</td>\n",
        "      <td>NaN</td>\n",
        "      <td>NaN</td>\n",
        "    </tr>\n",
        "    <tr>\n",
        "      <th>Hungary</th>\n",
        "      <td> 12</td>\n",
        "      <td> 13</td>\n",
        "      <td> 11</td>\n",
        "      <td>  6</td>\n",
        "      <td>  9</td>\n",
        "      <td> 10</td>\n",
        "      <td>  9</td>\n",
        "      <td>  9</td>\n",
        "      <td> 13</td>\n",
        "      <td> 15</td>\n",
        "      <td> 18</td>\n",
        "      <td> 17</td>\n",
        "    </tr>\n",
        "    <tr>\n",
        "      <th>Ireland</th>\n",
        "      <td> 14</td>\n",
        "      <td> 17</td>\n",
        "      <td> 17</td>\n",
        "      <td> 18</td>\n",
        "      <td> 15</td>\n",
        "      <td> 15</td>\n",
        "      <td> 15</td>\n",
        "      <td> 13</td>\n",
        "      <td>  7</td>\n",
        "      <td>  5</td>\n",
        "      <td>  6</td>\n",
        "      <td>  6</td>\n",
        "    </tr>\n",
        "    <tr>\n",
        "      <th>Italy</th>\n",
        "      <td> 11</td>\n",
        "      <td> 14</td>\n",
        "      <td> 15</td>\n",
        "      <td> 16</td>\n",
        "      <td> 17</td>\n",
        "      <td> 17</td>\n",
        "      <td> 17</td>\n",
        "      <td> 19</td>\n",
        "      <td> 19</td>\n",
        "      <td> 19</td>\n",
        "      <td> 19</td>\n",
        "      <td> 19</td>\n",
        "    </tr>\n",
        "    <tr>\n",
        "      <th>Latvia</th>\n",
        "      <td>  5</td>\n",
        "      <td>  2</td>\n",
        "      <td>  2</td>\n",
        "      <td>  8</td>\n",
        "      <td> 12</td>\n",
        "      <td> 13</td>\n",
        "      <td> 12</td>\n",
        "      <td> 12</td>\n",
        "      <td>  6</td>\n",
        "      <td> 13</td>\n",
        "      <td> 17</td>\n",
        "      <td> 14</td>\n",
        "    </tr>\n",
        "    <tr>\n",
        "      <th>Lithuania</th>\n",
        "      <td>  6</td>\n",
        "      <td>  7</td>\n",
        "      <td>  6</td>\n",
        "      <td> 14</td>\n",
        "      <td> 11</td>\n",
        "      <td> 14</td>\n",
        "      <td> 14</td>\n",
        "      <td> 16</td>\n",
        "      <td> 16</td>\n",
        "      <td> 12</td>\n",
        "      <td> 13</td>\n",
        "      <td> 11</td>\n",
        "    </tr>\n",
        "    <tr>\n",
        "      <th>Luxembourg</th>\n",
        "      <td>NaN</td>\n",
        "      <td> 20</td>\n",
        "      <td> 22</td>\n",
        "      <td> 23</td>\n",
        "      <td> 22</td>\n",
        "      <td> 23</td>\n",
        "      <td> 23</td>\n",
        "      <td> 24</td>\n",
        "      <td>NaN</td>\n",
        "      <td>NaN</td>\n",
        "      <td>NaN</td>\n",
        "      <td>NaN</td>\n",
        "    </tr>\n",
        "    <tr>\n",
        "      <th>Malta</th>\n",
        "      <td> 11</td>\n",
        "      <td> 16</td>\n",
        "      <td> 19</td>\n",
        "      <td> 17</td>\n",
        "      <td> 15</td>\n",
        "      <td>  3</td>\n",
        "      <td>  3</td>\n",
        "      <td>  3</td>\n",
        "      <td>  5</td>\n",
        "      <td> 14</td>\n",
        "      <td>  4</td>\n",
        "      <td>  2</td>\n",
        "    </tr>\n",
        "    <tr>\n",
        "      <th>Netherlands</th>\n",
        "      <td>  9</td>\n",
        "      <td> 12</td>\n",
        "      <td> 13</td>\n",
        "      <td> 10</td>\n",
        "      <td>  7</td>\n",
        "      <td>  8</td>\n",
        "      <td>  8</td>\n",
        "      <td>  8</td>\n",
        "      <td> 10</td>\n",
        "      <td>  8</td>\n",
        "      <td>  7</td>\n",
        "      <td>  7</td>\n",
        "    </tr>\n",
        "    <tr>\n",
        "      <th>Poland</th>\n",
        "      <td> 10</td>\n",
        "      <td>  9</td>\n",
        "      <td> 10</td>\n",
        "      <td> 12</td>\n",
        "      <td> 10</td>\n",
        "      <td>  9</td>\n",
        "      <td> 11</td>\n",
        "      <td> 14</td>\n",
        "      <td> 14</td>\n",
        "      <td> 16</td>\n",
        "      <td> 14</td>\n",
        "      <td> 15</td>\n",
        "    </tr>\n",
        "    <tr>\n",
        "      <th>Portugal</th>\n",
        "      <td>  8</td>\n",
        "      <td> 10</td>\n",
        "      <td> 12</td>\n",
        "      <td> 11</td>\n",
        "      <td> 13</td>\n",
        "      <td> 12</td>\n",
        "      <td> 13</td>\n",
        "      <td> 11</td>\n",
        "      <td> 15</td>\n",
        "      <td> 10</td>\n",
        "      <td> 12</td>\n",
        "      <td> 10</td>\n",
        "    </tr>\n",
        "    <tr>\n",
        "      <th>Romania</th>\n",
        "      <td> 20</td>\n",
        "      <td> 23</td>\n",
        "      <td> 24</td>\n",
        "      <td> 25</td>\n",
        "      <td> 24</td>\n",
        "      <td> 24</td>\n",
        "      <td>NaN</td>\n",
        "      <td> 20</td>\n",
        "      <td>NaN</td>\n",
        "      <td> 22</td>\n",
        "      <td> 23</td>\n",
        "      <td> 22</td>\n",
        "    </tr>\n",
        "    <tr>\n",
        "      <th>Slovakia</th>\n",
        "      <td> 16</td>\n",
        "      <td> 18</td>\n",
        "      <td> 16</td>\n",
        "      <td> 20</td>\n",
        "      <td> 21</td>\n",
        "      <td> 22</td>\n",
        "      <td> 22</td>\n",
        "      <td> 23</td>\n",
        "      <td> 22</td>\n",
        "      <td> 23</td>\n",
        "      <td> 21</td>\n",
        "      <td> 20</td>\n",
        "    </tr>\n",
        "    <tr>\n",
        "      <th>Slovenia</th>\n",
        "      <td>NaN</td>\n",
        "      <td>  7</td>\n",
        "      <td>  7</td>\n",
        "      <td>  7</td>\n",
        "      <td>  6</td>\n",
        "      <td>  6</td>\n",
        "      <td>  6</td>\n",
        "      <td> 10</td>\n",
        "      <td> 12</td>\n",
        "      <td> 11</td>\n",
        "      <td> 10</td>\n",
        "      <td>  9</td>\n",
        "    </tr>\n",
        "    <tr>\n",
        "      <th>Spain</th>\n",
        "      <td> 15</td>\n",
        "      <td> 17</td>\n",
        "      <td> 18</td>\n",
        "      <td> 21</td>\n",
        "      <td> 19</td>\n",
        "      <td> 19</td>\n",
        "      <td> 20</td>\n",
        "      <td> 18</td>\n",
        "      <td> 17</td>\n",
        "      <td> 18</td>\n",
        "      <td> 16</td>\n",
        "      <td> 16</td>\n",
        "    </tr>\n",
        "  </tbody>\n",
        "</table>\n",
        "</div>"
       ],
       "metadata": {},
       "output_type": "pyout",
       "prompt_number": 51,
       "text": [
        "INDIC_ED        Total public expenditure on education as % of GDP, for all levels of education combined  \\\n",
        "TIME                                                                                               2000   \n",
        "GEO                                                                                                       \n",
        "Austria                                                         4                                         \n",
        "Belgium                                                       NaN                                         \n",
        "Bulgaria                                                       17                                         \n",
        "Cyprus                                                          8                                         \n",
        "Czech Republic                                                 18                                         \n",
        "Denmark                                                         1                                         \n",
        "Estonia                                                         7                                         \n",
        "Finland                                                         3                                         \n",
        "France                                                          2                                         \n",
        "Germany                                                        13                                         \n",
        "Greece                                                         19                                         \n",
        "Hungary                                                        12                                         \n",
        "Ireland                                                        14                                         \n",
        "Italy                                                          11                                         \n",
        "Latvia                                                          5                                         \n",
        "Lithuania                                                       6                                         \n",
        "Luxembourg                                                    NaN                                         \n",
        "Malta                                                          11                                         \n",
        "Netherlands                                                     9                                         \n",
        "Poland                                                         10                                         \n",
        "Portugal                                                        8                                         \n",
        "Romania                                                        20                                         \n",
        "Slovakia                                                       16                                         \n",
        "Slovenia                                                      NaN                                         \n",
        "Spain                                                          15                                         \n",
        "\n",
        "INDIC_ED                                                                    \\\n",
        "TIME            2001  2002  2003  2004  2005  2006  2007  2008  2009  2010   \n",
        "GEO                                                                          \n",
        "Austria            8     8     9     8    11    10     7    11     7     8   \n",
        "Belgium            4     4     4     4     5     5     4     3     4     5   \n",
        "Bulgaria          21    21    22    18    18    21    22    20    20    22   \n",
        "Cyprus             5     2     2     2     2     2     2     2     2     2   \n",
        "Czech Republic    19    20    19    20    21    19    21    21    21    20   \n",
        "Denmark            1     1     1     1     1     1     1     1     1     1   \n",
        "Estonia           11     9    13    14    14    16    15     9     6    11   \n",
        "Finland            3     3     3     3     4     4     5     4     3     3   \n",
        "France             6     5     5     5     7     7     6     8     9     9   \n",
        "Germany           15    14    15    16    16    18    17    18    17    15   \n",
        "Greece            22    23    24    23    20   NaN   NaN   NaN   NaN   NaN   \n",
        "Hungary           13    11     6     9    10     9     9    13    15    18   \n",
        "Ireland           17    17    18    15    15    15    13     7     5     6   \n",
        "Italy             14    15    16    17    17    17    19    19    19    19   \n",
        "Latvia             2     2     8    12    13    12    12     6    13    17   \n",
        "Lithuania          7     6    14    11    14    14    16    16    12    13   \n",
        "Luxembourg        20    22    23    22    23    23    24   NaN   NaN   NaN   \n",
        "Malta             16    19    17    15     3     3     3     5    14     4   \n",
        "Netherlands       12    13    10     7     8     8     8    10     8     7   \n",
        "Poland             9    10    12    10     9    11    14    14    16    14   \n",
        "Portugal          10    12    11    13    12    13    11    15    10    12   \n",
        "Romania           23    24    25    24    24   NaN    20   NaN    22    23   \n",
        "Slovakia          18    16    20    21    22    22    23    22    23    21   \n",
        "Slovenia           7     7     7     6     6     6    10    12    11    10   \n",
        "Spain             17    18    21    19    19    20    18    17    18    16   \n",
        "\n",
        "INDIC_ED              \n",
        "TIME            2011  \n",
        "GEO                   \n",
        "Austria            8  \n",
        "Belgium            5  \n",
        "Bulgaria          21  \n",
        "Cyprus             3  \n",
        "Czech Republic    18  \n",
        "Denmark            1  \n",
        "Estonia           12  \n",
        "Finland            4  \n",
        "France             9  \n",
        "Germany           13  \n",
        "Greece           NaN  \n",
        "Hungary           17  \n",
        "Ireland            6  \n",
        "Italy             19  \n",
        "Latvia            14  \n",
        "Lithuania         11  \n",
        "Luxembourg       NaN  \n",
        "Malta              2  \n",
        "Netherlands        7  \n",
        "Poland            15  \n",
        "Portugal          10  \n",
        "Romania           22  \n",
        "Slovakia          20  \n",
        "Slovenia           9  \n",
        "Spain             16  "
       ]
      }
     ],
     "prompt_number": 51
    },
    {
     "cell_type": "markdown",
     "metadata": {},
     "source": [
      "##Grouping"
     ]
    },
    {
     "cell_type": "markdown",
     "metadata": {},
     "source": [
      "`group by` means:\n",
      "+ Splittng the data into groups based on some criteria\n",
      "+ Applying a function to each group independently\n",
      "+ Combining the results int a `dataframe`\n",
      "\n",
      "We can group by countries and apply sum. This returns all the `TIME` and `Value` columns added for the same country:"
     ]
    },
    {
     "cell_type": "code",
     "collapsed": false,
     "input": [
      "group = eduCtry.groupby('GEO').sum()\n",
      "group= group.rename(index={'Germany (until 1990 former territory of the FRG)': 'Germany'})\n",
      "group.head()"
     ],
     "language": "python",
     "metadata": {},
     "outputs": [
      {
       "html": [
        "<div style=\"max-height:1000px;max-width:1500px;overflow:auto;\">\n",
        "<table border=\"1\" class=\"dataframe\">\n",
        "  <thead>\n",
        "    <tr style=\"text-align: right;\">\n",
        "      <th></th>\n",
        "      <th>TIME</th>\n",
        "      <th>Value</th>\n",
        "    </tr>\n",
        "    <tr>\n",
        "      <th>GEO</th>\n",
        "      <th></th>\n",
        "      <th></th>\n",
        "    </tr>\n",
        "  </thead>\n",
        "  <tbody>\n",
        "    <tr>\n",
        "      <th>Austria</th>\n",
        "      <td> 24066</td>\n",
        "      <td> 67.42</td>\n",
        "    </tr>\n",
        "    <tr>\n",
        "      <th>Belgium</th>\n",
        "      <td> 22066</td>\n",
        "      <td> 68.08</td>\n",
        "    </tr>\n",
        "    <tr>\n",
        "      <th>Bulgaria</th>\n",
        "      <td> 24066</td>\n",
        "      <td> 49.12</td>\n",
        "    </tr>\n",
        "    <tr>\n",
        "      <th>Cyprus</th>\n",
        "      <td> 24066</td>\n",
        "      <td> 84.28</td>\n",
        "    </tr>\n",
        "    <tr>\n",
        "      <th>Czech Republic</th>\n",
        "      <td> 24066</td>\n",
        "      <td> 50.02</td>\n",
        "    </tr>\n",
        "  </tbody>\n",
        "</table>\n",
        "</div>"
       ],
       "metadata": {},
       "output_type": "pyout",
       "prompt_number": 52,
       "text": [
        "                 TIME  Value\n",
        "GEO                         \n",
        "Austria         24066  67.42\n",
        "Belgium         22066  68.08\n",
        "Bulgaria        24066  49.12\n",
        "Cyprus          24066  84.28\n",
        "Czech Republic  24066  50.02"
       ]
      }
     ],
     "prompt_number": 52
    },
    {
     "cell_type": "markdown",
     "metadata": {},
     "source": [
      "We drop time column and ranking by Value, over all the time:"
     ]
    },
    {
     "cell_type": "code",
     "collapsed": false,
     "input": [
      "group.drop('TIME', axis=1).rank(ascending=False,method='dense').sort('Value')"
     ],
     "language": "python",
     "metadata": {},
     "outputs": [
      {
       "html": [
        "<div style=\"max-height:1000px;max-width:1500px;overflow:auto;\">\n",
        "<table border=\"1\" class=\"dataframe\">\n",
        "  <thead>\n",
        "    <tr style=\"text-align: right;\">\n",
        "      <th></th>\n",
        "      <th>Value</th>\n",
        "    </tr>\n",
        "    <tr>\n",
        "      <th>GEO</th>\n",
        "      <th></th>\n",
        "    </tr>\n",
        "  </thead>\n",
        "  <tbody>\n",
        "    <tr>\n",
        "      <th>Denmark</th>\n",
        "      <td>  1</td>\n",
        "    </tr>\n",
        "    <tr>\n",
        "      <th>Cyprus</th>\n",
        "      <td>  2</td>\n",
        "    </tr>\n",
        "    <tr>\n",
        "      <th>Finland</th>\n",
        "      <td>  3</td>\n",
        "    </tr>\n",
        "    <tr>\n",
        "      <th>France</th>\n",
        "      <td>  4</td>\n",
        "    </tr>\n",
        "    <tr>\n",
        "      <th>Belgium</th>\n",
        "      <td>  5</td>\n",
        "    </tr>\n",
        "    <tr>\n",
        "      <th>Austria</th>\n",
        "      <td>  6</td>\n",
        "    </tr>\n",
        "    <tr>\n",
        "      <th>Malta</th>\n",
        "      <td>  7</td>\n",
        "    </tr>\n",
        "    <tr>\n",
        "      <th>Latvia</th>\n",
        "      <td>  8</td>\n",
        "    </tr>\n",
        "    <tr>\n",
        "      <th>Netherlands</th>\n",
        "      <td>  9</td>\n",
        "    </tr>\n",
        "    <tr>\n",
        "      <th>Portugal</th>\n",
        "      <td> 10</td>\n",
        "    </tr>\n",
        "    <tr>\n",
        "      <th>Estonia</th>\n",
        "      <td> 11</td>\n",
        "    </tr>\n",
        "    <tr>\n",
        "      <th>Lithuania</th>\n",
        "      <td> 12</td>\n",
        "    </tr>\n",
        "    <tr>\n",
        "      <th>Poland</th>\n",
        "      <td> 13</td>\n",
        "    </tr>\n",
        "    <tr>\n",
        "      <th>Hungary</th>\n",
        "      <td> 14</td>\n",
        "    </tr>\n",
        "    <tr>\n",
        "      <th>Slovenia</th>\n",
        "      <td> 15</td>\n",
        "    </tr>\n",
        "    <tr>\n",
        "      <th>Ireland</th>\n",
        "      <td> 16</td>\n",
        "    </tr>\n",
        "    <tr>\n",
        "      <th>Germany</th>\n",
        "      <td> 17</td>\n",
        "    </tr>\n",
        "    <tr>\n",
        "      <th>Italy</th>\n",
        "      <td> 18</td>\n",
        "    </tr>\n",
        "    <tr>\n",
        "      <th>Spain</th>\n",
        "      <td> 19</td>\n",
        "    </tr>\n",
        "    <tr>\n",
        "      <th>Czech Republic</th>\n",
        "      <td> 20</td>\n",
        "    </tr>\n",
        "    <tr>\n",
        "      <th>Bulgaria</th>\n",
        "      <td> 21</td>\n",
        "    </tr>\n",
        "    <tr>\n",
        "      <th>Slovakia</th>\n",
        "      <td> 22</td>\n",
        "    </tr>\n",
        "    <tr>\n",
        "      <th>Romania</th>\n",
        "      <td> 23</td>\n",
        "    </tr>\n",
        "    <tr>\n",
        "      <th>Luxembourg</th>\n",
        "      <td> 24</td>\n",
        "    </tr>\n",
        "    <tr>\n",
        "      <th>Greece</th>\n",
        "      <td> 25</td>\n",
        "    </tr>\n",
        "  </tbody>\n",
        "</table>\n",
        "</div>"
       ],
       "metadata": {},
       "output_type": "pyout",
       "prompt_number": 53,
       "text": [
        "                Value\n",
        "GEO                  \n",
        "Denmark             1\n",
        "Cyprus              2\n",
        "Finland             3\n",
        "France              4\n",
        "Belgium             5\n",
        "Austria             6\n",
        "Malta               7\n",
        "Latvia              8\n",
        "Netherlands         9\n",
        "Portugal           10\n",
        "Estonia            11\n",
        "Lithuania          12\n",
        "Poland             13\n",
        "Hungary            14\n",
        "Slovenia           15\n",
        "Ireland            16\n",
        "Germany            17\n",
        "Italy              18\n",
        "Spain              19\n",
        "Czech Republic     20\n",
        "Bulgaria           21\n",
        "Slovakia           22\n",
        "Romania            23\n",
        "Luxembourg         24\n",
        "Greece             25"
       ]
      }
     ],
     "prompt_number": 53
    },
    {
     "cell_type": "markdown",
     "metadata": {},
     "source": [
      "##Plotting"
     ]
    },
    {
     "cell_type": "code",
     "collapsed": false,
     "input": [
      "%matplotlib inline \n",
      "import matplotlib.pyplot as plt\n",
      "\n",
      "group.drop('TIME', axis=1).plot(kind='bar',style='b', alpha=0.4)\n",
      "plt.title(\"bar of weight and mpg\")\n",
      "plt.figure()\n"
     ],
     "language": "python",
     "metadata": {},
     "outputs": []
    },
    {
     "cell_type": "code",
     "collapsed": false,
     "input": [
      "piveduCtry=pd.pivot_table(eduCtry, values='Value', rows=['GEO'],columns = ['TIME'])\n",
      "piveduCtry= piveduCtry.rename(index={'Germany (until 1990 former territory of the FRG)': 'Germany'})\n",
      "piveduCtry = piveduCtry.fillna(0) #FILL NaN with 0\n",
      "my_colors = ['b', 'r', 'g', 'y', 'k']*3 #By default ColorMap has only 5 colours\n",
      "ax=piveduCtry.plot(kind='barh',stacked=True, color=my_colors ,alpha=0.4)\n",
      "ax.legend(loc='center left', bbox_to_anchor=(1, 0.5)) #By default legend goes inside plot area"
     ],
     "language": "python",
     "metadata": {},
     "outputs": []
    },
    {
     "cell_type": "markdown",
     "metadata": {},
     "source": [
      "#Merge\n"
     ]
    },
    {
     "cell_type": "markdown",
     "metadata": {},
     "source": [
      "1M MovieLens database (http://www.grouplens.org/node/73) contains 1,000,209 ratings of 3,900 films made during yerar 2000 for 6040 anonymous users from MovieLens recommender Online (http://www.movielens.org)\n"
     ]
    },
    {
     "cell_type": "markdown",
     "metadata": {},
     "source": [
      "The contents of the database are:\n",
      "\n",
      "================================================================================\n",
      "\n",
      "All ratings are contained in the file \"ratings.dat\" and are in the following format:\n",
      "\n",
      "UserID::MovieID::Rating::Timestamp\n",
      "\n",
      "- UserIDs range between 1 and 6040 \n",
      "- MovieIDs range between 1 and 3952\n",
      "- Ratings are made on a 5-star scale (whole-star ratings only)\n",
      "- Timestamp is represented in seconds since the epoch as returned by time(2)\n",
      "- Each user has at least 20 ratings\n",
      "\n",
      "USERS FILE DESCRIPTION\n",
      "\n",
      "================================================================================\n",
      "\n",
      "User information is in the file \"users.dat\" and is in the following format:\n",
      "\n",
      "UserID::Gender::Age::Occupation::Zip-code\n",
      "\n",
      "All demographic information is provided voluntarily by the users and is not checked for accuracy.  Only users who have provided some demographic information are included in this data set.\n",
      "\n",
      "- Gender is denoted by a \"M\" for male and \"F\" for female\n",
      "- Age is chosen from the following ranges:\n",
      "\n",
      "\t*  1:  \"Under 18\"\n",
      "\t* 18:  \"18-24\"\n",
      "\t* 25:  \"25-34\"\n",
      "\t* 35:  \"35-44\"\n",
      "\t* 45:  \"45-49\"\n",
      "\t* 50:  \"50-55\"\n",
      "\t* 56:  \"56+\"\n",
      "\n",
      "- Occupation is chosen from the following choices:\n",
      "\n",
      "\t*  0:  \"other\" or not specified\n",
      "\t*  1:  \"academic/educator\"\n",
      "\t*  2:  \"artist\"\n",
      "\t*  3:  \"clerical/admin\"\n",
      "\t*  4:  \"college/grad student\"\n",
      "\t*  5:  \"customer service\"\n",
      "\t*  6:  \"doctor/health care\"\n",
      "\t*  7:  \"executive/managerial\"\n",
      "\t*  8:  \"farmer\"\n",
      "\t*  9:  \"homemaker\"\n",
      "\t* 10:  \"K-12 student\"\n",
      "\t* 11:  \"lawyer\"\n",
      "\t* 12:  \"programmer\"\n",
      "\t* 13:  \"retired\"\n",
      "\t* 14:  \"sales/marketing\"\n",
      "\t* 15:  \"scientist\"\n",
      "\t* 16:  \"self-employed\"\n",
      "\t* 17:  \"technician/engineer\"\n",
      "\t* 18:  \"tradesman/craftsman\"\n",
      "\t* 19:  \"unemployed\"\n",
      "\t* 20:  \"writer\"\n",
      "\n",
      "MOVIES FILE DESCRIPTION\n",
      "\n",
      "================================================================================\n",
      "\n",
      "Movie information is in the file \"movies.dat\" and is in the following format:\n",
      "\n",
      "MovieID::Title::Genres\n",
      "\n",
      "- Titles are identical to titles provided by the IMDB (including year of release)\n",
      "- Genres are pipe-separated and are selected from the following genres:\n",
      "\n",
      "\t* Action\n",
      "\t* Adventure\n",
      "\t* Animation\n",
      "\t* Children's\n",
      "\t* Comedy\n",
      "\t* Crime\n",
      "\t* Documentary\n",
      "\t* Drama\n",
      "\t* Fantasy\n",
      "\t* Film-Noir\n",
      "\t* Horror\n",
      "\t* Musical\n",
      "\t* Mystery\n",
      "\t* Romance\n",
      "\t* Sci-Fi\n",
      "\t* Thriller\n",
      "\t* War\n",
      "\t* Western\n",
      "\n",
      "- Some MovieIDs do not correspond to a movie due to accidental duplicate entries and/or test entries\n",
      "- Movies are mostly entered by hand, so errors and inconsistencies may exist"
     ]
    },
    {
     "cell_type": "markdown",
     "metadata": {},
     "source": [
      "Download the database and copy it to a local directory on your machine. (./ml-1m/)"
     ]
    },
    {
     "cell_type": "markdown",
     "metadata": {},
     "source": [
      "Load the three files in the database into three `DataFrames`."
     ]
    },
    {
     "cell_type": "code",
     "collapsed": false,
     "input": [
      "import pandas as pd\n",
      "unames = ['user_id', 'gender', 'age', 'occupation', 'zip']\n",
      "users = pd.read_table('data_files/ml-1m/users.dat', sep='::', header=None, names=unames, engine='python')\n",
      "rnames = ['user_id', 'movie_id', 'rating', 'timestamp']\n",
      "ratings = pd.read_table('data_files/ml-1m/ratings.dat', sep='::', header=None, names=rnames,  engine='python')\n",
      "mnames = ['movie_id', 'title', 'genres']\n",
      "movies = pd.read_table('data_files/ml-1m/movies.dat', sep='::', header=None, names=mnames,  engine='python')"
     ],
     "language": "python",
     "metadata": {},
     "outputs": [],
     "prompt_number": 55
    },
    {
     "cell_type": "markdown",
     "metadata": {},
     "source": [
      "To work with these data, the first step is to obtain a unique structure containing all the information. To do this we can use the function `merge` of pandas. This function automatically infers which columns should be used for the `merge` based on the names that are intersecting:\n"
     ]
    },
    {
     "cell_type": "code",
     "collapsed": false,
     "input": [
      "data = pd.merge(pd.merge(ratings, users), movies)\n",
      "print data[:5]"
     ],
     "language": "python",
     "metadata": {},
     "outputs": [
      {
       "output_type": "stream",
       "stream": "stdout",
       "text": [
        "   user_id  movie_id  rating  timestamp gender  age  occupation    zip  \\\n",
        "0        1      1193       5  978300760      F    1          10  48067   \n",
        "1        2      1193       5  978298413      M   56          16  70072   \n",
        "2       12      1193       4  978220179      M   25          12  32793   \n",
        "3       15      1193       4  978199279      M   25           7  22903   \n",
        "4       17      1193       5  978158471      M   50           1  95350   \n",
        "\n",
        "                                    title genres  \n",
        "0  One Flew Over the Cuckoo's Nest (1975)  Drama  \n",
        "1  One Flew Over the Cuckoo's Nest (1975)  Drama  \n",
        "2  One Flew Over the Cuckoo's Nest (1975)  Drama  \n",
        "3  One Flew Over the Cuckoo's Nest (1975)  Drama  \n",
        "4  One Flew Over the Cuckoo's Nest (1975)  Drama  \n"
       ]
      }
     ],
     "prompt_number": 58
    },
    {
     "cell_type": "markdown",
     "metadata": {},
     "source": [
      "#Exercises: \n",
      "\n",
      "**MovieLens database**"
     ]
    },
    {
     "cell_type": "markdown",
     "metadata": {},
     "source": [
      "1- Filter films that have received at least 250 ratings:"
     ]
    },
    {
     "cell_type": "code",
     "collapsed": false,
     "input": [
      "### Your Code HERE\n",
      "ratings = data.ix[:,['title','rating']].groupby('title').count()\n",
      "ratings.columns = ['total_ratings']\n",
      "popular = ratings['total_ratings'] >= 250\n",
      "most_rated = ratings[popular].sort('total_ratings', ascending=False)\n",
      "most_rated.head(5)"
     ],
     "language": "python",
     "metadata": {},
     "outputs": [
      {
       "html": [
        "<div style=\"max-height:1000px;max-width:1500px;overflow:auto;\">\n",
        "<table border=\"1\" class=\"dataframe\">\n",
        "  <thead>\n",
        "    <tr style=\"text-align: right;\">\n",
        "      <th></th>\n",
        "      <th>total_ratings</th>\n",
        "    </tr>\n",
        "    <tr>\n",
        "      <th>title</th>\n",
        "      <th></th>\n",
        "    </tr>\n",
        "  </thead>\n",
        "  <tbody>\n",
        "    <tr>\n",
        "      <th>American Beauty (1999)</th>\n",
        "      <td> 3428</td>\n",
        "    </tr>\n",
        "    <tr>\n",
        "      <th>Star Wars: Episode IV - A New Hope (1977)</th>\n",
        "      <td> 2991</td>\n",
        "    </tr>\n",
        "    <tr>\n",
        "      <th>Star Wars: Episode V - The Empire Strikes Back (1980)</th>\n",
        "      <td> 2990</td>\n",
        "    </tr>\n",
        "    <tr>\n",
        "      <th>Star Wars: Episode VI - Return of the Jedi (1983)</th>\n",
        "      <td> 2883</td>\n",
        "    </tr>\n",
        "    <tr>\n",
        "      <th>Jurassic Park (1993)</th>\n",
        "      <td> 2672</td>\n",
        "    </tr>\n",
        "  </tbody>\n",
        "</table>\n",
        "</div>"
       ],
       "metadata": {},
       "output_type": "pyout",
       "prompt_number": 246,
       "text": [
        "                                                       total_ratings\n",
        "title                                                               \n",
        "American Beauty (1999)                                          3428\n",
        "Star Wars: Episode IV - A New Hope (1977)                       2991\n",
        "Star Wars: Episode V - The Empire Strikes Back (1980)           2990\n",
        "Star Wars: Episode VI - Return of the Jedi (1983)               2883\n",
        "Jurassic Park (1993)                                            2672"
       ]
      }
     ],
     "prompt_number": 246
    },
    {
     "cell_type": "markdown",
     "metadata": {},
     "source": [
      "2- Obtain the mean ratings for each movie grouped by gender that have at least 250 ratings. "
     ]
    },
    {
     "cell_type": "code",
     "collapsed": false,
     "input": [
      "### Your Code HERE\n",
      "gender = data.ix[:,['gender', 'rating', 'title']]\n",
      "mean_ratings = gender.groupby(['title', 'gender']).mean()\n",
      "mean_ratings_popular = mean_ratings.ix[most_rated.index,:] #most_rated comes from the previous excercise\n",
      "mean_ratings_popular.head(6)"
     ],
     "language": "python",
     "metadata": {},
     "outputs": [
      {
       "html": [
        "<div style=\"max-height:1000px;max-width:1500px;overflow:auto;\">\n",
        "<table border=\"1\" class=\"dataframe\">\n",
        "  <thead>\n",
        "    <tr style=\"text-align: right;\">\n",
        "      <th></th>\n",
        "      <th></th>\n",
        "      <th>rating</th>\n",
        "    </tr>\n",
        "    <tr>\n",
        "      <th>title</th>\n",
        "      <th>gender</th>\n",
        "      <th></th>\n",
        "    </tr>\n",
        "  </thead>\n",
        "  <tbody>\n",
        "    <tr>\n",
        "      <th rowspan=\"2\" valign=\"top\">'burbs, The (1989)</th>\n",
        "      <th>F</th>\n",
        "      <td> 2.793478</td>\n",
        "    </tr>\n",
        "    <tr>\n",
        "      <th>M</th>\n",
        "      <td> 2.962085</td>\n",
        "    </tr>\n",
        "    <tr>\n",
        "      <th rowspan=\"2\" valign=\"top\">10 Things I Hate About You (1999)</th>\n",
        "      <th>F</th>\n",
        "      <td> 3.646552</td>\n",
        "    </tr>\n",
        "    <tr>\n",
        "      <th>M</th>\n",
        "      <td> 3.311966</td>\n",
        "    </tr>\n",
        "    <tr>\n",
        "      <th rowspan=\"2\" valign=\"top\">101 Dalmatians (1961)</th>\n",
        "      <th>F</th>\n",
        "      <td> 3.791444</td>\n",
        "    </tr>\n",
        "    <tr>\n",
        "      <th>M</th>\n",
        "      <td> 3.500000</td>\n",
        "    </tr>\n",
        "  </tbody>\n",
        "</table>\n",
        "</div>"
       ],
       "metadata": {},
       "output_type": "pyout",
       "prompt_number": 275,
       "text": [
        "                                            rating\n",
        "title                             gender          \n",
        "'burbs, The (1989)                F       2.793478\n",
        "                                  M       2.962085\n",
        "10 Things I Hate About You (1999) F       3.646552\n",
        "                                  M       3.311966\n",
        "101 Dalmatians (1961)             F       3.791444\n",
        "                                  M       3.500000"
       ]
      }
     ],
     "prompt_number": 275
    },
    {
     "cell_type": "markdown",
     "metadata": {},
     "source": [
      "3- Show films more valued by women."
     ]
    },
    {
     "cell_type": "code",
     "collapsed": false,
     "input": [
      "### Your Code HERE\n",
      "women = data[data['gender'] == 'F'].ix[:,['title', 'rating', 'gender']]\n",
      "women_most_rated = women.groupby(['title', 'gender']).count()\n",
      "women_most_rated.sort('rating', ascending=False).head(5)"
     ],
     "language": "python",
     "metadata": {},
     "outputs": [
      {
       "html": [
        "<div style=\"max-height:1000px;max-width:1500px;overflow:auto;\">\n",
        "<table border=\"1\" class=\"dataframe\">\n",
        "  <thead>\n",
        "    <tr style=\"text-align: right;\">\n",
        "      <th></th>\n",
        "      <th></th>\n",
        "      <th>rating</th>\n",
        "    </tr>\n",
        "    <tr>\n",
        "      <th>title</th>\n",
        "      <th>gender</th>\n",
        "      <th></th>\n",
        "    </tr>\n",
        "  </thead>\n",
        "  <tbody>\n",
        "    <tr>\n",
        "      <th>American Beauty (1999)</th>\n",
        "      <th>F</th>\n",
        "      <td> 946</td>\n",
        "    </tr>\n",
        "    <tr>\n",
        "      <th>Shakespeare in Love (1998)</th>\n",
        "      <th>F</th>\n",
        "      <td> 798</td>\n",
        "    </tr>\n",
        "    <tr>\n",
        "      <th>Silence of the Lambs, The (1991)</th>\n",
        "      <th>F</th>\n",
        "      <td> 706</td>\n",
        "    </tr>\n",
        "    <tr>\n",
        "      <th>Sixth Sense, The (1999)</th>\n",
        "      <th>F</th>\n",
        "      <td> 664</td>\n",
        "    </tr>\n",
        "    <tr>\n",
        "      <th>Groundhog Day (1993)</th>\n",
        "      <th>F</th>\n",
        "      <td> 658</td>\n",
        "    </tr>\n",
        "  </tbody>\n",
        "</table>\n",
        "</div>"
       ],
       "metadata": {},
       "output_type": "pyout",
       "prompt_number": 286,
       "text": [
        "                                         rating\n",
        "title                            gender        \n",
        "American Beauty (1999)           F          946\n",
        "Shakespeare in Love (1998)       F          798\n",
        "Silence of the Lambs, The (1991) F          706\n",
        "Sixth Sense, The (1999)          F          664\n",
        "Groundhog Day (1993)             F          658"
       ]
      }
     ],
     "prompt_number": 286
    },
    {
     "cell_type": "markdown",
     "metadata": {},
     "source": [
      "4- Now we wonder which movies are rated more differently between men and women. Which films have more different rating and are more highly valued by women? And the films preferred by men which doesn't liked women? What are the films that have generated the most discordant ratings, regardless of gender?"
     ]
    },
    {
     "cell_type": "code",
     "collapsed": false,
     "input": [
      "### Your Code HERE\n",
      "misc = data.ix[:,['gender', 'rating', 'title']]\n",
      "piv_misc = pd.pivot_table(misc, values=['rating'], rows=['title'], columns=['gender'])\n",
      "dif = piv_misc.ix[:,('rating','M')] - piv_misc.ix[:,('rating','F')]\n",
      "miu = misc.groupby('title').mean()\n",
      "piv_misc['dif'], piv_misc['average'] = dif, miu\n",
      "\n",
      "# Play with 'sort()' to get the information needed:\n",
      "# sort('dif', ascending=False) <- will give the most liked by men, and least liked by women\n",
      "# sort('dif', ascending=True) <- will give the most liked by women, and least liked by men\n",
      "\n",
      "piv_misc.ix[most_rated.index,:].sort('average', ascending=False).head(5)"
     ],
     "language": "python",
     "metadata": {},
     "outputs": [
      {
       "html": [
        "<div style=\"max-height:1000px;max-width:1500px;overflow:auto;\">\n",
        "<table border=\"1\" class=\"dataframe\">\n",
        "  <thead>\n",
        "    <tr>\n",
        "      <th></th>\n",
        "      <th colspan=\"2\" halign=\"left\">rating</th>\n",
        "      <th>dif</th>\n",
        "      <th>average</th>\n",
        "    </tr>\n",
        "    <tr>\n",
        "      <th>gender</th>\n",
        "      <th>F</th>\n",
        "      <th>M</th>\n",
        "      <th></th>\n",
        "      <th></th>\n",
        "    </tr>\n",
        "    <tr>\n",
        "      <th>title</th>\n",
        "      <th></th>\n",
        "      <th></th>\n",
        "      <th></th>\n",
        "      <th></th>\n",
        "    </tr>\n",
        "  </thead>\n",
        "  <tbody>\n",
        "    <tr>\n",
        "      <th>Seven Samurai (The Magnificent Seven) (Shichinin no samurai) (1954)</th>\n",
        "      <td> 4.481132</td>\n",
        "      <td> 4.576628</td>\n",
        "      <td> 0.095496</td>\n",
        "      <td> 4.560510</td>\n",
        "    </tr>\n",
        "    <tr>\n",
        "      <th>Shawshank Redemption, The (1994)</th>\n",
        "      <td> 4.539075</td>\n",
        "      <td> 4.560625</td>\n",
        "      <td> 0.021550</td>\n",
        "      <td> 4.554558</td>\n",
        "    </tr>\n",
        "    <tr>\n",
        "      <th>Godfather, The (1972)</th>\n",
        "      <td> 4.314700</td>\n",
        "      <td> 4.583333</td>\n",
        "      <td> 0.268634</td>\n",
        "      <td> 4.524966</td>\n",
        "    </tr>\n",
        "    <tr>\n",
        "      <th>Close Shave, A (1995)</th>\n",
        "      <td> 4.644444</td>\n",
        "      <td> 4.473795</td>\n",
        "      <td>-0.170650</td>\n",
        "      <td> 4.520548</td>\n",
        "    </tr>\n",
        "    <tr>\n",
        "      <th>Usual Suspects, The (1995)</th>\n",
        "      <td> 4.513317</td>\n",
        "      <td> 4.518248</td>\n",
        "      <td> 0.004931</td>\n",
        "      <td> 4.517106</td>\n",
        "    </tr>\n",
        "  </tbody>\n",
        "</table>\n",
        "</div>"
       ],
       "metadata": {},
       "output_type": "pyout",
       "prompt_number": 376,
       "text": [
        "                                                                       rating  \\\n",
        "gender                                                                      F   \n",
        "title                                                                           \n",
        "Seven Samurai (The Magnificent Seven) (Shichinin no samurai) (1954)  4.481132   \n",
        "Shawshank Redemption, The (1994)                                     4.539075   \n",
        "Godfather, The (1972)                                                4.314700   \n",
        "Close Shave, A (1995)                                                4.644444   \n",
        "Usual Suspects, The (1995)                                           4.513317   \n",
        "\n",
        "                                                                               \\\n",
        "gender                                                                      M   \n",
        "title                                                                           \n",
        "Seven Samurai (The Magnificent Seven) (Shichinin no samurai) (1954)  4.576628   \n",
        "Shawshank Redemption, The (1994)                                     4.560625   \n",
        "Godfather, The (1972)                                                4.583333   \n",
        "Close Shave, A (1995)                                                4.473795   \n",
        "Usual Suspects, The (1995)                                           4.518248   \n",
        "\n",
        "                                                                          dif  \\\n",
        "gender                                                                          \n",
        "title                                                                           \n",
        "Seven Samurai (The Magnificent Seven) (Shichinin no samurai) (1954)  0.095496   \n",
        "Shawshank Redemption, The (1994)                                     0.021550   \n",
        "Godfather, The (1972)                                                0.268634   \n",
        "Close Shave, A (1995)                                               -0.170650   \n",
        "Usual Suspects, The (1995)                                           0.004931   \n",
        "\n",
        "                                                                      average  \n",
        "gender                                                                         \n",
        "title                                                                          \n",
        "Seven Samurai (The Magnificent Seven) (Shichinin no samurai) (1954)  4.560510  \n",
        "Shawshank Redemption, The (1994)                                     4.554558  \n",
        "Godfather, The (1972)                                                4.524966  \n",
        "Close Shave, A (1995)                                                4.520548  \n",
        "Usual Suspects, The (1995)                                           4.517106  "
       ]
      }
     ],
     "prompt_number": 376
    },
    {
     "cell_type": "markdown",
     "metadata": {},
     "source": [
      "5- Calculate the average rating of each user. "
     ]
    },
    {
     "cell_type": "code",
     "collapsed": false,
     "input": [
      "### Your Code HERE\n",
      "user = data.ix[:,['user_id','rating']]\n",
      "user.groupby('user_id').mean().sort('rating', ascending=False).head(5)"
     ],
     "language": "python",
     "metadata": {},
     "outputs": [
      {
       "html": [
        "<div style=\"max-height:1000px;max-width:1500px;overflow:auto;\">\n",
        "<table border=\"1\" class=\"dataframe\">\n",
        "  <thead>\n",
        "    <tr style=\"text-align: right;\">\n",
        "      <th></th>\n",
        "      <th>rating</th>\n",
        "    </tr>\n",
        "    <tr>\n",
        "      <th>user_id</th>\n",
        "      <th></th>\n",
        "    </tr>\n",
        "  </thead>\n",
        "  <tbody>\n",
        "    <tr>\n",
        "      <th>283 </th>\n",
        "      <td> 4.962963</td>\n",
        "    </tr>\n",
        "    <tr>\n",
        "      <th>2339</th>\n",
        "      <td> 4.956522</td>\n",
        "    </tr>\n",
        "    <tr>\n",
        "      <th>3324</th>\n",
        "      <td> 4.904762</td>\n",
        "    </tr>\n",
        "    <tr>\n",
        "      <th>3902</th>\n",
        "      <td> 4.890909</td>\n",
        "    </tr>\n",
        "    <tr>\n",
        "      <th>446 </th>\n",
        "      <td> 4.843137</td>\n",
        "    </tr>\n",
        "  </tbody>\n",
        "</table>\n",
        "</div>"
       ],
       "metadata": {},
       "output_type": "pyout",
       "prompt_number": 297,
       "text": [
        "           rating\n",
        "user_id          \n",
        "283      4.962963\n",
        "2339     4.956522\n",
        "3324     4.904762\n",
        "3902     4.890909\n",
        "446      4.843137"
       ]
      }
     ],
     "prompt_number": 297
    },
    {
     "cell_type": "markdown",
     "metadata": {},
     "source": [
      "What is the highest rated movie in average?"
     ]
    },
    {
     "cell_type": "code",
     "collapsed": false,
     "input": [
      "movies = data.ix[:,['title','rating']]\n",
      "movies.groupby('title').mean().sort('rating', ascending=False).head(5)"
     ],
     "language": "python",
     "metadata": {},
     "outputs": [
      {
       "html": [
        "<div style=\"max-height:1000px;max-width:1500px;overflow:auto;\">\n",
        "<table border=\"1\" class=\"dataframe\">\n",
        "  <thead>\n",
        "    <tr style=\"text-align: right;\">\n",
        "      <th></th>\n",
        "      <th>rating</th>\n",
        "    </tr>\n",
        "    <tr>\n",
        "      <th>title</th>\n",
        "      <th></th>\n",
        "    </tr>\n",
        "  </thead>\n",
        "  <tbody>\n",
        "    <tr>\n",
        "      <th>Ulysses (Ulisse) (1954)</th>\n",
        "      <td> 5</td>\n",
        "    </tr>\n",
        "    <tr>\n",
        "      <th>Lured (1947)</th>\n",
        "      <td> 5</td>\n",
        "    </tr>\n",
        "    <tr>\n",
        "      <th>Follow the Bitch (1998)</th>\n",
        "      <td> 5</td>\n",
        "    </tr>\n",
        "    <tr>\n",
        "      <th>Bittersweet Motel (2000)</th>\n",
        "      <td> 5</td>\n",
        "    </tr>\n",
        "    <tr>\n",
        "      <th>Song of Freedom (1936)</th>\n",
        "      <td> 5</td>\n",
        "    </tr>\n",
        "  </tbody>\n",
        "</table>\n",
        "</div>"
       ],
       "metadata": {},
       "output_type": "pyout",
       "prompt_number": 378,
       "text": [
        "                          rating\n",
        "title                           \n",
        "Ulysses (Ulisse) (1954)        5\n",
        "Lured (1947)                   5\n",
        "Follow the Bitch (1998)        5\n",
        "Bittersweet Motel (2000)       5\n",
        "Song of Freedom (1936)         5"
       ]
      }
     ],
     "prompt_number": 378
    },
    {
     "cell_type": "markdown",
     "metadata": {},
     "source": [
      "6- Define a function called  <b>top_movies</b> that given a user it returns what movies have the highest rank for this user."
     ]
    },
    {
     "cell_type": "code",
     "collapsed": false,
     "input": [
      "def top_movies(user):\n",
      "    top = data[data['user_id'] == user].ix[:,['title', 'rating']].sort('rating', ascending=False)\n",
      "    return top\n",
      "\n",
      "top_movies(3).head(5)"
     ],
     "language": "python",
     "metadata": {},
     "outputs": [
      {
       "html": [
        "<div style=\"max-height:1000px;max-width:1500px;overflow:auto;\">\n",
        "<table border=\"1\" class=\"dataframe\">\n",
        "  <thead>\n",
        "    <tr style=\"text-align: right;\">\n",
        "      <th></th>\n",
        "      <th>title</th>\n",
        "      <th>rating</th>\n",
        "    </tr>\n",
        "  </thead>\n",
        "  <tbody>\n",
        "    <tr>\n",
        "      <th>4202  </th>\n",
        "      <td>                      Bug's Life, A (1998)</td>\n",
        "      <td> 5</td>\n",
        "    </tr>\n",
        "    <tr>\n",
        "      <th>203844</th>\n",
        "      <td> Butch Cassidy and the Sundance Kid (1969)</td>\n",
        "      <td> 5</td>\n",
        "    </tr>\n",
        "    <tr>\n",
        "      <th>192175</th>\n",
        "      <td>                          Edge, The (1997)</td>\n",
        "      <td> 5</td>\n",
        "    </tr>\n",
        "    <tr>\n",
        "      <th>194642</th>\n",
        "      <td>                              Blade (1998)</td>\n",
        "      <td> 5</td>\n",
        "    </tr>\n",
        "    <tr>\n",
        "      <th>199609</th>\n",
        "      <td>                         Unforgiven (1992)</td>\n",
        "      <td> 5</td>\n",
        "    </tr>\n",
        "  </tbody>\n",
        "</table>\n",
        "</div>"
       ],
       "metadata": {},
       "output_type": "pyout",
       "prompt_number": 308,
       "text": [
        "                                            title  rating\n",
        "4202                         Bug's Life, A (1998)       5\n",
        "203844  Butch Cassidy and the Sundance Kid (1969)       5\n",
        "192175                           Edge, The (1997)       5\n",
        "194642                               Blade (1998)       5\n",
        "199609                          Unforgiven (1992)       5"
       ]
      }
     ],
     "prompt_number": 308
    },
    {
     "cell_type": "markdown",
     "metadata": {},
     "source": [
      "**Data from Excel**"
     ]
    },
    {
     "cell_type": "markdown",
     "metadata": {},
     "source": [
      "7- Read data from excel files: `MunicipisCatalunya.xlsx` and `BBDD_1_OCTUBRE_WEB_SI\u0301.xslx`. Browse their contents and find the % of catalan municipalities that supports a ballot for the self-determination of Catalonia at 1st of October."
     ]
    },
    {
     "cell_type": "code",
     "collapsed": false,
     "input": [
      "### Your Code HERE"
     ],
     "language": "python",
     "metadata": {},
     "outputs": []
    },
    {
     "cell_type": "markdown",
     "metadata": {},
     "source": [
      "** Data from CSV**"
     ]
    },
    {
     "cell_type": "markdown",
     "metadata": {},
     "source": [
      "8- Read data from csv file: `ma-ba.csv`. Count the number of times `Bar\u00e7a` wins `Madrid` and compute the stadistics of % win, % lose and % draw."
     ]
    },
    {
     "cell_type": "code",
     "collapsed": false,
     "input": [
      "### Your Code HERE\n",
      "def strip(text):\n",
      "    try:\n",
      "        return text.strip()\n",
      "    except AttributeError:\n",
      "        return text\n",
      "\n",
      "barca = pd.read_csv('data_files/ma-ba.csv', sep='\\t', converters={'Lugar': strip})\n",
      "barca.insert(5, 'local', barca.resultado.apply(lambda r: r[0]))\n",
      "barca.insert(6, 'visitante', barca.resultado.apply(lambda r: r[2]))\n",
      "\n",
      "\n",
      "def ganador(partido):\n",
      "    el_partido = barca[barca.N == partido]\n",
      "    if el_partido.Lugar.values == '(Barcelona)':\n",
      "        if el_partido.local.values > el_partido.visitante.values:\n",
      "            return True\n",
      "        elif el_partido.local.values < el_partido.visitante.values:\n",
      "            return False\n",
      "        else:\n",
      "            return 'Draw'\n",
      "    elif el_partido.Lugar.values == '(Madrid)':\n",
      "        if el_partido.local.values > el_partido.visitante.values:\n",
      "            return False\n",
      "        elif el_partido.local.values < el_partido.visitante.values:\n",
      "            return True\n",
      "        else:\n",
      "            return 'Draw'\n",
      "    else:\n",
      "        return 'NA'\n",
      "    \n",
      "barca.insert(7, 'FCB wins', barca.N.apply(lambda r: ganador(r)))\n",
      "\n",
      "res = barca.ix[:,['Partidos', 'FCB wins']].groupby(['FCB wins']).count()\n",
      "res['%'] = res.Partidos/res.Partidos.sum()\n",
      "\n",
      "res"
     ],
     "language": "python",
     "metadata": {},
     "outputs": [
      {
       "html": [
        "<div style=\"max-height:1000px;max-width:1500px;overflow:auto;\">\n",
        "<table border=\"1\" class=\"dataframe\">\n",
        "  <thead>\n",
        "    <tr style=\"text-align: right;\">\n",
        "      <th></th>\n",
        "      <th>Partidos</th>\n",
        "      <th>%</th>\n",
        "    </tr>\n",
        "    <tr>\n",
        "      <th>FCB wins</th>\n",
        "      <th></th>\n",
        "      <th></th>\n",
        "    </tr>\n",
        "  </thead>\n",
        "  <tbody>\n",
        "    <tr>\n",
        "      <th>False</th>\n",
        "      <td>  88</td>\n",
        "      <td> 0.338462</td>\n",
        "    </tr>\n",
        "    <tr>\n",
        "      <th>True</th>\n",
        "      <td> 104</td>\n",
        "      <td> 0.400000</td>\n",
        "    </tr>\n",
        "    <tr>\n",
        "      <th>Draw</th>\n",
        "      <td>  59</td>\n",
        "      <td> 0.226923</td>\n",
        "    </tr>\n",
        "    <tr>\n",
        "      <th>NA</th>\n",
        "      <td>   9</td>\n",
        "      <td> 0.034615</td>\n",
        "    </tr>\n",
        "  </tbody>\n",
        "</table>\n",
        "</div>"
       ],
       "metadata": {},
       "output_type": "pyout",
       "prompt_number": 505,
       "text": [
        "          Partidos         %\n",
        "FCB wins                    \n",
        "False           88  0.338462\n",
        "True           104  0.400000\n",
        "Draw            59  0.226923\n",
        "NA               9  0.034615"
       ]
      }
     ],
     "prompt_number": 505
    },
    {
     "cell_type": "markdown",
     "metadata": {},
     "source": [
      "#Further Reading\n",
      "Pandas has much more functionalities. Check out the (very readable) pandas docs if you want to learn more:\n",
      "\n",
      "http://pandas.pydata.org/pandas-docs/stable/"
     ]
    }
   ],
   "metadata": {}
  }
 ]
}