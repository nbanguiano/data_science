{
 "metadata": {
  "name": "",
  "signature": "sha256:c1dcd9c0a44027e24cbfdc47185d285c964706c6c46b193ecf26151b9b65fae6"
 },
 "nbformat": 3,
 "nbformat_minor": 0,
 "worksheets": [
  {
   "cells": [
    {
     "cell_type": "markdown",
     "metadata": {},
     "source": [
      "##Sieve of Eratosthenes"
     ]
    },
    {
     "cell_type": "code",
     "collapsed": false,
     "input": [
      "import numpy as np\n",
      "def sieveOfEratosthenes(n):\n",
      "    \"\"\"sieveOfEratosthenes(n): return the list of the primes < n.\"\"\"\n",
      "    # Code from: <dickinsm@gmail.com>, Nov 30 2006\n",
      "    # http://groups.google.com/group/comp.lang.python/msg/f1f10ced88c68c2d\n",
      "    if n <= 2:\n",
      "        return []\n",
      "    sieve = range(3, n, 2)\n",
      "    top = len(sieve)\n",
      "    for si in sieve:\n",
      "        if si:\n",
      "            bottom = (si*si - 3) / 2\n",
      "            if bottom >= top:\n",
      "                break\n",
      "            sieve[bottom::si] = [0] * -((bottom - top) / si)\n",
      "    return np.array([2] + [el for el in sieve if el])\n"
     ],
     "language": "python",
     "metadata": {},
     "outputs": [],
     "prompt_number": 20
    },
    {
     "cell_type": "code",
     "collapsed": false,
     "input": [
      "print sieveOfEratosthenes(1000)"
     ],
     "language": "python",
     "metadata": {},
     "outputs": [
      {
       "output_type": "stream",
       "stream": "stdout",
       "text": [
        "[  2   3   5   7  11  13  17  19  23  29  31  37  41  43  47  53  59  61\n",
        "  67  71  73  79  83  89  97 101 103 107 109 113 127 131 137 139 149 151\n",
        " 157 163 167 173 179 181 191 193 197 199 211 223 227 229 233 239 241 251\n",
        " 257 263 269 271 277 281 283 293 307 311 313 317 331 337 347 349 353 359\n",
        " 367 373 379 383 389 397 401 409 419 421 431 433 439 443 449 457 461 463\n",
        " 467 479 487 491 499 503 509 521 523 541 547 557 563 569 571 577 587 593\n",
        " 599 601 607 613 617 619 631 641 643 647 653 659 661 673 677 683 691 701\n",
        " 709 719 727 733 739 743 751 757 761 769 773 787 797 809 811 821 823 827\n",
        " 829 839 853 857 859 863 877 881 883 887 907 911 919 929 937 941 947 953\n",
        " 967 971 977 983 991 997]\n"
       ]
      }
     ],
     "prompt_number": 28
    },
    {
     "cell_type": "code",
     "collapsed": false,
     "input": [],
     "language": "python",
     "metadata": {},
     "outputs": []
    }
   ],
   "metadata": {}
  }
 ]
}