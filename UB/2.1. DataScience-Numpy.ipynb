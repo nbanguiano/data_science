{
 "metadata": {
  "name": "",
  "signature": "sha256:6655fc77d76331f2a7d58368ac537d491f4dfe4240121a115d1d8731b704a025"
 },
 "nbformat": 3,
 "nbformat_minor": 0,
 "worksheets": [
  {
   "cells": [
    {
     "cell_type": "markdown",
     "metadata": {},
     "source": [
      "# NUMPY. Numerical Computing with Python\n",
      "\n",
      "Python language is an excellent tool for general-purpose programming, with a highly readable syntax, rich and powerful data types and totally Zen:"
     ]
    },
    {
     "cell_type": "code",
     "collapsed": false,
     "input": [
      "import this"
     ],
     "language": "python",
     "metadata": {},
     "outputs": [
      {
       "output_type": "stream",
       "stream": "stdout",
       "text": [
        "The Zen of Python, by Tim Peters\n",
        "\n",
        "Beautiful is better than ugly.\n",
        "Explicit is better than implicit.\n",
        "Simple is better than complex.\n",
        "Complex is better than complicated.\n",
        "Flat is better than nested.\n",
        "Sparse is better than dense.\n",
        "Readability counts.\n",
        "Special cases aren't special enough to break the rules.\n",
        "Although practicality beats purity.\n",
        "Errors should never pass silently.\n",
        "Unless explicitly silenced.\n",
        "In the face of ambiguity, refuse the temptation to guess.\n",
        "There should be one-- and preferably only one --obvious way to do it.\n",
        "Although that way may not be obvious at first unless you're Dutch.\n",
        "Now is better than never.\n",
        "Although never is often better than *right* now.\n",
        "If the implementation is hard to explain, it's a bad idea.\n",
        "If the implementation is easy to explain, it may be a good idea.\n",
        "Namespaces are one honking great idea -- let's do more of those!\n"
       ]
      }
     ],
     "prompt_number": 1
    },
    {
     "cell_type": "markdown",
     "metadata": {},
     "source": [
      "---\n",
      "\n",
      "However, it was not designed specifically for mathematical and scientific computing.\n",
      "In particular, Python lists are very flexible containers, but they are poorly suited to represent efficiently common mathematical constructs like vectors and matrices. \n",
      "\n",
      "Fortunately, exists the **numpy** package (module) which is a package that provide high-performance vector, matrix and higher-dimensional data structures for Python. It is implemented in C and Fortran so when calculations are vectorized (formulated with vectors and matrices), performance is very good. It is used in almost all numerical computation using Python.\n",
      "\n"
     ]
    },
    {
     "cell_type": "markdown",
     "metadata": {},
     "source": [
      "Why not simply use Python lists for computations instead of creating a new array type?\n",
      "\n",
      "There are several reasons:\n",
      "\n",
      "* Python lists are very general. They can contain any kind of object. They are dynamically typed. They do not support mathematical functions such as matrix and dot multiplications, etc. Implementating such functions for Python lists would not be very efficient because of the dynamic typing.\n",
      "* Numpy arrays are statically typed and homogeneous. The type of the elements is determined when array is created.\n",
      "* Numpy arrays are memory efficient.\n",
      "* Because of the static typing, fast implementation of mathematical functions such as multiplication and addition of numpy arrays can be implemented in a compiled language (C and Fortran is used).\n"
     ]
    },
    {
     "cell_type": "markdown",
     "metadata": {},
     "source": [
      "##Basics of Numpy\n",
      "\n",
      "To use **numpy** it is needed to import the module:"
     ]
    },
    {
     "cell_type": "code",
     "collapsed": false,
     "input": [
      "import numpy as np"
     ],
     "language": "python",
     "metadata": {},
     "outputs": [],
     "prompt_number": 2
    },
    {
     "cell_type": "markdown",
     "metadata": {},
     "source": [
      "##Creating numpy arrays\n",
      "There are a number of ways to initialize new numpy arrays, for example from\n",
      "\n",
      "1. A Python list or tuples\n",
      "2. Using array-generating functions, such as `arange`, `linspace`, etc.\n",
      "3. Reading data from files"
     ]
    },
    {
     "cell_type": "markdown",
     "metadata": {},
     "source": [
      "###1. From a list\n",
      "For example, to create new vector and matrix arrays from Python lists we can use the `numpy.array` function."
     ]
    },
    {
     "cell_type": "code",
     "collapsed": false,
     "input": [
      "# a vector: the argument to the array function is a Python list\n",
      "v = np.array([1,2,3,4])\n",
      "v"
     ],
     "language": "python",
     "metadata": {},
     "outputs": [
      {
       "metadata": {},
       "output_type": "pyout",
       "prompt_number": 3,
       "text": [
        "array([1, 2, 3, 4])"
       ]
      }
     ],
     "prompt_number": 3
    },
    {
     "cell_type": "code",
     "collapsed": false,
     "input": [
      "# a matrix: the argument to the array function is a nested Python list\n",
      "M = np.array([[1, 2], [3, 4]])\n",
      "M"
     ],
     "language": "python",
     "metadata": {},
     "outputs": [
      {
       "metadata": {},
       "output_type": "pyout",
       "prompt_number": 4,
       "text": [
        "array([[1, 2],\n",
        "       [3, 4]])"
       ]
      }
     ],
     "prompt_number": 4
    },
    {
     "cell_type": "markdown",
     "metadata": {},
     "source": [
      "If we want, we can explicitly define the type of the array data when we create it, using the `dtype` keyword argument: "
     ]
    },
    {
     "cell_type": "code",
     "collapsed": false,
     "input": [
      "M = np.array([[1, 2], [3, 4]], dtype=complex)\n",
      "M"
     ],
     "language": "python",
     "metadata": {},
     "outputs": [
      {
       "metadata": {},
       "output_type": "pyout",
       "prompt_number": 5,
       "text": [
        "array([[ 1.+0.j,  2.+0.j],\n",
        "       [ 3.+0.j,  4.+0.j]])"
       ]
      }
     ],
     "prompt_number": 5
    },
    {
     "cell_type": "markdown",
     "metadata": {},
     "source": [
      "Common type that can be used with dtype are: int, float, complex, bool, object, etc.\n",
      "\n",
      "We can also explicitly define the bit size of the data types, for example: int64, int16, float128, complex128."
     ]
    },
    {
     "cell_type": "markdown",
     "metadata": {},
     "source": [
      "###2. Using array-generating functions\n",
      "For larger arrays it is inpractical to initialize the data manually, using explicit python lists. Instead we can use one of the many functions in `numpy` that generates arrays of different forms. Some of the more common are:\n",
      "\n",
      "**Zeros and Ones**"
     ]
    },
    {
     "cell_type": "code",
     "collapsed": false,
     "input": [
      "np.zeros(5, dtype=float)"
     ],
     "language": "python",
     "metadata": {},
     "outputs": [
      {
       "metadata": {},
       "output_type": "pyout",
       "prompt_number": 6,
       "text": [
        "array([ 0.,  0.,  0.,  0.,  0.])"
       ]
      }
     ],
     "prompt_number": 6
    },
    {
     "cell_type": "code",
     "collapsed": false,
     "input": [
      "np.ones(5,dtype=float)"
     ],
     "language": "python",
     "metadata": {},
     "outputs": [
      {
       "metadata": {},
       "output_type": "pyout",
       "prompt_number": 7,
       "text": [
        "array([ 1.,  1.,  1.,  1.,  1.])"
       ]
      }
     ],
     "prompt_number": 7
    },
    {
     "cell_type": "code",
     "collapsed": false,
     "input": [
      "np.zeros((2,3))"
     ],
     "language": "python",
     "metadata": {},
     "outputs": [
      {
       "metadata": {},
       "output_type": "pyout",
       "prompt_number": 8,
       "text": [
        "array([[ 0.,  0.,  0.],\n",
        "       [ 0.,  0.,  0.]])"
       ]
      }
     ],
     "prompt_number": 8
    },
    {
     "cell_type": "markdown",
     "metadata": {},
     "source": [
      "**arange**"
     ]
    },
    {
     "cell_type": "code",
     "collapsed": false,
     "input": [
      "x = np.arange(0, 20, 2) # arguments: start, stop, step\n",
      "x"
     ],
     "language": "python",
     "metadata": {},
     "outputs": [
      {
       "metadata": {},
       "output_type": "pyout",
       "prompt_number": 9,
       "text": [
        "array([ 0,  2,  4,  6,  8, 10, 12, 14, 16, 18])"
       ]
      }
     ],
     "prompt_number": 9
    },
    {
     "cell_type": "markdown",
     "metadata": {},
     "source": [
      "**linspace and logspace**"
     ]
    },
    {
     "cell_type": "code",
     "collapsed": false,
     "input": [
      "print \"A linear grid between 0 and 1:\"\n",
      "print np.linspace(0, 1, 5)\n"
     ],
     "language": "python",
     "metadata": {},
     "outputs": [
      {
       "output_type": "stream",
       "stream": "stdout",
       "text": [
        "A linear grid between 0 and 1:\n",
        "[ 0.    0.25  0.5   0.75  1.  ]\n"
       ]
      }
     ],
     "prompt_number": 10
    },
    {
     "cell_type": "code",
     "collapsed": false,
     "input": [
      "print \"A logarithmic grid between 10**0 and 10**3:\"\n",
      "print np.logspace(0, 3, 10)"
     ],
     "language": "python",
     "metadata": {},
     "outputs": [
      {
       "output_type": "stream",
       "stream": "stdout",
       "text": [
        "A logarithmic grid between 10**0 and 10**3:\n",
        "[    1.             2.15443469     4.64158883    10.            21.5443469\n",
        "    46.41588834   100.           215.443469     464.15888336  1000.        ]\n"
       ]
      }
     ],
     "prompt_number": 11
    },
    {
     "cell_type": "markdown",
     "metadata": {},
     "source": [
      "**Creating random arrays**"
     ]
    },
    {
     "cell_type": "code",
     "collapsed": false,
     "input": [
      "# uniform random numbers in [0,1]\n",
      "np.random.rand(5,5)"
     ],
     "language": "python",
     "metadata": {},
     "outputs": [
      {
       "metadata": {},
       "output_type": "pyout",
       "prompt_number": 12,
       "text": [
        "array([[ 0.69964524,  0.39523174,  0.06523392,  0.29132701,  0.16335162],\n",
        "       [ 0.0868294 ,  0.13752122,  0.20141497,  0.07834765,  0.80792637],\n",
        "       [ 0.13159732,  0.7423136 ,  0.96353661,  0.89549522,  0.8828718 ],\n",
        "       [ 0.63726079,  0.08711263,  0.33718384,  0.59794077,  0.802555  ],\n",
        "       [ 0.58345374,  0.45513143,  0.69470539,  0.89421479,  0.01211151]])"
       ]
      }
     ],
     "prompt_number": 12
    },
    {
     "cell_type": "code",
     "collapsed": false,
     "input": [
      "# 5 samples from a normal distribution with a mean of 10 and a variance of 3:\n",
      "np.random.normal(10, 3, 5)"
     ],
     "language": "python",
     "metadata": {},
     "outputs": [
      {
       "metadata": {},
       "output_type": "pyout",
       "prompt_number": 13,
       "text": [
        "array([  7.95424421,   8.7407477 ,  14.32644758,  11.30682501,  11.69137954])"
       ]
      }
     ],
     "prompt_number": 13
    },
    {
     "cell_type": "markdown",
     "metadata": {},
     "source": [
      "** diag **"
     ]
    },
    {
     "cell_type": "code",
     "collapsed": false,
     "input": [
      "# a diagonal matrix\n",
      "np.diag([1,1,1])"
     ],
     "language": "python",
     "metadata": {},
     "outputs": [
      {
       "metadata": {},
       "output_type": "pyout",
       "prompt_number": 14,
       "text": [
        "array([[1, 0, 0],\n",
        "       [0, 1, 0],\n",
        "       [0, 0, 1]])"
       ]
      }
     ],
     "prompt_number": 14
    },
    {
     "cell_type": "markdown",
     "metadata": {},
     "source": [
      "###3.  Reading data from files\n"
     ]
    },
    {
     "cell_type": "markdown",
     "metadata": {},
     "source": [
      "** Comma-separated values (CSV) **"
     ]
    },
    {
     "cell_type": "markdown",
     "metadata": {},
     "source": [
      "A very common file format for data files are the comma-separated values (CSV), or related format such as TSV (tab-separated values).\n",
      "Open data from https://github.com/datasets\n",
      "\n",
      "[vix-daily.csv](https://raw.githubusercontent.com/datasets/finance-vix/master/data/vix-daily.csv)\n"
     ]
    },
    {
     "cell_type": "code",
     "collapsed": false,
     "input": [
      "# Open data from https://github.com/datasets\n",
      "data = np.genfromtxt('https://raw.githubusercontent.com/datasets/finance-vix/master/data/vix-daily.csv'\\\n",
      "                     ,skip_header=1,delimiter=',')\n",
      "data"
     ],
     "language": "python",
     "metadata": {},
     "outputs": [
      {
       "metadata": {},
       "output_type": "pyout",
       "prompt_number": 15,
       "text": [
        "array([[   nan,  17.96,  18.68,  17.54,  18.22],\n",
        "       [   nan,  18.45,  18.49,  17.44,  17.49],\n",
        "       [   nan,  17.66,  17.67,  16.19,  16.73],\n",
        "       ..., \n",
        "       [   nan,  15.49,  16.43,  15.18,  16.31],\n",
        "       [   nan,  16.44,  17.56,  16.08,  16.71],\n",
        "       [   nan,  16.7 ,  17.98,  15.9 ,  16.16]])"
       ]
      }
     ],
     "prompt_number": 15
    },
    {
     "cell_type": "markdown",
     "metadata": {},
     "source": [
      "*Few remarks on NANs:*\n",
      "\n",
      "By definition, NaN is a float point number which is not equal to any other number \n"
     ]
    },
    {
     "cell_type": "code",
     "collapsed": false,
     "input": [
      "np.nan != np.nan"
     ],
     "language": "python",
     "metadata": {},
     "outputs": [
      {
       "metadata": {},
       "output_type": "pyout",
       "prompt_number": 16,
       "text": [
        "True"
       ]
      }
     ],
     "prompt_number": 16
    },
    {
     "cell_type": "code",
     "collapsed": false,
     "input": [
      "data== np.nan"
     ],
     "language": "python",
     "metadata": {},
     "outputs": [
      {
       "metadata": {},
       "output_type": "pyout",
       "prompt_number": 17,
       "text": [
        "array([[False, False, False, False, False],\n",
        "       [False, False, False, False, False],\n",
        "       [False, False, False, False, False],\n",
        "       ..., \n",
        "       [False, False, False, False, False],\n",
        "       [False, False, False, False, False],\n",
        "       [False, False, False, False, False]], dtype=bool)"
       ]
      }
     ],
     "prompt_number": 17
    },
    {
     "cell_type": "code",
     "collapsed": false,
     "input": [
      "np.isnan(data)"
     ],
     "language": "python",
     "metadata": {},
     "outputs": [
      {
       "metadata": {},
       "output_type": "pyout",
       "prompt_number": 18,
       "text": [
        "array([[ True, False, False, False, False],\n",
        "       [ True, False, False, False, False],\n",
        "       [ True, False, False, False, False],\n",
        "       ..., \n",
        "       [ True, False, False, False, False],\n",
        "       [ True, False, False, False, False],\n",
        "       [ True, False, False, False, False]], dtype=bool)"
       ]
      }
     ],
     "prompt_number": 18
    },
    {
     "cell_type": "code",
     "collapsed": false,
     "input": [
      "help('numpy.genfromtxt')"
     ],
     "language": "python",
     "metadata": {},
     "outputs": [
      {
       "output_type": "stream",
       "stream": "stdout",
       "text": [
        "Help on function genfromtxt in numpy:\n",
        "\n",
        "numpy.genfromtxt = genfromtxt(fname, dtype=<type 'float'>, comments='#', delimiter=None, skiprows=0, skip_header=0, skip_footer=0, converters=None, missing='', missing_values=None, filling_values=None, usecols=None, names=None, excludelist=None, deletechars=None, replace_space='_', autostrip=False, case_sensitive=True, defaultfmt='f%i', unpack=None, usemask=False, loose=True, invalid_raise=True)\n",
        "    Load data from a text file, with missing values handled as specified.\n",
        "    \n",
        "    Each line past the first `skip_header` lines is split at the `delimiter`\n",
        "    character, and characters following the `comments` character are discarded.\n",
        "    \n",
        "    Parameters\n",
        "    ----------\n",
        "    fname : file or str\n",
        "        File, filename, or generator to read.  If the filename extension is\n",
        "        `.gz` or `.bz2`, the file is first decompressed. Note that\n",
        "        generators must return byte strings in Python 3k.\n",
        "    dtype : dtype, optional\n",
        "        Data type of the resulting array.\n",
        "        If None, the dtypes will be determined by the contents of each\n",
        "        column, individually.\n",
        "    comments : str, optional\n",
        "        The character used to indicate the start of a comment.\n",
        "        All the characters occurring on a line after a comment are discarded\n",
        "    delimiter : str, int, or sequence, optional\n",
        "        The string used to separate values.  By default, any consecutive\n",
        "        whitespaces act as delimiter.  An integer or sequence of integers\n",
        "        can also be provided as width(s) of each field.\n",
        "    skip_rows : int, optional\n",
        "        `skip_rows` was deprecated in numpy 1.5, and will be removed in\n",
        "        numpy 2.0. Please use `skip_header` instead.\n",
        "    skip_header : int, optional\n",
        "        The number of lines to skip at the beginning of the file.\n",
        "    skip_footer : int, optional\n",
        "        The number of lines to skip at the end of the file.\n",
        "    converters : variable, optional\n",
        "        The set of functions that convert the data of a column to a value.\n",
        "        The converters can also be used to provide a default value\n",
        "        for missing data: ``converters = {3: lambda s: float(s or 0)}``.\n",
        "    missing : variable, optional\n",
        "        `missing` was deprecated in numpy 1.5, and will be removed in\n",
        "        numpy 2.0. Please use `missing_values` instead.\n",
        "    missing_values : variable, optional\n",
        "        The set of strings corresponding to missing data.\n",
        "    filling_values : variable, optional\n",
        "        The set of values to be used as default when the data are missing.\n",
        "    usecols : sequence, optional\n",
        "        Which columns to read, with 0 being the first.  For example,\n",
        "        ``usecols = (1, 4, 5)`` will extract the 2nd, 5th and 6th columns.\n",
        "    names : {None, True, str, sequence}, optional\n",
        "        If `names` is True, the field names are read from the first valid line\n",
        "        after the first `skip_header` lines.\n",
        "        If `names` is a sequence or a single-string of comma-separated names,\n",
        "        the names will be used to define the field names in a structured dtype.\n",
        "        If `names` is None, the names of the dtype fields will be used, if any.\n",
        "    excludelist : sequence, optional\n",
        "        A list of names to exclude. This list is appended to the default list\n",
        "        ['return','file','print']. Excluded names are appended an underscore:\n",
        "        for example, `file` would become `file_`.\n",
        "    deletechars : str, optional\n",
        "        A string combining invalid characters that must be deleted from the\n",
        "        names.\n",
        "    defaultfmt : str, optional\n",
        "        A format used to define default field names, such as \"f%i\" or \"f_%02i\".\n",
        "    autostrip : bool, optional\n",
        "        Whether to automatically strip white spaces from the variables.\n",
        "    replace_space : char, optional\n",
        "        Character(s) used in replacement of white spaces in the variables\n",
        "        names. By default, use a '_'.\n",
        "    case_sensitive : {True, False, 'upper', 'lower'}, optional\n",
        "        If True, field names are case sensitive.\n",
        "        If False or 'upper', field names are converted to upper case.\n",
        "        If 'lower', field names are converted to lower case.\n",
        "    unpack : bool, optional\n",
        "        If True, the returned array is transposed, so that arguments may be\n",
        "        unpacked using ``x, y, z = loadtxt(...)``\n",
        "    usemask : bool, optional\n",
        "        If True, return a masked array.\n",
        "        If False, return a regular array.\n",
        "    loose : bool, optional\n",
        "        If True, do not raise errors for invalid values.\n",
        "    invalid_raise : bool, optional\n",
        "        If True, an exception is raised if an inconsistency is detected in the\n",
        "        number of columns.\n",
        "        If False, a warning is emitted and the offending lines are skipped.\n",
        "    \n",
        "    Returns\n",
        "    -------\n",
        "    out : ndarray\n",
        "        Data read from the text file. If `usemask` is True, this is a\n",
        "        masked array.\n",
        "    \n",
        "    See Also\n",
        "    --------\n",
        "    numpy.loadtxt : equivalent function when no data is missing.\n",
        "    \n",
        "    Notes\n",
        "    -----\n",
        "    * When spaces are used as delimiters, or when no delimiter has been given\n",
        "      as input, there should not be any missing data between two fields.\n",
        "    * When the variables are named (either by a flexible dtype or with `names`,\n",
        "      there must not be any header in the file (else a ValueError\n",
        "      exception is raised).\n",
        "    * Individual values are not stripped of spaces by default.\n",
        "      When using a custom converter, make sure the function does remove spaces.\n",
        "    \n",
        "    References\n",
        "    ----------\n",
        "    .. [1] Numpy User Guide, section `I/O with Numpy\n",
        "           <http://docs.scipy.org/doc/numpy/user/basics.io.genfromtxt.html>`_.\n",
        "    \n",
        "    Examples\n",
        "    ---------\n",
        "    >>> from StringIO import StringIO\n",
        "    >>> import numpy as np\n",
        "    \n",
        "    Comma delimited file with mixed dtype\n",
        "    \n",
        "    >>> s = StringIO(\"1,1.3,abcde\")\n",
        "    >>> data = np.genfromtxt(s, dtype=[('myint','i8'),('myfloat','f8'),\n",
        "    ... ('mystring','S5')], delimiter=\",\")\n",
        "    >>> data\n",
        "    array((1, 1.3, 'abcde'),\n",
        "          dtype=[('myint', '<i8'), ('myfloat', '<f8'), ('mystring', '|S5')])\n",
        "    \n",
        "    Using dtype = None\n",
        "    \n",
        "    >>> s.seek(0) # needed for StringIO example only\n",
        "    >>> data = np.genfromtxt(s, dtype=None,\n",
        "    ... names = ['myint','myfloat','mystring'], delimiter=\",\")\n",
        "    >>> data\n",
        "    array((1, 1.3, 'abcde'),\n",
        "          dtype=[('myint', '<i8'), ('myfloat', '<f8'), ('mystring', '|S5')])\n",
        "    \n",
        "    Specifying dtype and names\n",
        "    \n",
        "    >>> s.seek(0)\n",
        "    >>> data = np.genfromtxt(s, dtype=\"i8,f8,S5\",\n",
        "    ... names=['myint','myfloat','mystring'], delimiter=\",\")\n",
        "    >>> data\n",
        "    array((1, 1.3, 'abcde'),\n",
        "          dtype=[('myint', '<i8'), ('myfloat', '<f8'), ('mystring', '|S5')])\n",
        "    \n",
        "    An example with fixed-width columns\n",
        "    \n",
        "    >>> s = StringIO(\"11.3abcde\")\n",
        "    >>> data = np.genfromtxt(s, dtype=None, names=['intvar','fltvar','strvar'],\n",
        "    ...     delimiter=[1,3,5])\n",
        "    >>> data\n",
        "    array((1, 1.3, 'abcde'),\n",
        "          dtype=[('intvar', '<i8'), ('fltvar', '<f8'), ('strvar', '|S5')])\n",
        "\n"
       ]
      }
     ],
     "prompt_number": 19
    },
    {
     "cell_type": "code",
     "collapsed": false,
     "input": [
      "#Removing NaN column with\n",
      "# Open data from https://github.com/datasets\n",
      "data = np.genfromtxt('https://raw.githubusercontent.com/datasets/finance-vix/master/data/vix-daily.csv'\\\n",
      "                     ,skip_header=1,delimiter=',',usecols=[1,2,3,4])\n",
      "data"
     ],
     "language": "python",
     "metadata": {},
     "outputs": [
      {
       "metadata": {},
       "output_type": "pyout",
       "prompt_number": 20,
       "text": [
        "array([[ 17.96,  18.68,  17.54,  18.22],\n",
        "       [ 18.45,  18.49,  17.44,  17.49],\n",
        "       [ 17.66,  17.67,  16.19,  16.73],\n",
        "       ..., \n",
        "       [ 15.49,  16.43,  15.18,  16.31],\n",
        "       [ 16.44,  17.56,  16.08,  16.71],\n",
        "       [ 16.7 ,  17.98,  15.9 ,  16.16]])"
       ]
      }
     ],
     "prompt_number": 20
    },
    {
     "cell_type": "markdown",
     "metadata": {},
     "source": [
      "Using `numpy.savetxt` we can store a Numpy array to a file in CSV format:"
     ]
    },
    {
     "cell_type": "code",
     "collapsed": false,
     "input": [
      "M = np.random.rand(3,3)\n",
      "np.savetxt(\"random-matrix.csv\", M, delimiter=',')"
     ],
     "language": "python",
     "metadata": {},
     "outputs": [],
     "prompt_number": 21
    },
    {
     "cell_type": "code",
     "collapsed": false,
     "input": [
      "M = np.random.rand(3,3)\n",
      "np.savetxt(\"random-matrix.csv\", M, delimiter=',')\n",
      "%cat random-matrix.csv"
     ],
     "language": "python",
     "metadata": {},
     "outputs": [
      {
       "output_type": "stream",
       "stream": "stdout",
       "text": [
        "5.910640673515281662e-01,8.855042763781973969e-01,5.122565863785771834e-01\r\n",
        "7.281062612559874303e-01,7.818258361570518122e-01,6.013048096623407890e-01\r\n",
        "3.081644859710013229e-01,2.103965807112021524e-01,5.111093742861938516e-02\r\n"
       ]
      }
     ],
     "prompt_number": 22
    },
    {
     "cell_type": "code",
     "collapsed": false,
     "input": [
      "np.savetxt(\"random-matrix.csv\", M, fmt='%.5f', delimiter= ',') # fmt specifies the format\n",
      "%cat random-matrix.csv"
     ],
     "language": "python",
     "metadata": {},
     "outputs": [
      {
       "output_type": "stream",
       "stream": "stdout",
       "text": [
        "0.59106,0.88550,0.51226\r\n",
        "0.72811,0.78183,0.60130\r\n",
        "0.30816,0.21040,0.05111\r\n"
       ]
      }
     ],
     "prompt_number": 23
    },
    {
     "cell_type": "markdown",
     "metadata": {},
     "source": [
      "To read data from such file into Numpy arrays we can use the `numpy.genfromtxt` function.\n"
     ]
    },
    {
     "cell_type": "code",
     "collapsed": false,
     "input": [
      "data = np.genfromtxt('random-matrix.csv',delimiter=',')\n",
      "data"
     ],
     "language": "python",
     "metadata": {},
     "outputs": [
      {
       "metadata": {},
       "output_type": "pyout",
       "prompt_number": 24,
       "text": [
        "array([[ 0.59106,  0.8855 ,  0.51226],\n",
        "       [ 0.72811,  0.78183,  0.6013 ],\n",
        "       [ 0.30816,  0.2104 ,  0.05111]])"
       ]
      }
     ],
     "prompt_number": 24
    },
    {
     "cell_type": "markdown",
     "metadata": {},
     "source": [
      "** Numpy's native file format **"
     ]
    },
    {
     "cell_type": "code",
     "collapsed": false,
     "input": [
      "np.save(\"random-matrix.npy\", M)\n",
      "!file random-matrix.npy"
     ],
     "language": "python",
     "metadata": {},
     "outputs": [
      {
       "output_type": "stream",
       "stream": "stdout",
       "text": [
        "random-matrix.npy: data\r\n"
       ]
      }
     ],
     "prompt_number": 25
    },
    {
     "cell_type": "code",
     "collapsed": false,
     "input": [
      "np.load(\"random-matrix.npy\")"
     ],
     "language": "python",
     "metadata": {},
     "outputs": [
      {
       "metadata": {},
       "output_type": "pyout",
       "prompt_number": 26,
       "text": [
        "array([[ 0.59106407,  0.88550428,  0.51225659],\n",
        "       [ 0.72810626,  0.78182584,  0.60130481],\n",
        "       [ 0.30816449,  0.21039658,  0.05111094]])"
       ]
      }
     ],
     "prompt_number": 26
    },
    {
     "cell_type": "markdown",
     "metadata": {},
     "source": [
      "##Manipulating arrays\n"
     ]
    },
    {
     "cell_type": "code",
     "collapsed": false,
     "input": [
      "lst = [10, 20, 30, 40]\n",
      "arr = np.array([10, 20, 30, 40],dtype='int64')\n",
      "M = np.array([[10, 20, 30, 40],[50, 60, 70, 80]])"
     ],
     "language": "python",
     "metadata": {},
     "outputs": [],
     "prompt_number": 27
    },
    {
     "cell_type": "markdown",
     "metadata": {},
     "source": [
      "** Element indexing **\n"
     ]
    },
    {
     "cell_type": "code",
     "collapsed": false,
     "input": [
      "#get the first element of list\n",
      "lst[0]"
     ],
     "language": "python",
     "metadata": {},
     "outputs": [
      {
       "metadata": {},
       "output_type": "pyout",
       "prompt_number": 28,
       "text": [
        "10"
       ]
      }
     ],
     "prompt_number": 28
    },
    {
     "cell_type": "code",
     "collapsed": false,
     "input": [
      "#get the first element of array\n",
      "arr[0]"
     ],
     "language": "python",
     "metadata": {},
     "outputs": [
      {
       "metadata": {},
       "output_type": "pyout",
       "prompt_number": 29,
       "text": [
        "10"
       ]
      }
     ],
     "prompt_number": 29
    },
    {
     "cell_type": "code",
     "collapsed": false,
     "input": [
      "# M is a matrix, or a 2 dimensional array, taking two indices \n",
      "M[0,0]"
     ],
     "language": "python",
     "metadata": {},
     "outputs": [
      {
       "metadata": {},
       "output_type": "pyout",
       "prompt_number": 30,
       "text": [
        "10"
       ]
      }
     ],
     "prompt_number": 30
    },
    {
     "cell_type": "markdown",
     "metadata": {},
     "source": [
      "If we omit an index of a multidimensional array it returns the whole row\n",
      "(or, in general, a N-1 dimensional array)"
     ]
    },
    {
     "cell_type": "code",
     "collapsed": false,
     "input": [
      "\n",
      "M[1]"
     ],
     "language": "python",
     "metadata": {},
     "outputs": [
      {
       "metadata": {},
       "output_type": "pyout",
       "prompt_number": 31,
       "text": [
        "array([50, 60, 70, 80])"
       ]
      }
     ],
     "prompt_number": 31
    },
    {
     "cell_type": "markdown",
     "metadata": {},
     "source": [
      "The same thing can be achieved with using `:` instead of an index: "
     ]
    },
    {
     "cell_type": "code",
     "collapsed": false,
     "input": [
      "M[1,:] # row 1"
     ],
     "language": "python",
     "metadata": {},
     "outputs": [
      {
       "metadata": {},
       "output_type": "pyout",
       "prompt_number": 32,
       "text": [
        "array([50, 60, 70, 80])"
       ]
      }
     ],
     "prompt_number": 32
    },
    {
     "cell_type": "code",
     "collapsed": false,
     "input": [
      "M[:,1] # column 1"
     ],
     "language": "python",
     "metadata": {},
     "outputs": [
      {
       "metadata": {},
       "output_type": "pyout",
       "prompt_number": 33,
       "text": [
        "array([20, 60])"
       ]
      }
     ],
     "prompt_number": 33
    },
    {
     "cell_type": "markdown",
     "metadata": {},
     "source": [
      "We can assign new values to elements in an array using indexing:"
     ]
    },
    {
     "cell_type": "code",
     "collapsed": false,
     "input": [
      "M[0,0] = 1\n",
      "M"
     ],
     "language": "python",
     "metadata": {},
     "outputs": [
      {
       "metadata": {},
       "output_type": "pyout",
       "prompt_number": 34,
       "text": [
        "array([[ 1, 20, 30, 40],\n",
        "       [50, 60, 70, 80]])"
       ]
      }
     ],
     "prompt_number": 34
    },
    {
     "cell_type": "code",
     "collapsed": false,
     "input": [
      "# also works for rows and columns\n",
      "M[1,:] = 0\n",
      "M[:,2] = -1\n",
      "M"
     ],
     "language": "python",
     "metadata": {},
     "outputs": [
      {
       "metadata": {},
       "output_type": "pyout",
       "prompt_number": 35,
       "text": [
        "array([[ 1, 20, -1, 40],\n",
        "       [ 0,  0, -1,  0]])"
       ]
      }
     ],
     "prompt_number": 35
    },
    {
     "cell_type": "markdown",
     "metadata": {},
     "source": [
      "Arrays are homogeneous; i.e. all elements of an array must be of the same type\n"
     ]
    },
    {
     "cell_type": "code",
     "collapsed": false,
     "input": [
      "#Lists are heterogeneous\n",
      "lst[1] = 'a string inside a list'\n",
      "lst\n"
     ],
     "language": "python",
     "metadata": {},
     "outputs": [
      {
       "metadata": {},
       "output_type": "pyout",
       "prompt_number": 36,
       "text": [
        "[10, 'a string inside a list', 30, 40]"
       ]
      }
     ],
     "prompt_number": 36
    },
    {
     "cell_type": "code",
     "collapsed": false,
     "input": [
      "#Arrays are homogeneous\n",
      "arr[1] = 'a string inside an array'"
     ],
     "language": "python",
     "metadata": {},
     "outputs": [
      {
       "ename": "ValueError",
       "evalue": "invalid literal for long() with base 10: 'a string inside an array'",
       "output_type": "pyerr",
       "traceback": [
        "\u001b[0;31m---------------------------------------------------------------------------\u001b[0m\n\u001b[0;31mValueError\u001b[0m                                Traceback (most recent call last)",
        "\u001b[0;32m<ipython-input-37-a4dc00e88eca>\u001b[0m in \u001b[0;36m<module>\u001b[0;34m()\u001b[0m\n\u001b[1;32m      1\u001b[0m \u001b[0;31m#Arrays are homogeneous\u001b[0m\u001b[0;34m\u001b[0m\u001b[0;34m\u001b[0m\u001b[0m\n\u001b[0;32m----> 2\u001b[0;31m \u001b[0marr\u001b[0m\u001b[0;34m[\u001b[0m\u001b[0;36m1\u001b[0m\u001b[0;34m]\u001b[0m \u001b[0;34m=\u001b[0m \u001b[0;34m'a string inside an array'\u001b[0m\u001b[0;34m\u001b[0m\u001b[0m\n\u001b[0m",
        "\u001b[0;31mValueError\u001b[0m: invalid literal for long() with base 10: 'a string inside an array'"
       ]
      }
     ],
     "prompt_number": 37
    },
    {
     "cell_type": "markdown",
     "metadata": {},
     "source": [
      "Once an array has been created, its dtype is fixed and it can only store elements of the same type. For this example where the dtype is integer, if we store a floating point number it will be automatically converted into an integer:"
     ]
    },
    {
     "cell_type": "code",
     "collapsed": false,
     "input": [
      "arr[1] = 1.234\n",
      "arr"
     ],
     "language": "python",
     "metadata": {},
     "outputs": [
      {
       "metadata": {},
       "output_type": "pyout",
       "prompt_number": 41,
       "text": [
        "array([10,  1, 30, 40])"
       ]
      }
     ],
     "prompt_number": 41
    },
    {
     "cell_type": "markdown",
     "metadata": {},
     "source": [
      "** Index slicing **"
     ]
    },
    {
     "cell_type": "markdown",
     "metadata": {},
     "source": [
      "Index slicing is the technical name for the syntax `M[lower:upper:step]` to extract part of an array:"
     ]
    },
    {
     "cell_type": "code",
     "collapsed": false,
     "input": [
      "A = np.array([1,2,3,4,5])\n",
      "#slice from second to fourth element, step is one\n",
      "A[1:3:1]"
     ],
     "language": "python",
     "metadata": {},
     "outputs": [
      {
       "metadata": {},
       "output_type": "pyout",
       "prompt_number": 42,
       "text": [
        "array([2, 3])"
       ]
      }
     ],
     "prompt_number": 42
    },
    {
     "cell_type": "markdown",
     "metadata": {},
     "source": [
      "Array slices are *mutable*: if they are assigned a new value the original array from which the slice was extracted is modified:"
     ]
    },
    {
     "cell_type": "code",
     "collapsed": false,
     "input": [
      "A[1:3] = [-2,-3]\n",
      "A"
     ],
     "language": "python",
     "metadata": {},
     "outputs": [
      {
       "metadata": {},
       "output_type": "pyout",
       "prompt_number": 43,
       "text": [
        "array([ 1, -2, -3,  4,  5])"
       ]
      }
     ],
     "prompt_number": 43
    },
    {
     "cell_type": "markdown",
     "metadata": {},
     "source": [
      "We can omit any of the three parameters in `M[lower:upper:step]`, by default `lower` is the beginning , `upper` is the end of the array, and `step` is one"
     ]
    },
    {
     "cell_type": "code",
     "collapsed": false,
     "input": [
      "A[::2] # step is 2, lower and upper defaults to the beginning and end of the array"
     ],
     "language": "python",
     "metadata": {},
     "outputs": [
      {
       "metadata": {},
       "output_type": "pyout",
       "prompt_number": 44,
       "text": [
        "array([ 1, -3,  5])"
       ]
      }
     ],
     "prompt_number": 44
    },
    {
     "cell_type": "code",
     "collapsed": false,
     "input": [
      "A[:3] # first three elements"
     ],
     "language": "python",
     "metadata": {},
     "outputs": [
      {
       "metadata": {},
       "output_type": "pyout",
       "prompt_number": 45,
       "text": [
        "array([ 1, -2, -3])"
       ]
      }
     ],
     "prompt_number": 45
    },
    {
     "cell_type": "code",
     "collapsed": false,
     "input": [
      "A[3:] # elements from index 3"
     ],
     "language": "python",
     "metadata": {},
     "outputs": [
      {
       "metadata": {},
       "output_type": "pyout",
       "prompt_number": 46,
       "text": [
        "array([4, 5])"
       ]
      }
     ],
     "prompt_number": 46
    },
    {
     "cell_type": "markdown",
     "metadata": {},
     "source": [
      "Negative indices counts from the end of the array:"
     ]
    },
    {
     "cell_type": "code",
     "collapsed": false,
     "input": [
      "A[-1] # the last element in the array"
     ],
     "language": "python",
     "metadata": {},
     "outputs": [
      {
       "metadata": {},
       "output_type": "pyout",
       "prompt_number": 47,
       "text": [
        "5"
       ]
      }
     ],
     "prompt_number": 47
    },
    {
     "cell_type": "code",
     "collapsed": false,
     "input": [
      "A[-3:] # the last three elements"
     ],
     "language": "python",
     "metadata": {},
     "outputs": [
      {
       "metadata": {},
       "output_type": "pyout",
       "prompt_number": 48,
       "text": [
        "array([-3,  4,  5])"
       ]
      }
     ],
     "prompt_number": 48
    },
    {
     "cell_type": "code",
     "collapsed": false,
     "input": [
      "A[::-1] #Step backwards, it returns an array with elements in reverse order"
     ],
     "language": "python",
     "metadata": {},
     "outputs": [
      {
       "metadata": {},
       "output_type": "pyout",
       "prompt_number": 49,
       "text": [
        "array([ 5,  4, -3, -2,  1])"
       ]
      }
     ],
     "prompt_number": 49
    },
    {
     "cell_type": "markdown",
     "metadata": {},
     "source": [
      "Index slicing works exactly the same way for multidimensional arrays:"
     ]
    },
    {
     "cell_type": "code",
     "collapsed": false,
     "input": [
      "M"
     ],
     "language": "python",
     "metadata": {},
     "outputs": [
      {
       "metadata": {},
       "output_type": "pyout",
       "prompt_number": 50,
       "text": [
        "array([[ 1, 20, -1, 40],\n",
        "       [ 0,  0, -1,  0]])"
       ]
      }
     ],
     "prompt_number": 50
    },
    {
     "cell_type": "code",
     "collapsed": false,
     "input": [
      "#a block from the original array\n",
      "#all rows, two central columns\n",
      "M[:, 1:3]\n"
     ],
     "language": "python",
     "metadata": {},
     "outputs": [
      {
       "metadata": {},
       "output_type": "pyout",
       "prompt_number": 51,
       "text": [
        "array([[20, -1],\n",
        "       [ 0, -1]])"
       ]
      }
     ],
     "prompt_number": 51
    },
    {
     "cell_type": "code",
     "collapsed": false,
     "input": [
      "# skiping even columns\n",
      "M[:, ::2]"
     ],
     "language": "python",
     "metadata": {},
     "outputs": [
      {
       "metadata": {},
       "output_type": "pyout",
       "prompt_number": 52,
       "text": [
        "array([[ 1, -1],\n",
        "       [ 0, -1]])"
       ]
      }
     ],
     "prompt_number": 52
    },
    {
     "cell_type": "markdown",
     "metadata": {},
     "source": [
      "You can master your **index slicing** abilities by resolving the exercises at the end of this\n",
      "notebook"
     ]
    },
    {
     "cell_type": "markdown",
     "metadata": {},
     "source": [
      "** Comparison operators and value testing **\n",
      "\n",
      "Boolean comparisons can be used to compare members elementwise on arrays of equal size."
     ]
    },
    {
     "cell_type": "code",
     "collapsed": false,
     "input": [
      "a = np.array([1, 3, 0], float) \n",
      "b = np.array([0, 3, 2], float) \n",
      "print a > b \n",
      "print a == b \n",
      "print a <= b "
     ],
     "language": "python",
     "metadata": {},
     "outputs": [
      {
       "output_type": "stream",
       "stream": "stdout",
       "text": [
        "[ True False False]\n",
        "[False  True False]\n",
        "[False  True  True]\n"
       ]
      }
     ],
     "prompt_number": 53
    },
    {
     "cell_type": "code",
     "collapsed": false,
     "input": [
      "a = np.array([1, 3, 0], float) \n",
      "a > 2"
     ],
     "language": "python",
     "metadata": {},
     "outputs": [
      {
       "metadata": {},
       "output_type": "pyout",
       "prompt_number": 54,
       "text": [
        "array([False,  True, False], dtype=bool)"
       ]
      }
     ],
     "prompt_number": 54
    },
    {
     "cell_type": "markdown",
     "metadata": {},
     "source": [
      "The <code>any</code> and <code>all</code> operators can be used to determine whether or not any or all elements of a \n",
      "Boolean array are true: "
     ]
    },
    {
     "cell_type": "code",
     "collapsed": false,
     "input": [
      "c = np.array([ True, False, False], bool) \n",
      "print any(c), all(c)"
     ],
     "language": "python",
     "metadata": {},
     "outputs": [
      {
       "output_type": "stream",
       "stream": "stdout",
       "text": [
        "True False\n"
       ]
      }
     ],
     "prompt_number": 55
    },
    {
     "cell_type": "markdown",
     "metadata": {},
     "source": [
      "The ``where`` function forms a new array from two arrays of equivalent size using a Boolean filter  to choose between elements of the two. Its basic syntax is: <br>\n",
      "<code>where(boolarray, truearray, falsearray)</code>"
     ]
    },
    {
     "cell_type": "code",
     "collapsed": false,
     "input": [
      "a = np.array([1, 3, 0], float) \n",
      "np.where(a != 0, 1 / a, a) "
     ],
     "language": "python",
     "metadata": {},
     "outputs": [
      {
       "output_type": "stream",
       "stream": "stderr",
       "text": [
        "-c:2: RuntimeWarning: divide by zero encountered in divide\n"
       ]
      },
      {
       "metadata": {},
       "output_type": "pyout",
       "prompt_number": 56,
       "text": [
        "array([ 1.        ,  0.33333333,  0.        ])"
       ]
      }
     ],
     "prompt_number": 56
    },
    {
     "cell_type": "markdown",
     "metadata": {},
     "source": [
      "** Indexing with other arrays  (*Fancy indexing*)** \n",
      "\n",
      "Arrays allow for a more sophisticated kind of indexing: you can index an array with another array, and in particular with an array of boolean values.  This is particluarly useful to **filter**\n",
      "information from an array that matches a certain condition."
     ]
    },
    {
     "cell_type": "code",
     "collapsed": false,
     "input": [
      "print arr\n",
      "row_indices = [1, 2, 3]\n",
      "arr[row_indices]"
     ],
     "language": "python",
     "metadata": {},
     "outputs": [
      {
       "output_type": "stream",
       "stream": "stdout",
       "text": [
        "[10  1 30 40]\n"
       ]
      },
      {
       "metadata": {},
       "output_type": "pyout",
       "prompt_number": 57,
       "text": [
        "array([ 1, 30, 40])"
       ]
      }
     ],
     "prompt_number": 57
    },
    {
     "cell_type": "code",
     "collapsed": false,
     "input": [
      "mask = arr < 9 # construct a boolean array \n",
      "               #where i-th eleement is True if the i-th element of arr is less than 9\n",
      "mask"
     ],
     "language": "python",
     "metadata": {},
     "outputs": [
      {
       "metadata": {},
       "output_type": "pyout",
       "prompt_number": 58,
       "text": [
        "array([False,  True, False, False], dtype=bool)"
       ]
      }
     ],
     "prompt_number": 58
    },
    {
     "cell_type": "markdown",
     "metadata": {},
     "source": [
      "The index mask can be converted to position index using the `where` function"
     ]
    },
    {
     "cell_type": "code",
     "collapsed": false,
     "input": [
      "indices = np.where(mask)\n",
      "indices"
     ],
     "language": "python",
     "metadata": {},
     "outputs": [
      {
       "metadata": {},
       "output_type": "pyout",
       "prompt_number": 59,
       "text": [
        "(array([1]),)"
       ]
      }
     ],
     "prompt_number": 59
    },
    {
     "cell_type": "code",
     "collapsed": false,
     "input": [
      "print 'Values below 9:', arr[mask]"
     ],
     "language": "python",
     "metadata": {},
     "outputs": [
      {
       "output_type": "stream",
       "stream": "stdout",
       "text": [
        "Values below 9: [1]\n"
       ]
      }
     ],
     "prompt_number": 60
    },
    {
     "cell_type": "code",
     "collapsed": false,
     "input": [
      "print 'Resetting all values below 9 to 10...'\n",
      "arr[mask] = 10\n",
      "print arr"
     ],
     "language": "python",
     "metadata": {},
     "outputs": [
      {
       "output_type": "stream",
       "stream": "stdout",
       "text": [
        "Resetting all values below 9 to 10...\n",
        "[10 10 30 40]\n"
       ]
      }
     ],
     "prompt_number": 61
    },
    {
     "cell_type": "markdown",
     "metadata": {},
     "source": [
      "It is also possible to select using integer arrays that represent indexes."
     ]
    },
    {
     "cell_type": "code",
     "collapsed": false,
     "input": [
      "a = np.array([2, 4, 6, 8], float) \n",
      "b = np.array([0, 0, 1, 3, 2, 1], int)  # the 0th, 0th, 1st, 3rd, 2nd, and 1st elements of a\n",
      "a[b] "
     ],
     "language": "python",
     "metadata": {},
     "outputs": [
      {
       "metadata": {},
       "output_type": "pyout",
       "prompt_number": 62,
       "text": [
        "array([ 2.,  2.,  4.,  8.,  6.,  4.])"
       ]
      }
     ],
     "prompt_number": 62
    },
    {
     "cell_type": "markdown",
     "metadata": {},
     "source": [
      "For multidimensional arrays, we have to send multiple one-dimensional integer arrays to the \n",
      "selection bracket, one for each axis."
     ]
    },
    {
     "cell_type": "code",
     "collapsed": false,
     "input": [
      "a = np.array([[1, 4], [9, 16]], float) \n",
      "b = np.array([0, 0, 1, 1, 0], int) \n",
      "c = np.array([0, 1, 1, 1, 1], int) \n",
      "a[b,c] "
     ],
     "language": "python",
     "metadata": {},
     "outputs": [
      {
       "metadata": {},
       "output_type": "pyout",
       "prompt_number": 63,
       "text": [
        "array([  1.,   4.,  16.,  16.,   4.])"
       ]
      }
     ],
     "prompt_number": 63
    },
    {
     "cell_type": "markdown",
     "metadata": {},
     "source": [
      "## Array Attributes and Methods\n",
      "The information about the type of an array is contained in its *dtype* attribute:"
     ]
    },
    {
     "cell_type": "code",
     "collapsed": false,
     "input": [
      "# arr is an object of the type ndarray that the numpy module provides.\n",
      "type(arr)"
     ],
     "language": "python",
     "metadata": {},
     "outputs": [
      {
       "metadata": {},
       "output_type": "pyout",
       "prompt_number": 64,
       "text": [
        "numpy.ndarray"
       ]
      }
     ],
     "prompt_number": 64
    },
    {
     "cell_type": "code",
     "collapsed": false,
     "input": [
      "arr.dtype"
     ],
     "language": "python",
     "metadata": {},
     "outputs": [
      {
       "metadata": {},
       "output_type": "pyout",
       "prompt_number": 65,
       "text": [
        "dtype('int64')"
       ]
      }
     ],
     "prompt_number": 65
    },
    {
     "cell_type": "markdown",
     "metadata": {},
     "source": [
      "The difference between the `arr` and `M` arrays is only their shapes. We can get information about the shape of an array by using the `ndarray.shape` property."
     ]
    },
    {
     "cell_type": "code",
     "collapsed": false,
     "input": [
      "a = np.array([1, 3, 0], float) \n",
      "a > 2"
     ],
     "language": "python",
     "metadata": {},
     "outputs": [
      {
       "metadata": {},
       "output_type": "pyout",
       "prompt_number": 66,
       "text": [
        "array([False,  True, False], dtype=bool)"
       ]
      }
     ],
     "prompt_number": 66
    },
    {
     "cell_type": "code",
     "collapsed": false,
     "input": [
      "arr.shape"
     ],
     "language": "python",
     "metadata": {},
     "outputs": [
      {
       "metadata": {},
       "output_type": "pyout",
       "prompt_number": 67,
       "text": [
        "(4,)"
       ]
      }
     ],
     "prompt_number": 67
    },
    {
     "cell_type": "code",
     "collapsed": false,
     "input": [
      "M.shape"
     ],
     "language": "python",
     "metadata": {},
     "outputs": [
      {
       "metadata": {},
       "output_type": "pyout",
       "prompt_number": 68,
       "text": [
        "(2, 4)"
       ]
      }
     ],
     "prompt_number": 68
    },
    {
     "cell_type": "markdown",
     "metadata": {},
     "source": [
      "The number of elements in the array is available through the `ndarray.size` property:"
     ]
    },
    {
     "cell_type": "code",
     "collapsed": false,
     "input": [
      "M.size"
     ],
     "language": "python",
     "metadata": {},
     "outputs": [
      {
       "metadata": {},
       "output_type": "pyout",
       "prompt_number": 69,
       "text": [
        "8"
       ]
      }
     ],
     "prompt_number": 69
    },
    {
     "cell_type": "markdown",
     "metadata": {},
     "source": [
      "Equivalently, we could use the function `numpy.shape` and `numpy.size`"
     ]
    },
    {
     "cell_type": "code",
     "collapsed": false,
     "input": [
      "np.shape(M)"
     ],
     "language": "python",
     "metadata": {},
     "outputs": [
      {
       "metadata": {},
       "output_type": "pyout",
       "prompt_number": 70,
       "text": [
        "(2, 4)"
       ]
      }
     ],
     "prompt_number": 70
    },
    {
     "cell_type": "code",
     "collapsed": false,
     "input": [
      "np.size(M)"
     ],
     "language": "python",
     "metadata": {},
     "outputs": [
      {
       "metadata": {},
       "output_type": "pyout",
       "prompt_number": 71,
       "text": [
        "8"
       ]
      }
     ],
     "prompt_number": 71
    },
    {
     "cell_type": "markdown",
     "metadata": {},
     "source": [
      "** More atrributes **"
     ]
    },
    {
     "cell_type": "code",
     "collapsed": false,
     "input": [
      "arr.itemsize # bytes per element"
     ],
     "language": "python",
     "metadata": {},
     "outputs": [
      {
       "metadata": {},
       "output_type": "pyout",
       "prompt_number": 72,
       "text": [
        "8"
       ]
      }
     ],
     "prompt_number": 72
    },
    {
     "cell_type": "code",
     "collapsed": false,
     "input": [
      "arr.nbytes # number of bytes"
     ],
     "language": "python",
     "metadata": {},
     "outputs": [
      {
       "metadata": {},
       "output_type": "pyout",
       "prompt_number": 73,
       "text": [
        "32"
       ]
      }
     ],
     "prompt_number": 73
    },
    {
     "cell_type": "code",
     "collapsed": false,
     "input": [
      "arr.ndim # number of dimensions"
     ],
     "language": "python",
     "metadata": {},
     "outputs": [
      {
       "metadata": {},
       "output_type": "pyout",
       "prompt_number": 74,
       "text": [
        "1"
       ]
      }
     ],
     "prompt_number": 74
    },
    {
     "cell_type": "markdown",
     "metadata": {},
     "source": [
      "** Useful Methods **"
     ]
    },
    {
     "cell_type": "markdown",
     "metadata": {},
     "source": [
      "NumPy offers a large library of common mathematical functions that can be applied elementwise to arrays. Among these are the functions: <code> abs,sign, sqrt, log, log10, exp, sin, cos, tan, arcsin, arccos, arctan, sinh, cosh, tanh, arcsinh, arccosh, </code> and <code>arctanh </code>. \n"
     ]
    },
    {
     "cell_type": "code",
     "collapsed": false,
     "input": [
      "a = np.array([1, 4, 9], float) \n",
      "np.sqrt(a)"
     ],
     "language": "python",
     "metadata": {},
     "outputs": [
      {
       "metadata": {},
       "output_type": "pyout",
       "prompt_number": 75,
       "text": [
        "array([ 1.,  2.,  3.])"
       ]
      }
     ],
     "prompt_number": 75
    },
    {
     "cell_type": "code",
     "collapsed": false,
     "input": [
      "print 'Minimum and maximum             :', a.min(), a.max()\n",
      "print 'Sum and product of all elements :', a.sum(), a.prod()\n",
      "print 'Mean and standard deviation     :', a.mean(), a.std()"
     ],
     "language": "python",
     "metadata": {},
     "outputs": [
      {
       "output_type": "stream",
       "stream": "stdout",
       "text": [
        "Minimum and maximum             : 1.0 9.0\n",
        "Sum and product of all elements : 14.0 36.0\n",
        "Mean and standard deviation     : 4.66666666667 3.29983164554\n"
       ]
      }
     ],
     "prompt_number": 76
    },
    {
     "cell_type": "markdown",
     "metadata": {},
     "source": [
      "If we want to know which index is the maximum or minimum, it can be done using `argmax` and `argmin`"
     ]
    },
    {
     "cell_type": "code",
     "collapsed": false,
     "input": [
      "np.argmax(a)"
     ],
     "language": "python",
     "metadata": {},
     "outputs": [
      {
       "metadata": {},
       "output_type": "pyout",
       "prompt_number": 77,
       "text": [
        "2"
       ]
      }
     ],
     "prompt_number": 77
    },
    {
     "cell_type": "markdown",
     "metadata": {},
     "source": [
      "For these methods, the above operations area all computed on all the elements of the array.  But for a multidimensional array, it's possible to do the computation along a single dimension, by passing the `axis` parameter; for example:"
     ]
    },
    {
     "cell_type": "code",
     "collapsed": false,
     "input": [
      "print 'For the following array:\\n', M\n",
      "print 'The sum of elements along the rows is    :', M.sum(axis=1)\n",
      "print 'The sum of elements along the columns is :', M.sum(axis=0)"
     ],
     "language": "python",
     "metadata": {},
     "outputs": [
      {
       "output_type": "stream",
       "stream": "stdout",
       "text": [
        "For the following array:\n",
        "[[ 1 20 -1 40]\n",
        " [ 0  0 -1  0]]\n",
        "The sum of elements along the rows is    : [60 -1]\n",
        "The sum of elements along the columns is : [ 1 20 -2 40]\n"
       ]
      }
     ],
     "prompt_number": 78
    },
    {
     "cell_type": "markdown",
     "metadata": {},
     "source": [
      "To find unique values in array, we can use the `unique` function:"
     ]
    },
    {
     "cell_type": "code",
     "collapsed": false,
     "input": [
      "print arr\n",
      "np.unique(arr)"
     ],
     "language": "python",
     "metadata": {},
     "outputs": [
      {
       "output_type": "stream",
       "stream": "stdout",
       "text": [
        "[10 10 30 40]\n"
       ]
      },
      {
       "metadata": {},
       "output_type": "pyout",
       "prompt_number": 79,
       "text": [
        "array([10, 30, 40])"
       ]
      }
     ],
     "prompt_number": 79
    },
    {
     "cell_type": "markdown",
     "metadata": {},
     "source": [
      "### Reshaping, resizing and stacking arrays"
     ]
    },
    {
     "cell_type": "markdown",
     "metadata": {},
     "source": [
      "The shape of an Numpy array can be modified without copying the underlaying data, which makes it a fast operation even for large arrays."
     ]
    },
    {
     "cell_type": "code",
     "collapsed": false,
     "input": [
      "print M\n",
      "n, m = M.shape\n",
      "n,m"
     ],
     "language": "python",
     "metadata": {},
     "outputs": [
      {
       "output_type": "stream",
       "stream": "stdout",
       "text": [
        "[[ 1 20 -1 40]\n",
        " [ 0  0 -1  0]]\n"
       ]
      },
      {
       "metadata": {},
       "output_type": "pyout",
       "prompt_number": 80,
       "text": [
        "(2, 4)"
       ]
      }
     ],
     "prompt_number": 80
    },
    {
     "cell_type": "code",
     "collapsed": false,
     "input": [
      "B = M.reshape((1,n*m))\n",
      "print B.shape\n",
      "B"
     ],
     "language": "python",
     "metadata": {},
     "outputs": [
      {
       "output_type": "stream",
       "stream": "stdout",
       "text": [
        "(1, 8)\n"
       ]
      },
      {
       "metadata": {},
       "output_type": "pyout",
       "prompt_number": 81,
       "text": [
        "array([[ 1, 20, -1, 40,  0,  0, -1,  0]])"
       ]
      }
     ],
     "prompt_number": 81
    },
    {
     "cell_type": "code",
     "collapsed": false,
     "input": [
      "B[0,0:4] = 5 # modify the array\n",
      "B"
     ],
     "language": "python",
     "metadata": {},
     "outputs": [
      {
       "metadata": {},
       "output_type": "pyout",
       "prompt_number": 82,
       "text": [
        "array([[ 5,  5,  5,  5,  0,  0, -1,  0]])"
       ]
      }
     ],
     "prompt_number": 82
    },
    {
     "cell_type": "code",
     "collapsed": false,
     "input": [
      "M # and the original variable is also changed. B is only a different view of the same data"
     ],
     "language": "python",
     "metadata": {},
     "outputs": [
      {
       "metadata": {},
       "output_type": "pyout",
       "prompt_number": 83,
       "text": [
        "array([[ 5,  5,  5,  5],\n",
        "       [ 0,  0, -1,  0]])"
       ]
      }
     ],
     "prompt_number": 83
    },
    {
     "cell_type": "markdown",
     "metadata": {},
     "source": [
      "Using function `repeat`, `tile`, `vstack`, `hstack`, and `concatenate` we can create larger vectors and matrices from smaller ones:"
     ]
    },
    {
     "cell_type": "code",
     "collapsed": false,
     "input": [
      "a = np.array([[1, 2], [3, 4]])\n",
      "a"
     ],
     "language": "python",
     "metadata": {},
     "outputs": [
      {
       "metadata": {},
       "output_type": "pyout",
       "prompt_number": 84,
       "text": [
        "array([[1, 2],\n",
        "       [3, 4]])"
       ]
      }
     ],
     "prompt_number": 84
    },
    {
     "cell_type": "code",
     "collapsed": false,
     "input": [
      "# repeat each element 3 times\n",
      "np.repeat(a, 3)"
     ],
     "language": "python",
     "metadata": {},
     "outputs": [
      {
       "metadata": {},
       "output_type": "pyout",
       "prompt_number": 85,
       "text": [
        "array([1, 1, 1, 2, 2, 2, 3, 3, 3, 4, 4, 4])"
       ]
      }
     ],
     "prompt_number": 85
    },
    {
     "cell_type": "code",
     "collapsed": false,
     "input": [
      "# tile the matrix 3 times \n",
      "np.tile(a, 3)"
     ],
     "language": "python",
     "metadata": {},
     "outputs": [
      {
       "metadata": {},
       "output_type": "pyout",
       "prompt_number": 86,
       "text": [
        "array([[1, 2, 1, 2, 1, 2],\n",
        "       [3, 4, 3, 4, 3, 4]])"
       ]
      }
     ],
     "prompt_number": 86
    },
    {
     "cell_type": "code",
     "collapsed": false,
     "input": [
      "np.concatenate((a, np.array([[5, 6]])), axis=0)"
     ],
     "language": "python",
     "metadata": {},
     "outputs": [
      {
       "metadata": {},
       "output_type": "pyout",
       "prompt_number": 87,
       "text": [
        "array([[1, 2],\n",
        "       [3, 4],\n",
        "       [5, 6]])"
       ]
      }
     ],
     "prompt_number": 87
    },
    {
     "cell_type": "markdown",
     "metadata": {},
     "source": [
      "For transposing a matrix, it can be done using the array property T :"
     ]
    },
    {
     "cell_type": "code",
     "collapsed": false,
     "input": [
      "np.concatenate((a, np.array([[5, 6]]).T), axis=1)"
     ],
     "language": "python",
     "metadata": {},
     "outputs": [
      {
       "metadata": {},
       "output_type": "pyout",
       "prompt_number": 88,
       "text": [
        "array([[1, 2, 5],\n",
        "       [3, 4, 6]])"
       ]
      }
     ],
     "prompt_number": 88
    },
    {
     "cell_type": "markdown",
     "metadata": {},
     "source": [
      "**hstack** and **vstack** : shortcuts for concatenate horizontally and vertically"
     ]
    },
    {
     "cell_type": "code",
     "collapsed": false,
     "input": [
      "np.vstack((a,np.array([[5, 6]])))"
     ],
     "language": "python",
     "metadata": {},
     "outputs": [
      {
       "metadata": {},
       "output_type": "pyout",
       "prompt_number": 89,
       "text": [
        "array([[1, 2],\n",
        "       [3, 4],\n",
        "       [5, 6]])"
       ]
      }
     ],
     "prompt_number": 89
    },
    {
     "cell_type": "code",
     "collapsed": false,
     "input": [
      "np.hstack((a,np.array([[5, 6]]).T))"
     ],
     "language": "python",
     "metadata": {},
     "outputs": [
      {
       "metadata": {},
       "output_type": "pyout",
       "prompt_number": 90,
       "text": [
        "array([[1, 2, 5],\n",
        "       [3, 4, 6]])"
       ]
      }
     ],
     "prompt_number": 90
    },
    {
     "cell_type": "markdown",
     "metadata": {},
     "source": [
      "## Copy and \"deep copy\""
     ]
    },
    {
     "cell_type": "markdown",
     "metadata": {},
     "source": [
      "To achieve high performance, assignments in Python usually do not copy the underlaying objects. This is important for example when objects are passed between functions, to avoid an excessive amount of memory copying when it is not necessary (techincal term: pass by reference)."
     ]
    },
    {
     "cell_type": "code",
     "collapsed": false,
     "input": [
      "A = np.array([[1, 2], [3, 4]])\n",
      "A"
     ],
     "language": "python",
     "metadata": {},
     "outputs": [
      {
       "metadata": {},
       "output_type": "pyout",
       "prompt_number": 91,
       "text": [
        "array([[1, 2],\n",
        "       [3, 4]])"
       ]
      }
     ],
     "prompt_number": 91
    },
    {
     "cell_type": "code",
     "collapsed": false,
     "input": [
      "# now B is referring to the same array data as A \n",
      "B = A "
     ],
     "language": "python",
     "metadata": {},
     "outputs": [],
     "prompt_number": 92
    },
    {
     "cell_type": "code",
     "collapsed": false,
     "input": [
      "# changing B affects A\n",
      "B[0,0] = 10\n",
      "B"
     ],
     "language": "python",
     "metadata": {},
     "outputs": [
      {
       "metadata": {},
       "output_type": "pyout",
       "prompt_number": 93,
       "text": [
        "array([[10,  2],\n",
        "       [ 3,  4]])"
       ]
      }
     ],
     "prompt_number": 93
    },
    {
     "cell_type": "code",
     "collapsed": false,
     "input": [
      "A"
     ],
     "language": "python",
     "metadata": {},
     "outputs": [
      {
       "metadata": {},
       "output_type": "pyout",
       "prompt_number": 94,
       "text": [
        "array([[10,  2],\n",
        "       [ 3,  4]])"
       ]
      }
     ],
     "prompt_number": 94
    },
    {
     "cell_type": "markdown",
     "metadata": {},
     "source": [
      "If we want to avoid this behavior, so that when we get a new completely independent object B copied from A, then we need to do a so-called \"deep copy\" using the function copy:"
     ]
    },
    {
     "cell_type": "code",
     "collapsed": false,
     "input": [
      "B = np.copy(A)"
     ],
     "language": "python",
     "metadata": {},
     "outputs": [],
     "prompt_number": 95
    },
    {
     "cell_type": "code",
     "collapsed": false,
     "input": [
      "# now, if we modify B, A is not affected\n",
      "B[0,0] = -5\n",
      "B"
     ],
     "language": "python",
     "metadata": {},
     "outputs": [
      {
       "metadata": {},
       "output_type": "pyout",
       "prompt_number": 96,
       "text": [
        "array([[-5,  2],\n",
        "       [ 3,  4]])"
       ]
      }
     ],
     "prompt_number": 96
    },
    {
     "cell_type": "code",
     "collapsed": false,
     "input": [
      "A"
     ],
     "language": "python",
     "metadata": {},
     "outputs": [
      {
       "metadata": {},
       "output_type": "pyout",
       "prompt_number": 97,
       "text": [
        "array([[10,  2],\n",
        "       [ 3,  4]])"
       ]
      }
     ],
     "prompt_number": 97
    },
    {
     "cell_type": "markdown",
     "metadata": {},
     "source": [
      "## Operating with arrays\n",
      "Arrays support all regular arithmetic operators, and the numpy library also contains a complete collection of basic mathematical functions that operate on arrays.  It is important to remember that in general, all operations with arrays are applied *element-wise*, i.e., are applied to all the elements of the array at the same time. "
     ]
    },
    {
     "cell_type": "code",
     "collapsed": false,
     "input": [
      "v1 = np.arange(0, 4)\n",
      "v1"
     ],
     "language": "python",
     "metadata": {},
     "outputs": [
      {
       "metadata": {},
       "output_type": "pyout",
       "prompt_number": 98,
       "text": [
        "array([0, 1, 2, 3])"
       ]
      }
     ],
     "prompt_number": 98
    },
    {
     "cell_type": "code",
     "collapsed": false,
     "input": [
      "v1 * 2"
     ],
     "language": "python",
     "metadata": {},
     "outputs": [
      {
       "metadata": {},
       "output_type": "pyout",
       "prompt_number": 99,
       "text": [
        "array([0, 2, 4, 6])"
       ]
      }
     ],
     "prompt_number": 99
    },
    {
     "cell_type": "code",
     "collapsed": false,
     "input": [
      "v1 + 2"
     ],
     "language": "python",
     "metadata": {},
     "outputs": [
      {
       "metadata": {},
       "output_type": "pyout",
       "prompt_number": 100,
       "text": [
        "array([2, 3, 4, 5])"
       ]
      }
     ],
     "prompt_number": 100
    },
    {
     "cell_type": "code",
     "collapsed": false,
     "input": [
      "M*2"
     ],
     "language": "python",
     "metadata": {},
     "outputs": [
      {
       "metadata": {},
       "output_type": "pyout",
       "prompt_number": 101,
       "text": [
        "array([[10, 10, 10, 10],\n",
        "       [ 0,  0, -2,  0]])"
       ]
      }
     ],
     "prompt_number": 101
    },
    {
     "cell_type": "markdown",
     "metadata": {},
     "source": [
      "When we add, subtract, multiply and divide arrays with each other, the default behaviour is **element-wise** operations:"
     ]
    },
    {
     "cell_type": "code",
     "collapsed": false,
     "input": [
      "print M\n",
      "M*M"
     ],
     "language": "python",
     "metadata": {},
     "outputs": [
      {
       "output_type": "stream",
       "stream": "stdout",
       "text": [
        "[[ 5  5  5  5]\n",
        " [ 0  0 -1  0]]\n"
       ]
      },
      {
       "metadata": {},
       "output_type": "pyout",
       "prompt_number": 102,
       "text": [
        "array([[25, 25, 25, 25],\n",
        "       [ 0,  0,  1,  0]])"
       ]
      }
     ],
     "prompt_number": 102
    },
    {
     "cell_type": "code",
     "collapsed": false,
     "input": [
      "v1*v1"
     ],
     "language": "python",
     "metadata": {},
     "outputs": [
      {
       "metadata": {},
       "output_type": "pyout",
       "prompt_number": 103,
       "text": [
        "array([0, 1, 4, 9])"
       ]
      }
     ],
     "prompt_number": 103
    },
    {
     "cell_type": "markdown",
     "metadata": {},
     "source": [
      "If we multiply arrays with compatible shapes, we get an element-wise multiplication of each row:"
     ]
    },
    {
     "cell_type": "code",
     "collapsed": false,
     "input": [
      "M.shape, v1.shape"
     ],
     "language": "python",
     "metadata": {},
     "outputs": [
      {
       "metadata": {},
       "output_type": "pyout",
       "prompt_number": 104,
       "text": [
        "((2, 4), (4,))"
       ]
      }
     ],
     "prompt_number": 104
    },
    {
     "cell_type": "code",
     "collapsed": false,
     "input": [
      "M * v1"
     ],
     "language": "python",
     "metadata": {},
     "outputs": [
      {
       "metadata": {},
       "output_type": "pyout",
       "prompt_number": 105,
       "text": [
        "array([[ 0,  5, 10, 15],\n",
        "       [ 0,  0, -2,  0]])"
       ]
      }
     ],
     "prompt_number": 105
    },
    {
     "cell_type": "markdown",
     "metadata": {},
     "source": [
      "What about matrix mutiplication?  We can  use the `dot` function, which applies a matrix-matrix, matrix-vector, or inner vector multiplication to its two arguments: "
     ]
    },
    {
     "cell_type": "code",
     "collapsed": false,
     "input": [
      "print M\n",
      "print v1\n",
      "np.dot(M,v1)"
     ],
     "language": "python",
     "metadata": {},
     "outputs": [
      {
       "output_type": "stream",
       "stream": "stdout",
       "text": [
        "[[ 5  5  5  5]\n",
        " [ 0  0 -1  0]]\n",
        "[0 1 2 3]\n"
       ]
      },
      {
       "metadata": {},
       "output_type": "pyout",
       "prompt_number": 106,
       "text": [
        "array([30, -2])"
       ]
      }
     ],
     "prompt_number": 106
    },
    {
     "cell_type": "code",
     "collapsed": false,
     "input": [
      "np.dot(v1,v1)"
     ],
     "language": "python",
     "metadata": {},
     "outputs": [
      {
       "metadata": {},
       "output_type": "pyout",
       "prompt_number": 107,
       "text": [
        "14"
       ]
      }
     ],
     "prompt_number": 107
    },
    {
     "cell_type": "markdown",
     "metadata": {},
     "source": [
      "** Broadcasting **"
     ]
    },
    {
     "cell_type": "markdown",
     "metadata": {},
     "source": [
      "Broadcasting means that, in principle, arrays must always match in their dimensionality in order for an operation to be valid, numpy will *broadcast* dimensions when possible. Previous examples of operations with an scalar and a vector is broadcasting:"
     ]
    },
    {
     "cell_type": "code",
     "collapsed": false,
     "input": [
      "print v1\n",
      "v1 + 5"
     ],
     "language": "python",
     "metadata": {},
     "outputs": [
      {
       "output_type": "stream",
       "stream": "stdout",
       "text": [
        "[0 1 2 3]\n"
       ]
      },
      {
       "metadata": {},
       "output_type": "pyout",
       "prompt_number": 108,
       "text": [
        "array([5, 6, 7, 8])"
       ]
      }
     ],
     "prompt_number": 108
    },
    {
     "cell_type": "markdown",
     "metadata": {},
     "source": [
      "We can also broadcast a 1D array to a 2D array, in this case adding a vector to all rows of a matrix:"
     ]
    },
    {
     "cell_type": "code",
     "collapsed": false,
     "input": [
      "np.ones((4, 4)) + v1"
     ],
     "language": "python",
     "metadata": {},
     "outputs": [
      {
       "metadata": {},
       "output_type": "pyout",
       "prompt_number": 109,
       "text": [
        "array([[ 1.,  2.,  3.,  4.],\n",
        "       [ 1.,  2.,  3.,  4.],\n",
        "       [ 1.,  2.,  3.,  4.],\n",
        "       [ 1.,  2.,  3.,  4.]])"
       ]
      }
     ],
     "prompt_number": 109
    },
    {
     "cell_type": "markdown",
     "metadata": {},
     "source": [
      "We can also broadcast in two directions at a time:"
     ]
    },
    {
     "cell_type": "code",
     "collapsed": false,
     "input": [
      "v1.reshape((4, 1)) + np.arange(4)"
     ],
     "language": "python",
     "metadata": {},
     "outputs": [
      {
       "metadata": {},
       "output_type": "pyout",
       "prompt_number": 110,
       "text": [
        "array([[0, 1, 2, 3],\n",
        "       [1, 2, 3, 4],\n",
        "       [2, 3, 4, 5],\n",
        "       [3, 4, 5, 6]])"
       ]
      }
     ],
     "prompt_number": 110
    },
    {
     "cell_type": "markdown",
     "metadata": {},
     "source": [
      "** Rules of Broadcasting **\n",
      "\n",
      "Broadcasting follows the next algorithm:\n",
      "\n",
      "1. If the two arrays differ in their number of dimensions, the shape of the array with fewer dimensions is padded with ones on its leading (left) side.\n",
      "\n",
      "2. If the shape of the two arrays does not match in any dimension, the array with shape equal to 1 in that dimension is stretched to match the other shape.\n",
      "\n",
      "3. If in any dimension the sizes disagree and neither is equal to 1, an error is raised.\n",
      "\n",
      "Note that all of this happens without ever actually creating the stretched arrays in memory! This broadcasting behavior is in practice enormously powerful, especially because when numpy broadcasts to create new dimensions or to `stretch` existing ones, it doesn't actually replicate the data. \n",
      "\n",
      "\n",
      "In the first example: \n",
      "\n",
      "    v1 + 5\n",
      "\n",
      "the operation is carried as if the 5 was a 1-d array with 5 in all of its entries, but no actual array was ever created.\n",
      "\n",
      "In the example\n",
      "\n",
      "    v1.reshape((4, 1)) + np.arange(4)\n",
      "    \n",
      "- the second array is 'promoted' to a 2-dimensional array of shape (1, 4)\n",
      "- the second array is 'stretched' to shape (4, 4)\n",
      "- the first array is 'stretched' to shape (4, 4)\n",
      "\n",
      "Then the operation proceeds as if on two 4 $\\times$ 4 arrays."
     ]
    },
    {
     "cell_type": "code",
     "collapsed": false,
     "input": [
      "np.tile(np.arange(4),(4,1))+ np.tile(v1.reshape((4,1)),4)"
     ],
     "language": "python",
     "metadata": {},
     "outputs": [
      {
       "metadata": {},
       "output_type": "pyout",
       "prompt_number": 111,
       "text": [
        "array([[0, 1, 2, 3],\n",
        "       [1, 2, 3, 4],\n",
        "       [2, 3, 4, 5],\n",
        "       [3, 4, 5, 6]])"
       ]
      }
     ],
     "prompt_number": 111
    },
    {
     "cell_type": "code",
     "collapsed": false,
     "input": [
      "#Broadcasting unrolled\n",
      "print np.tile(np.arange(4),(4,1))\n",
      "print np.tile(v1.reshape((4,1)),4)\n",
      "np.tile(np.arange(4),(4,1)) +  np.tile(v1.reshape((4,1)),4)"
     ],
     "language": "python",
     "metadata": {},
     "outputs": [
      {
       "output_type": "stream",
       "stream": "stdout",
       "text": [
        "[[0 1 2 3]\n",
        " [0 1 2 3]\n",
        " [0 1 2 3]\n",
        " [0 1 2 3]]\n",
        "[[0 0 0 0]\n",
        " [1 1 1 1]\n",
        " [2 2 2 2]\n",
        " [3 3 3 3]]\n"
       ]
      },
      {
       "metadata": {},
       "output_type": "pyout",
       "prompt_number": 112,
       "text": [
        "array([[0, 1, 2, 3],\n",
        "       [1, 2, 3, 4],\n",
        "       [2, 3, 4, 5],\n",
        "       [3, 4, 5, 6]])"
       ]
      }
     ],
     "prompt_number": 112
    },
    {
     "cell_type": "markdown",
     "metadata": {},
     "source": [
      "### Visualizing Broadcasting\n",
      "\n",
      "<img src=\"http://www.astroml.org/_images/fig_broadcast_visual_1.png\">\n",
      "\n",
      "([image source](http://www.astroml.org/book_figures/appendix/fig_broadcast_visual.html))"
     ]
    },
    {
     "cell_type": "markdown",
     "metadata": {},
     "source": [
      "Sometimes, however, we can use the ``newaxis`` constant to specify how we \n",
      "want to broadcast:"
     ]
    },
    {
     "cell_type": "code",
     "collapsed": false,
     "input": [
      "a = np.zeros((2,2), float) \n",
      "b = np.array([-1., 3.], float) \n",
      "print a, b\n",
      "print\n",
      "print a + b \n",
      "print\n",
      "print a + b[np.newaxis,:] \n",
      "print\n",
      "print a + b[:,np.newaxis] "
     ],
     "language": "python",
     "metadata": {},
     "outputs": [
      {
       "output_type": "stream",
       "stream": "stdout",
       "text": [
        "[[ 0.  0.]\n",
        " [ 0.  0.]] [-1.  3.]\n",
        "\n",
        "[[-1.  3.]\n",
        " [-1.  3.]]\n",
        "\n",
        "[[-1.  3.]\n",
        " [-1.  3.]]\n",
        "\n",
        "[[-1. -1.]\n",
        " [ 3.  3.]]\n"
       ]
      }
     ],
     "prompt_number": 113
    },
    {
     "cell_type": "markdown",
     "metadata": {},
     "source": [
      "#Further reading\n",
      "\n",
      "* http://numpy.scipy.org\n",
      "* http://scipy.org/Tentative_NumPy_Tutorial\n",
      "* http://scipy.org/NumPy_for_Matlab_Users - A Numpy guide for MATLAB users."
     ]
    },
    {
     "cell_type": "markdown",
     "metadata": {},
     "source": [
      "#Exercises"
     ]
    },
    {
     "cell_type": "markdown",
     "metadata": {},
     "source": [
      "1) In the following table we have expression values for 5 genes at 4 time points. "
     ]
    },
    {
     "cell_type": "code",
     "collapsed": false,
     "input": [
      "from IPython.lib import display\n",
      "%cat 'genes.csv' \n",
      "FileLink('genes.csv')"
     ],
     "language": "python",
     "metadata": {},
     "outputs": [
      {
       "output_type": "stream",
       "stream": "stdout",
       "text": [
        "Gene name,4h,12h,24h,48h\r\n",
        "A2M,0.12,0.08,0.06,0.02\r\n",
        "FOS,0.01,0.07,0.11,0.09\r\n",
        "BRCA2,0.03,0.04,0.04,0.02\r\n",
        "CPOX,0.05,0.09,0.11,0.14"
       ]
      },
      {
       "html": [
        "<a href='genes.csv' target='_blank'>genes.csv</a><br>"
       ],
       "metadata": {},
       "output_type": "pyout",
       "prompt_number": 116,
       "text": [
        "/Users/eloi/Dropbox/PostGrauDataScience/Curs BBVA/DataScience-Session2/genes.csv"
       ]
      }
     ],
     "prompt_number": 116
    },
    {
     "cell_type": "markdown",
     "metadata": {},
     "source": [
      "   - Create a single array for the data (4x4)\n",
      "   - Find the mean expression value per gene\n",
      "   - Find the mean expression value per time point\n",
      "   - Which gene has the maximum mean expression value? (Use the ``tab`` help on an `array`)"
     ]
    },
    {
     "cell_type": "code",
     "collapsed": false,
     "input": [
      "#Your Code Here"
     ],
     "language": "python",
     "metadata": {},
     "outputs": []
    },
    {
     "cell_type": "markdown",
     "metadata": {},
     "source": [
      "<div class=\"alert alert-info\">`ipythonblocks` is a teaching tool that allows students to experiment with Python flow control concepts and immediately see the effects of their code represented in a colorful, attractive way. BlockGrid objects can be **indexed and sliced like 2D NumPy arrays** making them good practice for learning how to access arrays. </div>"
     ]
    },
    {
     "cell_type": "code",
     "collapsed": false,
     "input": [
      "import os\n",
      "os.chdir('./modules/')\n",
      "from ipythonblocks import BlockGrid\n",
      "from ipythonblocks import colors\n",
      "os.chdir('..')\n",
      "grid = BlockGrid(8, 8, fill=(123, 234, 123))\n",
      "grid.show()"
     ],
     "language": "python",
     "metadata": {},
     "outputs": [
      {
       "html": [
        "<style type=\"text/css\">table.blockgrid {border: none;} .blockgrid tr {border: none;} .blockgrid td {padding: 0px;} #blocksa6ab47f5-2c6f-41cd-858e-ce18d1c4ed0b td {border: 1px solid white;}</style><table id=\"blocksa6ab47f5-2c6f-41cd-858e-ce18d1c4ed0b\" class=\"blockgrid\"><tbody><tr><td title=\"Index: [0, 0]&#10;Color: (123, 234, 123)\" style=\"width: 20px; height: 20px;background-color: rgb(123, 234, 123);\"></td><td title=\"Index: [0, 1]&#10;Color: (123, 234, 123)\" style=\"width: 20px; height: 20px;background-color: rgb(123, 234, 123);\"></td><td title=\"Index: [0, 2]&#10;Color: (123, 234, 123)\" style=\"width: 20px; height: 20px;background-color: rgb(123, 234, 123);\"></td><td title=\"Index: [0, 3]&#10;Color: (123, 234, 123)\" style=\"width: 20px; height: 20px;background-color: rgb(123, 234, 123);\"></td><td title=\"Index: [0, 4]&#10;Color: (123, 234, 123)\" style=\"width: 20px; height: 20px;background-color: rgb(123, 234, 123);\"></td><td title=\"Index: [0, 5]&#10;Color: (123, 234, 123)\" style=\"width: 20px; height: 20px;background-color: rgb(123, 234, 123);\"></td><td title=\"Index: [0, 6]&#10;Color: (123, 234, 123)\" style=\"width: 20px; height: 20px;background-color: rgb(123, 234, 123);\"></td><td title=\"Index: [0, 7]&#10;Color: (123, 234, 123)\" style=\"width: 20px; height: 20px;background-color: rgb(123, 234, 123);\"></td></tr><tr><td title=\"Index: [1, 0]&#10;Color: (123, 234, 123)\" style=\"width: 20px; height: 20px;background-color: rgb(123, 234, 123);\"></td><td title=\"Index: [1, 1]&#10;Color: (123, 234, 123)\" style=\"width: 20px; height: 20px;background-color: rgb(123, 234, 123);\"></td><td title=\"Index: [1, 2]&#10;Color: (123, 234, 123)\" style=\"width: 20px; height: 20px;background-color: rgb(123, 234, 123);\"></td><td title=\"Index: [1, 3]&#10;Color: (123, 234, 123)\" style=\"width: 20px; height: 20px;background-color: rgb(123, 234, 123);\"></td><td title=\"Index: [1, 4]&#10;Color: (123, 234, 123)\" style=\"width: 20px; height: 20px;background-color: rgb(123, 234, 123);\"></td><td title=\"Index: [1, 5]&#10;Color: (123, 234, 123)\" style=\"width: 20px; height: 20px;background-color: rgb(123, 234, 123);\"></td><td title=\"Index: [1, 6]&#10;Color: (123, 234, 123)\" style=\"width: 20px; height: 20px;background-color: rgb(123, 234, 123);\"></td><td title=\"Index: [1, 7]&#10;Color: (123, 234, 123)\" style=\"width: 20px; height: 20px;background-color: rgb(123, 234, 123);\"></td></tr><tr><td title=\"Index: [2, 0]&#10;Color: (123, 234, 123)\" style=\"width: 20px; height: 20px;background-color: rgb(123, 234, 123);\"></td><td title=\"Index: [2, 1]&#10;Color: (123, 234, 123)\" style=\"width: 20px; height: 20px;background-color: rgb(123, 234, 123);\"></td><td title=\"Index: [2, 2]&#10;Color: (123, 234, 123)\" style=\"width: 20px; height: 20px;background-color: rgb(123, 234, 123);\"></td><td title=\"Index: [2, 3]&#10;Color: (123, 234, 123)\" style=\"width: 20px; height: 20px;background-color: rgb(123, 234, 123);\"></td><td title=\"Index: [2, 4]&#10;Color: (123, 234, 123)\" style=\"width: 20px; height: 20px;background-color: rgb(123, 234, 123);\"></td><td title=\"Index: [2, 5]&#10;Color: (123, 234, 123)\" style=\"width: 20px; height: 20px;background-color: rgb(123, 234, 123);\"></td><td title=\"Index: [2, 6]&#10;Color: (123, 234, 123)\" style=\"width: 20px; height: 20px;background-color: rgb(123, 234, 123);\"></td><td title=\"Index: [2, 7]&#10;Color: (123, 234, 123)\" style=\"width: 20px; height: 20px;background-color: rgb(123, 234, 123);\"></td></tr><tr><td title=\"Index: [3, 0]&#10;Color: (123, 234, 123)\" style=\"width: 20px; height: 20px;background-color: rgb(123, 234, 123);\"></td><td title=\"Index: [3, 1]&#10;Color: (123, 234, 123)\" style=\"width: 20px; height: 20px;background-color: rgb(123, 234, 123);\"></td><td title=\"Index: [3, 2]&#10;Color: (123, 234, 123)\" style=\"width: 20px; height: 20px;background-color: rgb(123, 234, 123);\"></td><td title=\"Index: [3, 3]&#10;Color: (123, 234, 123)\" style=\"width: 20px; height: 20px;background-color: rgb(123, 234, 123);\"></td><td title=\"Index: [3, 4]&#10;Color: (123, 234, 123)\" style=\"width: 20px; height: 20px;background-color: rgb(123, 234, 123);\"></td><td title=\"Index: [3, 5]&#10;Color: (123, 234, 123)\" style=\"width: 20px; height: 20px;background-color: rgb(123, 234, 123);\"></td><td title=\"Index: [3, 6]&#10;Color: (123, 234, 123)\" style=\"width: 20px; height: 20px;background-color: rgb(123, 234, 123);\"></td><td title=\"Index: [3, 7]&#10;Color: (123, 234, 123)\" style=\"width: 20px; height: 20px;background-color: rgb(123, 234, 123);\"></td></tr><tr><td title=\"Index: [4, 0]&#10;Color: (123, 234, 123)\" style=\"width: 20px; height: 20px;background-color: rgb(123, 234, 123);\"></td><td title=\"Index: [4, 1]&#10;Color: (123, 234, 123)\" style=\"width: 20px; height: 20px;background-color: rgb(123, 234, 123);\"></td><td title=\"Index: [4, 2]&#10;Color: (123, 234, 123)\" style=\"width: 20px; height: 20px;background-color: rgb(123, 234, 123);\"></td><td title=\"Index: [4, 3]&#10;Color: (123, 234, 123)\" style=\"width: 20px; height: 20px;background-color: rgb(123, 234, 123);\"></td><td title=\"Index: [4, 4]&#10;Color: (123, 234, 123)\" style=\"width: 20px; height: 20px;background-color: rgb(123, 234, 123);\"></td><td title=\"Index: [4, 5]&#10;Color: (123, 234, 123)\" style=\"width: 20px; height: 20px;background-color: rgb(123, 234, 123);\"></td><td title=\"Index: [4, 6]&#10;Color: (123, 234, 123)\" style=\"width: 20px; height: 20px;background-color: rgb(123, 234, 123);\"></td><td title=\"Index: [4, 7]&#10;Color: (123, 234, 123)\" style=\"width: 20px; height: 20px;background-color: rgb(123, 234, 123);\"></td></tr><tr><td title=\"Index: [5, 0]&#10;Color: (123, 234, 123)\" style=\"width: 20px; height: 20px;background-color: rgb(123, 234, 123);\"></td><td title=\"Index: [5, 1]&#10;Color: (123, 234, 123)\" style=\"width: 20px; height: 20px;background-color: rgb(123, 234, 123);\"></td><td title=\"Index: [5, 2]&#10;Color: (123, 234, 123)\" style=\"width: 20px; height: 20px;background-color: rgb(123, 234, 123);\"></td><td title=\"Index: [5, 3]&#10;Color: (123, 234, 123)\" style=\"width: 20px; height: 20px;background-color: rgb(123, 234, 123);\"></td><td title=\"Index: [5, 4]&#10;Color: (123, 234, 123)\" style=\"width: 20px; height: 20px;background-color: rgb(123, 234, 123);\"></td><td title=\"Index: [5, 5]&#10;Color: (123, 234, 123)\" style=\"width: 20px; height: 20px;background-color: rgb(123, 234, 123);\"></td><td title=\"Index: [5, 6]&#10;Color: (123, 234, 123)\" style=\"width: 20px; height: 20px;background-color: rgb(123, 234, 123);\"></td><td title=\"Index: [5, 7]&#10;Color: (123, 234, 123)\" style=\"width: 20px; height: 20px;background-color: rgb(123, 234, 123);\"></td></tr><tr><td title=\"Index: [6, 0]&#10;Color: (123, 234, 123)\" style=\"width: 20px; height: 20px;background-color: rgb(123, 234, 123);\"></td><td title=\"Index: [6, 1]&#10;Color: (123, 234, 123)\" style=\"width: 20px; height: 20px;background-color: rgb(123, 234, 123);\"></td><td title=\"Index: [6, 2]&#10;Color: (123, 234, 123)\" style=\"width: 20px; height: 20px;background-color: rgb(123, 234, 123);\"></td><td title=\"Index: [6, 3]&#10;Color: (123, 234, 123)\" style=\"width: 20px; height: 20px;background-color: rgb(123, 234, 123);\"></td><td title=\"Index: [6, 4]&#10;Color: (123, 234, 123)\" style=\"width: 20px; height: 20px;background-color: rgb(123, 234, 123);\"></td><td title=\"Index: [6, 5]&#10;Color: (123, 234, 123)\" style=\"width: 20px; height: 20px;background-color: rgb(123, 234, 123);\"></td><td title=\"Index: [6, 6]&#10;Color: (123, 234, 123)\" style=\"width: 20px; height: 20px;background-color: rgb(123, 234, 123);\"></td><td title=\"Index: [6, 7]&#10;Color: (123, 234, 123)\" style=\"width: 20px; height: 20px;background-color: rgb(123, 234, 123);\"></td></tr><tr><td title=\"Index: [7, 0]&#10;Color: (123, 234, 123)\" style=\"width: 20px; height: 20px;background-color: rgb(123, 234, 123);\"></td><td title=\"Index: [7, 1]&#10;Color: (123, 234, 123)\" style=\"width: 20px; height: 20px;background-color: rgb(123, 234, 123);\"></td><td title=\"Index: [7, 2]&#10;Color: (123, 234, 123)\" style=\"width: 20px; height: 20px;background-color: rgb(123, 234, 123);\"></td><td title=\"Index: [7, 3]&#10;Color: (123, 234, 123)\" style=\"width: 20px; height: 20px;background-color: rgb(123, 234, 123);\"></td><td title=\"Index: [7, 4]&#10;Color: (123, 234, 123)\" style=\"width: 20px; height: 20px;background-color: rgb(123, 234, 123);\"></td><td title=\"Index: [7, 5]&#10;Color: (123, 234, 123)\" style=\"width: 20px; height: 20px;background-color: rgb(123, 234, 123);\"></td><td title=\"Index: [7, 6]&#10;Color: (123, 234, 123)\" style=\"width: 20px; height: 20px;background-color: rgb(123, 234, 123);\"></td><td title=\"Index: [7, 7]&#10;Color: (123, 234, 123)\" style=\"width: 20px; height: 20px;background-color: rgb(123, 234, 123);\"></td></tr></tbody></table>"
       ],
       "metadata": {},
       "output_type": "display_data",
       "text": [
        "<IPython.core.display.HTML at 0x1043953d0>"
       ]
      }
     ],
     "prompt_number": 118
    },
    {
     "cell_type": "code",
     "collapsed": false,
     "input": [
      "a = np.array(np.zeros([8,8],dtype='int64'))\n",
      "a"
     ],
     "language": "python",
     "metadata": {},
     "outputs": []
    },
    {
     "cell_type": "code",
     "collapsed": false,
     "input": [
      "grid[0, 0] #access to [0,0] element"
     ],
     "language": "python",
     "metadata": {},
     "outputs": []
    },
    {
     "cell_type": "code",
     "collapsed": false,
     "input": [
      "grid[0:2,:] = colors['Teal']\n",
      "grid.show()"
     ],
     "language": "python",
     "metadata": {},
     "outputs": []
    },
    {
     "cell_type": "code",
     "collapsed": false,
     "input": [
      "a[0:2,:] = 1\n",
      "a"
     ],
     "language": "python",
     "metadata": {},
     "outputs": []
    },
    {
     "cell_type": "code",
     "collapsed": false,
     "input": [
      "grid[2,1:] = colors['Blue']\n",
      "grid.show()"
     ],
     "language": "python",
     "metadata": {},
     "outputs": []
    },
    {
     "cell_type": "code",
     "collapsed": false,
     "input": [
      "a[2,1:] = 2\n",
      "a"
     ],
     "language": "python",
     "metadata": {},
     "outputs": []
    },
    {
     "cell_type": "code",
     "collapsed": false,
     "input": [
      "grid[:2,2:3] = colors['Peru']\n",
      "grid.show()"
     ],
     "language": "python",
     "metadata": {},
     "outputs": []
    },
    {
     "cell_type": "code",
     "collapsed": false,
     "input": [
      "a[:2,2:3] = 3\n",
      "a"
     ],
     "language": "python",
     "metadata": {},
     "outputs": []
    },
    {
     "cell_type": "code",
     "collapsed": false,
     "input": [
      "grid[:,::2] = colors['Peru']\n",
      "grid.show()"
     ],
     "language": "python",
     "metadata": {},
     "outputs": []
    },
    {
     "cell_type": "code",
     "collapsed": false,
     "input": [
      "a[:,::2] = 4\n",
      "a"
     ],
     "language": "python",
     "metadata": {},
     "outputs": []
    },
    {
     "cell_type": "code",
     "collapsed": false,
     "input": [
      "grid[::2,::3] = colors['Red']\n",
      "grid.show()"
     ],
     "language": "python",
     "metadata": {},
     "outputs": []
    },
    {
     "cell_type": "code",
     "collapsed": false,
     "input": [
      "a[::2,::3] = 5\n",
      "a"
     ],
     "language": "python",
     "metadata": {},
     "outputs": []
    },
    {
     "cell_type": "markdown",
     "metadata": {},
     "source": [
      "2) Build a graphical representation of all multiple of 3 numbers from 0 to 49 by using exclusively the slicing operator (no iterations). "
     ]
    },
    {
     "cell_type": "code",
     "collapsed": false,
     "input": [
      "grid = BlockGrid(50, 1, block_size=10, fill=(123, 234, 123))\n",
      "grid\n",
      "# Your solution here"
     ],
     "language": "python",
     "metadata": {},
     "outputs": []
    },
    {
     "cell_type": "markdown",
     "metadata": {},
     "source": [
      "3) Build a graphical representation of a chessboard 8x8 by using exclusively the slicing operator (no iterations)."
     ]
    },
    {
     "cell_type": "code",
     "collapsed": false,
     "input": [
      "grid = BlockGrid(8, 8, block_size=20, fill=(0, 0, 0))\n",
      "# Your solution here"
     ],
     "language": "python",
     "metadata": {},
     "outputs": []
    },
    {
     "cell_type": "markdown",
     "metadata": {},
     "source": [
      "4) Build a graphical representation of the prime numbers from 0 to 4999. (Hint: Compute the list of prime numbers and map this list to the grid representation)."
     ]
    },
    {
     "cell_type": "code",
     "collapsed": false,
     "input": [
      "BlockGrid(50, 100, block_size=10, fill=(123, 234, 123))\n",
      "# Your solution here"
     ],
     "language": "python",
     "metadata": {},
     "outputs": []
    },
    {
     "cell_type": "markdown",
     "metadata": {},
     "source": [
      "# Next Notebook session"
     ]
    },
    {
     "cell_type": "code",
     "collapsed": false,
     "input": [
      "from IPython.display import FileLink, FileLinks\n",
      "FileLink('DataScience-Pandas.ipynb')"
     ],
     "language": "python",
     "metadata": {},
     "outputs": [
      {
       "html": [
        "<a href='DataScience-Pandas.ipynb' target='_blank'>DataScience-Pandas.ipynb</a><br>"
       ],
       "metadata": {},
       "output_type": "pyout",
       "prompt_number": 115,
       "text": [
        "/Users/eloi/Dropbox/PostGrauDataScience/Curs BBVA/DataScience-Session2/DataScience-Pandas.ipynb"
       ]
      }
     ],
     "prompt_number": 115
    }
   ],
   "metadata": {}
  }
 ]
}