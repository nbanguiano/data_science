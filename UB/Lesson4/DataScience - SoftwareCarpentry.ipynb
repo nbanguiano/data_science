{
 "metadata": {
  "name": "",
  "signature": "sha256:5ff742fe0ac07c981b7ef3bf238e91127a005795187e8069e158295d711d6ae2"
 },
 "nbformat": 3,
 "nbformat_minor": 0,
 "worksheets": [
  {
   "cells": [
    {
     "cell_type": "markdown",
     "metadata": {},
     "source": [
      "Software Carpentry\n",
      "==================\n",
      "\n",
      "##What does Software Carpentry stands for?\n",
      "\n",
      "In order to be an efficient Data Scientist you need a chain of tools and a methodology for using it:"
     ]
    },
    {
     "cell_type": "markdown",
     "metadata": {},
     "source": [
      "\n",
      "\n",
      "* Programming Language - Python + Numpy + Pandas (&#10004;)\n",
      "* NoSQL Database (&#10004;)\n",
      "* Web Scrapping  (&#10004;)\n",
      "* Command-Line Programs and IDE's (&#10008;)\n",
      "* Defensive Programming (&#10008;)\n",
      "* Debugging (&#10008;)\n",
      "* Profiling (&#10008;)\n",
      "* Version Control (&#10008;)\n",
      "\n",
      "\n"
     ]
    },
    {
     "cell_type": "markdown",
     "metadata": {},
     "source": [
      "#Executing Python Scripts\n",
      "\n",
      "The IPython Notebook and other interactive tools are great for prototyping code and exploring data,\n",
      "but sooner or later we will want to use our program in a pipeline\n",
      "or run it in a shell script to process thousands of data files.\n",
      "In order to do that, we need to make our programs work like other Unix command-line tools.\n",
      "\n",
      "## Download code from Notebook,\n",
      "\n",
      "Open Notebook [numpyExample.ipynb](./numpyExample.ipynb)\n",
      "and downlad as a python program\n",
      "\n",
      "`File` > `Download as` > `Python`"
     ]
    },
    {
     "cell_type": "code",
     "collapsed": false,
     "input": [
      "!cat numpyExample_4.py"
     ],
     "language": "python",
     "metadata": {},
     "outputs": [
      {
       "output_type": "stream",
       "stream": "stdout",
       "text": [
        "\n",
        "# coding: utf-8\n",
        "\n",
        "# ##Sieve of Eratosthenes\n",
        "\n",
        "# In[20]:\n",
        "\n",
        "import numpy as np\n",
        "def sieveOfEratosthenes(n):\n",
        "    \"\"\"sieveOfEratosthenes(n): return the list of the primes < n.\"\"\"\n",
        "    # Code from: <dickinsm@gmail.com>, Nov 30 2006\n",
        "    # http://groups.google.com/group/comp.lang.python/msg/f1f10ced88c68c2d\n",
        "    if n <= 2:\n",
        "        return []\n",
        "    sieve = range(3, n, 2)\n",
        "    top = len(sieve)\n",
        "    for si in sieve:\n",
        "        if si:\n",
        "            bottom = (si*si - 3) / 2\n",
        "            if bottom >= top:\n",
        "                break\n",
        "            sieve[bottom::si] = [0] * -((bottom - top) / si)\n",
        "    return np.array([2] + [el for el in sieve if el])\n",
        "\n",
        "\n",
        "# In[28]:\n",
        "\n",
        "print sieveOfEratosthenes(1000)\n",
        "\n",
        "\n",
        "# In[ ]:\n",
        "\n",
        "\n",
        "\n"
       ]
      }
     ],
     "prompt_number": 3
    },
    {
     "cell_type": "markdown",
     "metadata": {},
     "source": [
      "###Run python program "
     ]
    },
    {
     "cell_type": "code",
     "collapsed": false,
     "input": [
      "%run numpyExample_4.py"
     ],
     "language": "python",
     "metadata": {},
     "outputs": [
      {
       "output_type": "stream",
       "stream": "stdout",
       "text": [
        "[  2   3   5   7  11  13  17  19  23  29  31  37  41  43  47  53  59  61\n",
        "  67  71  73  79  83  89  97 101 103 107 109 113 127 131 137 139 149 151\n",
        " 157 163 167 173 179 181 191 193 197 199 211 223 227 229 233 239 241 251\n",
        " 257 263 269 271 277 281 283 293 307 311 313 317 331 337 347 349 353 359\n",
        " 367 373 379 383 389 397 401 409 419 421 431 433 439 443 449 457 461 463\n",
        " 467 479 487 491 499 503 509 521 523 541 547 557 563 569 571 577 587 593\n",
        " 599 601 607 613 617 619 631 641 643 647 653 659 661 673 677 683 691 701\n",
        " 709 719 727 733 739 743 751 757 761 769 773 787 797 809 811 821 823 827\n",
        " 829 839 853 857 859 863 877 881 883 887 907 911 919 929 937 941 947 953\n",
        " 967 971 977 983 991 997]\n"
       ]
      }
     ],
     "prompt_number": 5
    },
    {
     "cell_type": "markdown",
     "metadata": {},
     "source": [
      "#Python IDE's\n",
      "\n",
      "Spyder is a basic IDE coming along Anaconda distribution. It is open-source (google code) and  cross-platform because it's based on Qt library\n",
      "\n",
      "Main Features can be found here:\n",
      "https://code.google.com/p/spyderlib/wiki/Features\n",
      "\n",
      "Documentation can be found here:\n",
      "https://pythonhosted.org/spyder/\n",
      "\n",
      "\n"
     ]
    },
    {
     "cell_type": "code",
     "collapsed": false,
     "input": [
      "!spyder"
     ],
     "language": "python",
     "metadata": {},
     "outputs": [
      {
       "output_type": "stream",
       "stream": "stdout",
       "text": [
        "WARNING: Unexpected error discovering local network interfaces: 'SysOutput' object has no attribute 'flush'\r\n"
       ]
      }
     ],
     "prompt_number": 9
    },
    {
     "cell_type": "markdown",
     "metadata": {},
     "source": [
      "#Command-Line Arguments\n",
      "\n",
      "##How to handle program arguments:  \n",
      "`sys.argv` \n",
      "\n",
      "The strange name argv stands for \"argument values\". Whenever Python runs a program, it takes all of the values given on the command line and puts them in the list sys.argv so that the program can determine what they were. The first element of the list is the name itself of the program. So the first argument is stored in sys.arg[1]\n",
      "\n"
     ]
    },
    {
     "cell_type": "markdown",
     "metadata": {},
     "source": [
      "In the case of numpyExample.py, if we like to pass `n` as argument we should add something like this:\n",
      "```\n",
      "   if len(sys.argv)!=2:\n",
      "       print 'One Argument is mandatory'\n",
      "   else:\n",
      "       n = sys.argv[1] \n",
      "       print 'List of primes numbers <', n \n",
      "       print sieveOfEratosthenes(n)\n",
      "```"
     ]
    },
    {
     "cell_type": "markdown",
     "metadata": {},
     "source": [
      "However, this code has a flaw: The arguments are **String** types, so a conversion has to be done:\n",
      "\n",
      "```\n",
      "   if len(sys.argv)!=2:\n",
      "       print 'One Argument is mandatory'\n",
      "   else:\n",
      "       n = sys.argv[1] \n",
      "       print 'List of primes numbers <', n \n",
      "       print sieveOfEratosthenes(int(n))\n",
      "```"
     ]
    },
    {
     "cell_type": "code",
     "collapsed": false,
     "input": [
      "%run numpyExampleArgs_4.py 100"
     ],
     "language": "python",
     "metadata": {},
     "outputs": [
      {
       "output_type": "stream",
       "stream": "stdout",
       "text": [
        "List of primes numbers < 100\n",
        "[ 2  3  5  7 11 13 17 19 23 29 31 37 41 43 47 53 59 61 67 71 73 79 83 89 97]\n"
       ]
      }
     ],
     "prompt_number": 7
    },
    {
     "cell_type": "markdown",
     "metadata": {},
     "source": [
      "We can import a .py file to our workspace, like any other module. However it is important to enclose the code that is not inside any function in a `main` clause:\n",
      "\n",
      "``` if __name__ == '__main__':\n",
      "    if len(sys.argv)!=2:\n",
      "           print 'One Argument is mandatory'\n",
      "    else:\n",
      "           n = sys.argv[1] \n",
      "           print 'List of primes numbers <', n \n",
      "           print sieveOfEratosthenes(int(n))\n",
      "```"
     ]
    },
    {
     "cell_type": "code",
     "collapsed": false,
     "input": [
      "import numpyExampleArgs_4 as nea"
     ],
     "language": "python",
     "metadata": {},
     "outputs": [],
     "prompt_number": 5
    },
    {
     "cell_type": "markdown",
     "metadata": {},
     "source": [
      "Once the module is imported any function can be executed."
     ]
    },
    {
     "cell_type": "code",
     "collapsed": false,
     "input": [
      "nea.sieveOfEratosthenes(100)"
     ],
     "language": "python",
     "metadata": {},
     "outputs": [
      {
       "metadata": {},
       "output_type": "pyout",
       "prompt_number": 6,
       "text": [
        "array([ 2,  3,  5,  7, 11, 13, 17, 19, 23, 29, 31, 37, 41, 43, 47, 53, 59,\n",
        "       61, 67, 71, 73, 79, 83, 89, 97])"
       ]
      }
     ],
     "prompt_number": 6
    },
    {
     "cell_type": "markdown",
     "metadata": {},
     "source": [
      "Indeed it still works as stand alone program:"
     ]
    },
    {
     "cell_type": "code",
     "collapsed": false,
     "input": [
      "%run numpyExampleArgs_4 100"
     ],
     "language": "python",
     "metadata": {},
     "outputs": [
      {
       "output_type": "stream",
       "stream": "stdout",
       "text": [
        "List of primes numbers < 100\n",
        "[ 2  3  5  7 11 13 17 19 23 29 31 37 41 43 47 53 59 61 67 71 73 79 83 89 97]\n"
       ]
      }
     ],
     "prompt_number": 8
    },
    {
     "cell_type": "markdown",
     "metadata": {},
     "source": [
      "##Advanced command-line Arguments\n",
      "Argparse module gives functionlities for programming standard command-line behaviours"
     ]
    },
    {
     "cell_type": "code",
     "collapsed": false,
     "input": [
      "!cat numpyExampleArgParse_4.py"
     ],
     "language": "python",
     "metadata": {},
     "outputs": [
      {
       "output_type": "stream",
       "stream": "stdout",
       "text": [
        "\n",
        "# coding: utf-8\n",
        "\n",
        "# ##Sieve of Eratosthenes\n",
        "\n",
        "\n",
        "import argparse\n",
        "\n",
        "import numpy as np\n",
        "def sieveOfEratosthenes(n):\n",
        "    \"\"\"sieveOfEratosthenes(n): return the list of the primes < n.\"\"\"\n",
        "    # Code from: <dickinsm@gmail.com>, Nov 30 2006\n",
        "    # http://groups.google.com/group/comp.lang.python/msg/f1f10ced88c68c2d\n",
        "    if n <= 2:\n",
        "        return []\n",
        "    sieve = range(3, n, 2)\n",
        "    top = len(sieve)\n",
        "    for si in sieve:\n",
        "        if si:\n",
        "            bottom = (si*si - 3) / 2\n",
        "            if bottom >= top:\n",
        "                break\n",
        "            sieve[bottom::si] = [0] * -((bottom - top) / si)\n",
        "    return np.array([2] + [el for el in sieve if el])\n",
        "\n",
        "\n",
        "\n",
        "if __name__ == '__main__':\n",
        "    parser = argparse.ArgumentParser(description=\"Calculate prime numbers until n\")\n",
        "    parser.add_argument(\"n\", help=\"return primes until n\",type=int)\n",
        "    parser.add_argument(\"-v\", \"--verbose\", action=\"store_true\",\n",
        "                    help=\"increase output verbosity\")\n",
        "    args  = parser.parse_args()\n",
        "    n = args.n\n",
        "    answer = sieveOfEratosthenes(n)\n",
        "    if args.verbose:\n",
        "        print \"List of primes numbers < {} is: \\n{}\".format(args.n, answer)\n",
        "    else:\n",
        "        print answer\n",
        "    print  \n",
        "   \n",
        "\n",
        "\n",
        "\n"
       ]
      }
     ],
     "prompt_number": 9
    },
    {
     "cell_type": "code",
     "collapsed": false,
     "input": [
      "%run numpyExampleArgParse_4 -h"
     ],
     "language": "python",
     "metadata": {},
     "outputs": [
      {
       "output_type": "stream",
       "stream": "stdout",
       "text": [
        "usage: numpyExampleArgParse_4.py [-h] [-v] n\n",
        "\n",
        "Calculate prime numbers until n\n",
        "\n",
        "positional arguments:\n",
        "  n              return primes until n\n",
        "\n",
        "optional arguments:\n",
        "  -h, --help     show this help message and exit\n",
        "  -v, --verbose  increase output verbosity\n"
       ]
      }
     ],
     "prompt_number": 18
    },
    {
     "cell_type": "code",
     "collapsed": false,
     "input": [
      "%run numpyExampleArgParse_4.py 20"
     ],
     "language": "python",
     "metadata": {},
     "outputs": [
      {
       "output_type": "stream",
       "stream": "stdout",
       "text": [
        "[ 2  3  5  7 11 13 17 19]\n",
        "\n"
       ]
      }
     ],
     "prompt_number": 15
    },
    {
     "cell_type": "code",
     "collapsed": false,
     "input": [
      "%run numpyExampleArgParse_4.py -v 20"
     ],
     "language": "python",
     "metadata": {},
     "outputs": [
      {
       "output_type": "stream",
       "stream": "stdout",
       "text": [
        "List of primes numbers < 20 is: \n",
        "[ 2  3  5  7 11 13 17 19]\n",
        "\n"
       ]
      }
     ],
     "prompt_number": 17
    },
    {
     "cell_type": "markdown",
     "metadata": {},
     "source": [
      "# Defensive Programming (TESTING)\n",
      "\n",
      "Good programing consists in how to tell whether a program is getting the right answer, and how to tell if it's still getting the right answer as we make changes to it.\n",
      "\n",
      "To achieve that, we need to:\n",
      "\n",
      "* write programs that check their own operation,\n",
      "* write and run tests for widely-used functions,\n",
      "* make sure we **know** what *correct* actually means.\n",
      "\n",
      "\n",
      "## Basic Rules:\n",
      "* A week of hard work can sometimes save you an hour of thought.\n",
      "* Fail early, fail often.\n",
      "* Turn bugs into assertions or tests.\n",
      "* Always initialize from data.\n",
      "* Test the simple things first.\n",
      "* Know what it's supposed to do.\n",
      "* Make it fail every time.\n",
      "* Make it fail fast.\n",
      "* Change one thing at a time, for a reason.\n",
      "* Keep track of what you've done.\n",
      "* Be humble.\n",
      "\n",
      "\n",
      "## Assertions\n",
      "\n",
      "\n",
      "The first step toward getting the right answers from our programs is to assume that mistakes will happen and to guard against them. This is called defensive programming, and the most common way to do it is to add assertions to our code so that it checks itself as it runs. An assertion is simply a statement that something must be true at a certain point in a program. When Python sees one, it checks that the assertion's condition. If it's true, Python does nothing, but if it's false, Python halts the program immediately and prints the error message provided. For example, this piece of code halts as soon as the loop encounters a value that isn't positive:\n"
     ]
    },
    {
     "cell_type": "code",
     "collapsed": false,
     "input": [
      "numbers = [1.5, 2.3, 0.7, -0.001, 4.4]\n",
      "total = 0.0\n",
      "for n in numbers:\n",
      "    assert n >= 0.0, 'Data should only contain positive values'\n",
      "    total += n\n",
      "print 'total is:', total"
     ],
     "language": "python",
     "metadata": {},
     "outputs": [
      {
       "ename": "AssertionError",
       "evalue": "Data should only contain positive values",
       "output_type": "pyerr",
       "traceback": [
        "\u001b[1;31m---------------------------------------------------------------------------\u001b[0m\n\u001b[1;31mAssertionError\u001b[0m                            Traceback (most recent call last)",
        "\u001b[1;32m<ipython-input-21-33d87ea29ae4>\u001b[0m in \u001b[0;36m<module>\u001b[1;34m()\u001b[0m\n\u001b[0;32m      2\u001b[0m \u001b[0mtotal\u001b[0m \u001b[1;33m=\u001b[0m \u001b[1;36m0.0\u001b[0m\u001b[1;33m\u001b[0m\u001b[0m\n\u001b[0;32m      3\u001b[0m \u001b[1;32mfor\u001b[0m \u001b[0mn\u001b[0m \u001b[1;32min\u001b[0m \u001b[0mnumbers\u001b[0m\u001b[1;33m:\u001b[0m\u001b[1;33m\u001b[0m\u001b[0m\n\u001b[1;32m----> 4\u001b[1;33m     \u001b[1;32massert\u001b[0m \u001b[0mn\u001b[0m \u001b[1;33m>=\u001b[0m \u001b[1;36m0.0\u001b[0m\u001b[1;33m,\u001b[0m \u001b[1;34m'Data should only contain positive values'\u001b[0m\u001b[1;33m\u001b[0m\u001b[0m\n\u001b[0m\u001b[0;32m      5\u001b[0m     \u001b[0mtotal\u001b[0m \u001b[1;33m+=\u001b[0m \u001b[0mn\u001b[0m\u001b[1;33m\u001b[0m\u001b[0m\n\u001b[0;32m      6\u001b[0m \u001b[1;32mprint\u001b[0m \u001b[1;34m'total is:'\u001b[0m\u001b[1;33m,\u001b[0m \u001b[0mtotal\u001b[0m\u001b[1;33m\u001b[0m\u001b[0m\n",
        "\u001b[1;31mAssertionError\u001b[0m: Data should only contain positive values"
       ]
      }
     ],
     "prompt_number": 21
    },
    {
     "cell_type": "markdown",
     "metadata": {},
     "source": [
      "Programs like the Firefox browser are full of assertions: 10-20% of the code they contain are there to check that the other 80-90% are working correctly. Broadly speaking, assertions fall into three categories:\n",
      "\n",
      "* A precondition: is something that must be true at the start of a function in order for it to work correctly.\n",
      "* A postcondition: is something that the function guarantees is true when it finishes.\n",
      "* An invariant: is something that is always true at a particular point inside a piece of code.\n",
      "\n",
      "For example, suppose we are representing rectangles using a tuple of four coordinates `(x0, y0, x1, y1)`. In order to do some calculations, we need to normalize the rectangle so that it is at the origin and 1.0 units long on its longest axis. This function does that, but checks that its input is correctly formatted and that its result makes sense:"
     ]
    },
    {
     "cell_type": "code",
     "collapsed": false,
     "input": [
      "def normalize_rectangle(rect):\n",
      "    '''Normalizes a rectangle so that it is at the origin and 1.0 units long on its longest axis.'''\n",
      "    assert len(rect) == 4, 'Rectangles must contain 4 coordinates'\n",
      "    x0, y0, x1, y1 = rect\n",
      "    assert x0 < x1, 'Invalid X coordinates'\n",
      "    assert y0 < y1, 'Invalid Y coordinates'\n",
      "    dx = x1 - x0\n",
      "    dy = y1 - y0\n",
      "    if dx > dy:\n",
      "        scaled = float(dx) / dy\n",
      "        upper_x, upper_y = 1.0, scaled\n",
      "    else:\n",
      "        scaled = float(dx) / dy\n",
      "        upper_x, upper_y = scaled, 1.0\n",
      "\n",
      "    assert 0 < upper_x <= 1.0, 'Calculated upper X coordinate invalid'\n",
      "    assert 0 < upper_y <= 1.0, 'Calculated upper Y coordinate invalid'\n",
      "\n",
      "    return (0, 0, upper_x, upper_y)"
     ],
     "language": "python",
     "metadata": {},
     "outputs": [],
     "prompt_number": 22
    },
    {
     "cell_type": "code",
     "collapsed": false,
     "input": [
      "print normalize_rectangle( (0.0, 1.0, 2.0) ) # missing the fourth coordinate"
     ],
     "language": "python",
     "metadata": {},
     "outputs": [
      {
       "ename": "AssertionError",
       "evalue": "Rectangles must contain 4 coordinates",
       "output_type": "pyerr",
       "traceback": [
        "\u001b[1;31m---------------------------------------------------------------------------\u001b[0m\n\u001b[1;31mAssertionError\u001b[0m                            Traceback (most recent call last)",
        "\u001b[1;32m<ipython-input-23-3a97b1dcab70>\u001b[0m in \u001b[0;36m<module>\u001b[1;34m()\u001b[0m\n\u001b[1;32m----> 1\u001b[1;33m \u001b[1;32mprint\u001b[0m \u001b[0mnormalize_rectangle\u001b[0m\u001b[1;33m(\u001b[0m \u001b[1;33m(\u001b[0m\u001b[1;36m0.0\u001b[0m\u001b[1;33m,\u001b[0m \u001b[1;36m1.0\u001b[0m\u001b[1;33m,\u001b[0m \u001b[1;36m2.0\u001b[0m\u001b[1;33m)\u001b[0m \u001b[1;33m)\u001b[0m \u001b[1;31m# missing the fourth coordinate\u001b[0m\u001b[1;33m\u001b[0m\u001b[0m\n\u001b[0m",
        "\u001b[1;32m<ipython-input-22-69257e453c60>\u001b[0m in \u001b[0;36mnormalize_rectangle\u001b[1;34m(rect)\u001b[0m\n\u001b[0;32m      1\u001b[0m \u001b[1;32mdef\u001b[0m \u001b[0mnormalize_rectangle\u001b[0m\u001b[1;33m(\u001b[0m\u001b[0mrect\u001b[0m\u001b[1;33m)\u001b[0m\u001b[1;33m:\u001b[0m\u001b[1;33m\u001b[0m\u001b[0m\n\u001b[0;32m      2\u001b[0m     \u001b[1;34m'''Normalizes a rectangle so that it is at the origin and 1.0 units long on its longest axis.'''\u001b[0m\u001b[1;33m\u001b[0m\u001b[0m\n\u001b[1;32m----> 3\u001b[1;33m     \u001b[1;32massert\u001b[0m \u001b[0mlen\u001b[0m\u001b[1;33m(\u001b[0m\u001b[0mrect\u001b[0m\u001b[1;33m)\u001b[0m \u001b[1;33m==\u001b[0m \u001b[1;36m4\u001b[0m\u001b[1;33m,\u001b[0m \u001b[1;34m'Rectangles must contain 4 coordinates'\u001b[0m\u001b[1;33m\u001b[0m\u001b[0m\n\u001b[0m\u001b[0;32m      4\u001b[0m     \u001b[0mx0\u001b[0m\u001b[1;33m,\u001b[0m \u001b[0my0\u001b[0m\u001b[1;33m,\u001b[0m \u001b[0mx1\u001b[0m\u001b[1;33m,\u001b[0m \u001b[0my1\u001b[0m \u001b[1;33m=\u001b[0m \u001b[0mrect\u001b[0m\u001b[1;33m\u001b[0m\u001b[0m\n\u001b[0;32m      5\u001b[0m     \u001b[1;32massert\u001b[0m \u001b[0mx0\u001b[0m \u001b[1;33m<\u001b[0m \u001b[0mx1\u001b[0m\u001b[1;33m,\u001b[0m \u001b[1;34m'Invalid X coordinates'\u001b[0m\u001b[1;33m\u001b[0m\u001b[0m\n",
        "\u001b[1;31mAssertionError\u001b[0m: Rectangles must contain 4 coordinates"
       ]
      }
     ],
     "prompt_number": 23
    },
    {
     "cell_type": "code",
     "collapsed": false,
     "input": [
      "print normalize_rectangle( (4.0, 2.0, 1.0, 5.0) ) # X axis inverted"
     ],
     "language": "python",
     "metadata": {},
     "outputs": [
      {
       "ename": "AssertionError",
       "evalue": "Invalid X coordinates",
       "output_type": "pyerr",
       "traceback": [
        "\u001b[1;31m---------------------------------------------------------------------------\u001b[0m\n\u001b[1;31mAssertionError\u001b[0m                            Traceback (most recent call last)",
        "\u001b[1;32m<ipython-input-24-f05ae7878a45>\u001b[0m in \u001b[0;36m<module>\u001b[1;34m()\u001b[0m\n\u001b[1;32m----> 1\u001b[1;33m \u001b[1;32mprint\u001b[0m \u001b[0mnormalize_rectangle\u001b[0m\u001b[1;33m(\u001b[0m \u001b[1;33m(\u001b[0m\u001b[1;36m4.0\u001b[0m\u001b[1;33m,\u001b[0m \u001b[1;36m2.0\u001b[0m\u001b[1;33m,\u001b[0m \u001b[1;36m1.0\u001b[0m\u001b[1;33m,\u001b[0m \u001b[1;36m5.0\u001b[0m\u001b[1;33m)\u001b[0m \u001b[1;33m)\u001b[0m \u001b[1;31m# X axis inverted\u001b[0m\u001b[1;33m\u001b[0m\u001b[0m\n\u001b[0m",
        "\u001b[1;32m<ipython-input-22-69257e453c60>\u001b[0m in \u001b[0;36mnormalize_rectangle\u001b[1;34m(rect)\u001b[0m\n\u001b[0;32m      3\u001b[0m     \u001b[1;32massert\u001b[0m \u001b[0mlen\u001b[0m\u001b[1;33m(\u001b[0m\u001b[0mrect\u001b[0m\u001b[1;33m)\u001b[0m \u001b[1;33m==\u001b[0m \u001b[1;36m4\u001b[0m\u001b[1;33m,\u001b[0m \u001b[1;34m'Rectangles must contain 4 coordinates'\u001b[0m\u001b[1;33m\u001b[0m\u001b[0m\n\u001b[0;32m      4\u001b[0m     \u001b[0mx0\u001b[0m\u001b[1;33m,\u001b[0m \u001b[0my0\u001b[0m\u001b[1;33m,\u001b[0m \u001b[0mx1\u001b[0m\u001b[1;33m,\u001b[0m \u001b[0my1\u001b[0m \u001b[1;33m=\u001b[0m \u001b[0mrect\u001b[0m\u001b[1;33m\u001b[0m\u001b[0m\n\u001b[1;32m----> 5\u001b[1;33m     \u001b[1;32massert\u001b[0m \u001b[0mx0\u001b[0m \u001b[1;33m<\u001b[0m \u001b[0mx1\u001b[0m\u001b[1;33m,\u001b[0m \u001b[1;34m'Invalid X coordinates'\u001b[0m\u001b[1;33m\u001b[0m\u001b[0m\n\u001b[0m\u001b[0;32m      6\u001b[0m     \u001b[1;32massert\u001b[0m \u001b[0my0\u001b[0m \u001b[1;33m<\u001b[0m \u001b[0my1\u001b[0m\u001b[1;33m,\u001b[0m \u001b[1;34m'Invalid Y coordinates'\u001b[0m\u001b[1;33m\u001b[0m\u001b[0m\n\u001b[0;32m      7\u001b[0m     \u001b[0mdx\u001b[0m \u001b[1;33m=\u001b[0m \u001b[0mx1\u001b[0m \u001b[1;33m-\u001b[0m \u001b[0mx0\u001b[0m\u001b[1;33m\u001b[0m\u001b[0m\n",
        "\u001b[1;31mAssertionError\u001b[0m: Invalid X coordinates"
       ]
      }
     ],
     "prompt_number": 24
    },
    {
     "cell_type": "markdown",
     "metadata": {},
     "source": [
      "The post-conditions help us catch bugs by telling us when our calculations cannot have been correct.\n",
      "For example, if we normalize a rectangle that is taller than it is wide everything seems OK:"
     ]
    },
    {
     "cell_type": "code",
     "collapsed": false,
     "input": [
      "print normalize_rectangle( (0.0, 0.0, 1.0, 5.0) )"
     ],
     "language": "python",
     "metadata": {},
     "outputs": [
      {
       "output_type": "stream",
       "stream": "stdout",
       "text": [
        "(0, 0, 0.2, 1.0)\n"
       ]
      }
     ],
     "prompt_number": 25
    },
    {
     "cell_type": "markdown",
     "metadata": {},
     "source": [
      "but if we normalize one that's wider than it is tall, the assertion is triggered:"
     ]
    },
    {
     "cell_type": "code",
     "collapsed": false,
     "input": [
      "print normalize_rectangle( (0.0, 0.0, 5.0, 1.0) )"
     ],
     "language": "python",
     "metadata": {},
     "outputs": [
      {
       "ename": "AssertionError",
       "evalue": "Calculated upper Y coordinate invalid",
       "output_type": "pyerr",
       "traceback": [
        "\u001b[1;31m---------------------------------------------------------------------------\u001b[0m\n\u001b[1;31mAssertionError\u001b[0m                            Traceback (most recent call last)",
        "\u001b[1;32m<ipython-input-26-5f0ef7954aeb>\u001b[0m in \u001b[0;36m<module>\u001b[1;34m()\u001b[0m\n\u001b[1;32m----> 1\u001b[1;33m \u001b[1;32mprint\u001b[0m \u001b[0mnormalize_rectangle\u001b[0m\u001b[1;33m(\u001b[0m \u001b[1;33m(\u001b[0m\u001b[1;36m0.0\u001b[0m\u001b[1;33m,\u001b[0m \u001b[1;36m0.0\u001b[0m\u001b[1;33m,\u001b[0m \u001b[1;36m5.0\u001b[0m\u001b[1;33m,\u001b[0m \u001b[1;36m1.0\u001b[0m\u001b[1;33m)\u001b[0m \u001b[1;33m)\u001b[0m\u001b[1;33m\u001b[0m\u001b[0m\n\u001b[0m",
        "\u001b[1;32m<ipython-input-22-69257e453c60>\u001b[0m in \u001b[0;36mnormalize_rectangle\u001b[1;34m(rect)\u001b[0m\n\u001b[0;32m     15\u001b[0m \u001b[1;33m\u001b[0m\u001b[0m\n\u001b[0;32m     16\u001b[0m     \u001b[1;32massert\u001b[0m \u001b[1;36m0\u001b[0m \u001b[1;33m<\u001b[0m \u001b[0mupper_x\u001b[0m \u001b[1;33m<=\u001b[0m \u001b[1;36m1.0\u001b[0m\u001b[1;33m,\u001b[0m \u001b[1;34m'Calculated upper X coordinate invalid'\u001b[0m\u001b[1;33m\u001b[0m\u001b[0m\n\u001b[1;32m---> 17\u001b[1;33m     \u001b[1;32massert\u001b[0m \u001b[1;36m0\u001b[0m \u001b[1;33m<\u001b[0m \u001b[0mupper_y\u001b[0m \u001b[1;33m<=\u001b[0m \u001b[1;36m1.0\u001b[0m\u001b[1;33m,\u001b[0m \u001b[1;34m'Calculated upper Y coordinate invalid'\u001b[0m\u001b[1;33m\u001b[0m\u001b[0m\n\u001b[0m\u001b[0;32m     18\u001b[0m \u001b[1;33m\u001b[0m\u001b[0m\n\u001b[0;32m     19\u001b[0m     \u001b[1;32mreturn\u001b[0m \u001b[1;33m(\u001b[0m\u001b[1;36m0\u001b[0m\u001b[1;33m,\u001b[0m \u001b[1;36m0\u001b[0m\u001b[1;33m,\u001b[0m \u001b[0mupper_x\u001b[0m\u001b[1;33m,\u001b[0m \u001b[0mupper_y\u001b[0m\u001b[1;33m)\u001b[0m\u001b[1;33m\u001b[0m\u001b[0m\n",
        "\u001b[1;31mAssertionError\u001b[0m: Calculated upper Y coordinate invalid"
       ]
      }
     ],
     "prompt_number": 26
    },
    {
     "cell_type": "markdown",
     "metadata": {},
     "source": [
      "Re-reading our function,\n",
      "we realize that line 10 should divide `dy` by `dx` rather than `dx` by `dy`.\n",
      "(You can display line numbers by typing Ctrl-M, then L.)\n",
      "\n",
      "If we had left out the assertion at the end of the function,\n",
      "we would have created and returned something that had the right shape as a valid answer,\n",
      "but wasn't.\n",
      "Detecting and debugging that would almost certainly have taken more time in the long run\n",
      "than writing the assertion.\n",
      "\n",
      "But assertions aren't just about catching errors:\n",
      "they also help people understand programs.\n",
      "Each assertion gives the person reading the program\n",
      "a chance to check (consciously or otherwise)\n",
      "that their understanding matches what the code is doing.\n",
      "\n",
      "Most good programmers follow two rules when adding assertions to their code.\n",
      "The first is, \"fail early, fail often\". The greater the distance between when and where an error occurs and when it's noticed, the harder the error will be to debug, so good code catches mistakes as early as possible.\n",
      "\n",
      "The second rule is, turn bugs into assertions or tests. If you made a mistake in a piece of code,\n",
      "the odds are good that you have made other mistakes nearby,\n",
      "or will make the same mistake (or a related one)\n",
      "the next time you change it.\n",
      "Writing assertions to check that you haven't regressed\n",
      "(i.e., haven't re-introduced an old problem)\n",
      "can save a lot of time in the long run,\n",
      "and helps to warn people who are reading the code\n",
      "(including your future self) that this bit is tricky."
     ]
    },
    {
     "cell_type": "markdown",
     "metadata": {},
     "source": [
      "Obviously you can catch an AssertionError as any other exception. However this will make that your code stop breaking, which is the opposite idea of assertion!  Assert purpose is to find bugs, try-catch is for handling exceptional situations."
     ]
    },
    {
     "cell_type": "code",
     "collapsed": false,
     "input": [
      "try: \n",
      "    print normalize_rectangle( (4.0, 2.0, 1.0, 5.0) ) # X axis inverted\n",
      "except AssertionError as e:\n",
      "    print 'AssertionError', e"
     ],
     "language": "python",
     "metadata": {},
     "outputs": [
      {
       "output_type": "stream",
       "stream": "stdout",
       "text": [
        "AssertionError Invalid X coordinates\n"
       ]
      }
     ],
     "prompt_number": 11
    },
    {
     "cell_type": "markdown",
     "metadata": {},
     "source": [
      "However, in production code, precondition asserts are often substituted by custom exceptions:"
     ]
    },
    {
     "cell_type": "code",
     "collapsed": false,
     "input": [
      "def normalize_rectangle(rect):\n",
      "    '''Normalizes a rectangle so that it is at the origin and 1.0 units long on its longest axis.'''\n",
      "    if len(rect) != 4:\n",
      "        raise Exception('Rectangles must contain 4 coordinates')\n",
      "    x0, y0, x1, y1 = rect\n",
      "    if x0 > x1:\n",
      "        raise Exception('Invalid X coordinates')\n",
      "    if y0 > y1:\n",
      "        raise Exception('Invalid Y coordinates')\n",
      "    dx = x1 - x0\n",
      "    dy = y1 - y0\n",
      "    if dx > dy:\n",
      "        scaled = float(dy) / dx\n",
      "        upper_x, upper_y = 1.0, scaled\n",
      "    else:\n",
      "        scaled = float(dx) / dy\n",
      "        upper_x, upper_y = scaled, 1.0\n",
      "\n",
      "    assert 0 < upper_x <= 1.0, 'Calculated upper X coordinate invalid'\n",
      "    assert 0 < upper_y <= 1.0, 'Calculated upper Y coordinate invalid'\n",
      "\n",
      "    return (0, 0, upper_x, upper_y)"
     ],
     "language": "python",
     "metadata": {},
     "outputs": [],
     "prompt_number": 12
    },
    {
     "cell_type": "code",
     "collapsed": false,
     "input": [
      "print normalize_rectangle( (0.0, 0.0, 5.0, 1.0) )\n",
      "print normalize_rectangle( (0.0, 0.0, 1.0, 5.0) )\n",
      "try: \n",
      "    print normalize_rectangle( (5.0, 0.0, 1.0, 1.0) )\n",
      "except Exception as e:\n",
      "    print e\n"
     ],
     "language": "python",
     "metadata": {},
     "outputs": [
      {
       "output_type": "stream",
       "stream": "stdout",
       "text": [
        "(0, 0, 1.0, 0.2)\n",
        "(0, 0, 0.2, 1.0)\n",
        "Invalid X coordinates\n"
       ]
      }
     ],
     "prompt_number": 13
    },
    {
     "cell_type": "markdown",
     "metadata": {},
     "source": [
      "## Debugging"
     ]
    },
    {
     "cell_type": "markdown",
     "metadata": {},
     "source": [
      "Once testing has uncovered problems, the next step is to fix them. Many novices do this by making more-or-less random changes to their code until it seems to produce the right answer, but that's very inefficient (and the result is usually only correct for the one case they're testing). The more experienced a programmer is, the more systematically they debug, and most follow some variation on the rules explained below.\n",
      "\n",
      "\n",
      "#### Know What It's Supposed to Do\n",
      "\n",
      "The first step in debugging something is to know what it's supposed to do \n",
      "\"My program doesn't work\" isn't good enough: \n",
      "in order to diagnose and fix problems,\n",
      "we need to be able to tell correct output from incorrect.\n",
      "If we can write a test case for the failing case,\n",
      "if we can assert that with *these* inputs,\n",
      "the function should produce *that* result,\n",
      "then we're ready to start debugging.\n",
      "If we can't, then we need to figure out how we're going to know when we've fixed things.\n",
      "\n",
      "In practice, data scientists tend to do the following:\n",
      "\n",
      "1.  *Test with simplified data.*\n",
      "    Before doing statistics on a real data set,\n",
      "    we should try calculating statistics for a single record,\n",
      "    for two identical records,\n",
      "    for two records whose values are one step apart,\n",
      "    or for some other case where we can calculate the right answer by hand.\n",
      "\n",
      "2.  *Compare to an oracle.*\n",
      "    A test oracle is something, experimental data,\n",
      "    an older program whose results are trusted,\n",
      "    or even a human expert, against which we can compare the results of our new program.\n",
      "    If we have a test oracle, we should store its output for particular cases\n",
      "    so that we can compare it with our new results as often as we like\n",
      "    without re-running that program.\n",
      "\n",
      "3.  *Check conservation laws.*\n",
      "    Mass, energy, and other quantitites are conserved in physical systems,\n",
      "    so they should be in programs as well.\n",
      "    Similarly,\n",
      "    if we are analyzing patient data,\n",
      "    the number of records should either stay the same or decrease\n",
      "    as we move from one analysis to the next\n",
      "    (since we might throw away outliers or records with missing values).\n",
      "    If \"new\" patients start appearing out of nowhere as we move through our pipeline,\n",
      "    it's probably a sign that something is wrong.\n",
      "\n",
      "4.  *Visualize.*\n",
      "    Data analysts frequently use simple visualizations to check both\n",
      "    the science they're doing\n",
      "    and the correctness of their code\n",
      "    This should only be used for debugging as a last resort,\n",
      "    though,\n",
      "    since it's very hard to compare two visualizations automatically.\n",
      "\n",
      "#### Make It Fail Every Time\n",
      "\n",
      "We can only debug something when it fails,\n",
      "so the second step is always to find a test case that\n",
      "makes it fail every time.\n",
      "The \"every time\" part is important because\n",
      "few things are more frustrating than debugging an intermittent problem:\n",
      "if we have to call a function a dozen times to get a single failure,\n",
      "the odds are good that we'll scroll past the failure when it actually occurs.\n",
      "\n",
      "As part of this, it's always important to check that our code is \"plugged in\",\n",
      "that we're actually exercising the problem that we think we are.\n",
      "Every programmer has spent hours chasing a bug,\n",
      "only to realize that they were actually calling their code on the wrong data set\n",
      "or with the wrong configuration parameters,\n",
      "or are using the wrong version of the software entirely.\n",
      "\n",
      "Mistakes like these are particularly likely to happen when we're tired,\n",
      "frustrated, and up against a deadline,\n",
      "which is one of the reasons late-night (or overnight) coding sessions\n",
      "are almost never worthwhile.\n",
      "\n",
      "#### Make It Fail Fast\n",
      "\n",
      "If it takes 20 minutes for the bug to surface,\n",
      "we can only do three experiments an hour.\n",
      "\n",
      "That doesn't must mean we'll get less data in more time:\n",
      "we're also more likely to be distracted by other things as we wait for our program to fail,\n",
      "which means the time we *are* spending on the problem is less focused.\n",
      "It's therefore critical to make it fail fast.\n",
      "\n",
      "As well as making the program fail fast in time,\n",
      "we want to make it fail fast in space, this is,\n",
      "we want to localize the failure to the smallest possible region of code:\n",
      "\n",
      "1.  The smaller the gap between cause and effect,\n",
      "    the easier the connection is to find.\n",
      "    Many programmers therefore use a divide and conquer strategy to find bugs,\n",
      "    i.e.,\n",
      "    if the output of a function is wrong,\n",
      "    they check whether things are OK in the middle,\n",
      "    then concentrate on either the first or second half,\n",
      "    and so on.\n",
      "\n",
      "2.  Every line of code that *isn't* run as part of a test\n",
      "    means more than one thing we don't need to worry about.\n",
      "\n",
      "#### Change One Thing at a Time, For a Reason\n",
      "\n",
      "Replacing random chunks of code is unlikely to do much good.\n",
      "(After all,\n",
      "if you got it wrong the first time,\n",
      "you'll probably get it wrong the second and third as well.)\n",
      "Good programmers therefore\n",
      "change one thing at a time, for a reason.\n",
      "They are either trying to gather more information\n",
      "(\"is the bug still there if we change the order of the loops?\")\n",
      "or test a fix\n",
      "(\"can we make the bug go away by sorting our data before processing it?\").\n",
      "  \n",
      "Every time we make a change,\n",
      "however small,\n",
      "we should re-run our tests immediately,\n",
      "because the more things we change at once,\n",
      "the harder it is to know what's responsible for what\n",
      "And we should re-run *all* of our tests:\n",
      "more than half of fixes made to code introduce (or re-introduce) bugs,\n",
      "so re-running all of our tests tells us whether we have re-introduced a bug that was once fixed.\n",
      "\n",
      "#### Keep Track of What You've Done\n",
      "\n",
      "Good data scientists keep track of what they've done\n",
      "so that they can reproduce their work,\n",
      "and so that they don't waste time repeating the same experiments\n",
      "or running ones whose results won't be interesting.\n",
      "Similarly,\n",
      "debugging works best when we\n",
      "keep track of what we've done\n",
      "and how well it worked.\n",
      "If we find ourselves asking,\n",
      "\"Did left followed by right with an odd number of lines cause the crash?\n",
      "Or was it right followed by left?\n",
      "Or was I using an even number of lines?\"\n",
      "then it's time to step away from the computer,\n",
      "take a deep breath,\n",
      "and start working **more systematically**.\n",
      "  \n",
      "Records are particularly useful when the time comes to ask for help.\n",
      "People are more likely to listen to us\n",
      "when we can explain clearly what we did,\n",
      "and we're better able to give them the information they need to be useful.\n",
      "Version Control Systems are often used to reset software to a known state during debugging,\n",
      "and to explore recent changes to code that might be responsible for bugs. \n",
      "How to use VCS will be introduced later in this notebook. \n",
      "\n",
      "#### ASK for HELP\n",
      "\n",
      "And speaking of help:\n",
      "if we can't find a bug in 10 minutes,\n",
      "we should  ask for help.\n",
      "Just explaining the problem aloud is often useful,\n",
      "since hearing what we're thinking helps us spot inconsistencies and hidden assumptions.\n",
      "\n",
      "Asking for help also helps alleviate confirmation bias.\n",
      "If we have just spent an hour writing a complicated program,\n",
      "we want it to work,\n",
      "so we're likely to keep telling ourselves why it should,\n",
      "rather than searching for the reason it doesn't.\n",
      "People who aren't emotionally invested in the code can be more objective,\n",
      "which is why they're often able to spot the simple mistakes we have overlooked.\n",
      "\n",
      "Programmers tend to get the same things wrong over and over:\n",
      "either they don't understand the language and libraries they're working with,\n",
      "or their model of how things work is wrong.\n",
      "In either case,\n",
      "taking note of why the error occurred\n",
      "and checking for it next time\n",
      "quickly turns into not making the mistake at all.\n",
      "And that is what makes us most productive in the long run.\n",
      "\n",
      "As the saying goes,\n",
      "\"A week of hard work can sometimes save you an hour of thought\"\n",
      "If we train ourselves to avoid making some kinds of mistakes,\n",
      "to break our code into modular, testable chunks,\n",
      "and to turn every assumption (or mistake) into an assertion,\n",
      "it will actually take us *less* time to produce working programs,\n",
      "not more.\n"
     ]
    },
    {
     "cell_type": "markdown",
     "metadata": {},
     "source": [
      "#### How to Debug with ipdb debugger:\n",
      "\n",
      "There are two ways you can use ipdb for debugging:\n",
      "\n",
      "1- run command with -d param "
     ]
    },
    {
     "cell_type": "code",
     "collapsed": false,
     "input": [
      "%run -d numpyExample_4.py"
     ],
     "language": "python",
     "metadata": {},
     "outputs": [
      {
       "output_type": "stream",
       "stream": "stdout",
       "text": [
        "*** Blank or comment\n",
        "*** Blank or comment\n",
        "*** Blank or comment\n",
        "*** Blank or comment\n",
        "*** Blank or comment\n",
        "*** Blank or comment\n",
        "*** Blank or comment\n",
        "*** Blank or comment\n",
        "NOTE: Enter 'c' at the ipdb>  prompt to continue execution.\n",
        "> \u001b[1;32mc:\\users\\nanguiano\\documents\\data_science\\ub\\numpyexample_4.py\u001b[0m(8)\u001b[0;36m<module>\u001b[1;34m()\u001b[0m\n",
        "\u001b[1;32m      7 \u001b[1;33m\u001b[1;33m\u001b[0m\u001b[0m\n",
        "\u001b[0m\u001b[1;32m----> 8 \u001b[1;33m\u001b[1;32mimport\u001b[0m \u001b[0mnumpy\u001b[0m \u001b[1;32mas\u001b[0m \u001b[0mnp\u001b[0m\u001b[1;33m\u001b[0m\u001b[0m\n",
        "\u001b[0m\u001b[1;32m      9 \u001b[1;33m\u001b[1;32mdef\u001b[0m \u001b[0msieveOfEratosthenes\u001b[0m\u001b[1;33m(\u001b[0m\u001b[0mn\u001b[0m\u001b[1;33m)\u001b[0m\u001b[1;33m:\u001b[0m\u001b[1;33m\u001b[0m\u001b[0m\n",
        "\u001b[0m"
       ]
      },
      {
       "output_type": "stream",
       "stream": "stdout",
       "text": [
        "\n"
       ]
      },
      {
       "name": "stdout",
       "output_type": "stream",
       "stream": "stdout",
       "text": [
        "ipdb> b 19\n"
       ]
      },
      {
       "output_type": "stream",
       "stream": "stdout",
       "text": [
        "Breakpoint 1 at c:\\users\\nanguiano\\documents\\data_science\\ub\\numpyexample_4.py:19\n"
       ]
      },
      {
       "name": "stdout",
       "output_type": "stream",
       "stream": "stdout",
       "text": [
        "ipdb> c\n"
       ]
      },
      {
       "output_type": "stream",
       "stream": "stdout",
       "text": [
        "> \u001b[1;32mc:\\users\\nanguiano\\documents\\data_science\\ub\\numpyexample_4.py\u001b[0m(19)\u001b[0;36msieveOfEratosthenes\u001b[1;34m()\u001b[0m\n",
        "\u001b[1;32m     18 \u001b[1;33m        \u001b[1;32mif\u001b[0m \u001b[0msi\u001b[0m\u001b[1;33m:\u001b[0m\u001b[1;33m\u001b[0m\u001b[0m\n",
        "\u001b[0m\u001b[1;31m1\u001b[1;32m--> 19 \u001b[1;33m            \u001b[0mbottom\u001b[0m \u001b[1;33m=\u001b[0m \u001b[1;33m(\u001b[0m\u001b[0msi\u001b[0m\u001b[1;33m*\u001b[0m\u001b[0msi\u001b[0m \u001b[1;33m-\u001b[0m \u001b[1;36m3\u001b[0m\u001b[1;33m)\u001b[0m \u001b[1;33m/\u001b[0m \u001b[1;36m2\u001b[0m\u001b[1;33m\u001b[0m\u001b[0m\n",
        "\u001b[0m\u001b[1;32m     20 \u001b[1;33m            \u001b[1;32mif\u001b[0m \u001b[0mbottom\u001b[0m \u001b[1;33m>=\u001b[0m \u001b[0mtop\u001b[0m\u001b[1;33m:\u001b[0m\u001b[1;33m\u001b[0m\u001b[0m\n",
        "\u001b[0m\n"
       ]
      },
      {
       "name": "stdout",
       "output_type": "stream",
       "stream": "stdout",
       "text": [
        "ipdb> c\n"
       ]
      },
      {
       "output_type": "stream",
       "stream": "stdout",
       "text": [
        "> \u001b[1;32mc:\\users\\nanguiano\\documents\\data_science\\ub\\numpyexample_4.py\u001b[0m(19)\u001b[0;36msieveOfEratosthenes\u001b[1;34m()\u001b[0m\n",
        "\u001b[1;32m     18 \u001b[1;33m        \u001b[1;32mif\u001b[0m \u001b[0msi\u001b[0m\u001b[1;33m:\u001b[0m\u001b[1;33m\u001b[0m\u001b[0m\n",
        "\u001b[0m\u001b[1;31m1\u001b[1;32m--> 19 \u001b[1;33m            \u001b[0mbottom\u001b[0m \u001b[1;33m=\u001b[0m \u001b[1;33m(\u001b[0m\u001b[0msi\u001b[0m\u001b[1;33m*\u001b[0m\u001b[0msi\u001b[0m \u001b[1;33m-\u001b[0m \u001b[1;36m3\u001b[0m\u001b[1;33m)\u001b[0m \u001b[1;33m/\u001b[0m \u001b[1;36m2\u001b[0m\u001b[1;33m\u001b[0m\u001b[0m\n",
        "\u001b[0m\u001b[1;32m     20 \u001b[1;33m            \u001b[1;32mif\u001b[0m \u001b[0mbottom\u001b[0m \u001b[1;33m>=\u001b[0m \u001b[0mtop\u001b[0m\u001b[1;33m:\u001b[0m\u001b[1;33m\u001b[0m\u001b[0m\n",
        "\u001b[0m\n"
       ]
      },
      {
       "name": "stdout",
       "output_type": "stream",
       "stream": "stdout",
       "text": [
        "ipdb> n\n"
       ]
      },
      {
       "output_type": "stream",
       "stream": "stdout",
       "text": [
        "> \u001b[1;32mc:\\users\\nanguiano\\documents\\data_science\\ub\\numpyexample_4.py\u001b[0m(20)\u001b[0;36msieveOfEratosthenes\u001b[1;34m()\u001b[0m\n",
        "\u001b[1;31m1\u001b[1;32m    19 \u001b[1;33m            \u001b[0mbottom\u001b[0m \u001b[1;33m=\u001b[0m \u001b[1;33m(\u001b[0m\u001b[0msi\u001b[0m\u001b[1;33m*\u001b[0m\u001b[0msi\u001b[0m \u001b[1;33m-\u001b[0m \u001b[1;36m3\u001b[0m\u001b[1;33m)\u001b[0m \u001b[1;33m/\u001b[0m \u001b[1;36m2\u001b[0m\u001b[1;33m\u001b[0m\u001b[0m\n",
        "\u001b[0m\u001b[1;32m---> 20 \u001b[1;33m            \u001b[1;32mif\u001b[0m \u001b[0mbottom\u001b[0m \u001b[1;33m>=\u001b[0m \u001b[0mtop\u001b[0m\u001b[1;33m:\u001b[0m\u001b[1;33m\u001b[0m\u001b[0m\n",
        "\u001b[0m\u001b[1;32m     21 \u001b[1;33m                \u001b[1;32mbreak\u001b[0m\u001b[1;33m\u001b[0m\u001b[0m\n",
        "\u001b[0m\n"
       ]
      },
      {
       "name": "stdout",
       "output_type": "stream",
       "stream": "stdout",
       "text": [
        "ipdb> n\n"
       ]
      },
      {
       "output_type": "stream",
       "stream": "stdout",
       "text": [
        "> \u001b[1;32mc:\\users\\nanguiano\\documents\\data_science\\ub\\numpyexample_4.py\u001b[0m(22)\u001b[0;36msieveOfEratosthenes\u001b[1;34m()\u001b[0m\n",
        "\u001b[1;32m     21 \u001b[1;33m                \u001b[1;32mbreak\u001b[0m\u001b[1;33m\u001b[0m\u001b[0m\n",
        "\u001b[0m\u001b[1;32m---> 22 \u001b[1;33m            \u001b[0msieve\u001b[0m\u001b[1;33m[\u001b[0m\u001b[0mbottom\u001b[0m\u001b[1;33m:\u001b[0m\u001b[1;33m:\u001b[0m\u001b[0msi\u001b[0m\u001b[1;33m]\u001b[0m \u001b[1;33m=\u001b[0m \u001b[1;33m[\u001b[0m\u001b[1;36m0\u001b[0m\u001b[1;33m]\u001b[0m \u001b[1;33m*\u001b[0m \u001b[1;33m-\u001b[0m\u001b[1;33m(\u001b[0m\u001b[1;33m(\u001b[0m\u001b[0mbottom\u001b[0m \u001b[1;33m-\u001b[0m \u001b[0mtop\u001b[0m\u001b[1;33m)\u001b[0m \u001b[1;33m/\u001b[0m \u001b[0msi\u001b[0m\u001b[1;33m)\u001b[0m\u001b[1;33m\u001b[0m\u001b[0m\n",
        "\u001b[0m\u001b[1;32m     23 \u001b[1;33m    \u001b[1;32mreturn\u001b[0m \u001b[0mnp\u001b[0m\u001b[1;33m.\u001b[0m\u001b[0marray\u001b[0m\u001b[1;33m(\u001b[0m\u001b[1;33m[\u001b[0m\u001b[1;36m2\u001b[0m\u001b[1;33m]\u001b[0m \u001b[1;33m+\u001b[0m \u001b[1;33m[\u001b[0m\u001b[0mel\u001b[0m \u001b[1;32mfor\u001b[0m \u001b[0mel\u001b[0m \u001b[1;32min\u001b[0m \u001b[0msieve\u001b[0m \u001b[1;32mif\u001b[0m \u001b[0mel\u001b[0m\u001b[1;33m]\u001b[0m\u001b[1;33m)\u001b[0m\u001b[1;33m\u001b[0m\u001b[0m\n",
        "\u001b[0m\n"
       ]
      },
      {
       "name": "stdout",
       "output_type": "stream",
       "stream": "stdout",
       "text": [
        "ipdb> q\n"
       ]
      }
     ],
     "prompt_number": 27
    },
    {
     "cell_type": "markdown",
     "metadata": {},
     "source": [
      "1. Set a break point at line 22 using: `b 22` \n",
      "2. Continue execution to next breakpoint with `c` (ont(inue))\n",
      "3. Type a variable name to see its value: `si`\n",
      "4. Execute next line using: `n`\n",
      "5. Quit debugging session with: `q``\n",
      "\n",
      "--- Ask for help using ? followed of command name.\n"
     ]
    },
    {
     "cell_type": "markdown",
     "metadata": {},
     "source": [
      "2- Using Spyder IDE's (`ctrl`+`F5`)\n",
      "\n",
      "* Simple breakpoints can be set from the Run menu, by keyboard shortcut (F12 by default), or by double-click to the left of line numbers in the Editor.\n",
      "* Conditional breakpoints can also be set from the Run menu, by keyboard shortcut (Shift+F12 by default), or by Shift+double-click to the left of line numbers in the Editor.\n",
      "* Step by step execution can be done using the blue buttons on the tool bar.\n",
      "* The current frame (debugging step) is highlighted in the Editor.\n",
      "* At each breakpoint, globals may be accessed through the Variable Explorer.\n",
      "\n",
      "?- Use a Conditional Breakpoint to go through the last iteration of the sieve loop.\n"
     ]
    },
    {
     "cell_type": "markdown",
     "metadata": {},
     "source": [
      "###Key Points\n",
      "* Program defensively, i.e., assume that errors are going to arise, and write code to detect them when they do.\n",
      "* Put assertions in programs to check their state as they run, and to help readers understand how those programs are supposed to work.\n",
      "* Use preconditions to check that the inputs to a function are safe to use.\n",
      "* Use postconditions to check that the output from a function is safe to use.\n",
      "* Write tests before writing code in order to help determine exactly what that code is supposed to do.\n",
      "* Know what code is supposed to do before trying to debug it.\n",
      "* Make it fail every time.\n",
      "* Make it fail fast.\n",
      "* Change one thing at a time, and for a reason.\n",
      "* Keep track of what you've done.\n",
      "* Be humble."
     ]
    },
    {
     "cell_type": "markdown",
     "metadata": {},
     "source": [
      "###Challenges\n",
      "\n",
      "1- Write a command-line program that does addition or subtraction or multiply. By default it sums up the two values. Check  `ArgumentParser.add_mutually_exclusive_group()` functionality."
     ]
    },
    {
     "cell_type": "markdown",
     "metadata": {},
     "source": [
      "`python arith.py -a 1 2` / `python arith.py --add 1 2`\n",
      "\n",
      "3"
     ]
    },
    {
     "cell_type": "markdown",
     "metadata": {},
     "source": [
      "`python arith.py -s 3 4` / `python arith.py --subtraction 3 4`\n",
      "\n",
      "-1"
     ]
    },
    {
     "cell_type": "markdown",
     "metadata": {},
     "source": [
      "`python arith.py -m 2 4` /  `python arith.py --multiply 2 4`\n",
      "\n",
      "8"
     ]
    },
    {
     "cell_type": "code",
     "collapsed": false,
     "input": [
      "!python arith.py -a 1 2 -v\n",
      "!python arith.py -s 3 4 -v\n",
      "!python arith.py -m 2 4"
     ],
     "language": "python",
     "metadata": {},
     "outputs": [
      {
       "output_type": "stream",
       "stream": "stdout",
       "text": [
        "Adding 1 and 2 = 3\n"
       ]
      },
      {
       "output_type": "stream",
       "stream": "stdout",
       "text": [
        "Substracting 4 from 3 = -1\n"
       ]
      },
      {
       "output_type": "stream",
       "stream": "stdout",
       "text": [
        "8\n"
       ]
      }
     ],
     "prompt_number": 16
    },
    {
     "cell_type": "markdown",
     "metadata": {},
     "source": [
      "2- Write a function called `average` that calculates the average of the numbers in a list.\n",
      "   * What pre-conditions and post-conditions would you write for it?"
     ]
    },
    {
     "cell_type": "code",
     "collapsed": false,
     "input": [
      "def average(items):\n",
      "    assert type(items) == list #not a dictionary\n",
      "    # mmm..."
     ],
     "language": "python",
     "metadata": {},
     "outputs": [],
     "prompt_number": 17
    },
    {
     "cell_type": "markdown",
     "metadata": {},
     "source": [
      "#Timing"
     ]
    },
    {
     "cell_type": "markdown",
     "metadata": {},
     "source": [
      "Now we are sure that our program is correct, we can ask for performance. Given two different algorithms which solves the same problem with the same output, we can say that one gives better performance than the other by comparing its processing times.\n",
      "\n",
      "Time function gives us a time mark. It's straightforward to calculate a function processing time by taking marks before and after the function and subtract them."
     ]
    },
    {
     "cell_type": "code",
     "collapsed": false,
     "input": [
      "import numpyExample_4\n",
      "import time\n",
      "t1 = time.time()\n",
      "result = numpyExample_4.sieveOfEratosthenes(100000)\n",
      "t2 = time.time()\n",
      "print 'sieveOfEratosthenes took {} seconds'.format(t2 - t1)"
     ],
     "language": "python",
     "metadata": {},
     "outputs": [
      {
       "output_type": "stream",
       "stream": "stdout",
       "text": [
        "sieveOfEratosthenes took 0.0149998664856 seconds\n"
       ]
      }
     ],
     "prompt_number": 30
    },
    {
     "cell_type": "markdown",
     "metadata": {},
     "source": [
      "We can also take overall timing of a python script by passing `-t` argument to run command. \n",
      "This print timing information at the end of the run. IPython will give\n",
      "you an estimated CPU time consumption and wall clock times for your script. Under Unix, an estimate of time spent on system tasks is also given (for Windows platforms this is reported as 0.0, since it can not be measured). An additional ``-N<N>`` option can be given, where <N> must be an integer indicating how many times you want the script to\n",
      "run. The final timing report will include total and per run results.\n"
     ]
    },
    {
     "cell_type": "code",
     "collapsed": false,
     "input": [
      "%run?\n",
      "%run -t -N5 numpyExampleArgParse_4.py 1000000"
     ],
     "language": "python",
     "metadata": {},
     "outputs": [
      {
       "output_type": "stream",
       "stream": "stdout",
       "text": [
        "[     2      3      5 ..., 999961 999979 999983]\n",
        "\n",
        "[     2      3      5 ..., 999961 999979 999983]"
       ]
      },
      {
       "output_type": "stream",
       "stream": "stdout",
       "text": [
        "\n",
        "\n",
        "[     2      3      5 ..., 999961 999979 999983]"
       ]
      },
      {
       "output_type": "stream",
       "stream": "stdout",
       "text": [
        "\n",
        "\n",
        "[     2      3      5 ..., 999961 999979 999983]"
       ]
      },
      {
       "output_type": "stream",
       "stream": "stdout",
       "text": [
        "\n",
        "\n",
        "[     2      3      5 ..., 999961 999979 999983]"
       ]
      },
      {
       "output_type": "stream",
       "stream": "stdout",
       "text": [
        "\n",
        "\n",
        "\n",
        "IPython CPU timings (estimated):\n",
        "Total runs performed: 5\n",
        "  Times  :      Total      Per run\n",
        "  User   :       1.13 s,       0.23 s.\n",
        "  System :       0.00 s,       0.00 s.\n",
        "Wall time:       1.13 s.\n"
       ]
      }
     ],
     "prompt_number": 33
    },
    {
     "cell_type": "markdown",
     "metadata": {},
     "source": [
      "However if we want more timing with more precision we can use magic command %timeit. \n",
      "\n",
      "**%timeit** executes a function several times, and returns the best time obtained. \n",
      "It will limit the number of runs depending on how long the script takes to execute.\n",
      "\n",
      "The number of runs may be set with with -n 1000, for example, which will limit %timeit to a thousand iterations\n",
      "\n",
      "The number of rounds %timeit it is executed  can also be modified, using -r. For example -r will produce the best result of 5 executions, by default is 3"
     ]
    },
    {
     "cell_type": "code",
     "collapsed": false,
     "input": [
      "import numpyExample_4\n",
      "%timeit numpyExample_4.sieveOfEratosthenes(1000000)"
     ],
     "language": "python",
     "metadata": {},
     "outputs": [
      {
       "output_type": "stream",
       "stream": "stdout",
       "text": [
        "1 loops, best of 3: 206 ms per loop\n"
       ]
      }
     ],
     "prompt_number": 34
    },
    {
     "cell_type": "markdown",
     "metadata": {},
     "source": [
      "Now lets to compare two different implimentations for the same problem. Numpy and scipy both have implemented an interpolation function. We can use %timeit to know which function is the fastest one. "
     ]
    },
    {
     "cell_type": "code",
     "collapsed": false,
     "input": [
      "import numpy as np\n",
      "import scipy.interpolate as spip \n",
      "np.interp?"
     ],
     "language": "python",
     "metadata": {},
     "outputs": [],
     "prompt_number": 111
    },
    {
     "cell_type": "code",
     "collapsed": false,
     "input": [
      "spip.interp1d?"
     ],
     "language": "python",
     "metadata": {},
     "outputs": [],
     "prompt_number": 112
    },
    {
     "cell_type": "code",
     "collapsed": false,
     "input": [
      "x = np.linspace(0, 2*np.pi, 10)\n",
      "y = np.sin(x)\n",
      "xvals = np.linspace(0, 2*np.pi, 50)\n",
      "#scipy\n",
      "f = spip.interp1d(x, y)\n",
      "scipy_vals = f(xvals)\n",
      "# numpy\n",
      "numpy_vals = np.interp(xvals, x, y)\n",
      "assert np.allclose(scipy_vals, numpy_vals) #assert if values are close\n",
      "np.allclose?"
     ],
     "language": "python",
     "metadata": {},
     "outputs": [],
     "prompt_number": 113
    },
    {
     "cell_type": "markdown",
     "metadata": {},
     "source": [
      "Once we have checked that both functions gives us the same result aproximately \n",
      "(absolute(`a` - `b`) <= (`atol` + `rtol` * absolute(`b`)); `rtol`=1e-05, `atol`=1e-08),\n",
      "\n",
      "we can check it performance:"
     ]
    },
    {
     "cell_type": "code",
     "collapsed": false,
     "input": [
      "print 'scipy:'\n",
      "%timeit -n 10000 -r5 f(xvals)\n",
      "print 'numpy:'\n",
      "%timeit -n 10000 -r5 np.interp(xvals, x, y)"
     ],
     "language": "python",
     "metadata": {},
     "outputs": [
      {
       "output_type": "stream",
       "stream": "stdout",
       "text": [
        "scipy:\n",
        "10000 loops, best of 5: 86.1 \u00b5s per loop"
       ]
      },
      {
       "output_type": "stream",
       "stream": "stdout",
       "text": [
        "\n",
        "numpy:\n",
        "10000 loops, best of 5: 5.31 \u00b5s per loop"
       ]
      },
      {
       "output_type": "stream",
       "stream": "stdout",
       "text": [
        "\n"
       ]
      }
     ],
     "prompt_number": 114
    },
    {
     "cell_type": "markdown",
     "metadata": {},
     "source": [
      "#Profiling"
     ]
    },
    {
     "cell_type": "markdown",
     "metadata": {},
     "source": [
      "Now we know the time consumed by an implementation, but this time can be shortened? And the key question how it can be done? First thing is to realize where is consuming more time in our code. Profiling gives us how many time takes each method or function been called. We can see the number of calls, total time, time per call and cummulative time since out function was called.\n",
      "At the command line:"
     ]
    },
    {
     "cell_type": "code",
     "collapsed": false,
     "input": [
      "%run -m cProfile numpyExampleArgs_4.py 1000000\n",
      "%run?"
     ],
     "language": "python",
     "metadata": {},
     "outputs": [
      {
       "output_type": "stream",
       "stream": "stdout",
       "text": [
        "List of primes numbers < 1000000\n",
        "[     2      3      5 ..., 999961 999979 999983]"
       ]
      },
      {
       "output_type": "stream",
       "stream": "stdout",
       "text": [
        "\n",
        "         356 function calls (352 primitive calls) in 1.536 seconds\n",
        "\n",
        "   Ordered by: standard name\n",
        "\n",
        "   ncalls  tottime  percall  cumtime  percall filename:lineno(function)\n",
        "        4    0.000    0.000    0.000    0.000 __init__.py:193(dumps)\n",
        "        1    0.000    0.000    0.000    0.000 _methods.py:37(_any)\n",
        "        1    0.000    0.000    0.000    0.000 arrayprint.py:204(_leading_trailing)\n",
        "        1    0.000    0.000    0.001    0.001 arrayprint.py:233(_array2string)\n",
        "      3/1    0.000    0.000    0.001    0.001 arrayprint.py:343(array2string)\n",
        "        7    0.000    0.000    0.000    0.000 arrayprint.py:457(_extendLine)\n",
        "        1    0.000    0.000    0.000    0.000 arrayprint.py:465(_formatArray)\n",
        "        3    0.000    0.000    0.000    0.000 arrayprint.py:533(__init__)\n",
        "        3    0.000    0.000    0.000    0.000 arrayprint.py:547(fillFormat)\n",
        "        1    0.000    0.000    0.000    0.000 arrayprint.py:639(__init__)\n",
        "        6    0.000    0.000    0.000    0.000 arrayprint.py:652(__call__)\n",
        "        3    0.000    0.000    0.000    0.000 arrayprint.py:661(__init__)\n",
        "        1    0.000    0.000    0.000    0.000 arrayprint.py:689(__init__)\n",
        "        1    0.000    0.000    0.000    0.000 arrayprint.py:700(__init__)\n",
        "        1    0.000    0.000    0.000    0.000 arrayprint.py:716(__init__)\n",
        "        1    0.000    0.000    0.000    0.000 arrayprint.py:744(__init__)\n",
        "        1    0.000    0.000    0.000    0.000 attrsettr.py:35(__getattr__)\n",
        "        4    0.000    0.000    0.000    0.000 encoder.py:101(__init__)\n",
        "        4    0.000    0.000    0.000    0.000 encoder.py:186(encode)\n",
        "        4    0.000    0.000    0.000    0.000 encoder.py:212(iterencode)\n",
        "        1    0.000    0.000    0.000    0.000 fromnumeric.py:1764(any)\n",
        "        1    0.000    0.000    0.000    0.000 hmac.py:100(_current)\n",
        "        1    0.000    0.000    0.000    0.000 hmac.py:119(hexdigest)\n",
        "        1    0.000    0.000    0.000    0.000 hmac.py:30(__init__)\n",
        "        4    0.000    0.000    0.000    0.000 hmac.py:83(update)\n",
        "        1    0.000    0.000    0.000    0.000 hmac.py:88(copy)\n",
        "        1    0.000    0.000    0.017    0.017 iostream.py:112(_flush_from_subprocesses)\n",
        "        1    0.000    0.000    0.018    0.018 iostream.py:140(flush)\n",
        "        6    0.000    0.000    0.019    0.003 iostream.py:196(write)\n",
        "        1    0.000    0.000    0.000    0.000 iostream.py:227(_flush_buffer)\n",
        "        1    0.000    0.000    0.000    0.000 iostream.py:236(_new_buffer)\n",
        "        8    0.000    0.000    0.000    0.000 iostream.py:86(_is_master_process)\n",
        "        1    0.000    0.000    0.000    0.000 iostream.py:89(_is_master_thread)\n",
        "        7    0.000    0.000    0.000    0.000 iostream.py:95(_check_mp_mode)\n",
        "        4    0.000    0.000    0.000    0.000 jsonapi.py:31(dumps)\n",
        "        1    0.000    0.000    0.000    0.000 jsonutil.py:102(date_default)\n",
        "      3/1    0.000    0.000    0.001    0.001 numeric.py:1681(array_str)\n",
        "        6    0.000    0.000    0.000    0.000 numeric.py:2428(seterr)\n",
        "        6    0.000    0.000    0.000    0.000 numeric.py:2524(geterr)\n",
        "        3    0.000    0.000    0.000    0.000 numeric.py:2809(__init__)\n",
        "        3    0.000    0.000    0.000    0.000 numeric.py:2813(__enter__)\n",
        "        3    0.000    0.000    0.000    0.000 numeric.py:2818(__exit__)\n",
        "        1    0.000    0.000    0.000    0.000 numeric.py:464(asanyarray)\n",
        "        1    0.111    0.111    1.508    1.508 numpyExampleArgs_4.py:10(sieveOfEratosthenes)\n",
        "        1    0.009    0.009    1.536    1.536 numpyExampleArgs_4.py:8(<module>)\n",
        "        1    0.000    0.000    0.017    0.017 poll.py:77(poll)\n",
        "        1    0.000    0.000    0.000    0.000 py3compat.py:13(no_code)\n",
        "        1    0.000    0.000    0.000    0.000 session.py:201(msg_header)\n",
        "        1    0.000    0.000    0.000    0.000 session.py:205(extract_header)\n",
        "        1    0.000    0.000    0.000    0.000 session.py:435(msg_id)\n",
        "        1    0.000    0.000    0.000    0.000 session.py:487(msg_header)\n",
        "        1    0.000    0.000    0.000    0.000 session.py:490(msg)\n",
        "        1    0.000    0.000    0.000    0.000 session.py:509(sign)\n",
        "        1    0.000    0.000    0.000    0.000 session.py:524(serialize)\n",
        "        1    0.000    0.000    0.001    0.001 session.py:583(send)\n",
        "        4    0.000    0.000    0.000    0.000 session.py:92(<lambda>)\n",
        "        1    0.000    0.000    0.000    0.000 socket.py:232(send_multipart)\n",
        "        1    0.000    0.000    0.000    0.000 threading.py:1152(currentThread)\n",
        "        1    0.000    0.000    0.000    0.000 threading.py:983(ident)\n",
        "       12    0.000    0.000    0.000    0.000 traitlets.py:325(__get__)\n",
        "        6    0.000    0.000    0.000    0.000 utf_8.py:15(decode)\n",
        "        1    0.000    0.000    0.000    0.000 uuid.py:101(__init__)\n",
        "        1    0.000    0.000    0.000    0.000 uuid.py:197(__str__)\n",
        "        1    0.000    0.000    0.000    0.000 uuid.py:546(uuid4)\n",
        "        6    0.000    0.000    0.000    0.000 {_codecs.utf_8_decode}\n",
        "        1    0.000    0.000    0.000    0.000 {_functools.reduce}\n",
        "        1    0.000    0.000    0.000    0.000 {built-in method now}\n",
        "        1    0.000    0.000    0.000    0.000 {getattr}\n",
        "        1    0.000    0.000    0.000    0.000 {hasattr}\n",
        "       27    0.000    0.000    0.000    0.000 {isinstance}\n",
        "        3    0.000    0.000    0.000    0.000 {issubclass}\n",
        "       36    0.000    0.000    0.000    0.000 {len}\n",
        "        1    0.000    0.000    0.000    0.000 {locals}\n",
        "        1    0.000    0.000    0.000    0.000 {map}\n",
        "        2    0.000    0.000    0.000    0.000 {max}\n",
        "        1    0.000    0.000    0.000    0.000 {method 'any' of 'numpy.ndarray' objects}\n",
        "        3    0.000    0.000    0.000    0.000 {method 'append' of 'list' objects}\n",
        "        1    0.000    0.000    0.000    0.000 {method 'close' of '_io.StringIO' objects}\n",
        "        3    0.000    0.000    0.000    0.000 {method 'compress' of 'numpy.ndarray' objects}\n",
        "        3    0.000    0.000    0.000    0.000 {method 'copy' of '_hashlib.HASH' objects}\n",
        "        1    0.000    0.000    0.000    0.000 {method 'copy' of 'dict' objects}\n",
        "        1    0.000    0.000    0.000    0.000 {method 'count' of 'list' objects}\n",
        "        6    0.000    0.000    0.000    0.000 {method 'decode' of 'str' objects}\n",
        "        1    0.000    0.000    0.000    0.000 {method 'digest' of '_hashlib.HASH' objects}\n",
        "        1    0.000    0.000    0.000    0.000 {method 'disable' of '_lsprof.Profiler' objects}\n",
        "        2    0.000    0.000    0.000    0.000 {method 'extend' of 'list' objects}\n",
        "        1    0.000    0.000    0.000    0.000 {method 'get' of 'dict' objects}\n",
        "        1    0.000    0.000    0.000    0.000 {method 'getvalue' of '_io.StringIO' objects}\n",
        "        1    0.000    0.000    0.000    0.000 {method 'hexdigest' of '_hashlib.HASH' objects}\n",
        "        1    0.000    0.000    0.000    0.000 {method 'isoformat' of 'datetime.datetime' objects}\n",
        "        2    0.000    0.000    0.000    0.000 {method 'item' of 'numpy.ndarray' objects}\n",
        "        4    0.000    0.000    0.000    0.000 {method 'join' of 'str' objects}\n",
        "        3    0.000    0.000    0.000    0.000 {method 'pop' of 'dict' objects}\n",
        "        7    0.000    0.000    0.000    0.000 {method 'reduce' of 'numpy.ufunc' objects}\n",
        "       14    0.000    0.000    0.000    0.000 {method 'rstrip' of 'str' objects}\n",
        "        7    0.000    0.000    0.000    0.000 {method 'send' of 'zmq.backend.cython.socket.Socket' objects}\n",
        "        5    0.000    0.000    0.000    0.000 {method 'update' of '_hashlib.HASH' objects}\n",
        "        1    0.000    0.000    0.000    0.000 {method 'upper' of 'str' objects}\n",
        "        6    0.000    0.000    0.000    0.000 {method 'write' of '_io.StringIO' objects}\n",
        "        1    0.000    0.000    0.000    0.000 {min}\n",
        "        9    0.000    0.000    0.000    0.000 {nt.getpid}\n",
        "        1    0.000    0.000    0.000    0.000 {nt.urandom}\n",
        "        2    0.011    0.005    0.011    0.005 {numpy.core.multiarray.array}\n",
        "        1    0.000    0.000    0.000    0.000 {numpy.core.multiarray.concatenate}\n",
        "       12    0.000    0.000    0.000    0.000 {numpy.core.umath.geterrobj}\n",
        "        6    0.000    0.000    0.000    0.000 {numpy.core.umath.seterrobj}\n",
        "        4    1.386    0.347    1.386    0.347 {range}\n",
        "        1    0.000    0.000    0.000    0.000 {thread.get_ident}\n",
        "        6    0.000    0.000    0.000    0.000 {time.time}\n",
        "        1    0.017    0.017    0.017    0.017 {zmq.backend.cython._poll.zmq_poll}\n",
        "\n",
        "\n"
       ]
      }
     ],
     "prompt_number": 127
    },
    {
     "cell_type": "markdown",
     "metadata": {},
     "source": [
      "Store profile results and visualize it with [`pstats`](http://docs.python.org/library/profile.html#module-pstats). From command line:"
     ]
    },
    {
     "cell_type": "code",
     "collapsed": false,
     "input": [
      "!python -m cProfile -o numpyExample_4.prof numpyExampleArgs_4.py 100000"
     ],
     "language": "python",
     "metadata": {},
     "outputs": [
      {
       "output_type": "stream",
       "stream": "stdout",
       "text": [
        "List of primes numbers < 100000\n",
        "[    2     3     5 ..., 99971 99989 99991]\n"
       ]
      }
     ],
     "prompt_number": 47
    },
    {
     "cell_type": "code",
     "collapsed": false,
     "input": [
      "import pstats\n",
      "stats = pstats.Stats('numpyExample_4.prof')\n",
      "stats.print_stats(5)"
     ],
     "language": "python",
     "metadata": {},
     "outputs": [
      {
       "output_type": "stream",
       "stream": "stdout",
       "text": [
        "Thu Oct 23 23:00:09 2014    numpyExample_4.prof\n",
        "\n",
        "         12060 function calls (11935 primitive calls) in 0.188 seconds\n",
        "\n",
        "   Random listing order was used\n",
        "   List reduced from 569 to 5 due to restriction <5>\n",
        "\n",
        "   ncalls  tottime  percall  cumtime  percall filename:lineno(function)\n",
        "        5    0.000    0.000    0.000    0.000 C:\\Users\\nanguiano\\Anaconda\\lib\\site-packages\\numpy\\core\\getlimits.py:244(__init__)\n",
        "       23    0.000    0.000    0.001    0.000 C:\\Users\\nanguiano\\Anaconda\\lib\\site-packages\\numpy\\ma\\core.py:6014(__init__)\n",
        "        1    0.000    0.000    0.000    0.000 C:\\Users\\nanguiano\\Anaconda\\lib\\threading.py:299(_is_owned)\n",
        "        1    0.000    0.000    0.000    0.000 C:\\Users\\nanguiano\\Anaconda\\lib\\unittest\\case.py:34(_ExpectedFailure)\n",
        "        1    0.000    0.000    0.000    0.000 C:\\Users\\nanguiano\\Anaconda\\lib\\ctypes\\__init__.py:176(c_long)\n",
        "\n",
        "\n"
       ]
      },
      {
       "metadata": {},
       "output_type": "pyout",
       "prompt_number": 1,
       "text": [
        "<pstats.Stats instance at 0x00000000039C0C08>"
       ]
      }
     ],
     "prompt_number": 1
    },
    {
     "cell_type": "markdown",
     "metadata": {},
     "source": [
      "Sorting stats:"
     ]
    },
    {
     "cell_type": "code",
     "collapsed": false,
     "input": [
      "stats.sort_stats('cumtime').print_stats(5)"
     ],
     "language": "python",
     "metadata": {},
     "outputs": [
      {
       "output_type": "stream",
       "stream": "stdout",
       "text": [
        "Thu Oct 23 23:00:09 2014    numpyExample_4.prof\n",
        "\n",
        "         12060 function calls (11935 primitive calls) in 0.188 seconds\n",
        "\n",
        "   Ordered by: cumulative time\n",
        "   List reduced from 569 to 5 due to restriction <5>\n",
        "\n",
        "   ncalls  tottime  percall  cumtime  percall filename:lineno(function)\n",
        "        1    0.002    0.002    0.189    0.189 numpyExampleArgs_4.py:8(<module>)\n",
        "        1    0.010    0.010    0.177    0.177 C:\\Users\\nanguiano\\Anaconda\\lib\\site-packages\\numpy\\__init__.py:106(<module>)\n",
        "        1    0.001    0.001    0.129    0.129 C:\\Users\\nanguiano\\Anaconda\\lib\\site-packages\\numpy\\add_newdocs.py:10(<module>)\n",
        "        1    0.010    0.010    0.124    0.124 C:\\Users\\nanguiano\\Anaconda\\lib\\site-packages\\numpy\\lib\\__init__.py:1(<module>)\n",
        "        1    0.003    0.003    0.093    0.093 C:\\Users\\nanguiano\\Anaconda\\lib\\site-packages\\numpy\\lib\\type_check.py:3(<module>)\n",
        "\n",
        "\n"
       ]
      },
      {
       "metadata": {},
       "output_type": "pyout",
       "prompt_number": 50,
       "text": [
        "<pstats.Stats instance at 0x0000000009AF6948>"
       ]
      }
     ],
     "prompt_number": 50
    },
    {
     "cell_type": "code",
     "collapsed": false,
     "input": [
      "stats.sort_stats('tottime').print_stats(5) #five rows"
     ],
     "language": "python",
     "metadata": {},
     "outputs": [
      {
       "output_type": "stream",
       "stream": "stdout",
       "text": [
        "Thu Oct 23 23:00:09 2014    numpyExample_4.prof\n",
        "\n",
        "         12060 function calls (11935 primitive calls) in 0.188 seconds\n",
        "\n",
        "   Ordered by: internal time\n",
        "   List reduced from 569 to 5 due to restriction <5>\n",
        "\n",
        "   ncalls  tottime  percall  cumtime  percall filename:lineno(function)\n",
        "        1    0.018    0.018    0.091    0.091 C:\\Users\\nanguiano\\Anaconda\\lib\\site-packages\\numpy\\core\\__init__.py:1(<module>)\n",
        "        1    0.010    0.010    0.177    0.177 C:\\Users\\nanguiano\\Anaconda\\lib\\site-packages\\numpy\\__init__.py:106(<module>)\n",
        "        1    0.010    0.010    0.124    0.124 C:\\Users\\nanguiano\\Anaconda\\lib\\site-packages\\numpy\\lib\\__init__.py:1(<module>)\n",
        "        1    0.008    0.008    0.017    0.017 C:\\Users\\nanguiano\\Anaconda\\lib\\site-packages\\numpy\\core\\numeric.py:1(<module>)\n",
        "        1    0.007    0.007    0.007    0.007 C:\\Users\\nanguiano\\Anaconda\\lib\\site-packages\\numpy\\linalg\\linalg.py:10(<module>)\n",
        "\n",
        "\n"
       ]
      },
      {
       "metadata": {},
       "output_type": "pyout",
       "prompt_number": 51,
       "text": [
        "<pstats.Stats instance at 0x0000000009AF6948>"
       ]
      }
     ],
     "prompt_number": 51
    },
    {
     "cell_type": "code",
     "collapsed": false,
     "input": [
      "stats.sort_stats('cumtime').print_stats(r'init') #filter using Regular Expression "
     ],
     "language": "python",
     "metadata": {},
     "outputs": [
      {
       "output_type": "stream",
       "stream": "stdout",
       "text": [
        "Thu Oct 23 23:00:09 2014    numpyExample_4.prof\n",
        "\n",
        "         12060 function calls (11935 primitive calls) in 0.188 seconds\n",
        "\n",
        "   Ordered by: cumulative time\n",
        "   List reduced from 569 to 100 due to restriction <'init'>\n",
        "\n",
        "   ncalls  tottime  percall  cumtime  percall filename:lineno(function)\n",
        "        1    0.010    0.010    0.177    0.177 C:\\Users\\nanguiano\\Anaconda\\lib\\site-packages\\numpy\\__init__.py:106(<module>)\n",
        "        1    0.010    0.010    0.124    0.124 C:\\Users\\nanguiano\\Anaconda\\lib\\site-packages\\numpy\\lib\\__init__.py:1(<module>)\n",
        "        1    0.018    0.018    0.091    0.091 C:\\Users\\nanguiano\\Anaconda\\lib\\site-packages\\numpy\\core\\__init__.py:1(<module>)\n",
        "        1    0.004    0.004    0.044    0.044 C:\\Users\\nanguiano\\Anaconda\\lib\\site-packages\\numpy\\testing\\__init__.py:7(<module>)\n",
        "        1    0.004    0.004    0.018    0.018 C:\\Users\\nanguiano\\Anaconda\\lib\\unittest\\__init__.py:45(<module>)\n",
        "        1    0.005    0.005    0.009    0.009 C:\\Users\\nanguiano\\Anaconda\\lib\\site-packages\\numpy\\polynomial\\__init__.py:15(<module>)\n",
        "        1    0.006    0.006    0.009    0.009 C:\\Users\\nanguiano\\Anaconda\\lib\\site-packages\\numpy\\ma\\__init__.py:38(<module>)\n",
        "        1    0.001    0.001    0.008    0.008 C:\\Users\\nanguiano\\Anaconda\\lib\\site-packages\\numpy\\linalg\\__init__.py:45(<module>)\n",
        "        1    0.005    0.005    0.006    0.006 C:\\Users\\nanguiano\\Anaconda\\lib\\site-packages\\numpy\\random\\__init__.py:88(<module>)\n",
        "        1    0.005    0.005    0.006    0.006 C:\\Users\\nanguiano\\Anaconda\\lib\\ctypes\\__init__.py:4(<module>)\n",
        "        1    0.003    0.003    0.004    0.004 C:\\Users\\nanguiano\\Anaconda\\lib\\site-packages\\numpy\\fft\\__init__.py:1(<module>)\n",
        "        1    0.000    0.000    0.004    0.004 C:\\Users\\nanguiano\\Anaconda\\lib\\random.py:91(__init__)\n",
        "        1    0.001    0.001    0.001    0.001 C:\\Users\\nanguiano\\Anaconda\\lib\\site-packages\\numpy\\compat\\__init__.py:10(<module>)\n",
        "        1    0.001    0.001    0.001    0.001 C:\\Users\\nanguiano\\Anaconda\\lib\\site-packages\\numpy\\matrixlib\\__init__.py:3(<module>)\n",
        "       23    0.000    0.000    0.001    0.000 C:\\Users\\nanguiano\\Anaconda\\lib\\site-packages\\numpy\\ma\\core.py:6014(__init__)\n",
        "       19    0.000    0.000    0.001    0.000 C:\\Users\\nanguiano\\Anaconda\\lib\\site-packages\\numpy\\testing\\nosetester.py:181(__init__)\n",
        "        3    0.000    0.000    0.000    0.000 C:\\Users\\nanguiano\\Anaconda\\lib\\site-packages\\numpy\\core\\arrayprint.py:533(__init__)\n",
        "       64    0.000    0.000    0.000    0.000 C:\\Users\\nanguiano\\Anaconda\\lib\\_weakrefset.py:36(__init__)\n",
        "       27    0.000    0.000    0.000    0.000 C:\\Users\\nanguiano\\Anaconda\\lib\\site-packages\\numpy\\ma\\core.py:827(__init__)\n",
        "        9    0.000    0.000    0.000    0.000 C:\\Users\\nanguiano\\Anaconda\\lib\\site-packages\\numpy\\ma\\extras.py:241(__init__)\n",
        "        1    0.000    0.000    0.000    0.000 C:\\Users\\nanguiano\\Anaconda\\lib\\site-packages\\numpy\\core\\arrayprint.py:700(__init__)\n",
        "        1    0.000    0.000    0.000    0.000 C:\\Users\\nanguiano\\Anaconda\\lib\\ctypes\\__init__.py:265(_reset_cache)\n",
        "        8    0.000    0.000    0.000    0.000 C:\\Users\\nanguiano\\Anaconda\\lib\\site-packages\\numpy\\ma\\core.py:7237(__init__)\n",
        "       18    0.000    0.000    0.000    0.000 C:\\Users\\nanguiano\\Anaconda\\lib\\site-packages\\numpy\\ma\\core.py:906(__init__)\n",
        "        3    0.000    0.000    0.000    0.000 C:\\Users\\nanguiano\\Anaconda\\lib\\ctypes\\__init__.py:78(CFUNCTYPE)\n",
        "        1    0.000    0.000    0.000    0.000 C:\\Users\\nanguiano\\Anaconda\\lib\\site-packages\\numpy\\core\\arrayprint.py:639(__init__)\n",
        "        1    0.000    0.000    0.000    0.000 C:\\Users\\nanguiano\\Anaconda\\lib\\site-packages\\numpy\\__init__.py:112(_add2path)\n",
        "        3    0.000    0.000    0.000    0.000 C:\\Users\\nanguiano\\Anaconda\\lib\\ctypes\\__init__.py:493(PYFUNCTYPE)\n",
        "       14    0.000    0.000    0.000    0.000 C:\\Users\\nanguiano\\Anaconda\\lib\\ctypes\\__init__.py:147(_check_size)\n",
        "        1    0.000    0.000    0.000    0.000 C:\\Users\\nanguiano\\Anaconda\\lib\\threading.py:1090(__init__)\n",
        "        2    0.000    0.000    0.000    0.000 C:\\Users\\nanguiano\\Anaconda\\lib\\ctypes\\__init__.py:349(__init__)\n",
        "        6    0.000    0.000    0.000    0.000 C:\\Users\\nanguiano\\Anaconda\\lib\\site-packages\\numpy\\ma\\core.py:1052(__init__)\n",
        "       13    0.000    0.000    0.000    0.000 C:\\Users\\nanguiano\\Anaconda\\lib\\sre_parse.py:178(__init__)\n",
        "        1    0.000    0.000    0.000    0.000 C:\\Users\\nanguiano\\Anaconda\\lib\\threading.py:656(__init__)\n",
        "        5    0.000    0.000    0.000    0.000 C:\\Users\\nanguiano\\Anaconda\\lib\\site-packages\\numpy\\core\\getlimits.py:244(__init__)\n",
        "        1    0.000    0.000    0.000    0.000 C:\\Users\\nanguiano\\Anaconda\\lib\\ctypes\\__init__.py:432(__getattr__)\n",
        "        9    0.000    0.000    0.000    0.000 C:\\Users\\nanguiano\\Anaconda\\lib\\site-packages\\numpy\\ma\\core.py:2426(__init__)\n",
        "       40    0.000    0.000    0.000    0.000 C:\\Users\\nanguiano\\Anaconda\\lib\\sre_parse.py:90(__init__)\n",
        "        1    0.000    0.000    0.000    0.000 C:\\Users\\nanguiano\\Anaconda\\lib\\threading.py:560(__init__)\n",
        "        1    0.000    0.000    0.000    0.000 C:\\Users\\nanguiano\\Anaconda\\lib\\ctypes\\__init__.py:375(__getattr__)\n",
        "        2    0.000    0.000    0.000    0.000 C:\\Users\\nanguiano\\Anaconda\\lib\\threading.py:259(__init__)\n",
        "        1    0.000    0.000    0.000    0.000 C:\\Users\\nanguiano\\Anaconda\\lib\\ctypes\\__init__.py:382(__getitem__)\n",
        "       20    0.000    0.000    0.000    0.000 C:\\Users\\nanguiano\\Anaconda\\lib\\_weakrefset.py:16(__init__)\n",
        "        4    0.000    0.000    0.000    0.000 C:\\Users\\nanguiano\\Anaconda\\lib\\site-packages\\numpy\\core\\numeric.py:2809(__init__)\n",
        "       13    0.000    0.000    0.000    0.000 C:\\Users\\nanguiano\\Anaconda\\lib\\sre_parse.py:67(__init__)\n",
        "        1    0.000    0.000    0.000    0.000 C:\\Users\\nanguiano\\Anaconda\\lib\\site-packages\\numpy\\ma\\extras.py:1537(__init__)\n",
        "        1    0.000    0.000    0.000    0.000 C:\\Users\\nanguiano\\Anaconda\\lib\\site-packages\\numpy\\ma\\extras.py:1467(__init__)\n",
        "        1    0.000    0.000    0.000    0.000 C:\\Users\\nanguiano\\Anaconda\\lib\\site-packages\\numpy\\lib\\index_tricks.py:447(__init__)\n",
        "        3    0.000    0.000    0.000    0.000 C:\\Users\\nanguiano\\Anaconda\\lib\\site-packages\\numpy\\lib\\index_tricks.py:242(__init__)\n",
        "        1    0.000    0.000    0.000    0.000 C:\\Users\\nanguiano\\Anaconda\\lib\\site-packages\\numpy\\core\\arrayprint.py:689(__init__)\n",
        "        1    0.000    0.000    0.000    0.000 C:\\Users\\nanguiano\\Anaconda\\lib\\weakref.py:282(__init__)\n",
        "        1    0.000    0.000    0.000    0.000 C:\\Users\\nanguiano\\Anaconda\\lib\\site-packages\\numpy\\core\\arrayprint.py:716(__init__)\n",
        "        1    0.000    0.000    0.000    0.000 C:\\Users\\nanguiano\\Anaconda\\lib\\warnings.py:318(__init__)\n",
        "        2    0.000    0.000    0.000    0.000 C:\\Users\\nanguiano\\Anaconda\\lib\\site-packages\\numpy\\lib\\utils.py:64(__init__)\n",
        "        1    0.000    0.000    0.000    0.000 C:\\Users\\nanguiano\\Anaconda\\lib\\site-packages\\numpy\\lib\\index_tricks.py:470(__init__)\n",
        "        7    0.000    0.000    0.000    0.000 C:\\Users\\nanguiano\\Anaconda\\lib\\__future__.py:75(__init__)\n",
        "        1    0.000    0.000    0.000    0.000 C:\\Users\\nanguiano\\Anaconda\\lib\\ctypes\\__init__.py:159(py_object)\n",
        "        1    0.000    0.000    0.000    0.000 C:\\Users\\nanguiano\\Anaconda\\lib\\site-packages\\numpy\\ma\\core.py:5962(__init__)\n",
        "        3    0.000    0.000    0.000    0.000 C:\\Users\\nanguiano\\Anaconda\\lib\\ctypes\\__init__.py:104(CFunctionType)\n",
        "        1    0.000    0.000    0.000    0.000 C:\\Users\\nanguiano\\Anaconda\\lib\\site-packages\\numpy\\lib\\_datasource.py:74(__init__)\n",
        "        3    0.000    0.000    0.000    0.000 C:\\Users\\nanguiano\\Anaconda\\lib\\site-packages\\numpy\\core\\arrayprint.py:661(__init__)\n",
        "        1    0.000    0.000    0.000    0.000 C:\\Users\\nanguiano\\Anaconda\\lib\\site-packages\\numpy\\ma\\core.py:5950(__init__)\n",
        "        4    0.000    0.000    0.000    0.000 C:\\Users\\nanguiano\\Anaconda\\lib\\threading.py:58(__init__)\n",
        "        3    0.000    0.000    0.000    0.000 C:\\Users\\nanguiano\\Anaconda\\lib\\ctypes\\__init__.py:494(CFunctionType)\n",
        "        1    0.000    0.000    0.000    0.000 C:\\Users\\nanguiano\\Anaconda\\lib\\ctypes\\__init__.py:332(CDLL)\n",
        "        3    0.000    0.000    0.000    0.000 C:\\Users\\nanguiano\\Anaconda\\lib\\site-packages\\numpy\\ma\\core.py:742(__init__)\n",
        "        6    0.000    0.000    0.000    0.000 C:\\Users\\nanguiano\\Anaconda\\lib\\site-packages\\numpy\\ma\\core.py:774(__init__)\n",
        "        2    0.000    0.000    0.000    0.000 C:\\Users\\nanguiano\\Anaconda\\lib\\site-packages\\numpy\\lib\\index_tricks.py:148(__init__)\n",
        "        4    0.000    0.000    0.000    0.000 C:\\Users\\nanguiano\\Anaconda\\lib\\ctypes\\__init__.py:429(__init__)\n",
        "        2    0.000    0.000    0.000    0.000 C:\\Users\\nanguiano\\Anaconda\\lib\\ctypes\\__init__.py:359(_FuncPtr)\n",
        "        1    0.000    0.000    0.000    0.000 C:\\Users\\nanguiano\\Anaconda\\lib\\ctypes\\__init__.py:388(PyDLL)\n",
        "        1    0.000    0.000    0.000    0.000 C:\\Users\\nanguiano\\Anaconda\\lib\\ctypes\\__init__.py:428(LibraryLoader)\n",
        "        1    0.000    0.000    0.000    0.000 C:\\Users\\nanguiano\\Anaconda\\lib\\site-packages\\numpy\\core\\arrayprint.py:744(__init__)\n",
        "        1    0.000    0.000    0.000    0.000 C:\\Users\\nanguiano\\Anaconda\\lib\\ctypes\\__init__.py:168(c_short)\n",
        "        1    0.000    0.000    0.000    0.000 C:\\Users\\nanguiano\\Anaconda\\lib\\ctypes\\__init__.py:243(c_char_p)\n",
        "        3    0.000    0.000    0.000    0.000 C:\\Users\\nanguiano\\Anaconda\\lib\\site-packages\\numpy\\ma\\core.py:789(__init__)\n",
        "        1    0.000    0.000    0.000    0.000 C:\\Users\\nanguiano\\Anaconda\\lib\\site-packages\\numpy\\__init__.py:127(ModuleDeprecationWarning)\n",
        "        2    0.000    0.000    0.000    0.000 C:\\Users\\nanguiano\\Anaconda\\lib\\site-packages\\numpy\\lib\\index_tricks.py:647(__init__)\n",
        "        1    0.000    0.000    0.000    0.000 C:\\Users\\nanguiano\\Anaconda\\lib\\site-packages\\numpy\\__init__.py:139(VisibleDeprecationWarning)\n",
        "        1    0.000    0.000    0.000    0.000 C:\\Users\\nanguiano\\Anaconda\\lib\\ctypes\\__init__.py:201(c_double)\n",
        "        1    0.000    0.000    0.000    0.000 C:\\Users\\nanguiano\\Anaconda\\lib\\ctypes\\__init__.py:255(c_void_p)\n",
        "        1    0.000    0.000    0.000    0.000 C:\\Users\\nanguiano\\Anaconda\\lib\\ctypes\\__init__.py:180(c_ulong)\n",
        "        1    0.000    0.000    0.000    0.000 C:\\Users\\nanguiano\\Anaconda\\lib\\ctypes\\__init__.py:219(c_ulonglong)\n",
        "        1    0.000    0.000    0.000    0.000 C:\\Users\\nanguiano\\Anaconda\\lib\\ctypes\\__init__.py:172(c_ushort)\n",
        "        1    0.000    0.000    0.000    0.000 C:\\Users\\nanguiano\\Anaconda\\lib\\site-packages\\numpy\\ma\\core.py:2253(__init__)\n",
        "        2    0.000    0.000    0.000    0.000 C:\\Users\\nanguiano\\Anaconda\\lib\\site-packages\\numpy\\ma\\core.py:801(__init__)\n",
        "        1    0.000    0.000    0.000    0.000 C:\\Users\\nanguiano\\Anaconda\\lib\\ctypes\\__init__.py:419(OleDLL)\n",
        "        1    0.000    0.000    0.000    0.000 C:\\Users\\nanguiano\\Anaconda\\lib\\ctypes\\__init__.py:215(c_longlong)\n",
        "        1    0.000    0.000    0.000    0.000 C:\\Users\\nanguiano\\Anaconda\\lib\\ctypes\\__init__.py:176(c_long)\n",
        "        1    0.000    0.000    0.000    0.000 C:\\Users\\nanguiano\\Anaconda\\lib\\ctypes\\__init__.py:397(WinDLL)\n",
        "        1    0.000    0.000    0.000    0.000 C:\\Users\\nanguiano\\Anaconda\\lib\\ctypes\\__init__.py:238(c_char)\n",
        "        1    0.000    0.000    0.000    0.000 C:\\Users\\nanguiano\\Anaconda\\lib\\ctypes\\__init__.py:233(c_byte)\n",
        "        1    0.000    0.000    0.000    0.000 C:\\Users\\nanguiano\\Anaconda\\lib\\ctypes\\__init__.py:260(c_bool)\n",
        "        1    0.000    0.000    0.000    0.000 C:\\Users\\nanguiano\\Anaconda\\lib\\ctypes\\__init__.py:197(c_float)\n",
        "        1    0.000    0.000    0.000    0.000 C:\\Users\\nanguiano\\Anaconda\\lib\\ctypes\\__init__.py:205(c_longdouble)\n",
        "        1    0.000    0.000    0.000    0.000 C:\\Users\\nanguiano\\Anaconda\\lib\\ctypes\\__init__.py:294(c_wchar)\n",
        "        1    0.000    0.000    0.000    0.000 C:\\Users\\nanguiano\\Anaconda\\lib\\ctypes\\__init__.py:291(c_wchar_p)\n",
        "        1    0.000    0.000    0.000    0.000 C:\\Users\\nanguiano\\Anaconda\\lib\\site-packages\\numpy\\ma\\core.py:762(__init__)\n",
        "        1    0.000    0.000    0.000    0.000 C:\\Users\\nanguiano\\Anaconda\\lib\\ctypes\\__init__.py:406(HRESULT)\n",
        "        1    0.000    0.000    0.000    0.000 C:\\Users\\nanguiano\\Anaconda\\lib\\ctypes\\__init__.py:226(c_ubyte)\n",
        "\n",
        "\n"
       ]
      },
      {
       "metadata": {},
       "output_type": "pyout",
       "prompt_number": 2,
       "text": [
        "<pstats.Stats instance at 0x00000000039C0C08>"
       ]
      }
     ],
     "prompt_number": 2
    },
    {
     "cell_type": "markdown",
     "metadata": {},
     "source": [
      "Using magic comman %prun"
     ]
    },
    {
     "cell_type": "code",
     "collapsed": false,
     "input": [
      "%prun?"
     ],
     "language": "python",
     "metadata": {},
     "outputs": [],
     "prompt_number": 128
    },
    {
     "cell_type": "code",
     "collapsed": false,
     "input": [
      "import numpyExample_4\n",
      "%prun numpyExample_4.sieveOfEratosthenes(100000) #Using magic command"
     ],
     "language": "python",
     "metadata": {},
     "outputs": [
      {
       "output_type": "stream",
       "stream": "stdout",
       "text": [
        " "
       ]
      }
     ],
     "prompt_number": 115
    },
    {
     "cell_type": "code",
     "collapsed": false,
     "input": [
      "%prun -D numpyExample_4_sieve.prof numpyExample_4.sieveOfEratosthenes(100000)"
     ],
     "language": "python",
     "metadata": {},
     "outputs": [
      {
       "output_type": "stream",
       "stream": "stdout",
       "text": [
        " \n",
        "*** Profile stats marshalled to file u'numpyExample_4_sieve.prof'. \n"
       ]
      }
     ],
     "prompt_number": 116
    },
    {
     "cell_type": "code",
     "collapsed": false,
     "input": [
      "%prun -q -D scipy_interp.prof f(xvals)"
     ],
     "language": "python",
     "metadata": {},
     "outputs": [
      {
       "output_type": "stream",
       "stream": "stdout",
       "text": [
        " \n",
        "*** Profile stats marshalled to file u'scipy_interp.prof'. \n"
       ]
      }
     ],
     "prompt_number": 117
    },
    {
     "cell_type": "code",
     "collapsed": false,
     "input": [
      "%prun -q -D numpy_interp.prof np.interp(xvals, x, y)"
     ],
     "language": "python",
     "metadata": {},
     "outputs": [
      {
       "output_type": "stream",
       "stream": "stdout",
       "text": [
        " \n",
        "*** Profile stats marshalled to file u'numpy_interp.prof'. \n"
       ]
      }
     ],
     "prompt_number": 118
    },
    {
     "cell_type": "markdown",
     "metadata": {},
     "source": [
      "Show stats:"
     ]
    },
    {
     "cell_type": "code",
     "collapsed": false,
     "input": [
      "import pstats\n",
      "stats = pstats.Stats('scipy_interp.prof')\n",
      "stats.sort_stats('tottime').print_stats(3) #three rows"
     ],
     "language": "python",
     "metadata": {},
     "outputs": [
      {
       "output_type": "stream",
       "stream": "stdout",
       "text": [
        "Fri Oct 24 00:23:23 2014    scipy_interp.prof\n",
        "\n",
        "         26 function calls in 0.000 seconds\n",
        "\n",
        "   Ordered by: internal time\n",
        "   List reduced from 20 to 3 due to restriction <3>\n",
        "\n",
        "   ncalls  tottime  percall  cumtime  percall filename:lineno(function)\n",
        "        1    0.000    0.000    0.000    0.000 C:\\Users\\nanguiano\\Anaconda\\lib\\site-packages\\scipy\\interpolate\\interpolate.py:423(_call_linear)\n",
        "        1    0.000    0.000    0.000    0.000 C:\\Users\\nanguiano\\Anaconda\\lib\\site-packages\\scipy\\interpolate\\interpolate.py:483(_check_bounds)\n",
        "        2    0.000    0.000    0.000    0.000 {method 'reduce' of 'numpy.ufunc' objects}\n",
        "\n",
        "\n"
       ]
      },
      {
       "metadata": {},
       "output_type": "pyout",
       "prompt_number": 119,
       "text": [
        "<pstats.Stats instance at 0x0000000011895C08>"
       ]
      }
     ],
     "prompt_number": 119
    },
    {
     "cell_type": "code",
     "collapsed": false,
     "input": [
      "import pstats\n",
      "stats = pstats.Stats('numpy_interp.prof')\n",
      "stats.sort_stats('cumtime').print_stats(3) #three rows"
     ],
     "language": "python",
     "metadata": {},
     "outputs": [
      {
       "output_type": "stream",
       "stream": "stdout",
       "text": [
        "Thu Oct 23 23:11:06 2014    numpy_interp.prof\n",
        "\n",
        "         6 function calls in 0.000 seconds\n",
        "\n",
        "   Ordered by: cumulative time\n",
        "   List reduced from 5 to 3 due to restriction <3>\n",
        "\n",
        "   ncalls  tottime  percall  cumtime  percall filename:lineno(function)\n",
        "        1    0.000    0.000    0.000    0.000 <string>:1(<module>)\n",
        "        1    0.000    0.000    0.000    0.000 C:\\Users\\nanguiano\\Anaconda\\lib\\site-packages\\numpy\\lib\\function_base.py:1105(interp)\n",
        "        1    0.000    0.000    0.000    0.000 {numpy.lib._compiled_base.interp}\n",
        "\n",
        "\n"
       ]
      },
      {
       "metadata": {},
       "output_type": "pyout",
       "prompt_number": 68,
       "text": [
        "<pstats.Stats instance at 0x0000000009B4A308>"
       ]
      }
     ],
     "prompt_number": 68
    },
    {
     "cell_type": "markdown",
     "metadata": {},
     "source": [
      "\n",
      "Profiling can help to find useless calculations:"
     ]
    },
    {
     "cell_type": "code",
     "collapsed": false,
     "input": [
      "import pandas as pd\n",
      "import numpy as np\n",
      "unames = ['user_id', 'gender', 'age', 'occupation', 'zip']\n",
      "users = pd.read_table('../data_files/ml-1m/users.dat', sep='::', header=None, names=unames, engine='python')\n",
      "rnames = ['user_id', 'movie_id', 'rating', 'timestamp']\n",
      "ratings = pd.read_table('../data_files/ml-1m/ratings.dat', sep='::', header=None, names=rnames,  engine='python')\n",
      "mnames = ['movie_id', 'title', 'genres']\n",
      "movies = pd.read_table('../data_files/ml-1m/movies.dat', sep='::', header=None, names=mnames,  engine='python')\n",
      "data = pd.merge(pd.merge(ratings, users), movies)\n",
      "\n",
      "movie_cache = {}\n",
      "user_cache = {}\n",
      "\n",
      "def top_movies(dataFrame,usr):\n",
      "    if usr in user_cache:\n",
      "        return movie_cache[usr]\n",
      "    else:\n",
      "        user_cache[usr] = usr\n",
      "        user = dataFrame[dataFrame.user_id == usr]\n",
      "        max_i = user.rating.max()\n",
      "        movie_cache[usr] = user[user.rating == max_i].title\n",
      "        return movie_cache[usr]\n",
      "\n",
      "def compareTopMovies(data,usr1, usr2):\n",
      "    if usr1 in user_cache:\n",
      "        movi1 = movie_cache[usr1]\n",
      "    else:\n",
      "        movi1 = top_movies(data,usr1).values\n",
      "        \n",
      "    if usr2 in user_cache:\n",
      "        movi2 = movie_cache[usr2]\n",
      "    else:\n",
      "        movi2 = top_movies(data,usr2).values\n",
      "    \n",
      "    hits=np.intersect1d(movi1,movi2)\n",
      "    return hits\n",
      "\n",
      "#Top Movies for user 1\n",
      "#print top_movies(data,1)\n",
      "#Compare TopMovies shared by two users:\n",
      "#print compareTopMovies(data,1,2)"
     ],
     "language": "python",
     "metadata": {},
     "outputs": [],
     "prompt_number": 10
    },
    {
     "cell_type": "code",
     "collapsed": false,
     "input": [
      "#Compare all users between them. Profiling\n",
      "%prun -D compare.prof {x:compareTopMovies(data,1,x) for x in users.user_id if x!=1}"
     ],
     "language": "python",
     "metadata": {},
     "outputs": [
      {
       "output_type": "stream",
       "stream": "stdout",
       "text": [
        " \n",
        "*** Profile stats marshalled to file u'compare.prof'. \n"
       ]
      }
     ],
     "prompt_number": 86
    },
    {
     "cell_type": "code",
     "collapsed": false,
     "input": [
      "import pstats\n",
      "stats = pstats.Stats('compare.prof')\n",
      "stats.sort_stats('cumtime').print_stats(20) #50 rows"
     ],
     "language": "python",
     "metadata": {},
     "outputs": [
      {
       "output_type": "stream",
       "stream": "stdout",
       "text": [
        "Thu Oct 23 23:55:05 2014    compare.prof\n",
        "\n",
        "         6176936 function calls (6152784 primitive calls) in 70.286 seconds\n",
        "\n",
        "   Ordered by: cumulative time\n",
        "   List reduced from 168 to 20 due to restriction <20>\n",
        "\n",
        "   ncalls  tottime  percall  cumtime  percall filename:lineno(function)\n",
        "        1    0.004    0.004   70.286   70.286 <string>:1(<module>)\n",
        "        1    0.052    0.052   70.282   70.282 <string>:1(<dictcomp>)\n",
        "     6039    0.222    0.000   70.230    0.012 <ipython-input-83-abf49d453d52>:24(compareTopMovies)\n",
        "     6038    0.559    0.000   68.685    0.011 <ipython-input-83-abf49d453d52>:14(top_movies)\n",
        "    12076    0.448    0.000   47.675    0.004 C:\\Users\\nanguiano\\Anaconda\\lib\\site-packages\\pandas\\core\\ops.py:547(wrapper)\n",
        "    30190    0.034    0.000   23.148    0.001 C:\\Users\\nanguiano\\Anaconda\\lib\\site-packages\\pandas\\core\\common.py:111(isnull)\n",
        "    30190    0.152    0.000   23.114    0.001 C:\\Users\\nanguiano\\Anaconda\\lib\\site-packages\\pandas\\core\\common.py:132(_isnull_new)\n",
        "    18114   20.954    0.001   22.656    0.001 C:\\Users\\nanguiano\\Anaconda\\lib\\site-packages\\pandas\\core\\common.py:202(_isnull_ndarraylike)\n",
        "    12076   19.906    0.002   19.916    0.002 C:\\Users\\nanguiano\\Anaconda\\lib\\site-packages\\pandas\\core\\ops.py:524(na_op)\n",
        "    36229    0.386    0.000   18.932    0.001 C:\\Users\\nanguiano\\Anaconda\\lib\\site-packages\\pandas\\core\\frame.py:1655(__getitem__)\n",
        "    12076    0.259    0.000   16.185    0.001 C:\\Users\\nanguiano\\Anaconda\\lib\\site-packages\\pandas\\core\\frame.py:1697(_getitem_array)\n",
        "    12076    0.282    0.000    9.981    0.001 C:\\Users\\nanguiano\\Anaconda\\lib\\site-packages\\pandas\\core\\generic.py:1217(take)\n",
        "    12076    0.351    0.000    8.664    0.001 C:\\Users\\nanguiano\\Anaconda\\lib\\site-packages\\pandas\\core\\internals.py:2961(take)\n",
        "    12076    0.242    0.000    6.237    0.001 C:\\Users\\nanguiano\\Anaconda\\lib\\site-packages\\pandas\\core\\internals.py:2828(reindex_indexer)\n",
        "    12076    4.840    0.000    4.840    0.000 {method 'nonzero' of 'numpy.ndarray' objects}\n",
        "    24152    0.286    0.000    3.919    0.000 C:\\Users\\nanguiano\\Anaconda\\lib\\site-packages\\pandas\\core\\internals.py:742(take_nd)\n",
        "    36228    0.669    0.000    3.351    0.000 C:\\Users\\nanguiano\\Anaconda\\lib\\site-packages\\pandas\\core\\series.py:134(__init__)\n",
        "    24152    0.608    0.000    3.122    0.000 C:\\Users\\nanguiano\\Anaconda\\lib\\site-packages\\pandas\\core\\common.py:620(take_nd)\n",
        "    90570    2.883    0.000    2.883    0.000 {method 'reduce' of 'numpy.ufunc' objects}\n",
        "    78494    0.099    0.000    2.868    0.000 C:\\Users\\nanguiano\\Anaconda\\lib\\site-packages\\numpy\\core\\_methods.py:37(_any)\n",
        "\n",
        "\n"
       ]
      },
      {
       "metadata": {},
       "output_type": "pyout",
       "prompt_number": 89,
       "text": [
        "<pstats.Stats instance at 0x00000000118358C8>"
       ]
      }
     ],
     "prompt_number": 89
    },
    {
     "cell_type": "markdown",
     "metadata": {},
     "source": [
      "We can realize that TopMovie is called 2 times per each user in the table, inside compareTopMovies.\n",
      "Lets see these functions line per line "
     ]
    },
    {
     "cell_type": "markdown",
     "metadata": {},
     "source": [
      "###Line Profiler"
     ]
    },
    {
     "cell_type": "markdown",
     "metadata": {},
     "source": [
      "See how long it took each line in a function to run.  Functions to profile this way must be passed by name with -f."
     ]
    },
    {
     "cell_type": "code",
     "collapsed": false,
     "input": [
      "##pip install line-profiler\n",
      "%load_ext line_profiler"
     ],
     "language": "python",
     "metadata": {},
     "outputs": [
      {
       "output_type": "stream",
       "stream": "stdout",
       "text": [
        "The line_profiler extension is already loaded. To reload it, use:\n",
        "  %reload_ext line_profiler\n"
       ]
      }
     ],
     "prompt_number": 120
    },
    {
     "cell_type": "code",
     "collapsed": false,
     "input": [
      "%lprun?\n",
      "%lprun -f top_movies top_movies(data,1) "
     ],
     "language": "python",
     "metadata": {},
     "outputs": [],
     "prompt_number": 123
    },
    {
     "cell_type": "code",
     "collapsed": false,
     "input": [
      "%lprun -f compareTopMovies compareTopMovies(data,1,2)"
     ],
     "language": "python",
     "metadata": {},
     "outputs": [],
     "prompt_number": 124
    },
    {
     "cell_type": "markdown",
     "metadata": {},
     "source": [
      "###Memory profiler\n"
     ]
    },
    {
     "cell_type": "markdown",
     "metadata": {},
     "source": [
      "Now let's take a look into memory profiling. "
     ]
    },
    {
     "cell_type": "code",
     "collapsed": false,
     "input": [
      "##pip install psutil\n",
      "##pip install memory-profiler\n",
      "%load_ext memory_profiler"
     ],
     "language": "python",
     "metadata": {},
     "outputs": [],
     "prompt_number": 1
    },
    {
     "cell_type": "markdown",
     "metadata": {},
     "source": [
      "See how much memory a script uses line by line. Let\u2019s take a look at the sieveOfEratosthenes function that we profiled with %prun - except this time we\u2019re interested in incremental memory usage and not execution time. NOTE: %mprun can only be used on functions defined in physical files, and not in the IPython environment."
     ]
    },
    {
     "cell_type": "code",
     "collapsed": false,
     "input": [
      "#%mprun?\n",
      "#clear all variables\n",
      "#%reset \n",
      "import pandasExample_4\n",
      "%mprun -f pandasExample_4.test pandasExample_4.test()"
     ],
     "language": "python",
     "metadata": {},
     "outputs": [
      {
       "output_type": "stream",
       "stream": "stdout",
       "text": [
        "0        One Flew Over the Cuckoo's Nest (1975)\n",
        "4201                       Bug's Life, A (1998)\n",
        "8222                             Ben-Hur (1959)\n",
        "8926                  Christmas Story, A (1983)\n",
        "12759               Beauty and the Beast (1991)\n",
        "15859                Sound of Music, The (1965)\n",
        "19503                         Awakenings (1990)\n",
        "23270                 Back to the Future (1985)\n",
        "25853                   Schindler's List (1993)\n",
        "28501                         Pocahontas (1995)\n",
        "37204            Last Days of Disco, The (1998)\n",
        "37339                         Cinderella (1950)\n",
        "40375                          Apollo 13 (1995)\n",
        "41626                          Toy Story (1995)\n",
        "43703                           Rain Man (1988)\n",
        "49748                       Mary Poppins (1964)\n",
        "50759                              Dumbo (1941)\n",
        "52255                Saving Private Ryan (1998)\n",
        "Name: title, dtype: object\n",
        "[\"One Flew Over the Cuckoo's Nest (1975)\"]\n",
        "('',)"
       ]
      },
      {
       "output_type": "stream",
       "stream": "stdout",
       "text": [
        "\n"
       ]
      }
     ],
     "prompt_number": 3
    },
    {
     "cell_type": "markdown",
     "metadata": {},
     "source": [
      "See how much memory a script uses overall. %memit works a lot like %timeit except that the number of iterations is set with -r instead of -n."
     ]
    },
    {
     "cell_type": "code",
     "collapsed": false,
     "input": [
      "%memit -r 3  pandasExample_4.test()"
     ],
     "language": "python",
     "metadata": {},
     "outputs": [
      {
       "output_type": "stream",
       "stream": "stdout",
       "text": [
        "0        One Flew Over the Cuckoo's Nest (1975)\n",
        "4201                       Bug's Life, A (1998)\n",
        "8222                             Ben-Hur (1959)\n",
        "8926                  Christmas Story, A (1983)\n",
        "12759               Beauty and the Beast (1991)\n",
        "15859                Sound of Music, The (1965)\n",
        "19503                         Awakenings (1990)\n",
        "23270                 Back to the Future (1985)\n",
        "25853                   Schindler's List (1993)\n",
        "28501                         Pocahontas (1995)\n",
        "37204            Last Days of Disco, The (1998)\n",
        "37339                         Cinderella (1950)\n",
        "40375                          Apollo 13 (1995)\n",
        "41626                          Toy Story (1995)\n",
        "43703                           Rain Man (1988)\n",
        "49748                       Mary Poppins (1964)\n",
        "50759                              Dumbo (1941)\n",
        "52255                Saving Private Ryan (1998)\n",
        "Name: title, dtype: object\n",
        "[\"One Flew Over the Cuckoo's Nest (1975)\"]\n",
        "0        One Flew Over the Cuckoo's Nest (1975)\n",
        "4201                       Bug's Life, A (1998)\n",
        "8222                             Ben-Hur (1959)\n",
        "8926                  Christmas Story, A (1983)\n",
        "12759               Beauty and the Beast (1991)\n",
        "15859                Sound of Music, The (1965)\n",
        "19503                         Awakenings (1990)\n",
        "23270                 Back to the Future (1985)\n",
        "25853                   Schindler's List (1993)\n",
        "28501                         Pocahontas (1995)\n",
        "37204            Last Days of Disco, The (1998)\n",
        "37339                         Cinderella (1950)\n",
        "40375                          Apollo 13 (1995)\n",
        "41626                          Toy Story (1995)\n",
        "43703                           Rain Man (1988)\n",
        "49748                       Mary Poppins (1964)\n",
        "50759                              Dumbo (1941)\n",
        "52255                Saving Private Ryan (1998)\n",
        "Name: title, dtype: object"
       ]
      },
      {
       "output_type": "stream",
       "stream": "stdout",
       "text": [
        "\n",
        "[\"One Flew Over the Cuckoo's Nest (1975)\"]\n",
        "0        One Flew Over the Cuckoo's Nest (1975)\n",
        "4201                       Bug's Life, A (1998)\n",
        "8222                             Ben-Hur (1959)\n",
        "8926                  Christmas Story, A (1983)\n",
        "12759               Beauty and the Beast (1991)\n",
        "15859                Sound of Music, The (1965)\n",
        "19503                         Awakenings (1990)\n",
        "23270                 Back to the Future (1985)\n",
        "25853                   Schindler's List (1993)\n",
        "28501                         Pocahontas (1995)\n",
        "37204            Last Days of Disco, The (1998)\n",
        "37339                         Cinderella (1950)\n",
        "40375                          Apollo 13 (1995)\n",
        "41626                          Toy Story (1995)\n",
        "43703                           Rain Man (1988)\n",
        "49748                       Mary Poppins (1964)\n",
        "50759                              Dumbo (1941)\n",
        "52255                Saving Private Ryan (1998)\n",
        "Name: title, dtype: object"
       ]
      },
      {
       "output_type": "stream",
       "stream": "stdout",
       "text": [
        "\n",
        "[\"One Flew Over the Cuckoo's Nest (1975)\"]\n",
        "peak memory: 373.10 MiB, increment: 307.97 MiB"
       ]
      },
      {
       "output_type": "stream",
       "stream": "stdout",
       "text": [
        "\n"
       ]
      }
     ],
     "prompt_number": 4
    },
    {
     "cell_type": "markdown",
     "metadata": {},
     "source": [
      "##Challenges\n",
      "\n",
      "1. Change the sieve Of Eratosthenes implemantion, such that its performances would be better. Hint: use Numpy arrays and boolean filters.\n",
      "\n",
      "2. Change function compareTopMovies in order to get better performance, by reducing useless code. Hint: reuse before recalculate."
     ]
    },
    {
     "cell_type": "markdown",
     "metadata": {},
     "source": [
      "Version Control with Git\n",
      "========================"
     ]
    },
    {
     "cell_type": "markdown",
     "metadata": {},
     "source": [
      "Version control also known as Revision control, source control is the\n",
      "**management of changes to documents, programs, and other information stored as computer files.**\n",
      "\n",
      "They are used in virtually all software development and in all environments, by everyone and everywhere VCS can used on almost any digital content, so it is not only restricted to software development, and is also very useful for manuscript files, figures, data and notebooks!\n",
      "\n",
      "Without a VCS, it happens situations like these:"
     ]
    },
    {
     "cell_type": "markdown",
     "metadata": {},
     "source": [
      "<img src=\"http://www.phdcomics.com/comics/archive/phd101212s.gif\">\n",
      "\n",
      "<img src=\"http://www.phdcomics.com/comics/archive/phd052810s.gif\">\n",
      "\n",
      "\"Piled Higher and Deeper\" by Jorge Cham, http://www.phdcomics.com"
     ]
    },
    {
     "cell_type": "markdown",
     "metadata": {},
     "source": [
      "There are two main purposes of RCS systems:\n",
      "\n",
      "1. Keep track of changes in the source code.\n",
      "    * Allow reverting back to an older revision if something goes wrong.\n",
      "    * Work on several \"branches\" of the software concurrently.\n",
      "    * Tags revisions to keep track of which version of the software that was used for what (for example, \"release-1.0\")\n",
      "2. Make it possible for serveral people to collaboratively work on the same code base simultaneously.\n",
      "    * Allow many authors to make changes to the code.\n",
      "    * Clearly communicating and visualizing changes in the code base to everyone involved."
     ]
    },
    {
     "cell_type": "markdown",
     "metadata": {},
     "source": [
      "###Basic Terminology\n",
      "\n",
      "In an VCS, the source code or digital content is stored in a **repository**. \n",
      "\n",
      "* The repository does not only contain the latest version of all files, but the complete history of all changes to the files since they were added to the repository. \n",
      "\n",
      "* A user can **checkout** the repository, and obtain a local working copy of the files. All changes are made to the files in the local working directory, where files can be added, removed and updated. \n",
      "\n",
      "* When a task has been completed, the changes to the local files are **commited** (saved to the repository).\n",
      "\n",
      "* If someone else has been making changes to the same files, a **conflict** can occur. In many cases conflicts can be **resolved** automatically by the system, but in some cases we might manually have to **merge** different changes together.\n",
      "\n",
      "* It is often useful to create a new **branch** in a repository, or a **fork** or **clone** of an entire repository, when we doing larger experimental development. The main branch in a repository is called often **master** or **trunk**. When work on a branch or fork is completed, it can be merged in to the master branch/repository.\n",
      "\n",
      "### Client-Server VCS\n",
      "In Client-Server VCS the **repository** is hosted by a server. A client program is used for managing versions of the local working copy \n",
      "\n",
      "The most important client-server open-source VCS are:\n",
      "\n",
      "* CVS  ([Concurrent Version System](http://www.nongnu.org/cvs/))\n",
      "* SVN  ([Subversion](http://subversion.apache.org/)) \n",
      "\n",
      "\n",
      "\n",
      "### Distributed VCS\n",
      "In Distrubutd VCS code is shared by different **repositories**. In general, it exists a local repository along the local working copy, and a remote repository for collaborating. \n",
      "\n",
      "With distributed VCS we can **pull** and **push** changesets between different repositories. For example, between the local copy of the repository to a central online reposistory (for example on a community repository host site like github.com).\n",
      "\n",
      "The most important distributed open-source VCS are:\n",
      "\n",
      "* [Git](http://git-scm.com/)\n",
      "* [Mercurial](http://mercurial.selenic.com/)\n",
      "\n",
      "\n",
      "<img src=\"./GitCommands.png\">\n",
      "\n"
     ]
    },
    {
     "cell_type": "markdown",
     "metadata": {},
     "source": [
      "##Working with a distant repository \n",
      "\n",
      "With a hosted repository it easy to collaborate with colleagues on the same code base, and you get a graphical user interface where you can browse the code and look at commit logs, track issues etc.\n",
      "\n",
      "Some good hosted repositories are\n",
      "\n",
      "* [Github](http://www.github.com)\n",
      "* [Bitbucket](http://www.bitbucket.org)\n",
      "\n",
      "Github.com is a web hosting plateform for git projects. It provide free git repository for opensource projects (private ones can be purchased, or asked for free for [students](https://education.github.com/discount_requests/new)) as well as it provides great tools to review code, manage projects, release packages and publish documentation. Most of the scientific python code you will use in this course are hosted on github.\n",
      "\n",
      "Bitbucket.com provides unlimited private code repositories for free for teams up to 5 developers\n",
      "\n",
      "There are also a number of graphical users interfaces for GIT. The available options vary a little bit from platform to platform:\n",
      "\n",
      "* http://git-scm.com/downloads/guis"
     ]
    },
    {
     "cell_type": "markdown",
     "metadata": {},
     "source": [
      "Now, let\u2019s go on github.com, and create an account:\n",
      "\n",
      "https://github.com/join"
     ]
    },
    {
     "cell_type": "markdown",
     "metadata": {},
     "source": [
      "Once this is done, we can easily create a new project by cliking on the green button, on the main page:"
     ]
    },
    {
     "cell_type": "markdown",
     "metadata": {},
     "source": [
      "https://github.com/new\n",
      "\n",
      "Github redirects you to a page, where you specify the name of the repository and a few information. By default, git repositories hosted on github will be public. \n",
      "Github then displays a page with a url, and some information on how to proceed to configure your local repository. Note that if you decide to create a README file, a Licence or a .gitignore on github, it will automatically commit."
     ]
    },
    {
     "cell_type": "markdown",
     "metadata": {},
     "source": [
      "**Hands On**\n",
      "\n",
      "Create a Repository called `DataScience` in your github account"
     ]
    },
    {
     "cell_type": "markdown",
     "metadata": {},
     "source": [
      "First, we have to **clone** the remote repository.\n",
      "The name of the repository can be found at the right part of the screen:\n",
      "\n",
      "<img src=\"./GitHub.png\">\n",
      "\n",
      "\n",
      "You can **clone** the repository through you Github Desktop client by clicking in button `Clone in Desktop`\n",
      "\n",
      "Next, your Github Desktop will open. You will be asked for what directory you want to clone the repository. Then the Github Desktop will open. \n",
      "\n",
      "From now on, all changes to this repository will be shown in the `Changes` tab. "
     ]
    },
    {
     "cell_type": "markdown",
     "metadata": {},
     "source": [
      "**Hands On**\n",
      "Download your pandas notebook exercices as .py file. Put your code in a directory called `DataScience-Pandas` inside your `DataScience` repository "
     ]
    },
    {
     "cell_type": "markdown",
     "metadata": {},
     "source": [
      "Now you can observe that exists changes in your local copy. The first thing to do, is add this document to the Repository. In your Desktop client it would by tagged as New. Now write a comment on the `Summary` text area  and commit the changes to your **Local** repository. This can be done by pressing the `commit` button"
     ]
    },
    {
     "cell_type": "markdown",
     "metadata": {},
     "source": [
      "The changes have not been upload to remote repostitory yet. If you check your repository on github.com, you'll see that the changes are not present. To do this you need to `push` your changes. \n",
      "\n",
      "**Hands On**\n",
      "\n",
      "In the menu `Repository` select `Push` option. Now the changes are published to the remote repository\n",
      "\n",
      "If you remove any file in your local directory, it will be marked as deleted"
     ]
    },
    {
     "cell_type": "markdown",
     "metadata": {},
     "source": [
      "###Collaborating"
     ]
    },
    {
     "cell_type": "markdown",
     "metadata": {},
     "source": [
      "**Hands On**\n",
      "\n",
      "Now we're going to form teams of 5 students. Choose one github user of your team for work with. \n",
      "Go to `Settings` [page](https://github.com/eloipuertas/ES2013Dimarts/settings) and add your other team members. \n",
      "\n",
      "Now follow the next steps:\n",
      "* Clone your team user `DataScience` Repository\n",
      "* Go to `DataScience-Pandas` file and execute it.\n",
      "* Create a new commentary on the beggining of the file with your avaluations and comments about the first excercise\n",
      "* Commit changes.\n",
      "* Push changes.\n",
      "\n",
      "It have ocurred any **conflict**?\n",
      "If it does, resolve them:\n",
      "* Revise `history` tab to see the different updates of the repository.\n",
      "\n",
      "\n",
      "\n",
      "\n",
      "Finally `Pull` the repository to update the changes in your local repositories. (In the menu `Repository` select `Pull` option)\n",
      "\n",
      "\n",
      "\n",
      "Now do the same thing but using the notebook file instead of the python file. Upload your version of pandas notebook, and the rest of the group change it, putting news cells with comments and avalauation.\n",
      "\n",
      "* It have ocurred any **conflict**? If it does, resolve them.\n",
      "\n",
      "Now you can see how looks like your notebook in the nbviewer webpage:\n",
      "\n",
      "http://nbviewer.ipython.org/\n",
      "\n",
      "Just put your username and repository"
     ]
    },
    {
     "cell_type": "markdown",
     "metadata": {},
     "source": [
      "##Working with a local repository\n"
     ]
    },
    {
     "cell_type": "markdown",
     "metadata": {},
     "source": [
      "You can create a local repository in your machine instead of using a distant repository.\n",
      "In the GitHub Desktop client press the `+` symbol and go to the `Create` tab. It ask you for a repository name and the local path. Once create it you can commit new versions."
     ]
    },
    {
     "cell_type": "markdown",
     "metadata": {},
     "source": [
      "**Hands On**\n",
      "\n",
      "* create a new git local repository called gitdemo\n",
      "\n",
      "* Add your notebook files.\n",
      "\n",
      "* Commit them\n",
      "\n",
      "* Push them "
     ]
    }
   ],
   "metadata": {}
  }
 ]
}