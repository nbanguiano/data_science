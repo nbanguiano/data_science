{
 "metadata": {
  "name": "",
  "signature": "sha256:4a6c23d41f6e6d174bd270fc9e1814d32cf1e70492adce320cd94e8edbe2b43e"
 },
 "nbformat": 3,
 "nbformat_minor": 0,
 "worksheets": [
  {
   "cells": [
    {
     "cell_type": "markdown",
     "metadata": {},
     "source": [
      "# Advanced programming for data analysis: pandas.\n",
      "\n",
      "pandas is a Python package providing fast, flexible, and expressive data structures designed to work with relational or labeled data both. It is a fundamental high-level building block for doing practical, real world data analysis in Python.\n",
      "\n",
      "pandas is well suited for:\n",
      "\n",
      "+ Tabular data with heterogeneously-typed columns, as in an SQL table or Excel spreadsheet\n",
      "+ Ordered and unordered (not necessarily fixed-frequency) time series data.\n",
      "+ Arbitrary matrix data (homogeneously typed or heterogeneous) with row and column labels.\n",
      "\n",
      "Key features:\n",
      "\n",
      "+ Easy handling of missing data\n",
      "+ Size mutability: columns can be inserted and deleted from DataFrame\n",
      "+ Powerful, flexible ``group by`` functionality to perform split-apply-combine operations on data sets\n",
      "+ Intelligent label-based slicing, fancy indexing, and subsetting of large data sets\n",
      "+ Intuitive merging and joining data sets\n",
      "+ Flexible reshaping and pivoting of data sets\n",
      "+ Hierarchical labeling of axes\n",
      "+ Robust IO tools for loading data from flat files, Excel files, databases, and HDF5\n",
      "+ Time series functionality: date range generation and frequency conversion, moving window statistics, moving window linear regressions, date shifting and lagging, etc.\n"
     ]
    },
    {
     "cell_type": "markdown",
     "metadata": {},
     "source": [
      "Importing pandas:"
     ]
    },
    {
     "cell_type": "code",
     "collapsed": false,
     "input": [
      "import pandas as pd                            # convention, alias 'pd'\n"
     ],
     "language": "python",
     "metadata": {},
     "outputs": [],
     "prompt_number": 2
    },
    {
     "cell_type": "markdown",
     "metadata": {},
     "source": [
      "## Pandas Data Structure\n",
      "\n",
      "###Series\n",
      "\n",
      "A Series is a single vector of data with an index that labels every element in the vector. If we do not specify the index, a sequence of integers is assigned as the index."
     ]
    },
    {
     "cell_type": "code",
     "collapsed": false,
     "input": [
      "c = pd.Series([1956, 1967, 1989, 2000])\n",
      "c"
     ],
     "language": "python",
     "metadata": {},
     "outputs": [
      {
       "metadata": {},
       "output_type": "pyout",
       "prompt_number": 416,
       "text": [
        "0    1956\n",
        "1    1967\n",
        "2    1989\n",
        "3    2000\n",
        "dtype: int64"
       ]
      }
     ],
     "prompt_number": 416
    },
    {
     "cell_type": "markdown",
     "metadata": {},
     "source": [
      "Its values are stored in a NumPy array (``values``) and the index in a pandas ``Index`` object:"
     ]
    },
    {
     "cell_type": "code",
     "collapsed": false,
     "input": [
      "c.values"
     ],
     "language": "python",
     "metadata": {},
     "outputs": [
      {
       "metadata": {},
       "output_type": "pyout",
       "prompt_number": 417,
       "text": [
        "array([1956, 1967, 1989, 2000])"
       ]
      }
     ],
     "prompt_number": 417
    },
    {
     "cell_type": "code",
     "collapsed": false,
     "input": [
      "c.index"
     ],
     "language": "python",
     "metadata": {},
     "outputs": [
      {
       "metadata": {},
       "output_type": "pyout",
       "prompt_number": 418,
       "text": [
        "Int64Index([0, 1, 2, 3], dtype='int64')"
       ]
      }
     ],
     "prompt_number": 418
    },
    {
     "cell_type": "markdown",
     "metadata": {},
     "source": [
      "We can assign labels to the index, while creating the serie"
     ]
    },
    {
     "cell_type": "code",
     "collapsed": false,
     "input": [
      "c = pd.Series([1956, 1967, 1989, 2000], index = ['a','b','c','d'])\n",
      "c"
     ],
     "language": "python",
     "metadata": {},
     "outputs": [
      {
       "metadata": {},
       "output_type": "pyout",
       "prompt_number": 419,
       "text": [
        "a    1956\n",
        "b    1967\n",
        "c    1989\n",
        "d    2000\n",
        "dtype: int64"
       ]
      }
     ],
     "prompt_number": 419
    },
    {
     "cell_type": "markdown",
     "metadata": {},
     "source": [
      "Labels can be used to refer to the values in the serie"
     ]
    },
    {
     "cell_type": "code",
     "collapsed": false,
     "input": [
      "c['d']"
     ],
     "language": "python",
     "metadata": {},
     "outputs": [
      {
       "metadata": {},
       "output_type": "pyout",
       "prompt_number": 420,
       "text": [
        "2000"
       ]
      }
     ],
     "prompt_number": 420
    },
    {
     "cell_type": "markdown",
     "metadata": {},
     "source": [
      "We can still use positional index"
     ]
    },
    {
     "cell_type": "code",
     "collapsed": false,
     "input": [
      "c[3]"
     ],
     "language": "python",
     "metadata": {},
     "outputs": [
      {
       "metadata": {},
       "output_type": "pyout",
       "prompt_number": 421,
       "text": [
        "2000"
       ]
      }
     ],
     "prompt_number": 421
    },
    {
     "cell_type": "markdown",
     "metadata": {},
     "source": [
      "We can give both the array of values and the index meaningful labels names"
     ]
    },
    {
     "cell_type": "code",
     "collapsed": false,
     "input": [
      "c.name = 'years'\n",
      "c.index.name = 'obs'\n",
      "c"
     ],
     "language": "python",
     "metadata": {},
     "outputs": [
      {
       "metadata": {},
       "output_type": "pyout",
       "prompt_number": 422,
       "text": [
        "obs\n",
        "a      1956\n",
        "b      1967\n",
        "c      1989\n",
        "d      2000\n",
        "Name: years, dtype: int64"
       ]
      }
     ],
     "prompt_number": 422
    },
    {
     "cell_type": "markdown",
     "metadata": {},
     "source": [
      "###Time Series"
     ]
    },
    {
     "cell_type": "markdown",
     "metadata": {},
     "source": [
      "In working with time series data, we will frequently seek to:\n",
      "\n",
      "- generate sequences of fixed-frequency dates and time spans\n",
      "- conform or convert time series to a particular frequency\n",
      "- compute \u201crelative\u201d dates based on various non-standard time increments (e.g. 5 business days before the last business day of the year), or \u201croll\u201d dates forward or backward\n",
      "\n",
      "pandas provides a relatively compact and self-contained set of tools for performing the above tasks.\n",
      "\n",
      "Create a range of dates:"
     ]
    },
    {
     "cell_type": "code",
     "collapsed": false,
     "input": [
      "# 72 hours starting with midnight Jan 1st, 2011\n",
      "rng = pd.date_range('1/1/2011', periods=72, freq='H')"
     ],
     "language": "python",
     "metadata": {},
     "outputs": [],
     "prompt_number": 423
    },
    {
     "cell_type": "markdown",
     "metadata": {},
     "source": [
      "Index pandas objects with dates:"
     ]
    },
    {
     "cell_type": "code",
     "collapsed": false,
     "input": [
      "import numpy as np\n",
      "ts = pd.Series(np.random.randint(0,500,len(rng)),index = rng)\n",
      "ts.head()"
     ],
     "language": "python",
     "metadata": {},
     "outputs": [
      {
       "metadata": {},
       "output_type": "pyout",
       "prompt_number": 424,
       "text": [
        "2011-01-01 00:00:00    345\n",
        "2011-01-01 01:00:00    287\n",
        "2011-01-01 02:00:00    338\n",
        "2011-01-01 03:00:00    430\n",
        "2011-01-01 04:00:00    193\n",
        "Freq: H, dtype: int64"
       ]
      }
     ],
     "prompt_number": 424
    },
    {
     "cell_type": "markdown",
     "metadata": {},
     "source": [
      "Change frequency and fill gaps:"
     ]
    },
    {
     "cell_type": "code",
     "collapsed": false,
     "input": [
      "# to 45 minute frequency and forward fill\n",
      "converted = ts.asfreq('45Min', method='pad')\n",
      "converted.head()"
     ],
     "language": "python",
     "metadata": {},
     "outputs": [
      {
       "metadata": {},
       "output_type": "pyout",
       "prompt_number": 425,
       "text": [
        "2011-01-01 00:00:00    345\n",
        "2011-01-01 00:45:00    345\n",
        "2011-01-01 01:30:00    287\n",
        "2011-01-01 02:15:00    338\n",
        "2011-01-01 03:00:00    430\n",
        "Freq: 45T, dtype: int64"
       ]
      }
     ],
     "prompt_number": 425
    },
    {
     "cell_type": "code",
     "collapsed": false,
     "input": [
      "ts.resample('D', how='mean')"
     ],
     "language": "python",
     "metadata": {},
     "outputs": [
      {
       "metadata": {},
       "output_type": "pyout",
       "prompt_number": 426,
       "text": [
        "2011-01-01    267.166667\n",
        "2011-01-02    203.833333\n",
        "2011-01-03    240.041667\n",
        "Freq: D, dtype: float64"
       ]
      }
     ],
     "prompt_number": 426
    },
    {
     "cell_type": "markdown",
     "metadata": {},
     "source": [
      "Time zone representation"
     ]
    },
    {
     "cell_type": "markdown",
     "metadata": {},
     "source": [
      "Convert to another time zone"
     ]
    },
    {
     "cell_type": "markdown",
     "metadata": {},
     "source": [
      "Convert to TimeStamps"
     ]
    },
    {
     "cell_type": "markdown",
     "metadata": {},
     "source": [
      "###DataFrames \n",
      "DataFrames are designed to store heterogeneous multivarite data, where for every index there are multiple fields or columns of data, often of different data type.\n",
      "\n",
      "A `DataFrame` os a tabular data structure, encapsulating multiple series like columns in a spreadsheet. Data are stored interally as a 2-dimensional object, but the `DataFrame` allows us to represent and manipulate higher-dimensional data.\n"
     ]
    },
    {
     "cell_type": "markdown",
     "metadata": {},
     "source": [
      "##Reading tabular data\n",
      "\n",
      "The \u2018pandas\u2019 Python library provides several operators, <code>read_csv(), read_table(), \n",
      "read_excel() ...</code> that allows you to access data \ufb01les in tabular format on your computer as well as data stored in web repositories.\n",
      "\n",
      "Reading in a data table is simply a matter of knowing the name (and location) of the data set."
     ]
    },
    {
     "cell_type": "markdown",
     "metadata": {},
     "source": [
      "###EUROSTAT data\n",
      "\n",
      "Eurostat is the home of the European Commssion data. Eurostat\u2019s main role is to process and publish comparable statistical information at European level. Data in eurostat is provided by each member state. Eurostat's re-use policy is free re-use of its data, both for non-commercial and commercial purposes (with some minor exceptions)."
     ]
    },
    {
     "cell_type": "code",
     "collapsed": false,
     "input": [
      "#from IPython.display import HTML\n",
      "#HTML('<iframe src=http://epp.eurostat.ec.europa.eu/portal/page/portal/eurostat/home  width=900 height=500></iframe>')"
     ],
     "language": "python",
     "metadata": {},
     "outputs": [],
     "prompt_number": 1
    },
    {
     "cell_type": "markdown",
     "metadata": {},
     "source": [
      "In this case study we are going to retrieve Eurostat data. The amount of data in the database is huge, thus we are going to use a small subset for illustration purposes. In our first study we are going to focus on **indicators on education finance data** among the member states. The data is already downloaded and provided as is in the file `educ_figdp_1_Data.csv`. You can download it directly following this links `Database by terms>Population and social conditions>Education and training>Indicators on education finance > Expenditure on education as % of GDP or public expenditure (educ_figdp)`\n",
      "\n",
      "Let us start reading the data:"
     ]
    },
    {
     "cell_type": "code",
     "collapsed": false,
     "input": [
      "edu=pd.read_csv('./educ_figdp/educ_figdp_1_Data.csv',na_values=':')"
     ],
     "language": "python",
     "metadata": {},
     "outputs": [
      {
       "ename": "NameError",
       "evalue": "name 'pd' is not defined",
       "output_type": "pyerr",
       "traceback": [
        "\u001b[0;31m---------------------------------------------------------------------------\u001b[0m\n\u001b[0;31mNameError\u001b[0m                                 Traceback (most recent call last)",
        "\u001b[0;32m<ipython-input-1-670ebde20921>\u001b[0m in \u001b[0;36m<module>\u001b[0;34m()\u001b[0m\n\u001b[0;32m----> 1\u001b[0;31m \u001b[0medu\u001b[0m\u001b[0;34m=\u001b[0m\u001b[0mpd\u001b[0m\u001b[0;34m.\u001b[0m\u001b[0mread_csv\u001b[0m\u001b[0;34m(\u001b[0m\u001b[0;34m'./educ_figdp/educ_figdp_1_Data.csv'\u001b[0m\u001b[0;34m,\u001b[0m\u001b[0mna_values\u001b[0m\u001b[0;34m=\u001b[0m\u001b[0;34m':'\u001b[0m\u001b[0;34m)\u001b[0m\u001b[0;34m\u001b[0m\u001b[0m\n\u001b[0m",
        "\u001b[0;31mNameError\u001b[0m: name 'pd' is not defined"
       ]
      }
     ],
     "prompt_number": 1
    },
    {
     "cell_type": "markdown",
     "metadata": {},
     "source": [
      "Check the shape and type of `DataFrame`"
     ]
    },
    {
     "cell_type": "code",
     "collapsed": false,
     "input": [
      "edu.shape "
     ],
     "language": "python",
     "metadata": {},
     "outputs": [
      {
       "metadata": {},
       "output_type": "pyout",
       "prompt_number": 429,
       "text": [
        "(384, 5)"
       ]
      }
     ],
     "prompt_number": 429
    },
    {
     "cell_type": "code",
     "collapsed": false,
     "input": [
      "type(edu)"
     ],
     "language": "python",
     "metadata": {},
     "outputs": [
      {
       "metadata": {},
       "output_type": "pyout",
       "prompt_number": 430,
       "text": [
        "pandas.core.frame.DataFrame"
       ]
      }
     ],
     "prompt_number": 430
    },
    {
     "cell_type": "markdown",
     "metadata": {},
     "source": [
      "It is also possible to create a `DataFrame` from a multidimensional numpy array or by passing a `dict` of objects that can be converted to series-like."
     ]
    },
    {
     "cell_type": "code",
     "collapsed": false,
     "input": [
      "import numpy as np\n",
      "dates = pd.date_range('19781212',periods=7)\n",
      "df = pd.DataFrame(np.random.randn(7,3),index=dates, columns=['A','B','C'])\n",
      "df"
     ],
     "language": "python",
     "metadata": {},
     "outputs": [
      {
       "html": [
        "<div style=\"max-height:1000px;max-width:1500px;overflow:auto;\">\n",
        "<table border=\"1\" class=\"dataframe\">\n",
        "  <thead>\n",
        "    <tr style=\"text-align: right;\">\n",
        "      <th></th>\n",
        "      <th>A</th>\n",
        "      <th>B</th>\n",
        "      <th>C</th>\n",
        "    </tr>\n",
        "  </thead>\n",
        "  <tbody>\n",
        "    <tr>\n",
        "      <th>1978-12-12</th>\n",
        "      <td> 0.133100</td>\n",
        "      <td> 0.201509</td>\n",
        "      <td>-1.395834</td>\n",
        "    </tr>\n",
        "    <tr>\n",
        "      <th>1978-12-13</th>\n",
        "      <td>-2.254974</td>\n",
        "      <td> 0.461958</td>\n",
        "      <td>-1.936370</td>\n",
        "    </tr>\n",
        "    <tr>\n",
        "      <th>1978-12-14</th>\n",
        "      <td> 1.292081</td>\n",
        "      <td> 0.976454</td>\n",
        "      <td> 0.065677</td>\n",
        "    </tr>\n",
        "    <tr>\n",
        "      <th>1978-12-15</th>\n",
        "      <td> 0.122874</td>\n",
        "      <td>-0.424043</td>\n",
        "      <td> 1.667492</td>\n",
        "    </tr>\n",
        "    <tr>\n",
        "      <th>1978-12-16</th>\n",
        "      <td>-0.166454</td>\n",
        "      <td> 1.128920</td>\n",
        "      <td> 2.519021</td>\n",
        "    </tr>\n",
        "    <tr>\n",
        "      <th>1978-12-17</th>\n",
        "      <td> 0.369720</td>\n",
        "      <td> 0.015827</td>\n",
        "      <td> 0.829850</td>\n",
        "    </tr>\n",
        "    <tr>\n",
        "      <th>1978-12-18</th>\n",
        "      <td> 1.355956</td>\n",
        "      <td> 0.828419</td>\n",
        "      <td>-0.768460</td>\n",
        "    </tr>\n",
        "  </tbody>\n",
        "</table>\n",
        "</div>"
       ],
       "metadata": {},
       "output_type": "pyout",
       "prompt_number": 431,
       "text": [
        "                   A         B         C\n",
        "1978-12-12  0.133100  0.201509 -1.395834\n",
        "1978-12-13 -2.254974  0.461958 -1.936370\n",
        "1978-12-14  1.292081  0.976454  0.065677\n",
        "1978-12-15  0.122874 -0.424043  1.667492\n",
        "1978-12-16 -0.166454  1.128920  2.519021\n",
        "1978-12-17  0.369720  0.015827  0.829850\n",
        "1978-12-18  1.355956  0.828419 -0.768460"
       ]
      }
     ],
     "prompt_number": 431
    },
    {
     "cell_type": "code",
     "collapsed": false,
     "input": [
      "dictionary = dict({'A' : 1, \n",
      "                   'B' : pd.date_range('19781212',periods=7), \n",
      "                   'C' : range(7),\n",
      "                   'D' : np.arange(7)[::-1],\n",
      "                   'E' : 'foo' })\n",
      "pd.DataFrame(dictionary, index=range(1,8))"
     ],
     "language": "python",
     "metadata": {},
     "outputs": [
      {
       "html": [
        "<div style=\"max-height:1000px;max-width:1500px;overflow:auto;\">\n",
        "<table border=\"1\" class=\"dataframe\">\n",
        "  <thead>\n",
        "    <tr style=\"text-align: right;\">\n",
        "      <th></th>\n",
        "      <th>A</th>\n",
        "      <th>B</th>\n",
        "      <th>C</th>\n",
        "      <th>D</th>\n",
        "      <th>E</th>\n",
        "    </tr>\n",
        "  </thead>\n",
        "  <tbody>\n",
        "    <tr>\n",
        "      <th>1</th>\n",
        "      <td> 1</td>\n",
        "      <td>1978-12-12</td>\n",
        "      <td> 0</td>\n",
        "      <td> 6</td>\n",
        "      <td> foo</td>\n",
        "    </tr>\n",
        "    <tr>\n",
        "      <th>2</th>\n",
        "      <td> 1</td>\n",
        "      <td>1978-12-13</td>\n",
        "      <td> 1</td>\n",
        "      <td> 5</td>\n",
        "      <td> foo</td>\n",
        "    </tr>\n",
        "    <tr>\n",
        "      <th>3</th>\n",
        "      <td> 1</td>\n",
        "      <td>1978-12-14</td>\n",
        "      <td> 2</td>\n",
        "      <td> 4</td>\n",
        "      <td> foo</td>\n",
        "    </tr>\n",
        "    <tr>\n",
        "      <th>4</th>\n",
        "      <td> 1</td>\n",
        "      <td>1978-12-15</td>\n",
        "      <td> 3</td>\n",
        "      <td> 3</td>\n",
        "      <td> foo</td>\n",
        "    </tr>\n",
        "    <tr>\n",
        "      <th>5</th>\n",
        "      <td> 1</td>\n",
        "      <td>1978-12-16</td>\n",
        "      <td> 4</td>\n",
        "      <td> 2</td>\n",
        "      <td> foo</td>\n",
        "    </tr>\n",
        "    <tr>\n",
        "      <th>6</th>\n",
        "      <td> 1</td>\n",
        "      <td>1978-12-17</td>\n",
        "      <td> 5</td>\n",
        "      <td> 1</td>\n",
        "      <td> foo</td>\n",
        "    </tr>\n",
        "    <tr>\n",
        "      <th>7</th>\n",
        "      <td> 1</td>\n",
        "      <td>1978-12-18</td>\n",
        "      <td> 6</td>\n",
        "      <td> 0</td>\n",
        "      <td> foo</td>\n",
        "    </tr>\n",
        "  </tbody>\n",
        "</table>\n",
        "</div>"
       ],
       "metadata": {},
       "output_type": "pyout",
       "prompt_number": 432,
       "text": [
        "   A          B  C  D    E\n",
        "1  1 1978-12-12  0  6  foo\n",
        "2  1 1978-12-13  1  5  foo\n",
        "3  1 1978-12-14  2  4  foo\n",
        "4  1 1978-12-15  3  3  foo\n",
        "5  1 1978-12-16  4  2  foo\n",
        "6  1 1978-12-17  5  1  foo\n",
        "7  1 1978-12-18  6  0  foo"
       ]
      }
     ],
     "prompt_number": 432
    },
    {
     "cell_type": "markdown",
     "metadata": {},
     "source": [
      "We can also read data directly from the *clipboard*. Just `copy` some rows to the clipboard and use `read_clipboard()` function. By default it uses `S+` (space characters) as column separator."
     ]
    },
    {
     "cell_type": "code",
     "collapsed": false,
     "input": [
      "clipboard = pd.read_clipboard()\n",
      "clipboard"
     ],
     "language": "python",
     "metadata": {},
     "outputs": [
      {
       "html": [
        "<div style=\"max-height:1000px;max-width:1500px;overflow:auto;\">\n",
        "<table border=\"1\" class=\"dataframe\">\n",
        "  <thead>\n",
        "    <tr style=\"text-align: right;\">\n",
        "      <th></th>\n",
        "      <th>A</th>\n",
        "      <th>B</th>\n",
        "      <th>C</th>\n",
        "      <th>D</th>\n",
        "      <th>E</th>\n",
        "    </tr>\n",
        "  </thead>\n",
        "  <tbody>\n",
        "    <tr>\n",
        "      <th>1</th>\n",
        "      <td> 1</td>\n",
        "      <td> 1978-12-12</td>\n",
        "      <td> 0</td>\n",
        "      <td> 6</td>\n",
        "      <td> foo</td>\n",
        "    </tr>\n",
        "    <tr>\n",
        "      <th>2</th>\n",
        "      <td> 1</td>\n",
        "      <td> 1978-12-13</td>\n",
        "      <td> 1</td>\n",
        "      <td> 5</td>\n",
        "      <td> foo</td>\n",
        "    </tr>\n",
        "    <tr>\n",
        "      <th>3</th>\n",
        "      <td> 1</td>\n",
        "      <td> 1978-12-14</td>\n",
        "      <td> 2</td>\n",
        "      <td> 4</td>\n",
        "      <td> foo</td>\n",
        "    </tr>\n",
        "  </tbody>\n",
        "</table>\n",
        "</div>"
       ],
       "metadata": {},
       "output_type": "pyout",
       "prompt_number": 528,
       "text": [
        "   A           B  C  D    E\n",
        "1  1  1978-12-12  0  6  foo\n",
        "2  1  1978-12-13  1  5  foo\n",
        "3  1  1978-12-14  2  4  foo"
       ]
      }
     ],
     "prompt_number": 528
    },
    {
     "cell_type": "markdown",
     "metadata": {},
     "source": [
      "## Viewing Data\n",
      "\n",
      "Take a look at the **Eurostat** data:\n",
      "\n",
      "The 5 first rows:"
     ]
    },
    {
     "cell_type": "code",
     "collapsed": false,
     "input": [
      "edu.head()"
     ],
     "language": "python",
     "metadata": {},
     "outputs": []
    },
    {
     "cell_type": "markdown",
     "metadata": {},
     "source": [
      "The last 5 rows:"
     ]
    },
    {
     "cell_type": "code",
     "collapsed": false,
     "input": [
      "edu.tail()"
     ],
     "language": "python",
     "metadata": {},
     "outputs": []
    },
    {
     "cell_type": "markdown",
     "metadata": {},
     "source": [
      "Data in CSV and databases are often organized in what is called *stacked* or *record* formats. In this case for each year (`TIME`) and country (`GEO`) of the EU as well as some reference countries such as Japan and United States, we have twelve indicators (`INDIC_ED`) on education finance with their values (`Value`): "
     ]
    },
    {
     "cell_type": "code",
     "collapsed": false,
     "input": [
      "edu.columns  # This is not a function; it is an attribute of the data frame."
     ],
     "language": "python",
     "metadata": {},
     "outputs": []
    },
    {
     "cell_type": "markdown",
     "metadata": {},
     "source": [
      "The values of the indexes can be retrieved using:"
     ]
    },
    {
     "cell_type": "code",
     "collapsed": false,
     "input": [
      "edu.index"
     ],
     "language": "python",
     "metadata": {},
     "outputs": []
    },
    {
     "cell_type": "markdown",
     "metadata": {},
     "source": [
      "The values of the `DataFrame` can be retrieved as a numpy array using:"
     ]
    },
    {
     "cell_type": "code",
     "collapsed": false,
     "input": [
      "edu.values"
     ],
     "language": "python",
     "metadata": {},
     "outputs": []
    },
    {
     "cell_type": "markdown",
     "metadata": {},
     "source": [
      "To get quick stadistical information about the numeric columns in a data frame is with the function `describe()`. The result is itself a data frame."
     ]
    },
    {
     "cell_type": "code",
     "collapsed": false,
     "input": [
      "edu.describe()\n"
     ],
     "language": "python",
     "metadata": {},
     "outputs": []
    },
    {
     "cell_type": "markdown",
     "metadata": {},
     "source": [
      "## Sorting"
     ]
    },
    {
     "cell_type": "markdown",
     "metadata": {},
     "source": [
      "We can sort the `DataFrame` using any column. If we want to see the data sorted by Time, it can be done like this:"
     ]
    },
    {
     "cell_type": "code",
     "collapsed": false,
     "input": [
      "s = edu.sort(columns='Value', ascending= False)\n",
      "s.head(9)"
     ],
     "language": "python",
     "metadata": {},
     "outputs": []
    },
    {
     "cell_type": "markdown",
     "metadata": {},
     "source": [
      "We can sort by index again, using the `sort_index` function and specifying `axis=0`"
     ]
    },
    {
     "cell_type": "code",
     "collapsed": false,
     "input": [
      "s.sort_index(axis=0,ascending=True).head()"
     ],
     "language": "python",
     "metadata": {},
     "outputs": []
    },
    {
     "cell_type": "markdown",
     "metadata": {},
     "source": [
      "##Selection\n",
      "\n",
      "We can acces to each column by name:"
     ]
    },
    {
     "cell_type": "code",
     "collapsed": false,
     "input": [
      "edu['TIME']"
     ],
     "language": "python",
     "metadata": {},
     "outputs": []
    },
    {
     "cell_type": "markdown",
     "metadata": {},
     "source": [
      "We can acces to a *slice* of rows using []"
     ]
    },
    {
     "cell_type": "code",
     "collapsed": false,
     "input": [
      "edu[10:14]"
     ],
     "language": "python",
     "metadata": {},
     "outputs": []
    },
    {
     "cell_type": "markdown",
     "metadata": {},
     "source": [
      "If we want to select a subset of columns and rows we can use `ix` indexing"
     ]
    },
    {
     "cell_type": "code",
     "collapsed": false,
     "input": [
      "edu.ix[15:20,['TIME','GEO','Value']]"
     ],
     "language": "python",
     "metadata": {},
     "outputs": []
    },
    {
     "cell_type": "markdown",
     "metadata": {},
     "source": [
      "We can filter a `DataFrame` using boolean indexing."
     ]
    },
    {
     "cell_type": "code",
     "collapsed": false,
     "input": [
      "edu[edu.Value > 6.5].sort(columns='Value', ascending= False).head(10)"
     ],
     "language": "python",
     "metadata": {},
     "outputs": []
    },
    {
     "cell_type": "markdown",
     "metadata": {},
     "source": [
      "We can **set** new values to rows or columns by using `=`after a selection."
     ]
    },
    {
     "cell_type": "code",
     "collapsed": false,
     "input": [
      "edu['Flag and Footnotes']=0\n",
      "edu.head()"
     ],
     "language": "python",
     "metadata": {},
     "outputs": []
    },
    {
     "cell_type": "markdown",
     "metadata": {},
     "source": [
      "Adding a new column to a data frame can be done similarly to accessing a column."
     ]
    },
    {
     "cell_type": "code",
     "collapsed": false,
     "input": [
      "edu['ValueNorm'] = edu.Value/np.max(edu.Value) # or data['time']/60.\n",
      "edu.head()"
     ],
     "language": "python",
     "metadata": {},
     "outputs": []
    },
    {
     "cell_type": "markdown",
     "metadata": {},
     "source": [
      "NOTE: If instead of using Pandas/numpy `max` function, we would use python built-in `max` function:"
     ]
    },
    {
     "cell_type": "code",
     "collapsed": false,
     "input": [
      "max(edu.Value) ## don't use max min python built-in functions!!!!"
     ],
     "language": "python",
     "metadata": {},
     "outputs": []
    },
    {
     "cell_type": "markdown",
     "metadata": {},
     "source": [
      "By default, columns get inserted at the end. The <code>insert</code> function is available to insert at a particular location in the columns."
     ]
    },
    {
     "cell_type": "code",
     "collapsed": false,
     "input": [
      "edu.insert(4, 'ValueSub',  edu.Value - np.min(edu.Value))\n",
      "edu.head()"
     ],
     "language": "python",
     "metadata": {},
     "outputs": []
    },
    {
     "cell_type": "markdown",
     "metadata": {},
     "source": [
      "If we want to add a new row on the bottom of the table, we can do it by assigning the new row to the last index:"
     ]
    },
    {
     "cell_type": "code",
     "collapsed": false,
     "input": [
      "edu.ix[len(edu)] = [2000,'a','b',5.00,np.nan,0,np.nan]\n",
      "edu.tail()"
     ],
     "language": "python",
     "metadata": {},
     "outputs": []
    },
    {
     "cell_type": "markdown",
     "metadata": {},
     "source": [
      "## Missing Data"
     ]
    },
    {
     "cell_type": "markdown",
     "metadata": {},
     "source": [
      "Pandas uses the value `np.nan` to represent missing data. \n",
      "\n",
      "The pandas.isnull function can be used to tell whether or not a value is missing.\n",
      "We can use the `numpy` values for filtering rows with NaN values"
     ]
    },
    {
     "cell_type": "code",
     "collapsed": false,
     "input": [
      "edu[pd.isnull(edu).values]"
     ],
     "language": "python",
     "metadata": {},
     "outputs": []
    },
    {
     "cell_type": "markdown",
     "metadata": {},
     "source": [
      "We can either filling missing values with `fillna(value=<value>)` function or drop all rows using `dropna()` function"
     ]
    },
    {
     "cell_type": "code",
     "collapsed": false,
     "input": [
      "eduDrop = edu.dropna(how='any') #returns a copy of the data!!!\n",
      "eduDrop.head()"
     ],
     "language": "python",
     "metadata": {},
     "outputs": []
    },
    {
     "cell_type": "code",
     "collapsed": false,
     "input": [
      "edu.head()"
     ],
     "language": "python",
     "metadata": {},
     "outputs": []
    },
    {
     "cell_type": "markdown",
     "metadata": {},
     "source": [
      "It is equivalent to use `drop` function over the indexes of rows with `NaN` values"
     ]
    },
    {
     "cell_type": "code",
     "collapsed": false,
     "input": [
      "edu = edu.drop(edu[pd.isnull(edu).values].index) ### Overwritting data!!!!\n",
      "edu.head()\n"
     ],
     "language": "python",
     "metadata": {},
     "outputs": []
    },
    {
     "cell_type": "markdown",
     "metadata": {},
     "source": [
      "##Operations\n",
      "###Statistical Operations:\n",
      "Operations in general exclude missing data.\n",
      " "
     ]
    },
    {
     "cell_type": "code",
     "collapsed": false,
     "input": [
      "edu.mean()"
     ],
     "language": "python",
     "metadata": {},
     "outputs": []
    },
    {
     "cell_type": "code",
     "collapsed": false,
     "input": [
      "print edu.Value.count()    # number of non-NaN values\n",
      "print edu['Value'].mean()     # mean value \n",
      "print edu.Value.sum()   # sum of values"
     ],
     "language": "python",
     "metadata": {},
     "outputs": []
    },
    {
     "cell_type": "code",
     "collapsed": false,
     "input": [
      "print edu.Value.argmin()   # index location at which min is obtained\n",
      "print edu.Value.min()      # min value\n",
      "edu.ix[edu.Value.argmin(),['TIME','GEO']].values"
     ],
     "language": "python",
     "metadata": {},
     "outputs": []
    },
    {
     "cell_type": "code",
     "collapsed": false,
     "input": [
      "print edu.Value.argmax()   # index location at which min is obtained\n",
      "print edu.Value.max()      # min value\n",
      "edu.ix[edu.Value.argmax(),['TIME','GEO']].values"
     ],
     "language": "python",
     "metadata": {},
     "outputs": []
    },
    {
     "cell_type": "code",
     "collapsed": false,
     "input": [
      "minim=edu.Value.min()\n",
      "edu.Value=edu.Value.sub(minim) #Substraction and Overwritting data!!!!\n",
      "edu.head()"
     ],
     "language": "python",
     "metadata": {},
     "outputs": []
    },
    {
     "cell_type": "markdown",
     "metadata": {},
     "source": [
      "\n",
      "When you encounter a function that isn\u2019t supported by data frames, you can use \u2018numpy\u2019 functions or the special <code>apply</code> function built-into data frames.\n",
      "\n",
      "Using the ``apply()``method, which takes an anonymous function, we can apply any function to each value in a column."
     ]
    },
    {
     "cell_type": "code",
     "collapsed": false,
     "input": [
      "edu.Value=edu.Value.apply(lambda d: d**2)\n",
      "edu.head()"
     ],
     "language": "python",
     "metadata": {},
     "outputs": [
      {
       "html": [
        "<div style=\"max-height:1000px;max-width:1500px;overflow:auto;\">\n",
        "<table border=\"1\" class=\"dataframe\">\n",
        "  <thead>\n",
        "    <tr style=\"text-align: right;\">\n",
        "      <th></th>\n",
        "      <th>TIME</th>\n",
        "      <th>GEO</th>\n",
        "      <th>INDIC_ED</th>\n",
        "      <th>Value</th>\n",
        "      <th>Flag and Footnotes</th>\n",
        "    </tr>\n",
        "  </thead>\n",
        "  <tbody>\n",
        "    <tr>\n",
        "      <th>0</th>\n",
        "      <td> 2000</td>\n",
        "      <td> European Union (28 countries)</td>\n",
        "      <td> Total public expenditure on education as % of ...</td>\n",
        "      <td>     NaN</td>\n",
        "      <td> NaN</td>\n",
        "    </tr>\n",
        "    <tr>\n",
        "      <th>1</th>\n",
        "      <td> 2001</td>\n",
        "      <td> European Union (28 countries)</td>\n",
        "      <td> Total public expenditure on education as % of ...</td>\n",
        "      <td>     NaN</td>\n",
        "      <td> NaN</td>\n",
        "    </tr>\n",
        "    <tr>\n",
        "      <th>2</th>\n",
        "      <td> 2002</td>\n",
        "      <td> European Union (28 countries)</td>\n",
        "      <td> Total public expenditure on education as % of ...</td>\n",
        "      <td> 25.0000</td>\n",
        "      <td>   e</td>\n",
        "    </tr>\n",
        "    <tr>\n",
        "      <th>3</th>\n",
        "      <td> 2003</td>\n",
        "      <td> European Union (28 countries)</td>\n",
        "      <td> Total public expenditure on education as % of ...</td>\n",
        "      <td> 25.3009</td>\n",
        "      <td>   e</td>\n",
        "    </tr>\n",
        "    <tr>\n",
        "      <th>4</th>\n",
        "      <td> 2004</td>\n",
        "      <td> European Union (28 countries)</td>\n",
        "      <td> Total public expenditure on education as % of ...</td>\n",
        "      <td> 24.5025</td>\n",
        "      <td>   e</td>\n",
        "    </tr>\n",
        "  </tbody>\n",
        "</table>\n",
        "</div>"
       ],
       "metadata": {},
       "output_type": "pyout",
       "prompt_number": 434,
       "text": [
        "   TIME                            GEO  \\\n",
        "0  2000  European Union (28 countries)   \n",
        "1  2001  European Union (28 countries)   \n",
        "2  2002  European Union (28 countries)   \n",
        "3  2003  European Union (28 countries)   \n",
        "4  2004  European Union (28 countries)   \n",
        "\n",
        "                                            INDIC_ED    Value  \\\n",
        "0  Total public expenditure on education as % of ...      NaN   \n",
        "1  Total public expenditure on education as % of ...      NaN   \n",
        "2  Total public expenditure on education as % of ...  25.0000   \n",
        "3  Total public expenditure on education as % of ...  25.3009   \n",
        "4  Total public expenditure on education as % of ...  24.5025   \n",
        "\n",
        "  Flag and Footnotes  \n",
        "0                NaN  \n",
        "1                NaN  \n",
        "2                  e  \n",
        "3                  e  \n",
        "4                  e  "
       ]
      }
     ],
     "prompt_number": 434
    },
    {
     "cell_type": "code",
     "collapsed": false,
     "input": [
      "edu.Value=edu.Value.apply(np.sqrt)\n",
      "edu.head()"
     ],
     "language": "python",
     "metadata": {},
     "outputs": [
      {
       "html": [
        "<div style=\"max-height:1000px;max-width:1500px;overflow:auto;\">\n",
        "<table border=\"1\" class=\"dataframe\">\n",
        "  <thead>\n",
        "    <tr style=\"text-align: right;\">\n",
        "      <th></th>\n",
        "      <th>TIME</th>\n",
        "      <th>GEO</th>\n",
        "      <th>INDIC_ED</th>\n",
        "      <th>Value</th>\n",
        "      <th>Flag and Footnotes</th>\n",
        "    </tr>\n",
        "  </thead>\n",
        "  <tbody>\n",
        "    <tr>\n",
        "      <th>0</th>\n",
        "      <td> 2000</td>\n",
        "      <td> European Union (28 countries)</td>\n",
        "      <td> Total public expenditure on education as % of ...</td>\n",
        "      <td>  NaN</td>\n",
        "      <td> NaN</td>\n",
        "    </tr>\n",
        "    <tr>\n",
        "      <th>1</th>\n",
        "      <td> 2001</td>\n",
        "      <td> European Union (28 countries)</td>\n",
        "      <td> Total public expenditure on education as % of ...</td>\n",
        "      <td>  NaN</td>\n",
        "      <td> NaN</td>\n",
        "    </tr>\n",
        "    <tr>\n",
        "      <th>2</th>\n",
        "      <td> 2002</td>\n",
        "      <td> European Union (28 countries)</td>\n",
        "      <td> Total public expenditure on education as % of ...</td>\n",
        "      <td> 5.00</td>\n",
        "      <td>   e</td>\n",
        "    </tr>\n",
        "    <tr>\n",
        "      <th>3</th>\n",
        "      <td> 2003</td>\n",
        "      <td> European Union (28 countries)</td>\n",
        "      <td> Total public expenditure on education as % of ...</td>\n",
        "      <td> 5.03</td>\n",
        "      <td>   e</td>\n",
        "    </tr>\n",
        "    <tr>\n",
        "      <th>4</th>\n",
        "      <td> 2004</td>\n",
        "      <td> European Union (28 countries)</td>\n",
        "      <td> Total public expenditure on education as % of ...</td>\n",
        "      <td> 4.95</td>\n",
        "      <td>   e</td>\n",
        "    </tr>\n",
        "  </tbody>\n",
        "</table>\n",
        "</div>"
       ],
       "metadata": {},
       "output_type": "pyout",
       "prompt_number": 435,
       "text": [
        "   TIME                            GEO  \\\n",
        "0  2000  European Union (28 countries)   \n",
        "1  2001  European Union (28 countries)   \n",
        "2  2002  European Union (28 countries)   \n",
        "3  2003  European Union (28 countries)   \n",
        "4  2004  European Union (28 countries)   \n",
        "\n",
        "                                            INDIC_ED  Value Flag and Footnotes  \n",
        "0  Total public expenditure on education as % of ...    NaN                NaN  \n",
        "1  Total public expenditure on education as % of ...    NaN                NaN  \n",
        "2  Total public expenditure on education as % of ...   5.00                  e  \n",
        "3  Total public expenditure on education as % of ...   5.03                  e  \n",
        "4  Total public expenditure on education as % of ...   4.95                  e  "
       ]
      }
     ],
     "prompt_number": 435
    },
    {
     "cell_type": "markdown",
     "metadata": {},
     "source": []
    },
    {
     "cell_type": "code",
     "collapsed": false,
     "input": [],
     "language": "python",
     "metadata": {},
     "outputs": []
    },
    {
     "cell_type": "markdown",
     "metadata": {},
     "source": [
      "## Reshaping and Pivoting\n"
     ]
    },
    {
     "cell_type": "markdown",
     "metadata": {},
     "source": [
      "Let us reshape the table into a feature vector style data set. To the process of reshaping stacked data into a table is sometimes called **pivoting**."
     ]
    },
    {
     "cell_type": "code",
     "collapsed": false,
     "input": [
      "#Pivot table in order to get a nice feature vector representation with dual indexing by TIME and GEO \n",
      "edu=pd.read_csv('./educ_figdp/educ_figdp_1_Data.csv',na_values=':')\n",
      "edu.INDIC_ED.value_counts()"
     ],
     "language": "python",
     "metadata": {},
     "outputs": [
      {
       "metadata": {},
       "output_type": "pyout",
       "prompt_number": 438,
       "text": [
        "Total public expenditure on education as % of GDP, for all levels of education combined    384\n",
        "dtype: int64"
       ]
      }
     ],
     "prompt_number": 438
    },
    {
     "cell_type": "code",
     "collapsed": false,
     "input": [
      "pivedu=pd.pivot_table(edu, values='Value', rows=['TIME', 'GEO'],columns = ['INDIC_ED'])\n",
      "pivedu.head()"
     ],
     "language": "python",
     "metadata": {},
     "outputs": [
      {
       "html": [
        "<div style=\"max-height:1000px;max-width:1500px;overflow:auto;\">\n",
        "<table border=\"1\" class=\"dataframe\">\n",
        "  <thead>\n",
        "    <tr style=\"text-align: right;\">\n",
        "      <th></th>\n",
        "      <th>INDIC_ED</th>\n",
        "      <th>Total public expenditure on education as % of GDP, for all levels of education combined</th>\n",
        "    </tr>\n",
        "    <tr>\n",
        "      <th>TIME</th>\n",
        "      <th>GEO</th>\n",
        "      <th></th>\n",
        "    </tr>\n",
        "  </thead>\n",
        "  <tbody>\n",
        "    <tr>\n",
        "      <th rowspan=\"5\" valign=\"top\">2000</th>\n",
        "      <th>Austria</th>\n",
        "      <td> 5.66</td>\n",
        "    </tr>\n",
        "    <tr>\n",
        "      <th>Belgium</th>\n",
        "      <td>  NaN</td>\n",
        "    </tr>\n",
        "    <tr>\n",
        "      <th>Bulgaria</th>\n",
        "      <td> 3.88</td>\n",
        "    </tr>\n",
        "    <tr>\n",
        "      <th>Cyprus</th>\n",
        "      <td> 5.42</td>\n",
        "    </tr>\n",
        "    <tr>\n",
        "      <th>Czech Republic</th>\n",
        "      <td> 3.83</td>\n",
        "    </tr>\n",
        "  </tbody>\n",
        "</table>\n",
        "</div>"
       ],
       "metadata": {},
       "output_type": "pyout",
       "prompt_number": 440,
       "text": [
        "INDIC_ED             Total public expenditure on education as % of GDP, for all levels of education combined\n",
        "TIME GEO                                                                                                    \n",
        "2000 Austria                                                      5.66                                      \n",
        "     Belgium                                                       NaN                                      \n",
        "     Bulgaria                                                     3.88                                      \n",
        "     Cyprus                                                       5.42                                      \n",
        "     Czech Republic                                               3.83                                      "
       ]
      }
     ],
     "prompt_number": 440
    },
    {
     "cell_type": "code",
     "collapsed": false,
     "input": [
      "pivedu.ix[2010:2011,:]"
     ],
     "language": "python",
     "metadata": {},
     "outputs": [
      {
       "html": [
        "<div style=\"max-height:1000px;max-width:1500px;overflow:auto;\">\n",
        "<table border=\"1\" class=\"dataframe\">\n",
        "  <thead>\n",
        "    <tr style=\"text-align: right;\">\n",
        "      <th></th>\n",
        "      <th>INDIC_ED</th>\n",
        "      <th>Total public expenditure on education as % of GDP, for all levels of education combined</th>\n",
        "    </tr>\n",
        "    <tr>\n",
        "      <th>TIME</th>\n",
        "      <th>GEO</th>\n",
        "      <th></th>\n",
        "    </tr>\n",
        "  </thead>\n",
        "  <tbody>\n",
        "    <tr>\n",
        "      <th rowspan=\"30\" valign=\"top\">2010</th>\n",
        "      <th>Austria</th>\n",
        "      <td> 5.91</td>\n",
        "    </tr>\n",
        "    <tr>\n",
        "      <th>Belgium</th>\n",
        "      <td> 6.58</td>\n",
        "    </tr>\n",
        "    <tr>\n",
        "      <th>Bulgaria</th>\n",
        "      <td> 4.10</td>\n",
        "    </tr>\n",
        "    <tr>\n",
        "      <th>Cyprus</th>\n",
        "      <td> 7.92</td>\n",
        "    </tr>\n",
        "    <tr>\n",
        "      <th>Czech Republic</th>\n",
        "      <td> 4.25</td>\n",
        "    </tr>\n",
        "    <tr>\n",
        "      <th>Denmark</th>\n",
        "      <td> 8.81</td>\n",
        "    </tr>\n",
        "    <tr>\n",
        "      <th>Estonia</th>\n",
        "      <td> 5.66</td>\n",
        "    </tr>\n",
        "    <tr>\n",
        "      <th>Euro area (13 countries)</th>\n",
        "      <td> 5.28</td>\n",
        "    </tr>\n",
        "    <tr>\n",
        "      <th>Euro area (15 countries)</th>\n",
        "      <td> 5.29</td>\n",
        "    </tr>\n",
        "    <tr>\n",
        "      <th>Euro area (17 countries)</th>\n",
        "      <td> 5.28</td>\n",
        "    </tr>\n",
        "    <tr>\n",
        "      <th>Euro area (18 countries)</th>\n",
        "      <td> 5.28</td>\n",
        "    </tr>\n",
        "    <tr>\n",
        "      <th>European Union (25 countries)</th>\n",
        "      <td> 5.46</td>\n",
        "    </tr>\n",
        "    <tr>\n",
        "      <th>European Union (27 countries)</th>\n",
        "      <td> 5.41</td>\n",
        "    </tr>\n",
        "    <tr>\n",
        "      <th>European Union (28 countries)</th>\n",
        "      <td> 5.41</td>\n",
        "    </tr>\n",
        "    <tr>\n",
        "      <th>Finland</th>\n",
        "      <td> 6.85</td>\n",
        "    </tr>\n",
        "    <tr>\n",
        "      <th>France</th>\n",
        "      <td> 5.86</td>\n",
        "    </tr>\n",
        "    <tr>\n",
        "      <th>Germany (until 1990 former territory of the FRG)</th>\n",
        "      <td> 5.08</td>\n",
        "    </tr>\n",
        "    <tr>\n",
        "      <th>Greece</th>\n",
        "      <td>  NaN</td>\n",
        "    </tr>\n",
        "    <tr>\n",
        "      <th>Hungary</th>\n",
        "      <td> 4.90</td>\n",
        "    </tr>\n",
        "    <tr>\n",
        "      <th>Ireland</th>\n",
        "      <td> 6.41</td>\n",
        "    </tr>\n",
        "    <tr>\n",
        "      <th>Italy</th>\n",
        "      <td> 4.50</td>\n",
        "    </tr>\n",
        "    <tr>\n",
        "      <th>Latvia</th>\n",
        "      <td> 4.96</td>\n",
        "    </tr>\n",
        "    <tr>\n",
        "      <th>Lithuania</th>\n",
        "      <td> 5.36</td>\n",
        "    </tr>\n",
        "    <tr>\n",
        "      <th>Luxembourg</th>\n",
        "      <td>  NaN</td>\n",
        "    </tr>\n",
        "    <tr>\n",
        "      <th>Malta</th>\n",
        "      <td> 6.74</td>\n",
        "    </tr>\n",
        "    <tr>\n",
        "      <th>Netherlands</th>\n",
        "      <td> 5.98</td>\n",
        "    </tr>\n",
        "    <tr>\n",
        "      <th>Poland</th>\n",
        "      <td> 5.17</td>\n",
        "    </tr>\n",
        "    <tr>\n",
        "      <th>Portugal</th>\n",
        "      <td> 5.62</td>\n",
        "    </tr>\n",
        "    <tr>\n",
        "      <th>Romania</th>\n",
        "      <td> 3.53</td>\n",
        "    </tr>\n",
        "    <tr>\n",
        "      <th>Slovakia</th>\n",
        "      <td> 4.22</td>\n",
        "    </tr>\n",
        "    <tr>\n",
        "      <th>...</th>\n",
        "      <th>...</th>\n",
        "      <td>...</td>\n",
        "    </tr>\n",
        "    <tr>\n",
        "      <th rowspan=\"30\" valign=\"top\">2011</th>\n",
        "      <th>Bulgaria</th>\n",
        "      <td> 3.82</td>\n",
        "    </tr>\n",
        "    <tr>\n",
        "      <th>Cyprus</th>\n",
        "      <td> 7.87</td>\n",
        "    </tr>\n",
        "    <tr>\n",
        "      <th>Czech Republic</th>\n",
        "      <td> 4.51</td>\n",
        "    </tr>\n",
        "    <tr>\n",
        "      <th>Denmark</th>\n",
        "      <td> 8.75</td>\n",
        "    </tr>\n",
        "    <tr>\n",
        "      <th>Estonia</th>\n",
        "      <td> 5.16</td>\n",
        "    </tr>\n",
        "    <tr>\n",
        "      <th>Euro area (13 countries)</th>\n",
        "      <td> 5.15</td>\n",
        "    </tr>\n",
        "    <tr>\n",
        "      <th>Euro area (15 countries)</th>\n",
        "      <td> 5.16</td>\n",
        "    </tr>\n",
        "    <tr>\n",
        "      <th>Euro area (17 countries)</th>\n",
        "      <td> 5.15</td>\n",
        "    </tr>\n",
        "    <tr>\n",
        "      <th>Euro area (18 countries)</th>\n",
        "      <td> 5.15</td>\n",
        "    </tr>\n",
        "    <tr>\n",
        "      <th>European Union (25 countries)</th>\n",
        "      <td> 5.31</td>\n",
        "    </tr>\n",
        "    <tr>\n",
        "      <th>European Union (27 countries)</th>\n",
        "      <td> 5.25</td>\n",
        "    </tr>\n",
        "    <tr>\n",
        "      <th>European Union (28 countries)</th>\n",
        "      <td> 5.25</td>\n",
        "    </tr>\n",
        "    <tr>\n",
        "      <th>Finland</th>\n",
        "      <td> 6.76</td>\n",
        "    </tr>\n",
        "    <tr>\n",
        "      <th>France</th>\n",
        "      <td> 5.68</td>\n",
        "    </tr>\n",
        "    <tr>\n",
        "      <th>Germany (until 1990 former territory of the FRG)</th>\n",
        "      <td> 4.98</td>\n",
        "    </tr>\n",
        "    <tr>\n",
        "      <th>Greece</th>\n",
        "      <td>  NaN</td>\n",
        "    </tr>\n",
        "    <tr>\n",
        "      <th>Hungary</th>\n",
        "      <td> 4.71</td>\n",
        "    </tr>\n",
        "    <tr>\n",
        "      <th>Ireland</th>\n",
        "      <td> 6.15</td>\n",
        "    </tr>\n",
        "    <tr>\n",
        "      <th>Italy</th>\n",
        "      <td> 4.29</td>\n",
        "    </tr>\n",
        "    <tr>\n",
        "      <th>Latvia</th>\n",
        "      <td> 4.96</td>\n",
        "    </tr>\n",
        "    <tr>\n",
        "      <th>Lithuania</th>\n",
        "      <td> 5.17</td>\n",
        "    </tr>\n",
        "    <tr>\n",
        "      <th>Luxembourg</th>\n",
        "      <td>  NaN</td>\n",
        "    </tr>\n",
        "    <tr>\n",
        "      <th>Malta</th>\n",
        "      <td> 7.96</td>\n",
        "    </tr>\n",
        "    <tr>\n",
        "      <th>Netherlands</th>\n",
        "      <td> 5.93</td>\n",
        "    </tr>\n",
        "    <tr>\n",
        "      <th>Poland</th>\n",
        "      <td> 4.94</td>\n",
        "    </tr>\n",
        "    <tr>\n",
        "      <th>Portugal</th>\n",
        "      <td> 5.27</td>\n",
        "    </tr>\n",
        "    <tr>\n",
        "      <th>Romania</th>\n",
        "      <td> 3.07</td>\n",
        "    </tr>\n",
        "    <tr>\n",
        "      <th>Slovakia</th>\n",
        "      <td> 4.06</td>\n",
        "    </tr>\n",
        "    <tr>\n",
        "      <th>Slovenia</th>\n",
        "      <td> 5.68</td>\n",
        "    </tr>\n",
        "    <tr>\n",
        "      <th>Spain</th>\n",
        "      <td> 4.82</td>\n",
        "    </tr>\n",
        "  </tbody>\n",
        "</table>\n",
        "<p>64 rows \u00d7 1 columns</p>\n",
        "</div>"
       ],
       "metadata": {},
       "output_type": "pyout",
       "prompt_number": 395,
       "text": [
        "INDIC_ED                                               Total public expenditure on education as % of GDP, for all levels of education combined\n",
        "TIME GEO                                                                                                                                      \n",
        "2010 Austria                                                                                        5.91                                      \n",
        "     Belgium                                                                                        6.58                                      \n",
        "     Bulgaria                                                                                       4.10                                      \n",
        "     Cyprus                                                                                         7.92                                      \n",
        "     Czech Republic                                                                                 4.25                                      \n",
        "     Denmark                                                                                        8.81                                      \n",
        "     Estonia                                                                                        5.66                                      \n",
        "     Euro area (13 countries)                                                                       5.28                                      \n",
        "     Euro area (15 countries)                                                                       5.29                                      \n",
        "     Euro area (17 countries)                                                                       5.28                                      \n",
        "     Euro area (18 countries)                                                                       5.28                                      \n",
        "     European Union (25 countries)                                                                  5.46                                      \n",
        "     European Union (27 countries)                                                                  5.41                                      \n",
        "     European Union (28 countries)                                                                  5.41                                      \n",
        "     Finland                                                                                        6.85                                      \n",
        "     France                                                                                         5.86                                      \n",
        "     Germany (until 1990 former territory of the FRG)                                               5.08                                      \n",
        "     Greece                                                                                          NaN                                      \n",
        "     Hungary                                                                                        4.90                                      \n",
        "     Ireland                                                                                        6.41                                      \n",
        "     Italy                                                                                          4.50                                      \n",
        "     Latvia                                                                                         4.96                                      \n",
        "     Lithuania                                                                                      5.36                                      \n",
        "     Luxembourg                                                                                      NaN                                      \n",
        "     Malta                                                                                          6.74                                      \n",
        "     Netherlands                                                                                    5.98                                      \n",
        "     Poland                                                                                         5.17                                      \n",
        "     Portugal                                                                                       5.62                                      \n",
        "     Romania                                                                                        3.53                                      \n",
        "     Slovakia                                                                                       4.22                                      \n",
        "...                                                                                                  ...                                      \n",
        "2011 Bulgaria                                                                                       3.82                                      \n",
        "     Cyprus                                                                                         7.87                                      \n",
        "     Czech Republic                                                                                 4.51                                      \n",
        "     Denmark                                                                                        8.75                                      \n",
        "     Estonia                                                                                        5.16                                      \n",
        "     Euro area (13 countries)                                                                       5.15                                      \n",
        "     Euro area (15 countries)                                                                       5.16                                      \n",
        "     Euro area (17 countries)                                                                       5.15                                      \n",
        "     Euro area (18 countries)                                                                       5.15                                      \n",
        "     European Union (25 countries)                                                                  5.31                                      \n",
        "     European Union (27 countries)                                                                  5.25                                      \n",
        "     European Union (28 countries)                                                                  5.25                                      \n",
        "     Finland                                                                                        6.76                                      \n",
        "     France                                                                                         5.68                                      \n",
        "     Germany (until 1990 former territory of the FRG)                                               4.98                                      \n",
        "     Greece                                                                                          NaN                                      \n",
        "     Hungary                                                                                        4.71                                      \n",
        "     Ireland                                                                                        6.15                                      \n",
        "     Italy                                                                                          4.29                                      \n",
        "     Latvia                                                                                         4.96                                      \n",
        "     Lithuania                                                                                      5.17                                      \n",
        "     Luxembourg                                                                                      NaN                                      \n",
        "     Malta                                                                                          7.96                                      \n",
        "     Netherlands                                                                                    5.93                                      \n",
        "     Poland                                                                                         4.94                                      \n",
        "     Portugal                                                                                       5.27                                      \n",
        "     Romania                                                                                        3.07                                      \n",
        "     Slovakia                                                                                       4.06                                      \n",
        "     Slovenia                                                                                       5.68                                      \n",
        "     Spain                                                                                          4.82                                      \n",
        "\n",
        "[64 rows x 1 columns]"
       ]
      }
     ],
     "prompt_number": 395
    },
    {
     "cell_type": "code",
     "collapsed": false,
     "input": [
      "pivedu.ix[[(2010,'Spain'),(2010,'Romania'),(2010, 'Denmark'),(2011,'Spain'),(2011,'Romania'),(2011, 'Denmark')]]"
     ],
     "language": "python",
     "metadata": {},
     "outputs": [
      {
       "html": [
        "<div style=\"max-height:1000px;max-width:1500px;overflow:auto;\">\n",
        "<table border=\"1\" class=\"dataframe\">\n",
        "  <thead>\n",
        "    <tr style=\"text-align: right;\">\n",
        "      <th></th>\n",
        "      <th>INDIC_ED</th>\n",
        "      <th>Total public expenditure on education as % of GDP, for all levels of education combined</th>\n",
        "    </tr>\n",
        "    <tr>\n",
        "      <th>TIME</th>\n",
        "      <th>GEO</th>\n",
        "      <th></th>\n",
        "    </tr>\n",
        "  </thead>\n",
        "  <tbody>\n",
        "    <tr>\n",
        "      <th rowspan=\"3\" valign=\"top\">2010</th>\n",
        "      <th>Spain</th>\n",
        "      <td> 4.98</td>\n",
        "    </tr>\n",
        "    <tr>\n",
        "      <th>Romania</th>\n",
        "      <td> 3.53</td>\n",
        "    </tr>\n",
        "    <tr>\n",
        "      <th>Denmark</th>\n",
        "      <td> 8.81</td>\n",
        "    </tr>\n",
        "    <tr>\n",
        "      <th rowspan=\"3\" valign=\"top\">2011</th>\n",
        "      <th>Spain</th>\n",
        "      <td> 4.82</td>\n",
        "    </tr>\n",
        "    <tr>\n",
        "      <th>Romania</th>\n",
        "      <td> 3.07</td>\n",
        "    </tr>\n",
        "    <tr>\n",
        "      <th>Denmark</th>\n",
        "      <td> 8.75</td>\n",
        "    </tr>\n",
        "  </tbody>\n",
        "</table>\n",
        "</div>"
       ],
       "metadata": {},
       "output_type": "pyout",
       "prompt_number": 403,
       "text": [
        "INDIC_ED      Total public expenditure on education as % of GDP, for all levels of education combined\n",
        "TIME GEO                                                                                             \n",
        "2010 Spain                                                 4.98                                      \n",
        "     Romania                                               3.53                                      \n",
        "     Denmark                                               8.81                                      \n",
        "2011 Spain                                                 4.82                                      \n",
        "     Romania                                               3.07                                      \n",
        "     Denmark                                               8.75                                      "
       ]
      }
     ],
     "prompt_number": 403
    },
    {
     "cell_type": "markdown",
     "metadata": {},
     "source": [
      "##Ranking Countries"
     ]
    },
    {
     "cell_type": "markdown",
     "metadata": {},
     "source": [
      "We want to rank \"Total public expenditure on education as % of GDP, for all levels of education combined\" for all the coutries by year.\n",
      "\n",
      "First we clean the data. Removing all non-countries and Countries without values (NaN):"
     ]
    },
    {
     "cell_type": "code",
     "collapsed": false,
     "input": [
      "eduCtry=edu.drop(edu[edu.ix[:,'GEO'].isin(['Euro area (13 countries)','Euro area (15 countries)',\n",
      "                      'Euro area (17 countries)','Euro area (18 countries)',\n",
      "                      'European Union (25 countries)','European Union (27 countries)',\n",
      "                      'European Union (28 countries)'])].index)\n",
      "eduCtry = eduCtry.dropna(subset = ['Value'])"
     ],
     "language": "python",
     "metadata": {},
     "outputs": [],
     "prompt_number": 560
    },
    {
     "cell_type": "code",
     "collapsed": false,
     "input": [
      "piveduCtry=pd.pivot_table(eduCtry, values='Value', rows=['GEO'],columns = ['INDIC_ED','TIME'])\n",
      "piveduCtry= piveduCtry.rename(index={'Germany (until 1990 former territory of the FRG)': 'Germany'})\n",
      "piveduCtry.rank(ascending=False,method='dense')"
     ],
     "language": "python",
     "metadata": {},
     "outputs": [
      {
       "html": [
        "<div style=\"max-height:1000px;max-width:1500px;overflow:auto;\">\n",
        "<table border=\"1\" class=\"dataframe\">\n",
        "  <thead>\n",
        "    <tr>\n",
        "      <th>INDIC_ED</th>\n",
        "      <th colspan=\"12\" halign=\"left\">Total public expenditure on education as % of GDP, for all levels of education combined</th>\n",
        "    </tr>\n",
        "    <tr>\n",
        "      <th>TIME</th>\n",
        "      <th>2000</th>\n",
        "      <th>2001</th>\n",
        "      <th>2002</th>\n",
        "      <th>2003</th>\n",
        "      <th>2004</th>\n",
        "      <th>2005</th>\n",
        "      <th>2006</th>\n",
        "      <th>2007</th>\n",
        "      <th>2008</th>\n",
        "      <th>2009</th>\n",
        "      <th>2010</th>\n",
        "      <th>2011</th>\n",
        "    </tr>\n",
        "    <tr>\n",
        "      <th>GEO</th>\n",
        "      <th></th>\n",
        "      <th></th>\n",
        "      <th></th>\n",
        "      <th></th>\n",
        "      <th></th>\n",
        "      <th></th>\n",
        "      <th></th>\n",
        "      <th></th>\n",
        "      <th></th>\n",
        "      <th></th>\n",
        "      <th></th>\n",
        "      <th></th>\n",
        "    </tr>\n",
        "  </thead>\n",
        "  <tbody>\n",
        "    <tr>\n",
        "      <th>Austria</th>\n",
        "      <td>  4</td>\n",
        "      <td>  8</td>\n",
        "      <td>  8</td>\n",
        "      <td>  9</td>\n",
        "      <td>  8</td>\n",
        "      <td> 11</td>\n",
        "      <td> 10</td>\n",
        "      <td>  7</td>\n",
        "      <td> 11</td>\n",
        "      <td>  7</td>\n",
        "      <td>  8</td>\n",
        "      <td>  8</td>\n",
        "    </tr>\n",
        "    <tr>\n",
        "      <th>Belgium</th>\n",
        "      <td>NaN</td>\n",
        "      <td>  4</td>\n",
        "      <td>  4</td>\n",
        "      <td>  4</td>\n",
        "      <td>  4</td>\n",
        "      <td>  5</td>\n",
        "      <td>  5</td>\n",
        "      <td>  4</td>\n",
        "      <td>  3</td>\n",
        "      <td>  4</td>\n",
        "      <td>  5</td>\n",
        "      <td>  5</td>\n",
        "    </tr>\n",
        "    <tr>\n",
        "      <th>Bulgaria</th>\n",
        "      <td> 17</td>\n",
        "      <td> 21</td>\n",
        "      <td> 21</td>\n",
        "      <td> 22</td>\n",
        "      <td> 18</td>\n",
        "      <td> 18</td>\n",
        "      <td> 21</td>\n",
        "      <td> 22</td>\n",
        "      <td> 20</td>\n",
        "      <td> 20</td>\n",
        "      <td> 22</td>\n",
        "      <td> 21</td>\n",
        "    </tr>\n",
        "    <tr>\n",
        "      <th>Cyprus</th>\n",
        "      <td>  8</td>\n",
        "      <td>  5</td>\n",
        "      <td>  2</td>\n",
        "      <td>  2</td>\n",
        "      <td>  2</td>\n",
        "      <td>  2</td>\n",
        "      <td>  2</td>\n",
        "      <td>  2</td>\n",
        "      <td>  2</td>\n",
        "      <td>  2</td>\n",
        "      <td>  2</td>\n",
        "      <td>  3</td>\n",
        "    </tr>\n",
        "    <tr>\n",
        "      <th>Czech Republic</th>\n",
        "      <td> 18</td>\n",
        "      <td> 19</td>\n",
        "      <td> 20</td>\n",
        "      <td> 19</td>\n",
        "      <td> 20</td>\n",
        "      <td> 21</td>\n",
        "      <td> 19</td>\n",
        "      <td> 21</td>\n",
        "      <td> 21</td>\n",
        "      <td> 21</td>\n",
        "      <td> 20</td>\n",
        "      <td> 18</td>\n",
        "    </tr>\n",
        "    <tr>\n",
        "      <th>Denmark</th>\n",
        "      <td>  1</td>\n",
        "      <td>  1</td>\n",
        "      <td>  1</td>\n",
        "      <td>  1</td>\n",
        "      <td>  1</td>\n",
        "      <td>  1</td>\n",
        "      <td>  1</td>\n",
        "      <td>  1</td>\n",
        "      <td>  1</td>\n",
        "      <td>  1</td>\n",
        "      <td>  1</td>\n",
        "      <td>  1</td>\n",
        "    </tr>\n",
        "    <tr>\n",
        "      <th>Estonia</th>\n",
        "      <td>  7</td>\n",
        "      <td> 11</td>\n",
        "      <td>  9</td>\n",
        "      <td> 13</td>\n",
        "      <td> 14</td>\n",
        "      <td> 14</td>\n",
        "      <td> 16</td>\n",
        "      <td> 15</td>\n",
        "      <td>  9</td>\n",
        "      <td>  6</td>\n",
        "      <td> 11</td>\n",
        "      <td> 12</td>\n",
        "    </tr>\n",
        "    <tr>\n",
        "      <th>Finland</th>\n",
        "      <td>  3</td>\n",
        "      <td>  3</td>\n",
        "      <td>  3</td>\n",
        "      <td>  3</td>\n",
        "      <td>  3</td>\n",
        "      <td>  4</td>\n",
        "      <td>  4</td>\n",
        "      <td>  5</td>\n",
        "      <td>  4</td>\n",
        "      <td>  3</td>\n",
        "      <td>  3</td>\n",
        "      <td>  4</td>\n",
        "    </tr>\n",
        "    <tr>\n",
        "      <th>France</th>\n",
        "      <td>  2</td>\n",
        "      <td>  6</td>\n",
        "      <td>  5</td>\n",
        "      <td>  5</td>\n",
        "      <td>  5</td>\n",
        "      <td>  7</td>\n",
        "      <td>  7</td>\n",
        "      <td>  6</td>\n",
        "      <td>  8</td>\n",
        "      <td>  9</td>\n",
        "      <td>  9</td>\n",
        "      <td>  9</td>\n",
        "    </tr>\n",
        "    <tr>\n",
        "      <th>Germany</th>\n",
        "      <td> 13</td>\n",
        "      <td> 15</td>\n",
        "      <td> 14</td>\n",
        "      <td> 15</td>\n",
        "      <td> 16</td>\n",
        "      <td> 16</td>\n",
        "      <td> 18</td>\n",
        "      <td> 17</td>\n",
        "      <td> 18</td>\n",
        "      <td> 17</td>\n",
        "      <td> 15</td>\n",
        "      <td> 13</td>\n",
        "    </tr>\n",
        "    <tr>\n",
        "      <th>Greece</th>\n",
        "      <td> 19</td>\n",
        "      <td> 22</td>\n",
        "      <td> 23</td>\n",
        "      <td> 24</td>\n",
        "      <td> 23</td>\n",
        "      <td> 20</td>\n",
        "      <td>NaN</td>\n",
        "      <td>NaN</td>\n",
        "      <td>NaN</td>\n",
        "      <td>NaN</td>\n",
        "      <td>NaN</td>\n",
        "      <td>NaN</td>\n",
        "    </tr>\n",
        "    <tr>\n",
        "      <th>Hungary</th>\n",
        "      <td> 12</td>\n",
        "      <td> 13</td>\n",
        "      <td> 11</td>\n",
        "      <td>  6</td>\n",
        "      <td>  9</td>\n",
        "      <td> 10</td>\n",
        "      <td>  9</td>\n",
        "      <td>  9</td>\n",
        "      <td> 13</td>\n",
        "      <td> 15</td>\n",
        "      <td> 18</td>\n",
        "      <td> 17</td>\n",
        "    </tr>\n",
        "    <tr>\n",
        "      <th>Ireland</th>\n",
        "      <td> 14</td>\n",
        "      <td> 17</td>\n",
        "      <td> 17</td>\n",
        "      <td> 18</td>\n",
        "      <td> 15</td>\n",
        "      <td> 15</td>\n",
        "      <td> 15</td>\n",
        "      <td> 13</td>\n",
        "      <td>  7</td>\n",
        "      <td>  5</td>\n",
        "      <td>  6</td>\n",
        "      <td>  6</td>\n",
        "    </tr>\n",
        "    <tr>\n",
        "      <th>Italy</th>\n",
        "      <td> 11</td>\n",
        "      <td> 14</td>\n",
        "      <td> 15</td>\n",
        "      <td> 16</td>\n",
        "      <td> 17</td>\n",
        "      <td> 17</td>\n",
        "      <td> 17</td>\n",
        "      <td> 19</td>\n",
        "      <td> 19</td>\n",
        "      <td> 19</td>\n",
        "      <td> 19</td>\n",
        "      <td> 19</td>\n",
        "    </tr>\n",
        "    <tr>\n",
        "      <th>Latvia</th>\n",
        "      <td>  5</td>\n",
        "      <td>  2</td>\n",
        "      <td>  2</td>\n",
        "      <td>  8</td>\n",
        "      <td> 12</td>\n",
        "      <td> 13</td>\n",
        "      <td> 12</td>\n",
        "      <td> 12</td>\n",
        "      <td>  6</td>\n",
        "      <td> 13</td>\n",
        "      <td> 17</td>\n",
        "      <td> 14</td>\n",
        "    </tr>\n",
        "    <tr>\n",
        "      <th>Lithuania</th>\n",
        "      <td>  6</td>\n",
        "      <td>  7</td>\n",
        "      <td>  6</td>\n",
        "      <td> 14</td>\n",
        "      <td> 11</td>\n",
        "      <td> 14</td>\n",
        "      <td> 14</td>\n",
        "      <td> 16</td>\n",
        "      <td> 16</td>\n",
        "      <td> 12</td>\n",
        "      <td> 13</td>\n",
        "      <td> 11</td>\n",
        "    </tr>\n",
        "    <tr>\n",
        "      <th>Luxembourg</th>\n",
        "      <td>NaN</td>\n",
        "      <td> 20</td>\n",
        "      <td> 22</td>\n",
        "      <td> 23</td>\n",
        "      <td> 22</td>\n",
        "      <td> 23</td>\n",
        "      <td> 23</td>\n",
        "      <td> 24</td>\n",
        "      <td>NaN</td>\n",
        "      <td>NaN</td>\n",
        "      <td>NaN</td>\n",
        "      <td>NaN</td>\n",
        "    </tr>\n",
        "    <tr>\n",
        "      <th>Malta</th>\n",
        "      <td> 11</td>\n",
        "      <td> 16</td>\n",
        "      <td> 19</td>\n",
        "      <td> 17</td>\n",
        "      <td> 15</td>\n",
        "      <td>  3</td>\n",
        "      <td>  3</td>\n",
        "      <td>  3</td>\n",
        "      <td>  5</td>\n",
        "      <td> 14</td>\n",
        "      <td>  4</td>\n",
        "      <td>  2</td>\n",
        "    </tr>\n",
        "    <tr>\n",
        "      <th>Netherlands</th>\n",
        "      <td>  9</td>\n",
        "      <td> 12</td>\n",
        "      <td> 13</td>\n",
        "      <td> 10</td>\n",
        "      <td>  7</td>\n",
        "      <td>  8</td>\n",
        "      <td>  8</td>\n",
        "      <td>  8</td>\n",
        "      <td> 10</td>\n",
        "      <td>  8</td>\n",
        "      <td>  7</td>\n",
        "      <td>  7</td>\n",
        "    </tr>\n",
        "    <tr>\n",
        "      <th>Poland</th>\n",
        "      <td> 10</td>\n",
        "      <td>  9</td>\n",
        "      <td> 10</td>\n",
        "      <td> 12</td>\n",
        "      <td> 10</td>\n",
        "      <td>  9</td>\n",
        "      <td> 11</td>\n",
        "      <td> 14</td>\n",
        "      <td> 14</td>\n",
        "      <td> 16</td>\n",
        "      <td> 14</td>\n",
        "      <td> 15</td>\n",
        "    </tr>\n",
        "    <tr>\n",
        "      <th>Portugal</th>\n",
        "      <td>  8</td>\n",
        "      <td> 10</td>\n",
        "      <td> 12</td>\n",
        "      <td> 11</td>\n",
        "      <td> 13</td>\n",
        "      <td> 12</td>\n",
        "      <td> 13</td>\n",
        "      <td> 11</td>\n",
        "      <td> 15</td>\n",
        "      <td> 10</td>\n",
        "      <td> 12</td>\n",
        "      <td> 10</td>\n",
        "    </tr>\n",
        "    <tr>\n",
        "      <th>Romania</th>\n",
        "      <td> 20</td>\n",
        "      <td> 23</td>\n",
        "      <td> 24</td>\n",
        "      <td> 25</td>\n",
        "      <td> 24</td>\n",
        "      <td> 24</td>\n",
        "      <td>NaN</td>\n",
        "      <td> 20</td>\n",
        "      <td>NaN</td>\n",
        "      <td> 22</td>\n",
        "      <td> 23</td>\n",
        "      <td> 22</td>\n",
        "    </tr>\n",
        "    <tr>\n",
        "      <th>Slovakia</th>\n",
        "      <td> 16</td>\n",
        "      <td> 18</td>\n",
        "      <td> 16</td>\n",
        "      <td> 20</td>\n",
        "      <td> 21</td>\n",
        "      <td> 22</td>\n",
        "      <td> 22</td>\n",
        "      <td> 23</td>\n",
        "      <td> 22</td>\n",
        "      <td> 23</td>\n",
        "      <td> 21</td>\n",
        "      <td> 20</td>\n",
        "    </tr>\n",
        "    <tr>\n",
        "      <th>Slovenia</th>\n",
        "      <td>NaN</td>\n",
        "      <td>  7</td>\n",
        "      <td>  7</td>\n",
        "      <td>  7</td>\n",
        "      <td>  6</td>\n",
        "      <td>  6</td>\n",
        "      <td>  6</td>\n",
        "      <td> 10</td>\n",
        "      <td> 12</td>\n",
        "      <td> 11</td>\n",
        "      <td> 10</td>\n",
        "      <td>  9</td>\n",
        "    </tr>\n",
        "    <tr>\n",
        "      <th>Spain</th>\n",
        "      <td> 15</td>\n",
        "      <td> 17</td>\n",
        "      <td> 18</td>\n",
        "      <td> 21</td>\n",
        "      <td> 19</td>\n",
        "      <td> 19</td>\n",
        "      <td> 20</td>\n",
        "      <td> 18</td>\n",
        "      <td> 17</td>\n",
        "      <td> 18</td>\n",
        "      <td> 16</td>\n",
        "      <td> 16</td>\n",
        "    </tr>\n",
        "  </tbody>\n",
        "</table>\n",
        "</div>"
       ],
       "metadata": {},
       "output_type": "pyout",
       "prompt_number": 561,
       "text": [
        "INDIC_ED        Total public expenditure on education as % of GDP, for all levels of education combined  \\\n",
        "TIME                                                                                               2000   \n",
        "GEO                                                                                                       \n",
        "Austria                                                         4                                         \n",
        "Belgium                                                       NaN                                         \n",
        "Bulgaria                                                       17                                         \n",
        "Cyprus                                                          8                                         \n",
        "Czech Republic                                                 18                                         \n",
        "Denmark                                                         1                                         \n",
        "Estonia                                                         7                                         \n",
        "Finland                                                         3                                         \n",
        "France                                                          2                                         \n",
        "Germany                                                        13                                         \n",
        "Greece                                                         19                                         \n",
        "Hungary                                                        12                                         \n",
        "Ireland                                                        14                                         \n",
        "Italy                                                          11                                         \n",
        "Latvia                                                          5                                         \n",
        "Lithuania                                                       6                                         \n",
        "Luxembourg                                                    NaN                                         \n",
        "Malta                                                          11                                         \n",
        "Netherlands                                                     9                                         \n",
        "Poland                                                         10                                         \n",
        "Portugal                                                        8                                         \n",
        "Romania                                                        20                                         \n",
        "Slovakia                                                       16                                         \n",
        "Slovenia                                                      NaN                                         \n",
        "Spain                                                          15                                         \n",
        "\n",
        "INDIC_ED                                                                    \\\n",
        "TIME            2001  2002  2003  2004  2005  2006  2007  2008  2009  2010   \n",
        "GEO                                                                          \n",
        "Austria            8     8     9     8    11    10     7    11     7     8   \n",
        "Belgium            4     4     4     4     5     5     4     3     4     5   \n",
        "Bulgaria          21    21    22    18    18    21    22    20    20    22   \n",
        "Cyprus             5     2     2     2     2     2     2     2     2     2   \n",
        "Czech Republic    19    20    19    20    21    19    21    21    21    20   \n",
        "Denmark            1     1     1     1     1     1     1     1     1     1   \n",
        "Estonia           11     9    13    14    14    16    15     9     6    11   \n",
        "Finland            3     3     3     3     4     4     5     4     3     3   \n",
        "France             6     5     5     5     7     7     6     8     9     9   \n",
        "Germany           15    14    15    16    16    18    17    18    17    15   \n",
        "Greece            22    23    24    23    20   NaN   NaN   NaN   NaN   NaN   \n",
        "Hungary           13    11     6     9    10     9     9    13    15    18   \n",
        "Ireland           17    17    18    15    15    15    13     7     5     6   \n",
        "Italy             14    15    16    17    17    17    19    19    19    19   \n",
        "Latvia             2     2     8    12    13    12    12     6    13    17   \n",
        "Lithuania          7     6    14    11    14    14    16    16    12    13   \n",
        "Luxembourg        20    22    23    22    23    23    24   NaN   NaN   NaN   \n",
        "Malta             16    19    17    15     3     3     3     5    14     4   \n",
        "Netherlands       12    13    10     7     8     8     8    10     8     7   \n",
        "Poland             9    10    12    10     9    11    14    14    16    14   \n",
        "Portugal          10    12    11    13    12    13    11    15    10    12   \n",
        "Romania           23    24    25    24    24   NaN    20   NaN    22    23   \n",
        "Slovakia          18    16    20    21    22    22    23    22    23    21   \n",
        "Slovenia           7     7     7     6     6     6    10    12    11    10   \n",
        "Spain             17    18    21    19    19    20    18    17    18    16   \n",
        "\n",
        "INDIC_ED              \n",
        "TIME            2011  \n",
        "GEO                   \n",
        "Austria            8  \n",
        "Belgium            5  \n",
        "Bulgaria          21  \n",
        "Cyprus             3  \n",
        "Czech Republic    18  \n",
        "Denmark            1  \n",
        "Estonia           12  \n",
        "Finland            4  \n",
        "France             9  \n",
        "Germany           13  \n",
        "Greece           NaN  \n",
        "Hungary           17  \n",
        "Ireland            6  \n",
        "Italy             19  \n",
        "Latvia            14  \n",
        "Lithuania         11  \n",
        "Luxembourg       NaN  \n",
        "Malta              2  \n",
        "Netherlands        7  \n",
        "Poland            15  \n",
        "Portugal          10  \n",
        "Romania           22  \n",
        "Slovakia          20  \n",
        "Slovenia           9  \n",
        "Spain             16  "
       ]
      }
     ],
     "prompt_number": 561
    },
    {
     "cell_type": "markdown",
     "metadata": {},
     "source": [
      "##Grouping"
     ]
    },
    {
     "cell_type": "markdown",
     "metadata": {},
     "source": [
      "`group by` means:\n",
      "+ Splittng the data into groups based on some criteria\n",
      "+ Applying a function to each group independently\n",
      "+ Combining the results int a `dataframe`\n",
      "\n",
      "We can group by countries and apply sum. This returns all the `TIME` and `Value` columns added for the same country:"
     ]
    },
    {
     "cell_type": "code",
     "collapsed": false,
     "input": [
      "group = eduCtry.groupby('GEO').sum()\n",
      "group= group.rename(index={'Germany (until 1990 former territory of the FRG)': 'Germany'})\n",
      "group.head()"
     ],
     "language": "python",
     "metadata": {},
     "outputs": [
      {
       "html": [
        "<div style=\"max-height:1000px;max-width:1500px;overflow:auto;\">\n",
        "<table border=\"1\" class=\"dataframe\">\n",
        "  <thead>\n",
        "    <tr style=\"text-align: right;\">\n",
        "      <th></th>\n",
        "      <th>TIME</th>\n",
        "      <th>Value</th>\n",
        "    </tr>\n",
        "    <tr>\n",
        "      <th>GEO</th>\n",
        "      <th></th>\n",
        "      <th></th>\n",
        "    </tr>\n",
        "  </thead>\n",
        "  <tbody>\n",
        "    <tr>\n",
        "      <th>Austria</th>\n",
        "      <td> 24066</td>\n",
        "      <td> 67.42</td>\n",
        "    </tr>\n",
        "    <tr>\n",
        "      <th>Belgium</th>\n",
        "      <td> 22066</td>\n",
        "      <td> 68.08</td>\n",
        "    </tr>\n",
        "    <tr>\n",
        "      <th>Bulgaria</th>\n",
        "      <td> 24066</td>\n",
        "      <td> 49.12</td>\n",
        "    </tr>\n",
        "    <tr>\n",
        "      <th>Cyprus</th>\n",
        "      <td> 24066</td>\n",
        "      <td> 84.28</td>\n",
        "    </tr>\n",
        "    <tr>\n",
        "      <th>Czech Republic</th>\n",
        "      <td> 24066</td>\n",
        "      <td> 50.02</td>\n",
        "    </tr>\n",
        "  </tbody>\n",
        "</table>\n",
        "</div>"
       ],
       "metadata": {},
       "output_type": "pyout",
       "prompt_number": 562,
       "text": [
        "                 TIME  Value\n",
        "GEO                         \n",
        "Austria         24066  67.42\n",
        "Belgium         22066  68.08\n",
        "Bulgaria        24066  49.12\n",
        "Cyprus          24066  84.28\n",
        "Czech Republic  24066  50.02"
       ]
      }
     ],
     "prompt_number": 562
    },
    {
     "cell_type": "markdown",
     "metadata": {},
     "source": [
      "We drop time column and ranking by Value, over all the time:"
     ]
    },
    {
     "cell_type": "code",
     "collapsed": false,
     "input": [
      "group.drop('TIME', axis=1).rank(ascending=False,method='dense').sort('Value')"
     ],
     "language": "python",
     "metadata": {},
     "outputs": [
      {
       "html": [
        "<div style=\"max-height:1000px;max-width:1500px;overflow:auto;\">\n",
        "<table border=\"1\" class=\"dataframe\">\n",
        "  <thead>\n",
        "    <tr style=\"text-align: right;\">\n",
        "      <th></th>\n",
        "      <th>Value</th>\n",
        "    </tr>\n",
        "    <tr>\n",
        "      <th>GEO</th>\n",
        "      <th></th>\n",
        "    </tr>\n",
        "  </thead>\n",
        "  <tbody>\n",
        "    <tr>\n",
        "      <th>Denmark</th>\n",
        "      <td>  1</td>\n",
        "    </tr>\n",
        "    <tr>\n",
        "      <th>Cyprus</th>\n",
        "      <td>  2</td>\n",
        "    </tr>\n",
        "    <tr>\n",
        "      <th>Finland</th>\n",
        "      <td>  3</td>\n",
        "    </tr>\n",
        "    <tr>\n",
        "      <th>France</th>\n",
        "      <td>  4</td>\n",
        "    </tr>\n",
        "    <tr>\n",
        "      <th>Belgium</th>\n",
        "      <td>  5</td>\n",
        "    </tr>\n",
        "    <tr>\n",
        "      <th>Austria</th>\n",
        "      <td>  6</td>\n",
        "    </tr>\n",
        "    <tr>\n",
        "      <th>Malta</th>\n",
        "      <td>  7</td>\n",
        "    </tr>\n",
        "    <tr>\n",
        "      <th>Latvia</th>\n",
        "      <td>  8</td>\n",
        "    </tr>\n",
        "    <tr>\n",
        "      <th>Netherlands</th>\n",
        "      <td>  9</td>\n",
        "    </tr>\n",
        "    <tr>\n",
        "      <th>Portugal</th>\n",
        "      <td> 10</td>\n",
        "    </tr>\n",
        "    <tr>\n",
        "      <th>Estonia</th>\n",
        "      <td> 11</td>\n",
        "    </tr>\n",
        "    <tr>\n",
        "      <th>Lithuania</th>\n",
        "      <td> 12</td>\n",
        "    </tr>\n",
        "    <tr>\n",
        "      <th>Poland</th>\n",
        "      <td> 13</td>\n",
        "    </tr>\n",
        "    <tr>\n",
        "      <th>Hungary</th>\n",
        "      <td> 14</td>\n",
        "    </tr>\n",
        "    <tr>\n",
        "      <th>Slovenia</th>\n",
        "      <td> 15</td>\n",
        "    </tr>\n",
        "    <tr>\n",
        "      <th>Ireland</th>\n",
        "      <td> 16</td>\n",
        "    </tr>\n",
        "    <tr>\n",
        "      <th>Germany</th>\n",
        "      <td> 17</td>\n",
        "    </tr>\n",
        "    <tr>\n",
        "      <th>Italy</th>\n",
        "      <td> 18</td>\n",
        "    </tr>\n",
        "    <tr>\n",
        "      <th>Spain</th>\n",
        "      <td> 19</td>\n",
        "    </tr>\n",
        "    <tr>\n",
        "      <th>Czech Republic</th>\n",
        "      <td> 20</td>\n",
        "    </tr>\n",
        "    <tr>\n",
        "      <th>Bulgaria</th>\n",
        "      <td> 21</td>\n",
        "    </tr>\n",
        "    <tr>\n",
        "      <th>Slovakia</th>\n",
        "      <td> 22</td>\n",
        "    </tr>\n",
        "    <tr>\n",
        "      <th>Romania</th>\n",
        "      <td> 23</td>\n",
        "    </tr>\n",
        "    <tr>\n",
        "      <th>Luxembourg</th>\n",
        "      <td> 24</td>\n",
        "    </tr>\n",
        "    <tr>\n",
        "      <th>Greece</th>\n",
        "      <td> 25</td>\n",
        "    </tr>\n",
        "  </tbody>\n",
        "</table>\n",
        "</div>"
       ],
       "metadata": {},
       "output_type": "pyout",
       "prompt_number": 563,
       "text": [
        "                Value\n",
        "GEO                  \n",
        "Denmark             1\n",
        "Cyprus              2\n",
        "Finland             3\n",
        "France              4\n",
        "Belgium             5\n",
        "Austria             6\n",
        "Malta               7\n",
        "Latvia              8\n",
        "Netherlands         9\n",
        "Portugal           10\n",
        "Estonia            11\n",
        "Lithuania          12\n",
        "Poland             13\n",
        "Hungary            14\n",
        "Slovenia           15\n",
        "Ireland            16\n",
        "Germany            17\n",
        "Italy              18\n",
        "Spain              19\n",
        "Czech Republic     20\n",
        "Bulgaria           21\n",
        "Slovakia           22\n",
        "Romania            23\n",
        "Luxembourg         24\n",
        "Greece             25"
       ]
      }
     ],
     "prompt_number": 563
    },
    {
     "cell_type": "markdown",
     "metadata": {},
     "source": [
      "##Plotting"
     ]
    },
    {
     "cell_type": "code",
     "collapsed": false,
     "input": [
      "%matplotlib inline \n",
      "import matplotlib.pyplot as plt\n",
      "\n",
      "group.drop('TIME', axis=1).plot(kind='bar',style='b', alpha=0.4)\n",
      "plt.title(\"bar of weight and mpg\")\n",
      "plt.figure()\n"
     ],
     "language": "python",
     "metadata": {},
     "outputs": [
      {
       "metadata": {},
       "output_type": "pyout",
       "prompt_number": 581,
       "text": [
        "<matplotlib.figure.Figure at 0x11c745590>"
       ]
      },
      {
       "metadata": {},
       "output_type": "display_data",
       "png": "[encoded data removed]",
       "text": [
        "<matplotlib.figure.Figure at 0x106c77490>"
       ]
      },
      {
       "metadata": {},
       "output_type": "display_data",
       "text": [
        "<matplotlib.figure.Figure at 0x11c745590>"
       ]
      }
     ],
     "prompt_number": 581
    },
    {
     "cell_type": "code",
     "collapsed": false,
     "input": [
      "piveduCtry=pd.pivot_table(eduCtry, values='Value', rows=['GEO'],columns = ['TIME'])\n",
      "piveduCtry= piveduCtry.rename(index={'Germany (until 1990 former territory of the FRG)': 'Germany'})\n",
      "piveduCtry = piveduCtry.fillna(0) #FILL NaN with 0\n",
      "my_colors = ['b', 'r', 'g', 'y', 'k']*3 #By default ColorMap has only 5 colours\n",
      "ax=piveduCtry.plot(kind='barh',stacked=True, color=my_colors ,alpha=0.4)\n",
      "ax.legend(loc='center left', bbox_to_anchor=(1, 0.5)) #By default legend goes inside plot area"
     ],
     "language": "python",
     "metadata": {},
     "outputs": [
      {
       "metadata": {},
       "output_type": "pyout",
       "prompt_number": 610,
       "text": [
        "<matplotlib.legend.Legend at 0x1291d2890>"
       ]
      },
      {
       "metadata": {},
       "output_type": "display_data",
       "png": "[encoded data removed]",
       "text": [
        "<matplotlib.figure.Figure at 0x1227d2410>"
       ]
      }
     ],
     "prompt_number": 610
    },
    {
     "cell_type": "markdown",
     "metadata": {},
     "source": [
      "#Merge\n"
     ]
    },
    {
     "cell_type": "markdown",
     "metadata": {},
     "source": [
      "1M MovieLens database (http://www.grouplens.org/node/73) contains 1,000,209 ratings of 3,900 films made during yerar 2000 for 6040 anonymous users from MovieLens recommender Online (http://www.movielens.org)\n"
     ]
    },
    {
     "cell_type": "markdown",
     "metadata": {},
     "source": [
      "The contents of the database are:\n",
      "\n",
      "================================================================================\n",
      "\n",
      "All ratings are contained in the file \"ratings.dat\" and are in the following format:\n",
      "\n",
      "UserID::MovieID::Rating::Timestamp\n",
      "\n",
      "- UserIDs range between 1 and 6040 \n",
      "- MovieIDs range between 1 and 3952\n",
      "- Ratings are made on a 5-star scale (whole-star ratings only)\n",
      "- Timestamp is represented in seconds since the epoch as returned by time(2)\n",
      "- Each user has at least 20 ratings\n",
      "\n",
      "USERS FILE DESCRIPTION\n",
      "\n",
      "================================================================================\n",
      "\n",
      "User information is in the file \"users.dat\" and is in the following format:\n",
      "\n",
      "UserID::Gender::Age::Occupation::Zip-code\n",
      "\n",
      "All demographic information is provided voluntarily by the users and is not checked for accuracy.  Only users who have provided some demographic information are included in this data set.\n",
      "\n",
      "- Gender is denoted by a \"M\" for male and \"F\" for female\n",
      "- Age is chosen from the following ranges:\n",
      "\n",
      "\t*  1:  \"Under 18\"\n",
      "\t* 18:  \"18-24\"\n",
      "\t* 25:  \"25-34\"\n",
      "\t* 35:  \"35-44\"\n",
      "\t* 45:  \"45-49\"\n",
      "\t* 50:  \"50-55\"\n",
      "\t* 56:  \"56+\"\n",
      "\n",
      "- Occupation is chosen from the following choices:\n",
      "\n",
      "\t*  0:  \"other\" or not specified\n",
      "\t*  1:  \"academic/educator\"\n",
      "\t*  2:  \"artist\"\n",
      "\t*  3:  \"clerical/admin\"\n",
      "\t*  4:  \"college/grad student\"\n",
      "\t*  5:  \"customer service\"\n",
      "\t*  6:  \"doctor/health care\"\n",
      "\t*  7:  \"executive/managerial\"\n",
      "\t*  8:  \"farmer\"\n",
      "\t*  9:  \"homemaker\"\n",
      "\t* 10:  \"K-12 student\"\n",
      "\t* 11:  \"lawyer\"\n",
      "\t* 12:  \"programmer\"\n",
      "\t* 13:  \"retired\"\n",
      "\t* 14:  \"sales/marketing\"\n",
      "\t* 15:  \"scientist\"\n",
      "\t* 16:  \"self-employed\"\n",
      "\t* 17:  \"technician/engineer\"\n",
      "\t* 18:  \"tradesman/craftsman\"\n",
      "\t* 19:  \"unemployed\"\n",
      "\t* 20:  \"writer\"\n",
      "\n",
      "MOVIES FILE DESCRIPTION\n",
      "\n",
      "================================================================================\n",
      "\n",
      "Movie information is in the file \"movies.dat\" and is in the following format:\n",
      "\n",
      "MovieID::Title::Genres\n",
      "\n",
      "- Titles are identical to titles provided by the IMDB (including year of release)\n",
      "- Genres are pipe-separated and are selected from the following genres:\n",
      "\n",
      "\t* Action\n",
      "\t* Adventure\n",
      "\t* Animation\n",
      "\t* Children's\n",
      "\t* Comedy\n",
      "\t* Crime\n",
      "\t* Documentary\n",
      "\t* Drama\n",
      "\t* Fantasy\n",
      "\t* Film-Noir\n",
      "\t* Horror\n",
      "\t* Musical\n",
      "\t* Mystery\n",
      "\t* Romance\n",
      "\t* Sci-Fi\n",
      "\t* Thriller\n",
      "\t* War\n",
      "\t* Western\n",
      "\n",
      "- Some MovieIDs do not correspond to a movie due to accidental duplicate entries and/or test entries\n",
      "- Movies are mostly entered by hand, so errors and inconsistencies may exist"
     ]
    },
    {
     "cell_type": "markdown",
     "metadata": {},
     "source": [
      "Download the database and copy it to a local directory on your machine. (./ml-1m/)"
     ]
    },
    {
     "cell_type": "markdown",
     "metadata": {},
     "source": [
      "Load the three files in the database into three `DataFrames`."
     ]
    },
    {
     "cell_type": "code",
     "collapsed": false,
     "input": [
      "import pandas as pd\n",
      "unames = ['user_id', 'gender', 'age', 'occupation', 'zip']\n",
      "users = pd.read_table('./ml-1m/users.dat', sep='::', header=None, names=unames, engine='python')\n",
      "rnames = ['user_id', 'movie_id', 'rating', 'timestamp']\n",
      "ratings = pd.read_table('./ml-1m/ratings.dat', sep='::', header=None, names=rnames,  engine='python')\n",
      "mnames = ['movie_id', 'title', 'genres']\n",
      "movies = pd.read_table('./ml-1m/movies.dat', sep='::', header=None, names=mnames,  engine='python')"
     ],
     "language": "python",
     "metadata": {},
     "outputs": [],
     "prompt_number": 1
    },
    {
     "cell_type": "markdown",
     "metadata": {},
     "source": [
      "To work with these data, the first step is to obtain a unique structure containing all the information. To do this we can use the function `merge` of pandas. This function automatically infers which columns should be used for the `merge` based on the names that are intersecting:\n"
     ]
    },
    {
     "cell_type": "code",
     "collapsed": false,
     "input": [
      "data = pd.merge(pd.merge(ratings, users), movies)\n",
      "print data[:10]"
     ],
     "language": "python",
     "metadata": {},
     "outputs": [
      {
       "output_type": "stream",
       "stream": "stdout",
       "text": [
        "   user_id  movie_id  rating  timestamp gender  age  occupation    zip  \\\n",
        "0        1      1193       5  978300760      F    1          10  48067   \n",
        "1        2      1193       5  978298413      M   56          16  70072   \n",
        "2       12      1193       4  978220179      M   25          12  32793   \n",
        "3       15      1193       4  978199279      M   25           7  22903   \n",
        "4       17      1193       5  978158471      M   50           1  95350   \n",
        "5       18      1193       4  978156168      F   18           3  95825   \n",
        "6       19      1193       5  982730936      M    1          10  48073   \n",
        "7       24      1193       5  978136709      F   25           7  10023   \n",
        "8       28      1193       3  978125194      F   25           1  14607   \n",
        "9       33      1193       5  978557765      M   45           3  55421   \n",
        "\n",
        "                                    title genres  \n",
        "0  One Flew Over the Cuckoo's Nest (1975)  Drama  \n",
        "1  One Flew Over the Cuckoo's Nest (1975)  Drama  \n",
        "2  One Flew Over the Cuckoo's Nest (1975)  Drama  \n",
        "3  One Flew Over the Cuckoo's Nest (1975)  Drama  \n",
        "4  One Flew Over the Cuckoo's Nest (1975)  Drama  \n",
        "5  One Flew Over the Cuckoo's Nest (1975)  Drama  \n",
        "6  One Flew Over the Cuckoo's Nest (1975)  Drama  \n",
        "7  One Flew Over the Cuckoo's Nest (1975)  Drama  \n",
        "8  One Flew Over the Cuckoo's Nest (1975)  Drama  \n",
        "9  One Flew Over the Cuckoo's Nest (1975)  Drama  \n"
       ]
      }
     ],
     "prompt_number": 2
    },
    {
     "cell_type": "markdown",
     "metadata": {},
     "source": [
      "#Exercises: \n",
      "\n",
      "**MovieLens database**"
     ]
    },
    {
     "cell_type": "markdown",
     "metadata": {},
     "source": [
      "1- Filter films that have received at least 250 ratings:"
     ]
    },
    {
     "cell_type": "code",
     "collapsed": false,
     "input": [
      "ratings_by_title = data.groupby('title').size()\n",
      "print ratings_by_title[ratings_by_title >= 250]\n",
      "\n",
      "active_titles = ratings_by_title.index[ratings_by_title >= 250]\n",
      "active_titles"
     ],
     "language": "python",
     "metadata": {},
     "outputs": [
      {
       "output_type": "stream",
       "stream": "stdout",
       "text": [
        "title\n",
        "'burbs, The (1989)                      303\n",
        "10 Things I Hate About You (1999)       700\n",
        "101 Dalmatians (1961)                   565\n",
        "101 Dalmatians (1996)                   364\n",
        "12 Angry Men (1957)                     616\n",
        "13th Warrior, The (1999)                750\n",
        "2 Days in the Valley (1996)             286\n",
        "20,000 Leagues Under the Sea (1954)     575\n",
        "2001: A Space Odyssey (1968)           1716\n",
        "2010 (1984)                             470\n",
        "28 Days (2000)                          505\n",
        "39 Steps, The (1935)                    253\n",
        "54 (1998)                               259\n",
        "7th Voyage of Sinbad, The (1958)        258\n",
        "8MM (1999)                              272\n",
        "...\n",
        "Working Girl (1988)                       514\n",
        "World Is Not Enough, The (1999)           862\n",
        "Wrong Trousers, The (1993)                882\n",
        "Wyatt Earp (1994)                         270\n",
        "X-Files: Fight the Future, The (1998)     996\n",
        "X-Men (2000)                             1511\n",
        "Year of Living Dangerously (1982)         391\n",
        "Yellow Submarine (1968)                   399\n",
        "You've Got Mail (1998)                    838\n",
        "Young Frankenstein (1974)                1193\n",
        "Young Guns (1988)                         562\n",
        "Young Guns II (1990)                      369\n",
        "Young Sherlock Holmes (1985)              379\n",
        "Zero Effect (1998)                        301\n",
        "eXistenZ (1999)                           410\n",
        "Length: 1216, dtype: int64\n"
       ]
      },
      {
       "metadata": {},
       "output_type": "pyout",
       "prompt_number": 5,
       "text": [
        "Index([u''burbs, The (1989)', u'10 Things I Hate About You (1999)', u'101 Dalmatians (1961)', u'101 Dalmatians (1996)', u'12 Angry Men (1957)', u'13th Warrior, The (1999)', u'2 Days in the Valley (1996)', u'20,000 Leagues Under the Sea (1954)', u'2001: A Space Odyssey (1968)', u'2010 (1984)', u'28 Days (2000)', u'39 Steps, The (1935)', u'54 (1998)', u'7th Voyage of Sinbad, The (1958)', u'8MM (1999)', u'About Last Night... (1986)', u'Absent Minded Professor, The (1961)', u'Absolute Power (1997)', u'Abyss, The (1989)', u'Ace Ventura: Pet Detective (1994)', u'Ace Ventura: When Nature Calls (1995)', u'Addams Family Values (1993)', u'Addams Family, The (1991)', u'Adventures in Babysitting (1987)', u'Adventures of Buckaroo Bonzai Across the 8th Dimension, The (1984)', u'Adventures of Priscilla, Queen of the Desert, The (1994)', u'Adventures of Robin Hood, The (1938)', u'African Queen, The (1951)', u'Age of Innocence, The (1993)', u'Agnes of God (1985)', u'Air America (1990)', u'Air Force One (1997)', u'Airplane II: The Sequel (1982)', u'Airplane! (1980)', u'Akira (1988)', u'Aladdin (1992)', u'Alice in Wonderland (1951)', u'Alien (1979)', u'Alien Nation (1988)', u'Alien: Resurrection (1997)', u'Aliens (1986)', u'Alien\ufffd (1992)', u'Alive (1993)', u'All About Eve (1950)', u'All About My Mother (Todo Sobre Mi Madre) (1999)', u'All Quiet on the Western Front (1930)', u'All That Jazz (1979)', u'Almost Famous (2000)', u'Amadeus (1984)', u'American Beauty (1999)', u'American Gigolo (1980)', u'American Graffiti (1973)', u'American History X (1998)', u'American Movie (1999)', u'American Pie (1999)', u'American President, The (1995)', u'American Psycho (2000)', u'American Tail, An (1986)', u'American Werewolf in London, An (1981)', u'American Werewolf in Paris, An (1997)', u'American in Paris, An (1951)', u'Amistad (1997)', u'Amityville Horror, The (1979)', u'Anaconda (1997)', u'Analyze This (1999)', u'Anastasia (1997)', u'And Now for Something Completely Different (1971)', u'Angel Heart (1987)', u'Animal House (1978)', u'Anna and the King (1999)', u'Annie Hall (1977)', u'Antz (1998)', u'Any Given Sunday (1999)', u'Apartment, The (1960)', u'Apocalypse Now (1979)', u'Apollo 13 (1995)', u'Apostle, The (1997)', u'Arachnophobia (1990)', u'Aristocats, The (1970)', u'Arlington Road (1999)', u'Armageddon (1998)', u'Army of Darkness (1993)', u'Around the World in 80 Days (1956)', u'Arrival, The (1996)', u'Arsenic and Old Lace (1944)', u'Arthur (1981)', u'As Good As It Gets (1997)', u'Astronaut's Wife, The (1999)', u'Atlantic City (1980)', u'Auntie Mame (1958)', u'Austin Powers: International Man of Mystery (1997)', u'Austin Powers: The Spy Who Shagged Me (1999)', u'Avengers, The (1998)', u'Awakenings (1990)', u'Babe (1995)', u'Babe: Pig in the City (1998)', u'Bachelor Party (1984)', u'Bachelor, The (1999)', u'Back to School (1986)', u'Back to the Future (1985)', ...], dtype='object')"
       ]
      }
     ],
     "prompt_number": 5
    },
    {
     "cell_type": "markdown",
     "metadata": {},
     "source": [
      "2- Obtain the mean ratings for each movie grouped by gender that have at least 250 ratings. "
     ]
    },
    {
     "cell_type": "code",
     "collapsed": false,
     "input": [
      "mean_ratings = data.pivot_table('rating', index='title',columns='gender', aggfunc='mean')\n",
      "mean_ratings = mean_ratings.ix[active_titles]\n",
      "mean_ratings[:10]"
     ],
     "language": "python",
     "metadata": {},
     "outputs": [
      {
       "html": [
        "<div style=\"max-height:1000px;max-width:1500px;overflow:auto;\">\n",
        "<table border=\"1\" class=\"dataframe\">\n",
        "  <thead>\n",
        "    <tr style=\"text-align: right;\">\n",
        "      <th>gender</th>\n",
        "      <th>F</th>\n",
        "      <th>M</th>\n",
        "    </tr>\n",
        "    <tr>\n",
        "      <th>title</th>\n",
        "      <th></th>\n",
        "      <th></th>\n",
        "    </tr>\n",
        "  </thead>\n",
        "  <tbody>\n",
        "    <tr>\n",
        "      <th>'burbs, The (1989)</th>\n",
        "      <td> 2.793478</td>\n",
        "      <td> 2.962085</td>\n",
        "    </tr>\n",
        "    <tr>\n",
        "      <th>10 Things I Hate About You (1999)</th>\n",
        "      <td> 3.646552</td>\n",
        "      <td> 3.311966</td>\n",
        "    </tr>\n",
        "    <tr>\n",
        "      <th>101 Dalmatians (1961)</th>\n",
        "      <td> 3.791444</td>\n",
        "      <td> 3.500000</td>\n",
        "    </tr>\n",
        "    <tr>\n",
        "      <th>101 Dalmatians (1996)</th>\n",
        "      <td> 3.240000</td>\n",
        "      <td> 2.911215</td>\n",
        "    </tr>\n",
        "    <tr>\n",
        "      <th>12 Angry Men (1957)</th>\n",
        "      <td> 4.184397</td>\n",
        "      <td> 4.328421</td>\n",
        "    </tr>\n",
        "    <tr>\n",
        "      <th>13th Warrior, The (1999)</th>\n",
        "      <td> 3.112000</td>\n",
        "      <td> 3.168000</td>\n",
        "    </tr>\n",
        "    <tr>\n",
        "      <th>2 Days in the Valley (1996)</th>\n",
        "      <td> 3.488889</td>\n",
        "      <td> 3.244813</td>\n",
        "    </tr>\n",
        "    <tr>\n",
        "      <th>20,000 Leagues Under the Sea (1954)</th>\n",
        "      <td> 3.670103</td>\n",
        "      <td> 3.709205</td>\n",
        "    </tr>\n",
        "    <tr>\n",
        "      <th>2001: A Space Odyssey (1968)</th>\n",
        "      <td> 3.825581</td>\n",
        "      <td> 4.129738</td>\n",
        "    </tr>\n",
        "    <tr>\n",
        "      <th>2010 (1984)</th>\n",
        "      <td> 3.446809</td>\n",
        "      <td> 3.413712</td>\n",
        "    </tr>\n",
        "  </tbody>\n",
        "</table>\n",
        "</div>"
       ],
       "metadata": {},
       "output_type": "pyout",
       "prompt_number": 6,
       "text": [
        "gender                                      F         M\n",
        "title                                                  \n",
        "'burbs, The (1989)                   2.793478  2.962085\n",
        "10 Things I Hate About You (1999)    3.646552  3.311966\n",
        "101 Dalmatians (1961)                3.791444  3.500000\n",
        "101 Dalmatians (1996)                3.240000  2.911215\n",
        "12 Angry Men (1957)                  4.184397  4.328421\n",
        "13th Warrior, The (1999)             3.112000  3.168000\n",
        "2 Days in the Valley (1996)          3.488889  3.244813\n",
        "20,000 Leagues Under the Sea (1954)  3.670103  3.709205\n",
        "2001: A Space Odyssey (1968)         3.825581  4.129738\n",
        "2010 (1984)                          3.446809  3.413712"
       ]
      }
     ],
     "prompt_number": 6
    },
    {
     "cell_type": "markdown",
     "metadata": {},
     "source": [
      "3- Show films more valued by women."
     ]
    },
    {
     "cell_type": "code",
     "collapsed": false,
     "input": [
      "top_female_ratings = mean_ratings.sort_index(by='F', ascending=False)\n",
      "top_female_ratings[:10].F"
     ],
     "language": "python",
     "metadata": {},
     "outputs": [
      {
       "metadata": {},
       "output_type": "pyout",
       "prompt_number": 7,
       "text": [
        "title\n",
        "Close Shave, A (1995)                                     4.644444\n",
        "Wrong Trousers, The (1993)                                4.588235\n",
        "Sunset Blvd. (a.k.a. Sunset Boulevard) (1950)             4.572650\n",
        "Wallace & Gromit: The Best of Aardman Animation (1996)    4.563107\n",
        "Schindler's List (1993)                                   4.562602\n",
        "Shawshank Redemption, The (1994)                          4.539075\n",
        "Grand Day Out, A (1992)                                   4.537879\n",
        "To Kill a Mockingbird (1962)                              4.536667\n",
        "Creature Comforts (1990)                                  4.513889\n",
        "Usual Suspects, The (1995)                                4.513317\n",
        "Name: F, dtype: float64"
       ]
      }
     ],
     "prompt_number": 7
    },
    {
     "cell_type": "markdown",
     "metadata": {},
     "source": [
      "4- Now we wonder which movies are rated more differently between men and women. Which films have more different rating and are more highly valued by women? And the films preferred by men which doesn't liked women? What are the films that have generated the most discordant ratings, regardless of gender?"
     ]
    },
    {
     "cell_type": "code",
     "collapsed": false,
     "input": [
      "mean_ratings['diff'] = mean_ratings['M'] - mean_ratings['F']\n",
      "#Sort by'diff':  films have more different rating and are more highly valued by women\n",
      "sorted_by_diff = mean_ratings.sort_index(by='diff')\n",
      "print sorted_by_diff[:15]\n",
      "\n",
      "#Switching the order we get the films preferred by men which doesn't liked women\n",
      "print sorted_by_diff[:-15:-1]\n",
      "\n",
      "# We can use standard deviation of the ratings to find the films that have generated the most discordant ratings, regardless of gender\n",
      "\n",
      "# Standard deviation of rating grouped by title\n",
      "rating_std_by_title = data.groupby('title')['rating'].std()\n",
      "# Filter down to active_titles\n",
      "rating_std_by_title = rating_std_by_title.ix[active_titles]\n",
      "print rating_std_by_title.order(ascending=False)[:10]\n"
     ],
     "language": "python",
     "metadata": {},
     "outputs": [
      {
       "output_type": "stream",
       "stream": "stdout",
       "text": [
        "gender                                        F         M      diff\n",
        "title                                                              \n",
        "Dirty Dancing (1987)                   3.790378  2.959596 -0.830782\n",
        "Jumpin' Jack Flash (1986)              3.254717  2.578358 -0.676359\n",
        "Grease (1978)                          3.975265  3.367041 -0.608224\n",
        "Little Women (1994)                    3.870588  3.321739 -0.548849\n",
        "Steel Magnolias (1989)                 3.901734  3.365957 -0.535777\n",
        "Anastasia (1997)                       3.800000  3.281609 -0.518391\n",
        "Rocky Horror Picture Show, The (1975)  3.673016  3.160131 -0.512885\n",
        "Color Purple, The (1985)               4.158192  3.659341 -0.498851\n",
        "Age of Innocence, The (1993)           3.827068  3.339506 -0.487561\n",
        "Free Willy (1993)                      2.921348  2.438776 -0.482573\n",
        "French Kiss (1995)                     3.535714  3.056962 -0.478752\n",
        "Little Shop of Horrors, The (1960)     3.650000  3.179688 -0.470312\n",
        "Guys and Dolls (1955)                  4.051724  3.583333 -0.468391\n",
        "Mary Poppins (1964)                    4.197740  3.730594 -0.467147\n",
        "Patch Adams (1998)                     3.473282  3.008746 -0.464536\n",
        "gender                                         F         M      diff\n",
        "title                                                               \n",
        "Good, The Bad and The Ugly, The (1966)  3.494949  4.221300  0.726351\n",
        "Kentucky Fried Movie, The (1977)        2.878788  3.555147  0.676359\n",
        "Dumb & Dumber (1994)                    2.697987  3.336595  0.638608\n",
        "Longest Day, The (1962)                 3.411765  4.031447  0.619682\n",
        "Cable Guy, The (1996)                   2.250000  2.863787  0.613787\n",
        "Evil Dead II (Dead By Dawn) (1987)      3.297297  3.909283  0.611985\n",
        "Hidden, The (1987)                      3.137931  3.745098  0.607167\n",
        "Rocky III (1982)                        2.361702  2.943503  0.581801\n",
        "Caddyshack (1980)                       3.396135  3.969737  0.573602\n",
        "For a Few Dollars More (1965)           3.409091  3.953795  0.544704\n",
        "Porky's (1981)                          2.296875  2.836364  0.539489\n",
        "Animal House (1978)                     3.628906  4.167192  0.538286\n",
        "Exorcist, The (1973)                    3.537634  4.067239  0.529605\n",
        "Fright Night (1985)                     2.973684  3.500000  0.526316\n",
        "title\n",
        "Dumb & Dumber (1994)                     1.321333\n",
        "Blair Witch Project, The (1999)          1.316368\n",
        "Natural Born Killers (1994)              1.307198\n",
        "Tank Girl (1995)                         1.277695\n",
        "Rocky Horror Picture Show, The (1975)    1.260177\n",
        "Eyes Wide Shut (1999)                    1.259624\n",
        "Evita (1996)                             1.253631\n",
        "Billy Madison (1995)                     1.249970\n",
        "Fear and Loathing in Las Vegas (1998)    1.246408\n",
        "Bicentennial Man (1999)                  1.245533\n",
        "Name: rating, dtype: float64"
       ]
      },
      {
       "output_type": "stream",
       "stream": "stdout",
       "text": [
        "\n"
       ]
      }
     ],
     "prompt_number": 10
    },
    {
     "cell_type": "markdown",
     "metadata": {},
     "source": [
      "5- Calculate the average rating of each user. "
     ]
    },
    {
     "cell_type": "code",
     "collapsed": false,
     "input": [
      "mean_rating_by_user = data.groupby('user_id')['rating'].mean()\n",
      "mean_rating_by_user[:15]"
     ],
     "language": "python",
     "metadata": {},
     "outputs": [
      {
       "metadata": {},
       "output_type": "pyout",
       "prompt_number": 12,
       "text": [
        "user_id\n",
        "1          4.188679\n",
        "2          3.713178\n",
        "3          3.901961\n",
        "4          4.190476\n",
        "5          3.146465\n",
        "6          3.901408\n",
        "7          4.322581\n",
        "8          3.884892\n",
        "9          3.735849\n",
        "10         4.114713\n",
        "11         3.277372\n",
        "12         3.826087\n",
        "13         3.388889\n",
        "14         3.320000\n",
        "15         3.323383\n",
        "Name: rating, dtype: float64"
       ]
      }
     ],
     "prompt_number": 12
    },
    {
     "cell_type": "markdown",
     "metadata": {},
     "source": [
      "What is the highest rated movie in average?"
     ]
    },
    {
     "cell_type": "code",
     "collapsed": false,
     "input": [
      "data.groupby('title')['rating'].mean().ix[active_titles].order(ascending=False)[:1].index.tolist()"
     ],
     "language": "python",
     "metadata": {},
     "outputs": [
      {
       "metadata": {},
       "output_type": "pyout",
       "prompt_number": 22,
       "text": [
        "['Seven Samurai (The Magnificent Seven) (Shichinin no samurai) (1954)']"
       ]
      }
     ],
     "prompt_number": 22
    },
    {
     "cell_type": "markdown",
     "metadata": {},
     "source": [
      "6- Define a function called  <b>top_movies</b> that given a user it returns what movies have the highest rank for this user.\n",
      "\n",
      "def top_movies(user)\n"
     ]
    },
    {
     "cell_type": "code",
     "collapsed": false,
     "input": [
      "def top_movies(dataFrame,usr):\n",
      "    max_i = dataFrame[dataFrame.user_id == usr].rating.max() \n",
      "    print max_i\n",
      "    return dataFrame[(dataFrame['user_id'] == usr) & (dataFrame['rating'] == max_i )].title\n",
      "\n",
      "print top_movies(data,1)"
     ],
     "language": "python",
     "metadata": {},
     "outputs": [
      {
       "output_type": "stream",
       "stream": "stdout",
       "text": [
        "5\n",
        "0        One Flew Over the Cuckoo's Nest (1975)\n",
        "4201                       Bug's Life, A (1998)\n",
        "8222                             Ben-Hur (1959)\n",
        "8926                  Christmas Story, A (1983)\n",
        "12759               Beauty and the Beast (1991)\n",
        "15859                Sound of Music, The (1965)\n",
        "19503                         Awakenings (1990)\n",
        "23270                 Back to the Future (1985)\n",
        "25853                   Schindler's List (1993)\n",
        "28501                         Pocahontas (1995)\n",
        "37204            Last Days of Disco, The (1998)\n",
        "37339                         Cinderella (1950)\n",
        "40375                          Apollo 13 (1995)\n",
        "41626                          Toy Story (1995)\n",
        "43703                           Rain Man (1988)\n",
        "49748                       Mary Poppins (1964)\n",
        "50759                              Dumbo (1941)\n",
        "52255                Saving Private Ryan (1998)\n",
        "Name: title, dtype: object\n"
       ]
      }
     ],
     "prompt_number": 24
    },
    {
     "cell_type": "markdown",
     "metadata": {},
     "source": [
      "**Data from Excel**"
     ]
    },
    {
     "cell_type": "markdown",
     "metadata": {},
     "source": [
      "7- Read data from excel files: `MunicipisCatalunya.xlsx` and `BBDD_1_OCTUBRE_WEB_SI`. Browse their contents and find the % of catalan municipalities and % of population that supports a ballot for the self-determination of Catalonia at 1st of October. "
     ]
    },
    {
     "cell_type": "code",
     "collapsed": false,
     "input": [
      "### Your Code HERE\n",
      "import pandas as pd\n",
      "munip = pd.read_excel('MunicipisCatalunya.xlsx')\n",
      "munipsi = pd.read_excel('BBDD_1_OCTUBRE_WEB_SI.xlsx')\n",
      "print munipsi.head()\n",
      "munipsi.dropna(subset=['Data ple (dd/mm/aa)'])\n",
      "print \"% Municipalities:\", float(len(munipsi))/len(munip)\n",
      "print \"% Population:\", munipsi['Habitants'].sum()/munip['CENS'].sum() "
     ],
     "language": "python",
     "metadata": {},
     "outputs": [
      {
       "output_type": "stream",
       "stream": "stdout",
       "text": [
        "         MUNICIPI  Habitants  Data ple (dd/mm/aa) Hora (hh:mm)   Comarca  \\\n",
        "0     Aiguam\u00farcia        914  2014-09-25 00:00:00        20:00  Alt Camp   \n",
        "1         Alcover       5143  2014-09-05 00:00:00          NaN  Alt Camp   \n",
        "2            Ali\u00f3        386  2014-09-23 00:00:00     20:00:00  Alt Camp   \n",
        "3          Br\u00e0fim        680  2014-09-22 00:00:00     20:00:00  Alt Camp   \n",
        "4  Cabra del Camp       1146  2014-09-26 00:00:00     18:30:00  Alt Camp   \n",
        "\n",
        "   Provincia  \n",
        "0  Tarragona  \n",
        "1  Tarragona  \n",
        "2  Tarragona  \n",
        "3  Tarragona  \n",
        "4  Tarragona  \n",
        "% Municipalities: 0.966173361522\n",
        "% Population: 0.89741078245\n"
       ]
      }
     ],
     "prompt_number": 25
    },
    {
     "cell_type": "code",
     "collapsed": false,
     "input": [
      "import numpy as np\n",
      "print munipsi.ix[np.where(munipsi.MUNICIPI==u\"L'Albag\u00e9s\")]\n",
      "print munip.ix[np.where(munip.MUNICIPI==u\"L'Albag\u00e9s\")]"
     ],
     "language": "python",
     "metadata": {},
     "outputs": [
      {
       "output_type": "stream",
       "stream": "stdout",
       "text": [
        "      MUNICIPI  Habitants  Data ple (dd/mm/aa) Hora (hh:mm)    Comarca  \\\n",
        "412  L'Albag\u00e9s        462  2014-09-22 00:00:00        15:00  Garrigues   \n",
        "\n",
        "    Provincia  \n",
        "412    Lleida  \n",
        "      CODI ENS  CODI POSTAL NOM CURT   MUNICIPI ZONA MUNTANYA    COMARCA  \\\n",
        "12  2500610007        25155  Albag\u00e9s  L'Albag\u00e9s           NaN  Garrigues   \n",
        "\n",
        "   PROV\u00cdNCIA  CENS  SUPERFICIE  ALTURA  \n",
        "12    Lleida   476       26.03     372  \n"
       ]
      }
     ],
     "prompt_number": 26
    },
    {
     "cell_type": "markdown",
     "metadata": {},
     "source": [
      "** Data from CSV**"
     ]
    },
    {
     "cell_type": "markdown",
     "metadata": {},
     "source": [
      "8- Read data from csv file: `ma-ba.csv`. Count the number of times `Bar\u00e7a` wins `Madrid` and compute the stadistics of % win, % lose and % draw."
     ]
    },
    {
     "cell_type": "code",
     "collapsed": false,
     "input": [
      "### Your Code HERE\n",
      "maba = pd.read_csv('ma-ba.csv')\n",
      "maba.columns = ['No','Fecha','Lugar','Partidos','resultado','Competicion']\n",
      "print 'Total matches', len(maba)\n",
      "df = pd.DataFrame(maba.resultado.str.split('-').apply(pd.Series, 1))\n",
      "df1 = pd.DataFrame(maba.Partidos.str.split('-').apply(pd.Series, 1))\n",
      "df =pd.concat([df1,df],axis=1)\n",
      "df.columns = ['Local','Visitor','GL','GV']\n",
      "df.Local = df.Local.apply(str.strip)\n",
      "df.Visitor = df.Visitor.apply(str.strip)\n",
      "# Count victories as Local:\n",
      "local=df[df.Local == 'Barcelona']\n",
      "victoriesLocal = sum(local.GL > local.GV)\n",
      "drawLocal = sum(local.GL == local.GV)\n",
      "loseLocal = sum(local.GL < local.GV)\n",
      "print 'Bar\u00e7a win as local:', victoriesLocal\n",
      "\n",
      "\n",
      "visitor=df[df.Visitor == 'Barcelona']\n",
      "victoriesVisitor = sum(visitor.GV > visitor.GL)\n",
      "drawVisitor = sum(visitor.GV == visitor.GL)\n",
      "loseVisitor = sum(visitor.GV < visitor.GL)\n",
      "\n",
      "\n",
      "print 'Bar\u00e7a win as visitor:', victoriesVisitor\n",
      "print 'Total Victories Bar\u00e7a:', victoriesLocal + victoriesVisitor,'(', float((victoriesLocal + victoriesVisitor))/len(maba)*100,'%)'\n",
      "print 'Total Draws :', drawLocal + drawVisitor,'(', float((drawLocal + drawVisitor))/len(maba)*100,'%)'\n",
      "print 'Total Lose :', loseLocal + loseVisitor,'(', float((loseLocal + loseVisitor))/len(maba)*100,'%)'\n",
      "\n",
      "assert victoriesLocal+victoriesVisitor+drawLocal+drawVisitor+loseLocal+loseVisitor == len(maba)"
     ],
     "language": "python",
     "metadata": {},
     "outputs": [
      {
       "output_type": "stream",
       "stream": "stdout",
       "text": [
        "Total matches 260\n",
        "Bar\u00e7a win as local:"
       ]
      },
      {
       "output_type": "stream",
       "stream": "stdout",
       "text": [
        " 75\n",
        "Bar\u00e7a win as visitor: 32\n",
        "Total Victories Bar\u00e7a: 107 ( 41.1538461538 %)\n",
        "Total Draws : 59 ( 22.6923076923 %)\n",
        "Total Lose : 94 ( 36.1538461538 %)\n"
       ]
      }
     ],
     "prompt_number": 27
    },
    {
     "cell_type": "markdown",
     "metadata": {},
     "source": [
      "#Further Reading\n",
      "Pandas has much more functionalities. Check out the (very readable) pandas docs if you want to learn more:\n",
      "\n",
      "http://pandas.pydata.org/pandas-docs/stable/"
     ]
    }
   ],
   "metadata": {}
  }
 ]
}