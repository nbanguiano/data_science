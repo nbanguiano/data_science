{
 "metadata": {
  "name": "",
  "signature": "sha256:769a3290e8598251bc29d3b52676c15fff7941c2bf2f765babc88b13d9b01822"
 },
 "nbformat": 3,
 "nbformat_minor": 0,
 "worksheets": [
  {
   "cells": [
    {
     "cell_type": "code",
     "collapsed": false,
     "input": [
      "from IPython.core.display import HTML\n",
      "def css_styling():\n",
      "    styles = open(\"styles/custom.css\", \"r\").read()\n",
      "    return HTML(styles)\n",
      "css_styling()"
     ],
     "language": "python",
     "metadata": {},
     "outputs": [
      {
       "html": [
        "<style>\r\n",
        "    @font-face {\r\n",
        "        font-family: \"Computer Modern\";\r\n",
        "        src: url('http://9dbb143991406a7c655e-aa5fcb0a5a4ec34cff238a2d56ca4144.r56.cf5.rackcdn.com/cmunss.otf');\r\n",
        "    }\r\n",
        "    @font-face {\r\n",
        "        font-family: \"Computer Modern\";\r\n",
        "        font-weight: bold;\r\n",
        "        src: url('http://9dbb143991406a7c655e-aa5fcb0a5a4ec34cff238a2d56ca4144.r56.cf5.rackcdn.com/cmunsx.otf');\r\n",
        "    }\r\n",
        "    @font-face {\r\n",
        "        font-family: \"Computer Modern\";\r\n",
        "        font-style: oblique;\r\n",
        "        src: url('http://9dbb143991406a7c655e-aa5fcb0a5a4ec34cff238a2d56ca4144.r56.cf5.rackcdn.com/cmunsi.otf');\r\n",
        "    }\r\n",
        "    @font-face {\r\n",
        "        font-family: \"Computer Modern\";\r\n",
        "        font-weight: bold;\r\n",
        "        font-style: oblique;\r\n",
        "        src: url('http://9dbb143991406a7c655e-aa5fcb0a5a4ec34cff238a2d56ca4144.r56.cf5.rackcdn.com/cmunso.otf');\r\n",
        "    }\r\n",
        "    div.cell{\r\n",
        "        width:800px;\r\n",
        "        margin-left:16% !important;\r\n",
        "        margin-right:auto;\r\n",
        "    }\r\n",
        "    h1 {\r\n",
        "        font-family: Helvetica, serif;\r\n",
        "    }\r\n",
        "    h4{\r\n",
        "        margin-top:12px;\r\n",
        "        margin-bottom: 3px;\r\n",
        "       }\r\n",
        "    div.text_cell_render{\r\n",
        "        font-family: Computer Modern, \"Helvetica Neue\", Arial, Helvetica, Geneva, sans-serif;\r\n",
        "        line-height: 145%;\r\n",
        "        font-size: 130%;\r\n",
        "        width:800px;\r\n",
        "        margin-left:auto;\r\n",
        "        margin-right:auto;\r\n",
        "    }\r\n",
        "    .CodeMirror{\r\n",
        "            font-family: \"Source Code Pro\", source-code-pro,Consolas, monospace;\r\n",
        "    }\r\n",
        "    .prompt{\r\n",
        "        display: None;\r\n",
        "    }\r\n",
        "    .text_cell_render h5 {\r\n",
        "        font-weight: 300;\r\n",
        "        font-size: 22pt;\r\n",
        "        color: #4057A1;\r\n",
        "        font-style: italic;\r\n",
        "        margin-bottom: .5em;\r\n",
        "        margin-top: 0.5em;\r\n",
        "        display: block;\r\n",
        "    }\r\n",
        "    \r\n",
        "    .warning{\r\n",
        "        color: rgb( 240, 20, 20 )\r\n",
        "        }  \r\n",
        "</style>\r\n",
        "<script>\r\n",
        "    MathJax.Hub.Config({\r\n",
        "                        TeX: {\r\n",
        "                           extensions: [\"AMSmath.js\"]\r\n",
        "                           },\r\n",
        "                tex2jax: {\r\n",
        "                    inlineMath: [ ['$','$'], [\"\\\\(\",\"\\\\)\"] ],\r\n",
        "                    displayMath: [ ['$$','$$'], [\"\\\\[\",\"\\\\]\"] ]\r\n",
        "                },\r\n",
        "                displayAlign: 'center', // Change this to 'center' to center equations.\r\n",
        "                \"HTML-CSS\": {\r\n",
        "                    styles: {'.MathJax_Display': {\"margin\": 4}}\r\n",
        "                }\r\n",
        "        });\r\n",
        "</script>\r\n"
       ],
       "metadata": {},
       "output_type": "pyout",
       "prompt_number": 3,
       "text": [
        "<IPython.core.display.HTML at 0x1043b9850>"
       ]
      }
     ],
     "prompt_number": 3
    },
    {
     "cell_type": "markdown",
     "metadata": {},
     "source": [
      "# A practical introduction to Data Science. \n",
      "\n",
      "This is a **practical course** on Data Science, from an engineering perspective, based on the  belief that to write programs is a privileged way to develop and test student's understanding."
     ]
    },
    {
     "cell_type": "code",
     "collapsed": false,
     "input": [
      "from IPython.display import HTML\n",
      "HTML('<iframe src=http://hbr.org/2012/10/data-scientist-the-sexiest-job-of-the-21st-century/ar/1/?useformat=mobile width=770 height=600></iframe>')"
     ],
     "language": "python",
     "metadata": {},
     "outputs": [
      {
       "html": [
        "<iframe src=http://hbr.org/2012/10/data-scientist-the-sexiest-job-of-the-21st-century/ar/1/?useformat=mobile width=770 height=600></iframe>"
       ],
       "metadata": {},
       "output_type": "pyout",
       "prompt_number": 4,
       "text": [
        "<IPython.core.display.HTML at 0x1043b0690>"
       ]
      }
     ],
     "prompt_number": 4
    },
    {
     "cell_type": "markdown",
     "metadata": {},
     "source": [
      "## History \n",
      "(Source: *Gill Press, Forbes, 5/28/2013*)\n",
      "\n",
      "> The story of how data scientists became sexy is mostly the story of the coupling of the mature discipline of statistics with a very young one \u2013 computer science.  The term \u201cData Science\u201d has emerged only recently to specifically designate a new profession that is expected to make sense of the vast stores of big data. \n",
      "\n",
      "+ 1962, John W. Tukey writes in \u201cThe Future of Data Analysis\u201d\n",
      "+ 1995, the first Knowledge Discovery in Databases (KDD) Conference became the annual ACM SIGKDD Conference on Knowledge Discovery and Data Mining (KDD).\n",
      "+ 1997, the journal Data Mining and Knowledge Discovery is launched.\n",
      "+ 2001, William S. Cleveland publishes \u201cData Science: An Action Plan for Expanding the Technical Areas of the Field of Statistics.\u201d\n",
      "+ 2001, Leo Breiman publishes \u201cStatistical Modeling: The Two Cultures\u201d: \u201c*There are two cultures in the use of statistical modeling to reach conclusions from data. One assumes that the data are generated by a given stochastic data model. The other uses algorithmic models and treats the data mechanism as unknown. The statistical community has been committed to the almost exclusive use of data models. This commitment has led to irrelevant theory, questionable conclusions, and has kept statisticians from working on a large range of interesting current problems. Algorithmic modeling, both in theory and practice, has developed rapidly in fields outside statistics. It can be used both on large complex data sets and as a more accurate and informative alternative to data modeling on smaller data sets. If our goal as a field is to use data to solve problems, then we need to move away from exclusive dependence on data models and adopt a more diverse set of tools.*\u201d\n",
      "+ January 2009, Hal Varian, Google\u2019s Chief Economist, tells the McKinsey Quarterly: \u201c*I keep saying the sexy job in the next ten years will be statisticians. People think I\u2019m joking, but who would\u2019ve guessed that computer engineers would\u2019ve been the sexy job of the 1990s? The ability to take data\u2014to be able to understand it, to process it, to extract value from it, to visualize it, to communicate it\u2014that\u2019s going to be a hugely important skill in the next decades\u2026*\"\n",
      "+ June 2010 Mike Loukides writes in \u201cWhat is Data Science?\u201d\n",
      "+ September, 2012 Tom Davenport and D.J. Patil publish \u201cData Scientist: The Sexiest Job of the 21st Century\u201d in the Harvard Business Review.\n"
     ]
    },
    {
     "cell_type": "markdown",
     "metadata": {
      "slideshow": {
       "slide_type": "slide"
      }
     },
     "source": [
      "> In God we trust, all others bring data. *W.E.Demming*.\n",
      "\n",
      "## DS: Business perspective\n",
      "\n",
      "Currently, most company decisions are based on intuition and best practices. The alternative is to integrate data-based knowledge in the decision process.\n",
      "\n",
      "Data Science is a new **data processing model focused on turning data into actions**. \n",
      "\n",
      "\n",
      "## DS: How does it work?\n",
      "\n",
      "* Obtaining the data you need. Data can be heterogenous and unstructured, often emanating from network structures.\n",
      "* Manipulating the data.\n",
      "* Analyzing the data, including CS techniques, linguistics, econometrics, sociology, etc. \n",
      "* Acting"
     ]
    },
    {
     "cell_type": "markdown",
     "metadata": {},
     "source": [
      "## DS, is it different?\n",
      "\n",
      "The data point of view:\n",
      "\n",
      "+ Data is increasingly **heterogeneous and unstructured**, often emanating from **network structures**.\n",
      "+  Data analysis is **multidisciplinary** and must include several knowledge disciplines: computer science, linguistics, econometrics, sociology, etc.\n",
      "\n",
      "The data scientist's point of view:\n",
      "\n",
      "+ The classical question was **What data satisfy my model?** Hence, the classical database model is not adequated for knowledge discovery. It is optimized for fast access and summarization given **what the user wants to ask**. \n",
      "\n",
      "+ The new question is **What patterns satisfy my data?** The answer to this question is finding interesting (unexpected, robust, actionable) patterns with predictive power."
     ]
    },
    {
     "cell_type": "markdown",
     "metadata": {},
     "source": [
      "## DS Conceptual Limits\n",
      "\n",
      "* Data Science is a tool meant to inform rather than to explain.\n",
      "\n",
      "> Theories that sought only to explain a phenomenon are weak, whereas those that make **bold predictions** that stand the test of time despite beign readily falsiable should be taken seriously. *Karl Popper*.\n",
      "\n",
      "* Data Science does not substitute creativity, intuition or ingenuity.\n",
      "\n",
      "> If I had asked people what they wanted, they would have said faster horses. *Henry Ford*."
     ]
    },
    {
     "cell_type": "markdown",
     "metadata": {},
     "source": [
      "## DS Practical Limits\n",
      "\n",
      "> \"All models are wrong, but some are useful\". George Box, Statistician.\n",
      "\n",
      "There are always errors in predictions. They come from three different sources:\n",
      "\n",
      "+ The mispecification of the model.\n",
      "+ The samples used to estimate the parameters.\n",
      "+ Randomness.\n",
      "\n",
      "You can lie with data!"
     ]
    },
    {
     "cell_type": "markdown",
     "metadata": {},
     "source": [
      "## DS Ethical Limits: Privacy and New Deal on Data\n",
      "\n",
      "http://hd.media.mit.edu/wef_globalit.pdf\n",
      "\n",
      "The simplest approach to defining what it means to \u201down your own data\u201d is to go back to Old English Common Law for the three basic tenets of ownership, which are the rights of **possession, use, and disposal**:\n",
      "\n",
      "+ You have a right to possess your data. Companies should adopt the role of a Swiss bank account for your data.You open an account (anonymously, if possible), and you can remove your data whenever you\u2019d like.\n",
      "+ You, the data owner, must have full control over the use of your data. If you\u2019re not happy with the way a company uses your data, you can remove it. All of it. Everything must be opt-in, and not only clearly explained in plain language, but with regular reminders that you have the option to opt out.\n",
      "+ You have a right to dispose or distribute your data. If you want to destroy it or remove it  and redeploy it elsewhere, it is your call. \n",
      "\n",
      "Ownership seems to be the minimal guideline for the \u201cnew deal on data\u201d. There needs to be one more principle, however\u2014which is to adopt policies that encourage the combination of massive amounts of anonymous data to **promote the Common Good**."
     ]
    },
    {
     "cell_type": "code",
     "collapsed": false,
     "input": [
      "from IPython.display import HTML\n",
      "HTML('<iframe src=http://www.ft.com/cms/s/2/21a6e7d8-b479-11e3-a09a-00144feabdc0.html#axzz2xTOoFKlW?useformat=mobile width=770 height=450></iframe>')"
     ],
     "language": "python",
     "metadata": {},
     "outputs": [
      {
       "html": [
        "<iframe src=http://www.ft.com/cms/s/2/21a6e7d8-b479-11e3-a09a-00144feabdc0.html#axzz2xTOoFKlW?useformat=mobile width=770 height=450></iframe>"
       ],
       "metadata": {},
       "output_type": "pyout",
       "prompt_number": 3,
       "text": [
        "<IPython.core.display.HTML at 0x1031b2790>"
       ]
      }
     ],
     "prompt_number": 3
    },
    {
     "cell_type": "markdown",
     "metadata": {},
     "source": [
      "## Data Scientist's Skills\n",
      "\n",
      "+ Machine Learning, or how to understand data with supervised and unsupervised methods. In the first case we will build a model for predicting an output based on one or more inputs. In the second case, there are no outputs, but we can learn relationships and structures from such data.\n",
      "+ MarkUp languages and data bases: XML, HTML, JSON, No-SQL,etc.\n",
      "+ Statistics: probability, distributions, hypothesis testing, multivariate analysis, etc.\n",
      "+ Computer Science: coding, algorithms, data structures, databases, cloud computing, etc.\n",
      "+ Correlation and causation, data modeling.\n",
      "+ Abstract (computational) thinking: ability to formulate problems in a way that results in effective solutions."
     ]
    },
    {
     "cell_type": "markdown",
     "metadata": {},
     "source": [
      "## Origins of Big Data: The unreasonable effectiveness of X\n",
      "\n",
      "> Hamming, Richard Wesley. \"The unreasonable effectiveness of mathematics.\" American Mathematical Monthly (1980): 81-90.\n",
      "\n",
      "There is a story about two friends, who were classmates in high school, talking about their jobs. \n",
      "\n",
      "One of them became a statistician and was working on population trends. He showed a reprint to his former classmate. The reprint started, as usual, with the Gaussian distribution and the statistician explained to his former classmate the meaning of the symbols for the actual population, for the average population, and so on. \n",
      "\n",
      "His classmate was a bit incredulous and was not quite sure whether the statistician was pulling his leg. \"How can you know that?\" was his query. \"And what is this symbol here?\" \"Oh,\" said the statistician, \"this is $\\pi$.\" \"What is that?\" \"The ratio of the circumference of the circle to its diameter.\" \"Well, now you are pushing your joke too far,\" said the classmate, \"surely the population has nothing to do with the circumference of the circle. (...)"
     ]
    },
    {
     "cell_type": "markdown",
     "metadata": {},
     "source": [
      "## Origins of Big Data: The unreasonable effectiveness of X\n",
      "\n",
      "> Halevy, Alon, Peter Norvig, and Fernando Pereira. \"The unreasonable effectiveness of data.\" Intelligent Systems, IEEE 24.2 (2009): 8-12.\n",
      "\n",
      "For many tasks, words and word combinations provide all the representational machinery we need to learn from text."
     ]
    },
    {
     "cell_type": "code",
     "collapsed": false,
     "input": [
      "from IPython.display import HTML\n",
      "HTML('<iframe src=http://static.googleusercontent.com/media/research.google.com/ca//pubs/archive/35179.pdf?useformat=mobile width=700 height=750></iframe>')"
     ],
     "language": "python",
     "metadata": {},
     "outputs": [
      {
       "html": [
        "<iframe src=http://static.googleusercontent.com/media/research.google.com/ca//pubs/archive/35179.pdf?useformat=mobile width=700 height=750></iframe>"
       ],
       "metadata": {},
       "output_type": "pyout",
       "prompt_number": 4,
       "text": [
        "<IPython.core.display.HTML at 0x102fb2250>"
       ]
      }
     ],
     "prompt_number": 4
    },
    {
     "cell_type": "markdown",
     "metadata": {},
     "source": [
      "## What is Big Data?\n",
      "\n",
      "A practical definition (at least for some people):\n",
      "\n",
      "> Data is big when size > 65536x256 (Excel worksheet limit).\n",
      "\n",
      "or\n",
      "\n",
      "> Wal-Mart handles over one million customer transaction per hour, the information is stored on \n",
      "a database sized in excess of 2.5 Petabytes. \n",
      "\n",
      "> By 2015 it is likely that a typical hospital will create 665 terabytes of data a year."
     ]
    },
    {
     "cell_type": "markdown",
     "metadata": {},
     "source": [
      "## BD and $V^3$\n",
      "\n",
      "The three Vs of **Volume**, **Velocity**, and **Variety** are commonly used to characterize different aspects of big data.\n",
      "\n",
      "1. Volume is important because of the benefit gained from the ability to process large amounts of information is the main attraction of big data analytics.\n",
      "\n",
      "2. Velocity is important because of the increasing rate at which data flows into an organization.\n",
      "\n",
      "3. The ability to deal with variety is important because source data is diverse, and doesn\u2019t fall into neat relational structures."
     ]
    },
    {
     "cell_type": "markdown",
     "metadata": {},
     "source": [
      "## The real causa of BD: Datification\n",
      "\n",
      "*Big data* cannot be only understood in terms of size. *Big data* is a by-product of the **datification** phenomena (rendering into data many aspects of the world that have never been quantified before: location, friendship, likes, etc.)\n",
      "\n",
      "+ Google glasses datify *sight*\n",
      "+ Twitter datify *straight thoughts*\n",
      "+ LinkedIn datify *business networks*\n",
      "+ Etc."
     ]
    },
    {
     "cell_type": "markdown",
     "metadata": {},
     "source": [
      "## Where is the Data?"
     ]
    },
    {
     "cell_type": "markdown",
     "metadata": {},
     "source": [
      "+ Corporate Data Bases (Structured information).\n",
      "\n",
      "+ Unstructured Text in documents, Wikipedia, textbooks, journals, blogs, tweets, etc.\n",
      "\n",
      "+ Images in the web, public cameras, phones, TV, YouTube, etc.\n",
      "\n",
      "+ Public APIs: smart cities, government, search engines, etc.\n",
      "\n",
      "+ Sensor Data: physico-chemical sensors, sociometric sensors, \n",
      "\n",
      "+ Etc.\n",
      "\n",
      "+ \n",
      "\n",
      "<center><img src=\"files/images/socialbadge.jpg\"></center>"
     ]
    },
    {
     "cell_type": "markdown",
     "metadata": {},
     "source": [
      "## BD+DS Example: Image Data Science\n",
      "\n",
      "http://gigaom.com/2014/01/06/pinterest-yahoo-dropbox-and-the-kind-of-quiet-content-as-data-revolution/\n",
      "\n",
      "New types of data, not just numbers, are becoming commodities that smart companies are using to build new types of products and capabilities, and gain new types of insights about their customers. \n",
      "\n",
      "Images are the **dark matter of Internet** and **visual analytics** a promising technology.\n",
      "\n",
      "+ Google acquired DNNresearch in March 2013. The creation of University of Toronto professor Geoff Hinton and his lab, the company focused on deep learning (the \u201cDNN\u201d stands for deep neural networks) to improve the state of the art in image recognition in photos.\n",
      "+ Dropbox acquired Anchovi Labs in September 2012. The company was a very young startup at time, focused on software that let users easily train it on types of objects so it could recognize them as it analyzed new images.\n",
      "+ Yahoo acquired, IQ Engines, LookFlow and SkyPhrase between August and December in 2013. IQ Engines and LookFlow were focused on image recognition \u2014 primarily, it seems, helping user sort through their smartphone photos and online albums \u2014 while SkyPhrase focused on letting people search for data using natural language.\n",
      "+ Facebook hired deep learning expert Yann Lecun from New York University to head up the company\u2019s new artificial intelligence lab. Lecun and his NYU group (which includes Rob Fergus, who\u2019s also headed to Facebook), specialized in deep learning for computer vision and image recognition.\n",
      "+ Pinterest has recently announced it has acquired Visual Graph, the purpose of which appeared to be building a network graph of images based on an understanding of the elements they contain. \n",
      "\n",
      "<center><img src=\"files/images/face1.png\"></center>"
     ]
    },
    {
     "cell_type": "markdown",
     "metadata": {},
     "source": [
      "## BD+DS Example: Location Data Science\n",
      "\n",
      "http://blogs.hbr.org/2014/03/how-location-analytics-will-transform-retail/\n",
      "\n",
      "The objective is to track customer behaviors in their physical spaces by leveraging connected mobile devices such as smartphones, existing in-venue Wi-Fi networks, low cost Bluetooth-enabled beacons, computer vision technologies, etc.\n",
      "\n",
      "Venue owners \u2014 from retail to airports to education to amusement parks \u2014 are applying insights gathered from **location analytics** to all aspects of their business including:\n",
      "\n",
      "+ Design. After analyzing traffic flows in their stores (computer vision), a big box retailer realized that less than 10% of customers visiting their shoe department engaged with the self-service wall display where merchandise was stacked. The culprit turned out to be a series of benches placed in front of the wall, limiting customer access. By relocating the benches to increase accessibility, sales in the department increased by double digits.\n",
      "+ Marketing. A restaurant chain wanted to understand the whether or not sponsoring a local music festival had a measurable impact on customer visits. By capturing data on 15,000 visitors passing through the festival entrances (wireless beacons) and comparing it to customers who visited their restaurants two months prior to the festival and two weeks after, they concluded the festival resulted in 1,300 net new customer visits.\n",
      "+ Operations. A grocery store chain used location analytics to understand customer wait times in various departments and check-out registers. This data not only enabled the company to hold managers accountable for wait times, but it gave additional insight into (and justification for) staffing needs for each department throughout the day and optimal times to perform disruptive tasks such as restocking shelves or resetting displays.\n",
      "+ Strategy. A regional clothing chain was concerned that opening an outlet store would cannibalize customers from its main stores. After analyzing the customer base visiting each store, they discovered that less than 2% of their main store customers visited their outlet. The upside: the outlet gave them access to an entirely new customer base with minimal impact to existing store sales.\n",
      "\n"
     ]
    },
    {
     "cell_type": "markdown",
     "metadata": {},
     "source": [
      "## BD+DS Example: Banking Data Science"
     ]
    },
    {
     "cell_type": "code",
     "collapsed": false,
     "input": [
      "from IPython.display import HTML\n",
      "HTML('<iframe src=http://mwcimpact.com/?useformat=mobile width=700 height=750></iframe>')"
     ],
     "language": "python",
     "metadata": {},
     "outputs": [
      {
       "html": [
        "<iframe src=http://mwcimpact.com/?useformat=mobile width=700 height=750></iframe>"
       ],
       "metadata": {},
       "output_type": "pyout",
       "prompt_number": 5,
       "text": [
        "<IPython.core.display.HTML at 0x102fa9690>"
       ]
      }
     ],
     "prompt_number": 5
    },
    {
     "cell_type": "code",
     "collapsed": false,
     "input": [
      "from IPython.display import HTML\n",
      "HTML('<iframe src=http://pennystocks.la/internet-in-real-time/?utm_content=buffer77839&utm_medium=social&utm_source=twitter.com&utm_campaign=buffer?useformat=mobile width=800 height=750></iframe>')"
     ],
     "language": "python",
     "metadata": {},
     "outputs": [
      {
       "html": [
        "<iframe src=http://pennystocks.la/internet-in-real-time/?utm_content=buffer77839&utm_medium=social&utm_source=twitter.com&utm_campaign=buffer?useformat=mobile width=800 height=750></iframe>"
       ],
       "metadata": {},
       "output_type": "pyout",
       "prompt_number": 7,
       "text": [
        "<IPython.core.display.HTML at 0x102fa96d0>"
       ]
      }
     ],
     "prompt_number": 7
    },
    {
     "cell_type": "markdown",
     "metadata": {},
     "source": [
      "## DS First Step: Understanding your data sources.\n",
      "\n",
      "(From http://www.capgemini.com/blog/capping-it-off/2014/02/data-forensics-not-data-science-will-be-the-skill-shortage-for-the-big)\n",
      "\n",
      "Data sources need to be assessed in 3 dimensions: provenance, legality and sensitivity.\n",
      "\n",
      "**Provenance** is about where has the data come from: Do we trust that source, what level of quality can we expect in the data? \n",
      "\n",
      "> Inevitably many of our sources will be less than 100% reliable. We need to establish what the level actually is and adjust how we treat that data in our analytical models accordingly. \n",
      "\n",
      "**Legality**:  Do we have full legal rights to use as we want. \n",
      "\n",
      "> Many apps on your mobile will ask you to check a box that says you agree to their terms and conditions but when you read the small print you have just signed over the right to let them sell your grandmother. They will often want rights to your full address book and to track you at any time. Most data does not come with this level of release however this doesn\u2019t mean it is not useable. In many cases anonymous and/or aggregated data can still provide a lot of insight. But it will be important to understand what is and isn\u2019t allowed. And this varies considerably between countries and even states. \n",
      "\n",
      "**Sensitivity**: You may have the rights to use the data but in doing so are you breaching some ethical boundaries? \n",
      "\n",
      "> In these days when brand reputation and image can make or break companies, all companies must take a view of what is reasonable and ethical. It is important to think about the impact of people knowing about your use of their data. We only need to look at the recent NSA revelations to understand that something that may be possible may not be seen by everyone else as ethical. Similarly, the example of Target, the US Retailer, using analytics to identify pregnant women[2] crossed these boundaries.\n"
     ]
    },
    {
     "cell_type": "markdown",
     "metadata": {},
     "source": [
      "## Data Science Steps\n",
      "*<small> Source: \"The field guide to data science\", Booz, Allen Hamilton, 2013 </small>*\n",
      "\n",
      "### Describe\n",
      "How do I develop an understanding of the content of my data?\n",
      "\n",
      "+ Processing (How I do clean and separate my data?)\n",
      "\n",
      "    + Identification: filter data and consider its factual value: relative/absolute. Outliers. \n",
      "    + Imputation: missing value processing.\n",
      "    + Reduction: dimensionality reduction.\n",
      "    + Normalization: duplicates, ranges, format, coordinates, units, etc.\n",
      "    + Feature extraction.\n",
      "\n",
      "+ Aggregation (How do I collect and summarize my data?)\n",
      "\n",
      "    + Basic Statistics: mean, std, box plots, scatter plots, counts, etc.\n",
      "    + Distribution fitting.\n",
      "    + Feature aggregation.\n",
      "\n",
      "+ Enrichment (How do I add more information to my data?)\n",
      "\n",
      "    + Feature engineering.\n",
      "    + Search for additional data sources.\n",
      "\n",
      "### Discover\n",
      "What are the key relationships in my data?\n",
      "\n",
      "+ Clustering (How do I segment the data to find natural groupings?)\n",
      "\n",
      "    + Hierarchical\n",
      "    + K-means\n",
      "    + Topic\n",
      "\n",
      "+ Regression (How do I determine important variables?)\n",
      "\n",
      "    + GLM\n",
      "    + Trees\n",
      "    + Shrinkage\n",
      "\n",
      "### Predict\n",
      "What are the likely future outcomes?\n",
      "\n",
      "+ Classification (How do I predict group membership?)\n",
      "\n",
      "    + Neureal nets.\n",
      "    + Random Forests.\n",
      "    + K-nearest neighbors.\n",
      "    + Naive Bayes\n",
      "    + SVM\n",
      "\n",
      "+ Regression (How do I predict a future value?)\n",
      "\n",
      "    + Tree-bsed methods\n",
      "    + GLM\n",
      "\n",
      "+ Recommendation (How do I predict relevant conditions?)\n",
      "\n",
      "    + Collaborative filtering\n",
      "    + Content-based recommendation\n",
      "    + Graphs and networks."
     ]
    },
    {
     "cell_type": "markdown",
     "metadata": {},
     "source": [
      "# Curse Objectives\n",
      "\n",
      "The main objective of data science is turning data into actions. To this end, it is necessary:\n",
      "\n",
      "+ To teach how to obtain the data you need.\n",
      "+ To teach how to manipulate data to fit your analytical needs: processing (data cleaning, preparation and separation), aggregation (summarize the data) and enrichment (to add information to the data).\n",
      "+ To teach how to analyze data: regression, clustering, classification, ...\n",
      "\n",
      "The last part, how to act. This is too problem dependent..."
     ]
    },
    {
     "cell_type": "markdown",
     "metadata": {},
     "source": [
      "## What is not in this course?\n",
      "\n",
      "+ Interactive learning\n",
      "+ A/B testing\n",
      "+ Etc."
     ]
    },
    {
     "cell_type": "code",
     "collapsed": false,
     "input": [
      "from IPython.core.display import HTML\n",
      "def css_styling():\n",
      "    styles = open(\"styles/custom.css\", \"r\").read()\n",
      "    return HTML(styles)\n",
      "css_styling()"
     ],
     "language": "python",
     "metadata": {},
     "outputs": [
      {
       "html": [
        "<style>\n",
        "    @font-face {\n",
        "        font-family: \"Computer Modern\";\n",
        "        src: url('http://9dbb143991406a7c655e-aa5fcb0a5a4ec34cff238a2d56ca4144.r56.cf5.rackcdn.com/cmunss.otf');\n",
        "    }\n",
        "    @font-face {\n",
        "        font-family: \"Computer Modern\";\n",
        "        font-weight: bold;\n",
        "        src: url('http://9dbb143991406a7c655e-aa5fcb0a5a4ec34cff238a2d56ca4144.r56.cf5.rackcdn.com/cmunsx.otf');\n",
        "    }\n",
        "    @font-face {\n",
        "        font-family: \"Computer Modern\";\n",
        "        font-style: oblique;\n",
        "        src: url('http://9dbb143991406a7c655e-aa5fcb0a5a4ec34cff238a2d56ca4144.r56.cf5.rackcdn.com/cmunsi.otf');\n",
        "    }\n",
        "    @font-face {\n",
        "        font-family: \"Computer Modern\";\n",
        "        font-weight: bold;\n",
        "        font-style: oblique;\n",
        "        src: url('http://9dbb143991406a7c655e-aa5fcb0a5a4ec34cff238a2d56ca4144.r56.cf5.rackcdn.com/cmunso.otf');\n",
        "    }\n",
        "    div.cell{\n",
        "        width:800px;\n",
        "        margin-left:16% !important;\n",
        "        margin-right:auto;\n",
        "    }\n",
        "    h1 {\n",
        "        font-family: Helvetica, serif;\n",
        "    }\n",
        "    h4{\n",
        "        margin-top:12px;\n",
        "        margin-bottom: 3px;\n",
        "       }\n",
        "    div.text_cell_render{\n",
        "        font-family: Computer Modern, \"Helvetica Neue\", Arial, Helvetica, Geneva, sans-serif;\n",
        "        line-height: 145%;\n",
        "        font-size: 130%;\n",
        "        width:800px;\n",
        "        margin-left:auto;\n",
        "        margin-right:auto;\n",
        "    }\n",
        "    .CodeMirror{\n",
        "            font-family: \"Source Code Pro\", source-code-pro,Consolas, monospace;\n",
        "    }\n",
        "    .prompt{\n",
        "        display: None;\n",
        "    }\n",
        "    .text_cell_render h5 {\n",
        "        font-weight: 300;\n",
        "        font-size: 22pt;\n",
        "        color: #4057A1;\n",
        "        font-style: italic;\n",
        "        margin-bottom: .5em;\n",
        "        margin-top: 0.5em;\n",
        "        display: block;\n",
        "    }\n",
        "    \n",
        "    .warning{\n",
        "        color: rgb( 240, 20, 20 )\n",
        "        }  \n",
        "</style>\n",
        "<script>\n",
        "    MathJax.Hub.Config({\n",
        "                        TeX: {\n",
        "                           extensions: [\"AMSmath.js\"]\n",
        "                           },\n",
        "                tex2jax: {\n",
        "                    inlineMath: [ ['$','$'], [\"\\\\(\",\"\\\\)\"] ],\n",
        "                    displayMath: [ ['$$','$$'], [\"\\\\[\",\"\\\\]\"] ]\n",
        "                },\n",
        "                displayAlign: 'center', // Change this to 'center' to center equations.\n",
        "                \"HTML-CSS\": {\n",
        "                    styles: {'.MathJax_Display': {\"margin\": 4}}\n",
        "                }\n",
        "        });\n",
        "</script>\n"
       ],
       "metadata": {},
       "output_type": "pyout",
       "prompt_number": 5,
       "text": [
        "<IPython.core.display.HTML at 0x99c56a0>"
       ]
      }
     ],
     "prompt_number": 5
    },
    {
     "cell_type": "code",
     "collapsed": false,
     "input": [],
     "language": "python",
     "metadata": {},
     "outputs": []
    }
   ],
   "metadata": {}
  }
 ]
}