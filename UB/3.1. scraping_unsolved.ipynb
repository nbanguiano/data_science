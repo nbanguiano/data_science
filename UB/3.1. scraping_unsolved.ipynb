{
 "metadata": {
  "name": "",
  "signature": "sha256:e9af8c4c8d6acf42b0df8508c50f9a6cfbeaacb3df12749f0914267189007e70"
 },
 "nbformat": 3,
 "nbformat_minor": 0,
 "worksheets": [
  {
   "cells": [
    {
     "cell_type": "markdown",
     "metadata": {},
     "source": [
      "<small><i>August 2014 - This notebook was created by [Oriol Pujol Vila](http://www.maia.ub.es/~oriol). Source and license info are in the folder.</i></small>"
     ]
    },
    {
     "cell_type": "code",
     "collapsed": false,
     "input": [
      "from IPython.core.display import HTML\n",
      "def css_styling():\n",
      "    styles = open(\"styles/custom.css\", \"r\").read()\n",
      "    return HTML(styles)\n",
      "css_styling()"
     ],
     "language": "python",
     "metadata": {},
     "outputs": [
      {
       "html": [
        "<style>\r\n",
        "    @font-face {\r\n",
        "        font-family: \"Computer Modern\";\r\n",
        "        src: url('http://9dbb143991406a7c655e-aa5fcb0a5a4ec34cff238a2d56ca4144.r56.cf5.rackcdn.com/cmunss.otf');\r\n",
        "    }\r\n",
        "    @font-face {\r\n",
        "        font-family: \"Computer Modern\";\r\n",
        "        font-weight: bold;\r\n",
        "        src: url('http://9dbb143991406a7c655e-aa5fcb0a5a4ec34cff238a2d56ca4144.r56.cf5.rackcdn.com/cmunsx.otf');\r\n",
        "    }\r\n",
        "    @font-face {\r\n",
        "        font-family: \"Computer Modern\";\r\n",
        "        font-style: oblique;\r\n",
        "        src: url('http://9dbb143991406a7c655e-aa5fcb0a5a4ec34cff238a2d56ca4144.r56.cf5.rackcdn.com/cmunsi.otf');\r\n",
        "    }\r\n",
        "    @font-face {\r\n",
        "        font-family: \"Computer Modern\";\r\n",
        "        font-weight: bold;\r\n",
        "        font-style: oblique;\r\n",
        "        src: url('http://9dbb143991406a7c655e-aa5fcb0a5a4ec34cff238a2d56ca4144.r56.cf5.rackcdn.com/cmunso.otf');\r\n",
        "    }\r\n",
        "    div.cell{\r\n",
        "        width:800px;\r\n",
        "        margin-left:16% !important;\r\n",
        "        margin-right:auto;\r\n",
        "    }\r\n",
        "    h1 {\r\n",
        "        font-family: Helvetica, serif;\r\n",
        "    }\r\n",
        "    h4{\r\n",
        "        margin-top:12px;\r\n",
        "        margin-bottom: 3px;\r\n",
        "       }\r\n",
        "    div.text_cell_render{\r\n",
        "        font-family: Computer Modern, \"Helvetica Neue\", Arial, Helvetica, Geneva, sans-serif;\r\n",
        "        line-height: 145%;\r\n",
        "        font-size: 130%;\r\n",
        "        width:800px;\r\n",
        "        margin-left:auto;\r\n",
        "        margin-right:auto;\r\n",
        "    }\r\n",
        "    .CodeMirror{\r\n",
        "            font-family: \"Source Code Pro\", source-code-pro,Consolas, monospace;\r\n",
        "    }\r\n",
        "    .prompt{\r\n",
        "        display: None;\r\n",
        "    }\r\n",
        "    .text_cell_render h5 {\r\n",
        "        font-weight: 300;\r\n",
        "        font-size: 22pt;\r\n",
        "        color: #4057A1;\r\n",
        "        font-style: italic;\r\n",
        "        margin-bottom: .5em;\r\n",
        "        margin-top: 0.5em;\r\n",
        "        display: block;\r\n",
        "    }\r\n",
        "    \r\n",
        "    .warning{\r\n",
        "        color: rgb( 240, 20, 20 )\r\n",
        "        }  \r\n",
        "</style>\r\n",
        "<script>\r\n",
        "    MathJax.Hub.Config({\r\n",
        "                        TeX: {\r\n",
        "                           extensions: [\"AMSmath.js\"]\r\n",
        "                           },\r\n",
        "                tex2jax: {\r\n",
        "                    inlineMath: [ ['$','$'], [\"\\\\(\",\"\\\\)\"] ],\r\n",
        "                    displayMath: [ ['$$','$$'], [\"\\\\[\",\"\\\\]\"] ]\r\n",
        "                },\r\n",
        "                displayAlign: 'center', // Change this to 'center' to center equations.\r\n",
        "                \"HTML-CSS\": {\r\n",
        "                    styles: {'.MathJax_Display': {\"margin\": 4}}\r\n",
        "                }\r\n",
        "        });\r\n",
        "</script>\r\n"
       ],
       "metadata": {},
       "output_type": "pyout",
       "prompt_number": 2,
       "text": [
        "<IPython.core.display.HTML at 0x1058f3050>"
       ]
      }
     ],
     "prompt_number": 2
    },
    {
     "cell_type": "markdown",
     "metadata": {},
     "source": [
      "#Data hunting and gathering\n",
      "\n",
      "<img style = \"border-radius:20px;\" src = \"http://unadocenade.com/wp-content/uploads/2012/09/cavalls-de-valltorta.jpg\">\n",
      "\n",
      "SOFTWARE REQUIREMENTS\n",
      "    \n",
      "    + mongoDB #download mongoDB (http://www.mongodb.org)\n",
      "    + selenium #pip install selenium\n",
      "    + pymongo #pip install pymongo\n",
      "    + lxml #pip install  lxml\n",
      "    + tweepy #pip install tweepy\n",
      "    \n",
      "NOT REQUIRED BUT USED IN ONE EXAMPLE: \n",
      "\n",
      "    + MPV via Homebrew (OSX) or mplayer in Linux.\n",
      "    \n",
      "OTHER UTILITIES\n",
      "\n",
      "    + If you are using Firefox browser you may need Firebug.\n",
      "\n",
      "CONTENTS\n",
      "\n",
      "+ Introduction and warm-up project: A web crawler\n",
      " \n",
      "     + Introduction to MongoDB and PyMongo\n",
      "     + A whirlwind tour into regular expressions\n",
      "    \n",
      "+ Using the API\n",
      "\n",
      "    + Retrieving Twitter data\n",
      "\n",
      "+ Creating our own web API: Scraping\n",
      "\n",
      "    + Understanding HTML and CSS\n",
      "    + CSS selectors\n",
      "    + XPath selectors\n",
      "    + Scraping dynamic content with Selenium    \n",
      "   "
     ]
    },
    {
     "cell_type": "markdown",
     "metadata": {},
     "source": [
      "#1. Introduction"
     ]
    },
    {
     "cell_type": "markdown",
     "metadata": {},
     "source": [
      "Data is the basis of this course. Although we usually find it in well structured formats such as a spreadsheet resulting from our last experiment, or the collection of company records in a classical relational database, with the advent of internet new information sources have to be taken into account. However, these new sources are home of unstructured data. In this lecture several methods for retrieving data and storing it are presented."
     ]
    },
    {
     "cell_type": "markdown",
     "metadata": {},
     "source": [
      "Let us first introduce the big picture guiding this lecture. Whenever we want to retrieve data from a web site we should ask first if the web site is providing a simple way for that purpose. Many large sites such as google, facebook, twitter, etc, provide a **Application Programming Interface (API)** that can make data hunting easier. However, most of web sites do not have this interface. Even more, an API may not provide the desired information. In those cases we have to use **scraping** techniques. This means dealing with the raw information as it is provided to the web browser and code our data finding methods.  "
     ]
    },
    {
     "cell_type": "markdown",
     "metadata": {},
     "source": [
      "<img style=\"border-radius:20px;\" src=\"./files/big_picture.jpg\">"
     ]
    },
    {
     "cell_type": "markdown",
     "metadata": {},
     "source": [
      "Let us start connecting to the net and checking out how to retrieve a basic page. We will start using `urllib2` module."
     ]
    },
    {
     "cell_type": "code",
     "collapsed": false,
     "input": [
      "import urllib2\n",
      "source = urllib2.urlopen('http://google.com')"
     ],
     "language": "python",
     "metadata": {},
     "outputs": []
    },
    {
     "cell_type": "code",
     "collapsed": false,
     "input": [
      "#Let us check what is in\n",
      "source"
     ],
     "language": "python",
     "metadata": {},
     "outputs": []
    },
    {
     "cell_type": "code",
     "collapsed": false,
     "input": [
      "#Hurray we got a socket. An all sockets behave like files, so let us go read() the \"file\"\n",
      "something = source.read()"
     ],
     "language": "python",
     "metadata": {},
     "outputs": []
    },
    {
     "cell_type": "code",
     "collapsed": false,
     "input": [
      "#Check on something\n",
      "print something"
     ],
     "language": "python",
     "metadata": {},
     "outputs": []
    },
    {
     "cell_type": "code",
     "collapsed": false,
     "input": [
      "#What!!!!\n",
      "#Let us read more\n",
      "print source.read()"
     ],
     "language": "python",
     "metadata": {},
     "outputs": []
    },
    {
     "cell_type": "code",
     "collapsed": false,
     "input": [
      "#Ooooppss nothing else."
     ],
     "language": "python",
     "metadata": {},
     "outputs": []
    },
    {
     "cell_type": "markdown",
     "metadata": {},
     "source": [
      "Ok, hands on!!! Some first warm up exercises:\n",
      "\n",
      "<div class = \"alert alert-success\" style = \"border-radius:10px;border-width:3px;border-color:darkgreen;font-family:Verdana,sans-serif;font-size:16px;\">**WARM UP EXERCISES**\n",
      "<ol>\n",
      "<li>Is there the word python in pyladies.org?</li>\n",
      "<li>Does http://google.com contain an image? (hint: < img > TAG )</li>\n",
      "<li>What are the first ten characters of python.org?</li>\n",
      "</ol>\n",
      "</div>"
     ]
    },
    {
     "cell_type": "code",
     "collapsed": false,
     "input": [
      "#Write your code here\n"
     ],
     "language": "python",
     "metadata": {},
     "outputs": []
    },
    {
     "cell_type": "markdown",
     "metadata": {},
     "source": [
      "We are retrieving data from an URL! So we are done! "
     ]
    },
    {
     "cell_type": "markdown",
     "metadata": {},
     "source": [
      "#Crawling and Scraping\n",
      "\n",
      "Scraping and **crawling** are two very related techniques. While scraping is used for retrieving data from a web page, crawling is used to retrieve the web pages. Scraping and crawling are found at the core of search engines. Scraping is used to get keywords, analyze, and extract useful information from the web pages so that given a user query it may return related results. On the other hand, crawling allows to retrieve the actual pages and uses scraping to get the links in each web site. This allows to create a graph of the connection among web sites and this information can be used to order the results of a query."
     ]
    },
    {
     "cell_type": "markdown",
     "metadata": {},
     "source": [
      "In general, we might want not only to get data from a single page but probably retrieve from several related pages. In those cases crawling is the way to go. "
     ]
    },
    {
     "cell_type": "markdown",
     "metadata": {},
     "source": [
      "<div class = \"alert alert-success\" style = \"border-radius:10px;border-width:3px;border-color:darkgreen;font-family:Verdana,sans-serif;font-size:16px;\">**WARM-UP PROJECT:** Let us build a very simple spider. The basic functionality of an spider is to crawl and store all the data in web pages. In this simple project we will take care of single site. \n",
      "\n",
      "<ol>\n",
      "<li>A crawler must recognize the links to crawl. Take a minute and think how to retrieve the links of a web site.</li>\n",
      "<li>Let us start the project by creating a Spider class. The constructor will have the following parameters: starting_url, crawl_domain, and max_iter. crawl_domain will be the domain that validates if an absolute link will be considered or not. max_iter is the maximum amount of web items to crawl.</li>\n",
      "<li>The main method can be Spider.run(). Enumerate the big functionalities/building blocks of the crawler.</li>\n",
      "</ol>\n",
      "</div>\n",
      "    \n",
      "    "
     ]
    },
    {
     "cell_type": "code",
     "collapsed": false,
     "input": [
      "import urllib2\n",
      "import time\n",
      "\n",
      "def getLinks(html, max_links=10):\n",
      "    url = []\n",
      "    cursor = 0\n",
      "    nlinks=0\n",
      "    while (cursor>=0 and nlinks<max_links):\n",
      "        start_link = html.find(\"a href\",cursor)\n",
      "        if start_link==-1:\n",
      "            return url\n",
      "        start_quote = html.find('\"', start_link)\n",
      "        end_quote = html.find('\"', start_quote + 1)\n",
      "        url.append(html[start_quote + 1: end_quote])\n",
      "        cursor = end_quote+1\n",
      "        nlinks = nlinks +1\n",
      "    return url\n",
      "\n",
      "class Spider:\n",
      "    def __init__(self,starting_url,crawl_domain,max_iter):\n",
      "        self.crawl_domain = crawl_domain\n",
      "        self.max_iter = max_iter\n",
      "        self.links_to_crawl=[]\n",
      "        self.links_to_crawl.append(starting_url)\n",
      "        self.links_visited=[]\n",
      "        self.collection=[]\n",
      "        \n",
      "    def retrieveHtml(self):\n",
      "        try:\n",
      "            socket = urllib2.urlopen(self.url);\n",
      "            self.html = socket.read()\n",
      "            return 0\n",
      "        except urllib2.HTTPError:\n",
      "            # Most probably an url not found 404, possibly due to malformating of the links in retrieveAndValidateLinks\n",
      "            return -1\n",
      "             \n",
      "    def run(self):\n",
      "        while (len(self.links_to_crawl)>0 and len(self.collection)<self.max_iter):\n",
      "            self.url = self.links_to_crawl.pop(0)\n",
      "            print self.links_to_crawl\n",
      "            self.links_visited.append(self.url)\n",
      "            if self.retrieveHtml()>=0:\n",
      "                self.storeHtml()\n",
      "                self.retrieveAndValidateLinks()\n",
      "    \n",
      "    def retrieveAndValidateLinks(self):\n",
      "        tmpList=[]\n",
      "        items = getLinks(self.html)\n",
      "        # Check the validity of a link\n",
      "        for item in items:\n",
      "            item = item.strip('\"')\n",
      "            if self.crawl_domain in item:\n",
      "                tmpList.append(item)\n",
      "            if not(\":\") in item: #Take care of http:// https:// and mailto:\n",
      "                tmpList.append(self.crawl_domain+item)\n",
      "        # Check that the link has not been previously retrieved or is currently on the links_to_crawl list\n",
      "        for item in tmpList:\n",
      "            if item not in self.links_visited:\n",
      "                if item not in self.links_to_crawl:\n",
      "                    self.links_to_crawl.append(item)\n",
      "                    print 'Adding: '+item\n",
      "                \n",
      "    def storeHtml(self):\n",
      "        doc = {}\n",
      "        doc['url'] = self.url\n",
      "        doc['date'] = time.strftime(\"%d/%m/%Y\")\n",
      "        doc['html'] = self.html\n",
      "        self.collection.append(doc)\n",
      "       \n"
     ],
     "language": "python",
     "metadata": {},
     "outputs": []
    },
    {
     "cell_type": "markdown",
     "metadata": {},
     "source": [
      "Let us validate the crawler with the following code: "
     ]
    },
    {
     "cell_type": "code",
     "collapsed": false,
     "input": [
      "spider = Spider('http://www.ub.edu/datascience','http://www.ub.edu/datascience/',20)\n",
      "spider.run()"
     ],
     "language": "python",
     "metadata": {},
     "outputs": []
    },
    {
     "cell_type": "markdown",
     "metadata": {},
     "source": [
      "Let us go for a more complex web site. Run the code on http://hunch.net (a machine learning blog by John Langford)."
     ]
    },
    {
     "cell_type": "code",
     "collapsed": false,
     "input": [
      "spider = Spider('http://hunch.net','http://hunch.net/',10)\n",
      "spider.run()"
     ],
     "language": "python",
     "metadata": {},
     "outputs": []
    },
    {
     "cell_type": "code",
     "collapsed": false,
     "input": [
      "# And check the urls retrieved\n",
      "[spider.collection[i]['url'] for i in xrange(len(spider.collection))]"
     ],
     "language": "python",
     "metadata": {},
     "outputs": []
    },
    {
     "cell_type": "markdown",
     "metadata": {},
     "source": [
      "It seems that the simple crawler more or less works as expected. There are still many functionalities to work on , such as valid domains, valid urls, etc. One important issue to consider is **persistence**, or how to store the data retrieved for further analysis. In this basic scraping tutorial we us MongoDB as a Non-SQL database for persistence purposes. "
     ]
    },
    {
     "cell_type": "markdown",
     "metadata": {},
     "source": [
      "##1.1 Introduction to MongoDB\n",
      "<small>This introduction is partially inspired on the notes of Alberto Negron's [blog](http://altons.github.io/python/2013/01/21/gentle-introduction-to-mongodb-using-pymongo/)</small>"
     ]
    },
    {
     "cell_type": "markdown",
     "metadata": {},
     "source": [
      "MongoDB is a document-oriented database, part of the NoSQL family of database systems. MongoDB stores structured data as JSON-like structures. From a pythonic point of view it is like storing dictionary data structures. One of its main feature is its schema-less feature, i.e. it supports dynamic schemas. A schema in a relational database informally referst to the structure of the data it stores, i.e. what kind of data, which tables, which relations, etc."
     ]
    },
    {
     "cell_type": "markdown",
     "metadata": {},
     "source": [
      "Let us change the Spider class to support MongoDB persistence."
     ]
    },
    {
     "cell_type": "markdown",
     "metadata": {},
     "source": [
      "First of all let us configure the MongoDB system.\n",
      "\n",
      "+ Download mongoDB.\n",
      "+ Rename the folder to mongodb.\n",
      "+ Add a directory data and log in your working project directory.\n",
      "+ Check that the server works \n",
      "        mongod --dbpath . --nojournal &\n",
      "+ Check the connection to the server: in another terminal write mongo, check that it does not raise any error and exit the console.\n",
      "+ Close the mongo daemon (mongod). You may have to kill mongod with kill -9 and remove the lock on the daemon, mongod.lock.\n",
      "+ Let us configure a little the data base by configuring the path of the data storage and log files. Create a [mongo.conf](./mongodb/data/mongo.conf) file such as the one provided  and start the server using the following command:\n",
      "\n",
      "        mongod --config=./mongodb/data/mongo.conf --nojournal &\n",
      "+ Bonus: we can check the database status using  http://127.0.0.1:28017/"
     ]
    },
    {
     "cell_type": "markdown",
     "metadata": {},
     "source": [
      "### Connect to a MongoDB database"
     ]
    },
    {
     "cell_type": "code",
     "collapsed": false,
     "input": [
      "import pymongo\n",
      "\n",
      "# Connection to Mongo DB\n",
      "try:\n",
      "    conn=pymongo.MongoClient()\n",
      "    print \"Connected successfully!!!\"\n",
      "except pymongo.errors.ConnectionFailure, e:\n",
      "   print \"Could not connect to MongoDB: %s\" % e \n",
      "conn\n"
     ],
     "language": "python",
     "metadata": {},
     "outputs": []
    },
    {
     "cell_type": "markdown",
     "metadata": {},
     "source": [
      "We can **create** a database using attribute access <span style = \"font-family:Courier;\"> db = conn.name_db</span> or dictionary acces <span style = \"font-family:Courier;\"> db = conn[name_db]</span>."
     ]
    },
    {
     "cell_type": "code",
     "collapsed": false,
     "input": [
      "#Create a database using db = conn.name_db or dictionary access db = conn['name_db']\n",
      "db = conn['prova']\n",
      "print db\n",
      "conn.database_names()\n",
      "#Empty databases do not show"
     ],
     "language": "python",
     "metadata": {},
     "outputs": []
    },
    {
     "cell_type": "markdown",
     "metadata": {},
     "source": [
      "A database stores a **collection**. A collection is a group of documents stored in MongoDB, and can be thought of as the equivalent of a table in a relational database. Getting a collection in PyMongo works the same as getting a database:"
     ]
    },
    {
     "cell_type": "code",
     "collapsed": false,
     "input": [
      "collection = db.hola\n",
      "db.collection_names()\n",
      "#Empty collections do not show"
     ],
     "language": "python",
     "metadata": {},
     "outputs": []
    },
    {
     "cell_type": "code",
     "collapsed": false,
     "input": [
      "#The database has a collection, thus ...\n",
      "conn.database_names()"
     ],
     "language": "python",
     "metadata": {},
     "outputs": []
    },
    {
     "cell_type": "markdown",
     "metadata": {},
     "source": [
      "MongoDB stores structured data as JSON-like documents, using dynamic schemas (called BSON), rather than predefined schemas. An element of data is called a document, and documents are stored in collections. One collection may have any number of documents.\n",
      "\n",
      "Compared to relational databases, we could say collections are like tables, and documents are like records. But there is one big difference: every record in a table has the same fields (with, usually, differing values) in the same order, while each document in a collection can have completely different fields from the other documents.\n",
      "\n",
      "All you really need to know when you're using Python, however, is that documents are Python dictionaries that can have strings as keys and can contain various primitive types (int, float,unicode, datetime) as well as other documents (Python dicts) and arrays (Python lists).\n",
      "\n",
      "To insert some data into MongoDB, all we need to do is create a dict and call .insert() on the collection object. Let us exemplify this process by downloading an url and storing it in the collection."
     ]
    },
    {
     "cell_type": "code",
     "collapsed": false,
     "input": [
      "import urllib2\n",
      "import time\n",
      "# dd/mm/yyyy format\n",
      "print (time.strftime(\"%d/%m/%Y\"))\n",
      "url = 'http://www.ub.edu/datascience'\n",
      "html = urllib2.urlopen(url).read()\n",
      "\n",
      "#Create a dictionary/document to store\n",
      "doc = {}\n",
      "doc['url'] = url\n",
      "doc['date'] = time.strftime(\"%d/%m/%Y\")\n",
      "doc['html'] = html"
     ],
     "language": "python",
     "metadata": {},
     "outputs": []
    },
    {
     "cell_type": "code",
     "collapsed": false,
     "input": [
      "doc"
     ],
     "language": "python",
     "metadata": {},
     "outputs": []
    },
    {
     "cell_type": "code",
     "collapsed": false,
     "input": [
      "#insert the document in the collection\n",
      "collection.insert(doc)"
     ],
     "language": "python",
     "metadata": {},
     "outputs": []
    },
    {
     "cell_type": "code",
     "collapsed": false,
     "input": [
      "#Check that we have a non empty collection.\n",
      "db.collection_names()"
     ],
     "language": "python",
     "metadata": {},
     "outputs": []
    },
    {
     "cell_type": "markdown",
     "metadata": {},
     "source": [
      "To recap, we have databases containing collections. A collection is made up of documents. Each document is made up of fields."
     ]
    },
    {
     "cell_type": "markdown",
     "metadata": {},
     "source": [
      "###Retrieving data"
     ]
    },
    {
     "cell_type": "code",
     "collapsed": false,
     "input": [
      "collection.find_one() #Returns one random document in the collection"
     ],
     "language": "python",
     "metadata": {},
     "outputs": []
    },
    {
     "cell_type": "markdown",
     "metadata": {},
     "source": [
      "To get more than a single document as the result of a query we use the find() method. find() returns a Cursor instance, which allows us to iterate over all matching documents.\n"
     ]
    },
    {
     "cell_type": "code",
     "collapsed": false,
     "input": [
      "collection.find()"
     ],
     "language": "python",
     "metadata": {},
     "outputs": []
    },
    {
     "cell_type": "code",
     "collapsed": false,
     "input": [
      "for d in collection.find():\n",
      "    print d"
     ],
     "language": "python",
     "metadata": {},
     "outputs": []
    },
    {
     "cell_type": "markdown",
     "metadata": {},
     "source": [
      "If we just want to know how many documents match a query we can perform a count() operation instead of a full query. We can get a count of all of the documents in a collection:"
     ]
    },
    {
     "cell_type": "code",
     "collapsed": false,
     "input": [
      "collection.count()"
     ],
     "language": "python",
     "metadata": {},
     "outputs": []
    },
    {
     "cell_type": "markdown",
     "metadata": {},
     "source": [
      "### Basic queries"
     ]
    },
    {
     "cell_type": "markdown",
     "metadata": {},
     "source": [
      "Querying in pymongo uses .find() "
     ]
    },
    {
     "cell_type": "code",
     "collapsed": false,
     "input": [
      "collection.find({\"date\":\"30/09/2014\"}).count()"
     ],
     "language": "python",
     "metadata": {},
     "outputs": []
    },
    {
     "cell_type": "markdown",
     "metadata": {},
     "source": [
      "Observe that it finds exact matches. Operations include *gt* (greater than), *gte* (greater than equal), *lt* (lesser than), *lte* (lesser than equal), *ne* (not equal), *nin* (not in a list), *regex* (regular expression), *exists*, *not*, *or*, *and*, etc. Let us see some examples:"
     ]
    },
    {
     "cell_type": "code",
     "collapsed": false,
     "input": [
      "collection.find({\"date\":{\"$gte\":\"01/01/2014\"}}).count()"
     ],
     "language": "python",
     "metadata": {},
     "outputs": []
    },
    {
     "cell_type": "code",
     "collapsed": false,
     "input": [
      "substring = \"Big Data\"\n",
      "reg = \"\\b\"+substring+\"\\b\"\n",
      "collection.find({\"html\":{\"$regex\":reg}}).count()"
     ],
     "language": "python",
     "metadata": {},
     "outputs": []
    },
    {
     "cell_type": "code",
     "collapsed": false,
     "input": [
      "for item in collection.find():\n",
      "    print item['html']"
     ],
     "language": "python",
     "metadata": {},
     "outputs": []
    },
    {
     "cell_type": "markdown",
     "metadata": {},
     "source": [
      "###A short practical introduction to RegEx"
     ]
    },
    {
     "cell_type": "markdown",
     "metadata": {},
     "source": [
      "We have come across RegEx a couple of times now. So we better give a short pragmatical introduction to it."
     ]
    },
    {
     "cell_type": "markdown",
     "metadata": {},
     "source": [
      "<div class = \"alert alert-info\" style = \"border-radius:10px;border-width:3px;border-color:darkblue;font-family:Verdana,sans-serif;font-size:16px;\">\n",
      "<ul>\n",
      "    <li> Regular expressions are pattern matching rules. In essence everything is a character and the regular expression are a set of rules of the character patterns to seek.</li>\n",
      "    <li> If we provide a raw set of characters it will look for exact matches, e.g. 'aBc1' </li>\n",
      "    <li> There are wildcards: . (matches any character), *\\d* (matches any digit), *\\w* (matches any alphanumeric character), *\\s* (any whitespace such as space, new line, carrier return, tab, etc.)</li>\n",
      "    <li>An interesting metacharacter is *\\b* that stands for boundary and matches the boundary between a word character and a non-word character.</li>\n",
      "</ul>\n",
      "</div>"
     ]
    },
    {
     "cell_type": "code",
     "collapsed": false,
     "input": [
      "import re\n",
      "#Match the three strings\n",
      "ex1 = 'abc abcde abcdefg'\n",
      "\n",
      "pattern = re.compile('abc')\n",
      "print re.findall(pattern,ex1)\n",
      "\n",
      "ex2 = 'abc123xyz define123 var g = 123'\n",
      "pattern = re.compile('123')\n",
      "for m in re.finditer(pattern, ex2):\n",
      "    print '%02d-%02d: %s' % (m.start(), m.end(), m.group(0))\n",
      "    \n"
     ],
     "language": "python",
     "metadata": {},
     "outputs": []
    },
    {
     "cell_type": "markdown",
     "metadata": {},
     "source": [
      "<div class = \"alert alert-info\" style = \"border-radius:10px;border-width:3px;border-color:darkblue;font-family:Verdana,sans-serif;font-size:16px;\">\n",
      "<ul>\n",
      "    <li> Capital letters denote the negation of the concept, i.e. *\\D* is everything except digits, *\\W* everything expect alphanumeric chars (e.g. puntuation marks, etc), *\\S* any non-spacing character.</li>\n",
      "    <li>Repetitions of a character can be handled explicitly using curly brackets, e.g. *a{3}* means three repetitions of character \"a\"</li>\n",
      "    <li>Undefinite number of values are given by star and plus signs (\\* and +). Star will match 0 to infty number of times and Plus will do it one or more times, e.g. .* will stand for any amount of any character</li>\n",
      "</ul>\n",
      "</div>"
     ]
    },
    {
     "cell_type": "code",
     "collapsed": false,
     "input": [
      "#Find all adverbs (words ended by ly)\n",
      "import re\n",
      "text = \"He was carefully disguised but captured quickly by police.\"\n",
      "for m in re.finditer(r\"\\w+ly\", text):\n",
      "    print '%02d-%02d: %s' % (m.start(), m.end(), m.group(0))"
     ],
     "language": "python",
     "metadata": {},
     "outputs": []
    },
    {
     "cell_type": "markdown",
     "metadata": {},
     "source": [
      "<div class = \"alert alert-info\" style = \"border-radius:10px;border-width:3px;border-color:darkblue;font-family:Verdana,sans-serif;font-size:16px;\">\n",
      "<ul>\n",
      "     <li>Optional values can be given by the question mark sign. The preceding character will be optional, e.g. cats? stands for cat and cats.</li>\n",
      "     <li>Another way of checking for specific options is to use square brackets. For example *[abc]* will match only a, b, or c.</li>\n",
      "     <li>We can negate a set in square brackets *[^abc]*</li>\n",
      "     <li>We can select ranges, such as *[a-z]*, *[A-Z]* or *[0-9]*</li>\n",
      "</ul>\n",
      "</div>"
     ]
    },
    {
     "cell_type": "code",
     "collapsed": false,
     "input": [
      "#Find the names of the first two items without extension\n",
      "#All of them start with file, thus it is a boundary and \"file pattern\", then any amount of arbirtary characters wil do and finally it will end with .pdf\n",
      "import re\n",
      "text = 'file_a_record_file.pdf file_yesterday.pdf testfile_fake.pdf.tmp' \n",
      "for m in re.finditer(r\"\\bfile\\w*\\.pdf\", text):\n",
      "    print '%02d-%02d: %s' % (m.start(), m.end(), m.group(0))"
     ],
     "language": "python",
     "metadata": {},
     "outputs": []
    },
    {
     "cell_type": "code",
     "collapsed": false,
     "input": [
      "#Trim starting and ending spaces\n",
      "\n",
      "text = \"               Masters of Ba Gua Zhang    \"\n",
      "\n",
      "for m in re.finditer(r\"\\s*(.+)\\s*$\", text):\n",
      "    print '%02d-%02d: %s' % (m.start(1), m.end(1), m.group(1)) #Note that we use group(1), group(0) is the complete match without capture"
     ],
     "language": "python",
     "metadata": {},
     "outputs": []
    },
    {
     "cell_type": "markdown",
     "metadata": {},
     "source": [
      "<div class = \"alert alert-info\" style = \"border-radius:10px;border-width:3px;border-color:darkblue;font-family:Verdana,sans-serif;font-size:16px;\">\n",
      "<ul>\n",
      "     <li>Another interesting feature is capturing. In parenthesis we can define the group or set of data we want to return. In python we can access these data by indexing the match. At the first position we will get the first capture, in the second position the nested capture or group, etc.</li>\n",
      "</ul>\n",
      "</div>"
     ]
    },
    {
     "cell_type": "markdown",
     "metadata": {},
     "source": [
      "Check what happens if we change index 1 for index 0 in the former example."
     ]
    },
    {
     "cell_type": "code",
     "collapsed": false,
     "input": [
      "#Match the numbers and skip the last item\n",
      "text = '3.1452 -255.34 128 1.9e10 123,34.00 720p'\n",
      "\n",
      "for m in re.finditer(r\"-?\\d+[\\.,]?\\d*[\\.e]?\\d*\\b\", text):\n",
      "    print '%02d-%02d: %s' % (m.start(), m.end(), m.group(0))"
     ],
     "language": "python",
     "metadata": {},
     "outputs": []
    },
    {
     "cell_type": "code",
     "collapsed": false,
     "input": [
      "#Find the links in a html page\n",
      "for m in re.finditer(r\"href=\\\"(\\S+)\\\"\", html):\n",
      "    print '%02d-%02d: %s' % (m.start(1), m.end(1), m.group(1))"
     ],
     "language": "python",
     "metadata": {},
     "outputs": []
    },
    {
     "cell_type": "markdown",
     "metadata": {},
     "source": [
      "Regular expressions are usually not the answer due to the fragility of html pages on the internet today -- common mistakes like missing end tags, mismatched tags, forgetting to close an attribute quote, would all derail a perfectly good regular expression."
     ]
    },
    {
     "cell_type": "markdown",
     "metadata": {},
     "source": [
      "###Update"
     ]
    },
    {
     "cell_type": "markdown",
     "metadata": {},
     "source": [
      "In this section, several methods for updating and deleting documents are reveiwed:\n",
      "\n",
      "+ Update. This method finds the documents defined by query and **replaces** it by the new document. "
     ]
    },
    {
     "cell_type": "code",
     "collapsed": false,
     "input": [
      "import urllib2\n",
      "import time\n",
      "# dd/mm/yyyy format\n",
      "print (time.strftime(\"%d/%m/%Y\"))\n",
      "url = 'http://www.ub.edu/datascience'\n",
      "html = urllib2.urlopen(url).read()\n",
      "\n",
      "#Create a dictionary/document to store\n",
      "doc = {}\n",
      "doc['url'] = url\n",
      "doc['date'] = time.strftime(\"%d/%m/%Y\")\n",
      "doc['html'] = html\n",
      "doc['foo'] = 'foo'\n",
      "\n",
      "import pymongo\n",
      "conn = pymongo.MongoClient()\n",
      "conn.database_names()\n"
     ],
     "language": "python",
     "metadata": {},
     "outputs": []
    },
    {
     "cell_type": "code",
     "collapsed": false,
     "input": [
      "db = conn.test\n",
      "collection = db.coltest\n",
      "db.collection_names()"
     ],
     "language": "python",
     "metadata": {},
     "outputs": []
    },
    {
     "cell_type": "code",
     "collapsed": false,
     "input": [
      "collection.insert(doc)"
     ],
     "language": "python",
     "metadata": {},
     "outputs": []
    },
    {
     "cell_type": "code",
     "collapsed": false,
     "input": [
      "collection.update({'url':{'$regex':'datascience'}},{'html':'mola'})\n",
      "\n",
      "for doc in collection.find():\n",
      "    print doc"
     ],
     "language": "python",
     "metadata": {},
     "outputs": []
    },
    {
     "cell_type": "markdown",
     "metadata": {},
     "source": [
      "We lost all the document and replaced it by the new instance that only has the 'html' key."
     ]
    },
    {
     "cell_type": "markdown",
     "metadata": {},
     "source": [
      "We can modify the behavior of the update command by adding a sub-command. Let us check some of them:\n",
      "\n",
      "+ Sub-command **Set**:\n",
      "\n",
      "This statement updates in the document in collection where field matches value1 by replacing the value of the field field1 with value2. This operator will add the specified field or fields if they do not exist in this document or replace the existing value of the specified field(s) if they already exist.\n",
      "\n",
      "An upsert eliminates the need to perform a separate database call to check for the existence of a record before performing either an update or an insert operation. Typically update operations update existing documents, but in MongoDB, the update() operation can accept an upsert option as an argument. Upserts are a hybrid operation that use the query argument to determine the write operation:\n",
      "\n",
      "If the query matches an existing document(s), the upsert performs an update.\n",
      "If the query matches no document in the collection, the upsert inserts a single document."
     ]
    },
    {
     "cell_type": "code",
     "collapsed": false,
     "input": [
      "collection.update({\"html\":\"mola\"},{\"$set\":{\"html\":\"new data\"}})"
     ],
     "language": "python",
     "metadata": {},
     "outputs": []
    },
    {
     "cell_type": "code",
     "collapsed": false,
     "input": [
      "for doc in collection.find():\n",
      "    print doc"
     ],
     "language": "python",
     "metadata": {},
     "outputs": []
    },
    {
     "cell_type": "code",
     "collapsed": false,
     "input": [
      "collection.update({\"html\":\"new date\"},{\"$set\":{\"html\":\"modify\"}})"
     ],
     "language": "python",
     "metadata": {},
     "outputs": []
    },
    {
     "cell_type": "code",
     "collapsed": false,
     "input": [
      "for doc in collection.find():\n",
      "    print doc"
     ],
     "language": "python",
     "metadata": {},
     "outputs": []
    },
    {
     "cell_type": "markdown",
     "metadata": {},
     "source": [
      "Nothing changes since there is no match for the query. Let us use upsert."
     ]
    },
    {
     "cell_type": "code",
     "collapsed": false,
     "input": [
      "collection.update({\"html\":\"new date\"},{\"$set\":{\"html\":\"modify\"}}, upsert=True)"
     ],
     "language": "python",
     "metadata": {},
     "outputs": []
    },
    {
     "cell_type": "code",
     "collapsed": false,
     "input": [
      "for doc in collection.find():\n",
      "    print doc"
     ],
     "language": "python",
     "metadata": {},
     "outputs": []
    },
    {
     "cell_type": "markdown",
     "metadata": {},
     "source": [
      "+ Sub-commnad **Unset**:\n",
      "\n",
      "The unset operator deletes a particular field. If documents match the initial query but do not have the field specified in the unset operation, there the statement has no effect on the document."
     ]
    },
    {
     "cell_type": "code",
     "collapsed": false,
     "input": [
      "collection.update({\"html\":\"modify\"},{\"$unset\":{\"html\":\"\"}})"
     ],
     "language": "python",
     "metadata": {},
     "outputs": []
    },
    {
     "cell_type": "code",
     "collapsed": false,
     "input": [
      "for doc in collection.find():\n",
      "    print doc"
     ],
     "language": "python",
     "metadata": {},
     "outputs": []
    },
    {
     "cell_type": "markdown",
     "metadata": {},
     "source": [
      "There are several update commands that work with lists allowing to remove the first element (pop), any amount of elements (pull) or insert an element (push).\n",
      "\n",
      "By the way, the dollar character used at the before the command identifies an element in an array field to update without explicitly specifying the position of the element in the array.  "
     ]
    },
    {
     "cell_type": "markdown",
     "metadata": {},
     "source": [
      "###Delete operations"
     ]
    },
    {
     "cell_type": "markdown",
     "metadata": {},
     "source": [
      "We can remove elements by simply:"
     ]
    },
    {
     "cell_type": "code",
     "collapsed": false,
     "input": [
      "collection.remove({\"html\":\"new data\"})"
     ],
     "language": "python",
     "metadata": {},
     "outputs": []
    },
    {
     "cell_type": "code",
     "collapsed": false,
     "input": [
      "for doc in collection.find():\n",
      "    print doc"
     ],
     "language": "python",
     "metadata": {},
     "outputs": []
    },
    {
     "cell_type": "markdown",
     "metadata": {},
     "source": [
      "And remove a collection by:"
     ]
    },
    {
     "cell_type": "code",
     "collapsed": false,
     "input": [
      "db.collection_names()"
     ],
     "language": "python",
     "metadata": {},
     "outputs": []
    },
    {
     "cell_type": "code",
     "collapsed": false,
     "input": [
      "db.drop_collection(\"coltest\")\n",
      "db.collection_names()"
     ],
     "language": "python",
     "metadata": {},
     "outputs": []
    },
    {
     "cell_type": "markdown",
     "metadata": {},
     "source": [
      "And remove a database by:"
     ]
    },
    {
     "cell_type": "code",
     "collapsed": false,
     "input": [
      "conn.database_names()"
     ],
     "language": "python",
     "metadata": {},
     "outputs": []
    },
    {
     "cell_type": "code",
     "collapsed": false,
     "input": [
      "conn.drop_database('test')\n",
      "conn.database_names()"
     ],
     "language": "python",
     "metadata": {},
     "outputs": []
    },
    {
     "cell_type": "markdown",
     "metadata": {},
     "source": [
      "And finally close the connection with the database."
     ]
    },
    {
     "cell_type": "code",
     "collapsed": false,
     "input": [
      "conn.close()"
     ],
     "language": "python",
     "metadata": {},
     "outputs": []
    },
    {
     "cell_type": "markdown",
     "metadata": {},
     "source": [
      "##1.2 Finishing the warm up project with MongoDB storage\n",
      "\n",
      "We just have to change two lines of code ... literally."
     ]
    },
    {
     "cell_type": "code",
     "collapsed": false,
     "input": [
      "import urllib2\n",
      "import time\n",
      "#Import pymongo\n",
      "import pymongo\n",
      "\n",
      "\n",
      "def getLinks(html, max_links=10):\n",
      "    url = []\n",
      "    cursor = 0\n",
      "    nlinks=0\n",
      "    while (cursor>=0 and nlinks<max_links):\n",
      "        start_link = html.find(\"a href\",cursor)\n",
      "        if start_link==-1:\n",
      "            return url\n",
      "        start_quote = html.find('\"', start_link)\n",
      "        end_quote = html.find('\"', start_quote + 1)\n",
      "        url.append(html[start_quote + 1: end_quote])\n",
      "        cursor = end_quote+1\n",
      "        nlinks = nlinks +1\n",
      "    return url\n",
      "\n",
      "class Spider:\n",
      "    def __init__(self,starting_url,crawl_domain,max_iter):\n",
      "        self.crawl_domain = crawl_domain\n",
      "        self.max_iter = max_iter\n",
      "        self.links_to_crawl=[]\n",
      "        self.links_to_crawl.append(starting_url)\n",
      "        self.links_visited=[]\n",
      "        self.collection=[]\n",
      "        # Create the connection to MongoDB\n",
      "        try:\n",
      "            self.conn=pymongo.MongoClient()\n",
      "            print \"Connection to Mongo Daemon successful!!!\"\n",
      "        except pymongo.errors.ConnectionFailure, e:\n",
      "           print \"Could not connect to MongoDB: %s\" % e \n",
      "        self.db = conn['crawlerDB']\n",
      "        self.collection = self.db[starting_url+'DB']\n",
      "\n",
      "        \n",
      "    def retrieveHtml(self):\n",
      "        try:\n",
      "            socket = urllib2.urlopen(self.url);\n",
      "            self.html = socket.read()\n",
      "            return 0\n",
      "        except urllib2.HTTPError:\n",
      "            # Most probably an url not found 404, possibly due to malformating of the links in retrieveAndValidateLinks\n",
      "            return -1\n",
      "             \n",
      "    def run(self):\n",
      "        #Change the count on the collection\n",
      "        while (len(self.links_to_crawl)>0 and self.collection.count()<self.max_iter):\n",
      "            self.url = self.links_to_crawl.pop(0)\n",
      "            print self.links_to_crawl\n",
      "            self.links_visited.append(self.url)\n",
      "            if self.retrieveHtml()>=0:\n",
      "                self.storeHtml()\n",
      "                self.retrieveAndValidateLinks()\n",
      "        self.conn.close()\n",
      "    \n",
      "    def retrieveAndValidateLinks(self):\n",
      "        tmpList=[]\n",
      "        items = getLinks(self.html,max_links=50)\n",
      "        # Check the validity of a link\n",
      "        for item in items:\n",
      "            item = item.strip('\"')\n",
      "            if '.pdf' not in item:\n",
      "                if self.crawl_domain in item:\n",
      "                    tmpList.append(item)\n",
      "                else:\n",
      "                    if not(\":\") in item: #Take care of http:// https:// and mailto:\n",
      "                        tmpList.append(self.crawl_domain+item)\n",
      "        # Check that the link has not been previously retrieved or is currently on the links_to_crawl list\n",
      "        for item in tmpList:\n",
      "            if item not in self.links_visited:\n",
      "                if item not in self.links_to_crawl:\n",
      "                    self.links_to_crawl.append(item)\n",
      "                    print 'Adding: '+item\n",
      "                \n",
      "    def storeHtml(self):\n",
      "        doc = {}\n",
      "        doc['url'] = self.url\n",
      "        doc['date'] = time.strftime(\"%d/%m/%Y\")\n",
      "        doc['html'] = self.html\n",
      "        #Insert in the collection\n",
      "        self.collection.insert(doc)"
     ],
     "language": "python",
     "metadata": {},
     "outputs": []
    },
    {
     "cell_type": "code",
     "collapsed": false,
     "input": [
      "spider = Spider('http://hunch.net','http://hunch.net/',20)\n",
      "spider.run()\n"
     ],
     "language": "python",
     "metadata": {},
     "outputs": []
    },
    {
     "cell_type": "code",
     "collapsed": false,
     "input": [
      "conn = pymongo.MongoClient()\n"
     ],
     "language": "python",
     "metadata": {},
     "outputs": []
    },
    {
     "cell_type": "code",
     "collapsed": false,
     "input": [
      "print conn.database_names()\n",
      "db = conn['crawlerDB']"
     ],
     "language": "python",
     "metadata": {},
     "outputs": []
    },
    {
     "cell_type": "code",
     "collapsed": false,
     "input": [
      "db.collection_names()\n",
      "#db.drop_collection(\"http://hunch.netDB\")"
     ],
     "language": "python",
     "metadata": {},
     "outputs": []
    },
    {
     "cell_type": "code",
     "collapsed": false,
     "input": [
      "collection = db['http://hunch.netDB']\n",
      "collection.count()"
     ],
     "language": "python",
     "metadata": {},
     "outputs": []
    },
    {
     "cell_type": "code",
     "collapsed": false,
     "input": [
      "for doc in collection.find():\n",
      "    print doc['url']\n",
      "    print doc['date']"
     ],
     "language": "python",
     "metadata": {},
     "outputs": []
    },
    {
     "cell_type": "markdown",
     "metadata": {},
     "source": [
      "<div class = \"alert alert-info\" style = \"border-radius:10px;border-width:3px;border-color:darkblue;font-family:Verdana,sans-serif;font-size:16px;\">\n",
      "\n",
      "**PROS and CONS:**\n",
      "<p>\n",
      "**MongoDB** querying is powerful but based on basic string operations. This actually tells us that storing full HTML pages is not going to be effiecient for retrieval. Actually, we will see that it is important to break the information in the pieces we really want. However, this is a good starting point before a post processing if we are not sure what we are going to do with the data or further scraping is going to take long. </p>\n",
      "</div>\n",
      "\n",
      "In the next section we will see more efficient ways of dealing with web based data."
     ]
    },
    {
     "cell_type": "markdown",
     "metadata": {},
     "source": [
      "<div class = \"alert alert-info\" style = \"border-radius:10px;border-width:3px;border-color:darkblue;font-family:Verdana,sans-serif;font-size:16px;\">\n",
      "\n",
      "**URLLIB2** is good for getting simple things. In the end you end up with a large HTML string you want to do something on it. \n",
      "So the next thing you want to do is to parse data. But you want to do it in the same way you do when you interact with the web page. You see a menu, a frame on the left side, a nice colorful block where the price for your flight is. So **you want to parse data the way you see data in the webpage so that you can target it**.\n",
      "</div>"
     ]
    },
    {
     "cell_type": "markdown",
     "metadata": {},
     "source": [
      "##2. Using the API\n",
      "\n",
      "Recall the **big picture**. If we are targeting for specific data we could check if the web site has a programatic interface for querying. If it has we can use it.\n",
      "\n"
     ]
    },
    {
     "cell_type": "markdown",
     "metadata": {},
     "source": [
      "<img style=\"border-radius:20px;\" src=\"./files/big_picture.jpg\">"
     ]
    },
    {
     "cell_type": "markdown",
     "metadata": {},
     "source": [
      "##Scrapping twitter data with the API"
     ]
    },
    {
     "cell_type": "markdown",
     "metadata": {},
     "source": [
      "A standard way for programatically communicating with a web service is using the API (Application Programing Interface) whenever it is provided. Twitter provides several APIs. The two most important ones are the RESTful API for static queries (e.g. user's friends and followers, check timelines, etc) and the Streaming API for retrieving live data. The REST API identifies Twitter applications and users using OAuth; responses are available in JSON. The Streaming API should not need authentication.\n",
      "\n",
      "Ex. \n",
      "\n",
      "https://api.twitter.com/oauth/authenticate?oauth_token=XXXXXXXXXXXXXX\n",
      "\n",
      "https://api.twitter.com/1.1/followers/ids.json?cursor=-1&screen_name=my_user_name&count=5000\n",
      "\n",
      "Building these queries is not always easy, thus we may use a wrapper around the API. This is what **tweepy** does."
     ]
    },
    {
     "cell_type": "markdown",
     "metadata": {},
     "source": [
      "Using the API with authentification (needed for the RESTful API)\n",
      "\n",
      "From wikipedia:\n",
      "\n",
      ">\"Web service APIs that adhere to the architectural constraints are called RESTful. HTTP based RESTful APIs are defined with these aspects:\n",
      "\n",
      "> <ul><li>base URI, such as http://example.com/resources/\n",
      "<li>an Internet media type for the data. This is often JSON but can be any other valid Internet media type (e.g. XML, Atom, microformats, images, etc.)</li>\n",
      "<li>standard HTTP methods (e.g., GET, PUT, POST, or DELETE)</li>\n",
      "<li>hypertext links to reference state</li>\n",
      "<li>hypertext links to reference related resources\"</li>\n",
      "</ul>\n",
      "\n",
      "If we want to use the RESTful API in Twitter we have to follow these steps:\n",
      "<ul>\n",
      "<li>From your twitter account we want to generate a token: https://apps.twitter.com</li>\n",
      "<li>Create a new App. This will create the API keys (consumer keys)</li>\n",
      "<li>Go to API Keys and generate a token. (access keys)</li>\n",
      "</ul>"
     ]
    },
    {
     "cell_type": "code",
     "collapsed": false,
     "input": [
      "import json\n",
      "import pymongo\n",
      "import tweepy\n",
      "\n",
      "consumer_key = \"\"\n",
      "consumer_secret = \"\"\n",
      "\n",
      "access_key = \"\"\n",
      "access_secret = \"\"\n",
      "\n",
      "#Authentication\n",
      "auth = tweepy.OAuthHandler(consumer_key, consumer_secret)\n",
      "auth.set_access_token(access_key, access_secret)\n",
      "api = tweepy.API(auth)\n",
      "\n",
      "#Do something\n",
      "USER_NAME = \"oriolpujol\"\n",
      "user = api.get_user(id=USER_NAME)"
     ],
     "language": "python",
     "metadata": {},
     "outputs": []
    },
    {
     "cell_type": "markdown",
     "metadata": {},
     "source": [
      "We can access some basic information about the user"
     ]
    },
    {
     "cell_type": "code",
     "collapsed": false,
     "input": [
      "user.screen_name"
     ],
     "language": "python",
     "metadata": {},
     "outputs": []
    },
    {
     "cell_type": "code",
     "collapsed": false,
     "input": [
      "user.id"
     ],
     "language": "python",
     "metadata": {},
     "outputs": []
    },
    {
     "cell_type": "code",
     "collapsed": false,
     "input": [
      "user.created_at"
     ],
     "language": "python",
     "metadata": {},
     "outputs": []
    },
    {
     "cell_type": "code",
     "collapsed": false,
     "input": [
      "user.friends_count"
     ],
     "language": "python",
     "metadata": {},
     "outputs": []
    },
    {
     "cell_type": "code",
     "collapsed": false,
     "input": [
      "user.followers_count"
     ],
     "language": "python",
     "metadata": {},
     "outputs": []
    },
    {
     "cell_type": "markdown",
     "metadata": {},
     "source": [
      ">JSON (JavaScript Object Notation), is an open standard format that uses human-readable text to transmit data objects consisting of attribute\u2013value pairs. It is used primarily to transmit data between a server and web application, as an alternative to XML. JSON is a way to encode complicated information in a platform-independent way.  It could be considered the lingua franca of information exchange on the Internet. "
     ]
    },
    {
     "cell_type": "code",
     "collapsed": false,
     "input": [
      "#We can access the full JSON\n",
      "user._json"
     ],
     "language": "python",
     "metadata": {},
     "outputs": []
    },
    {
     "cell_type": "markdown",
     "metadata": {},
     "source": [
      "We can access all the information as it was a dictionary structure."
     ]
    },
    {
     "cell_type": "code",
     "collapsed": false,
     "input": [
      "juser = user._json\n",
      "print juser['created_at']"
     ],
     "language": "python",
     "metadata": {},
     "outputs": []
    },
    {
     "cell_type": "markdown",
     "metadata": {},
     "source": [
      "We can apply our basic scrape knowledge and use urllib2 to retrieve more interesting infomation, such as the profile image."
     ]
    },
    {
     "cell_type": "code",
     "collapsed": false,
     "input": [
      "img_url = juser['profile_image_url']\n",
      "print img_url"
     ],
     "language": "python",
     "metadata": {},
     "outputs": []
    },
    {
     "cell_type": "code",
     "collapsed": false,
     "input": [
      "f = open('scraped_image','wb')\n",
      "f.write(urllib2.urlopen(img_url).read())\n",
      "\n",
      "%matplotlib inline\n",
      "import matplotlib.pyplot as plt\n",
      "im=plt.imread('scraped_image')\n",
      "plt.imshow(im)\n",
      "plt.title(juser['screen_name'],size=16)"
     ],
     "language": "python",
     "metadata": {},
     "outputs": []
    },
    {
     "cell_type": "markdown",
     "metadata": {},
     "source": [
      "Now we want to retrieve the list of follower ids. There are two ways for doing so. Both uses the `api.followers_ids` function. The function returns a maximum of 100 ids. If we want to get all of them we may use a pagination variable `cursor`. This can be managed directly in the call `api.followers_ids(id, cursor)` or using a `Cursor` object with the `pages` method that handles the cursor implicitly. This second method is illustrated in the following lines:"
     ]
    },
    {
     "cell_type": "code",
     "collapsed": false,
     "input": [
      "#Retrieving all the followers\n",
      "ids = []\n",
      "for page in tweepy.Cursor(api.followers_ids, screen_name=USER_NAME).pages():\n",
      "    ids.extend(page)\n",
      "    time.sleep(20)  #This should be 60 to avoid limit rates"
     ],
     "language": "python",
     "metadata": {},
     "outputs": []
    },
    {
     "cell_type": "markdown",
     "metadata": {},
     "source": [
      "Notice the `sleep` command. This is needed to respect the hourly limit rates of the Twitter API. "
     ]
    },
    {
     "cell_type": "code",
     "collapsed": false,
     "input": [
      "#friends (screen_name) or follower_ids\n",
      "ids"
     ],
     "language": "python",
     "metadata": {},
     "outputs": []
    },
    {
     "cell_type": "code",
     "collapsed": false,
     "input": [
      "document={}\n",
      "document['user'] = user.id\n",
      "document['followers'] = ids[:]\n",
      "\n",
      "# Create the connection to MongoDB\n",
      "try:\n",
      "    conn=pymongo.MongoClient()\n",
      "    print \"Connection to Mongo Daemon successful!!!\"\n",
      "except pymongo.errors.ConnectionFailure, e:\n",
      "    print \"Could not connect to MongoDB: %s\" % e \n",
      "db = conn['twitter']\n",
      "collection = db['twitter_users']\n",
      "collection.insert(document)"
     ],
     "language": "python",
     "metadata": {},
     "outputs": []
    },
    {
     "cell_type": "code",
     "collapsed": false,
     "input": [
      "for doc in collection.find():\n",
      "    print doc"
     ],
     "language": "python",
     "metadata": {},
     "outputs": []
    },
    {
     "cell_type": "code",
     "collapsed": false,
     "input": [
      "doc['user']"
     ],
     "language": "python",
     "metadata": {},
     "outputs": []
    },
    {
     "cell_type": "code",
     "collapsed": false,
     "input": [
      "doc['followers']"
     ],
     "language": "python",
     "metadata": {},
     "outputs": []
    },
    {
     "cell_type": "markdown",
     "metadata": {},
     "source": [
      "<div class = \"alert alert-error\" style = \"border-radius:10px;border-width:3px;border-color:darkred;font-family:Verdana,sans-serif;font-size:16px;\"> **TAKE HOME EXERCISE:** Given a starting user ID, retrieve the user ids corresponding to the set of followers up to two depth levels. This is the followers of the followers of the named user. This information creates a network of influence that will be used in upcoming sessions.\n",
      "</div>"
     ]
    },
    {
     "cell_type": "markdown",
     "metadata": {},
     "source": [
      "The **Streaming API** works by making a request for a specific type of data \u2014 filtered by keyword, user, geographic area, or a random sample \u2014 and then keeping the connection open as long as there are no errors in the connection. The data you get back will be encoded in JSON. "
     ]
    },
    {
     "cell_type": "markdown",
     "metadata": {},
     "source": [
      "One of the main usage cases of tweepy is monitoring for tweets and doing actions when some event happens. Key component of that is the StreamListener object, which monitors tweets in real time and catches them.\n",
      "\n",
      "If we check the official twitter streaming API we see that we have several modifiers for filtering the stream, i.e. track (filter by keyword), locations (filter by geographic location), etc\n",
      "\n",
      "StreamListener has several methods, with on_data() and on_status() being the most useful ones. Here is a sample program which implements this behavior:"
     ]
    },
    {
     "cell_type": "code",
     "collapsed": false,
     "input": [
      "from tweepy import Stream,StreamListener\n",
      "\n",
      "class listener(StreamListener):\n",
      "    def on_data(self, data):\n",
      "        #Beauty print data\n",
      "        parsed = json.loads(data)\n",
      "        print json.dumps(parsed, indent=4, sort_keys=True)\n",
      "        return True\n",
      "    def on_error(self, status):\n",
      "        print status"
     ],
     "language": "python",
     "metadata": {},
     "outputs": []
    },
    {
     "cell_type": "markdown",
     "metadata": {},
     "source": [
      "Get the twitter data filtered by location inside the following bounding box. (http://boundingbox.klokantech.com)"
     ]
    },
    {
     "cell_type": "markdown",
     "metadata": {},
     "source": [
      "<img style = \"border-radius:10px;\" src=\"./files/ub_location.png\">"
     ]
    },
    {
     "cell_type": "code",
     "collapsed": false,
     "input": [
      "twitterStream = Stream(auth, listener()) \n",
      "twitterStream.filter(locations=[2.1622322352,41.385987385,2.1651827408,41.3877173586])"
     ],
     "language": "python",
     "metadata": {},
     "outputs": []
    },
    {
     "cell_type": "code",
     "collapsed": false,
     "input": [
      "# Other examples\n",
      "twitterStream = Stream(auth, listener()) \n",
      "#twitterStream.filter(track=[\"datascience\"])\n",
      "#Use http://boundingbox.klokantech.com to get the Barcelona bounding box\n",
      "twitterStream.filter(locations=[2.0504377635,41.2787636541,2.3045074059,41.4725622346])"
     ],
     "language": "python",
     "metadata": {},
     "outputs": []
    },
    {
     "cell_type": "code",
     "collapsed": false,
     "input": [
      "from tweepy import Stream,StreamListener\n",
      "\n",
      "class listener(StreamListener):\n",
      "    def on_data(self, status):\n",
      "        json_data=json.loads(status)\n",
      "        print str(json_data[\"user\"][\"screen_name\"])+' : ' + json_data[\"text\"]\n",
      "        return True\n",
      "    \n",
      "    def on_error(self, status):\n",
      "        print status\n",
      "        \n",
      "# Catch all tweets in Barcelona area and print them\n",
      "twitterStream = Stream(auth, listener()) \n",
      "#twitterStream.filter(locations=[2.1622322352,41.385987385,2.1651827408,41.3877173586])\n",
      "twitterStream.filter(locations=[2.0504377635,41.2787636541,2.3045074059,41.4725622346])"
     ],
     "language": "python",
     "metadata": {},
     "outputs": []
    },
    {
     "cell_type": "markdown",
     "metadata": {},
     "source": [
      "Let us fill the class in order to capture and store the data in a MongoDB database."
     ]
    },
    {
     "cell_type": "code",
     "collapsed": false,
     "input": [
      "from tweepy import Stream,StreamListener\n",
      "\n",
      "class listener(StreamListener):\n",
      "    def __init__(self):\n",
      "        super(StreamListener, self).__init__()\n",
      "        try:\n",
      "            self.conn=pymongo.MongoClient()\n",
      "            print \"Connection to Mongo Daemon successful!!!\"\n",
      "        except pymongo.errors.ConnectionFailure, e:\n",
      "            print \"Could not connect to MongoDB: %s\" % e \n",
      "        self.db = conn['twitter_stream']\n",
      "        self.collection = db['tweets']\n",
      "    \n",
      "    def on_data(self, status):\n",
      "        jdata = json.loads(status)\n",
      "        if 'android' in jdata[\"source\"]:\n",
      "            device = \"android\"\n",
      "        else:\n",
      "            device = \"apple\"\n",
      "        document={'text':jdata[\"text\"], 'created':jdata[\"created_at\"], 'screen_name':jdata[\"user\"][\"screen_name\"], 'device':device}        \n",
      "        self.collection.insert(document) \n",
      "        print document\n",
      "        return True\n",
      "    \n",
      "    def on_error(self, status):\n",
      "        print status\n",
      "\n",
      "# Catch all tweets in Barcelona area and print them\n",
      "twitterStream = Stream(auth, listener()) \n",
      "twitterStream.filter(locations=[2.0504377635,41.2787636541,2.3045074059,41.4725622346])"
     ],
     "language": "python",
     "metadata": {},
     "outputs": []
    },
    {
     "cell_type": "code",
     "collapsed": false,
     "input": [
      "#Check captured data\n",
      "try:\n",
      "    conn=pymongo.MongoClient()\n",
      "    print \"Connection to Mongo Daemon successful!!!\"\n",
      "except pymongo.errors.ConnectionFailure, e:\n",
      "    print \"Could not connect to MongoDB: %s\" % e \n",
      "\n",
      "db = conn['twitter_stream']\n",
      "collection = db['tweets']\n",
      "collection.count()\n",
      "for doc in collection.find():\n",
      "    print doc"
     ],
     "language": "python",
     "metadata": {},
     "outputs": []
    },
    {
     "cell_type": "markdown",
     "metadata": {},
     "source": [
      "APIs are nice. Most large web site provide useful APIs, e.g. Google, OpenStreetMap, Facebook, etc, subject to some use terms. However most of the web sited do not provide any kind of access to data. What to do then?"
     ]
    },
    {
     "cell_type": "markdown",
     "metadata": {},
     "source": [
      "## 3. Making your own API: Web scraping\n",
      "\n",
      "Sometimes data is on the web but there is no API to grant access to it, the API is lacking functionalities or the terms of service are not adequate. In those cases because as humans we have visual access to the data we might wonder how to extract that data automatically. The discipline for doing so is **Web Scraping**. \n",
      "\n",
      "Before we start, it is useful to understand a little how web pages are created and data stored. In this section a brief introduction to web front-end development is presented. We will focus on two basic aspects:\n",
      "\n",
      "+ Basic HTML + CSS static pages.\n",
      "+ Dynamic HTML (a basic JavaScript example using JQuery).\n"
     ]
    },
    {
     "cell_type": "markdown",
     "metadata": {},
     "source": [
      "<div class = \"alert alert-success\" style = \"border-radius:10px;border-width:3px;border-color:darkgreen;font-family:Verdana,sans-serif;font-size:16px;\">\n",
      "**Firebug example on a page.**\n",
      "\n",
      "Go to a page and check its contents using Inspect Element\n",
      "</div>"
     ]
    },
    {
     "cell_type": "markdown",
     "metadata": {},
     "source": [
      "### 3.1 Basic HTML + CSS 101\n",
      "\n",
      "The most basic web pages are built upon HTML + CSS technology. This division stnds for content and design, respectively. **HTML (Hypertext markup language)** is used to give websites structure and stores the contents. This is our target for scraping. On the other hand **CSS (Cascading Style Sheets)** gives format to the content, sigles out content for visualization purposes, i.e. defines the style (e.g. font, color, family, borders, image style, relative positioning of the content, etc). HTML files include tags and references to style, thus it is worthwhile to understand a little bit of both technologies which can help us to scrap data more efficiently.\n"
     ]
    },
    {
     "cell_type": "markdown",
     "metadata": {},
     "source": [
      "HTML is a tagged language usually rendered by a browser. Tags are specified in the following format:\n",
      "\n",
      "<p style=\"text-align: center\">&lt;tag_name *attributes*&gt; content &lt;/tag_name&gt;<p>\n",
      "\n",
      "<p>\n",
      "<div class = \"alert alert-info\" style = \"border-radius:10px;border-width:3px;border-color:darkblue;font-family:Verdana,sans-serif;font-size:16px;\">STRUCTURE of an HTML file:\n",
      "\n",
      "<ul>\n",
      "    <li> HTML files start with the <!DOCTYPE html>. This tells the browser that we will use HTML5. In former versions of HTML standard there were different versions. </li>\n",
      "    <li> The first tag in a web page is &lt;html&gt; and its corresponding &lt;/html&gt; closing tag. All the web page is found inside these tags. </li>\n",
      "    <li> HTML files have a &lt;head&gt; and a &lt;body&gt; </li>\n",
      "    <li> In the head, we have the &lt;title&gt; tags, and we use this to specify the webpage's name. We can also find references to CSS stylesheets (&lt;link&gt;) used for formating the page and links to javascript files (&lt;script&gt;)that give the web page dynamic behavior.</li>\n",
      "    <li> In the body we find the content of the page. </li> \n",
      "        <ul>\n",
      "            <li> Headings and text paragraphs can be created using &lt;h#&gt; (# is a natural number) and &lt;p&gt; ,respectively. </li>\n",
      "            <li> Hyperlinks (links) are given in the <strong>href</strong> attribute of the &lt;a&gt; (anchor) tag. </li>\n",
      "            <li> Images can be embedded using the &lt;img&gt; tag and setting the <strong>src</strong> attribute to the resource. Caution: img is an special tag and it does not have a closing tag, e.g. &lt;img src = \"my_pic.jpg\" /&gt; </li>\n",
      "        </ul>\n",
      "</ul>\n",
      "</div>\n",
      "</p>"
     ]
    },
    {
     "cell_type": "markdown",
     "metadata": {},
     "source": [
      "<div class = \"alert alert-success\" style = \"border-radius:10px;border-width:3px;border-color:darkgreen;font-family:Verdana,sans-serif;font-size:16px;\">**EXERCISE**\n",
      "\n",
      "Let us build a basic HTML web page, adding the following tags. Remember that nearly all tags require to be closed using &lt;/tag&gt;\n",
      "\n",
      "+ DOCTYPE\n",
      "+ html\n",
      "+ head\n",
      "+ title\n",
      "+ body\n",
      "\n",
      "<ol>\n",
      "<li>Create a file 'example.html' in your favorite editor.</li>\n",
      "<li>Create a basic html web page containing a *title*, *h1*, *p*, *img* and *a* tags.</li>\n",
      "</ol>\n",
      "</div>"
     ]
    },
    {
     "cell_type": "markdown",
     "metadata": {},
     "source": [
      "If you are lazy go to the files folder and double-click on \"example.html\". You can check the html code executing the following line."
     ]
    },
    {
     "cell_type": "code",
     "collapsed": false,
     "input": [
      "%load files/example.html"
     ],
     "language": "python",
     "metadata": {},
     "outputs": []
    },
    {
     "cell_type": "markdown",
     "metadata": {},
     "source": [
      "Because Ipython notebook cells directly interpret markdown and HTML we can use the cell as an interactive editor for our HTML understanding.\n",
      "<div class  = \"alert alert-success\">** EXERCISE ** <p>\n",
      "Change the type of cell of the former cell to *Markdown* and Execute (SHIFT+ENTER). In order for the files to show you must add the relative path to the image, e.g. ./files/rubberduck.jpg\n",
      "</div>"
     ]
    },
    {
     "cell_type": "markdown",
     "metadata": {},
     "source": [
      "<div class = \"alert alert-info\" style = \"border-radius:10px;border-width:3px;border-color:darkblue;font-family:Verdana,sans-serif;font-size:16px;\">\n",
      "**Old style HTML** static pages rely heavily on tables and lists: \n",
      "\n",
      "<ul>\n",
      "<li> Making ordered and unordered lists is simple: *ol* (ordered list), *ul* (unordered list) are the main tags. Each item is inserted as *li* (list item) </li>\n",
      "<li> *table* is the containing tag for building tables, each table row is given as *tr* and columns depend on the table data elements *td*. Tables may have a head (*thead*) and a body (*tbody*). *th* is the same as *td* but for the header. If you want a multi column cell then use colspan=number of cells to cover.\n",
      "</li>\n",
      "</ul>\n",
      "</div>"
     ]
    },
    {
     "cell_type": "markdown",
     "metadata": {},
     "source": [
      "The next example shows a simple table build. Check the markdown code."
     ]
    },
    {
     "cell_type": "markdown",
     "metadata": {},
     "source": [
      "<table>\n",
      "<thead>\n",
      "<tr><th colspan = 2>A table</th><tr>\n",
      "</thead>\n",
      "<tbody>\n",
      "<tr>\n",
      "<td>Hello I am element 1.1</td><td>Hello I am element 1.2</td>\n",
      "</tr>\n",
      "<tr>\n",
      "<td colspan=2>Hello I am element 2.1 and 2.2</td>\n",
      "</tr>\n",
      "</tbody>\n",
      "</table>"
     ]
    },
    {
     "cell_type": "markdown",
     "metadata": {},
     "source": [
      "<div class = \"alert alert-info\" style = \"border-radius:10px;border-width:3px;border-color:darkblue;font-family:Verdana,sans-serif;font-size:16px;\">\n",
      "**Current HTML** static pages rely heavily on containers and style: \n",
      "\n",
      "<ul>\n",
      "<li> *div* stands for division and mark a block of content.\n",
      "</li>\n",
      "<li> *span* is used to single out an element of a block content.\n",
      "</li>\n",
      "</ul>\n",
      "\n",
      "</div>\n",
      "\n",
      "By themselves they are not much but when combined with the *style* attribute they become interesting.\n",
      "\n",
      "For example, consider the following example of code:"
     ]
    },
    {
     "cell_type": "markdown",
     "metadata": {},
     "source": [
      "<div style = \"width:100px;height:100px;background-color:red;padding:10px;font-family:Verdana;font-size:24;color:pink;display:inline-block\">  Box 1\n",
      "</div>\n",
      "<div style = \"width:100px;height:100px;background-color:blue;padding:10px;font-family:Futura;font-size:24;color:lightblue;display:inline-block\">  Box 2\n",
      "</div>\n",
      "<div style = \"width:100px;height:100px;background-color:yellow;padding:10px;font-family:Garamond;font-size:24;color:orange;display:inline-block\">  Box 3\n",
      "</div>\n",
      "<div style = \"width:100px;height:100px;background-color:green;padding:10px;font-family:ArialNarrow;font-size:24;color:lightgreen;display:inline-block\">  Box 4\n",
      "</div>"
     ]
    },
    {
     "cell_type": "markdown",
     "metadata": {},
     "source": [
      "The attribute *style* is also referred as *inline CSS* and let us give the skeleton some skin and makeup."
     ]
    },
    {
     "cell_type": "markdown",
     "metadata": {},
     "source": [
      "<div class = \"alert alert-success\" style = \"border-radius:10px;border-width:3px;border-color:darkgreen;font-family:Verdana,sans-serif;font-size:16px;\">**EXERCISE**\n",
      "\n",
      "Let us build a basic HTML web page and check the magic of CSS in action before going in detail into CSS.\n",
      "<ol>\n",
      "<li>Create a file 'example2.html' using your favorite editor.</li>\n",
      "<li>Fill the header and body basic HTML structure</li>\n",
      "<li>Let us add three containers *div* in the body.</li> \n",
      "<li>Select one of them. This will be used as a navigation bar and will contain an unordered list with three elememnts: Home, Brief Bio, Hobbies</li>\n",
      "<li>Select another division and create a table inside. Each row will contain information about your profile, e.g. the first row may contain Name: Your Name, the second row Position: Your current position, etc</li>\n",
      "<li>The last one will contain an image of youself and a paragraph with your contact info (email)</li>\n",
      "</ol>\n",
      "<p>\n",
      "Check the result. Nearly professional, doesn't it?\n",
      "</p>\n",
      "</div>"
     ]
    },
    {
     "cell_type": "markdown",
     "metadata": {},
     "source": [
      "<div class = \"alert alert-success\" style = \"border-radius:10px;border-width:3px;border-color:darkgreen;font-family:Verdana,sans-serif;font-size:16px;\">**EXERCISE FOLLOW UP**\n",
      "\n",
      "Let us add some style.\n",
      "<ol>\n",
      "<li>Add the class \"navbar\" as an attribute to the *div* containing the list. (eg. class = \"navbar\")</li>\n",
      "<li>Add the class \"head\" to the *div* containing the image and the email.</li>\n",
      "<li>Add the class \"right\" to the *div* containing the table.</li>\n",
      "<li>Add the identifier \"email\" to the paragraph containing the email. (eg. id = \"email\")</li>\n",
      "<li>Finally, let us link the class and ids definitions we have just writen by adding to the head tag the following line:\n",
      "<p>< link type=\"text/css\" rel=\"stylesheet\" href=\"stylesheet.css\"/ ></p>\n",
      "</li>\n",
      "</ol>\n",
      "<p>\n",
      "Check the result now. Do not forget to hover over your navigation bar.\n",
      "</p>\n",
      "</div>"
     ]
    },
    {
     "cell_type": "markdown",
     "metadata": {},
     "source": [
      "The former exercise is an extremely simple exercise showing the separation between the content and the styling. Observe that the html file you have created does not have any explicit styling. However, we have added two new elements to the mix, classes and identifiers as attributes of the tags. As you can imagine styling rules are given for each class and ID and are compactly found on the stylesheet.css we have just linked."
     ]
    },
    {
     "cell_type": "markdown",
     "metadata": {},
     "source": [
      "<div class = \"alert alert-warning\" style = \"border-radius:10px;border-width:3px;border-color:orange;font-family:Verdana,sans-serif;font-size:16px;\">**COMMENT:**\n",
      "Very simple formating can be also given using html markers. For example *strong* and *em* tags refers to bold and italics fonts.\n",
      "</div>"
     ]
    },
    {
     "cell_type": "markdown",
     "metadata": {},
     "source": [
      "**CSS (which stands for Cascading Style Sheets)** is a language used to describe the appearance and formatting of your HTML. A style sheet is a file that describes how an HTML file should look. The word cascading refers to the fact that a specific style rules override more generic ones. We will see that in a minute. \n"
     ]
    },
    {
     "cell_type": "markdown",
     "metadata": {},
     "source": [
      "<div class = \"alert alert-info\" style = \"border-radius:10px;border-width:3px;border-color:darkblue;font-family:Verdana,sans-serif;font-size:16px;\">FORMAT of a CSS file:\n",
      "\n",
      "<ul>\n",
      "    <li> CSS files contains a set of style rules applied to a certain selection of the content of the html file. The format is as follows:\n",
      "    \n",
      "    <p style = \"font-family:Courier;margin-left:200px;\"> css_selector { \n",
      "                property: value;\n",
      "        }\n",
      "    </p>\n",
      "    and may contain many properties.\n",
      "    \n",
      "    <li> <span style = \"font-family:Courier\"> css_selector </span> identifies a certain context of the Document Object Model (DOM), i.e. it allows to traverse the DOM and select specific blocks. For example, \n",
      "    <p style = \"font-family:Courier;margin-left:200px;\">\n",
      "        div { color:red; }\n",
      "    </p>\n",
      "    selects all *div* tags and apply a red font color to their content.\n",
      "    </li>\n",
      "    <li> We can use any html tag as element for selection.\n",
      "    </li>\n",
      "    </ul>\n",
      "</div>"
     ]
    },
    {
     "cell_type": "markdown",
     "metadata": {},
     "source": [
      "<div class = \"alert alert-info\" style = \"border-radius:10px;border-width:3px;border-color:darkblue;font-family:Verdana,sans-serif;font-size:16px;\">\n",
      "    **CLASSES:**\n",
      "        <ul>\n",
      "        <li> We may link/format a certain set of tags of the html file with a unique CSS style by means of a **class**. </li>\n",
      "        <li> In html the class is defined as an attribute and can be shared among tags, e.g. < div class = \"my_class\" > and < p class = \"my_class\">\n",
      "        </li>\n",
      "        <li> In the css file, the class is identified with a point preceeding the name, e.g.\n",
      "         <p style = \"font-family:Courier;margin-left:200px;\">\n",
      "            .my_class { font-family:Verdana; }\n",
      "        </p>\n",
      "        </li>\n",
      "        </ul>\n",
      "    </div>\n"
     ]
    },
    {
     "cell_type": "markdown",
     "metadata": {},
     "source": [
      "<div class = \"alert alert-info\" style = \"border-radius:10px;border-width:3px;border-color:darkblue;font-family:Verdana,sans-serif;font-size:16px;\">\n",
      "    **IDENTIFIERS:**\n",
      "        <ul>\n",
      "        <li> If we want to single out an element to apply a certain style we can use an **identifier**. </li>\n",
      "        <li> In html the identifier is defined as the attribute **ID**, e.g. < div id = \"my_ID\" >\n",
      "        </li>\n",
      "        <li> In the css file, the identifier name is preceeded by a hash sign (#), e.g.\n",
      "         <p style = \"font-family:Courier;margin-left:200px;\">\n",
      "            #my_ID { font-size:24px; }\n",
      "        </p>\n",
      "        </li>\n",
      "        </ul>\n",
      "</div>"
     ]
    },
    {
     "cell_type": "markdown",
     "metadata": {},
     "source": [
      "<div class = \"alert alert-success\" style = \"border-radius:10px;border-width:3px;border-color:darkgreen;font-family:Verdana,sans-serif;font-size:16px;\">**EXERCISE**\n",
      "\n",
      "Check stylesheet.css and inspect the formating of the identifiers and the classes.\n",
      "<ol>\n",
      "<li>\n",
      "Create an identifier name_props that changes the font-family to Courier.\n",
      "</li>\n",
      "<li>\n",
      "Add this identifier to the *td* tag with your name in the profile.\n",
      "</li>\n",
      "</ol>\n",
      "</div>"
     ]
    },
    {
     "cell_type": "markdown",
     "metadata": {},
     "source": [
      "<div class = \"alert alert-success\" style = \"border-radius:10px;border-width:3px;border-color:darkgreen;font-family:Verdana,sans-serif;font-size:16px;\">**EXERCISE**\n",
      "\n",
      "Let us make our own css style sheet and explore a little of the more advanced CSS selectors.\n",
      "<ol>\n",
      "<li>Create a file 'mystylesheet.css' using your favorite editor and open example3.html in your browser.</li>\n",
      "<li>What happens if we add the following style command? \n",
      "<p style=\"font-family:Courier\">div {font-family:Verdana;font-size:16px;}</p></li>\n",
      "<li>Add the following line in the style sheet:\n",
      "<p style=\"font-family:Courier\">div div{color:red;}</p></li>\n",
      "<li>Add the following line in the style sheet:\n",
      "<p style=\"font-family:Courier\">div>div{color:green;}</p></li>\n",
      "<li>Add the style to make the font of the container regarding Bruce Lee comments on Choy Li Fut have *font-size:14px*, *font-family:Courier*, *background-color:#FFCC66;*, and *color:yellow*.\n",
      "<li>Add a style to the *img* tag with *height* of *230px* and *width* of *200px*. Set the width of the table to 700 pixels width.</li>\n",
      "</ol>\n",
      "</div>"
     ]
    },
    {
     "cell_type": "markdown",
     "metadata": {},
     "source": [
      "In this last exercise we have seen another type of css selection. The html document can be seen as a tree structure. The root of the tree is the *html* tag. This has two children *head* and *body*. Head may have different children such as *title*, *link*, or *script*. Body may have any combination of tags, *divs*, *p*, *a*, etc. These tags can be nested, e.g. we can find a *div* inside a *div* inside a *div*. In the example we have seen how to refer to nested elements. The elements can be html tags or classes or identifiers.\n",
      "    + \"elem1 elem2\" refers to any elem2 inside any other elem1 disregarding the degree of nesting (it may have any arbitrary set of elementes in between both).\n",
      "    + \"elem1>elem2\" specifically refers to any elem2 children of a direct parent with tag elem1."
     ]
    },
    {
     "cell_type": "markdown",
     "metadata": {},
     "source": [
      "<div class = \"alert alert-success\" style = \"border-radius:10px;border-width:3px;border-color:darkgreen;font-family:Verdana,sans-serif;font-size:16px;\">**EXERCISE:**\n",
      "What does \"div table>img\" select?\n",
      "\n",
      "</div>"
     ]
    },
    {
     "cell_type": "markdown",
     "metadata": {},
     "source": [
      "<div class = \"alert alert-warning\" style = \"border-radius:10px;border-width:3px;border-color:orange;font-family:Verdana,sans-serif;font-size:16px;\">**BONUS MATERIAL:**\n",
      "\n",
      "<table style =\"border:2px orange solid\">\n",
      "<tr><th style =\"border:3px red solid;color:red;\">FONT</th><th style =\"border:3px red solid;color:red;\">BACKGROUND</th></tr>\n",
      "<tr style =\"border:2px orange solid\">\n",
      "<td style =\"border:2px orange solid;\">\n",
      "<ul style= \"font-family:Courier;\">\n",
      "<li>color</li>\n",
      "<li>font-size:10px,1em,...</li>\n",
      "<li>font-family:Verdana,Garamond,Futura,...</li>\n",
      "</ul>\n",
      "<div style = \"font-size:12px\">font-size size is controlled by pixels (px) or ems (em). One em refers to the normal size the user uses. Two ems refers to twice that size, and so on.\n",
      "\n",
      "Font-families depend on the fonts installed in the computer. However there are some default values: serif, sans-serif, cursive</div>\n",
      "\n",
      "</td>\n",
      "<td>\n",
      "<ul style= \"font-family:Courier;\">\n",
      "<li>background-color</li>\n",
      "<li>text-align: left,right,center;</li>\n",
      "</ul>\n",
      "</td>\n",
      "</tr>\n",
      "\n",
      "</table>\n",
      "\n",
      "**CONTAINER LAYOUT**\n",
      "\n",
      "Any container or element has the following layout:\n",
      "\n",
      "<img src=\"./files/margin_border_padding.png\"/>\n",
      "\n",
      "*T* stands for top, *B* for bottom, *L* and *R* for left and right, respectively. We can modify all the attributes: *margin* (outside the container) and *padding* (inside the container) e.g. *margin:10px* (it will add a margin of 10 pixels to all sides), *padding-top:10px* will just add 10 pixels inside the top side of the container. *Border* can be accessed the same way but also we can add other modifiers such as *border-style:dotted/dashed/solid;*, *\"border-radius:10px/20%;\"*, *\"border-width:5px\"*, *\"border-color:red;\"*. \n",
      "\n",
      "<br>\n",
      "\n",
      "<div class = \"alert alert-success\" style = \"border-radius:10px;border-width:3px;border-color:darkgreen;font-family:Verdana,sans-serif;font-size:16px;\">**EXERCISE:**\n",
      "Take a look at the following *div* and identify the container related elements:\n",
      "\n",
      "<div style = \"height:200px;width:200px;background-color:#FFCC66;border-width:10px;border-style:solid;border-color:red;padding:10px 30px 5px 100px;color:black;\"> Crux sacra sit mihi lux / Non draco sit mihi dux\n",
      "Vade retro satana / Numquam suade mihi vana\n",
      "Sunt mala quae libas / Ipse venena bibas\n",
      "</div>\n",
      "\n",
      "</div>\n",
      "\n",
      "**CSS POSITIONING**\n",
      "\n",
      "Positioning is one of the toughest parts in CSS styling. For the sake of completeness we will briefly give some hints on how positioning is controlled.\n",
      "\n",
      "The key attributes are *display*, *float*, and *position*. \n",
      "\n",
      "<ul>\n",
      "<li> <strong>Display:</strong></li>\n",
      "<ul>\n",
      "<li>**block:** Makes the element a block box. It does not let anything sit next to it on the page.</li>\n",
      "<li>**inline-block:** Makes the element a block box, but allow other elements to sit next ot it in the same line.</li>\n",
      "<li>**inline:** Makes the element sit on the same line as another element, but without formatting it like a block. It only takes up as much width as it needs (not the whole line).</li>\n",
      "<li>**none:** Makes the element disapear.</li>\n",
      "</ul>\n",
      "<li><strong>Float:</strong></li>\n",
      "<ul>\n",
      "<li>**left:** Floats the element to the left of the window.</li>\n",
      "<li>**right:** Floats the element to the rightmost side of the window.</li>\n",
      "</ul>\n",
      "<li><strong>Position:</strong></li>\n",
      "<ul>\n",
      "<li>**absolute:** The element is positioned relative to its first positioned (not static) ancestor element.</li>\n",
      "<li>**relative:** The element is positioned relative to its normal position, so \"left:20\" adds 20 pixels to the element's LEFT position.</li>\n",
      "<li>**fixed:** Stays even when there is scroll up or down.</li>\n",
      "</ul>\n",
      "</ul>\n",
      "It is worth mentioning the tag *clear:both/left/right* that defines what floats are not allowed, e.g. clear:both will not allow any float to be on the left of right. This is interesting for making some container to be at the bottom of several floats.\n",
      "**PSEUDO-SELECTORS**\n",
      "\n",
      "Pseudo-selectors allows to change aspect according to functional aspects. For example, change color when the mouse is hovering over a link or change the style of a visited link. They are added using colon (selector:pseudo-selector), examples:\n",
      "<ul>\n",
      "<li>a:link: An unvisited link.</li>\n",
      "<li>a:visited: A visited link.</li>\n",
      "<li>a:hover: A link you're hovering your mouse over.</li>\n",
      "</ul>\n",
      "<br>\n",
      "<div class = \"alert alert-success\" style = \"border-radius:10px;border-width:3px;border-color:darkgreen;font-family:Verdana,sans-serif;font-size:16px;\">**EXERCISE:**\n",
      "Take a look at the file 'stylesheet.css' in our second example and locate the positioning elements.\n",
      "</div>\n",
      "\n",
      "</div>"
     ]
    },
    {
     "cell_type": "markdown",
     "metadata": {},
     "source": [
      "<div class = \"alert alert-info\" style = \"border-radius:10px;border-width:3px;border-color:darkblue;font-family:Verdana,sans-serif;font-size:16px;\">\n",
      "    **Attribute based CSS selectors:**\n",
      "        <ul>\n",
      "        <li> We can select an attribute that has an specific attribute. Syntax is as follows:\n",
      "        <p style = \"font-family:Courier;margin-left:150px;\">\n",
      "            element[attribute = value] { styling_property; }\n",
      "        </p>\n",
      "        e.g. The following code will be applied to all buttons:\n",
      "        <p style = \"font-family:Courier;margin-left:150px;\">\n",
      "            input[type = \"button\"] { font-size:24px; }\n",
      "        </p>\n",
      "        </li>\n",
      "        <li> More complex search patterns can be used using: \n",
      "            <ul> \n",
      "            <li><span style = \"font-family:Courier\">attribute~=value</span> : Finds attributes that contain the whole word value in lists of space separated words</li> \n",
      "            <li><span style = \"font-family:Courier\">attribute|=value</span> : Finds attributes that contain the whole word in a hyphens(dashed) separated list.</li>\n",
      "            <li><span style = \"font-family:Courier\">attribute^=value</span> : Finds attributes that start with the string. It can be part of a larger word. </li> \n",
      "             <li><span style = \"font-family:Courier\">attribute$=value</span> : Finds attributes that end with the string. It can be part of a larger word. </li> \n",
      "             <li><span style = \"font-family:Courier\">attribute\\*=value</span> : Finds attributes that **contain** the string. It can be part of a larger word. </li> \n",
      "            </ul>\n",
      "        </li>\n",
      "        <li>We can chain multiple attribute selectors:\n",
      "        <p style = \"font-family:Courier;margin-left:50px;\">\n",
      "            element[attribute1 = value1][attribute2 = value2]<br> { styling_property; }\n",
      "        </p>\n",
      "        </li>\n",
      "        </ul>\n",
      "</div>"
     ]
    },
    {
     "cell_type": "markdown",
     "metadata": {},
     "source": [
      "FULL REFERENCE OF CSS SELECTORS:\n",
      "\n",
      "<table style=\"font-family:Courier;font-size:14px;\">\n",
      "  <tbody><tr>\n",
      "    <th style=\"width:20%\">Selector</th>\n",
      "    <th style=\"width:20%\">Example</th>\n",
      "    <th style=\"width:55%\">Example description</th>\n",
      "    <th>CSS</th>\n",
      "  </tr>\n",
      "\t<tr>\n",
      "    <td>.<i>class</i></td>\n",
      "    <td class=\"notranslate\">.intro</td>\n",
      "    <td>Selects all elements with class=\"intro\"</td>\n",
      "    <td>1</td>\n",
      "  </tr>\n",
      "\t<tr>\n",
      "    <td>#<i>id</i></td>\n",
      "    <td class=\"notranslate\">#firstname</td>\n",
      "    <td>Selects the element with id=\"firstname\"</td>\n",
      "    <td>1</td>\n",
      "  </tr>  <tr>\n",
      "  <td>\\*</td>\n",
      "  <td class=\"code notranslate\">\\*</td>\n",
      "    <td>Selects all elements</td>\n",
      "    <td>2</td>\n",
      "  </tr>\n",
      "  <tr>\n",
      "    <td><i><a href=\"sel_element.asp\">element</a></i></td>\n",
      "    <td class=\"notranslate\">p</td>\n",
      "    <td>Selects all &lt;p&gt; elements</td>\n",
      "    <td>1</td>\n",
      "  </tr>\n",
      "  <tr>\n",
      "    <td><i><a href=\"sel_element_comma.asp\">element,element</a></i></td>\n",
      "    <td class=\"notranslate\">div,p</td>\n",
      "    <td>Selects all &lt;div&gt; elements and all &lt;p&gt; elements</td>\n",
      "    <td>1</td>\n",
      "  </tr>\n",
      "  <tr>\n",
      "    <td><a href=\"sel_element_element.asp\"><i>element</i> <i>element</i></a></td>\n",
      "    <td class=\"notranslate\">div p</td>\n",
      "    <td>Selects all &lt;p&gt; elements inside &lt;div&gt; elements</td>\n",
      "    <td>1</td>\n",
      "  </tr>\n",
      "  <tr>\n",
      "    <td><a href=\"sel_element_gt.asp\"><i>element</i>&gt;<i>element</i></a></td>\n",
      "    <td class=\"notranslate\">div&gt;p</td>\n",
      "    <td>Selects all &lt;p&gt; elements where the parent is a &lt;div&gt; element</td>\n",
      "    <td>2</td>\n",
      "  </tr>\n",
      "  <tr>\n",
      "    <td><a href=\"sel_element_pluss.asp\"><i>element</i>+<i>element</i></a></td>\n",
      "    <td class=\"notranslate\">div+p</td>\n",
      "    <td>Selects all &lt;p&gt; elements that are placed immediately after &lt;div&gt; elements</td>\n",
      "    <td>2</td>\n",
      "  </tr>\n",
      "\t<tr>\n",
      "    <td><a href=\"sel_gen_sibling.asp\"><i>element1</i>~<i>element2</i></a></td>\n",
      "    <td>p~ul</td>\n",
      "    <td>Selects every &lt;ul&gt; element that are preceded by a &lt;p&gt; element</td>\n",
      "    <td>3</td>\n",
      "  </tr>\n",
      "\t<tr>\n",
      "    <td><a href=\"sel_attribute.asp\">[<i>attribute</i>]</a></td>\n",
      "    <td class=\"notranslate\">[target]</td>\n",
      "    <td>Selects all elements with a target attribute</td>\n",
      "    <td>2</td>\n",
      "  </tr>\n",
      "\t<tr>\n",
      "    <td><a href=\"sel_attribute_value.asp\">[<i>attribute</i>=<i>value</i>]</a></td>\n",
      "    <td class=\"notranslate\">[target=_blank]</td>\n",
      "    <td>Selects all elements with target=\"_blank\"</td>\n",
      "    <td>2</td>\n",
      "  </tr>\n",
      "\t<tr>\n",
      "    <td><a href=\"sel_attribute_value_contains.asp\">[<i>attribute</i>~=<i>value</i>]</a></td>\n",
      "    <td class=\"notranslate\">[title~=flower]</td>\n",
      "    <td>Selects all elements with a title attribute containing the word \"flower\"</td>\n",
      "    <td>2</td>\n",
      "  </tr>\n",
      "\t<tr>\n",
      "    <td><a href=\"sel_attribute_value_lang.asp\">[<i>attribute</i>|=<i>value</i>]</a></td>\n",
      "    <td class=\"notranslate\">[lang|=en]</td>\n",
      "    <td>Selects all elements with a lang attribute value starting with \"en\"</td>\n",
      "    <td>2</td>\n",
      "  </tr>\n",
      "\t<tr>\n",
      "    <td><a href=\"sel_attr_begin.asp\">[<i>attribute</i>^=<i>value</i>]</a></td>\n",
      "    <td>a[href^=\"https\"]</td>\n",
      "    <td>Selects every &lt;a&gt; element whose href attribute value begins with \"https\"</td>\n",
      "    <td>3</td>\n",
      "  </tr>\n",
      "\t<tr>\n",
      "    <td><a href=\"sel_attr_end.asp\">[<i>attribute</i>\\$=<i>value</i>]</a></td>\n",
      "    <td>a[href$=\".pdf\"]</td>\n",
      "    <td>Selects every &lt;a&gt; element whose href attribute value ends with \".pdf\"</td>\n",
      "    <td>3</td>\n",
      "  </tr>\n",
      "\t<tr>\n",
      "    <td><a href=\"sel_attr_contain.asp\">[<i>attribute</i>\\*=<i>value</i>]</a></td>\n",
      "    <td>a[href*=\"w3schools\"]</td>\n",
      "    <td>Selects every &lt;a&gt; element whose href attribute value contains the substring \n",
      "\t\"w3schools\"</td>\n",
      "    <td>3</td>\n",
      "  </tr>\n",
      "\t<tr>\n",
      "    <td><a href=\"sel_active.asp\">:active</a></td>\n",
      "    <td class=\"notranslate\">a:active</td>\n",
      "    <td>Selects the active link</td>\n",
      "    <td>1</td>\n",
      "  </tr>\n",
      "\t<tr>\n",
      "    <td><a href=\"sel_after.asp\">::after</a></td>\n",
      "    <td class=\"notranslate\">p::after</td>\n",
      "    <td>Insert content after every &lt;p&gt; element</td>\n",
      "    <td>2</td>\n",
      "  </tr>\n",
      "\t<tr>\n",
      "    <td><a href=\"sel_before.asp\">::before</a></td>\n",
      "    <td class=\"notranslate\">p::before</td>\n",
      "    <td>Insert content before&nbsp; the content of every &lt;p&gt; element</td>\n",
      "    <td>2</td>\n",
      "  </tr>\n",
      "\t<tr>\n",
      "    <td><a href=\"sel_checked.asp\">:checked</a></td>\n",
      "    <td>input:checked</td>\n",
      "    <td>Selects every checked &lt;input&gt; element</td>\n",
      "    <td>3</td>\n",
      "  </tr>\n",
      "\t<tr>\n",
      "    <td><a href=\"sel_disabled.asp\">:disabled</a></td>\n",
      "    <td>input:disabled</td>\n",
      "    <td>Selects every disabled &lt;input&gt; element</td>\n",
      "    <td>3</td>\n",
      "  </tr>\n",
      "\t<tr>\n",
      "    <td><a href=\"sel_empty.asp\">:empty</a></td>\n",
      "    <td>p:empty</td>\n",
      "    <td>Selects every &lt;p&gt; element that has no children (including text nodes)</td>\n",
      "    <td>3</td>\n",
      "  </tr>\n",
      "\t<tr>\n",
      "    <td><a href=\"sel_enabled.asp\">:enabled</a></td>\n",
      "    <td>input:enabled</td>\n",
      "    <td>Selects every enabled &lt;input&gt; element</td>\n",
      "    <td>3</td>\n",
      "  </tr>\n",
      "  <tr>\n",
      "    <td><a href=\"sel_firstchild.asp\">:first-child</a></td>\n",
      "    <td class=\"notranslate\">p:first-child</td>\n",
      "    <td>Selects every &lt;p&gt; element that is the first child of its parent</td>\n",
      "    <td>2</td>\n",
      "  </tr>\n",
      "\t<tr>\n",
      "    <td><a href=\"sel_firstletter.asp\">::first-letter</a></td>\n",
      "    <td class=\"notranslate\">p::first-letter</td>\n",
      "    <td>Selects the first letter of every &lt;p&gt; element</td>\n",
      "    <td>1</td>\n",
      "  </tr>\n",
      "\t<tr>\n",
      "    <td><a href=\"sel_firstline.asp\">::first-line</a></td>\n",
      "    <td class=\"notranslate\">p::first-line</td>\n",
      "    <td>Selects the first line of every &lt;p&gt; element</td>\n",
      "    <td>1</td>\n",
      "  </tr>\n",
      "\t<tr>\n",
      "    <td><a href=\"sel_first-of-type.asp\">:first-of-type</a></td>\n",
      "    <td>p:first-of-type</td>\n",
      "    <td>Selects every &lt;p&gt; element that is the first &lt;p&gt; element of its parent</td>\n",
      "    <td>3</td>\n",
      "  </tr>\n",
      "\t<tr>\n",
      "    <td><a href=\"sel_focus.asp\">:focus</a></td>\n",
      "    <td class=\"notranslate\">input:focus</td>\n",
      "    <td>Selects the input element which has focus</td>\n",
      "    <td>2</td>\n",
      "  </tr>\n",
      "\t<tr>\n",
      "    <td><a href=\"sel_hover.asp\">:hover</a></td>\n",
      "    <td class=\"notranslate\">a:hover</td>\n",
      "    <td>Selects links on mouse over</td>\n",
      "    <td>1</td>\n",
      "  </tr>\n",
      "\t<tr>\n",
      "    <td><a href=\"sel_in-range.asp\">:in-range</a></td>\n",
      "    <td class=\"notranslate\">input:in-range</td>\n",
      "    <td>Selects input elements with a value within a specified range</td>\n",
      "    <td>3</td>\n",
      "  </tr>\n",
      "\t<tr>\n",
      "    <td><a href=\"sel_invalid.asp\">:invalid</a></td>\n",
      "    <td class=\"notranslate\">input:invalid</td>\n",
      "    <td>Selects all input elemets with an invalid value</td>\n",
      "    <td>3</td>\n",
      "  </tr>\n",
      "\t<tr>\n",
      "    <td><a href=\"sel_lang.asp\">:lang(<i>language</i>)</a></td>\n",
      "    <td class=\"notranslate\">p:lang(it)</td>\n",
      "    <td>Selects every &lt;p&gt; element with a lang attribute equal to \"it\" \n",
      "\t(Italian)</td>\n",
      "    <td>2</td>\n",
      "  </tr>\n",
      "\t<tr>\n",
      "    <td><a href=\"sel_last-child.asp\">:last-child</a></td>\n",
      "    <td>p:last-child</td>\n",
      "    <td>Selects every &lt;p&gt; element that is the last child of its parent</td>\n",
      "    <td>3</td>\n",
      "  </tr>\n",
      "\t<tr>\n",
      "    <td><a href=\"sel_last-of-type.asp\">:last-of-type</a></td>\n",
      "    <td>p:last-of-type</td>\n",
      "    <td>Selects every &lt;p&gt; element that is the last &lt;p&gt; element of its parent</td>\n",
      "    <td>3</td>\n",
      "  </tr>\n",
      "  <tr>\n",
      "    <td><a href=\"sel_link.asp\">:link</a></td>\n",
      "    <td class=\"notranslate\">a:link</td>\n",
      "    <td>Selects all unvisited links</td>\n",
      "    <td>1</td>\n",
      "  </tr>\n",
      "\t<tr>\n",
      "    <td><a href=\"sel_not.asp\">:not(<i>selector</i>)</a></td>\n",
      "    <td>:not(p)</td>\n",
      "    <td>Selects every element that is not a &lt;p&gt; element</td>\n",
      "    <td>3</td>\n",
      "  </tr>\n",
      "\t<tr>\n",
      "    <td><a href=\"sel_nth-child.asp\">:nth-child(<i>n</i>)</a></td>\n",
      "    <td>p:nth-child(2)</td>\n",
      "    <td>Selects every &lt;p&gt; element that is the second child of its parent</td>\n",
      "    <td>3</td>\n",
      "  </tr>\n",
      "\t<tr>\n",
      "    <td><a href=\"sel_nth-last-child.asp\">:nth-last-child(<i>n</i>)</a></td>\n",
      "    <td>p:nth-last-child(2)</td>\n",
      "    <td>Selects every &lt;p&gt; element that is the second child of its parent, counting \n",
      "\tfrom the last child</td>\n",
      "    <td>3</td>\n",
      "  </tr>\n",
      "\t<tr>\n",
      "    <td><a href=\"sel_nth-last-of-type.asp\">:nth-last-of-type(<i>n</i>)</a></td>\n",
      "    <td>p:nth-last-of-type(2)</td>\n",
      "    <td>Selects every &lt;p&gt; element that is the second &lt;p&gt; element of its parent, counting \n",
      "\tfrom the last child</td>\n",
      "    <td>3</td>\n",
      "  </tr>\n",
      "\t<tr>\n",
      "    <td><a href=\"sel_nth-of-type.asp\">:nth-of-type(<i>n</i>)</a></td>\n",
      "    <td>p:nth-of-type(2)</td>\n",
      "    <td>Selects every &lt;p&gt; element that is the second &lt;p&gt; element of its parent</td>\n",
      "    <td>3</td>\n",
      "  </tr>\n",
      "\t<tr>\n",
      "    <td><a href=\"sel_only-of-type.asp\">:only-of-type</a></td>\n",
      "    <td>p:only-of-type</td>\n",
      "    <td>Selects every &lt;p&gt; element that is the only &lt;p&gt; element of its \n",
      "\tparent</td>\n",
      "    <td>3</td>\n",
      "  </tr>\n",
      "\t<tr>\n",
      "    <td><a href=\"sel_only-child.asp\">:only-child</a></td>\n",
      "    <td>p:only-child</td>\n",
      "    <td>Selects every &lt;p&gt; element that is the only child of its parent</td>\n",
      "    <td>3</td>\n",
      "  </tr>\n",
      "\t<tr>\n",
      "    <td><a href=\"sel_optional.asp\">:optional</a></td>\n",
      "    <td class=\"notranslate\">input:optional</td>\n",
      "    <td>Selects input elements with no \"required\" attribute</td>\n",
      "    <td>3</td>\n",
      "  </tr>\n",
      "\t<tr>\n",
      "    <td><a href=\"sel_out-of-range.asp\">:out-of-range</a></td>\n",
      "    <td class=\"notranslate\">input:out-of-range</td>\n",
      "    <td>Selects input elements with a value outside a specified range</td>\n",
      "    <td>3</td>\n",
      "  </tr>\n",
      "\t<tr>\n",
      "    <td><a href=\"sel_read-only.asp\">:read-only</a></td>\n",
      "    <td class=\"notranslate\">input:read-only</td>\n",
      "    <td>Selects input elements with the \"readonly\" attribute specified</td>\n",
      "    <td>3</td>\n",
      "  </tr>\n",
      "\t<tr>\n",
      "    <td><a href=\"sel_read-write.asp\">:read-write</a></td>\n",
      "    <td class=\"notranslate\">input:read-write</td>\n",
      "    <td>Selects input elements with the \"readonly\" attribute NOT specified</td>\n",
      "    <td>3</td>\n",
      "  </tr>\n",
      "\t<tr>\n",
      "    <td><a href=\"sel_required.asp\">:required</a></td>\n",
      "    <td class=\"notranslate\">input:required</td>\n",
      "    <td>Selects input elements with the \"required\" attribute specified</td>\n",
      "    <td>3</td>\n",
      "  </tr>\n",
      "\t<tr>\n",
      "    <td><a href=\"sel_root.asp\">:root</a></td>\n",
      "    <td>:root</td>\n",
      "    <td>Selects the document's root element</td>\n",
      "    <td>3</td>\n",
      "  </tr>\n",
      "\t<tr>\n",
      "    <td><a href=\"sel_selection.asp\">::selection</a></td>\n",
      "    <td>::selection</td>\n",
      "    <td>Selects the portion of an element that is selected by a user</td>\n",
      "    <td>&nbsp;</td>\n",
      "  </tr>\n",
      "\t<tr>\n",
      "    <td><a href=\"sel_target.asp\">:target</a></td>\n",
      "    <td>#news:target </td>\n",
      "    <td>Selects the current active #news element (clicked on a URL containing that anchor name)</td>\n",
      "    <td>3</td>\n",
      "  </tr>\n",
      "\t<tr>\n",
      "    <td><a href=\"sel_valid.asp\">:valid</a></td>\n",
      "    <td class=\"notranslate\">input:valid</td>\n",
      "    <td>Selects all input elements with a valid value</td>\n",
      "    <td>3</td>\n",
      "  </tr>\n",
      "\t<tr>\n",
      "    <td><a href=\"sel_visited.asp\">:visited</a></td>\n",
      "    <td class=\"notranslate\">a:visited</td>\n",
      "    <td>Selects all visited links</td>\n",
      "    <td>1</td>\n",
      "  </tr>\n",
      "</tbody></table>"
     ]
    },
    {
     "cell_type": "markdown",
     "metadata": {},
     "source": [
      "## 3.2 Hands on with CSS selection\n",
      "\n",
      "Different web-focused parsing libraries allow to use CSS selection. In this course we will see a couple of them. The first one is **LXML**. \n",
      "\n",
      "LXML is build upon the C libraries libxml2 and libxslt. These libraries brings standards-compliant XML support as wells as support for (broken) HTML and are very, very fast!\n",
      "\n",
      "LXML allows to use CSS selection. Let us make some drills with lxml.\n",
      "\n",
      "<div class = \"alert alert-success\" style = \"border-radius:10px;border-width:3px;border-color:darkgreen;font-family:Verdana,sans-serif;font-size:16px;\">**LXML EXERCISES** With the source of python.org\n",
      "<ol>\n",
      "<li>How many paragraphs are on the page?</li>\n",
      "<li>What is the text content of the div wiht the class \"shrubbery\"? What are the links in that same div?</li>\n",
      "<li>What is the text in the code elements?</li>\n",
      "<li><strong>BONUS:</strong> Are there any forms?</li>\n",
      "</ol>\n",
      "</div>"
     ]
    },
    {
     "cell_type": "code",
     "collapsed": false,
     "input": [
      "import urllib2\n",
      "\n",
      "source = urllib2.urlopen('http://python.org')\n",
      "\n",
      "from lxml import html\n",
      "from lxml import cssselect\n",
      "tree = html.document_fromstring(source.read())"
     ],
     "language": "python",
     "metadata": {},
     "outputs": []
    },
    {
     "cell_type": "code",
     "collapsed": false,
     "input": [
      "# Add your code here. Use tree.cssselect(\"\")"
     ],
     "language": "python",
     "metadata": {},
     "outputs": []
    },
    {
     "cell_type": "markdown",
     "metadata": {},
     "source": [
      "## 3.3 XPATH as an alternative to CSSSelect\n",
      "\n",
      "we may use // to say anywhere and / to check a descendant and @ to return a certain attribute. We may also use wildcards suchs as * . Thus xpath('//a/div') will look for an 'a' followed with a 'div' anywhere in the document. "
     ]
    },
    {
     "cell_type": "markdown",
     "metadata": {},
     "source": [
      "<div class = \"alert alert-success\" style = \"border-radius:10px;border-width:3px;border-color:darkgreen;font-family:Verdana,sans-serif;font-size:16px;\">\n",
      "**XPATH Exercises**:\n",
      "<ol>\n",
      "<li>Text that are on the lists of the page?</li>\n",
      "<li>All the attributes on the page</li>\n",
      "<li>Is there any link on the page?</li>\n",
      "<li>Can you get the style sheet information?</li>\n",
      "<li>divs that have the class \"contentblock\"</li>\n",
      "<li>what if you remove brackets in the last one?</li>\n",
      "</ol>\n",
      "</div>"
     ]
    },
    {
     "cell_type": "code",
     "collapsed": false,
     "input": [
      "#Ex1\n",
      "tree.xpath('//li/text()')"
     ],
     "language": "python",
     "metadata": {},
     "outputs": []
    },
    {
     "cell_type": "code",
     "collapsed": false,
     "input": [
      "#Ex2\n",
      "tree.xpath('//@*')"
     ],
     "language": "python",
     "metadata": {},
     "outputs": []
    },
    {
     "cell_type": "code",
     "collapsed": false,
     "input": [
      "#Add your code here\n"
     ],
     "language": "python",
     "metadata": {},
     "outputs": []
    },
    {
     "cell_type": "markdown",
     "metadata": {},
     "source": [
      "##3.4 The inexistent data scraping case\n",
      "\n",
      "As a simple exercise try to scrap the numerical value in the text box of the hidden.html file."
     ]
    },
    {
     "cell_type": "code",
     "collapsed": false,
     "input": [
      "from IPython.display import HTML\n",
      "HTML('<iframe src=./files/hidden.html width=700 height=300></iframe>')"
     ],
     "language": "python",
     "metadata": {},
     "outputs": []
    },
    {
     "cell_type": "code",
     "collapsed": false,
     "input": [
      "#Write your code here.\n"
     ],
     "language": "python",
     "metadata": {},
     "outputs": []
    },
    {
     "cell_type": "code",
     "collapsed": false,
     "input": [
      "#Solution\n",
      "import urllib2\n",
      "socket = urllib2.urlopen(\"file:./files/hidden.html\")\n",
      "print socket.read()"
     ],
     "language": "python",
     "metadata": {},
     "outputs": []
    },
    {
     "cell_type": "markdown",
     "metadata": {},
     "source": [
      "... and the value?"
     ]
    },
    {
     "cell_type": "markdown",
     "metadata": {},
     "source": [
      "Problems and limitations of LXML and basic scraping techniques,\n",
      "\n",
      "     + DOM loaded content. The page finishes loading and it is being acquired when the response is closed. Any further data will be not loaded.\n",
      "     + Really broken HTML/XML\n",
      "     + Proprietary and login required can be difficult depending on the log and flow of the page.\n",
      "     + JS form interaction"
     ]
    },
    {
     "cell_type": "markdown",
     "metadata": {},
     "source": [
      "###JUST FOR FUN: MARIO MAGIC"
     ]
    },
    {
     "cell_type": "code",
     "collapsed": false,
     "input": [
      "from IPython.display import HTML\n",
      "HTML('<iframe src=./files/mario.html width=700 height=350></iframe>')"
     ],
     "language": "python",
     "metadata": {},
     "outputs": []
    },
    {
     "cell_type": "markdown",
     "metadata": {},
     "source": [
      "# 4 Advanced scraping using automation tools\n",
      "\n",
      "We see the data in our web browser but the data is not directly found in the html. However \"Data is out there\". This is due to the fact that it has been dinamically generated with a function call. Thus, we see that we have two versions of the web page. The first contains static data and function calls, the second contains static data after the interpretation of the function calls. The question now is how we can access this post interpretation data. There are many different ways. One way could be opting for running our own interpreter such as node.js. Another way is to take advantage of the browser interpretation capabilities and run it as an interpreter.\n",
      "\n",
      "Automation tools such as mechanize or selenium are suites with the goal of testing web interfaces automatically from scripts. They allow to start a browser and interact with the web page in the same way a human user would do. We can use these tools for our scraping purposes.\n"
     ]
    },
    {
     "cell_type": "markdown",
     "metadata": {},
     "source": [
      "## The Cepstral demo and our new goal.\n",
      "<small>An updated version of the case study of Asheesh Laroia (PaulProtheus at Github)</small>\n",
      "\n",
      "Our new goal is to deal with dynamically generated data. Our goal is to be able to perform a web scraping as the following case. Cepstral is a text-to-speech provider. Let us check the web page."
     ]
    },
    {
     "cell_type": "code",
     "collapsed": false,
     "input": [
      "from IPython.display import HTML\n",
      "HTML('<iframe src=\"http://cepstral.com\" width=700 height=350></iframe>')"
     ],
     "language": "python",
     "metadata": {},
     "outputs": []
    },
    {
     "cell_type": "markdown",
     "metadata": {},
     "source": [
      "Our goal is to retrieve the audio file that has been played using web scraping techniques. Let us check how can we do it."
     ]
    },
    {
     "cell_type": "code",
     "collapsed": false,
     "input": [
      "#CEPSTRAL DEMO\n",
      "%reset -f\n",
      "#!/usr/bin/python\n",
      "# -*- coding: utf-8 -*-\n",
      "\n",
      "from selenium import webdriver\n",
      "import time\n",
      "\n",
      "url = 'http://www.cepstral.com/en/demos' #Poseu el nom de la p\u00e0gina web\n",
      "browser = webdriver.Firefox() #Obrir un navegador Chrome\n",
      "browser.get(url)\n",
      "element = browser.find_element_by_css_selector(\"#demo_text\")\n",
      "element.clear()\n",
      "s='My name is Laura and I am so cool!!!'\n",
      "element.send_keys(s)\n",
      "browser.find_element_by_css_selector('#demo_submit').click()\n",
      "\n",
      "browser.implicitly_wait(10)\n",
      "browser.find_element_by_css_selector('audio')\n",
      "html=browser.page_source\n",
      "browser.quit()\n"
     ],
     "language": "python",
     "metadata": {},
     "outputs": []
    },
    {
     "cell_type": "code",
     "collapsed": false,
     "input": [
      "#Check the data is in\n",
      "'mp3' in html"
     ],
     "language": "python",
     "metadata": {},
     "outputs": []
    },
    {
     "cell_type": "code",
     "collapsed": false,
     "input": [
      "#locate it\n",
      "html.find('.mp3')"
     ],
     "language": "python",
     "metadata": {},
     "outputs": []
    },
    {
     "cell_type": "code",
     "collapsed": false,
     "input": [
      "chunks=html.split('\"')\n",
      "for chunk in chunks:\n",
      "    if '.mp3' in chunk:\n",
      "        break\n"
     ],
     "language": "python",
     "metadata": {},
     "outputs": []
    },
    {
     "cell_type": "code",
     "collapsed": false,
     "input": [
      "print chunk"
     ],
     "language": "python",
     "metadata": {},
     "outputs": []
    },
    {
     "cell_type": "code",
     "collapsed": false,
     "input": [
      "import urlparse\n",
      "furl=urlparse.urljoin(url,chunk)\n",
      "print furl"
     ],
     "language": "python",
     "metadata": {},
     "outputs": []
    },
    {
     "cell_type": "code",
     "collapsed": false,
     "input": [
      "import os\n",
      "\n",
      "player = \"/usr/local/bin/mpv \" \n",
      "\n",
      "##Replace with mplayer for Linux. \n",
      "#MPV has been installed in MAC OSX using homebrew.\n",
      "#Mplayer has not been installed because of dependency troubles.\n",
      "#brew tap mpv-player/mpv\n",
      "#brew install --HEAD mpv-player/mpv/libass-ct\n",
      "#brew install mpv\n",
      "\n",
      "os.system(player+furl)\n"
     ],
     "language": "python",
     "metadata": {},
     "outputs": []
    },
    {
     "cell_type": "markdown",
     "metadata": {},
     "source": [
      "## 4.1 Starting with Selenium \n",
      "\n",
      "+ Requirements\n",
      "        ''pip install selenium''\n",
      "        \n",
      "If you use Firefox you do not need anything else. Check the following code and it should work fine.\n"
     ]
    },
    {
     "cell_type": "code",
     "collapsed": false,
     "input": [
      "from selenium import webdriver\n",
      "browser = webdriver.Firefox()"
     ],
     "language": "python",
     "metadata": {},
     "outputs": []
    },
    {
     "cell_type": "markdown",
     "metadata": {},
     "source": [
      "If you want to use Chrome you need the Chrome webdriver interface 'chromedriver'. \n",
      "\n",
      "+ Download 'chromedriver' 2.10 at the time of this notebook.\n",
      "+ You need to add the chromedriver path into the executable path. (We will do it directly on python)\n",
      "\n",
      "Check the following code"
     ]
    },
    {
     "cell_type": "code",
     "collapsed": false,
     "input": [
      "from selenium import webdriver\n",
      "import os \n",
      "os.environ[\"PATH\"] = '$PATH:.' \n",
      "browser = webdriver.Chrome()\n"
     ],
     "language": "python",
     "metadata": {},
     "outputs": []
    },
    {
     "cell_type": "markdown",
     "metadata": {},
     "source": [
      "<div class = \"alert alert-info\" style = \"border-radius:10px;border-width:3px;border-color:darkblue;font-family:Verdana,sans-serif;font-size:16px;\">**Basic manipulation in Selenium:**\n",
      "<p>\n",
      "A webdriver instance allows to manipulate the web session, control cookies, retrieve the html code or find elements in the source code.\n",
      "</p>\n",
      "Given a webdriver instance (e.g.<span style = \"font-family:Courier;\">\n",
      "            browser = webdriver.Firefox()</span>) the most relevant methods\n",
      "\n",
      "<ul>\n",
      "<li>**Open URL:**  .get(url) (e.g.\n",
      "<span style = \"font-family:Courier;\"> browser.get(url)</span>)</li>\n",
      "<li>**Selection: ** .find_element(s)... [element will return the first, elements the complete list]\n",
      "<ul>\n",
      "<li>..._by_link_text('foo') - find the link with text foo</li>\n",
      "<li>..._by_partial_link_text() - similar to contains ...</li>\n",
      "<li>..._by_css_selector()</li>\n",
      "<li>..._by_tag_name()</li>\n",
      "<li>..._by_xpath()</li>\n",
      "<li>..._by_class_name()</li>\n",
      "</ul>\n",
      "</li>\n",
      "<li>**Retrieve source: ** .page_source</li>\n",
      "  \n",
      "</ul>\n",
      "</div>"
     ]
    },
    {
     "cell_type": "markdown",
     "metadata": {},
     "source": [
      "<div class = \"alert alert-info\" style = \"background-color:lightyellow;border-radius:10px;border-width:3px;border-color:darkorange;font-family:Verdana,sans-serif;font-size:16px;color:brown\">**Other web driver utilities:**\n",
      "<ul>\n",
      "<li>browser.execute_script('window.close()') - execute any javascript on a load page</li>\n",
      "<li>brosers.save_screenshot('foo.png')</li>\n",
      "<li>browser.switch_to_alert(): handle pop-ups automatically</li>\n",
      "<li>browser.forward() / browser.back(): navigation</li>\n",
      "</ul>\n",
      "</div>"
     ]
    },
    {
     "cell_type": "markdown",
     "metadata": {},
     "source": [
      "<div class = \"alert alert-success\" style = \"border-radius:10px;border-width:3px;border-color:darkgreen;font-family:Verdana,sans-serif;font-size:16px;\">**Exercise: Simple retrieval of a page source with AJAX.**\n",
      "The prices of a search flight on google is a dinamically generated page. Let us suppose we want to find the cheapest price for a certain flight. We may access the google flights by means of the API.\n",
      "</div>"
     ]
    },
    {
     "cell_type": "code",
     "collapsed": false,
     "input": [
      "%reset -f\n",
      "from selenium import webdriver\n",
      "import time\n",
      "import os \n",
      "os.environ[\"PATH\"] = '$PATH:.' \n",
      "url = 'https://www.google.es/flights/#search;f=BCN;t=MAD;d=2014-08-15;r=2014-08-20;tt=o;sel=BCNMAD0VY1019' #Poseu el nom de la p\u00e0gina web\n",
      "browser = webdriver.Firefox() \n",
      "browser.get(url)\n",
      "time.sleep(2) #Wait for the page to load\n",
      "browser.execute_script(\"window.scrollTo(0,document.body.scrollHeight);\") #Scroll down\n",
      "html=browser.page_source"
     ],
     "language": "python",
     "metadata": {},
     "outputs": []
    },
    {
     "cell_type": "code",
     "collapsed": false,
     "input": [
      "print html"
     ],
     "language": "python",
     "metadata": {},
     "outputs": []
    },
    {
     "cell_type": "code",
     "collapsed": false,
     "input": [
      "#Use basic string manipulation to retrieve the price.\n",
      "euro = html.find(u'\u20ac')\n",
      "html[euro-5:euro-1]"
     ],
     "language": "python",
     "metadata": {},
     "outputs": []
    },
    {
     "cell_type": "markdown",
     "metadata": {},
     "source": [
      "<div class = \"alert alert-info\" style = \"border-radius:10px;border-width:3px;border-color:darkblue;font-family:Verdana,sans-serif;font-size:16px;\">**Element manipulation in Selenium:**\n",
      "<p>\n",
      "Consider the result of a selection, e.g. \n",
      "\n",
      "<span style = \"font-family:Courier;\">element = browser.find_element_by_css_selector('div')</span>\n",
      "\n",
      "We can do several things on it.\n",
      "<ul>\n",
      "<li>element**.click()** - click on a selected element</li>\n",
      "<li>Element properties:\n",
      "<ul>\n",
      "<li>element**.location**: x, y location</li>\n",
      "<li>element**.parent**: parent element</li>\n",
      "<li>element**.tag_name**: The tag of the element</li>\n",
      "<li>element**.text**: text of the element and childs</li>\n",
      "</ul>\n",
      "</li>\n",
      "   \n",
      "</ul>\n",
      "\n",
      "\n"
     ]
    },
    {
     "cell_type": "markdown",
     "metadata": {},
     "source": [
      "<div class = \"alert alert-success\" style = \"border-radius:10px;border-width:3px;border-color:darkgreen;font-family:Verdana,sans-serif;font-size:16px;\">\n",
      "**A more elaborate exercise:** Go to Amazon, look for the film \"Ip Man\". Retrieve the list of all movies bought by customers who also bought \"Ip Man\". With this list go to Internet Movie Data Base and sort the list according to the score of the movie.\n",
      "</div>"
     ]
    },
    {
     "cell_type": "markdown",
     "metadata": {},
     "source": [
      "<div class = \"alert alert-info\" style = \"border-radius:10px;border-width:3px;border-color:darkblue;font-family:Verdana,sans-serif;font-size:16px;\">**Form input with Selenium:**\n",
      "<ul>\n",
      "<li> element**.send_keys()** - Keys, commands, arrows, etc </li>\n",
      "<li> element**.clear()** - clear the element</li>\n",
      "</ul>\n",
      "<p>\n",
      "\n",
      "**Example.**\n",
      "\n",
      "<p style=\"font-family:Courier;\">\n",
      "from selenium.webdriver.common.keys import Keys\n",
      "<br>input.send_keys('Ip Man',Keys.RETURN)\n",
      "</p>\n",
      "</div>"
     ]
    },
    {
     "cell_type": "markdown",
     "metadata": {},
     "source": [
      "<div class = \"alert alert-info\" style = \"border-radius:10px;border-width:3px;border-color:darkblue;font-family:Verdana,sans-serif;font-size:16px;\">**Scrolling and moving:**\n",
      "Moving around the page is tricky, be prepared for displaying a little patience.\n",
      "\n",
      "ActionChains provide a way of stringing together one or more actions and then implementing them.\n",
      "<ul>\n",
      "<li>move_by_offset(x,y)</li>\n",
      "<li>move_to_element() - for highlighting, hovering, rollover, etc.</li>\n",
      "<li>move_to_elemnte_by_offset(elem, x, y)</li>\n",
      "</ul>\n",
      "</div>"
     ]
    },
    {
     "cell_type": "code",
     "collapsed": false,
     "input": [
      "# Open a browser\n",
      "\n",
      "# Go to amazon\n",
      "\n",
      "# Find the search text box\n",
      "\n",
      "# Clear it, input the query and send it\n",
      "\n",
      "# Click on the first result obtained\n",
      "\n",
      "# Find the similar purchases and use an Action chain to scroll down to them using move_to_element\n",
      "\n",
      "# Get the texts of all the films in that area\n",
      "\n",
      "# Click on the next button and repeat retrieving the name of the films"
     ],
     "language": "python",
     "metadata": {},
     "outputs": []
    },
    {
     "cell_type": "markdown",
     "metadata": {},
     "source": [
      "<div class = \"alert alert-info\" style = \"border-radius:10px;border-width:3px;border-color:darkblue;font-family:Verdana,sans-serif;font-size:16px;\"> **Wait**\n",
      "\n",
      "We can distinguish two types of waiting strategies, namely, implicit and explicit waits.\n",
      "\n",
      "*Implicit waits* set up a timeout that will last for the full life of the web driver. On the other hand, *explicit waits* tell the driver to poll the DOM until some condition is met, e.g. a certain element has finished loading on the page. \n",
      "\n",
      "Example:\n",
      "<p style=\"font-family:Courier;\">\n",
      "try: <br>\n",
      "movie_info = webdriverwait(browser,10).until(EC.element_to_be_clickable((By.ID,'BotMovie')))<br>\n",
      "title = movie_info.find_element_by_class_name('title').text<br>\n",
      "link = movie_info.find_element_by_class_name('mdpLink').get_attribute('href')<br>\n",
      "except:<br>\n",
      " print 'taking too long!!'<br>\n",
      " </p>\n",
      " \n",
      "*EC* stands for Expected Condition and are the basis of explicit waits (see http://selenium-python.readthedocs.org for more information)\n",
      "</div>"
     ]
    },
    {
     "cell_type": "markdown",
     "metadata": {},
     "source": [
      "<div class = \"alert alert-info\" style = \"border-radius:10px;border-width:3px;border-color:darkblue;font-family:Verdana,sans-serif;font-size:16px;\"> **Wrap-up**\n",
      "<ul>\n",
      "<li>We understood how data is usually stored in the web site and how to access it using different kinds of accessors, namely API and direct selectors.</li>\n",
      "<li>We have seen how to capture different kinds of data types(text, audio and pictures).</li>\n",
      "<li>We are now familiar with JSON data and basic No-SQL databases.</li>\n",
      "</ul>\n",
      "</div>"
     ]
    }
   ],
   "metadata": {}
  }
 ]
}