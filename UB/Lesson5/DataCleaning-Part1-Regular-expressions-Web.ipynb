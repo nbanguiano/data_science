{
 "metadata": {
  "name": "",
  "signature": "sha256:58a9b052ad6988ecc3880ec5d706938c25dd60ebc95e5b9b778c6aa2b778cb12"
 },
 "nbformat": 3,
 "nbformat_minor": 0,
 "worksheets": [
  {
   "cells": [
    {
     "cell_type": "heading",
     "level": 1,
     "metadata": {},
     "source": [
      "Data cleaning and text analysis"
     ]
    },
    {
     "cell_type": "markdown",
     "metadata": {},
     "source": [
      "$\\bullet$ Objectives: Write scripts for data cleaning (data formatting, text categorization, etc.). Extract features from unstructured data. Understand and use tools for representing natural language data.\n",
      "\n"
     ]
    },
    {
     "cell_type": "markdown",
     "metadata": {},
     "source": [
      "$\\bullet$ Topics: Data cleaning. Regular Expression. How to represent natural language: tf-idf, n-grams. Tools for NLP (NLTK, Pattern).\n",
      "\n",
      "<code>Regular expressions and examples\n",
      "Data cleaning:\n",
      "    Tokenining\n",
      "    Removing punctuation\n",
      "    Stemming and Lemmatizing\n",
      "    Removing tags\n",
      "Text representation\n",
      "        TF-IDF: Term frequencies (counter)\n",
      "        Vector normalization\n",
      "        Feature weighting (Inverse Document Frequency)\t\n",
      "        Sklearn implementation\n",
      "Learning text representations\n",
      "        Stopwords\n",
      "        Bag of Words\n",
      "        n-grams\n",
      "        Training a (naive Bayes) Classifier with NLTK: film critiques example\n",
      "        Training a (naive Bayes) Classifier with TextBlob: A Tweet Sentiment Analyzer\n",
      "        Pattern module</code>"
     ]
    },
    {
     "cell_type": "heading",
     "level": 2,
     "metadata": {},
     "source": [
      "Regular expressions - Regex"
     ]
    },
    {
     "cell_type": "markdown",
     "metadata": {},
     "source": [
      "The concept Regular Expression arose in the 1950s, when the American mathematician Stephen Kleene formalized the description of a regular language, and came into common use with the Unix text processing utilities ed, an editor, and grep (global regular expression print), a filter.\n",
      "<img src=\"regular.png\">"
     ]
    },
    {
     "cell_type": "markdown",
     "metadata": {},
     "source": [
      "A regular expression processor translates a regular expression into a nondeterministic finite automaton (NFA) (where several states can be the output of a given state and symbol), which is then made deterministic (only one possible state transition for a particular symbol) and run on the target text string to recognize substrings that match the regular expression. "
     ]
    },
    {
     "cell_type": "markdown",
     "metadata": {},
     "source": [
      "1956.\"Representation of Events in Nerve Nets and Finite Automata\" in Automata Studies. Claude Shannon and John McCarthy, eds.\n",
      "<img src=\"Automat.png\">"
     ]
    },
    {
     "cell_type": "markdown",
     "metadata": {},
     "source": [
      "You write regular expressions (regex) to match patterns in strings. When you are processing text, you may want to extract a substring of some predictable structure: a phone number, an email address, or something more specific to your research or task. You may also want to clean your text of some kind of junk: maybe there are repetitive formatting errors due to some transcription process that you need to remove."
     ]
    },
    {
     "cell_type": "markdown",
     "metadata": {},
     "source": [
      "In these cases and in many others like them, writing the right regex will be a good choice."
     ]
    },
    {
     "cell_type": "markdown",
     "metadata": {},
     "source": [
      "<img src=\"RE.png\">"
     ]
    },
    {
     "cell_type": "code",
     "collapsed": false,
     "input": [
      "import re #the regex module in the python standard library\n",
      "\n",
      "#strings to be searched for matching regex patterns\n",
      "str1 = \"Aardvarks belong to the Captain\"\n",
      "str2 = \"Albert's famous equation, E = mc^2.\"\n",
      "str3 = \"Located at 455 Serra Mall.\"\n",
      "str4 = \"Beware of the shape-shifters!\"\n",
      "test_strings = [str1, str2, str3, str4] #created a list of strings"
     ],
     "language": "python",
     "metadata": {},
     "outputs": [],
     "prompt_number": 3
    },
    {
     "cell_type": "code",
     "collapsed": false,
     "input": [
      "for test_string in test_strings:\n",
      "    print 'The test string is \"' + test_string + '\"'\n",
      "    match = re.search(r'[A-Z]', test_string)\n",
      "    if match:\n",
      "        print 'The first possible match is: ' + match.group()\n",
      "    else:\n",
      "        print 'no match.'"
     ],
     "language": "python",
     "metadata": {},
     "outputs": [
      {
       "output_type": "stream",
       "stream": "stdout",
       "text": [
        "The test string is \"Aardvarks belong to the Captain\"\n",
        "The first possible match is: A\n",
        "The test string is \"Albert's famous equation, E = mc^2.\"\n",
        "The first possible match is: A\n",
        "The test string is \"Located at 455 Serra Mall.\"\n",
        "The first possible match is: L\n",
        "The test string is \"Beware of the shape-shifters!\"\n",
        "The first possible match is: B\n"
       ]
      }
     ],
     "prompt_number": 4
    },
    {
     "cell_type": "markdown",
     "metadata": {},
     "source": [
      "Let's go through the code above line by line:"
     ]
    },
    {
     "cell_type": "markdown",
     "metadata": {},
     "source": [
      "<code>\n",
      "for test_string in test_strings:\n",
      "</code>"
     ]
    },
    {
     "cell_type": "markdown",
     "metadata": {},
     "source": [
      "test_strings is a list, and so it is iterable in a for loop. Every element in this list is a string. So for the rest of the for loop, we will be referring to the current element as test_string"
     ]
    },
    {
     "cell_type": "markdown",
     "metadata": {},
     "source": [
      "<code>\n",
      "print 'The test string is \"' + test_string + '\"'\n",
      "</code>"
     ]
    },
    {
     "cell_type": "markdown",
     "metadata": {},
     "source": [
      "This just prints out the current object we're iterating over"
     ]
    },
    {
     "cell_type": "markdown",
     "metadata": {},
     "source": [
      "<code>\n",
      "match = re.search(r'[A-Z]', test_string)\n",
      "</code>"
     ]
    },
    {
     "cell_type": "markdown",
     "metadata": {},
     "source": [
      "You give a searcher (in this case, the function re.search() a pattern and a string in which to find matches. That's exactly what this line does. re.search() returns either an object of type SRE_Match or None. "
     ]
    },
    {
     "cell_type": "markdown",
     "metadata": {},
     "source": [
      "<code>\n",
      "if match:\n",
      "    print 'The first possible match is: ' + match.group()\n",
      "else:\n",
      "    print 'no match.'\n",
      "</code>    "
     ]
    },
    {
     "cell_type": "markdown",
     "metadata": {},
     "source": [
      "match is an object that has two possible states: SRE_Match or None. None is a type of object that returns false in a logical test. In this for loop, we've basically told the Python interpreter to check whether match is NoneType or not. If it isn't, we return a string plus match.group(). group() is a method that has SRE_Match objects. It will return the substring that matched the pattern defined.\n"
     ]
    },
    {
     "cell_type": "markdown",
     "metadata": {},
     "source": [
      "Note that since we are using re.search, only a single character is returned. That's because of the following:"
     ]
    },
    {
     "cell_type": "markdown",
     "metadata": {},
     "source": [
      "<ol>\n",
      "<li>We only defined a single character pattern and</li>\n",
      "<li>re.search finds the first possible match and then doesn't look for any more.</li>\n",
      "</ol>\n"
     ]
    },
    {
     "cell_type": "markdown",
     "metadata": {},
     "source": [
      "If you want to find all possible matches in a string, you can use re.findall(), which will return a list of all matches:"
     ]
    },
    {
     "cell_type": "code",
     "collapsed": false,
     "input": [
      "for string in test_strings:\n",
      "    print re.findall(r'[A-Z]', string)"
     ],
     "language": "python",
     "metadata": {},
     "outputs": [
      {
       "output_type": "stream",
       "stream": "stdout",
       "text": [
        "['A', 'C']\n",
        "['A', 'E']\n",
        "['L', 'S', 'M']\n",
        "['B']\n"
       ]
      }
     ],
     "prompt_number": 5
    },
    {
     "cell_type": "markdown",
     "metadata": {},
     "source": [
      "You can also compile your regex ahead of time. This will create SRE_Pattern objects. There are many performance reasons to do this. Additionally, you can create lists of these objects and iterate over both strings and patterns more easily. Here's an example:"
     ]
    },
    {
     "cell_type": "code",
     "collapsed": false,
     "input": [
      "patterns = [re.compile(r'[ABC]'),\n",
      "re.compile(r'[^ABC]'),\n",
      "re.compile(r'[0123456789]'),\n",
      "re.compile(r'[0-9]'),\n",
      "re.compile(r'[0-4]'),\n",
      "re.compile(r'[A-Z]'),\n",
      "re.compile(r'[A-Za-z]'),\n",
      "re.compile(r'[A-Za-z0-9]'),\n",
      "re.compile(r'[a-z]'),\n",
      "re.compile(r'[ a-z]')]\n",
      "\n",
      "def find_match(pattern, string):\n",
      "    match = re.search(pattern, string)\n",
      "    if match:\n",
      "        return match.group()\n",
      "    else:\n",
      "        return 'no match.'\n",
      "    \n",
      "for test_string in test_strings:\n",
      "    matches = [find_match(pattern, test_string) for pattern in patterns]\n",
      "  \n",
      "    for pattern in patterns:\n",
      "        print 'The first potential match for \"' + pattern.pattern + '\" in \"' + test_string + '\" is: ' + matches[patterns.index(pattern)]"
     ],
     "language": "python",
     "metadata": {},
     "outputs": [
      {
       "output_type": "stream",
       "stream": "stdout",
       "text": [
        "The first potential match for \"[ABC]\" in \"Aardvarks belong to the Captain\" is: A\n",
        "The first potential match for \"[^ABC]\" in \"Aardvarks belong to the Captain\" is: a\n",
        "The first potential match for \"[0123456789]\" in \"Aardvarks belong to the Captain\" is: no match.\n",
        "The first potential match for \"[0-9]\" in \"Aardvarks belong to the Captain\" is: no match.\n",
        "The first potential match for \"[0-4]\" in \"Aardvarks belong to the Captain\" is: no match.\n",
        "The first potential match for \"[A-Z]\" in \"Aardvarks belong to the Captain\" is: A\n",
        "The first potential match for \"[A-Za-z]\" in \"Aardvarks belong to the Captain\" is: A\n",
        "The first potential match for \"[A-Za-z0-9]\" in \"Aardvarks belong to the Captain\" is: A\n",
        "The first potential match for \"[a-z]\" in \"Aardvarks belong to the Captain\" is: a\n",
        "The first potential match for \"[ a-z]\" in \"Aardvarks belong to the Captain\" is: a\n",
        "The first potential match for \"[ABC]\" in \"Albert's famous equation, E = mc^2.\" is: A\n",
        "The first potential match for \"[^ABC]\" in \"Albert's famous equation, E = mc^2.\" is: l\n",
        "The first potential match for \"[0123456789]\" in \"Albert's famous equation, E = mc^2.\" is: 2\n",
        "The first potential match for \"[0-9]\" in \"Albert's famous equation, E = mc^2.\" is: 2\n",
        "The first potential match for \"[0-4]\" in \"Albert's famous equation, E = mc^2.\" is: 2\n",
        "The first potential match for \"[A-Z]\" in \"Albert's famous equation, E = mc^2.\" is: A\n",
        "The first potential match for \"[A-Za-z]\" in \"Albert's famous equation, E = mc^2.\" is: A\n",
        "The first potential match for \"[A-Za-z0-9]\" in \"Albert's famous equation, E = mc^2.\" is: A\n",
        "The first potential match for \"[a-z]\" in \"Albert's famous equation, E = mc^2.\" is: l\n",
        "The first potential match for \"[ a-z]\" in \"Albert's famous equation, E = mc^2.\" is: l\n",
        "The first potential match for \"[ABC]\" in \"Located at 455 Serra Mall.\" is: no match.\n",
        "The first potential match for \"[^ABC]\" in \"Located at 455 Serra Mall.\" is: L\n",
        "The first potential match for \"[0123456789]\" in \"Located at 455 Serra Mall.\" is: 4\n",
        "The first potential match for \"[0-9]\" in \"Located at 455 Serra Mall.\" is: 4\n",
        "The first potential match for \"[0-4]\" in \"Located at 455 Serra Mall.\" is: 4\n",
        "The first potential match for \"[A-Z]\" in \"Located at 455 Serra Mall.\" is: L\n",
        "The first potential match for \"[A-Za-z]\" in \"Located at 455 Serra Mall.\" is: L\n",
        "The first potential match for \"[A-Za-z0-9]\" in \"Located at 455 Serra Mall.\" is: L\n",
        "The first potential match for \"[a-z]\" in \"Located at 455 Serra Mall.\" is: o\n",
        "The first potential match for \"[ a-z]\" in \"Located at 455 Serra Mall.\" is: o\n",
        "The first potential match for \"[ABC]\" in \"Beware of the shape-shifters!\" is: B\n",
        "The first potential match for \"[^ABC]\" in \"Beware of the shape-shifters!\" is: e\n",
        "The first potential match for \"[0123456789]\" in \"Beware of the shape-shifters!\" is: no match.\n",
        "The first potential match for \"[0-9]\" in \"Beware of the shape-shifters!\" is: no match.\n",
        "The first potential match for \"[0-4]\" in \"Beware of the shape-shifters!\" is: no match.\n",
        "The first potential match for \"[A-Z]\" in \"Beware of the shape-shifters!\" is: B\n",
        "The first potential match for \"[A-Za-z]\" in \"Beware of the shape-shifters!\" is: B\n",
        "The first potential match for \"[A-Za-z0-9]\" in \"Beware of the shape-shifters!\" is: B\n",
        "The first potential match for \"[a-z]\" in \"Beware of the shape-shifters!\" is: e\n",
        "The first potential match for \"[ a-z]\" in \"Beware of the shape-shifters!\" is: e\n"
       ]
      }
     ],
     "prompt_number": 6
    },
    {
     "cell_type": "markdown",
     "metadata": {},
     "source": [
      "Let's go over this code line by line: "
     ]
    },
    {
     "cell_type": "markdown",
     "metadata": {},
     "source": [
      "<code>\n",
      "patterns = [re.compile(r'[ABC]'),\n",
      "re.compile(r'[^ABC]'),\n",
      "re.compile(r'[ABC^]'),\n",
      "re.compile(r'[0123456789]'),\n",
      "re.compile(r'[0-9]'),\n",
      "re.compile(r'[0-4]'),\n",
      "re.compile(r'[A-Z]'),\n",
      "re.compile(r'[A-Za-z]'),\n",
      "re.compile(r'[A-Za-z0-9]'),\n",
      "re.compile(r'[-a-z]'),\n",
      "re.compile(r'[- a-z]')]\n",
      "</code>"
     ]
    },
    {
     "cell_type": "markdown",
     "metadata": {},
     "source": [
      "This creates a list of SRE_Patterns."
     ]
    },
    {
     "cell_type": "code",
     "collapsed": false,
     "input": [
      "print patterns"
     ],
     "language": "python",
     "metadata": {},
     "outputs": [
      {
       "output_type": "stream",
       "stream": "stdout",
       "text": [
        "[<_sre.SRE_Pattern object at 0x0000000003FE6620>, <_sre.SRE_Pattern object at 0x0000000003F7FF30>, <_sre.SRE_Pattern object at 0x0000000003FE67E8>, <_sre.SRE_Pattern object at 0x0000000003FE66B8>, <_sre.SRE_Pattern object at 0x0000000003FE6918>, <_sre.SRE_Pattern object at 0x0000000003FE6750>, <_sre.SRE_Pattern object at 0x0000000003FD5A80>, <_sre.SRE_Pattern object at 0x000000000400A1C0>, <_sre.SRE_Pattern object at 0x0000000003FE69B0>, <_sre.SRE_Pattern object at 0x0000000004049378>]\n"
       ]
      }
     ],
     "prompt_number": 7
    },
    {
     "cell_type": "code",
     "collapsed": false,
     "input": [
      "print patterns[1]\n",
      "print patterns[1].pattern"
     ],
     "language": "python",
     "metadata": {},
     "outputs": [
      {
       "output_type": "stream",
       "stream": "stdout",
       "text": [
        "<_sre.SRE_Pattern object at 0x0000000003F7FF30>\n",
        "[^ABC]\n"
       ]
      }
     ],
     "prompt_number": 8
    },
    {
     "cell_type": "markdown",
     "metadata": {},
     "source": [
      "<code>\n",
      "def find_match(pattern, string):\n",
      "    match = re.search(pattern, string)\n",
      "    if match:\n",
      "        return match.group()\n",
      "    else:\n",
      "        return 'no match.'\n",
      "</code>"
     ]
    },
    {
     "cell_type": "markdown",
     "metadata": {},
     "source": [
      "We defined a function find_match that expects some variables called pattern and string. Notice that this function is very similar to the logical condition testing from the code above. Note also that this function returns either the match.group() or a string \"no match.\""
     ]
    },
    {
     "cell_type": "markdown",
     "metadata": {},
     "source": [
      "<code>\n",
      "for test_string in test_strings:\n",
      "    matches = [find_match(pattern, test_string) for pattern in patterns]\n",
      "<code>"
     ]
    },
    {
     "cell_type": "markdown",
     "metadata": {},
     "source": [
      "By defining the find_match() function above, I can then call it from within a list comprehension. In words, for each string test_string that is in test_strings, we compare against the list of patterns and return matches. The resulting list of matches should be the same length as patterns; one match per pattern tested. "
     ]
    },
    {
     "cell_type": "markdown",
     "metadata": {},
     "source": [
      "<code>\n",
      "for pattern in patterns:\n",
      "        print 'The first potential match for \"' + pattern.pattern + '\" in \"' + test_string + '\" is: ' + matches[patterns.index(pattern)]\n",
      "</code>"
     ]
    },
    {
     "cell_type": "markdown",
     "metadata": {},
     "source": [
      "Because we wanted to print some diagnostic code, we need to iterate over each pattern in patterns (a list and thus iterable) and print it out, along with the test string. If you want to get the pattern out of an SRE_Pattern object, you can call its member method .pattern and it will return the regex pattern as a string. Since we are nesting this loop within the bigger loop above, this loop will go over every pattern in the patterns list for each string, and then repeat for the next string in the list test_strings."
     ]
    },
    {
     "cell_type": "markdown",
     "metadata": {},
     "source": [
      "However, note that we are dynamically referring to the index of the matches list:"
     ]
    },
    {
     "cell_type": "markdown",
     "metadata": {},
     "source": [
      "<code>\n",
      "matches[patterns.index(pattern)]\n",
      "</code>"
     ]
    },
    {
     "cell_type": "heading",
     "level": 3,
     "metadata": {},
     "source": [
      "Compiling regular expressions"
     ]
    },
    {
     "cell_type": "markdown",
     "metadata": {},
     "source": [
      "<p>Compiling regular expressions as in the previous example can improve performance if you are using the same regular expression multiple times.</p>\n",
      "<pre><code>compiled_re = re.compile(r'some_regexpr')    \n",
      "for word in text:\n",
      "    match = comp.search(compiled_re))\n",
      "    # do something with the match\n",
      "</code></pre><p><strong>E.g., if we want to check if a string ends with a substring:</strong></p>"
     ]
    },
    {
     "cell_type": "code",
     "collapsed": false,
     "input": [
      "import re\n",
      "\n",
      "needle = 'needlers'\n",
      "\n",
      "# Python approach\n",
      "print any([needle.endswith(e) for e in ('ly', 'ed', 'ing', 'ers')])\n",
      "\n",
      "# On-the-fly Regular expression in Python\n",
      "print(bool(re.search(r'(ly|ed|ing|ers)$', needle)))\n",
      "\n",
      "# Compiled Regular expression in Python\n",
      "comp = re.compile(r'(ly|ed|ing|ers)$') \n",
      "print(bool(comp.search(needle)))"
     ],
     "language": "python",
     "metadata": {},
     "outputs": [
      {
       "output_type": "stream",
       "stream": "stdout",
       "text": [
        "True\n",
        "True\n",
        "True\n"
       ]
      }
     ],
     "prompt_number": 9
    },
    {
     "cell_type": "code",
     "collapsed": false,
     "input": [
      "%timeit -n 1000 -r 50 bool(any([needle.endswith(e) for e in ('ly', 'ed', 'ing', 'ers')]))\n",
      "%timeit -n 1000 -r 50 bool(re.search(r'(ly|ed|ing|ers)$', needle))\n",
      "%timeit -n 1000 -r 50 bool(comp.search(needle))"
     ],
     "language": "python",
     "metadata": {},
     "outputs": [
      {
       "output_type": "stream",
       "stream": "stdout",
       "text": [
        "1000 loops, best of 50: 1.26 \u00b5s per loop\n",
        "1000 loops, best of 50: 1.74 \u00b5s per loop"
       ]
      },
      {
       "output_type": "stream",
       "stream": "stdout",
       "text": [
        "\n",
        "1000 loops, best of 50: 728 ns per loop\n"
       ]
      }
     ],
     "prompt_number": 10
    },
    {
     "cell_type": "heading",
     "level": 3,
     "metadata": {},
     "source": [
      "Summary of terms for regular expressions"
     ]
    },
    {
     "cell_type": "markdown",
     "metadata": {},
     "source": [
      "<p><strong>'[ ]'</strong> - one element inside has to match.</p>\n",
      "<p><strong>'|'</strong> - or element.</p>\n",
      "<p><strong>'( )'</strong> - all inside has to be matched.</p>\n",
      "<p><strong>'{ }'</strong> - to set an interval or number of times repetition.</p>\n",
      "<p><strong>'\\'</strong> - identify next character as a character and not regular expression symbol.</p>\n",
      "<p><strong>'.'(Dot.)</strong> - In the default mode, this matches any character except a newline. </p>\n",
      "<p><strong>'^'(Caret.)</strong> - Matches the start of the string, and in MULTILINE mode also matches immediately after each newline.</p>\n",
      "<p><strong>'<code>$</code>'</strong> - Matches the end of the string or just before the newline at the end of the string, and in MULTILINE mode also matches before a newline. </p>\n",
      "<p><strong>'\\*'</strong> - Causes the resulting RE to match 0 or more repetitions of the preceding RE, as many repetitions as are possible. ab* will match \u2018a\u2019 or \u2018ab\u2019 followed by any number of \u2018b\u2019s.</p>\n",
      "<p><strong>'<code>+</code>'</strong>- Causes the resulting RE to match 1 or more repetitions of the preceding RE. ab+ will match \u2018a\u2019 followed by any non-zero number of \u2018b\u2019s; it will not match just \u2018a\u2019.</p>\n",
      "<p><strong>'?'</strong> - Causes the resulting RE to match 0 or 1 repetitions of the preceding RE. ab? will match either \u2018a\u2019 or \u2018ab\u2019.</p>\n",
      "<ul>\n",
      "<li>\\d - Matches any decimal digit; this is equivalent to the class [0-9].</li>\n",
      "<li>\\D - Matches any non-digit character; this is equivalent to the class [^0-9].</li>\n",
      "<li>\\s - Matches any whitespace character; this is equivalent to the class [ \\t\\n\\r\\f\\v].</li>\n",
      "<li>\\S - Matches any non-whitespace character; this is equivalent to the class [^ \\t\\n\\r\\f\\v].</li>\n",
      "<li>\\w - Matches any alphanumeric character; this is equivalent to the class [a-zA-Z0-9_].</li>\n",
      "<li>\\W - Matches any non-alphanumeric character; this is equivalent to the class [^a-zA-Z0-9_].</li>\n",
      "</ul>\n",
      "<p>For more comprehesive and complete documentation, ref: <a href=\"http://docs.python.org/2/library/re.html#re-syntax\">http://docs.python.org/2/library/re.html#re-syntax</a>"
     ]
    },
    {
     "cell_type": "heading",
     "level": 4,
     "metadata": {},
     "source": [
      "Pre-defined character classes example"
     ]
    },
    {
     "cell_type": "code",
     "collapsed": false,
     "input": [
      "patterns2 = [\n",
      "re.compile(r'\\w'),\n",
      "re.compile(r'\\W'),\n",
      "re.compile(r'\\d'),\n",
      "re.compile(r'\\D'),\n",
      "re.compile(r'\\s'),\n",
      "re.compile(r'\\S')]\n",
      "\n",
      "test_strings.append('Aardvarks belong to the Captain, capt_hook')\n",
      "\n",
      "for test_string in test_strings:\n",
      "    matches = [find_match(pattern, test_string) for pattern in patterns2]\n",
      "\n",
      "    for pattern in patterns2:\n",
      "        print 'The first potential match for \"' + pattern.pattern + '\" in \"' + test_string + '\" is: ' + matches[patterns2.index(pattern)]"
     ],
     "language": "python",
     "metadata": {},
     "outputs": [
      {
       "output_type": "stream",
       "stream": "stdout",
       "text": [
        "The first potential match for \"\\w\" in \"Aardvarks belong to the Captain\" is: A\n",
        "The first potential match for \"\\W\" in \"Aardvarks belong to the Captain\" is:  \n",
        "The first potential match for \"\\d\" in \"Aardvarks belong to the Captain\" is: no match.\n",
        "The first potential match for \"\\D\" in \"Aardvarks belong to the Captain\" is: A\n",
        "The first potential match for \"\\s\" in \"Aardvarks belong to the Captain\" is:  \n",
        "The first potential match for \"\\S\" in \"Aardvarks belong to the Captain\" is: A\n",
        "The first potential match for \"\\w\" in \"Albert's famous equation, E = mc^2.\" is: A\n",
        "The first potential match for \"\\W\" in \"Albert's famous equation, E = mc^2.\" is: '\n",
        "The first potential match for \"\\d\" in \"Albert's famous equation, E = mc^2.\" is: 2\n",
        "The first potential match for \"\\D\" in \"Albert's famous equation, E = mc^2.\" is: A\n",
        "The first potential match for \"\\s\" in \"Albert's famous equation, E = mc^2.\" is:  \n",
        "The first potential match for \"\\S\" in \"Albert's famous equation, E = mc^2.\" is: A\n",
        "The first potential match for \"\\w\" in \"Located at 455 Serra Mall.\" is: L\n",
        "The first potential match for \"\\W\" in \"Located at 455 Serra Mall.\" is:  \n",
        "The first potential match for \"\\d\" in \"Located at 455 Serra Mall.\" is: 4\n",
        "The first potential match for \"\\D\" in \"Located at 455 Serra Mall.\" is: L\n",
        "The first potential match for \"\\s\" in \"Located at 455 Serra Mall.\" is:  \n",
        "The first potential match for \"\\S\" in \"Located at 455 Serra Mall.\" is: L\n",
        "The first potential match for \"\\w\" in \"Beware of the shape-shifters!\" is: B\n",
        "The first potential match for \"\\W\" in \"Beware of the shape-shifters!\" is:  \n",
        "The first potential match for \"\\d\" in \"Beware of the shape-shifters!\" is: no match.\n",
        "The first potential match for \"\\D\" in \"Beware of the shape-shifters!\" is: B\n",
        "The first potential match for \"\\s\" in \"Beware of the shape-shifters!\" is:  \n",
        "The first potential match for \"\\S\" in \"Beware of the shape-shifters!\" is: B\n",
        "The first potential match for \"\\w\" in \"Aardvarks belong to the Captain, capt_hook\" is: A\n",
        "The first potential match for \"\\W\" in \"Aardvarks belong to the Captain, capt_hook\" is:  \n",
        "The first potential match for \"\\d\" in \"Aardvarks belong to the Captain, capt_hook\" is: no match.\n",
        "The first potential match for \"\\D\" in \"Aardvarks belong to the Captain, capt_hook\" is: A\n",
        "The first potential match for \"\\s\" in \"Aardvarks belong to the Captain, capt_hook\" is:  \n",
        "The first potential match for \"\\S\" in \"Aardvarks belong to the Captain, capt_hook\" is: A\n"
       ]
      }
     ],
     "prompt_number": 11
    },
    {
     "cell_type": "heading",
     "level": 4,
     "metadata": {},
     "source": [
      "Examples matching sequences with regular expressions"
     ]
    },
    {
     "cell_type": "code",
     "collapsed": false,
     "input": [
      "test_strings2 = [\"The Aardvarks belong to the Captain.\",\n",
      "                 \"Bitter butter won't make the batter better.\",\n",
      "                 \"Hark, the pitter patter of little feet!\"]\n",
      "\n",
      "patterns3 = [re.compile(r'Aa'),\n",
      "re.compile(r'[Aa][Aa]'),\n",
      "re.compile(r'[aeiou][aeiou]'),\n",
      "re.compile(r'[AaEeIiOoUu][aeiou]'),\n",
      "re.compile(r'[Tt]he'),\n",
      "re.compile(r'^[Tt]he'),\n",
      "re.compile(r'n.'),\n",
      "re.compile(r'n.$'),\n",
      "re.compile(r'\\W\\w'),\n",
      "re.compile(r'\\w[aeiou]tter'),\n",
      "re.compile(r'..tt..')]\n",
      "\n",
      "for test_string in test_strings2:\n",
      "    matches = [find_match(pattern, test_string) for pattern in patterns3]\n",
      "\n",
      "    for pattern in patterns3:\n",
      "        print 'The first potential match for \"' + pattern.pattern + '\" in \"' + test_string + '\" is: ' + matches[patterns3.index(pattern)]"
     ],
     "language": "python",
     "metadata": {},
     "outputs": [
      {
       "output_type": "stream",
       "stream": "stdout",
       "text": [
        "The first potential match for \"Aa\" in \"The Aardvarks belong to the Captain.\" is: Aa\n",
        "The first potential match for \"[Aa][Aa]\" in \"The Aardvarks belong to the Captain.\" is: Aa\n",
        "The first potential match for \"[aeiou][aeiou]\" in \"The Aardvarks belong to the Captain.\" is: ai\n",
        "The first potential match for \"[AaEeIiOoUu][aeiou]\" in \"The Aardvarks belong to the Captain.\" is: Aa\n",
        "The first potential match for \"[Tt]he\" in \"The Aardvarks belong to the Captain.\" is: The\n",
        "The first potential match for \"^[Tt]he\" in \"The Aardvarks belong to the Captain.\" is: The\n",
        "The first potential match for \"n.\" in \"The Aardvarks belong to the Captain.\" is: ng\n",
        "The first potential match for \"n.$\" in \"The Aardvarks belong to the Captain.\" is: n.\n",
        "The first potential match for \"\\W\\w\" in \"The Aardvarks belong to the Captain.\" is:  A\n",
        "The first potential match for \"\\w[aeiou]tter\" in \"The Aardvarks belong to the Captain.\" is: no match.\n",
        "The first potential match for \"..tt..\" in \"The Aardvarks belong to the Captain.\" is: no match.\n",
        "The first potential match for \"Aa\" in \"Bitter butter won't make the batter better.\" is: no match.\n",
        "The first potential match for \"[Aa][Aa]\" in \"Bitter butter won't make the batter better.\" is: no match.\n",
        "The first potential match for \"[aeiou][aeiou]\" in \"Bitter butter won't make the batter better.\" is: no match.\n",
        "The first potential match for \"[AaEeIiOoUu][aeiou]\" in \"Bitter butter won't make the batter better.\" is: no match.\n",
        "The first potential match for \"[Tt]he\" in \"Bitter butter won't make the batter better.\" is: the\n",
        "The first potential match for \"^[Tt]he\" in \"Bitter butter won't make the batter better.\" is: no match.\n",
        "The first potential match for \"n.\" in \"Bitter butter won't make the batter better.\" is: n'\n",
        "The first potential match for \"n.$\" in \"Bitter butter won't make the batter better.\" is: no match.\n",
        "The first potential match for \"\\W\\w\" in \"Bitter butter won't make the batter better.\" is:  b\n",
        "The first potential match for \"\\w[aeiou]tter\" in \"Bitter butter won't make the batter better.\" is: Bitter\n",
        "The first potential match for \"..tt..\" in \"Bitter butter won't make the batter better.\" is: Bitter\n",
        "The first potential match for \"Aa\" in \"Hark, the pitter patter of little feet!\" is: no match.\n",
        "The first potential match for \"[Aa][Aa]\" in \"Hark, the pitter patter of little feet!\" is: no match.\n",
        "The first potential match for \"[aeiou][aeiou]\" in \"Hark, the pitter patter of little feet!\" is: ee\n",
        "The first potential match for \"[AaEeIiOoUu][aeiou]\" in \"Hark, the pitter patter of little feet!\" is: ee\n",
        "The first potential match for \"[Tt]he\" in \"Hark, the pitter patter of little feet!\" is: the\n",
        "The first potential match for \"^[Tt]he\" in \"Hark, the pitter patter of little feet!\" is: no match.\n",
        "The first potential match for \"n.\" in \"Hark, the pitter patter of little feet!\" is: no match.\n",
        "The first potential match for \"n.$\" in \"Hark, the pitter patter of little feet!\" is: no match.\n",
        "The first potential match for \"\\W\\w\" in \"Hark, the pitter patter of little feet!\" is:  t\n",
        "The first potential match for \"\\w[aeiou]tter\" in \"Hark, the pitter patter of little feet!\" is: pitter\n",
        "The first potential match for \"..tt..\" in \"Hark, the pitter patter of little feet!\" is: pitter\n"
       ]
      }
     ],
     "prompt_number": 12
    },
    {
     "cell_type": "code",
     "collapsed": false,
     "input": [
      "def find_all_matches(pattern, string):\n",
      "    matches = re.findall(pattern, string)\n",
      "    if matches:\n",
      "        return matches\n",
      "    else:\n",
      "        return None\n",
      "\n",
      "for test_string in test_strings2:\n",
      "    matches = [find_all_matches(pattern, test_string) for pattern in patterns3]\n",
      "    \n",
      "    for pattern in patterns3:\n",
      "        if matches[patterns3.index(pattern)]:\n",
      "            print 'All potential matches for \"' + pattern.pattern + '\" in \"' + test_string + '\" is/are: ' + ', '.join(matches[patterns3.index(pattern)])\n",
      "        else:\n",
      "            print 'There were no matches for \"' + pattern.pattern + '\" in \"' + test_string + '\".'"
     ],
     "language": "python",
     "metadata": {},
     "outputs": [
      {
       "output_type": "stream",
       "stream": "stdout",
       "text": [
        "All potential matches for \"Aa\" in \"The Aardvarks belong to the Captain.\" is/are: Aa\n",
        "All potential matches for \"[Aa][Aa]\" in \"The Aardvarks belong to the Captain.\" is/are: Aa\n",
        "All potential matches for \"[aeiou][aeiou]\" in \"The Aardvarks belong to the Captain.\" is/are: ai\n",
        "All potential matches for \"[AaEeIiOoUu][aeiou]\" in \"The Aardvarks belong to the Captain.\" is/are: Aa, ai\n",
        "All potential matches for \"[Tt]he\" in \"The Aardvarks belong to the Captain.\" is/are: The, the\n",
        "All potential matches for \"^[Tt]he\" in \"The Aardvarks belong to the Captain.\" is/are: The\n",
        "All potential matches for \"n.\" in \"The Aardvarks belong to the Captain.\" is/are: ng, n.\n",
        "All potential matches for \"n.$\" in \"The Aardvarks belong to the Captain.\" is/are: n.\n",
        "All potential matches for \"\\W\\w\" in \"The Aardvarks belong to the Captain.\" is/are:  A,  b,  t,  t,  C\n",
        "There were no matches for \"\\w[aeiou]tter\" in \"The Aardvarks belong to the Captain.\".\n",
        "There were no matches for \"..tt..\" in \"The Aardvarks belong to the Captain.\".\n",
        "There were no matches for \"Aa\" in \"Bitter butter won't make the batter better.\".\n",
        "There were no matches for \"[Aa][Aa]\" in \"Bitter butter won't make the batter better.\".\n",
        "There were no matches for \"[aeiou][aeiou]\" in \"Bitter butter won't make the batter better.\".\n",
        "There were no matches for \"[AaEeIiOoUu][aeiou]\" in \"Bitter butter won't make the batter better.\".\n",
        "All potential matches for \"[Tt]he\" in \"Bitter butter won't make the batter better.\" is/are: the\n",
        "There were no matches for \"^[Tt]he\" in \"Bitter butter won't make the batter better.\".\n",
        "All potential matches for \"n.\" in \"Bitter butter won't make the batter better.\" is/are: n'\n",
        "There were no matches for \"n.$\" in \"Bitter butter won't make the batter better.\".\n",
        "All potential matches for \"\\W\\w\" in \"Bitter butter won't make the batter better.\" is/are:  b,  w, 't,  m,  t,  b,  b\n",
        "All potential matches for \"\\w[aeiou]tter\" in \"Bitter butter won't make the batter better.\" is/are: Bitter, butter, batter, better\n",
        "All potential matches for \"..tt..\" in \"Bitter butter won't make the batter better.\" is/are: Bitter, butter, batter, better\n",
        "There were no matches for \"Aa\" in \"Hark, the pitter patter of little feet!\".\n",
        "There were no matches for \"[Aa][Aa]\" in \"Hark, the pitter patter of little feet!\".\n",
        "All potential matches for \"[aeiou][aeiou]\" in \"Hark, the pitter patter of little feet!\" is/are: ee\n",
        "All potential matches for \"[AaEeIiOoUu][aeiou]\" in \"Hark, the pitter patter of little feet!\" is/are: ee\n",
        "All potential matches for \"[Tt]he\" in \"Hark, the pitter patter of little feet!\" is/are: the\n",
        "There were no matches for \"^[Tt]he\" in \"Hark, the pitter patter of little feet!\".\n",
        "There were no matches for \"n.\" in \"Hark, the pitter patter of little feet!\".\n",
        "There were no matches for \"n.$\" in \"Hark, the pitter patter of little feet!\".\n",
        "All potential matches for \"\\W\\w\" in \"Hark, the pitter patter of little feet!\" is/are:  t,  p,  p,  o,  l,  f\n",
        "All potential matches for \"\\w[aeiou]tter\" in \"Hark, the pitter patter of little feet!\" is/are: pitter, patter\n",
        "All potential matches for \"..tt..\" in \"Hark, the pitter patter of little feet!\" is/are: pitter, patter, little\n"
       ]
      }
     ],
     "prompt_number": 14
    },
    {
     "cell_type": "markdown",
     "metadata": {},
     "source": [
      "We have a new function and some new code. Let's go over it:"
     ]
    },
    {
     "cell_type": "markdown",
     "metadata": {},
     "source": [
      "First, we wrote a function called find_all_matches:"
     ]
    },
    {
     "cell_type": "markdown",
     "metadata": {},
     "source": [
      "<code>\n",
      "def find_all_matches(pattern, string):\n",
      "    matches = re.findall(pattern, string)\n",
      "    if matches:\n",
      "        return matches\n",
      "    else:\n",
      "        return None\n",
      "</code>"
     ]
    },
    {
     "cell_type": "markdown",
     "metadata": {},
     "source": [
      "There are only two differences between find_matches and find_all_matches. First, find_all_matches uses re.findall not re.search. So matches is a list of all possible matches. Thus, instead of return a single string in either condition, find_all_matches can return either a list of strings or None."
     ]
    },
    {
     "cell_type": "markdown",
     "metadata": {},
     "source": [
      "<code>\n",
      "for test_string in test_strings2:\n",
      "    matches = [find_all_matches(pattern, test_string) for pattern in patterns3]\n",
      "\n",
      "    for pattern in patterns3:\n",
      "        if matches[patterns3.index(pattern)]:\n",
      "</code>"
     ]
    },
    {
     "cell_type": "markdown",
     "metadata": {},
     "source": [
      "Remember the use of .index() from the previous code walkthrough. Also, remember that None returns false in a logical condition test. In this if statement, We are testing to see if there were any matches for the current pattern in the loop. If there were any matches, the code will execute the next line. Otherwise, it will go to the else block. "
     ]
    },
    {
     "cell_type": "markdown",
     "metadata": {},
     "source": [
      "<code>\n",
      "print 'All potential matches for \"' + pattern.pattern + '\" in \"' + test_string + '\" is/are: ' + ', '.join(matches[patterns3.index(pattern)])\n",
      "</code>"
     ]
    },
    {
     "cell_type": "markdown",
     "metadata": {},
     "source": [
      "If matches at the index of the current pattern is not None, it will be a list of strings. Because we are printing these results, we wanted to nicely format them for diagnostic purposes. So we use the standard list-to-string Python expression of ''.join(list). In this case, we wanted the results to be comma-separated. "
     ]
    },
    {
     "cell_type": "code",
     "collapsed": false,
     "input": [
      "test_strings3 = ['Now Mr. N said, \"Nooooooo!\"',\n",
      "                 'Then she told him he had to be quiet.']\n",
      "\n",
      "patterns4 = [re.compile(r'No*'),\n",
      "re.compile(r'No+'),\n",
      "re.compile(r'No?'),\n",
      "re.compile(r'No{7}'),\n",
      "re.compile(r's?he'),\n",
      "re.compile(r'(she|he)')]\n",
      "\n",
      "for test_string in test_strings3:\n",
      "    matches = [find_all_matches(pattern, test_string) for pattern in patterns4]\n",
      "    \n",
      "    for pattern in patterns4:\n",
      "        if matches[patterns4.index(pattern)]:\n",
      "            print 'All potential matches for \"' + pattern.pattern + '\" in \"' + test_string + '\" is/are: ' + ', '.join(matches[patterns4.index(pattern)])\n",
      "        else:\n",
      "            print 'There were no matches for \"' + pattern.pattern + '\" in \"' + test_string + '\".'"
     ],
     "language": "python",
     "metadata": {},
     "outputs": [
      {
       "output_type": "stream",
       "stream": "stdout",
       "text": [
        "All potential matches for \"No*\" in \"Now Mr. N said, \"Nooooooo!\"\" is/are: No, N, Nooooooo\n",
        "All potential matches for \"No+\" in \"Now Mr. N said, \"Nooooooo!\"\" is/are: No, Nooooooo\n",
        "All potential matches for \"No?\" in \"Now Mr. N said, \"Nooooooo!\"\" is/are: No, N, No\n",
        "All potential matches for \"No{7}\" in \"Now Mr. N said, \"Nooooooo!\"\" is/are: Nooooooo\n",
        "There were no matches for \"s?he\" in \"Now Mr. N said, \"Nooooooo!\"\".\n",
        "There were no matches for \"(she|he)\" in \"Now Mr. N said, \"Nooooooo!\"\".\n",
        "There were no matches for \"No*\" in \"Then she told him he had to be quiet.\".\n",
        "There were no matches for \"No+\" in \"Then she told him he had to be quiet.\".\n",
        "There were no matches for \"No?\" in \"Then she told him he had to be quiet.\".\n",
        "There were no matches for \"No{7}\" in \"Then she told him he had to be quiet.\".\n",
        "All potential matches for \"s?he\" in \"Then she told him he had to be quiet.\" is/are: he, she, he\n",
        "All potential matches for \"(she|he)\" in \"Then she told him he had to be quiet.\" is/are: he, she, he\n"
       ]
      }
     ],
     "prompt_number": 15
    },
    {
     "cell_type": "heading",
     "level": 4,
     "metadata": {},
     "source": [
      "Capturing groups"
     ]
    },
    {
     "cell_type": "markdown",
     "metadata": {},
     "source": [
      "In Python, SRE_Match objects have .groups and .group methods. These correspond to the capturing groups established in the regex, if you chose to indicate groups. By default, the 0th group is the entire match to the whole regex. To access the result for a capturing group, you pass the capturing group index to the .group method. "
     ]
    },
    {
     "cell_type": "code",
     "collapsed": false,
     "input": [
      "test_strings4 = ['The benefit is being held for Mr. Kite and Mr. Henderson.',\n",
      "                 'Tickets cost $5.00 for adults, $3.50 for children.',\n",
      "                 'Over 9000 attendees are expected, up from 900 attendees last year.',\n",
      "                 'Over 9,000 attendees are expected, up from 900 attendees last year.']\n",
      "\n",
      "patterns5 = [re.compile(r'Mr\\. (\\w+)'),\n",
      "re.compile(r'\\$(\\d+\\.\\d\\d)'),\n",
      "re.compile(r'(\\d+) attendees'),\n",
      "re.compile(r'((\\d+,)*\\d+) attendees')]"
     ],
     "language": "python",
     "metadata": {},
     "outputs": [],
     "prompt_number": 16
    },
    {
     "cell_type": "code",
     "collapsed": false,
     "input": [
      "# simple example\n",
      "print patterns5[3].pattern\n",
      "print test_strings4[3]\n",
      "\n",
      "matches = re.search(patterns5[3], test_strings4[3])\n",
      "print 'Group 0: ' + matches.group(0)\n",
      "print 'Group 1: ' + matches.group(1)\n",
      "print 'Group 2: ' + matches.group(2)\n",
      "# print 'Group 3: ' + matches.group(3) # what happens if you uncomment this?"
     ],
     "language": "python",
     "metadata": {},
     "outputs": [
      {
       "output_type": "stream",
       "stream": "stdout",
       "text": [
        "((\\d+,)*\\d+) attendees\n",
        "Over 9,000 attendees are expected, up from 900 attendees last year.\n",
        "Group 0: 9,000 attendees\n",
        "Group 1: 9,000\n",
        "Group 2: 9,\n"
       ]
      }
     ],
     "prompt_number": 17
    },
    {
     "cell_type": "markdown",
     "metadata": {},
     "source": [
      "This example searched for r'((\\d+,)*\\d+) attendees' in the string \"Over 9000 attendees are expected, up from 900 attendees last year.'\" There are two groups, one nested inside the other. Groups are indexed outer-most left parens. This is why Group 1 is 9,000 and Group 2 is 9,."
     ]
    },
    {
     "cell_type": "code",
     "collapsed": false,
     "input": [
      "for test_string in test_strings4:\n",
      "    for pattern in patterns5:\n",
      "        for result in re.finditer(pattern, test_string):\n",
      "            for i in range(pattern.groups+1):\n",
      "                \n",
      "                print 'In \"' + test_string + '\", '  + 'given pattern \"' + pattern.pattern + \\\n",
      "                '\", the group ' +str(i)+ ' match is ' + str(result.group(i))"
     ],
     "language": "python",
     "metadata": {},
     "outputs": [
      {
       "output_type": "stream",
       "stream": "stdout",
       "text": [
        "In \"The benefit is being held for Mr. Kite and Mr. Henderson.\", given pattern \"Mr\\. (\\w+)\", the group 0 match is Mr. Kite\n",
        "In \"The benefit is being held for Mr. Kite and Mr. Henderson.\", given pattern \"Mr\\. (\\w+)\", the group 1 match is Kite\n",
        "In \"The benefit is being held for Mr. Kite and Mr. Henderson.\", given pattern \"Mr\\. (\\w+)\", the group 0 match is Mr. Henderson\n",
        "In \"The benefit is being held for Mr. Kite and Mr. Henderson.\", given pattern \"Mr\\. (\\w+)\", the group 1 match is Henderson\n",
        "In \"Tickets cost $5.00 for adults, $3.50 for children.\", given pattern \"\\$(\\d+\\.\\d\\d)\", the group 0 match is $5.00\n",
        "In \"Tickets cost $5.00 for adults, $3.50 for children.\", given pattern \"\\$(\\d+\\.\\d\\d)\", the group 1 match is 5.00\n",
        "In \"Tickets cost $5.00 for adults, $3.50 for children.\", given pattern \"\\$(\\d+\\.\\d\\d)\", the group 0 match is $3.50\n",
        "In \"Tickets cost $5.00 for adults, $3.50 for children.\", given pattern \"\\$(\\d+\\.\\d\\d)\", the group 1 match is 3.50\n",
        "In \"Over 9000 attendees are expected, up from 900 attendees last year.\", given pattern \"(\\d+) attendees\", the group 0 match is 9000 attendees\n",
        "In \"Over 9000 attendees are expected, up from 900 attendees last year.\", given pattern \"(\\d+) attendees\", the group 1 match is 9000\n",
        "In \"Over 9000 attendees are expected, up from 900 attendees last year.\", given pattern \"(\\d+) attendees\", the group 0 match is 900 attendees\n",
        "In \"Over 9000 attendees are expected, up from 900 attendees last year.\", given pattern \"(\\d+) attendees\", the group 1 match is 900\n",
        "In \"Over 9000 attendees are expected, up from 900 attendees last year.\", given pattern \"((\\d+,)*\\d+) attendees\", the group 0 match is 9000 attendees\n",
        "In \"Over 9000 attendees are expected, up from 900 attendees last year.\", given pattern \"((\\d+,)*\\d+) attendees\", the group 1 match is 9000\n",
        "In \"Over 9000 attendees are expected, up from 900 attendees last year.\", given pattern \"((\\d+,)*\\d+) attendees\", the group 2 match is None\n",
        "In \"Over 9000 attendees are expected, up from 900 attendees last year.\", given pattern \"((\\d+,)*\\d+) attendees\", the group 0 match is 900 attendees\n",
        "In \"Over 9000 attendees are expected, up from 900 attendees last year.\", given pattern \"((\\d+,)*\\d+) attendees\", the group 1 match is 900\n",
        "In \"Over 9000 attendees are expected, up from 900 attendees last year.\", given pattern \"((\\d+,)*\\d+) attendees\", the group 2 match is None\n",
        "In \"Over 9,000 attendees are expected, up from 900 attendees last year.\", given pattern \"(\\d+) attendees\", the group 0 match is 000 attendees\n",
        "In \"Over 9,000 attendees are expected, up from 900 attendees last year.\", given pattern \"(\\d+) attendees\", the group 1 match is 000\n",
        "In \"Over 9,000 attendees are expected, up from 900 attendees last year.\", given pattern \"(\\d+) attendees\", the group 0 match is 900 attendees\n",
        "In \"Over 9,000 attendees are expected, up from 900 attendees last year.\", given pattern \"(\\d+) attendees\", the group 1 match is 900\n",
        "In \"Over 9,000 attendees are expected, up from 900 attendees last year.\", given pattern \"((\\d+,)*\\d+) attendees\", the group 0 match is 9,000 attendees\n",
        "In \"Over 9,000 attendees are expected, up from 900 attendees last year.\", given pattern \"((\\d+,)*\\d+) attendees\", the group 1 match is 9,000\n",
        "In \"Over 9,000 attendees are expected, up from 900 attendees last year.\", given pattern \"((\\d+,)*\\d+) attendees\", the group 2 match is 9,\n",
        "In \"Over 9,000 attendees are expected, up from 900 attendees last year.\", given pattern \"((\\d+,)*\\d+) attendees\", the group 0 match is 900 attendees\n",
        "In \"Over 9,000 attendees are expected, up from 900 attendees last year.\", given pattern \"((\\d+,)*\\d+) attendees\", the group 1 match is 900\n",
        "In \"Over 9,000 attendees are expected, up from 900 attendees last year.\", given pattern \"((\\d+,)*\\d+) attendees\", the group 2 match is None\n"
       ]
      }
     ],
     "prompt_number": 18
    },
    {
     "cell_type": "markdown",
     "metadata": {},
     "source": [
      "Before we go over this code block, let's establish the purpose of the code. We wanted to return all the matches for each group. But there are a few concerns:\n",
      "\n",
      "<li>The number of groups is different for each pattern. </li>\n",
      "<li>`.findall' return a list of matches, and if there are groups, it will return a list of tuples, where each tuple is the length of the number of capturing groups.</li>"
     ]
    },
    {
     "cell_type": "code",
     "collapsed": false,
     "input": [
      "print patterns5[3].pattern\n",
      "print test_strings4[3]\n",
      "matches = re.findall(patterns5[3], test_strings4[3])\n",
      "print matches\n",
      "matches = re.search(patterns5[3], test_strings4[3])\n",
      "print 'Group 0: ' + matches.group(0)\n",
      "print 'Group 1: ' + matches.group(1)\n",
      "print 'Group 2: ' + matches.group(2)\n"
     ],
     "language": "python",
     "metadata": {},
     "outputs": [
      {
       "output_type": "stream",
       "stream": "stdout",
       "text": [
        "((\\d+,)*\\d+) attendees\n",
        "Over 9,000 attendees are expected, up from 900 attendees last year.\n",
        "[('9,000', '9,'), ('900', '')]\n",
        "Group 0: 9,000 attendees\n",
        "Group 1: 9,000\n",
        "Group 2: 9,\n"
       ]
      }
     ],
     "prompt_number": 19
    },
    {
     "cell_type": "markdown",
     "metadata": {},
     "source": [
      "We can refer to the index of a tuple within a list of tuples through indexing a second index:"
     ]
    },
    {
     "cell_type": "code",
     "collapsed": false,
     "input": [
      "matches[0][0]"
     ],
     "language": "python",
     "metadata": {},
     "outputs": [
      {
       "ename": "NameError",
       "evalue": "name 'matches' is not defined",
       "output_type": "pyerr",
       "traceback": [
        "\u001b[1;31m---------------------------------------------------------------------------\u001b[0m\n\u001b[1;31mNameError\u001b[0m                                 Traceback (most recent call last)",
        "\u001b[1;32m<ipython-input-2-bf7aa391816d>\u001b[0m in \u001b[0;36m<module>\u001b[1;34m()\u001b[0m\n\u001b[1;32m----> 1\u001b[1;33m \u001b[1;32mprint\u001b[0m \u001b[0mmatches\u001b[0m\u001b[1;33m[\u001b[0m\u001b[1;36m0\u001b[0m\u001b[1;33m]\u001b[0m\u001b[1;33m[\u001b[0m\u001b[1;36m0\u001b[0m\u001b[1;33m]\u001b[0m\u001b[1;33m\u001b[0m\u001b[0m\n\u001b[0m",
        "\u001b[1;31mNameError\u001b[0m: name 'matches' is not defined"
       ]
      }
     ],
     "prompt_number": 2
    },
    {
     "cell_type": "markdown",
     "metadata": {},
     "source": [
      "But there are other ways of constructing this kind of loop."
     ]
    },
    {
     "cell_type": "markdown",
     "metadata": {},
     "source": [
      "<code>\n",
      "for test_string in test_strings4:\n",
      "    for pattern in patterns5:\n",
      "        for result in re.finditer(pattern, test_string):\n",
      "</code>"
     ]
    },
    {
     "cell_type": "markdown",
     "metadata": {},
     "source": [
      "re.finditer returns an iterator. This loop means that for every pattern and for each string we're testing, instead of creating a list of matches, we're going to create a iterator object that contains the results."
     ]
    },
    {
     "cell_type": "markdown",
     "metadata": {},
     "source": [
      "<code>\n",
      "for i in range(pattern.groups+1):\n",
      "</code>"
     ]
    },
    {
     "cell_type": "markdown",
     "metadata": {},
     "source": [
      "The .groups method will list the number of capturing groups in the regular expression. range is a function that will return a list of integers ranging from a start or a stop value and by a step value. If you just give it a int, by default it will treat that value is a stopping value and start from 0. Now, we add 1 to this value because the end point is omitted in range. If we want to return all the groups, we have to add that end point back."
     ]
    },
    {
     "cell_type": "markdown",
     "metadata": {},
     "source": [
      "<code>\n",
      "print 'In \"' + test_string + '\", '  + 'given pattern \"' + pattern.pattern + '\", the group ' +str(i)+ ' match is ' + str(result.group(i))\n",
      "</code>"
     ]
    },
    {
     "cell_type": "markdown",
     "metadata": {},
     "source": [
      "Because i is established as the index value of the current regex match produced by the iterator, we can use i as the index value for which group we'd like to return. That's why we can call result.group(i). "
     ]
    },
    {
     "cell_type": "heading",
     "level": 4,
     "metadata": {},
     "source": [
      "Summary of useful functions"
     ]
    },
    {
     "cell_type": "markdown",
     "metadata": {},
     "source": [
      "<ul>\n",
      "<li><code>re.match()</code>  : Determine if the RE matches at the beginning of the string.</li>\n",
      "<li><code>re.search()</code> : Scan through a string, looking for any location where this RE matches.</li>\n",
      "<li><code>re.findall()</code> : Find all substrings where the RE matches, and returns them as a list.</li>\n",
      "<li><code>re.finditer()</code> : Find all substrings where the RE matches, and returns them as an iterator.</li>\n",
      "</ul>"
     ]
    },
    {
     "cell_type": "heading",
     "level": 3,
     "metadata": {},
     "source": [
      "Use case examples using regular expressions"
     ]
    },
    {
     "cell_type": "heading",
     "level": 4,
     "metadata": {},
     "source": [
      "Identify files via file extensions"
     ]
    },
    {
     "cell_type": "markdown",
     "metadata": {},
     "source": [
      "<p>A regular expression to check for file extensions.  </p>"
     ]
    },
    {
     "cell_type": "code",
     "collapsed": false,
     "input": [
      "import re\n",
      "pattern = r'(?i)(\\w+)\\.(jpeg|jpg|png|gif|tif|svg)$'\n",
      "\n",
      "# remove `(?i)` to make regexpr case-sensitive\n",
      "\n",
      "str_true = ('test.gif', \n",
      "            'image.jpeg', \n",
      "            'image.jpg',\n",
      "            'image.TIF'\n",
      "            )\n",
      "\n",
      "str_false = ('test',\n",
      "             'test.pdf',\n",
      "             'test.gif.pdf',\n",
      "             )\n",
      "\n",
      "for t in str_true:\n",
      "    if (bool(re.match(pattern, t)) == True):\n",
      "        print '%s correct' %t\n",
      "for f in str_false:\n",
      "    if (bool(re.match(pattern, f)) == False):\n",
      "        print '%s invalid' %f"
     ],
     "language": "python",
     "metadata": {},
     "outputs": [
      {
       "output_type": "stream",
       "stream": "stdout",
       "text": [
        "test.gif correct\n",
        "image.jpeg correct\n",
        "image.jpg correct\n",
        "image.TIF correct\n",
        "test invalid\n",
        "test.pdf invalid\n",
        "test.gif.pdf invalid\n"
       ]
      }
     ],
     "prompt_number": 21
    },
    {
     "cell_type": "heading",
     "level": 4,
     "metadata": {},
     "source": [
      "Username validation"
     ]
    },
    {
     "cell_type": "markdown",
     "metadata": {},
     "source": [
      "<p>Checking for a valid user name that has a certain minimum and maximum length.</p>\n",
      "<p>Allowed characters:</p>\n",
      "<ul>\n",
      "<li>letters (upper- and lower-case)</li>\n",
      "<li>numbers</li>\n",
      "<li>dashes</li>\n",
      "<li>underscores</li>"
     ]
    },
    {
     "cell_type": "code",
     "collapsed": false,
     "input": [
      "min_len = 5 # minimum length for a valid username\n",
      "max_len = 15 # maximum length for a valid username\n",
      "\n",
      "pattern = r\"^(?i)[a-z0-9_-]{%s,%s}$\" %(min_len, max_len)\n",
      "\n",
      "# remove `(?i)` to only allow lower-case letters\n",
      "\n",
      "\n",
      "\n",
      "str_true = ('user123', '123_user', 'Username')\n",
      "            \n",
      "str_false = ('user', 'username1234_is-way-too-long', 'user$34354')\n",
      "\n",
      "for t in str_true:\n",
      "    if (bool(re.match(pattern, t)) == True):\n",
      "        print '%s is valid' %t\n",
      "for f in str_false:\n",
      "    if (bool(re.match(pattern, f)) == False):\n",
      "        print '%s is invalid' %f"
     ],
     "language": "python",
     "metadata": {},
     "outputs": [
      {
       "output_type": "stream",
       "stream": "stdout",
       "text": [
        "user123 is valid\n",
        "123_user is valid\n",
        "Username is valid\n",
        "user is invalid\n",
        "username1234_is-way-too-long is invalid\n",
        "user$34354 is invalid\n"
       ]
      }
     ],
     "prompt_number": 22
    },
    {
     "cell_type": "heading",
     "level": 4,
     "metadata": {},
     "source": [
      "Checking for valid email addresses"
     ]
    },
    {
     "cell_type": "markdown",
     "metadata": {},
     "source": [
      "A regular expression that captures most email addresses."
     ]
    },
    {
     "cell_type": "code",
     "collapsed": false,
     "input": [
      "# YOUR SOLUTION HERE"
     ],
     "language": "python",
     "metadata": {},
     "outputs": [],
     "prompt_number": 23
    },
    {
     "cell_type": "heading",
     "level": 4,
     "metadata": {},
     "source": [
      "Example of libraries to filter postal address"
     ]
    },
    {
     "cell_type": "code",
     "collapsed": false,
     "input": [
      "# pip install address, if needed\n",
      "from address import AddressParser, Address\n",
      "ap = AddressParser()\n",
      "address = ap.parse_address('123 West Mifflin Street, Madison, WI, 53703')\n",
      "print \"Address is: {0} {1} {2} {3}\".format(address.house_number, address.street_prefix, address.street, address.street_suffix)\n",
      "address = ap.parse_address('Madison, 123 th West Mifflin Street 53703, WI')\n",
      "print \"Address is: {0} {1} {2} {3}\".format(address.house_number, address.street_prefix, address.street, address.street_suffix)"
     ],
     "language": "python",
     "metadata": {},
     "outputs": [
      {
       "output_type": "stream",
       "stream": "stdout",
       "text": [
        "Address is: 123 W. Mifflin St.\n",
        "Address is: 123 W. Mifflin St.\n"
       ]
      }
     ],
     "prompt_number": 25
    },
    {
     "cell_type": "heading",
     "level": 4,
     "metadata": {},
     "source": [
      "Check for a valid URL"
     ]
    },
    {
     "cell_type": "markdown",
     "metadata": {},
     "source": [
      "<p>Checks for an URL if a string ...</p>\n",
      "<ul>\n",
      "<li>starts with <code>https://</code>, or <code>http://</code>, or <code>www.</code></li>\n",
      "<li>and ends with a dot extension</li>"
     ]
    },
    {
     "cell_type": "code",
     "collapsed": false,
     "input": [
      "pattern = '^((https?:\\/\\/)|www\\.)([\\da-z\\.-]+)\\.([\\/\\w \\.-]*)$'\n",
      "\n",
      "str_true = ('https://github.com', \n",
      "            'http://github.com',\n",
      "            'www.github.com',\n",
      "            'https://github.com/rasbt'\n",
      "            )\n",
      "            \n",
      "str_false = ('//testmail.com', 'http:testmailcom', )\n",
      "\n",
      "for t in str_true:\n",
      "    if (bool(re.match(pattern, t)) == True):\n",
      "        print '%s is valid' %t\n",
      "for f in str_false:\n",
      "    if (bool(re.match(pattern, f)) == False):\n",
      "        print '%s is invalid' %f"
     ],
     "language": "python",
     "metadata": {},
     "outputs": [
      {
       "output_type": "stream",
       "stream": "stdout",
       "text": [
        "https://github.com is valid\n",
        "http://github.com is valid\n",
        "www.github.com is valid\n",
        "https://github.com/rasbt is valid\n",
        "//testmail.com is invalid\n",
        "http:testmailcom is invalid\n"
       ]
      }
     ],
     "prompt_number": 26
    },
    {
     "cell_type": "heading",
     "level": 4,
     "metadata": {},
     "source": [
      "Checking for numbers"
     ]
    },
    {
     "cell_type": "heading",
     "level": 5,
     "metadata": {},
     "source": [
      "Positive integers"
     ]
    },
    {
     "cell_type": "code",
     "collapsed": false,
     "input": [
      "pattern = '^\\d+$'\n",
      "\n",
      "str_true = ('123', '1', )\n",
      "            \n",
      "str_false = ('abc', '1.1', )\n",
      "\n",
      "for t in str_true:\n",
      "    if (bool(re.match(pattern, t)) == True):\n",
      "        print '%s is positive integer' %t\n",
      "for f in str_false:\n",
      "    if (bool(re.match(pattern, f)) == False):\n",
      "        print '%s is not positive integer' %f"
     ],
     "language": "python",
     "metadata": {},
     "outputs": [
      {
       "output_type": "stream",
       "stream": "stdout",
       "text": [
        "123 is positive integer\n",
        "1 is positive integer\n",
        "abc is not positive integer\n",
        "1.1 is not positive integer\n"
       ]
      }
     ],
     "prompt_number": 27
    },
    {
     "cell_type": "heading",
     "level": 5,
     "metadata": {},
     "source": [
      "Negative integers"
     ]
    },
    {
     "cell_type": "code",
     "collapsed": false,
     "input": [
      "pattern = '^-\\d+$'\n",
      "\n",
      "str_true = ('-123', '-1', )\n",
      "            \n",
      "str_false = ('123', '-abc', '-1.1', )\n",
      "\n",
      "for t in str_true:\n",
      "    if (bool(re.match(pattern, t)) == True):\n",
      "        print '%s is negative integer' %t\n",
      "for f in str_false:\n",
      "    if (bool(re.match(pattern, f)) == False):\n",
      "        print '%s is not negative integer' %f"
     ],
     "language": "python",
     "metadata": {},
     "outputs": [
      {
       "output_type": "stream",
       "stream": "stdout",
       "text": [
        "-123 is negative integer\n",
        "-1 is negative integer\n",
        "123 is not negative integer\n",
        "-abc is not negative integer\n",
        "-1.1 is not negative integer\n"
       ]
      }
     ],
     "prompt_number": 28
    },
    {
     "cell_type": "heading",
     "level": 5,
     "metadata": {},
     "source": [
      "All integers"
     ]
    },
    {
     "cell_type": "code",
     "collapsed": false,
     "input": [
      "# YOUR SOLUTION HERE"
     ],
     "language": "python",
     "metadata": {},
     "outputs": [],
     "prompt_number": 29
    },
    {
     "cell_type": "heading",
     "level": 5,
     "metadata": {},
     "source": [
      "Positive numbers"
     ]
    },
    {
     "cell_type": "code",
     "collapsed": false,
     "input": [
      "pattern = '^\\d*\\.{0,1}\\d+$'\n",
      "\n",
      "str_true = ('1', '123', '1.234', )\n",
      "            \n",
      "str_false = ('-abc', '-123', '-123.0')\n",
      "\n",
      "for t in str_true:\n",
      "    if (bool(re.match(pattern, t)) == True):\n",
      "        print '%s is positive numbe' %t\n",
      "for f in str_false:\n",
      "    if (bool(re.match(pattern, f)) == False):\n",
      "        print '%s is not positive number' %f"
     ],
     "language": "python",
     "metadata": {},
     "outputs": [
      {
       "output_type": "stream",
       "stream": "stdout",
       "text": [
        "1 is positive numbe\n",
        "123 is positive numbe\n",
        "1.234 is positive numbe\n",
        "-abc is not positive number\n",
        "-123 is not positive number\n",
        "-123.0 is not positive number\n"
       ]
      }
     ],
     "prompt_number": 31
    },
    {
     "cell_type": "heading",
     "level": 5,
     "metadata": {},
     "source": [
      "Negative numbers"
     ]
    },
    {
     "cell_type": "code",
     "collapsed": false,
     "input": [
      "pattern = '^-\\d*\\.{0,1}\\d+$'\n",
      "\n",
      "str_true = ('-1', '-123', '-123.0', )\n",
      "            \n",
      "str_false = ('-abc', '1', '123', '1.234', )\n",
      "\n",
      "for t in str_true:\n",
      "    if (bool(re.match(pattern, t)) == True):\n",
      "        print '%s is negative number' %t\n",
      "for f in str_false:\n",
      "    if (bool(re.match(pattern, f)) == False):\n",
      "        print '%s is not negative number' %f"
     ],
     "language": "python",
     "metadata": {},
     "outputs": [
      {
       "output_type": "stream",
       "stream": "stdout",
       "text": [
        "-1 is negative number\n",
        "-123 is negative number\n",
        "-123.0 is negative number\n",
        "-abc is not negative number\n",
        "1 is not negative number\n",
        "123 is not negative number\n",
        "1.234 is not negative number\n"
       ]
      }
     ],
     "prompt_number": 32
    },
    {
     "cell_type": "heading",
     "level": 5,
     "metadata": {},
     "source": [
      "All numbers"
     ]
    },
    {
     "cell_type": "code",
     "collapsed": false,
     "input": [
      "# YOUR SOLUTION HERE"
     ],
     "language": "python",
     "metadata": {},
     "outputs": [],
     "prompt_number": 33
    },
    {
     "cell_type": "heading",
     "level": 4,
     "metadata": {},
     "source": [
      "Validating dates and time"
     ]
    },
    {
     "cell_type": "markdown",
     "metadata": {},
     "source": [
      "Validates dates in mm/dd/yyyy format. note: Some dates are not verified such as 2080 to be invalid. "
     ]
    },
    {
     "cell_type": "code",
     "collapsed": false,
     "input": [
      "pattern = '^(0[1-9]|1[0-2])\\/(0[1-9]|1\\d|2\\d|3[01])\\/(19|20)\\d{2}$'\n",
      "\n",
      "str_true = ('01/08/2014', '12/30/2014', )\n",
      "            \n",
      "str_false = ('22/08/2014', '-123', '1/8/2014', '1/08/2014', '01/8/2014')\n",
      "\n",
      "for t in str_true:\n",
      "    if (bool(re.match(pattern, t)) == True):\n",
      "        print '%s is a valid date' %t\n",
      "for f in str_false:\n",
      "    if (bool(re.match(pattern, f)) == False):\n",
      "        print '%s is not a valid date' %f"
     ],
     "language": "python",
     "metadata": {},
     "outputs": [
      {
       "output_type": "stream",
       "stream": "stdout",
       "text": [
        "01/08/2014 is a valid date\n",
        "12/30/2014 is a valid date\n",
        "22/08/2014 is not a valid date\n",
        "-123 is not a valid date\n",
        "1/8/2014 is not a valid date\n",
        "1/08/2014 is not a valid date\n",
        "01/8/2014 is not a valid date\n"
       ]
      }
     ],
     "prompt_number": 35
    },
    {
     "cell_type": "heading",
     "level": 5,
     "metadata": {},
     "source": [
      "12-Hour format"
     ]
    },
    {
     "cell_type": "markdown",
     "metadata": {},
     "source": [
      "\\s is the space character"
     ]
    },
    {
     "cell_type": "code",
     "collapsed": false,
     "input": [
      "pattern = r'^(1[012]|[1-9]):[0-5][0-9](\\s)?(?i)(am|pm)$'\n",
      "\n",
      "str_true = ('2:00pm', '7:30 AM', '12:05 am', )\n",
      "            \n",
      "str_false = ('22:00pm', '14:00', '3:12', '03:12pm', )\n",
      "\n",
      "for t in str_true:\n",
      "    if (bool(re.match(pattern, t)) == True):\n",
      "        print '%s is a valid 12-hour format' %t\n",
      "for f in str_false:\n",
      "    if (bool(re.match(pattern, f)) == False):\n",
      "        print '%s is not a valid 12-hour format' %f"
     ],
     "language": "python",
     "metadata": {},
     "outputs": [
      {
       "output_type": "stream",
       "stream": "stdout",
       "text": [
        "2:00pm is a valid 12-hour format\n",
        "7:30 AM is a valid 12-hour format\n",
        "12:05 am is a valid 12-hour format\n",
        "22:00pm is not a valid 12-hour format\n",
        "14:00 is not a valid 12-hour format\n",
        "3:12 is not a valid 12-hour format\n",
        "03:12pm is not a valid 12-hour format\n"
       ]
      }
     ],
     "prompt_number": 36
    },
    {
     "cell_type": "heading",
     "level": 5,
     "metadata": {},
     "source": [
      "24-Hour format"
     ]
    },
    {
     "cell_type": "code",
     "collapsed": false,
     "input": [
      "# YOUR SOLUTION HERE"
     ],
     "language": "python",
     "metadata": {},
     "outputs": [],
     "prompt_number": 37
    },
    {
     "cell_type": "heading",
     "level": 4,
     "metadata": {},
     "source": [
      "Checking for HTML/XML, etc. tags (a very simple approach)"
     ]
    },
    {
     "cell_type": "code",
     "collapsed": false,
     "input": [
      "pattern = r\"\"\"</?(\\w+|\\w+\\s*[\\w+=\"]*)/?>\"\"\"\n",
      "\n",
      "str_true = ('<a>', '<a href=\"somethinG\">', '</a>', '<img src>')\n",
      "            \n",
      "str_false = ('a>', '<a ', '< a >')\n",
      "\n",
      "for t in str_true:\n",
      "    if (bool(re.match(pattern, t)) == True): \n",
      "        print '%s is a valid tag text' %t\n",
      "for f in str_false:\n",
      "    if (bool(re.match(pattern, f)) == False): \n",
      "        print '%s is not a valid tag text' %f"
     ],
     "language": "python",
     "metadata": {},
     "outputs": [
      {
       "output_type": "stream",
       "stream": "stdout",
       "text": [
        "<a> is a valid tag text\n",
        "<a href=\"somethinG\"> is a valid tag text\n",
        "</a> is a valid tag text\n",
        "<img src> is a valid tag text\n",
        "a> is not a valid tag text\n",
        "<a  is not a valid tag text\n",
        "< a > is not a valid tag text\n"
       ]
      }
     ],
     "prompt_number": 39
    }
   ],
   "metadata": {}
  }
 ]
}