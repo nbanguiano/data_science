{
 "metadata": {
  "name": "",
  "signature": "sha256:5d66bee6a4a24d7222c6c58210cecb0e60318459b9ad8824171384abc3beab74"
 },
 "nbformat": 3,
 "nbformat_minor": 0,
 "worksheets": [
  {
   "cells": [
    {
     "cell_type": "code",
     "collapsed": false,
     "input": [
      "from IPython.core.display import HTML\n",
      "def css_styling():\n",
      "    styles = open(\"styles/custom.css\", \"r\").read()\n",
      "    return HTML(styles)\n",
      "css_styling()"
     ],
     "language": "python",
     "metadata": {},
     "outputs": [
      {
       "html": [
        "<style>\n",
        "    @font-face {\n",
        "        font-family: \"Computer Modern\";\n",
        "        src: url('http://9dbb143991406a7c655e-aa5fcb0a5a4ec34cff238a2d56ca4144.r56.cf5.rackcdn.com/cmunss.otf');\n",
        "    }\n",
        "    @font-face {\n",
        "        font-family: \"Computer Modern\";\n",
        "        font-weight: bold;\n",
        "        src: url('http://9dbb143991406a7c655e-aa5fcb0a5a4ec34cff238a2d56ca4144.r56.cf5.rackcdn.com/cmunsx.otf');\n",
        "    }\n",
        "    @font-face {\n",
        "        font-family: \"Computer Modern\";\n",
        "        font-style: oblique;\n",
        "        src: url('http://9dbb143991406a7c655e-aa5fcb0a5a4ec34cff238a2d56ca4144.r56.cf5.rackcdn.com/cmunsi.otf');\n",
        "    }\n",
        "    @font-face {\n",
        "        font-family: \"Computer Modern\";\n",
        "        font-weight: bold;\n",
        "        font-style: oblique;\n",
        "        src: url('http://9dbb143991406a7c655e-aa5fcb0a5a4ec34cff238a2d56ca4144.r56.cf5.rackcdn.com/cmunso.otf');\n",
        "    }\n",
        "    div.cell{\n",
        "        width:800px;\n",
        "        margin-left:16% !important;\n",
        "        margin-right:auto;\n",
        "    }\n",
        "    h1 {\n",
        "        font-family: Helvetica, serif;\n",
        "    }\n",
        "    h4{\n",
        "        margin-top:12px;\n",
        "        margin-bottom: 3px;\n",
        "       }\n",
        "    div.text_cell_render{\n",
        "        font-family: Computer Modern, \"Helvetica Neue\", Arial, Helvetica, Geneva, sans-serif;\n",
        "        line-height: 145%;\n",
        "        font-size: 130%;\n",
        "        width:800px;\n",
        "        margin-left:auto;\n",
        "        margin-right:auto;\n",
        "    }\n",
        "    .CodeMirror{\n",
        "            font-family: \"Source Code Pro\", source-code-pro,Consolas, monospace;\n",
        "    }\n",
        "    .prompt{\n",
        "        display: None;\n",
        "    }\n",
        "    .text_cell_render h5 {\n",
        "        font-weight: 300;\n",
        "        font-size: 22pt;\n",
        "        color: #4057A1;\n",
        "        font-style: italic;\n",
        "        margin-bottom: .5em;\n",
        "        margin-top: 0.5em;\n",
        "        display: block;\n",
        "    }\n",
        "    \n",
        "    .warning{\n",
        "        color: rgb( 240, 20, 20 )\n",
        "        }  \n",
        "</style>\n",
        "<script>\n",
        "    MathJax.Hub.Config({\n",
        "                        TeX: {\n",
        "                           extensions: [\"AMSmath.js\"]\n",
        "                           },\n",
        "                tex2jax: {\n",
        "                    inlineMath: [ ['$','$'], [\"\\\\(\",\"\\\\)\"] ],\n",
        "                    displayMath: [ ['$$','$$'], [\"\\\\[\",\"\\\\]\"] ]\n",
        "                },\n",
        "                displayAlign: 'center', // Change this to 'center' to center equations.\n",
        "                \"HTML-CSS\": {\n",
        "                    styles: {'.MathJax_Display': {\"margin\": 4}}\n",
        "                }\n",
        "        });\n",
        "</script>\n"
       ],
       "metadata": {},
       "output_type": "pyout",
       "prompt_number": 32,
       "text": [
        "<IPython.core.display.HTML at 0xb3e4f28>"
       ]
      }
     ],
     "prompt_number": 32
    },
    {
     "cell_type": "markdown",
     "metadata": {},
     "source": [
      "``This notebook requires matplotlib v1.4.2. Please, run 'conda update matplotlib'``"
     ]
    },
    {
     "cell_type": "markdown",
     "metadata": {},
     "source": [
      "# Statistical Inference.\n",
      "\n",
      "**Descriptive statistics** describe a sample, **inferential statistics** infer predictions about a population.\n",
      "\n",
      "**Statistical inference** deals with understanding the quality of parameter estimates of a sample.\n",
      "\n",
      "Statistical inference produces **statistical propositions** about:\n",
      "\n",
      "+ point estimates (a particular value that best approximates some parameter of interest), \n",
      "+ confidence intervals (or set estimate) or \n",
      "+ the rejection of a hypothesis.\n",
      "\n",
      "Statistical inference is based on assumptions related to a statistical model or sampling process. Correct inference requires these assumptions to be correct.\n",
      "\n",
      "In this session we will develop the **frequentist inference paradigm**. It bases the production of propositions by considering repeated sampling of a population.** P-values and confidence intervals are its most common propositions**."
     ]
    },
    {
     "cell_type": "markdown",
     "metadata": {},
     "source": [
      "<center><img src=\"files/images/lawyer2.jpg\", style=\"width: 400px;\"></center>"
     ]
    },
    {
     "cell_type": "markdown",
     "metadata": {},
     "source": [
      "### Frequentist paradigm assumptions vs Bayesian paradigm assumptions.\n",
      "\n",
      "There are two main approaches to statistical inference: Frequentist and Bayesian.\n",
      "\n",
      "Frequentist assumptions:\n",
      "\n",
      "+ Data are a repeatable random sample - there is a frequency.\n",
      "+ Underlying assumptions remain costant during this repeatable process; \n",
      "+ Parameters are fixed.\n",
      "\n",
      "Bayesian assumptions:\n",
      "\n",
      "+ Data are observed from a realized sample.\n",
      "+ Parameters are unknown and described probabilistically.\n",
      "+ Data are fixed.\n",
      "\n",
      " "
     ]
    },
    {
     "cell_type": "markdown",
     "metadata": {},
     "source": [
      "### Reminder\n",
      "\n",
      "After exploring the data and computing some descriptive statistics from the National Survey of Family Growth (NSFG) we have seem some **apparent effects** that seem to support a hypothesis: The mean pregnant lenght for first babies is larger than for other babies.\n",
      "\n",
      "But there are still **important** questions to be solved:\n",
      "\n",
      "+ What is the probability that **a result is caused by chance** (due to the sample)? \n",
      "+ Is it **statistically significant**?\n",
      "+ Is it **relevant**?"
     ]
    },
    {
     "cell_type": "code",
     "collapsed": false,
     "input": [
      "file = open('2002FemPreg.dat', 'r')\n",
      "\n",
      "\n",
      "def chr_int(a):\n",
      "    if a == '  ':\n",
      "        return 0\n",
      "    else:\n",
      "        return int(a)\n",
      "        \n",
      "preg=[]\n",
      "for line in file:\n",
      "    lst  = [int(line[:12]), int(line[274:276]), int(line[276]), \\\n",
      "                 chr_int(line[277:279]), float(line[422:440])]\n",
      "    preg.append(lst)\n",
      "    \n",
      "import pandas as pd\n",
      "df = pd.DataFrame(preg)\n",
      "df.columns = ['caseid', 'prglength', 'outcome', 'birthord', 'finalwgt']\n",
      "firstbirth = df[(df.outcome == 1) & (df.birthord == 1)]\n",
      "othersbirth = df[(df.outcome == 1) & (df.birthord >= 2)]\n",
      "\n",
      "# descriptive statistics\n",
      "muf = firstbirth['prglength'].mean()\n",
      "stdf = firstbirth['prglength'].std()\n",
      "\n",
      "print 'First babies mean:',muf, 'STD:',stdf"
     ],
     "language": "python",
     "metadata": {},
     "outputs": [
      {
       "output_type": "stream",
       "stream": "stdout",
       "text": [
        "First babies mean: 38.6009517335 STD: 2.79190141467\n"
       ]
      }
     ],
     "prompt_number": 2
    },
    {
     "cell_type": "code",
     "collapsed": false,
     "input": [
      "\n",
      "muo = othersbirth['prglength'].mean()\n",
      "stdo = othersbirth['prglength'].std()\n",
      "print 'Other babies mean:', muo, 'STD:',stdo"
     ],
     "language": "python",
     "metadata": {},
     "outputs": [
      {
       "output_type": "stream",
       "stream": "stdout",
       "text": [
        "Other babies mean: 38.5229144667 STD: 2.61585235044\n"
       ]
      }
     ],
     "prompt_number": 3
    },
    {
     "cell_type": "markdown",
     "metadata": {},
     "source": [
      "## Variability in estimates.\n",
      "\n",
      "Descriptive statistics are not equal to the *truth* but they are better as more data become available. \n",
      "\n",
      "Moreover, they vary from one sample to another. It would be useful to know how variable they are from one sample to another!"
     ]
    },
    {
     "cell_type": "markdown",
     "metadata": {},
     "source": [
      "### Point estimates\n",
      "\n",
      "Let's suppose that we want to estimate the *population mean* based on the sample. The most intuitive\n",
      "way to go about doing this is to simply take the *sample mean*. The sample mean is a **point estimate of the population mean**. If we can only choose one value to estimate the population mean, this is our best guess.\n",
      "\n",
      "We can generate point estimates of other population parameters, such as the *population median* or *population standard deviation*.\n",
      "\n",
      "Estimates generally vary from one sample to another, and this sampling variation suggests our estimate may be close, but it will not be exactly equal to the parameter.\n",
      "We can see this by plotting a running mean from our data."
     ]
    },
    {
     "cell_type": "code",
     "collapsed": false,
     "input": [
      "%matplotlib inline\n",
      "\n",
      "import matplotlib.pylab as plt\n",
      "import numpy as np\n",
      "\n",
      "running_mean = np.array([0.0] * (len(firstbirth['prglength'])+1))\n",
      "running_mean[0] = firstbirth['prglength'].values[0]\n",
      "\n",
      "i = 1\n",
      "for x in firstbirth['prglength']:\n",
      "    running_mean[i] = running_mean[i-1] + x\n",
      "    i += 1\n",
      "    \n",
      "running_mean = running_mean / np.array(range(1,len(firstbirth['prglength'])+2))\n",
      "mean = running_mean[len(firstbirth['prglength'])-1]\n",
      "print mean"
     ],
     "language": "python",
     "metadata": {},
     "outputs": [
      {
       "output_type": "stream",
       "stream": "stdout",
       "text": [
        "38.6009517335\n"
       ]
      }
     ],
     "prompt_number": 4
    },
    {
     "cell_type": "code",
     "collapsed": false,
     "input": [
      "with plt.style.context('fivethirtyeight'):\n",
      "    plt.plot(running_mean, lw=1.5, alpha=0.7)\n",
      "    plt.ylabel('Running mean')\n",
      "    plt.plot([0, len(firstbirth['prglength'])-1], [mean, mean], 'r-', lw=0.5, alpha=0.7)\n",
      "\n",
      "plt.show()"
     ],
     "language": "python",
     "metadata": {},
     "outputs": [
      {
       "metadata": {},
       "output_type": "display_data",
       "png": "[encoded data removed]",
       "text": [
        "<matplotlib.figure.Figure at 0x39dccf8>"
       ]
      }
     ],
     "prompt_number": 5
    },
    {
     "cell_type": "markdown",
     "metadata": {},
     "source": [
      "It is important to note that even after 1000 samples, the mean can substantially vary. So, if we get several samples from a population we can built the *estimate distribution*. \n",
      "\n",
      "In our case, if we consider the full dataset a population, we can built the empirical distribution of the sample mean for a given number of observations (f.e. samples with 1000 observations)."
     ]
    },
    {
     "cell_type": "code",
     "collapsed": false,
     "input": [
      "df = firstbirth['prglength']     # population\n",
      "\n",
      "N_test = 10000                   # number of different samples from the population\n",
      "elements = 1000                  # number of observations in each sample\n",
      "means = [0] * N_test             # samples' mean array\n",
      "\n",
      "for i in range(N_test):          # sample generation\n",
      "    rows = np.random.choice(df.index.values, elements)\n",
      "    sampled_df = df.ix[rows]\n",
      "    means[i]=sampled_df.mean()"
     ],
     "language": "python",
     "metadata": {},
     "outputs": [],
     "prompt_number": 6
    },
    {
     "cell_type": "code",
     "collapsed": false,
     "input": [
      "with plt.style.context('fivethirtyeight'):\n",
      "    plt.hist(means,bins=20)\n",
      "    \n",
      "plt.show()"
     ],
     "language": "python",
     "metadata": {},
     "outputs": [
      {
       "metadata": {},
       "output_type": "display_data",
       "png": "[encoded data removed]",
       "text": [
        "<matplotlib.figure.Figure at 0xb8462b0>"
       ]
      }
     ],
     "prompt_number": 7
    },
    {
     "cell_type": "markdown",
     "metadata": {},
     "source": [
      "<div class = \"alert alert-success\" style = \"border-radius:10px;border-width:3px;border-color:darkgreen;font-family:Verdana,sans-serif;font-size:16px;\">The **sampling distribution** represents the distribution of a point estimate based\n",
      "on samples of a *fixed size* from a certain population. \n",
      "\n",
      "It is useful to think of a particular\n",
      "point estimate as being drawn from such a distribution. Understanding the concept of a sampling distribution is central to understanding statistical inference.\n",
      "</div>   "
     ]
    },
    {
     "cell_type": "markdown",
     "metadata": {},
     "source": [
      "### Standard error of the mean\n",
      "\n",
      "It can be mathematically shown that given $n$ independent observations $\\{ x_i \\}_{i=1,..,n}$ from a population with a standard deviation $\\sigma_x$, the standard deviation of the sample mean $\\sigma_{\\bar{x}}$, or **standard error** is:\n",
      "\n",
      "$$ SE = \\frac{\\sigma_{x}}{\\sqrt{n}} $$\n",
      "\n",
      "This allows **to estimate the standard deviation of the sample mean** if we don't perform the simulation process (f.e. because we have no access to the population).\n",
      "\n",
      "Usually, $\\sigma_x$ is not known and it is substituted by its empirical estimate (that is sufficiently good of $n>30$ and the population distribution is not skewed)."
     ]
    },
    {
     "cell_type": "code",
     "collapsed": false,
     "input": [
      "import math\n",
      "est_sigma_mean = df.std()/math.sqrt(elements)\n",
      "print 'Direct estimation of the standard error:        ', est_sigma_mean\n",
      "print 'Estimation of the standard error by simulation: ', np.array(means).std()"
     ],
     "language": "python",
     "metadata": {},
     "outputs": [
      {
       "output_type": "stream",
       "stream": "stdout",
       "text": [
        "Direct estimation of the standard error:         0.08828767473\n",
        "Estimation of the standard error by simulation:  0.0876514916427\n"
       ]
      }
     ],
     "prompt_number": 8
    },
    {
     "cell_type": "markdown",
     "metadata": {},
     "source": [
      "We could also quantify the standard deviation of other estimates: median, standard deviation, etc. "
     ]
    },
    {
     "cell_type": "markdown",
     "metadata": {},
     "source": [
      "## Confidence intervals.\n",
      "\n"
     ]
    },
    {
     "cell_type": "markdown",
     "metadata": {},
     "source": [
      "A point estimate provides a *single plausible value for a parameter*. However, a point\n",
      "estimate is rarely perfect; usually there is some error in the estimate. \n",
      "\n",
      "Instead of supplying\n",
      "just a point estimate of a parameter, a next logical step would be to provide *a plausible\n",
      "range of values* for the parameter.\n",
      "\n",
      "A plausible range of values for the population parameter is called a **confidence interval**.\n",
      "\n",
      "Our point estimate is the most plausible value of the parameter, so it makes sense to build\n",
      "the confidence interval around the point estimate."
     ]
    },
    {
     "cell_type": "markdown",
     "metadata": {},
     "source": [
      "If a point estimate distribution is normal, its standard error SE represents the standard deviation associated with the estimate, and we know that roughly 95% of the time the estimate will be within 2 standard errors of the parameter.\n",
      "\n",
      "If the interval spreads out 2 standard errors from a normally distributed point estimate, intuitively we can say that we are **roughly 95% confident that we have captured the true parameter** (*this is not formally true, see later*).\n",
      "\n",
      "$$ CI = [\\mbox{point estimate} - 2 \\times SE, \\mbox{point estimate} + 2 \\times SE] $$\n",
      "\n",
      "**But what does \u201c95% confident\u201d mean?**"
     ]
    },
    {
     "cell_type": "markdown",
     "metadata": {},
     "source": [
      "<div class = \"alert alert-success\" style = \"border-radius:10px;border-width:3px;border-color:darkgreen;font-family:Verdana,sans-serif;font-size:16px;\">\n",
      "Suppose we took many (infinite) samples and built a confidence\n",
      "interval from each sample. Then about 95% of those intervals\n",
      "would contain the actual parameter.\n",
      "</div>   "
     ]
    },
    {
     "cell_type": "code",
     "collapsed": false,
     "input": [
      "df = firstbirth['prglength']\n",
      "\n",
      "n = 1000                                              # number of observations\n",
      "N_test = 100                                          # number of samples with n observations\n",
      "means = np.array([0.0] * N_test)                      # samples' mean\n",
      "s = np.array([0.0] * N_test)                          # samples' std\n",
      "ci = np.array([[0.0,0.0]] * N_test)\n",
      "tm = df.mean()                                        # \"true\" mean\n",
      "\n",
      "for i in range(N_test):                               # sample generation and CI computation\n",
      "    rows = np.random.choice(df.index.values, n)\n",
      "    sampled_df = df.ix[rows]\n",
      "    means[i]=sampled_df.mean()\n",
      "    s[i]=sampled_df.std()\n",
      "    ci[i] = means[i] + np.array([-s[i]*2/np.sqrt(n), s[i]*2/np.sqrt(n)])    \n",
      "\n",
      "out1 = ci[:,0] > tm                                   # CI that do not contain the \"true\" mean\n",
      "out2 = ci[:,1] < tm\n",
      "\n",
      "with plt.style.context('fivethirtyeight'):            # plot of the CI distribution      \n",
      "    fig, ax = plt.subplots(1, 1, figsize=(13, 5))\n",
      "    ind = np.arange(1, N_test+1)\n",
      "    ax.axhline(y=tm, xmin=0, xmax=N_test+1, color=[0, 0, 0])\n",
      "    ci = np.transpose(ci)\n",
      "    ax.plot([ind,ind], ci, color='0.75', marker='_', ms=0, linewidth=3)\n",
      "    ax.plot([ind[out1], ind[out1]], ci[:, out1], color=[1, 0, 0, 0.8], marker='_', ms=0, linewidth=3)\n",
      "    ax.plot([ind[out2], ind[out2]], ci[:, out2], color=[1, 0, 0, 0.8], marker='_', ms=0, linewidth=3)\n",
      "    ax.plot(ind, means, color=[0, .8, .2, .8], marker='.', ms=10, linestyle='')\n",
      "    ax.set_title(\"Confidence interval for the samples' mean estimate of a population\",\n",
      "             fontsize=18)\n",
      "    ax.set_xlabel('Sample (with %d observations). '  %n, fontsize=12)\n",
      "plt.show()"
     ],
     "language": "python",
     "metadata": {},
     "outputs": [
      {
       "metadata": {},
       "output_type": "display_data",
       "png": "[encoded data removed]",
       "text": [
        "<matplotlib.figure.Figure at 0x9ef1f98>"
       ]
      }
     ],
     "prompt_number": 9
    },
    {
     "cell_type": "markdown",
     "metadata": {},
     "source": [
      "There is an important result from probability theory that can be directly applied to our problem: the Central Limit Theorem. "
     ]
    },
    {
     "cell_type": "markdown",
     "metadata": {},
     "source": [
      "<div class = \"alert alert-success\" style = \"border-radius:10px;border-width:3px;border-color:darkgreen;font-family:Verdana,sans-serif;font-size:16px;\"> <b> Central Limit Theorem </b> <br>\n",
      "If a sample consists of at least 30 independent observations and the data are not\n",
      "strongly skewed, then the distribution of the sample mean is well approximated by\n",
      "a normal model.\n",
      "</div>   \n",
      "\n",
      "The choice of using 2 standard errors  was based on the general\n",
      "guideline that roughly 95% of the time, observations are within two standard deviations\n",
      "of the mean. Under the normal model, we can make this more accurate by using **1.96** in\n",
      "place of 2.\n",
      "\n",
      "$$ \\mbox{point estimate} \\pm 1.96 \\times SE_x $$"
     ]
    },
    {
     "cell_type": "markdown",
     "metadata": {},
     "source": [
      "Suppose we want to consider confidence intervals where the confidence level is somewhat\n",
      "higher than 95%: perhaps we would like a confidence level of 99%.\n",
      "    \n",
      "To create a 99% confidence interval, change 1.96 in the 95% confidence interval formula\n",
      "to be 2.58 (it can be shown that 99% of the time a normal random variable will\n",
      "be within 2.58 standard deviations of the mean).\n",
      "\n",
      "In general, if the point estimate follows the normal model with standard error SE, then a\n",
      "confidence interval for the population parameter is \n",
      "\n",
      "$$ \\mbox{point estimate} \\pm z \\times SE_x $$\n",
      "\n",
      "where $z$ corresponds to the confidence level selected:\n",
      "\n",
      "| Confidence Level  | z Value  | \n",
      "|---|---|\n",
      "|  90% | 1.65 |\n",
      "|  95% | 1.96 |\n",
      "|  99% | 2.58 |\n",
      "|  99,9% | 3.291 |"
     ]
    },
    {
     "cell_type": "markdown",
     "metadata": {},
     "source": [
      "### Interpreting confidence intervals\n",
      "\n",
      "The correct interpretation of a confidence interval is:\n",
      "\n",
      "> In 95% of the cases, when I compute the confidence interval from a sample, the true mean of the population will fall within $\\pm 1.96 \\times SE_x$.\n",
      "\n",
      "**We cannot say neither that our specific sample contains the true parameter nor that the interval has  a 95% chance of containing the true parameter** (parameters are fixed and cannot be the object of a probabilistic statement).\n",
      "\n",
      "From a logical point of view, given a sample, a point estimate and its CI we can only state that \"*the CI contains the true parameter, or not\"*. We can also say that if we have access to the population, 95% of the computed CI from samples of $n$ observations will contain the true parameter. \n",
      "\n",
      "\n",
      "*Observation: This is not very interesting to say anything about the pregnant lenght of first babies! We have no access to the population and this is the only data we have.*"
     ]
    },
    {
     "cell_type": "markdown",
     "metadata": {},
     "source": [
      "## Hypothesis testing\n",
      "\n",
      "Our question is: **Were the observed effects related to the birth of first babies real or not?** \n",
      "\n",
      "Technically,  the question is usually translated to: ** Were the observed effects statistically significant**? \n",
      "\n",
      "The process of determining the ** statistical significance** of an effect is called **hypothesis testing**.\n",
      "\n",
      "This process starts by simplifying the options into two competing hypotheses:\n",
      "\n",
      "+ $H_0$: The mean pregnant lenght for first babies and for other babies is the same (there is only one population, one true mean, and ``first babies`` and ``other babies`` are just different samples from the same population).\n",
      "+ $H_A$: The mean pregnant lenght for ``first babies`` and for ``other babies`` is different (``first babies`` and ``other babies`` are two samples from two different populations).\n",
      "\n",
      "We call $H_0$ the **null hypothesis** and it represents a *skeptical* point of view: the effect we have observed is due to chance (due to the specific sample bias). \n",
      "\n",
      "$H_A$ is the **alternative hypothesis** and it represents the other point of view: the effect is real."
     ]
    },
    {
     "cell_type": "markdown",
     "metadata": {},
     "source": [
      "<div class = \"alert alert-success\" style = \"border-radius:10px;border-width:3px;border-color:darkgreen;font-family:Verdana,sans-serif;font-size:16px;\"> <b> Hypothesis Testing </b> <br>\n",
      "The general rule of frequentist hypothesis testing is: We will not *accept* $H_A$ unless the observed effect is **implausible** under $H_0$.\n",
      "</div>   "
     ]
    },
    {
     "cell_type": "markdown",
     "metadata": {},
     "source": [
      "### Testing hypotheses using confidence intervals.\n",
      "\n",
      "We can use the concept represented by *confidence intervals* to measure the **plausibility** of a hypothesis.\n",
      "\n",
      "We can start the evaluation of the hypotheses setup by comparing first babies and other babies pregnant lenght using a *point estimate from the first babies sample*: $ \\bar{x}_{fb} = 38.6$. \n",
      "\n",
      "This estimate suggests the average lenght is actually longer. However, to evaluate\n",
      "whether this provides strong evidence that there is a difference, we must consider the\n",
      "uncertainty associated with $ \\bar{x}_{fb}$ (The difference between\n",
      "$\\bar{x}_{fb}$ and $ \\bar{x}_{ob}$ could be due to sampling variation)."
     ]
    },
    {
     "cell_type": "markdown",
     "metadata": {},
     "source": [
      "Based on our sample, the 95% confidence interval for the mean pregnant lenght for first babies can be calculated as:"
     ]
    },
    {
     "cell_type": "code",
     "collapsed": false,
     "input": [
      "df = firstbirth['prglength']\n",
      "n = len(df)\n",
      "mean=df.mean()\n",
      "s=df.std()\n",
      "ci = [mean - s*1.96/np.sqrt(n),  mean + s*1.96/np.sqrt(n)] \n",
      "print 'Mean:', mean, '| CI of the mean:',ci"
     ],
     "language": "python",
     "metadata": {},
     "outputs": [
      {
       "output_type": "stream",
       "stream": "stdout",
       "text": [
        "Mean: 38.6009517335 | CI of the mean: [38.51857791730805, 38.683325549721175]\n"
       ]
      }
     ],
     "prompt_number": 11
    },
    {
     "cell_type": "markdown",
     "metadata": {},
     "source": [
      "Because the other babies' mean, 38.52, falls in the range of plausible values, we cannot say the null hypothesis is **implausible**. \n",
      "\n",
      "That is, **we failed to reject the null hypothesis, $H_0$**."
     ]
    },
    {
     "cell_type": "markdown",
     "metadata": {},
     "source": [
      "#### Exercise\n",
      "\n",
      "Implement the evaluation of the hypothesis setup by comparing first babies and other babies pregnant lenght using a 99% confidence interval. Can we reject the null hypothesis, $H_0$? How do you interpret this result?"
     ]
    },
    {
     "cell_type": "code",
     "collapsed": false,
     "input": [
      "df = firstbirth['prglength']\n",
      "n = len(df)\n",
      "mean=df.mean()\n",
      "s=df.std()\n",
      "ci = [mean - s*2.58/np.sqrt(n),  mean + s*2.58/np.sqrt(n)] \n",
      "print 'Mean:', mean, '| CI of the mean:',ci"
     ],
     "language": "python",
     "metadata": {},
     "outputs": [
      {
       "output_type": "stream",
       "stream": "stdout",
       "text": [
        "Mean: 38.6009517335 | CI of the mean: [38.492520893814138, 38.709382573215088]\n"
       ]
      }
     ],
     "prompt_number": 12
    },
    {
     "cell_type": "markdown",
     "metadata": {},
     "source": [
      "#### Interpreting CI tests.\n",
      "\n",
      "**Hypothesis tests are not flawless**. We can make a wrong decision in statistical hypothesis tests. \n",
      "\n",
      "Hypothesis testing is built around rejecting or failing to reject the null hypothesis.\n",
      "That is, we do not reject $H_0$ unless we have strong evidence. But what precisely does strong\n",
      "evidence mean? As a general rule of thumb, for those cases where the null hypothesis is\n",
      "actually true, we do not want to incorrectly reject $H_0$ more than 5% of the time. This\n",
      "corresponds to a **significance level** of $\\alpha =0.05$.\n",
      "\n",
      "> If we use a 95% confidence interval to test a hypothesis where the null hypothesis is\n",
      "true, we will make an error whenever the point estimate is at least 1.96 standard errors\n",
      "away from the population parameter. This happens about 5% of the time (2.5% in each\n",
      "tail)."
     ]
    },
    {
     "cell_type": "markdown",
     "metadata": {},
     "source": [
      "### Testing hypotheses using P-values.\n",
      "\n",
      "The modern notion of **statistical significance** was developed by R.A.Fisher in the 1920's when looking for a test to decide whether variation in crop yields were due to some specific intervention or merely randon fectors beyond experimental control.\n",
      "\n",
      "Fisher first assumed that fertilizer caused no difference (**null hypothesis**) and then calculated $P$ the probability that an observed yield in a fertilized field would occur if fertilizer had no real effect. This probability is called **p-value**."
     ]
    },
    {
     "cell_type": "markdown",
     "metadata": {},
     "source": [
      "<div class = \"alert alert-success\" style = \"border-radius:10px;border-width:3px;border-color:darkgreen;font-family:Verdana,sans-serif;font-size:16px;\"> <b> P-value </b> <br>\n",
      "The p-value is the probability of observing data at least as favorable to the alternative\n",
      "hypothesis as our current data set, if the null hypothesis is true. We\n",
      "typically use a summary statistic of the data, f.e. the sample mean, to\n",
      "help compute the p-value and evaluate the hypotheses.\n",
      "</div>   \n",
      "\n",
      "Usually, if $P$ is less than 0.05 (the chance of a fluke is less than 5%) the result should be declared **statistically significant**. \n",
      "\n",
      "It must be pointed out that this choice is rather arbitrary and should not be taken as a scientific truth."
     ]
    },
    {
     "cell_type": "markdown",
     "metadata": {},
     "source": [
      "\n",
      "<div class = \"alert alert-success\" style = \"border-radius:10px;border-width:3px;border-color:darkgreen;font-family:Verdana,sans-serif;font-size:16px;\"> <b> www.nature.com, February 13th, 2014 </b> <br>\n",
      "*For a brief moment in 2010, Matt Motyl was on the brink of scientific glory: \n",
      "he had discovered that extremists quite literally see the world in black \n",
      "and white.*\n",
      "\n",
      "*The results were \u201cplain as day\u201d, recalls Motyl, a psychology PhD student at \n",
      "the University of Virginia in Charlottesville. Data from a study of nearly 2,000 \n",
      "people seemed to show that political moderates saw shades of grey more accurately \n",
      "than did either left-wing or right-wing extremists. \u201cThe hypothesis was sexy,\u201d \n",
      "he says, \u201cand the data provided clear support.\u201d The $P$ value, a common index \n",
      "for the strength of evidence, was 0.01 \u2014 usually interpreted as 'very significant'. \n",
      "Publication in a high-impact journal seemed within Motyl's grasp. But...*\n",
      "</div>"
     ]
    },
    {
     "cell_type": "markdown",
     "metadata": {},
     "source": [
      "The goal of classical hypothesis testing is to answer the question, \u201c*Given a sample and an apparent effect, what is the probability of seeing such an effect by chance?*\u201d. Here\u2019s how we answer that question:\n",
      "\n",
      "+ The first step is to quantify the size of the apparent effect by choosing a test statistic. In the NSFG example, the apparent effect is a difference in pregnancy length between first babies and others, so a natural choice for the test statistic is the **difference in means between the two groups**.\n",
      "\n",
      "+ The second step is to define a **null hypothesis**, which is a model of the system based on the assumption that the apparent effect is not real. In the NSFG example the null hypothesis is that there is no difference between first babies and others; that is, that pregnancy lengths for both groups have the same distribution.\n",
      "\n",
      "+ The third step is to compute a **p-value**, which is the probability of seeing the apparent effect if the null hypothesis is true. In the NSFG example, we would compute the absolute difference in means, then compute the probability of seeing a difference as big, or bigger, under the null hypothesis.\n",
      "\n",
      "+ The last step is to **interpret the result**. If the p-value is low, the effect is said to be **statistically significant**, which means that it is unlikely to have occurred by chance. In that case we infer that the effect is more likely to appear in the larger population."
     ]
    },
    {
     "cell_type": "markdown",
     "metadata": {},
     "source": [
      "<div class=\"alert alert-info\">A $P$ value is the probability of an observed (or more extreme) result arising only from chance. </div>\n",
      "\n",
      "If $P$ is less than 0.05 there are two possible conclusions: There is a real effect or the result is an improvable fluke. **Fisher's method offers no way to know which is which**. \n",
      "\n",
      "We must not confuse the odds of getting a result (if a hypothesis is true) with the odds of favoring the hypothesis if you observe that result. If $P$ is less than 0.05 we cannot say that this means that it is 95% certain that the observed effect is real and could not have arisen by chance.** $P(E|H)$ and $P(H|E)$ are not the same!** \n",
      "\n",
      "Another common error equates **statistical significance** to **practical importance/relevance**. When working with large datasets, we can detect statistical significance for small effects that are meaningless in practical terms. "
     ]
    },
    {
     "cell_type": "markdown",
     "metadata": {},
     "source": [
      "### Exercise\n",
      "\n",
      "Suppose we toss a coin 250 times and see 140 heads and 110 tails. Based on this result, we might suspect that the coin is biased; that is, more likely to land heads. Compute the p-value of this hypothesis by simulating samples of 250 tossings."
     ]
    },
    {
     "cell_type": "code",
     "collapsed": false,
     "input": [
      "# Your solution here\n",
      "N = 10\n",
      "tosses = 250\n",
      "diff = 30\n",
      "\n",
      "for i in range(0,N):\n",
      "    pass"
     ],
     "language": "python",
     "metadata": {},
     "outputs": [],
     "prompt_number": 151
    },
    {
     "cell_type": "markdown",
     "metadata": {},
     "source": [
      "### Testing a difference in means.\n",
      "\n",
      "We saw that the mean pregnancy lenght for first babies is slighly longer. Let's see if it is significant.\n",
      "\n",
      "+ The null hypothesis is that the mean of the two groups is the same and the observed difference is due to chance. \n",
      "\n",
      "+ To compute the p-values we can pool the distribution of all live births, generate random samples that are the same size as the observed samples, and compute the difference in means under the null hypothesis.\n",
      "\n",
      "+ If we generate a large number of samples, we can count how often the difference in means (due to chance) is as big or bigger than the difference we actually observed. This fraction is the p-value."
     ]
    },
    {
     "cell_type": "markdown",
     "metadata": {},
     "source": [
      "For pregnancy length, we have the following data: "
     ]
    },
    {
     "cell_type": "code",
     "collapsed": false,
     "input": [
      "m= len(firstbirth['prglength'])\n",
      "n= len(othersbirth['prglength'])\n",
      "p = abs(firstbirth['prglength'].mean() - othersbirth['prglength'].mean())\n",
      "print 'm:',m, 'n:', n\n",
      "print 'mean difference in weeks: ', p"
     ],
     "language": "python",
     "metadata": {},
     "outputs": [
      {
       "output_type": "stream",
       "stream": "stdout",
       "text": [
        "m: 4413 n: 4735\n",
        "mean difference in weeks:  0.0780372667775\n"
       ]
      }
     ],
     "prompt_number": 14
    },
    {
     "cell_type": "markdown",
     "metadata": {},
     "source": [
      "To approximate the p-value, we can pool the distributions, generate samples with size $m$ and $n$ and compute the difference in the mean."
     ]
    },
    {
     "cell_type": "code",
     "collapsed": false,
     "input": [
      "x = firstbirth['prglength']\n",
      "y = othersbirth['prglength']\n",
      "pool = np.concatenate([x,y])\n",
      "np.random.shuffle(pool)\n",
      "\n",
      "with plt.style.context('fivethirtyeight'):    # plotting the pooled distribution\n",
      "    plt.hist(pool, bins=40, normed=True)"
     ],
     "language": "python",
     "metadata": {},
     "outputs": [
      {
       "metadata": {},
       "output_type": "display_data",
       "png": "[encoded data removed]",
       "text": [
        "<matplotlib.figure.Figure at 0xb9b6128>"
       ]
      }
     ],
     "prompt_number": 15
    },
    {
     "cell_type": "code",
     "collapsed": false,
     "input": [
      "N = 1000                                            # number of samples\n",
      "diff = range(N)\n",
      "for i in range(N):\n",
      "    p1 = [np.random.choice(pool) for _ in xrange(m)]\n",
      "    p2 = [np.random.choice(pool) for _ in xrange(n)]\n",
      "    diff[i] = abs(np.mean(p1)-np.mean(p2))\n",
      "\n",
      "with plt.style.context('fivethirtyeight'):          # plotting difference values \n",
      "    plt.hist(diff, bins=50, normed=True)"
     ],
     "language": "python",
     "metadata": {},
     "outputs": [
      {
       "metadata": {},
       "output_type": "display_data",
       "png": "[encoded data removed]",
       "text": [
        "<matplotlib.figure.Figure at 0xbf2c2e8>"
       ]
      }
     ],
     "prompt_number": 17
    },
    {
     "cell_type": "code",
     "collapsed": false,
     "input": [
      "diff2 = np.array(diff)\n",
      "w1 = np.where(diff2 > p)[0]      # counting how many differences are larger than the observed one\n",
      "len(w1)"
     ],
     "language": "python",
     "metadata": {},
     "outputs": [
      {
       "metadata": {},
       "output_type": "pyout",
       "prompt_number": 19,
       "text": [
        "156"
       ]
      }
     ],
     "prompt_number": 19
    },
    {
     "cell_type": "markdown",
     "metadata": {},
     "source": [
      "If there are $k$ sample pairs where the difference in mean is as big as or bigger than 0.07, the p-value is approximately $k/N$. "
     ]
    },
    {
     "cell_type": "code",
     "collapsed": false,
     "input": [
      "print 'p-value (Simulation)=', len(w1)/float(N), '(', len(w1)/float(N)*100 ,'%)', 'Difference =', p\n",
      "if len(w1)/float(N)<0.05:\n",
      "    print 'The effect is likely'\n",
      "else:\n",
      "    print 'The effect is not likely'\n",
      "\n",
      "    \n",
      "# using python functions\n",
      "\n",
      "from scipy.stats import ttest_ind\n",
      "print\n",
      "print 'P-value original data (Python function):', \\\n",
      "      ttest_ind(firstbirth['prglength'], othersbirth['prglength'])[1]"
     ],
     "language": "python",
     "metadata": {},
     "outputs": [
      {
       "output_type": "stream",
       "stream": "stdout",
       "text": [
        "p-value (Simulation)= 0.156 ( 15.6 %) Difference = 0.0780372667775\n",
        "The effect is not likely\n",
        "\n"
       ]
      },
      {
       "output_type": "stream",
       "stream": "stdout",
       "text": [
        "P-value original data (Python function): "
       ]
      },
      {
       "output_type": "stream",
       "stream": "stdout",
       "text": [
        "0.167554126394\n"
       ]
      }
     ],
     "prompt_number": 20
    },
    {
     "cell_type": "markdown",
     "metadata": {},
     "source": [
      "The most common approach to hypothesis testing is to choose a threshold value for deciding is the effect is likely or not. A common choice is 5% (p-value $< 0.05$). \n",
      "\n",
      "So, the effect is not likely!"
     ]
    },
    {
     "cell_type": "markdown",
     "metadata": {},
     "source": [
      "### Exercise\n",
      "\n",
      "Compute the p-value for the dataset free of outlier values. What is your opinion about this result? Is this effect **relevant**?"
     ]
    },
    {
     "cell_type": "code",
     "collapsed": false,
     "input": [
      "# Your solution here"
     ],
     "language": "python",
     "metadata": {},
     "outputs": [],
     "prompt_number": 23
    },
    {
     "cell_type": "markdown",
     "metadata": {},
     "source": [
      "#### One-sided and two-sided tests.\n",
      "\n",
      "We have defined the effect as *a difference in mean (positive or negative) as big or bigger than $\\delta$*, ignoring the sign. A test like this is called **two-sided**. \n",
      "\n",
      "But the choice of 5% is arbitrary, and the p-value depends on the choice of the test statistics and the model of the null hypothesis. So p-values should not be considered precise measurements.\n",
      "\n",
      "p-values can be interpreted according to their order of magnitude: if the p-value is less than 1%, the effect is unlikely to be due to chance; if it is greater than 10%, the effect can plausibly be explained by chance. P-values between 1% and 10% should be considered borderline.\n",
      "\n",
      "If the relevant question is whether **pregnancy lengths are different for first babies**, then it makes sense to test the absolute difference in means, but if the hypothesis is that **first babies are likely to be late** we would not take the absolute value of the difference. This kind of test is called one-sided because it only counts one side of the distribution of differences. \n",
      "\n",
      "To convert a two-sided test to one-sided text you can multiply the p-value by two and that's it! "
     ]
    },
    {
     "cell_type": "markdown",
     "metadata": {},
     "source": [
      "### Confidence intervals of the difference in two means.\n",
      "\n",
      "The formula for the standard error of the difference in two means is similar to the formula\n",
      "for other standard errors. Recall that the standard error of a single mean can be\n",
      "approximated by: \n",
      "\n",
      "$$ SE_{\\bar{x}_1} = \\frac{\\sigma_1}{\\sqrt{n_1}} $$\n",
      "\n",
      "The standard error of the difference of two sample means can be constructed from the\n",
      "standard errors of the separate sample means:\n",
      "\n",
      "$$ SE_{\\bar{x}_1 - \\bar{x}_2 } = \\sqrt{\\frac{\\sigma_1^2}{n_1} + \\frac{\\sigma_2^2}{n_2}} $$\n",
      "\n",
      "This would allow to define a test with the 95% confidence interval."
     ]
    },
    {
     "cell_type": "markdown",
     "metadata": {},
     "source": [
      "### Exercise\n",
      "\n",
      "Using the birth dataset:\n",
      "\n",
      "+ Define $H_0$ and $H_1$.\n",
      "+ Compute the CI of the difference of means for original and clean data.\n",
      "+ What is your conclusion?"
     ]
    },
    {
     "cell_type": "code",
     "collapsed": false,
     "input": [
      "# Your solution here"
     ],
     "language": "python",
     "metadata": {},
     "outputs": [],
     "prompt_number": 25
    },
    {
     "cell_type": "markdown",
     "metadata": {},
     "source": [
      "### Testing proportions\n",
      "\n",
      "When we computed relative risk, we saw that first babies are more likely to\n",
      "be early, less likely to be on time, and more likely to be late.\n",
      "\n",
      "So maybe the distributions have the same mean and different variance. We\n",
      "could test the significance of the difference in variance, but variances are less\n",
      "robust than means, and hypothesis tests for variance often behave badly.\n",
      "\n",
      "An alternative is to test a hypothesis that more directly reflects the effect as\n",
      "it appears; that is, **the hypothesis that first babies are more likely to be early,\n",
      "less likely to be on time, and more likely to be late**."
     ]
    },
    {
     "cell_type": "markdown",
     "metadata": {},
     "source": [
      "We proceed in five easy steps:\n",
      "\n",
      "+ We define a set of categories, called cells, that each baby might fall\n",
      "into. In this example, there are six cells because there are two groups\n",
      "(first babies and others) and three bins (early, on time or late).\n",
      "(We can use the following definitions: a baby is early if it is born\n",
      "during Week 37 or earlier, on time if it is born during Week 38, 39 or\n",
      "40, and late if it is born duringWeek 41 or later.)\n",
      "\n",
      "+ We compute the number of babies we expect in each cell. Under the\n",
      "null hypothesis, we assume that the distributions are the same for the\n",
      "two groups, so we can compute the pooled probabilities: $P(early)$,\n",
      "$P(ontime)$ and $P(late)$. For first babies, we have $n$ = 4413 samples, \n",
      "so under the null hypothesis\n",
      "we expect $n \\times P(early)$ first babies to be early, $n \\times  P(ontime)$ to be\n",
      "on time, etc. Likewise, we have $m$ = 4735 other babies, so we expect\n",
      "$m \\times  P(early)$ other babies to be early, etc.\n",
      "\n",
      "+ For each cell we compute the deviation; that is, the difference between the observed value, \n",
      "$O_i$, and the expected value, $E_i$.\n",
      "\n",
      "+ We compute some measure of the **total deviation**; this quantity is called the test statistic. The most common choice is the **chi-square statistic**:\n",
      "\n",
      "$$ \\chi^2 = \\sum_i \\frac{(O_i - E_i)^2}{E_i} $$\n",
      "\n",
      "+ We can use simulation to compute the p-value, which is\n",
      "the probability of seeing a chi-square statistic as high as the observed\n",
      "value under the null hypothesis.\n",
      "\n",
      "When the chi-square statistic is used, this process is called a **chi-square test**.\n",
      "One feature of the chi-square test is that the distribution of the test statistic\n",
      "can be computed analytically."
     ]
    },
    {
     "cell_type": "code",
     "collapsed": false,
     "input": [
      "from scipy.stats import chisquare\n",
      "a = chisquare([16, 18, 16, 14, 12, 12], [16, 16, 16, 16, 16, 16])\n",
      "print 'Chi-squared test statistic:', a[0], 'P-value of the test', a[1]"
     ],
     "language": "python",
     "metadata": {},
     "outputs": [
      {
       "output_type": "stream",
       "stream": "stdout",
       "text": [
        "Chi-squared test statistic: 2.5 P-value of the test 0.776495071123\n"
       ]
      }
     ],
     "prompt_number": 59
    },
    {
     "cell_type": "markdown",
     "metadata": {},
     "source": [
      "### Exercise\n",
      "\n",
      "Using the data from the NSFG, compute the Chi-squared test statistic and its p-value. "
     ]
    },
    {
     "cell_type": "code",
     "collapsed": false,
     "input": [
      "# Your solution here"
     ],
     "language": "python",
     "metadata": {},
     "outputs": [],
     "prompt_number": 60
    },
    {
     "cell_type": "markdown",
     "metadata": {},
     "source": [
      "### Frequentist general inference: Conclusions.\n",
      "\n",
      "+ Point estimates are useful to build hypotheses.\n",
      "+ We can measure the variability of PE with SE or 95% confidence intervals.\n",
      "+ We produce a proposition by computing $P(E|H_0)$ (by setting $\\alpha$ in advance):\n",
      "    + Accept $H_1$ if $P(E|H_0) < \\alpha$.\n",
      "    + Accept $H_0$ if $P(E|H_0) \\geq \\alpha$."
     ]
    },
    {
     "cell_type": "markdown",
     "metadata": {},
     "source": [
      "### But, is the effect $E$ real?\n",
      "\n",
      "We have yet no answer for this question! We have defined a null hypothesis $H_0$ (the effect is not real), which is $P(E | H_0)$, where $E$ is an effect as big as or bigger than the aparent effect and a p-value. \n",
      "\n",
      "We have stated that under the frequentist point of view, we cannot accept $H_A$ unless $P(E | H_0)$ is less than an arbitrary value. But, what about $P(E | H_A)$? What happens if $P(E | H_A) > P(E | H_0)$?\n",
      "\n",
      "One possible solution to these problems is to use **Bayesian reasoning**, an alternative to the frequentist apporach."
     ]
    },
    {
     "cell_type": "markdown",
     "metadata": {},
     "source": [
      "<div class = \"alert alert-success\" style = \"border-radius:10px;border-width:3px;border-color:darkgreen;font-family:Verdana,sans-serif;font-size:16px;\"> **Big Data accelerates medical research? Or not?**  KDNuggets, 2014. <br>\n",
      "\n",
      "A recent study looked at over 4 dozen health claims that researchers arrived at by examining existing data for possible associations - not by conducting controlled experiments.  These 4 dozen claims all had one thing in common - they were tested later by controlled experiments.  Astonishingly, not one of the claims held up in the controlled experiment. <br>\n",
      "\n",
      "Various reasons have been posited for the parlous state of scientific and medical research, including **fraud and outright error**, but a key issue is what statisticians call the \"**multiple comparisons problem**.\"  Even in completely randomly-generated data, interesting patterns appear.  If the data are big enough and the search exhaustive enough, the patterns can be very compelling. <br>\n",
      "The moral?  Rapid growth in the digitization and availability of patient data and health data in general holds great potential for medical research and personalized medicine.  However, appropriate statistical methodology and sound study design are needed to unlock this potential, and guard against error. \n",
      "</div>"
     ]
    },
    {
     "cell_type": "markdown",
     "metadata": {},
     "source": [
      "No matter how much data you have, you will still depend on intuition to decide how to interpret, explain and use the data.\n",
      "\n",
      "Data can\u2019t say anything. Data scientists are interpreters, offering one interpretation of what the useful narrative story derived from the data is (if there is one at all).\n",
      "\n",
      "Cognitive Bias (f.e. confirmation bias, narrative bias) pollutes our view of data. \n",
      "\n"
     ]
    }
   ],
   "metadata": {}
  }
 ]
}