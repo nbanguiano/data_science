{
 "metadata": {
  "name": "",
  "signature": "sha256:f0834ec65c2e6e40f1fe3c6a4a7890e1edb76e6ce5efea32d7b25639a5ae03cc"
 },
 "nbformat": 3,
 "nbformat_minor": 0,
 "worksheets": [
  {
   "cells": [
    {
     "cell_type": "code",
     "collapsed": false,
     "input": [
      "from IPython.core.display import HTML\n",
      "def css_styling():\n",
      "    styles = open(\"styles/custom.css\", \"r\").read()\n",
      "    return HTML(styles)\n",
      "css_styling()"
     ],
     "language": "python",
     "metadata": {},
     "outputs": [
      {
       "html": [
        "<style>\n",
        "    @font-face {\n",
        "        font-family: \"Computer Modern\";\n",
        "        src: url('http://9dbb143991406a7c655e-aa5fcb0a5a4ec34cff238a2d56ca4144.r56.cf5.rackcdn.com/cmunss.otf');\n",
        "    }\n",
        "    @font-face {\n",
        "        font-family: \"Computer Modern\";\n",
        "        font-weight: bold;\n",
        "        src: url('http://9dbb143991406a7c655e-aa5fcb0a5a4ec34cff238a2d56ca4144.r56.cf5.rackcdn.com/cmunsx.otf');\n",
        "    }\n",
        "    @font-face {\n",
        "        font-family: \"Computer Modern\";\n",
        "        font-style: oblique;\n",
        "        src: url('http://9dbb143991406a7c655e-aa5fcb0a5a4ec34cff238a2d56ca4144.r56.cf5.rackcdn.com/cmunsi.otf');\n",
        "    }\n",
        "    @font-face {\n",
        "        font-family: \"Computer Modern\";\n",
        "        font-weight: bold;\n",
        "        font-style: oblique;\n",
        "        src: url('http://9dbb143991406a7c655e-aa5fcb0a5a4ec34cff238a2d56ca4144.r56.cf5.rackcdn.com/cmunso.otf');\n",
        "    }\n",
        "    div.cell{\n",
        "        width:800px;\n",
        "        margin-left:16% !important;\n",
        "        margin-right:auto;\n",
        "    }\n",
        "    h1 {\n",
        "        font-family: Helvetica, serif;\n",
        "    }\n",
        "    h4{\n",
        "        margin-top:12px;\n",
        "        margin-bottom: 3px;\n",
        "       }\n",
        "    div.text_cell_render{\n",
        "        font-family: Computer Modern, \"Helvetica Neue\", Arial, Helvetica, Geneva, sans-serif;\n",
        "        line-height: 145%;\n",
        "        font-size: 130%;\n",
        "        width:800px;\n",
        "        margin-left:auto;\n",
        "        margin-right:auto;\n",
        "    }\n",
        "    .CodeMirror{\n",
        "            font-family: \"Source Code Pro\", source-code-pro,Consolas, monospace;\n",
        "    }\n",
        "    .prompt{\n",
        "        display: None;\n",
        "    }\n",
        "    .text_cell_render h5 {\n",
        "        font-weight: 300;\n",
        "        font-size: 22pt;\n",
        "        color: #4057A1;\n",
        "        font-style: italic;\n",
        "        margin-bottom: .5em;\n",
        "        margin-top: 0.5em;\n",
        "        display: block;\n",
        "    }\n",
        "    \n",
        "    .warning{\n",
        "        color: rgb( 240, 20, 20 )\n",
        "        }  \n",
        "</style>\n",
        "<script>\n",
        "    MathJax.Hub.Config({\n",
        "                        TeX: {\n",
        "                           extensions: [\"AMSmath.js\"]\n",
        "                           },\n",
        "                tex2jax: {\n",
        "                    inlineMath: [ ['$','$'], [\"\\\\(\",\"\\\\)\"] ],\n",
        "                    displayMath: [ ['$$','$$'], [\"\\\\[\",\"\\\\]\"] ]\n",
        "                },\n",
        "                displayAlign: 'center', // Change this to 'center' to center equations.\n",
        "                \"HTML-CSS\": {\n",
        "                    styles: {'.MathJax_Display': {\"margin\": 4}}\n",
        "                }\n",
        "        });\n",
        "</script>\n"
       ],
       "metadata": {},
       "output_type": "pyout",
       "prompt_number": 59,
       "text": [
        "<IPython.core.display.HTML at 0x190b7cf8>"
       ]
      }
     ],
     "prompt_number": 59
    },
    {
     "cell_type": "markdown",
     "metadata": {},
     "source": [
      "<font color='red'> \n",
      "# Computational Statistics for Data Analysis\n",
      "<font\\>"
     ]
    },
    {
     "cell_type": "markdown",
     "metadata": {},
     "source": [
      "# <div class=\"alert alert-error\"><strong><center><small>Statistics is the discipline of using data samples to support claims about populations.<small></center></strong> </div>\n",
      "\n",
      "Statistics is based on 2 main concepts:\n",
      "\n",
      "* A **population** is a collection of objects, items (\u201cunits\u201d) about which information is sought.\n",
      "\n",
      "* A **sample** is a part of the population that is observed."
     ]
    },
    {
     "cell_type": "markdown",
     "metadata": {},
     "source": [
      "# Index"
     ]
    },
    {
     "cell_type": "markdown",
     "metadata": {},
     "source": [
      "###1 Descriptive Statistics.\n",
      "* 1.1 Getting data\n",
      "* 1.2 Data preparation\n",
      "* 1.3 Improving data as a pandas DataFrame\n",
      "* 1.4 Data cleaning and preparation\n",
      " "
     ]
    },
    {
     "cell_type": "markdown",
     "metadata": {},
     "source": [
      "###2 Exploratory Data Analysis.\n",
      "* 2.1 Summariizing the data: mean, variance, median, quantiles & percentiles\n",
      "* 2.2 Histogram\n",
      "* 2.3 Data distributions\n",
      "* 2.3.1 PMF\n",
      "* 2.3.2 CDF\n",
      "* 2.4 Outliers\n",
      "* 2.5 Measuring asymmetry  (optional)\n",
      "* 2.5.1 Skewness\n",
      "* 2.5.2 Pearson's median skewness coefficient\n",
      "* 2.6 Relative risk\n",
      "* 2.7 A firts glimpse to Conditional Probability\n"
     ]
    },
    {
     "cell_type": "markdown",
     "metadata": {},
     "source": [
      "###3 Probabilities. \n",
      "* 3.1 Probability rules\n",
      "* 3.2 Monte Carlo\n",
      "* 3.3 Continuous distribution\n",
      "* 3.4 Central limit Theorem\n",
      "* 3.5 Kernel density  (optional)"
     ]
    },
    {
     "cell_type": "markdown",
     "metadata": {},
     "source": [
      "###4 Estimation\n",
      "* 4.1 Sample mean\n",
      "* 4.2 Variance\n",
      "* 4.3 Standard scores\n",
      "* 4.4 Covariance (optional)\n",
      "* 4.5 Pearson's correlation\n",
      "* 4.6 Spearman's rank correlation\n",
      " \n",
      "###5 References\n",
      "\n"
     ]
    },
    {
     "cell_type": "markdown",
     "metadata": {},
     "source": [
      "\n",
      "\n",
      "<center><img src=\"images/taft_puck_eggdig.jpg\">\n",
      "</center><center><img src=\"images/eggs.png\"></center>\n",
      "<center><small>Headline from Chicago Tribune June 13, 1897.</small></center>"
     ]
    },
    {
     "cell_type": "markdown",
     "metadata": {},
     "source": [
      "Read more: \"http://ptara.com/2011/12/17/never-eat-eggs-with-an-angry-stomach/\""
     ]
    },
    {
     "cell_type": "markdown",
     "metadata": {},
     "source": [
      "### \"Do firts babies arrive late?\"\n",
      "\n",
      "Some people believe it is true, but **without data analysis** to support it, this claim is a case of **anecdotal evidence**:\n",
      "\n",
      "* There are a **small number of samples** (personal experience, friends, etc.).\n",
      "* There is a **selection bias**: most *believers* are interested in this claim because their first babies were late.\n",
      "* There is a **confirmation bias**: believers might be more likely to contribute data that confirm it.\n",
      "* Sources are **innaccurate**: personal stories are subject to memory deformations. \n"
     ]
    },
    {
     "cell_type": "markdown",
     "metadata": {},
     "source": [
      "<font color='blue'>\n",
      "# 1 Descriptive Statistics.\n",
      "* 1.1 Getting data\n",
      "* 1.2 Data preparation\n",
      "* 1.3 Improving data as a pandas DataFrame\n",
      "* 1.4 Data cleaning \n",
      " <font\\>"
     ]
    },
    {
     "cell_type": "markdown",
     "metadata": {},
     "source": [
      "## 1.1 Getting Data\n",
      "\n",
      "There is an interesting and publicly available **data source** to check this claim. Since 1973 the U.S. Centers for Disease Control and Prevention (CDC) have conducted a survey, the National Survey of Family Growth (NSFG), to gather *information on family life, marriage and divorce, pregnancy, infertility, use of contraception, and men's and women's health.* \n",
      "\n",
      "Data can be downloaded from: \n",
      "\n",
      "http://www.cdc.gov/nchs/nsfg/nsfg_cycle6.htm#cyc6downdatafiles\n",
      "\n",
      "We will use this file: \n",
      "\n",
      "* Female Pregnancy Data File (2002FemPreg.dat): one record for each pregnancy reported by a respondent."
     ]
    },
    {
     "cell_type": "markdown",
     "metadata": {},
     "source": [
      "There are 13593 pregnancies in our data. The meaning of the data is (each record is in a line):\n",
      "\n",
      "+ <code>case.id</code> is the ID of the respondent. From col 1 to 12.\n",
      "+ <code>prg.lenght</code> is the duration of the pregnancy in weeks. From col 275 to 276. \n",
      "+ <code>outcome</code> is the outcome of the pregnancy (1 = live birth). Col 277.\n",
      "+ <code>birth.ord</code> is the integer birth order of each live birth. From col 278 to 279.\n",
      "+ <code>final.wgt</code> is the statistical weight associated to the respondent (it is a floating point value that indicates the number of people in the U.S. population this respondent represents). From col 423 to 440."
     ]
    },
    {
     "cell_type": "markdown",
     "metadata": {},
     "source": [
      "<small> If curious: Online documentation of the survey is at http://www.icpsr.umich.edu/nsfg6.<small> "
     ]
    },
    {
     "cell_type": "markdown",
     "metadata": {},
     "source": [
      "### 1.2 Data preparation\n",
      "\n",
      "One of the reasons we are using a general-purpose language such as Python rather than a stats language like R is that for many projects the *hard* part is preparing the data, not doing the analysis.\n",
      "\n",
      "The most common steps are:\n",
      "\n",
      "1. **Getting the data**. Data can be directly read from a file or it might be necessary to scrap the web.\n",
      "2. **Parsing the data**.  Of course, this depends on what format it is in: plain text, fixed columns, CVS, XML, HTML, etc.\n",
      "3. **Cleaning the data**.  Survey responses and other data files are almost always incomplete.  Sometimes there are multiple codes for things like, *not asked*, *did not know*, and *declined to answer*. And there are almost always errors. A simple strategy is to remove or ignore incomplete records.\n",
      "4. **Building data structures**. Once you read the data, you usually want to store it in a data structure that lends itself to the analysis you want to do.\n",
      "\n",
      "If the data fits into memory, building a data structure is usually the way to go.   If not, you could build a database, which is an out-of-memory data structure. Most databases provide a mapping from keys to values, so they are like dictionaries."
     ]
    },
    {
     "cell_type": "code",
     "collapsed": false,
     "input": [
      "file = open('files/2002FemPreg.dat', 'r')\n",
      "\n",
      "# Let's build a list of lists.\n",
      "\n",
      "preg=[]\n",
      "for line in file:\n",
      "     preg.append([int(line[:12]), int(line[274:276]), int(line[276]), \\\n",
      "                 int(line[277:279]), float(line[422:440])])\n"
     ],
     "language": "python",
     "metadata": {},
     "outputs": [
      {
       "ename": "ValueError",
       "evalue": "invalid literal for int() with base 10: ''",
       "output_type": "pyerr",
       "traceback": [
        "\u001b[1;31m---------------------------------------------------------------------------\u001b[0m\n\u001b[1;31mValueError\u001b[0m                                Traceback (most recent call last)",
        "\u001b[1;32m<ipython-input-60-b831cbc489eb>\u001b[0m in \u001b[0;36m<module>\u001b[1;34m()\u001b[0m\n\u001b[0;32m      5\u001b[0m \u001b[0mpreg\u001b[0m\u001b[1;33m=\u001b[0m\u001b[1;33m[\u001b[0m\u001b[1;33m]\u001b[0m\u001b[1;33m\u001b[0m\u001b[0m\n\u001b[0;32m      6\u001b[0m \u001b[1;32mfor\u001b[0m \u001b[0mline\u001b[0m \u001b[1;32min\u001b[0m \u001b[0mfile\u001b[0m\u001b[1;33m:\u001b[0m\u001b[1;33m\u001b[0m\u001b[0m\n\u001b[1;32m----> 7\u001b[1;33m      \u001b[0mpreg\u001b[0m\u001b[1;33m.\u001b[0m\u001b[0mappend\u001b[0m\u001b[1;33m(\u001b[0m\u001b[1;33m[\u001b[0m\u001b[0mint\u001b[0m\u001b[1;33m(\u001b[0m\u001b[0mline\u001b[0m\u001b[1;33m[\u001b[0m\u001b[1;33m:\u001b[0m\u001b[1;36m12\u001b[0m\u001b[1;33m]\u001b[0m\u001b[1;33m)\u001b[0m\u001b[1;33m,\u001b[0m \u001b[0mint\u001b[0m\u001b[1;33m(\u001b[0m\u001b[0mline\u001b[0m\u001b[1;33m[\u001b[0m\u001b[1;36m274\u001b[0m\u001b[1;33m:\u001b[0m\u001b[1;36m276\u001b[0m\u001b[1;33m]\u001b[0m\u001b[1;33m)\u001b[0m\u001b[1;33m,\u001b[0m \u001b[0mint\u001b[0m\u001b[1;33m(\u001b[0m\u001b[0mline\u001b[0m\u001b[1;33m[\u001b[0m\u001b[1;36m276\u001b[0m\u001b[1;33m]\u001b[0m\u001b[1;33m)\u001b[0m\u001b[1;33m,\u001b[0m                  \u001b[0mint\u001b[0m\u001b[1;33m(\u001b[0m\u001b[0mline\u001b[0m\u001b[1;33m[\u001b[0m\u001b[1;36m277\u001b[0m\u001b[1;33m:\u001b[0m\u001b[1;36m279\u001b[0m\u001b[1;33m]\u001b[0m\u001b[1;33m)\u001b[0m\u001b[1;33m,\u001b[0m \u001b[0mfloat\u001b[0m\u001b[1;33m(\u001b[0m\u001b[0mline\u001b[0m\u001b[1;33m[\u001b[0m\u001b[1;36m422\u001b[0m\u001b[1;33m:\u001b[0m\u001b[1;36m440\u001b[0m\u001b[1;33m]\u001b[0m\u001b[1;33m)\u001b[0m\u001b[1;33m]\u001b[0m\u001b[1;33m)\u001b[0m\u001b[1;33m\u001b[0m\u001b[0m\n\u001b[0m",
        "\u001b[1;31mValueError\u001b[0m: invalid literal for int() with base 10: ''"
       ]
      }
     ],
     "prompt_number": 60
    },
    {
     "cell_type": "markdown",
     "metadata": {},
     "source": [
      "Ooops! There is something wrong in the data file!\n",
      "\n",
      "By inspecting the data we can observe that there are some empty records that caused an error to the ``int`` function."
     ]
    },
    {
     "cell_type": "code",
     "collapsed": false,
     "input": [
      "file = open('files/2002FemPreg.dat', 'r')\n",
      "\n",
      "def chr_int(a):\n",
      "    if a == '  ':\n",
      "        return 0\n",
      "    else:\n",
      "        return int(a)\n",
      "        \n",
      "preg=[]\n",
      "for line in file:\n",
      "    lst  = [int(line[:12]), int(line[274:276]), int(line[276]), \\\n",
      "                 chr_int(line[277:279]), float(line[422:440])]\n",
      "    preg.append(lst)"
     ],
     "language": "python",
     "metadata": {},
     "outputs": []
    },
    {
     "cell_type": "code",
     "collapsed": false,
     "input": [
      "print preg[1]\n",
      "print len(preg)"
     ],
     "language": "python",
     "metadata": {},
     "outputs": []
    },
    {
     "cell_type": "markdown",
     "metadata": {},
     "source": [
      "### 1.3 Importing data as a pandas DataFrame"
     ]
    },
    {
     "cell_type": "code",
     "collapsed": false,
     "input": [
      "%matplotlib inline\n",
      "\n",
      "import pandas as pd\n",
      "df = pd.DataFrame(preg) #  Two-dimensional size-mutable, potentially heterogeneous tabular data structure with labeled axes \n",
      "# http://pandas.pydata.org/pandas-docs/dev/dsintro.html#dataframe\n",
      "\n",
      "df.columns = ['caseId', 'prgLength', 'outcome', 'birthOrd', 'finalWgt']\n",
      "df.head()"
     ],
     "language": "python",
     "metadata": {},
     "outputs": []
    },
    {
     "cell_type": "code",
     "collapsed": false,
     "input": [
      "df.tail()"
     ],
     "language": "python",
     "metadata": {},
     "outputs": []
    },
    {
     "cell_type": "code",
     "collapsed": false,
     "input": [
      "df.shape"
     ],
     "language": "python",
     "metadata": {},
     "outputs": []
    },
    {
     "cell_type": "markdown",
     "metadata": {},
     "source": [
      "Let's count the number of life births:"
     ]
    },
    {
     "cell_type": "code",
     "collapsed": false,
     "input": [
      "counts = df.groupby('outcome').size()\n",
      "print counts[1]\n",
      "print counts \n",
      "\n",
      "# also: df.outcome.value_counts()"
     ],
     "language": "python",
     "metadata": {},
     "outputs": []
    },
    {
     "cell_type": "markdown",
     "metadata": {},
     "source": [
      "Let's built a partition of *live births* into two groups: first babies and others."
     ]
    },
    {
     "cell_type": "code",
     "collapsed": false,
     "input": [
      "# Divide records into two lists: first babies and others.\n",
      "\n",
      "firstbirth = df[ (df.outcome == 1) & (df.birthOrd == 1)]\n",
      "firstbirth.shape"
     ],
     "language": "python",
     "metadata": {},
     "outputs": []
    },
    {
     "cell_type": "code",
     "collapsed": false,
     "input": [
      "othersbirth = df[(df.outcome == 1) & (df.birthOrd >= 2)]\n",
      "othersbirth.shape"
     ],
     "language": "python",
     "metadata": {},
     "outputs": []
    },
    {
     "cell_type": "markdown",
     "metadata": {},
     "source": [
      "### 1.4 Data Cleaning\n",
      "\n",
      "The most common steps are:\n",
      "\n",
      "+ **Sample the data**. If the amount of raw data is huge, processing all of them may require an extensive amount of processing power which may not be practical.  In this case it is quite common to sample the input data to reduce the size of data that need to be processed.\n",
      "\n",
      "+ **Impute missing data**. It is quite common that some of the input records are incomplete in the sense that certain fields are missing or have input error.  In a typical tabular data format, we need to validate each record contains the same number of fields and each field contains the data type we expect. In case the record has some fields missing, we have the following choices: \n",
      "<small>\n",
      "* (a) Discard the whole record if it is incomplete; \n",
      "* (b) Infer the missing value based on the data from other records.  A common approach is to fill the missing data with the average, or the median.\n",
      "<small>"
     ]
    },
    {
     "cell_type": "markdown",
     "metadata": {},
     "source": [
      "+ **Normalize numeric value**. Normalize data is about transforming numeric data into a uniform range."
     ]
    },
    {
     "cell_type": "markdown",
     "metadata": {},
     "source": [
      "+ **Reduce dimensionality**. High dimensionality can be a problem for some machine learning methods.  There are two ways to reduce the number of input features.  One is about $removing$ $irrelevant$ input variables, another one is about $removing$ $redundant$ input variables.\n",
      "+ **Add derived features**. In some cases, we may need to compute additional attributes from existing attributes (f.e. converting a geo-location to a zip code, or converting the age to an age group).\n",
      "+ **Discretize numeric value into categories**. Discretize data is about cutting a continuous value into ranges and assigning the numeric with the corresponding bucket of the range it falls on.  For numeric attribute, a common way to generalize it is to discretize it into ranges, which can be either constant width (variable height/frequency) or variable width (constant height).\n",
      "+ **Binarize categorical attributes**. Certain machine learning models only take binary input (or numeric input).  In this case, we need to convert categorical attribute into multiple binary attributes, while each binary attribute corresponds to a particular value of the category. "
     ]
    },
    {
     "cell_type": "markdown",
     "metadata": {},
     "source": [
      "+ **Select, combine, aggregate data**. Designing the form of training data is the most important part of the whole predictive modeling exercise because the accuracy largely depends on whether the input features are structured in an appropriate form that provide strong signals to the learning algorithm. Rather than using the raw data as is, it is quite common that multiple pieces of raw data need to be combined together, or aggregating multiple raw data records along some dimensions."
     ]
    },
    {
     "cell_type": "markdown",
     "metadata": {},
     "source": [
      "<font color='blue'>\n",
      "## 2 Exploratory Data Analysis.\n",
      "* 2.1 Summariizing the data: mean, variance, median, quantiles & percentiles\n",
      "* 2.2 Histogram\n",
      "* 2.3 Data distributions\n",
      "* 2.3.1 PMF\n",
      "* 2.3.2 CDF\n",
      "* 2.4 Outliers\n",
      "* 2.5 Measuring asymmetry\n",
      "* 2.5.1 Skewness\n",
      "* 2.5.2 Pearson's median skewness coefficient\n",
      "* 2.6 Relative risk\n",
      "* 2.7 A firts glimpse to Conditional Probability\n",
      "<font\\>"
     ]
    },
    {
     "cell_type": "markdown",
     "metadata": {},
     "source": [
      "### 2.1 Summarizing the data: \n",
      "#### 2.1.1 Sample Mean \n",
      "\n",
      "If you have a sample of $n$ values, $x_i$, the **sample mean** is the sum of the values divided by the number of values:\n",
      "\n",
      "$$ \\mu = \\frac{1}{n} \\sum_i x_i$$\n",
      "\n",
      "The **mean** is the most basic and important summary statistic. It describes the central tendency of a sample. "
     ]
    },
    {
     "cell_type": "markdown",
     "metadata": {},
     "source": [
      "There is a small difference!"
     ]
    },
    {
     "cell_type": "code",
     "collapsed": false,
     "input": [
      "print firstbirth['prgLength'].mean(), othersbirth['prgLength'].mean()"
     ],
     "language": "python",
     "metadata": {},
     "outputs": []
    },
    {
     "cell_type": "code",
     "collapsed": false,
     "input": [
      "print abs(firstbirth['prgLength'].mean() - othersbirth['prgLength'].mean()), \"weeks\"\n",
      "print abs(firstbirth['prgLength'].mean() - othersbirth['prgLength'].mean())*7, \"days\"\n",
      "print abs(firstbirth['prgLength'].mean() - othersbirth['prgLength'].mean())*7*24, \"hours\""
     ],
     "language": "python",
     "metadata": {},
     "outputs": []
    },
    {
     "cell_type": "markdown",
     "metadata": {},
     "source": [
      "This difference in sample means can be considered a first evidence of our hypothesis!\n",
      "\n",
      "\n",
      "**Comment: ** *Later, we will work with both concepts: the population mean and the sample mean. Do not confuse them! Remember, the first one is the mean of samples taken from the population and the second one is the mean of the whole population.*"
     ]
    },
    {
     "cell_type": "markdown",
     "metadata": {},
     "source": [
      "#### 2.1.2 Sample Variance\n",
      "\n",
      "Usually, mean is not a sufficient descriptor of the data, we can do a little better with two numbers: mean and **variance**:\n",
      "\n",
      "$$ \\sigma^2 = \\frac{1}{n} \\sum_i (x_i - \\mu)^2 $$\n",
      "\n",
      "**Variance** $\\sigma^2$ describes the *spread* of data. The term $(x_i - \\mu)$ is called the *deviation from the mean*, so variance is the mean squared deviation.\n",
      "\n",
      "The square root of variance, $\\sigma$, is called the **standard deviation**. We define standard deviation because variance is hard to interpret (in the case the units are grams, the variance is in grams squared).\n"
     ]
    },
    {
     "cell_type": "code",
     "collapsed": false,
     "input": [
      "mu1 = firstbirth['prgLength'].mean()\n",
      "mu2 = othersbirth['prgLength'].mean()\n",
      "var1 = firstbirth['prgLength'].var()\n",
      "var2 = othersbirth['prgLength'].var()\n",
      "std1 = firstbirth['prgLength'].std()\n",
      "std2 = othersbirth['prgLength'].std()\n",
      "print mu1, var1, std1,';', mu2, var2, std2"
     ],
     "language": "python",
     "metadata": {},
     "outputs": []
    },
    {
     "cell_type": "markdown",
     "metadata": {},
     "source": [
      "#### 2.1.3 Sample Median\n",
      "\n",
      "The statistical median is an order statistic that gives the *middle* value of a sample. It is a value more robust to ouliers."
     ]
    },
    {
     "cell_type": "markdown",
     "metadata": {},
     "source": [
      "<center><img src=\"images/mean_median.gif\">"
     ]
    },
    {
     "cell_type": "code",
     "collapsed": false,
     "input": [
      "median1= firstbirth['prgLength'].median()\n",
      "median2= othersbirth['prgLength'].median()\n",
      "print median1, median2"
     ],
     "language": "python",
     "metadata": {},
     "outputs": []
    },
    {
     "cell_type": "markdown",
     "metadata": {},
     "source": [
      "#### 2.1.4 Summarizing the data: Quantiles & Percentiles\n",
      "\n",
      "Order the sample $\\{ x_i \\}$, then find $x_p$ so that it divides the data into two parts where:\n",
      "\n",
      "+ a fraction $p$ of the data values are less than or equal to $x_p$ and\n",
      "+ the remaining fraction $(1 \u2212 p)$ are greater than $x_p$.\n",
      "\n",
      "That value $x_p$ is the pth-quantile, or 100\u00d7pth percentile.\n",
      "\n",
      "**5-number summary**: $x_{min}, Q_1, Q_2, Q_3, x_{max}$, where $Q_1$ is the 25\u00d7pth percentile,\n",
      "$Q_2$ is the 50\u00d7pth percentile and $Q_3$ is the 75\u00d7pth percentile."
     ]
    },
    {
     "cell_type": "markdown",
     "metadata": {},
     "source": [
      "### 2.2 Histogram"
     ]
    },
    {
     "cell_type": "markdown",
     "metadata": {},
     "source": [
      "The most common representation of a distribution is a **histogram**, which is a graph that shows the frequency of each value."
     ]
    },
    {
     "cell_type": "code",
     "collapsed": false,
     "input": [
      "fb=firstbirth['prgLength']\n",
      "fb.hist(normed=0, histtype='stepfilled', bins=30)"
     ],
     "language": "python",
     "metadata": {},
     "outputs": []
    },
    {
     "cell_type": "code",
     "collapsed": false,
     "input": [
      "        \n",
      "ob=othersbirth['prgLength']\n",
      "ob.hist(normed=0, histtype='stepfilled', bins=30)"
     ],
     "language": "python",
     "metadata": {},
     "outputs": []
    },
    {
     "cell_type": "code",
     "collapsed": false,
     "input": [
      "import scipy.stats as stats\n",
      "\n",
      "# Computes several descriptive statistics:\n",
      "# size of the data \n",
      "# minimum and maximum value of data array\n",
      "#\u00a0arithmetic mean \n",
      "# unbiased variance \n",
      "# biased skewness \n",
      "# kurtosis (Fisher)\n",
      "\n",
      "stats.describe(othersbirth['prgLength'].values)"
     ],
     "language": "python",
     "metadata": {},
     "outputs": []
    },
    {
     "cell_type": "markdown",
     "metadata": {},
     "source": [
      "## 2.3 Data Distributions\n",
      "\n",
      "Summarizing can be dangerous: very different data can be described by the same statistics. It must be validated by inspecting the data.\n",
      "\n",
      "We can look at the **data distribution**, which describes how often (frequency) each value appears.\n",
      "\n",
      "\n",
      "We can normalize the frequencies of the histogram by dividing/normalizing by $n$, the number of samples. The normalized histogram is called **Probability Mass Function (PMF)**."
     ]
    },
    {
     "cell_type": "code",
     "collapsed": false,
     "input": [
      "# if needed, execute the command 'pip install seaborn'\n",
      "\n",
      "import seaborn as sns\n",
      "\n",
      "x = firstbirth['prgLength']\n",
      "y = othersbirth['prgLength']\n",
      "\n",
      "x.hist(normed=1, histtype='stepfilled')\n"
     ],
     "language": "python",
     "metadata": {},
     "outputs": []
    },
    {
     "cell_type": "code",
     "collapsed": false,
     "input": [
      "y.hist(normed=1, histtype='stepfilled')"
     ],
     "language": "python",
     "metadata": {},
     "outputs": []
    },
    {
     "cell_type": "markdown",
     "metadata": {},
     "source": [
      "The **cumulative distribution function (CDF)**, or just distribution function, describes the probability that a real-valued random variable X with a given probability distribution will be found to have a value less than or equal to x. "
     ]
    },
    {
     "cell_type": "code",
     "collapsed": false,
     "input": [
      "x.hist(normed=1, histtype='step', cumulative=True, linewidth=3.5)"
     ],
     "language": "python",
     "metadata": {},
     "outputs": []
    },
    {
     "cell_type": "code",
     "collapsed": false,
     "input": [
      "ob.hist(normed=1, histtype='step', cumulative=True, linewidth=3.5)"
     ],
     "language": "python",
     "metadata": {},
     "outputs": []
    },
    {
     "cell_type": "code",
     "collapsed": false,
     "input": [
      "fb.hist(bins=10, normed=1, histtype='stepfilled', alpha=.5)   # default number of bins = 10\n",
      "ob.hist(bins=10, normed=1, histtype='stepfilled', alpha=.5, color=sns.desaturate(\"indianred\", .75))\n",
      "\n",
      "# Check with 20, 30, 60 bins."
     ],
     "language": "python",
     "metadata": {},
     "outputs": []
    },
    {
     "cell_type": "code",
     "collapsed": false,
     "input": [
      "fb.hist(normed=1, histtype='step', cumulative=True,  linewidth=3.5, bins=30)\n",
      "ob.hist(normed=1, histtype='step', cumulative=True,  linewidth=3.5, bins=30, color=sns.desaturate(\"indianred\", .75))"
     ],
     "language": "python",
     "metadata": {},
     "outputs": []
    },
    {
     "cell_type": "code",
     "collapsed": false,
     "input": [
      "print \"The mean sample difference is \", x.mean() - y.mean(), \"weeks.\""
     ],
     "language": "python",
     "metadata": {},
     "outputs": []
    },
    {
     "cell_type": "markdown",
     "metadata": {},
     "source": [
      "## 2.4 Outliers\n",
      "\n",
      "**Ouliers** are data samples with a value that is far from the central tendency.\n",
      "\n",
      "We can find outliers by:\n",
      "\n",
      "+ Computing samples that are *far* from the median.\n",
      "+ Computing samples whose value *exceeds the mean* by 2 or 3 standard deviations.\n",
      "\n",
      "This expression will return a series of boolean values that you can then index the series by:"
     ]
    },
    {
     "cell_type": "code",
     "collapsed": false,
     "input": [
      "(df.outcome == 1) & (df['prgLength'] < df['prgLength'].median() - 10)"
     ],
     "language": "python",
     "metadata": {},
     "outputs": []
    },
    {
     "cell_type": "code",
     "collapsed": false,
     "input": [
      "df['prgLength'].median()"
     ],
     "language": "python",
     "metadata": {},
     "outputs": []
    },
    {
     "cell_type": "code",
     "collapsed": false,
     "input": [
      "df[(df.outcome == 1) & (df['prgLength'] < df['prgLength'].median() - 10)]"
     ],
     "language": "python",
     "metadata": {},
     "outputs": []
    },
    {
     "cell_type": "code",
     "collapsed": false,
     "input": [
      "df[(df.outcome == 1) & (df['prgLength'] > df['prgLength'].median() + 6)]"
     ],
     "language": "python",
     "metadata": {},
     "outputs": []
    },
    {
     "cell_type": "markdown",
     "metadata": {},
     "source": [
      "If we think that outliers correspond to errors, an option is to trim the data by discarting the highest and lowest values."
     ]
    },
    {
     "cell_type": "code",
     "collapsed": false,
     "input": [
      "df2 = df.drop(df.index[(df.outcome == 1) & (df['prgLength'] > df['prgLength'].median() + 6)])\n",
      "df2[(df2.outcome == 1) & (df2['prgLength'] > df2['prgLength'].median() + 6)] # check if removed\n"
     ],
     "language": "python",
     "metadata": {},
     "outputs": []
    },
    {
     "cell_type": "code",
     "collapsed": false,
     "input": [
      "df3 = df2.drop(df2.index[(df2.outcome == 1) & (df2['prgLength'] < df2['prgLength'].median() - 10)])\n",
      "df3[(df3.outcome == 1) & (df3['prgLength'] < df3['prgLength'].median() - 10)]"
     ],
     "language": "python",
     "metadata": {},
     "outputs": []
    },
    {
     "cell_type": "code",
     "collapsed": false,
     "input": [
      "firstbirth3 = df3[(df3.outcome == 1) & (df3.birthOrd == 1)]\n",
      "mu3fb = firstbirth3['prgLength'].mean()\n",
      "std3fb = firstbirth3['prgLength'].std()\n",
      "print mu3fb, std3fb, firstbirth3['prgLength'].min(), firstbirth3['prgLength'].max()"
     ],
     "language": "python",
     "metadata": {},
     "outputs": []
    },
    {
     "cell_type": "code",
     "collapsed": false,
     "input": [
      "othersbirth3 = df3[(df3.outcome == 1) & (df3.birthOrd >= 2)]\n",
      "mu3ob = othersbirth3['prgLength'].mean()\n",
      "std3ob = othersbirth3['prgLength'].std()\n",
      "print mu3ob, std3ob, firstbirth3['prgLength'].min(), firstbirth3['prgLength'].max()"
     ],
     "language": "python",
     "metadata": {},
     "outputs": []
    },
    {
     "cell_type": "code",
     "collapsed": false,
     "input": [
      "print \"The mean sample difference is\", firstbirth3['prgLength'].mean() - othersbirth3['prgLength'].mean(), \"weeks.\""
     ],
     "language": "python",
     "metadata": {},
     "outputs": []
    },
    {
     "cell_type": "code",
     "collapsed": false,
     "input": [
      "df3.prgLength[(df3.outcome == 1) ].plot()\n",
      "df.prgLength[(df.outcome == 1) ].plot(alpha=.5, color=sns.desaturate(\"indianred\", .95))\n"
     ],
     "language": "python",
     "metadata": {},
     "outputs": []
    },
    {
     "cell_type": "markdown",
     "metadata": {},
     "source": [
      "Let's see what is happening near the mode:"
     ]
    },
    {
     "cell_type": "code",
     "collapsed": false,
     "input": [
      "import numpy as np\n",
      "\n",
      "x = firstbirth3['prgLength']\n",
      "y = othersbirth3['prgLength']\n",
      "\n",
      "countx,divisionx = np.histogram(x) \n",
      "county,divisiony = np.histogram(y)\n",
      "print (countx-county)\n"
     ],
     "language": "python",
     "metadata": {},
     "outputs": []
    },
    {
     "cell_type": "code",
     "collapsed": false,
     "input": [
      "import matplotlib.pyplot as plt\n",
      "\n",
      "val = [(divisionx[i]+divisionx[i+1])/2 for i in range(len(divisionx)-1)]\n",
      "plt.plot(val, countx-county, 'o-') "
     ],
     "language": "python",
     "metadata": {},
     "outputs": []
    },
    {
     "cell_type": "markdown",
     "metadata": {},
     "source": [
      "There is still some evidence for our hypothesis!"
     ]
    },
    {
     "cell_type": "code",
     "collapsed": false,
     "input": [
      "print x.mean(), y.mean()"
     ],
     "language": "python",
     "metadata": {},
     "outputs": []
    },
    {
     "cell_type": "markdown",
     "metadata": {},
     "source": [
      "**Exercise**:\n",
      "\n",
      "+ Read the file ``run10.txt`` from the ``files`` directory. It represents 16,924 runners who finished the 2012 Cherry Blossom 10 mile run in USA. The file is a ``tab``separated file. It can be read with the pandas ``read_table`` function.\n",
      "+ Compute the mean time.\n",
      "+ Compute the difference in mean between men and women.\n",
      "+ Visualize both distributions (normalized histogram)."
     ]
    },
    {
     "cell_type": "code",
     "collapsed": false,
     "input": [
      "## Your solution here"
     ],
     "language": "python",
     "metadata": {},
     "outputs": []
    },
    {
     "cell_type": "markdown",
     "metadata": {},
     "source": [
      "### 2.5 Measuring asymmetry (optional).\n",
      "\n",
      "** Skewness** is a statistic that measures the asymmetry of set of $n$ data samples $x_i$:\n",
      "\n",
      "$$ g_1 = \\frac{\\frac{1}{n} \\sum_i (x_i - \\mu)^2 }{\\frac{1}{n} \\sum_i (x_i - \\mu)^3 }$$\n",
      "\n",
      "The numerator is the mean squared deviation (or variance) and the denominator the mean cubed deviation.\n",
      "\n",
      "Negative deviation indicates that the distribution \"skews left\" (it extends farther to the left than to the right).\n",
      "\n",
      "** Skewness** can be affected by outliers!!! A simpler alternative is to look at the relationship between mean ($\\mu$) and median ($\\mu_{\\frac{1}{2}}$). "
     ]
    },
    {
     "cell_type": "markdown",
     "metadata": {},
     "source": [
      "** 2.6 Pearson's median skewness coefficient** is a more robust alternative:\n",
      "\n",
      "$$ g_p = \\frac{3(\\mu - \\mu_{\\frac{1}{2}})}{\\sigma} $$"
     ]
    },
    {
     "cell_type": "markdown",
     "metadata": {},
     "source": [
      "**Exercise**: Write a function to compute $g_1$ and $g_p$ of the pregnancy length."
     ]
    },
    {
     "cell_type": "code",
     "collapsed": false,
     "input": [
      "## Your solution here"
     ],
     "language": "python",
     "metadata": {},
     "outputs": []
    },
    {
     "cell_type": "markdown",
     "metadata": {},
     "source": [
      "**Exercises**: \n",
      "\n",
      "+ Could you give a real example, where for all data samples, $x_i \\leq \\mu$? \n",
      "+ Could you give a real example, where for all data samples, $x_i \\leq \\mu_{\\frac{1}{2}}$? This is really a distribution that skews left!\n",
      "+ If we ask to a random group of people \"What is your position with respect to the average driver?\", what kind of distribution would we get? \n",
      "+ Is this result logically possible if we interpret \"average\" to mean \"median\"? Is this result logically possible, if we interpret \"average\" to mean \"mean\"?"
     ]
    },
    {
     "cell_type": "markdown",
     "metadata": {},
     "source": [
      "## 2.6 Relative Risk\n",
      "\n",
      "Let's say that a baby is \"early\" if it is born during week 37 or earlier, \"on time\" if it is born during week 38, 39 or 40, and \"late\" if it is born during week 41 or later. "
     ]
    },
    {
     "cell_type": "code",
     "collapsed": false,
     "input": [
      "firstbirth3"
     ],
     "language": "python",
     "metadata": {},
     "outputs": [
      {
       "html": [
        "<div style=\"max-height:1000px;max-width:1500px;overflow:auto;\">\n",
        "<table border=\"1\" class=\"dataframe\">\n",
        "  <thead>\n",
        "    <tr style=\"text-align: right;\">\n",
        "      <th></th>\n",
        "      <th>caseId</th>\n",
        "      <th>prgLength</th>\n",
        "      <th>outcome</th>\n",
        "      <th>birthOrd</th>\n",
        "      <th>finalWgt</th>\n",
        "      <th>Risk</th>\n",
        "    </tr>\n",
        "  </thead>\n",
        "  <tbody>\n",
        "    <tr>\n",
        "      <th>0    </th>\n",
        "      <td>     1</td>\n",
        "      <td> 39</td>\n",
        "      <td> 1</td>\n",
        "      <td> 1</td>\n",
        "      <td>  6448.271112</td>\n",
        "      <td> 0</td>\n",
        "    </tr>\n",
        "    <tr>\n",
        "      <th>2    </th>\n",
        "      <td>     2</td>\n",
        "      <td> 39</td>\n",
        "      <td> 1</td>\n",
        "      <td> 1</td>\n",
        "      <td> 12999.542264</td>\n",
        "      <td> 0</td>\n",
        "    </tr>\n",
        "    <tr>\n",
        "      <th>5    </th>\n",
        "      <td>     6</td>\n",
        "      <td> 38</td>\n",
        "      <td> 1</td>\n",
        "      <td> 1</td>\n",
        "      <td>  8874.440799</td>\n",
        "      <td> 0</td>\n",
        "    </tr>\n",
        "    <tr>\n",
        "      <th>8    </th>\n",
        "      <td>     7</td>\n",
        "      <td> 39</td>\n",
        "      <td> 1</td>\n",
        "      <td> 1</td>\n",
        "      <td>  6911.879921</td>\n",
        "      <td> 0</td>\n",
        "    </tr>\n",
        "    <tr>\n",
        "      <th>10   </th>\n",
        "      <td>    12</td>\n",
        "      <td> 39</td>\n",
        "      <td> 1</td>\n",
        "      <td> 1</td>\n",
        "      <td>  6909.331618</td>\n",
        "      <td> 0</td>\n",
        "    </tr>\n",
        "    <tr>\n",
        "      <th>11   </th>\n",
        "      <td>    14</td>\n",
        "      <td> 39</td>\n",
        "      <td> 1</td>\n",
        "      <td> 1</td>\n",
        "      <td>  3039.904507</td>\n",
        "      <td> 0</td>\n",
        "    </tr>\n",
        "    <tr>\n",
        "      <th>15   </th>\n",
        "      <td>    15</td>\n",
        "      <td> 33</td>\n",
        "      <td> 1</td>\n",
        "      <td> 1</td>\n",
        "      <td>  5553.495599</td>\n",
        "      <td>-1</td>\n",
        "    </tr>\n",
        "    <tr>\n",
        "      <th>17   </th>\n",
        "      <td>    18</td>\n",
        "      <td> 39</td>\n",
        "      <td> 1</td>\n",
        "      <td> 1</td>\n",
        "      <td>  4153.371741</td>\n",
        "      <td> 0</td>\n",
        "    </tr>\n",
        "    <tr>\n",
        "      <th>19   </th>\n",
        "      <td>    21</td>\n",
        "      <td> 41</td>\n",
        "      <td> 1</td>\n",
        "      <td> 1</td>\n",
        "      <td>  7237.122630</td>\n",
        "      <td> 0</td>\n",
        "    </tr>\n",
        "    <tr>\n",
        "      <th>21   </th>\n",
        "      <td>    23</td>\n",
        "      <td> 39</td>\n",
        "      <td> 1</td>\n",
        "      <td> 1</td>\n",
        "      <td> 13533.382043</td>\n",
        "      <td> 0</td>\n",
        "    </tr>\n",
        "    <tr>\n",
        "      <th>23   </th>\n",
        "      <td>    24</td>\n",
        "      <td> 39</td>\n",
        "      <td> 1</td>\n",
        "      <td> 1</td>\n",
        "      <td>  7424.840414</td>\n",
        "      <td> 0</td>\n",
        "    </tr>\n",
        "    <tr>\n",
        "      <th>26   </th>\n",
        "      <td>    28</td>\n",
        "      <td> 39</td>\n",
        "      <td> 1</td>\n",
        "      <td> 1</td>\n",
        "      <td>  6949.846082</td>\n",
        "      <td> 0</td>\n",
        "    </tr>\n",
        "    <tr>\n",
        "      <th>27   </th>\n",
        "      <td>    31</td>\n",
        "      <td> 42</td>\n",
        "      <td> 1</td>\n",
        "      <td> 1</td>\n",
        "      <td>  5211.943113</td>\n",
        "      <td> 0</td>\n",
        "    </tr>\n",
        "    <tr>\n",
        "      <th>31   </th>\n",
        "      <td>    36</td>\n",
        "      <td> 41</td>\n",
        "      <td> 1</td>\n",
        "      <td> 1</td>\n",
        "      <td>  3594.537973</td>\n",
        "      <td> 0</td>\n",
        "    </tr>\n",
        "    <tr>\n",
        "      <th>32   </th>\n",
        "      <td>    38</td>\n",
        "      <td> 38</td>\n",
        "      <td> 1</td>\n",
        "      <td> 1</td>\n",
        "      <td> 10137.324111</td>\n",
        "      <td> 0</td>\n",
        "    </tr>\n",
        "    <tr>\n",
        "      <th>35   </th>\n",
        "      <td>    39</td>\n",
        "      <td> 39</td>\n",
        "      <td> 1</td>\n",
        "      <td> 1</td>\n",
        "      <td>  1853.347258</td>\n",
        "      <td> 0</td>\n",
        "    </tr>\n",
        "    <tr>\n",
        "      <th>39   </th>\n",
        "      <td>    44</td>\n",
        "      <td> 39</td>\n",
        "      <td> 1</td>\n",
        "      <td> 1</td>\n",
        "      <td>  4656.011334</td>\n",
        "      <td> 0</td>\n",
        "    </tr>\n",
        "    <tr>\n",
        "      <th>42   </th>\n",
        "      <td>    46</td>\n",
        "      <td> 36</td>\n",
        "      <td> 1</td>\n",
        "      <td> 1</td>\n",
        "      <td> 28882.846732</td>\n",
        "      <td>-1</td>\n",
        "    </tr>\n",
        "    <tr>\n",
        "      <th>44   </th>\n",
        "      <td>    49</td>\n",
        "      <td> 39</td>\n",
        "      <td> 1</td>\n",
        "      <td> 1</td>\n",
        "      <td>  2737.370222</td>\n",
        "      <td> 0</td>\n",
        "    </tr>\n",
        "    <tr>\n",
        "      <th>48   </th>\n",
        "      <td>    51</td>\n",
        "      <td> 39</td>\n",
        "      <td> 1</td>\n",
        "      <td> 1</td>\n",
        "      <td> 11361.980792</td>\n",
        "      <td> 0</td>\n",
        "    </tr>\n",
        "    <tr>\n",
        "      <th>52   </th>\n",
        "      <td>    57</td>\n",
        "      <td> 39</td>\n",
        "      <td> 1</td>\n",
        "      <td> 1</td>\n",
        "      <td>  4619.754785</td>\n",
        "      <td> 0</td>\n",
        "    </tr>\n",
        "    <tr>\n",
        "      <th>55   </th>\n",
        "      <td>    60</td>\n",
        "      <td> 40</td>\n",
        "      <td> 1</td>\n",
        "      <td> 1</td>\n",
        "      <td>  7071.357329</td>\n",
        "      <td> 0</td>\n",
        "    </tr>\n",
        "    <tr>\n",
        "      <th>58   </th>\n",
        "      <td>    63</td>\n",
        "      <td> 41</td>\n",
        "      <td> 1</td>\n",
        "      <td> 1</td>\n",
        "      <td>  7419.813716</td>\n",
        "      <td> 0</td>\n",
        "    </tr>\n",
        "    <tr>\n",
        "      <th>60   </th>\n",
        "      <td>    69</td>\n",
        "      <td> 37</td>\n",
        "      <td> 1</td>\n",
        "      <td> 1</td>\n",
        "      <td>  6280.839607</td>\n",
        "      <td>-1</td>\n",
        "    </tr>\n",
        "    <tr>\n",
        "      <th>62   </th>\n",
        "      <td>    70</td>\n",
        "      <td> 39</td>\n",
        "      <td> 1</td>\n",
        "      <td> 1</td>\n",
        "      <td>  7646.969226</td>\n",
        "      <td> 0</td>\n",
        "    </tr>\n",
        "    <tr>\n",
        "      <th>65   </th>\n",
        "      <td>    71</td>\n",
        "      <td> 39</td>\n",
        "      <td> 1</td>\n",
        "      <td> 1</td>\n",
        "      <td>  7007.241656</td>\n",
        "      <td> 0</td>\n",
        "    </tr>\n",
        "    <tr>\n",
        "      <th>67   </th>\n",
        "      <td>    72</td>\n",
        "      <td> 39</td>\n",
        "      <td> 1</td>\n",
        "      <td> 1</td>\n",
        "      <td>  3391.286832</td>\n",
        "      <td> 0</td>\n",
        "    </tr>\n",
        "    <tr>\n",
        "      <th>68   </th>\n",
        "      <td>    73</td>\n",
        "      <td> 40</td>\n",
        "      <td> 1</td>\n",
        "      <td> 1</td>\n",
        "      <td>  7970.095929</td>\n",
        "      <td> 0</td>\n",
        "    </tr>\n",
        "    <tr>\n",
        "      <th>70   </th>\n",
        "      <td>    77</td>\n",
        "      <td> 39</td>\n",
        "      <td> 1</td>\n",
        "      <td> 1</td>\n",
        "      <td>  4833.129067</td>\n",
        "      <td> 0</td>\n",
        "    </tr>\n",
        "    <tr>\n",
        "      <th>72   </th>\n",
        "      <td>    80</td>\n",
        "      <td> 39</td>\n",
        "      <td> 1</td>\n",
        "      <td> 1</td>\n",
        "      <td>  6522.561064</td>\n",
        "      <td> 0</td>\n",
        "    </tr>\n",
        "    <tr>\n",
        "      <th>...</th>\n",
        "      <td>...</td>\n",
        "      <td>...</td>\n",
        "      <td>...</td>\n",
        "      <td>...</td>\n",
        "      <td>...</td>\n",
        "      <td>...</td>\n",
        "    </tr>\n",
        "    <tr>\n",
        "      <th>13502</th>\n",
        "      <td> 12488</td>\n",
        "      <td> 39</td>\n",
        "      <td> 1</td>\n",
        "      <td> 1</td>\n",
        "      <td>  2579.841023</td>\n",
        "      <td> 0</td>\n",
        "    </tr>\n",
        "    <tr>\n",
        "      <th>13506</th>\n",
        "      <td> 12490</td>\n",
        "      <td> 41</td>\n",
        "      <td> 1</td>\n",
        "      <td> 1</td>\n",
        "      <td> 15615.959146</td>\n",
        "      <td> 0</td>\n",
        "    </tr>\n",
        "    <tr>\n",
        "      <th>13509</th>\n",
        "      <td> 12494</td>\n",
        "      <td> 41</td>\n",
        "      <td> 1</td>\n",
        "      <td> 1</td>\n",
        "      <td>  4777.128625</td>\n",
        "      <td> 0</td>\n",
        "    </tr>\n",
        "    <tr>\n",
        "      <th>13511</th>\n",
        "      <td> 12497</td>\n",
        "      <td> 39</td>\n",
        "      <td> 1</td>\n",
        "      <td> 1</td>\n",
        "      <td>  1718.629211</td>\n",
        "      <td> 0</td>\n",
        "    </tr>\n",
        "    <tr>\n",
        "      <th>13516</th>\n",
        "      <td> 12499</td>\n",
        "      <td> 39</td>\n",
        "      <td> 1</td>\n",
        "      <td> 1</td>\n",
        "      <td>  6688.732484</td>\n",
        "      <td> 0</td>\n",
        "    </tr>\n",
        "    <tr>\n",
        "      <th>13518</th>\n",
        "      <td> 12501</td>\n",
        "      <td> 39</td>\n",
        "      <td> 1</td>\n",
        "      <td> 1</td>\n",
        "      <td>  9047.062822</td>\n",
        "      <td> 0</td>\n",
        "    </tr>\n",
        "    <tr>\n",
        "      <th>13519</th>\n",
        "      <td> 12507</td>\n",
        "      <td> 38</td>\n",
        "      <td> 1</td>\n",
        "      <td> 1</td>\n",
        "      <td>  5699.691101</td>\n",
        "      <td> 0</td>\n",
        "    </tr>\n",
        "    <tr>\n",
        "      <th>13520</th>\n",
        "      <td> 12508</td>\n",
        "      <td> 39</td>\n",
        "      <td> 1</td>\n",
        "      <td> 1</td>\n",
        "      <td>  3000.702121</td>\n",
        "      <td> 0</td>\n",
        "    </tr>\n",
        "    <tr>\n",
        "      <th>13522</th>\n",
        "      <td> 12510</td>\n",
        "      <td> 41</td>\n",
        "      <td> 1</td>\n",
        "      <td> 1</td>\n",
        "      <td>  4791.290760</td>\n",
        "      <td> 0</td>\n",
        "    </tr>\n",
        "    <tr>\n",
        "      <th>13525</th>\n",
        "      <td> 12511</td>\n",
        "      <td> 42</td>\n",
        "      <td> 1</td>\n",
        "      <td> 1</td>\n",
        "      <td>  8886.910910</td>\n",
        "      <td> 0</td>\n",
        "    </tr>\n",
        "    <tr>\n",
        "      <th>13528</th>\n",
        "      <td> 12514</td>\n",
        "      <td> 35</td>\n",
        "      <td> 1</td>\n",
        "      <td> 1</td>\n",
        "      <td>  2993.098981</td>\n",
        "      <td>-1</td>\n",
        "    </tr>\n",
        "    <tr>\n",
        "      <th>13531</th>\n",
        "      <td> 12518</td>\n",
        "      <td> 33</td>\n",
        "      <td> 1</td>\n",
        "      <td> 1</td>\n",
        "      <td>  8322.635605</td>\n",
        "      <td>-1</td>\n",
        "    </tr>\n",
        "    <tr>\n",
        "      <th>13537</th>\n",
        "      <td> 12525</td>\n",
        "      <td> 38</td>\n",
        "      <td> 1</td>\n",
        "      <td> 1</td>\n",
        "      <td> 19740.964148</td>\n",
        "      <td> 0</td>\n",
        "    </tr>\n",
        "    <tr>\n",
        "      <th>13538</th>\n",
        "      <td> 12528</td>\n",
        "      <td> 39</td>\n",
        "      <td> 1</td>\n",
        "      <td> 1</td>\n",
        "      <td>  6937.382047</td>\n",
        "      <td> 0</td>\n",
        "    </tr>\n",
        "    <tr>\n",
        "      <th>13544</th>\n",
        "      <td> 12535</td>\n",
        "      <td> 39</td>\n",
        "      <td> 1</td>\n",
        "      <td> 1</td>\n",
        "      <td>  7045.169353</td>\n",
        "      <td> 0</td>\n",
        "    </tr>\n",
        "    <tr>\n",
        "      <th>13547</th>\n",
        "      <td> 12539</td>\n",
        "      <td> 30</td>\n",
        "      <td> 1</td>\n",
        "      <td> 1</td>\n",
        "      <td>  5514.230879</td>\n",
        "      <td>-1</td>\n",
        "    </tr>\n",
        "    <tr>\n",
        "      <th>13551</th>\n",
        "      <td> 12541</td>\n",
        "      <td> 38</td>\n",
        "      <td> 1</td>\n",
        "      <td> 1</td>\n",
        "      <td>  5322.699216</td>\n",
        "      <td> 0</td>\n",
        "    </tr>\n",
        "    <tr>\n",
        "      <th>13555</th>\n",
        "      <td> 12544</td>\n",
        "      <td> 39</td>\n",
        "      <td> 1</td>\n",
        "      <td> 1</td>\n",
        "      <td>  7334.180241</td>\n",
        "      <td> 0</td>\n",
        "    </tr>\n",
        "    <tr>\n",
        "      <th>13559</th>\n",
        "      <td> 12545</td>\n",
        "      <td> 39</td>\n",
        "      <td> 1</td>\n",
        "      <td> 1</td>\n",
        "      <td> 13914.884458</td>\n",
        "      <td> 0</td>\n",
        "    </tr>\n",
        "    <tr>\n",
        "      <th>13560</th>\n",
        "      <td> 12546</td>\n",
        "      <td> 40</td>\n",
        "      <td> 1</td>\n",
        "      <td> 1</td>\n",
        "      <td>  9415.207134</td>\n",
        "      <td> 0</td>\n",
        "    </tr>\n",
        "    <tr>\n",
        "      <th>13562</th>\n",
        "      <td> 12547</td>\n",
        "      <td> 38</td>\n",
        "      <td> 1</td>\n",
        "      <td> 1</td>\n",
        "      <td> 11499.619080</td>\n",
        "      <td> 0</td>\n",
        "    </tr>\n",
        "    <tr>\n",
        "      <th>13565</th>\n",
        "      <td> 12550</td>\n",
        "      <td> 41</td>\n",
        "      <td> 1</td>\n",
        "      <td> 1</td>\n",
        "      <td>  5268.550165</td>\n",
        "      <td> 0</td>\n",
        "    </tr>\n",
        "    <tr>\n",
        "      <th>13566</th>\n",
        "      <td> 12551</td>\n",
        "      <td> 40</td>\n",
        "      <td> 1</td>\n",
        "      <td> 1</td>\n",
        "      <td>  3951.940400</td>\n",
        "      <td> 0</td>\n",
        "    </tr>\n",
        "    <tr>\n",
        "      <th>13569</th>\n",
        "      <td> 12556</td>\n",
        "      <td> 38</td>\n",
        "      <td> 1</td>\n",
        "      <td> 1</td>\n",
        "      <td>  3965.699528</td>\n",
        "      <td> 0</td>\n",
        "    </tr>\n",
        "    <tr>\n",
        "      <th>13573</th>\n",
        "      <td> 12561</td>\n",
        "      <td> 39</td>\n",
        "      <td> 1</td>\n",
        "      <td> 1</td>\n",
        "      <td>  4497.301527</td>\n",
        "      <td> 0</td>\n",
        "    </tr>\n",
        "    <tr>\n",
        "      <th>13576</th>\n",
        "      <td> 12565</td>\n",
        "      <td> 39</td>\n",
        "      <td> 1</td>\n",
        "      <td> 1</td>\n",
        "      <td>  6652.409365</td>\n",
        "      <td> 0</td>\n",
        "    </tr>\n",
        "    <tr>\n",
        "      <th>13578</th>\n",
        "      <td> 12566</td>\n",
        "      <td> 39</td>\n",
        "      <td> 1</td>\n",
        "      <td> 1</td>\n",
        "      <td>  2627.548587</td>\n",
        "      <td> 0</td>\n",
        "    </tr>\n",
        "    <tr>\n",
        "      <th>13581</th>\n",
        "      <td> 12568</td>\n",
        "      <td> 39</td>\n",
        "      <td> 1</td>\n",
        "      <td> 1</td>\n",
        "      <td>  7772.212858</td>\n",
        "      <td> 0</td>\n",
        "    </tr>\n",
        "    <tr>\n",
        "      <th>13584</th>\n",
        "      <td> 12569</td>\n",
        "      <td> 34</td>\n",
        "      <td> 1</td>\n",
        "      <td> 1</td>\n",
        "      <td>  5075.164946</td>\n",
        "      <td>-1</td>\n",
        "    </tr>\n",
        "    <tr>\n",
        "      <th>13588</th>\n",
        "      <td> 12571</td>\n",
        "      <td> 39</td>\n",
        "      <td> 1</td>\n",
        "      <td> 1</td>\n",
        "      <td>  6269.200989</td>\n",
        "      <td> 0</td>\n",
        "    </tr>\n",
        "  </tbody>\n",
        "</table>\n",
        "<p>4351 rows \u00d7 6 columns</p>\n",
        "</div>"
       ],
       "metadata": {},
       "output_type": "pyout",
       "prompt_number": 61,
       "text": [
        "       caseId  prgLength  outcome  birthOrd      finalWgt  Risk\n",
        "0           1         39        1         1   6448.271112     0\n",
        "2           2         39        1         1  12999.542264     0\n",
        "5           6         38        1         1   8874.440799     0\n",
        "8           7         39        1         1   6911.879921     0\n",
        "10         12         39        1         1   6909.331618     0\n",
        "11         14         39        1         1   3039.904507     0\n",
        "15         15         33        1         1   5553.495599    -1\n",
        "17         18         39        1         1   4153.371741     0\n",
        "19         21         41        1         1   7237.122630     0\n",
        "21         23         39        1         1  13533.382043     0\n",
        "23         24         39        1         1   7424.840414     0\n",
        "26         28         39        1         1   6949.846082     0\n",
        "27         31         42        1         1   5211.943113     0\n",
        "31         36         41        1         1   3594.537973     0\n",
        "32         38         38        1         1  10137.324111     0\n",
        "35         39         39        1         1   1853.347258     0\n",
        "39         44         39        1         1   4656.011334     0\n",
        "42         46         36        1         1  28882.846732    -1\n",
        "44         49         39        1         1   2737.370222     0\n",
        "48         51         39        1         1  11361.980792     0\n",
        "52         57         39        1         1   4619.754785     0\n",
        "55         60         40        1         1   7071.357329     0\n",
        "58         63         41        1         1   7419.813716     0\n",
        "60         69         37        1         1   6280.839607    -1\n",
        "62         70         39        1         1   7646.969226     0\n",
        "65         71         39        1         1   7007.241656     0\n",
        "67         72         39        1         1   3391.286832     0\n",
        "68         73         40        1         1   7970.095929     0\n",
        "70         77         39        1         1   4833.129067     0\n",
        "72         80         39        1         1   6522.561064     0\n",
        "...       ...        ...      ...       ...           ...   ...\n",
        "13502   12488         39        1         1   2579.841023     0\n",
        "13506   12490         41        1         1  15615.959146     0\n",
        "13509   12494         41        1         1   4777.128625     0\n",
        "13511   12497         39        1         1   1718.629211     0\n",
        "13516   12499         39        1         1   6688.732484     0\n",
        "13518   12501         39        1         1   9047.062822     0\n",
        "13519   12507         38        1         1   5699.691101     0\n",
        "13520   12508         39        1         1   3000.702121     0\n",
        "13522   12510         41        1         1   4791.290760     0\n",
        "13525   12511         42        1         1   8886.910910     0\n",
        "13528   12514         35        1         1   2993.098981    -1\n",
        "13531   12518         33        1         1   8322.635605    -1\n",
        "13537   12525         38        1         1  19740.964148     0\n",
        "13538   12528         39        1         1   6937.382047     0\n",
        "13544   12535         39        1         1   7045.169353     0\n",
        "13547   12539         30        1         1   5514.230879    -1\n",
        "13551   12541         38        1         1   5322.699216     0\n",
        "13555   12544         39        1         1   7334.180241     0\n",
        "13559   12545         39        1         1  13914.884458     0\n",
        "13560   12546         40        1         1   9415.207134     0\n",
        "13562   12547         38        1         1  11499.619080     0\n",
        "13565   12550         41        1         1   5268.550165     0\n",
        "13566   12551         40        1         1   3951.940400     0\n",
        "13569   12556         38        1         1   3965.699528     0\n",
        "13573   12561         39        1         1   4497.301527     0\n",
        "13576   12565         39        1         1   6652.409365     0\n",
        "13578   12566         39        1         1   2627.548587     0\n",
        "13581   12568         39        1         1   7772.212858     0\n",
        "13584   12569         34        1         1   5075.164946    -1\n",
        "13588   12571         39        1         1   6269.200989     0\n",
        "\n",
        "[4351 rows x 6 columns]"
       ]
      }
     ],
     "prompt_number": 61
    },
    {
     "cell_type": "code",
     "collapsed": false,
     "input": [
      "firstbirth3['Risk'] = 0"
     ],
     "language": "python",
     "metadata": {},
     "outputs": [],
     "prompt_number": 64
    },
    {
     "cell_type": "code",
     "collapsed": false,
     "input": [
      "firstbirth3['Risk'][firstbirth3['prgLength'] < 38] = -1"
     ],
     "language": "python",
     "metadata": {},
     "outputs": [],
     "prompt_number": 65
    },
    {
     "cell_type": "code",
     "collapsed": false,
     "input": [
      "firstbirth3['Risk'][firstbirth3['prgLength'] > 40] = 1"
     ],
     "language": "python",
     "metadata": {},
     "outputs": [],
     "prompt_number": 66
    },
    {
     "cell_type": "code",
     "collapsed": false,
     "input": [
      "plt.hist(firstbirth3['Risk'], bins=3, normed=1)"
     ],
     "language": "python",
     "metadata": {},
     "outputs": [
      {
       "metadata": {},
       "output_type": "pyout",
       "prompt_number": 70,
       "text": [
        "(array([ 0.25787175,  1.00735463,  0.23477362]),\n",
        " array([-1.        , -0.33333333,  0.33333333,  1.        ]),\n",
        " <a list of 3 Patch objects>)"
       ]
      },
      {
       "metadata": {},
       "output_type": "display_data",
       "png": "[encoded data removed]",
       "text": [
        "<matplotlib.figure.Figure at 0x181e8080>"
       ]
      }
     ],
     "prompt_number": 70
    },
    {
     "cell_type": "markdown",
     "metadata": {},
     "source": [
      "Let's compute the probability of being *early*, *on time* and *late* for first babies and the others."
     ]
    },
    {
     "cell_type": "code",
     "collapsed": false,
     "input": [
      "print \"Firsts babies: \"\n",
      "print \"Early\",len(firstbirth3[firstbirth3['Risk'] == -1])/float(len(firstbirth3.index))\n",
      "print \"Late\", len(firstbirth3[firstbirth3['Risk'] == 1])/float(len(firstbirth3.index))\n",
      "print \"On time\", len(firstbirth3[firstbirth3['Risk'] == 0])/float(len(firstbirth3.index))"
     ],
     "language": "python",
     "metadata": {},
     "outputs": [
      {
       "output_type": "stream",
       "stream": "stdout",
       "text": [
        "Firsts babies: \n",
        "Early 0.171914502413\n",
        "Late 0.156515743507\n",
        "On time 0.67156975408\n"
       ]
      }
     ],
     "prompt_number": 71
    },
    {
     "cell_type": "code",
     "collapsed": false,
     "input": [
      "othersbirth3['Risk'] = 0\n",
      "othersbirth3['Risk'][othersbirth3['prgLength'] < 38] = -1\n",
      "othersbirth3['Risk'][othersbirth3['prgLength'] > 40] = 1"
     ],
     "language": "python",
     "metadata": {},
     "outputs": [],
     "prompt_number": 72
    },
    {
     "cell_type": "code",
     "collapsed": false,
     "input": [
      "print \"Other babies:\"\n",
      "print \"Early\", len(othersbirth3[othersbirth3['Risk'] == -1])/float(len(othersbirth3.index))\n",
      "print \"Late\", len(othersbirth3[othersbirth3['Risk'] == 1])/float(len(othersbirth3.index))\n",
      "print \"On time\", len(othersbirth3[othersbirth3['Risk'] == 0])/float(len(othersbirth3.index))"
     ],
     "language": "python",
     "metadata": {},
     "outputs": [
      {
       "output_type": "stream",
       "stream": "stdout",
       "text": [
        "Other babies:\n",
        "Early 0.160008545183\n",
        "Late 0.0935697500534\n",
        "On time 0.746421704764\n"
       ]
      }
     ],
     "prompt_number": 73
    },
    {
     "cell_type": "markdown",
     "metadata": {},
     "source": [
      "The **relative risk** is the ratio of two probabilities. In our case, the probability that a first baby is born early is 17%. For other babies is 16%, so the relative risk is:"
     ]
    },
    {
     "cell_type": "code",
     "collapsed": false,
     "input": [
      "a = len(firstbirth3[firstbirth3['Risk'] == -1])/float(len(firstbirth3.index))\n",
      "b = len(othersbirth3[othersbirth3['Risk'] == -1])/float(len(othersbirth3.index))\n",
      "print a/b"
     ],
     "language": "python",
     "metadata": {},
     "outputs": [
      {
       "output_type": "stream",
       "stream": "stdout",
       "text": [
        "1.07440825874\n"
       ]
      }
     ],
     "prompt_number": 74
    },
    {
     "cell_type": "markdown",
     "metadata": {},
     "source": [
      "That means that first babies are about 7% more likely to be early. For the case of late births:"
     ]
    },
    {
     "cell_type": "code",
     "collapsed": false,
     "input": [
      "a = len(firstbirth3[firstbirth3['Risk'] == 1])/float(len(firstbirth3))\n",
      "b = len(othersbirth3[othersbirth3['Risk'] == 1])/float(len(othersbirth3))\n",
      "print a/b"
     ],
     "language": "python",
     "metadata": {},
     "outputs": [
      {
       "output_type": "stream",
       "stream": "stdout",
       "text": [
        "1.672717341\n"
       ]
      }
     ],
     "prompt_number": 79
    },
    {
     "cell_type": "markdown",
     "metadata": {},
     "source": [
      "That means that first babies are about 67% more likely to be late. "
     ]
    },
    {
     "cell_type": "markdown",
     "metadata": {},
     "source": [
      "## 2.7 A firts glimpse to Conditional Probability\n",
      "\n",
      "Imagine that someone you know is pregnant and it is the beginning of week 39. What is the chance that the baby will be born in the week 39? What is the chance if it is a first baby?\n",
      "\n",
      "We can ask these questions by computing a **conditional probability**, $P(X|Y)$.\n",
      "\n",
      "In our first question, the event $X$ is a birth in week 39 and the event $Y$ is that we know that the baby didn't arrive during weeks 0-38. In the second question, we also know that it is a first baby.\n",
      "\n",
      "A simple way to compute these chances is to drop from our data the cases that do not fulfill the conditions and then renormalize."
     ]
    },
    {
     "cell_type": "code",
     "collapsed": false,
     "input": [
      "df4 = df3.drop(df3.index[df3['prgLength'] < 39]) \n",
      "df4.shape"
     ],
     "language": "python",
     "metadata": {},
     "outputs": [
      {
       "metadata": {},
       "output_type": "pyout",
       "prompt_number": 80,
       "text": [
        "(6987, 5)"
       ]
      }
     ],
     "prompt_number": 80
    },
    {
     "cell_type": "code",
     "collapsed": false,
     "input": [
      "x = df4.prgLength\n",
      "x.hist(bins=6, histtype='stepfilled', alpha=.5)   "
     ],
     "language": "python",
     "metadata": {},
     "outputs": [
      {
       "metadata": {},
       "output_type": "pyout",
       "prompt_number": 81,
       "text": [
        "<matplotlib.axes.AxesSubplot at 0x1900db70>"
       ]
      },
      {
       "metadata": {},
       "output_type": "display_data",
       "png": "[encoded data removed]",
       "text": [
        "<matplotlib.figure.Figure at 0x19a67128>"
       ]
      }
     ],
     "prompt_number": 81
    },
    {
     "cell_type": "markdown",
     "metadata": {},
     "source": [
      "We are ready to compute the probability that the baby will be born in the week 39 for a pregnant woman in the beginning of week 39."
     ]
    },
    {
     "cell_type": "code",
     "collapsed": false,
     "input": [
      "print len(df4[(df4.prgLength == 39)].index)/float(len(df4))"
     ],
     "language": "python",
     "metadata": {},
     "outputs": [
      {
       "output_type": "stream",
       "stream": "stdout",
       "text": [
        "0.678975239731\n"
       ]
      }
     ],
     "prompt_number": 82
    },
    {
     "cell_type": "code",
     "collapsed": false,
     "input": [
      "df4[(df4.prgLength == 39)].index"
     ],
     "language": "python",
     "metadata": {},
     "outputs": [
      {
       "metadata": {},
       "output_type": "pyout",
       "prompt_number": 83,
       "text": [
        "Int64Index([0, 1, 2, 3, 4, 8, 10, 11, 17, 20, 21, 23, 24, 25, 26, 33, 34, 35, 39, 44, 47, 48, 49, 52, 54, 62, 65, 67, 70, 71, 72, 74, 75, 76, 77, 78, 79, 82, 83, 87, 88, 89, 90, 91, 92, 94, 95, 96, 97, 98, 99, 100, 104, 105, 106, 108, 113, 115, 116, 117, 118, 119, 120, 121, 124, 126, 127, 129, 140, 142, 143, 148, 155, 159, 163, 166, 167, 170, 171, 172, 174, 176, 187, 188, 190, 191, 204, 205, 207, 208, 209, 212, 214, 215, 216, 220, 222, 239, 240, 246, ...], dtype='int64')"
       ]
      }
     ],
     "prompt_number": 83
    },
    {
     "cell_type": "markdown",
     "metadata": {},
     "source": [
      "Let's now add the second condition."
     ]
    },
    {
     "cell_type": "code",
     "collapsed": false,
     "input": [
      "firstbirth39 = df4[(df4.birthOrd == 1)]\n",
      "othersbirth39 = df4[(df4.birthOrd > 1)]\n",
      "x = firstbirth39['prgLength']\n",
      "y = othersbirth39['prgLength']\n",
      "x.hist(bins=6,  normed=True, histtype='stepfilled', alpha=.5)   # default number of bins = 10, blue\n",
      "y.hist(bins=6,  normed=True, histtype='stepfilled', alpha=.5, color=sns.desaturate(\"indianred\", .75))"
     ],
     "language": "python",
     "metadata": {},
     "outputs": [
      {
       "metadata": {},
       "output_type": "pyout",
       "prompt_number": 87,
       "text": [
        "<matplotlib.axes.AxesSubplot at 0x1a5cc2b0>"
       ]
      },
      {
       "metadata": {},
       "output_type": "display_data",
       "png": "[encoded data removed]",
       "text": [
        "<matplotlib.figure.Figure at 0x183f4b70>"
       ]
      }
     ],
     "prompt_number": 87
    },
    {
     "cell_type": "code",
     "collapsed": false,
     "input": [
      "print 'Probability First baby on week 39: ', len(firstbirth39[(firstbirth39.prgLength == 39)].index)/float(len(firstbirth39.index))"
     ],
     "language": "python",
     "metadata": {},
     "outputs": [
      {
       "output_type": "stream",
       "stream": "stdout",
       "text": [
        "Probability First baby on week 39:  0.634644250976\n"
       ]
      }
     ],
     "prompt_number": 88
    },
    {
     "cell_type": "code",
     "collapsed": false,
     "input": [
      "print 'Probability non first baby to be born on week 39: ',len(othersbirth39[(othersbirth39.prgLength == 39)].index)/float(len(othersbirth39.index))\n"
     ],
     "language": "python",
     "metadata": {},
     "outputs": [
      {
       "output_type": "stream",
       "stream": "stdout",
       "text": [
        "Probability non first baby to be born on week 39:  0.716986377537\n"
       ]
      }
     ],
     "prompt_number": 89
    },
    {
     "cell_type": "markdown",
     "metadata": {},
     "source": [
      "### Discussions.\n",
      "\n",
      "After exploring the data we have seem some **appearent effects** that seem to support our first hypothesis:\n",
      "\n",
      "+ **Data description**: The mean pregnant lenght for first babies is 38.76 and for other babies is 38.65.\n",
      "\n",
      "+ **Relative risk**: First babies are about 67% more likely to be late.\n",
      "\n",
      "+ **Conditional probability**: If someone is pregnant and it is the beginning of week 39, the chance (63% vs. 72%) that the baby will be born in the week 39 is lower if it is the first baby."
     ]
    },
    {
     "cell_type": "markdown",
     "metadata": {},
     "source": [
      "### Other possible experiments\n",
      "\n",
      "We can compare the first and others for the same woman. While may be unlikely it could still be that a tendency exists for a woman's second, third, etc, child comes earlier.\n",
      "\n",
      "<small>(Result:  The second baby is born about some hours earlier, but this difference is not *statistically significant*.)<small>"
     ]
    },
    {
     "cell_type": "markdown",
     "metadata": {},
     "source": [
      "<font color='blue'>\n",
      "## 3 Probabilities  (frequentist point of view). \n",
      "* 3.1 Probability rules\n",
      "* 3.2 Monte Carlo\n",
      "* 3.3 Continuous distribution\n",
      "* 3.4 Central limit Theorem\n",
      "* 3.5 Kernel density\n",
      "<font\\>"
     ]
    },
    {
     "cell_type": "markdown",
     "metadata": {},
     "source": [
      "The most common definition of **probability** is a frequency expressed as a fraction of the universe of possible outcomes. \n",
      "\n",
      "Thus, it is a real value between 0 and 1 that is intended to be a measure corresponding to the idea that some things are more likely than others.\n",
      "\n",
      "The things we assign probabilities are called **events**, $E$.  A situation where $E$ might or might not happen is called a **trial**.\n",
      "\n",
      "In the case of a six-sided die, each roll is called a **trial**. If we want to compute $P(6)$, each time a 6 appears is called a **success**. Other trials are called **failures**. \n",
      "\n",
      "If in a **finite series of $n$ identical trials** we observe $s$ successes, the probability of the success is $s/n$.\n",
      "\n"
     ]
    },
    {
     "cell_type": "markdown",
     "metadata": {},
     "source": [
      "## 3.1 Probability Rules \n",
      "\n",
      "A rule that is not always true: $P(A \\mbox{ and } B) = P(A) P(B)$. \n",
      "\n",
      "It is true when $A$ and $B$ are **independent**. \n",
      "$A$ and $B$ are **independent** if I know $A$ occurred, that doesn't change the probability of $B$ and viceversa. Trials corresponding to tossing a coin are independent. \n",
      "\n",
      "A rule that is true when $A$ and $B$ are **not independent**: \n",
      "\n",
      "$$ P(A|B) = \\frac{P(A \\mbox{ and } B)}{P(B)}$$\n",
      "\n",
      "From that we can derive: \n",
      "\n",
      "$$P(A \\mbox{ and } B) = P(A) P(B|A) = P(B) P(A|B)$$"
     ]
    },
    {
     "cell_type": "markdown",
     "metadata": {},
     "source": [
      "**Exercises**: \n",
      "\n",
      "+ If I have two children and we know that at least one of them is a girl, what is the probability that they are two girls?\n",
      "+ If I have two children and we know that the older one is a girl, what is the probability that they are two girls?"
     ]
    },
    {
     "cell_type": "code",
     "collapsed": false,
     "input": [
      "## Your solutions"
     ],
     "language": "python",
     "metadata": {},
     "outputs": []
    },
    {
     "cell_type": "markdown",
     "metadata": {},
     "source": [
      "### More probability rules\n",
      "\n",
      "We say that two events are **mutually exclusive** if:\n",
      "\n",
      "$$ P(A | B) = P(B | A) = 0 $$\n",
      "\n",
      "In this case it is easy to show that:\n",
      "\n",
      "$$ P(A \\mbox{ or } B) = P(A) + P(B)$$\n",
      "\n",
      "If $A$ and $B$ are not mutually exclusive\n",
      "\n",
      "$$ P(A \\mbox{ or } B) = P(A) + P(B) - P(A \\mbox{ and } B) $$"
     ]
    },
    {
     "cell_type": "markdown",
     "metadata": {},
     "source": [
      "**Exercises**: Counting is the most basic skill to solve probability problems.\n",
      "\n",
      "+ If I roll two dice and the total is 8, what is the probability that one of the dice is 6?\n",
      "+ If I roll 100 dice, what is the probability of getting all sixes? \n",
      "+ What is the probability of getting no sixes?\n",
      "+ What is the probability of getting at least one six?\n",
      "+ If I have two children, what is the probability that they are two girls?"
     ]
    },
    {
     "cell_type": "code",
     "collapsed": false,
     "input": [
      "#Your solution here"
     ],
     "language": "python",
     "metadata": {},
     "outputs": [],
     "prompt_number": 91
    },
    {
     "cell_type": "markdown",
     "metadata": {},
     "source": [
      "## 3.2 Binomial distribution\n",
      "\n",
      "More generally, the probability distribution that represents the probability of getting $k$ times a success with probability $p$ in $n$ trials is:\n",
      "\n",
      "$$ PMF(k) = {n \\choose k} p^k (1-p)^{(n-k)}$$\n",
      "\n",
      "where ${n \\choose k} = \\frac{n!}{k!(n-k)!}$. This is called **binomial distribution**."
     ]
    },
    {
     "cell_type": "code",
     "collapsed": false,
     "input": [
      "import scipy.misc as sc\n",
      "n = 5\n",
      "k = 2\n",
      "sc.comb(n, k, exact=True) # Chances of 2 successes in 5 trials"
     ],
     "language": "python",
     "metadata": {},
     "outputs": [
      {
       "metadata": {},
       "output_type": "pyout",
       "prompt_number": 92,
       "text": [
        "10"
       ]
      }
     ],
     "prompt_number": 92
    },
    {
     "cell_type": "markdown",
     "metadata": {},
     "source": [
      "What is the probability of having 5 heads in 9 trials?"
     ]
    },
    {
     "cell_type": "code",
     "collapsed": false,
     "input": [
      "# chances of 5 heads in 9 tosses\n",
      "\n",
      "a = sc.comb(9, 5, exact=True)\n",
      "print a"
     ],
     "language": "python",
     "metadata": {},
     "outputs": [
      {
       "output_type": "stream",
       "stream": "stdout",
       "text": [
        "126\n"
       ]
      }
     ],
     "prompt_number": 142
    },
    {
     "cell_type": "code",
     "collapsed": false,
     "input": [
      "p = 0.5\n",
      "print 'Prob: ', a * p**5 * (1-p)**4"
     ],
     "language": "python",
     "metadata": {},
     "outputs": [
      {
       "output_type": "stream",
       "stream": "stdout",
       "text": [
        "Prob:  0.24609375\n"
       ]
      }
     ],
     "prompt_number": 143
    },
    {
     "cell_type": "markdown",
     "metadata": {},
     "source": [
      "What is the probability of having 6 sixes in 9 trials?"
     ]
    },
    {
     "cell_type": "code",
     "collapsed": false,
     "input": [
      "#  Your solution here"
     ],
     "language": "python",
     "metadata": {},
     "outputs": [],
     "prompt_number": 93
    },
    {
     "cell_type": "markdown",
     "metadata": {},
     "source": [
      "## 3.3 Monte Carlo Experiments\n",
      "\n",
      "Monte Carlo experiments are a broad class of computational algorithms that rely on repeated random sampling to obtain numerical results; typically one runs simulations many times over in order to obtain the distribution of an unknown probabilistic entity. (*Source: Wikipedia*)"
     ]
    },
    {
     "cell_type": "markdown",
     "metadata": {},
     "source": [
      "**Trivial case**: What are the chances of getting a six in one trial?"
     ]
    },
    {
     "cell_type": "code",
     "collapsed": false,
     "input": [
      "import random\n",
      "import sys\n",
      "N = 10000 # perform N experiments\n",
      "M = 0 # number of times, we got 6\n",
      "for i in xrange(N):\n",
      "    outcome = random.randint(1, 6)\n",
      "    if outcome == 6:\n",
      "        M += 1\n",
      "print 'I got six %d times out of %d' % (M, N), '; Prob = ', float(M)/N, 'Note that: 1/6=', 1/6.0"
     ],
     "language": "python",
     "metadata": {},
     "outputs": [
      {
       "output_type": "stream",
       "stream": "stdout",
       "text": [
        "I got six 1655 times out of 10000 ; Prob =  0.1655 Note that: 1/6= 0.166666666667\n"
       ]
      }
     ],
     "prompt_number": 96
    },
    {
     "cell_type": "markdown",
     "metadata": {},
     "source": [
      "What are the chances of getting a six in two trials?"
     ]
    },
    {
     "cell_type": "code",
     "collapsed": false,
     "input": [
      "#  chances of (exactly) 1 six in 2 trials\n",
      "\n",
      "a = sc.comb(2, 1, exact=True)\n",
      "p = 1/6.0\n",
      "print 'Prob: ', a * p * (1-p)"
     ],
     "language": "python",
     "metadata": {},
     "outputs": [
      {
       "output_type": "stream",
       "stream": "stdout",
       "text": [
        "Prob:  0.277777777778\n"
       ]
      }
     ],
     "prompt_number": 97
    },
    {
     "cell_type": "code",
     "collapsed": false,
     "input": [
      "import random\n",
      "import sys\n",
      "N = 10000 # perform N experiments\n",
      "M = 0 # no of times we get one 6\n",
      "for i in xrange(N):\n",
      "    outcome1 = random.randint(1, 6)\n",
      "    outcome2 = random.randint(1, 6)\n",
      "    if (outcome1 == 6 and outcome2 !=6) or (outcome1 != 6 and outcome2 == 6):\n",
      "        M += 1\n",
      "print 'I got one six %d times out of %d' % (M, N), '; Prob = ', float(M)/N"
     ],
     "language": "python",
     "metadata": {},
     "outputs": [
      {
       "output_type": "stream",
       "stream": "stdout",
       "text": [
        "I got one six 2737 times out of 10000 ; Prob =  0.2737\n"
       ]
      }
     ],
     "prompt_number": 98
    },
    {
     "cell_type": "markdown",
     "metadata": {},
     "source": [
      "**Exercise**: You throw two dice, one black and one red. What is the probability\n",
      "that the number of eyes on the black die is larger than the number of\n",
      "eyes on the red die?"
     ]
    },
    {
     "cell_type": "code",
     "collapsed": false,
     "input": [
      "# Your solution here"
     ],
     "language": "python",
     "metadata": {},
     "outputs": [],
     "prompt_number": 99
    },
    {
     "cell_type": "markdown",
     "metadata": {},
     "source": [
      "**A more interesting case:** If I roll a dice 100 times, what is the chance of getting at least 6 sixes in a row?"
     ]
    },
    {
     "cell_type": "code",
     "collapsed": false,
     "input": [
      "N = 10000  # perform N experiments\n",
      "M = 100   # times I roll a die for each trial \n",
      "K = 0      # no of times we get 6 sixes in a row\n",
      "success = '66666'\n",
      "for i in xrange(N):\n",
      "    outcome = ''\n",
      "    for i in xrange(M):\n",
      "        outcome += str(random.randint(1, 7))\n",
      "    if outcome.find(success) > 0:\n",
      "        K += 1\n",
      "print K/float(N)"
     ],
     "language": "python",
     "metadata": {},
     "outputs": [
      {
       "output_type": "stream",
       "stream": "stdout",
       "text": [
        "0.0051\n"
       ]
      }
     ],
     "prompt_number": 101
    },
    {
     "cell_type": "markdown",
     "metadata": {},
     "source": [
      "**Exercise**: What is the probability that Messi scores at least 1 goal in a row of 10 matches during a season? (Let's suppose that each match is an independent trial).\n",
      "\n",
      "**Data**: Messi scores 0.83 goals per match (323 goals in 387 matches) and CR4 scores 0.62 (329 goals in 527 matches) goals per match.\n",
      "There are 42 matches in a season. \n",
      "\n",
      "<small>(Source: https://es.answers.yahoo.com/question/index?qid=20130928103148AAFQHsC)</small>"
     ]
    },
    {
     "cell_type": "code",
     "collapsed": false,
     "input": [
      "# Your solution here\n"
     ],
     "language": "python",
     "metadata": {},
     "outputs": [],
     "prompt_number": 102
    },
    {
     "cell_type": "markdown",
     "metadata": {},
     "source": [
      "## 3.4 Continous distributions\n",
      "\n",
      "So far, we have built **empirical distributions** (which represent the distributions of values in a sample), based on observations, but many real problems are well approximated by fitting **continous distributions functions (CDF)**. \n",
      "\n",
      "They are called in this way because the distribution is described by an analytical continous function."
     ]
    },
    {
     "cell_type": "markdown",
     "metadata": {},
     "source": [
      "### 3.4.1 The exponential distribution\n",
      "\n",
      "The CDF of the exponential distribution is:\n",
      "\n",
      "$$ CDF(x) = 1 -  \\exp^{- \\lambda x}$$ \n",
      "\n",
      "And its PDF is:\n",
      "\n",
      "$$ PDF(x) = \\lambda \\exp^{- \\lambda x}$$\n",
      "\n",
      "The parameter $\\lambda$ determines the shape of the distribution, the mean of the distribution is $1/\\lambda$ and its variance is $1/\\lambda^2$. The median is $ln(2)/\\lambda$."
     ]
    },
    {
     "cell_type": "code",
     "collapsed": false,
     "input": [
      "l = 2\n",
      "x=np.arange(0,2.5,0.1)\n",
      "y= 1 - np.exp(-l*x)\n",
      "plt.plot(x,y,'-')\n",
      "plt.title('Exponential CDF: $\\lambda$ =%.2f' % l ,fontsize=15)\n",
      "plt.xlabel('x',fontsize=15)\n",
      "plt.ylabel('CDF',fontsize=15)\n",
      "plt.show()"
     ],
     "language": "python",
     "metadata": {},
     "outputs": [
      {
       "metadata": {},
       "output_type": "display_data",
       "png": "[encoded data removed]",
       "text": [
        "<matplotlib.figure.Figure at 0x1a37eef0>"
       ]
      }
     ],
     "prompt_number": 103
    },
    {
     "cell_type": "code",
     "collapsed": false,
     "input": [
      "from __future__ import division\n",
      "import numpy as np\n",
      "import scipy.stats as stats\n",
      "\n",
      "\n",
      "l = 2\n",
      "x=np.arange(0,2.5,0.1)\n",
      "y= l * np.exp(-l*x)\n",
      "plt.plot(x,y,'-')\n",
      "plt.title('Exponential PDF: $\\lambda$ =%.2f' % l, fontsize=15)\n",
      "plt.xlabel('x', fontsize=15)\n",
      "plt.ylabel('PDF', fontsize=15)\n",
      "plt.show()"
     ],
     "language": "python",
     "metadata": {},
     "outputs": [
      {
       "metadata": {},
       "output_type": "display_data",
       "png": "[encoded data removed]",
       "text": [
        "<matplotlib.figure.Figure at 0x1ab899e8>"
       ]
      }
     ],
     "prompt_number": 104
    },
    {
     "cell_type": "markdown",
     "metadata": {},
     "source": [
      "There are a lot of real world events that can be described with this distribution.\n",
      "* The time until a radioactive particle decays,\n",
      "* The time it takes before your next telephone call,\n",
      "* The time until default (on payment to company debt holders) in reduced form credit risk modeling."
     ]
    },
    {
     "cell_type": "markdown",
     "metadata": {},
     "source": [
      "The random variable $X$ of the lifelengths of some batteries is associated with a probability density function of the form:\n",
      "\n",
      "$$ PDF(x) = \\frac{1}{4} \\exp^{- \\frac{x}{4}}$$ "
     ]
    },
    {
     "cell_type": "code",
     "collapsed": false,
     "input": [
      "l = 0.25\n",
      "x=np.arange(0,25,0.1)\n",
      "y= l * np.exp(-l*x)\n",
      "plt.plot(x,y,'-')\n",
      "plt.title('Exponential: $\\lambda$ =%.2f' % l ,fontsize=15)\n",
      "plt.xlabel('x',fontsize=15)\n",
      "plt.ylabel('PDF',fontsize=15)\n",
      "plt.show()"
     ],
     "language": "python",
     "metadata": {},
     "outputs": [
      {
       "metadata": {},
       "output_type": "display_data",
       "png": "[encoded data removed]",
       "text": [
        "<matplotlib.figure.Figure at 0x1ae1b908>"
       ]
      }
     ],
     "prompt_number": 105
    },
    {
     "cell_type": "markdown",
     "metadata": {},
     "source": [
      "### 3.4.2 The normal distribution\n",
      "\n",
      "The **normal, or Gaussian distribution** is the most used one because it describes a lot of phenomena and because it is amenable for analysis. \n",
      "\n",
      "Its CDF has no closed-form expression and its more common representation is the PDF:\n",
      "\n",
      "$$ PDF(x) = \\frac{1}{\\sqrt{2 \\pi \\sigma^2}} \\exp \\left(-\\frac{(x-\\mu)^2}{2 \\sigma^2} \\right)$$\n"
     ]
    },
    {
     "cell_type": "code",
     "collapsed": false,
     "input": [
      "u=5 # mean\n",
      "s=1 # standard deviation\n",
      "x=np.arange(0,15,0.1)\n",
      "y=(1/(np.sqrt(2*np.pi*s*s)))*np.exp(-(((x-u)**2)/(2*s*s)))\n",
      "plt.plot(x,y,'-')\n",
      "plt.title('Gaussian PDF: $\\mu$=%.1f, $\\sigma$=%.1f' % (u,s),fontsize=15)\n",
      "plt.xlabel('x',fontsize=15)\n",
      "plt.ylabel('Probability density',fontsize=15)\n",
      "plt.show()"
     ],
     "language": "python",
     "metadata": {},
     "outputs": [
      {
       "metadata": {},
       "output_type": "display_data",
       "png": "[encoded data removed]",
       "text": [
        "<matplotlib.figure.Figure at 0x1a857668>"
       ]
      }
     ],
     "prompt_number": 106
    },
    {
     "cell_type": "markdown",
     "metadata": {},
     "source": [
      "Examples:\n",
      "    * Measures of size of living tissue (length, height, skin area, weight);\n",
      "    * The length of inert appendages (hair, claws, nails, teeth) of biological specimens, in the direction of growth; presumably the thickness of tree bark also falls under this category;\n",
      "    * Certain physiological measurements, such as blood pressure of adult humans.\n"
     ]
    },
    {
     "cell_type": "markdown",
     "metadata": {},
     "source": [
      "### 3.5 Central Limit Theorem\n",
      "\n",
      "The normal distribution is also important, because it is involved in the Central Limit Theorem:\n",
      "\n",
      "> Take the mean of $n$ random samples from ANY arbitrary distribution with a $well$ $defined$ standard deviation $\\sigma$ and mean $\\mu$. As $n$ gets bigger the **distribution of the sample mean** will always converge to a Gaussian (normal) distribution with mean $\\mu$ and standard deviation $\\frac{\\sigma}{\\sqrt{n}}$.\n",
      "\n",
      "Colloquially speaking, the theorem states the distribution of an average tends to be normal, even when the distribution from which the average is computed is decidedly non-normal. This explains the ubiquity of the Gaussian distribution in science and statistics. "
     ]
    },
    {
     "cell_type": "markdown",
     "metadata": {},
     "source": [
      "#### Example: Uniform Distribution\n",
      "\n",
      "The uniform distribution is obviously non-normal.  Let's call it the $parent$ $distribution$.\n",
      "\n",
      "To compute an average, two samples are drawn ($n=2$), at random, from the parent distribution and averaged. Then another sample of two is drawn and another value of the average computed.  This process is repeated, over and over, and averages of two are computed.  \n",
      "\n",
      "Repeatedly taking more elements ($n = 3,4...$) from the parent distribution, and computing the averages, produces a normal probability density."
     ]
    },
    {
     "cell_type": "code",
     "collapsed": false,
     "input": [
      "fig, ax = plt.subplots(1, 4, sharey=True, squeeze=True, figsize=(14, 5))\n",
      "x = np.linspace(0, 1, 100)\n",
      "for i in range(4):\n",
      "    f = np.mean(np.random.random((10000, i+1)), 1)\n",
      "    m, s = np.mean(f), np.std(f, ddof=1)\n",
      "    fn = (1/(s*np.sqrt(2*np.pi)))*np.exp(-(x-m)**2/(2*s**2))  # normal pdf            \n",
      "    ax[i].hist(f, 40, normed=True, color=[0, 0.2, .8, .6]) \n",
      "    ax[i].set_title('n=%d' %(i+1))\n",
      "    ax[i].plot(x, fn, color=[1, 0, 0, .6], linewidth=5)\n",
      "plt.suptitle('Demonstration of the central limit theorem for a uniform distribution', y=1.05)\n",
      "plt.show()"
     ],
     "language": "python",
     "metadata": {},
     "outputs": [
      {
       "metadata": {},
       "output_type": "display_data",
       "png": "[encoded data removed]",
       "text": [
        "<matplotlib.figure.Figure at 0x1abaaa20>"
       ]
      }
     ],
     "prompt_number": 107
    },
    {
     "cell_type": "markdown",
     "metadata": {},
     "source": [
      "## 3.6 Kernel density estimates  (optional)\n",
      "\n",
      "In some instances, we may not be interested in the parameters of a particular distribution of data, but just a **continous representation** of the data at hand. In this case, we can estimate the distribution non-parametrically (i.e. making no assumptions about the form of the underlying distribution) using kernel density estimation."
     ]
    },
    {
     "cell_type": "code",
     "collapsed": false,
     "input": [
      "from scipy.stats.distributions import norm\n",
      "\n",
      "# Some random data\n",
      "y = np.random.random(15) * 10\n",
      "x = np.linspace(0, 10, 100)\n",
      "# Smoothing parameter\n",
      "s = 0.4\n",
      "\n",
      "# Calculate the kernels\n",
      "kernels = np.transpose([norm.pdf(x, yi, s) for yi in y])\n",
      "\n",
      "plt.plot(x, kernels, 'k:')\n",
      "plt.plot(x, kernels.sum(1))\n",
      "plt.plot(y, np.zeros(len(y)), 'ro', ms=10)"
     ],
     "language": "python",
     "metadata": {},
     "outputs": [
      {
       "metadata": {},
       "output_type": "pyout",
       "prompt_number": 108,
       "text": [
        "[<matplotlib.lines.Line2D at 0x1b86d240>]"
       ]
      },
      {
       "metadata": {},
       "output_type": "display_data",
       "png": "[encoded data removed]",
       "text": [
        "<matplotlib.figure.Figure at 0x1ae1b908>"
       ]
      }
     ],
     "prompt_number": 108
    },
    {
     "cell_type": "markdown",
     "metadata": {},
     "source": [
      "SciPy implements a Gaussian KDE that automatically chooses an appropriate bandwidth. Let's create a bi-modal distribution of data that is not easily summarized by a parametric distribution:"
     ]
    },
    {
     "cell_type": "code",
     "collapsed": false,
     "input": [
      "# Create a bi-modal distribution with a mixture of Normals.\n",
      "x1 = np.random.normal(0, 3, 100) # parameters: (loc=0.0, scale=1.0, size=None)\n",
      "x2 = np.random.normal(4, 1, 50)\n",
      "\n",
      "# Append by row\n",
      "x = np.r_[x1, x2] # r_ Translates slice objects to concatenation along the first axis.\n"
     ],
     "language": "python",
     "metadata": {},
     "outputs": [],
     "prompt_number": 109
    },
    {
     "cell_type": "code",
     "collapsed": false,
     "input": [
      "plt.hist(x, bins=8, normed=True)"
     ],
     "language": "python",
     "metadata": {},
     "outputs": [
      {
       "metadata": {},
       "output_type": "pyout",
       "prompt_number": 110,
       "text": [
        "(array([ 0.05839878,  0.05839878,  0.09433649,  0.08984428,  0.15722749,\n",
        "         0.12578199,  0.07636764,  0.01347664]),\n",
        " array([-4.42490604, -2.94085684, -1.45680764,  0.02724156,  1.51129077,\n",
        "         2.99533997,  4.47938917,  5.96343837,  7.44748757]),\n",
        " <a list of 8 Patch objects>)"
       ]
      },
      {
       "metadata": {},
       "output_type": "display_data",
       "png": "[encoded data removed]",
       "text": [
        "<matplotlib.figure.Figure at 0x19d6afd0>"
       ]
      }
     ],
     "prompt_number": 110
    },
    {
     "cell_type": "code",
     "collapsed": false,
     "input": [
      "from scipy.stats import kde\n",
      "\n",
      "density = kde.gaussian_kde(x)\n",
      "xgrid = np.linspace(x.min(), x.max(), 100)\n",
      "plt.hist(x, bins=8, normed=True)\n",
      "plt.plot(xgrid, density(xgrid), 'r-')"
     ],
     "language": "python",
     "metadata": {},
     "outputs": [
      {
       "metadata": {},
       "output_type": "pyout",
       "prompt_number": 111,
       "text": [
        "[<matplotlib.lines.Line2D at 0x1a565b70>]"
       ]
      },
      {
       "metadata": {},
       "output_type": "display_data",
       "png": "[encoded data removed]",
       "text": [
        "<matplotlib.figure.Figure at 0x1a3e3cf8>"
       ]
      }
     ],
     "prompt_number": 111
    },
    {
     "cell_type": "markdown",
     "metadata": {},
     "source": [
      "<font color='blue'>\n",
      "## 4 Estimation\n",
      "* 4.1 Sample mean\n",
      "* 4.2 Variance\n",
      "* 4.3 Standard scores\n",
      "* 4.4 Covariance\n",
      "* 4.5 Pearson,s correlation\n",
      "* 4.6 Spearman's rank correlation\n",
      "<font\\> \n"
     ]
    },
    {
     "cell_type": "code",
     "collapsed": false,
     "input": [
      "x = np.random.normal(0.0, 1.0, 10000)\n",
      "a = plt.hist(x,50,normed='True')"
     ],
     "language": "python",
     "metadata": {},
     "outputs": [
      {
       "metadata": {},
       "output_type": "display_data",
       "png": "[encoded data removed]",
       "text": [
        "<matplotlib.figure.Figure at 0x19d6add8>"
       ]
      }
     ],
     "prompt_number": 112
    },
    {
     "cell_type": "markdown",
     "metadata": {},
     "source": [
      "\n",
      "**Definition:** *Estimation* is the process of inferring the parameters of a distribution from a sample.\n",
      "\n",
      "For example: What is the estimated mean $\\hat{\\mu}$ of the following normal data?"
     ]
    },
    {
     "cell_type": "markdown",
     "metadata": {},
     "source": [
      "We can use our definition of empirical mean:"
     ]
    },
    {
     "cell_type": "code",
     "collapsed": false,
     "input": [
      "print 'The empirical mean of the sample is ', x.mean()"
     ],
     "language": "python",
     "metadata": {},
     "outputs": [
      {
       "output_type": "stream",
       "stream": "stdout",
       "text": [
        "The empirical mean of the sample is  0.0145642009206\n"
       ]
      }
     ],
     "prompt_number": 113
    },
    {
     "cell_type": "markdown",
     "metadata": {},
     "source": [
      "### 4.1 Sample mean\n",
      "\n",
      "+ The process is called **estimation** and the statistic we used **estimator**.\n",
      "\n",
      "+ The median is also an estimator (more robust to outliers). \n",
      "\n",
      "+ \"Is median better than sample mean?\" is a question with at least two different answers. We can use two different objectives to answer this question: the minimization of error or the maximization to get the right answer. \n",
      "\n",
      "+ If there are no outliers, we can use the **sample mean** to minimize **mean squared error** (where $m$ is the number of times you play the estimation game, not the size of the sample!):\n",
      "\n",
      "$$ MSE = \\frac{1}{m} \\sum(\\hat{\\mu} - \\mu)^2$$\n",
      "\n",
      "\n"
     ]
    },
    {
     "cell_type": "code",
     "collapsed": false,
     "input": [
      "err = 0.0\n",
      "mu=0.0\n",
      "NTests=1000\n",
      "var=1.0\n",
      "NPoints=100000\n",
      "for i in range(NTests):\n",
      "    x = np.random.normal(mu, var, NPoints)\n",
      "    err += abs(mu - x.mean())**2\n",
      "\n",
      "print 'MSE: ', err/float(NTests) "
     ],
     "language": "python",
     "metadata": {},
     "outputs": [
      {
       "output_type": "stream",
       "stream": "stdout",
       "text": [
        "MSE:  9.44079087018e-06\n"
       ]
      }
     ],
     "prompt_number": 114
    },
    {
     "cell_type": "markdown",
     "metadata": {},
     "source": [
      "### 4.2 Variance\n",
      "\n",
      "We can also estimate the variance with:\n",
      "\n",
      "$$ \\hat{\\sigma}^2 = \\frac{1}{n} \\sum_i (x_i - \\mu)^2 $$\n",
      "\n",
      "This estimator works for large samples, but it is biased for small samples. We can use this one:\n",
      "\n",
      "$$ \\hat{\\sigma}^2_{n-1} = \\frac{1}{n-1} \\sum_i (x_i - \\mu)^2 $$\n"
     ]
    },
    {
     "cell_type": "markdown",
     "metadata": {},
     "source": [
      "### 4.3 Other concepts: Standard scores\n",
      "\n",
      "$$ z_i = \\frac{x_i - \\mu}{\\sigma}$$"
     ]
    },
    {
     "cell_type": "markdown",
     "metadata": {},
     "source": [
      "This measure is dimensionless and its distribution has mean 0 and variance 1.\n",
      "\n",
      "It inherits the \"shape\" of $X$: if it is normally distributed, so is $Z$. If $X$ is skewed, so is $Z$."
     ]
    },
    {
     "cell_type": "markdown",
     "metadata": {},
     "source": [
      "### 4.4 Covariance (optional)\n",
      "\n",
      "**Covariance** is a measure of the tendency of two variables to vary together. \n",
      "\n",
      "If we have two series $X$ and $Y$ with $X=\\{x_i\\}$ and $Y=\\{y_i\\}$, and they vary together, their deviations $x_i - \\mu_X$ and $y_i - \\mu_Y$ tend to have the same sign.\n",
      "\n",
      "If we multiply them together, the product is positive, when the deviations have the same sign, and negative, when they have the opposite sign. So adding up the products gives a measure of the tendency to vary together.\n",
      "\n",
      "Covariance is the mean of the products:\n",
      "\n",
      "$$ Cov(X,Y) = \\frac{1}{n} \\sum (x_i - \\mu_X)*(y_i - \\mu_Y), $$\n",
      "\n",
      "where $n$ is the length of the two series.\n",
      "\n",
      "It is a measure that is difficult to interpret."
     ]
    },
    {
     "cell_type": "code",
     "collapsed": false,
     "input": [
      "def Cov(X, Y):\n",
      "    def _get_dvis(V):\n",
      "        return [v - np.mean(V) for v in V]\n",
      "    dxis = _get_dvis(X)\n",
      "    dyis = _get_dvis(Y)\n",
      "    return np.sum([x * y for x, y in zip(dxis, dyis)])/len(X)\n",
      "\n",
      "X = [5, -1, 3.3, 2.7, 12.2]\n",
      "Y=[10,12,8,9,11]\n",
      "\n",
      "print \"Cov(X, X) = %.2f\" % Cov(X, X)\n",
      "print \"Var(X) = %.2f\" % np.var(X)\n",
      "\n",
      "print \"Cov(X, Y) = %.2f\" % Cov(X, Y)\n"
     ],
     "language": "python",
     "metadata": {},
     "outputs": [
      {
       "output_type": "stream",
       "stream": "stdout",
       "text": [
        "Cov(X, X) = 18.89\n",
        "Var(X) = 18.89\n",
        "Cov(X, Y) = 0.18\n"
       ]
      }
     ],
     "prompt_number": 115
    },
    {
     "cell_type": "markdown",
     "metadata": {},
     "source": [
      "<center><img src=\"images/gasolineprice.gif\"></center>"
     ]
    },
    {
     "cell_type": "markdown",
     "metadata": {},
     "source": [
      "### 4.5 Pearson's Correlation\n",
      "\n",
      "Shell we take into account the variance? An alternative is to divide the deviations by $\\sigma$, which yields standard scores, and compute the product of standard scores:\n",
      "\n",
      "$$ p_i = \\frac{(x_i - \\mu_X)}{\\sigma_X} \\frac{(y_i - \\mu_Y)}{\\sigma_Y} $$\n",
      " \n",
      "The mean of these products is:\n",
      "\n",
      "$$ \\rho = \\frac{1}{n} \\sum p_i = \\frac{1}{n} \\sum  \\frac{(x_i - \\mu_X)}{\\sigma_X} \\frac{(y_i - \\mu_Y)}{\\sigma_Y}  $$\n",
      "\n",
      "Or we can rewrite $\\rho$ by factoring out $\\sigma_X$ and $\\sigma_Y$:\n",
      "\n",
      "$$ \\rho = \\frac{Cov(X,Y)}{\\sigma_X \\sigma_Y}$$\n",
      "\n",
      " \n"
     ]
    },
    {
     "cell_type": "code",
     "collapsed": false,
     "input": [
      "def Corr(X, Y):\n",
      "    assert len(X) == len(Y)\n",
      "    return Cov(X, Y) / np.prod([np.std(V) for V in [X, Y]])\n",
      "\n",
      "print \"Corr(X, X) = %.5f\" % Corr(X, X)\n",
      "\n",
      "Y=np.random.random(len(X))\n",
      "\n",
      "print \"Corr(X, Y) = %.5f\" % Corr(X, Y)"
     ],
     "language": "python",
     "metadata": {},
     "outputs": [
      {
       "output_type": "stream",
       "stream": "stdout",
       "text": [
        "Corr(X, X) = 1.00000\n",
        "Corr(X, Y) = 0.32435\n"
       ]
      }
     ],
     "prompt_number": 116
    },
    {
     "cell_type": "markdown",
     "metadata": {},
     "source": [
      "<center><img src=\"images/pearson.png\"></center>"
     ]
    },
    {
     "cell_type": "markdown",
     "metadata": {},
     "source": [
      "When $\\rho = 0$, we cannot say that there is no relationship between the variables!\n",
      "\n",
      "Pearson's coefficient only measures **linear** correlations!"
     ]
    },
    {
     "cell_type": "markdown",
     "metadata": {},
     "source": [
      "### 4.6 Spearman\u2019s rank correlation\n",
      "\n",
      "Pearson\u2019s correlation works well if the relationship between variables is linear and if the variables are roughly normal. But it is not robust in the presence of **outliers**."
     ]
    },
    {
     "cell_type": "markdown",
     "metadata": {},
     "source": [
      "Spearman\u2019s rank correlation is an alternative that mitigates the effect of outliers and skewed distributions. To compute Spearman\u2019s correlation, we have to compute the rank of each value, which is its index in the sorted sample. \n",
      "\n",
      "For example, in the sample {7, 1, 2, 5} the rank of the value 5 is 3, because it appears third if we sort the elements. \n",
      "\n",
      "Then, we compute the Pearson\u2019s correlation but for the ranks."
     ]
    },
    {
     "cell_type": "code",
     "collapsed": false,
     "input": [
      "def list2rank(l):\n",
      "    #l is a list of numbers\n",
      "    # returns a list of 1-based index; mean when multiple instances\n",
      "    return [np.mean([i+1 for i, sorted_el in enumerate(sorted(l)) if sorted_el == el]) for el in l]\n",
      "\n",
      "l = [7, 1, 2, 5]\n",
      "print \"ranks: \", list2rank(l)\n",
      "\n",
      "def spearmanRank(X, Y):\n",
      "    # X and Y are same-length lists\n",
      "    return Corr(list2rank(X), list2rank(Y))\n",
      "\n",
      "X = [1, 2, 3, 4, 100]\n",
      "Y = [5, -100, 7, 10, 9]\n",
      "plt.plot(X,'ro')\n",
      "plt.plot(Y,'go')\n",
      "\n",
      "print \"Pearson rank coefficient: %.2f\" % Corr(X, Y)\n",
      "print \"Spearman rank coefficient: %.2f\" % spearmanRank(X, Y)"
     ],
     "language": "python",
     "metadata": {},
     "outputs": [
      {
       "output_type": "stream",
       "stream": "stdout",
       "text": [
        "ranks:  [4.0, 1.0, 2.0, 3.0]\n",
        "Pearson rank coefficient: 0.27"
       ]
      },
      {
       "output_type": "stream",
       "stream": "stdout",
       "text": [
        "\n",
        "Spearman rank coefficient: 0.80\n"
       ]
      },
      {
       "metadata": {},
       "output_type": "display_data",
       "png": "[encoded data removed]",
       "text": [
        "<matplotlib.figure.Figure at 0x1abb3630>"
       ]
      }
     ],
     "prompt_number": 117
    },
    {
     "cell_type": "markdown",
     "metadata": {},
     "source": [
      "**Exercise:** Obtain for the Anscombe's quartet, the different estimators (mean, variance, covariance for each pair, Pearson's correlation and Spearman's rank correlation.\n",
      "\n",
      "(Source: http://en.wikipedia.org/wiki/Anscombe's_quartet):"
     ]
    },
    {
     "cell_type": "markdown",
     "metadata": {},
     "source": [
      "<center><img src=\"images/Anscombe's_quartet.png\"></center>"
     ]
    },
    {
     "cell_type": "code",
     "collapsed": false,
     "input": [
      "#Your solution here."
     ],
     "language": "python",
     "metadata": {},
     "outputs": [],
     "prompt_number": 118
    },
    {
     "cell_type": "markdown",
     "metadata": {},
     "source": [
      "### 5. Main reference\n",
      "*Think Stats: Probability and Statistics for Programmers*, by Allen B. Downey, published by O'Reilly Media.\n",
      "http://www.greenteapress.com/thinkstats/"
     ]
    }
   ],
   "metadata": {}
  }
 ]
}