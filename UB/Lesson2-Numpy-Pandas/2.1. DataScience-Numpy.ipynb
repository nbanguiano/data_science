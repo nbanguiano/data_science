{
 "metadata": {
  "name": "",
  "signature": "sha256:7861ecbca57c990f75fc6419fa9f5e5589a561407eadba412d3258df47974a69"
 },
 "nbformat": 3,
 "nbformat_minor": 0,
 "worksheets": [
  {
   "cells": [
    {
     "cell_type": "markdown",
     "metadata": {},
     "source": [
      "# NUMPY. Numerical Computing with Python\n",
      "\n",
      "Python language is an excellent tool for general-purpose programming, with a highly readable syntax, rich and powerful data types and totally Zen:"
     ]
    },
    {
     "cell_type": "code",
     "collapsed": false,
     "input": [
      "import this"
     ],
     "language": "python",
     "metadata": {},
     "outputs": [
      {
       "output_type": "stream",
       "stream": "stdout",
       "text": [
        "The Zen of Python, by Tim Peters\n",
        "\n",
        "Beautiful is better than ugly.\n",
        "Explicit is better than implicit.\n",
        "Simple is better than complex.\n",
        "Complex is better than complicated.\n",
        "Flat is better than nested.\n",
        "Sparse is better than dense.\n",
        "Readability counts.\n",
        "Special cases aren't special enough to break the rules.\n",
        "Although practicality beats purity.\n",
        "Errors should never pass silently.\n",
        "Unless explicitly silenced.\n",
        "In the face of ambiguity, refuse the temptation to guess.\n",
        "There should be one-- and preferably only one --obvious way to do it.\n",
        "Although that way may not be obvious at first unless you're Dutch.\n",
        "Now is better than never.\n",
        "Although never is often better than *right* now.\n",
        "If the implementation is hard to explain, it's a bad idea.\n",
        "If the implementation is easy to explain, it may be a good idea.\n",
        "Namespaces are one honking great idea -- let's do more of those!\n"
       ]
      }
     ],
     "prompt_number": 2
    },
    {
     "cell_type": "markdown",
     "metadata": {},
     "source": [
      "---\n",
      "\n",
      "However, it was not designed specifically for mathematical and scientific computing.\n",
      "In particular, Python lists are very flexible containers, but they are poorly suited to represent efficiently common mathematical constructs like vectors and matrices. \n",
      "\n",
      "Fortunately, exists the **numpy** package (module) which is a package that provide high-performance vector, matrix and higher-dimensional data structures for Python. It is implemented in C and Fortran so when calculations are vectorized (formulated with vectors and matrices), performance is very good. It is used in almost all numerical computation using Python.\n",
      "\n"
     ]
    },
    {
     "cell_type": "markdown",
     "metadata": {},
     "source": [
      "Why not simply use Python lists for computations instead of creating a new array type?\n",
      "\n",
      "There are several reasons:\n",
      "\n",
      "* Python lists are very general. They can contain any kind of object. They are dynamically typed. They do not support mathematical functions such as matrix and dot multiplications, etc. Implementating such functions for Python lists would not be very efficient because of the dynamic typing.\n",
      "* Numpy arrays are statically typed and homogeneous. The type of the elements is determined when array is created.\n",
      "* Numpy arrays are memory efficient.\n",
      "* Because of the static typing, fast implementation of mathematical functions such as multiplication and addition of numpy arrays can be implemented in a compiled language (C and Fortran is used).\n"
     ]
    },
    {
     "cell_type": "markdown",
     "metadata": {},
     "source": [
      "##Basics of Numpy\n",
      "\n",
      "To use **numpy** it is needed to import the module:"
     ]
    },
    {
     "cell_type": "code",
     "collapsed": false,
     "input": [
      "import numpy as np"
     ],
     "language": "python",
     "metadata": {},
     "outputs": [],
     "prompt_number": 3
    },
    {
     "cell_type": "markdown",
     "metadata": {},
     "source": [
      "##Creating numpy arrays\n",
      "There are a number of ways to initialize new numpy arrays, for example from\n",
      "\n",
      "1. A Python list or tuples\n",
      "2. Using array-generating functions, such as `arange`, `linspace`, etc.\n",
      "3. Reading data from files"
     ]
    },
    {
     "cell_type": "markdown",
     "metadata": {},
     "source": [
      "###1. From a list\n",
      "For example, to create new vector and matrix arrays from Python lists we can use the `numpy.array` function."
     ]
    },
    {
     "cell_type": "code",
     "collapsed": false,
     "input": [
      "# a vector: the argument to the array function is a Python list\n",
      "v = np.array([1,2,3,4])\n",
      "v"
     ],
     "language": "python",
     "metadata": {},
     "outputs": [
      {
       "metadata": {},
       "output_type": "pyout",
       "prompt_number": 4,
       "text": [
        "array([1, 2, 3, 4])"
       ]
      }
     ],
     "prompt_number": 4
    },
    {
     "cell_type": "code",
     "collapsed": false,
     "input": [
      "# a matrix: the argument to the array function is a nested Python list\n",
      "M = np.array([[1, 2], [3, 4]])\n",
      "M"
     ],
     "language": "python",
     "metadata": {},
     "outputs": [
      {
       "metadata": {},
       "output_type": "pyout",
       "prompt_number": 5,
       "text": [
        "array([[1, 2],\n",
        "       [3, 4]])"
       ]
      }
     ],
     "prompt_number": 5
    },
    {
     "cell_type": "markdown",
     "metadata": {},
     "source": [
      "If we want, we can explicitly define the type of the array data when we create it, using the `dtype` keyword argument: "
     ]
    },
    {
     "cell_type": "code",
     "collapsed": false,
     "input": [
      "M = np.array([[1, 2], [3, 4]], dtype=complex)\n",
      "M"
     ],
     "language": "python",
     "metadata": {},
     "outputs": [
      {
       "metadata": {},
       "output_type": "pyout",
       "prompt_number": 6,
       "text": [
        "array([[ 1.+0.j,  2.+0.j],\n",
        "       [ 3.+0.j,  4.+0.j]])"
       ]
      }
     ],
     "prompt_number": 6
    },
    {
     "cell_type": "markdown",
     "metadata": {},
     "source": [
      "Common type that can be used with dtype are: int, float, complex, bool, object, etc.\n",
      "\n",
      "We can also explicitly define the bit size of the data types, for example: int64, int16, float128, complex128."
     ]
    },
    {
     "cell_type": "markdown",
     "metadata": {},
     "source": [
      "###2. Using array-generating functions\n",
      "For larger arrays it is inpractical to initialize the data manually, using explicit python lists. Instead we can use one of the many functions in `numpy` that generates arrays of different forms. Some of the more common are:\n",
      "\n",
      "**Zeros and Ones**"
     ]
    },
    {
     "cell_type": "code",
     "collapsed": false,
     "input": [
      "np.zeros(5, dtype=float)"
     ],
     "language": "python",
     "metadata": {},
     "outputs": [
      {
       "metadata": {},
       "output_type": "pyout",
       "prompt_number": 7,
       "text": [
        "array([ 0.,  0.,  0.,  0.,  0.])"
       ]
      }
     ],
     "prompt_number": 7
    },
    {
     "cell_type": "code",
     "collapsed": false,
     "input": [
      "np.ones(5,dtype=float)"
     ],
     "language": "python",
     "metadata": {},
     "outputs": [
      {
       "metadata": {},
       "output_type": "pyout",
       "prompt_number": 8,
       "text": [
        "array([ 1.,  1.,  1.,  1.,  1.])"
       ]
      }
     ],
     "prompt_number": 8
    },
    {
     "cell_type": "code",
     "collapsed": false,
     "input": [
      "np.zeros((2,3))"
     ],
     "language": "python",
     "metadata": {},
     "outputs": [
      {
       "metadata": {},
       "output_type": "pyout",
       "prompt_number": 9,
       "text": [
        "array([[ 0.,  0.,  0.],\n",
        "       [ 0.,  0.,  0.]])"
       ]
      }
     ],
     "prompt_number": 9
    },
    {
     "cell_type": "markdown",
     "metadata": {},
     "source": [
      "**arange**"
     ]
    },
    {
     "cell_type": "code",
     "collapsed": false,
     "input": [
      "x = np.arange(0, 5000, 1) # arguments: start, stop, step\n",
      "x"
     ],
     "language": "python",
     "metadata": {},
     "outputs": [
      {
       "metadata": {},
       "output_type": "pyout",
       "prompt_number": 10,
       "text": [
        "array([   0,    1,    2, ..., 4997, 4998, 4999])"
       ]
      }
     ],
     "prompt_number": 10
    },
    {
     "cell_type": "markdown",
     "metadata": {},
     "source": [
      "**linspace and logspace**"
     ]
    },
    {
     "cell_type": "code",
     "collapsed": false,
     "input": [
      "print \"A linear grid between 0 and 1:\"\n",
      "print np.linspace(0, 1, 5)\n"
     ],
     "language": "python",
     "metadata": {},
     "outputs": [
      {
       "output_type": "stream",
       "stream": "stdout",
       "text": [
        "A linear grid between 0 and 1:\n",
        "[ 0.    0.25  0.5   0.75  1.  ]\n"
       ]
      }
     ],
     "prompt_number": 11
    },
    {
     "cell_type": "code",
     "collapsed": false,
     "input": [
      "print \"A logarithmic grid between 10**0 and 10**3:\"\n",
      "print np.logspace(0, 3, 10)"
     ],
     "language": "python",
     "metadata": {},
     "outputs": [
      {
       "output_type": "stream",
       "stream": "stdout",
       "text": [
        "A logarithmic grid between 10**0 and 10**3:\n",
        "[    1.             2.15443469     4.64158883    10.            21.5443469\n",
        "    46.41588834   100.           215.443469     464.15888336  1000.        ]\n"
       ]
      }
     ],
     "prompt_number": 12
    },
    {
     "cell_type": "markdown",
     "metadata": {},
     "source": [
      "**Creating random arrays**"
     ]
    },
    {
     "cell_type": "code",
     "collapsed": false,
     "input": [
      "# uniform random numbers in [0,1]\n",
      "np.random.rand(5,5)"
     ],
     "language": "python",
     "metadata": {},
     "outputs": [
      {
       "metadata": {},
       "output_type": "pyout",
       "prompt_number": 13,
       "text": [
        "array([[ 0.69959481,  0.91824575,  0.79103173,  0.67132729,  0.92855385],\n",
        "       [ 0.98415035,  0.31022702,  0.9483619 ,  0.32435515,  0.03378811],\n",
        "       [ 0.19979132,  0.61561482,  0.02567048,  0.90401014,  0.2703287 ],\n",
        "       [ 0.40321992,  0.40226053,  0.08909792,  0.11053639,  0.06478579],\n",
        "       [ 0.88610525,  0.56147423,  0.57007308,  0.68798882,  0.11454939]])"
       ]
      }
     ],
     "prompt_number": 13
    },
    {
     "cell_type": "code",
     "collapsed": false,
     "input": [
      "# 5 samples from a normal distribution with a mean of 10 and a variance of 3:\n",
      "np.random.normal(10, 3, 5)"
     ],
     "language": "python",
     "metadata": {},
     "outputs": [
      {
       "metadata": {},
       "output_type": "pyout",
       "prompt_number": 14,
       "text": [
        "array([ 12.83766876,  12.78797994,  12.8026615 ,   7.15375969,   0.58894852])"
       ]
      }
     ],
     "prompt_number": 14
    },
    {
     "cell_type": "markdown",
     "metadata": {},
     "source": [
      "** diag **"
     ]
    },
    {
     "cell_type": "code",
     "collapsed": false,
     "input": [
      "# a diagonal matrix\n",
      "np.diag([1,1,1])"
     ],
     "language": "python",
     "metadata": {},
     "outputs": [
      {
       "metadata": {},
       "output_type": "pyout",
       "prompt_number": 15,
       "text": [
        "array([[1, 0, 0],\n",
        "       [0, 1, 0],\n",
        "       [0, 0, 1]])"
       ]
      }
     ],
     "prompt_number": 15
    },
    {
     "cell_type": "markdown",
     "metadata": {},
     "source": [
      "###3.  Reading data from files\n"
     ]
    },
    {
     "cell_type": "markdown",
     "metadata": {},
     "source": [
      "** Comma-separated values (CSV) **"
     ]
    },
    {
     "cell_type": "markdown",
     "metadata": {},
     "source": [
      "A very common file format for data files are the comma-separated values (CSV), or related format such as TSV (tab-separated values).\n",
      "Open data from https://github.com/datasets\n",
      "\n",
      "[vix-daily.csv](https://raw.githubusercontent.com/datasets/finance-vix/master/data/vix-daily.csv)\n"
     ]
    },
    {
     "cell_type": "code",
     "collapsed": false,
     "input": [
      "# Open data from https://github.com/datasets\n",
      "data = np.genfromtxt('https://raw.githubusercontent.com/datasets/finance-vix/master/data/vix-daily.csv'\\\n",
      "                     ,skip_header=1,delimiter=',')\n",
      "data"
     ],
     "language": "python",
     "metadata": {},
     "outputs": [
      {
       "metadata": {},
       "output_type": "pyout",
       "prompt_number": 16,
       "text": [
        "array([[   nan,  17.96,  18.68,  17.54,  18.22],\n",
        "       [   nan,  18.45,  18.49,  17.44,  17.49],\n",
        "       [   nan,  17.66,  17.67,  16.19,  16.73],\n",
        "       ..., \n",
        "       [   nan,  16.18,  17.46,  15.97,  17.2 ],\n",
        "       [   nan,  17.35,  18.03,  14.97,  15.11],\n",
        "       [   nan,  15.64,  19.38,  15.34,  18.76]])"
       ]
      }
     ],
     "prompt_number": 16
    },
    {
     "cell_type": "markdown",
     "metadata": {},
     "source": [
      "*Few remarks on NANs:*\n",
      "\n",
      "By definition, NaN is a float point number which is not equal to any other number \n"
     ]
    },
    {
     "cell_type": "code",
     "collapsed": false,
     "input": [
      "np.nan != np.nan"
     ],
     "language": "python",
     "metadata": {},
     "outputs": [
      {
       "metadata": {},
       "output_type": "pyout",
       "prompt_number": 17,
       "text": [
        "True"
       ]
      }
     ],
     "prompt_number": 17
    },
    {
     "cell_type": "code",
     "collapsed": false,
     "input": [
      "data== np.nan"
     ],
     "language": "python",
     "metadata": {},
     "outputs": [
      {
       "metadata": {},
       "output_type": "pyout",
       "prompt_number": 18,
       "text": [
        "array([[False, False, False, False, False],\n",
        "       [False, False, False, False, False],\n",
        "       [False, False, False, False, False],\n",
        "       ..., \n",
        "       [False, False, False, False, False],\n",
        "       [False, False, False, False, False],\n",
        "       [False, False, False, False, False]], dtype=bool)"
       ]
      }
     ],
     "prompt_number": 18
    },
    {
     "cell_type": "code",
     "collapsed": false,
     "input": [
      "np.isnan(data)"
     ],
     "language": "python",
     "metadata": {},
     "outputs": [
      {
       "metadata": {},
       "output_type": "pyout",
       "prompt_number": 19,
       "text": [
        "array([[ True, False, False, False, False],\n",
        "       [ True, False, False, False, False],\n",
        "       [ True, False, False, False, False],\n",
        "       ..., \n",
        "       [ True, False, False, False, False],\n",
        "       [ True, False, False, False, False],\n",
        "       [ True, False, False, False, False]], dtype=bool)"
       ]
      }
     ],
     "prompt_number": 19
    },
    {
     "cell_type": "code",
     "collapsed": false,
     "input": [
      "help('numpy.genfromtxt')"
     ],
     "language": "python",
     "metadata": {},
     "outputs": [
      {
       "output_type": "stream",
       "stream": "stdout",
       "text": [
        "Help on function genfromtxt in numpy:\n",
        "\n",
        "numpy.genfromtxt = genfromtxt(fname, dtype=<type 'float'>, comments='#', delimiter=None, skiprows=0, skip_header=0, skip_footer=0, converters=None, missing='', missing_values=None, filling_values=None, usecols=None, names=None, excludelist=None, deletechars=None, replace_space='_', autostrip=False, case_sensitive=True, defaultfmt='f%i', unpack=None, usemask=False, loose=True, invalid_raise=True)\n",
        "    Load data from a text file, with missing values handled as specified.\n",
        "    \n",
        "    Each line past the first `skip_header` lines is split at the `delimiter`\n",
        "    character, and characters following the `comments` character are discarded.\n",
        "    \n",
        "    Parameters\n",
        "    ----------\n",
        "    fname : file or str\n",
        "        File, filename, or generator to read.  If the filename extension is\n",
        "        `.gz` or `.bz2`, the file is first decompressed. Note that\n",
        "        generators must return byte strings in Python 3k.\n",
        "    dtype : dtype, optional\n",
        "        Data type of the resulting array.\n",
        "        If None, the dtypes will be determined by the contents of each\n",
        "        column, individually.\n",
        "    comments : str, optional\n",
        "        The character used to indicate the start of a comment.\n",
        "        All the characters occurring on a line after a comment are discarded\n",
        "    delimiter : str, int, or sequence, optional\n",
        "        The string used to separate values.  By default, any consecutive\n",
        "        whitespaces act as delimiter.  An integer or sequence of integers\n",
        "        can also be provided as width(s) of each field.\n",
        "    skip_rows : int, optional\n",
        "        `skip_rows` was deprecated in numpy 1.5, and will be removed in\n",
        "        numpy 2.0. Please use `skip_header` instead.\n",
        "    skip_header : int, optional\n",
        "        The number of lines to skip at the beginning of the file.\n",
        "    skip_footer : int, optional\n",
        "        The number of lines to skip at the end of the file.\n",
        "    converters : variable, optional\n",
        "        The set of functions that convert the data of a column to a value.\n",
        "        The converters can also be used to provide a default value\n",
        "        for missing data: ``converters = {3: lambda s: float(s or 0)}``.\n",
        "    missing : variable, optional\n",
        "        `missing` was deprecated in numpy 1.5, and will be removed in\n",
        "        numpy 2.0. Please use `missing_values` instead.\n",
        "    missing_values : variable, optional\n",
        "        The set of strings corresponding to missing data.\n",
        "    filling_values : variable, optional\n",
        "        The set of values to be used as default when the data are missing.\n",
        "    usecols : sequence, optional\n",
        "        Which columns to read, with 0 being the first.  For example,\n",
        "        ``usecols = (1, 4, 5)`` will extract the 2nd, 5th and 6th columns.\n",
        "    names : {None, True, str, sequence}, optional\n",
        "        If `names` is True, the field names are read from the first valid line\n",
        "        after the first `skip_header` lines.\n",
        "        If `names` is a sequence or a single-string of comma-separated names,\n",
        "        the names will be used to define the field names in a structured dtype.\n",
        "        If `names` is None, the names of the dtype fields will be used, if any.\n",
        "    excludelist : sequence, optional\n",
        "        A list of names to exclude. This list is appended to the default list\n",
        "        ['return','file','print']. Excluded names are appended an underscore:\n",
        "        for example, `file` would become `file_`.\n",
        "    deletechars : str, optional\n",
        "        A string combining invalid characters that must be deleted from the\n",
        "        names.\n",
        "    defaultfmt : str, optional\n",
        "        A format used to define default field names, such as \"f%i\" or \"f_%02i\".\n",
        "    autostrip : bool, optional\n",
        "        Whether to automatically strip white spaces from the variables.\n",
        "    replace_space : char, optional\n",
        "        Character(s) used in replacement of white spaces in the variables\n",
        "        names. By default, use a '_'.\n",
        "    case_sensitive : {True, False, 'upper', 'lower'}, optional\n",
        "        If True, field names are case sensitive.\n",
        "        If False or 'upper', field names are converted to upper case.\n",
        "        If 'lower', field names are converted to lower case.\n",
        "    unpack : bool, optional\n",
        "        If True, the returned array is transposed, so that arguments may be\n",
        "        unpacked using ``x, y, z = loadtxt(...)``\n",
        "    usemask : bool, optional\n",
        "        If True, return a masked array.\n",
        "        If False, return a regular array.\n",
        "    loose : bool, optional\n",
        "        If True, do not raise errors for invalid values.\n",
        "    invalid_raise : bool, optional\n",
        "        If True, an exception is raised if an inconsistency is detected in the\n",
        "        number of columns.\n",
        "        If False, a warning is emitted and the offending lines are skipped.\n",
        "    \n",
        "    Returns\n",
        "    -------\n",
        "    out : ndarray\n",
        "        Data read from the text file. If `usemask` is True, this is a\n",
        "        masked array.\n",
        "    \n",
        "    See Also\n",
        "    --------\n",
        "    numpy.loadtxt : equivalent function when no data is missing.\n",
        "    \n",
        "    Notes\n",
        "    -----\n",
        "    * When spaces are used as delimiters, or when no delimiter has been given\n",
        "      as input, there should not be any missing data between two fields.\n",
        "    * When the variables are named (either by a flexible dtype or with `names`,\n",
        "      there must not be any header in the file (else a ValueError\n",
        "      exception is raised).\n",
        "    * Individual values are not stripped of spaces by default.\n",
        "      When using a custom converter, make sure the function does remove spaces.\n",
        "    \n",
        "    References\n",
        "    ----------\n",
        "    .. [1] Numpy User Guide, section `I/O with Numpy\n",
        "           <http://docs.scipy.org/doc/numpy/user/basics.io.genfromtxt.html>`_.\n",
        "    \n",
        "    Examples\n",
        "    ---------\n",
        "    >>> from StringIO import StringIO\n",
        "    >>> import numpy as np\n",
        "    \n",
        "    Comma delimited file with mixed dtype\n",
        "    \n",
        "    >>> s = StringIO(\"1,1.3,abcde\")\n",
        "    >>> data = np.genfromtxt(s, dtype=[('myint','i8'),('myfloat','f8'),\n",
        "    ... ('mystring','S5')], delimiter=\",\")\n",
        "    >>> data\n",
        "    array((1, 1.3, 'abcde'),\n",
        "          dtype=[('myint', '<i8'), ('myfloat', '<f8'), ('mystring', '|S5')])\n",
        "    \n",
        "    Using dtype = None\n",
        "    \n",
        "    >>> s.seek(0) # needed for StringIO example only\n",
        "    >>> data = np.genfromtxt(s, dtype=None,\n",
        "    ... names = ['myint','myfloat','mystring'], delimiter=\",\")\n",
        "    >>> data\n",
        "    array((1, 1.3, 'abcde'),\n",
        "          dtype=[('myint', '<i8'), ('myfloat', '<f8'), ('mystring', '|S5')])\n",
        "    \n",
        "    Specifying dtype and names\n",
        "    \n",
        "    >>> s.seek(0)\n",
        "    >>> data = np.genfromtxt(s, dtype=\"i8,f8,S5\",\n",
        "    ... names=['myint','myfloat','mystring'], delimiter=\",\")\n",
        "    >>> data\n",
        "    array((1, 1.3, 'abcde'),\n",
        "          dtype=[('myint', '<i8'), ('myfloat', '<f8'), ('mystring', '|S5')])\n",
        "    \n",
        "    An example with fixed-width columns\n",
        "    \n",
        "    >>> s = StringIO(\"11.3abcde\")\n",
        "    >>> data = np.genfromtxt(s, dtype=None, names=['intvar','fltvar','strvar'],\n",
        "    ...     delimiter=[1,3,5])\n",
        "    >>> data\n",
        "    array((1, 1.3, 'abcde'),\n",
        "          dtype=[('intvar', '<i8'), ('fltvar', '<f8'), ('strvar', '|S5')])\n",
        "\n"
       ]
      }
     ],
     "prompt_number": 20
    },
    {
     "cell_type": "code",
     "collapsed": false,
     "input": [
      "#Removing NaN column with\n",
      "# Open data from https://github.com/datasets\n",
      "data = np.genfromtxt('https://raw.githubusercontent.com/datasets/finance-vix/master/data/vix-daily.csv'\\\n",
      "                     ,skip_header=1,delimiter=',',usecols=[1,2,3,4])\n",
      "data"
     ],
     "language": "python",
     "metadata": {},
     "outputs": [
      {
       "metadata": {},
       "output_type": "pyout",
       "prompt_number": 21,
       "text": [
        "array([[ 17.96,  18.68,  17.54,  18.22],\n",
        "       [ 18.45,  18.49,  17.44,  17.49],\n",
        "       [ 17.66,  17.67,  16.19,  16.73],\n",
        "       ..., \n",
        "       [ 16.18,  17.46,  15.97,  17.2 ],\n",
        "       [ 17.35,  18.03,  14.97,  15.11],\n",
        "       [ 15.64,  19.38,  15.34,  18.76]])"
       ]
      }
     ],
     "prompt_number": 21
    },
    {
     "cell_type": "markdown",
     "metadata": {},
     "source": [
      "Using `numpy.savetxt` we can store a Numpy array to a file in CSV format:"
     ]
    },
    {
     "cell_type": "code",
     "collapsed": false,
     "input": [
      "M = np.random.rand(3,3)\n",
      "np.savetxt(\"random-matrix.csv\", M, delimiter=',')"
     ],
     "language": "python",
     "metadata": {},
     "outputs": [],
     "prompt_number": 22
    },
    {
     "cell_type": "code",
     "collapsed": false,
     "input": [
      "M = np.random.rand(3,3)\n",
      "np.savetxt(\"random-matrix.csv\", M, delimiter=',')\n",
      "%cat random-matrix.csv"
     ],
     "language": "python",
     "metadata": {},
     "outputs": [
      {
       "output_type": "stream",
       "stream": "stderr",
       "text": [
        "ERROR: Line magic function `%cat` not found.\n"
       ]
      }
     ],
     "prompt_number": 23
    },
    {
     "cell_type": "code",
     "collapsed": false,
     "input": [
      "np.savetxt(\"random-matrix.csv\", M, fmt='%.5f', delimiter= ',') # fmt specifies the format\n",
      "%cat random-matrix.csv"
     ],
     "language": "python",
     "metadata": {},
     "outputs": [
      {
       "output_type": "stream",
       "stream": "stderr",
       "text": [
        "ERROR: Line magic function `%cat` not found.\n"
       ]
      }
     ],
     "prompt_number": 24
    },
    {
     "cell_type": "markdown",
     "metadata": {},
     "source": [
      "To read data from such file into Numpy arrays we can use the `numpy.genfromtxt` function.\n"
     ]
    },
    {
     "cell_type": "code",
     "collapsed": false,
     "input": [
      "data = np.genfromtxt('random-matrix.csv',delimiter=',')\n",
      "data"
     ],
     "language": "python",
     "metadata": {},
     "outputs": [
      {
       "metadata": {},
       "output_type": "pyout",
       "prompt_number": 25,
       "text": [
        "array([[ 0.51336,  0.92881,  0.7185 ],\n",
        "       [ 0.9606 ,  0.07243,  0.07778],\n",
        "       [ 0.68637,  0.6079 ,  0.77553]])"
       ]
      }
     ],
     "prompt_number": 25
    },
    {
     "cell_type": "markdown",
     "metadata": {},
     "source": [
      "** Numpy's native file format **"
     ]
    },
    {
     "cell_type": "code",
     "collapsed": false,
     "input": [
      "np.save(\"random-matrix.npy\", M)\n",
      "!file random-matrix.npy"
     ],
     "language": "python",
     "metadata": {},
     "outputs": [
      {
       "output_type": "stream",
       "stream": "stderr",
       "text": [
        "'file' is not recognized as an internal or external command,\n",
        "operable program or batch file.\n"
       ]
      }
     ],
     "prompt_number": 26
    },
    {
     "cell_type": "code",
     "collapsed": false,
     "input": [
      "np.load(\"random-matrix.npy\")"
     ],
     "language": "python",
     "metadata": {},
     "outputs": [
      {
       "metadata": {},
       "output_type": "pyout",
       "prompt_number": 27,
       "text": [
        "array([[ 0.51336382,  0.92881402,  0.71850081],\n",
        "       [ 0.9606017 ,  0.07243348,  0.07777565],\n",
        "       [ 0.68636819,  0.60789642,  0.77552571]])"
       ]
      }
     ],
     "prompt_number": 27
    },
    {
     "cell_type": "markdown",
     "metadata": {},
     "source": [
      "##Manipulating arrays\n"
     ]
    },
    {
     "cell_type": "code",
     "collapsed": false,
     "input": [
      "lst = [10, 20, 30, 40]\n",
      "arr = np.array([10, 20, 30, 40],dtype='int64')\n",
      "M = np.array([[10, 20, 30, 40],[50, 60, 70, 80]])"
     ],
     "language": "python",
     "metadata": {},
     "outputs": [],
     "prompt_number": 28
    },
    {
     "cell_type": "markdown",
     "metadata": {},
     "source": [
      "** Element indexing **\n"
     ]
    },
    {
     "cell_type": "code",
     "collapsed": false,
     "input": [
      "#get the first element of list\n",
      "lst[0]"
     ],
     "language": "python",
     "metadata": {},
     "outputs": [
      {
       "metadata": {},
       "output_type": "pyout",
       "prompt_number": 29,
       "text": [
        "10"
       ]
      }
     ],
     "prompt_number": 29
    },
    {
     "cell_type": "code",
     "collapsed": false,
     "input": [
      "#get the first element of array\n",
      "arr[0]"
     ],
     "language": "python",
     "metadata": {},
     "outputs": [
      {
       "metadata": {},
       "output_type": "pyout",
       "prompt_number": 30,
       "text": [
        "10"
       ]
      }
     ],
     "prompt_number": 30
    },
    {
     "cell_type": "code",
     "collapsed": false,
     "input": [
      "# M is a matrix, or a 2 dimensional array, taking two indices \n",
      "M[0,0]"
     ],
     "language": "python",
     "metadata": {},
     "outputs": [
      {
       "metadata": {},
       "output_type": "pyout",
       "prompt_number": 31,
       "text": [
        "10"
       ]
      }
     ],
     "prompt_number": 31
    },
    {
     "cell_type": "markdown",
     "metadata": {},
     "source": [
      "If we omit an index of a multidimensional array it returns the whole row\n",
      "(or, in general, a N-1 dimensional array)"
     ]
    },
    {
     "cell_type": "code",
     "collapsed": false,
     "input": [
      "\n",
      "M[1]"
     ],
     "language": "python",
     "metadata": {},
     "outputs": [
      {
       "metadata": {},
       "output_type": "pyout",
       "prompt_number": 32,
       "text": [
        "array([50, 60, 70, 80])"
       ]
      }
     ],
     "prompt_number": 32
    },
    {
     "cell_type": "markdown",
     "metadata": {},
     "source": [
      "The same thing can be achieved with using `:` instead of an index: "
     ]
    },
    {
     "cell_type": "code",
     "collapsed": false,
     "input": [
      "M[1,:] # row 1"
     ],
     "language": "python",
     "metadata": {},
     "outputs": [
      {
       "metadata": {},
       "output_type": "pyout",
       "prompt_number": 33,
       "text": [
        "array([50, 60, 70, 80])"
       ]
      }
     ],
     "prompt_number": 33
    },
    {
     "cell_type": "code",
     "collapsed": false,
     "input": [
      "M[:,1] # column 1"
     ],
     "language": "python",
     "metadata": {},
     "outputs": [
      {
       "metadata": {},
       "output_type": "pyout",
       "prompt_number": 34,
       "text": [
        "array([20, 60])"
       ]
      }
     ],
     "prompt_number": 34
    },
    {
     "cell_type": "markdown",
     "metadata": {},
     "source": [
      "We can assign new values to elements in an array using indexing:"
     ]
    },
    {
     "cell_type": "code",
     "collapsed": false,
     "input": [
      "M[0,0] = 1\n",
      "M"
     ],
     "language": "python",
     "metadata": {},
     "outputs": [
      {
       "metadata": {},
       "output_type": "pyout",
       "prompt_number": 35,
       "text": [
        "array([[ 1, 20, 30, 40],\n",
        "       [50, 60, 70, 80]])"
       ]
      }
     ],
     "prompt_number": 35
    },
    {
     "cell_type": "code",
     "collapsed": false,
     "input": [
      "# also works for rows and columns\n",
      "M[1,:] = 0\n",
      "M[:,2] = -1\n",
      "M"
     ],
     "language": "python",
     "metadata": {},
     "outputs": [
      {
       "metadata": {},
       "output_type": "pyout",
       "prompt_number": 36,
       "text": [
        "array([[ 1, 20, -1, 40],\n",
        "       [ 0,  0, -1,  0]])"
       ]
      }
     ],
     "prompt_number": 36
    },
    {
     "cell_type": "markdown",
     "metadata": {},
     "source": [
      "Arrays are homogeneous; i.e. all elements of an array must be of the same type\n"
     ]
    },
    {
     "cell_type": "code",
     "collapsed": false,
     "input": [
      "#Lists are heterogeneous\n",
      "lst[1] = 'a string inside a list'\n",
      "lst\n"
     ],
     "language": "python",
     "metadata": {},
     "outputs": [
      {
       "metadata": {},
       "output_type": "pyout",
       "prompt_number": 37,
       "text": [
        "[10, 'a string inside a list', 30, 40]"
       ]
      }
     ],
     "prompt_number": 37
    },
    {
     "cell_type": "code",
     "collapsed": false,
     "input": [
      "#Arrays are homogeneous\n",
      "arr[1] = 'a string inside an array'"
     ],
     "language": "python",
     "metadata": {},
     "outputs": [
      {
       "ename": "ValueError",
       "evalue": "invalid literal for long() with base 10: 'a string inside an array'",
       "output_type": "pyerr",
       "traceback": [
        "\u001b[1;31m---------------------------------------------------------------------------\u001b[0m\n\u001b[1;31mValueError\u001b[0m                                Traceback (most recent call last)",
        "\u001b[1;32m<ipython-input-38-a4dc00e88eca>\u001b[0m in \u001b[0;36m<module>\u001b[1;34m()\u001b[0m\n\u001b[0;32m      1\u001b[0m \u001b[1;31m#Arrays are homogeneous\u001b[0m\u001b[1;33m\u001b[0m\u001b[1;33m\u001b[0m\u001b[0m\n\u001b[1;32m----> 2\u001b[1;33m \u001b[0marr\u001b[0m\u001b[1;33m[\u001b[0m\u001b[1;36m1\u001b[0m\u001b[1;33m]\u001b[0m \u001b[1;33m=\u001b[0m \u001b[1;34m'a string inside an array'\u001b[0m\u001b[1;33m\u001b[0m\u001b[0m\n\u001b[0m",
        "\u001b[1;31mValueError\u001b[0m: invalid literal for long() with base 10: 'a string inside an array'"
       ]
      }
     ],
     "prompt_number": 38
    },
    {
     "cell_type": "markdown",
     "metadata": {},
     "source": [
      "Once an array has been created, its dtype is fixed and it can only store elements of the same type. For this example where the dtype is integer, if we store a floating point number it will be automatically converted into an integer:"
     ]
    },
    {
     "cell_type": "code",
     "collapsed": false,
     "input": [
      "arr[1] = 1.234\n",
      "arr"
     ],
     "language": "python",
     "metadata": {},
     "outputs": []
    },
    {
     "cell_type": "markdown",
     "metadata": {},
     "source": [
      "** Index slicing **"
     ]
    },
    {
     "cell_type": "markdown",
     "metadata": {},
     "source": [
      "Index slicing is the technical name for the syntax `M[lower:upper:step]` to extract part of an array:"
     ]
    },
    {
     "cell_type": "code",
     "collapsed": false,
     "input": [
      "A = np.array([1,2,3,4,5])\n",
      "#slice from second to fourth element, step is one\n",
      "A[1:3:1]"
     ],
     "language": "python",
     "metadata": {},
     "outputs": []
    },
    {
     "cell_type": "markdown",
     "metadata": {},
     "source": [
      "Array slices are *mutable*: if they are assigned a new value the original array from which the slice was extracted is modified:"
     ]
    },
    {
     "cell_type": "code",
     "collapsed": false,
     "input": [
      "A[1:3] = [-2,-3]\n",
      "A"
     ],
     "language": "python",
     "metadata": {},
     "outputs": []
    },
    {
     "cell_type": "markdown",
     "metadata": {},
     "source": [
      "We can omit any of the three parameters in `M[lower:upper:step]`, by default `lower` is the beginning , `upper` is the end of the array, and `step` is one"
     ]
    },
    {
     "cell_type": "code",
     "collapsed": false,
     "input": [
      "A[::2] # step is 2, lower and upper defaults to the beginning and end of the array"
     ],
     "language": "python",
     "metadata": {},
     "outputs": []
    },
    {
     "cell_type": "code",
     "collapsed": false,
     "input": [
      "A[:3] # first three elements"
     ],
     "language": "python",
     "metadata": {},
     "outputs": []
    },
    {
     "cell_type": "code",
     "collapsed": false,
     "input": [
      "A[3:] # elements from index 3"
     ],
     "language": "python",
     "metadata": {},
     "outputs": []
    },
    {
     "cell_type": "markdown",
     "metadata": {},
     "source": [
      "Negative indices counts from the end of the array:"
     ]
    },
    {
     "cell_type": "code",
     "collapsed": false,
     "input": [
      "A[-1] # the last element in the array"
     ],
     "language": "python",
     "metadata": {},
     "outputs": []
    },
    {
     "cell_type": "code",
     "collapsed": false,
     "input": [
      "A[-3:] # the last three elements"
     ],
     "language": "python",
     "metadata": {},
     "outputs": []
    },
    {
     "cell_type": "code",
     "collapsed": false,
     "input": [
      "A[::-1] #Step backwards, it returns an array with elements in reverse order"
     ],
     "language": "python",
     "metadata": {},
     "outputs": []
    },
    {
     "cell_type": "markdown",
     "metadata": {},
     "source": [
      "Index slicing works exactly the same way for multidimensional arrays:"
     ]
    },
    {
     "cell_type": "code",
     "collapsed": false,
     "input": [
      "M"
     ],
     "language": "python",
     "metadata": {},
     "outputs": []
    },
    {
     "cell_type": "code",
     "collapsed": false,
     "input": [
      "#a block from the original array\n",
      "#all rows, two central columns\n",
      "M[:, 1:3]\n"
     ],
     "language": "python",
     "metadata": {},
     "outputs": []
    },
    {
     "cell_type": "code",
     "collapsed": false,
     "input": [
      "# skiping even columns\n",
      "M[:, ::2]"
     ],
     "language": "python",
     "metadata": {},
     "outputs": []
    },
    {
     "cell_type": "markdown",
     "metadata": {},
     "source": [
      "You can master your **index slicing** abilities by resolving the exercises at the end of this\n",
      "notebook"
     ]
    },
    {
     "cell_type": "markdown",
     "metadata": {},
     "source": [
      "** Comparison operators and value testing **\n",
      "\n",
      "Boolean comparisons can be used to compare members elementwise on arrays of equal size."
     ]
    },
    {
     "cell_type": "code",
     "collapsed": false,
     "input": [
      "a = np.array([1, 3, 0], float) \n",
      "b = np.array([0, 3, 2], float) \n",
      "print a > b \n",
      "print a == b \n",
      "print a <= b "
     ],
     "language": "python",
     "metadata": {},
     "outputs": []
    },
    {
     "cell_type": "code",
     "collapsed": false,
     "input": [
      "a = np.array([1, 3, 0], float) \n",
      "a > 2"
     ],
     "language": "python",
     "metadata": {},
     "outputs": []
    },
    {
     "cell_type": "markdown",
     "metadata": {},
     "source": [
      "The <code>any</code> and <code>all</code> operators can be used to determine whether or not any or all elements of a \n",
      "Boolean array are true: "
     ]
    },
    {
     "cell_type": "code",
     "collapsed": false,
     "input": [
      "c = np.array([ True, False, False], bool) \n",
      "print any(c), all(c)"
     ],
     "language": "python",
     "metadata": {},
     "outputs": []
    },
    {
     "cell_type": "markdown",
     "metadata": {},
     "source": [
      "The ``where`` function forms a new array from two arrays of equivalent size using a Boolean filter  to choose between elements of the two. Its basic syntax is: <br>\n",
      "<code>where(boolarray, truearray, falsearray)</code>"
     ]
    },
    {
     "cell_type": "code",
     "collapsed": false,
     "input": [
      "a = np.array([1, 3, 0], float) \n",
      "np.where(a != 0, 1 / a, a) "
     ],
     "language": "python",
     "metadata": {},
     "outputs": [
      {
       "output_type": "stream",
       "stream": "stderr",
       "text": [
        "-c:2: RuntimeWarning: divide by zero encountered in divide\n"
       ]
      },
      {
       "metadata": {},
       "output_type": "pyout",
       "prompt_number": 39,
       "text": [
        "array([ 1.        ,  0.33333333,  0.        ])"
       ]
      }
     ],
     "prompt_number": 39
    },
    {
     "cell_type": "markdown",
     "metadata": {},
     "source": [
      "** Indexing with other arrays  (*Fancy indexing*)** \n",
      "\n",
      "Arrays allow for a more sophisticated kind of indexing: you can index an array with another array, and in particular with an array of boolean values.  This is particluarly useful to **filter**\n",
      "information from an array that matches a certain condition."
     ]
    },
    {
     "cell_type": "code",
     "collapsed": false,
     "input": [
      "print arr\n",
      "row_indices = [1, 2, 3]\n",
      "arr[row_indices]"
     ],
     "language": "python",
     "metadata": {},
     "outputs": []
    },
    {
     "cell_type": "code",
     "collapsed": false,
     "input": [
      "mask = arr < 9 # construct a boolean array \n",
      "               #where i-th eleement is True if the i-th element of arr is less than 9\n",
      "mask"
     ],
     "language": "python",
     "metadata": {},
     "outputs": [
      {
       "metadata": {},
       "output_type": "pyout",
       "prompt_number": 162,
       "text": [
        "array([False, False, False, False], dtype=bool)"
       ]
      }
     ],
     "prompt_number": 162
    },
    {
     "cell_type": "markdown",
     "metadata": {},
     "source": [
      "The index mask can be converted to position index using the `where` function"
     ]
    },
    {
     "cell_type": "code",
     "collapsed": false,
     "input": [
      "indices = np.where(mask)\n",
      "indices"
     ],
     "language": "python",
     "metadata": {},
     "outputs": [
      {
       "metadata": {},
       "output_type": "pyout",
       "prompt_number": 163,
       "text": [
        "(array([], dtype=int64),)"
       ]
      }
     ],
     "prompt_number": 163
    },
    {
     "cell_type": "code",
     "collapsed": false,
     "input": [
      "print 'Values below 9:', arr[mask]"
     ],
     "language": "python",
     "metadata": {},
     "outputs": [
      {
       "output_type": "stream",
       "stream": "stdout",
       "text": [
        "Values below 9: []\n"
       ]
      }
     ],
     "prompt_number": 164
    },
    {
     "cell_type": "code",
     "collapsed": false,
     "input": [
      "print 'Resetting all values below 9 to 10...'\n",
      "arr[mask] = 10\n",
      "print arr"
     ],
     "language": "python",
     "metadata": {},
     "outputs": []
    },
    {
     "cell_type": "markdown",
     "metadata": {},
     "source": [
      "It is also possible to select using integer arrays that represent indexes."
     ]
    },
    {
     "cell_type": "code",
     "collapsed": false,
     "input": [
      "a = np.array([2, 4, 6, 8], float) \n",
      "b = np.array([0, 0, 1, 3, 2, 1], int)  # the 0th, 0th, 1st, 3rd, 2nd, and 1st elements of a\n",
      "a[b] "
     ],
     "language": "python",
     "metadata": {},
     "outputs": []
    },
    {
     "cell_type": "markdown",
     "metadata": {},
     "source": [
      "For multidimensional arrays, we have to send multiple one-dimensional integer arrays to the \n",
      "selection bracket, one for each axis."
     ]
    },
    {
     "cell_type": "code",
     "collapsed": false,
     "input": [
      "a = np.array([[1, 4], [9, 16]], float) \n",
      "b = np.array([0, 0, 1, 1, 0], int) \n",
      "c = np.array([0, 1, 1, 1, 1], int) \n",
      "a[b,c] "
     ],
     "language": "python",
     "metadata": {},
     "outputs": [
      {
       "metadata": {},
       "output_type": "pyout",
       "prompt_number": 66,
       "text": [
        "array([  1.,   4.,  16.,  16.,   4.])"
       ]
      }
     ],
     "prompt_number": 66
    },
    {
     "cell_type": "markdown",
     "metadata": {},
     "source": [
      "## Array Attributes and Methods\n",
      "The information about the type of an array is contained in its *dtype* attribute:"
     ]
    },
    {
     "cell_type": "code",
     "collapsed": false,
     "input": [
      "# arr is an object of the type ndarray that the numpy module provides.\n",
      "type(arr)"
     ],
     "language": "python",
     "metadata": {},
     "outputs": []
    },
    {
     "cell_type": "code",
     "collapsed": false,
     "input": [
      "arr.dtype"
     ],
     "language": "python",
     "metadata": {},
     "outputs": []
    },
    {
     "cell_type": "markdown",
     "metadata": {},
     "source": [
      "The difference between the `arr` and `M` arrays is only their shapes. We can get information about the shape of an array by using the `ndarray.shape` property."
     ]
    },
    {
     "cell_type": "code",
     "collapsed": false,
     "input": [
      "a = np.array([1, 3, 0], float) \n",
      "a > 2"
     ],
     "language": "python",
     "metadata": {},
     "outputs": []
    },
    {
     "cell_type": "code",
     "collapsed": false,
     "input": [
      "arr.shape"
     ],
     "language": "python",
     "metadata": {},
     "outputs": []
    },
    {
     "cell_type": "code",
     "collapsed": false,
     "input": [
      "M.shape"
     ],
     "language": "python",
     "metadata": {},
     "outputs": []
    },
    {
     "cell_type": "markdown",
     "metadata": {},
     "source": [
      "The number of elements in the array is available through the `ndarray.size` property:"
     ]
    },
    {
     "cell_type": "code",
     "collapsed": false,
     "input": [
      "M.size"
     ],
     "language": "python",
     "metadata": {},
     "outputs": []
    },
    {
     "cell_type": "markdown",
     "metadata": {},
     "source": [
      "Equivalently, we could use the function `numpy.shape` and `numpy.size`"
     ]
    },
    {
     "cell_type": "code",
     "collapsed": false,
     "input": [
      "np.shape(M)"
     ],
     "language": "python",
     "metadata": {},
     "outputs": []
    },
    {
     "cell_type": "code",
     "collapsed": false,
     "input": [
      "np.size(M)"
     ],
     "language": "python",
     "metadata": {},
     "outputs": []
    },
    {
     "cell_type": "markdown",
     "metadata": {},
     "source": [
      "** More atrributes **"
     ]
    },
    {
     "cell_type": "code",
     "collapsed": false,
     "input": [
      "arr.itemsize # bytes per element"
     ],
     "language": "python",
     "metadata": {},
     "outputs": []
    },
    {
     "cell_type": "code",
     "collapsed": false,
     "input": [
      "arr.nbytes # number of bytes"
     ],
     "language": "python",
     "metadata": {},
     "outputs": []
    },
    {
     "cell_type": "code",
     "collapsed": false,
     "input": [
      "arr.ndim # number of dimensions"
     ],
     "language": "python",
     "metadata": {},
     "outputs": []
    },
    {
     "cell_type": "markdown",
     "metadata": {},
     "source": [
      "** Useful Methods **"
     ]
    },
    {
     "cell_type": "markdown",
     "metadata": {},
     "source": [
      "NumPy offers a large library of common mathematical functions that can be applied elementwise to arrays. Among these are the functions: <code> abs,sign, sqrt, log, log10, exp, sin, cos, tan, arcsin, arccos, arctan, sinh, cosh, tanh, arcsinh, arccosh, </code> and <code>arctanh </code>. \n"
     ]
    },
    {
     "cell_type": "code",
     "collapsed": false,
     "input": [
      "a = np.array([1, 4, 9], float) \n",
      "np.sqrt(a)"
     ],
     "language": "python",
     "metadata": {},
     "outputs": []
    },
    {
     "cell_type": "code",
     "collapsed": false,
     "input": [
      "print 'Minimum and maximum             :', a.min(), a.max()\n",
      "print 'Sum and product of all elements :', a.sum(), a.prod()\n",
      "print 'Mean and standard deviation     :', a.mean(), a.std()"
     ],
     "language": "python",
     "metadata": {},
     "outputs": []
    },
    {
     "cell_type": "markdown",
     "metadata": {},
     "source": [
      "If we want to know which index is the maximum or minimum, it can be done using `argmax` and `argmin`"
     ]
    },
    {
     "cell_type": "code",
     "collapsed": false,
     "input": [
      "np.argmax(a)"
     ],
     "language": "python",
     "metadata": {},
     "outputs": []
    },
    {
     "cell_type": "markdown",
     "metadata": {},
     "source": [
      "For these methods, the above operations area all computed on all the elements of the array.  But for a multidimensional array, it's possible to do the computation along a single dimension, by passing the `axis` parameter; for example:"
     ]
    },
    {
     "cell_type": "code",
     "collapsed": false,
     "input": [
      "print 'For the following array:\\n', M\n",
      "print 'The sum of elements along the rows is    :', M.sum(axis=1)\n",
      "print 'The sum of elements along the columns is :', M.sum(axis=0)"
     ],
     "language": "python",
     "metadata": {},
     "outputs": [
      {
       "output_type": "stream",
       "stream": "stdout",
       "text": [
        "For the following array:\n",
        "[[ 5  5  5  5]\n",
        " [ 0  0 -1  0]]\n",
        "The sum of elements along the rows is    : [20 -1]\n",
        "The sum of elements along the columns is : [5 5 4 5]\n"
       ]
      }
     ],
     "prompt_number": 83
    },
    {
     "cell_type": "markdown",
     "metadata": {},
     "source": [
      "To find unique values in array, we can use the `unique` function:"
     ]
    },
    {
     "cell_type": "code",
     "collapsed": false,
     "input": [
      "print arr\n",
      "np.unique(arr)"
     ],
     "language": "python",
     "metadata": {},
     "outputs": []
    },
    {
     "cell_type": "markdown",
     "metadata": {},
     "source": [
      "### Reshaping, resizing and stacking arrays"
     ]
    },
    {
     "cell_type": "markdown",
     "metadata": {},
     "source": [
      "The shape of an Numpy array can be modified without copying the underlaying data, which makes it a fast operation even for large arrays."
     ]
    },
    {
     "cell_type": "code",
     "collapsed": false,
     "input": [
      "print M\n",
      "n, m = M.shape\n",
      "n,m"
     ],
     "language": "python",
     "metadata": {},
     "outputs": [
      {
       "output_type": "stream",
       "stream": "stdout",
       "text": [
        "[[ 1 20 -1 40]\n",
        " [ 0  0 -1  0]]\n"
       ]
      },
      {
       "metadata": {},
       "output_type": "pyout",
       "prompt_number": 62,
       "text": [
        "(2L, 4L)"
       ]
      }
     ],
     "prompt_number": 62
    },
    {
     "cell_type": "code",
     "collapsed": false,
     "input": [
      "B = M.reshape((1,n*m))\n",
      "print B.shape\n",
      "B"
     ],
     "language": "python",
     "metadata": {},
     "outputs": [
      {
       "output_type": "stream",
       "stream": "stdout",
       "text": [
        "(1L, 8L)\n"
       ]
      },
      {
       "metadata": {},
       "output_type": "pyout",
       "prompt_number": 63,
       "text": [
        "array([[ 1, 20, -1, 40,  0,  0, -1,  0]])"
       ]
      }
     ],
     "prompt_number": 63
    },
    {
     "cell_type": "code",
     "collapsed": false,
     "input": [
      "B[0,0:4] = 5 # modify the array\n",
      "B"
     ],
     "language": "python",
     "metadata": {},
     "outputs": [
      {
       "metadata": {},
       "output_type": "pyout",
       "prompt_number": 64,
       "text": [
        "array([[ 5,  5,  5,  5,  0,  0, -1,  0]])"
       ]
      }
     ],
     "prompt_number": 64
    },
    {
     "cell_type": "code",
     "collapsed": false,
     "input": [
      "M # and the original variable is also changed. B is only a different view of the same data"
     ],
     "language": "python",
     "metadata": {},
     "outputs": []
    },
    {
     "cell_type": "markdown",
     "metadata": {},
     "source": [
      "Using function `repeat`, `tile`, `vstack`, `hstack`, and `concatenate` we can create larger vectors and matrices from smaller ones:"
     ]
    },
    {
     "cell_type": "code",
     "collapsed": false,
     "input": [
      "a = np.array([[1, 2], [3, 4]])\n",
      "a"
     ],
     "language": "python",
     "metadata": {},
     "outputs": [
      {
       "metadata": {},
       "output_type": "pyout",
       "prompt_number": 65,
       "text": [
        "array([[1, 2],\n",
        "       [3, 4]])"
       ]
      }
     ],
     "prompt_number": 65
    },
    {
     "cell_type": "code",
     "collapsed": false,
     "input": [
      "# repeat each element 3 times\n",
      "np.repeat(a, 3)"
     ],
     "language": "python",
     "metadata": {},
     "outputs": [
      {
       "metadata": {},
       "output_type": "pyout",
       "prompt_number": 159,
       "text": [
        "array([5, 5, 5, 1, 1, 1, 4, 4, 4, 5, 5, 5, 4, 4, 4, 1, 1, 1, 5, 5, 5, 1, 1,\n",
        "       1, 4, 4, 4, 1, 1, 1, 4, 4, 4, 1, 1, 1, 4, 4, 4, 1, 1, 1, 4, 4, 4, 1,\n",
        "       1, 1, 5, 5, 5, 2, 2, 2, 4, 4, 4, 5, 5, 5, 4, 4, 4, 2, 2, 2, 5, 5, 5,\n",
        "       2, 2, 2, 4, 4, 4, 0, 0, 0, 4, 4, 4, 0, 0, 0, 4, 4, 4, 0, 0, 0, 4, 4,\n",
        "       4, 0, 0, 0, 5, 5, 5, 0, 0, 0, 4, 4, 4, 5, 5, 5, 4, 4, 4, 0, 0, 0, 5,\n",
        "       5, 5, 0, 0, 0, 4, 4, 4, 0, 0, 0, 4, 4, 4, 0, 0, 0, 4, 4, 4, 0, 0, 0,\n",
        "       4, 4, 4, 0, 0, 0, 5, 5, 5, 0, 0, 0, 4, 4, 4, 5, 5, 5, 4, 4, 4, 0, 0,\n",
        "       0, 5, 5, 5, 0, 0, 0, 4, 4, 4, 0, 0, 0, 4, 4, 4, 0, 0, 0, 4, 4, 4, 0,\n",
        "       0, 0, 4, 4, 4, 0, 0, 0], dtype=int64)"
       ]
      }
     ],
     "prompt_number": 159
    },
    {
     "cell_type": "code",
     "collapsed": false,
     "input": [
      "# tile the matrix 3 times \n",
      "np.tile(a, 3)"
     ],
     "language": "python",
     "metadata": {},
     "outputs": [
      {
       "metadata": {},
       "output_type": "pyout",
       "prompt_number": 160,
       "text": [
        "array([[5, 1, 4, 5, 4, 1, 5, 1, 5, 1, 4, 5, 4, 1, 5, 1, 5, 1, 4, 5, 4, 1,\n",
        "        5, 1],\n",
        "       [4, 1, 4, 1, 4, 1, 4, 1, 4, 1, 4, 1, 4, 1, 4, 1, 4, 1, 4, 1, 4, 1,\n",
        "        4, 1],\n",
        "       [5, 2, 4, 5, 4, 2, 5, 2, 5, 2, 4, 5, 4, 2, 5, 2, 5, 2, 4, 5, 4, 2,\n",
        "        5, 2],\n",
        "       [4, 0, 4, 0, 4, 0, 4, 0, 4, 0, 4, 0, 4, 0, 4, 0, 4, 0, 4, 0, 4, 0,\n",
        "        4, 0],\n",
        "       [5, 0, 4, 5, 4, 0, 5, 0, 5, 0, 4, 5, 4, 0, 5, 0, 5, 0, 4, 5, 4, 0,\n",
        "        5, 0],\n",
        "       [4, 0, 4, 0, 4, 0, 4, 0, 4, 0, 4, 0, 4, 0, 4, 0, 4, 0, 4, 0, 4, 0,\n",
        "        4, 0],\n",
        "       [5, 0, 4, 5, 4, 0, 5, 0, 5, 0, 4, 5, 4, 0, 5, 0, 5, 0, 4, 5, 4, 0,\n",
        "        5, 0],\n",
        "       [4, 0, 4, 0, 4, 0, 4, 0, 4, 0, 4, 0, 4, 0, 4, 0, 4, 0, 4, 0, 4, 0,\n",
        "        4, 0]], dtype=int64)"
       ]
      }
     ],
     "prompt_number": 160
    },
    {
     "cell_type": "code",
     "collapsed": false,
     "input": [
      "np.concatenate((a, np.array([[5, 6]])), axis=0)"
     ],
     "language": "python",
     "metadata": {},
     "outputs": []
    },
    {
     "cell_type": "markdown",
     "metadata": {},
     "source": [
      "For transposing a matrix, it can be done using the array property T :"
     ]
    },
    {
     "cell_type": "code",
     "collapsed": false,
     "input": [
      "np.concatenate((a, np.array([[5, 6]]).T), axis=1)"
     ],
     "language": "python",
     "metadata": {},
     "outputs": []
    },
    {
     "cell_type": "markdown",
     "metadata": {},
     "source": [
      "**hstack** and **vstack** : shortcuts for concatenate horizontally and vertically"
     ]
    },
    {
     "cell_type": "code",
     "collapsed": false,
     "input": [
      "np.vstack((a,np.array([[5, 6]])))"
     ],
     "language": "python",
     "metadata": {},
     "outputs": []
    },
    {
     "cell_type": "code",
     "collapsed": false,
     "input": [
      "np.hstack((a,np.array([[5, 6]]).T))"
     ],
     "language": "python",
     "metadata": {},
     "outputs": []
    },
    {
     "cell_type": "markdown",
     "metadata": {},
     "source": [
      "## Copy and \"deep copy\""
     ]
    },
    {
     "cell_type": "markdown",
     "metadata": {},
     "source": [
      "To achieve high performance, assignments in Python usually do not copy the underlaying objects. This is important for example when objects are passed between functions, to avoid an excessive amount of memory copying when it is not necessary (techincal term: pass by reference)."
     ]
    },
    {
     "cell_type": "code",
     "collapsed": false,
     "input": [
      "A = np.array([[1, 2], [3, 4]])\n",
      "A"
     ],
     "language": "python",
     "metadata": {},
     "outputs": []
    },
    {
     "cell_type": "code",
     "collapsed": false,
     "input": [
      "# now B is referring to the same array data as A \n",
      "B = A "
     ],
     "language": "python",
     "metadata": {},
     "outputs": []
    },
    {
     "cell_type": "code",
     "collapsed": false,
     "input": [
      "# changing B affects A\n",
      "B[0,0] = 10\n",
      "B"
     ],
     "language": "python",
     "metadata": {},
     "outputs": []
    },
    {
     "cell_type": "code",
     "collapsed": false,
     "input": [
      "A"
     ],
     "language": "python",
     "metadata": {},
     "outputs": []
    },
    {
     "cell_type": "markdown",
     "metadata": {},
     "source": [
      "If we want to avoid this behavior, so that when we get a new completely independent object B copied from A, then we need to do a so-called \"deep copy\" using the function copy:"
     ]
    },
    {
     "cell_type": "code",
     "collapsed": false,
     "input": [
      "B = np.copy(A)"
     ],
     "language": "python",
     "metadata": {},
     "outputs": []
    },
    {
     "cell_type": "code",
     "collapsed": false,
     "input": [
      "# now, if we modify B, A is not affected\n",
      "B[0,0] = -5\n",
      "B"
     ],
     "language": "python",
     "metadata": {},
     "outputs": []
    },
    {
     "cell_type": "code",
     "collapsed": false,
     "input": [
      "A"
     ],
     "language": "python",
     "metadata": {},
     "outputs": []
    },
    {
     "cell_type": "markdown",
     "metadata": {},
     "source": [
      "## Operating with arrays\n",
      "Arrays support all regular arithmetic operators, and the numpy library also contains a complete collection of basic mathematical functions that operate on arrays.  It is important to remember that in general, all operations with arrays are applied *element-wise*, i.e., are applied to all the elements of the array at the same time. "
     ]
    },
    {
     "cell_type": "code",
     "collapsed": false,
     "input": [
      "v1 = np.arange(0, 4)\n",
      "v1"
     ],
     "language": "python",
     "metadata": {},
     "outputs": []
    },
    {
     "cell_type": "code",
     "collapsed": false,
     "input": [
      "v1 * 2"
     ],
     "language": "python",
     "metadata": {},
     "outputs": []
    },
    {
     "cell_type": "code",
     "collapsed": false,
     "input": [
      "v1 + 2"
     ],
     "language": "python",
     "metadata": {},
     "outputs": []
    },
    {
     "cell_type": "code",
     "collapsed": false,
     "input": [
      "M*2"
     ],
     "language": "python",
     "metadata": {},
     "outputs": []
    },
    {
     "cell_type": "markdown",
     "metadata": {},
     "source": [
      "When we add, subtract, multiply and divide arrays with each other, the default behaviour is **element-wise** operations:"
     ]
    },
    {
     "cell_type": "code",
     "collapsed": false,
     "input": [
      "print M\n",
      "M*M"
     ],
     "language": "python",
     "metadata": {},
     "outputs": []
    },
    {
     "cell_type": "code",
     "collapsed": false,
     "input": [
      "v1*v1"
     ],
     "language": "python",
     "metadata": {},
     "outputs": []
    },
    {
     "cell_type": "markdown",
     "metadata": {},
     "source": [
      "If we multiply arrays with compatible shapes, we get an element-wise multiplication of each row:"
     ]
    },
    {
     "cell_type": "code",
     "collapsed": false,
     "input": [
      "M.shape, v1.shape"
     ],
     "language": "python",
     "metadata": {},
     "outputs": []
    },
    {
     "cell_type": "code",
     "collapsed": false,
     "input": [
      "M * v1"
     ],
     "language": "python",
     "metadata": {},
     "outputs": []
    },
    {
     "cell_type": "markdown",
     "metadata": {},
     "source": [
      "What about matrix mutiplication?  We can  use the `dot` function, which applies a matrix-matrix, matrix-vector, or inner vector multiplication to its two arguments: "
     ]
    },
    {
     "cell_type": "code",
     "collapsed": false,
     "input": [
      "print M\n",
      "print v1\n",
      "np.dot(M,v1)"
     ],
     "language": "python",
     "metadata": {},
     "outputs": []
    },
    {
     "cell_type": "code",
     "collapsed": false,
     "input": [
      "np.dot(v1,v1)"
     ],
     "language": "python",
     "metadata": {},
     "outputs": []
    },
    {
     "cell_type": "markdown",
     "metadata": {},
     "source": [
      "** Broadcasting **"
     ]
    },
    {
     "cell_type": "markdown",
     "metadata": {},
     "source": [
      "Broadcasting means that, in principle, arrays must always match in their dimensionality in order for an operation to be valid, numpy will *broadcast* dimensions when possible. Previous examples of operations with an scalar and a vector is broadcasting:"
     ]
    },
    {
     "cell_type": "code",
     "collapsed": false,
     "input": [
      "print v1\n",
      "v1 + 5"
     ],
     "language": "python",
     "metadata": {},
     "outputs": []
    },
    {
     "cell_type": "markdown",
     "metadata": {},
     "source": [
      "We can also broadcast a 1D array to a 2D array, in this case adding a vector to all rows of a matrix:"
     ]
    },
    {
     "cell_type": "code",
     "collapsed": false,
     "input": [
      "np.ones((4, 4)) + v1"
     ],
     "language": "python",
     "metadata": {},
     "outputs": []
    },
    {
     "cell_type": "markdown",
     "metadata": {},
     "source": [
      "We can also broadcast in two directions at a time:"
     ]
    },
    {
     "cell_type": "code",
     "collapsed": false,
     "input": [
      "v1.reshape((4, 1)) + np.arange(4)"
     ],
     "language": "python",
     "metadata": {},
     "outputs": []
    },
    {
     "cell_type": "markdown",
     "metadata": {},
     "source": [
      "** Rules of Broadcasting **\n",
      "\n",
      "Broadcasting follows the next algorithm:\n",
      "\n",
      "1. If the two arrays differ in their number of dimensions, the shape of the array with fewer dimensions is padded with ones on its leading (left) side.\n",
      "\n",
      "2. If the shape of the two arrays does not match in any dimension, the array with shape equal to 1 in that dimension is stretched to match the other shape.\n",
      "\n",
      "3. If in any dimension the sizes disagree and neither is equal to 1, an error is raised.\n",
      "\n",
      "Note that all of this happens without ever actually creating the stretched arrays in memory! This broadcasting behavior is in practice enormously powerful, especially because when numpy broadcasts to create new dimensions or to `stretch` existing ones, it doesn't actually replicate the data. \n",
      "\n",
      "\n",
      "In the first example: \n",
      "\n",
      "    v1 + 5\n",
      "\n",
      "the operation is carried as if the 5 was a 1-d array with 5 in all of its entries, but no actual array was ever created.\n",
      "\n",
      "In the example\n",
      "\n",
      "    v1.reshape((4, 1)) + np.arange(4)\n",
      "    \n",
      "- the second array is 'promoted' to a 2-dimensional array of shape (1, 4)\n",
      "- the second array is 'stretched' to shape (4, 4)\n",
      "- the first array is 'stretched' to shape (4, 4)\n",
      "\n",
      "Then the operation proceeds as if on two 4 $\\times$ 4 arrays."
     ]
    },
    {
     "cell_type": "code",
     "collapsed": false,
     "input": [
      "np.tile(np.arange(4),(4,1))+ np.tile(v1.reshape((4,1)),4)"
     ],
     "language": "python",
     "metadata": {},
     "outputs": []
    },
    {
     "cell_type": "code",
     "collapsed": false,
     "input": [
      "#Broadcasting unrolled\n",
      "print np.tile(np.arange(4),(4,1))\n",
      "print np.tile(v1.reshape((4,1)),4)\n",
      "np.tile(np.arange(4),(4,1)) +  np.tile(v1.reshape((4,1)),4)"
     ],
     "language": "python",
     "metadata": {},
     "outputs": []
    },
    {
     "cell_type": "markdown",
     "metadata": {},
     "source": [
      "### Visualizing Broadcasting\n",
      "\n",
      "<img src=\"http://www.astroml.org/_images/fig_broadcast_visual_1.png\">\n",
      "\n",
      "([image source](http://www.astroml.org/book_figures/appendix/fig_broadcast_visual.html))"
     ]
    },
    {
     "cell_type": "markdown",
     "metadata": {},
     "source": [
      "Sometimes, however, we can use the ``newaxis`` constant to specify how we \n",
      "want to broadcast:"
     ]
    },
    {
     "cell_type": "code",
     "collapsed": false,
     "input": [
      "a = np.zeros((2,2), float) \n",
      "b = np.array([-1., 3.], float) \n",
      "print a, b\n",
      "print\n",
      "print a + b \n",
      "print\n",
      "print a + b[np.newaxis,:] \n",
      "print\n",
      "print a + b[:,np.newaxis] "
     ],
     "language": "python",
     "metadata": {},
     "outputs": []
    },
    {
     "cell_type": "markdown",
     "metadata": {},
     "source": [
      "#Further reading\n",
      "\n",
      "* http://numpy.scipy.org\n",
      "* http://scipy.org/Tentative_NumPy_Tutorial\n",
      "* http://scipy.org/NumPy_for_Matlab_Users - A Numpy guide for MATLAB users."
     ]
    },
    {
     "cell_type": "markdown",
     "metadata": {},
     "source": [
      "#Exercises"
     ]
    },
    {
     "cell_type": "markdown",
     "metadata": {},
     "source": [
      "1) In the following table we have expression values for 5 genes at 4 time points. "
     ]
    },
    {
     "cell_type": "code",
     "collapsed": false,
     "input": [
      "from IPython.lib import display\n",
      "#%cat 'data_files/genes.csv' \n",
      "#FileLink('genes.csv')"
     ],
     "language": "python",
     "metadata": {},
     "outputs": [],
     "prompt_number": 104
    },
    {
     "cell_type": "markdown",
     "metadata": {},
     "source": [
      "   - Create a single array for the data (4x4)\n",
      "   - Find the mean expression value per gene\n",
      "   - Find the mean expression value per time point\n",
      "   - Which gene has the maximum mean expression value? (Use the ``tab`` help on an `array`)"
     ]
    },
    {
     "cell_type": "code",
     "collapsed": false,
     "input": [
      "#Your Code Here\n",
      "genes = np.genfromtxt('data_files/genes.csv', skip_header=1, delimiter=',')\n",
      "genes = genes[:, 1:5:1]\n",
      "\n",
      "means_gene = genes.mean(axis=1)\n",
      "print means_gene\n",
      "\n",
      "means_time = genes.mean(axis=0)\n",
      "print means_time\n",
      "\n",
      "print genes.argmax(), genes.max()\n",
      "\n",
      "print genes"
     ],
     "language": "python",
     "metadata": {},
     "outputs": [
      {
       "output_type": "stream",
       "stream": "stdout",
       "text": [
        "[ 0.07    0.07    0.0325  0.0975]\n",
        "[ 0.0525  0.07    0.08    0.0675]\n",
        "15 0.14\n",
        "[[ 0.12  0.08  0.06  0.02]\n",
        " [ 0.01  0.07  0.11  0.09]\n",
        " [ 0.03  0.04  0.04  0.02]\n",
        " [ 0.05  0.09  0.11  0.14]]\n"
       ]
      }
     ],
     "prompt_number": 105
    },
    {
     "cell_type": "markdown",
     "metadata": {},
     "source": [
      "<div class=\"alert alert-info\">`ipythonblocks` is a teaching tool that allows students to experiment with Python flow control concepts and immediately see the effects of their code represented in a colorful, attractive way. BlockGrid objects can be **indexed and sliced like 2D NumPy arrays** making them good practice for learning how to access arrays. </div>"
     ]
    },
    {
     "cell_type": "code",
     "collapsed": false,
     "input": [
      "import os\n",
      "os.chdir('data_files/modules/')\n",
      "from ipythonblocks import BlockGrid\n",
      "from ipythonblocks import colors\n",
      "os.chdir('..')\n",
      "grid = BlockGrid(8, 8, fill=(123, 234, 123))\n",
      "grid.show()"
     ],
     "language": "python",
     "metadata": {},
     "outputs": [
      {
       "html": [
        "<style type=\"text/css\">table.blockgrid {border: none;} .blockgrid tr {border: none;} .blockgrid td {padding: 0px;} #blocksab52b8cc-d383-4f5e-9792-b75b38528e5c td {border: 1px solid white;}</style><table id=\"blocksab52b8cc-d383-4f5e-9792-b75b38528e5c\" class=\"blockgrid\"><tbody><tr><td title=\"Index: [0, 0]&#10;Color: (123, 234, 123)\" style=\"width: 20px; height: 20px;background-color: rgb(123, 234, 123);\"></td><td title=\"Index: [0, 1]&#10;Color: (123, 234, 123)\" style=\"width: 20px; height: 20px;background-color: rgb(123, 234, 123);\"></td><td title=\"Index: [0, 2]&#10;Color: (123, 234, 123)\" style=\"width: 20px; height: 20px;background-color: rgb(123, 234, 123);\"></td><td title=\"Index: [0, 3]&#10;Color: (123, 234, 123)\" style=\"width: 20px; height: 20px;background-color: rgb(123, 234, 123);\"></td><td title=\"Index: [0, 4]&#10;Color: (123, 234, 123)\" style=\"width: 20px; height: 20px;background-color: rgb(123, 234, 123);\"></td><td title=\"Index: [0, 5]&#10;Color: (123, 234, 123)\" style=\"width: 20px; height: 20px;background-color: rgb(123, 234, 123);\"></td><td title=\"Index: [0, 6]&#10;Color: (123, 234, 123)\" style=\"width: 20px; height: 20px;background-color: rgb(123, 234, 123);\"></td><td title=\"Index: [0, 7]&#10;Color: (123, 234, 123)\" style=\"width: 20px; height: 20px;background-color: rgb(123, 234, 123);\"></td></tr><tr><td title=\"Index: [1, 0]&#10;Color: (123, 234, 123)\" style=\"width: 20px; height: 20px;background-color: rgb(123, 234, 123);\"></td><td title=\"Index: [1, 1]&#10;Color: (123, 234, 123)\" style=\"width: 20px; height: 20px;background-color: rgb(123, 234, 123);\"></td><td title=\"Index: [1, 2]&#10;Color: (123, 234, 123)\" style=\"width: 20px; height: 20px;background-color: rgb(123, 234, 123);\"></td><td title=\"Index: [1, 3]&#10;Color: (123, 234, 123)\" style=\"width: 20px; height: 20px;background-color: rgb(123, 234, 123);\"></td><td title=\"Index: [1, 4]&#10;Color: (123, 234, 123)\" style=\"width: 20px; height: 20px;background-color: rgb(123, 234, 123);\"></td><td title=\"Index: [1, 5]&#10;Color: (123, 234, 123)\" style=\"width: 20px; height: 20px;background-color: rgb(123, 234, 123);\"></td><td title=\"Index: [1, 6]&#10;Color: (123, 234, 123)\" style=\"width: 20px; height: 20px;background-color: rgb(123, 234, 123);\"></td><td title=\"Index: [1, 7]&#10;Color: (123, 234, 123)\" style=\"width: 20px; height: 20px;background-color: rgb(123, 234, 123);\"></td></tr><tr><td title=\"Index: [2, 0]&#10;Color: (123, 234, 123)\" style=\"width: 20px; height: 20px;background-color: rgb(123, 234, 123);\"></td><td title=\"Index: [2, 1]&#10;Color: (123, 234, 123)\" style=\"width: 20px; height: 20px;background-color: rgb(123, 234, 123);\"></td><td title=\"Index: [2, 2]&#10;Color: (123, 234, 123)\" style=\"width: 20px; height: 20px;background-color: rgb(123, 234, 123);\"></td><td title=\"Index: [2, 3]&#10;Color: (123, 234, 123)\" style=\"width: 20px; height: 20px;background-color: rgb(123, 234, 123);\"></td><td title=\"Index: [2, 4]&#10;Color: (123, 234, 123)\" style=\"width: 20px; height: 20px;background-color: rgb(123, 234, 123);\"></td><td title=\"Index: [2, 5]&#10;Color: (123, 234, 123)\" style=\"width: 20px; height: 20px;background-color: rgb(123, 234, 123);\"></td><td title=\"Index: [2, 6]&#10;Color: (123, 234, 123)\" style=\"width: 20px; height: 20px;background-color: rgb(123, 234, 123);\"></td><td title=\"Index: [2, 7]&#10;Color: (123, 234, 123)\" style=\"width: 20px; height: 20px;background-color: rgb(123, 234, 123);\"></td></tr><tr><td title=\"Index: [3, 0]&#10;Color: (123, 234, 123)\" style=\"width: 20px; height: 20px;background-color: rgb(123, 234, 123);\"></td><td title=\"Index: [3, 1]&#10;Color: (123, 234, 123)\" style=\"width: 20px; height: 20px;background-color: rgb(123, 234, 123);\"></td><td title=\"Index: [3, 2]&#10;Color: (123, 234, 123)\" style=\"width: 20px; height: 20px;background-color: rgb(123, 234, 123);\"></td><td title=\"Index: [3, 3]&#10;Color: (123, 234, 123)\" style=\"width: 20px; height: 20px;background-color: rgb(123, 234, 123);\"></td><td title=\"Index: [3, 4]&#10;Color: (123, 234, 123)\" style=\"width: 20px; height: 20px;background-color: rgb(123, 234, 123);\"></td><td title=\"Index: [3, 5]&#10;Color: (123, 234, 123)\" style=\"width: 20px; height: 20px;background-color: rgb(123, 234, 123);\"></td><td title=\"Index: [3, 6]&#10;Color: (123, 234, 123)\" style=\"width: 20px; height: 20px;background-color: rgb(123, 234, 123);\"></td><td title=\"Index: [3, 7]&#10;Color: (123, 234, 123)\" style=\"width: 20px; height: 20px;background-color: rgb(123, 234, 123);\"></td></tr><tr><td title=\"Index: [4, 0]&#10;Color: (123, 234, 123)\" style=\"width: 20px; height: 20px;background-color: rgb(123, 234, 123);\"></td><td title=\"Index: [4, 1]&#10;Color: (123, 234, 123)\" style=\"width: 20px; height: 20px;background-color: rgb(123, 234, 123);\"></td><td title=\"Index: [4, 2]&#10;Color: (123, 234, 123)\" style=\"width: 20px; height: 20px;background-color: rgb(123, 234, 123);\"></td><td title=\"Index: [4, 3]&#10;Color: (123, 234, 123)\" style=\"width: 20px; height: 20px;background-color: rgb(123, 234, 123);\"></td><td title=\"Index: [4, 4]&#10;Color: (123, 234, 123)\" style=\"width: 20px; height: 20px;background-color: rgb(123, 234, 123);\"></td><td title=\"Index: [4, 5]&#10;Color: (123, 234, 123)\" style=\"width: 20px; height: 20px;background-color: rgb(123, 234, 123);\"></td><td title=\"Index: [4, 6]&#10;Color: (123, 234, 123)\" style=\"width: 20px; height: 20px;background-color: rgb(123, 234, 123);\"></td><td title=\"Index: [4, 7]&#10;Color: (123, 234, 123)\" style=\"width: 20px; height: 20px;background-color: rgb(123, 234, 123);\"></td></tr><tr><td title=\"Index: [5, 0]&#10;Color: (123, 234, 123)\" style=\"width: 20px; height: 20px;background-color: rgb(123, 234, 123);\"></td><td title=\"Index: [5, 1]&#10;Color: (123, 234, 123)\" style=\"width: 20px; height: 20px;background-color: rgb(123, 234, 123);\"></td><td title=\"Index: [5, 2]&#10;Color: (123, 234, 123)\" style=\"width: 20px; height: 20px;background-color: rgb(123, 234, 123);\"></td><td title=\"Index: [5, 3]&#10;Color: (123, 234, 123)\" style=\"width: 20px; height: 20px;background-color: rgb(123, 234, 123);\"></td><td title=\"Index: [5, 4]&#10;Color: (123, 234, 123)\" style=\"width: 20px; height: 20px;background-color: rgb(123, 234, 123);\"></td><td title=\"Index: [5, 5]&#10;Color: (123, 234, 123)\" style=\"width: 20px; height: 20px;background-color: rgb(123, 234, 123);\"></td><td title=\"Index: [5, 6]&#10;Color: (123, 234, 123)\" style=\"width: 20px; height: 20px;background-color: rgb(123, 234, 123);\"></td><td title=\"Index: [5, 7]&#10;Color: (123, 234, 123)\" style=\"width: 20px; height: 20px;background-color: rgb(123, 234, 123);\"></td></tr><tr><td title=\"Index: [6, 0]&#10;Color: (123, 234, 123)\" style=\"width: 20px; height: 20px;background-color: rgb(123, 234, 123);\"></td><td title=\"Index: [6, 1]&#10;Color: (123, 234, 123)\" style=\"width: 20px; height: 20px;background-color: rgb(123, 234, 123);\"></td><td title=\"Index: [6, 2]&#10;Color: (123, 234, 123)\" style=\"width: 20px; height: 20px;background-color: rgb(123, 234, 123);\"></td><td title=\"Index: [6, 3]&#10;Color: (123, 234, 123)\" style=\"width: 20px; height: 20px;background-color: rgb(123, 234, 123);\"></td><td title=\"Index: [6, 4]&#10;Color: (123, 234, 123)\" style=\"width: 20px; height: 20px;background-color: rgb(123, 234, 123);\"></td><td title=\"Index: [6, 5]&#10;Color: (123, 234, 123)\" style=\"width: 20px; height: 20px;background-color: rgb(123, 234, 123);\"></td><td title=\"Index: [6, 6]&#10;Color: (123, 234, 123)\" style=\"width: 20px; height: 20px;background-color: rgb(123, 234, 123);\"></td><td title=\"Index: [6, 7]&#10;Color: (123, 234, 123)\" style=\"width: 20px; height: 20px;background-color: rgb(123, 234, 123);\"></td></tr><tr><td title=\"Index: [7, 0]&#10;Color: (123, 234, 123)\" style=\"width: 20px; height: 20px;background-color: rgb(123, 234, 123);\"></td><td title=\"Index: [7, 1]&#10;Color: (123, 234, 123)\" style=\"width: 20px; height: 20px;background-color: rgb(123, 234, 123);\"></td><td title=\"Index: [7, 2]&#10;Color: (123, 234, 123)\" style=\"width: 20px; height: 20px;background-color: rgb(123, 234, 123);\"></td><td title=\"Index: [7, 3]&#10;Color: (123, 234, 123)\" style=\"width: 20px; height: 20px;background-color: rgb(123, 234, 123);\"></td><td title=\"Index: [7, 4]&#10;Color: (123, 234, 123)\" style=\"width: 20px; height: 20px;background-color: rgb(123, 234, 123);\"></td><td title=\"Index: [7, 5]&#10;Color: (123, 234, 123)\" style=\"width: 20px; height: 20px;background-color: rgb(123, 234, 123);\"></td><td title=\"Index: [7, 6]&#10;Color: (123, 234, 123)\" style=\"width: 20px; height: 20px;background-color: rgb(123, 234, 123);\"></td><td title=\"Index: [7, 7]&#10;Color: (123, 234, 123)\" style=\"width: 20px; height: 20px;background-color: rgb(123, 234, 123);\"></td></tr></tbody></table>"
       ],
       "metadata": {},
       "output_type": "display_data",
       "text": [
        "<IPython.core.display.HTML at 0x3ec62e8>"
       ]
      }
     ],
     "prompt_number": 41
    },
    {
     "cell_type": "code",
     "collapsed": false,
     "input": [
      "a = np.array(np.zeros([8,8],dtype='int64'))\n",
      "a"
     ],
     "language": "python",
     "metadata": {},
     "outputs": [
      {
       "metadata": {},
       "output_type": "pyout",
       "prompt_number": 108,
       "text": [
        "array([[0, 0, 0, 0, 0, 0, 0, 0],\n",
        "       [0, 0, 0, 0, 0, 0, 0, 0],\n",
        "       [0, 0, 0, 0, 0, 0, 0, 0],\n",
        "       [0, 0, 0, 0, 0, 0, 0, 0],\n",
        "       [0, 0, 0, 0, 0, 0, 0, 0],\n",
        "       [0, 0, 0, 0, 0, 0, 0, 0],\n",
        "       [0, 0, 0, 0, 0, 0, 0, 0],\n",
        "       [0, 0, 0, 0, 0, 0, 0, 0]], dtype=int64)"
       ]
      }
     ],
     "prompt_number": 108
    },
    {
     "cell_type": "code",
     "collapsed": false,
     "input": [
      "grid[0, 0] #access to [0,0] element"
     ],
     "language": "python",
     "metadata": {},
     "outputs": [
      {
       "html": [
        "<style type=\"text/css\">table.blockgrid {border: none;} .blockgrid tr {border: none;} .blockgrid td {padding: 0px;} #blocksb08ce7cd-f6ee-46d1-bd77-62e79bcc3404 td {border: 0px solid white;}</style><table id=\"blocksb08ce7cd-f6ee-46d1-bd77-62e79bcc3404\" class=\"blockgrid\"><tbody><tr><td title=\"Index: [0, 0]&#10;Color: (123, 234, 123)\" style=\"width: 20px; height: 20px;background-color: rgb(123, 234, 123);\"></td></tr></tbody></table>"
       ],
       "metadata": {},
       "output_type": "pyout",
       "prompt_number": 109,
       "text": [
        "Block(123, 234, 123, size=20)"
       ]
      }
     ],
     "prompt_number": 109
    },
    {
     "cell_type": "code",
     "collapsed": false,
     "input": [
      "grid[0:2,:] = colors['Teal']\n",
      "grid.show()"
     ],
     "language": "python",
     "metadata": {},
     "outputs": [
      {
       "html": [
        "<style type=\"text/css\">table.blockgrid {border: none;} .blockgrid tr {border: none;} .blockgrid td {padding: 0px;} #blocks4ffe7e0c-c8c3-462d-a64a-c90921320cb8 td {border: 1px solid white;}</style><table id=\"blocks4ffe7e0c-c8c3-462d-a64a-c90921320cb8\" class=\"blockgrid\"><tbody><tr><td title=\"Index: [0, 0]&#10;Color: (0, 128, 128)\" style=\"width: 20px; height: 20px;background-color: rgb(0, 128, 128);\"></td><td title=\"Index: [0, 1]&#10;Color: (0, 128, 128)\" style=\"width: 20px; height: 20px;background-color: rgb(0, 128, 128);\"></td><td title=\"Index: [0, 2]&#10;Color: (0, 128, 128)\" style=\"width: 20px; height: 20px;background-color: rgb(0, 128, 128);\"></td><td title=\"Index: [0, 3]&#10;Color: (0, 128, 128)\" style=\"width: 20px; height: 20px;background-color: rgb(0, 128, 128);\"></td><td title=\"Index: [0, 4]&#10;Color: (0, 128, 128)\" style=\"width: 20px; height: 20px;background-color: rgb(0, 128, 128);\"></td><td title=\"Index: [0, 5]&#10;Color: (0, 128, 128)\" style=\"width: 20px; height: 20px;background-color: rgb(0, 128, 128);\"></td><td title=\"Index: [0, 6]&#10;Color: (0, 128, 128)\" style=\"width: 20px; height: 20px;background-color: rgb(0, 128, 128);\"></td><td title=\"Index: [0, 7]&#10;Color: (0, 128, 128)\" style=\"width: 20px; height: 20px;background-color: rgb(0, 128, 128);\"></td></tr><tr><td title=\"Index: [1, 0]&#10;Color: (0, 128, 128)\" style=\"width: 20px; height: 20px;background-color: rgb(0, 128, 128);\"></td><td title=\"Index: [1, 1]&#10;Color: (0, 128, 128)\" style=\"width: 20px; height: 20px;background-color: rgb(0, 128, 128);\"></td><td title=\"Index: [1, 2]&#10;Color: (0, 128, 128)\" style=\"width: 20px; height: 20px;background-color: rgb(0, 128, 128);\"></td><td title=\"Index: [1, 3]&#10;Color: (0, 128, 128)\" style=\"width: 20px; height: 20px;background-color: rgb(0, 128, 128);\"></td><td title=\"Index: [1, 4]&#10;Color: (0, 128, 128)\" style=\"width: 20px; height: 20px;background-color: rgb(0, 128, 128);\"></td><td title=\"Index: [1, 5]&#10;Color: (0, 128, 128)\" style=\"width: 20px; height: 20px;background-color: rgb(0, 128, 128);\"></td><td title=\"Index: [1, 6]&#10;Color: (0, 128, 128)\" style=\"width: 20px; height: 20px;background-color: rgb(0, 128, 128);\"></td><td title=\"Index: [1, 7]&#10;Color: (0, 128, 128)\" style=\"width: 20px; height: 20px;background-color: rgb(0, 128, 128);\"></td></tr><tr><td title=\"Index: [2, 0]&#10;Color: (123, 234, 123)\" style=\"width: 20px; height: 20px;background-color: rgb(123, 234, 123);\"></td><td title=\"Index: [2, 1]&#10;Color: (123, 234, 123)\" style=\"width: 20px; height: 20px;background-color: rgb(123, 234, 123);\"></td><td title=\"Index: [2, 2]&#10;Color: (123, 234, 123)\" style=\"width: 20px; height: 20px;background-color: rgb(123, 234, 123);\"></td><td title=\"Index: [2, 3]&#10;Color: (123, 234, 123)\" style=\"width: 20px; height: 20px;background-color: rgb(123, 234, 123);\"></td><td title=\"Index: [2, 4]&#10;Color: (123, 234, 123)\" style=\"width: 20px; height: 20px;background-color: rgb(123, 234, 123);\"></td><td title=\"Index: [2, 5]&#10;Color: (123, 234, 123)\" style=\"width: 20px; height: 20px;background-color: rgb(123, 234, 123);\"></td><td title=\"Index: [2, 6]&#10;Color: (123, 234, 123)\" style=\"width: 20px; height: 20px;background-color: rgb(123, 234, 123);\"></td><td title=\"Index: [2, 7]&#10;Color: (123, 234, 123)\" style=\"width: 20px; height: 20px;background-color: rgb(123, 234, 123);\"></td></tr><tr><td title=\"Index: [3, 0]&#10;Color: (123, 234, 123)\" style=\"width: 20px; height: 20px;background-color: rgb(123, 234, 123);\"></td><td title=\"Index: [3, 1]&#10;Color: (123, 234, 123)\" style=\"width: 20px; height: 20px;background-color: rgb(123, 234, 123);\"></td><td title=\"Index: [3, 2]&#10;Color: (123, 234, 123)\" style=\"width: 20px; height: 20px;background-color: rgb(123, 234, 123);\"></td><td title=\"Index: [3, 3]&#10;Color: (123, 234, 123)\" style=\"width: 20px; height: 20px;background-color: rgb(123, 234, 123);\"></td><td title=\"Index: [3, 4]&#10;Color: (123, 234, 123)\" style=\"width: 20px; height: 20px;background-color: rgb(123, 234, 123);\"></td><td title=\"Index: [3, 5]&#10;Color: (123, 234, 123)\" style=\"width: 20px; height: 20px;background-color: rgb(123, 234, 123);\"></td><td title=\"Index: [3, 6]&#10;Color: (123, 234, 123)\" style=\"width: 20px; height: 20px;background-color: rgb(123, 234, 123);\"></td><td title=\"Index: [3, 7]&#10;Color: (123, 234, 123)\" style=\"width: 20px; height: 20px;background-color: rgb(123, 234, 123);\"></td></tr><tr><td title=\"Index: [4, 0]&#10;Color: (123, 234, 123)\" style=\"width: 20px; height: 20px;background-color: rgb(123, 234, 123);\"></td><td title=\"Index: [4, 1]&#10;Color: (123, 234, 123)\" style=\"width: 20px; height: 20px;background-color: rgb(123, 234, 123);\"></td><td title=\"Index: [4, 2]&#10;Color: (123, 234, 123)\" style=\"width: 20px; height: 20px;background-color: rgb(123, 234, 123);\"></td><td title=\"Index: [4, 3]&#10;Color: (123, 234, 123)\" style=\"width: 20px; height: 20px;background-color: rgb(123, 234, 123);\"></td><td title=\"Index: [4, 4]&#10;Color: (123, 234, 123)\" style=\"width: 20px; height: 20px;background-color: rgb(123, 234, 123);\"></td><td title=\"Index: [4, 5]&#10;Color: (123, 234, 123)\" style=\"width: 20px; height: 20px;background-color: rgb(123, 234, 123);\"></td><td title=\"Index: [4, 6]&#10;Color: (123, 234, 123)\" style=\"width: 20px; height: 20px;background-color: rgb(123, 234, 123);\"></td><td title=\"Index: [4, 7]&#10;Color: (123, 234, 123)\" style=\"width: 20px; height: 20px;background-color: rgb(123, 234, 123);\"></td></tr><tr><td title=\"Index: [5, 0]&#10;Color: (123, 234, 123)\" style=\"width: 20px; height: 20px;background-color: rgb(123, 234, 123);\"></td><td title=\"Index: [5, 1]&#10;Color: (123, 234, 123)\" style=\"width: 20px; height: 20px;background-color: rgb(123, 234, 123);\"></td><td title=\"Index: [5, 2]&#10;Color: (123, 234, 123)\" style=\"width: 20px; height: 20px;background-color: rgb(123, 234, 123);\"></td><td title=\"Index: [5, 3]&#10;Color: (123, 234, 123)\" style=\"width: 20px; height: 20px;background-color: rgb(123, 234, 123);\"></td><td title=\"Index: [5, 4]&#10;Color: (123, 234, 123)\" style=\"width: 20px; height: 20px;background-color: rgb(123, 234, 123);\"></td><td title=\"Index: [5, 5]&#10;Color: (123, 234, 123)\" style=\"width: 20px; height: 20px;background-color: rgb(123, 234, 123);\"></td><td title=\"Index: [5, 6]&#10;Color: (123, 234, 123)\" style=\"width: 20px; height: 20px;background-color: rgb(123, 234, 123);\"></td><td title=\"Index: [5, 7]&#10;Color: (123, 234, 123)\" style=\"width: 20px; height: 20px;background-color: rgb(123, 234, 123);\"></td></tr><tr><td title=\"Index: [6, 0]&#10;Color: (123, 234, 123)\" style=\"width: 20px; height: 20px;background-color: rgb(123, 234, 123);\"></td><td title=\"Index: [6, 1]&#10;Color: (123, 234, 123)\" style=\"width: 20px; height: 20px;background-color: rgb(123, 234, 123);\"></td><td title=\"Index: [6, 2]&#10;Color: (123, 234, 123)\" style=\"width: 20px; height: 20px;background-color: rgb(123, 234, 123);\"></td><td title=\"Index: [6, 3]&#10;Color: (123, 234, 123)\" style=\"width: 20px; height: 20px;background-color: rgb(123, 234, 123);\"></td><td title=\"Index: [6, 4]&#10;Color: (123, 234, 123)\" style=\"width: 20px; height: 20px;background-color: rgb(123, 234, 123);\"></td><td title=\"Index: [6, 5]&#10;Color: (123, 234, 123)\" style=\"width: 20px; height: 20px;background-color: rgb(123, 234, 123);\"></td><td title=\"Index: [6, 6]&#10;Color: (123, 234, 123)\" style=\"width: 20px; height: 20px;background-color: rgb(123, 234, 123);\"></td><td title=\"Index: [6, 7]&#10;Color: (123, 234, 123)\" style=\"width: 20px; height: 20px;background-color: rgb(123, 234, 123);\"></td></tr><tr><td title=\"Index: [7, 0]&#10;Color: (123, 234, 123)\" style=\"width: 20px; height: 20px;background-color: rgb(123, 234, 123);\"></td><td title=\"Index: [7, 1]&#10;Color: (123, 234, 123)\" style=\"width: 20px; height: 20px;background-color: rgb(123, 234, 123);\"></td><td title=\"Index: [7, 2]&#10;Color: (123, 234, 123)\" style=\"width: 20px; height: 20px;background-color: rgb(123, 234, 123);\"></td><td title=\"Index: [7, 3]&#10;Color: (123, 234, 123)\" style=\"width: 20px; height: 20px;background-color: rgb(123, 234, 123);\"></td><td title=\"Index: [7, 4]&#10;Color: (123, 234, 123)\" style=\"width: 20px; height: 20px;background-color: rgb(123, 234, 123);\"></td><td title=\"Index: [7, 5]&#10;Color: (123, 234, 123)\" style=\"width: 20px; height: 20px;background-color: rgb(123, 234, 123);\"></td><td title=\"Index: [7, 6]&#10;Color: (123, 234, 123)\" style=\"width: 20px; height: 20px;background-color: rgb(123, 234, 123);\"></td><td title=\"Index: [7, 7]&#10;Color: (123, 234, 123)\" style=\"width: 20px; height: 20px;background-color: rgb(123, 234, 123);\"></td></tr></tbody></table>"
       ],
       "metadata": {},
       "output_type": "display_data",
       "text": [
        "<IPython.core.display.HTML at 0x21776d8>"
       ]
      }
     ],
     "prompt_number": 110
    },
    {
     "cell_type": "code",
     "collapsed": false,
     "input": [
      "a[0:2,:] = 1\n",
      "a"
     ],
     "language": "python",
     "metadata": {},
     "outputs": [
      {
       "metadata": {},
       "output_type": "pyout",
       "prompt_number": 111,
       "text": [
        "array([[1, 1, 1, 1, 1, 1, 1, 1],\n",
        "       [1, 1, 1, 1, 1, 1, 1, 1],\n",
        "       [0, 0, 0, 0, 0, 0, 0, 0],\n",
        "       [0, 0, 0, 0, 0, 0, 0, 0],\n",
        "       [0, 0, 0, 0, 0, 0, 0, 0],\n",
        "       [0, 0, 0, 0, 0, 0, 0, 0],\n",
        "       [0, 0, 0, 0, 0, 0, 0, 0],\n",
        "       [0, 0, 0, 0, 0, 0, 0, 0]], dtype=int64)"
       ]
      }
     ],
     "prompt_number": 111
    },
    {
     "cell_type": "code",
     "collapsed": false,
     "input": [
      "grid[2,1:] = colors['Blue']\n",
      "grid.show()"
     ],
     "language": "python",
     "metadata": {},
     "outputs": [
      {
       "html": [
        "<style type=\"text/css\">table.blockgrid {border: none;} .blockgrid tr {border: none;} .blockgrid td {padding: 0px;} #blocksa4dde567-0f48-4cbe-9cd8-463325c7ec6d td {border: 1px solid white;}</style><table id=\"blocksa4dde567-0f48-4cbe-9cd8-463325c7ec6d\" class=\"blockgrid\"><tbody><tr><td title=\"Index: [0, 0]&#10;Color: (0, 128, 128)\" style=\"width: 20px; height: 20px;background-color: rgb(0, 128, 128);\"></td><td title=\"Index: [0, 1]&#10;Color: (0, 128, 128)\" style=\"width: 20px; height: 20px;background-color: rgb(0, 128, 128);\"></td><td title=\"Index: [0, 2]&#10;Color: (0, 128, 128)\" style=\"width: 20px; height: 20px;background-color: rgb(0, 128, 128);\"></td><td title=\"Index: [0, 3]&#10;Color: (0, 128, 128)\" style=\"width: 20px; height: 20px;background-color: rgb(0, 128, 128);\"></td><td title=\"Index: [0, 4]&#10;Color: (0, 128, 128)\" style=\"width: 20px; height: 20px;background-color: rgb(0, 128, 128);\"></td><td title=\"Index: [0, 5]&#10;Color: (0, 128, 128)\" style=\"width: 20px; height: 20px;background-color: rgb(0, 128, 128);\"></td><td title=\"Index: [0, 6]&#10;Color: (0, 128, 128)\" style=\"width: 20px; height: 20px;background-color: rgb(0, 128, 128);\"></td><td title=\"Index: [0, 7]&#10;Color: (0, 128, 128)\" style=\"width: 20px; height: 20px;background-color: rgb(0, 128, 128);\"></td></tr><tr><td title=\"Index: [1, 0]&#10;Color: (0, 128, 128)\" style=\"width: 20px; height: 20px;background-color: rgb(0, 128, 128);\"></td><td title=\"Index: [1, 1]&#10;Color: (0, 128, 128)\" style=\"width: 20px; height: 20px;background-color: rgb(0, 128, 128);\"></td><td title=\"Index: [1, 2]&#10;Color: (0, 128, 128)\" style=\"width: 20px; height: 20px;background-color: rgb(0, 128, 128);\"></td><td title=\"Index: [1, 3]&#10;Color: (0, 128, 128)\" style=\"width: 20px; height: 20px;background-color: rgb(0, 128, 128);\"></td><td title=\"Index: [1, 4]&#10;Color: (0, 128, 128)\" style=\"width: 20px; height: 20px;background-color: rgb(0, 128, 128);\"></td><td title=\"Index: [1, 5]&#10;Color: (0, 128, 128)\" style=\"width: 20px; height: 20px;background-color: rgb(0, 128, 128);\"></td><td title=\"Index: [1, 6]&#10;Color: (0, 128, 128)\" style=\"width: 20px; height: 20px;background-color: rgb(0, 128, 128);\"></td><td title=\"Index: [1, 7]&#10;Color: (0, 128, 128)\" style=\"width: 20px; height: 20px;background-color: rgb(0, 128, 128);\"></td></tr><tr><td title=\"Index: [2, 0]&#10;Color: (123, 234, 123)\" style=\"width: 20px; height: 20px;background-color: rgb(123, 234, 123);\"></td><td title=\"Index: [2, 1]&#10;Color: (0, 0, 255)\" style=\"width: 20px; height: 20px;background-color: rgb(0, 0, 255);\"></td><td title=\"Index: [2, 2]&#10;Color: (0, 0, 255)\" style=\"width: 20px; height: 20px;background-color: rgb(0, 0, 255);\"></td><td title=\"Index: [2, 3]&#10;Color: (0, 0, 255)\" style=\"width: 20px; height: 20px;background-color: rgb(0, 0, 255);\"></td><td title=\"Index: [2, 4]&#10;Color: (0, 0, 255)\" style=\"width: 20px; height: 20px;background-color: rgb(0, 0, 255);\"></td><td title=\"Index: [2, 5]&#10;Color: (0, 0, 255)\" style=\"width: 20px; height: 20px;background-color: rgb(0, 0, 255);\"></td><td title=\"Index: [2, 6]&#10;Color: (0, 0, 255)\" style=\"width: 20px; height: 20px;background-color: rgb(0, 0, 255);\"></td><td title=\"Index: [2, 7]&#10;Color: (0, 0, 255)\" style=\"width: 20px; height: 20px;background-color: rgb(0, 0, 255);\"></td></tr><tr><td title=\"Index: [3, 0]&#10;Color: (123, 234, 123)\" style=\"width: 20px; height: 20px;background-color: rgb(123, 234, 123);\"></td><td title=\"Index: [3, 1]&#10;Color: (123, 234, 123)\" style=\"width: 20px; height: 20px;background-color: rgb(123, 234, 123);\"></td><td title=\"Index: [3, 2]&#10;Color: (123, 234, 123)\" style=\"width: 20px; height: 20px;background-color: rgb(123, 234, 123);\"></td><td title=\"Index: [3, 3]&#10;Color: (123, 234, 123)\" style=\"width: 20px; height: 20px;background-color: rgb(123, 234, 123);\"></td><td title=\"Index: [3, 4]&#10;Color: (123, 234, 123)\" style=\"width: 20px; height: 20px;background-color: rgb(123, 234, 123);\"></td><td title=\"Index: [3, 5]&#10;Color: (123, 234, 123)\" style=\"width: 20px; height: 20px;background-color: rgb(123, 234, 123);\"></td><td title=\"Index: [3, 6]&#10;Color: (123, 234, 123)\" style=\"width: 20px; height: 20px;background-color: rgb(123, 234, 123);\"></td><td title=\"Index: [3, 7]&#10;Color: (123, 234, 123)\" style=\"width: 20px; height: 20px;background-color: rgb(123, 234, 123);\"></td></tr><tr><td title=\"Index: [4, 0]&#10;Color: (123, 234, 123)\" style=\"width: 20px; height: 20px;background-color: rgb(123, 234, 123);\"></td><td title=\"Index: [4, 1]&#10;Color: (123, 234, 123)\" style=\"width: 20px; height: 20px;background-color: rgb(123, 234, 123);\"></td><td title=\"Index: [4, 2]&#10;Color: (123, 234, 123)\" style=\"width: 20px; height: 20px;background-color: rgb(123, 234, 123);\"></td><td title=\"Index: [4, 3]&#10;Color: (123, 234, 123)\" style=\"width: 20px; height: 20px;background-color: rgb(123, 234, 123);\"></td><td title=\"Index: [4, 4]&#10;Color: (123, 234, 123)\" style=\"width: 20px; height: 20px;background-color: rgb(123, 234, 123);\"></td><td title=\"Index: [4, 5]&#10;Color: (123, 234, 123)\" style=\"width: 20px; height: 20px;background-color: rgb(123, 234, 123);\"></td><td title=\"Index: [4, 6]&#10;Color: (123, 234, 123)\" style=\"width: 20px; height: 20px;background-color: rgb(123, 234, 123);\"></td><td title=\"Index: [4, 7]&#10;Color: (123, 234, 123)\" style=\"width: 20px; height: 20px;background-color: rgb(123, 234, 123);\"></td></tr><tr><td title=\"Index: [5, 0]&#10;Color: (123, 234, 123)\" style=\"width: 20px; height: 20px;background-color: rgb(123, 234, 123);\"></td><td title=\"Index: [5, 1]&#10;Color: (123, 234, 123)\" style=\"width: 20px; height: 20px;background-color: rgb(123, 234, 123);\"></td><td title=\"Index: [5, 2]&#10;Color: (123, 234, 123)\" style=\"width: 20px; height: 20px;background-color: rgb(123, 234, 123);\"></td><td title=\"Index: [5, 3]&#10;Color: (123, 234, 123)\" style=\"width: 20px; height: 20px;background-color: rgb(123, 234, 123);\"></td><td title=\"Index: [5, 4]&#10;Color: (123, 234, 123)\" style=\"width: 20px; height: 20px;background-color: rgb(123, 234, 123);\"></td><td title=\"Index: [5, 5]&#10;Color: (123, 234, 123)\" style=\"width: 20px; height: 20px;background-color: rgb(123, 234, 123);\"></td><td title=\"Index: [5, 6]&#10;Color: (123, 234, 123)\" style=\"width: 20px; height: 20px;background-color: rgb(123, 234, 123);\"></td><td title=\"Index: [5, 7]&#10;Color: (123, 234, 123)\" style=\"width: 20px; height: 20px;background-color: rgb(123, 234, 123);\"></td></tr><tr><td title=\"Index: [6, 0]&#10;Color: (123, 234, 123)\" style=\"width: 20px; height: 20px;background-color: rgb(123, 234, 123);\"></td><td title=\"Index: [6, 1]&#10;Color: (123, 234, 123)\" style=\"width: 20px; height: 20px;background-color: rgb(123, 234, 123);\"></td><td title=\"Index: [6, 2]&#10;Color: (123, 234, 123)\" style=\"width: 20px; height: 20px;background-color: rgb(123, 234, 123);\"></td><td title=\"Index: [6, 3]&#10;Color: (123, 234, 123)\" style=\"width: 20px; height: 20px;background-color: rgb(123, 234, 123);\"></td><td title=\"Index: [6, 4]&#10;Color: (123, 234, 123)\" style=\"width: 20px; height: 20px;background-color: rgb(123, 234, 123);\"></td><td title=\"Index: [6, 5]&#10;Color: (123, 234, 123)\" style=\"width: 20px; height: 20px;background-color: rgb(123, 234, 123);\"></td><td title=\"Index: [6, 6]&#10;Color: (123, 234, 123)\" style=\"width: 20px; height: 20px;background-color: rgb(123, 234, 123);\"></td><td title=\"Index: [6, 7]&#10;Color: (123, 234, 123)\" style=\"width: 20px; height: 20px;background-color: rgb(123, 234, 123);\"></td></tr><tr><td title=\"Index: [7, 0]&#10;Color: (123, 234, 123)\" style=\"width: 20px; height: 20px;background-color: rgb(123, 234, 123);\"></td><td title=\"Index: [7, 1]&#10;Color: (123, 234, 123)\" style=\"width: 20px; height: 20px;background-color: rgb(123, 234, 123);\"></td><td title=\"Index: [7, 2]&#10;Color: (123, 234, 123)\" style=\"width: 20px; height: 20px;background-color: rgb(123, 234, 123);\"></td><td title=\"Index: [7, 3]&#10;Color: (123, 234, 123)\" style=\"width: 20px; height: 20px;background-color: rgb(123, 234, 123);\"></td><td title=\"Index: [7, 4]&#10;Color: (123, 234, 123)\" style=\"width: 20px; height: 20px;background-color: rgb(123, 234, 123);\"></td><td title=\"Index: [7, 5]&#10;Color: (123, 234, 123)\" style=\"width: 20px; height: 20px;background-color: rgb(123, 234, 123);\"></td><td title=\"Index: [7, 6]&#10;Color: (123, 234, 123)\" style=\"width: 20px; height: 20px;background-color: rgb(123, 234, 123);\"></td><td title=\"Index: [7, 7]&#10;Color: (123, 234, 123)\" style=\"width: 20px; height: 20px;background-color: rgb(123, 234, 123);\"></td></tr></tbody></table>"
       ],
       "metadata": {},
       "output_type": "display_data",
       "text": [
        "<IPython.core.display.HTML at 0x2903b70>"
       ]
      }
     ],
     "prompt_number": 112
    },
    {
     "cell_type": "code",
     "collapsed": false,
     "input": [
      "a[2,1:] = 2\n",
      "a"
     ],
     "language": "python",
     "metadata": {},
     "outputs": [
      {
       "metadata": {},
       "output_type": "pyout",
       "prompt_number": 113,
       "text": [
        "array([[1, 1, 1, 1, 1, 1, 1, 1],\n",
        "       [1, 1, 1, 1, 1, 1, 1, 1],\n",
        "       [0, 2, 2, 2, 2, 2, 2, 2],\n",
        "       [0, 0, 0, 0, 0, 0, 0, 0],\n",
        "       [0, 0, 0, 0, 0, 0, 0, 0],\n",
        "       [0, 0, 0, 0, 0, 0, 0, 0],\n",
        "       [0, 0, 0, 0, 0, 0, 0, 0],\n",
        "       [0, 0, 0, 0, 0, 0, 0, 0]], dtype=int64)"
       ]
      }
     ],
     "prompt_number": 113
    },
    {
     "cell_type": "code",
     "collapsed": false,
     "input": [
      "grid[:2,2:3] = colors['Peru']\n",
      "grid.show()"
     ],
     "language": "python",
     "metadata": {},
     "outputs": [
      {
       "html": [
        "<style type=\"text/css\">table.blockgrid {border: none;} .blockgrid tr {border: none;} .blockgrid td {padding: 0px;} #blocksba4dae21-893a-4493-ac98-304eb50b53bf td {border: 1px solid white;}</style><table id=\"blocksba4dae21-893a-4493-ac98-304eb50b53bf\" class=\"blockgrid\"><tbody><tr><td title=\"Index: [0, 0]&#10;Color: (0, 128, 128)\" style=\"width: 20px; height: 20px;background-color: rgb(0, 128, 128);\"></td><td title=\"Index: [0, 1]&#10;Color: (0, 128, 128)\" style=\"width: 20px; height: 20px;background-color: rgb(0, 128, 128);\"></td><td title=\"Index: [0, 2]&#10;Color: (205, 133, 63)\" style=\"width: 20px; height: 20px;background-color: rgb(205, 133, 63);\"></td><td title=\"Index: [0, 3]&#10;Color: (0, 128, 128)\" style=\"width: 20px; height: 20px;background-color: rgb(0, 128, 128);\"></td><td title=\"Index: [0, 4]&#10;Color: (0, 128, 128)\" style=\"width: 20px; height: 20px;background-color: rgb(0, 128, 128);\"></td><td title=\"Index: [0, 5]&#10;Color: (0, 128, 128)\" style=\"width: 20px; height: 20px;background-color: rgb(0, 128, 128);\"></td><td title=\"Index: [0, 6]&#10;Color: (0, 128, 128)\" style=\"width: 20px; height: 20px;background-color: rgb(0, 128, 128);\"></td><td title=\"Index: [0, 7]&#10;Color: (0, 128, 128)\" style=\"width: 20px; height: 20px;background-color: rgb(0, 128, 128);\"></td></tr><tr><td title=\"Index: [1, 0]&#10;Color: (0, 128, 128)\" style=\"width: 20px; height: 20px;background-color: rgb(0, 128, 128);\"></td><td title=\"Index: [1, 1]&#10;Color: (0, 128, 128)\" style=\"width: 20px; height: 20px;background-color: rgb(0, 128, 128);\"></td><td title=\"Index: [1, 2]&#10;Color: (205, 133, 63)\" style=\"width: 20px; height: 20px;background-color: rgb(205, 133, 63);\"></td><td title=\"Index: [1, 3]&#10;Color: (0, 128, 128)\" style=\"width: 20px; height: 20px;background-color: rgb(0, 128, 128);\"></td><td title=\"Index: [1, 4]&#10;Color: (0, 128, 128)\" style=\"width: 20px; height: 20px;background-color: rgb(0, 128, 128);\"></td><td title=\"Index: [1, 5]&#10;Color: (0, 128, 128)\" style=\"width: 20px; height: 20px;background-color: rgb(0, 128, 128);\"></td><td title=\"Index: [1, 6]&#10;Color: (0, 128, 128)\" style=\"width: 20px; height: 20px;background-color: rgb(0, 128, 128);\"></td><td title=\"Index: [1, 7]&#10;Color: (0, 128, 128)\" style=\"width: 20px; height: 20px;background-color: rgb(0, 128, 128);\"></td></tr><tr><td title=\"Index: [2, 0]&#10;Color: (123, 234, 123)\" style=\"width: 20px; height: 20px;background-color: rgb(123, 234, 123);\"></td><td title=\"Index: [2, 1]&#10;Color: (0, 0, 255)\" style=\"width: 20px; height: 20px;background-color: rgb(0, 0, 255);\"></td><td title=\"Index: [2, 2]&#10;Color: (0, 0, 255)\" style=\"width: 20px; height: 20px;background-color: rgb(0, 0, 255);\"></td><td title=\"Index: [2, 3]&#10;Color: (0, 0, 255)\" style=\"width: 20px; height: 20px;background-color: rgb(0, 0, 255);\"></td><td title=\"Index: [2, 4]&#10;Color: (0, 0, 255)\" style=\"width: 20px; height: 20px;background-color: rgb(0, 0, 255);\"></td><td title=\"Index: [2, 5]&#10;Color: (0, 0, 255)\" style=\"width: 20px; height: 20px;background-color: rgb(0, 0, 255);\"></td><td title=\"Index: [2, 6]&#10;Color: (0, 0, 255)\" style=\"width: 20px; height: 20px;background-color: rgb(0, 0, 255);\"></td><td title=\"Index: [2, 7]&#10;Color: (0, 0, 255)\" style=\"width: 20px; height: 20px;background-color: rgb(0, 0, 255);\"></td></tr><tr><td title=\"Index: [3, 0]&#10;Color: (123, 234, 123)\" style=\"width: 20px; height: 20px;background-color: rgb(123, 234, 123);\"></td><td title=\"Index: [3, 1]&#10;Color: (123, 234, 123)\" style=\"width: 20px; height: 20px;background-color: rgb(123, 234, 123);\"></td><td title=\"Index: [3, 2]&#10;Color: (123, 234, 123)\" style=\"width: 20px; height: 20px;background-color: rgb(123, 234, 123);\"></td><td title=\"Index: [3, 3]&#10;Color: (123, 234, 123)\" style=\"width: 20px; height: 20px;background-color: rgb(123, 234, 123);\"></td><td title=\"Index: [3, 4]&#10;Color: (123, 234, 123)\" style=\"width: 20px; height: 20px;background-color: rgb(123, 234, 123);\"></td><td title=\"Index: [3, 5]&#10;Color: (123, 234, 123)\" style=\"width: 20px; height: 20px;background-color: rgb(123, 234, 123);\"></td><td title=\"Index: [3, 6]&#10;Color: (123, 234, 123)\" style=\"width: 20px; height: 20px;background-color: rgb(123, 234, 123);\"></td><td title=\"Index: [3, 7]&#10;Color: (123, 234, 123)\" style=\"width: 20px; height: 20px;background-color: rgb(123, 234, 123);\"></td></tr><tr><td title=\"Index: [4, 0]&#10;Color: (123, 234, 123)\" style=\"width: 20px; height: 20px;background-color: rgb(123, 234, 123);\"></td><td title=\"Index: [4, 1]&#10;Color: (123, 234, 123)\" style=\"width: 20px; height: 20px;background-color: rgb(123, 234, 123);\"></td><td title=\"Index: [4, 2]&#10;Color: (123, 234, 123)\" style=\"width: 20px; height: 20px;background-color: rgb(123, 234, 123);\"></td><td title=\"Index: [4, 3]&#10;Color: (123, 234, 123)\" style=\"width: 20px; height: 20px;background-color: rgb(123, 234, 123);\"></td><td title=\"Index: [4, 4]&#10;Color: (123, 234, 123)\" style=\"width: 20px; height: 20px;background-color: rgb(123, 234, 123);\"></td><td title=\"Index: [4, 5]&#10;Color: (123, 234, 123)\" style=\"width: 20px; height: 20px;background-color: rgb(123, 234, 123);\"></td><td title=\"Index: [4, 6]&#10;Color: (123, 234, 123)\" style=\"width: 20px; height: 20px;background-color: rgb(123, 234, 123);\"></td><td title=\"Index: [4, 7]&#10;Color: (123, 234, 123)\" style=\"width: 20px; height: 20px;background-color: rgb(123, 234, 123);\"></td></tr><tr><td title=\"Index: [5, 0]&#10;Color: (123, 234, 123)\" style=\"width: 20px; height: 20px;background-color: rgb(123, 234, 123);\"></td><td title=\"Index: [5, 1]&#10;Color: (123, 234, 123)\" style=\"width: 20px; height: 20px;background-color: rgb(123, 234, 123);\"></td><td title=\"Index: [5, 2]&#10;Color: (123, 234, 123)\" style=\"width: 20px; height: 20px;background-color: rgb(123, 234, 123);\"></td><td title=\"Index: [5, 3]&#10;Color: (123, 234, 123)\" style=\"width: 20px; height: 20px;background-color: rgb(123, 234, 123);\"></td><td title=\"Index: [5, 4]&#10;Color: (123, 234, 123)\" style=\"width: 20px; height: 20px;background-color: rgb(123, 234, 123);\"></td><td title=\"Index: [5, 5]&#10;Color: (123, 234, 123)\" style=\"width: 20px; height: 20px;background-color: rgb(123, 234, 123);\"></td><td title=\"Index: [5, 6]&#10;Color: (123, 234, 123)\" style=\"width: 20px; height: 20px;background-color: rgb(123, 234, 123);\"></td><td title=\"Index: [5, 7]&#10;Color: (123, 234, 123)\" style=\"width: 20px; height: 20px;background-color: rgb(123, 234, 123);\"></td></tr><tr><td title=\"Index: [6, 0]&#10;Color: (123, 234, 123)\" style=\"width: 20px; height: 20px;background-color: rgb(123, 234, 123);\"></td><td title=\"Index: [6, 1]&#10;Color: (123, 234, 123)\" style=\"width: 20px; height: 20px;background-color: rgb(123, 234, 123);\"></td><td title=\"Index: [6, 2]&#10;Color: (123, 234, 123)\" style=\"width: 20px; height: 20px;background-color: rgb(123, 234, 123);\"></td><td title=\"Index: [6, 3]&#10;Color: (123, 234, 123)\" style=\"width: 20px; height: 20px;background-color: rgb(123, 234, 123);\"></td><td title=\"Index: [6, 4]&#10;Color: (123, 234, 123)\" style=\"width: 20px; height: 20px;background-color: rgb(123, 234, 123);\"></td><td title=\"Index: [6, 5]&#10;Color: (123, 234, 123)\" style=\"width: 20px; height: 20px;background-color: rgb(123, 234, 123);\"></td><td title=\"Index: [6, 6]&#10;Color: (123, 234, 123)\" style=\"width: 20px; height: 20px;background-color: rgb(123, 234, 123);\"></td><td title=\"Index: [6, 7]&#10;Color: (123, 234, 123)\" style=\"width: 20px; height: 20px;background-color: rgb(123, 234, 123);\"></td></tr><tr><td title=\"Index: [7, 0]&#10;Color: (123, 234, 123)\" style=\"width: 20px; height: 20px;background-color: rgb(123, 234, 123);\"></td><td title=\"Index: [7, 1]&#10;Color: (123, 234, 123)\" style=\"width: 20px; height: 20px;background-color: rgb(123, 234, 123);\"></td><td title=\"Index: [7, 2]&#10;Color: (123, 234, 123)\" style=\"width: 20px; height: 20px;background-color: rgb(123, 234, 123);\"></td><td title=\"Index: [7, 3]&#10;Color: (123, 234, 123)\" style=\"width: 20px; height: 20px;background-color: rgb(123, 234, 123);\"></td><td title=\"Index: [7, 4]&#10;Color: (123, 234, 123)\" style=\"width: 20px; height: 20px;background-color: rgb(123, 234, 123);\"></td><td title=\"Index: [7, 5]&#10;Color: (123, 234, 123)\" style=\"width: 20px; height: 20px;background-color: rgb(123, 234, 123);\"></td><td title=\"Index: [7, 6]&#10;Color: (123, 234, 123)\" style=\"width: 20px; height: 20px;background-color: rgb(123, 234, 123);\"></td><td title=\"Index: [7, 7]&#10;Color: (123, 234, 123)\" style=\"width: 20px; height: 20px;background-color: rgb(123, 234, 123);\"></td></tr></tbody></table>"
       ],
       "metadata": {},
       "output_type": "display_data",
       "text": [
        "<IPython.core.display.HTML at 0x2177240>"
       ]
      }
     ],
     "prompt_number": 114
    },
    {
     "cell_type": "code",
     "collapsed": false,
     "input": [
      "a[:2,2:3] = 3\n",
      "a"
     ],
     "language": "python",
     "metadata": {},
     "outputs": [
      {
       "metadata": {},
       "output_type": "pyout",
       "prompt_number": 115,
       "text": [
        "array([[1, 1, 3, 1, 1, 1, 1, 1],\n",
        "       [1, 1, 3, 1, 1, 1, 1, 1],\n",
        "       [0, 2, 2, 2, 2, 2, 2, 2],\n",
        "       [0, 0, 0, 0, 0, 0, 0, 0],\n",
        "       [0, 0, 0, 0, 0, 0, 0, 0],\n",
        "       [0, 0, 0, 0, 0, 0, 0, 0],\n",
        "       [0, 0, 0, 0, 0, 0, 0, 0],\n",
        "       [0, 0, 0, 0, 0, 0, 0, 0]], dtype=int64)"
       ]
      }
     ],
     "prompt_number": 115
    },
    {
     "cell_type": "code",
     "collapsed": false,
     "input": [
      "grid[:,::2] = colors['Peru']\n",
      "grid.show()"
     ],
     "language": "python",
     "metadata": {},
     "outputs": [
      {
       "html": [
        "<style type=\"text/css\">table.blockgrid {border: none;} .blockgrid tr {border: none;} .blockgrid td {padding: 0px;} #blocks054cc644-3015-4ee2-b317-4eaec1661b09 td {border: 1px solid white;}</style><table id=\"blocks054cc644-3015-4ee2-b317-4eaec1661b09\" class=\"blockgrid\"><tbody><tr><td title=\"Index: [0, 0]&#10;Color: (205, 133, 63)\" style=\"width: 20px; height: 20px;background-color: rgb(205, 133, 63);\"></td><td title=\"Index: [0, 1]&#10;Color: (0, 128, 128)\" style=\"width: 20px; height: 20px;background-color: rgb(0, 128, 128);\"></td><td title=\"Index: [0, 2]&#10;Color: (205, 133, 63)\" style=\"width: 20px; height: 20px;background-color: rgb(205, 133, 63);\"></td><td title=\"Index: [0, 3]&#10;Color: (0, 128, 128)\" style=\"width: 20px; height: 20px;background-color: rgb(0, 128, 128);\"></td><td title=\"Index: [0, 4]&#10;Color: (205, 133, 63)\" style=\"width: 20px; height: 20px;background-color: rgb(205, 133, 63);\"></td><td title=\"Index: [0, 5]&#10;Color: (0, 128, 128)\" style=\"width: 20px; height: 20px;background-color: rgb(0, 128, 128);\"></td><td title=\"Index: [0, 6]&#10;Color: (205, 133, 63)\" style=\"width: 20px; height: 20px;background-color: rgb(205, 133, 63);\"></td><td title=\"Index: [0, 7]&#10;Color: (0, 128, 128)\" style=\"width: 20px; height: 20px;background-color: rgb(0, 128, 128);\"></td></tr><tr><td title=\"Index: [1, 0]&#10;Color: (205, 133, 63)\" style=\"width: 20px; height: 20px;background-color: rgb(205, 133, 63);\"></td><td title=\"Index: [1, 1]&#10;Color: (0, 128, 128)\" style=\"width: 20px; height: 20px;background-color: rgb(0, 128, 128);\"></td><td title=\"Index: [1, 2]&#10;Color: (205, 133, 63)\" style=\"width: 20px; height: 20px;background-color: rgb(205, 133, 63);\"></td><td title=\"Index: [1, 3]&#10;Color: (0, 128, 128)\" style=\"width: 20px; height: 20px;background-color: rgb(0, 128, 128);\"></td><td title=\"Index: [1, 4]&#10;Color: (205, 133, 63)\" style=\"width: 20px; height: 20px;background-color: rgb(205, 133, 63);\"></td><td title=\"Index: [1, 5]&#10;Color: (0, 128, 128)\" style=\"width: 20px; height: 20px;background-color: rgb(0, 128, 128);\"></td><td title=\"Index: [1, 6]&#10;Color: (205, 133, 63)\" style=\"width: 20px; height: 20px;background-color: rgb(205, 133, 63);\"></td><td title=\"Index: [1, 7]&#10;Color: (0, 128, 128)\" style=\"width: 20px; height: 20px;background-color: rgb(0, 128, 128);\"></td></tr><tr><td title=\"Index: [2, 0]&#10;Color: (205, 133, 63)\" style=\"width: 20px; height: 20px;background-color: rgb(205, 133, 63);\"></td><td title=\"Index: [2, 1]&#10;Color: (0, 0, 255)\" style=\"width: 20px; height: 20px;background-color: rgb(0, 0, 255);\"></td><td title=\"Index: [2, 2]&#10;Color: (205, 133, 63)\" style=\"width: 20px; height: 20px;background-color: rgb(205, 133, 63);\"></td><td title=\"Index: [2, 3]&#10;Color: (0, 0, 255)\" style=\"width: 20px; height: 20px;background-color: rgb(0, 0, 255);\"></td><td title=\"Index: [2, 4]&#10;Color: (205, 133, 63)\" style=\"width: 20px; height: 20px;background-color: rgb(205, 133, 63);\"></td><td title=\"Index: [2, 5]&#10;Color: (0, 0, 255)\" style=\"width: 20px; height: 20px;background-color: rgb(0, 0, 255);\"></td><td title=\"Index: [2, 6]&#10;Color: (205, 133, 63)\" style=\"width: 20px; height: 20px;background-color: rgb(205, 133, 63);\"></td><td title=\"Index: [2, 7]&#10;Color: (0, 0, 255)\" style=\"width: 20px; height: 20px;background-color: rgb(0, 0, 255);\"></td></tr><tr><td title=\"Index: [3, 0]&#10;Color: (205, 133, 63)\" style=\"width: 20px; height: 20px;background-color: rgb(205, 133, 63);\"></td><td title=\"Index: [3, 1]&#10;Color: (123, 234, 123)\" style=\"width: 20px; height: 20px;background-color: rgb(123, 234, 123);\"></td><td title=\"Index: [3, 2]&#10;Color: (205, 133, 63)\" style=\"width: 20px; height: 20px;background-color: rgb(205, 133, 63);\"></td><td title=\"Index: [3, 3]&#10;Color: (123, 234, 123)\" style=\"width: 20px; height: 20px;background-color: rgb(123, 234, 123);\"></td><td title=\"Index: [3, 4]&#10;Color: (205, 133, 63)\" style=\"width: 20px; height: 20px;background-color: rgb(205, 133, 63);\"></td><td title=\"Index: [3, 5]&#10;Color: (123, 234, 123)\" style=\"width: 20px; height: 20px;background-color: rgb(123, 234, 123);\"></td><td title=\"Index: [3, 6]&#10;Color: (205, 133, 63)\" style=\"width: 20px; height: 20px;background-color: rgb(205, 133, 63);\"></td><td title=\"Index: [3, 7]&#10;Color: (123, 234, 123)\" style=\"width: 20px; height: 20px;background-color: rgb(123, 234, 123);\"></td></tr><tr><td title=\"Index: [4, 0]&#10;Color: (205, 133, 63)\" style=\"width: 20px; height: 20px;background-color: rgb(205, 133, 63);\"></td><td title=\"Index: [4, 1]&#10;Color: (123, 234, 123)\" style=\"width: 20px; height: 20px;background-color: rgb(123, 234, 123);\"></td><td title=\"Index: [4, 2]&#10;Color: (205, 133, 63)\" style=\"width: 20px; height: 20px;background-color: rgb(205, 133, 63);\"></td><td title=\"Index: [4, 3]&#10;Color: (123, 234, 123)\" style=\"width: 20px; height: 20px;background-color: rgb(123, 234, 123);\"></td><td title=\"Index: [4, 4]&#10;Color: (205, 133, 63)\" style=\"width: 20px; height: 20px;background-color: rgb(205, 133, 63);\"></td><td title=\"Index: [4, 5]&#10;Color: (123, 234, 123)\" style=\"width: 20px; height: 20px;background-color: rgb(123, 234, 123);\"></td><td title=\"Index: [4, 6]&#10;Color: (205, 133, 63)\" style=\"width: 20px; height: 20px;background-color: rgb(205, 133, 63);\"></td><td title=\"Index: [4, 7]&#10;Color: (123, 234, 123)\" style=\"width: 20px; height: 20px;background-color: rgb(123, 234, 123);\"></td></tr><tr><td title=\"Index: [5, 0]&#10;Color: (205, 133, 63)\" style=\"width: 20px; height: 20px;background-color: rgb(205, 133, 63);\"></td><td title=\"Index: [5, 1]&#10;Color: (123, 234, 123)\" style=\"width: 20px; height: 20px;background-color: rgb(123, 234, 123);\"></td><td title=\"Index: [5, 2]&#10;Color: (205, 133, 63)\" style=\"width: 20px; height: 20px;background-color: rgb(205, 133, 63);\"></td><td title=\"Index: [5, 3]&#10;Color: (123, 234, 123)\" style=\"width: 20px; height: 20px;background-color: rgb(123, 234, 123);\"></td><td title=\"Index: [5, 4]&#10;Color: (205, 133, 63)\" style=\"width: 20px; height: 20px;background-color: rgb(205, 133, 63);\"></td><td title=\"Index: [5, 5]&#10;Color: (123, 234, 123)\" style=\"width: 20px; height: 20px;background-color: rgb(123, 234, 123);\"></td><td title=\"Index: [5, 6]&#10;Color: (205, 133, 63)\" style=\"width: 20px; height: 20px;background-color: rgb(205, 133, 63);\"></td><td title=\"Index: [5, 7]&#10;Color: (123, 234, 123)\" style=\"width: 20px; height: 20px;background-color: rgb(123, 234, 123);\"></td></tr><tr><td title=\"Index: [6, 0]&#10;Color: (205, 133, 63)\" style=\"width: 20px; height: 20px;background-color: rgb(205, 133, 63);\"></td><td title=\"Index: [6, 1]&#10;Color: (123, 234, 123)\" style=\"width: 20px; height: 20px;background-color: rgb(123, 234, 123);\"></td><td title=\"Index: [6, 2]&#10;Color: (205, 133, 63)\" style=\"width: 20px; height: 20px;background-color: rgb(205, 133, 63);\"></td><td title=\"Index: [6, 3]&#10;Color: (123, 234, 123)\" style=\"width: 20px; height: 20px;background-color: rgb(123, 234, 123);\"></td><td title=\"Index: [6, 4]&#10;Color: (205, 133, 63)\" style=\"width: 20px; height: 20px;background-color: rgb(205, 133, 63);\"></td><td title=\"Index: [6, 5]&#10;Color: (123, 234, 123)\" style=\"width: 20px; height: 20px;background-color: rgb(123, 234, 123);\"></td><td title=\"Index: [6, 6]&#10;Color: (205, 133, 63)\" style=\"width: 20px; height: 20px;background-color: rgb(205, 133, 63);\"></td><td title=\"Index: [6, 7]&#10;Color: (123, 234, 123)\" style=\"width: 20px; height: 20px;background-color: rgb(123, 234, 123);\"></td></tr><tr><td title=\"Index: [7, 0]&#10;Color: (205, 133, 63)\" style=\"width: 20px; height: 20px;background-color: rgb(205, 133, 63);\"></td><td title=\"Index: [7, 1]&#10;Color: (123, 234, 123)\" style=\"width: 20px; height: 20px;background-color: rgb(123, 234, 123);\"></td><td title=\"Index: [7, 2]&#10;Color: (205, 133, 63)\" style=\"width: 20px; height: 20px;background-color: rgb(205, 133, 63);\"></td><td title=\"Index: [7, 3]&#10;Color: (123, 234, 123)\" style=\"width: 20px; height: 20px;background-color: rgb(123, 234, 123);\"></td><td title=\"Index: [7, 4]&#10;Color: (205, 133, 63)\" style=\"width: 20px; height: 20px;background-color: rgb(205, 133, 63);\"></td><td title=\"Index: [7, 5]&#10;Color: (123, 234, 123)\" style=\"width: 20px; height: 20px;background-color: rgb(123, 234, 123);\"></td><td title=\"Index: [7, 6]&#10;Color: (205, 133, 63)\" style=\"width: 20px; height: 20px;background-color: rgb(205, 133, 63);\"></td><td title=\"Index: [7, 7]&#10;Color: (123, 234, 123)\" style=\"width: 20px; height: 20px;background-color: rgb(123, 234, 123);\"></td></tr></tbody></table>"
       ],
       "metadata": {},
       "output_type": "display_data",
       "text": [
        "<IPython.core.display.HTML at 0x2177ba8>"
       ]
      }
     ],
     "prompt_number": 116
    },
    {
     "cell_type": "code",
     "collapsed": false,
     "input": [
      "a[:,::2] = 4\n",
      "a"
     ],
     "language": "python",
     "metadata": {},
     "outputs": [
      {
       "metadata": {},
       "output_type": "pyout",
       "prompt_number": 117,
       "text": [
        "array([[4, 1, 4, 1, 4, 1, 4, 1],\n",
        "       [4, 1, 4, 1, 4, 1, 4, 1],\n",
        "       [4, 2, 4, 2, 4, 2, 4, 2],\n",
        "       [4, 0, 4, 0, 4, 0, 4, 0],\n",
        "       [4, 0, 4, 0, 4, 0, 4, 0],\n",
        "       [4, 0, 4, 0, 4, 0, 4, 0],\n",
        "       [4, 0, 4, 0, 4, 0, 4, 0],\n",
        "       [4, 0, 4, 0, 4, 0, 4, 0]], dtype=int64)"
       ]
      }
     ],
     "prompt_number": 117
    },
    {
     "cell_type": "code",
     "collapsed": false,
     "input": [
      "grid[::2,::3] = colors['Red']\n",
      "grid.show()"
     ],
     "language": "python",
     "metadata": {},
     "outputs": [
      {
       "html": [
        "<style type=\"text/css\">table.blockgrid {border: none;} .blockgrid tr {border: none;} .blockgrid td {padding: 0px;} #blocks0ff57021-2934-4556-984d-ddb8f4e9e16f td {border: 1px solid white;}</style><table id=\"blocks0ff57021-2934-4556-984d-ddb8f4e9e16f\" class=\"blockgrid\"><tbody><tr><td title=\"Index: [0, 0]&#10;Color: (255, 0, 0)\" style=\"width: 20px; height: 20px;background-color: rgb(255, 0, 0);\"></td><td title=\"Index: [0, 1]&#10;Color: (0, 128, 128)\" style=\"width: 20px; height: 20px;background-color: rgb(0, 128, 128);\"></td><td title=\"Index: [0, 2]&#10;Color: (205, 133, 63)\" style=\"width: 20px; height: 20px;background-color: rgb(205, 133, 63);\"></td><td title=\"Index: [0, 3]&#10;Color: (255, 0, 0)\" style=\"width: 20px; height: 20px;background-color: rgb(255, 0, 0);\"></td><td title=\"Index: [0, 4]&#10;Color: (205, 133, 63)\" style=\"width: 20px; height: 20px;background-color: rgb(205, 133, 63);\"></td><td title=\"Index: [0, 5]&#10;Color: (0, 128, 128)\" style=\"width: 20px; height: 20px;background-color: rgb(0, 128, 128);\"></td><td title=\"Index: [0, 6]&#10;Color: (255, 0, 0)\" style=\"width: 20px; height: 20px;background-color: rgb(255, 0, 0);\"></td><td title=\"Index: [0, 7]&#10;Color: (0, 128, 128)\" style=\"width: 20px; height: 20px;background-color: rgb(0, 128, 128);\"></td></tr><tr><td title=\"Index: [1, 0]&#10;Color: (205, 133, 63)\" style=\"width: 20px; height: 20px;background-color: rgb(205, 133, 63);\"></td><td title=\"Index: [1, 1]&#10;Color: (0, 128, 128)\" style=\"width: 20px; height: 20px;background-color: rgb(0, 128, 128);\"></td><td title=\"Index: [1, 2]&#10;Color: (205, 133, 63)\" style=\"width: 20px; height: 20px;background-color: rgb(205, 133, 63);\"></td><td title=\"Index: [1, 3]&#10;Color: (0, 128, 128)\" style=\"width: 20px; height: 20px;background-color: rgb(0, 128, 128);\"></td><td title=\"Index: [1, 4]&#10;Color: (205, 133, 63)\" style=\"width: 20px; height: 20px;background-color: rgb(205, 133, 63);\"></td><td title=\"Index: [1, 5]&#10;Color: (0, 128, 128)\" style=\"width: 20px; height: 20px;background-color: rgb(0, 128, 128);\"></td><td title=\"Index: [1, 6]&#10;Color: (205, 133, 63)\" style=\"width: 20px; height: 20px;background-color: rgb(205, 133, 63);\"></td><td title=\"Index: [1, 7]&#10;Color: (0, 128, 128)\" style=\"width: 20px; height: 20px;background-color: rgb(0, 128, 128);\"></td></tr><tr><td title=\"Index: [2, 0]&#10;Color: (255, 0, 0)\" style=\"width: 20px; height: 20px;background-color: rgb(255, 0, 0);\"></td><td title=\"Index: [2, 1]&#10;Color: (0, 0, 255)\" style=\"width: 20px; height: 20px;background-color: rgb(0, 0, 255);\"></td><td title=\"Index: [2, 2]&#10;Color: (205, 133, 63)\" style=\"width: 20px; height: 20px;background-color: rgb(205, 133, 63);\"></td><td title=\"Index: [2, 3]&#10;Color: (255, 0, 0)\" style=\"width: 20px; height: 20px;background-color: rgb(255, 0, 0);\"></td><td title=\"Index: [2, 4]&#10;Color: (205, 133, 63)\" style=\"width: 20px; height: 20px;background-color: rgb(205, 133, 63);\"></td><td title=\"Index: [2, 5]&#10;Color: (0, 0, 255)\" style=\"width: 20px; height: 20px;background-color: rgb(0, 0, 255);\"></td><td title=\"Index: [2, 6]&#10;Color: (255, 0, 0)\" style=\"width: 20px; height: 20px;background-color: rgb(255, 0, 0);\"></td><td title=\"Index: [2, 7]&#10;Color: (0, 0, 255)\" style=\"width: 20px; height: 20px;background-color: rgb(0, 0, 255);\"></td></tr><tr><td title=\"Index: [3, 0]&#10;Color: (205, 133, 63)\" style=\"width: 20px; height: 20px;background-color: rgb(205, 133, 63);\"></td><td title=\"Index: [3, 1]&#10;Color: (123, 234, 123)\" style=\"width: 20px; height: 20px;background-color: rgb(123, 234, 123);\"></td><td title=\"Index: [3, 2]&#10;Color: (205, 133, 63)\" style=\"width: 20px; height: 20px;background-color: rgb(205, 133, 63);\"></td><td title=\"Index: [3, 3]&#10;Color: (123, 234, 123)\" style=\"width: 20px; height: 20px;background-color: rgb(123, 234, 123);\"></td><td title=\"Index: [3, 4]&#10;Color: (205, 133, 63)\" style=\"width: 20px; height: 20px;background-color: rgb(205, 133, 63);\"></td><td title=\"Index: [3, 5]&#10;Color: (123, 234, 123)\" style=\"width: 20px; height: 20px;background-color: rgb(123, 234, 123);\"></td><td title=\"Index: [3, 6]&#10;Color: (205, 133, 63)\" style=\"width: 20px; height: 20px;background-color: rgb(205, 133, 63);\"></td><td title=\"Index: [3, 7]&#10;Color: (123, 234, 123)\" style=\"width: 20px; height: 20px;background-color: rgb(123, 234, 123);\"></td></tr><tr><td title=\"Index: [4, 0]&#10;Color: (255, 0, 0)\" style=\"width: 20px; height: 20px;background-color: rgb(255, 0, 0);\"></td><td title=\"Index: [4, 1]&#10;Color: (123, 234, 123)\" style=\"width: 20px; height: 20px;background-color: rgb(123, 234, 123);\"></td><td title=\"Index: [4, 2]&#10;Color: (205, 133, 63)\" style=\"width: 20px; height: 20px;background-color: rgb(205, 133, 63);\"></td><td title=\"Index: [4, 3]&#10;Color: (255, 0, 0)\" style=\"width: 20px; height: 20px;background-color: rgb(255, 0, 0);\"></td><td title=\"Index: [4, 4]&#10;Color: (205, 133, 63)\" style=\"width: 20px; height: 20px;background-color: rgb(205, 133, 63);\"></td><td title=\"Index: [4, 5]&#10;Color: (123, 234, 123)\" style=\"width: 20px; height: 20px;background-color: rgb(123, 234, 123);\"></td><td title=\"Index: [4, 6]&#10;Color: (255, 0, 0)\" style=\"width: 20px; height: 20px;background-color: rgb(255, 0, 0);\"></td><td title=\"Index: [4, 7]&#10;Color: (123, 234, 123)\" style=\"width: 20px; height: 20px;background-color: rgb(123, 234, 123);\"></td></tr><tr><td title=\"Index: [5, 0]&#10;Color: (205, 133, 63)\" style=\"width: 20px; height: 20px;background-color: rgb(205, 133, 63);\"></td><td title=\"Index: [5, 1]&#10;Color: (123, 234, 123)\" style=\"width: 20px; height: 20px;background-color: rgb(123, 234, 123);\"></td><td title=\"Index: [5, 2]&#10;Color: (205, 133, 63)\" style=\"width: 20px; height: 20px;background-color: rgb(205, 133, 63);\"></td><td title=\"Index: [5, 3]&#10;Color: (123, 234, 123)\" style=\"width: 20px; height: 20px;background-color: rgb(123, 234, 123);\"></td><td title=\"Index: [5, 4]&#10;Color: (205, 133, 63)\" style=\"width: 20px; height: 20px;background-color: rgb(205, 133, 63);\"></td><td title=\"Index: [5, 5]&#10;Color: (123, 234, 123)\" style=\"width: 20px; height: 20px;background-color: rgb(123, 234, 123);\"></td><td title=\"Index: [5, 6]&#10;Color: (205, 133, 63)\" style=\"width: 20px; height: 20px;background-color: rgb(205, 133, 63);\"></td><td title=\"Index: [5, 7]&#10;Color: (123, 234, 123)\" style=\"width: 20px; height: 20px;background-color: rgb(123, 234, 123);\"></td></tr><tr><td title=\"Index: [6, 0]&#10;Color: (255, 0, 0)\" style=\"width: 20px; height: 20px;background-color: rgb(255, 0, 0);\"></td><td title=\"Index: [6, 1]&#10;Color: (123, 234, 123)\" style=\"width: 20px; height: 20px;background-color: rgb(123, 234, 123);\"></td><td title=\"Index: [6, 2]&#10;Color: (205, 133, 63)\" style=\"width: 20px; height: 20px;background-color: rgb(205, 133, 63);\"></td><td title=\"Index: [6, 3]&#10;Color: (255, 0, 0)\" style=\"width: 20px; height: 20px;background-color: rgb(255, 0, 0);\"></td><td title=\"Index: [6, 4]&#10;Color: (205, 133, 63)\" style=\"width: 20px; height: 20px;background-color: rgb(205, 133, 63);\"></td><td title=\"Index: [6, 5]&#10;Color: (123, 234, 123)\" style=\"width: 20px; height: 20px;background-color: rgb(123, 234, 123);\"></td><td title=\"Index: [6, 6]&#10;Color: (255, 0, 0)\" style=\"width: 20px; height: 20px;background-color: rgb(255, 0, 0);\"></td><td title=\"Index: [6, 7]&#10;Color: (123, 234, 123)\" style=\"width: 20px; height: 20px;background-color: rgb(123, 234, 123);\"></td></tr><tr><td title=\"Index: [7, 0]&#10;Color: (205, 133, 63)\" style=\"width: 20px; height: 20px;background-color: rgb(205, 133, 63);\"></td><td title=\"Index: [7, 1]&#10;Color: (123, 234, 123)\" style=\"width: 20px; height: 20px;background-color: rgb(123, 234, 123);\"></td><td title=\"Index: [7, 2]&#10;Color: (205, 133, 63)\" style=\"width: 20px; height: 20px;background-color: rgb(205, 133, 63);\"></td><td title=\"Index: [7, 3]&#10;Color: (123, 234, 123)\" style=\"width: 20px; height: 20px;background-color: rgb(123, 234, 123);\"></td><td title=\"Index: [7, 4]&#10;Color: (205, 133, 63)\" style=\"width: 20px; height: 20px;background-color: rgb(205, 133, 63);\"></td><td title=\"Index: [7, 5]&#10;Color: (123, 234, 123)\" style=\"width: 20px; height: 20px;background-color: rgb(123, 234, 123);\"></td><td title=\"Index: [7, 6]&#10;Color: (205, 133, 63)\" style=\"width: 20px; height: 20px;background-color: rgb(205, 133, 63);\"></td><td title=\"Index: [7, 7]&#10;Color: (123, 234, 123)\" style=\"width: 20px; height: 20px;background-color: rgb(123, 234, 123);\"></td></tr></tbody></table>"
       ],
       "metadata": {},
       "output_type": "display_data",
       "text": [
        "<IPython.core.display.HTML at 0x21774a8>"
       ]
      }
     ],
     "prompt_number": 118
    },
    {
     "cell_type": "code",
     "collapsed": false,
     "input": [
      "a[::2,::3] = 5\n",
      "a"
     ],
     "language": "python",
     "metadata": {},
     "outputs": [
      {
       "metadata": {},
       "output_type": "pyout",
       "prompt_number": 119,
       "text": [
        "array([[5, 1, 4, 5, 4, 1, 5, 1],\n",
        "       [4, 1, 4, 1, 4, 1, 4, 1],\n",
        "       [5, 2, 4, 5, 4, 2, 5, 2],\n",
        "       [4, 0, 4, 0, 4, 0, 4, 0],\n",
        "       [5, 0, 4, 5, 4, 0, 5, 0],\n",
        "       [4, 0, 4, 0, 4, 0, 4, 0],\n",
        "       [5, 0, 4, 5, 4, 0, 5, 0],\n",
        "       [4, 0, 4, 0, 4, 0, 4, 0]], dtype=int64)"
       ]
      }
     ],
     "prompt_number": 119
    },
    {
     "cell_type": "markdown",
     "metadata": {},
     "source": [
      "2) Build a graphical representation of all multiple of 3 numbers from 0 to 49 by using exclusively the slicing operator (no iterations). "
     ]
    },
    {
     "cell_type": "code",
     "collapsed": false,
     "input": [
      "grid = BlockGrid(50, 1, block_size=10, fill=(123, 234, 123))\n",
      "# Your solution here\n",
      "grid[:,3::3] = colors['Red']\n",
      "grid.show()"
     ],
     "language": "python",
     "metadata": {},
     "outputs": [
      {
       "html": [
        "<style type=\"text/css\">table.blockgrid {border: none;} .blockgrid tr {border: none;} .blockgrid td {padding: 0px;} #blocksa34cab49-792f-45a3-98c6-f9799eed3277 td {border: 1px solid white;}</style><table id=\"blocksa34cab49-792f-45a3-98c6-f9799eed3277\" class=\"blockgrid\"><tbody><tr><td title=\"Index: [0, 0]&#10;Color: (123, 234, 123)\" style=\"width: 10px; height: 10px;background-color: rgb(123, 234, 123);\"></td><td title=\"Index: [0, 1]&#10;Color: (123, 234, 123)\" style=\"width: 10px; height: 10px;background-color: rgb(123, 234, 123);\"></td><td title=\"Index: [0, 2]&#10;Color: (123, 234, 123)\" style=\"width: 10px; height: 10px;background-color: rgb(123, 234, 123);\"></td><td title=\"Index: [0, 3]&#10;Color: (255, 0, 0)\" style=\"width: 10px; height: 10px;background-color: rgb(255, 0, 0);\"></td><td title=\"Index: [0, 4]&#10;Color: (123, 234, 123)\" style=\"width: 10px; height: 10px;background-color: rgb(123, 234, 123);\"></td><td title=\"Index: [0, 5]&#10;Color: (123, 234, 123)\" style=\"width: 10px; height: 10px;background-color: rgb(123, 234, 123);\"></td><td title=\"Index: [0, 6]&#10;Color: (255, 0, 0)\" style=\"width: 10px; height: 10px;background-color: rgb(255, 0, 0);\"></td><td title=\"Index: [0, 7]&#10;Color: (123, 234, 123)\" style=\"width: 10px; height: 10px;background-color: rgb(123, 234, 123);\"></td><td title=\"Index: [0, 8]&#10;Color: (123, 234, 123)\" style=\"width: 10px; height: 10px;background-color: rgb(123, 234, 123);\"></td><td title=\"Index: [0, 9]&#10;Color: (255, 0, 0)\" style=\"width: 10px; height: 10px;background-color: rgb(255, 0, 0);\"></td><td title=\"Index: [0, 10]&#10;Color: (123, 234, 123)\" style=\"width: 10px; height: 10px;background-color: rgb(123, 234, 123);\"></td><td title=\"Index: [0, 11]&#10;Color: (123, 234, 123)\" style=\"width: 10px; height: 10px;background-color: rgb(123, 234, 123);\"></td><td title=\"Index: [0, 12]&#10;Color: (255, 0, 0)\" style=\"width: 10px; height: 10px;background-color: rgb(255, 0, 0);\"></td><td title=\"Index: [0, 13]&#10;Color: (123, 234, 123)\" style=\"width: 10px; height: 10px;background-color: rgb(123, 234, 123);\"></td><td title=\"Index: [0, 14]&#10;Color: (123, 234, 123)\" style=\"width: 10px; height: 10px;background-color: rgb(123, 234, 123);\"></td><td title=\"Index: [0, 15]&#10;Color: (255, 0, 0)\" style=\"width: 10px; height: 10px;background-color: rgb(255, 0, 0);\"></td><td title=\"Index: [0, 16]&#10;Color: (123, 234, 123)\" style=\"width: 10px; height: 10px;background-color: rgb(123, 234, 123);\"></td><td title=\"Index: [0, 17]&#10;Color: (123, 234, 123)\" style=\"width: 10px; height: 10px;background-color: rgb(123, 234, 123);\"></td><td title=\"Index: [0, 18]&#10;Color: (255, 0, 0)\" style=\"width: 10px; height: 10px;background-color: rgb(255, 0, 0);\"></td><td title=\"Index: [0, 19]&#10;Color: (123, 234, 123)\" style=\"width: 10px; height: 10px;background-color: rgb(123, 234, 123);\"></td><td title=\"Index: [0, 20]&#10;Color: (123, 234, 123)\" style=\"width: 10px; height: 10px;background-color: rgb(123, 234, 123);\"></td><td title=\"Index: [0, 21]&#10;Color: (255, 0, 0)\" style=\"width: 10px; height: 10px;background-color: rgb(255, 0, 0);\"></td><td title=\"Index: [0, 22]&#10;Color: (123, 234, 123)\" style=\"width: 10px; height: 10px;background-color: rgb(123, 234, 123);\"></td><td title=\"Index: [0, 23]&#10;Color: (123, 234, 123)\" style=\"width: 10px; height: 10px;background-color: rgb(123, 234, 123);\"></td><td title=\"Index: [0, 24]&#10;Color: (255, 0, 0)\" style=\"width: 10px; height: 10px;background-color: rgb(255, 0, 0);\"></td><td title=\"Index: [0, 25]&#10;Color: (123, 234, 123)\" style=\"width: 10px; height: 10px;background-color: rgb(123, 234, 123);\"></td><td title=\"Index: [0, 26]&#10;Color: (123, 234, 123)\" style=\"width: 10px; height: 10px;background-color: rgb(123, 234, 123);\"></td><td title=\"Index: [0, 27]&#10;Color: (255, 0, 0)\" style=\"width: 10px; height: 10px;background-color: rgb(255, 0, 0);\"></td><td title=\"Index: [0, 28]&#10;Color: (123, 234, 123)\" style=\"width: 10px; height: 10px;background-color: rgb(123, 234, 123);\"></td><td title=\"Index: [0, 29]&#10;Color: (123, 234, 123)\" style=\"width: 10px; height: 10px;background-color: rgb(123, 234, 123);\"></td><td title=\"Index: [0, 30]&#10;Color: (255, 0, 0)\" style=\"width: 10px; height: 10px;background-color: rgb(255, 0, 0);\"></td><td title=\"Index: [0, 31]&#10;Color: (123, 234, 123)\" style=\"width: 10px; height: 10px;background-color: rgb(123, 234, 123);\"></td><td title=\"Index: [0, 32]&#10;Color: (123, 234, 123)\" style=\"width: 10px; height: 10px;background-color: rgb(123, 234, 123);\"></td><td title=\"Index: [0, 33]&#10;Color: (255, 0, 0)\" style=\"width: 10px; height: 10px;background-color: rgb(255, 0, 0);\"></td><td title=\"Index: [0, 34]&#10;Color: (123, 234, 123)\" style=\"width: 10px; height: 10px;background-color: rgb(123, 234, 123);\"></td><td title=\"Index: [0, 35]&#10;Color: (123, 234, 123)\" style=\"width: 10px; height: 10px;background-color: rgb(123, 234, 123);\"></td><td title=\"Index: [0, 36]&#10;Color: (255, 0, 0)\" style=\"width: 10px; height: 10px;background-color: rgb(255, 0, 0);\"></td><td title=\"Index: [0, 37]&#10;Color: (123, 234, 123)\" style=\"width: 10px; height: 10px;background-color: rgb(123, 234, 123);\"></td><td title=\"Index: [0, 38]&#10;Color: (123, 234, 123)\" style=\"width: 10px; height: 10px;background-color: rgb(123, 234, 123);\"></td><td title=\"Index: [0, 39]&#10;Color: (255, 0, 0)\" style=\"width: 10px; height: 10px;background-color: rgb(255, 0, 0);\"></td><td title=\"Index: [0, 40]&#10;Color: (123, 234, 123)\" style=\"width: 10px; height: 10px;background-color: rgb(123, 234, 123);\"></td><td title=\"Index: [0, 41]&#10;Color: (123, 234, 123)\" style=\"width: 10px; height: 10px;background-color: rgb(123, 234, 123);\"></td><td title=\"Index: [0, 42]&#10;Color: (255, 0, 0)\" style=\"width: 10px; height: 10px;background-color: rgb(255, 0, 0);\"></td><td title=\"Index: [0, 43]&#10;Color: (123, 234, 123)\" style=\"width: 10px; height: 10px;background-color: rgb(123, 234, 123);\"></td><td title=\"Index: [0, 44]&#10;Color: (123, 234, 123)\" style=\"width: 10px; height: 10px;background-color: rgb(123, 234, 123);\"></td><td title=\"Index: [0, 45]&#10;Color: (255, 0, 0)\" style=\"width: 10px; height: 10px;background-color: rgb(255, 0, 0);\"></td><td title=\"Index: [0, 46]&#10;Color: (123, 234, 123)\" style=\"width: 10px; height: 10px;background-color: rgb(123, 234, 123);\"></td><td title=\"Index: [0, 47]&#10;Color: (123, 234, 123)\" style=\"width: 10px; height: 10px;background-color: rgb(123, 234, 123);\"></td><td title=\"Index: [0, 48]&#10;Color: (255, 0, 0)\" style=\"width: 10px; height: 10px;background-color: rgb(255, 0, 0);\"></td><td title=\"Index: [0, 49]&#10;Color: (123, 234, 123)\" style=\"width: 10px; height: 10px;background-color: rgb(123, 234, 123);\"></td></tr></tbody></table>"
       ],
       "metadata": {},
       "output_type": "display_data",
       "text": [
        "<IPython.core.display.HTML at 0x2177da0>"
       ]
      }
     ],
     "prompt_number": 142
    },
    {
     "cell_type": "markdown",
     "metadata": {},
     "source": [
      "3) Build a graphical representation of a chessboard 8x8 by using exclusively the slicing operator (no iterations)."
     ]
    },
    {
     "cell_type": "code",
     "collapsed": false,
     "input": [
      "grid = BlockGrid(8, 8, block_size=20, fill=(0, 0, 0))\n",
      "# Your solution here\n",
      "grid[1::2,0::2] = colors['White']\n",
      "grid[0::2,1::2] = colors['White']\n",
      "grid.show()"
     ],
     "language": "python",
     "metadata": {},
     "outputs": [
      {
       "html": [
        "<style type=\"text/css\">table.blockgrid {border: none;} .blockgrid tr {border: none;} .blockgrid td {padding: 0px;} #blocks84d6f06f-f90a-4453-ad8e-c2a592735c0d td {border: 1px solid white;}</style><table id=\"blocks84d6f06f-f90a-4453-ad8e-c2a592735c0d\" class=\"blockgrid\"><tbody><tr><td title=\"Index: [0, 0]&#10;Color: (0, 0, 0)\" style=\"width: 20px; height: 20px;background-color: rgb(0, 0, 0);\"></td><td title=\"Index: [0, 1]&#10;Color: (255, 255, 255)\" style=\"width: 20px; height: 20px;background-color: rgb(255, 255, 255);\"></td><td title=\"Index: [0, 2]&#10;Color: (0, 0, 0)\" style=\"width: 20px; height: 20px;background-color: rgb(0, 0, 0);\"></td><td title=\"Index: [0, 3]&#10;Color: (255, 255, 255)\" style=\"width: 20px; height: 20px;background-color: rgb(255, 255, 255);\"></td><td title=\"Index: [0, 4]&#10;Color: (0, 0, 0)\" style=\"width: 20px; height: 20px;background-color: rgb(0, 0, 0);\"></td><td title=\"Index: [0, 5]&#10;Color: (255, 255, 255)\" style=\"width: 20px; height: 20px;background-color: rgb(255, 255, 255);\"></td><td title=\"Index: [0, 6]&#10;Color: (0, 0, 0)\" style=\"width: 20px; height: 20px;background-color: rgb(0, 0, 0);\"></td><td title=\"Index: [0, 7]&#10;Color: (255, 255, 255)\" style=\"width: 20px; height: 20px;background-color: rgb(255, 255, 255);\"></td></tr><tr><td title=\"Index: [1, 0]&#10;Color: (255, 255, 255)\" style=\"width: 20px; height: 20px;background-color: rgb(255, 255, 255);\"></td><td title=\"Index: [1, 1]&#10;Color: (0, 0, 0)\" style=\"width: 20px; height: 20px;background-color: rgb(0, 0, 0);\"></td><td title=\"Index: [1, 2]&#10;Color: (255, 255, 255)\" style=\"width: 20px; height: 20px;background-color: rgb(255, 255, 255);\"></td><td title=\"Index: [1, 3]&#10;Color: (0, 0, 0)\" style=\"width: 20px; height: 20px;background-color: rgb(0, 0, 0);\"></td><td title=\"Index: [1, 4]&#10;Color: (255, 255, 255)\" style=\"width: 20px; height: 20px;background-color: rgb(255, 255, 255);\"></td><td title=\"Index: [1, 5]&#10;Color: (0, 0, 0)\" style=\"width: 20px; height: 20px;background-color: rgb(0, 0, 0);\"></td><td title=\"Index: [1, 6]&#10;Color: (255, 255, 255)\" style=\"width: 20px; height: 20px;background-color: rgb(255, 255, 255);\"></td><td title=\"Index: [1, 7]&#10;Color: (0, 0, 0)\" style=\"width: 20px; height: 20px;background-color: rgb(0, 0, 0);\"></td></tr><tr><td title=\"Index: [2, 0]&#10;Color: (0, 0, 0)\" style=\"width: 20px; height: 20px;background-color: rgb(0, 0, 0);\"></td><td title=\"Index: [2, 1]&#10;Color: (255, 255, 255)\" style=\"width: 20px; height: 20px;background-color: rgb(255, 255, 255);\"></td><td title=\"Index: [2, 2]&#10;Color: (0, 0, 0)\" style=\"width: 20px; height: 20px;background-color: rgb(0, 0, 0);\"></td><td title=\"Index: [2, 3]&#10;Color: (255, 255, 255)\" style=\"width: 20px; height: 20px;background-color: rgb(255, 255, 255);\"></td><td title=\"Index: [2, 4]&#10;Color: (0, 0, 0)\" style=\"width: 20px; height: 20px;background-color: rgb(0, 0, 0);\"></td><td title=\"Index: [2, 5]&#10;Color: (255, 255, 255)\" style=\"width: 20px; height: 20px;background-color: rgb(255, 255, 255);\"></td><td title=\"Index: [2, 6]&#10;Color: (0, 0, 0)\" style=\"width: 20px; height: 20px;background-color: rgb(0, 0, 0);\"></td><td title=\"Index: [2, 7]&#10;Color: (255, 255, 255)\" style=\"width: 20px; height: 20px;background-color: rgb(255, 255, 255);\"></td></tr><tr><td title=\"Index: [3, 0]&#10;Color: (255, 255, 255)\" style=\"width: 20px; height: 20px;background-color: rgb(255, 255, 255);\"></td><td title=\"Index: [3, 1]&#10;Color: (0, 0, 0)\" style=\"width: 20px; height: 20px;background-color: rgb(0, 0, 0);\"></td><td title=\"Index: [3, 2]&#10;Color: (255, 255, 255)\" style=\"width: 20px; height: 20px;background-color: rgb(255, 255, 255);\"></td><td title=\"Index: [3, 3]&#10;Color: (0, 0, 0)\" style=\"width: 20px; height: 20px;background-color: rgb(0, 0, 0);\"></td><td title=\"Index: [3, 4]&#10;Color: (255, 255, 255)\" style=\"width: 20px; height: 20px;background-color: rgb(255, 255, 255);\"></td><td title=\"Index: [3, 5]&#10;Color: (0, 0, 0)\" style=\"width: 20px; height: 20px;background-color: rgb(0, 0, 0);\"></td><td title=\"Index: [3, 6]&#10;Color: (255, 255, 255)\" style=\"width: 20px; height: 20px;background-color: rgb(255, 255, 255);\"></td><td title=\"Index: [3, 7]&#10;Color: (0, 0, 0)\" style=\"width: 20px; height: 20px;background-color: rgb(0, 0, 0);\"></td></tr><tr><td title=\"Index: [4, 0]&#10;Color: (0, 0, 0)\" style=\"width: 20px; height: 20px;background-color: rgb(0, 0, 0);\"></td><td title=\"Index: [4, 1]&#10;Color: (255, 255, 255)\" style=\"width: 20px; height: 20px;background-color: rgb(255, 255, 255);\"></td><td title=\"Index: [4, 2]&#10;Color: (0, 0, 0)\" style=\"width: 20px; height: 20px;background-color: rgb(0, 0, 0);\"></td><td title=\"Index: [4, 3]&#10;Color: (255, 255, 255)\" style=\"width: 20px; height: 20px;background-color: rgb(255, 255, 255);\"></td><td title=\"Index: [4, 4]&#10;Color: (0, 0, 0)\" style=\"width: 20px; height: 20px;background-color: rgb(0, 0, 0);\"></td><td title=\"Index: [4, 5]&#10;Color: (255, 255, 255)\" style=\"width: 20px; height: 20px;background-color: rgb(255, 255, 255);\"></td><td title=\"Index: [4, 6]&#10;Color: (0, 0, 0)\" style=\"width: 20px; height: 20px;background-color: rgb(0, 0, 0);\"></td><td title=\"Index: [4, 7]&#10;Color: (255, 255, 255)\" style=\"width: 20px; height: 20px;background-color: rgb(255, 255, 255);\"></td></tr><tr><td title=\"Index: [5, 0]&#10;Color: (255, 255, 255)\" style=\"width: 20px; height: 20px;background-color: rgb(255, 255, 255);\"></td><td title=\"Index: [5, 1]&#10;Color: (0, 0, 0)\" style=\"width: 20px; height: 20px;background-color: rgb(0, 0, 0);\"></td><td title=\"Index: [5, 2]&#10;Color: (255, 255, 255)\" style=\"width: 20px; height: 20px;background-color: rgb(255, 255, 255);\"></td><td title=\"Index: [5, 3]&#10;Color: (0, 0, 0)\" style=\"width: 20px; height: 20px;background-color: rgb(0, 0, 0);\"></td><td title=\"Index: [5, 4]&#10;Color: (255, 255, 255)\" style=\"width: 20px; height: 20px;background-color: rgb(255, 255, 255);\"></td><td title=\"Index: [5, 5]&#10;Color: (0, 0, 0)\" style=\"width: 20px; height: 20px;background-color: rgb(0, 0, 0);\"></td><td title=\"Index: [5, 6]&#10;Color: (255, 255, 255)\" style=\"width: 20px; height: 20px;background-color: rgb(255, 255, 255);\"></td><td title=\"Index: [5, 7]&#10;Color: (0, 0, 0)\" style=\"width: 20px; height: 20px;background-color: rgb(0, 0, 0);\"></td></tr><tr><td title=\"Index: [6, 0]&#10;Color: (0, 0, 0)\" style=\"width: 20px; height: 20px;background-color: rgb(0, 0, 0);\"></td><td title=\"Index: [6, 1]&#10;Color: (255, 255, 255)\" style=\"width: 20px; height: 20px;background-color: rgb(255, 255, 255);\"></td><td title=\"Index: [6, 2]&#10;Color: (0, 0, 0)\" style=\"width: 20px; height: 20px;background-color: rgb(0, 0, 0);\"></td><td title=\"Index: [6, 3]&#10;Color: (255, 255, 255)\" style=\"width: 20px; height: 20px;background-color: rgb(255, 255, 255);\"></td><td title=\"Index: [6, 4]&#10;Color: (0, 0, 0)\" style=\"width: 20px; height: 20px;background-color: rgb(0, 0, 0);\"></td><td title=\"Index: [6, 5]&#10;Color: (255, 255, 255)\" style=\"width: 20px; height: 20px;background-color: rgb(255, 255, 255);\"></td><td title=\"Index: [6, 6]&#10;Color: (0, 0, 0)\" style=\"width: 20px; height: 20px;background-color: rgb(0, 0, 0);\"></td><td title=\"Index: [6, 7]&#10;Color: (255, 255, 255)\" style=\"width: 20px; height: 20px;background-color: rgb(255, 255, 255);\"></td></tr><tr><td title=\"Index: [7, 0]&#10;Color: (255, 255, 255)\" style=\"width: 20px; height: 20px;background-color: rgb(255, 255, 255);\"></td><td title=\"Index: [7, 1]&#10;Color: (0, 0, 0)\" style=\"width: 20px; height: 20px;background-color: rgb(0, 0, 0);\"></td><td title=\"Index: [7, 2]&#10;Color: (255, 255, 255)\" style=\"width: 20px; height: 20px;background-color: rgb(255, 255, 255);\"></td><td title=\"Index: [7, 3]&#10;Color: (0, 0, 0)\" style=\"width: 20px; height: 20px;background-color: rgb(0, 0, 0);\"></td><td title=\"Index: [7, 4]&#10;Color: (255, 255, 255)\" style=\"width: 20px; height: 20px;background-color: rgb(255, 255, 255);\"></td><td title=\"Index: [7, 5]&#10;Color: (0, 0, 0)\" style=\"width: 20px; height: 20px;background-color: rgb(0, 0, 0);\"></td><td title=\"Index: [7, 6]&#10;Color: (255, 255, 255)\" style=\"width: 20px; height: 20px;background-color: rgb(255, 255, 255);\"></td><td title=\"Index: [7, 7]&#10;Color: (0, 0, 0)\" style=\"width: 20px; height: 20px;background-color: rgb(0, 0, 0);\"></td></tr></tbody></table>"
       ],
       "metadata": {},
       "output_type": "display_data",
       "text": [
        "<IPython.core.display.HTML at 0x21aa6a0>"
       ]
      }
     ],
     "prompt_number": 152
    },
    {
     "cell_type": "markdown",
     "metadata": {},
     "source": [
      "4) Build a graphical representation of the prime numbers from 0 to 4999. (Hint: Compute the list of prime numbers and map this list to the grid representation)."
     ]
    },
    {
     "cell_type": "code",
     "collapsed": false,
     "input": [
      "# Your solution here\n",
      "'''\n",
      "1st try\n",
      "# http://stackoverflow.com/questions/12042721/python-prime-number-generator-numpy\n",
      "def isprime(number):  \n",
      "    if number <= 1:  \n",
      "        return False  \n",
      "    check = 2  \n",
      "    maxneeded = number  \n",
      "    while check < maxneeded + 1:  \n",
      "        maxneeded = number / check  \n",
      "        if number % check == 0:  \n",
      "            return False  \n",
      "        check += 1  \n",
      "    return True\n",
      "\n",
      "2nd try\n",
      "# http://docs.scipy.org/doc/numpy/reference/generated/numpy.vectorize.html\n",
      "vprime = np.vectorize(isprime)\n",
      "\n",
      "3rd try\n",
      "prime_arr = vprime(np.arange(0,5000,1))\n",
      "prime_mask = prime_arr.reshape([50,100])\n",
      "'''\n",
      "\n",
      "# http://rebrained.com/?p=458\n",
      "import math\n",
      "def prime(upto=100):\n",
      "    return filter(lambda num: (num % np.arange(2, 1 + int(math.sqrt(num)))).all(), range(2, upto + 1))\n",
      "\n",
      "# from the forum...\n",
      "c, r = 40, 50\n",
      "grid = BlockGrid (c, r, block_size = 10, fill = (123, 234, 123)) \n",
      "for p in np.array(prime(c*r)): \n",
      "    grid [(p-1) / c, (p-1) % c] = colors['Red']\n",
      "grid.show()"
     ],
     "language": "python",
     "metadata": {},
     "outputs": [
      {
       "html": [
        "<style type=\"text/css\">table.blockgrid {border: none;} .blockgrid tr {border: none;} .blockgrid td {padding: 0px;} #blocks2d6f4940-1c74-4ad0-8e1f-67da8b6a6153 td {border: 1px solid white;}</style><table id=\"blocks2d6f4940-1c74-4ad0-8e1f-67da8b6a6153\" class=\"blockgrid\"><tbody><tr><td title=\"Index: [0, 0]&#10;Color: (123, 234, 123)\" style=\"width: 10px; height: 10px;background-color: rgb(123, 234, 123);\"></td><td title=\"Index: [0, 1]&#10;Color: (255, 0, 0)\" style=\"width: 10px; height: 10px;background-color: rgb(255, 0, 0);\"></td><td title=\"Index: [0, 2]&#10;Color: (255, 0, 0)\" style=\"width: 10px; height: 10px;background-color: rgb(255, 0, 0);\"></td><td title=\"Index: [0, 3]&#10;Color: (123, 234, 123)\" style=\"width: 10px; height: 10px;background-color: rgb(123, 234, 123);\"></td><td title=\"Index: [0, 4]&#10;Color: (255, 0, 0)\" style=\"width: 10px; height: 10px;background-color: rgb(255, 0, 0);\"></td><td title=\"Index: [0, 5]&#10;Color: (123, 234, 123)\" style=\"width: 10px; height: 10px;background-color: rgb(123, 234, 123);\"></td><td title=\"Index: [0, 6]&#10;Color: (255, 0, 0)\" style=\"width: 10px; height: 10px;background-color: rgb(255, 0, 0);\"></td><td title=\"Index: [0, 7]&#10;Color: (123, 234, 123)\" style=\"width: 10px; height: 10px;background-color: rgb(123, 234, 123);\"></td><td title=\"Index: [0, 8]&#10;Color: (123, 234, 123)\" style=\"width: 10px; height: 10px;background-color: rgb(123, 234, 123);\"></td><td title=\"Index: [0, 9]&#10;Color: (123, 234, 123)\" style=\"width: 10px; height: 10px;background-color: rgb(123, 234, 123);\"></td><td title=\"Index: [0, 10]&#10;Color: (255, 0, 0)\" style=\"width: 10px; height: 10px;background-color: rgb(255, 0, 0);\"></td><td title=\"Index: [0, 11]&#10;Color: (123, 234, 123)\" style=\"width: 10px; height: 10px;background-color: rgb(123, 234, 123);\"></td><td title=\"Index: [0, 12]&#10;Color: (255, 0, 0)\" style=\"width: 10px; height: 10px;background-color: rgb(255, 0, 0);\"></td><td title=\"Index: [0, 13]&#10;Color: (123, 234, 123)\" style=\"width: 10px; height: 10px;background-color: rgb(123, 234, 123);\"></td><td title=\"Index: [0, 14]&#10;Color: (123, 234, 123)\" style=\"width: 10px; height: 10px;background-color: rgb(123, 234, 123);\"></td><td title=\"Index: [0, 15]&#10;Color: (123, 234, 123)\" style=\"width: 10px; height: 10px;background-color: rgb(123, 234, 123);\"></td><td title=\"Index: [0, 16]&#10;Color: (255, 0, 0)\" style=\"width: 10px; height: 10px;background-color: rgb(255, 0, 0);\"></td><td title=\"Index: [0, 17]&#10;Color: (123, 234, 123)\" style=\"width: 10px; height: 10px;background-color: rgb(123, 234, 123);\"></td><td title=\"Index: [0, 18]&#10;Color: (255, 0, 0)\" style=\"width: 10px; height: 10px;background-color: rgb(255, 0, 0);\"></td><td title=\"Index: [0, 19]&#10;Color: (123, 234, 123)\" style=\"width: 10px; height: 10px;background-color: rgb(123, 234, 123);\"></td><td title=\"Index: [0, 20]&#10;Color: (123, 234, 123)\" style=\"width: 10px; height: 10px;background-color: rgb(123, 234, 123);\"></td><td title=\"Index: [0, 21]&#10;Color: (123, 234, 123)\" style=\"width: 10px; height: 10px;background-color: rgb(123, 234, 123);\"></td><td title=\"Index: [0, 22]&#10;Color: (255, 0, 0)\" style=\"width: 10px; height: 10px;background-color: rgb(255, 0, 0);\"></td><td title=\"Index: [0, 23]&#10;Color: (123, 234, 123)\" style=\"width: 10px; height: 10px;background-color: rgb(123, 234, 123);\"></td><td title=\"Index: [0, 24]&#10;Color: (123, 234, 123)\" style=\"width: 10px; height: 10px;background-color: rgb(123, 234, 123);\"></td><td title=\"Index: [0, 25]&#10;Color: (123, 234, 123)\" style=\"width: 10px; height: 10px;background-color: rgb(123, 234, 123);\"></td><td title=\"Index: [0, 26]&#10;Color: (123, 234, 123)\" style=\"width: 10px; height: 10px;background-color: rgb(123, 234, 123);\"></td><td title=\"Index: [0, 27]&#10;Color: (123, 234, 123)\" style=\"width: 10px; height: 10px;background-color: rgb(123, 234, 123);\"></td><td title=\"Index: [0, 28]&#10;Color: (255, 0, 0)\" style=\"width: 10px; height: 10px;background-color: rgb(255, 0, 0);\"></td><td title=\"Index: [0, 29]&#10;Color: (123, 234, 123)\" style=\"width: 10px; height: 10px;background-color: rgb(123, 234, 123);\"></td><td title=\"Index: [0, 30]&#10;Color: (255, 0, 0)\" style=\"width: 10px; height: 10px;background-color: rgb(255, 0, 0);\"></td><td title=\"Index: [0, 31]&#10;Color: (123, 234, 123)\" style=\"width: 10px; height: 10px;background-color: rgb(123, 234, 123);\"></td><td title=\"Index: [0, 32]&#10;Color: (123, 234, 123)\" style=\"width: 10px; height: 10px;background-color: rgb(123, 234, 123);\"></td><td title=\"Index: [0, 33]&#10;Color: (123, 234, 123)\" style=\"width: 10px; height: 10px;background-color: rgb(123, 234, 123);\"></td><td title=\"Index: [0, 34]&#10;Color: (123, 234, 123)\" style=\"width: 10px; height: 10px;background-color: rgb(123, 234, 123);\"></td><td title=\"Index: [0, 35]&#10;Color: (123, 234, 123)\" style=\"width: 10px; height: 10px;background-color: rgb(123, 234, 123);\"></td><td title=\"Index: [0, 36]&#10;Color: (255, 0, 0)\" style=\"width: 10px; height: 10px;background-color: rgb(255, 0, 0);\"></td><td title=\"Index: [0, 37]&#10;Color: (123, 234, 123)\" style=\"width: 10px; height: 10px;background-color: rgb(123, 234, 123);\"></td><td title=\"Index: [0, 38]&#10;Color: (123, 234, 123)\" style=\"width: 10px; height: 10px;background-color: rgb(123, 234, 123);\"></td><td title=\"Index: [0, 39]&#10;Color: (123, 234, 123)\" style=\"width: 10px; height: 10px;background-color: rgb(123, 234, 123);\"></td></tr><tr><td title=\"Index: [1, 0]&#10;Color: (255, 0, 0)\" style=\"width: 10px; height: 10px;background-color: rgb(255, 0, 0);\"></td><td title=\"Index: [1, 1]&#10;Color: (123, 234, 123)\" style=\"width: 10px; height: 10px;background-color: rgb(123, 234, 123);\"></td><td title=\"Index: [1, 2]&#10;Color: (255, 0, 0)\" style=\"width: 10px; height: 10px;background-color: rgb(255, 0, 0);\"></td><td title=\"Index: [1, 3]&#10;Color: (123, 234, 123)\" style=\"width: 10px; height: 10px;background-color: rgb(123, 234, 123);\"></td><td title=\"Index: [1, 4]&#10;Color: (123, 234, 123)\" style=\"width: 10px; height: 10px;background-color: rgb(123, 234, 123);\"></td><td title=\"Index: [1, 5]&#10;Color: (123, 234, 123)\" style=\"width: 10px; height: 10px;background-color: rgb(123, 234, 123);\"></td><td title=\"Index: [1, 6]&#10;Color: (255, 0, 0)\" style=\"width: 10px; height: 10px;background-color: rgb(255, 0, 0);\"></td><td title=\"Index: [1, 7]&#10;Color: (123, 234, 123)\" style=\"width: 10px; height: 10px;background-color: rgb(123, 234, 123);\"></td><td title=\"Index: [1, 8]&#10;Color: (123, 234, 123)\" style=\"width: 10px; height: 10px;background-color: rgb(123, 234, 123);\"></td><td title=\"Index: [1, 9]&#10;Color: (123, 234, 123)\" style=\"width: 10px; height: 10px;background-color: rgb(123, 234, 123);\"></td><td title=\"Index: [1, 10]&#10;Color: (123, 234, 123)\" style=\"width: 10px; height: 10px;background-color: rgb(123, 234, 123);\"></td><td title=\"Index: [1, 11]&#10;Color: (123, 234, 123)\" style=\"width: 10px; height: 10px;background-color: rgb(123, 234, 123);\"></td><td title=\"Index: [1, 12]&#10;Color: (255, 0, 0)\" style=\"width: 10px; height: 10px;background-color: rgb(255, 0, 0);\"></td><td title=\"Index: [1, 13]&#10;Color: (123, 234, 123)\" style=\"width: 10px; height: 10px;background-color: rgb(123, 234, 123);\"></td><td title=\"Index: [1, 14]&#10;Color: (123, 234, 123)\" style=\"width: 10px; height: 10px;background-color: rgb(123, 234, 123);\"></td><td title=\"Index: [1, 15]&#10;Color: (123, 234, 123)\" style=\"width: 10px; height: 10px;background-color: rgb(123, 234, 123);\"></td><td title=\"Index: [1, 16]&#10;Color: (123, 234, 123)\" style=\"width: 10px; height: 10px;background-color: rgb(123, 234, 123);\"></td><td title=\"Index: [1, 17]&#10;Color: (123, 234, 123)\" style=\"width: 10px; height: 10px;background-color: rgb(123, 234, 123);\"></td><td title=\"Index: [1, 18]&#10;Color: (255, 0, 0)\" style=\"width: 10px; height: 10px;background-color: rgb(255, 0, 0);\"></td><td title=\"Index: [1, 19]&#10;Color: (123, 234, 123)\" style=\"width: 10px; height: 10px;background-color: rgb(123, 234, 123);\"></td><td title=\"Index: [1, 20]&#10;Color: (255, 0, 0)\" style=\"width: 10px; height: 10px;background-color: rgb(255, 0, 0);\"></td><td title=\"Index: [1, 21]&#10;Color: (123, 234, 123)\" style=\"width: 10px; height: 10px;background-color: rgb(123, 234, 123);\"></td><td title=\"Index: [1, 22]&#10;Color: (123, 234, 123)\" style=\"width: 10px; height: 10px;background-color: rgb(123, 234, 123);\"></td><td title=\"Index: [1, 23]&#10;Color: (123, 234, 123)\" style=\"width: 10px; height: 10px;background-color: rgb(123, 234, 123);\"></td><td title=\"Index: [1, 24]&#10;Color: (123, 234, 123)\" style=\"width: 10px; height: 10px;background-color: rgb(123, 234, 123);\"></td><td title=\"Index: [1, 25]&#10;Color: (123, 234, 123)\" style=\"width: 10px; height: 10px;background-color: rgb(123, 234, 123);\"></td><td title=\"Index: [1, 26]&#10;Color: (255, 0, 0)\" style=\"width: 10px; height: 10px;background-color: rgb(255, 0, 0);\"></td><td title=\"Index: [1, 27]&#10;Color: (123, 234, 123)\" style=\"width: 10px; height: 10px;background-color: rgb(123, 234, 123);\"></td><td title=\"Index: [1, 28]&#10;Color: (123, 234, 123)\" style=\"width: 10px; height: 10px;background-color: rgb(123, 234, 123);\"></td><td title=\"Index: [1, 29]&#10;Color: (123, 234, 123)\" style=\"width: 10px; height: 10px;background-color: rgb(123, 234, 123);\"></td><td title=\"Index: [1, 30]&#10;Color: (255, 0, 0)\" style=\"width: 10px; height: 10px;background-color: rgb(255, 0, 0);\"></td><td title=\"Index: [1, 31]&#10;Color: (123, 234, 123)\" style=\"width: 10px; height: 10px;background-color: rgb(123, 234, 123);\"></td><td title=\"Index: [1, 32]&#10;Color: (255, 0, 0)\" style=\"width: 10px; height: 10px;background-color: rgb(255, 0, 0);\"></td><td title=\"Index: [1, 33]&#10;Color: (123, 234, 123)\" style=\"width: 10px; height: 10px;background-color: rgb(123, 234, 123);\"></td><td title=\"Index: [1, 34]&#10;Color: (123, 234, 123)\" style=\"width: 10px; height: 10px;background-color: rgb(123, 234, 123);\"></td><td title=\"Index: [1, 35]&#10;Color: (123, 234, 123)\" style=\"width: 10px; height: 10px;background-color: rgb(123, 234, 123);\"></td><td title=\"Index: [1, 36]&#10;Color: (123, 234, 123)\" style=\"width: 10px; height: 10px;background-color: rgb(123, 234, 123);\"></td><td title=\"Index: [1, 37]&#10;Color: (123, 234, 123)\" style=\"width: 10px; height: 10px;background-color: rgb(123, 234, 123);\"></td><td title=\"Index: [1, 38]&#10;Color: (255, 0, 0)\" style=\"width: 10px; height: 10px;background-color: rgb(255, 0, 0);\"></td><td title=\"Index: [1, 39]&#10;Color: (123, 234, 123)\" style=\"width: 10px; height: 10px;background-color: rgb(123, 234, 123);\"></td></tr><tr><td title=\"Index: [2, 0]&#10;Color: (123, 234, 123)\" style=\"width: 10px; height: 10px;background-color: rgb(123, 234, 123);\"></td><td title=\"Index: [2, 1]&#10;Color: (123, 234, 123)\" style=\"width: 10px; height: 10px;background-color: rgb(123, 234, 123);\"></td><td title=\"Index: [2, 2]&#10;Color: (255, 0, 0)\" style=\"width: 10px; height: 10px;background-color: rgb(255, 0, 0);\"></td><td title=\"Index: [2, 3]&#10;Color: (123, 234, 123)\" style=\"width: 10px; height: 10px;background-color: rgb(123, 234, 123);\"></td><td title=\"Index: [2, 4]&#10;Color: (123, 234, 123)\" style=\"width: 10px; height: 10px;background-color: rgb(123, 234, 123);\"></td><td title=\"Index: [2, 5]&#10;Color: (123, 234, 123)\" style=\"width: 10px; height: 10px;background-color: rgb(123, 234, 123);\"></td><td title=\"Index: [2, 6]&#10;Color: (123, 234, 123)\" style=\"width: 10px; height: 10px;background-color: rgb(123, 234, 123);\"></td><td title=\"Index: [2, 7]&#10;Color: (123, 234, 123)\" style=\"width: 10px; height: 10px;background-color: rgb(123, 234, 123);\"></td><td title=\"Index: [2, 8]&#10;Color: (255, 0, 0)\" style=\"width: 10px; height: 10px;background-color: rgb(255, 0, 0);\"></td><td title=\"Index: [2, 9]&#10;Color: (123, 234, 123)\" style=\"width: 10px; height: 10px;background-color: rgb(123, 234, 123);\"></td><td title=\"Index: [2, 10]&#10;Color: (123, 234, 123)\" style=\"width: 10px; height: 10px;background-color: rgb(123, 234, 123);\"></td><td title=\"Index: [2, 11]&#10;Color: (123, 234, 123)\" style=\"width: 10px; height: 10px;background-color: rgb(123, 234, 123);\"></td><td title=\"Index: [2, 12]&#10;Color: (123, 234, 123)\" style=\"width: 10px; height: 10px;background-color: rgb(123, 234, 123);\"></td><td title=\"Index: [2, 13]&#10;Color: (123, 234, 123)\" style=\"width: 10px; height: 10px;background-color: rgb(123, 234, 123);\"></td><td title=\"Index: [2, 14]&#10;Color: (123, 234, 123)\" style=\"width: 10px; height: 10px;background-color: rgb(123, 234, 123);\"></td><td title=\"Index: [2, 15]&#10;Color: (123, 234, 123)\" style=\"width: 10px; height: 10px;background-color: rgb(123, 234, 123);\"></td><td title=\"Index: [2, 16]&#10;Color: (255, 0, 0)\" style=\"width: 10px; height: 10px;background-color: rgb(255, 0, 0);\"></td><td title=\"Index: [2, 17]&#10;Color: (123, 234, 123)\" style=\"width: 10px; height: 10px;background-color: rgb(123, 234, 123);\"></td><td title=\"Index: [2, 18]&#10;Color: (123, 234, 123)\" style=\"width: 10px; height: 10px;background-color: rgb(123, 234, 123);\"></td><td title=\"Index: [2, 19]&#10;Color: (123, 234, 123)\" style=\"width: 10px; height: 10px;background-color: rgb(123, 234, 123);\"></td><td title=\"Index: [2, 20]&#10;Color: (255, 0, 0)\" style=\"width: 10px; height: 10px;background-color: rgb(255, 0, 0);\"></td><td title=\"Index: [2, 21]&#10;Color: (123, 234, 123)\" style=\"width: 10px; height: 10px;background-color: rgb(123, 234, 123);\"></td><td title=\"Index: [2, 22]&#10;Color: (255, 0, 0)\" style=\"width: 10px; height: 10px;background-color: rgb(255, 0, 0);\"></td><td title=\"Index: [2, 23]&#10;Color: (123, 234, 123)\" style=\"width: 10px; height: 10px;background-color: rgb(123, 234, 123);\"></td><td title=\"Index: [2, 24]&#10;Color: (123, 234, 123)\" style=\"width: 10px; height: 10px;background-color: rgb(123, 234, 123);\"></td><td title=\"Index: [2, 25]&#10;Color: (123, 234, 123)\" style=\"width: 10px; height: 10px;background-color: rgb(123, 234, 123);\"></td><td title=\"Index: [2, 26]&#10;Color: (255, 0, 0)\" style=\"width: 10px; height: 10px;background-color: rgb(255, 0, 0);\"></td><td title=\"Index: [2, 27]&#10;Color: (123, 234, 123)\" style=\"width: 10px; height: 10px;background-color: rgb(123, 234, 123);\"></td><td title=\"Index: [2, 28]&#10;Color: (255, 0, 0)\" style=\"width: 10px; height: 10px;background-color: rgb(255, 0, 0);\"></td><td title=\"Index: [2, 29]&#10;Color: (123, 234, 123)\" style=\"width: 10px; height: 10px;background-color: rgb(123, 234, 123);\"></td><td title=\"Index: [2, 30]&#10;Color: (123, 234, 123)\" style=\"width: 10px; height: 10px;background-color: rgb(123, 234, 123);\"></td><td title=\"Index: [2, 31]&#10;Color: (123, 234, 123)\" style=\"width: 10px; height: 10px;background-color: rgb(123, 234, 123);\"></td><td title=\"Index: [2, 32]&#10;Color: (255, 0, 0)\" style=\"width: 10px; height: 10px;background-color: rgb(255, 0, 0);\"></td><td title=\"Index: [2, 33]&#10;Color: (123, 234, 123)\" style=\"width: 10px; height: 10px;background-color: rgb(123, 234, 123);\"></td><td title=\"Index: [2, 34]&#10;Color: (123, 234, 123)\" style=\"width: 10px; height: 10px;background-color: rgb(123, 234, 123);\"></td><td title=\"Index: [2, 35]&#10;Color: (123, 234, 123)\" style=\"width: 10px; height: 10px;background-color: rgb(123, 234, 123);\"></td><td title=\"Index: [2, 36]&#10;Color: (123, 234, 123)\" style=\"width: 10px; height: 10px;background-color: rgb(123, 234, 123);\"></td><td title=\"Index: [2, 37]&#10;Color: (123, 234, 123)\" style=\"width: 10px; height: 10px;background-color: rgb(123, 234, 123);\"></td><td title=\"Index: [2, 38]&#10;Color: (123, 234, 123)\" style=\"width: 10px; height: 10px;background-color: rgb(123, 234, 123);\"></td><td title=\"Index: [2, 39]&#10;Color: (123, 234, 123)\" style=\"width: 10px; height: 10px;background-color: rgb(123, 234, 123);\"></td></tr><tr><td title=\"Index: [3, 0]&#10;Color: (123, 234, 123)\" style=\"width: 10px; height: 10px;background-color: rgb(123, 234, 123);\"></td><td title=\"Index: [3, 1]&#10;Color: (123, 234, 123)\" style=\"width: 10px; height: 10px;background-color: rgb(123, 234, 123);\"></td><td title=\"Index: [3, 2]&#10;Color: (123, 234, 123)\" style=\"width: 10px; height: 10px;background-color: rgb(123, 234, 123);\"></td><td title=\"Index: [3, 3]&#10;Color: (123, 234, 123)\" style=\"width: 10px; height: 10px;background-color: rgb(123, 234, 123);\"></td><td title=\"Index: [3, 4]&#10;Color: (123, 234, 123)\" style=\"width: 10px; height: 10px;background-color: rgb(123, 234, 123);\"></td><td title=\"Index: [3, 5]&#10;Color: (123, 234, 123)\" style=\"width: 10px; height: 10px;background-color: rgb(123, 234, 123);\"></td><td title=\"Index: [3, 6]&#10;Color: (255, 0, 0)\" style=\"width: 10px; height: 10px;background-color: rgb(255, 0, 0);\"></td><td title=\"Index: [3, 7]&#10;Color: (123, 234, 123)\" style=\"width: 10px; height: 10px;background-color: rgb(123, 234, 123);\"></td><td title=\"Index: [3, 8]&#10;Color: (123, 234, 123)\" style=\"width: 10px; height: 10px;background-color: rgb(123, 234, 123);\"></td><td title=\"Index: [3, 9]&#10;Color: (123, 234, 123)\" style=\"width: 10px; height: 10px;background-color: rgb(123, 234, 123);\"></td><td title=\"Index: [3, 10]&#10;Color: (255, 0, 0)\" style=\"width: 10px; height: 10px;background-color: rgb(255, 0, 0);\"></td><td title=\"Index: [3, 11]&#10;Color: (123, 234, 123)\" style=\"width: 10px; height: 10px;background-color: rgb(123, 234, 123);\"></td><td title=\"Index: [3, 12]&#10;Color: (123, 234, 123)\" style=\"width: 10px; height: 10px;background-color: rgb(123, 234, 123);\"></td><td title=\"Index: [3, 13]&#10;Color: (123, 234, 123)\" style=\"width: 10px; height: 10px;background-color: rgb(123, 234, 123);\"></td><td title=\"Index: [3, 14]&#10;Color: (123, 234, 123)\" style=\"width: 10px; height: 10px;background-color: rgb(123, 234, 123);\"></td><td title=\"Index: [3, 15]&#10;Color: (123, 234, 123)\" style=\"width: 10px; height: 10px;background-color: rgb(123, 234, 123);\"></td><td title=\"Index: [3, 16]&#10;Color: (255, 0, 0)\" style=\"width: 10px; height: 10px;background-color: rgb(255, 0, 0);\"></td><td title=\"Index: [3, 17]&#10;Color: (123, 234, 123)\" style=\"width: 10px; height: 10px;background-color: rgb(123, 234, 123);\"></td><td title=\"Index: [3, 18]&#10;Color: (255, 0, 0)\" style=\"width: 10px; height: 10px;background-color: rgb(255, 0, 0);\"></td><td title=\"Index: [3, 19]&#10;Color: (123, 234, 123)\" style=\"width: 10px; height: 10px;background-color: rgb(123, 234, 123);\"></td><td title=\"Index: [3, 20]&#10;Color: (123, 234, 123)\" style=\"width: 10px; height: 10px;background-color: rgb(123, 234, 123);\"></td><td title=\"Index: [3, 21]&#10;Color: (123, 234, 123)\" style=\"width: 10px; height: 10px;background-color: rgb(123, 234, 123);\"></td><td title=\"Index: [3, 22]&#10;Color: (123, 234, 123)\" style=\"width: 10px; height: 10px;background-color: rgb(123, 234, 123);\"></td><td title=\"Index: [3, 23]&#10;Color: (123, 234, 123)\" style=\"width: 10px; height: 10px;background-color: rgb(123, 234, 123);\"></td><td title=\"Index: [3, 24]&#10;Color: (123, 234, 123)\" style=\"width: 10px; height: 10px;background-color: rgb(123, 234, 123);\"></td><td title=\"Index: [3, 25]&#10;Color: (123, 234, 123)\" style=\"width: 10px; height: 10px;background-color: rgb(123, 234, 123);\"></td><td title=\"Index: [3, 26]&#10;Color: (123, 234, 123)\" style=\"width: 10px; height: 10px;background-color: rgb(123, 234, 123);\"></td><td title=\"Index: [3, 27]&#10;Color: (123, 234, 123)\" style=\"width: 10px; height: 10px;background-color: rgb(123, 234, 123);\"></td><td title=\"Index: [3, 28]&#10;Color: (255, 0, 0)\" style=\"width: 10px; height: 10px;background-color: rgb(255, 0, 0);\"></td><td title=\"Index: [3, 29]&#10;Color: (123, 234, 123)\" style=\"width: 10px; height: 10px;background-color: rgb(123, 234, 123);\"></td><td title=\"Index: [3, 30]&#10;Color: (255, 0, 0)\" style=\"width: 10px; height: 10px;background-color: rgb(255, 0, 0);\"></td><td title=\"Index: [3, 31]&#10;Color: (123, 234, 123)\" style=\"width: 10px; height: 10px;background-color: rgb(123, 234, 123);\"></td><td title=\"Index: [3, 32]&#10;Color: (123, 234, 123)\" style=\"width: 10px; height: 10px;background-color: rgb(123, 234, 123);\"></td><td title=\"Index: [3, 33]&#10;Color: (123, 234, 123)\" style=\"width: 10px; height: 10px;background-color: rgb(123, 234, 123);\"></td><td title=\"Index: [3, 34]&#10;Color: (123, 234, 123)\" style=\"width: 10px; height: 10px;background-color: rgb(123, 234, 123);\"></td><td title=\"Index: [3, 35]&#10;Color: (123, 234, 123)\" style=\"width: 10px; height: 10px;background-color: rgb(123, 234, 123);\"></td><td title=\"Index: [3, 36]&#10;Color: (255, 0, 0)\" style=\"width: 10px; height: 10px;background-color: rgb(255, 0, 0);\"></td><td title=\"Index: [3, 37]&#10;Color: (123, 234, 123)\" style=\"width: 10px; height: 10px;background-color: rgb(123, 234, 123);\"></td><td title=\"Index: [3, 38]&#10;Color: (123, 234, 123)\" style=\"width: 10px; height: 10px;background-color: rgb(123, 234, 123);\"></td><td title=\"Index: [3, 39]&#10;Color: (123, 234, 123)\" style=\"width: 10px; height: 10px;background-color: rgb(123, 234, 123);\"></td></tr><tr><td title=\"Index: [4, 0]&#10;Color: (123, 234, 123)\" style=\"width: 10px; height: 10px;background-color: rgb(123, 234, 123);\"></td><td title=\"Index: [4, 1]&#10;Color: (123, 234, 123)\" style=\"width: 10px; height: 10px;background-color: rgb(123, 234, 123);\"></td><td title=\"Index: [4, 2]&#10;Color: (255, 0, 0)\" style=\"width: 10px; height: 10px;background-color: rgb(255, 0, 0);\"></td><td title=\"Index: [4, 3]&#10;Color: (123, 234, 123)\" style=\"width: 10px; height: 10px;background-color: rgb(123, 234, 123);\"></td><td title=\"Index: [4, 4]&#10;Color: (123, 234, 123)\" style=\"width: 10px; height: 10px;background-color: rgb(123, 234, 123);\"></td><td title=\"Index: [4, 5]&#10;Color: (123, 234, 123)\" style=\"width: 10px; height: 10px;background-color: rgb(123, 234, 123);\"></td><td title=\"Index: [4, 6]&#10;Color: (255, 0, 0)\" style=\"width: 10px; height: 10px;background-color: rgb(255, 0, 0);\"></td><td title=\"Index: [4, 7]&#10;Color: (123, 234, 123)\" style=\"width: 10px; height: 10px;background-color: rgb(123, 234, 123);\"></td><td title=\"Index: [4, 8]&#10;Color: (123, 234, 123)\" style=\"width: 10px; height: 10px;background-color: rgb(123, 234, 123);\"></td><td title=\"Index: [4, 9]&#10;Color: (123, 234, 123)\" style=\"width: 10px; height: 10px;background-color: rgb(123, 234, 123);\"></td><td title=\"Index: [4, 10]&#10;Color: (123, 234, 123)\" style=\"width: 10px; height: 10px;background-color: rgb(123, 234, 123);\"></td><td title=\"Index: [4, 11]&#10;Color: (123, 234, 123)\" style=\"width: 10px; height: 10px;background-color: rgb(123, 234, 123);\"></td><td title=\"Index: [4, 12]&#10;Color: (255, 0, 0)\" style=\"width: 10px; height: 10px;background-color: rgb(255, 0, 0);\"></td><td title=\"Index: [4, 13]&#10;Color: (123, 234, 123)\" style=\"width: 10px; height: 10px;background-color: rgb(123, 234, 123);\"></td><td title=\"Index: [4, 14]&#10;Color: (123, 234, 123)\" style=\"width: 10px; height: 10px;background-color: rgb(123, 234, 123);\"></td><td title=\"Index: [4, 15]&#10;Color: (123, 234, 123)\" style=\"width: 10px; height: 10px;background-color: rgb(123, 234, 123);\"></td><td title=\"Index: [4, 16]&#10;Color: (123, 234, 123)\" style=\"width: 10px; height: 10px;background-color: rgb(123, 234, 123);\"></td><td title=\"Index: [4, 17]&#10;Color: (123, 234, 123)\" style=\"width: 10px; height: 10px;background-color: rgb(123, 234, 123);\"></td><td title=\"Index: [4, 18]&#10;Color: (255, 0, 0)\" style=\"width: 10px; height: 10px;background-color: rgb(255, 0, 0);\"></td><td title=\"Index: [4, 19]&#10;Color: (123, 234, 123)\" style=\"width: 10px; height: 10px;background-color: rgb(123, 234, 123);\"></td><td title=\"Index: [4, 20]&#10;Color: (255, 0, 0)\" style=\"width: 10px; height: 10px;background-color: rgb(255, 0, 0);\"></td><td title=\"Index: [4, 21]&#10;Color: (123, 234, 123)\" style=\"width: 10px; height: 10px;background-color: rgb(123, 234, 123);\"></td><td title=\"Index: [4, 22]&#10;Color: (123, 234, 123)\" style=\"width: 10px; height: 10px;background-color: rgb(123, 234, 123);\"></td><td title=\"Index: [4, 23]&#10;Color: (123, 234, 123)\" style=\"width: 10px; height: 10px;background-color: rgb(123, 234, 123);\"></td><td title=\"Index: [4, 24]&#10;Color: (123, 234, 123)\" style=\"width: 10px; height: 10px;background-color: rgb(123, 234, 123);\"></td><td title=\"Index: [4, 25]&#10;Color: (123, 234, 123)\" style=\"width: 10px; height: 10px;background-color: rgb(123, 234, 123);\"></td><td title=\"Index: [4, 26]&#10;Color: (123, 234, 123)\" style=\"width: 10px; height: 10px;background-color: rgb(123, 234, 123);\"></td><td title=\"Index: [4, 27]&#10;Color: (123, 234, 123)\" style=\"width: 10px; height: 10px;background-color: rgb(123, 234, 123);\"></td><td title=\"Index: [4, 28]&#10;Color: (123, 234, 123)\" style=\"width: 10px; height: 10px;background-color: rgb(123, 234, 123);\"></td><td title=\"Index: [4, 29]&#10;Color: (123, 234, 123)\" style=\"width: 10px; height: 10px;background-color: rgb(123, 234, 123);\"></td><td title=\"Index: [4, 30]&#10;Color: (255, 0, 0)\" style=\"width: 10px; height: 10px;background-color: rgb(255, 0, 0);\"></td><td title=\"Index: [4, 31]&#10;Color: (123, 234, 123)\" style=\"width: 10px; height: 10px;background-color: rgb(123, 234, 123);\"></td><td title=\"Index: [4, 32]&#10;Color: (255, 0, 0)\" style=\"width: 10px; height: 10px;background-color: rgb(255, 0, 0);\"></td><td title=\"Index: [4, 33]&#10;Color: (123, 234, 123)\" style=\"width: 10px; height: 10px;background-color: rgb(123, 234, 123);\"></td><td title=\"Index: [4, 34]&#10;Color: (123, 234, 123)\" style=\"width: 10px; height: 10px;background-color: rgb(123, 234, 123);\"></td><td title=\"Index: [4, 35]&#10;Color: (123, 234, 123)\" style=\"width: 10px; height: 10px;background-color: rgb(123, 234, 123);\"></td><td title=\"Index: [4, 36]&#10;Color: (255, 0, 0)\" style=\"width: 10px; height: 10px;background-color: rgb(255, 0, 0);\"></td><td title=\"Index: [4, 37]&#10;Color: (123, 234, 123)\" style=\"width: 10px; height: 10px;background-color: rgb(123, 234, 123);\"></td><td title=\"Index: [4, 38]&#10;Color: (255, 0, 0)\" style=\"width: 10px; height: 10px;background-color: rgb(255, 0, 0);\"></td><td title=\"Index: [4, 39]&#10;Color: (123, 234, 123)\" style=\"width: 10px; height: 10px;background-color: rgb(123, 234, 123);\"></td></tr><tr><td title=\"Index: [5, 0]&#10;Color: (123, 234, 123)\" style=\"width: 10px; height: 10px;background-color: rgb(123, 234, 123);\"></td><td title=\"Index: [5, 1]&#10;Color: (123, 234, 123)\" style=\"width: 10px; height: 10px;background-color: rgb(123, 234, 123);\"></td><td title=\"Index: [5, 2]&#10;Color: (123, 234, 123)\" style=\"width: 10px; height: 10px;background-color: rgb(123, 234, 123);\"></td><td title=\"Index: [5, 3]&#10;Color: (123, 234, 123)\" style=\"width: 10px; height: 10px;background-color: rgb(123, 234, 123);\"></td><td title=\"Index: [5, 4]&#10;Color: (123, 234, 123)\" style=\"width: 10px; height: 10px;background-color: rgb(123, 234, 123);\"></td><td title=\"Index: [5, 5]&#10;Color: (123, 234, 123)\" style=\"width: 10px; height: 10px;background-color: rgb(123, 234, 123);\"></td><td title=\"Index: [5, 6]&#10;Color: (123, 234, 123)\" style=\"width: 10px; height: 10px;background-color: rgb(123, 234, 123);\"></td><td title=\"Index: [5, 7]&#10;Color: (123, 234, 123)\" style=\"width: 10px; height: 10px;background-color: rgb(123, 234, 123);\"></td><td title=\"Index: [5, 8]&#10;Color: (123, 234, 123)\" style=\"width: 10px; height: 10px;background-color: rgb(123, 234, 123);\"></td><td title=\"Index: [5, 9]&#10;Color: (123, 234, 123)\" style=\"width: 10px; height: 10px;background-color: rgb(123, 234, 123);\"></td><td title=\"Index: [5, 10]&#10;Color: (255, 0, 0)\" style=\"width: 10px; height: 10px;background-color: rgb(255, 0, 0);\"></td><td title=\"Index: [5, 11]&#10;Color: (123, 234, 123)\" style=\"width: 10px; height: 10px;background-color: rgb(123, 234, 123);\"></td><td title=\"Index: [5, 12]&#10;Color: (123, 234, 123)\" style=\"width: 10px; height: 10px;background-color: rgb(123, 234, 123);\"></td><td title=\"Index: [5, 13]&#10;Color: (123, 234, 123)\" style=\"width: 10px; height: 10px;background-color: rgb(123, 234, 123);\"></td><td title=\"Index: [5, 14]&#10;Color: (123, 234, 123)\" style=\"width: 10px; height: 10px;background-color: rgb(123, 234, 123);\"></td><td title=\"Index: [5, 15]&#10;Color: (123, 234, 123)\" style=\"width: 10px; height: 10px;background-color: rgb(123, 234, 123);\"></td><td title=\"Index: [5, 16]&#10;Color: (123, 234, 123)\" style=\"width: 10px; height: 10px;background-color: rgb(123, 234, 123);\"></td><td title=\"Index: [5, 17]&#10;Color: (123, 234, 123)\" style=\"width: 10px; height: 10px;background-color: rgb(123, 234, 123);\"></td><td title=\"Index: [5, 18]&#10;Color: (123, 234, 123)\" style=\"width: 10px; height: 10px;background-color: rgb(123, 234, 123);\"></td><td title=\"Index: [5, 19]&#10;Color: (123, 234, 123)\" style=\"width: 10px; height: 10px;background-color: rgb(123, 234, 123);\"></td><td title=\"Index: [5, 20]&#10;Color: (123, 234, 123)\" style=\"width: 10px; height: 10px;background-color: rgb(123, 234, 123);\"></td><td title=\"Index: [5, 21]&#10;Color: (123, 234, 123)\" style=\"width: 10px; height: 10px;background-color: rgb(123, 234, 123);\"></td><td title=\"Index: [5, 22]&#10;Color: (255, 0, 0)\" style=\"width: 10px; height: 10px;background-color: rgb(255, 0, 0);\"></td><td title=\"Index: [5, 23]&#10;Color: (123, 234, 123)\" style=\"width: 10px; height: 10px;background-color: rgb(123, 234, 123);\"></td><td title=\"Index: [5, 24]&#10;Color: (123, 234, 123)\" style=\"width: 10px; height: 10px;background-color: rgb(123, 234, 123);\"></td><td title=\"Index: [5, 25]&#10;Color: (123, 234, 123)\" style=\"width: 10px; height: 10px;background-color: rgb(123, 234, 123);\"></td><td title=\"Index: [5, 26]&#10;Color: (255, 0, 0)\" style=\"width: 10px; height: 10px;background-color: rgb(255, 0, 0);\"></td><td title=\"Index: [5, 27]&#10;Color: (123, 234, 123)\" style=\"width: 10px; height: 10px;background-color: rgb(123, 234, 123);\"></td><td title=\"Index: [5, 28]&#10;Color: (255, 0, 0)\" style=\"width: 10px; height: 10px;background-color: rgb(255, 0, 0);\"></td><td title=\"Index: [5, 29]&#10;Color: (123, 234, 123)\" style=\"width: 10px; height: 10px;background-color: rgb(123, 234, 123);\"></td><td title=\"Index: [5, 30]&#10;Color: (123, 234, 123)\" style=\"width: 10px; height: 10px;background-color: rgb(123, 234, 123);\"></td><td title=\"Index: [5, 31]&#10;Color: (123, 234, 123)\" style=\"width: 10px; height: 10px;background-color: rgb(123, 234, 123);\"></td><td title=\"Index: [5, 32]&#10;Color: (255, 0, 0)\" style=\"width: 10px; height: 10px;background-color: rgb(255, 0, 0);\"></td><td title=\"Index: [5, 33]&#10;Color: (123, 234, 123)\" style=\"width: 10px; height: 10px;background-color: rgb(123, 234, 123);\"></td><td title=\"Index: [5, 34]&#10;Color: (123, 234, 123)\" style=\"width: 10px; height: 10px;background-color: rgb(123, 234, 123);\"></td><td title=\"Index: [5, 35]&#10;Color: (123, 234, 123)\" style=\"width: 10px; height: 10px;background-color: rgb(123, 234, 123);\"></td><td title=\"Index: [5, 36]&#10;Color: (123, 234, 123)\" style=\"width: 10px; height: 10px;background-color: rgb(123, 234, 123);\"></td><td title=\"Index: [5, 37]&#10;Color: (123, 234, 123)\" style=\"width: 10px; height: 10px;background-color: rgb(123, 234, 123);\"></td><td title=\"Index: [5, 38]&#10;Color: (255, 0, 0)\" style=\"width: 10px; height: 10px;background-color: rgb(255, 0, 0);\"></td><td title=\"Index: [5, 39]&#10;Color: (123, 234, 123)\" style=\"width: 10px; height: 10px;background-color: rgb(123, 234, 123);\"></td></tr><tr><td title=\"Index: [6, 0]&#10;Color: (255, 0, 0)\" style=\"width: 10px; height: 10px;background-color: rgb(255, 0, 0);\"></td><td title=\"Index: [6, 1]&#10;Color: (123, 234, 123)\" style=\"width: 10px; height: 10px;background-color: rgb(123, 234, 123);\"></td><td title=\"Index: [6, 2]&#10;Color: (123, 234, 123)\" style=\"width: 10px; height: 10px;background-color: rgb(123, 234, 123);\"></td><td title=\"Index: [6, 3]&#10;Color: (123, 234, 123)\" style=\"width: 10px; height: 10px;background-color: rgb(123, 234, 123);\"></td><td title=\"Index: [6, 4]&#10;Color: (123, 234, 123)\" style=\"width: 10px; height: 10px;background-color: rgb(123, 234, 123);\"></td><td title=\"Index: [6, 5]&#10;Color: (123, 234, 123)\" style=\"width: 10px; height: 10px;background-color: rgb(123, 234, 123);\"></td><td title=\"Index: [6, 6]&#10;Color: (123, 234, 123)\" style=\"width: 10px; height: 10px;background-color: rgb(123, 234, 123);\"></td><td title=\"Index: [6, 7]&#10;Color: (123, 234, 123)\" style=\"width: 10px; height: 10px;background-color: rgb(123, 234, 123);\"></td><td title=\"Index: [6, 8]&#10;Color: (123, 234, 123)\" style=\"width: 10px; height: 10px;background-color: rgb(123, 234, 123);\"></td><td title=\"Index: [6, 9]&#10;Color: (123, 234, 123)\" style=\"width: 10px; height: 10px;background-color: rgb(123, 234, 123);\"></td><td title=\"Index: [6, 10]&#10;Color: (255, 0, 0)\" style=\"width: 10px; height: 10px;background-color: rgb(255, 0, 0);\"></td><td title=\"Index: [6, 11]&#10;Color: (123, 234, 123)\" style=\"width: 10px; height: 10px;background-color: rgb(123, 234, 123);\"></td><td title=\"Index: [6, 12]&#10;Color: (123, 234, 123)\" style=\"width: 10px; height: 10px;background-color: rgb(123, 234, 123);\"></td><td title=\"Index: [6, 13]&#10;Color: (123, 234, 123)\" style=\"width: 10px; height: 10px;background-color: rgb(123, 234, 123);\"></td><td title=\"Index: [6, 14]&#10;Color: (123, 234, 123)\" style=\"width: 10px; height: 10px;background-color: rgb(123, 234, 123);\"></td><td title=\"Index: [6, 15]&#10;Color: (123, 234, 123)\" style=\"width: 10px; height: 10px;background-color: rgb(123, 234, 123);\"></td><td title=\"Index: [6, 16]&#10;Color: (255, 0, 0)\" style=\"width: 10px; height: 10px;background-color: rgb(255, 0, 0);\"></td><td title=\"Index: [6, 17]&#10;Color: (123, 234, 123)\" style=\"width: 10px; height: 10px;background-color: rgb(123, 234, 123);\"></td><td title=\"Index: [6, 18]&#10;Color: (123, 234, 123)\" style=\"width: 10px; height: 10px;background-color: rgb(123, 234, 123);\"></td><td title=\"Index: [6, 19]&#10;Color: (123, 234, 123)\" style=\"width: 10px; height: 10px;background-color: rgb(123, 234, 123);\"></td><td title=\"Index: [6, 20]&#10;Color: (123, 234, 123)\" style=\"width: 10px; height: 10px;background-color: rgb(123, 234, 123);\"></td><td title=\"Index: [6, 21]&#10;Color: (123, 234, 123)\" style=\"width: 10px; height: 10px;background-color: rgb(123, 234, 123);\"></td><td title=\"Index: [6, 22]&#10;Color: (255, 0, 0)\" style=\"width: 10px; height: 10px;background-color: rgb(255, 0, 0);\"></td><td title=\"Index: [6, 23]&#10;Color: (123, 234, 123)\" style=\"width: 10px; height: 10px;background-color: rgb(123, 234, 123);\"></td><td title=\"Index: [6, 24]&#10;Color: (123, 234, 123)\" style=\"width: 10px; height: 10px;background-color: rgb(123, 234, 123);\"></td><td title=\"Index: [6, 25]&#10;Color: (123, 234, 123)\" style=\"width: 10px; height: 10px;background-color: rgb(123, 234, 123);\"></td><td title=\"Index: [6, 26]&#10;Color: (123, 234, 123)\" style=\"width: 10px; height: 10px;background-color: rgb(123, 234, 123);\"></td><td title=\"Index: [6, 27]&#10;Color: (123, 234, 123)\" style=\"width: 10px; height: 10px;background-color: rgb(123, 234, 123);\"></td><td title=\"Index: [6, 28]&#10;Color: (255, 0, 0)\" style=\"width: 10px; height: 10px;background-color: rgb(255, 0, 0);\"></td><td title=\"Index: [6, 29]&#10;Color: (123, 234, 123)\" style=\"width: 10px; height: 10px;background-color: rgb(123, 234, 123);\"></td><td title=\"Index: [6, 30]&#10;Color: (255, 0, 0)\" style=\"width: 10px; height: 10px;background-color: rgb(255, 0, 0);\"></td><td title=\"Index: [6, 31]&#10;Color: (123, 234, 123)\" style=\"width: 10px; height: 10px;background-color: rgb(123, 234, 123);\"></td><td title=\"Index: [6, 32]&#10;Color: (123, 234, 123)\" style=\"width: 10px; height: 10px;background-color: rgb(123, 234, 123);\"></td><td title=\"Index: [6, 33]&#10;Color: (123, 234, 123)\" style=\"width: 10px; height: 10px;background-color: rgb(123, 234, 123);\"></td><td title=\"Index: [6, 34]&#10;Color: (123, 234, 123)\" style=\"width: 10px; height: 10px;background-color: rgb(123, 234, 123);\"></td><td title=\"Index: [6, 35]&#10;Color: (123, 234, 123)\" style=\"width: 10px; height: 10px;background-color: rgb(123, 234, 123);\"></td><td title=\"Index: [6, 36]&#10;Color: (255, 0, 0)\" style=\"width: 10px; height: 10px;background-color: rgb(255, 0, 0);\"></td><td title=\"Index: [6, 37]&#10;Color: (123, 234, 123)\" style=\"width: 10px; height: 10px;background-color: rgb(123, 234, 123);\"></td><td title=\"Index: [6, 38]&#10;Color: (123, 234, 123)\" style=\"width: 10px; height: 10px;background-color: rgb(123, 234, 123);\"></td><td title=\"Index: [6, 39]&#10;Color: (123, 234, 123)\" style=\"width: 10px; height: 10px;background-color: rgb(123, 234, 123);\"></td></tr><tr><td title=\"Index: [7, 0]&#10;Color: (255, 0, 0)\" style=\"width: 10px; height: 10px;background-color: rgb(255, 0, 0);\"></td><td title=\"Index: [7, 1]&#10;Color: (123, 234, 123)\" style=\"width: 10px; height: 10px;background-color: rgb(123, 234, 123);\"></td><td title=\"Index: [7, 2]&#10;Color: (255, 0, 0)\" style=\"width: 10px; height: 10px;background-color: rgb(255, 0, 0);\"></td><td title=\"Index: [7, 3]&#10;Color: (123, 234, 123)\" style=\"width: 10px; height: 10px;background-color: rgb(123, 234, 123);\"></td><td title=\"Index: [7, 4]&#10;Color: (123, 234, 123)\" style=\"width: 10px; height: 10px;background-color: rgb(123, 234, 123);\"></td><td title=\"Index: [7, 5]&#10;Color: (123, 234, 123)\" style=\"width: 10px; height: 10px;background-color: rgb(123, 234, 123);\"></td><td title=\"Index: [7, 6]&#10;Color: (123, 234, 123)\" style=\"width: 10px; height: 10px;background-color: rgb(123, 234, 123);\"></td><td title=\"Index: [7, 7]&#10;Color: (123, 234, 123)\" style=\"width: 10px; height: 10px;background-color: rgb(123, 234, 123);\"></td><td title=\"Index: [7, 8]&#10;Color: (123, 234, 123)\" style=\"width: 10px; height: 10px;background-color: rgb(123, 234, 123);\"></td><td title=\"Index: [7, 9]&#10;Color: (123, 234, 123)\" style=\"width: 10px; height: 10px;background-color: rgb(123, 234, 123);\"></td><td title=\"Index: [7, 10]&#10;Color: (123, 234, 123)\" style=\"width: 10px; height: 10px;background-color: rgb(123, 234, 123);\"></td><td title=\"Index: [7, 11]&#10;Color: (123, 234, 123)\" style=\"width: 10px; height: 10px;background-color: rgb(123, 234, 123);\"></td><td title=\"Index: [7, 12]&#10;Color: (255, 0, 0)\" style=\"width: 10px; height: 10px;background-color: rgb(255, 0, 0);\"></td><td title=\"Index: [7, 13]&#10;Color: (123, 234, 123)\" style=\"width: 10px; height: 10px;background-color: rgb(123, 234, 123);\"></td><td title=\"Index: [7, 14]&#10;Color: (123, 234, 123)\" style=\"width: 10px; height: 10px;background-color: rgb(123, 234, 123);\"></td><td title=\"Index: [7, 15]&#10;Color: (123, 234, 123)\" style=\"width: 10px; height: 10px;background-color: rgb(123, 234, 123);\"></td><td title=\"Index: [7, 16]&#10;Color: (123, 234, 123)\" style=\"width: 10px; height: 10px;background-color: rgb(123, 234, 123);\"></td><td title=\"Index: [7, 17]&#10;Color: (123, 234, 123)\" style=\"width: 10px; height: 10px;background-color: rgb(123, 234, 123);\"></td><td title=\"Index: [7, 18]&#10;Color: (123, 234, 123)\" style=\"width: 10px; height: 10px;background-color: rgb(123, 234, 123);\"></td><td title=\"Index: [7, 19]&#10;Color: (123, 234, 123)\" style=\"width: 10px; height: 10px;background-color: rgb(123, 234, 123);\"></td><td title=\"Index: [7, 20]&#10;Color: (123, 234, 123)\" style=\"width: 10px; height: 10px;background-color: rgb(123, 234, 123);\"></td><td title=\"Index: [7, 21]&#10;Color: (123, 234, 123)\" style=\"width: 10px; height: 10px;background-color: rgb(123, 234, 123);\"></td><td title=\"Index: [7, 22]&#10;Color: (123, 234, 123)\" style=\"width: 10px; height: 10px;background-color: rgb(123, 234, 123);\"></td><td title=\"Index: [7, 23]&#10;Color: (123, 234, 123)\" style=\"width: 10px; height: 10px;background-color: rgb(123, 234, 123);\"></td><td title=\"Index: [7, 24]&#10;Color: (123, 234, 123)\" style=\"width: 10px; height: 10px;background-color: rgb(123, 234, 123);\"></td><td title=\"Index: [7, 25]&#10;Color: (123, 234, 123)\" style=\"width: 10px; height: 10px;background-color: rgb(123, 234, 123);\"></td><td title=\"Index: [7, 26]&#10;Color: (255, 0, 0)\" style=\"width: 10px; height: 10px;background-color: rgb(255, 0, 0);\"></td><td title=\"Index: [7, 27]&#10;Color: (123, 234, 123)\" style=\"width: 10px; height: 10px;background-color: rgb(123, 234, 123);\"></td><td title=\"Index: [7, 28]&#10;Color: (123, 234, 123)\" style=\"width: 10px; height: 10px;background-color: rgb(123, 234, 123);\"></td><td title=\"Index: [7, 29]&#10;Color: (123, 234, 123)\" style=\"width: 10px; height: 10px;background-color: rgb(123, 234, 123);\"></td><td title=\"Index: [7, 30]&#10;Color: (255, 0, 0)\" style=\"width: 10px; height: 10px;background-color: rgb(255, 0, 0);\"></td><td title=\"Index: [7, 31]&#10;Color: (123, 234, 123)\" style=\"width: 10px; height: 10px;background-color: rgb(123, 234, 123);\"></td><td title=\"Index: [7, 32]&#10;Color: (255, 0, 0)\" style=\"width: 10px; height: 10px;background-color: rgb(255, 0, 0);\"></td><td title=\"Index: [7, 33]&#10;Color: (123, 234, 123)\" style=\"width: 10px; height: 10px;background-color: rgb(123, 234, 123);\"></td><td title=\"Index: [7, 34]&#10;Color: (123, 234, 123)\" style=\"width: 10px; height: 10px;background-color: rgb(123, 234, 123);\"></td><td title=\"Index: [7, 35]&#10;Color: (123, 234, 123)\" style=\"width: 10px; height: 10px;background-color: rgb(123, 234, 123);\"></td><td title=\"Index: [7, 36]&#10;Color: (255, 0, 0)\" style=\"width: 10px; height: 10px;background-color: rgb(255, 0, 0);\"></td><td title=\"Index: [7, 37]&#10;Color: (123, 234, 123)\" style=\"width: 10px; height: 10px;background-color: rgb(123, 234, 123);\"></td><td title=\"Index: [7, 38]&#10;Color: (123, 234, 123)\" style=\"width: 10px; height: 10px;background-color: rgb(123, 234, 123);\"></td><td title=\"Index: [7, 39]&#10;Color: (123, 234, 123)\" style=\"width: 10px; height: 10px;background-color: rgb(123, 234, 123);\"></td></tr><tr><td title=\"Index: [8, 0]&#10;Color: (123, 234, 123)\" style=\"width: 10px; height: 10px;background-color: rgb(123, 234, 123);\"></td><td title=\"Index: [8, 1]&#10;Color: (123, 234, 123)\" style=\"width: 10px; height: 10px;background-color: rgb(123, 234, 123);\"></td><td title=\"Index: [8, 2]&#10;Color: (123, 234, 123)\" style=\"width: 10px; height: 10px;background-color: rgb(123, 234, 123);\"></td><td title=\"Index: [8, 3]&#10;Color: (123, 234, 123)\" style=\"width: 10px; height: 10px;background-color: rgb(123, 234, 123);\"></td><td title=\"Index: [8, 4]&#10;Color: (123, 234, 123)\" style=\"width: 10px; height: 10px;background-color: rgb(123, 234, 123);\"></td><td title=\"Index: [8, 5]&#10;Color: (123, 234, 123)\" style=\"width: 10px; height: 10px;background-color: rgb(123, 234, 123);\"></td><td title=\"Index: [8, 6]&#10;Color: (123, 234, 123)\" style=\"width: 10px; height: 10px;background-color: rgb(123, 234, 123);\"></td><td title=\"Index: [8, 7]&#10;Color: (123, 234, 123)\" style=\"width: 10px; height: 10px;background-color: rgb(123, 234, 123);\"></td><td title=\"Index: [8, 8]&#10;Color: (123, 234, 123)\" style=\"width: 10px; height: 10px;background-color: rgb(123, 234, 123);\"></td><td title=\"Index: [8, 9]&#10;Color: (123, 234, 123)\" style=\"width: 10px; height: 10px;background-color: rgb(123, 234, 123);\"></td><td title=\"Index: [8, 10]&#10;Color: (255, 0, 0)\" style=\"width: 10px; height: 10px;background-color: rgb(255, 0, 0);\"></td><td title=\"Index: [8, 11]&#10;Color: (123, 234, 123)\" style=\"width: 10px; height: 10px;background-color: rgb(123, 234, 123);\"></td><td title=\"Index: [8, 12]&#10;Color: (123, 234, 123)\" style=\"width: 10px; height: 10px;background-color: rgb(123, 234, 123);\"></td><td title=\"Index: [8, 13]&#10;Color: (123, 234, 123)\" style=\"width: 10px; height: 10px;background-color: rgb(123, 234, 123);\"></td><td title=\"Index: [8, 14]&#10;Color: (123, 234, 123)\" style=\"width: 10px; height: 10px;background-color: rgb(123, 234, 123);\"></td><td title=\"Index: [8, 15]&#10;Color: (123, 234, 123)\" style=\"width: 10px; height: 10px;background-color: rgb(123, 234, 123);\"></td><td title=\"Index: [8, 16]&#10;Color: (255, 0, 0)\" style=\"width: 10px; height: 10px;background-color: rgb(255, 0, 0);\"></td><td title=\"Index: [8, 17]&#10;Color: (123, 234, 123)\" style=\"width: 10px; height: 10px;background-color: rgb(123, 234, 123);\"></td><td title=\"Index: [8, 18]&#10;Color: (123, 234, 123)\" style=\"width: 10px; height: 10px;background-color: rgb(123, 234, 123);\"></td><td title=\"Index: [8, 19]&#10;Color: (123, 234, 123)\" style=\"width: 10px; height: 10px;background-color: rgb(123, 234, 123);\"></td><td title=\"Index: [8, 20]&#10;Color: (123, 234, 123)\" style=\"width: 10px; height: 10px;background-color: rgb(123, 234, 123);\"></td><td title=\"Index: [8, 21]&#10;Color: (123, 234, 123)\" style=\"width: 10px; height: 10px;background-color: rgb(123, 234, 123);\"></td><td title=\"Index: [8, 22]&#10;Color: (123, 234, 123)\" style=\"width: 10px; height: 10px;background-color: rgb(123, 234, 123);\"></td><td title=\"Index: [8, 23]&#10;Color: (123, 234, 123)\" style=\"width: 10px; height: 10px;background-color: rgb(123, 234, 123);\"></td><td title=\"Index: [8, 24]&#10;Color: (123, 234, 123)\" style=\"width: 10px; height: 10px;background-color: rgb(123, 234, 123);\"></td><td title=\"Index: [8, 25]&#10;Color: (123, 234, 123)\" style=\"width: 10px; height: 10px;background-color: rgb(123, 234, 123);\"></td><td title=\"Index: [8, 26]&#10;Color: (255, 0, 0)\" style=\"width: 10px; height: 10px;background-color: rgb(255, 0, 0);\"></td><td title=\"Index: [8, 27]&#10;Color: (123, 234, 123)\" style=\"width: 10px; height: 10px;background-color: rgb(123, 234, 123);\"></td><td title=\"Index: [8, 28]&#10;Color: (255, 0, 0)\" style=\"width: 10px; height: 10px;background-color: rgb(255, 0, 0);\"></td><td title=\"Index: [8, 29]&#10;Color: (123, 234, 123)\" style=\"width: 10px; height: 10px;background-color: rgb(123, 234, 123);\"></td><td title=\"Index: [8, 30]&#10;Color: (123, 234, 123)\" style=\"width: 10px; height: 10px;background-color: rgb(123, 234, 123);\"></td><td title=\"Index: [8, 31]&#10;Color: (123, 234, 123)\" style=\"width: 10px; height: 10px;background-color: rgb(123, 234, 123);\"></td><td title=\"Index: [8, 32]&#10;Color: (255, 0, 0)\" style=\"width: 10px; height: 10px;background-color: rgb(255, 0, 0);\"></td><td title=\"Index: [8, 33]&#10;Color: (123, 234, 123)\" style=\"width: 10px; height: 10px;background-color: rgb(123, 234, 123);\"></td><td title=\"Index: [8, 34]&#10;Color: (123, 234, 123)\" style=\"width: 10px; height: 10px;background-color: rgb(123, 234, 123);\"></td><td title=\"Index: [8, 35]&#10;Color: (123, 234, 123)\" style=\"width: 10px; height: 10px;background-color: rgb(123, 234, 123);\"></td><td title=\"Index: [8, 36]&#10;Color: (123, 234, 123)\" style=\"width: 10px; height: 10px;background-color: rgb(123, 234, 123);\"></td><td title=\"Index: [8, 37]&#10;Color: (123, 234, 123)\" style=\"width: 10px; height: 10px;background-color: rgb(123, 234, 123);\"></td><td title=\"Index: [8, 38]&#10;Color: (255, 0, 0)\" style=\"width: 10px; height: 10px;background-color: rgb(255, 0, 0);\"></td><td title=\"Index: [8, 39]&#10;Color: (123, 234, 123)\" style=\"width: 10px; height: 10px;background-color: rgb(123, 234, 123);\"></td></tr><tr><td title=\"Index: [9, 0]&#10;Color: (123, 234, 123)\" style=\"width: 10px; height: 10px;background-color: rgb(123, 234, 123);\"></td><td title=\"Index: [9, 1]&#10;Color: (123, 234, 123)\" style=\"width: 10px; height: 10px;background-color: rgb(123, 234, 123);\"></td><td title=\"Index: [9, 2]&#10;Color: (123, 234, 123)\" style=\"width: 10px; height: 10px;background-color: rgb(123, 234, 123);\"></td><td title=\"Index: [9, 3]&#10;Color: (123, 234, 123)\" style=\"width: 10px; height: 10px;background-color: rgb(123, 234, 123);\"></td><td title=\"Index: [9, 4]&#10;Color: (123, 234, 123)\" style=\"width: 10px; height: 10px;background-color: rgb(123, 234, 123);\"></td><td title=\"Index: [9, 5]&#10;Color: (123, 234, 123)\" style=\"width: 10px; height: 10px;background-color: rgb(123, 234, 123);\"></td><td title=\"Index: [9, 6]&#10;Color: (255, 0, 0)\" style=\"width: 10px; height: 10px;background-color: rgb(255, 0, 0);\"></td><td title=\"Index: [9, 7]&#10;Color: (123, 234, 123)\" style=\"width: 10px; height: 10px;background-color: rgb(123, 234, 123);\"></td><td title=\"Index: [9, 8]&#10;Color: (123, 234, 123)\" style=\"width: 10px; height: 10px;background-color: rgb(123, 234, 123);\"></td><td title=\"Index: [9, 9]&#10;Color: (123, 234, 123)\" style=\"width: 10px; height: 10px;background-color: rgb(123, 234, 123);\"></td><td title=\"Index: [9, 10]&#10;Color: (123, 234, 123)\" style=\"width: 10px; height: 10px;background-color: rgb(123, 234, 123);\"></td><td title=\"Index: [9, 11]&#10;Color: (123, 234, 123)\" style=\"width: 10px; height: 10px;background-color: rgb(123, 234, 123);\"></td><td title=\"Index: [9, 12]&#10;Color: (255, 0, 0)\" style=\"width: 10px; height: 10px;background-color: rgb(255, 0, 0);\"></td><td title=\"Index: [9, 13]&#10;Color: (123, 234, 123)\" style=\"width: 10px; height: 10px;background-color: rgb(123, 234, 123);\"></td><td title=\"Index: [9, 14]&#10;Color: (123, 234, 123)\" style=\"width: 10px; height: 10px;background-color: rgb(123, 234, 123);\"></td><td title=\"Index: [9, 15]&#10;Color: (123, 234, 123)\" style=\"width: 10px; height: 10px;background-color: rgb(123, 234, 123);\"></td><td title=\"Index: [9, 16]&#10;Color: (123, 234, 123)\" style=\"width: 10px; height: 10px;background-color: rgb(123, 234, 123);\"></td><td title=\"Index: [9, 17]&#10;Color: (123, 234, 123)\" style=\"width: 10px; height: 10px;background-color: rgb(123, 234, 123);\"></td><td title=\"Index: [9, 18]&#10;Color: (255, 0, 0)\" style=\"width: 10px; height: 10px;background-color: rgb(255, 0, 0);\"></td><td title=\"Index: [9, 19]&#10;Color: (123, 234, 123)\" style=\"width: 10px; height: 10px;background-color: rgb(123, 234, 123);\"></td><td title=\"Index: [9, 20]&#10;Color: (123, 234, 123)\" style=\"width: 10px; height: 10px;background-color: rgb(123, 234, 123);\"></td><td title=\"Index: [9, 21]&#10;Color: (123, 234, 123)\" style=\"width: 10px; height: 10px;background-color: rgb(123, 234, 123);\"></td><td title=\"Index: [9, 22]&#10;Color: (255, 0, 0)\" style=\"width: 10px; height: 10px;background-color: rgb(255, 0, 0);\"></td><td title=\"Index: [9, 23]&#10;Color: (123, 234, 123)\" style=\"width: 10px; height: 10px;background-color: rgb(123, 234, 123);\"></td><td title=\"Index: [9, 24]&#10;Color: (123, 234, 123)\" style=\"width: 10px; height: 10px;background-color: rgb(123, 234, 123);\"></td><td title=\"Index: [9, 25]&#10;Color: (123, 234, 123)\" style=\"width: 10px; height: 10px;background-color: rgb(123, 234, 123);\"></td><td title=\"Index: [9, 26]&#10;Color: (123, 234, 123)\" style=\"width: 10px; height: 10px;background-color: rgb(123, 234, 123);\"></td><td title=\"Index: [9, 27]&#10;Color: (123, 234, 123)\" style=\"width: 10px; height: 10px;background-color: rgb(123, 234, 123);\"></td><td title=\"Index: [9, 28]&#10;Color: (255, 0, 0)\" style=\"width: 10px; height: 10px;background-color: rgb(255, 0, 0);\"></td><td title=\"Index: [9, 29]&#10;Color: (123, 234, 123)\" style=\"width: 10px; height: 10px;background-color: rgb(123, 234, 123);\"></td><td title=\"Index: [9, 30]&#10;Color: (123, 234, 123)\" style=\"width: 10px; height: 10px;background-color: rgb(123, 234, 123);\"></td><td title=\"Index: [9, 31]&#10;Color: (123, 234, 123)\" style=\"width: 10px; height: 10px;background-color: rgb(123, 234, 123);\"></td><td title=\"Index: [9, 32]&#10;Color: (123, 234, 123)\" style=\"width: 10px; height: 10px;background-color: rgb(123, 234, 123);\"></td><td title=\"Index: [9, 33]&#10;Color: (123, 234, 123)\" style=\"width: 10px; height: 10px;background-color: rgb(123, 234, 123);\"></td><td title=\"Index: [9, 34]&#10;Color: (123, 234, 123)\" style=\"width: 10px; height: 10px;background-color: rgb(123, 234, 123);\"></td><td title=\"Index: [9, 35]&#10;Color: (123, 234, 123)\" style=\"width: 10px; height: 10px;background-color: rgb(123, 234, 123);\"></td><td title=\"Index: [9, 36]&#10;Color: (255, 0, 0)\" style=\"width: 10px; height: 10px;background-color: rgb(255, 0, 0);\"></td><td title=\"Index: [9, 37]&#10;Color: (123, 234, 123)\" style=\"width: 10px; height: 10px;background-color: rgb(123, 234, 123);\"></td><td title=\"Index: [9, 38]&#10;Color: (123, 234, 123)\" style=\"width: 10px; height: 10px;background-color: rgb(123, 234, 123);\"></td><td title=\"Index: [9, 39]&#10;Color: (123, 234, 123)\" style=\"width: 10px; height: 10px;background-color: rgb(123, 234, 123);\"></td></tr><tr><td title=\"Index: [10, 0]&#10;Color: (255, 0, 0)\" style=\"width: 10px; height: 10px;background-color: rgb(255, 0, 0);\"></td><td title=\"Index: [10, 1]&#10;Color: (123, 234, 123)\" style=\"width: 10px; height: 10px;background-color: rgb(123, 234, 123);\"></td><td title=\"Index: [10, 2]&#10;Color: (123, 234, 123)\" style=\"width: 10px; height: 10px;background-color: rgb(123, 234, 123);\"></td><td title=\"Index: [10, 3]&#10;Color: (123, 234, 123)\" style=\"width: 10px; height: 10px;background-color: rgb(123, 234, 123);\"></td><td title=\"Index: [10, 4]&#10;Color: (123, 234, 123)\" style=\"width: 10px; height: 10px;background-color: rgb(123, 234, 123);\"></td><td title=\"Index: [10, 5]&#10;Color: (123, 234, 123)\" style=\"width: 10px; height: 10px;background-color: rgb(123, 234, 123);\"></td><td title=\"Index: [10, 6]&#10;Color: (123, 234, 123)\" style=\"width: 10px; height: 10px;background-color: rgb(123, 234, 123);\"></td><td title=\"Index: [10, 7]&#10;Color: (123, 234, 123)\" style=\"width: 10px; height: 10px;background-color: rgb(123, 234, 123);\"></td><td title=\"Index: [10, 8]&#10;Color: (255, 0, 0)\" style=\"width: 10px; height: 10px;background-color: rgb(255, 0, 0);\"></td><td title=\"Index: [10, 9]&#10;Color: (123, 234, 123)\" style=\"width: 10px; height: 10px;background-color: rgb(123, 234, 123);\"></td><td title=\"Index: [10, 10]&#10;Color: (123, 234, 123)\" style=\"width: 10px; height: 10px;background-color: rgb(123, 234, 123);\"></td><td title=\"Index: [10, 11]&#10;Color: (123, 234, 123)\" style=\"width: 10px; height: 10px;background-color: rgb(123, 234, 123);\"></td><td title=\"Index: [10, 12]&#10;Color: (123, 234, 123)\" style=\"width: 10px; height: 10px;background-color: rgb(123, 234, 123);\"></td><td title=\"Index: [10, 13]&#10;Color: (123, 234, 123)\" style=\"width: 10px; height: 10px;background-color: rgb(123, 234, 123);\"></td><td title=\"Index: [10, 14]&#10;Color: (123, 234, 123)\" style=\"width: 10px; height: 10px;background-color: rgb(123, 234, 123);\"></td><td title=\"Index: [10, 15]&#10;Color: (123, 234, 123)\" style=\"width: 10px; height: 10px;background-color: rgb(123, 234, 123);\"></td><td title=\"Index: [10, 16]&#10;Color: (123, 234, 123)\" style=\"width: 10px; height: 10px;background-color: rgb(123, 234, 123);\"></td><td title=\"Index: [10, 17]&#10;Color: (123, 234, 123)\" style=\"width: 10px; height: 10px;background-color: rgb(123, 234, 123);\"></td><td title=\"Index: [10, 18]&#10;Color: (255, 0, 0)\" style=\"width: 10px; height: 10px;background-color: rgb(255, 0, 0);\"></td><td title=\"Index: [10, 19]&#10;Color: (123, 234, 123)\" style=\"width: 10px; height: 10px;background-color: rgb(123, 234, 123);\"></td><td title=\"Index: [10, 20]&#10;Color: (255, 0, 0)\" style=\"width: 10px; height: 10px;background-color: rgb(255, 0, 0);\"></td><td title=\"Index: [10, 21]&#10;Color: (123, 234, 123)\" style=\"width: 10px; height: 10px;background-color: rgb(123, 234, 123);\"></td><td title=\"Index: [10, 22]&#10;Color: (123, 234, 123)\" style=\"width: 10px; height: 10px;background-color: rgb(123, 234, 123);\"></td><td title=\"Index: [10, 23]&#10;Color: (123, 234, 123)\" style=\"width: 10px; height: 10px;background-color: rgb(123, 234, 123);\"></td><td title=\"Index: [10, 24]&#10;Color: (123, 234, 123)\" style=\"width: 10px; height: 10px;background-color: rgb(123, 234, 123);\"></td><td title=\"Index: [10, 25]&#10;Color: (123, 234, 123)\" style=\"width: 10px; height: 10px;background-color: rgb(123, 234, 123);\"></td><td title=\"Index: [10, 26]&#10;Color: (123, 234, 123)\" style=\"width: 10px; height: 10px;background-color: rgb(123, 234, 123);\"></td><td title=\"Index: [10, 27]&#10;Color: (123, 234, 123)\" style=\"width: 10px; height: 10px;background-color: rgb(123, 234, 123);\"></td><td title=\"Index: [10, 28]&#10;Color: (123, 234, 123)\" style=\"width: 10px; height: 10px;background-color: rgb(123, 234, 123);\"></td><td title=\"Index: [10, 29]&#10;Color: (123, 234, 123)\" style=\"width: 10px; height: 10px;background-color: rgb(123, 234, 123);\"></td><td title=\"Index: [10, 30]&#10;Color: (255, 0, 0)\" style=\"width: 10px; height: 10px;background-color: rgb(255, 0, 0);\"></td><td title=\"Index: [10, 31]&#10;Color: (123, 234, 123)\" style=\"width: 10px; height: 10px;background-color: rgb(123, 234, 123);\"></td><td title=\"Index: [10, 32]&#10;Color: (255, 0, 0)\" style=\"width: 10px; height: 10px;background-color: rgb(255, 0, 0);\"></td><td title=\"Index: [10, 33]&#10;Color: (123, 234, 123)\" style=\"width: 10px; height: 10px;background-color: rgb(123, 234, 123);\"></td><td title=\"Index: [10, 34]&#10;Color: (123, 234, 123)\" style=\"width: 10px; height: 10px;background-color: rgb(123, 234, 123);\"></td><td title=\"Index: [10, 35]&#10;Color: (123, 234, 123)\" style=\"width: 10px; height: 10px;background-color: rgb(123, 234, 123);\"></td><td title=\"Index: [10, 36]&#10;Color: (123, 234, 123)\" style=\"width: 10px; height: 10px;background-color: rgb(123, 234, 123);\"></td><td title=\"Index: [10, 37]&#10;Color: (123, 234, 123)\" style=\"width: 10px; height: 10px;background-color: rgb(123, 234, 123);\"></td><td title=\"Index: [10, 38]&#10;Color: (255, 0, 0)\" style=\"width: 10px; height: 10px;background-color: rgb(255, 0, 0);\"></td><td title=\"Index: [10, 39]&#10;Color: (123, 234, 123)\" style=\"width: 10px; height: 10px;background-color: rgb(123, 234, 123);\"></td></tr><tr><td title=\"Index: [11, 0]&#10;Color: (123, 234, 123)\" style=\"width: 10px; height: 10px;background-color: rgb(123, 234, 123);\"></td><td title=\"Index: [11, 1]&#10;Color: (123, 234, 123)\" style=\"width: 10px; height: 10px;background-color: rgb(123, 234, 123);\"></td><td title=\"Index: [11, 2]&#10;Color: (255, 0, 0)\" style=\"width: 10px; height: 10px;background-color: rgb(255, 0, 0);\"></td><td title=\"Index: [11, 3]&#10;Color: (123, 234, 123)\" style=\"width: 10px; height: 10px;background-color: rgb(123, 234, 123);\"></td><td title=\"Index: [11, 4]&#10;Color: (123, 234, 123)\" style=\"width: 10px; height: 10px;background-color: rgb(123, 234, 123);\"></td><td title=\"Index: [11, 5]&#10;Color: (123, 234, 123)\" style=\"width: 10px; height: 10px;background-color: rgb(123, 234, 123);\"></td><td title=\"Index: [11, 6]&#10;Color: (123, 234, 123)\" style=\"width: 10px; height: 10px;background-color: rgb(123, 234, 123);\"></td><td title=\"Index: [11, 7]&#10;Color: (123, 234, 123)\" style=\"width: 10px; height: 10px;background-color: rgb(123, 234, 123);\"></td><td title=\"Index: [11, 8]&#10;Color: (255, 0, 0)\" style=\"width: 10px; height: 10px;background-color: rgb(255, 0, 0);\"></td><td title=\"Index: [11, 9]&#10;Color: (123, 234, 123)\" style=\"width: 10px; height: 10px;background-color: rgb(123, 234, 123);\"></td><td title=\"Index: [11, 10]&#10;Color: (123, 234, 123)\" style=\"width: 10px; height: 10px;background-color: rgb(123, 234, 123);\"></td><td title=\"Index: [11, 11]&#10;Color: (123, 234, 123)\" style=\"width: 10px; height: 10px;background-color: rgb(123, 234, 123);\"></td><td title=\"Index: [11, 12]&#10;Color: (123, 234, 123)\" style=\"width: 10px; height: 10px;background-color: rgb(123, 234, 123);\"></td><td title=\"Index: [11, 13]&#10;Color: (123, 234, 123)\" style=\"width: 10px; height: 10px;background-color: rgb(123, 234, 123);\"></td><td title=\"Index: [11, 14]&#10;Color: (123, 234, 123)\" style=\"width: 10px; height: 10px;background-color: rgb(123, 234, 123);\"></td><td title=\"Index: [11, 15]&#10;Color: (123, 234, 123)\" style=\"width: 10px; height: 10px;background-color: rgb(123, 234, 123);\"></td><td title=\"Index: [11, 16]&#10;Color: (255, 0, 0)\" style=\"width: 10px; height: 10px;background-color: rgb(255, 0, 0);\"></td><td title=\"Index: [11, 17]&#10;Color: (123, 234, 123)\" style=\"width: 10px; height: 10px;background-color: rgb(123, 234, 123);\"></td><td title=\"Index: [11, 18]&#10;Color: (123, 234, 123)\" style=\"width: 10px; height: 10px;background-color: rgb(123, 234, 123);\"></td><td title=\"Index: [11, 19]&#10;Color: (123, 234, 123)\" style=\"width: 10px; height: 10px;background-color: rgb(123, 234, 123);\"></td><td title=\"Index: [11, 20]&#10;Color: (255, 0, 0)\" style=\"width: 10px; height: 10px;background-color: rgb(255, 0, 0);\"></td><td title=\"Index: [11, 21]&#10;Color: (123, 234, 123)\" style=\"width: 10px; height: 10px;background-color: rgb(123, 234, 123);\"></td><td title=\"Index: [11, 22]&#10;Color: (255, 0, 0)\" style=\"width: 10px; height: 10px;background-color: rgb(255, 0, 0);\"></td><td title=\"Index: [11, 23]&#10;Color: (123, 234, 123)\" style=\"width: 10px; height: 10px;background-color: rgb(123, 234, 123);\"></td><td title=\"Index: [11, 24]&#10;Color: (123, 234, 123)\" style=\"width: 10px; height: 10px;background-color: rgb(123, 234, 123);\"></td><td title=\"Index: [11, 25]&#10;Color: (123, 234, 123)\" style=\"width: 10px; height: 10px;background-color: rgb(123, 234, 123);\"></td><td title=\"Index: [11, 26]&#10;Color: (255, 0, 0)\" style=\"width: 10px; height: 10px;background-color: rgb(255, 0, 0);\"></td><td title=\"Index: [11, 27]&#10;Color: (123, 234, 123)\" style=\"width: 10px; height: 10px;background-color: rgb(123, 234, 123);\"></td><td title=\"Index: [11, 28]&#10;Color: (123, 234, 123)\" style=\"width: 10px; height: 10px;background-color: rgb(123, 234, 123);\"></td><td title=\"Index: [11, 29]&#10;Color: (123, 234, 123)\" style=\"width: 10px; height: 10px;background-color: rgb(123, 234, 123);\"></td><td title=\"Index: [11, 30]&#10;Color: (123, 234, 123)\" style=\"width: 10px; height: 10px;background-color: rgb(123, 234, 123);\"></td><td title=\"Index: [11, 31]&#10;Color: (123, 234, 123)\" style=\"width: 10px; height: 10px;background-color: rgb(123, 234, 123);\"></td><td title=\"Index: [11, 32]&#10;Color: (123, 234, 123)\" style=\"width: 10px; height: 10px;background-color: rgb(123, 234, 123);\"></td><td title=\"Index: [11, 33]&#10;Color: (123, 234, 123)\" style=\"width: 10px; height: 10px;background-color: rgb(123, 234, 123);\"></td><td title=\"Index: [11, 34]&#10;Color: (123, 234, 123)\" style=\"width: 10px; height: 10px;background-color: rgb(123, 234, 123);\"></td><td title=\"Index: [11, 35]&#10;Color: (123, 234, 123)\" style=\"width: 10px; height: 10px;background-color: rgb(123, 234, 123);\"></td><td title=\"Index: [11, 36]&#10;Color: (123, 234, 123)\" style=\"width: 10px; height: 10px;background-color: rgb(123, 234, 123);\"></td><td title=\"Index: [11, 37]&#10;Color: (123, 234, 123)\" style=\"width: 10px; height: 10px;background-color: rgb(123, 234, 123);\"></td><td title=\"Index: [11, 38]&#10;Color: (255, 0, 0)\" style=\"width: 10px; height: 10px;background-color: rgb(255, 0, 0);\"></td><td title=\"Index: [11, 39]&#10;Color: (123, 234, 123)\" style=\"width: 10px; height: 10px;background-color: rgb(123, 234, 123);\"></td></tr><tr><td title=\"Index: [12, 0]&#10;Color: (123, 234, 123)\" style=\"width: 10px; height: 10px;background-color: rgb(123, 234, 123);\"></td><td title=\"Index: [12, 1]&#10;Color: (123, 234, 123)\" style=\"width: 10px; height: 10px;background-color: rgb(123, 234, 123);\"></td><td title=\"Index: [12, 2]&#10;Color: (123, 234, 123)\" style=\"width: 10px; height: 10px;background-color: rgb(123, 234, 123);\"></td><td title=\"Index: [12, 3]&#10;Color: (123, 234, 123)\" style=\"width: 10px; height: 10px;background-color: rgb(123, 234, 123);\"></td><td title=\"Index: [12, 4]&#10;Color: (123, 234, 123)\" style=\"width: 10px; height: 10px;background-color: rgb(123, 234, 123);\"></td><td title=\"Index: [12, 5]&#10;Color: (123, 234, 123)\" style=\"width: 10px; height: 10px;background-color: rgb(123, 234, 123);\"></td><td title=\"Index: [12, 6]&#10;Color: (255, 0, 0)\" style=\"width: 10px; height: 10px;background-color: rgb(255, 0, 0);\"></td><td title=\"Index: [12, 7]&#10;Color: (123, 234, 123)\" style=\"width: 10px; height: 10px;background-color: rgb(123, 234, 123);\"></td><td title=\"Index: [12, 8]&#10;Color: (123, 234, 123)\" style=\"width: 10px; height: 10px;background-color: rgb(123, 234, 123);\"></td><td title=\"Index: [12, 9]&#10;Color: (123, 234, 123)\" style=\"width: 10px; height: 10px;background-color: rgb(123, 234, 123);\"></td><td title=\"Index: [12, 10]&#10;Color: (255, 0, 0)\" style=\"width: 10px; height: 10px;background-color: rgb(255, 0, 0);\"></td><td title=\"Index: [12, 11]&#10;Color: (123, 234, 123)\" style=\"width: 10px; height: 10px;background-color: rgb(123, 234, 123);\"></td><td title=\"Index: [12, 12]&#10;Color: (123, 234, 123)\" style=\"width: 10px; height: 10px;background-color: rgb(123, 234, 123);\"></td><td title=\"Index: [12, 13]&#10;Color: (123, 234, 123)\" style=\"width: 10px; height: 10px;background-color: rgb(123, 234, 123);\"></td><td title=\"Index: [12, 14]&#10;Color: (123, 234, 123)\" style=\"width: 10px; height: 10px;background-color: rgb(123, 234, 123);\"></td><td title=\"Index: [12, 15]&#10;Color: (123, 234, 123)\" style=\"width: 10px; height: 10px;background-color: rgb(123, 234, 123);\"></td><td title=\"Index: [12, 16]&#10;Color: (123, 234, 123)\" style=\"width: 10px; height: 10px;background-color: rgb(123, 234, 123);\"></td><td title=\"Index: [12, 17]&#10;Color: (123, 234, 123)\" style=\"width: 10px; height: 10px;background-color: rgb(123, 234, 123);\"></td><td title=\"Index: [12, 18]&#10;Color: (255, 0, 0)\" style=\"width: 10px; height: 10px;background-color: rgb(255, 0, 0);\"></td><td title=\"Index: [12, 19]&#10;Color: (123, 234, 123)\" style=\"width: 10px; height: 10px;background-color: rgb(123, 234, 123);\"></td><td title=\"Index: [12, 20]&#10;Color: (123, 234, 123)\" style=\"width: 10px; height: 10px;background-color: rgb(123, 234, 123);\"></td><td title=\"Index: [12, 21]&#10;Color: (123, 234, 123)\" style=\"width: 10px; height: 10px;background-color: rgb(123, 234, 123);\"></td><td title=\"Index: [12, 22]&#10;Color: (255, 0, 0)\" style=\"width: 10px; height: 10px;background-color: rgb(255, 0, 0);\"></td><td title=\"Index: [12, 23]&#10;Color: (123, 234, 123)\" style=\"width: 10px; height: 10px;background-color: rgb(123, 234, 123);\"></td><td title=\"Index: [12, 24]&#10;Color: (123, 234, 123)\" style=\"width: 10px; height: 10px;background-color: rgb(123, 234, 123);\"></td><td title=\"Index: [12, 25]&#10;Color: (123, 234, 123)\" style=\"width: 10px; height: 10px;background-color: rgb(123, 234, 123);\"></td><td title=\"Index: [12, 26]&#10;Color: (123, 234, 123)\" style=\"width: 10px; height: 10px;background-color: rgb(123, 234, 123);\"></td><td title=\"Index: [12, 27]&#10;Color: (123, 234, 123)\" style=\"width: 10px; height: 10px;background-color: rgb(123, 234, 123);\"></td><td title=\"Index: [12, 28]&#10;Color: (255, 0, 0)\" style=\"width: 10px; height: 10px;background-color: rgb(255, 0, 0);\"></td><td title=\"Index: [12, 29]&#10;Color: (123, 234, 123)\" style=\"width: 10px; height: 10px;background-color: rgb(123, 234, 123);\"></td><td title=\"Index: [12, 30]&#10;Color: (123, 234, 123)\" style=\"width: 10px; height: 10px;background-color: rgb(123, 234, 123);\"></td><td title=\"Index: [12, 31]&#10;Color: (123, 234, 123)\" style=\"width: 10px; height: 10px;background-color: rgb(123, 234, 123);\"></td><td title=\"Index: [12, 32]&#10;Color: (123, 234, 123)\" style=\"width: 10px; height: 10px;background-color: rgb(123, 234, 123);\"></td><td title=\"Index: [12, 33]&#10;Color: (123, 234, 123)\" style=\"width: 10px; height: 10px;background-color: rgb(123, 234, 123);\"></td><td title=\"Index: [12, 34]&#10;Color: (123, 234, 123)\" style=\"width: 10px; height: 10px;background-color: rgb(123, 234, 123);\"></td><td title=\"Index: [12, 35]&#10;Color: (123, 234, 123)\" style=\"width: 10px; height: 10px;background-color: rgb(123, 234, 123);\"></td><td title=\"Index: [12, 36]&#10;Color: (123, 234, 123)\" style=\"width: 10px; height: 10px;background-color: rgb(123, 234, 123);\"></td><td title=\"Index: [12, 37]&#10;Color: (123, 234, 123)\" style=\"width: 10px; height: 10px;background-color: rgb(123, 234, 123);\"></td><td title=\"Index: [12, 38]&#10;Color: (123, 234, 123)\" style=\"width: 10px; height: 10px;background-color: rgb(123, 234, 123);\"></td><td title=\"Index: [12, 39]&#10;Color: (123, 234, 123)\" style=\"width: 10px; height: 10px;background-color: rgb(123, 234, 123);\"></td></tr><tr><td title=\"Index: [13, 0]&#10;Color: (255, 0, 0)\" style=\"width: 10px; height: 10px;background-color: rgb(255, 0, 0);\"></td><td title=\"Index: [13, 1]&#10;Color: (123, 234, 123)\" style=\"width: 10px; height: 10px;background-color: rgb(123, 234, 123);\"></td><td title=\"Index: [13, 2]&#10;Color: (255, 0, 0)\" style=\"width: 10px; height: 10px;background-color: rgb(255, 0, 0);\"></td><td title=\"Index: [13, 3]&#10;Color: (123, 234, 123)\" style=\"width: 10px; height: 10px;background-color: rgb(123, 234, 123);\"></td><td title=\"Index: [13, 4]&#10;Color: (123, 234, 123)\" style=\"width: 10px; height: 10px;background-color: rgb(123, 234, 123);\"></td><td title=\"Index: [13, 5]&#10;Color: (123, 234, 123)\" style=\"width: 10px; height: 10px;background-color: rgb(123, 234, 123);\"></td><td title=\"Index: [13, 6]&#10;Color: (123, 234, 123)\" style=\"width: 10px; height: 10px;background-color: rgb(123, 234, 123);\"></td><td title=\"Index: [13, 7]&#10;Color: (123, 234, 123)\" style=\"width: 10px; height: 10px;background-color: rgb(123, 234, 123);\"></td><td title=\"Index: [13, 8]&#10;Color: (123, 234, 123)\" style=\"width: 10px; height: 10px;background-color: rgb(123, 234, 123);\"></td><td title=\"Index: [13, 9]&#10;Color: (123, 234, 123)\" style=\"width: 10px; height: 10px;background-color: rgb(123, 234, 123);\"></td><td title=\"Index: [13, 10]&#10;Color: (123, 234, 123)\" style=\"width: 10px; height: 10px;background-color: rgb(123, 234, 123);\"></td><td title=\"Index: [13, 11]&#10;Color: (123, 234, 123)\" style=\"width: 10px; height: 10px;background-color: rgb(123, 234, 123);\"></td><td title=\"Index: [13, 12]&#10;Color: (123, 234, 123)\" style=\"width: 10px; height: 10px;background-color: rgb(123, 234, 123);\"></td><td title=\"Index: [13, 13]&#10;Color: (123, 234, 123)\" style=\"width: 10px; height: 10px;background-color: rgb(123, 234, 123);\"></td><td title=\"Index: [13, 14]&#10;Color: (123, 234, 123)\" style=\"width: 10px; height: 10px;background-color: rgb(123, 234, 123);\"></td><td title=\"Index: [13, 15]&#10;Color: (123, 234, 123)\" style=\"width: 10px; height: 10px;background-color: rgb(123, 234, 123);\"></td><td title=\"Index: [13, 16]&#10;Color: (123, 234, 123)\" style=\"width: 10px; height: 10px;background-color: rgb(123, 234, 123);\"></td><td title=\"Index: [13, 17]&#10;Color: (123, 234, 123)\" style=\"width: 10px; height: 10px;background-color: rgb(123, 234, 123);\"></td><td title=\"Index: [13, 18]&#10;Color: (123, 234, 123)\" style=\"width: 10px; height: 10px;background-color: rgb(123, 234, 123);\"></td><td title=\"Index: [13, 19]&#10;Color: (123, 234, 123)\" style=\"width: 10px; height: 10px;background-color: rgb(123, 234, 123);\"></td><td title=\"Index: [13, 20]&#10;Color: (255, 0, 0)\" style=\"width: 10px; height: 10px;background-color: rgb(255, 0, 0);\"></td><td title=\"Index: [13, 21]&#10;Color: (123, 234, 123)\" style=\"width: 10px; height: 10px;background-color: rgb(123, 234, 123);\"></td><td title=\"Index: [13, 22]&#10;Color: (123, 234, 123)\" style=\"width: 10px; height: 10px;background-color: rgb(123, 234, 123);\"></td><td title=\"Index: [13, 23]&#10;Color: (123, 234, 123)\" style=\"width: 10px; height: 10px;background-color: rgb(123, 234, 123);\"></td><td title=\"Index: [13, 24]&#10;Color: (123, 234, 123)\" style=\"width: 10px; height: 10px;background-color: rgb(123, 234, 123);\"></td><td title=\"Index: [13, 25]&#10;Color: (123, 234, 123)\" style=\"width: 10px; height: 10px;background-color: rgb(123, 234, 123);\"></td><td title=\"Index: [13, 26]&#10;Color: (255, 0, 0)\" style=\"width: 10px; height: 10px;background-color: rgb(255, 0, 0);\"></td><td title=\"Index: [13, 27]&#10;Color: (123, 234, 123)\" style=\"width: 10px; height: 10px;background-color: rgb(123, 234, 123);\"></td><td title=\"Index: [13, 28]&#10;Color: (123, 234, 123)\" style=\"width: 10px; height: 10px;background-color: rgb(123, 234, 123);\"></td><td title=\"Index: [13, 29]&#10;Color: (123, 234, 123)\" style=\"width: 10px; height: 10px;background-color: rgb(123, 234, 123);\"></td><td title=\"Index: [13, 30]&#10;Color: (123, 234, 123)\" style=\"width: 10px; height: 10px;background-color: rgb(123, 234, 123);\"></td><td title=\"Index: [13, 31]&#10;Color: (123, 234, 123)\" style=\"width: 10px; height: 10px;background-color: rgb(123, 234, 123);\"></td><td title=\"Index: [13, 32]&#10;Color: (123, 234, 123)\" style=\"width: 10px; height: 10px;background-color: rgb(123, 234, 123);\"></td><td title=\"Index: [13, 33]&#10;Color: (123, 234, 123)\" style=\"width: 10px; height: 10px;background-color: rgb(123, 234, 123);\"></td><td title=\"Index: [13, 34]&#10;Color: (123, 234, 123)\" style=\"width: 10px; height: 10px;background-color: rgb(123, 234, 123);\"></td><td title=\"Index: [13, 35]&#10;Color: (123, 234, 123)\" style=\"width: 10px; height: 10px;background-color: rgb(123, 234, 123);\"></td><td title=\"Index: [13, 36]&#10;Color: (255, 0, 0)\" style=\"width: 10px; height: 10px;background-color: rgb(255, 0, 0);\"></td><td title=\"Index: [13, 37]&#10;Color: (123, 234, 123)\" style=\"width: 10px; height: 10px;background-color: rgb(123, 234, 123);\"></td><td title=\"Index: [13, 38]&#10;Color: (123, 234, 123)\" style=\"width: 10px; height: 10px;background-color: rgb(123, 234, 123);\"></td><td title=\"Index: [13, 39]&#10;Color: (123, 234, 123)\" style=\"width: 10px; height: 10px;background-color: rgb(123, 234, 123);\"></td></tr><tr><td title=\"Index: [14, 0]&#10;Color: (123, 234, 123)\" style=\"width: 10px; height: 10px;background-color: rgb(123, 234, 123);\"></td><td title=\"Index: [14, 1]&#10;Color: (123, 234, 123)\" style=\"width: 10px; height: 10px;background-color: rgb(123, 234, 123);\"></td><td title=\"Index: [14, 2]&#10;Color: (255, 0, 0)\" style=\"width: 10px; height: 10px;background-color: rgb(255, 0, 0);\"></td><td title=\"Index: [14, 3]&#10;Color: (123, 234, 123)\" style=\"width: 10px; height: 10px;background-color: rgb(123, 234, 123);\"></td><td title=\"Index: [14, 4]&#10;Color: (123, 234, 123)\" style=\"width: 10px; height: 10px;background-color: rgb(123, 234, 123);\"></td><td title=\"Index: [14, 5]&#10;Color: (123, 234, 123)\" style=\"width: 10px; height: 10px;background-color: rgb(123, 234, 123);\"></td><td title=\"Index: [14, 6]&#10;Color: (123, 234, 123)\" style=\"width: 10px; height: 10px;background-color: rgb(123, 234, 123);\"></td><td title=\"Index: [14, 7]&#10;Color: (123, 234, 123)\" style=\"width: 10px; height: 10px;background-color: rgb(123, 234, 123);\"></td><td title=\"Index: [14, 8]&#10;Color: (255, 0, 0)\" style=\"width: 10px; height: 10px;background-color: rgb(255, 0, 0);\"></td><td title=\"Index: [14, 9]&#10;Color: (123, 234, 123)\" style=\"width: 10px; height: 10px;background-color: rgb(123, 234, 123);\"></td><td title=\"Index: [14, 10]&#10;Color: (255, 0, 0)\" style=\"width: 10px; height: 10px;background-color: rgb(255, 0, 0);\"></td><td title=\"Index: [14, 11]&#10;Color: (123, 234, 123)\" style=\"width: 10px; height: 10px;background-color: rgb(123, 234, 123);\"></td><td title=\"Index: [14, 12]&#10;Color: (123, 234, 123)\" style=\"width: 10px; height: 10px;background-color: rgb(123, 234, 123);\"></td><td title=\"Index: [14, 13]&#10;Color: (123, 234, 123)\" style=\"width: 10px; height: 10px;background-color: rgb(123, 234, 123);\"></td><td title=\"Index: [14, 14]&#10;Color: (123, 234, 123)\" style=\"width: 10px; height: 10px;background-color: rgb(123, 234, 123);\"></td><td title=\"Index: [14, 15]&#10;Color: (123, 234, 123)\" style=\"width: 10px; height: 10px;background-color: rgb(123, 234, 123);\"></td><td title=\"Index: [14, 16]&#10;Color: (255, 0, 0)\" style=\"width: 10px; height: 10px;background-color: rgb(255, 0, 0);\"></td><td title=\"Index: [14, 17]&#10;Color: (123, 234, 123)\" style=\"width: 10px; height: 10px;background-color: rgb(123, 234, 123);\"></td><td title=\"Index: [14, 18]&#10;Color: (123, 234, 123)\" style=\"width: 10px; height: 10px;background-color: rgb(123, 234, 123);\"></td><td title=\"Index: [14, 19]&#10;Color: (123, 234, 123)\" style=\"width: 10px; height: 10px;background-color: rgb(123, 234, 123);\"></td><td title=\"Index: [14, 20]&#10;Color: (123, 234, 123)\" style=\"width: 10px; height: 10px;background-color: rgb(123, 234, 123);\"></td><td title=\"Index: [14, 21]&#10;Color: (123, 234, 123)\" style=\"width: 10px; height: 10px;background-color: rgb(123, 234, 123);\"></td><td title=\"Index: [14, 22]&#10;Color: (123, 234, 123)\" style=\"width: 10px; height: 10px;background-color: rgb(123, 234, 123);\"></td><td title=\"Index: [14, 23]&#10;Color: (123, 234, 123)\" style=\"width: 10px; height: 10px;background-color: rgb(123, 234, 123);\"></td><td title=\"Index: [14, 24]&#10;Color: (123, 234, 123)\" style=\"width: 10px; height: 10px;background-color: rgb(123, 234, 123);\"></td><td title=\"Index: [14, 25]&#10;Color: (123, 234, 123)\" style=\"width: 10px; height: 10px;background-color: rgb(123, 234, 123);\"></td><td title=\"Index: [14, 26]&#10;Color: (255, 0, 0)\" style=\"width: 10px; height: 10px;background-color: rgb(255, 0, 0);\"></td><td title=\"Index: [14, 27]&#10;Color: (123, 234, 123)\" style=\"width: 10px; height: 10px;background-color: rgb(123, 234, 123);\"></td><td title=\"Index: [14, 28]&#10;Color: (123, 234, 123)\" style=\"width: 10px; height: 10px;background-color: rgb(123, 234, 123);\"></td><td title=\"Index: [14, 29]&#10;Color: (123, 234, 123)\" style=\"width: 10px; height: 10px;background-color: rgb(123, 234, 123);\"></td><td title=\"Index: [14, 30]&#10;Color: (123, 234, 123)\" style=\"width: 10px; height: 10px;background-color: rgb(123, 234, 123);\"></td><td title=\"Index: [14, 31]&#10;Color: (123, 234, 123)\" style=\"width: 10px; height: 10px;background-color: rgb(123, 234, 123);\"></td><td title=\"Index: [14, 32]&#10;Color: (255, 0, 0)\" style=\"width: 10px; height: 10px;background-color: rgb(255, 0, 0);\"></td><td title=\"Index: [14, 33]&#10;Color: (123, 234, 123)\" style=\"width: 10px; height: 10px;background-color: rgb(123, 234, 123);\"></td><td title=\"Index: [14, 34]&#10;Color: (123, 234, 123)\" style=\"width: 10px; height: 10px;background-color: rgb(123, 234, 123);\"></td><td title=\"Index: [14, 35]&#10;Color: (123, 234, 123)\" style=\"width: 10px; height: 10px;background-color: rgb(123, 234, 123);\"></td><td title=\"Index: [14, 36]&#10;Color: (123, 234, 123)\" style=\"width: 10px; height: 10px;background-color: rgb(123, 234, 123);\"></td><td title=\"Index: [14, 37]&#10;Color: (123, 234, 123)\" style=\"width: 10px; height: 10px;background-color: rgb(123, 234, 123);\"></td><td title=\"Index: [14, 38]&#10;Color: (255, 0, 0)\" style=\"width: 10px; height: 10px;background-color: rgb(255, 0, 0);\"></td><td title=\"Index: [14, 39]&#10;Color: (123, 234, 123)\" style=\"width: 10px; height: 10px;background-color: rgb(123, 234, 123);\"></td></tr><tr><td title=\"Index: [15, 0]&#10;Color: (255, 0, 0)\" style=\"width: 10px; height: 10px;background-color: rgb(255, 0, 0);\"></td><td title=\"Index: [15, 1]&#10;Color: (123, 234, 123)\" style=\"width: 10px; height: 10px;background-color: rgb(123, 234, 123);\"></td><td title=\"Index: [15, 2]&#10;Color: (123, 234, 123)\" style=\"width: 10px; height: 10px;background-color: rgb(123, 234, 123);\"></td><td title=\"Index: [15, 3]&#10;Color: (123, 234, 123)\" style=\"width: 10px; height: 10px;background-color: rgb(123, 234, 123);\"></td><td title=\"Index: [15, 4]&#10;Color: (123, 234, 123)\" style=\"width: 10px; height: 10px;background-color: rgb(123, 234, 123);\"></td><td title=\"Index: [15, 5]&#10;Color: (123, 234, 123)\" style=\"width: 10px; height: 10px;background-color: rgb(123, 234, 123);\"></td><td title=\"Index: [15, 6]&#10;Color: (255, 0, 0)\" style=\"width: 10px; height: 10px;background-color: rgb(255, 0, 0);\"></td><td title=\"Index: [15, 7]&#10;Color: (123, 234, 123)\" style=\"width: 10px; height: 10px;background-color: rgb(123, 234, 123);\"></td><td title=\"Index: [15, 8]&#10;Color: (123, 234, 123)\" style=\"width: 10px; height: 10px;background-color: rgb(123, 234, 123);\"></td><td title=\"Index: [15, 9]&#10;Color: (123, 234, 123)\" style=\"width: 10px; height: 10px;background-color: rgb(123, 234, 123);\"></td><td title=\"Index: [15, 10]&#10;Color: (123, 234, 123)\" style=\"width: 10px; height: 10px;background-color: rgb(123, 234, 123);\"></td><td title=\"Index: [15, 11]&#10;Color: (123, 234, 123)\" style=\"width: 10px; height: 10px;background-color: rgb(123, 234, 123);\"></td><td title=\"Index: [15, 12]&#10;Color: (255, 0, 0)\" style=\"width: 10px; height: 10px;background-color: rgb(255, 0, 0);\"></td><td title=\"Index: [15, 13]&#10;Color: (123, 234, 123)\" style=\"width: 10px; height: 10px;background-color: rgb(123, 234, 123);\"></td><td title=\"Index: [15, 14]&#10;Color: (123, 234, 123)\" style=\"width: 10px; height: 10px;background-color: rgb(123, 234, 123);\"></td><td title=\"Index: [15, 15]&#10;Color: (123, 234, 123)\" style=\"width: 10px; height: 10px;background-color: rgb(123, 234, 123);\"></td><td title=\"Index: [15, 16]&#10;Color: (255, 0, 0)\" style=\"width: 10px; height: 10px;background-color: rgb(255, 0, 0);\"></td><td title=\"Index: [15, 17]&#10;Color: (123, 234, 123)\" style=\"width: 10px; height: 10px;background-color: rgb(123, 234, 123);\"></td><td title=\"Index: [15, 18]&#10;Color: (255, 0, 0)\" style=\"width: 10px; height: 10px;background-color: rgb(255, 0, 0);\"></td><td title=\"Index: [15, 19]&#10;Color: (123, 234, 123)\" style=\"width: 10px; height: 10px;background-color: rgb(123, 234, 123);\"></td><td title=\"Index: [15, 20]&#10;Color: (123, 234, 123)\" style=\"width: 10px; height: 10px;background-color: rgb(123, 234, 123);\"></td><td title=\"Index: [15, 21]&#10;Color: (123, 234, 123)\" style=\"width: 10px; height: 10px;background-color: rgb(123, 234, 123);\"></td><td title=\"Index: [15, 22]&#10;Color: (123, 234, 123)\" style=\"width: 10px; height: 10px;background-color: rgb(123, 234, 123);\"></td><td title=\"Index: [15, 23]&#10;Color: (123, 234, 123)\" style=\"width: 10px; height: 10px;background-color: rgb(123, 234, 123);\"></td><td title=\"Index: [15, 24]&#10;Color: (123, 234, 123)\" style=\"width: 10px; height: 10px;background-color: rgb(123, 234, 123);\"></td><td title=\"Index: [15, 25]&#10;Color: (123, 234, 123)\" style=\"width: 10px; height: 10px;background-color: rgb(123, 234, 123);\"></td><td title=\"Index: [15, 26]&#10;Color: (123, 234, 123)\" style=\"width: 10px; height: 10px;background-color: rgb(123, 234, 123);\"></td><td title=\"Index: [15, 27]&#10;Color: (123, 234, 123)\" style=\"width: 10px; height: 10px;background-color: rgb(123, 234, 123);\"></td><td title=\"Index: [15, 28]&#10;Color: (123, 234, 123)\" style=\"width: 10px; height: 10px;background-color: rgb(123, 234, 123);\"></td><td title=\"Index: [15, 29]&#10;Color: (123, 234, 123)\" style=\"width: 10px; height: 10px;background-color: rgb(123, 234, 123);\"></td><td title=\"Index: [15, 30]&#10;Color: (255, 0, 0)\" style=\"width: 10px; height: 10px;background-color: rgb(255, 0, 0);\"></td><td title=\"Index: [15, 31]&#10;Color: (123, 234, 123)\" style=\"width: 10px; height: 10px;background-color: rgb(123, 234, 123);\"></td><td title=\"Index: [15, 32]&#10;Color: (123, 234, 123)\" style=\"width: 10px; height: 10px;background-color: rgb(123, 234, 123);\"></td><td title=\"Index: [15, 33]&#10;Color: (123, 234, 123)\" style=\"width: 10px; height: 10px;background-color: rgb(123, 234, 123);\"></td><td title=\"Index: [15, 34]&#10;Color: (123, 234, 123)\" style=\"width: 10px; height: 10px;background-color: rgb(123, 234, 123);\"></td><td title=\"Index: [15, 35]&#10;Color: (123, 234, 123)\" style=\"width: 10px; height: 10px;background-color: rgb(123, 234, 123);\"></td><td title=\"Index: [15, 36]&#10;Color: (123, 234, 123)\" style=\"width: 10px; height: 10px;background-color: rgb(123, 234, 123);\"></td><td title=\"Index: [15, 37]&#10;Color: (123, 234, 123)\" style=\"width: 10px; height: 10px;background-color: rgb(123, 234, 123);\"></td><td title=\"Index: [15, 38]&#10;Color: (123, 234, 123)\" style=\"width: 10px; height: 10px;background-color: rgb(123, 234, 123);\"></td><td title=\"Index: [15, 39]&#10;Color: (123, 234, 123)\" style=\"width: 10px; height: 10px;background-color: rgb(123, 234, 123);\"></td></tr><tr><td title=\"Index: [16, 0]&#10;Color: (255, 0, 0)\" style=\"width: 10px; height: 10px;background-color: rgb(255, 0, 0);\"></td><td title=\"Index: [16, 1]&#10;Color: (123, 234, 123)\" style=\"width: 10px; height: 10px;background-color: rgb(123, 234, 123);\"></td><td title=\"Index: [16, 2]&#10;Color: (255, 0, 0)\" style=\"width: 10px; height: 10px;background-color: rgb(255, 0, 0);\"></td><td title=\"Index: [16, 3]&#10;Color: (123, 234, 123)\" style=\"width: 10px; height: 10px;background-color: rgb(123, 234, 123);\"></td><td title=\"Index: [16, 4]&#10;Color: (123, 234, 123)\" style=\"width: 10px; height: 10px;background-color: rgb(123, 234, 123);\"></td><td title=\"Index: [16, 5]&#10;Color: (123, 234, 123)\" style=\"width: 10px; height: 10px;background-color: rgb(123, 234, 123);\"></td><td title=\"Index: [16, 6]&#10;Color: (255, 0, 0)\" style=\"width: 10px; height: 10px;background-color: rgb(255, 0, 0);\"></td><td title=\"Index: [16, 7]&#10;Color: (123, 234, 123)\" style=\"width: 10px; height: 10px;background-color: rgb(123, 234, 123);\"></td><td title=\"Index: [16, 8]&#10;Color: (123, 234, 123)\" style=\"width: 10px; height: 10px;background-color: rgb(123, 234, 123);\"></td><td title=\"Index: [16, 9]&#10;Color: (123, 234, 123)\" style=\"width: 10px; height: 10px;background-color: rgb(123, 234, 123);\"></td><td title=\"Index: [16, 10]&#10;Color: (123, 234, 123)\" style=\"width: 10px; height: 10px;background-color: rgb(123, 234, 123);\"></td><td title=\"Index: [16, 11]&#10;Color: (123, 234, 123)\" style=\"width: 10px; height: 10px;background-color: rgb(123, 234, 123);\"></td><td title=\"Index: [16, 12]&#10;Color: (255, 0, 0)\" style=\"width: 10px; height: 10px;background-color: rgb(255, 0, 0);\"></td><td title=\"Index: [16, 13]&#10;Color: (123, 234, 123)\" style=\"width: 10px; height: 10px;background-color: rgb(123, 234, 123);\"></td><td title=\"Index: [16, 14]&#10;Color: (123, 234, 123)\" style=\"width: 10px; height: 10px;background-color: rgb(123, 234, 123);\"></td><td title=\"Index: [16, 15]&#10;Color: (123, 234, 123)\" style=\"width: 10px; height: 10px;background-color: rgb(123, 234, 123);\"></td><td title=\"Index: [16, 16]&#10;Color: (123, 234, 123)\" style=\"width: 10px; height: 10px;background-color: rgb(123, 234, 123);\"></td><td title=\"Index: [16, 17]&#10;Color: (123, 234, 123)\" style=\"width: 10px; height: 10px;background-color: rgb(123, 234, 123);\"></td><td title=\"Index: [16, 18]&#10;Color: (255, 0, 0)\" style=\"width: 10px; height: 10px;background-color: rgb(255, 0, 0);\"></td><td title=\"Index: [16, 19]&#10;Color: (123, 234, 123)\" style=\"width: 10px; height: 10px;background-color: rgb(123, 234, 123);\"></td><td title=\"Index: [16, 20]&#10;Color: (255, 0, 0)\" style=\"width: 10px; height: 10px;background-color: rgb(255, 0, 0);\"></td><td title=\"Index: [16, 21]&#10;Color: (123, 234, 123)\" style=\"width: 10px; height: 10px;background-color: rgb(123, 234, 123);\"></td><td title=\"Index: [16, 22]&#10;Color: (123, 234, 123)\" style=\"width: 10px; height: 10px;background-color: rgb(123, 234, 123);\"></td><td title=\"Index: [16, 23]&#10;Color: (123, 234, 123)\" style=\"width: 10px; height: 10px;background-color: rgb(123, 234, 123);\"></td><td title=\"Index: [16, 24]&#10;Color: (123, 234, 123)\" style=\"width: 10px; height: 10px;background-color: rgb(123, 234, 123);\"></td><td title=\"Index: [16, 25]&#10;Color: (123, 234, 123)\" style=\"width: 10px; height: 10px;background-color: rgb(123, 234, 123);\"></td><td title=\"Index: [16, 26]&#10;Color: (123, 234, 123)\" style=\"width: 10px; height: 10px;background-color: rgb(123, 234, 123);\"></td><td title=\"Index: [16, 27]&#10;Color: (123, 234, 123)\" style=\"width: 10px; height: 10px;background-color: rgb(123, 234, 123);\"></td><td title=\"Index: [16, 28]&#10;Color: (123, 234, 123)\" style=\"width: 10px; height: 10px;background-color: rgb(123, 234, 123);\"></td><td title=\"Index: [16, 29]&#10;Color: (123, 234, 123)\" style=\"width: 10px; height: 10px;background-color: rgb(123, 234, 123);\"></td><td title=\"Index: [16, 30]&#10;Color: (123, 234, 123)\" style=\"width: 10px; height: 10px;background-color: rgb(123, 234, 123);\"></td><td title=\"Index: [16, 31]&#10;Color: (123, 234, 123)\" style=\"width: 10px; height: 10px;background-color: rgb(123, 234, 123);\"></td><td title=\"Index: [16, 32]&#10;Color: (255, 0, 0)\" style=\"width: 10px; height: 10px;background-color: rgb(255, 0, 0);\"></td><td title=\"Index: [16, 33]&#10;Color: (123, 234, 123)\" style=\"width: 10px; height: 10px;background-color: rgb(123, 234, 123);\"></td><td title=\"Index: [16, 34]&#10;Color: (123, 234, 123)\" style=\"width: 10px; height: 10px;background-color: rgb(123, 234, 123);\"></td><td title=\"Index: [16, 35]&#10;Color: (123, 234, 123)\" style=\"width: 10px; height: 10px;background-color: rgb(123, 234, 123);\"></td><td title=\"Index: [16, 36]&#10;Color: (255, 0, 0)\" style=\"width: 10px; height: 10px;background-color: rgb(255, 0, 0);\"></td><td title=\"Index: [16, 37]&#10;Color: (123, 234, 123)\" style=\"width: 10px; height: 10px;background-color: rgb(123, 234, 123);\"></td><td title=\"Index: [16, 38]&#10;Color: (123, 234, 123)\" style=\"width: 10px; height: 10px;background-color: rgb(123, 234, 123);\"></td><td title=\"Index: [16, 39]&#10;Color: (123, 234, 123)\" style=\"width: 10px; height: 10px;background-color: rgb(123, 234, 123);\"></td></tr><tr><td title=\"Index: [17, 0]&#10;Color: (123, 234, 123)\" style=\"width: 10px; height: 10px;background-color: rgb(123, 234, 123);\"></td><td title=\"Index: [17, 1]&#10;Color: (123, 234, 123)\" style=\"width: 10px; height: 10px;background-color: rgb(123, 234, 123);\"></td><td title=\"Index: [17, 2]&#10;Color: (255, 0, 0)\" style=\"width: 10px; height: 10px;background-color: rgb(255, 0, 0);\"></td><td title=\"Index: [17, 3]&#10;Color: (123, 234, 123)\" style=\"width: 10px; height: 10px;background-color: rgb(123, 234, 123);\"></td><td title=\"Index: [17, 4]&#10;Color: (123, 234, 123)\" style=\"width: 10px; height: 10px;background-color: rgb(123, 234, 123);\"></td><td title=\"Index: [17, 5]&#10;Color: (123, 234, 123)\" style=\"width: 10px; height: 10px;background-color: rgb(123, 234, 123);\"></td><td title=\"Index: [17, 6]&#10;Color: (123, 234, 123)\" style=\"width: 10px; height: 10px;background-color: rgb(123, 234, 123);\"></td><td title=\"Index: [17, 7]&#10;Color: (123, 234, 123)\" style=\"width: 10px; height: 10px;background-color: rgb(123, 234, 123);\"></td><td title=\"Index: [17, 8]&#10;Color: (123, 234, 123)\" style=\"width: 10px; height: 10px;background-color: rgb(123, 234, 123);\"></td><td title=\"Index: [17, 9]&#10;Color: (123, 234, 123)\" style=\"width: 10px; height: 10px;background-color: rgb(123, 234, 123);\"></td><td title=\"Index: [17, 10]&#10;Color: (255, 0, 0)\" style=\"width: 10px; height: 10px;background-color: rgb(255, 0, 0);\"></td><td title=\"Index: [17, 11]&#10;Color: (123, 234, 123)\" style=\"width: 10px; height: 10px;background-color: rgb(123, 234, 123);\"></td><td title=\"Index: [17, 12]&#10;Color: (123, 234, 123)\" style=\"width: 10px; height: 10px;background-color: rgb(123, 234, 123);\"></td><td title=\"Index: [17, 13]&#10;Color: (123, 234, 123)\" style=\"width: 10px; height: 10px;background-color: rgb(123, 234, 123);\"></td><td title=\"Index: [17, 14]&#10;Color: (123, 234, 123)\" style=\"width: 10px; height: 10px;background-color: rgb(123, 234, 123);\"></td><td title=\"Index: [17, 15]&#10;Color: (123, 234, 123)\" style=\"width: 10px; height: 10px;background-color: rgb(123, 234, 123);\"></td><td title=\"Index: [17, 16]&#10;Color: (123, 234, 123)\" style=\"width: 10px; height: 10px;background-color: rgb(123, 234, 123);\"></td><td title=\"Index: [17, 17]&#10;Color: (123, 234, 123)\" style=\"width: 10px; height: 10px;background-color: rgb(123, 234, 123);\"></td><td title=\"Index: [17, 18]&#10;Color: (123, 234, 123)\" style=\"width: 10px; height: 10px;background-color: rgb(123, 234, 123);\"></td><td title=\"Index: [17, 19]&#10;Color: (123, 234, 123)\" style=\"width: 10px; height: 10px;background-color: rgb(123, 234, 123);\"></td><td title=\"Index: [17, 20]&#10;Color: (255, 0, 0)\" style=\"width: 10px; height: 10px;background-color: rgb(255, 0, 0);\"></td><td title=\"Index: [17, 21]&#10;Color: (123, 234, 123)\" style=\"width: 10px; height: 10px;background-color: rgb(123, 234, 123);\"></td><td title=\"Index: [17, 22]&#10;Color: (123, 234, 123)\" style=\"width: 10px; height: 10px;background-color: rgb(123, 234, 123);\"></td><td title=\"Index: [17, 23]&#10;Color: (123, 234, 123)\" style=\"width: 10px; height: 10px;background-color: rgb(123, 234, 123);\"></td><td title=\"Index: [17, 24]&#10;Color: (123, 234, 123)\" style=\"width: 10px; height: 10px;background-color: rgb(123, 234, 123);\"></td><td title=\"Index: [17, 25]&#10;Color: (123, 234, 123)\" style=\"width: 10px; height: 10px;background-color: rgb(123, 234, 123);\"></td><td title=\"Index: [17, 26]&#10;Color: (123, 234, 123)\" style=\"width: 10px; height: 10px;background-color: rgb(123, 234, 123);\"></td><td title=\"Index: [17, 27]&#10;Color: (123, 234, 123)\" style=\"width: 10px; height: 10px;background-color: rgb(123, 234, 123);\"></td><td title=\"Index: [17, 28]&#10;Color: (255, 0, 0)\" style=\"width: 10px; height: 10px;background-color: rgb(255, 0, 0);\"></td><td title=\"Index: [17, 29]&#10;Color: (123, 234, 123)\" style=\"width: 10px; height: 10px;background-color: rgb(123, 234, 123);\"></td><td title=\"Index: [17, 30]&#10;Color: (123, 234, 123)\" style=\"width: 10px; height: 10px;background-color: rgb(123, 234, 123);\"></td><td title=\"Index: [17, 31]&#10;Color: (123, 234, 123)\" style=\"width: 10px; height: 10px;background-color: rgb(123, 234, 123);\"></td><td title=\"Index: [17, 32]&#10;Color: (123, 234, 123)\" style=\"width: 10px; height: 10px;background-color: rgb(123, 234, 123);\"></td><td title=\"Index: [17, 33]&#10;Color: (123, 234, 123)\" style=\"width: 10px; height: 10px;background-color: rgb(123, 234, 123);\"></td><td title=\"Index: [17, 34]&#10;Color: (123, 234, 123)\" style=\"width: 10px; height: 10px;background-color: rgb(123, 234, 123);\"></td><td title=\"Index: [17, 35]&#10;Color: (123, 234, 123)\" style=\"width: 10px; height: 10px;background-color: rgb(123, 234, 123);\"></td><td title=\"Index: [17, 36]&#10;Color: (123, 234, 123)\" style=\"width: 10px; height: 10px;background-color: rgb(123, 234, 123);\"></td><td title=\"Index: [17, 37]&#10;Color: (123, 234, 123)\" style=\"width: 10px; height: 10px;background-color: rgb(123, 234, 123);\"></td><td title=\"Index: [17, 38]&#10;Color: (255, 0, 0)\" style=\"width: 10px; height: 10px;background-color: rgb(255, 0, 0);\"></td><td title=\"Index: [17, 39]&#10;Color: (123, 234, 123)\" style=\"width: 10px; height: 10px;background-color: rgb(123, 234, 123);\"></td></tr><tr><td title=\"Index: [18, 0]&#10;Color: (123, 234, 123)\" style=\"width: 10px; height: 10px;background-color: rgb(123, 234, 123);\"></td><td title=\"Index: [18, 1]&#10;Color: (123, 234, 123)\" style=\"width: 10px; height: 10px;background-color: rgb(123, 234, 123);\"></td><td title=\"Index: [18, 2]&#10;Color: (123, 234, 123)\" style=\"width: 10px; height: 10px;background-color: rgb(123, 234, 123);\"></td><td title=\"Index: [18, 3]&#10;Color: (123, 234, 123)\" style=\"width: 10px; height: 10px;background-color: rgb(123, 234, 123);\"></td><td title=\"Index: [18, 4]&#10;Color: (123, 234, 123)\" style=\"width: 10px; height: 10px;background-color: rgb(123, 234, 123);\"></td><td title=\"Index: [18, 5]&#10;Color: (123, 234, 123)\" style=\"width: 10px; height: 10px;background-color: rgb(123, 234, 123);\"></td><td title=\"Index: [18, 6]&#10;Color: (255, 0, 0)\" style=\"width: 10px; height: 10px;background-color: rgb(255, 0, 0);\"></td><td title=\"Index: [18, 7]&#10;Color: (123, 234, 123)\" style=\"width: 10px; height: 10px;background-color: rgb(123, 234, 123);\"></td><td title=\"Index: [18, 8]&#10;Color: (123, 234, 123)\" style=\"width: 10px; height: 10px;background-color: rgb(123, 234, 123);\"></td><td title=\"Index: [18, 9]&#10;Color: (123, 234, 123)\" style=\"width: 10px; height: 10px;background-color: rgb(123, 234, 123);\"></td><td title=\"Index: [18, 10]&#10;Color: (123, 234, 123)\" style=\"width: 10px; height: 10px;background-color: rgb(123, 234, 123);\"></td><td title=\"Index: [18, 11]&#10;Color: (123, 234, 123)\" style=\"width: 10px; height: 10px;background-color: rgb(123, 234, 123);\"></td><td title=\"Index: [18, 12]&#10;Color: (255, 0, 0)\" style=\"width: 10px; height: 10px;background-color: rgb(255, 0, 0);\"></td><td title=\"Index: [18, 13]&#10;Color: (123, 234, 123)\" style=\"width: 10px; height: 10px;background-color: rgb(123, 234, 123);\"></td><td title=\"Index: [18, 14]&#10;Color: (123, 234, 123)\" style=\"width: 10px; height: 10px;background-color: rgb(123, 234, 123);\"></td><td title=\"Index: [18, 15]&#10;Color: (123, 234, 123)\" style=\"width: 10px; height: 10px;background-color: rgb(123, 234, 123);\"></td><td title=\"Index: [18, 16]&#10;Color: (123, 234, 123)\" style=\"width: 10px; height: 10px;background-color: rgb(123, 234, 123);\"></td><td title=\"Index: [18, 17]&#10;Color: (123, 234, 123)\" style=\"width: 10px; height: 10px;background-color: rgb(123, 234, 123);\"></td><td title=\"Index: [18, 18]&#10;Color: (255, 0, 0)\" style=\"width: 10px; height: 10px;background-color: rgb(255, 0, 0);\"></td><td title=\"Index: [18, 19]&#10;Color: (123, 234, 123)\" style=\"width: 10px; height: 10px;background-color: rgb(123, 234, 123);\"></td><td title=\"Index: [18, 20]&#10;Color: (123, 234, 123)\" style=\"width: 10px; height: 10px;background-color: rgb(123, 234, 123);\"></td><td title=\"Index: [18, 21]&#10;Color: (123, 234, 123)\" style=\"width: 10px; height: 10px;background-color: rgb(123, 234, 123);\"></td><td title=\"Index: [18, 22]&#10;Color: (255, 0, 0)\" style=\"width: 10px; height: 10px;background-color: rgb(255, 0, 0);\"></td><td title=\"Index: [18, 23]&#10;Color: (123, 234, 123)\" style=\"width: 10px; height: 10px;background-color: rgb(123, 234, 123);\"></td><td title=\"Index: [18, 24]&#10;Color: (123, 234, 123)\" style=\"width: 10px; height: 10px;background-color: rgb(123, 234, 123);\"></td><td title=\"Index: [18, 25]&#10;Color: (123, 234, 123)\" style=\"width: 10px; height: 10px;background-color: rgb(123, 234, 123);\"></td><td title=\"Index: [18, 26]&#10;Color: (123, 234, 123)\" style=\"width: 10px; height: 10px;background-color: rgb(123, 234, 123);\"></td><td title=\"Index: [18, 27]&#10;Color: (123, 234, 123)\" style=\"width: 10px; height: 10px;background-color: rgb(123, 234, 123);\"></td><td title=\"Index: [18, 28]&#10;Color: (123, 234, 123)\" style=\"width: 10px; height: 10px;background-color: rgb(123, 234, 123);\"></td><td title=\"Index: [18, 29]&#10;Color: (123, 234, 123)\" style=\"width: 10px; height: 10px;background-color: rgb(123, 234, 123);\"></td><td title=\"Index: [18, 30]&#10;Color: (255, 0, 0)\" style=\"width: 10px; height: 10px;background-color: rgb(255, 0, 0);\"></td><td title=\"Index: [18, 31]&#10;Color: (123, 234, 123)\" style=\"width: 10px; height: 10px;background-color: rgb(123, 234, 123);\"></td><td title=\"Index: [18, 32]&#10;Color: (123, 234, 123)\" style=\"width: 10px; height: 10px;background-color: rgb(123, 234, 123);\"></td><td title=\"Index: [18, 33]&#10;Color: (123, 234, 123)\" style=\"width: 10px; height: 10px;background-color: rgb(123, 234, 123);\"></td><td title=\"Index: [18, 34]&#10;Color: (123, 234, 123)\" style=\"width: 10px; height: 10px;background-color: rgb(123, 234, 123);\"></td><td title=\"Index: [18, 35]&#10;Color: (123, 234, 123)\" style=\"width: 10px; height: 10px;background-color: rgb(123, 234, 123);\"></td><td title=\"Index: [18, 36]&#10;Color: (255, 0, 0)\" style=\"width: 10px; height: 10px;background-color: rgb(255, 0, 0);\"></td><td title=\"Index: [18, 37]&#10;Color: (123, 234, 123)\" style=\"width: 10px; height: 10px;background-color: rgb(123, 234, 123);\"></td><td title=\"Index: [18, 38]&#10;Color: (123, 234, 123)\" style=\"width: 10px; height: 10px;background-color: rgb(123, 234, 123);\"></td><td title=\"Index: [18, 39]&#10;Color: (123, 234, 123)\" style=\"width: 10px; height: 10px;background-color: rgb(123, 234, 123);\"></td></tr><tr><td title=\"Index: [19, 0]&#10;Color: (255, 0, 0)\" style=\"width: 10px; height: 10px;background-color: rgb(255, 0, 0);\"></td><td title=\"Index: [19, 1]&#10;Color: (123, 234, 123)\" style=\"width: 10px; height: 10px;background-color: rgb(123, 234, 123);\"></td><td title=\"Index: [19, 2]&#10;Color: (123, 234, 123)\" style=\"width: 10px; height: 10px;background-color: rgb(123, 234, 123);\"></td><td title=\"Index: [19, 3]&#10;Color: (123, 234, 123)\" style=\"width: 10px; height: 10px;background-color: rgb(123, 234, 123);\"></td><td title=\"Index: [19, 4]&#10;Color: (123, 234, 123)\" style=\"width: 10px; height: 10px;background-color: rgb(123, 234, 123);\"></td><td title=\"Index: [19, 5]&#10;Color: (123, 234, 123)\" style=\"width: 10px; height: 10px;background-color: rgb(123, 234, 123);\"></td><td title=\"Index: [19, 6]&#10;Color: (123, 234, 123)\" style=\"width: 10px; height: 10px;background-color: rgb(123, 234, 123);\"></td><td title=\"Index: [19, 7]&#10;Color: (123, 234, 123)\" style=\"width: 10px; height: 10px;background-color: rgb(123, 234, 123);\"></td><td title=\"Index: [19, 8]&#10;Color: (255, 0, 0)\" style=\"width: 10px; height: 10px;background-color: rgb(255, 0, 0);\"></td><td title=\"Index: [19, 9]&#10;Color: (123, 234, 123)\" style=\"width: 10px; height: 10px;background-color: rgb(123, 234, 123);\"></td><td title=\"Index: [19, 10]&#10;Color: (123, 234, 123)\" style=\"width: 10px; height: 10px;background-color: rgb(123, 234, 123);\"></td><td title=\"Index: [19, 11]&#10;Color: (123, 234, 123)\" style=\"width: 10px; height: 10px;background-color: rgb(123, 234, 123);\"></td><td title=\"Index: [19, 12]&#10;Color: (255, 0, 0)\" style=\"width: 10px; height: 10px;background-color: rgb(255, 0, 0);\"></td><td title=\"Index: [19, 13]&#10;Color: (123, 234, 123)\" style=\"width: 10px; height: 10px;background-color: rgb(123, 234, 123);\"></td><td title=\"Index: [19, 14]&#10;Color: (123, 234, 123)\" style=\"width: 10px; height: 10px;background-color: rgb(123, 234, 123);\"></td><td title=\"Index: [19, 15]&#10;Color: (123, 234, 123)\" style=\"width: 10px; height: 10px;background-color: rgb(123, 234, 123);\"></td><td title=\"Index: [19, 16]&#10;Color: (123, 234, 123)\" style=\"width: 10px; height: 10px;background-color: rgb(123, 234, 123);\"></td><td title=\"Index: [19, 17]&#10;Color: (123, 234, 123)\" style=\"width: 10px; height: 10px;background-color: rgb(123, 234, 123);\"></td><td title=\"Index: [19, 18]&#10;Color: (123, 234, 123)\" style=\"width: 10px; height: 10px;background-color: rgb(123, 234, 123);\"></td><td title=\"Index: [19, 19]&#10;Color: (123, 234, 123)\" style=\"width: 10px; height: 10px;background-color: rgb(123, 234, 123);\"></td><td title=\"Index: [19, 20]&#10;Color: (123, 234, 123)\" style=\"width: 10px; height: 10px;background-color: rgb(123, 234, 123);\"></td><td title=\"Index: [19, 21]&#10;Color: (123, 234, 123)\" style=\"width: 10px; height: 10px;background-color: rgb(123, 234, 123);\"></td><td title=\"Index: [19, 22]&#10;Color: (123, 234, 123)\" style=\"width: 10px; height: 10px;background-color: rgb(123, 234, 123);\"></td><td title=\"Index: [19, 23]&#10;Color: (123, 234, 123)\" style=\"width: 10px; height: 10px;background-color: rgb(123, 234, 123);\"></td><td title=\"Index: [19, 24]&#10;Color: (123, 234, 123)\" style=\"width: 10px; height: 10px;background-color: rgb(123, 234, 123);\"></td><td title=\"Index: [19, 25]&#10;Color: (123, 234, 123)\" style=\"width: 10px; height: 10px;background-color: rgb(123, 234, 123);\"></td><td title=\"Index: [19, 26]&#10;Color: (255, 0, 0)\" style=\"width: 10px; height: 10px;background-color: rgb(255, 0, 0);\"></td><td title=\"Index: [19, 27]&#10;Color: (123, 234, 123)\" style=\"width: 10px; height: 10px;background-color: rgb(123, 234, 123);\"></td><td title=\"Index: [19, 28]&#10;Color: (123, 234, 123)\" style=\"width: 10px; height: 10px;background-color: rgb(123, 234, 123);\"></td><td title=\"Index: [19, 29]&#10;Color: (123, 234, 123)\" style=\"width: 10px; height: 10px;background-color: rgb(123, 234, 123);\"></td><td title=\"Index: [19, 30]&#10;Color: (123, 234, 123)\" style=\"width: 10px; height: 10px;background-color: rgb(123, 234, 123);\"></td><td title=\"Index: [19, 31]&#10;Color: (123, 234, 123)\" style=\"width: 10px; height: 10px;background-color: rgb(123, 234, 123);\"></td><td title=\"Index: [19, 32]&#10;Color: (123, 234, 123)\" style=\"width: 10px; height: 10px;background-color: rgb(123, 234, 123);\"></td><td title=\"Index: [19, 33]&#10;Color: (123, 234, 123)\" style=\"width: 10px; height: 10px;background-color: rgb(123, 234, 123);\"></td><td title=\"Index: [19, 34]&#10;Color: (123, 234, 123)\" style=\"width: 10px; height: 10px;background-color: rgb(123, 234, 123);\"></td><td title=\"Index: [19, 35]&#10;Color: (123, 234, 123)\" style=\"width: 10px; height: 10px;background-color: rgb(123, 234, 123);\"></td><td title=\"Index: [19, 36]&#10;Color: (255, 0, 0)\" style=\"width: 10px; height: 10px;background-color: rgb(255, 0, 0);\"></td><td title=\"Index: [19, 37]&#10;Color: (123, 234, 123)\" style=\"width: 10px; height: 10px;background-color: rgb(123, 234, 123);\"></td><td title=\"Index: [19, 38]&#10;Color: (123, 234, 123)\" style=\"width: 10px; height: 10px;background-color: rgb(123, 234, 123);\"></td><td title=\"Index: [19, 39]&#10;Color: (123, 234, 123)\" style=\"width: 10px; height: 10px;background-color: rgb(123, 234, 123);\"></td></tr><tr><td title=\"Index: [20, 0]&#10;Color: (123, 234, 123)\" style=\"width: 10px; height: 10px;background-color: rgb(123, 234, 123);\"></td><td title=\"Index: [20, 1]&#10;Color: (123, 234, 123)\" style=\"width: 10px; height: 10px;background-color: rgb(123, 234, 123);\"></td><td title=\"Index: [20, 2]&#10;Color: (123, 234, 123)\" style=\"width: 10px; height: 10px;background-color: rgb(123, 234, 123);\"></td><td title=\"Index: [20, 3]&#10;Color: (123, 234, 123)\" style=\"width: 10px; height: 10px;background-color: rgb(123, 234, 123);\"></td><td title=\"Index: [20, 4]&#10;Color: (123, 234, 123)\" style=\"width: 10px; height: 10px;background-color: rgb(123, 234, 123);\"></td><td title=\"Index: [20, 5]&#10;Color: (123, 234, 123)\" style=\"width: 10px; height: 10px;background-color: rgb(123, 234, 123);\"></td><td title=\"Index: [20, 6]&#10;Color: (123, 234, 123)\" style=\"width: 10px; height: 10px;background-color: rgb(123, 234, 123);\"></td><td title=\"Index: [20, 7]&#10;Color: (123, 234, 123)\" style=\"width: 10px; height: 10px;background-color: rgb(123, 234, 123);\"></td><td title=\"Index: [20, 8]&#10;Color: (255, 0, 0)\" style=\"width: 10px; height: 10px;background-color: rgb(255, 0, 0);\"></td><td title=\"Index: [20, 9]&#10;Color: (123, 234, 123)\" style=\"width: 10px; height: 10px;background-color: rgb(123, 234, 123);\"></td><td title=\"Index: [20, 10]&#10;Color: (255, 0, 0)\" style=\"width: 10px; height: 10px;background-color: rgb(255, 0, 0);\"></td><td title=\"Index: [20, 11]&#10;Color: (123, 234, 123)\" style=\"width: 10px; height: 10px;background-color: rgb(123, 234, 123);\"></td><td title=\"Index: [20, 12]&#10;Color: (123, 234, 123)\" style=\"width: 10px; height: 10px;background-color: rgb(123, 234, 123);\"></td><td title=\"Index: [20, 13]&#10;Color: (123, 234, 123)\" style=\"width: 10px; height: 10px;background-color: rgb(123, 234, 123);\"></td><td title=\"Index: [20, 14]&#10;Color: (123, 234, 123)\" style=\"width: 10px; height: 10px;background-color: rgb(123, 234, 123);\"></td><td title=\"Index: [20, 15]&#10;Color: (123, 234, 123)\" style=\"width: 10px; height: 10px;background-color: rgb(123, 234, 123);\"></td><td title=\"Index: [20, 16]&#10;Color: (123, 234, 123)\" style=\"width: 10px; height: 10px;background-color: rgb(123, 234, 123);\"></td><td title=\"Index: [20, 17]&#10;Color: (123, 234, 123)\" style=\"width: 10px; height: 10px;background-color: rgb(123, 234, 123);\"></td><td title=\"Index: [20, 18]&#10;Color: (123, 234, 123)\" style=\"width: 10px; height: 10px;background-color: rgb(123, 234, 123);\"></td><td title=\"Index: [20, 19]&#10;Color: (123, 234, 123)\" style=\"width: 10px; height: 10px;background-color: rgb(123, 234, 123);\"></td><td title=\"Index: [20, 20]&#10;Color: (255, 0, 0)\" style=\"width: 10px; height: 10px;background-color: rgb(255, 0, 0);\"></td><td title=\"Index: [20, 21]&#10;Color: (123, 234, 123)\" style=\"width: 10px; height: 10px;background-color: rgb(123, 234, 123);\"></td><td title=\"Index: [20, 22]&#10;Color: (255, 0, 0)\" style=\"width: 10px; height: 10px;background-color: rgb(255, 0, 0);\"></td><td title=\"Index: [20, 23]&#10;Color: (123, 234, 123)\" style=\"width: 10px; height: 10px;background-color: rgb(123, 234, 123);\"></td><td title=\"Index: [20, 24]&#10;Color: (123, 234, 123)\" style=\"width: 10px; height: 10px;background-color: rgb(123, 234, 123);\"></td><td title=\"Index: [20, 25]&#10;Color: (123, 234, 123)\" style=\"width: 10px; height: 10px;background-color: rgb(123, 234, 123);\"></td><td title=\"Index: [20, 26]&#10;Color: (255, 0, 0)\" style=\"width: 10px; height: 10px;background-color: rgb(255, 0, 0);\"></td><td title=\"Index: [20, 27]&#10;Color: (123, 234, 123)\" style=\"width: 10px; height: 10px;background-color: rgb(123, 234, 123);\"></td><td title=\"Index: [20, 28]&#10;Color: (255, 0, 0)\" style=\"width: 10px; height: 10px;background-color: rgb(255, 0, 0);\"></td><td title=\"Index: [20, 29]&#10;Color: (123, 234, 123)\" style=\"width: 10px; height: 10px;background-color: rgb(123, 234, 123);\"></td><td title=\"Index: [20, 30]&#10;Color: (123, 234, 123)\" style=\"width: 10px; height: 10px;background-color: rgb(123, 234, 123);\"></td><td title=\"Index: [20, 31]&#10;Color: (123, 234, 123)\" style=\"width: 10px; height: 10px;background-color: rgb(123, 234, 123);\"></td><td title=\"Index: [20, 32]&#10;Color: (123, 234, 123)\" style=\"width: 10px; height: 10px;background-color: rgb(123, 234, 123);\"></td><td title=\"Index: [20, 33]&#10;Color: (123, 234, 123)\" style=\"width: 10px; height: 10px;background-color: rgb(123, 234, 123);\"></td><td title=\"Index: [20, 34]&#10;Color: (123, 234, 123)\" style=\"width: 10px; height: 10px;background-color: rgb(123, 234, 123);\"></td><td title=\"Index: [20, 35]&#10;Color: (123, 234, 123)\" style=\"width: 10px; height: 10px;background-color: rgb(123, 234, 123);\"></td><td title=\"Index: [20, 36]&#10;Color: (123, 234, 123)\" style=\"width: 10px; height: 10px;background-color: rgb(123, 234, 123);\"></td><td title=\"Index: [20, 37]&#10;Color: (123, 234, 123)\" style=\"width: 10px; height: 10px;background-color: rgb(123, 234, 123);\"></td><td title=\"Index: [20, 38]&#10;Color: (255, 0, 0)\" style=\"width: 10px; height: 10px;background-color: rgb(255, 0, 0);\"></td><td title=\"Index: [20, 39]&#10;Color: (123, 234, 123)\" style=\"width: 10px; height: 10px;background-color: rgb(123, 234, 123);\"></td></tr><tr><td title=\"Index: [21, 0]&#10;Color: (123, 234, 123)\" style=\"width: 10px; height: 10px;background-color: rgb(123, 234, 123);\"></td><td title=\"Index: [21, 1]&#10;Color: (123, 234, 123)\" style=\"width: 10px; height: 10px;background-color: rgb(123, 234, 123);\"></td><td title=\"Index: [21, 2]&#10;Color: (123, 234, 123)\" style=\"width: 10px; height: 10px;background-color: rgb(123, 234, 123);\"></td><td title=\"Index: [21, 3]&#10;Color: (123, 234, 123)\" style=\"width: 10px; height: 10px;background-color: rgb(123, 234, 123);\"></td><td title=\"Index: [21, 4]&#10;Color: (123, 234, 123)\" style=\"width: 10px; height: 10px;background-color: rgb(123, 234, 123);\"></td><td title=\"Index: [21, 5]&#10;Color: (123, 234, 123)\" style=\"width: 10px; height: 10px;background-color: rgb(123, 234, 123);\"></td><td title=\"Index: [21, 6]&#10;Color: (123, 234, 123)\" style=\"width: 10px; height: 10px;background-color: rgb(123, 234, 123);\"></td><td title=\"Index: [21, 7]&#10;Color: (123, 234, 123)\" style=\"width: 10px; height: 10px;background-color: rgb(123, 234, 123);\"></td><td title=\"Index: [21, 8]&#10;Color: (123, 234, 123)\" style=\"width: 10px; height: 10px;background-color: rgb(123, 234, 123);\"></td><td title=\"Index: [21, 9]&#10;Color: (123, 234, 123)\" style=\"width: 10px; height: 10px;background-color: rgb(123, 234, 123);\"></td><td title=\"Index: [21, 10]&#10;Color: (123, 234, 123)\" style=\"width: 10px; height: 10px;background-color: rgb(123, 234, 123);\"></td><td title=\"Index: [21, 11]&#10;Color: (123, 234, 123)\" style=\"width: 10px; height: 10px;background-color: rgb(123, 234, 123);\"></td><td title=\"Index: [21, 12]&#10;Color: (255, 0, 0)\" style=\"width: 10px; height: 10px;background-color: rgb(255, 0, 0);\"></td><td title=\"Index: [21, 13]&#10;Color: (123, 234, 123)\" style=\"width: 10px; height: 10px;background-color: rgb(123, 234, 123);\"></td><td title=\"Index: [21, 14]&#10;Color: (123, 234, 123)\" style=\"width: 10px; height: 10px;background-color: rgb(123, 234, 123);\"></td><td title=\"Index: [21, 15]&#10;Color: (123, 234, 123)\" style=\"width: 10px; height: 10px;background-color: rgb(123, 234, 123);\"></td><td title=\"Index: [21, 16]&#10;Color: (255, 0, 0)\" style=\"width: 10px; height: 10px;background-color: rgb(255, 0, 0);\"></td><td title=\"Index: [21, 17]&#10;Color: (123, 234, 123)\" style=\"width: 10px; height: 10px;background-color: rgb(123, 234, 123);\"></td><td title=\"Index: [21, 18]&#10;Color: (255, 0, 0)\" style=\"width: 10px; height: 10px;background-color: rgb(255, 0, 0);\"></td><td title=\"Index: [21, 19]&#10;Color: (123, 234, 123)\" style=\"width: 10px; height: 10px;background-color: rgb(123, 234, 123);\"></td><td title=\"Index: [21, 20]&#10;Color: (123, 234, 123)\" style=\"width: 10px; height: 10px;background-color: rgb(123, 234, 123);\"></td><td title=\"Index: [21, 21]&#10;Color: (123, 234, 123)\" style=\"width: 10px; height: 10px;background-color: rgb(123, 234, 123);\"></td><td title=\"Index: [21, 22]&#10;Color: (255, 0, 0)\" style=\"width: 10px; height: 10px;background-color: rgb(255, 0, 0);\"></td><td title=\"Index: [21, 23]&#10;Color: (123, 234, 123)\" style=\"width: 10px; height: 10px;background-color: rgb(123, 234, 123);\"></td><td title=\"Index: [21, 24]&#10;Color: (123, 234, 123)\" style=\"width: 10px; height: 10px;background-color: rgb(123, 234, 123);\"></td><td title=\"Index: [21, 25]&#10;Color: (123, 234, 123)\" style=\"width: 10px; height: 10px;background-color: rgb(123, 234, 123);\"></td><td title=\"Index: [21, 26]&#10;Color: (123, 234, 123)\" style=\"width: 10px; height: 10px;background-color: rgb(123, 234, 123);\"></td><td title=\"Index: [21, 27]&#10;Color: (123, 234, 123)\" style=\"width: 10px; height: 10px;background-color: rgb(123, 234, 123);\"></td><td title=\"Index: [21, 28]&#10;Color: (123, 234, 123)\" style=\"width: 10px; height: 10px;background-color: rgb(123, 234, 123);\"></td><td title=\"Index: [21, 29]&#10;Color: (123, 234, 123)\" style=\"width: 10px; height: 10px;background-color: rgb(123, 234, 123);\"></td><td title=\"Index: [21, 30]&#10;Color: (123, 234, 123)\" style=\"width: 10px; height: 10px;background-color: rgb(123, 234, 123);\"></td><td title=\"Index: [21, 31]&#10;Color: (123, 234, 123)\" style=\"width: 10px; height: 10px;background-color: rgb(123, 234, 123);\"></td><td title=\"Index: [21, 32]&#10;Color: (123, 234, 123)\" style=\"width: 10px; height: 10px;background-color: rgb(123, 234, 123);\"></td><td title=\"Index: [21, 33]&#10;Color: (123, 234, 123)\" style=\"width: 10px; height: 10px;background-color: rgb(123, 234, 123);\"></td><td title=\"Index: [21, 34]&#10;Color: (123, 234, 123)\" style=\"width: 10px; height: 10px;background-color: rgb(123, 234, 123);\"></td><td title=\"Index: [21, 35]&#10;Color: (123, 234, 123)\" style=\"width: 10px; height: 10px;background-color: rgb(123, 234, 123);\"></td><td title=\"Index: [21, 36]&#10;Color: (255, 0, 0)\" style=\"width: 10px; height: 10px;background-color: rgb(255, 0, 0);\"></td><td title=\"Index: [21, 37]&#10;Color: (123, 234, 123)\" style=\"width: 10px; height: 10px;background-color: rgb(123, 234, 123);\"></td><td title=\"Index: [21, 38]&#10;Color: (123, 234, 123)\" style=\"width: 10px; height: 10px;background-color: rgb(123, 234, 123);\"></td><td title=\"Index: [21, 39]&#10;Color: (123, 234, 123)\" style=\"width: 10px; height: 10px;background-color: rgb(123, 234, 123);\"></td></tr><tr><td title=\"Index: [22, 0]&#10;Color: (255, 0, 0)\" style=\"width: 10px; height: 10px;background-color: rgb(255, 0, 0);\"></td><td title=\"Index: [22, 1]&#10;Color: (123, 234, 123)\" style=\"width: 10px; height: 10px;background-color: rgb(123, 234, 123);\"></td><td title=\"Index: [22, 2]&#10;Color: (255, 0, 0)\" style=\"width: 10px; height: 10px;background-color: rgb(255, 0, 0);\"></td><td title=\"Index: [22, 3]&#10;Color: (123, 234, 123)\" style=\"width: 10px; height: 10px;background-color: rgb(123, 234, 123);\"></td><td title=\"Index: [22, 4]&#10;Color: (123, 234, 123)\" style=\"width: 10px; height: 10px;background-color: rgb(123, 234, 123);\"></td><td title=\"Index: [22, 5]&#10;Color: (123, 234, 123)\" style=\"width: 10px; height: 10px;background-color: rgb(123, 234, 123);\"></td><td title=\"Index: [22, 6]&#10;Color: (255, 0, 0)\" style=\"width: 10px; height: 10px;background-color: rgb(255, 0, 0);\"></td><td title=\"Index: [22, 7]&#10;Color: (123, 234, 123)\" style=\"width: 10px; height: 10px;background-color: rgb(123, 234, 123);\"></td><td title=\"Index: [22, 8]&#10;Color: (123, 234, 123)\" style=\"width: 10px; height: 10px;background-color: rgb(123, 234, 123);\"></td><td title=\"Index: [22, 9]&#10;Color: (123, 234, 123)\" style=\"width: 10px; height: 10px;background-color: rgb(123, 234, 123);\"></td><td title=\"Index: [22, 10]&#10;Color: (123, 234, 123)\" style=\"width: 10px; height: 10px;background-color: rgb(123, 234, 123);\"></td><td title=\"Index: [22, 11]&#10;Color: (123, 234, 123)\" style=\"width: 10px; height: 10px;background-color: rgb(123, 234, 123);\"></td><td title=\"Index: [22, 12]&#10;Color: (123, 234, 123)\" style=\"width: 10px; height: 10px;background-color: rgb(123, 234, 123);\"></td><td title=\"Index: [22, 13]&#10;Color: (123, 234, 123)\" style=\"width: 10px; height: 10px;background-color: rgb(123, 234, 123);\"></td><td title=\"Index: [22, 14]&#10;Color: (123, 234, 123)\" style=\"width: 10px; height: 10px;background-color: rgb(123, 234, 123);\"></td><td title=\"Index: [22, 15]&#10;Color: (123, 234, 123)\" style=\"width: 10px; height: 10px;background-color: rgb(123, 234, 123);\"></td><td title=\"Index: [22, 16]&#10;Color: (123, 234, 123)\" style=\"width: 10px; height: 10px;background-color: rgb(123, 234, 123);\"></td><td title=\"Index: [22, 17]&#10;Color: (123, 234, 123)\" style=\"width: 10px; height: 10px;background-color: rgb(123, 234, 123);\"></td><td title=\"Index: [22, 18]&#10;Color: (123, 234, 123)\" style=\"width: 10px; height: 10px;background-color: rgb(123, 234, 123);\"></td><td title=\"Index: [22, 19]&#10;Color: (123, 234, 123)\" style=\"width: 10px; height: 10px;background-color: rgb(123, 234, 123);\"></td><td title=\"Index: [22, 20]&#10;Color: (123, 234, 123)\" style=\"width: 10px; height: 10px;background-color: rgb(123, 234, 123);\"></td><td title=\"Index: [22, 21]&#10;Color: (123, 234, 123)\" style=\"width: 10px; height: 10px;background-color: rgb(123, 234, 123);\"></td><td title=\"Index: [22, 22]&#10;Color: (123, 234, 123)\" style=\"width: 10px; height: 10px;background-color: rgb(123, 234, 123);\"></td><td title=\"Index: [22, 23]&#10;Color: (123, 234, 123)\" style=\"width: 10px; height: 10px;background-color: rgb(123, 234, 123);\"></td><td title=\"Index: [22, 24]&#10;Color: (123, 234, 123)\" style=\"width: 10px; height: 10px;background-color: rgb(123, 234, 123);\"></td><td title=\"Index: [22, 25]&#10;Color: (123, 234, 123)\" style=\"width: 10px; height: 10px;background-color: rgb(123, 234, 123);\"></td><td title=\"Index: [22, 26]&#10;Color: (255, 0, 0)\" style=\"width: 10px; height: 10px;background-color: rgb(255, 0, 0);\"></td><td title=\"Index: [22, 27]&#10;Color: (123, 234, 123)\" style=\"width: 10px; height: 10px;background-color: rgb(123, 234, 123);\"></td><td title=\"Index: [22, 28]&#10;Color: (123, 234, 123)\" style=\"width: 10px; height: 10px;background-color: rgb(123, 234, 123);\"></td><td title=\"Index: [22, 29]&#10;Color: (123, 234, 123)\" style=\"width: 10px; height: 10px;background-color: rgb(123, 234, 123);\"></td><td title=\"Index: [22, 30]&#10;Color: (255, 0, 0)\" style=\"width: 10px; height: 10px;background-color: rgb(255, 0, 0);\"></td><td title=\"Index: [22, 31]&#10;Color: (123, 234, 123)\" style=\"width: 10px; height: 10px;background-color: rgb(123, 234, 123);\"></td><td title=\"Index: [22, 32]&#10;Color: (123, 234, 123)\" style=\"width: 10px; height: 10px;background-color: rgb(123, 234, 123);\"></td><td title=\"Index: [22, 33]&#10;Color: (123, 234, 123)\" style=\"width: 10px; height: 10px;background-color: rgb(123, 234, 123);\"></td><td title=\"Index: [22, 34]&#10;Color: (123, 234, 123)\" style=\"width: 10px; height: 10px;background-color: rgb(123, 234, 123);\"></td><td title=\"Index: [22, 35]&#10;Color: (123, 234, 123)\" style=\"width: 10px; height: 10px;background-color: rgb(123, 234, 123);\"></td><td title=\"Index: [22, 36]&#10;Color: (123, 234, 123)\" style=\"width: 10px; height: 10px;background-color: rgb(123, 234, 123);\"></td><td title=\"Index: [22, 37]&#10;Color: (123, 234, 123)\" style=\"width: 10px; height: 10px;background-color: rgb(123, 234, 123);\"></td><td title=\"Index: [22, 38]&#10;Color: (255, 0, 0)\" style=\"width: 10px; height: 10px;background-color: rgb(255, 0, 0);\"></td><td title=\"Index: [22, 39]&#10;Color: (123, 234, 123)\" style=\"width: 10px; height: 10px;background-color: rgb(123, 234, 123);\"></td></tr><tr><td title=\"Index: [23, 0]&#10;Color: (123, 234, 123)\" style=\"width: 10px; height: 10px;background-color: rgb(123, 234, 123);\"></td><td title=\"Index: [23, 1]&#10;Color: (123, 234, 123)\" style=\"width: 10px; height: 10px;background-color: rgb(123, 234, 123);\"></td><td title=\"Index: [23, 2]&#10;Color: (123, 234, 123)\" style=\"width: 10px; height: 10px;background-color: rgb(123, 234, 123);\"></td><td title=\"Index: [23, 3]&#10;Color: (123, 234, 123)\" style=\"width: 10px; height: 10px;background-color: rgb(123, 234, 123);\"></td><td title=\"Index: [23, 4]&#10;Color: (123, 234, 123)\" style=\"width: 10px; height: 10px;background-color: rgb(123, 234, 123);\"></td><td title=\"Index: [23, 5]&#10;Color: (123, 234, 123)\" style=\"width: 10px; height: 10px;background-color: rgb(123, 234, 123);\"></td><td title=\"Index: [23, 6]&#10;Color: (123, 234, 123)\" style=\"width: 10px; height: 10px;background-color: rgb(123, 234, 123);\"></td><td title=\"Index: [23, 7]&#10;Color: (123, 234, 123)\" style=\"width: 10px; height: 10px;background-color: rgb(123, 234, 123);\"></td><td title=\"Index: [23, 8]&#10;Color: (255, 0, 0)\" style=\"width: 10px; height: 10px;background-color: rgb(255, 0, 0);\"></td><td title=\"Index: [23, 9]&#10;Color: (123, 234, 123)\" style=\"width: 10px; height: 10px;background-color: rgb(123, 234, 123);\"></td><td title=\"Index: [23, 10]&#10;Color: (123, 234, 123)\" style=\"width: 10px; height: 10px;background-color: rgb(123, 234, 123);\"></td><td title=\"Index: [23, 11]&#10;Color: (123, 234, 123)\" style=\"width: 10px; height: 10px;background-color: rgb(123, 234, 123);\"></td><td title=\"Index: [23, 12]&#10;Color: (123, 234, 123)\" style=\"width: 10px; height: 10px;background-color: rgb(123, 234, 123);\"></td><td title=\"Index: [23, 13]&#10;Color: (123, 234, 123)\" style=\"width: 10px; height: 10px;background-color: rgb(123, 234, 123);\"></td><td title=\"Index: [23, 14]&#10;Color: (123, 234, 123)\" style=\"width: 10px; height: 10px;background-color: rgb(123, 234, 123);\"></td><td title=\"Index: [23, 15]&#10;Color: (123, 234, 123)\" style=\"width: 10px; height: 10px;background-color: rgb(123, 234, 123);\"></td><td title=\"Index: [23, 16]&#10;Color: (255, 0, 0)\" style=\"width: 10px; height: 10px;background-color: rgb(255, 0, 0);\"></td><td title=\"Index: [23, 17]&#10;Color: (123, 234, 123)\" style=\"width: 10px; height: 10px;background-color: rgb(123, 234, 123);\"></td><td title=\"Index: [23, 18]&#10;Color: (123, 234, 123)\" style=\"width: 10px; height: 10px;background-color: rgb(123, 234, 123);\"></td><td title=\"Index: [23, 19]&#10;Color: (123, 234, 123)\" style=\"width: 10px; height: 10px;background-color: rgb(123, 234, 123);\"></td><td title=\"Index: [23, 20]&#10;Color: (255, 0, 0)\" style=\"width: 10px; height: 10px;background-color: rgb(255, 0, 0);\"></td><td title=\"Index: [23, 21]&#10;Color: (123, 234, 123)\" style=\"width: 10px; height: 10px;background-color: rgb(123, 234, 123);\"></td><td title=\"Index: [23, 22]&#10;Color: (123, 234, 123)\" style=\"width: 10px; height: 10px;background-color: rgb(123, 234, 123);\"></td><td title=\"Index: [23, 23]&#10;Color: (123, 234, 123)\" style=\"width: 10px; height: 10px;background-color: rgb(123, 234, 123);\"></td><td title=\"Index: [23, 24]&#10;Color: (123, 234, 123)\" style=\"width: 10px; height: 10px;background-color: rgb(123, 234, 123);\"></td><td title=\"Index: [23, 25]&#10;Color: (123, 234, 123)\" style=\"width: 10px; height: 10px;background-color: rgb(123, 234, 123);\"></td><td title=\"Index: [23, 26]&#10;Color: (255, 0, 0)\" style=\"width: 10px; height: 10px;background-color: rgb(255, 0, 0);\"></td><td title=\"Index: [23, 27]&#10;Color: (123, 234, 123)\" style=\"width: 10px; height: 10px;background-color: rgb(123, 234, 123);\"></td><td title=\"Index: [23, 28]&#10;Color: (123, 234, 123)\" style=\"width: 10px; height: 10px;background-color: rgb(123, 234, 123);\"></td><td title=\"Index: [23, 29]&#10;Color: (123, 234, 123)\" style=\"width: 10px; height: 10px;background-color: rgb(123, 234, 123);\"></td><td title=\"Index: [23, 30]&#10;Color: (123, 234, 123)\" style=\"width: 10px; height: 10px;background-color: rgb(123, 234, 123);\"></td><td title=\"Index: [23, 31]&#10;Color: (123, 234, 123)\" style=\"width: 10px; height: 10px;background-color: rgb(123, 234, 123);\"></td><td title=\"Index: [23, 32]&#10;Color: (255, 0, 0)\" style=\"width: 10px; height: 10px;background-color: rgb(255, 0, 0);\"></td><td title=\"Index: [23, 33]&#10;Color: (123, 234, 123)\" style=\"width: 10px; height: 10px;background-color: rgb(123, 234, 123);\"></td><td title=\"Index: [23, 34]&#10;Color: (123, 234, 123)\" style=\"width: 10px; height: 10px;background-color: rgb(123, 234, 123);\"></td><td title=\"Index: [23, 35]&#10;Color: (123, 234, 123)\" style=\"width: 10px; height: 10px;background-color: rgb(123, 234, 123);\"></td><td title=\"Index: [23, 36]&#10;Color: (123, 234, 123)\" style=\"width: 10px; height: 10px;background-color: rgb(123, 234, 123);\"></td><td title=\"Index: [23, 37]&#10;Color: (123, 234, 123)\" style=\"width: 10px; height: 10px;background-color: rgb(123, 234, 123);\"></td><td title=\"Index: [23, 38]&#10;Color: (123, 234, 123)\" style=\"width: 10px; height: 10px;background-color: rgb(123, 234, 123);\"></td><td title=\"Index: [23, 39]&#10;Color: (123, 234, 123)\" style=\"width: 10px; height: 10px;background-color: rgb(123, 234, 123);\"></td></tr><tr><td title=\"Index: [24, 0]&#10;Color: (123, 234, 123)\" style=\"width: 10px; height: 10px;background-color: rgb(123, 234, 123);\"></td><td title=\"Index: [24, 1]&#10;Color: (123, 234, 123)\" style=\"width: 10px; height: 10px;background-color: rgb(123, 234, 123);\"></td><td title=\"Index: [24, 2]&#10;Color: (123, 234, 123)\" style=\"width: 10px; height: 10px;background-color: rgb(123, 234, 123);\"></td><td title=\"Index: [24, 3]&#10;Color: (123, 234, 123)\" style=\"width: 10px; height: 10px;background-color: rgb(123, 234, 123);\"></td><td title=\"Index: [24, 4]&#10;Color: (123, 234, 123)\" style=\"width: 10px; height: 10px;background-color: rgb(123, 234, 123);\"></td><td title=\"Index: [24, 5]&#10;Color: (123, 234, 123)\" style=\"width: 10px; height: 10px;background-color: rgb(123, 234, 123);\"></td><td title=\"Index: [24, 6]&#10;Color: (255, 0, 0)\" style=\"width: 10px; height: 10px;background-color: rgb(255, 0, 0);\"></td><td title=\"Index: [24, 7]&#10;Color: (123, 234, 123)\" style=\"width: 10px; height: 10px;background-color: rgb(123, 234, 123);\"></td><td title=\"Index: [24, 8]&#10;Color: (123, 234, 123)\" style=\"width: 10px; height: 10px;background-color: rgb(123, 234, 123);\"></td><td title=\"Index: [24, 9]&#10;Color: (123, 234, 123)\" style=\"width: 10px; height: 10px;background-color: rgb(123, 234, 123);\"></td><td title=\"Index: [24, 10]&#10;Color: (255, 0, 0)\" style=\"width: 10px; height: 10px;background-color: rgb(255, 0, 0);\"></td><td title=\"Index: [24, 11]&#10;Color: (123, 234, 123)\" style=\"width: 10px; height: 10px;background-color: rgb(123, 234, 123);\"></td><td title=\"Index: [24, 12]&#10;Color: (123, 234, 123)\" style=\"width: 10px; height: 10px;background-color: rgb(123, 234, 123);\"></td><td title=\"Index: [24, 13]&#10;Color: (123, 234, 123)\" style=\"width: 10px; height: 10px;background-color: rgb(123, 234, 123);\"></td><td title=\"Index: [24, 14]&#10;Color: (123, 234, 123)\" style=\"width: 10px; height: 10px;background-color: rgb(123, 234, 123);\"></td><td title=\"Index: [24, 15]&#10;Color: (123, 234, 123)\" style=\"width: 10px; height: 10px;background-color: rgb(123, 234, 123);\"></td><td title=\"Index: [24, 16]&#10;Color: (255, 0, 0)\" style=\"width: 10px; height: 10px;background-color: rgb(255, 0, 0);\"></td><td title=\"Index: [24, 17]&#10;Color: (123, 234, 123)\" style=\"width: 10px; height: 10px;background-color: rgb(123, 234, 123);\"></td><td title=\"Index: [24, 18]&#10;Color: (123, 234, 123)\" style=\"width: 10px; height: 10px;background-color: rgb(123, 234, 123);\"></td><td title=\"Index: [24, 19]&#10;Color: (123, 234, 123)\" style=\"width: 10px; height: 10px;background-color: rgb(123, 234, 123);\"></td><td title=\"Index: [24, 20]&#10;Color: (123, 234, 123)\" style=\"width: 10px; height: 10px;background-color: rgb(123, 234, 123);\"></td><td title=\"Index: [24, 21]&#10;Color: (123, 234, 123)\" style=\"width: 10px; height: 10px;background-color: rgb(123, 234, 123);\"></td><td title=\"Index: [24, 22]&#10;Color: (255, 0, 0)\" style=\"width: 10px; height: 10px;background-color: rgb(255, 0, 0);\"></td><td title=\"Index: [24, 23]&#10;Color: (123, 234, 123)\" style=\"width: 10px; height: 10px;background-color: rgb(123, 234, 123);\"></td><td title=\"Index: [24, 24]&#10;Color: (123, 234, 123)\" style=\"width: 10px; height: 10px;background-color: rgb(123, 234, 123);\"></td><td title=\"Index: [24, 25]&#10;Color: (123, 234, 123)\" style=\"width: 10px; height: 10px;background-color: rgb(123, 234, 123);\"></td><td title=\"Index: [24, 26]&#10;Color: (123, 234, 123)\" style=\"width: 10px; height: 10px;background-color: rgb(123, 234, 123);\"></td><td title=\"Index: [24, 27]&#10;Color: (123, 234, 123)\" style=\"width: 10px; height: 10px;background-color: rgb(123, 234, 123);\"></td><td title=\"Index: [24, 28]&#10;Color: (123, 234, 123)\" style=\"width: 10px; height: 10px;background-color: rgb(123, 234, 123);\"></td><td title=\"Index: [24, 29]&#10;Color: (123, 234, 123)\" style=\"width: 10px; height: 10px;background-color: rgb(123, 234, 123);\"></td><td title=\"Index: [24, 30]&#10;Color: (255, 0, 0)\" style=\"width: 10px; height: 10px;background-color: rgb(255, 0, 0);\"></td><td title=\"Index: [24, 31]&#10;Color: (123, 234, 123)\" style=\"width: 10px; height: 10px;background-color: rgb(123, 234, 123);\"></td><td title=\"Index: [24, 32]&#10;Color: (123, 234, 123)\" style=\"width: 10px; height: 10px;background-color: rgb(123, 234, 123);\"></td><td title=\"Index: [24, 33]&#10;Color: (123, 234, 123)\" style=\"width: 10px; height: 10px;background-color: rgb(123, 234, 123);\"></td><td title=\"Index: [24, 34]&#10;Color: (123, 234, 123)\" style=\"width: 10px; height: 10px;background-color: rgb(123, 234, 123);\"></td><td title=\"Index: [24, 35]&#10;Color: (123, 234, 123)\" style=\"width: 10px; height: 10px;background-color: rgb(123, 234, 123);\"></td><td title=\"Index: [24, 36]&#10;Color: (255, 0, 0)\" style=\"width: 10px; height: 10px;background-color: rgb(255, 0, 0);\"></td><td title=\"Index: [24, 37]&#10;Color: (123, 234, 123)\" style=\"width: 10px; height: 10px;background-color: rgb(123, 234, 123);\"></td><td title=\"Index: [24, 38]&#10;Color: (123, 234, 123)\" style=\"width: 10px; height: 10px;background-color: rgb(123, 234, 123);\"></td><td title=\"Index: [24, 39]&#10;Color: (123, 234, 123)\" style=\"width: 10px; height: 10px;background-color: rgb(123, 234, 123);\"></td></tr><tr><td title=\"Index: [25, 0]&#10;Color: (123, 234, 123)\" style=\"width: 10px; height: 10px;background-color: rgb(123, 234, 123);\"></td><td title=\"Index: [25, 1]&#10;Color: (123, 234, 123)\" style=\"width: 10px; height: 10px;background-color: rgb(123, 234, 123);\"></td><td title=\"Index: [25, 2]&#10;Color: (123, 234, 123)\" style=\"width: 10px; height: 10px;background-color: rgb(123, 234, 123);\"></td><td title=\"Index: [25, 3]&#10;Color: (123, 234, 123)\" style=\"width: 10px; height: 10px;background-color: rgb(123, 234, 123);\"></td><td title=\"Index: [25, 4]&#10;Color: (123, 234, 123)\" style=\"width: 10px; height: 10px;background-color: rgb(123, 234, 123);\"></td><td title=\"Index: [25, 5]&#10;Color: (123, 234, 123)\" style=\"width: 10px; height: 10px;background-color: rgb(123, 234, 123);\"></td><td title=\"Index: [25, 6]&#10;Color: (123, 234, 123)\" style=\"width: 10px; height: 10px;background-color: rgb(123, 234, 123);\"></td><td title=\"Index: [25, 7]&#10;Color: (123, 234, 123)\" style=\"width: 10px; height: 10px;background-color: rgb(123, 234, 123);\"></td><td title=\"Index: [25, 8]&#10;Color: (255, 0, 0)\" style=\"width: 10px; height: 10px;background-color: rgb(255, 0, 0);\"></td><td title=\"Index: [25, 9]&#10;Color: (123, 234, 123)\" style=\"width: 10px; height: 10px;background-color: rgb(123, 234, 123);\"></td><td title=\"Index: [25, 10]&#10;Color: (123, 234, 123)\" style=\"width: 10px; height: 10px;background-color: rgb(123, 234, 123);\"></td><td title=\"Index: [25, 11]&#10;Color: (123, 234, 123)\" style=\"width: 10px; height: 10px;background-color: rgb(123, 234, 123);\"></td><td title=\"Index: [25, 12]&#10;Color: (255, 0, 0)\" style=\"width: 10px; height: 10px;background-color: rgb(255, 0, 0);\"></td><td title=\"Index: [25, 13]&#10;Color: (123, 234, 123)\" style=\"width: 10px; height: 10px;background-color: rgb(123, 234, 123);\"></td><td title=\"Index: [25, 14]&#10;Color: (123, 234, 123)\" style=\"width: 10px; height: 10px;background-color: rgb(123, 234, 123);\"></td><td title=\"Index: [25, 15]&#10;Color: (123, 234, 123)\" style=\"width: 10px; height: 10px;background-color: rgb(123, 234, 123);\"></td><td title=\"Index: [25, 16]&#10;Color: (123, 234, 123)\" style=\"width: 10px; height: 10px;background-color: rgb(123, 234, 123);\"></td><td title=\"Index: [25, 17]&#10;Color: (123, 234, 123)\" style=\"width: 10px; height: 10px;background-color: rgb(123, 234, 123);\"></td><td title=\"Index: [25, 18]&#10;Color: (255, 0, 0)\" style=\"width: 10px; height: 10px;background-color: rgb(255, 0, 0);\"></td><td title=\"Index: [25, 19]&#10;Color: (123, 234, 123)\" style=\"width: 10px; height: 10px;background-color: rgb(123, 234, 123);\"></td><td title=\"Index: [25, 20]&#10;Color: (255, 0, 0)\" style=\"width: 10px; height: 10px;background-color: rgb(255, 0, 0);\"></td><td title=\"Index: [25, 21]&#10;Color: (123, 234, 123)\" style=\"width: 10px; height: 10px;background-color: rgb(123, 234, 123);\"></td><td title=\"Index: [25, 22]&#10;Color: (123, 234, 123)\" style=\"width: 10px; height: 10px;background-color: rgb(123, 234, 123);\"></td><td title=\"Index: [25, 23]&#10;Color: (123, 234, 123)\" style=\"width: 10px; height: 10px;background-color: rgb(123, 234, 123);\"></td><td title=\"Index: [25, 24]&#10;Color: (123, 234, 123)\" style=\"width: 10px; height: 10px;background-color: rgb(123, 234, 123);\"></td><td title=\"Index: [25, 25]&#10;Color: (123, 234, 123)\" style=\"width: 10px; height: 10px;background-color: rgb(123, 234, 123);\"></td><td title=\"Index: [25, 26]&#10;Color: (123, 234, 123)\" style=\"width: 10px; height: 10px;background-color: rgb(123, 234, 123);\"></td><td title=\"Index: [25, 27]&#10;Color: (123, 234, 123)\" style=\"width: 10px; height: 10px;background-color: rgb(123, 234, 123);\"></td><td title=\"Index: [25, 28]&#10;Color: (123, 234, 123)\" style=\"width: 10px; height: 10px;background-color: rgb(123, 234, 123);\"></td><td title=\"Index: [25, 29]&#10;Color: (123, 234, 123)\" style=\"width: 10px; height: 10px;background-color: rgb(123, 234, 123);\"></td><td title=\"Index: [25, 30]&#10;Color: (255, 0, 0)\" style=\"width: 10px; height: 10px;background-color: rgb(255, 0, 0);\"></td><td title=\"Index: [25, 31]&#10;Color: (123, 234, 123)\" style=\"width: 10px; height: 10px;background-color: rgb(123, 234, 123);\"></td><td title=\"Index: [25, 32]&#10;Color: (255, 0, 0)\" style=\"width: 10px; height: 10px;background-color: rgb(255, 0, 0);\"></td><td title=\"Index: [25, 33]&#10;Color: (123, 234, 123)\" style=\"width: 10px; height: 10px;background-color: rgb(123, 234, 123);\"></td><td title=\"Index: [25, 34]&#10;Color: (123, 234, 123)\" style=\"width: 10px; height: 10px;background-color: rgb(123, 234, 123);\"></td><td title=\"Index: [25, 35]&#10;Color: (123, 234, 123)\" style=\"width: 10px; height: 10px;background-color: rgb(123, 234, 123);\"></td><td title=\"Index: [25, 36]&#10;Color: (123, 234, 123)\" style=\"width: 10px; height: 10px;background-color: rgb(123, 234, 123);\"></td><td title=\"Index: [25, 37]&#10;Color: (123, 234, 123)\" style=\"width: 10px; height: 10px;background-color: rgb(123, 234, 123);\"></td><td title=\"Index: [25, 38]&#10;Color: (255, 0, 0)\" style=\"width: 10px; height: 10px;background-color: rgb(255, 0, 0);\"></td><td title=\"Index: [25, 39]&#10;Color: (123, 234, 123)\" style=\"width: 10px; height: 10px;background-color: rgb(123, 234, 123);\"></td></tr><tr><td title=\"Index: [26, 0]&#10;Color: (123, 234, 123)\" style=\"width: 10px; height: 10px;background-color: rgb(123, 234, 123);\"></td><td title=\"Index: [26, 1]&#10;Color: (123, 234, 123)\" style=\"width: 10px; height: 10px;background-color: rgb(123, 234, 123);\"></td><td title=\"Index: [26, 2]&#10;Color: (123, 234, 123)\" style=\"width: 10px; height: 10px;background-color: rgb(123, 234, 123);\"></td><td title=\"Index: [26, 3]&#10;Color: (123, 234, 123)\" style=\"width: 10px; height: 10px;background-color: rgb(123, 234, 123);\"></td><td title=\"Index: [26, 4]&#10;Color: (123, 234, 123)\" style=\"width: 10px; height: 10px;background-color: rgb(123, 234, 123);\"></td><td title=\"Index: [26, 5]&#10;Color: (123, 234, 123)\" style=\"width: 10px; height: 10px;background-color: rgb(123, 234, 123);\"></td><td title=\"Index: [26, 6]&#10;Color: (123, 234, 123)\" style=\"width: 10px; height: 10px;background-color: rgb(123, 234, 123);\"></td><td title=\"Index: [26, 7]&#10;Color: (123, 234, 123)\" style=\"width: 10px; height: 10px;background-color: rgb(123, 234, 123);\"></td><td title=\"Index: [26, 8]&#10;Color: (255, 0, 0)\" style=\"width: 10px; height: 10px;background-color: rgb(255, 0, 0);\"></td><td title=\"Index: [26, 9]&#10;Color: (123, 234, 123)\" style=\"width: 10px; height: 10px;background-color: rgb(123, 234, 123);\"></td><td title=\"Index: [26, 10]&#10;Color: (255, 0, 0)\" style=\"width: 10px; height: 10px;background-color: rgb(255, 0, 0);\"></td><td title=\"Index: [26, 11]&#10;Color: (123, 234, 123)\" style=\"width: 10px; height: 10px;background-color: rgb(123, 234, 123);\"></td><td title=\"Index: [26, 12]&#10;Color: (123, 234, 123)\" style=\"width: 10px; height: 10px;background-color: rgb(123, 234, 123);\"></td><td title=\"Index: [26, 13]&#10;Color: (123, 234, 123)\" style=\"width: 10px; height: 10px;background-color: rgb(123, 234, 123);\"></td><td title=\"Index: [26, 14]&#10;Color: (123, 234, 123)\" style=\"width: 10px; height: 10px;background-color: rgb(123, 234, 123);\"></td><td title=\"Index: [26, 15]&#10;Color: (123, 234, 123)\" style=\"width: 10px; height: 10px;background-color: rgb(123, 234, 123);\"></td><td title=\"Index: [26, 16]&#10;Color: (123, 234, 123)\" style=\"width: 10px; height: 10px;background-color: rgb(123, 234, 123);\"></td><td title=\"Index: [26, 17]&#10;Color: (123, 234, 123)\" style=\"width: 10px; height: 10px;background-color: rgb(123, 234, 123);\"></td><td title=\"Index: [26, 18]&#10;Color: (123, 234, 123)\" style=\"width: 10px; height: 10px;background-color: rgb(123, 234, 123);\"></td><td title=\"Index: [26, 19]&#10;Color: (123, 234, 123)\" style=\"width: 10px; height: 10px;background-color: rgb(123, 234, 123);\"></td><td title=\"Index: [26, 20]&#10;Color: (255, 0, 0)\" style=\"width: 10px; height: 10px;background-color: rgb(255, 0, 0);\"></td><td title=\"Index: [26, 21]&#10;Color: (123, 234, 123)\" style=\"width: 10px; height: 10px;background-color: rgb(123, 234, 123);\"></td><td title=\"Index: [26, 22]&#10;Color: (255, 0, 0)\" style=\"width: 10px; height: 10px;background-color: rgb(255, 0, 0);\"></td><td title=\"Index: [26, 23]&#10;Color: (123, 234, 123)\" style=\"width: 10px; height: 10px;background-color: rgb(123, 234, 123);\"></td><td title=\"Index: [26, 24]&#10;Color: (123, 234, 123)\" style=\"width: 10px; height: 10px;background-color: rgb(123, 234, 123);\"></td><td title=\"Index: [26, 25]&#10;Color: (123, 234, 123)\" style=\"width: 10px; height: 10px;background-color: rgb(123, 234, 123);\"></td><td title=\"Index: [26, 26]&#10;Color: (123, 234, 123)\" style=\"width: 10px; height: 10px;background-color: rgb(123, 234, 123);\"></td><td title=\"Index: [26, 27]&#10;Color: (123, 234, 123)\" style=\"width: 10px; height: 10px;background-color: rgb(123, 234, 123);\"></td><td title=\"Index: [26, 28]&#10;Color: (255, 0, 0)\" style=\"width: 10px; height: 10px;background-color: rgb(255, 0, 0);\"></td><td title=\"Index: [26, 29]&#10;Color: (123, 234, 123)\" style=\"width: 10px; height: 10px;background-color: rgb(123, 234, 123);\"></td><td title=\"Index: [26, 30]&#10;Color: (123, 234, 123)\" style=\"width: 10px; height: 10px;background-color: rgb(123, 234, 123);\"></td><td title=\"Index: [26, 31]&#10;Color: (123, 234, 123)\" style=\"width: 10px; height: 10px;background-color: rgb(123, 234, 123);\"></td><td title=\"Index: [26, 32]&#10;Color: (123, 234, 123)\" style=\"width: 10px; height: 10px;background-color: rgb(123, 234, 123);\"></td><td title=\"Index: [26, 33]&#10;Color: (123, 234, 123)\" style=\"width: 10px; height: 10px;background-color: rgb(123, 234, 123);\"></td><td title=\"Index: [26, 34]&#10;Color: (123, 234, 123)\" style=\"width: 10px; height: 10px;background-color: rgb(123, 234, 123);\"></td><td title=\"Index: [26, 35]&#10;Color: (123, 234, 123)\" style=\"width: 10px; height: 10px;background-color: rgb(123, 234, 123);\"></td><td title=\"Index: [26, 36]&#10;Color: (123, 234, 123)\" style=\"width: 10px; height: 10px;background-color: rgb(123, 234, 123);\"></td><td title=\"Index: [26, 37]&#10;Color: (123, 234, 123)\" style=\"width: 10px; height: 10px;background-color: rgb(123, 234, 123);\"></td><td title=\"Index: [26, 38]&#10;Color: (123, 234, 123)\" style=\"width: 10px; height: 10px;background-color: rgb(123, 234, 123);\"></td><td title=\"Index: [26, 39]&#10;Color: (123, 234, 123)\" style=\"width: 10px; height: 10px;background-color: rgb(123, 234, 123);\"></td></tr><tr><td title=\"Index: [27, 0]&#10;Color: (123, 234, 123)\" style=\"width: 10px; height: 10px;background-color: rgb(123, 234, 123);\"></td><td title=\"Index: [27, 1]&#10;Color: (123, 234, 123)\" style=\"width: 10px; height: 10px;background-color: rgb(123, 234, 123);\"></td><td title=\"Index: [27, 2]&#10;Color: (123, 234, 123)\" style=\"width: 10px; height: 10px;background-color: rgb(123, 234, 123);\"></td><td title=\"Index: [27, 3]&#10;Color: (123, 234, 123)\" style=\"width: 10px; height: 10px;background-color: rgb(123, 234, 123);\"></td><td title=\"Index: [27, 4]&#10;Color: (123, 234, 123)\" style=\"width: 10px; height: 10px;background-color: rgb(123, 234, 123);\"></td><td title=\"Index: [27, 5]&#10;Color: (123, 234, 123)\" style=\"width: 10px; height: 10px;background-color: rgb(123, 234, 123);\"></td><td title=\"Index: [27, 6]&#10;Color: (255, 0, 0)\" style=\"width: 10px; height: 10px;background-color: rgb(255, 0, 0);\"></td><td title=\"Index: [27, 7]&#10;Color: (123, 234, 123)\" style=\"width: 10px; height: 10px;background-color: rgb(123, 234, 123);\"></td><td title=\"Index: [27, 8]&#10;Color: (123, 234, 123)\" style=\"width: 10px; height: 10px;background-color: rgb(123, 234, 123);\"></td><td title=\"Index: [27, 9]&#10;Color: (123, 234, 123)\" style=\"width: 10px; height: 10px;background-color: rgb(123, 234, 123);\"></td><td title=\"Index: [27, 10]&#10;Color: (255, 0, 0)\" style=\"width: 10px; height: 10px;background-color: rgb(255, 0, 0);\"></td><td title=\"Index: [27, 11]&#10;Color: (123, 234, 123)\" style=\"width: 10px; height: 10px;background-color: rgb(123, 234, 123);\"></td><td title=\"Index: [27, 12]&#10;Color: (255, 0, 0)\" style=\"width: 10px; height: 10px;background-color: rgb(255, 0, 0);\"></td><td title=\"Index: [27, 13]&#10;Color: (123, 234, 123)\" style=\"width: 10px; height: 10px;background-color: rgb(123, 234, 123);\"></td><td title=\"Index: [27, 14]&#10;Color: (123, 234, 123)\" style=\"width: 10px; height: 10px;background-color: rgb(123, 234, 123);\"></td><td title=\"Index: [27, 15]&#10;Color: (123, 234, 123)\" style=\"width: 10px; height: 10px;background-color: rgb(123, 234, 123);\"></td><td title=\"Index: [27, 16]&#10;Color: (255, 0, 0)\" style=\"width: 10px; height: 10px;background-color: rgb(255, 0, 0);\"></td><td title=\"Index: [27, 17]&#10;Color: (123, 234, 123)\" style=\"width: 10px; height: 10px;background-color: rgb(123, 234, 123);\"></td><td title=\"Index: [27, 18]&#10;Color: (123, 234, 123)\" style=\"width: 10px; height: 10px;background-color: rgb(123, 234, 123);\"></td><td title=\"Index: [27, 19]&#10;Color: (123, 234, 123)\" style=\"width: 10px; height: 10px;background-color: rgb(123, 234, 123);\"></td><td title=\"Index: [27, 20]&#10;Color: (123, 234, 123)\" style=\"width: 10px; height: 10px;background-color: rgb(123, 234, 123);\"></td><td title=\"Index: [27, 21]&#10;Color: (123, 234, 123)\" style=\"width: 10px; height: 10px;background-color: rgb(123, 234, 123);\"></td><td title=\"Index: [27, 22]&#10;Color: (255, 0, 0)\" style=\"width: 10px; height: 10px;background-color: rgb(255, 0, 0);\"></td><td title=\"Index: [27, 23]&#10;Color: (123, 234, 123)\" style=\"width: 10px; height: 10px;background-color: rgb(123, 234, 123);\"></td><td title=\"Index: [27, 24]&#10;Color: (123, 234, 123)\" style=\"width: 10px; height: 10px;background-color: rgb(123, 234, 123);\"></td><td title=\"Index: [27, 25]&#10;Color: (123, 234, 123)\" style=\"width: 10px; height: 10px;background-color: rgb(123, 234, 123);\"></td><td title=\"Index: [27, 26]&#10;Color: (123, 234, 123)\" style=\"width: 10px; height: 10px;background-color: rgb(123, 234, 123);\"></td><td title=\"Index: [27, 27]&#10;Color: (123, 234, 123)\" style=\"width: 10px; height: 10px;background-color: rgb(123, 234, 123);\"></td><td title=\"Index: [27, 28]&#10;Color: (255, 0, 0)\" style=\"width: 10px; height: 10px;background-color: rgb(255, 0, 0);\"></td><td title=\"Index: [27, 29]&#10;Color: (123, 234, 123)\" style=\"width: 10px; height: 10px;background-color: rgb(123, 234, 123);\"></td><td title=\"Index: [27, 30]&#10;Color: (123, 234, 123)\" style=\"width: 10px; height: 10px;background-color: rgb(123, 234, 123);\"></td><td title=\"Index: [27, 31]&#10;Color: (123, 234, 123)\" style=\"width: 10px; height: 10px;background-color: rgb(123, 234, 123);\"></td><td title=\"Index: [27, 32]&#10;Color: (123, 234, 123)\" style=\"width: 10px; height: 10px;background-color: rgb(123, 234, 123);\"></td><td title=\"Index: [27, 33]&#10;Color: (123, 234, 123)\" style=\"width: 10px; height: 10px;background-color: rgb(123, 234, 123);\"></td><td title=\"Index: [27, 34]&#10;Color: (123, 234, 123)\" style=\"width: 10px; height: 10px;background-color: rgb(123, 234, 123);\"></td><td title=\"Index: [27, 35]&#10;Color: (123, 234, 123)\" style=\"width: 10px; height: 10px;background-color: rgb(123, 234, 123);\"></td><td title=\"Index: [27, 36]&#10;Color: (255, 0, 0)\" style=\"width: 10px; height: 10px;background-color: rgb(255, 0, 0);\"></td><td title=\"Index: [27, 37]&#10;Color: (123, 234, 123)\" style=\"width: 10px; height: 10px;background-color: rgb(123, 234, 123);\"></td><td title=\"Index: [27, 38]&#10;Color: (123, 234, 123)\" style=\"width: 10px; height: 10px;background-color: rgb(123, 234, 123);\"></td><td title=\"Index: [27, 39]&#10;Color: (123, 234, 123)\" style=\"width: 10px; height: 10px;background-color: rgb(123, 234, 123);\"></td></tr><tr><td title=\"Index: [28, 0]&#10;Color: (123, 234, 123)\" style=\"width: 10px; height: 10px;background-color: rgb(123, 234, 123);\"></td><td title=\"Index: [28, 1]&#10;Color: (123, 234, 123)\" style=\"width: 10px; height: 10px;background-color: rgb(123, 234, 123);\"></td><td title=\"Index: [28, 2]&#10;Color: (255, 0, 0)\" style=\"width: 10px; height: 10px;background-color: rgb(255, 0, 0);\"></td><td title=\"Index: [28, 3]&#10;Color: (123, 234, 123)\" style=\"width: 10px; height: 10px;background-color: rgb(123, 234, 123);\"></td><td title=\"Index: [28, 4]&#10;Color: (123, 234, 123)\" style=\"width: 10px; height: 10px;background-color: rgb(123, 234, 123);\"></td><td title=\"Index: [28, 5]&#10;Color: (123, 234, 123)\" style=\"width: 10px; height: 10px;background-color: rgb(123, 234, 123);\"></td><td title=\"Index: [28, 6]&#10;Color: (123, 234, 123)\" style=\"width: 10px; height: 10px;background-color: rgb(123, 234, 123);\"></td><td title=\"Index: [28, 7]&#10;Color: (123, 234, 123)\" style=\"width: 10px; height: 10px;background-color: rgb(123, 234, 123);\"></td><td title=\"Index: [28, 8]&#10;Color: (255, 0, 0)\" style=\"width: 10px; height: 10px;background-color: rgb(255, 0, 0);\"></td><td title=\"Index: [28, 9]&#10;Color: (123, 234, 123)\" style=\"width: 10px; height: 10px;background-color: rgb(123, 234, 123);\"></td><td title=\"Index: [28, 10]&#10;Color: (123, 234, 123)\" style=\"width: 10px; height: 10px;background-color: rgb(123, 234, 123);\"></td><td title=\"Index: [28, 11]&#10;Color: (123, 234, 123)\" style=\"width: 10px; height: 10px;background-color: rgb(123, 234, 123);\"></td><td title=\"Index: [28, 12]&#10;Color: (123, 234, 123)\" style=\"width: 10px; height: 10px;background-color: rgb(123, 234, 123);\"></td><td title=\"Index: [28, 13]&#10;Color: (123, 234, 123)\" style=\"width: 10px; height: 10px;background-color: rgb(123, 234, 123);\"></td><td title=\"Index: [28, 14]&#10;Color: (123, 234, 123)\" style=\"width: 10px; height: 10px;background-color: rgb(123, 234, 123);\"></td><td title=\"Index: [28, 15]&#10;Color: (123, 234, 123)\" style=\"width: 10px; height: 10px;background-color: rgb(123, 234, 123);\"></td><td title=\"Index: [28, 16]&#10;Color: (123, 234, 123)\" style=\"width: 10px; height: 10px;background-color: rgb(123, 234, 123);\"></td><td title=\"Index: [28, 17]&#10;Color: (123, 234, 123)\" style=\"width: 10px; height: 10px;background-color: rgb(123, 234, 123);\"></td><td title=\"Index: [28, 18]&#10;Color: (123, 234, 123)\" style=\"width: 10px; height: 10px;background-color: rgb(123, 234, 123);\"></td><td title=\"Index: [28, 19]&#10;Color: (123, 234, 123)\" style=\"width: 10px; height: 10px;background-color: rgb(123, 234, 123);\"></td><td title=\"Index: [28, 20]&#10;Color: (123, 234, 123)\" style=\"width: 10px; height: 10px;background-color: rgb(123, 234, 123);\"></td><td title=\"Index: [28, 21]&#10;Color: (123, 234, 123)\" style=\"width: 10px; height: 10px;background-color: rgb(123, 234, 123);\"></td><td title=\"Index: [28, 22]&#10;Color: (123, 234, 123)\" style=\"width: 10px; height: 10px;background-color: rgb(123, 234, 123);\"></td><td title=\"Index: [28, 23]&#10;Color: (123, 234, 123)\" style=\"width: 10px; height: 10px;background-color: rgb(123, 234, 123);\"></td><td title=\"Index: [28, 24]&#10;Color: (123, 234, 123)\" style=\"width: 10px; height: 10px;background-color: rgb(123, 234, 123);\"></td><td title=\"Index: [28, 25]&#10;Color: (123, 234, 123)\" style=\"width: 10px; height: 10px;background-color: rgb(123, 234, 123);\"></td><td title=\"Index: [28, 26]&#10;Color: (123, 234, 123)\" style=\"width: 10px; height: 10px;background-color: rgb(123, 234, 123);\"></td><td title=\"Index: [28, 27]&#10;Color: (123, 234, 123)\" style=\"width: 10px; height: 10px;background-color: rgb(123, 234, 123);\"></td><td title=\"Index: [28, 28]&#10;Color: (123, 234, 123)\" style=\"width: 10px; height: 10px;background-color: rgb(123, 234, 123);\"></td><td title=\"Index: [28, 29]&#10;Color: (123, 234, 123)\" style=\"width: 10px; height: 10px;background-color: rgb(123, 234, 123);\"></td><td title=\"Index: [28, 30]&#10;Color: (255, 0, 0)\" style=\"width: 10px; height: 10px;background-color: rgb(255, 0, 0);\"></td><td title=\"Index: [28, 31]&#10;Color: (123, 234, 123)\" style=\"width: 10px; height: 10px;background-color: rgb(123, 234, 123);\"></td><td title=\"Index: [28, 32]&#10;Color: (255, 0, 0)\" style=\"width: 10px; height: 10px;background-color: rgb(255, 0, 0);\"></td><td title=\"Index: [28, 33]&#10;Color: (123, 234, 123)\" style=\"width: 10px; height: 10px;background-color: rgb(123, 234, 123);\"></td><td title=\"Index: [28, 34]&#10;Color: (123, 234, 123)\" style=\"width: 10px; height: 10px;background-color: rgb(123, 234, 123);\"></td><td title=\"Index: [28, 35]&#10;Color: (123, 234, 123)\" style=\"width: 10px; height: 10px;background-color: rgb(123, 234, 123);\"></td><td title=\"Index: [28, 36]&#10;Color: (123, 234, 123)\" style=\"width: 10px; height: 10px;background-color: rgb(123, 234, 123);\"></td><td title=\"Index: [28, 37]&#10;Color: (123, 234, 123)\" style=\"width: 10px; height: 10px;background-color: rgb(123, 234, 123);\"></td><td title=\"Index: [28, 38]&#10;Color: (123, 234, 123)\" style=\"width: 10px; height: 10px;background-color: rgb(123, 234, 123);\"></td><td title=\"Index: [28, 39]&#10;Color: (123, 234, 123)\" style=\"width: 10px; height: 10px;background-color: rgb(123, 234, 123);\"></td></tr><tr><td title=\"Index: [29, 0]&#10;Color: (123, 234, 123)\" style=\"width: 10px; height: 10px;background-color: rgb(123, 234, 123);\"></td><td title=\"Index: [29, 1]&#10;Color: (123, 234, 123)\" style=\"width: 10px; height: 10px;background-color: rgb(123, 234, 123);\"></td><td title=\"Index: [29, 2]&#10;Color: (255, 0, 0)\" style=\"width: 10px; height: 10px;background-color: rgb(255, 0, 0);\"></td><td title=\"Index: [29, 3]&#10;Color: (123, 234, 123)\" style=\"width: 10px; height: 10px;background-color: rgb(123, 234, 123);\"></td><td title=\"Index: [29, 4]&#10;Color: (123, 234, 123)\" style=\"width: 10px; height: 10px;background-color: rgb(123, 234, 123);\"></td><td title=\"Index: [29, 5]&#10;Color: (123, 234, 123)\" style=\"width: 10px; height: 10px;background-color: rgb(123, 234, 123);\"></td><td title=\"Index: [29, 6]&#10;Color: (123, 234, 123)\" style=\"width: 10px; height: 10px;background-color: rgb(123, 234, 123);\"></td><td title=\"Index: [29, 7]&#10;Color: (123, 234, 123)\" style=\"width: 10px; height: 10px;background-color: rgb(123, 234, 123);\"></td><td title=\"Index: [29, 8]&#10;Color: (123, 234, 123)\" style=\"width: 10px; height: 10px;background-color: rgb(123, 234, 123);\"></td><td title=\"Index: [29, 9]&#10;Color: (123, 234, 123)\" style=\"width: 10px; height: 10px;background-color: rgb(123, 234, 123);\"></td><td title=\"Index: [29, 10]&#10;Color: (255, 0, 0)\" style=\"width: 10px; height: 10px;background-color: rgb(255, 0, 0);\"></td><td title=\"Index: [29, 11]&#10;Color: (123, 234, 123)\" style=\"width: 10px; height: 10px;background-color: rgb(123, 234, 123);\"></td><td title=\"Index: [29, 12]&#10;Color: (123, 234, 123)\" style=\"width: 10px; height: 10px;background-color: rgb(123, 234, 123);\"></td><td title=\"Index: [29, 13]&#10;Color: (123, 234, 123)\" style=\"width: 10px; height: 10px;background-color: rgb(123, 234, 123);\"></td><td title=\"Index: [29, 14]&#10;Color: (123, 234, 123)\" style=\"width: 10px; height: 10px;background-color: rgb(123, 234, 123);\"></td><td title=\"Index: [29, 15]&#10;Color: (123, 234, 123)\" style=\"width: 10px; height: 10px;background-color: rgb(123, 234, 123);\"></td><td title=\"Index: [29, 16]&#10;Color: (123, 234, 123)\" style=\"width: 10px; height: 10px;background-color: rgb(123, 234, 123);\"></td><td title=\"Index: [29, 17]&#10;Color: (123, 234, 123)\" style=\"width: 10px; height: 10px;background-color: rgb(123, 234, 123);\"></td><td title=\"Index: [29, 18]&#10;Color: (123, 234, 123)\" style=\"width: 10px; height: 10px;background-color: rgb(123, 234, 123);\"></td><td title=\"Index: [29, 19]&#10;Color: (123, 234, 123)\" style=\"width: 10px; height: 10px;background-color: rgb(123, 234, 123);\"></td><td title=\"Index: [29, 20]&#10;Color: (255, 0, 0)\" style=\"width: 10px; height: 10px;background-color: rgb(255, 0, 0);\"></td><td title=\"Index: [29, 21]&#10;Color: (123, 234, 123)\" style=\"width: 10px; height: 10px;background-color: rgb(123, 234, 123);\"></td><td title=\"Index: [29, 22]&#10;Color: (123, 234, 123)\" style=\"width: 10px; height: 10px;background-color: rgb(123, 234, 123);\"></td><td title=\"Index: [29, 23]&#10;Color: (123, 234, 123)\" style=\"width: 10px; height: 10px;background-color: rgb(123, 234, 123);\"></td><td title=\"Index: [29, 24]&#10;Color: (123, 234, 123)\" style=\"width: 10px; height: 10px;background-color: rgb(123, 234, 123);\"></td><td title=\"Index: [29, 25]&#10;Color: (123, 234, 123)\" style=\"width: 10px; height: 10px;background-color: rgb(123, 234, 123);\"></td><td title=\"Index: [29, 26]&#10;Color: (255, 0, 0)\" style=\"width: 10px; height: 10px;background-color: rgb(255, 0, 0);\"></td><td title=\"Index: [29, 27]&#10;Color: (123, 234, 123)\" style=\"width: 10px; height: 10px;background-color: rgb(123, 234, 123);\"></td><td title=\"Index: [29, 28]&#10;Color: (123, 234, 123)\" style=\"width: 10px; height: 10px;background-color: rgb(123, 234, 123);\"></td><td title=\"Index: [29, 29]&#10;Color: (123, 234, 123)\" style=\"width: 10px; height: 10px;background-color: rgb(123, 234, 123);\"></td><td title=\"Index: [29, 30]&#10;Color: (123, 234, 123)\" style=\"width: 10px; height: 10px;background-color: rgb(123, 234, 123);\"></td><td title=\"Index: [29, 31]&#10;Color: (123, 234, 123)\" style=\"width: 10px; height: 10px;background-color: rgb(123, 234, 123);\"></td><td title=\"Index: [29, 32]&#10;Color: (255, 0, 0)\" style=\"width: 10px; height: 10px;background-color: rgb(255, 0, 0);\"></td><td title=\"Index: [29, 33]&#10;Color: (123, 234, 123)\" style=\"width: 10px; height: 10px;background-color: rgb(123, 234, 123);\"></td><td title=\"Index: [29, 34]&#10;Color: (123, 234, 123)\" style=\"width: 10px; height: 10px;background-color: rgb(123, 234, 123);\"></td><td title=\"Index: [29, 35]&#10;Color: (123, 234, 123)\" style=\"width: 10px; height: 10px;background-color: rgb(123, 234, 123);\"></td><td title=\"Index: [29, 36]&#10;Color: (123, 234, 123)\" style=\"width: 10px; height: 10px;background-color: rgb(123, 234, 123);\"></td><td title=\"Index: [29, 37]&#10;Color: (123, 234, 123)\" style=\"width: 10px; height: 10px;background-color: rgb(123, 234, 123);\"></td><td title=\"Index: [29, 38]&#10;Color: (123, 234, 123)\" style=\"width: 10px; height: 10px;background-color: rgb(123, 234, 123);\"></td><td title=\"Index: [29, 39]&#10;Color: (123, 234, 123)\" style=\"width: 10px; height: 10px;background-color: rgb(123, 234, 123);\"></td></tr><tr><td title=\"Index: [30, 0]&#10;Color: (255, 0, 0)\" style=\"width: 10px; height: 10px;background-color: rgb(255, 0, 0);\"></td><td title=\"Index: [30, 1]&#10;Color: (123, 234, 123)\" style=\"width: 10px; height: 10px;background-color: rgb(123, 234, 123);\"></td><td title=\"Index: [30, 2]&#10;Color: (123, 234, 123)\" style=\"width: 10px; height: 10px;background-color: rgb(123, 234, 123);\"></td><td title=\"Index: [30, 3]&#10;Color: (123, 234, 123)\" style=\"width: 10px; height: 10px;background-color: rgb(123, 234, 123);\"></td><td title=\"Index: [30, 4]&#10;Color: (123, 234, 123)\" style=\"width: 10px; height: 10px;background-color: rgb(123, 234, 123);\"></td><td title=\"Index: [30, 5]&#10;Color: (123, 234, 123)\" style=\"width: 10px; height: 10px;background-color: rgb(123, 234, 123);\"></td><td title=\"Index: [30, 6]&#10;Color: (123, 234, 123)\" style=\"width: 10px; height: 10px;background-color: rgb(123, 234, 123);\"></td><td title=\"Index: [30, 7]&#10;Color: (123, 234, 123)\" style=\"width: 10px; height: 10px;background-color: rgb(123, 234, 123);\"></td><td title=\"Index: [30, 8]&#10;Color: (123, 234, 123)\" style=\"width: 10px; height: 10px;background-color: rgb(123, 234, 123);\"></td><td title=\"Index: [30, 9]&#10;Color: (123, 234, 123)\" style=\"width: 10px; height: 10px;background-color: rgb(123, 234, 123);\"></td><td title=\"Index: [30, 10]&#10;Color: (123, 234, 123)\" style=\"width: 10px; height: 10px;background-color: rgb(123, 234, 123);\"></td><td title=\"Index: [30, 11]&#10;Color: (123, 234, 123)\" style=\"width: 10px; height: 10px;background-color: rgb(123, 234, 123);\"></td><td title=\"Index: [30, 12]&#10;Color: (255, 0, 0)\" style=\"width: 10px; height: 10px;background-color: rgb(255, 0, 0);\"></td><td title=\"Index: [30, 13]&#10;Color: (123, 234, 123)\" style=\"width: 10px; height: 10px;background-color: rgb(123, 234, 123);\"></td><td title=\"Index: [30, 14]&#10;Color: (123, 234, 123)\" style=\"width: 10px; height: 10px;background-color: rgb(123, 234, 123);\"></td><td title=\"Index: [30, 15]&#10;Color: (123, 234, 123)\" style=\"width: 10px; height: 10px;background-color: rgb(123, 234, 123);\"></td><td title=\"Index: [30, 16]&#10;Color: (255, 0, 0)\" style=\"width: 10px; height: 10px;background-color: rgb(255, 0, 0);\"></td><td title=\"Index: [30, 17]&#10;Color: (123, 234, 123)\" style=\"width: 10px; height: 10px;background-color: rgb(123, 234, 123);\"></td><td title=\"Index: [30, 18]&#10;Color: (123, 234, 123)\" style=\"width: 10px; height: 10px;background-color: rgb(123, 234, 123);\"></td><td title=\"Index: [30, 19]&#10;Color: (123, 234, 123)\" style=\"width: 10px; height: 10px;background-color: rgb(123, 234, 123);\"></td><td title=\"Index: [30, 20]&#10;Color: (123, 234, 123)\" style=\"width: 10px; height: 10px;background-color: rgb(123, 234, 123);\"></td><td title=\"Index: [30, 21]&#10;Color: (123, 234, 123)\" style=\"width: 10px; height: 10px;background-color: rgb(123, 234, 123);\"></td><td title=\"Index: [30, 22]&#10;Color: (255, 0, 0)\" style=\"width: 10px; height: 10px;background-color: rgb(255, 0, 0);\"></td><td title=\"Index: [30, 23]&#10;Color: (123, 234, 123)\" style=\"width: 10px; height: 10px;background-color: rgb(123, 234, 123);\"></td><td title=\"Index: [30, 24]&#10;Color: (123, 234, 123)\" style=\"width: 10px; height: 10px;background-color: rgb(123, 234, 123);\"></td><td title=\"Index: [30, 25]&#10;Color: (123, 234, 123)\" style=\"width: 10px; height: 10px;background-color: rgb(123, 234, 123);\"></td><td title=\"Index: [30, 26]&#10;Color: (123, 234, 123)\" style=\"width: 10px; height: 10px;background-color: rgb(123, 234, 123);\"></td><td title=\"Index: [30, 27]&#10;Color: (123, 234, 123)\" style=\"width: 10px; height: 10px;background-color: rgb(123, 234, 123);\"></td><td title=\"Index: [30, 28]&#10;Color: (255, 0, 0)\" style=\"width: 10px; height: 10px;background-color: rgb(255, 0, 0);\"></td><td title=\"Index: [30, 29]&#10;Color: (123, 234, 123)\" style=\"width: 10px; height: 10px;background-color: rgb(123, 234, 123);\"></td><td title=\"Index: [30, 30]&#10;Color: (255, 0, 0)\" style=\"width: 10px; height: 10px;background-color: rgb(255, 0, 0);\"></td><td title=\"Index: [30, 31]&#10;Color: (123, 234, 123)\" style=\"width: 10px; height: 10px;background-color: rgb(123, 234, 123);\"></td><td title=\"Index: [30, 32]&#10;Color: (123, 234, 123)\" style=\"width: 10px; height: 10px;background-color: rgb(123, 234, 123);\"></td><td title=\"Index: [30, 33]&#10;Color: (123, 234, 123)\" style=\"width: 10px; height: 10px;background-color: rgb(123, 234, 123);\"></td><td title=\"Index: [30, 34]&#10;Color: (123, 234, 123)\" style=\"width: 10px; height: 10px;background-color: rgb(123, 234, 123);\"></td><td title=\"Index: [30, 35]&#10;Color: (123, 234, 123)\" style=\"width: 10px; height: 10px;background-color: rgb(123, 234, 123);\"></td><td title=\"Index: [30, 36]&#10;Color: (255, 0, 0)\" style=\"width: 10px; height: 10px;background-color: rgb(255, 0, 0);\"></td><td title=\"Index: [30, 37]&#10;Color: (123, 234, 123)\" style=\"width: 10px; height: 10px;background-color: rgb(123, 234, 123);\"></td><td title=\"Index: [30, 38]&#10;Color: (123, 234, 123)\" style=\"width: 10px; height: 10px;background-color: rgb(123, 234, 123);\"></td><td title=\"Index: [30, 39]&#10;Color: (123, 234, 123)\" style=\"width: 10px; height: 10px;background-color: rgb(123, 234, 123);\"></td></tr><tr><td title=\"Index: [31, 0]&#10;Color: (123, 234, 123)\" style=\"width: 10px; height: 10px;background-color: rgb(123, 234, 123);\"></td><td title=\"Index: [31, 1]&#10;Color: (123, 234, 123)\" style=\"width: 10px; height: 10px;background-color: rgb(123, 234, 123);\"></td><td title=\"Index: [31, 2]&#10;Color: (123, 234, 123)\" style=\"width: 10px; height: 10px;background-color: rgb(123, 234, 123);\"></td><td title=\"Index: [31, 3]&#10;Color: (123, 234, 123)\" style=\"width: 10px; height: 10px;background-color: rgb(123, 234, 123);\"></td><td title=\"Index: [31, 4]&#10;Color: (123, 234, 123)\" style=\"width: 10px; height: 10px;background-color: rgb(123, 234, 123);\"></td><td title=\"Index: [31, 5]&#10;Color: (123, 234, 123)\" style=\"width: 10px; height: 10px;background-color: rgb(123, 234, 123);\"></td><td title=\"Index: [31, 6]&#10;Color: (123, 234, 123)\" style=\"width: 10px; height: 10px;background-color: rgb(123, 234, 123);\"></td><td title=\"Index: [31, 7]&#10;Color: (123, 234, 123)\" style=\"width: 10px; height: 10px;background-color: rgb(123, 234, 123);\"></td><td title=\"Index: [31, 8]&#10;Color: (255, 0, 0)\" style=\"width: 10px; height: 10px;background-color: rgb(255, 0, 0);\"></td><td title=\"Index: [31, 9]&#10;Color: (123, 234, 123)\" style=\"width: 10px; height: 10px;background-color: rgb(123, 234, 123);\"></td><td title=\"Index: [31, 10]&#10;Color: (123, 234, 123)\" style=\"width: 10px; height: 10px;background-color: rgb(123, 234, 123);\"></td><td title=\"Index: [31, 11]&#10;Color: (123, 234, 123)\" style=\"width: 10px; height: 10px;background-color: rgb(123, 234, 123);\"></td><td title=\"Index: [31, 12]&#10;Color: (123, 234, 123)\" style=\"width: 10px; height: 10px;background-color: rgb(123, 234, 123);\"></td><td title=\"Index: [31, 13]&#10;Color: (123, 234, 123)\" style=\"width: 10px; height: 10px;background-color: rgb(123, 234, 123);\"></td><td title=\"Index: [31, 14]&#10;Color: (123, 234, 123)\" style=\"width: 10px; height: 10px;background-color: rgb(123, 234, 123);\"></td><td title=\"Index: [31, 15]&#10;Color: (123, 234, 123)\" style=\"width: 10px; height: 10px;background-color: rgb(123, 234, 123);\"></td><td title=\"Index: [31, 16]&#10;Color: (123, 234, 123)\" style=\"width: 10px; height: 10px;background-color: rgb(123, 234, 123);\"></td><td title=\"Index: [31, 17]&#10;Color: (123, 234, 123)\" style=\"width: 10px; height: 10px;background-color: rgb(123, 234, 123);\"></td><td title=\"Index: [31, 18]&#10;Color: (255, 0, 0)\" style=\"width: 10px; height: 10px;background-color: rgb(255, 0, 0);\"></td><td title=\"Index: [31, 19]&#10;Color: (123, 234, 123)\" style=\"width: 10px; height: 10px;background-color: rgb(123, 234, 123);\"></td><td title=\"Index: [31, 20]&#10;Color: (123, 234, 123)\" style=\"width: 10px; height: 10px;background-color: rgb(123, 234, 123);\"></td><td title=\"Index: [31, 21]&#10;Color: (123, 234, 123)\" style=\"width: 10px; height: 10px;background-color: rgb(123, 234, 123);\"></td><td title=\"Index: [31, 22]&#10;Color: (123, 234, 123)\" style=\"width: 10px; height: 10px;background-color: rgb(123, 234, 123);\"></td><td title=\"Index: [31, 23]&#10;Color: (123, 234, 123)\" style=\"width: 10px; height: 10px;background-color: rgb(123, 234, 123);\"></td><td title=\"Index: [31, 24]&#10;Color: (123, 234, 123)\" style=\"width: 10px; height: 10px;background-color: rgb(123, 234, 123);\"></td><td title=\"Index: [31, 25]&#10;Color: (123, 234, 123)\" style=\"width: 10px; height: 10px;background-color: rgb(123, 234, 123);\"></td><td title=\"Index: [31, 26]&#10;Color: (123, 234, 123)\" style=\"width: 10px; height: 10px;background-color: rgb(123, 234, 123);\"></td><td title=\"Index: [31, 27]&#10;Color: (123, 234, 123)\" style=\"width: 10px; height: 10px;background-color: rgb(123, 234, 123);\"></td><td title=\"Index: [31, 28]&#10;Color: (123, 234, 123)\" style=\"width: 10px; height: 10px;background-color: rgb(123, 234, 123);\"></td><td title=\"Index: [31, 29]&#10;Color: (123, 234, 123)\" style=\"width: 10px; height: 10px;background-color: rgb(123, 234, 123);\"></td><td title=\"Index: [31, 30]&#10;Color: (123, 234, 123)\" style=\"width: 10px; height: 10px;background-color: rgb(123, 234, 123);\"></td><td title=\"Index: [31, 31]&#10;Color: (123, 234, 123)\" style=\"width: 10px; height: 10px;background-color: rgb(123, 234, 123);\"></td><td title=\"Index: [31, 32]&#10;Color: (123, 234, 123)\" style=\"width: 10px; height: 10px;background-color: rgb(123, 234, 123);\"></td><td title=\"Index: [31, 33]&#10;Color: (123, 234, 123)\" style=\"width: 10px; height: 10px;background-color: rgb(123, 234, 123);\"></td><td title=\"Index: [31, 34]&#10;Color: (123, 234, 123)\" style=\"width: 10px; height: 10px;background-color: rgb(123, 234, 123);\"></td><td title=\"Index: [31, 35]&#10;Color: (123, 234, 123)\" style=\"width: 10px; height: 10px;background-color: rgb(123, 234, 123);\"></td><td title=\"Index: [31, 36]&#10;Color: (255, 0, 0)\" style=\"width: 10px; height: 10px;background-color: rgb(255, 0, 0);\"></td><td title=\"Index: [31, 37]&#10;Color: (123, 234, 123)\" style=\"width: 10px; height: 10px;background-color: rgb(123, 234, 123);\"></td><td title=\"Index: [31, 38]&#10;Color: (255, 0, 0)\" style=\"width: 10px; height: 10px;background-color: rgb(255, 0, 0);\"></td><td title=\"Index: [31, 39]&#10;Color: (123, 234, 123)\" style=\"width: 10px; height: 10px;background-color: rgb(123, 234, 123);\"></td></tr><tr><td title=\"Index: [32, 0]&#10;Color: (123, 234, 123)\" style=\"width: 10px; height: 10px;background-color: rgb(123, 234, 123);\"></td><td title=\"Index: [32, 1]&#10;Color: (123, 234, 123)\" style=\"width: 10px; height: 10px;background-color: rgb(123, 234, 123);\"></td><td title=\"Index: [32, 2]&#10;Color: (255, 0, 0)\" style=\"width: 10px; height: 10px;background-color: rgb(255, 0, 0);\"></td><td title=\"Index: [32, 3]&#10;Color: (123, 234, 123)\" style=\"width: 10px; height: 10px;background-color: rgb(123, 234, 123);\"></td><td title=\"Index: [32, 4]&#10;Color: (123, 234, 123)\" style=\"width: 10px; height: 10px;background-color: rgb(123, 234, 123);\"></td><td title=\"Index: [32, 5]&#10;Color: (123, 234, 123)\" style=\"width: 10px; height: 10px;background-color: rgb(123, 234, 123);\"></td><td title=\"Index: [32, 6]&#10;Color: (123, 234, 123)\" style=\"width: 10px; height: 10px;background-color: rgb(123, 234, 123);\"></td><td title=\"Index: [32, 7]&#10;Color: (123, 234, 123)\" style=\"width: 10px; height: 10px;background-color: rgb(123, 234, 123);\"></td><td title=\"Index: [32, 8]&#10;Color: (255, 0, 0)\" style=\"width: 10px; height: 10px;background-color: rgb(255, 0, 0);\"></td><td title=\"Index: [32, 9]&#10;Color: (123, 234, 123)\" style=\"width: 10px; height: 10px;background-color: rgb(123, 234, 123);\"></td><td title=\"Index: [32, 10]&#10;Color: (255, 0, 0)\" style=\"width: 10px; height: 10px;background-color: rgb(255, 0, 0);\"></td><td title=\"Index: [32, 11]&#10;Color: (123, 234, 123)\" style=\"width: 10px; height: 10px;background-color: rgb(123, 234, 123);\"></td><td title=\"Index: [32, 12]&#10;Color: (123, 234, 123)\" style=\"width: 10px; height: 10px;background-color: rgb(123, 234, 123);\"></td><td title=\"Index: [32, 13]&#10;Color: (123, 234, 123)\" style=\"width: 10px; height: 10px;background-color: rgb(123, 234, 123);\"></td><td title=\"Index: [32, 14]&#10;Color: (123, 234, 123)\" style=\"width: 10px; height: 10px;background-color: rgb(123, 234, 123);\"></td><td title=\"Index: [32, 15]&#10;Color: (123, 234, 123)\" style=\"width: 10px; height: 10px;background-color: rgb(123, 234, 123);\"></td><td title=\"Index: [32, 16]&#10;Color: (255, 0, 0)\" style=\"width: 10px; height: 10px;background-color: rgb(255, 0, 0);\"></td><td title=\"Index: [32, 17]&#10;Color: (123, 234, 123)\" style=\"width: 10px; height: 10px;background-color: rgb(123, 234, 123);\"></td><td title=\"Index: [32, 18]&#10;Color: (123, 234, 123)\" style=\"width: 10px; height: 10px;background-color: rgb(123, 234, 123);\"></td><td title=\"Index: [32, 19]&#10;Color: (123, 234, 123)\" style=\"width: 10px; height: 10px;background-color: rgb(123, 234, 123);\"></td><td title=\"Index: [32, 20]&#10;Color: (255, 0, 0)\" style=\"width: 10px; height: 10px;background-color: rgb(255, 0, 0);\"></td><td title=\"Index: [32, 21]&#10;Color: (123, 234, 123)\" style=\"width: 10px; height: 10px;background-color: rgb(123, 234, 123);\"></td><td title=\"Index: [32, 22]&#10;Color: (255, 0, 0)\" style=\"width: 10px; height: 10px;background-color: rgb(255, 0, 0);\"></td><td title=\"Index: [32, 23]&#10;Color: (123, 234, 123)\" style=\"width: 10px; height: 10px;background-color: rgb(123, 234, 123);\"></td><td title=\"Index: [32, 24]&#10;Color: (123, 234, 123)\" style=\"width: 10px; height: 10px;background-color: rgb(123, 234, 123);\"></td><td title=\"Index: [32, 25]&#10;Color: (123, 234, 123)\" style=\"width: 10px; height: 10px;background-color: rgb(123, 234, 123);\"></td><td title=\"Index: [32, 26]&#10;Color: (255, 0, 0)\" style=\"width: 10px; height: 10px;background-color: rgb(255, 0, 0);\"></td><td title=\"Index: [32, 27]&#10;Color: (123, 234, 123)\" style=\"width: 10px; height: 10px;background-color: rgb(123, 234, 123);\"></td><td title=\"Index: [32, 28]&#10;Color: (123, 234, 123)\" style=\"width: 10px; height: 10px;background-color: rgb(123, 234, 123);\"></td><td title=\"Index: [32, 29]&#10;Color: (123, 234, 123)\" style=\"width: 10px; height: 10px;background-color: rgb(123, 234, 123);\"></td><td title=\"Index: [32, 30]&#10;Color: (123, 234, 123)\" style=\"width: 10px; height: 10px;background-color: rgb(123, 234, 123);\"></td><td title=\"Index: [32, 31]&#10;Color: (123, 234, 123)\" style=\"width: 10px; height: 10px;background-color: rgb(123, 234, 123);\"></td><td title=\"Index: [32, 32]&#10;Color: (123, 234, 123)\" style=\"width: 10px; height: 10px;background-color: rgb(123, 234, 123);\"></td><td title=\"Index: [32, 33]&#10;Color: (123, 234, 123)\" style=\"width: 10px; height: 10px;background-color: rgb(123, 234, 123);\"></td><td title=\"Index: [32, 34]&#10;Color: (123, 234, 123)\" style=\"width: 10px; height: 10px;background-color: rgb(123, 234, 123);\"></td><td title=\"Index: [32, 35]&#10;Color: (123, 234, 123)\" style=\"width: 10px; height: 10px;background-color: rgb(123, 234, 123);\"></td><td title=\"Index: [32, 36]&#10;Color: (123, 234, 123)\" style=\"width: 10px; height: 10px;background-color: rgb(123, 234, 123);\"></td><td title=\"Index: [32, 37]&#10;Color: (123, 234, 123)\" style=\"width: 10px; height: 10px;background-color: rgb(123, 234, 123);\"></td><td title=\"Index: [32, 38]&#10;Color: (255, 0, 0)\" style=\"width: 10px; height: 10px;background-color: rgb(255, 0, 0);\"></td><td title=\"Index: [32, 39]&#10;Color: (123, 234, 123)\" style=\"width: 10px; height: 10px;background-color: rgb(123, 234, 123);\"></td></tr><tr><td title=\"Index: [33, 0]&#10;Color: (255, 0, 0)\" style=\"width: 10px; height: 10px;background-color: rgb(255, 0, 0);\"></td><td title=\"Index: [33, 1]&#10;Color: (123, 234, 123)\" style=\"width: 10px; height: 10px;background-color: rgb(123, 234, 123);\"></td><td title=\"Index: [33, 2]&#10;Color: (123, 234, 123)\" style=\"width: 10px; height: 10px;background-color: rgb(123, 234, 123);\"></td><td title=\"Index: [33, 3]&#10;Color: (123, 234, 123)\" style=\"width: 10px; height: 10px;background-color: rgb(123, 234, 123);\"></td><td title=\"Index: [33, 4]&#10;Color: (123, 234, 123)\" style=\"width: 10px; height: 10px;background-color: rgb(123, 234, 123);\"></td><td title=\"Index: [33, 5]&#10;Color: (123, 234, 123)\" style=\"width: 10px; height: 10px;background-color: rgb(123, 234, 123);\"></td><td title=\"Index: [33, 6]&#10;Color: (255, 0, 0)\" style=\"width: 10px; height: 10px;background-color: rgb(255, 0, 0);\"></td><td title=\"Index: [33, 7]&#10;Color: (123, 234, 123)\" style=\"width: 10px; height: 10px;background-color: rgb(123, 234, 123);\"></td><td title=\"Index: [33, 8]&#10;Color: (123, 234, 123)\" style=\"width: 10px; height: 10px;background-color: rgb(123, 234, 123);\"></td><td title=\"Index: [33, 9]&#10;Color: (123, 234, 123)\" style=\"width: 10px; height: 10px;background-color: rgb(123, 234, 123);\"></td><td title=\"Index: [33, 10]&#10;Color: (123, 234, 123)\" style=\"width: 10px; height: 10px;background-color: rgb(123, 234, 123);\"></td><td title=\"Index: [33, 11]&#10;Color: (123, 234, 123)\" style=\"width: 10px; height: 10px;background-color: rgb(123, 234, 123);\"></td><td title=\"Index: [33, 12]&#10;Color: (123, 234, 123)\" style=\"width: 10px; height: 10px;background-color: rgb(123, 234, 123);\"></td><td title=\"Index: [33, 13]&#10;Color: (123, 234, 123)\" style=\"width: 10px; height: 10px;background-color: rgb(123, 234, 123);\"></td><td title=\"Index: [33, 14]&#10;Color: (123, 234, 123)\" style=\"width: 10px; height: 10px;background-color: rgb(123, 234, 123);\"></td><td title=\"Index: [33, 15]&#10;Color: (123, 234, 123)\" style=\"width: 10px; height: 10px;background-color: rgb(123, 234, 123);\"></td><td title=\"Index: [33, 16]&#10;Color: (123, 234, 123)\" style=\"width: 10px; height: 10px;background-color: rgb(123, 234, 123);\"></td><td title=\"Index: [33, 17]&#10;Color: (123, 234, 123)\" style=\"width: 10px; height: 10px;background-color: rgb(123, 234, 123);\"></td><td title=\"Index: [33, 18]&#10;Color: (123, 234, 123)\" style=\"width: 10px; height: 10px;background-color: rgb(123, 234, 123);\"></td><td title=\"Index: [33, 19]&#10;Color: (123, 234, 123)\" style=\"width: 10px; height: 10px;background-color: rgb(123, 234, 123);\"></td><td title=\"Index: [33, 20]&#10;Color: (123, 234, 123)\" style=\"width: 10px; height: 10px;background-color: rgb(123, 234, 123);\"></td><td title=\"Index: [33, 21]&#10;Color: (123, 234, 123)\" style=\"width: 10px; height: 10px;background-color: rgb(123, 234, 123);\"></td><td title=\"Index: [33, 22]&#10;Color: (123, 234, 123)\" style=\"width: 10px; height: 10px;background-color: rgb(123, 234, 123);\"></td><td title=\"Index: [33, 23]&#10;Color: (123, 234, 123)\" style=\"width: 10px; height: 10px;background-color: rgb(123, 234, 123);\"></td><td title=\"Index: [33, 24]&#10;Color: (123, 234, 123)\" style=\"width: 10px; height: 10px;background-color: rgb(123, 234, 123);\"></td><td title=\"Index: [33, 25]&#10;Color: (123, 234, 123)\" style=\"width: 10px; height: 10px;background-color: rgb(123, 234, 123);\"></td><td title=\"Index: [33, 26]&#10;Color: (123, 234, 123)\" style=\"width: 10px; height: 10px;background-color: rgb(123, 234, 123);\"></td><td title=\"Index: [33, 27]&#10;Color: (123, 234, 123)\" style=\"width: 10px; height: 10px;background-color: rgb(123, 234, 123);\"></td><td title=\"Index: [33, 28]&#10;Color: (123, 234, 123)\" style=\"width: 10px; height: 10px;background-color: rgb(123, 234, 123);\"></td><td title=\"Index: [33, 29]&#10;Color: (123, 234, 123)\" style=\"width: 10px; height: 10px;background-color: rgb(123, 234, 123);\"></td><td title=\"Index: [33, 30]&#10;Color: (123, 234, 123)\" style=\"width: 10px; height: 10px;background-color: rgb(123, 234, 123);\"></td><td title=\"Index: [33, 31]&#10;Color: (123, 234, 123)\" style=\"width: 10px; height: 10px;background-color: rgb(123, 234, 123);\"></td><td title=\"Index: [33, 32]&#10;Color: (123, 234, 123)\" style=\"width: 10px; height: 10px;background-color: rgb(123, 234, 123);\"></td><td title=\"Index: [33, 33]&#10;Color: (123, 234, 123)\" style=\"width: 10px; height: 10px;background-color: rgb(123, 234, 123);\"></td><td title=\"Index: [33, 34]&#10;Color: (123, 234, 123)\" style=\"width: 10px; height: 10px;background-color: rgb(123, 234, 123);\"></td><td title=\"Index: [33, 35]&#10;Color: (123, 234, 123)\" style=\"width: 10px; height: 10px;background-color: rgb(123, 234, 123);\"></td><td title=\"Index: [33, 36]&#10;Color: (123, 234, 123)\" style=\"width: 10px; height: 10px;background-color: rgb(123, 234, 123);\"></td><td title=\"Index: [33, 37]&#10;Color: (123, 234, 123)\" style=\"width: 10px; height: 10px;background-color: rgb(123, 234, 123);\"></td><td title=\"Index: [33, 38]&#10;Color: (123, 234, 123)\" style=\"width: 10px; height: 10px;background-color: rgb(123, 234, 123);\"></td><td title=\"Index: [33, 39]&#10;Color: (123, 234, 123)\" style=\"width: 10px; height: 10px;background-color: rgb(123, 234, 123);\"></td></tr><tr><td title=\"Index: [34, 0]&#10;Color: (255, 0, 0)\" style=\"width: 10px; height: 10px;background-color: rgb(255, 0, 0);\"></td><td title=\"Index: [34, 1]&#10;Color: (123, 234, 123)\" style=\"width: 10px; height: 10px;background-color: rgb(123, 234, 123);\"></td><td title=\"Index: [34, 2]&#10;Color: (123, 234, 123)\" style=\"width: 10px; height: 10px;background-color: rgb(123, 234, 123);\"></td><td title=\"Index: [34, 3]&#10;Color: (123, 234, 123)\" style=\"width: 10px; height: 10px;background-color: rgb(123, 234, 123);\"></td><td title=\"Index: [34, 4]&#10;Color: (123, 234, 123)\" style=\"width: 10px; height: 10px;background-color: rgb(123, 234, 123);\"></td><td title=\"Index: [34, 5]&#10;Color: (123, 234, 123)\" style=\"width: 10px; height: 10px;background-color: rgb(123, 234, 123);\"></td><td title=\"Index: [34, 6]&#10;Color: (255, 0, 0)\" style=\"width: 10px; height: 10px;background-color: rgb(255, 0, 0);\"></td><td title=\"Index: [34, 7]&#10;Color: (123, 234, 123)\" style=\"width: 10px; height: 10px;background-color: rgb(123, 234, 123);\"></td><td title=\"Index: [34, 8]&#10;Color: (123, 234, 123)\" style=\"width: 10px; height: 10px;background-color: rgb(123, 234, 123);\"></td><td title=\"Index: [34, 9]&#10;Color: (123, 234, 123)\" style=\"width: 10px; height: 10px;background-color: rgb(123, 234, 123);\"></td><td title=\"Index: [34, 10]&#10;Color: (123, 234, 123)\" style=\"width: 10px; height: 10px;background-color: rgb(123, 234, 123);\"></td><td title=\"Index: [34, 11]&#10;Color: (123, 234, 123)\" style=\"width: 10px; height: 10px;background-color: rgb(123, 234, 123);\"></td><td title=\"Index: [34, 12]&#10;Color: (255, 0, 0)\" style=\"width: 10px; height: 10px;background-color: rgb(255, 0, 0);\"></td><td title=\"Index: [34, 13]&#10;Color: (123, 234, 123)\" style=\"width: 10px; height: 10px;background-color: rgb(123, 234, 123);\"></td><td title=\"Index: [34, 14]&#10;Color: (123, 234, 123)\" style=\"width: 10px; height: 10px;background-color: rgb(123, 234, 123);\"></td><td title=\"Index: [34, 15]&#10;Color: (123, 234, 123)\" style=\"width: 10px; height: 10px;background-color: rgb(123, 234, 123);\"></td><td title=\"Index: [34, 16]&#10;Color: (123, 234, 123)\" style=\"width: 10px; height: 10px;background-color: rgb(123, 234, 123);\"></td><td title=\"Index: [34, 17]&#10;Color: (123, 234, 123)\" style=\"width: 10px; height: 10px;background-color: rgb(123, 234, 123);\"></td><td title=\"Index: [34, 18]&#10;Color: (123, 234, 123)\" style=\"width: 10px; height: 10px;background-color: rgb(123, 234, 123);\"></td><td title=\"Index: [34, 19]&#10;Color: (123, 234, 123)\" style=\"width: 10px; height: 10px;background-color: rgb(123, 234, 123);\"></td><td title=\"Index: [34, 20]&#10;Color: (255, 0, 0)\" style=\"width: 10px; height: 10px;background-color: rgb(255, 0, 0);\"></td><td title=\"Index: [34, 21]&#10;Color: (123, 234, 123)\" style=\"width: 10px; height: 10px;background-color: rgb(123, 234, 123);\"></td><td title=\"Index: [34, 22]&#10;Color: (123, 234, 123)\" style=\"width: 10px; height: 10px;background-color: rgb(123, 234, 123);\"></td><td title=\"Index: [34, 23]&#10;Color: (123, 234, 123)\" style=\"width: 10px; height: 10px;background-color: rgb(123, 234, 123);\"></td><td title=\"Index: [34, 24]&#10;Color: (123, 234, 123)\" style=\"width: 10px; height: 10px;background-color: rgb(123, 234, 123);\"></td><td title=\"Index: [34, 25]&#10;Color: (123, 234, 123)\" style=\"width: 10px; height: 10px;background-color: rgb(123, 234, 123);\"></td><td title=\"Index: [34, 26]&#10;Color: (123, 234, 123)\" style=\"width: 10px; height: 10px;background-color: rgb(123, 234, 123);\"></td><td title=\"Index: [34, 27]&#10;Color: (123, 234, 123)\" style=\"width: 10px; height: 10px;background-color: rgb(123, 234, 123);\"></td><td title=\"Index: [34, 28]&#10;Color: (123, 234, 123)\" style=\"width: 10px; height: 10px;background-color: rgb(123, 234, 123);\"></td><td title=\"Index: [34, 29]&#10;Color: (123, 234, 123)\" style=\"width: 10px; height: 10px;background-color: rgb(123, 234, 123);\"></td><td title=\"Index: [34, 30]&#10;Color: (123, 234, 123)\" style=\"width: 10px; height: 10px;background-color: rgb(123, 234, 123);\"></td><td title=\"Index: [34, 31]&#10;Color: (123, 234, 123)\" style=\"width: 10px; height: 10px;background-color: rgb(123, 234, 123);\"></td><td title=\"Index: [34, 32]&#10;Color: (123, 234, 123)\" style=\"width: 10px; height: 10px;background-color: rgb(123, 234, 123);\"></td><td title=\"Index: [34, 33]&#10;Color: (123, 234, 123)\" style=\"width: 10px; height: 10px;background-color: rgb(123, 234, 123);\"></td><td title=\"Index: [34, 34]&#10;Color: (123, 234, 123)\" style=\"width: 10px; height: 10px;background-color: rgb(123, 234, 123);\"></td><td title=\"Index: [34, 35]&#10;Color: (123, 234, 123)\" style=\"width: 10px; height: 10px;background-color: rgb(123, 234, 123);\"></td><td title=\"Index: [34, 36]&#10;Color: (123, 234, 123)\" style=\"width: 10px; height: 10px;background-color: rgb(123, 234, 123);\"></td><td title=\"Index: [34, 37]&#10;Color: (123, 234, 123)\" style=\"width: 10px; height: 10px;background-color: rgb(123, 234, 123);\"></td><td title=\"Index: [34, 38]&#10;Color: (255, 0, 0)\" style=\"width: 10px; height: 10px;background-color: rgb(255, 0, 0);\"></td><td title=\"Index: [34, 39]&#10;Color: (123, 234, 123)\" style=\"width: 10px; height: 10px;background-color: rgb(123, 234, 123);\"></td></tr><tr><td title=\"Index: [35, 0]&#10;Color: (123, 234, 123)\" style=\"width: 10px; height: 10px;background-color: rgb(123, 234, 123);\"></td><td title=\"Index: [35, 1]&#10;Color: (123, 234, 123)\" style=\"width: 10px; height: 10px;background-color: rgb(123, 234, 123);\"></td><td title=\"Index: [35, 2]&#10;Color: (123, 234, 123)\" style=\"width: 10px; height: 10px;background-color: rgb(123, 234, 123);\"></td><td title=\"Index: [35, 3]&#10;Color: (123, 234, 123)\" style=\"width: 10px; height: 10px;background-color: rgb(123, 234, 123);\"></td><td title=\"Index: [35, 4]&#10;Color: (123, 234, 123)\" style=\"width: 10px; height: 10px;background-color: rgb(123, 234, 123);\"></td><td title=\"Index: [35, 5]&#10;Color: (123, 234, 123)\" style=\"width: 10px; height: 10px;background-color: rgb(123, 234, 123);\"></td><td title=\"Index: [35, 6]&#10;Color: (123, 234, 123)\" style=\"width: 10px; height: 10px;background-color: rgb(123, 234, 123);\"></td><td title=\"Index: [35, 7]&#10;Color: (123, 234, 123)\" style=\"width: 10px; height: 10px;background-color: rgb(123, 234, 123);\"></td><td title=\"Index: [35, 8]&#10;Color: (255, 0, 0)\" style=\"width: 10px; height: 10px;background-color: rgb(255, 0, 0);\"></td><td title=\"Index: [35, 9]&#10;Color: (123, 234, 123)\" style=\"width: 10px; height: 10px;background-color: rgb(123, 234, 123);\"></td><td title=\"Index: [35, 10]&#10;Color: (123, 234, 123)\" style=\"width: 10px; height: 10px;background-color: rgb(123, 234, 123);\"></td><td title=\"Index: [35, 11]&#10;Color: (123, 234, 123)\" style=\"width: 10px; height: 10px;background-color: rgb(123, 234, 123);\"></td><td title=\"Index: [35, 12]&#10;Color: (123, 234, 123)\" style=\"width: 10px; height: 10px;background-color: rgb(123, 234, 123);\"></td><td title=\"Index: [35, 13]&#10;Color: (123, 234, 123)\" style=\"width: 10px; height: 10px;background-color: rgb(123, 234, 123);\"></td><td title=\"Index: [35, 14]&#10;Color: (123, 234, 123)\" style=\"width: 10px; height: 10px;background-color: rgb(123, 234, 123);\"></td><td title=\"Index: [35, 15]&#10;Color: (123, 234, 123)\" style=\"width: 10px; height: 10px;background-color: rgb(123, 234, 123);\"></td><td title=\"Index: [35, 16]&#10;Color: (123, 234, 123)\" style=\"width: 10px; height: 10px;background-color: rgb(123, 234, 123);\"></td><td title=\"Index: [35, 17]&#10;Color: (123, 234, 123)\" style=\"width: 10px; height: 10px;background-color: rgb(123, 234, 123);\"></td><td title=\"Index: [35, 18]&#10;Color: (123, 234, 123)\" style=\"width: 10px; height: 10px;background-color: rgb(123, 234, 123);\"></td><td title=\"Index: [35, 19]&#10;Color: (123, 234, 123)\" style=\"width: 10px; height: 10px;background-color: rgb(123, 234, 123);\"></td><td title=\"Index: [35, 20]&#10;Color: (123, 234, 123)\" style=\"width: 10px; height: 10px;background-color: rgb(123, 234, 123);\"></td><td title=\"Index: [35, 21]&#10;Color: (123, 234, 123)\" style=\"width: 10px; height: 10px;background-color: rgb(123, 234, 123);\"></td><td title=\"Index: [35, 22]&#10;Color: (255, 0, 0)\" style=\"width: 10px; height: 10px;background-color: rgb(255, 0, 0);\"></td><td title=\"Index: [35, 23]&#10;Color: (123, 234, 123)\" style=\"width: 10px; height: 10px;background-color: rgb(123, 234, 123);\"></td><td title=\"Index: [35, 24]&#10;Color: (123, 234, 123)\" style=\"width: 10px; height: 10px;background-color: rgb(123, 234, 123);\"></td><td title=\"Index: [35, 25]&#10;Color: (123, 234, 123)\" style=\"width: 10px; height: 10px;background-color: rgb(123, 234, 123);\"></td><td title=\"Index: [35, 26]&#10;Color: (255, 0, 0)\" style=\"width: 10px; height: 10px;background-color: rgb(255, 0, 0);\"></td><td title=\"Index: [35, 27]&#10;Color: (123, 234, 123)\" style=\"width: 10px; height: 10px;background-color: rgb(123, 234, 123);\"></td><td title=\"Index: [35, 28]&#10;Color: (255, 0, 0)\" style=\"width: 10px; height: 10px;background-color: rgb(255, 0, 0);\"></td><td title=\"Index: [35, 29]&#10;Color: (123, 234, 123)\" style=\"width: 10px; height: 10px;background-color: rgb(123, 234, 123);\"></td><td title=\"Index: [35, 30]&#10;Color: (123, 234, 123)\" style=\"width: 10px; height: 10px;background-color: rgb(123, 234, 123);\"></td><td title=\"Index: [35, 31]&#10;Color: (123, 234, 123)\" style=\"width: 10px; height: 10px;background-color: rgb(123, 234, 123);\"></td><td title=\"Index: [35, 32]&#10;Color: (255, 0, 0)\" style=\"width: 10px; height: 10px;background-color: rgb(255, 0, 0);\"></td><td title=\"Index: [35, 33]&#10;Color: (123, 234, 123)\" style=\"width: 10px; height: 10px;background-color: rgb(123, 234, 123);\"></td><td title=\"Index: [35, 34]&#10;Color: (123, 234, 123)\" style=\"width: 10px; height: 10px;background-color: rgb(123, 234, 123);\"></td><td title=\"Index: [35, 35]&#10;Color: (123, 234, 123)\" style=\"width: 10px; height: 10px;background-color: rgb(123, 234, 123);\"></td><td title=\"Index: [35, 36]&#10;Color: (123, 234, 123)\" style=\"width: 10px; height: 10px;background-color: rgb(123, 234, 123);\"></td><td title=\"Index: [35, 37]&#10;Color: (123, 234, 123)\" style=\"width: 10px; height: 10px;background-color: rgb(123, 234, 123);\"></td><td title=\"Index: [35, 38]&#10;Color: (255, 0, 0)\" style=\"width: 10px; height: 10px;background-color: rgb(255, 0, 0);\"></td><td title=\"Index: [35, 39]&#10;Color: (123, 234, 123)\" style=\"width: 10px; height: 10px;background-color: rgb(123, 234, 123);\"></td></tr><tr><td title=\"Index: [36, 0]&#10;Color: (123, 234, 123)\" style=\"width: 10px; height: 10px;background-color: rgb(123, 234, 123);\"></td><td title=\"Index: [36, 1]&#10;Color: (123, 234, 123)\" style=\"width: 10px; height: 10px;background-color: rgb(123, 234, 123);\"></td><td title=\"Index: [36, 2]&#10;Color: (123, 234, 123)\" style=\"width: 10px; height: 10px;background-color: rgb(123, 234, 123);\"></td><td title=\"Index: [36, 3]&#10;Color: (123, 234, 123)\" style=\"width: 10px; height: 10px;background-color: rgb(123, 234, 123);\"></td><td title=\"Index: [36, 4]&#10;Color: (123, 234, 123)\" style=\"width: 10px; height: 10px;background-color: rgb(123, 234, 123);\"></td><td title=\"Index: [36, 5]&#10;Color: (123, 234, 123)\" style=\"width: 10px; height: 10px;background-color: rgb(123, 234, 123);\"></td><td title=\"Index: [36, 6]&#10;Color: (255, 0, 0)\" style=\"width: 10px; height: 10px;background-color: rgb(255, 0, 0);\"></td><td title=\"Index: [36, 7]&#10;Color: (123, 234, 123)\" style=\"width: 10px; height: 10px;background-color: rgb(123, 234, 123);\"></td><td title=\"Index: [36, 8]&#10;Color: (123, 234, 123)\" style=\"width: 10px; height: 10px;background-color: rgb(123, 234, 123);\"></td><td title=\"Index: [36, 9]&#10;Color: (123, 234, 123)\" style=\"width: 10px; height: 10px;background-color: rgb(123, 234, 123);\"></td><td title=\"Index: [36, 10]&#10;Color: (255, 0, 0)\" style=\"width: 10px; height: 10px;background-color: rgb(255, 0, 0);\"></td><td title=\"Index: [36, 11]&#10;Color: (123, 234, 123)\" style=\"width: 10px; height: 10px;background-color: rgb(123, 234, 123);\"></td><td title=\"Index: [36, 12]&#10;Color: (255, 0, 0)\" style=\"width: 10px; height: 10px;background-color: rgb(255, 0, 0);\"></td><td title=\"Index: [36, 13]&#10;Color: (123, 234, 123)\" style=\"width: 10px; height: 10px;background-color: rgb(123, 234, 123);\"></td><td title=\"Index: [36, 14]&#10;Color: (123, 234, 123)\" style=\"width: 10px; height: 10px;background-color: rgb(123, 234, 123);\"></td><td title=\"Index: [36, 15]&#10;Color: (123, 234, 123)\" style=\"width: 10px; height: 10px;background-color: rgb(123, 234, 123);\"></td><td title=\"Index: [36, 16]&#10;Color: (123, 234, 123)\" style=\"width: 10px; height: 10px;background-color: rgb(123, 234, 123);\"></td><td title=\"Index: [36, 17]&#10;Color: (123, 234, 123)\" style=\"width: 10px; height: 10px;background-color: rgb(123, 234, 123);\"></td><td title=\"Index: [36, 18]&#10;Color: (255, 0, 0)\" style=\"width: 10px; height: 10px;background-color: rgb(255, 0, 0);\"></td><td title=\"Index: [36, 19]&#10;Color: (123, 234, 123)\" style=\"width: 10px; height: 10px;background-color: rgb(123, 234, 123);\"></td><td title=\"Index: [36, 20]&#10;Color: (123, 234, 123)\" style=\"width: 10px; height: 10px;background-color: rgb(123, 234, 123);\"></td><td title=\"Index: [36, 21]&#10;Color: (123, 234, 123)\" style=\"width: 10px; height: 10px;background-color: rgb(123, 234, 123);\"></td><td title=\"Index: [36, 22]&#10;Color: (123, 234, 123)\" style=\"width: 10px; height: 10px;background-color: rgb(123, 234, 123);\"></td><td title=\"Index: [36, 23]&#10;Color: (123, 234, 123)\" style=\"width: 10px; height: 10px;background-color: rgb(123, 234, 123);\"></td><td title=\"Index: [36, 24]&#10;Color: (123, 234, 123)\" style=\"width: 10px; height: 10px;background-color: rgb(123, 234, 123);\"></td><td title=\"Index: [36, 25]&#10;Color: (123, 234, 123)\" style=\"width: 10px; height: 10px;background-color: rgb(123, 234, 123);\"></td><td title=\"Index: [36, 26]&#10;Color: (123, 234, 123)\" style=\"width: 10px; height: 10px;background-color: rgb(123, 234, 123);\"></td><td title=\"Index: [36, 27]&#10;Color: (123, 234, 123)\" style=\"width: 10px; height: 10px;background-color: rgb(123, 234, 123);\"></td><td title=\"Index: [36, 28]&#10;Color: (123, 234, 123)\" style=\"width: 10px; height: 10px;background-color: rgb(123, 234, 123);\"></td><td title=\"Index: [36, 29]&#10;Color: (123, 234, 123)\" style=\"width: 10px; height: 10px;background-color: rgb(123, 234, 123);\"></td><td title=\"Index: [36, 30]&#10;Color: (255, 0, 0)\" style=\"width: 10px; height: 10px;background-color: rgb(255, 0, 0);\"></td><td title=\"Index: [36, 31]&#10;Color: (123, 234, 123)\" style=\"width: 10px; height: 10px;background-color: rgb(123, 234, 123);\"></td><td title=\"Index: [36, 32]&#10;Color: (123, 234, 123)\" style=\"width: 10px; height: 10px;background-color: rgb(123, 234, 123);\"></td><td title=\"Index: [36, 33]&#10;Color: (123, 234, 123)\" style=\"width: 10px; height: 10px;background-color: rgb(123, 234, 123);\"></td><td title=\"Index: [36, 34]&#10;Color: (123, 234, 123)\" style=\"width: 10px; height: 10px;background-color: rgb(123, 234, 123);\"></td><td title=\"Index: [36, 35]&#10;Color: (123, 234, 123)\" style=\"width: 10px; height: 10px;background-color: rgb(123, 234, 123);\"></td><td title=\"Index: [36, 36]&#10;Color: (123, 234, 123)\" style=\"width: 10px; height: 10px;background-color: rgb(123, 234, 123);\"></td><td title=\"Index: [36, 37]&#10;Color: (123, 234, 123)\" style=\"width: 10px; height: 10px;background-color: rgb(123, 234, 123);\"></td><td title=\"Index: [36, 38]&#10;Color: (123, 234, 123)\" style=\"width: 10px; height: 10px;background-color: rgb(123, 234, 123);\"></td><td title=\"Index: [36, 39]&#10;Color: (123, 234, 123)\" style=\"width: 10px; height: 10px;background-color: rgb(123, 234, 123);\"></td></tr><tr><td title=\"Index: [37, 0]&#10;Color: (255, 0, 0)\" style=\"width: 10px; height: 10px;background-color: rgb(255, 0, 0);\"></td><td title=\"Index: [37, 1]&#10;Color: (123, 234, 123)\" style=\"width: 10px; height: 10px;background-color: rgb(123, 234, 123);\"></td><td title=\"Index: [37, 2]&#10;Color: (255, 0, 0)\" style=\"width: 10px; height: 10px;background-color: rgb(255, 0, 0);\"></td><td title=\"Index: [37, 3]&#10;Color: (123, 234, 123)\" style=\"width: 10px; height: 10px;background-color: rgb(123, 234, 123);\"></td><td title=\"Index: [37, 4]&#10;Color: (123, 234, 123)\" style=\"width: 10px; height: 10px;background-color: rgb(123, 234, 123);\"></td><td title=\"Index: [37, 5]&#10;Color: (123, 234, 123)\" style=\"width: 10px; height: 10px;background-color: rgb(123, 234, 123);\"></td><td title=\"Index: [37, 6]&#10;Color: (255, 0, 0)\" style=\"width: 10px; height: 10px;background-color: rgb(255, 0, 0);\"></td><td title=\"Index: [37, 7]&#10;Color: (123, 234, 123)\" style=\"width: 10px; height: 10px;background-color: rgb(123, 234, 123);\"></td><td title=\"Index: [37, 8]&#10;Color: (255, 0, 0)\" style=\"width: 10px; height: 10px;background-color: rgb(255, 0, 0);\"></td><td title=\"Index: [37, 9]&#10;Color: (123, 234, 123)\" style=\"width: 10px; height: 10px;background-color: rgb(123, 234, 123);\"></td><td title=\"Index: [37, 10]&#10;Color: (123, 234, 123)\" style=\"width: 10px; height: 10px;background-color: rgb(123, 234, 123);\"></td><td title=\"Index: [37, 11]&#10;Color: (123, 234, 123)\" style=\"width: 10px; height: 10px;background-color: rgb(123, 234, 123);\"></td><td title=\"Index: [37, 12]&#10;Color: (255, 0, 0)\" style=\"width: 10px; height: 10px;background-color: rgb(255, 0, 0);\"></td><td title=\"Index: [37, 13]&#10;Color: (123, 234, 123)\" style=\"width: 10px; height: 10px;background-color: rgb(123, 234, 123);\"></td><td title=\"Index: [37, 14]&#10;Color: (123, 234, 123)\" style=\"width: 10px; height: 10px;background-color: rgb(123, 234, 123);\"></td><td title=\"Index: [37, 15]&#10;Color: (123, 234, 123)\" style=\"width: 10px; height: 10px;background-color: rgb(123, 234, 123);\"></td><td title=\"Index: [37, 16]&#10;Color: (123, 234, 123)\" style=\"width: 10px; height: 10px;background-color: rgb(123, 234, 123);\"></td><td title=\"Index: [37, 17]&#10;Color: (123, 234, 123)\" style=\"width: 10px; height: 10px;background-color: rgb(123, 234, 123);\"></td><td title=\"Index: [37, 18]&#10;Color: (255, 0, 0)\" style=\"width: 10px; height: 10px;background-color: rgb(255, 0, 0);\"></td><td title=\"Index: [37, 19]&#10;Color: (123, 234, 123)\" style=\"width: 10px; height: 10px;background-color: rgb(123, 234, 123);\"></td><td title=\"Index: [37, 20]&#10;Color: (123, 234, 123)\" style=\"width: 10px; height: 10px;background-color: rgb(123, 234, 123);\"></td><td title=\"Index: [37, 21]&#10;Color: (123, 234, 123)\" style=\"width: 10px; height: 10px;background-color: rgb(123, 234, 123);\"></td><td title=\"Index: [37, 22]&#10;Color: (123, 234, 123)\" style=\"width: 10px; height: 10px;background-color: rgb(123, 234, 123);\"></td><td title=\"Index: [37, 23]&#10;Color: (123, 234, 123)\" style=\"width: 10px; height: 10px;background-color: rgb(123, 234, 123);\"></td><td title=\"Index: [37, 24]&#10;Color: (123, 234, 123)\" style=\"width: 10px; height: 10px;background-color: rgb(123, 234, 123);\"></td><td title=\"Index: [37, 25]&#10;Color: (123, 234, 123)\" style=\"width: 10px; height: 10px;background-color: rgb(123, 234, 123);\"></td><td title=\"Index: [37, 26]&#10;Color: (123, 234, 123)\" style=\"width: 10px; height: 10px;background-color: rgb(123, 234, 123);\"></td><td title=\"Index: [37, 27]&#10;Color: (123, 234, 123)\" style=\"width: 10px; height: 10px;background-color: rgb(123, 234, 123);\"></td><td title=\"Index: [37, 28]&#10;Color: (123, 234, 123)\" style=\"width: 10px; height: 10px;background-color: rgb(123, 234, 123);\"></td><td title=\"Index: [37, 29]&#10;Color: (123, 234, 123)\" style=\"width: 10px; height: 10px;background-color: rgb(123, 234, 123);\"></td><td title=\"Index: [37, 30]&#10;Color: (255, 0, 0)\" style=\"width: 10px; height: 10px;background-color: rgb(255, 0, 0);\"></td><td title=\"Index: [37, 31]&#10;Color: (123, 234, 123)\" style=\"width: 10px; height: 10px;background-color: rgb(123, 234, 123);\"></td><td title=\"Index: [37, 32]&#10;Color: (123, 234, 123)\" style=\"width: 10px; height: 10px;background-color: rgb(123, 234, 123);\"></td><td title=\"Index: [37, 33]&#10;Color: (123, 234, 123)\" style=\"width: 10px; height: 10px;background-color: rgb(123, 234, 123);\"></td><td title=\"Index: [37, 34]&#10;Color: (123, 234, 123)\" style=\"width: 10px; height: 10px;background-color: rgb(123, 234, 123);\"></td><td title=\"Index: [37, 35]&#10;Color: (123, 234, 123)\" style=\"width: 10px; height: 10px;background-color: rgb(123, 234, 123);\"></td><td title=\"Index: [37, 36]&#10;Color: (123, 234, 123)\" style=\"width: 10px; height: 10px;background-color: rgb(123, 234, 123);\"></td><td title=\"Index: [37, 37]&#10;Color: (123, 234, 123)\" style=\"width: 10px; height: 10px;background-color: rgb(123, 234, 123);\"></td><td title=\"Index: [37, 38]&#10;Color: (123, 234, 123)\" style=\"width: 10px; height: 10px;background-color: rgb(123, 234, 123);\"></td><td title=\"Index: [37, 39]&#10;Color: (123, 234, 123)\" style=\"width: 10px; height: 10px;background-color: rgb(123, 234, 123);\"></td></tr><tr><td title=\"Index: [38, 0]&#10;Color: (123, 234, 123)\" style=\"width: 10px; height: 10px;background-color: rgb(123, 234, 123);\"></td><td title=\"Index: [38, 1]&#10;Color: (123, 234, 123)\" style=\"width: 10px; height: 10px;background-color: rgb(123, 234, 123);\"></td><td title=\"Index: [38, 2]&#10;Color: (255, 0, 0)\" style=\"width: 10px; height: 10px;background-color: rgb(255, 0, 0);\"></td><td title=\"Index: [38, 3]&#10;Color: (123, 234, 123)\" style=\"width: 10px; height: 10px;background-color: rgb(123, 234, 123);\"></td><td title=\"Index: [38, 4]&#10;Color: (123, 234, 123)\" style=\"width: 10px; height: 10px;background-color: rgb(123, 234, 123);\"></td><td title=\"Index: [38, 5]&#10;Color: (123, 234, 123)\" style=\"width: 10px; height: 10px;background-color: rgb(123, 234, 123);\"></td><td title=\"Index: [38, 6]&#10;Color: (123, 234, 123)\" style=\"width: 10px; height: 10px;background-color: rgb(123, 234, 123);\"></td><td title=\"Index: [38, 7]&#10;Color: (123, 234, 123)\" style=\"width: 10px; height: 10px;background-color: rgb(123, 234, 123);\"></td><td title=\"Index: [38, 8]&#10;Color: (123, 234, 123)\" style=\"width: 10px; height: 10px;background-color: rgb(123, 234, 123);\"></td><td title=\"Index: [38, 9]&#10;Color: (123, 234, 123)\" style=\"width: 10px; height: 10px;background-color: rgb(123, 234, 123);\"></td><td title=\"Index: [38, 10]&#10;Color: (255, 0, 0)\" style=\"width: 10px; height: 10px;background-color: rgb(255, 0, 0);\"></td><td title=\"Index: [38, 11]&#10;Color: (123, 234, 123)\" style=\"width: 10px; height: 10px;background-color: rgb(123, 234, 123);\"></td><td title=\"Index: [38, 12]&#10;Color: (123, 234, 123)\" style=\"width: 10px; height: 10px;background-color: rgb(123, 234, 123);\"></td><td title=\"Index: [38, 13]&#10;Color: (123, 234, 123)\" style=\"width: 10px; height: 10px;background-color: rgb(123, 234, 123);\"></td><td title=\"Index: [38, 14]&#10;Color: (123, 234, 123)\" style=\"width: 10px; height: 10px;background-color: rgb(123, 234, 123);\"></td><td title=\"Index: [38, 15]&#10;Color: (123, 234, 123)\" style=\"width: 10px; height: 10px;background-color: rgb(123, 234, 123);\"></td><td title=\"Index: [38, 16]&#10;Color: (123, 234, 123)\" style=\"width: 10px; height: 10px;background-color: rgb(123, 234, 123);\"></td><td title=\"Index: [38, 17]&#10;Color: (123, 234, 123)\" style=\"width: 10px; height: 10px;background-color: rgb(123, 234, 123);\"></td><td title=\"Index: [38, 18]&#10;Color: (123, 234, 123)\" style=\"width: 10px; height: 10px;background-color: rgb(123, 234, 123);\"></td><td title=\"Index: [38, 19]&#10;Color: (123, 234, 123)\" style=\"width: 10px; height: 10px;background-color: rgb(123, 234, 123);\"></td><td title=\"Index: [38, 20]&#10;Color: (123, 234, 123)\" style=\"width: 10px; height: 10px;background-color: rgb(123, 234, 123);\"></td><td title=\"Index: [38, 21]&#10;Color: (123, 234, 123)\" style=\"width: 10px; height: 10px;background-color: rgb(123, 234, 123);\"></td><td title=\"Index: [38, 22]&#10;Color: (255, 0, 0)\" style=\"width: 10px; height: 10px;background-color: rgb(255, 0, 0);\"></td><td title=\"Index: [38, 23]&#10;Color: (123, 234, 123)\" style=\"width: 10px; height: 10px;background-color: rgb(123, 234, 123);\"></td><td title=\"Index: [38, 24]&#10;Color: (123, 234, 123)\" style=\"width: 10px; height: 10px;background-color: rgb(123, 234, 123);\"></td><td title=\"Index: [38, 25]&#10;Color: (123, 234, 123)\" style=\"width: 10px; height: 10px;background-color: rgb(123, 234, 123);\"></td><td title=\"Index: [38, 26]&#10;Color: (123, 234, 123)\" style=\"width: 10px; height: 10px;background-color: rgb(123, 234, 123);\"></td><td title=\"Index: [38, 27]&#10;Color: (123, 234, 123)\" style=\"width: 10px; height: 10px;background-color: rgb(123, 234, 123);\"></td><td title=\"Index: [38, 28]&#10;Color: (255, 0, 0)\" style=\"width: 10px; height: 10px;background-color: rgb(255, 0, 0);\"></td><td title=\"Index: [38, 29]&#10;Color: (123, 234, 123)\" style=\"width: 10px; height: 10px;background-color: rgb(123, 234, 123);\"></td><td title=\"Index: [38, 30]&#10;Color: (123, 234, 123)\" style=\"width: 10px; height: 10px;background-color: rgb(123, 234, 123);\"></td><td title=\"Index: [38, 31]&#10;Color: (123, 234, 123)\" style=\"width: 10px; height: 10px;background-color: rgb(123, 234, 123);\"></td><td title=\"Index: [38, 32]&#10;Color: (255, 0, 0)\" style=\"width: 10px; height: 10px;background-color: rgb(255, 0, 0);\"></td><td title=\"Index: [38, 33]&#10;Color: (123, 234, 123)\" style=\"width: 10px; height: 10px;background-color: rgb(123, 234, 123);\"></td><td title=\"Index: [38, 34]&#10;Color: (123, 234, 123)\" style=\"width: 10px; height: 10px;background-color: rgb(123, 234, 123);\"></td><td title=\"Index: [38, 35]&#10;Color: (123, 234, 123)\" style=\"width: 10px; height: 10px;background-color: rgb(123, 234, 123);\"></td><td title=\"Index: [38, 36]&#10;Color: (123, 234, 123)\" style=\"width: 10px; height: 10px;background-color: rgb(123, 234, 123);\"></td><td title=\"Index: [38, 37]&#10;Color: (123, 234, 123)\" style=\"width: 10px; height: 10px;background-color: rgb(123, 234, 123);\"></td><td title=\"Index: [38, 38]&#10;Color: (255, 0, 0)\" style=\"width: 10px; height: 10px;background-color: rgb(255, 0, 0);\"></td><td title=\"Index: [38, 39]&#10;Color: (123, 234, 123)\" style=\"width: 10px; height: 10px;background-color: rgb(123, 234, 123);\"></td></tr><tr><td title=\"Index: [39, 0]&#10;Color: (123, 234, 123)\" style=\"width: 10px; height: 10px;background-color: rgb(123, 234, 123);\"></td><td title=\"Index: [39, 1]&#10;Color: (123, 234, 123)\" style=\"width: 10px; height: 10px;background-color: rgb(123, 234, 123);\"></td><td title=\"Index: [39, 2]&#10;Color: (123, 234, 123)\" style=\"width: 10px; height: 10px;background-color: rgb(123, 234, 123);\"></td><td title=\"Index: [39, 3]&#10;Color: (123, 234, 123)\" style=\"width: 10px; height: 10px;background-color: rgb(123, 234, 123);\"></td><td title=\"Index: [39, 4]&#10;Color: (123, 234, 123)\" style=\"width: 10px; height: 10px;background-color: rgb(123, 234, 123);\"></td><td title=\"Index: [39, 5]&#10;Color: (123, 234, 123)\" style=\"width: 10px; height: 10px;background-color: rgb(123, 234, 123);\"></td><td title=\"Index: [39, 6]&#10;Color: (255, 0, 0)\" style=\"width: 10px; height: 10px;background-color: rgb(255, 0, 0);\"></td><td title=\"Index: [39, 7]&#10;Color: (123, 234, 123)\" style=\"width: 10px; height: 10px;background-color: rgb(123, 234, 123);\"></td><td title=\"Index: [39, 8]&#10;Color: (123, 234, 123)\" style=\"width: 10px; height: 10px;background-color: rgb(123, 234, 123);\"></td><td title=\"Index: [39, 9]&#10;Color: (123, 234, 123)\" style=\"width: 10px; height: 10px;background-color: rgb(123, 234, 123);\"></td><td title=\"Index: [39, 10]&#10;Color: (255, 0, 0)\" style=\"width: 10px; height: 10px;background-color: rgb(255, 0, 0);\"></td><td title=\"Index: [39, 11]&#10;Color: (123, 234, 123)\" style=\"width: 10px; height: 10px;background-color: rgb(123, 234, 123);\"></td><td title=\"Index: [39, 12]&#10;Color: (123, 234, 123)\" style=\"width: 10px; height: 10px;background-color: rgb(123, 234, 123);\"></td><td title=\"Index: [39, 13]&#10;Color: (123, 234, 123)\" style=\"width: 10px; height: 10px;background-color: rgb(123, 234, 123);\"></td><td title=\"Index: [39, 14]&#10;Color: (123, 234, 123)\" style=\"width: 10px; height: 10px;background-color: rgb(123, 234, 123);\"></td><td title=\"Index: [39, 15]&#10;Color: (123, 234, 123)\" style=\"width: 10px; height: 10px;background-color: rgb(123, 234, 123);\"></td><td title=\"Index: [39, 16]&#10;Color: (123, 234, 123)\" style=\"width: 10px; height: 10px;background-color: rgb(123, 234, 123);\"></td><td title=\"Index: [39, 17]&#10;Color: (123, 234, 123)\" style=\"width: 10px; height: 10px;background-color: rgb(123, 234, 123);\"></td><td title=\"Index: [39, 18]&#10;Color: (255, 0, 0)\" style=\"width: 10px; height: 10px;background-color: rgb(255, 0, 0);\"></td><td title=\"Index: [39, 19]&#10;Color: (123, 234, 123)\" style=\"width: 10px; height: 10px;background-color: rgb(123, 234, 123);\"></td><td title=\"Index: [39, 20]&#10;Color: (123, 234, 123)\" style=\"width: 10px; height: 10px;background-color: rgb(123, 234, 123);\"></td><td title=\"Index: [39, 21]&#10;Color: (123, 234, 123)\" style=\"width: 10px; height: 10px;background-color: rgb(123, 234, 123);\"></td><td title=\"Index: [39, 22]&#10;Color: (255, 0, 0)\" style=\"width: 10px; height: 10px;background-color: rgb(255, 0, 0);\"></td><td title=\"Index: [39, 23]&#10;Color: (123, 234, 123)\" style=\"width: 10px; height: 10px;background-color: rgb(123, 234, 123);\"></td><td title=\"Index: [39, 24]&#10;Color: (123, 234, 123)\" style=\"width: 10px; height: 10px;background-color: rgb(123, 234, 123);\"></td><td title=\"Index: [39, 25]&#10;Color: (123, 234, 123)\" style=\"width: 10px; height: 10px;background-color: rgb(123, 234, 123);\"></td><td title=\"Index: [39, 26]&#10;Color: (123, 234, 123)\" style=\"width: 10px; height: 10px;background-color: rgb(123, 234, 123);\"></td><td title=\"Index: [39, 27]&#10;Color: (123, 234, 123)\" style=\"width: 10px; height: 10px;background-color: rgb(123, 234, 123);\"></td><td title=\"Index: [39, 28]&#10;Color: (123, 234, 123)\" style=\"width: 10px; height: 10px;background-color: rgb(123, 234, 123);\"></td><td title=\"Index: [39, 29]&#10;Color: (123, 234, 123)\" style=\"width: 10px; height: 10px;background-color: rgb(123, 234, 123);\"></td><td title=\"Index: [39, 30]&#10;Color: (123, 234, 123)\" style=\"width: 10px; height: 10px;background-color: rgb(123, 234, 123);\"></td><td title=\"Index: [39, 31]&#10;Color: (123, 234, 123)\" style=\"width: 10px; height: 10px;background-color: rgb(123, 234, 123);\"></td><td title=\"Index: [39, 32]&#10;Color: (123, 234, 123)\" style=\"width: 10px; height: 10px;background-color: rgb(123, 234, 123);\"></td><td title=\"Index: [39, 33]&#10;Color: (123, 234, 123)\" style=\"width: 10px; height: 10px;background-color: rgb(123, 234, 123);\"></td><td title=\"Index: [39, 34]&#10;Color: (123, 234, 123)\" style=\"width: 10px; height: 10px;background-color: rgb(123, 234, 123);\"></td><td title=\"Index: [39, 35]&#10;Color: (123, 234, 123)\" style=\"width: 10px; height: 10px;background-color: rgb(123, 234, 123);\"></td><td title=\"Index: [39, 36]&#10;Color: (255, 0, 0)\" style=\"width: 10px; height: 10px;background-color: rgb(255, 0, 0);\"></td><td title=\"Index: [39, 37]&#10;Color: (123, 234, 123)\" style=\"width: 10px; height: 10px;background-color: rgb(123, 234, 123);\"></td><td title=\"Index: [39, 38]&#10;Color: (123, 234, 123)\" style=\"width: 10px; height: 10px;background-color: rgb(123, 234, 123);\"></td><td title=\"Index: [39, 39]&#10;Color: (123, 234, 123)\" style=\"width: 10px; height: 10px;background-color: rgb(123, 234, 123);\"></td></tr><tr><td title=\"Index: [40, 0]&#10;Color: (255, 0, 0)\" style=\"width: 10px; height: 10px;background-color: rgb(255, 0, 0);\"></td><td title=\"Index: [40, 1]&#10;Color: (123, 234, 123)\" style=\"width: 10px; height: 10px;background-color: rgb(123, 234, 123);\"></td><td title=\"Index: [40, 2]&#10;Color: (123, 234, 123)\" style=\"width: 10px; height: 10px;background-color: rgb(123, 234, 123);\"></td><td title=\"Index: [40, 3]&#10;Color: (123, 234, 123)\" style=\"width: 10px; height: 10px;background-color: rgb(123, 234, 123);\"></td><td title=\"Index: [40, 4]&#10;Color: (123, 234, 123)\" style=\"width: 10px; height: 10px;background-color: rgb(123, 234, 123);\"></td><td title=\"Index: [40, 5]&#10;Color: (123, 234, 123)\" style=\"width: 10px; height: 10px;background-color: rgb(123, 234, 123);\"></td><td title=\"Index: [40, 6]&#10;Color: (255, 0, 0)\" style=\"width: 10px; height: 10px;background-color: rgb(255, 0, 0);\"></td><td title=\"Index: [40, 7]&#10;Color: (123, 234, 123)\" style=\"width: 10px; height: 10px;background-color: rgb(123, 234, 123);\"></td><td title=\"Index: [40, 8]&#10;Color: (255, 0, 0)\" style=\"width: 10px; height: 10px;background-color: rgb(255, 0, 0);\"></td><td title=\"Index: [40, 9]&#10;Color: (123, 234, 123)\" style=\"width: 10px; height: 10px;background-color: rgb(123, 234, 123);\"></td><td title=\"Index: [40, 10]&#10;Color: (123, 234, 123)\" style=\"width: 10px; height: 10px;background-color: rgb(123, 234, 123);\"></td><td title=\"Index: [40, 11]&#10;Color: (123, 234, 123)\" style=\"width: 10px; height: 10px;background-color: rgb(123, 234, 123);\"></td><td title=\"Index: [40, 12]&#10;Color: (255, 0, 0)\" style=\"width: 10px; height: 10px;background-color: rgb(255, 0, 0);\"></td><td title=\"Index: [40, 13]&#10;Color: (123, 234, 123)\" style=\"width: 10px; height: 10px;background-color: rgb(123, 234, 123);\"></td><td title=\"Index: [40, 14]&#10;Color: (123, 234, 123)\" style=\"width: 10px; height: 10px;background-color: rgb(123, 234, 123);\"></td><td title=\"Index: [40, 15]&#10;Color: (123, 234, 123)\" style=\"width: 10px; height: 10px;background-color: rgb(123, 234, 123);\"></td><td title=\"Index: [40, 16]&#10;Color: (123, 234, 123)\" style=\"width: 10px; height: 10px;background-color: rgb(123, 234, 123);\"></td><td title=\"Index: [40, 17]&#10;Color: (123, 234, 123)\" style=\"width: 10px; height: 10px;background-color: rgb(123, 234, 123);\"></td><td title=\"Index: [40, 18]&#10;Color: (255, 0, 0)\" style=\"width: 10px; height: 10px;background-color: rgb(255, 0, 0);\"></td><td title=\"Index: [40, 19]&#10;Color: (123, 234, 123)\" style=\"width: 10px; height: 10px;background-color: rgb(123, 234, 123);\"></td><td title=\"Index: [40, 20]&#10;Color: (255, 0, 0)\" style=\"width: 10px; height: 10px;background-color: rgb(255, 0, 0);\"></td><td title=\"Index: [40, 21]&#10;Color: (123, 234, 123)\" style=\"width: 10px; height: 10px;background-color: rgb(123, 234, 123);\"></td><td title=\"Index: [40, 22]&#10;Color: (123, 234, 123)\" style=\"width: 10px; height: 10px;background-color: rgb(123, 234, 123);\"></td><td title=\"Index: [40, 23]&#10;Color: (123, 234, 123)\" style=\"width: 10px; height: 10px;background-color: rgb(123, 234, 123);\"></td><td title=\"Index: [40, 24]&#10;Color: (123, 234, 123)\" style=\"width: 10px; height: 10px;background-color: rgb(123, 234, 123);\"></td><td title=\"Index: [40, 25]&#10;Color: (123, 234, 123)\" style=\"width: 10px; height: 10px;background-color: rgb(123, 234, 123);\"></td><td title=\"Index: [40, 26]&#10;Color: (255, 0, 0)\" style=\"width: 10px; height: 10px;background-color: rgb(255, 0, 0);\"></td><td title=\"Index: [40, 27]&#10;Color: (123, 234, 123)\" style=\"width: 10px; height: 10px;background-color: rgb(123, 234, 123);\"></td><td title=\"Index: [40, 28]&#10;Color: (123, 234, 123)\" style=\"width: 10px; height: 10px;background-color: rgb(123, 234, 123);\"></td><td title=\"Index: [40, 29]&#10;Color: (123, 234, 123)\" style=\"width: 10px; height: 10px;background-color: rgb(123, 234, 123);\"></td><td title=\"Index: [40, 30]&#10;Color: (123, 234, 123)\" style=\"width: 10px; height: 10px;background-color: rgb(123, 234, 123);\"></td><td title=\"Index: [40, 31]&#10;Color: (123, 234, 123)\" style=\"width: 10px; height: 10px;background-color: rgb(123, 234, 123);\"></td><td title=\"Index: [40, 32]&#10;Color: (123, 234, 123)\" style=\"width: 10px; height: 10px;background-color: rgb(123, 234, 123);\"></td><td title=\"Index: [40, 33]&#10;Color: (123, 234, 123)\" style=\"width: 10px; height: 10px;background-color: rgb(123, 234, 123);\"></td><td title=\"Index: [40, 34]&#10;Color: (123, 234, 123)\" style=\"width: 10px; height: 10px;background-color: rgb(123, 234, 123);\"></td><td title=\"Index: [40, 35]&#10;Color: (123, 234, 123)\" style=\"width: 10px; height: 10px;background-color: rgb(123, 234, 123);\"></td><td title=\"Index: [40, 36]&#10;Color: (255, 0, 0)\" style=\"width: 10px; height: 10px;background-color: rgb(255, 0, 0);\"></td><td title=\"Index: [40, 37]&#10;Color: (123, 234, 123)\" style=\"width: 10px; height: 10px;background-color: rgb(123, 234, 123);\"></td><td title=\"Index: [40, 38]&#10;Color: (123, 234, 123)\" style=\"width: 10px; height: 10px;background-color: rgb(123, 234, 123);\"></td><td title=\"Index: [40, 39]&#10;Color: (123, 234, 123)\" style=\"width: 10px; height: 10px;background-color: rgb(123, 234, 123);\"></td></tr><tr><td title=\"Index: [41, 0]&#10;Color: (123, 234, 123)\" style=\"width: 10px; height: 10px;background-color: rgb(123, 234, 123);\"></td><td title=\"Index: [41, 1]&#10;Color: (123, 234, 123)\" style=\"width: 10px; height: 10px;background-color: rgb(123, 234, 123);\"></td><td title=\"Index: [41, 2]&#10;Color: (123, 234, 123)\" style=\"width: 10px; height: 10px;background-color: rgb(123, 234, 123);\"></td><td title=\"Index: [41, 3]&#10;Color: (123, 234, 123)\" style=\"width: 10px; height: 10px;background-color: rgb(123, 234, 123);\"></td><td title=\"Index: [41, 4]&#10;Color: (123, 234, 123)\" style=\"width: 10px; height: 10px;background-color: rgb(123, 234, 123);\"></td><td title=\"Index: [41, 5]&#10;Color: (123, 234, 123)\" style=\"width: 10px; height: 10px;background-color: rgb(123, 234, 123);\"></td><td title=\"Index: [41, 6]&#10;Color: (123, 234, 123)\" style=\"width: 10px; height: 10px;background-color: rgb(123, 234, 123);\"></td><td title=\"Index: [41, 7]&#10;Color: (123, 234, 123)\" style=\"width: 10px; height: 10px;background-color: rgb(123, 234, 123);\"></td><td title=\"Index: [41, 8]&#10;Color: (123, 234, 123)\" style=\"width: 10px; height: 10px;background-color: rgb(123, 234, 123);\"></td><td title=\"Index: [41, 9]&#10;Color: (123, 234, 123)\" style=\"width: 10px; height: 10px;background-color: rgb(123, 234, 123);\"></td><td title=\"Index: [41, 10]&#10;Color: (123, 234, 123)\" style=\"width: 10px; height: 10px;background-color: rgb(123, 234, 123);\"></td><td title=\"Index: [41, 11]&#10;Color: (123, 234, 123)\" style=\"width: 10px; height: 10px;background-color: rgb(123, 234, 123);\"></td><td title=\"Index: [41, 12]&#10;Color: (123, 234, 123)\" style=\"width: 10px; height: 10px;background-color: rgb(123, 234, 123);\"></td><td title=\"Index: [41, 13]&#10;Color: (123, 234, 123)\" style=\"width: 10px; height: 10px;background-color: rgb(123, 234, 123);\"></td><td title=\"Index: [41, 14]&#10;Color: (123, 234, 123)\" style=\"width: 10px; height: 10px;background-color: rgb(123, 234, 123);\"></td><td title=\"Index: [41, 15]&#10;Color: (123, 234, 123)\" style=\"width: 10px; height: 10px;background-color: rgb(123, 234, 123);\"></td><td title=\"Index: [41, 16]&#10;Color: (255, 0, 0)\" style=\"width: 10px; height: 10px;background-color: rgb(255, 0, 0);\"></td><td title=\"Index: [41, 17]&#10;Color: (123, 234, 123)\" style=\"width: 10px; height: 10px;background-color: rgb(123, 234, 123);\"></td><td title=\"Index: [41, 18]&#10;Color: (123, 234, 123)\" style=\"width: 10px; height: 10px;background-color: rgb(123, 234, 123);\"></td><td title=\"Index: [41, 19]&#10;Color: (123, 234, 123)\" style=\"width: 10px; height: 10px;background-color: rgb(123, 234, 123);\"></td><td title=\"Index: [41, 20]&#10;Color: (123, 234, 123)\" style=\"width: 10px; height: 10px;background-color: rgb(123, 234, 123);\"></td><td title=\"Index: [41, 21]&#10;Color: (123, 234, 123)\" style=\"width: 10px; height: 10px;background-color: rgb(123, 234, 123);\"></td><td title=\"Index: [41, 22]&#10;Color: (255, 0, 0)\" style=\"width: 10px; height: 10px;background-color: rgb(255, 0, 0);\"></td><td title=\"Index: [41, 23]&#10;Color: (123, 234, 123)\" style=\"width: 10px; height: 10px;background-color: rgb(123, 234, 123);\"></td><td title=\"Index: [41, 24]&#10;Color: (123, 234, 123)\" style=\"width: 10px; height: 10px;background-color: rgb(123, 234, 123);\"></td><td title=\"Index: [41, 25]&#10;Color: (123, 234, 123)\" style=\"width: 10px; height: 10px;background-color: rgb(123, 234, 123);\"></td><td title=\"Index: [41, 26]&#10;Color: (255, 0, 0)\" style=\"width: 10px; height: 10px;background-color: rgb(255, 0, 0);\"></td><td title=\"Index: [41, 27]&#10;Color: (123, 234, 123)\" style=\"width: 10px; height: 10px;background-color: rgb(123, 234, 123);\"></td><td title=\"Index: [41, 28]&#10;Color: (255, 0, 0)\" style=\"width: 10px; height: 10px;background-color: rgb(255, 0, 0);\"></td><td title=\"Index: [41, 29]&#10;Color: (123, 234, 123)\" style=\"width: 10px; height: 10px;background-color: rgb(123, 234, 123);\"></td><td title=\"Index: [41, 30]&#10;Color: (123, 234, 123)\" style=\"width: 10px; height: 10px;background-color: rgb(123, 234, 123);\"></td><td title=\"Index: [41, 31]&#10;Color: (123, 234, 123)\" style=\"width: 10px; height: 10px;background-color: rgb(123, 234, 123);\"></td><td title=\"Index: [41, 32]&#10;Color: (123, 234, 123)\" style=\"width: 10px; height: 10px;background-color: rgb(123, 234, 123);\"></td><td title=\"Index: [41, 33]&#10;Color: (123, 234, 123)\" style=\"width: 10px; height: 10px;background-color: rgb(123, 234, 123);\"></td><td title=\"Index: [41, 34]&#10;Color: (123, 234, 123)\" style=\"width: 10px; height: 10px;background-color: rgb(123, 234, 123);\"></td><td title=\"Index: [41, 35]&#10;Color: (123, 234, 123)\" style=\"width: 10px; height: 10px;background-color: rgb(123, 234, 123);\"></td><td title=\"Index: [41, 36]&#10;Color: (123, 234, 123)\" style=\"width: 10px; height: 10px;background-color: rgb(123, 234, 123);\"></td><td title=\"Index: [41, 37]&#10;Color: (123, 234, 123)\" style=\"width: 10px; height: 10px;background-color: rgb(123, 234, 123);\"></td><td title=\"Index: [41, 38]&#10;Color: (123, 234, 123)\" style=\"width: 10px; height: 10px;background-color: rgb(123, 234, 123);\"></td><td title=\"Index: [41, 39]&#10;Color: (123, 234, 123)\" style=\"width: 10px; height: 10px;background-color: rgb(123, 234, 123);\"></td></tr><tr><td title=\"Index: [42, 0]&#10;Color: (123, 234, 123)\" style=\"width: 10px; height: 10px;background-color: rgb(123, 234, 123);\"></td><td title=\"Index: [42, 1]&#10;Color: (123, 234, 123)\" style=\"width: 10px; height: 10px;background-color: rgb(123, 234, 123);\"></td><td title=\"Index: [42, 2]&#10;Color: (123, 234, 123)\" style=\"width: 10px; height: 10px;background-color: rgb(123, 234, 123);\"></td><td title=\"Index: [42, 3]&#10;Color: (123, 234, 123)\" style=\"width: 10px; height: 10px;background-color: rgb(123, 234, 123);\"></td><td title=\"Index: [42, 4]&#10;Color: (123, 234, 123)\" style=\"width: 10px; height: 10px;background-color: rgb(123, 234, 123);\"></td><td title=\"Index: [42, 5]&#10;Color: (123, 234, 123)\" style=\"width: 10px; height: 10px;background-color: rgb(123, 234, 123);\"></td><td title=\"Index: [42, 6]&#10;Color: (123, 234, 123)\" style=\"width: 10px; height: 10px;background-color: rgb(123, 234, 123);\"></td><td title=\"Index: [42, 7]&#10;Color: (123, 234, 123)\" style=\"width: 10px; height: 10px;background-color: rgb(123, 234, 123);\"></td><td title=\"Index: [42, 8]&#10;Color: (123, 234, 123)\" style=\"width: 10px; height: 10px;background-color: rgb(123, 234, 123);\"></td><td title=\"Index: [42, 9]&#10;Color: (123, 234, 123)\" style=\"width: 10px; height: 10px;background-color: rgb(123, 234, 123);\"></td><td title=\"Index: [42, 10]&#10;Color: (123, 234, 123)\" style=\"width: 10px; height: 10px;background-color: rgb(123, 234, 123);\"></td><td title=\"Index: [42, 11]&#10;Color: (123, 234, 123)\" style=\"width: 10px; height: 10px;background-color: rgb(123, 234, 123);\"></td><td title=\"Index: [42, 12]&#10;Color: (255, 0, 0)\" style=\"width: 10px; height: 10px;background-color: rgb(255, 0, 0);\"></td><td title=\"Index: [42, 13]&#10;Color: (123, 234, 123)\" style=\"width: 10px; height: 10px;background-color: rgb(123, 234, 123);\"></td><td title=\"Index: [42, 14]&#10;Color: (123, 234, 123)\" style=\"width: 10px; height: 10px;background-color: rgb(123, 234, 123);\"></td><td title=\"Index: [42, 15]&#10;Color: (123, 234, 123)\" style=\"width: 10px; height: 10px;background-color: rgb(123, 234, 123);\"></td><td title=\"Index: [42, 16]&#10;Color: (255, 0, 0)\" style=\"width: 10px; height: 10px;background-color: rgb(255, 0, 0);\"></td><td title=\"Index: [42, 17]&#10;Color: (123, 234, 123)\" style=\"width: 10px; height: 10px;background-color: rgb(123, 234, 123);\"></td><td title=\"Index: [42, 18]&#10;Color: (255, 0, 0)\" style=\"width: 10px; height: 10px;background-color: rgb(255, 0, 0);\"></td><td title=\"Index: [42, 19]&#10;Color: (123, 234, 123)\" style=\"width: 10px; height: 10px;background-color: rgb(123, 234, 123);\"></td><td title=\"Index: [42, 20]&#10;Color: (123, 234, 123)\" style=\"width: 10px; height: 10px;background-color: rgb(123, 234, 123);\"></td><td title=\"Index: [42, 21]&#10;Color: (123, 234, 123)\" style=\"width: 10px; height: 10px;background-color: rgb(123, 234, 123);\"></td><td title=\"Index: [42, 22]&#10;Color: (123, 234, 123)\" style=\"width: 10px; height: 10px;background-color: rgb(123, 234, 123);\"></td><td title=\"Index: [42, 23]&#10;Color: (123, 234, 123)\" style=\"width: 10px; height: 10px;background-color: rgb(123, 234, 123);\"></td><td title=\"Index: [42, 24]&#10;Color: (123, 234, 123)\" style=\"width: 10px; height: 10px;background-color: rgb(123, 234, 123);\"></td><td title=\"Index: [42, 25]&#10;Color: (123, 234, 123)\" style=\"width: 10px; height: 10px;background-color: rgb(123, 234, 123);\"></td><td title=\"Index: [42, 26]&#10;Color: (123, 234, 123)\" style=\"width: 10px; height: 10px;background-color: rgb(123, 234, 123);\"></td><td title=\"Index: [42, 27]&#10;Color: (123, 234, 123)\" style=\"width: 10px; height: 10px;background-color: rgb(123, 234, 123);\"></td><td title=\"Index: [42, 28]&#10;Color: (255, 0, 0)\" style=\"width: 10px; height: 10px;background-color: rgb(255, 0, 0);\"></td><td title=\"Index: [42, 29]&#10;Color: (123, 234, 123)\" style=\"width: 10px; height: 10px;background-color: rgb(123, 234, 123);\"></td><td title=\"Index: [42, 30]&#10;Color: (123, 234, 123)\" style=\"width: 10px; height: 10px;background-color: rgb(123, 234, 123);\"></td><td title=\"Index: [42, 31]&#10;Color: (123, 234, 123)\" style=\"width: 10px; height: 10px;background-color: rgb(123, 234, 123);\"></td><td title=\"Index: [42, 32]&#10;Color: (123, 234, 123)\" style=\"width: 10px; height: 10px;background-color: rgb(123, 234, 123);\"></td><td title=\"Index: [42, 33]&#10;Color: (123, 234, 123)\" style=\"width: 10px; height: 10px;background-color: rgb(123, 234, 123);\"></td><td title=\"Index: [42, 34]&#10;Color: (123, 234, 123)\" style=\"width: 10px; height: 10px;background-color: rgb(123, 234, 123);\"></td><td title=\"Index: [42, 35]&#10;Color: (123, 234, 123)\" style=\"width: 10px; height: 10px;background-color: rgb(123, 234, 123);\"></td><td title=\"Index: [42, 36]&#10;Color: (123, 234, 123)\" style=\"width: 10px; height: 10px;background-color: rgb(123, 234, 123);\"></td><td title=\"Index: [42, 37]&#10;Color: (123, 234, 123)\" style=\"width: 10px; height: 10px;background-color: rgb(123, 234, 123);\"></td><td title=\"Index: [42, 38]&#10;Color: (123, 234, 123)\" style=\"width: 10px; height: 10px;background-color: rgb(123, 234, 123);\"></td><td title=\"Index: [42, 39]&#10;Color: (123, 234, 123)\" style=\"width: 10px; height: 10px;background-color: rgb(123, 234, 123);\"></td></tr><tr><td title=\"Index: [43, 0]&#10;Color: (255, 0, 0)\" style=\"width: 10px; height: 10px;background-color: rgb(255, 0, 0);\"></td><td title=\"Index: [43, 1]&#10;Color: (123, 234, 123)\" style=\"width: 10px; height: 10px;background-color: rgb(123, 234, 123);\"></td><td title=\"Index: [43, 2]&#10;Color: (255, 0, 0)\" style=\"width: 10px; height: 10px;background-color: rgb(255, 0, 0);\"></td><td title=\"Index: [43, 3]&#10;Color: (123, 234, 123)\" style=\"width: 10px; height: 10px;background-color: rgb(123, 234, 123);\"></td><td title=\"Index: [43, 4]&#10;Color: (123, 234, 123)\" style=\"width: 10px; height: 10px;background-color: rgb(123, 234, 123);\"></td><td title=\"Index: [43, 5]&#10;Color: (123, 234, 123)\" style=\"width: 10px; height: 10px;background-color: rgb(123, 234, 123);\"></td><td title=\"Index: [43, 6]&#10;Color: (123, 234, 123)\" style=\"width: 10px; height: 10px;background-color: rgb(123, 234, 123);\"></td><td title=\"Index: [43, 7]&#10;Color: (123, 234, 123)\" style=\"width: 10px; height: 10px;background-color: rgb(123, 234, 123);\"></td><td title=\"Index: [43, 8]&#10;Color: (123, 234, 123)\" style=\"width: 10px; height: 10px;background-color: rgb(123, 234, 123);\"></td><td title=\"Index: [43, 9]&#10;Color: (123, 234, 123)\" style=\"width: 10px; height: 10px;background-color: rgb(123, 234, 123);\"></td><td title=\"Index: [43, 10]&#10;Color: (123, 234, 123)\" style=\"width: 10px; height: 10px;background-color: rgb(123, 234, 123);\"></td><td title=\"Index: [43, 11]&#10;Color: (123, 234, 123)\" style=\"width: 10px; height: 10px;background-color: rgb(123, 234, 123);\"></td><td title=\"Index: [43, 12]&#10;Color: (255, 0, 0)\" style=\"width: 10px; height: 10px;background-color: rgb(255, 0, 0);\"></td><td title=\"Index: [43, 13]&#10;Color: (123, 234, 123)\" style=\"width: 10px; height: 10px;background-color: rgb(123, 234, 123);\"></td><td title=\"Index: [43, 14]&#10;Color: (123, 234, 123)\" style=\"width: 10px; height: 10px;background-color: rgb(123, 234, 123);\"></td><td title=\"Index: [43, 15]&#10;Color: (123, 234, 123)\" style=\"width: 10px; height: 10px;background-color: rgb(123, 234, 123);\"></td><td title=\"Index: [43, 16]&#10;Color: (123, 234, 123)\" style=\"width: 10px; height: 10px;background-color: rgb(123, 234, 123);\"></td><td title=\"Index: [43, 17]&#10;Color: (123, 234, 123)\" style=\"width: 10px; height: 10px;background-color: rgb(123, 234, 123);\"></td><td title=\"Index: [43, 18]&#10;Color: (123, 234, 123)\" style=\"width: 10px; height: 10px;background-color: rgb(123, 234, 123);\"></td><td title=\"Index: [43, 19]&#10;Color: (123, 234, 123)\" style=\"width: 10px; height: 10px;background-color: rgb(123, 234, 123);\"></td><td title=\"Index: [43, 20]&#10;Color: (255, 0, 0)\" style=\"width: 10px; height: 10px;background-color: rgb(255, 0, 0);\"></td><td title=\"Index: [43, 21]&#10;Color: (123, 234, 123)\" style=\"width: 10px; height: 10px;background-color: rgb(123, 234, 123);\"></td><td title=\"Index: [43, 22]&#10;Color: (123, 234, 123)\" style=\"width: 10px; height: 10px;background-color: rgb(123, 234, 123);\"></td><td title=\"Index: [43, 23]&#10;Color: (123, 234, 123)\" style=\"width: 10px; height: 10px;background-color: rgb(123, 234, 123);\"></td><td title=\"Index: [43, 24]&#10;Color: (123, 234, 123)\" style=\"width: 10px; height: 10px;background-color: rgb(123, 234, 123);\"></td><td title=\"Index: [43, 25]&#10;Color: (123, 234, 123)\" style=\"width: 10px; height: 10px;background-color: rgb(123, 234, 123);\"></td><td title=\"Index: [43, 26]&#10;Color: (255, 0, 0)\" style=\"width: 10px; height: 10px;background-color: rgb(255, 0, 0);\"></td><td title=\"Index: [43, 27]&#10;Color: (123, 234, 123)\" style=\"width: 10px; height: 10px;background-color: rgb(123, 234, 123);\"></td><td title=\"Index: [43, 28]&#10;Color: (123, 234, 123)\" style=\"width: 10px; height: 10px;background-color: rgb(123, 234, 123);\"></td><td title=\"Index: [43, 29]&#10;Color: (123, 234, 123)\" style=\"width: 10px; height: 10px;background-color: rgb(123, 234, 123);\"></td><td title=\"Index: [43, 30]&#10;Color: (123, 234, 123)\" style=\"width: 10px; height: 10px;background-color: rgb(123, 234, 123);\"></td><td title=\"Index: [43, 31]&#10;Color: (123, 234, 123)\" style=\"width: 10px; height: 10px;background-color: rgb(123, 234, 123);\"></td><td title=\"Index: [43, 32]&#10;Color: (255, 0, 0)\" style=\"width: 10px; height: 10px;background-color: rgb(255, 0, 0);\"></td><td title=\"Index: [43, 33]&#10;Color: (123, 234, 123)\" style=\"width: 10px; height: 10px;background-color: rgb(123, 234, 123);\"></td><td title=\"Index: [43, 34]&#10;Color: (123, 234, 123)\" style=\"width: 10px; height: 10px;background-color: rgb(123, 234, 123);\"></td><td title=\"Index: [43, 35]&#10;Color: (123, 234, 123)\" style=\"width: 10px; height: 10px;background-color: rgb(123, 234, 123);\"></td><td title=\"Index: [43, 36]&#10;Color: (123, 234, 123)\" style=\"width: 10px; height: 10px;background-color: rgb(123, 234, 123);\"></td><td title=\"Index: [43, 37]&#10;Color: (123, 234, 123)\" style=\"width: 10px; height: 10px;background-color: rgb(123, 234, 123);\"></td><td title=\"Index: [43, 38]&#10;Color: (255, 0, 0)\" style=\"width: 10px; height: 10px;background-color: rgb(255, 0, 0);\"></td><td title=\"Index: [43, 39]&#10;Color: (123, 234, 123)\" style=\"width: 10px; height: 10px;background-color: rgb(123, 234, 123);\"></td></tr><tr><td title=\"Index: [44, 0]&#10;Color: (123, 234, 123)\" style=\"width: 10px; height: 10px;background-color: rgb(123, 234, 123);\"></td><td title=\"Index: [44, 1]&#10;Color: (123, 234, 123)\" style=\"width: 10px; height: 10px;background-color: rgb(123, 234, 123);\"></td><td title=\"Index: [44, 2]&#10;Color: (123, 234, 123)\" style=\"width: 10px; height: 10px;background-color: rgb(123, 234, 123);\"></td><td title=\"Index: [44, 3]&#10;Color: (123, 234, 123)\" style=\"width: 10px; height: 10px;background-color: rgb(123, 234, 123);\"></td><td title=\"Index: [44, 4]&#10;Color: (123, 234, 123)\" style=\"width: 10px; height: 10px;background-color: rgb(123, 234, 123);\"></td><td title=\"Index: [44, 5]&#10;Color: (123, 234, 123)\" style=\"width: 10px; height: 10px;background-color: rgb(123, 234, 123);\"></td><td title=\"Index: [44, 6]&#10;Color: (123, 234, 123)\" style=\"width: 10px; height: 10px;background-color: rgb(123, 234, 123);\"></td><td title=\"Index: [44, 7]&#10;Color: (123, 234, 123)\" style=\"width: 10px; height: 10px;background-color: rgb(123, 234, 123);\"></td><td title=\"Index: [44, 8]&#10;Color: (123, 234, 123)\" style=\"width: 10px; height: 10px;background-color: rgb(123, 234, 123);\"></td><td title=\"Index: [44, 9]&#10;Color: (123, 234, 123)\" style=\"width: 10px; height: 10px;background-color: rgb(123, 234, 123);\"></td><td title=\"Index: [44, 10]&#10;Color: (123, 234, 123)\" style=\"width: 10px; height: 10px;background-color: rgb(123, 234, 123);\"></td><td title=\"Index: [44, 11]&#10;Color: (123, 234, 123)\" style=\"width: 10px; height: 10px;background-color: rgb(123, 234, 123);\"></td><td title=\"Index: [44, 12]&#10;Color: (123, 234, 123)\" style=\"width: 10px; height: 10px;background-color: rgb(123, 234, 123);\"></td><td title=\"Index: [44, 13]&#10;Color: (123, 234, 123)\" style=\"width: 10px; height: 10px;background-color: rgb(123, 234, 123);\"></td><td title=\"Index: [44, 14]&#10;Color: (123, 234, 123)\" style=\"width: 10px; height: 10px;background-color: rgb(123, 234, 123);\"></td><td title=\"Index: [44, 15]&#10;Color: (123, 234, 123)\" style=\"width: 10px; height: 10px;background-color: rgb(123, 234, 123);\"></td><td title=\"Index: [44, 16]&#10;Color: (255, 0, 0)\" style=\"width: 10px; height: 10px;background-color: rgb(255, 0, 0);\"></td><td title=\"Index: [44, 17]&#10;Color: (123, 234, 123)\" style=\"width: 10px; height: 10px;background-color: rgb(123, 234, 123);\"></td><td title=\"Index: [44, 18]&#10;Color: (123, 234, 123)\" style=\"width: 10px; height: 10px;background-color: rgb(123, 234, 123);\"></td><td title=\"Index: [44, 19]&#10;Color: (123, 234, 123)\" style=\"width: 10px; height: 10px;background-color: rgb(123, 234, 123);\"></td><td title=\"Index: [44, 20]&#10;Color: (123, 234, 123)\" style=\"width: 10px; height: 10px;background-color: rgb(123, 234, 123);\"></td><td title=\"Index: [44, 21]&#10;Color: (123, 234, 123)\" style=\"width: 10px; height: 10px;background-color: rgb(123, 234, 123);\"></td><td title=\"Index: [44, 22]&#10;Color: (255, 0, 0)\" style=\"width: 10px; height: 10px;background-color: rgb(255, 0, 0);\"></td><td title=\"Index: [44, 23]&#10;Color: (123, 234, 123)\" style=\"width: 10px; height: 10px;background-color: rgb(123, 234, 123);\"></td><td title=\"Index: [44, 24]&#10;Color: (123, 234, 123)\" style=\"width: 10px; height: 10px;background-color: rgb(123, 234, 123);\"></td><td title=\"Index: [44, 25]&#10;Color: (123, 234, 123)\" style=\"width: 10px; height: 10px;background-color: rgb(123, 234, 123);\"></td><td title=\"Index: [44, 26]&#10;Color: (255, 0, 0)\" style=\"width: 10px; height: 10px;background-color: rgb(255, 0, 0);\"></td><td title=\"Index: [44, 27]&#10;Color: (123, 234, 123)\" style=\"width: 10px; height: 10px;background-color: rgb(123, 234, 123);\"></td><td title=\"Index: [44, 28]&#10;Color: (255, 0, 0)\" style=\"width: 10px; height: 10px;background-color: rgb(255, 0, 0);\"></td><td title=\"Index: [44, 29]&#10;Color: (123, 234, 123)\" style=\"width: 10px; height: 10px;background-color: rgb(123, 234, 123);\"></td><td title=\"Index: [44, 30]&#10;Color: (123, 234, 123)\" style=\"width: 10px; height: 10px;background-color: rgb(123, 234, 123);\"></td><td title=\"Index: [44, 31]&#10;Color: (123, 234, 123)\" style=\"width: 10px; height: 10px;background-color: rgb(123, 234, 123);\"></td><td title=\"Index: [44, 32]&#10;Color: (123, 234, 123)\" style=\"width: 10px; height: 10px;background-color: rgb(123, 234, 123);\"></td><td title=\"Index: [44, 33]&#10;Color: (123, 234, 123)\" style=\"width: 10px; height: 10px;background-color: rgb(123, 234, 123);\"></td><td title=\"Index: [44, 34]&#10;Color: (123, 234, 123)\" style=\"width: 10px; height: 10px;background-color: rgb(123, 234, 123);\"></td><td title=\"Index: [44, 35]&#10;Color: (123, 234, 123)\" style=\"width: 10px; height: 10px;background-color: rgb(123, 234, 123);\"></td><td title=\"Index: [44, 36]&#10;Color: (123, 234, 123)\" style=\"width: 10px; height: 10px;background-color: rgb(123, 234, 123);\"></td><td title=\"Index: [44, 37]&#10;Color: (123, 234, 123)\" style=\"width: 10px; height: 10px;background-color: rgb(123, 234, 123);\"></td><td title=\"Index: [44, 38]&#10;Color: (123, 234, 123)\" style=\"width: 10px; height: 10px;background-color: rgb(123, 234, 123);\"></td><td title=\"Index: [44, 39]&#10;Color: (123, 234, 123)\" style=\"width: 10px; height: 10px;background-color: rgb(123, 234, 123);\"></td></tr><tr><td title=\"Index: [45, 0]&#10;Color: (255, 0, 0)\" style=\"width: 10px; height: 10px;background-color: rgb(255, 0, 0);\"></td><td title=\"Index: [45, 1]&#10;Color: (123, 234, 123)\" style=\"width: 10px; height: 10px;background-color: rgb(123, 234, 123);\"></td><td title=\"Index: [45, 2]&#10;Color: (123, 234, 123)\" style=\"width: 10px; height: 10px;background-color: rgb(123, 234, 123);\"></td><td title=\"Index: [45, 3]&#10;Color: (123, 234, 123)\" style=\"width: 10px; height: 10px;background-color: rgb(123, 234, 123);\"></td><td title=\"Index: [45, 4]&#10;Color: (123, 234, 123)\" style=\"width: 10px; height: 10px;background-color: rgb(123, 234, 123);\"></td><td title=\"Index: [45, 5]&#10;Color: (123, 234, 123)\" style=\"width: 10px; height: 10px;background-color: rgb(123, 234, 123);\"></td><td title=\"Index: [45, 6]&#10;Color: (123, 234, 123)\" style=\"width: 10px; height: 10px;background-color: rgb(123, 234, 123);\"></td><td title=\"Index: [45, 7]&#10;Color: (123, 234, 123)\" style=\"width: 10px; height: 10px;background-color: rgb(123, 234, 123);\"></td><td title=\"Index: [45, 8]&#10;Color: (123, 234, 123)\" style=\"width: 10px; height: 10px;background-color: rgb(123, 234, 123);\"></td><td title=\"Index: [45, 9]&#10;Color: (123, 234, 123)\" style=\"width: 10px; height: 10px;background-color: rgb(123, 234, 123);\"></td><td title=\"Index: [45, 10]&#10;Color: (255, 0, 0)\" style=\"width: 10px; height: 10px;background-color: rgb(255, 0, 0);\"></td><td title=\"Index: [45, 11]&#10;Color: (123, 234, 123)\" style=\"width: 10px; height: 10px;background-color: rgb(123, 234, 123);\"></td><td title=\"Index: [45, 12]&#10;Color: (123, 234, 123)\" style=\"width: 10px; height: 10px;background-color: rgb(123, 234, 123);\"></td><td title=\"Index: [45, 13]&#10;Color: (123, 234, 123)\" style=\"width: 10px; height: 10px;background-color: rgb(123, 234, 123);\"></td><td title=\"Index: [45, 14]&#10;Color: (123, 234, 123)\" style=\"width: 10px; height: 10px;background-color: rgb(123, 234, 123);\"></td><td title=\"Index: [45, 15]&#10;Color: (123, 234, 123)\" style=\"width: 10px; height: 10px;background-color: rgb(123, 234, 123);\"></td><td title=\"Index: [45, 16]&#10;Color: (123, 234, 123)\" style=\"width: 10px; height: 10px;background-color: rgb(123, 234, 123);\"></td><td title=\"Index: [45, 17]&#10;Color: (123, 234, 123)\" style=\"width: 10px; height: 10px;background-color: rgb(123, 234, 123);\"></td><td title=\"Index: [45, 18]&#10;Color: (123, 234, 123)\" style=\"width: 10px; height: 10px;background-color: rgb(123, 234, 123);\"></td><td title=\"Index: [45, 19]&#10;Color: (123, 234, 123)\" style=\"width: 10px; height: 10px;background-color: rgb(123, 234, 123);\"></td><td title=\"Index: [45, 20]&#10;Color: (123, 234, 123)\" style=\"width: 10px; height: 10px;background-color: rgb(123, 234, 123);\"></td><td title=\"Index: [45, 21]&#10;Color: (123, 234, 123)\" style=\"width: 10px; height: 10px;background-color: rgb(123, 234, 123);\"></td><td title=\"Index: [45, 22]&#10;Color: (255, 0, 0)\" style=\"width: 10px; height: 10px;background-color: rgb(255, 0, 0);\"></td><td title=\"Index: [45, 23]&#10;Color: (123, 234, 123)\" style=\"width: 10px; height: 10px;background-color: rgb(123, 234, 123);\"></td><td title=\"Index: [45, 24]&#10;Color: (123, 234, 123)\" style=\"width: 10px; height: 10px;background-color: rgb(123, 234, 123);\"></td><td title=\"Index: [45, 25]&#10;Color: (123, 234, 123)\" style=\"width: 10px; height: 10px;background-color: rgb(123, 234, 123);\"></td><td title=\"Index: [45, 26]&#10;Color: (123, 234, 123)\" style=\"width: 10px; height: 10px;background-color: rgb(123, 234, 123);\"></td><td title=\"Index: [45, 27]&#10;Color: (123, 234, 123)\" style=\"width: 10px; height: 10px;background-color: rgb(123, 234, 123);\"></td><td title=\"Index: [45, 28]&#10;Color: (123, 234, 123)\" style=\"width: 10px; height: 10px;background-color: rgb(123, 234, 123);\"></td><td title=\"Index: [45, 29]&#10;Color: (123, 234, 123)\" style=\"width: 10px; height: 10px;background-color: rgb(123, 234, 123);\"></td><td title=\"Index: [45, 30]&#10;Color: (255, 0, 0)\" style=\"width: 10px; height: 10px;background-color: rgb(255, 0, 0);\"></td><td title=\"Index: [45, 31]&#10;Color: (123, 234, 123)\" style=\"width: 10px; height: 10px;background-color: rgb(123, 234, 123);\"></td><td title=\"Index: [45, 32]&#10;Color: (123, 234, 123)\" style=\"width: 10px; height: 10px;background-color: rgb(123, 234, 123);\"></td><td title=\"Index: [45, 33]&#10;Color: (123, 234, 123)\" style=\"width: 10px; height: 10px;background-color: rgb(123, 234, 123);\"></td><td title=\"Index: [45, 34]&#10;Color: (123, 234, 123)\" style=\"width: 10px; height: 10px;background-color: rgb(123, 234, 123);\"></td><td title=\"Index: [45, 35]&#10;Color: (123, 234, 123)\" style=\"width: 10px; height: 10px;background-color: rgb(123, 234, 123);\"></td><td title=\"Index: [45, 36]&#10;Color: (123, 234, 123)\" style=\"width: 10px; height: 10px;background-color: rgb(123, 234, 123);\"></td><td title=\"Index: [45, 37]&#10;Color: (123, 234, 123)\" style=\"width: 10px; height: 10px;background-color: rgb(123, 234, 123);\"></td><td title=\"Index: [45, 38]&#10;Color: (123, 234, 123)\" style=\"width: 10px; height: 10px;background-color: rgb(123, 234, 123);\"></td><td title=\"Index: [45, 39]&#10;Color: (123, 234, 123)\" style=\"width: 10px; height: 10px;background-color: rgb(123, 234, 123);\"></td></tr><tr><td title=\"Index: [46, 0]&#10;Color: (123, 234, 123)\" style=\"width: 10px; height: 10px;background-color: rgb(123, 234, 123);\"></td><td title=\"Index: [46, 1]&#10;Color: (123, 234, 123)\" style=\"width: 10px; height: 10px;background-color: rgb(123, 234, 123);\"></td><td title=\"Index: [46, 2]&#10;Color: (123, 234, 123)\" style=\"width: 10px; height: 10px;background-color: rgb(123, 234, 123);\"></td><td title=\"Index: [46, 3]&#10;Color: (123, 234, 123)\" style=\"width: 10px; height: 10px;background-color: rgb(123, 234, 123);\"></td><td title=\"Index: [46, 4]&#10;Color: (123, 234, 123)\" style=\"width: 10px; height: 10px;background-color: rgb(123, 234, 123);\"></td><td title=\"Index: [46, 5]&#10;Color: (123, 234, 123)\" style=\"width: 10px; height: 10px;background-color: rgb(123, 234, 123);\"></td><td title=\"Index: [46, 6]&#10;Color: (255, 0, 0)\" style=\"width: 10px; height: 10px;background-color: rgb(255, 0, 0);\"></td><td title=\"Index: [46, 7]&#10;Color: (123, 234, 123)\" style=\"width: 10px; height: 10px;background-color: rgb(123, 234, 123);\"></td><td title=\"Index: [46, 8]&#10;Color: (123, 234, 123)\" style=\"width: 10px; height: 10px;background-color: rgb(123, 234, 123);\"></td><td title=\"Index: [46, 9]&#10;Color: (123, 234, 123)\" style=\"width: 10px; height: 10px;background-color: rgb(123, 234, 123);\"></td><td title=\"Index: [46, 10]&#10;Color: (123, 234, 123)\" style=\"width: 10px; height: 10px;background-color: rgb(123, 234, 123);\"></td><td title=\"Index: [46, 11]&#10;Color: (123, 234, 123)\" style=\"width: 10px; height: 10px;background-color: rgb(123, 234, 123);\"></td><td title=\"Index: [46, 12]&#10;Color: (123, 234, 123)\" style=\"width: 10px; height: 10px;background-color: rgb(123, 234, 123);\"></td><td title=\"Index: [46, 13]&#10;Color: (123, 234, 123)\" style=\"width: 10px; height: 10px;background-color: rgb(123, 234, 123);\"></td><td title=\"Index: [46, 14]&#10;Color: (123, 234, 123)\" style=\"width: 10px; height: 10px;background-color: rgb(123, 234, 123);\"></td><td title=\"Index: [46, 15]&#10;Color: (123, 234, 123)\" style=\"width: 10px; height: 10px;background-color: rgb(123, 234, 123);\"></td><td title=\"Index: [46, 16]&#10;Color: (123, 234, 123)\" style=\"width: 10px; height: 10px;background-color: rgb(123, 234, 123);\"></td><td title=\"Index: [46, 17]&#10;Color: (123, 234, 123)\" style=\"width: 10px; height: 10px;background-color: rgb(123, 234, 123);\"></td><td title=\"Index: [46, 18]&#10;Color: (123, 234, 123)\" style=\"width: 10px; height: 10px;background-color: rgb(123, 234, 123);\"></td><td title=\"Index: [46, 19]&#10;Color: (123, 234, 123)\" style=\"width: 10px; height: 10px;background-color: rgb(123, 234, 123);\"></td><td title=\"Index: [46, 20]&#10;Color: (255, 0, 0)\" style=\"width: 10px; height: 10px;background-color: rgb(255, 0, 0);\"></td><td title=\"Index: [46, 21]&#10;Color: (123, 234, 123)\" style=\"width: 10px; height: 10px;background-color: rgb(123, 234, 123);\"></td><td title=\"Index: [46, 22]&#10;Color: (123, 234, 123)\" style=\"width: 10px; height: 10px;background-color: rgb(123, 234, 123);\"></td><td title=\"Index: [46, 23]&#10;Color: (123, 234, 123)\" style=\"width: 10px; height: 10px;background-color: rgb(123, 234, 123);\"></td><td title=\"Index: [46, 24]&#10;Color: (123, 234, 123)\" style=\"width: 10px; height: 10px;background-color: rgb(123, 234, 123);\"></td><td title=\"Index: [46, 25]&#10;Color: (123, 234, 123)\" style=\"width: 10px; height: 10px;background-color: rgb(123, 234, 123);\"></td><td title=\"Index: [46, 26]&#10;Color: (255, 0, 0)\" style=\"width: 10px; height: 10px;background-color: rgb(255, 0, 0);\"></td><td title=\"Index: [46, 27]&#10;Color: (123, 234, 123)\" style=\"width: 10px; height: 10px;background-color: rgb(123, 234, 123);\"></td><td title=\"Index: [46, 28]&#10;Color: (123, 234, 123)\" style=\"width: 10px; height: 10px;background-color: rgb(123, 234, 123);\"></td><td title=\"Index: [46, 29]&#10;Color: (123, 234, 123)\" style=\"width: 10px; height: 10px;background-color: rgb(123, 234, 123);\"></td><td title=\"Index: [46, 30]&#10;Color: (255, 0, 0)\" style=\"width: 10px; height: 10px;background-color: rgb(255, 0, 0);\"></td><td title=\"Index: [46, 31]&#10;Color: (123, 234, 123)\" style=\"width: 10px; height: 10px;background-color: rgb(123, 234, 123);\"></td><td title=\"Index: [46, 32]&#10;Color: (255, 0, 0)\" style=\"width: 10px; height: 10px;background-color: rgb(255, 0, 0);\"></td><td title=\"Index: [46, 33]&#10;Color: (123, 234, 123)\" style=\"width: 10px; height: 10px;background-color: rgb(123, 234, 123);\"></td><td title=\"Index: [46, 34]&#10;Color: (123, 234, 123)\" style=\"width: 10px; height: 10px;background-color: rgb(123, 234, 123);\"></td><td title=\"Index: [46, 35]&#10;Color: (123, 234, 123)\" style=\"width: 10px; height: 10px;background-color: rgb(123, 234, 123);\"></td><td title=\"Index: [46, 36]&#10;Color: (255, 0, 0)\" style=\"width: 10px; height: 10px;background-color: rgb(255, 0, 0);\"></td><td title=\"Index: [46, 37]&#10;Color: (123, 234, 123)\" style=\"width: 10px; height: 10px;background-color: rgb(123, 234, 123);\"></td><td title=\"Index: [46, 38]&#10;Color: (255, 0, 0)\" style=\"width: 10px; height: 10px;background-color: rgb(255, 0, 0);\"></td><td title=\"Index: [46, 39]&#10;Color: (123, 234, 123)\" style=\"width: 10px; height: 10px;background-color: rgb(123, 234, 123);\"></td></tr><tr><td title=\"Index: [47, 0]&#10;Color: (123, 234, 123)\" style=\"width: 10px; height: 10px;background-color: rgb(123, 234, 123);\"></td><td title=\"Index: [47, 1]&#10;Color: (123, 234, 123)\" style=\"width: 10px; height: 10px;background-color: rgb(123, 234, 123);\"></td><td title=\"Index: [47, 2]&#10;Color: (123, 234, 123)\" style=\"width: 10px; height: 10px;background-color: rgb(123, 234, 123);\"></td><td title=\"Index: [47, 3]&#10;Color: (123, 234, 123)\" style=\"width: 10px; height: 10px;background-color: rgb(123, 234, 123);\"></td><td title=\"Index: [47, 4]&#10;Color: (123, 234, 123)\" style=\"width: 10px; height: 10px;background-color: rgb(123, 234, 123);\"></td><td title=\"Index: [47, 5]&#10;Color: (123, 234, 123)\" style=\"width: 10px; height: 10px;background-color: rgb(123, 234, 123);\"></td><td title=\"Index: [47, 6]&#10;Color: (123, 234, 123)\" style=\"width: 10px; height: 10px;background-color: rgb(123, 234, 123);\"></td><td title=\"Index: [47, 7]&#10;Color: (123, 234, 123)\" style=\"width: 10px; height: 10px;background-color: rgb(123, 234, 123);\"></td><td title=\"Index: [47, 8]&#10;Color: (255, 0, 0)\" style=\"width: 10px; height: 10px;background-color: rgb(255, 0, 0);\"></td><td title=\"Index: [47, 9]&#10;Color: (123, 234, 123)\" style=\"width: 10px; height: 10px;background-color: rgb(123, 234, 123);\"></td><td title=\"Index: [47, 10]&#10;Color: (123, 234, 123)\" style=\"width: 10px; height: 10px;background-color: rgb(123, 234, 123);\"></td><td title=\"Index: [47, 11]&#10;Color: (123, 234, 123)\" style=\"width: 10px; height: 10px;background-color: rgb(123, 234, 123);\"></td><td title=\"Index: [47, 12]&#10;Color: (123, 234, 123)\" style=\"width: 10px; height: 10px;background-color: rgb(123, 234, 123);\"></td><td title=\"Index: [47, 13]&#10;Color: (123, 234, 123)\" style=\"width: 10px; height: 10px;background-color: rgb(123, 234, 123);\"></td><td title=\"Index: [47, 14]&#10;Color: (123, 234, 123)\" style=\"width: 10px; height: 10px;background-color: rgb(123, 234, 123);\"></td><td title=\"Index: [47, 15]&#10;Color: (123, 234, 123)\" style=\"width: 10px; height: 10px;background-color: rgb(123, 234, 123);\"></td><td title=\"Index: [47, 16]&#10;Color: (123, 234, 123)\" style=\"width: 10px; height: 10px;background-color: rgb(123, 234, 123);\"></td><td title=\"Index: [47, 17]&#10;Color: (123, 234, 123)\" style=\"width: 10px; height: 10px;background-color: rgb(123, 234, 123);\"></td><td title=\"Index: [47, 18]&#10;Color: (123, 234, 123)\" style=\"width: 10px; height: 10px;background-color: rgb(123, 234, 123);\"></td><td title=\"Index: [47, 19]&#10;Color: (123, 234, 123)\" style=\"width: 10px; height: 10px;background-color: rgb(123, 234, 123);\"></td><td title=\"Index: [47, 20]&#10;Color: (255, 0, 0)\" style=\"width: 10px; height: 10px;background-color: rgb(255, 0, 0);\"></td><td title=\"Index: [47, 21]&#10;Color: (123, 234, 123)\" style=\"width: 10px; height: 10px;background-color: rgb(123, 234, 123);\"></td><td title=\"Index: [47, 22]&#10;Color: (123, 234, 123)\" style=\"width: 10px; height: 10px;background-color: rgb(123, 234, 123);\"></td><td title=\"Index: [47, 23]&#10;Color: (123, 234, 123)\" style=\"width: 10px; height: 10px;background-color: rgb(123, 234, 123);\"></td><td title=\"Index: [47, 24]&#10;Color: (123, 234, 123)\" style=\"width: 10px; height: 10px;background-color: rgb(123, 234, 123);\"></td><td title=\"Index: [47, 25]&#10;Color: (123, 234, 123)\" style=\"width: 10px; height: 10px;background-color: rgb(123, 234, 123);\"></td><td title=\"Index: [47, 26]&#10;Color: (255, 0, 0)\" style=\"width: 10px; height: 10px;background-color: rgb(255, 0, 0);\"></td><td title=\"Index: [47, 27]&#10;Color: (123, 234, 123)\" style=\"width: 10px; height: 10px;background-color: rgb(123, 234, 123);\"></td><td title=\"Index: [47, 28]&#10;Color: (123, 234, 123)\" style=\"width: 10px; height: 10px;background-color: rgb(123, 234, 123);\"></td><td title=\"Index: [47, 29]&#10;Color: (123, 234, 123)\" style=\"width: 10px; height: 10px;background-color: rgb(123, 234, 123);\"></td><td title=\"Index: [47, 30]&#10;Color: (123, 234, 123)\" style=\"width: 10px; height: 10px;background-color: rgb(123, 234, 123);\"></td><td title=\"Index: [47, 31]&#10;Color: (123, 234, 123)\" style=\"width: 10px; height: 10px;background-color: rgb(123, 234, 123);\"></td><td title=\"Index: [47, 32]&#10;Color: (255, 0, 0)\" style=\"width: 10px; height: 10px;background-color: rgb(255, 0, 0);\"></td><td title=\"Index: [47, 33]&#10;Color: (123, 234, 123)\" style=\"width: 10px; height: 10px;background-color: rgb(123, 234, 123);\"></td><td title=\"Index: [47, 34]&#10;Color: (123, 234, 123)\" style=\"width: 10px; height: 10px;background-color: rgb(123, 234, 123);\"></td><td title=\"Index: [47, 35]&#10;Color: (123, 234, 123)\" style=\"width: 10px; height: 10px;background-color: rgb(123, 234, 123);\"></td><td title=\"Index: [47, 36]&#10;Color: (123, 234, 123)\" style=\"width: 10px; height: 10px;background-color: rgb(123, 234, 123);\"></td><td title=\"Index: [47, 37]&#10;Color: (123, 234, 123)\" style=\"width: 10px; height: 10px;background-color: rgb(123, 234, 123);\"></td><td title=\"Index: [47, 38]&#10;Color: (123, 234, 123)\" style=\"width: 10px; height: 10px;background-color: rgb(123, 234, 123);\"></td><td title=\"Index: [47, 39]&#10;Color: (123, 234, 123)\" style=\"width: 10px; height: 10px;background-color: rgb(123, 234, 123);\"></td></tr><tr><td title=\"Index: [48, 0]&#10;Color: (123, 234, 123)\" style=\"width: 10px; height: 10px;background-color: rgb(123, 234, 123);\"></td><td title=\"Index: [48, 1]&#10;Color: (123, 234, 123)\" style=\"width: 10px; height: 10px;background-color: rgb(123, 234, 123);\"></td><td title=\"Index: [48, 2]&#10;Color: (123, 234, 123)\" style=\"width: 10px; height: 10px;background-color: rgb(123, 234, 123);\"></td><td title=\"Index: [48, 3]&#10;Color: (123, 234, 123)\" style=\"width: 10px; height: 10px;background-color: rgb(123, 234, 123);\"></td><td title=\"Index: [48, 4]&#10;Color: (123, 234, 123)\" style=\"width: 10px; height: 10px;background-color: rgb(123, 234, 123);\"></td><td title=\"Index: [48, 5]&#10;Color: (123, 234, 123)\" style=\"width: 10px; height: 10px;background-color: rgb(123, 234, 123);\"></td><td title=\"Index: [48, 6]&#10;Color: (123, 234, 123)\" style=\"width: 10px; height: 10px;background-color: rgb(123, 234, 123);\"></td><td title=\"Index: [48, 7]&#10;Color: (123, 234, 123)\" style=\"width: 10px; height: 10px;background-color: rgb(123, 234, 123);\"></td><td title=\"Index: [48, 8]&#10;Color: (123, 234, 123)\" style=\"width: 10px; height: 10px;background-color: rgb(123, 234, 123);\"></td><td title=\"Index: [48, 9]&#10;Color: (123, 234, 123)\" style=\"width: 10px; height: 10px;background-color: rgb(123, 234, 123);\"></td><td title=\"Index: [48, 10]&#10;Color: (255, 0, 0)\" style=\"width: 10px; height: 10px;background-color: rgb(255, 0, 0);\"></td><td title=\"Index: [48, 11]&#10;Color: (123, 234, 123)\" style=\"width: 10px; height: 10px;background-color: rgb(123, 234, 123);\"></td><td title=\"Index: [48, 12]&#10;Color: (255, 0, 0)\" style=\"width: 10px; height: 10px;background-color: rgb(255, 0, 0);\"></td><td title=\"Index: [48, 13]&#10;Color: (123, 234, 123)\" style=\"width: 10px; height: 10px;background-color: rgb(123, 234, 123);\"></td><td title=\"Index: [48, 14]&#10;Color: (123, 234, 123)\" style=\"width: 10px; height: 10px;background-color: rgb(123, 234, 123);\"></td><td title=\"Index: [48, 15]&#10;Color: (123, 234, 123)\" style=\"width: 10px; height: 10px;background-color: rgb(123, 234, 123);\"></td><td title=\"Index: [48, 16]&#10;Color: (123, 234, 123)\" style=\"width: 10px; height: 10px;background-color: rgb(123, 234, 123);\"></td><td title=\"Index: [48, 17]&#10;Color: (123, 234, 123)\" style=\"width: 10px; height: 10px;background-color: rgb(123, 234, 123);\"></td><td title=\"Index: [48, 18]&#10;Color: (123, 234, 123)\" style=\"width: 10px; height: 10px;background-color: rgb(123, 234, 123);\"></td><td title=\"Index: [48, 19]&#10;Color: (123, 234, 123)\" style=\"width: 10px; height: 10px;background-color: rgb(123, 234, 123);\"></td><td title=\"Index: [48, 20]&#10;Color: (123, 234, 123)\" style=\"width: 10px; height: 10px;background-color: rgb(123, 234, 123);\"></td><td title=\"Index: [48, 21]&#10;Color: (123, 234, 123)\" style=\"width: 10px; height: 10px;background-color: rgb(123, 234, 123);\"></td><td title=\"Index: [48, 22]&#10;Color: (123, 234, 123)\" style=\"width: 10px; height: 10px;background-color: rgb(123, 234, 123);\"></td><td title=\"Index: [48, 23]&#10;Color: (123, 234, 123)\" style=\"width: 10px; height: 10px;background-color: rgb(123, 234, 123);\"></td><td title=\"Index: [48, 24]&#10;Color: (123, 234, 123)\" style=\"width: 10px; height: 10px;background-color: rgb(123, 234, 123);\"></td><td title=\"Index: [48, 25]&#10;Color: (123, 234, 123)\" style=\"width: 10px; height: 10px;background-color: rgb(123, 234, 123);\"></td><td title=\"Index: [48, 26]&#10;Color: (123, 234, 123)\" style=\"width: 10px; height: 10px;background-color: rgb(123, 234, 123);\"></td><td title=\"Index: [48, 27]&#10;Color: (123, 234, 123)\" style=\"width: 10px; height: 10px;background-color: rgb(123, 234, 123);\"></td><td title=\"Index: [48, 28]&#10;Color: (255, 0, 0)\" style=\"width: 10px; height: 10px;background-color: rgb(255, 0, 0);\"></td><td title=\"Index: [48, 29]&#10;Color: (123, 234, 123)\" style=\"width: 10px; height: 10px;background-color: rgb(123, 234, 123);\"></td><td title=\"Index: [48, 30]&#10;Color: (255, 0, 0)\" style=\"width: 10px; height: 10px;background-color: rgb(255, 0, 0);\"></td><td title=\"Index: [48, 31]&#10;Color: (123, 234, 123)\" style=\"width: 10px; height: 10px;background-color: rgb(123, 234, 123);\"></td><td title=\"Index: [48, 32]&#10;Color: (123, 234, 123)\" style=\"width: 10px; height: 10px;background-color: rgb(123, 234, 123);\"></td><td title=\"Index: [48, 33]&#10;Color: (123, 234, 123)\" style=\"width: 10px; height: 10px;background-color: rgb(123, 234, 123);\"></td><td title=\"Index: [48, 34]&#10;Color: (123, 234, 123)\" style=\"width: 10px; height: 10px;background-color: rgb(123, 234, 123);\"></td><td title=\"Index: [48, 35]&#10;Color: (123, 234, 123)\" style=\"width: 10px; height: 10px;background-color: rgb(123, 234, 123);\"></td><td title=\"Index: [48, 36]&#10;Color: (123, 234, 123)\" style=\"width: 10px; height: 10px;background-color: rgb(123, 234, 123);\"></td><td title=\"Index: [48, 37]&#10;Color: (123, 234, 123)\" style=\"width: 10px; height: 10px;background-color: rgb(123, 234, 123);\"></td><td title=\"Index: [48, 38]&#10;Color: (123, 234, 123)\" style=\"width: 10px; height: 10px;background-color: rgb(123, 234, 123);\"></td><td title=\"Index: [48, 39]&#10;Color: (123, 234, 123)\" style=\"width: 10px; height: 10px;background-color: rgb(123, 234, 123);\"></td></tr><tr><td title=\"Index: [49, 0]&#10;Color: (123, 234, 123)\" style=\"width: 10px; height: 10px;background-color: rgb(123, 234, 123);\"></td><td title=\"Index: [49, 1]&#10;Color: (123, 234, 123)\" style=\"width: 10px; height: 10px;background-color: rgb(123, 234, 123);\"></td><td title=\"Index: [49, 2]&#10;Color: (123, 234, 123)\" style=\"width: 10px; height: 10px;background-color: rgb(123, 234, 123);\"></td><td title=\"Index: [49, 3]&#10;Color: (123, 234, 123)\" style=\"width: 10px; height: 10px;background-color: rgb(123, 234, 123);\"></td><td title=\"Index: [49, 4]&#10;Color: (123, 234, 123)\" style=\"width: 10px; height: 10px;background-color: rgb(123, 234, 123);\"></td><td title=\"Index: [49, 5]&#10;Color: (123, 234, 123)\" style=\"width: 10px; height: 10px;background-color: rgb(123, 234, 123);\"></td><td title=\"Index: [49, 6]&#10;Color: (123, 234, 123)\" style=\"width: 10px; height: 10px;background-color: rgb(123, 234, 123);\"></td><td title=\"Index: [49, 7]&#10;Color: (123, 234, 123)\" style=\"width: 10px; height: 10px;background-color: rgb(123, 234, 123);\"></td><td title=\"Index: [49, 8]&#10;Color: (123, 234, 123)\" style=\"width: 10px; height: 10px;background-color: rgb(123, 234, 123);\"></td><td title=\"Index: [49, 9]&#10;Color: (123, 234, 123)\" style=\"width: 10px; height: 10px;background-color: rgb(123, 234, 123);\"></td><td title=\"Index: [49, 10]&#10;Color: (123, 234, 123)\" style=\"width: 10px; height: 10px;background-color: rgb(123, 234, 123);\"></td><td title=\"Index: [49, 11]&#10;Color: (123, 234, 123)\" style=\"width: 10px; height: 10px;background-color: rgb(123, 234, 123);\"></td><td title=\"Index: [49, 12]&#10;Color: (255, 0, 0)\" style=\"width: 10px; height: 10px;background-color: rgb(255, 0, 0);\"></td><td title=\"Index: [49, 13]&#10;Color: (123, 234, 123)\" style=\"width: 10px; height: 10px;background-color: rgb(123, 234, 123);\"></td><td title=\"Index: [49, 14]&#10;Color: (123, 234, 123)\" style=\"width: 10px; height: 10px;background-color: rgb(123, 234, 123);\"></td><td title=\"Index: [49, 15]&#10;Color: (123, 234, 123)\" style=\"width: 10px; height: 10px;background-color: rgb(123, 234, 123);\"></td><td title=\"Index: [49, 16]&#10;Color: (123, 234, 123)\" style=\"width: 10px; height: 10px;background-color: rgb(123, 234, 123);\"></td><td title=\"Index: [49, 17]&#10;Color: (123, 234, 123)\" style=\"width: 10px; height: 10px;background-color: rgb(123, 234, 123);\"></td><td title=\"Index: [49, 18]&#10;Color: (255, 0, 0)\" style=\"width: 10px; height: 10px;background-color: rgb(255, 0, 0);\"></td><td title=\"Index: [49, 19]&#10;Color: (123, 234, 123)\" style=\"width: 10px; height: 10px;background-color: rgb(123, 234, 123);\"></td><td title=\"Index: [49, 20]&#10;Color: (123, 234, 123)\" style=\"width: 10px; height: 10px;background-color: rgb(123, 234, 123);\"></td><td title=\"Index: [49, 21]&#10;Color: (123, 234, 123)\" style=\"width: 10px; height: 10px;background-color: rgb(123, 234, 123);\"></td><td title=\"Index: [49, 22]&#10;Color: (123, 234, 123)\" style=\"width: 10px; height: 10px;background-color: rgb(123, 234, 123);\"></td><td title=\"Index: [49, 23]&#10;Color: (123, 234, 123)\" style=\"width: 10px; height: 10px;background-color: rgb(123, 234, 123);\"></td><td title=\"Index: [49, 24]&#10;Color: (123, 234, 123)\" style=\"width: 10px; height: 10px;background-color: rgb(123, 234, 123);\"></td><td title=\"Index: [49, 25]&#10;Color: (123, 234, 123)\" style=\"width: 10px; height: 10px;background-color: rgb(123, 234, 123);\"></td><td title=\"Index: [49, 26]&#10;Color: (255, 0, 0)\" style=\"width: 10px; height: 10px;background-color: rgb(255, 0, 0);\"></td><td title=\"Index: [49, 27]&#10;Color: (123, 234, 123)\" style=\"width: 10px; height: 10px;background-color: rgb(123, 234, 123);\"></td><td title=\"Index: [49, 28]&#10;Color: (123, 234, 123)\" style=\"width: 10px; height: 10px;background-color: rgb(123, 234, 123);\"></td><td title=\"Index: [49, 29]&#10;Color: (123, 234, 123)\" style=\"width: 10px; height: 10px;background-color: rgb(123, 234, 123);\"></td><td title=\"Index: [49, 30]&#10;Color: (123, 234, 123)\" style=\"width: 10px; height: 10px;background-color: rgb(123, 234, 123);\"></td><td title=\"Index: [49, 31]&#10;Color: (123, 234, 123)\" style=\"width: 10px; height: 10px;background-color: rgb(123, 234, 123);\"></td><td title=\"Index: [49, 32]&#10;Color: (255, 0, 0)\" style=\"width: 10px; height: 10px;background-color: rgb(255, 0, 0);\"></td><td title=\"Index: [49, 33]&#10;Color: (123, 234, 123)\" style=\"width: 10px; height: 10px;background-color: rgb(123, 234, 123);\"></td><td title=\"Index: [49, 34]&#10;Color: (123, 234, 123)\" style=\"width: 10px; height: 10px;background-color: rgb(123, 234, 123);\"></td><td title=\"Index: [49, 35]&#10;Color: (123, 234, 123)\" style=\"width: 10px; height: 10px;background-color: rgb(123, 234, 123);\"></td><td title=\"Index: [49, 36]&#10;Color: (255, 0, 0)\" style=\"width: 10px; height: 10px;background-color: rgb(255, 0, 0);\"></td><td title=\"Index: [49, 37]&#10;Color: (123, 234, 123)\" style=\"width: 10px; height: 10px;background-color: rgb(123, 234, 123);\"></td><td title=\"Index: [49, 38]&#10;Color: (255, 0, 0)\" style=\"width: 10px; height: 10px;background-color: rgb(255, 0, 0);\"></td><td title=\"Index: [49, 39]&#10;Color: (123, 234, 123)\" style=\"width: 10px; height: 10px;background-color: rgb(123, 234, 123);\"></td></tr></tbody></table>"
       ],
       "metadata": {},
       "output_type": "display_data",
       "text": [
        "<IPython.core.display.HTML at 0x3d4e9e8>"
       ]
      }
     ],
     "prompt_number": 62
    },
    {
     "cell_type": "markdown",
     "metadata": {},
     "source": [
      "\n",
      "# Next Notebook session"
     ]
    },
    {
     "cell_type": "code",
     "collapsed": false,
     "input": [
      "from IPython.display import FileLink, FileLinks\n",
      "FileLink('DataScience-Pandas.ipynb')"
     ],
     "language": "python",
     "metadata": {},
     "outputs": [
      {
       "html": [
        "Path (<tt>DataScience-Pandas.ipynb</tt>) doesn't exist. It may still be in the process of being generated, or you may have the incorrect path."
       ],
       "metadata": {},
       "output_type": "pyout",
       "prompt_number": 153,
       "text": [
        "C:\\Users\\nanguiano\\Documents\\data_science\\UB\\data_files\\DataScience-Pandas.ipynb"
       ]
      }
     ],
     "prompt_number": 153
    }
   ],
   "metadata": {}
  }
 ]
}