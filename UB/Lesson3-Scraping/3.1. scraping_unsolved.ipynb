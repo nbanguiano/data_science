{
 "metadata": {
  "name": "",
  "signature": "sha256:0fb503e015a6ef5c042c41c139df3273ed13bc59bfcdac17604b0df07a508773"
 },
 "nbformat": 3,
 "nbformat_minor": 0,
 "worksheets": [
  {
   "cells": [
    {
     "cell_type": "markdown",
     "metadata": {},
     "source": [
      "<small><i>August 2014 - This notebook was created by [Oriol Pujol Vila](http://www.maia.ub.es/~oriol). Source and license info are in the folder.</i></small>"
     ]
    },
    {
     "cell_type": "code",
     "collapsed": true,
     "input": [
      "from IPython.core.display import HTML\n",
      "def css_styling():\n",
      "    styles = open(\"styles/custom.css\", \"r\").read()\n",
      "    return HTML(styles)\n",
      "css_styling()"
     ],
     "language": "python",
     "metadata": {},
     "outputs": [
      {
       "html": [
        "<style>\n",
        "    @font-face {\n",
        "        font-family: \"Computer Modern\";\n",
        "        src: url('http://9dbb143991406a7c655e-aa5fcb0a5a4ec34cff238a2d56ca4144.r56.cf5.rackcdn.com/cmunss.otf');\n",
        "    }\n",
        "    @font-face {\n",
        "        font-family: \"Computer Modern\";\n",
        "        font-weight: bold;\n",
        "        src: url('http://9dbb143991406a7c655e-aa5fcb0a5a4ec34cff238a2d56ca4144.r56.cf5.rackcdn.com/cmunsx.otf');\n",
        "    }\n",
        "    @font-face {\n",
        "        font-family: \"Computer Modern\";\n",
        "        font-style: oblique;\n",
        "        src: url('http://9dbb143991406a7c655e-aa5fcb0a5a4ec34cff238a2d56ca4144.r56.cf5.rackcdn.com/cmunsi.otf');\n",
        "    }\n",
        "    @font-face {\n",
        "        font-family: \"Computer Modern\";\n",
        "        font-weight: bold;\n",
        "        font-style: oblique;\n",
        "        src: url('http://9dbb143991406a7c655e-aa5fcb0a5a4ec34cff238a2d56ca4144.r56.cf5.rackcdn.com/cmunso.otf');\n",
        "    }\n",
        "    div.cell{\n",
        "        width:800px;\n",
        "        margin-left:16% !important;\n",
        "        margin-right:auto;\n",
        "    }\n",
        "    h1 {\n",
        "        font-family: Helvetica, serif;\n",
        "    }\n",
        "    h4{\n",
        "        margin-top:12px;\n",
        "        margin-bottom: 3px;\n",
        "       }\n",
        "    div.text_cell_render{\n",
        "        font-family: Computer Modern, \"Helvetica Neue\", Arial, Helvetica, Geneva, sans-serif;\n",
        "        line-height: 145%;\n",
        "        font-size: 130%;\n",
        "        width:800px;\n",
        "        margin-left:auto;\n",
        "        margin-right:auto;\n",
        "    }\n",
        "    .CodeMirror{\n",
        "            font-family: \"Source Code Pro\", source-code-pro,Consolas, monospace;\n",
        "    }\n",
        "    .prompt{\n",
        "        display: None;\n",
        "    }\n",
        "    .text_cell_render h5 {\n",
        "        font-weight: 300;\n",
        "        font-size: 22pt;\n",
        "        color: #4057A1;\n",
        "        font-style: italic;\n",
        "        margin-bottom: .5em;\n",
        "        margin-top: 0.5em;\n",
        "        display: block;\n",
        "    }\n",
        "    \n",
        "    .warning{\n",
        "        color: rgb( 240, 20, 20 )\n",
        "        }  \n",
        "</style>\n",
        "<script>\n",
        "    MathJax.Hub.Config({\n",
        "                        TeX: {\n",
        "                           extensions: [\"AMSmath.js\"]\n",
        "                           },\n",
        "                tex2jax: {\n",
        "                    inlineMath: [ ['$','$'], [\"\\\\(\",\"\\\\)\"] ],\n",
        "                    displayMath: [ ['$$','$$'], [\"\\\\[\",\"\\\\]\"] ]\n",
        "                },\n",
        "                displayAlign: 'center', // Change this to 'center' to center equations.\n",
        "                \"HTML-CSS\": {\n",
        "                    styles: {'.MathJax_Display': {\"margin\": 4}}\n",
        "                }\n",
        "        });\n",
        "</script>\n"
       ],
       "metadata": {},
       "output_type": "pyout",
       "prompt_number": 1,
       "text": [
        "<IPython.core.display.HTML at 0x36532e8>"
       ]
      }
     ],
     "prompt_number": 1
    },
    {
     "cell_type": "markdown",
     "metadata": {},
     "source": [
      "#Data hunting and gathering\n",
      "\n",
      "<img style = \"border-radius:20px;\" src = \"http://unadocenade.com/wp-content/uploads/2012/09/cavalls-de-valltorta.jpg\">\n",
      "\n",
      "SOFTWARE REQUIREMENTS\n",
      "    \n",
      "    + mongoDB #download mongoDB (http://www.mongodb.org)\n",
      "    + selenium #pip install selenium\n",
      "    + pymongo #pip install pymongo\n",
      "    + lxml #pip install  lxml\n",
      "    + tweepy #pip install tweepy\n",
      "    \n",
      "NOT REQUIRED BUT USED IN ONE EXAMPLE: \n",
      "\n",
      "    + MPV via Homebrew (OSX) or mplayer in Linux.\n",
      "    \n",
      "OTHER UTILITIES\n",
      "\n",
      "    + If you are using Firefox browser you may need Firebug.\n",
      "\n",
      "CONTENTS\n",
      "\n",
      "+ Introduction and warm-up project: A web crawler\n",
      " \n",
      "     + Introduction to MongoDB and PyMongo\n",
      "     + A whirlwind tour into regular expressions\n",
      "    \n",
      "+ Using the API\n",
      "\n",
      "    + Retrieving Twitter data\n",
      "\n",
      "+ Creating our own web API: Scraping\n",
      "\n",
      "    + Understanding HTML and CSS\n",
      "    + CSS selectors\n",
      "    + XPath selectors\n",
      "    + Scraping dynamic content with Selenium    \n",
      "   "
     ]
    },
    {
     "cell_type": "markdown",
     "metadata": {},
     "source": [
      "#1. Introduction"
     ]
    },
    {
     "cell_type": "markdown",
     "metadata": {},
     "source": [
      "Data is the basis of this course. Although we usually find it in well structured formats such as a spreadsheet resulting from our last experiment, or the collection of company records in a classical relational database, with the advent of internet new information sources have to be taken into account. However, these new sources are home of unstructured data. In this lecture several methods for retrieving data and storing it are presented."
     ]
    },
    {
     "cell_type": "markdown",
     "metadata": {},
     "source": [
      "Let us first introduce the big picture guiding this lecture. Whenever we want to retrieve data from a web site we should ask first if the web site is providing a simple way for that purpose. Many large sites such as google, facebook, twitter, etc, provide a **Application Programming Interface (API)** that can make data hunting easier. However, most of web sites do not have this interface. Even more, an API may not provide the desired information. In those cases we have to use **scraping** techniques. This means dealing with the raw information as it is provided to the web browser and code our data finding methods.  "
     ]
    },
    {
     "cell_type": "markdown",
     "metadata": {},
     "source": [
      "<img style=\"border-radius:20px;\" src=\"./files/big_picture.jpg\">"
     ]
    },
    {
     "cell_type": "markdown",
     "metadata": {},
     "source": [
      "Let us start connecting to the net and checking out how to retrieve a basic page. We will start using `urllib2` module."
     ]
    },
    {
     "cell_type": "code",
     "collapsed": true,
     "input": [
      "import urllib2\n",
      "source = urllib2.urlopen('http://google.com')"
     ],
     "language": "python",
     "metadata": {},
     "outputs": [],
     "prompt_number": 2
    },
    {
     "cell_type": "code",
     "collapsed": true,
     "input": [
      "#Let us check what is in\n",
      "source"
     ],
     "language": "python",
     "metadata": {},
     "outputs": [
      {
       "metadata": {},
       "output_type": "pyout",
       "prompt_number": 3,
       "text": [
        "<addinfourl at 57330248L whose fp = <socket._fileobject object at 0x00000000036956D8>>"
       ]
      }
     ],
     "prompt_number": 3
    },
    {
     "cell_type": "code",
     "collapsed": true,
     "input": [
      "#Hurray we got a socket. An all sockets behave like files, so let us go read() the \"file\"\n",
      "something = source.read()[0:100]"
     ],
     "language": "python",
     "metadata": {},
     "outputs": [],
     "prompt_number": 4
    },
    {
     "cell_type": "code",
     "collapsed": true,
     "input": [
      "#Check on something\n",
      "print something"
     ],
     "language": "python",
     "metadata": {},
     "outputs": [
      {
       "output_type": "stream",
       "stream": "stdout",
       "text": [
        "<!doctype html><html itemscope=\"\" itemtype=\"http://schema.org/WebPage\" lang=\"es\"><head><meta content\n"
       ]
      }
     ],
     "prompt_number": 5
    },
    {
     "cell_type": "code",
     "collapsed": true,
     "input": [
      "#What!!!!\n",
      "#Let us read more\n",
      "print source.read()"
     ],
     "language": "python",
     "metadata": {},
     "outputs": [
      {
       "output_type": "stream",
       "stream": "stdout",
       "text": [
        "\n"
       ]
      }
     ],
     "prompt_number": 6
    },
    {
     "cell_type": "code",
     "collapsed": true,
     "input": [
      "#Ooooppss nothing else."
     ],
     "language": "python",
     "metadata": {},
     "outputs": [],
     "prompt_number": 7
    },
    {
     "cell_type": "markdown",
     "metadata": {},
     "source": [
      "Ok, hands on!!! Some first warm up exercises:\n",
      "\n",
      "<div class = \"alert alert-success\" style = \"border-radius:10px;border-width:3px;border-color:darkgreen;font-family:Verdana,sans-serif;font-size:16px;\">**WARM UP EXERCISES**\n",
      "<ol>\n",
      "<li>Is there the word python in pyladies.org?</li>\n",
      "<li>Does http://google.com contain an image? (hint: < img > TAG )</li>\n",
      "<li>What are the first ten characters of python.org?</li>\n",
      "</ol>\n",
      "</div>"
     ]
    },
    {
     "cell_type": "code",
     "collapsed": true,
     "input": [
      "#Write your code here\n",
      "pyladies = urllib2.urlopen('http://pyladies.org')\n",
      "pyladiesSource = pyladies.read()\n",
      "#print 'python' in pyladiesSource\n",
      "\n",
      "googleSource = urllib2.urlopen('http://pyladies.org').read()\n",
      "#print '<img' in googleSource\n",
      "\n",
      "pythonOrgSourc = urllib2.urlopen('http://pyladies.org').read()\n",
      "print pythonOrgSourc[0:30].strip('<')"
     ],
     "language": "python",
     "metadata": {},
     "outputs": [
      {
       "output_type": "stream",
       "stream": "stdout",
       "text": [
        "!DOCTYPE html>\n",
        "\n",
        "<html>\n",
        "<head>\n"
       ]
      }
     ],
     "prompt_number": 8
    },
    {
     "cell_type": "markdown",
     "metadata": {},
     "source": [
      "We are retrieving data from an URL! So we are done! "
     ]
    },
    {
     "cell_type": "markdown",
     "metadata": {},
     "source": [
      "#Crawling and Scraping\n",
      "\n",
      "Scraping and **crawling** are two very related techniques. While scraping is used for retrieving data from a web page, crawling is used to retrieve the web pages. Scraping and crawling are found at the core of search engines. Scraping is used to get keywords, analyze, and extract useful information from the web pages so that given a user query it may return related results. On the other hand, crawling allows to retrieve the actual pages and uses scraping to get the links in each web site. This allows to create a graph of the connection among web sites and this information can be used to order the results of a query."
     ]
    },
    {
     "cell_type": "markdown",
     "metadata": {},
     "source": [
      "In general, we might want not only to get data from a single page but probably retrieve from several related pages. In those cases crawling is the way to go. "
     ]
    },
    {
     "cell_type": "markdown",
     "metadata": {},
     "source": [
      "<div class = \"alert alert-success\" style = \"border-radius:10px;border-width:3px;border-color:darkgreen;font-family:Verdana,sans-serif;font-size:16px;\">**WARM-UP PROJECT:** Let us build a very simple spider. The basic functionality of an spider is to crawl and store all the data in web pages. In this simple project we will take care of single site. \n",
      "\n",
      "<ol>\n",
      "<li>A crawler must recognize the links to crawl. Take a minute and think how to retrieve the links of a web site.</li>\n",
      "<li>Let us start the project by creating a Spider class. The constructor will have the following parameters: starting_url, crawl_domain, and max_iter. crawl_domain will be the domain that validates if an absolute link will be considered or not. max_iter is the maximum amount of web items to crawl.</li>\n",
      "<li>The main method can be Spider.run(). Enumerate the big functionalities/building blocks of the crawler.</li>\n",
      "</ol>\n",
      "</div>\n",
      "    \n",
      "    "
     ]
    },
    {
     "cell_type": "code",
     "collapsed": true,
     "input": [
      "import urllib2\n",
      "import time\n",
      "\n",
      "def getLinks(html, max_links=10):\n",
      "    url = []\n",
      "    cursor = 0\n",
      "    nlinks=0\n",
      "    while (cursor>=0 and nlinks<max_links):\n",
      "        start_link = html.find(\"a href\",cursor)\n",
      "        if start_link==-1:\n",
      "            return url\n",
      "        start_quote = html.find('\"', start_link)\n",
      "        end_quote = html.find('\"', start_quote + 1)\n",
      "        url.append(html[start_quote + 1: end_quote])\n",
      "        cursor = end_quote+1\n",
      "        nlinks = nlinks +1\n",
      "    return url\n",
      "\n",
      "class Spider:\n",
      "    def __init__(self,starting_url,crawl_domain,max_iter):\n",
      "        self.crawl_domain = crawl_domain\n",
      "        self.max_iter = max_iter\n",
      "        self.links_to_crawl=[]\n",
      "        self.links_to_crawl.append(starting_url)\n",
      "        self.links_visited=[]\n",
      "        self.collection=[]\n",
      "        \n",
      "    def retrieveHtml(self):\n",
      "        try:\n",
      "            socket = urllib2.urlopen(self.url);\n",
      "            self.html = socket.read()\n",
      "            return 0\n",
      "        except urllib2.HTTPError:\n",
      "            # Most probably an url not found 404, possibly due to malformating of the links in retrieveAndValidateLinks\n",
      "            return -1\n",
      "             \n",
      "    def run(self):\n",
      "        while (len(self.links_to_crawl)>0 and len(self.collection)<self.max_iter):\n",
      "            self.url = self.links_to_crawl.pop(0)\n",
      "            print self.links_to_crawl\n",
      "            self.links_visited.append(self.url)\n",
      "            if self.retrieveHtml()>=0:\n",
      "                self.storeHtml()\n",
      "                self.retrieveAndValidateLinks()\n",
      "    \n",
      "    def retrieveAndValidateLinks(self):\n",
      "        tmpList=[]\n",
      "        items = getLinks(self.html)\n",
      "        # Check the validity of a link\n",
      "        for item in items:\n",
      "            item = item.strip('\"')\n",
      "            if self.crawl_domain in item:\n",
      "                tmpList.append(item)\n",
      "            if not(\":\") in item: #Take care of http:// https:// and mailto:\n",
      "                tmpList.append(self.crawl_domain+item)\n",
      "        # Check that the link has not been previously retrieved or is currently on the links_to_crawl list\n",
      "        for item in tmpList:\n",
      "            if item not in self.links_visited:\n",
      "                if item not in self.links_to_crawl:\n",
      "                    self.links_to_crawl.append(item)\n",
      "                    print 'Adding: '+item\n",
      "                \n",
      "    def storeHtml(self):\n",
      "        doc = {}\n",
      "        doc['url'] = self.url\n",
      "        doc['date'] = time.strftime(\"%d/%m/%Y\")\n",
      "        doc['html'] = self.html\n",
      "        self.collection.append(doc)"
     ],
     "language": "python",
     "metadata": {},
     "outputs": [],
     "prompt_number": 9
    },
    {
     "cell_type": "markdown",
     "metadata": {},
     "source": [
      "Let us validate the crawler with the following code: "
     ]
    },
    {
     "cell_type": "code",
     "collapsed": true,
     "input": [
      "spider = Spider('http://www.ub.edu/datascience','http://www.ub.edu/datascience/',20)\n",
      "spider.run()"
     ],
     "language": "python",
     "metadata": {},
     "outputs": [
      {
       "output_type": "stream",
       "stream": "stdout",
       "text": [
        "[]\n",
        "Adding: http://www.ub.edu/datascience/index.html"
       ]
      },
      {
       "output_type": "stream",
       "stream": "stdout",
       "text": [
        "\n",
        "Adding: http://www.ub.edu/datascience/#\n",
        "Adding: http://www.ub.edu/datascience/dscience.html\n",
        "Adding: http://www.ub.edu/datascience/content.html\n",
        "Adding: http://www.ub.edu/datascience/academics.html\n",
        "Adding: http://www.ub.edu/datascience/apply.html\n",
        "Adding: http://www.ub.edu/datascience/about.html\n",
        "['http://www.ub.edu/datascience/#', 'http://www.ub.edu/datascience/dscience.html', 'http://www.ub.edu/datascience/content.html', 'http://www.ub.edu/datascience/academics.html', 'http://www.ub.edu/datascience/apply.html', 'http://www.ub.edu/datascience/about.html']\n",
        "['http://www.ub.edu/datascience/dscience.html', 'http://www.ub.edu/datascience/content.html', 'http://www.ub.edu/datascience/academics.html', 'http://www.ub.edu/datascience/apply.html', 'http://www.ub.edu/datascience/about.html']\n",
        "['http://www.ub.edu/datascience/content.html', 'http://www.ub.edu/datascience/academics.html', 'http://www.ub.edu/datascience/apply.html', 'http://www.ub.edu/datascience/about.html']"
       ]
      },
      {
       "output_type": "stream",
       "stream": "stdout",
       "text": [
        "\n",
        "['http://www.ub.edu/datascience/academics.html', 'http://www.ub.edu/datascience/apply.html', 'http://www.ub.edu/datascience/about.html']\n",
        "['http://www.ub.edu/datascience/apply.html', 'http://www.ub.edu/datascience/about.html']"
       ]
      },
      {
       "output_type": "stream",
       "stream": "stdout",
       "text": [
        "\n",
        "['http://www.ub.edu/datascience/about.html']\n",
        "[]\n"
       ]
      }
     ],
     "prompt_number": 10
    },
    {
     "cell_type": "markdown",
     "metadata": {},
     "source": [
      "Let us go for a more complex web site. Run the code on http://hunch.net (a machine learning blog by John Langford)."
     ]
    },
    {
     "cell_type": "code",
     "collapsed": true,
     "input": [
      "spider = Spider('http://hunch.net','http://hunch.net/',10)\n",
      "hunch_scrapped = spider.run()\n",
      "print hunch_scrapped"
     ],
     "language": "python",
     "metadata": {},
     "outputs": [
      {
       "output_type": "stream",
       "stream": "stdout",
       "text": [
        "[]\n",
        "Adding: http://hunch.net/"
       ]
      },
      {
       "output_type": "stream",
       "stream": "stdout",
       "text": [
        "\n",
        "Adding: http://hunch.net/?p=2818\n",
        "Adding: http://hunch.net/?cat=33\n",
        "Adding: http://hunch.net/?cat=62\n",
        "Adding: http://hunch.net/?cat=65\n",
        "Adding: http://hunch.net/?cat=29\n",
        "Adding: http://hunch.net/~jl\n",
        "['http://hunch.net/?p=2818', 'http://hunch.net/?cat=33', 'http://hunch.net/?cat=62', 'http://hunch.net/?cat=65', 'http://hunch.net/?cat=29', 'http://hunch.net/~jl']\n",
        "['http://hunch.net/?cat=33', 'http://hunch.net/?cat=62', 'http://hunch.net/?cat=65', 'http://hunch.net/?cat=29', 'http://hunch.net/~jl']"
       ]
      },
      {
       "output_type": "stream",
       "stream": "stdout",
       "text": [
        "\n",
        "['http://hunch.net/?cat=62', 'http://hunch.net/?cat=65', 'http://hunch.net/?cat=29', 'http://hunch.net/~jl']"
       ]
      },
      {
       "output_type": "stream",
       "stream": "stdout",
       "text": [
        "\n",
        "['http://hunch.net/?cat=65', 'http://hunch.net/?cat=29', 'http://hunch.net/~jl']"
       ]
      },
      {
       "output_type": "stream",
       "stream": "stdout",
       "text": [
        "\n",
        "['http://hunch.net/?cat=29', 'http://hunch.net/~jl']"
       ]
      },
      {
       "output_type": "stream",
       "stream": "stdout",
       "text": [
        "\n",
        "['http://hunch.net/~jl']"
       ]
      },
      {
       "output_type": "stream",
       "stream": "stdout",
       "text": [
        "\n",
        "[]"
       ]
      },
      {
       "output_type": "stream",
       "stream": "stdout",
       "text": [
        "\n",
        "Adding: http://hunch.net/public_key"
       ]
      },
      {
       "output_type": "stream",
       "stream": "stdout",
       "text": [
        "\n",
        "Adding: http://hunch.net/~jl/interact.pdf\n",
        "Adding: http://hunch.net/projects/projects.html\n",
        "Adding: http://hunch.net/conferences/conferences.html\n",
        "Adding: http://hunch.net/classes/classes.html\n",
        "Adding: http://hunch.net/resume/resume.html\n",
        "Adding: http://hunch.net/start/start.html\n",
        "['http://hunch.net/~jl/interact.pdf', 'http://hunch.net/projects/projects.html', 'http://hunch.net/conferences/conferences.html', 'http://hunch.net/classes/classes.html', 'http://hunch.net/resume/resume.html', 'http://hunch.net/start/start.html']\n",
        "['http://hunch.net/projects/projects.html', 'http://hunch.net/conferences/conferences.html', 'http://hunch.net/classes/classes.html', 'http://hunch.net/resume/resume.html', 'http://hunch.net/start/start.html']"
       ]
      },
      {
       "output_type": "stream",
       "stream": "stdout",
       "text": [
        "\n",
        "['http://hunch.net/conferences/conferences.html', 'http://hunch.net/classes/classes.html', 'http://hunch.net/resume/resume.html', 'http://hunch.net/start/start.html']"
       ]
      },
      {
       "output_type": "stream",
       "stream": "stdout",
       "text": [
        "\n",
        "['http://hunch.net/classes/classes.html', 'http://hunch.net/resume/resume.html', 'http://hunch.net/start/start.html']"
       ]
      },
      {
       "output_type": "stream",
       "stream": "stdout",
       "text": [
        "\n",
        "['http://hunch.net/resume/resume.html', 'http://hunch.net/start/start.html']"
       ]
      },
      {
       "output_type": "stream",
       "stream": "stdout",
       "text": [
        "\n",
        "['http://hunch.net/start/start.html']"
       ]
      },
      {
       "output_type": "stream",
       "stream": "stdout",
       "text": [
        "\n",
        "[]"
       ]
      },
      {
       "output_type": "stream",
       "stream": "stdout",
       "text": [
        "\n",
        "None"
       ]
      },
      {
       "output_type": "stream",
       "stream": "stdout",
       "text": [
        "\n"
       ]
      }
     ],
     "prompt_number": 11
    },
    {
     "cell_type": "code",
     "collapsed": true,
     "input": [
      "# And check the urls retrieved\n",
      "[spider.collection[i]['url'] for i in xrange(len(spider.collection))]"
     ],
     "language": "python",
     "metadata": {},
     "outputs": [
      {
       "metadata": {},
       "output_type": "pyout",
       "prompt_number": 12,
       "text": [
        "['http://hunch.net',\n",
        " 'http://hunch.net/',\n",
        " 'http://hunch.net/?p=2818',\n",
        " 'http://hunch.net/?cat=33',\n",
        " 'http://hunch.net/?cat=62',\n",
        " 'http://hunch.net/?cat=65',\n",
        " 'http://hunch.net/?cat=29',\n",
        " 'http://hunch.net/~jl',\n",
        " 'http://hunch.net/~jl/interact.pdf']"
       ]
      }
     ],
     "prompt_number": 12
    },
    {
     "cell_type": "markdown",
     "metadata": {},
     "source": [
      "It seems that the simple crawler more or less works as expected. There are still many functionalities to work on , such as valid domains, valid urls, etc. One important issue to consider is **persistence**, or how to store the data retrieved for further analysis. In this basic scraping tutorial we us MongoDB as a Non-SQL database for persistence purposes. "
     ]
    },
    {
     "cell_type": "markdown",
     "metadata": {},
     "source": [
      "##1.1 Introduction to MongoDB\n",
      "<small>This introduction is partially inspired on the notes of Alberto Negron's [blog](http://altons.github.io/python/2013/01/21/gentle-introduction-to-mongodb-using-pymongo/)</small>"
     ]
    },
    {
     "cell_type": "markdown",
     "metadata": {},
     "source": [
      "MongoDB is a document-oriented database, part of the NoSQL family of database systems. MongoDB stores structured data as JSON-like structures. From a pythonic point of view it is like storing dictionary data structures. One of its main feature is its schema-less feature, i.e. it supports dynamic schemas. A schema in a relational database informally referst to the structure of the data it stores, i.e. what kind of data, which tables, which relations, etc."
     ]
    },
    {
     "cell_type": "markdown",
     "metadata": {},
     "source": [
      "Let us change the Spider class to support MongoDB persistence."
     ]
    },
    {
     "cell_type": "markdown",
     "metadata": {},
     "source": [
      "First of all let us configure the MongoDB system.\n",
      "\n",
      "+ Download mongoDB.\n",
      "+ Rename the folder to mongodb.\n",
      "+ Add a directory data and log in your working project directory.\n",
      "+ Check that the server works \n",
      "        mongod --dbpath . --nojournal &\n",
      "+ Check the connection to the server: in another terminal write mongo, check that it does not raise any error and exit the console.\n",
      "+ Close the mongo daemon (mongod). You may have to kill mongod with kill -9 and remove the lock on the daemon, mongod.lock.\n",
      "+ Let us configure a little the data base by configuring the path of the data storage and log files. Create a [mongo.conf](./mongodb/data/mongo.conf) file such as the one provided  and start the server using the following command:\n",
      "\n",
      "        mongod --config=./mongodb/data/mongo.conf --nojournal &\n",
      "+ Bonus: we can check the database status using  http://127.0.0.1:28017/"
     ]
    },
    {
     "cell_type": "markdown",
     "metadata": {},
     "source": [
      "### Connect to a MongoDB database"
     ]
    },
    {
     "cell_type": "code",
     "collapsed": true,
     "input": [
      "import pymongo\n",
      "\n",
      "# Connection to Mongo DB\n",
      "try:\n",
      "    conn=pymongo.MongoClient()\n",
      "    print \"Connected successfully!!!\"\n",
      "except pymongo.errors.ConnectionFailure, e:\n",
      "   print \"Could not connect to MongoDB: %s\" % e \n",
      "conn"
     ],
     "language": "python",
     "metadata": {},
     "outputs": [
      {
       "output_type": "stream",
       "stream": "stdout",
       "text": [
        "Could not connect to MongoDB: [Errno 10061] No connection could be made because the target machine actively refused it\n"
       ]
      },
      {
       "ename": "NameError",
       "evalue": "name 'conn' is not defined",
       "output_type": "pyerr",
       "traceback": [
        "\u001b[1;31m---------------------------------------------------------------------------\u001b[0m\n\u001b[1;31mNameError\u001b[0m                                 Traceback (most recent call last)",
        "\u001b[1;32m<ipython-input-13-4d0423095746>\u001b[0m in \u001b[0;36m<module>\u001b[1;34m()\u001b[0m\n\u001b[0;32m      7\u001b[0m \u001b[1;32mexcept\u001b[0m \u001b[0mpymongo\u001b[0m\u001b[1;33m.\u001b[0m\u001b[0merrors\u001b[0m\u001b[1;33m.\u001b[0m\u001b[0mConnectionFailure\u001b[0m\u001b[1;33m,\u001b[0m \u001b[0me\u001b[0m\u001b[1;33m:\u001b[0m\u001b[1;33m\u001b[0m\u001b[0m\n\u001b[0;32m      8\u001b[0m    \u001b[1;32mprint\u001b[0m \u001b[1;34m\"Could not connect to MongoDB: %s\"\u001b[0m \u001b[1;33m%\u001b[0m \u001b[0me\u001b[0m\u001b[1;33m\u001b[0m\u001b[0m\n\u001b[1;32m----> 9\u001b[1;33m \u001b[0mconn\u001b[0m\u001b[1;33m\u001b[0m\u001b[0m\n\u001b[0m",
        "\u001b[1;31mNameError\u001b[0m: name 'conn' is not defined"
       ]
      }
     ],
     "prompt_number": 13
    },
    {
     "cell_type": "markdown",
     "metadata": {},
     "source": [
      "We can **create** a database using attribute access <span style = \"font-family:Courier;\"> db = conn.name_db</span> or dictionary acces <span style = \"font-family:Courier;\"> db = conn[name_db]</span>."
     ]
    },
    {
     "cell_type": "code",
     "collapsed": true,
     "input": [
      "#Create a database using db = conn.name_db or dictionary access db = conn['name_db']\n",
      "db = conn.ds_scraping_lesson\n",
      "print db\n",
      "conn.database_names()\n",
      "#Empty databases do not show"
     ],
     "language": "python",
     "metadata": {},
     "outputs": []
    },
    {
     "cell_type": "markdown",
     "metadata": {},
     "source": [
      "A database stores a **collection**. A collection is a group of documents stored in MongoDB, and can be thought of as the equivalent of a table in a relational database. Getting a collection in PyMongo works the same as getting a database:"
     ]
    },
    {
     "cell_type": "code",
     "collapsed": true,
     "input": [
      "hola = db.hola\n",
      "db.collection_names()\n",
      "#Empty collections do not show"
     ],
     "language": "python",
     "metadata": {},
     "outputs": []
    },
    {
     "cell_type": "code",
     "collapsed": true,
     "input": [
      "#The database has a collection, thus ...\n",
      "conn.database_names()"
     ],
     "language": "python",
     "metadata": {},
     "outputs": []
    },
    {
     "cell_type": "markdown",
     "metadata": {},
     "source": [
      "MongoDB stores structured data as JSON-like documents, using dynamic schemas (called BSON), rather than predefined schemas. An element of data is called a document, and documents are stored in collections. One collection may have any number of documents.\n",
      "\n",
      "Compared to relational databases, we could say collections are like tables, and documents are like records. But there is one big difference: every record in a table has the same fields (with, usually, differing values) in the same order, while each document in a collection can have completely different fields from the other documents.\n",
      "\n",
      "All you really need to know when you're using Python, however, is that documents are Python dictionaries that can have strings as keys and can contain various primitive types (int, float,unicode, datetime) as well as other documents (Python dicts) and arrays (Python lists).\n",
      "\n",
      "To insert some data into MongoDB, all we need to do is create a dict and call .insert() on the collection object. Let us exemplify this process by downloading an url and storing it in the collection."
     ]
    },
    {
     "cell_type": "code",
     "collapsed": true,
     "input": [
      "import urllib2\n",
      "import time\n",
      "# dd/mm/yyyy format\n",
      "print (time.strftime(\"%d/%m/%Y\"))\n",
      "url = 'http://www.ub.edu/datascience'\n",
      "html = urllib2.urlopen(url).read()\n",
      "\n",
      "#Create a dictionary/document to store\n",
      "doc = {}\n",
      "doc['url'] = url\n",
      "doc['date'] = time.strftime(\"%d/%m/%Y\")\n",
      "doc['html'] = html"
     ],
     "language": "python",
     "metadata": {},
     "outputs": []
    },
    {
     "cell_type": "code",
     "collapsed": true,
     "input": [
      "doc['date']"
     ],
     "language": "python",
     "metadata": {},
     "outputs": []
    },
    {
     "cell_type": "code",
     "collapsed": true,
     "input": [
      "#insert the document in the collection\n",
      "hola.insert(doc)"
     ],
     "language": "python",
     "metadata": {},
     "outputs": []
    },
    {
     "cell_type": "code",
     "collapsed": true,
     "input": [
      "#Check that we have a non empty collection.\n",
      "db.collection_names()"
     ],
     "language": "python",
     "metadata": {},
     "outputs": []
    },
    {
     "cell_type": "markdown",
     "metadata": {},
     "source": [
      "To recap, we have databases containing collections. A collection is made up of documents. Each document is made up of fields."
     ]
    },
    {
     "cell_type": "markdown",
     "metadata": {},
     "source": [
      "###Retrieving data"
     ]
    },
    {
     "cell_type": "code",
     "collapsed": true,
     "input": [
      "hola.find_one() #Returns one random document in the collection\n",
      "hola.find_one()['url']"
     ],
     "language": "python",
     "metadata": {},
     "outputs": []
    },
    {
     "cell_type": "markdown",
     "metadata": {},
     "source": [
      "To get more than a single document as the result of a query we use the find() method. find() returns a Cursor instance, which allows us to iterate over all matching documents.\n"
     ]
    },
    {
     "cell_type": "code",
     "collapsed": true,
     "input": [
      "hola.find()"
     ],
     "language": "python",
     "metadata": {},
     "outputs": []
    },
    {
     "cell_type": "code",
     "collapsed": true,
     "input": [
      "for d in hola.find():\n",
      "    print d"
     ],
     "language": "python",
     "metadata": {},
     "outputs": []
    },
    {
     "cell_type": "markdown",
     "metadata": {},
     "source": [
      "If we just want to know how many documents match a query we can perform a count() operation instead of a full query. We can get a count of all of the documents in a collection:"
     ]
    },
    {
     "cell_type": "code",
     "collapsed": true,
     "input": [
      "hola.count()"
     ],
     "language": "python",
     "metadata": {},
     "outputs": []
    },
    {
     "cell_type": "markdown",
     "metadata": {},
     "source": [
      "### Basic queries"
     ]
    },
    {
     "cell_type": "markdown",
     "metadata": {},
     "source": [
      "Querying in pymongo uses .find() "
     ]
    },
    {
     "cell_type": "code",
     "collapsed": true,
     "input": [
      "hola.find({\"date\":\"16/10/2014\"}).count()"
     ],
     "language": "python",
     "metadata": {},
     "outputs": []
    },
    {
     "cell_type": "markdown",
     "metadata": {},
     "source": [
      "Observe that it finds exact matches. Operations include *gt* (greater than), *gte* (greater than equal), *lt* (lesser than), *lte* (lesser than equal), *ne* (not equal), *nin* (not in a list), *regex* (regular expression), *exists*, *not*, *or*, *and*, etc. Let us see some examples:"
     ]
    },
    {
     "cell_type": "code",
     "collapsed": true,
     "input": [
      "hola.find({\"date\":{\"$gte\":\"01/01/2014\"}}).count()"
     ],
     "language": "python",
     "metadata": {},
     "outputs": []
    },
    {
     "cell_type": "code",
     "collapsed": true,
     "input": [
      "substring = \"Big Data\"\n",
      "reg = \"\\b\"+substring+\"\\b\"\n",
      "hola.find({\"html\":\"Big Data\"}).count()"
     ],
     "language": "python",
     "metadata": {},
     "outputs": []
    },
    {
     "cell_type": "code",
     "collapsed": true,
     "input": [
      "for item in hola.find():\n",
      "    print item['html']"
     ],
     "language": "python",
     "metadata": {},
     "outputs": []
    },
    {
     "cell_type": "markdown",
     "metadata": {},
     "source": [
      "###A short practical introduction to RegEx"
     ]
    },
    {
     "cell_type": "markdown",
     "metadata": {},
     "source": [
      "We have come across RegEx a couple of times now. So we better give a short pragmatical introduction to it."
     ]
    },
    {
     "cell_type": "markdown",
     "metadata": {},
     "source": [
      "<div class = \"alert alert-info\" style = \"border-radius:10px;border-width:3px;border-color:darkblue;font-family:Verdana,sans-serif;font-size:16px;\">\n",
      "<ul>\n",
      "    <li> Regular expressions are pattern matching rules. In essence everything is a character and the regular expression are a set of rules of the character patterns to seek.</li>\n",
      "    <li> If we provide a raw set of characters it will look for exact matches, e.g. 'aBc1' </li>\n",
      "    <li> There are wildcards: . (matches any character), *\\d* (matches any digit), *\\w* (matches any alphanumeric character), *\\s* (any whitespace such as space, new line, carrier return, tab, etc.)</li>\n",
      "    <li>An interesting metacharacter is *\\b* that stands for boundary and matches the boundary between a word character and a non-word character.</li>\n",
      "</ul>\n",
      "</div>"
     ]
    },
    {
     "cell_type": "code",
     "collapsed": true,
     "input": [
      "import re\n",
      "#Match the three strings\n",
      "ex1 = 'abc abcde abcdefg'\n",
      "\n",
      "pattern = re.compile('abc')\n",
      "print re.findall(pattern,ex1)\n",
      "\n",
      "ex2 = 'abc123xyz define123 var g = 123'\n",
      "pattern = re.compile('123')\n",
      "for m in re.finditer(pattern, ex2):\n",
      "    print '%02d-%02d: %s' % (m.start(), m.end(), m.group(0))\n",
      "    \n"
     ],
     "language": "python",
     "metadata": {},
     "outputs": []
    },
    {
     "cell_type": "markdown",
     "metadata": {},
     "source": [
      "<div class = \"alert alert-info\" style = \"border-radius:10px;border-width:3px;border-color:darkblue;font-family:Verdana,sans-serif;font-size:16px;\">\n",
      "<ul>\n",
      "    <li> Capital letters denote the negation of the concept, i.e. *\\D* is everything except digits, *\\W* everything expect alphanumeric chars (e.g. puntuation marks, etc), *\\S* any non-spacing character.</li>\n",
      "    <li>Repetitions of a character can be handled explicitly using curly brackets, e.g. *a{3}* means three repetitions of character \"a\"</li>\n",
      "    <li>Undefinite number of values are given by star and plus signs (\\* and +). Star will match 0 to infty number of times and Plus will do it one or more times, e.g. .* will stand for any amount of any character</li>\n",
      "</ul>\n",
      "</div>"
     ]
    },
    {
     "cell_type": "code",
     "collapsed": true,
     "input": [
      "#Find all adverbs (words ended by ly)\n",
      "import re\n",
      "text = \"He was carefully disguised but captured quickly by police.\"\n",
      "for m in re.finditer(r\"\\w+ly\", text):\n",
      "    print '%02d-%02d: %s' % (m.start(), m.end(), m.group(0))"
     ],
     "language": "python",
     "metadata": {},
     "outputs": []
    },
    {
     "cell_type": "markdown",
     "metadata": {},
     "source": [
      "<div class = \"alert alert-info\" style = \"border-radius:10px;border-width:3px;border-color:darkblue;font-family:Verdana,sans-serif;font-size:16px;\">\n",
      "<ul>\n",
      "     <li>Optional values can be given by the question mark sign. The preceding character will be optional, e.g. cats? stands for cat and cats.</li>\n",
      "     <li>Another way of checking for specific options is to use square brackets. For example *[abc]* will match only a, b, or c.</li>\n",
      "     <li>We can negate a set in square brackets *[^abc]*</li>\n",
      "     <li>We can select ranges, such as *[a-z]*, *[A-Z]* or *[0-9]*</li>\n",
      "</ul>\n",
      "</div>"
     ]
    },
    {
     "cell_type": "code",
     "collapsed": true,
     "input": [
      "#Find the names of the first two items without extension\n",
      "#All of them start with file, thus it is a boundary and \"file pattern\", then any amount of arbirtary characters wil do and finally it will end with .pdf\n",
      "import re\n",
      "text = 'file_a_record_file.pdf file_yesterday.pdf testfile_fake.pdf.tmp' \n",
      "for m in re.finditer(r\"\\bfile\\w*\\.pdf\", text):\n",
      "    print '%02d-%02d: %s' % (m.start(), m.end(), m.group(0))"
     ],
     "language": "python",
     "metadata": {},
     "outputs": []
    },
    {
     "cell_type": "code",
     "collapsed": true,
     "input": [
      "#Trim starting and ending spaces\n",
      "\n",
      "text = \"               Masters of Ba Gua Zhang    \"\n",
      "\n",
      "for m in re.finditer(r\"\\s*(.+)\\s*$\", text):\n",
      "    print '%02d-%02d: %s' % (m.start(1), m.end(1), m.group(1)) #Note that we use group(1), group(0) is the complete match without capture"
     ],
     "language": "python",
     "metadata": {},
     "outputs": []
    },
    {
     "cell_type": "markdown",
     "metadata": {},
     "source": [
      "<div class = \"alert alert-info\" style = \"border-radius:10px;border-width:3px;border-color:darkblue;font-family:Verdana,sans-serif;font-size:16px;\">\n",
      "<ul>\n",
      "     <li>Another interesting feature is capturing. In parenthesis we can define the group or set of data we want to return. In python we can access these data by indexing the match. At the first position we will get the first capture, in the second position the nested capture or group, etc.</li>\n",
      "</ul>\n",
      "</div>"
     ]
    },
    {
     "cell_type": "markdown",
     "metadata": {},
     "source": [
      "Check what happens if we change index 1 for index 0 in the former example."
     ]
    },
    {
     "cell_type": "code",
     "collapsed": true,
     "input": [
      "#Match the numbers and skip the last item\n",
      "text = '3.1452 -255.34 128 1.9e10 123,34.00 720p'\n",
      "\n",
      "for m in re.finditer(r\"-?\\d+[\\.,]?\\d*[\\.e]?\\d*\\b\", text):\n",
      "    print '%02d-%02d: %s' % (m.start(), m.end(), m.group(0))"
     ],
     "language": "python",
     "metadata": {},
     "outputs": []
    },
    {
     "cell_type": "code",
     "collapsed": true,
     "input": [
      "#Find the links in a html page\n",
      "for m in re.finditer(r\"href=\\\"(\\S+)\\\"\", html):\n",
      "    print '%02d-%02d: %s' % (m.start(1), m.end(1), m.group(1))"
     ],
     "language": "python",
     "metadata": {},
     "outputs": []
    },
    {
     "cell_type": "markdown",
     "metadata": {},
     "source": [
      "Regular expressions are usually not the answer due to the fragility of html pages on the internet today -- common mistakes like missing end tags, mismatched tags, forgetting to close an attribute quote, would all derail a perfectly good regular expression."
     ]
    },
    {
     "cell_type": "markdown",
     "metadata": {},
     "source": [
      "###Update"
     ]
    },
    {
     "cell_type": "markdown",
     "metadata": {},
     "source": [
      "In this section, several methods for updating and deleting documents are reveiwed:\n",
      "\n",
      "+ Update. This method finds the documents defined by query and **replaces** it by the new document. "
     ]
    },
    {
     "cell_type": "code",
     "collapsed": true,
     "input": [
      "import urllib2\n",
      "import time\n",
      "# dd/mm/yyyy format\n",
      "print (time.strftime(\"%d/%m/%Y\"))\n",
      "url = 'http://www.ub.edu/datascience'\n",
      "html = urllib2.urlopen(url).read()\n",
      "\n",
      "#Create a dictionary/document to store\n",
      "doc = {}\n",
      "doc['url'] = url\n",
      "doc['date'] = time.strftime(\"%d/%m/%Y\")\n",
      "doc['html'] = html\n",
      "doc['foo'] = 'foo'\n",
      "\n",
      "import pymongo\n",
      "conn = pymongo.MongoClient()\n",
      "conn.database_names()\n"
     ],
     "language": "python",
     "metadata": {},
     "outputs": []
    },
    {
     "cell_type": "code",
     "collapsed": true,
     "input": [
      "db = conn.test\n",
      "collection = db.coltest\n",
      "db.collection_names()"
     ],
     "language": "python",
     "metadata": {},
     "outputs": []
    },
    {
     "cell_type": "code",
     "collapsed": true,
     "input": [
      "collection.insert(doc)"
     ],
     "language": "python",
     "metadata": {},
     "outputs": []
    },
    {
     "cell_type": "code",
     "collapsed": true,
     "input": [
      "collection.update({'url':{'$regex':'datascience'}},{'html':'mola'})\n",
      "\n",
      "for doc in collection.find():\n",
      "    print doc"
     ],
     "language": "python",
     "metadata": {},
     "outputs": []
    },
    {
     "cell_type": "markdown",
     "metadata": {},
     "source": [
      "We lost all the document and replaced it by the new instance that only has the 'html' key."
     ]
    },
    {
     "cell_type": "markdown",
     "metadata": {},
     "source": [
      "We can modify the behavior of the update command by adding a sub-command. Let us check some of them:\n",
      "\n",
      "+ Sub-command **Set**:\n",
      "\n",
      "This statement updates in the document in collection where field matches value1 by replacing the value of the field field1 with value2. This operator will add the specified field or fields if they do not exist in this document or replace the existing value of the specified field(s) if they already exist.\n",
      "\n",
      "An upsert eliminates the need to perform a separate database call to check for the existence of a record before performing either an update or an insert operation. Typically update operations update existing documents, but in MongoDB, the update() operation can accept an upsert option as an argument. Upserts are a hybrid operation that use the query argument to determine the write operation:\n",
      "\n",
      "If the query matches an existing document(s), the upsert performs an update.\n",
      "If the query matches no document in the collection, the upsert inserts a single document."
     ]
    },
    {
     "cell_type": "code",
     "collapsed": true,
     "input": [
      "collection.update({\"html\":\"mola\"},{\"$set\":{\"html\":\"new data\"}})"
     ],
     "language": "python",
     "metadata": {},
     "outputs": []
    },
    {
     "cell_type": "code",
     "collapsed": true,
     "input": [
      "for doc in collection.find():\n",
      "    print doc"
     ],
     "language": "python",
     "metadata": {},
     "outputs": []
    },
    {
     "cell_type": "code",
     "collapsed": true,
     "input": [
      "collection.update({\"html\":\"new date\"},{\"$set\":{\"html\":\"modify\"}})"
     ],
     "language": "python",
     "metadata": {},
     "outputs": []
    },
    {
     "cell_type": "code",
     "collapsed": true,
     "input": [
      "for doc in collection.find():\n",
      "    print doc"
     ],
     "language": "python",
     "metadata": {},
     "outputs": []
    },
    {
     "cell_type": "markdown",
     "metadata": {},
     "source": [
      "Nothing changes since there is no match for the query. Let us use upsert."
     ]
    },
    {
     "cell_type": "code",
     "collapsed": true,
     "input": [
      "collection.update({\"html\":\"new date\"},{\"$set\":{\"html\":\"modify\"}}, upsert=True)"
     ],
     "language": "python",
     "metadata": {},
     "outputs": []
    },
    {
     "cell_type": "code",
     "collapsed": true,
     "input": [
      "for doc in collection.find():\n",
      "    print doc"
     ],
     "language": "python",
     "metadata": {},
     "outputs": []
    },
    {
     "cell_type": "markdown",
     "metadata": {},
     "source": [
      "+ Sub-commnad **Unset**:\n",
      "\n",
      "The unset operator deletes a particular field. If documents match the initial query but do not have the field specified in the unset operation, there the statement has no effect on the document."
     ]
    },
    {
     "cell_type": "code",
     "collapsed": true,
     "input": [
      "collection.update({\"html\":\"modify\"},{\"$unset\":{\"html\":\"\"}})"
     ],
     "language": "python",
     "metadata": {},
     "outputs": []
    },
    {
     "cell_type": "code",
     "collapsed": true,
     "input": [
      "for doc in collection.find():\n",
      "    print doc"
     ],
     "language": "python",
     "metadata": {},
     "outputs": []
    },
    {
     "cell_type": "markdown",
     "metadata": {},
     "source": [
      "There are several update commands that work with lists allowing to remove the first element (pop), any amount of elements (pull) or insert an element (push).\n",
      "\n",
      "By the way, the dollar character used at the before the command identifies an element in an array field to update without explicitly specifying the position of the element in the array.  "
     ]
    },
    {
     "cell_type": "markdown",
     "metadata": {},
     "source": [
      "###Delete operations"
     ]
    },
    {
     "cell_type": "markdown",
     "metadata": {},
     "source": [
      "We can remove elements by simply:"
     ]
    },
    {
     "cell_type": "code",
     "collapsed": true,
     "input": [
      "collection.remove({\"html\":\"new data\"})"
     ],
     "language": "python",
     "metadata": {},
     "outputs": []
    },
    {
     "cell_type": "code",
     "collapsed": true,
     "input": [
      "for doc in collection.find():\n",
      "    print doc"
     ],
     "language": "python",
     "metadata": {},
     "outputs": []
    },
    {
     "cell_type": "markdown",
     "metadata": {},
     "source": [
      "And remove a collection by:"
     ]
    },
    {
     "cell_type": "code",
     "collapsed": true,
     "input": [
      "db.collection_names()"
     ],
     "language": "python",
     "metadata": {},
     "outputs": []
    },
    {
     "cell_type": "code",
     "collapsed": true,
     "input": [
      "db.drop_collection(\"coltest\")\n",
      "db.collection_names()"
     ],
     "language": "python",
     "metadata": {},
     "outputs": []
    },
    {
     "cell_type": "markdown",
     "metadata": {},
     "source": [
      "And remove a database by:"
     ]
    },
    {
     "cell_type": "code",
     "collapsed": true,
     "input": [
      "conn.database_names()"
     ],
     "language": "python",
     "metadata": {},
     "outputs": []
    },
    {
     "cell_type": "code",
     "collapsed": true,
     "input": [
      "conn.drop_database('test')\n",
      "conn.database_names()"
     ],
     "language": "python",
     "metadata": {},
     "outputs": []
    },
    {
     "cell_type": "markdown",
     "metadata": {},
     "source": [
      "And finally close the connection with the database."
     ]
    },
    {
     "cell_type": "code",
     "collapsed": true,
     "input": [
      "conn.close()"
     ],
     "language": "python",
     "metadata": {},
     "outputs": []
    },
    {
     "cell_type": "markdown",
     "metadata": {},
     "source": [
      "##1.2 Finishing the warm up project with MongoDB storage\n",
      "\n",
      "We just have to change two lines of code ... literally."
     ]
    },
    {
     "cell_type": "code",
     "collapsed": true,
     "input": [
      "import urllib2\n",
      "import time\n",
      "#Import pymongo\n",
      "import pymongo\n",
      "\n",
      "\n",
      "def getLinks(html, max_links=10):\n",
      "    url = []\n",
      "    cursor = 0\n",
      "    nlinks=0\n",
      "    while (cursor>=0 and nlinks<max_links):\n",
      "        start_link = html.find(\"a href\",cursor)\n",
      "        if start_link==-1:\n",
      "            return url\n",
      "        start_quote = html.find('\"', start_link)\n",
      "        end_quote = html.find('\"', start_quote + 1)\n",
      "        url.append(html[start_quote + 1: end_quote])\n",
      "        cursor = end_quote+1\n",
      "        nlinks = nlinks +1\n",
      "    return url\n",
      "\n",
      "class Spider:\n",
      "    def __init__(self,starting_url,crawl_domain,max_iter):\n",
      "        self.crawl_domain = crawl_domain\n",
      "        self.max_iter = max_iter\n",
      "        self.links_to_crawl=[]\n",
      "        self.links_to_crawl.append(starting_url)\n",
      "        self.links_visited=[]\n",
      "        self.collection=[]\n",
      "        # Create the connection to MongoDB\n",
      "        try:\n",
      "            self.conn=pymongo.MongoClient()\n",
      "            print \"Connection to Mongo Daemon successful!!!\"\n",
      "        except pymongo.errors.ConnectionFailure, e:\n",
      "           print \"Could not connect to MongoDB: %s\" % e \n",
      "        self.db = conn['crawlerDB']\n",
      "        self.collection = self.db[starting_url+'DB']\n",
      "\n",
      "        \n",
      "    def retrieveHtml(self):\n",
      "        try:\n",
      "            socket = urllib2.urlopen(self.url);\n",
      "            self.html = socket.read()\n",
      "            return 0\n",
      "        except urllib2.HTTPError:\n",
      "            # Most probably an url not found 404, possibly due to malformating of the links in retrieveAndValidateLinks\n",
      "            return -1\n",
      "             \n",
      "    def run(self):\n",
      "        #Change the count on the collection\n",
      "        while (len(self.links_to_crawl)>0 and self.collection.count()<self.max_iter):\n",
      "            self.url = self.links_to_crawl.pop(0)\n",
      "            print self.links_to_crawl\n",
      "            self.links_visited.append(self.url)\n",
      "            if self.retrieveHtml()>=0:\n",
      "                self.storeHtml()\n",
      "                self.retrieveAndValidateLinks()\n",
      "        self.conn.close()\n",
      "    \n",
      "    def retrieveAndValidateLinks(self):\n",
      "        tmpList=[]\n",
      "        items = getLinks(self.html,max_links=50)\n",
      "        # Check the validity of a link\n",
      "        for item in items:\n",
      "            item = item.strip('\"')\n",
      "            if '.pdf' not in item:\n",
      "                if self.crawl_domain in item:\n",
      "                    tmpList.append(item)\n",
      "                else:\n",
      "                    if not(\":\") in item: #Take care of http:// https:// and mailto:\n",
      "                        tmpList.append(self.crawl_domain+item)\n",
      "        # Check that the link has not been previously retrieved or is currently on the links_to_crawl list\n",
      "        for item in tmpList:\n",
      "            if item not in self.links_visited:\n",
      "                if item not in self.links_to_crawl:\n",
      "                    self.links_to_crawl.append(item)\n",
      "                    print 'Adding: '+item\n",
      "                \n",
      "    def storeHtml(self):\n",
      "        doc = {}\n",
      "        doc['url'] = self.url\n",
      "        doc['date'] = time.strftime(\"%d/%m/%Y\")\n",
      "        doc['html'] = self.html\n",
      "        #Insert in the collection\n",
      "        self.collection.insert(doc)"
     ],
     "language": "python",
     "metadata": {},
     "outputs": []
    },
    {
     "cell_type": "code",
     "collapsed": true,
     "input": [
      "spider = Spider('http://hunch.net','http://hunch.net/',20)\n",
      "spider.run()"
     ],
     "language": "python",
     "metadata": {},
     "outputs": []
    },
    {
     "cell_type": "code",
     "collapsed": true,
     "input": [
      "conn = pymongo.MongoClient()"
     ],
     "language": "python",
     "metadata": {},
     "outputs": []
    },
    {
     "cell_type": "code",
     "collapsed": true,
     "input": [
      "print conn.database_names()\n",
      "db = conn['crawlerDB']"
     ],
     "language": "python",
     "metadata": {},
     "outputs": []
    },
    {
     "cell_type": "code",
     "collapsed": true,
     "input": [
      "db.collection_names()\n",
      "#db.drop_collection(\"http://hunch.netDB\")"
     ],
     "language": "python",
     "metadata": {},
     "outputs": []
    },
    {
     "cell_type": "code",
     "collapsed": true,
     "input": [
      "collection = db['http://hunch.netDB']\n",
      "collection.count()"
     ],
     "language": "python",
     "metadata": {},
     "outputs": []
    },
    {
     "cell_type": "code",
     "collapsed": true,
     "input": [
      "for doc in collection.find():\n",
      "    print doc['url']\n",
      "    print doc['date']"
     ],
     "language": "python",
     "metadata": {},
     "outputs": []
    },
    {
     "cell_type": "markdown",
     "metadata": {},
     "source": [
      "<div class = \"alert alert-info\" style = \"border-radius:10px;border-width:3px;border-color:darkblue;font-family:Verdana,sans-serif;font-size:16px;\">\n",
      "\n",
      "**PROS and CONS:**\n",
      "<p>\n",
      "**MongoDB** querying is powerful but based on basic string operations. This actually tells us that storing full HTML pages is not going to be effiecient for retrieval. Actually, we will see that it is important to break the information in the pieces we really want. However, this is a good starting point before a post processing if we are not sure what we are going to do with the data or further scraping is going to take long. </p>\n",
      "</div>\n",
      "\n",
      "In the next section we will see more efficient ways of dealing with web based data."
     ]
    },
    {
     "cell_type": "markdown",
     "metadata": {},
     "source": [
      "<div class = \"alert alert-info\" style = \"border-radius:10px;border-width:3px;border-color:darkblue;font-family:Verdana,sans-serif;font-size:16px;\">\n",
      "\n",
      "**URLLIB2** is good for getting simple things. In the end you end up with a large HTML string you want to do something on it. \n",
      "So the next thing you want to do is to parse data. But you want to do it in the same way you do when you interact with the web page. You see a menu, a frame on the left side, a nice colorful block where the price for your flight is. So **you want to parse data the way you see data in the webpage so that you can target it**.\n",
      "</div>"
     ]
    },
    {
     "cell_type": "markdown",
     "metadata": {},
     "source": [
      "##2. Using the API\n",
      "\n",
      "Recall the **big picture**. If we are targeting for specific data we could check if the web site has a programatic interface for querying. If it has we can use it.\n",
      "\n"
     ]
    },
    {
     "cell_type": "markdown",
     "metadata": {},
     "source": [
      "<img style=\"border-radius:20px;\" src=\"./files/big_picture.jpg\">"
     ]
    },
    {
     "cell_type": "markdown",
     "metadata": {},
     "source": [
      "##Scrapping twitter data with the API"
     ]
    },
    {
     "cell_type": "markdown",
     "metadata": {},
     "source": [
      "A standard way for programatically communicating with a web service is using the API (Application Programing Interface) whenever it is provided. Twitter provides several APIs. The two most important ones are the RESTful API for static queries (e.g. user's friends and followers, check timelines, etc) and the Streaming API for retrieving live data. The REST API identifies Twitter applications and users using OAuth; responses are available in JSON. The Streaming API should not need authentication.\n",
      "\n",
      "Ex. \n",
      "\n",
      "https://api.twitter.com/oauth/authenticate?oauth_token=XXXXXXXXXXXXXX\n",
      "\n",
      "https://api.twitter.com/1.1/followers/ids.json?cursor=-1&screen_name=my_user_name&count=5000\n",
      "\n",
      "Building these queries is not always easy, thus we may use a wrapper around the API. This is what **tweepy** does."
     ]
    },
    {
     "cell_type": "markdown",
     "metadata": {},
     "source": [
      "Using the API with authentification (needed for the RESTful API)\n",
      "\n",
      "From wikipedia:\n",
      "\n",
      ">\"Web service APIs that adhere to the architectural constraints are called RESTful. HTTP based RESTful APIs are defined with these aspects:\n",
      "\n",
      "> <ul><li>base URI, such as http://example.com/resources/\n",
      "<li>an Internet media type for the data. This is often JSON but can be any other valid Internet media type (e.g. XML, Atom, microformats, images, etc.)</li>\n",
      "<li>standard HTTP methods (e.g., GET, PUT, POST, or DELETE)</li>\n",
      "<li>hypertext links to reference state</li>\n",
      "<li>hypertext links to reference related resources\"</li>\n",
      "</ul>\n",
      "\n",
      "If we want to use the RESTful API in Twitter we have to follow these steps:\n",
      "<ul>\n",
      "<li>From your twitter account we want to generate a token: https://apps.twitter.com</li>\n",
      "<li>Create a new App. This will create the API keys (consumer keys)</li>\n",
      "<li>Go to API Keys and generate a token. (access keys)</li>\n",
      "</ul>"
     ]
    },
    {
     "cell_type": "code",
     "collapsed": true,
     "input": [
      "import json\n",
      "import pymongo\n",
      "import tweepy\n",
      "\n",
      "consumer_key = \"\"\n",
      "consumer_secret = \"\"\n",
      "\n",
      "access_key = \"\"\n",
      "access_secret = \"\"\n",
      "\n",
      "#Authentication\n",
      "auth = tweepy.OAuthHandler(consumer_key, consumer_secret)\n",
      "auth.set_access_token(access_key, access_secret)\n",
      "api = tweepy.API(auth)\n",
      "\n",
      "#Do something\n",
      "USER_NAME = \"oriolpujol\"\n",
      "user = api.get_user(id=USER_NAME)"
     ],
     "language": "python",
     "metadata": {},
     "outputs": []
    },
    {
     "cell_type": "markdown",
     "metadata": {},
     "source": [
      "We can access some basic information about the user"
     ]
    },
    {
     "cell_type": "code",
     "collapsed": true,
     "input": [
      "user.screen_name"
     ],
     "language": "python",
     "metadata": {},
     "outputs": []
    },
    {
     "cell_type": "code",
     "collapsed": true,
     "input": [
      "user.id"
     ],
     "language": "python",
     "metadata": {},
     "outputs": []
    },
    {
     "cell_type": "code",
     "collapsed": true,
     "input": [
      "user.created_at"
     ],
     "language": "python",
     "metadata": {},
     "outputs": []
    },
    {
     "cell_type": "code",
     "collapsed": true,
     "input": [
      "user.friends_count"
     ],
     "language": "python",
     "metadata": {},
     "outputs": []
    },
    {
     "cell_type": "code",
     "collapsed": true,
     "input": [
      "user.followers_count"
     ],
     "language": "python",
     "metadata": {},
     "outputs": []
    },
    {
     "cell_type": "markdown",
     "metadata": {},
     "source": [
      ">JSON (JavaScript Object Notation), is an open standard format that uses human-readable text to transmit data objects consisting of attribute\u2013value pairs. It is used primarily to transmit data between a server and web application, as an alternative to XML. JSON is a way to encode complicated information in a platform-independent way.  It could be considered the lingua franca of information exchange on the Internet. "
     ]
    },
    {
     "cell_type": "code",
     "collapsed": true,
     "input": [
      "#We can access the full JSON\n",
      "user._json"
     ],
     "language": "python",
     "metadata": {},
     "outputs": []
    },
    {
     "cell_type": "markdown",
     "metadata": {},
     "source": [
      "We can access all the information as it was a dictionary structure."
     ]
    },
    {
     "cell_type": "code",
     "collapsed": true,
     "input": [
      "juser = user._json\n",
      "print juser['created_at']"
     ],
     "language": "python",
     "metadata": {},
     "outputs": []
    },
    {
     "cell_type": "markdown",
     "metadata": {},
     "source": [
      "We can apply our basic scrape knowledge and use urllib2 to retrieve more interesting infomation, such as the profile image."
     ]
    },
    {
     "cell_type": "code",
     "collapsed": true,
     "input": [
      "img_url = juser['profile_image_url']\n",
      "print img_url"
     ],
     "language": "python",
     "metadata": {},
     "outputs": []
    },
    {
     "cell_type": "code",
     "collapsed": true,
     "input": [
      "f = open('scraped_image','wb')\n",
      "f.write(urllib2.urlopen(img_url).read())\n",
      "\n",
      "%matplotlib inline\n",
      "import matplotlib.pyplot as plt\n",
      "im=plt.imread('scraped_image')\n",
      "plt.imshow(im)\n",
      "plt.title(juser['screen_name'],size=16)"
     ],
     "language": "python",
     "metadata": {},
     "outputs": []
    },
    {
     "cell_type": "markdown",
     "metadata": {},
     "source": [
      "Now we want to retrieve the list of follower ids. There are two ways for doing so. Both uses the `api.followers_ids` function. The function returns a maximum of 100 ids. If we want to get all of them we may use a pagination variable `cursor`. This can be managed directly in the call `api.followers_ids(id, cursor)` or using a `Cursor` object with the `pages` method that handles the cursor implicitly. This second method is illustrated in the following lines:"
     ]
    },
    {
     "cell_type": "code",
     "collapsed": true,
     "input": [
      "#Retrieving all the followers\n",
      "ids = []\n",
      "for page in tweepy.Cursor(api.followers_ids, screen_name=USER_NAME).pages():\n",
      "    ids.extend(page)\n",
      "    time.sleep(20)  #This should be 60 to avoid limit rates"
     ],
     "language": "python",
     "metadata": {},
     "outputs": []
    },
    {
     "cell_type": "markdown",
     "metadata": {},
     "source": [
      "Notice the `sleep` command. This is needed to respect the hourly limit rates of the Twitter API. "
     ]
    },
    {
     "cell_type": "code",
     "collapsed": true,
     "input": [
      "#friends (screen_name) or follower_ids\n",
      "ids"
     ],
     "language": "python",
     "metadata": {},
     "outputs": []
    },
    {
     "cell_type": "code",
     "collapsed": true,
     "input": [
      "document={}\n",
      "document['user'] = user.id\n",
      "document['followers'] = ids[:]\n",
      "\n",
      "# Create the connection to MongoDB\n",
      "try:\n",
      "    conn=pymongo.MongoClient()\n",
      "    print \"Connection to Mongo Daemon successful!!!\"\n",
      "except pymongo.errors.ConnectionFailure, e:\n",
      "    print \"Could not connect to MongoDB: %s\" % e \n",
      "db = conn['twitter']\n",
      "collection = db['twitter_users']\n",
      "collection.insert(document)"
     ],
     "language": "python",
     "metadata": {},
     "outputs": []
    },
    {
     "cell_type": "code",
     "collapsed": true,
     "input": [
      "for doc in collection.find():\n",
      "    print doc"
     ],
     "language": "python",
     "metadata": {},
     "outputs": []
    },
    {
     "cell_type": "code",
     "collapsed": true,
     "input": [
      "doc['user']"
     ],
     "language": "python",
     "metadata": {},
     "outputs": []
    },
    {
     "cell_type": "code",
     "collapsed": true,
     "input": [
      "doc['followers']"
     ],
     "language": "python",
     "metadata": {},
     "outputs": []
    },
    {
     "cell_type": "markdown",
     "metadata": {},
     "source": [
      "<div class = \"alert alert-error\" style = \"border-radius:10px;border-width:3px;border-color:darkred;font-family:Verdana,sans-serif;font-size:16px;\"> **TAKE HOME EXERCISE:** Given a starting user ID, retrieve the user ids corresponding to the set of followers up to two depth levels. This is the followers of the followers of the named user. This information creates a network of influence that will be used in upcoming sessions.\n",
      "</div>"
     ]
    },
    {
     "cell_type": "markdown",
     "metadata": {},
     "source": [
      "The **Streaming API** works by making a request for a specific type of data \u2014 filtered by keyword, user, geographic area, or a random sample \u2014 and then keeping the connection open as long as there are no errors in the connection. The data you get back will be encoded in JSON. "
     ]
    },
    {
     "cell_type": "markdown",
     "metadata": {},
     "source": [
      "One of the main usage cases of tweepy is monitoring for tweets and doing actions when some event happens. Key component of that is the StreamListener object, which monitors tweets in real time and catches them.\n",
      "\n",
      "If we check the official twitter streaming API we see that we have several modifiers for filtering the stream, i.e. track (filter by keyword), locations (filter by geographic location), etc\n",
      "\n",
      "StreamListener has several methods, with on_data() and on_status() being the most useful ones. Here is a sample program which implements this behavior:"
     ]
    },
    {
     "cell_type": "code",
     "collapsed": true,
     "input": [
      "from tweepy import Stream,StreamListener\n",
      "\n",
      "class listener(StreamListener):\n",
      "    def on_data(self, data):\n",
      "        #Beauty print data\n",
      "        parsed = json.loads(data)\n",
      "        print json.dumps(parsed, indent=4, sort_keys=True)\n",
      "        return True\n",
      "    def on_error(self, status):\n",
      "        print status"
     ],
     "language": "python",
     "metadata": {},
     "outputs": []
    },
    {
     "cell_type": "markdown",
     "metadata": {},
     "source": [
      "Get the twitter data filtered by location inside the following bounding box. (http://boundingbox.klokantech.com)"
     ]
    },
    {
     "cell_type": "markdown",
     "metadata": {},
     "source": [
      "<img style = \"border-radius:10px;\" src=\"./files/ub_location.png\">"
     ]
    },
    {
     "cell_type": "code",
     "collapsed": true,
     "input": [
      "twitterStream = Stream(auth, listener()) \n",
      "twitterStream.filter(locations=[2.1622322352,41.385987385,2.1651827408,41.3877173586])"
     ],
     "language": "python",
     "metadata": {},
     "outputs": []
    },
    {
     "cell_type": "code",
     "collapsed": true,
     "input": [
      "# Other examples\n",
      "twitterStream = Stream(auth, listener()) \n",
      "#twitterStream.filter(track=[\"datascience\"])\n",
      "#Use http://boundingbox.klokantech.com to get the Barcelona bounding box\n",
      "twitterStream.filter(locations=[2.0504377635,41.2787636541,2.3045074059,41.4725622346])"
     ],
     "language": "python",
     "metadata": {},
     "outputs": []
    },
    {
     "cell_type": "code",
     "collapsed": true,
     "input": [
      "from tweepy import Stream,StreamListener\n",
      "\n",
      "class listener(StreamListener):\n",
      "    def on_data(self, status):\n",
      "        json_data=json.loads(status)\n",
      "        print str(json_data[\"user\"][\"screen_name\"])+' : ' + json_data[\"text\"]\n",
      "        return True\n",
      "    \n",
      "    def on_error(self, status):\n",
      "        print status\n",
      "        \n",
      "# Catch all tweets in Barcelona area and print them\n",
      "twitterStream = Stream(auth, listener()) \n",
      "#twitterStream.filter(locations=[2.1622322352,41.385987385,2.1651827408,41.3877173586])\n",
      "twitterStream.filter(locations=[2.0504377635,41.2787636541,2.3045074059,41.4725622346])"
     ],
     "language": "python",
     "metadata": {},
     "outputs": []
    },
    {
     "cell_type": "markdown",
     "metadata": {},
     "source": [
      "Let us fill the class in order to capture and store the data in a MongoDB database."
     ]
    },
    {
     "cell_type": "code",
     "collapsed": true,
     "input": [
      "from tweepy import Stream,StreamListener\n",
      "\n",
      "class listener(StreamListener):\n",
      "    def __init__(self):\n",
      "        super(StreamListener, self).__init__()\n",
      "        try:\n",
      "            self.conn=pymongo.MongoClient()\n",
      "            print \"Connection to Mongo Daemon successful!!!\"\n",
      "        except pymongo.errors.ConnectionFailure, e:\n",
      "            print \"Could not connect to MongoDB: %s\" % e \n",
      "        self.db = conn['twitter_stream']\n",
      "        self.collection = db['tweets']\n",
      "    \n",
      "    def on_data(self, status):\n",
      "        jdata = json.loads(status)\n",
      "        if 'android' in jdata[\"source\"]:\n",
      "            device = \"android\"\n",
      "        else:\n",
      "            device = \"apple\"\n",
      "        document={'text':jdata[\"text\"], 'created':jdata[\"created_at\"], 'screen_name':jdata[\"user\"][\"screen_name\"], 'device':device}        \n",
      "        self.collection.insert(document) \n",
      "        print document\n",
      "        return True\n",
      "    \n",
      "    def on_error(self, status):\n",
      "        print status\n",
      "\n",
      "# Catch all tweets in Barcelona area and print them\n",
      "twitterStream = Stream(auth, listener()) \n",
      "twitterStream.filter(locations=[2.0504377635,41.2787636541,2.3045074059,41.4725622346])"
     ],
     "language": "python",
     "metadata": {},
     "outputs": []
    },
    {
     "cell_type": "code",
     "collapsed": true,
     "input": [
      "#Check captured data\n",
      "try:\n",
      "    conn=pymongo.MongoClient()\n",
      "    print \"Connection to Mongo Daemon successful!!!\"\n",
      "except pymongo.errors.ConnectionFailure, e:\n",
      "    print \"Could not connect to MongoDB: %s\" % e \n",
      "\n",
      "db = conn['twitter_stream']\n",
      "collection = db['tweets']\n",
      "collection.count()\n",
      "for doc in collection.find():\n",
      "    print doc"
     ],
     "language": "python",
     "metadata": {},
     "outputs": []
    },
    {
     "cell_type": "markdown",
     "metadata": {},
     "source": [
      "APIs are nice. Most large web site provide useful APIs, e.g. Google, OpenStreetMap, Facebook, etc, subject to some use terms. However most of the web sited do not provide any kind of access to data. What to do then?"
     ]
    },
    {
     "cell_type": "markdown",
     "metadata": {},
     "source": [
      "## 3. Making your own API: Web scraping\n",
      "\n",
      "Sometimes data is on the web but there is no API to grant access to it, the API is lacking functionalities or the terms of service are not adequate. In those cases because as humans we have visual access to the data we might wonder how to extract that data automatically. The discipline for doing so is **Web Scraping**. \n",
      "\n",
      "Before we start, it is useful to understand a little how web pages are created and data stored. In this section a brief introduction to web front-end development is presented. We will focus on two basic aspects:\n",
      "\n",
      "+ Basic HTML + CSS static pages.\n",
      "+ Dynamic HTML (a basic JavaScript example using JQuery).\n"
     ]
    },
    {
     "cell_type": "markdown",
     "metadata": {},
     "source": [
      "<div class = \"alert alert-success\" style = \"border-radius:10px;border-width:3px;border-color:darkgreen;font-family:Verdana,sans-serif;font-size:16px;\">\n",
      "**Firebug example on a page.**\n",
      "\n",
      "Go to a page and check its contents using Inspect Element\n",
      "</div>"
     ]
    },
    {
     "cell_type": "markdown",
     "metadata": {},
     "source": [
      "### 3.1 Basic HTML + CSS 101\n",
      "\n",
      "The most basic web pages are built upon HTML + CSS technology. This division stnds for content and design, respectively. **HTML (Hypertext markup language)** is used to give websites structure and stores the contents. This is our target for scraping. On the other hand **CSS (Cascading Style Sheets)** gives format to the content, sigles out content for visualization purposes, i.e. defines the style (e.g. font, color, family, borders, image style, relative positioning of the content, etc). HTML files include tags and references to style, thus it is worthwhile to understand a little bit of both technologies which can help us to scrap data more efficiently.\n"
     ]
    },
    {
     "cell_type": "markdown",
     "metadata": {},
     "source": [
      "HTML is a tagged language usually rendered by a browser. Tags are specified in the following format:\n",
      "\n",
      "<p style=\"text-align: center\">&lt;tag_name *attributes*&gt; content &lt;/tag_name&gt;<p>\n",
      "\n",
      "<p>\n",
      "<div class = \"alert alert-info\" style = \"border-radius:10px;border-width:3px;border-color:darkblue;font-family:Verdana,sans-serif;font-size:16px;\">STRUCTURE of an HTML file:\n",
      "\n",
      "<ul>\n",
      "    <li> HTML files start with the <!DOCTYPE html>. This tells the browser that we will use HTML5. In former versions of HTML standard there were different versions. </li>\n",
      "    <li> The first tag in a web page is &lt;html&gt; and its corresponding &lt;/html&gt; closing tag. All the web page is found inside these tags. </li>\n",
      "    <li> HTML files have a &lt;head&gt; and a &lt;body&gt; </li>\n",
      "    <li> In the head, we have the &lt;title&gt; tags, and we use this to specify the webpage's name. We can also find references to CSS stylesheets (&lt;link&gt;) used for formating the page and links to javascript files (&lt;script&gt;)that give the web page dynamic behavior.</li>\n",
      "    <li> In the body we find the content of the page. </li> \n",
      "        <ul>\n",
      "            <li> Headings and text paragraphs can be created using &lt;h#&gt; (# is a natural number) and &lt;p&gt; ,respectively. </li>\n",
      "            <li> Hyperlinks (links) are given in the <strong>href</strong> attribute of the &lt;a&gt; (anchor) tag. </li>\n",
      "            <li> Images can be embedded using the &lt;img&gt; tag and setting the <strong>src</strong> attribute to the resource. Caution: img is an special tag and it does not have a closing tag, e.g. &lt;img src = \"my_pic.jpg\" /&gt; </li>\n",
      "        </ul>\n",
      "</ul>\n",
      "</div>\n",
      "</p>"
     ]
    },
    {
     "cell_type": "markdown",
     "metadata": {},
     "source": [
      "<div class = \"alert alert-success\" style = \"border-radius:10px;border-width:3px;border-color:darkgreen;font-family:Verdana,sans-serif;font-size:16px;\">**EXERCISE**\n",
      "\n",
      "Let us build a basic HTML web page, adding the following tags. Remember that nearly all tags require to be closed using &lt;/tag&gt;\n",
      "\n",
      "+ DOCTYPE\n",
      "+ html\n",
      "+ head\n",
      "+ title\n",
      "+ body\n",
      "\n",
      "<ol>\n",
      "<li>Create a file 'example.html' in your favorite editor.</li>\n",
      "<li>Create a basic html web page containing a *title*, *h1*, *p*, *img* and *a* tags.</li>\n",
      "</ol>\n",
      "</div>"
     ]
    },
    {
     "cell_type": "markdown",
     "metadata": {},
     "source": [
      "If you are lazy go to the files folder and double-click on \"example.html\". You can check the html code executing the following line."
     ]
    },
    {
     "cell_type": "code",
     "collapsed": true,
     "input": [
      "%load files/example.html"
     ],
     "language": "python",
     "metadata": {},
     "outputs": []
    },
    {
     "cell_type": "markdown",
     "metadata": {},
     "source": [
      "Because Ipython notebook cells directly interpret markdown and HTML we can use the cell as an interactive editor for our HTML understanding.\n",
      "<div class  = \"alert alert-success\">** EXERCISE ** <p>\n",
      "Change the type of cell of the former cell to *Markdown* and Execute (SHIFT+ENTER). In order for the files to show you must add the relative path to the image, e.g. ./files/rubberduck.jpg\n",
      "</div>"
     ]
    },
    {
     "cell_type": "markdown",
     "metadata": {},
     "source": [
      "<div class = \"alert alert-info\" style = \"border-radius:10px;border-width:3px;border-color:darkblue;font-family:Verdana,sans-serif;font-size:16px;\">\n",
      "**Old style HTML** static pages rely heavily on tables and lists: \n",
      "\n",
      "<ul>\n",
      "<li> Making ordered and unordered lists is simple: *ol* (ordered list), *ul* (unordered list) are the main tags. Each item is inserted as *li* (list item) </li>\n",
      "<li> *table* is the containing tag for building tables, each table row is given as *tr* and columns depend on the table data elements *td*. Tables may have a head (*thead*) and a body (*tbody*). *th* is the same as *td* but for the header. If you want a multi column cell then use colspan=number of cells to cover.\n",
      "</li>\n",
      "</ul>\n",
      "</div>"
     ]
    },
    {
     "cell_type": "markdown",
     "metadata": {},
     "source": [
      "The next example shows a simple table build. Check the markdown code."
     ]
    },
    {
     "cell_type": "markdown",
     "metadata": {},
     "source": [
      "<table>\n",
      "<thead>\n",
      "<tr><th colspan = 2>A table</th><tr>\n",
      "</thead>\n",
      "<tbody>\n",
      "<tr>\n",
      "<td>Hello I am element 1.1</td><td>Hello I am element 1.2</td>\n",
      "</tr>\n",
      "<tr>\n",
      "<td colspan=2>Hello I am element 2.1 and 2.2</td>\n",
      "</tr>\n",
      "</tbody>\n",
      "</table>"
     ]
    },
    {
     "cell_type": "markdown",
     "metadata": {},
     "source": [
      "<div class = \"alert alert-info\" style = \"border-radius:10px;border-width:3px;border-color:darkblue;font-family:Verdana,sans-serif;font-size:16px;\">\n",
      "**Current HTML** static pages rely heavily on containers and style: \n",
      "\n",
      "<ul>\n",
      "<li> *div* stands for division and mark a block of content.\n",
      "</li>\n",
      "<li> *span* is used to single out an element of a block content.\n",
      "</li>\n",
      "</ul>\n",
      "\n",
      "</div>\n",
      "\n",
      "By themselves they are not much but when combined with the *style* attribute they become interesting.\n",
      "\n",
      "For example, consider the following example of code:"
     ]
    },
    {
     "cell_type": "markdown",
     "metadata": {},
     "source": [
      "<div style = \"width:100px;height:100px;background-color:red;padding:10px;font-family:Verdana;font-size:24;color:pink;display:inline-block\">  Box 1\n",
      "</div>\n",
      "<div style = \"width:100px;height:100px;background-color:blue;padding:10px;font-family:Futura;font-size:24;color:lightblue;display:inline-block\">  Box 2\n",
      "</div>\n",
      "<div style = \"width:100px;height:100px;background-color:yellow;padding:10px;font-family:Garamond;font-size:24;color:orange;display:inline-block\">  Box 3\n",
      "</div>\n",
      "<div style = \"width:100px;height:100px;background-color:green;padding:10px;font-family:ArialNarrow;font-size:24;color:lightgreen;display:inline-block\">  Box 4\n",
      "</div>"
     ]
    },
    {
     "cell_type": "markdown",
     "metadata": {},
     "source": [
      "The attribute *style* is also referred as *inline CSS* and let us give the skeleton some skin and makeup."
     ]
    },
    {
     "cell_type": "markdown",
     "metadata": {},
     "source": [
      "<div class = \"alert alert-success\" style = \"border-radius:10px;border-width:3px;border-color:darkgreen;font-family:Verdana,sans-serif;font-size:16px;\">**EXERCISE**\n",
      "\n",
      "Let us build a basic HTML web page and check the magic of CSS in action before going in detail into CSS.\n",
      "<ol>\n",
      "<li>Create a file 'example2.html' using your favorite editor.</li>\n",
      "<li>Fill the header and body basic HTML structure</li>\n",
      "<li>Let us add three containers *div* in the body.</li> \n",
      "<li>Select one of them. This will be used as a navigation bar and will contain an unordered list with three elememnts: Home, Brief Bio, Hobbies</li>\n",
      "<li>Select another division and create a table inside. Each row will contain information about your profile, e.g. the first row may contain Name: Your Name, the second row Position: Your current position, etc</li>\n",
      "<li>The last one will contain an image of youself and a paragraph with your contact info (email)</li>\n",
      "</ol>\n",
      "<p>\n",
      "Check the result. Nearly professional, doesn't it?\n",
      "</p>\n",
      "</div>"
     ]
    },
    {
     "cell_type": "markdown",
     "metadata": {},
     "source": [
      "<div class = \"alert alert-success\" style = \"border-radius:10px;border-width:3px;border-color:darkgreen;font-family:Verdana,sans-serif;font-size:16px;\">**EXERCISE FOLLOW UP**\n",
      "\n",
      "Let us add some style.\n",
      "<ol>\n",
      "<li>Add the class \"navbar\" as an attribute to the *div* containing the list. (eg. class = \"navbar\")</li>\n",
      "<li>Add the class \"head\" to the *div* containing the image and the email.</li>\n",
      "<li>Add the class \"right\" to the *div* containing the table.</li>\n",
      "<li>Add the identifier \"email\" to the paragraph containing the email. (eg. id = \"email\")</li>\n",
      "<li>Finally, let us link the class and ids definitions we have just writen by adding to the head tag the following line:\n",
      "<p>< link type=\"text/css\" rel=\"stylesheet\" href=\"stylesheet.css\"/ ></p>\n",
      "</li>\n",
      "</ol>\n",
      "<p>\n",
      "Check the result now. Do not forget to hover over your navigation bar.\n",
      "</p>\n",
      "</div>"
     ]
    },
    {
     "cell_type": "markdown",
     "metadata": {},
     "source": [
      "The former exercise is an extremely simple exercise showing the separation between the content and the styling. Observe that the html file you have created does not have any explicit styling. However, we have added two new elements to the mix, classes and identifiers as attributes of the tags. As you can imagine styling rules are given for each class and ID and are compactly found on the stylesheet.css we have just linked."
     ]
    },
    {
     "cell_type": "markdown",
     "metadata": {},
     "source": [
      "<div class = \"alert alert-warning\" style = \"border-radius:10px;border-width:3px;border-color:orange;font-family:Verdana,sans-serif;font-size:16px;\">**COMMENT:**\n",
      "Very simple formating can be also given using html markers. For example *strong* and *em* tags refers to bold and italics fonts.\n",
      "</div>"
     ]
    },
    {
     "cell_type": "markdown",
     "metadata": {},
     "source": [
      "**CSS (which stands for Cascading Style Sheets)** is a language used to describe the appearance and formatting of your HTML. A style sheet is a file that describes how an HTML file should look. The word cascading refers to the fact that a specific style rules override more generic ones. We will see that in a minute. \n"
     ]
    },
    {
     "cell_type": "markdown",
     "metadata": {},
     "source": [
      "<div class = \"alert alert-info\" style = \"border-radius:10px;border-width:3px;border-color:darkblue;font-family:Verdana,sans-serif;font-size:16px;\">FORMAT of a CSS file:\n",
      "\n",
      "<ul>\n",
      "    <li> CSS files contains a set of style rules applied to a certain selection of the content of the html file. The format is as follows:\n",
      "    \n",
      "    <p style = \"font-family:Courier;margin-left:200px;\"> css_selector { \n",
      "                property: value;\n",
      "        }\n",
      "    </p>\n",
      "    and may contain many properties.\n",
      "    \n",
      "    <li> <span style = \"font-family:Courier\"> css_selector </span> identifies a certain context of the Document Object Model (DOM), i.e. it allows to traverse the DOM and select specific blocks. For example, \n",
      "    <p style = \"font-family:Courier;margin-left:200px;\">\n",
      "        div { color:red; }\n",
      "    </p>\n",
      "    selects all *div* tags and apply a red font color to their content.\n",
      "    </li>\n",
      "    <li> We can use any html tag as element for selection.\n",
      "    </li>\n",
      "    </ul>\n",
      "</div>"
     ]
    },
    {
     "cell_type": "markdown",
     "metadata": {},
     "source": [
      "<div class = \"alert alert-info\" style = \"border-radius:10px;border-width:3px;border-color:darkblue;font-family:Verdana,sans-serif;font-size:16px;\">\n",
      "    **CLASSES:**\n",
      "        <ul>\n",
      "        <li> We may link/format a certain set of tags of the html file with a unique CSS style by means of a **class**. </li>\n",
      "        <li> In html the class is defined as an attribute and can be shared among tags, e.g. < div class = \"my_class\" > and < p class = \"my_class\">\n",
      "        </li>\n",
      "        <li> In the css file, the class is identified with a point preceeding the name, e.g.\n",
      "         <p style = \"font-family:Courier;margin-left:200px;\">\n",
      "            .my_class { font-family:Verdana; }\n",
      "        </p>\n",
      "        </li>\n",
      "        </ul>\n",
      "    </div>\n"
     ]
    },
    {
     "cell_type": "markdown",
     "metadata": {},
     "source": [
      "<div class = \"alert alert-info\" style = \"border-radius:10px;border-width:3px;border-color:darkblue;font-family:Verdana,sans-serif;font-size:16px;\">\n",
      "    **IDENTIFIERS:**\n",
      "        <ul>\n",
      "        <li> If we want to single out an element to apply a certain style we can use an **identifier**. </li>\n",
      "        <li> In html the identifier is defined as the attribute **ID**, e.g. < div id = \"my_ID\" >\n",
      "        </li>\n",
      "        <li> In the css file, the identifier name is preceeded by a hash sign (#), e.g.\n",
      "         <p style = \"font-family:Courier;margin-left:200px;\">\n",
      "            #my_ID { font-size:24px; }\n",
      "        </p>\n",
      "        </li>\n",
      "        </ul>\n",
      "</div>"
     ]
    },
    {
     "cell_type": "markdown",
     "metadata": {},
     "source": [
      "<div class = \"alert alert-success\" style = \"border-radius:10px;border-width:3px;border-color:darkgreen;font-family:Verdana,sans-serif;font-size:16px;\">**EXERCISE**\n",
      "\n",
      "Check stylesheet.css and inspect the formating of the identifiers and the classes.\n",
      "<ol>\n",
      "<li>\n",
      "Create an identifier name_props that changes the font-family to Courier.\n",
      "</li>\n",
      "<li>\n",
      "Add this identifier to the *td* tag with your name in the profile.\n",
      "</li>\n",
      "</ol>\n",
      "</div>"
     ]
    },
    {
     "cell_type": "markdown",
     "metadata": {},
     "source": [
      "<div class = \"alert alert-success\" style = \"border-radius:10px;border-width:3px;border-color:darkgreen;font-family:Verdana,sans-serif;font-size:16px;\">**EXERCISE**\n",
      "\n",
      "Let us make our own css style sheet and explore a little of the more advanced CSS selectors.\n",
      "<ol>\n",
      "<li>Create a file 'mystylesheet.css' using your favorite editor and open example3.html in your browser.</li>\n",
      "<li>What happens if we add the following style command? \n",
      "<p style=\"font-family:Courier\">div {font-family:Verdana;font-size:16px;}</p></li>\n",
      "<li>Add the following line in the style sheet:\n",
      "<p style=\"font-family:Courier\">div div{color:red;}</p></li>\n",
      "<li>Add the following line in the style sheet:\n",
      "<p style=\"font-family:Courier\">div>div{color:green;}</p></li>\n",
      "<li>Add the style to make the font of the container regarding Bruce Lee comments on Choy Li Fut have *font-size:14px*, *font-family:Courier*, *background-color:#FFCC66;*, and *color:yellow*.\n",
      "<li>Add a style to the *img* tag with *height* of *230px* and *width* of *200px*. Set the width of the table to 700 pixels width.</li>\n",
      "</ol>\n",
      "</div>"
     ]
    },
    {
     "cell_type": "markdown",
     "metadata": {},
     "source": [
      "In this last exercise we have seen another type of css selection. The html document can be seen as a tree structure. The root of the tree is the *html* tag. This has two children *head* and *body*. Head may have different children such as *title*, *link*, or *script*. Body may have any combination of tags, *divs*, *p*, *a*, etc. These tags can be nested, e.g. we can find a *div* inside a *div* inside a *div*. In the example we have seen how to refer to nested elements. The elements can be html tags or classes or identifiers.\n",
      "    + \"elem1 elem2\" refers to any elem2 inside any other elem1 disregarding the degree of nesting (it may have any arbitrary set of elementes in between both).\n",
      "    + \"elem1>elem2\" specifically refers to any elem2 children of a direct parent with tag elem1."
     ]
    },
    {
     "cell_type": "markdown",
     "metadata": {},
     "source": [
      "<div class = \"alert alert-success\" style = \"border-radius:10px;border-width:3px;border-color:darkgreen;font-family:Verdana,sans-serif;font-size:16px;\">**EXERCISE:**\n",
      "What does \"div table>img\" select?\n",
      "\n",
      "</div>"
     ]
    },
    {
     "cell_type": "markdown",
     "metadata": {},
     "source": [
      "<div class = \"alert alert-warning\" style = \"border-radius:10px;border-width:3px;border-color:orange;font-family:Verdana,sans-serif;font-size:16px;\">**BONUS MATERIAL:**\n",
      "\n",
      "<table style =\"border:2px orange solid\">\n",
      "<tr><th style =\"border:3px red solid;color:red;\">FONT</th><th style =\"border:3px red solid;color:red;\">BACKGROUND</th></tr>\n",
      "<tr style =\"border:2px orange solid\">\n",
      "<td style =\"border:2px orange solid;\">\n",
      "<ul style= \"font-family:Courier;\">\n",
      "<li>color</li>\n",
      "<li>font-size:10px,1em,...</li>\n",
      "<li>font-family:Verdana,Garamond,Futura,...</li>\n",
      "</ul>\n",
      "<div style = \"font-size:12px\">font-size size is controlled by pixels (px) or ems (em). One em refers to the normal size the user uses. Two ems refers to twice that size, and so on.\n",
      "\n",
      "Font-families depend on the fonts installed in the computer. However there are some default values: serif, sans-serif, cursive</div>\n",
      "\n",
      "</td>\n",
      "<td>\n",
      "<ul style= \"font-family:Courier;\">\n",
      "<li>background-color</li>\n",
      "<li>text-align: left,right,center;</li>\n",
      "</ul>\n",
      "</td>\n",
      "</tr>\n",
      "\n",
      "</table>\n",
      "\n",
      "**CONTAINER LAYOUT**\n",
      "\n",
      "Any container or element has the following layout:\n",
      "\n",
      "<img src=\"./files/margin_border_padding.png\"/>\n",
      "\n",
      "*T* stands for top, *B* for bottom, *L* and *R* for left and right, respectively. We can modify all the attributes: *margin* (outside the container) and *padding* (inside the container) e.g. *margin:10px* (it will add a margin of 10 pixels to all sides), *padding-top:10px* will just add 10 pixels inside the top side of the container. *Border* can be accessed the same way but also we can add other modifiers such as *border-style:dotted/dashed/solid;*, *\"border-radius:10px/20%;\"*, *\"border-width:5px\"*, *\"border-color:red;\"*. \n",
      "\n",
      "<br>\n",
      "\n",
      "<div class = \"alert alert-success\" style = \"border-radius:10px;border-width:3px;border-color:darkgreen;font-family:Verdana,sans-serif;font-size:16px;\">**EXERCISE:**\n",
      "Take a look at the following *div* and identify the container related elements:\n",
      "\n",
      "<div style = \"height:200px;width:200px;background-color:#FFCC66;border-width:10px;border-style:solid;border-color:red;padding:10px 30px 5px 100px;color:black;\"> Crux sacra sit mihi lux / Non draco sit mihi dux\n",
      "Vade retro satana / Numquam suade mihi vana\n",
      "Sunt mala quae libas / Ipse venena bibas\n",
      "</div>\n",
      "\n",
      "</div>\n",
      "\n",
      "**CSS POSITIONING**\n",
      "\n",
      "Positioning is one of the toughest parts in CSS styling. For the sake of completeness we will briefly give some hints on how positioning is controlled.\n",
      "\n",
      "The key attributes are *display*, *float*, and *position*. \n",
      "\n",
      "<ul>\n",
      "<li> <strong>Display:</strong></li>\n",
      "<ul>\n",
      "<li>**block:** Makes the element a block box. It does not let anything sit next to it on the page.</li>\n",
      "<li>**inline-block:** Makes the element a block box, but allow other elements to sit next ot it in the same line.</li>\n",
      "<li>**inline:** Makes the element sit on the same line as another element, but without formatting it like a block. It only takes up as much width as it needs (not the whole line).</li>\n",
      "<li>**none:** Makes the element disapear.</li>\n",
      "</ul>\n",
      "<li><strong>Float:</strong></li>\n",
      "<ul>\n",
      "<li>**left:** Floats the element to the left of the window.</li>\n",
      "<li>**right:** Floats the element to the rightmost side of the window.</li>\n",
      "</ul>\n",
      "<li><strong>Position:</strong></li>\n",
      "<ul>\n",
      "<li>**absolute:** The element is positioned relative to its first positioned (not static) ancestor element.</li>\n",
      "<li>**relative:** The element is positioned relative to its normal position, so \"left:20\" adds 20 pixels to the element's LEFT position.</li>\n",
      "<li>**fixed:** Stays even when there is scroll up or down.</li>\n",
      "</ul>\n",
      "</ul>\n",
      "It is worth mentioning the tag *clear:both/left/right* that defines what floats are not allowed, e.g. clear:both will not allow any float to be on the left of right. This is interesting for making some container to be at the bottom of several floats.\n",
      "**PSEUDO-SELECTORS**\n",
      "\n",
      "Pseudo-selectors allows to change aspect according to functional aspects. For example, change color when the mouse is hovering over a link or change the style of a visited link. They are added using colon (selector:pseudo-selector), examples:\n",
      "<ul>\n",
      "<li>a:link: An unvisited link.</li>\n",
      "<li>a:visited: A visited link.</li>\n",
      "<li>a:hover: A link you're hovering your mouse over.</li>\n",
      "</ul>\n",
      "<br>\n",
      "<div class = \"alert alert-success\" style = \"border-radius:10px;border-width:3px;border-color:darkgreen;font-family:Verdana,sans-serif;font-size:16px;\">**EXERCISE:**\n",
      "Take a look at the file 'stylesheet.css' in our second example and locate the positioning elements.\n",
      "</div>\n",
      "\n",
      "</div>"
     ]
    },
    {
     "cell_type": "markdown",
     "metadata": {},
     "source": [
      "<div class = \"alert alert-info\" style = \"border-radius:10px;border-width:3px;border-color:darkblue;font-family:Verdana,sans-serif;font-size:16px;\">\n",
      "    **Attribute based CSS selectors:**\n",
      "        <ul>\n",
      "        <li> We can select an attribute that has an specific attribute. Syntax is as follows:\n",
      "        <p style = \"font-family:Courier;margin-left:150px;\">\n",
      "            element[attribute = value] { styling_property; }\n",
      "        </p>\n",
      "        e.g. The following code will be applied to all buttons:\n",
      "        <p style = \"font-family:Courier;margin-left:150px;\">\n",
      "            input[type = \"button\"] { font-size:24px; }\n",
      "        </p>\n",
      "        </li>\n",
      "        <li> More complex search patterns can be used using: \n",
      "            <ul> \n",
      "            <li><span style = \"font-family:Courier\">attribute~=value</span> : Finds attributes that contain the whole word value in lists of space separated words</li> \n",
      "            <li><span style = \"font-family:Courier\">attribute|=value</span> : Finds attributes that contain the whole word in a hyphens(dashed) separated list.</li>\n",
      "            <li><span style = \"font-family:Courier\">attribute^=value</span> : Finds attributes that start with the string. It can be part of a larger word. </li> \n",
      "             <li><span style = \"font-family:Courier\">attribute$=value</span> : Finds attributes that end with the string. It can be part of a larger word. </li> \n",
      "             <li><span style = \"font-family:Courier\">attribute\\*=value</span> : Finds attributes that **contain** the string. It can be part of a larger word. </li> \n",
      "            </ul>\n",
      "        </li>\n",
      "        <li>We can chain multiple attribute selectors:\n",
      "        <p style = \"font-family:Courier;margin-left:50px;\">\n",
      "            element[attribute1 = value1][attribute2 = value2]<br> { styling_property; }\n",
      "        </p>\n",
      "        </li>\n",
      "        </ul>\n",
      "</div>"
     ]
    },
    {
     "cell_type": "markdown",
     "metadata": {},
     "source": [
      "FULL REFERENCE OF CSS SELECTORS:\n",
      "\n",
      "<table style=\"font-family:Courier;font-size:14px;\">\n",
      "  <tbody><tr>\n",
      "    <th style=\"width:20%\">Selector</th>\n",
      "    <th style=\"width:20%\">Example</th>\n",
      "    <th style=\"width:55%\">Example description</th>\n",
      "    <th>CSS</th>\n",
      "  </tr>\n",
      "\t<tr>\n",
      "    <td>.<i>class</i></td>\n",
      "    <td class=\"notranslate\">.intro</td>\n",
      "    <td>Selects all elements with class=\"intro\"</td>\n",
      "    <td>1</td>\n",
      "  </tr>\n",
      "\t<tr>\n",
      "    <td>#<i>id</i></td>\n",
      "    <td class=\"notranslate\">#firstname</td>\n",
      "    <td>Selects the element with id=\"firstname\"</td>\n",
      "    <td>1</td>\n",
      "  </tr>  <tr>\n",
      "  <td>\\*</td>\n",
      "  <td class=\"code notranslate\">\\*</td>\n",
      "    <td>Selects all elements</td>\n",
      "    <td>2</td>\n",
      "  </tr>\n",
      "  <tr>\n",
      "    <td><i><a href=\"sel_element.asp\">element</a></i></td>\n",
      "    <td class=\"notranslate\">p</td>\n",
      "    <td>Selects all &lt;p&gt; elements</td>\n",
      "    <td>1</td>\n",
      "  </tr>\n",
      "  <tr>\n",
      "    <td><i><a href=\"sel_element_comma.asp\">element,element</a></i></td>\n",
      "    <td class=\"notranslate\">div,p</td>\n",
      "    <td>Selects all &lt;div&gt; elements and all &lt;p&gt; elements</td>\n",
      "    <td>1</td>\n",
      "  </tr>\n",
      "  <tr>\n",
      "    <td><a href=\"sel_element_element.asp\"><i>element</i> <i>element</i></a></td>\n",
      "    <td class=\"notranslate\">div p</td>\n",
      "    <td>Selects all &lt;p&gt; elements inside &lt;div&gt; elements</td>\n",
      "    <td>1</td>\n",
      "  </tr>\n",
      "  <tr>\n",
      "    <td><a href=\"sel_element_gt.asp\"><i>element</i>&gt;<i>element</i></a></td>\n",
      "    <td class=\"notranslate\">div&gt;p</td>\n",
      "    <td>Selects all &lt;p&gt; elements where the parent is a &lt;div&gt; element</td>\n",
      "    <td>2</td>\n",
      "  </tr>\n",
      "  <tr>\n",
      "    <td><a href=\"sel_element_pluss.asp\"><i>element</i>+<i>element</i></a></td>\n",
      "    <td class=\"notranslate\">div+p</td>\n",
      "    <td>Selects all &lt;p&gt; elements that are placed immediately after &lt;div&gt; elements</td>\n",
      "    <td>2</td>\n",
      "  </tr>\n",
      "\t<tr>\n",
      "    <td><a href=\"sel_gen_sibling.asp\"><i>element1</i>~<i>element2</i></a></td>\n",
      "    <td>p~ul</td>\n",
      "    <td>Selects every &lt;ul&gt; element that are preceded by a &lt;p&gt; element</td>\n",
      "    <td>3</td>\n",
      "  </tr>\n",
      "\t<tr>\n",
      "    <td><a href=\"sel_attribute.asp\">[<i>attribute</i>]</a></td>\n",
      "    <td class=\"notranslate\">[target]</td>\n",
      "    <td>Selects all elements with a target attribute</td>\n",
      "    <td>2</td>\n",
      "  </tr>\n",
      "\t<tr>\n",
      "    <td><a href=\"sel_attribute_value.asp\">[<i>attribute</i>=<i>value</i>]</a></td>\n",
      "    <td class=\"notranslate\">[target=_blank]</td>\n",
      "    <td>Selects all elements with target=\"_blank\"</td>\n",
      "    <td>2</td>\n",
      "  </tr>\n",
      "\t<tr>\n",
      "    <td><a href=\"sel_attribute_value_contains.asp\">[<i>attribute</i>~=<i>value</i>]</a></td>\n",
      "    <td class=\"notranslate\">[title~=flower]</td>\n",
      "    <td>Selects all elements with a title attribute containing the word \"flower\"</td>\n",
      "    <td>2</td>\n",
      "  </tr>\n",
      "\t<tr>\n",
      "    <td><a href=\"sel_attribute_value_lang.asp\">[<i>attribute</i>|=<i>value</i>]</a></td>\n",
      "    <td class=\"notranslate\">[lang|=en]</td>\n",
      "    <td>Selects all elements with a lang attribute value starting with \"en\"</td>\n",
      "    <td>2</td>\n",
      "  </tr>\n",
      "\t<tr>\n",
      "    <td><a href=\"sel_attr_begin.asp\">[<i>attribute</i>^=<i>value</i>]</a></td>\n",
      "    <td>a[href^=\"https\"]</td>\n",
      "    <td>Selects every &lt;a&gt; element whose href attribute value begins with \"https\"</td>\n",
      "    <td>3</td>\n",
      "  </tr>\n",
      "\t<tr>\n",
      "    <td><a href=\"sel_attr_end.asp\">[<i>attribute</i>\\$=<i>value</i>]</a></td>\n",
      "    <td>a[href$=\".pdf\"]</td>\n",
      "    <td>Selects every &lt;a&gt; element whose href attribute value ends with \".pdf\"</td>\n",
      "    <td>3</td>\n",
      "  </tr>\n",
      "\t<tr>\n",
      "    <td><a href=\"sel_attr_contain.asp\">[<i>attribute</i>\\*=<i>value</i>]</a></td>\n",
      "    <td>a[href*=\"w3schools\"]</td>\n",
      "    <td>Selects every &lt;a&gt; element whose href attribute value contains the substring \n",
      "\t\"w3schools\"</td>\n",
      "    <td>3</td>\n",
      "  </tr>\n",
      "\t<tr>\n",
      "    <td><a href=\"sel_active.asp\">:active</a></td>\n",
      "    <td class=\"notranslate\">a:active</td>\n",
      "    <td>Selects the active link</td>\n",
      "    <td>1</td>\n",
      "  </tr>\n",
      "\t<tr>\n",
      "    <td><a href=\"sel_after.asp\">::after</a></td>\n",
      "    <td class=\"notranslate\">p::after</td>\n",
      "    <td>Insert content after every &lt;p&gt; element</td>\n",
      "    <td>2</td>\n",
      "  </tr>\n",
      "\t<tr>\n",
      "    <td><a href=\"sel_before.asp\">::before</a></td>\n",
      "    <td class=\"notranslate\">p::before</td>\n",
      "    <td>Insert content before&nbsp; the content of every &lt;p&gt; element</td>\n",
      "    <td>2</td>\n",
      "  </tr>\n",
      "\t<tr>\n",
      "    <td><a href=\"sel_checked.asp\">:checked</a></td>\n",
      "    <td>input:checked</td>\n",
      "    <td>Selects every checked &lt;input&gt; element</td>\n",
      "    <td>3</td>\n",
      "  </tr>\n",
      "\t<tr>\n",
      "    <td><a href=\"sel_disabled.asp\">:disabled</a></td>\n",
      "    <td>input:disabled</td>\n",
      "    <td>Selects every disabled &lt;input&gt; element</td>\n",
      "    <td>3</td>\n",
      "  </tr>\n",
      "\t<tr>\n",
      "    <td><a href=\"sel_empty.asp\">:empty</a></td>\n",
      "    <td>p:empty</td>\n",
      "    <td>Selects every &lt;p&gt; element that has no children (including text nodes)</td>\n",
      "    <td>3</td>\n",
      "  </tr>\n",
      "\t<tr>\n",
      "    <td><a href=\"sel_enabled.asp\">:enabled</a></td>\n",
      "    <td>input:enabled</td>\n",
      "    <td>Selects every enabled &lt;input&gt; element</td>\n",
      "    <td>3</td>\n",
      "  </tr>\n",
      "  <tr>\n",
      "    <td><a href=\"sel_firstchild.asp\">:first-child</a></td>\n",
      "    <td class=\"notranslate\">p:first-child</td>\n",
      "    <td>Selects every &lt;p&gt; element that is the first child of its parent</td>\n",
      "    <td>2</td>\n",
      "  </tr>\n",
      "\t<tr>\n",
      "    <td><a href=\"sel_firstletter.asp\">::first-letter</a></td>\n",
      "    <td class=\"notranslate\">p::first-letter</td>\n",
      "    <td>Selects the first letter of every &lt;p&gt; element</td>\n",
      "    <td>1</td>\n",
      "  </tr>\n",
      "\t<tr>\n",
      "    <td><a href=\"sel_firstline.asp\">::first-line</a></td>\n",
      "    <td class=\"notranslate\">p::first-line</td>\n",
      "    <td>Selects the first line of every &lt;p&gt; element</td>\n",
      "    <td>1</td>\n",
      "  </tr>\n",
      "\t<tr>\n",
      "    <td><a href=\"sel_first-of-type.asp\">:first-of-type</a></td>\n",
      "    <td>p:first-of-type</td>\n",
      "    <td>Selects every &lt;p&gt; element that is the first &lt;p&gt; element of its parent</td>\n",
      "    <td>3</td>\n",
      "  </tr>\n",
      "\t<tr>\n",
      "    <td><a href=\"sel_focus.asp\">:focus</a></td>\n",
      "    <td class=\"notranslate\">input:focus</td>\n",
      "    <td>Selects the input element which has focus</td>\n",
      "    <td>2</td>\n",
      "  </tr>\n",
      "\t<tr>\n",
      "    <td><a href=\"sel_hover.asp\">:hover</a></td>\n",
      "    <td class=\"notranslate\">a:hover</td>\n",
      "    <td>Selects links on mouse over</td>\n",
      "    <td>1</td>\n",
      "  </tr>\n",
      "\t<tr>\n",
      "    <td><a href=\"sel_in-range.asp\">:in-range</a></td>\n",
      "    <td class=\"notranslate\">input:in-range</td>\n",
      "    <td>Selects input elements with a value within a specified range</td>\n",
      "    <td>3</td>\n",
      "  </tr>\n",
      "\t<tr>\n",
      "    <td><a href=\"sel_invalid.asp\">:invalid</a></td>\n",
      "    <td class=\"notranslate\">input:invalid</td>\n",
      "    <td>Selects all input elemets with an invalid value</td>\n",
      "    <td>3</td>\n",
      "  </tr>\n",
      "\t<tr>\n",
      "    <td><a href=\"sel_lang.asp\">:lang(<i>language</i>)</a></td>\n",
      "    <td class=\"notranslate\">p:lang(it)</td>\n",
      "    <td>Selects every &lt;p&gt; element with a lang attribute equal to \"it\" \n",
      "\t(Italian)</td>\n",
      "    <td>2</td>\n",
      "  </tr>\n",
      "\t<tr>\n",
      "    <td><a href=\"sel_last-child.asp\">:last-child</a></td>\n",
      "    <td>p:last-child</td>\n",
      "    <td>Selects every &lt;p&gt; element that is the last child of its parent</td>\n",
      "    <td>3</td>\n",
      "  </tr>\n",
      "\t<tr>\n",
      "    <td><a href=\"sel_last-of-type.asp\">:last-of-type</a></td>\n",
      "    <td>p:last-of-type</td>\n",
      "    <td>Selects every &lt;p&gt; element that is the last &lt;p&gt; element of its parent</td>\n",
      "    <td>3</td>\n",
      "  </tr>\n",
      "  <tr>\n",
      "    <td><a href=\"sel_link.asp\">:link</a></td>\n",
      "    <td class=\"notranslate\">a:link</td>\n",
      "    <td>Selects all unvisited links</td>\n",
      "    <td>1</td>\n",
      "  </tr>\n",
      "\t<tr>\n",
      "    <td><a href=\"sel_not.asp\">:not(<i>selector</i>)</a></td>\n",
      "    <td>:not(p)</td>\n",
      "    <td>Selects every element that is not a &lt;p&gt; element</td>\n",
      "    <td>3</td>\n",
      "  </tr>\n",
      "\t<tr>\n",
      "    <td><a href=\"sel_nth-child.asp\">:nth-child(<i>n</i>)</a></td>\n",
      "    <td>p:nth-child(2)</td>\n",
      "    <td>Selects every &lt;p&gt; element that is the second child of its parent</td>\n",
      "    <td>3</td>\n",
      "  </tr>\n",
      "\t<tr>\n",
      "    <td><a href=\"sel_nth-last-child.asp\">:nth-last-child(<i>n</i>)</a></td>\n",
      "    <td>p:nth-last-child(2)</td>\n",
      "    <td>Selects every &lt;p&gt; element that is the second child of its parent, counting \n",
      "\tfrom the last child</td>\n",
      "    <td>3</td>\n",
      "  </tr>\n",
      "\t<tr>\n",
      "    <td><a href=\"sel_nth-last-of-type.asp\">:nth-last-of-type(<i>n</i>)</a></td>\n",
      "    <td>p:nth-last-of-type(2)</td>\n",
      "    <td>Selects every &lt;p&gt; element that is the second &lt;p&gt; element of its parent, counting \n",
      "\tfrom the last child</td>\n",
      "    <td>3</td>\n",
      "  </tr>\n",
      "\t<tr>\n",
      "    <td><a href=\"sel_nth-of-type.asp\">:nth-of-type(<i>n</i>)</a></td>\n",
      "    <td>p:nth-of-type(2)</td>\n",
      "    <td>Selects every &lt;p&gt; element that is the second &lt;p&gt; element of its parent</td>\n",
      "    <td>3</td>\n",
      "  </tr>\n",
      "\t<tr>\n",
      "    <td><a href=\"sel_only-of-type.asp\">:only-of-type</a></td>\n",
      "    <td>p:only-of-type</td>\n",
      "    <td>Selects every &lt;p&gt; element that is the only &lt;p&gt; element of its \n",
      "\tparent</td>\n",
      "    <td>3</td>\n",
      "  </tr>\n",
      "\t<tr>\n",
      "    <td><a href=\"sel_only-child.asp\">:only-child</a></td>\n",
      "    <td>p:only-child</td>\n",
      "    <td>Selects every &lt;p&gt; element that is the only child of its parent</td>\n",
      "    <td>3</td>\n",
      "  </tr>\n",
      "\t<tr>\n",
      "    <td><a href=\"sel_optional.asp\">:optional</a></td>\n",
      "    <td class=\"notranslate\">input:optional</td>\n",
      "    <td>Selects input elements with no \"required\" attribute</td>\n",
      "    <td>3</td>\n",
      "  </tr>\n",
      "\t<tr>\n",
      "    <td><a href=\"sel_out-of-range.asp\">:out-of-range</a></td>\n",
      "    <td class=\"notranslate\">input:out-of-range</td>\n",
      "    <td>Selects input elements with a value outside a specified range</td>\n",
      "    <td>3</td>\n",
      "  </tr>\n",
      "\t<tr>\n",
      "    <td><a href=\"sel_read-only.asp\">:read-only</a></td>\n",
      "    <td class=\"notranslate\">input:read-only</td>\n",
      "    <td>Selects input elements with the \"readonly\" attribute specified</td>\n",
      "    <td>3</td>\n",
      "  </tr>\n",
      "\t<tr>\n",
      "    <td><a href=\"sel_read-write.asp\">:read-write</a></td>\n",
      "    <td class=\"notranslate\">input:read-write</td>\n",
      "    <td>Selects input elements with the \"readonly\" attribute NOT specified</td>\n",
      "    <td>3</td>\n",
      "  </tr>\n",
      "\t<tr>\n",
      "    <td><a href=\"sel_required.asp\">:required</a></td>\n",
      "    <td class=\"notranslate\">input:required</td>\n",
      "    <td>Selects input elements with the \"required\" attribute specified</td>\n",
      "    <td>3</td>\n",
      "  </tr>\n",
      "\t<tr>\n",
      "    <td><a href=\"sel_root.asp\">:root</a></td>\n",
      "    <td>:root</td>\n",
      "    <td>Selects the document's root element</td>\n",
      "    <td>3</td>\n",
      "  </tr>\n",
      "\t<tr>\n",
      "    <td><a href=\"sel_selection.asp\">::selection</a></td>\n",
      "    <td>::selection</td>\n",
      "    <td>Selects the portion of an element that is selected by a user</td>\n",
      "    <td>&nbsp;</td>\n",
      "  </tr>\n",
      "\t<tr>\n",
      "    <td><a href=\"sel_target.asp\">:target</a></td>\n",
      "    <td>#news:target </td>\n",
      "    <td>Selects the current active #news element (clicked on a URL containing that anchor name)</td>\n",
      "    <td>3</td>\n",
      "  </tr>\n",
      "\t<tr>\n",
      "    <td><a href=\"sel_valid.asp\">:valid</a></td>\n",
      "    <td class=\"notranslate\">input:valid</td>\n",
      "    <td>Selects all input elements with a valid value</td>\n",
      "    <td>3</td>\n",
      "  </tr>\n",
      "\t<tr>\n",
      "    <td><a href=\"sel_visited.asp\">:visited</a></td>\n",
      "    <td class=\"notranslate\">a:visited</td>\n",
      "    <td>Selects all visited links</td>\n",
      "    <td>1</td>\n",
      "  </tr>\n",
      "</tbody></table>"
     ]
    },
    {
     "cell_type": "markdown",
     "metadata": {},
     "source": [
      "## 3.2 Hands on with CSS selection\n",
      "\n",
      "Different web-focused parsing libraries allow to use CSS selection. In this course we will see a couple of them. The first one is **LXML**. \n",
      "\n",
      "LXML is build upon the C libraries libxml2 and libxslt. These libraries brings standards-compliant XML support as wells as support for (broken) HTML and are very, very fast!\n",
      "\n",
      "LXML allows to use CSS selection. Let us make some drills with lxml.\n",
      "\n",
      "<div class = \"alert alert-success\" style = \"border-radius:10px;border-width:3px;border-color:darkgreen;font-family:Verdana,sans-serif;font-size:16px;\">**LXML EXERCISES** With the source of python.org\n",
      "<ol>\n",
      "<li>How many paragraphs are on the page?</li>\n",
      "<li>What is the text content of the div wiht the class \"shrubbery\"? What are the links in that same div?</li>\n",
      "<li>What is the text in the code elements?</li>\n",
      "<li><strong>BONUS:</strong> Are there any forms?</li>\n",
      "</ol>\n",
      "</div>"
     ]
    },
    {
     "cell_type": "code",
     "collapsed": true,
     "input": [
      "import urllib2\n",
      "\n",
      "source = urllib2.urlopen('http://python.org')\n",
      "\n",
      "from lxml import html\n",
      "from lxml import cssselect\n",
      "tree = html.document_fromstring(source.read())"
     ],
     "language": "python",
     "metadata": {},
     "outputs": []
    },
    {
     "cell_type": "code",
     "collapsed": true,
     "input": [
      "# Add your code here. Use tree.cssselect(\"\")\n",
      "\n",
      "#len(tree.cssselect('p'))\n",
      "\n",
      "tree.xpath('//div[@class=\"shrubbery\"]/text()')[0]"
     ],
     "language": "python",
     "metadata": {},
     "outputs": []
    },
    {
     "cell_type": "markdown",
     "metadata": {},
     "source": [
      "## 3.3 XPATH as an alternative to CSSSelect\n",
      "\n",
      "we may use // to say anywhere and / to check a descendant and @ to return a certain attribute. We may also use wildcards suchs as * . Thus xpath('//a/div') will look for an 'a' followed with a 'div' anywhere in the document. "
     ]
    },
    {
     "cell_type": "markdown",
     "metadata": {},
     "source": [
      "<div class = \"alert alert-success\" style = \"border-radius:10px;border-width:3px;border-color:darkgreen;font-family:Verdana,sans-serif;font-size:16px;\">\n",
      "**XPATH Exercises**:\n",
      "<ol>\n",
      "<li>Text that are on the lists of the page?</li>\n",
      "<li>All the attributes on the page</li>\n",
      "<li>Is there any link on the page?</li>\n",
      "<li>Can you get the style sheet information?</li>\n",
      "<li>divs that have the class \"contentblock\"</li>\n",
      "<li>what if you remove brackets in the last one?</li>\n",
      "</ol>\n",
      "</div>"
     ]
    },
    {
     "cell_type": "code",
     "collapsed": true,
     "input": [
      "#Ex1\n",
      "tree.xpath('//li/text()')[0]"
     ],
     "language": "python",
     "metadata": {},
     "outputs": []
    },
    {
     "cell_type": "code",
     "collapsed": true,
     "input": [
      "#Ex2\n",
      "tree.xpath('//@*')[0]"
     ],
     "language": "python",
     "metadata": {},
     "outputs": []
    },
    {
     "cell_type": "code",
     "collapsed": true,
     "input": [
      "#Add your code here\n",
      "#Text that are on the lists of the page?\n",
      "#All the attributes on the page\n",
      "\n",
      "#Is there any link on the page?\n",
      "#tree.xpath('//a')\n",
      "\n",
      "#Can you get the style sheet information?\n",
      "#tree.xpath('//link[@rel=\"stylesheet\"]')\n",
      "\n",
      "#divs that have the class \"contentblock\"\n",
      "\n",
      "\n",
      "#what if you remove brackets in the last one?"
     ],
     "language": "python",
     "metadata": {},
     "outputs": []
    },
    {
     "cell_type": "markdown",
     "metadata": {},
     "source": [
      "##3.4 The inexistent data scraping case\n",
      "\n",
      "As a simple exercise try to scrap the numerical value in the text box of the hidden.html file."
     ]
    },
    {
     "cell_type": "code",
     "collapsed": true,
     "input": [
      "from IPython.display import HTML\n",
      "dynamic = HTML('<iframe src=./scraping_notebook_and_files/files/hidden.html width=700 height=300></iframe>')"
     ],
     "language": "python",
     "metadata": {},
     "outputs": []
    },
    {
     "cell_type": "code",
     "collapsed": true,
     "input": [
      "#Write your code here."
     ],
     "language": "python",
     "metadata": {},
     "outputs": []
    },
    {
     "cell_type": "code",
     "collapsed": true,
     "input": [
      "#Solution\n",
      "import urllib2\n",
      "socket = urllib2.urlopen(\"file:./scraping_notebook_and_files/files/hidden.html\")\n",
      "print socket.read()"
     ],
     "language": "python",
     "metadata": {},
     "outputs": []
    },
    {
     "cell_type": "markdown",
     "metadata": {},
     "source": [
      "... and the value?"
     ]
    },
    {
     "cell_type": "markdown",
     "metadata": {},
     "source": [
      "Problems and limitations of LXML and basic scraping techniques,\n",
      "\n",
      "     + DOM loaded content. The page finishes loading and it is being acquired when the response is closed. Any further data will be not loaded.\n",
      "     + Really broken HTML/XML\n",
      "     + Proprietary and login required can be difficult depending on the log and flow of the page.\n",
      "     + JS form interaction"
     ]
    },
    {
     "cell_type": "markdown",
     "metadata": {},
     "source": [
      "###JUST FOR FUN: MARIO MAGIC"
     ]
    },
    {
     "cell_type": "code",
     "collapsed": true,
     "input": [
      "from IPython.display import HTML\n",
      "HTML('<iframe src=./scraping_notebook_and_files/files/mario.html width=700 height=350></iframe>')"
     ],
     "language": "python",
     "metadata": {},
     "outputs": []
    },
    {
     "cell_type": "markdown",
     "metadata": {},
     "source": [
      "# 4 Advanced scraping using automation tools\n",
      "\n",
      "We see the data in our web browser but the data is not directly found in the html. However \"Data is out there\". This is due to the fact that it has been dinamically generated with a function call. Thus, we see that we have two versions of the web page. The first contains static data and function calls, the second contains static data after the interpretation of the function calls. The question now is how we can access this post interpretation data. There are many different ways. One way could be opting for running our own interpreter such as node.js. Another way is to take advantage of the browser interpretation capabilities and run it as an interpreter.\n",
      "\n",
      "Automation tools such as mechanize or selenium are suites with the goal of testing web interfaces automatically from scripts. They allow to start a browser and interact with the web page in the same way a human user would do. We can use these tools for our scraping purposes.\n"
     ]
    },
    {
     "cell_type": "markdown",
     "metadata": {},
     "source": [
      "## The Cepstral demo and our new goal.\n",
      "<small>An updated version of the case study of Asheesh Laroia (PaulProtheus at Github)</small>\n",
      "\n",
      "Our new goal is to deal with dynamically generated data. Our goal is to be able to perform a web scraping as the following case. Cepstral is a text-to-speech provider. Let us check the web page."
     ]
    },
    {
     "cell_type": "code",
     "collapsed": true,
     "input": [
      "from IPython.display import HTML\n",
      "HTML('<iframe src=\"http://cepstral.com\" width=700 height=350></iframe>')"
     ],
     "language": "python",
     "metadata": {},
     "outputs": []
    },
    {
     "cell_type": "markdown",
     "metadata": {},
     "source": [
      "Our goal is to retrieve the audio file that has been played using web scraping techniques. Let us check how can we do it."
     ]
    },
    {
     "cell_type": "code",
     "collapsed": true,
     "input": [
      "#CEPSTRAL DEMO\n",
      "%reset -f\n",
      "#!/usr/bin/python\n",
      "# -*- coding: utf-8 -*-\n",
      "\n",
      "from selenium import webdriver\n",
      "import time\n",
      "\n",
      "url = 'http://www.cepstral.com/en/demos'\n",
      "browser = webdriver.Firefox() #Open Firefox\n",
      "browser.get(url)\n",
      "element = browser.find_element_by_css_selector(\"#demo_text\")\n",
      "element.clear()\n",
      "s='I love my family'\n",
      "element.send_keys(s)\n",
      "browser.find_element_by_css_selector('#demo_submit').click()\n",
      "\n",
      "browser.implicitly_wait(10)\n",
      "browser.find_element_by_css_selector('audio')\n",
      "html=browser.page_source\n",
      "browser.quit()\n"
     ],
     "language": "python",
     "metadata": {},
     "outputs": []
    },
    {
     "cell_type": "code",
     "collapsed": true,
     "input": [
      "#Check the data is in\n",
      "'mp3' in html"
     ],
     "language": "python",
     "metadata": {},
     "outputs": []
    },
    {
     "cell_type": "code",
     "collapsed": true,
     "input": [
      "#locate it\n",
      "html.find('.mp3')"
     ],
     "language": "python",
     "metadata": {},
     "outputs": []
    },
    {
     "cell_type": "code",
     "collapsed": true,
     "input": [
      "chunks=html.split('\"')\n",
      "for chunk in chunks:\n",
      "    if '.mp3' in chunk:\n",
      "        break\n"
     ],
     "language": "python",
     "metadata": {},
     "outputs": []
    },
    {
     "cell_type": "code",
     "collapsed": true,
     "input": [
      "print chunk"
     ],
     "language": "python",
     "metadata": {},
     "outputs": []
    },
    {
     "cell_type": "code",
     "collapsed": true,
     "input": [
      "import urlparse\n",
      "furl=urlparse.urljoin(url,chunk)\n",
      "print furl"
     ],
     "language": "python",
     "metadata": {},
     "outputs": []
    },
    {
     "cell_type": "code",
     "collapsed": true,
     "input": [
      "import os\n",
      "\n",
      "player = \"/usr/local/bin/mpv \" \n",
      "\n",
      "##Replace with mplayer for Linux. \n",
      "#MPV has been installed in MAC OSX using homebrew.\n",
      "#Mplayer has not been installed because of dependency troubles.\n",
      "#brew tap mpv-player/mpv\n",
      "#brew install --HEAD mpv-player/mpv/libass-ct\n",
      "#brew install mpv\n",
      "\n",
      "os.system(player+furl)\n"
     ],
     "language": "python",
     "metadata": {},
     "outputs": []
    },
    {
     "cell_type": "markdown",
     "metadata": {},
     "source": [
      "## 4.1 Starting with Selenium \n",
      "\n",
      "+ Requirements\n",
      "        ''pip install selenium''\n",
      "        \n",
      "If you use Firefox you do not need anything else. Check the following code and it should work fine.\n"
     ]
    },
    {
     "cell_type": "code",
     "collapsed": true,
     "input": [
      "from selenium import webdriver\n",
      "browser = webdriver.Firefox()"
     ],
     "language": "python",
     "metadata": {},
     "outputs": []
    },
    {
     "cell_type": "markdown",
     "metadata": {},
     "source": [
      "If you want to use Chrome you need the Chrome webdriver interface 'chromedriver'. \n",
      "\n",
      "+ Download 'chromedriver' 2.10 at the time of this notebook.\n",
      "+ You need to add the chromedriver path into the executable path. (We will do it directly on python)\n",
      "\n",
      "Check the following code"
     ]
    },
    {
     "cell_type": "code",
     "collapsed": true,
     "input": [
      "'''\n",
      "from selenium import webdriver\n",
      "import os \n",
      "os.environ[\"PATH\"] = '$PATH:.' \n",
      "browser = webdriver.Chrome()\n",
      "'''"
     ],
     "language": "python",
     "metadata": {},
     "outputs": []
    },
    {
     "cell_type": "markdown",
     "metadata": {},
     "source": [
      "<div class = \"alert alert-info\" style = \"border-radius:10px;border-width:3px;border-color:darkblue;font-family:Verdana,sans-serif;font-size:16px;\">**Basic manipulation in Selenium:**\n",
      "<p>\n",
      "A webdriver instance allows to manipulate the web session, control cookies, retrieve the html code or find elements in the source code.\n",
      "</p>\n",
      "Given a webdriver instance (e.g.<span style = \"font-family:Courier;\">\n",
      "            browser = webdriver.Firefox()</span>) the most relevant methods\n",
      "\n",
      "<ul>\n",
      "<li>**Open URL:**  .get(url) (e.g.\n",
      "<span style = \"font-family:Courier;\"> browser.get(url)</span>)</li>\n",
      "<li>**Selection: ** .find_element(s)... [element will return the first, elements the complete list]\n",
      "<ul>\n",
      "<li>..._by_link_text('foo') - find the link with text foo</li>\n",
      "<li>..._by_partial_link_text() - similar to contains ...</li>\n",
      "<li>..._by_css_selector()</li>\n",
      "<li>..._by_tag_name()</li>\n",
      "<li>..._by_xpath()</li>\n",
      "<li>..._by_class_name()</li>\n",
      "</ul>\n",
      "</li>\n",
      "<li>**Retrieve source: ** .page_source</li>\n",
      "  \n",
      "</ul>\n",
      "</div>"
     ]
    },
    {
     "cell_type": "markdown",
     "metadata": {},
     "source": [
      "<div class = \"alert alert-info\" style = \"background-color:lightyellow;border-radius:10px;border-width:3px;border-color:darkorange;font-family:Verdana,sans-serif;font-size:16px;color:brown\">**Other web driver utilities:**\n",
      "<ul>\n",
      "<li>browser.execute_script('window.close()') - execute any javascript on a load page</li>\n",
      "<li>brosers.save_screenshot('foo.png')</li>\n",
      "<li>browser.switch_to_alert(): handle pop-ups automatically</li>\n",
      "<li>browser.forward() / browser.back(): navigation</li>\n",
      "</ul>\n",
      "</div>"
     ]
    },
    {
     "cell_type": "markdown",
     "metadata": {},
     "source": [
      "<div class = \"alert alert-success\" style = \"border-radius:10px;border-width:3px;border-color:darkgreen;font-family:Verdana,sans-serif;font-size:16px;\">**Exercise: Simple retrieval of a page source with AJAX.**\n",
      "The prices of a search flight on google is a dinamically generated page. Let us suppose we want to find the cheapest price for a certain flight. We may access the google flights by means of the API.\n",
      "</div>"
     ]
    },
    {
     "cell_type": "code",
     "collapsed": true,
     "input": [
      "%reset -f\n",
      "from selenium import webdriver\n",
      "import time\n",
      "import os \n",
      "os.environ[\"PATH\"] = '$PATH:.' \n",
      "url = 'https://www.google.es/flights/#search;f=BCN;t=MAD;d=2014-08-15;r=2014-08-20;tt=o;sel=BCNMAD0VY1019' #Poseu el nom de la p\u00e0gina web\n",
      "browser = webdriver.Firefox() \n",
      "browser.get(url)\n",
      "time.sleep(2) #Wait for the page to load\n",
      "browser.execute_script(\"window.scrollTo(0,document.body.scrollHeight);\") #Scroll down\n",
      "html=browser.page_source"
     ],
     "language": "python",
     "metadata": {},
     "outputs": [],
     "prompt_number": 15
    },
    {
     "cell_type": "code",
     "collapsed": true,
     "input": [
      "print html"
     ],
     "language": "python",
     "metadata": {},
     "outputs": [
      {
       "output_type": "stream",
       "stream": "stdout",
       "text": [
        "<!DOCTYPE html>\r\n",
        "<html xmlns=\"http://www.w3.org/1999/xhtml\"><head><style type=\"text/css\">.gm-style .gm-style-cc span,.gm-style .gm-style-cc a,.gm-style .gm-style-mtc div{font-size:10px}</style><link type=\"text/css\" rel=\"stylesheet\" href=\"https://fonts.googleapis.com/css?family=Roboto:300,400,500,700\" /><style type=\"text/css\">@media print {  .gm-style .gmnoprint, .gmnoprint {    display:none  }}@media screen {  .gm-style .gmnoscreen, .gmnoscreen {    display:none  }}</style><style type=\"text/css\">.gm-style{font-family:Roboto,Arial,sans-serif;font-size:11px;font-weight:400;text-decoration:none}</style><style>.GKJYXHBAS{display:inline-block;padding:0 8px;margin:0;height:27px;min-width:54px;-webkit-box-sizing:content-box;-moz-box-sizing:content-box;box-sizing:content-box;font-size:11px;font-weight:bold;text-align:center;border-width:1px;border-style:solid;-webkit-border-radius:2px;-moz-border-radius:2px;border-radius:2px;cursor:default;-webkit-user-select:none;-moz-user-select:none;-webkit-transition:all 0.218s;-moz-transition:all 0.218s;-o-transition:all 0.218s;transition:all 0.218s;-webkit-transition:border-width 0;-moz-transition:border-width 0;-o-transition:border-width 0;transition:border-width 0;-webkit-transition:margin 0;-moz-transition:margin 0;-o-transition:margin 0;transition:margin 0;}.GKJYXHBAS .GKJYXHBHR{height:27px;line-height:27px;}.GKJYXHBAS .GKJYXHBPR{display:inline-block;height:27px;background-repeat:no-repeat;background-position:center;}.GKJYXHBAS.GKJYXHBFS.GKJYXHBLR{-webkit-border-radius:2px 0 0 2px;-moz-border-radius:2px 0 0 2px;border-radius:2px 0 0 2px;}.GKJYXHBAS.GKJYXHBFS.GKJYXHBCS{margin-left:-1px;-webkit-border-radius:0;-moz-border-radius:0;border-radius:0;margin-left:-1px;}.GKJYXHBAS.GKJYXHBFS.GKJYXHBBS{-webkit-border-radius:0 2px 2px 0;-moz-border-radius:0 2px 2px 0;border-radius:0 2px 2px 0;margin-left:-1px;}.GKJYXHBAS.GKJYXHBFS{position:relative;z-index:0;}.GKJYXHBAS.GKJYXHBFS:active,.GKJYXHBAS.GKJYXHBFS:focus,.GKJYXHBAS.GKJYXHBFS.GKJYXHBOR,.GKJYXHBAS.GKJYXHBFS:hover{z-index:1;}.GKJYXHBAS:hover{-webkit-box-shadow:0 1px 1px rgba(0, 0, 0, 0.1);-moz-box-shadow:0 1px 1px rgba(0, 0, 0, 0.1);box-shadow:0 1px 1px rgba(0, 0, 0, 0.1);-webkit-transition:all 0;-moz-transition:all 0;-o-transition:all 0;transition:all 0;}.GKJYXHBAS:focus,.GKJYXHBAS.GKJYXHBOR{-webkit-box-shadow:inset 0 0 0 1px rgba(255, 255, 255, 0.5);-moz-box-shadow:inset 0 0 0 1px rgba(255, 255, 255, 0.5);box-shadow:inset 0 0 0 1px rgba(255, 255, 255, 0.5);outline:0;}.GKJYXHBAS:focus:hover,.GKJYXHBAS.GKJYXHBOR:hover{-webkit-box-shadow:inset 0 0 0 1px #fff, 0 1px 1px rgba(0, 0, 0, 0.1);-moz-box-shadow:inset 0 0 0 1px #fff, 0 1px 1px rgba(0, 0, 0, 0.1);box-shadow:inset 0 0 0 1px #fff, 0 1px 1px rgba(0, 0, 0, 0.1);}.GKJYXHBAS::-moz-focus-inner{border:0;}.GKJYXHBAS.GKJYXHBIR{cursor:default;pointer-events:none;}.GKJYXHBJR{height:4px;width:7px;overflow:hidden;background:url(\"data:image/png;base64,iVBORw0KGgoAAAANSUhEUgAAAAcAAAAECAYAAABCxiV9AAAAG0lEQVR42mOIjIz8jwszgABOCRjAKYGsAJkPAKT/IKHcRfUJAAAAAElFTkSuQmCC\") -0px -0px  no-repeat;float:right;position:relative;margin-top:12px;margin-left:7px;}.GKJYXHBKR{height:11px;width:7px;overflow:hidden;background:url(\"data:image/png;base64,iVBORw0KGgoAAAANSUhEUgAAAAcAAAALCAYAAACzkJeoAAAAKklEQVR42mNgQAKRkZH/GbABkAQM45RAUYBNAqsJVAQE7SToGIKuRJcAAIvXQUGlsDQ3AAAAAElFTkSuQmCC\") -0px -0px  no-repeat;float:right;position:relative;margin-top:8px;margin-left:7px;}.GKJYXHBAS.GKJYXHBDS{height:17px;}.GKJYXHBAS.GKJYXHBDS .GKJYXHBHR{height:17px;line-height:17px;}.GKJYXHBAS.GKJYXHBDS .GKJYXHBJR{margin-top:6px;}.GKJYXHBAS.GKJYXHBNR .GKJYXHBJR,.GKJYXHBAS.GKJYXHBNR .GKJYXHBKR{opacity:0.8;}.GKJYXHBAS.GKJYXHBNR:hover .GKJYXHBJR,.GKJYXHBAS.GKJYXHBNR:hover .GKJYXHBKR,.GKJYXHBAS.GKJYXHBNR.GKJYXHBGS .GKJYXHBJR,.GKJYXHBAS.GKJYXHBNR.GKJYXHBGS .GKJYXHBKR{opacity:1;}.GKJYXHBAS.GKJYXHBNR.GKJYXHBIR .GKJYXHBJR,.GKJYXHBAS.GKJYXHBNR.GKJYXHBIR .GKJYXHBKR{opacity:0.5;}.GKJYXHBES .GKJYXHBJR,.GKJYXHBMR .GKJYXHBJR,.GKJYXHBGR .GKJYXHBJR{height:4px;width:7px;overflow:hidden;background:url(\"data:image/png;base64,iVBORw0KGgoAAAANSUhEUgAAAAcAAAAECAYAAABCxiV9AAAAGElEQVR42mP4jwcwgABOCRjAKYGsAJkPAPZ6P8Fa7KA+AAAAAElFTkSuQmCC\") -0px -0px  no-repeat;}.GKJYXHBES .GKJYXHBKR,.GKJYXHBMR .GKJYXHBKR,.GKJYXHBGR .GKJYXHBKR{height:11px;width:7px;overflow:hidden;background:url(\"data:image/png;base64,iVBORw0KGgoAAAANSUhEUgAAAAcAAAALCAYAAACzkJeoAAAAJ0lEQVR42mNgQAL/gYABG/iPBHBKoCj4jwcw0AgQtJOgYwi6El0CAHYgf4H/4ZyCAAAAAElFTkSuQmCC\") -0px -0px  no-repeat;}.GKJYXHBAS.GKJYXHBNR{border-color:#dcdcdc;border-color:rgba(0, 0, 0, 0.1);color:#444;background-color:#f5f5f5;background-image:-webkit-linear-gradient(top, #f5f5f5, #f1f1f1);background-image:-moz-linear-gradient(top, #f5f5f5, #f1f1f1);background-image:-ms-linear-gradient(top, #f5f5f5, #f1f1f1);background-image:-o-linear-gradient(top, #f5f5f5, #f1f1f1);background-image:linear-gradient(top, #f5f5f5, #f1f1f1);}.GKJYXHBAS.GKJYXHBNR:hover{border-color:#c6c6c6;color:#222;background-color:#f8f8f8;background-image:-webkit-linear-gradient(top, #f8f8f8, #f1f1f1);background-image:-moz-linear-gradient(top, #f8f8f8, #f1f1f1);background-image:-ms-linear-gradient(top, #f8f8f8, #f1f1f1);background-image:-o-linear-gradient(top, #f8f8f8, #f1f1f1);background-image:linear-gradient(top, #f8f8f8, #f1f1f1);}.GKJYXHBAS.GKJYXHBNR:focus,.GKJYXHBAS.GKJYXHBNR.GKJYXHBOR{border-color:#4d90fe;}.GKJYXHBAS.GKJYXHBNR:active,.GKJYXHBAS.GKJYXHBNR:focus:active,.GKJYXHBAS.GKJYXHBNR.GKJYXHBOR:active{border-color:#c6c6c6;color:#222;background-color:#f6f6f6;background-image:-webkit-linear-gradient(top, #f6f6f6, #f1f1f1);background-image:-moz-linear-gradient(top, #f6f6f6, #f1f1f1);background-image:-ms-linear-gradient(top, #f6f6f6, #f1f1f1);background-image:-o-linear-gradient(top, #f6f6f6, #f1f1f1);background-image:linear-gradient(top, #f6f6f6, #f1f1f1);-webkit-box-shadow:inset 0 1px 2px rgba(0, 0, 0, 0.1);-moz-box-shadow:inset 0 1px 2px rgba(0, 0, 0, 0.1);box-shadow:inset 0 1px 2px rgba(0, 0, 0, 0.1);}.GKJYXHBAS.GKJYXHBNR.GKJYXHBGS,.GKJYXHBAS.GKJYXHBNR.GKJYXHBGS:hover{border-color:#ccc;background-color:#eee;background-image:-webkit-linear-gradient(top, #eee, #e0e0e0);background-image:-moz-linear-gradient(top, #eee, #e0e0e0);background-image:-ms-linear-gradient(top, #eee, #e0e0e0);background-image:-o-linear-gradient(top, #eee, #e0e0e0);background-image:linear-gradient(top, #eee, #e0e0e0);-webkit-box-shadow:inset 0 1px 2px rgba(0, 0, 0, 0.1);-moz-box-shadow:inset 0 1px 2px rgba(0, 0, 0, 0.1);box-shadow:inset 0 1px 2px rgba(0, 0, 0, 0.1);}.GKJYXHBAS.GKJYXHBNR:hover .GKJYXHBPR{opacity:0.72;}.GKJYXHBAS.GKJYXHBNR .GKJYXHBPR{opacity:0.55;}.GKJYXHBAS.GKJYXHBNR:active .GKJYXHBPR{opacity:1;}.GKJYXHBAS.GKJYXHBNR.GKJYXHBGS .GKJYXHBPR{opacity:0.9;}.GKJYXHBAS.GKJYXHBNR.GKJYXHBIR{background:none;border-color:#f3f3f3;border-color:rgba(0, 0, 0, 0.05);color:#b8b8b8;}.GKJYXHBAS.GKJYXHBNR.GKJYXHBIR .GKJYXHBPR{opacity:0.18;}.GKJYXHBAS.GKJYXHBGR,.GKJYXHBAS.GKJYXHBMR,.GKJYXHBAS.GKJYXHBES{color:white;}.GKJYXHBAS.GKJYXHBGR:active,.GKJYXHBAS.GKJYXHBMR:active,.GKJYXHBAS.GKJYXHBES:active{color:white;-webkit-box-shadow:inset 0 1px 2px rgba(0, 0, 0, 0.3);-moz-box-shadow:inset 0 1px 2px rgba(0, 0, 0, 0.3);box-shadow:inset 0 1px 2px rgba(0, 0, 0, 0.3);}.GKJYXHBAS.GKJYXHBGR.GKJYXHBIR,.GKJYXHBAS.GKJYXHBMR.GKJYXHBIR,.GKJYXHBAS.GKJYXHBES.GKJYXHBIR{background-image:none;opacity:0.5;}.GKJYXHBAS.GKJYXHBGR{border-color:#3079ed;background-color:#4d90fe;background-image:-webkit-linear-gradient(top, #4d90fe, #4787ed);background-image:-moz-linear-gradient(top, #4d90fe, #4787ed);background-image:-ms-linear-gradient(top, #4d90fe, #4787ed);background-image:-o-linear-gradient(top, #4d90fe, #4787ed);background-image:linear-gradient(top, #4d90fe, #4787ed);}.GKJYXHBAS.GKJYXHBGR:focus,.GKJYXHBAS.GKJYXHBGR.GKJYXHBOR{border-color:#4d90fe;}.GKJYXHBAS.GKJYXHBGR:active,.GKJYXHBAS.GKJYXHBGR:hover{border-color:#2f5bb7;background-color:#357ae8;background-image:-webkit-linear-gradient(top, #4d90fe, #357ae8);background-image:-moz-linear-gradient(top, #4d90fe, #357ae8);background-image:-ms-linear-gradient(top, #4d90fe, #357ae8);background-image:-o-linear-gradient(top, #4d90fe, #357ae8);background-image:linear-gradient(top, #4d90fe, #357ae8);}.GKJYXHBAS.GKJYXHBMR{border-color:#29691d;background-color:#3d9400;background-image:-webkit-linear-gradient(top, #3d9400, #398a00);background-image:-moz-linear-gradient(top, #3d9400, #398a00);background-image:-ms-linear-gradient(top, #3d9400, #398a00);background-image:-o-linear-gradient(top, #3d9400, #398a00);background-image:linear-gradient(top, #3d9400, #398a00);text-shadow:0 1px rgba(0, 0, 0, 0.1);}.GKJYXHBAS.GKJYXHBMR:hover{border-color:#2d6200;background-color:#368200;background-image:-webkit-linear-gradient(top, #3d9400, #368200);background-image:-moz-linear-gradient(top, #3d9400, #368200);background-image:-ms-linear-gradient(top, #3d9400, #368200);background-image:-o-linear-gradient(top, #3d9400, #368200);background-image:linear-gradient(top, #3d9400, #368200);text-shadow:0 1px rgba(0, 0, 0, 0.3);}.GKJYXHBAS.GKJYXHBMR:focus,.GKJYXHBAS.GKJYXHBMR.GKJYXHBOR{border-color:#29691d;}.GKJYXHBAS.GKJYXHBES{border-color:#dcdcdc;border-color:rgba(0, 0, 0, 0.1);background-color:#d14836;background-image:-webkit-linear-gradient(top, #dd4b39, #d14836);background-image:-moz-linear-gradient(top, #dd4b39, #d14836);background-image:-ms-linear-gradient(top, #dd4b39, #d14836);background-image:-o-linear-gradient(top, #dd4b39, #d14836);background-image:linear-gradient(top, #dd4b39, #d14836);text-transform:uppercase;letter-spacing:1;text-shadow:0 1px rgba(0, 0, 0, 0.1);}.GKJYXHBAS.GKJYXHBES:hover{border-color:#b0281a;border-bottom-color:#af301f;background-color:#c53727;background-image:-webkit-linear-gradient(top, #dd4b39, #c53727);background-image:-moz-linear-gradient(top, #dd4b39, #c53727);background-image:-ms-linear-gradient(top, #dd4b39, #c53727);background-image:-o-linear-gradient(top, #dd4b39, #c53727);background-image:linear-gradient(top, #dd4b39, #c53727);-webkit-box-shadow:0 1px 1px rgba(0, 0, 0, 0.2);-moz-box-shadow:0 1px 1px rgba(0, 0, 0, 0.2);box-shadow:0 1px 1px rgba(0, 0, 0, 0.2);}.GKJYXHBAS.GKJYXHBES:focus,.GKJYXHBAS.GKJYXHBES.GKJYXHBOR{border-color:#d14836;}.GKJYXHBAS.GKJYXHBES:focus:hover,.GKJYXHBAS.GKJYXHBES.GKJYXHBOR:hover{-webkit-box-shadow:inset 0 0 0 1px #fff, 0 1px 1px rgba(0, 0, 0, 0.2);-moz-box-shadow:inset 0 0 0 1px #fff, 0 1px 1px rgba(0, 0, 0, 0.2);box-shadow:inset 0 0 0 1px #fff, 0 1px 1px rgba(0, 0, 0, 0.2);}.GKJYXHBAS.GKJYXHBES:active,.GKJYXHBAS.GKJYXHBES:focus:active,.GKJYXHBAS.GKJYXHBES.GKJYXHBOR:active{border-color:#992a1b;background-color:#b0281a;background-image:-webkit-linear-gradient(top, #dd4b39, #b0281a);background-image:-moz-linear-gradient(top, #dd4b39, #b0281a);background-image:-ms-linear-gradient(top, #dd4b39, #b0281a);background-image:-o-linear-gradient(top, #dd4b39, #b0281a);background-image:linear-gradient(top, #dd4b39, #b0281a);-webkit-box-shadow:0 1px 1px rgba(0, 0, 0, 0.2);-moz-box-shadow:0 1px 1px rgba(0, 0, 0, 0.2);box-shadow:0 1px 1px rgba(0, 0, 0, 0.2);}.GKJYXHBAS.GKJYXHBES.GKJYXHBGS,.GKJYXHBAS.GKJYXHBES.GKJYXHBGS:hover{border-color:#992a1b;background-color:#b0281a;background-image:-webkit-linear-gradient(top, #dd4b39, #b0281a);background-image:-moz-linear-gradient(top, #dd4b39, #b0281a);background-image:-ms-linear-gradient(top, #dd4b39, #b0281a);background-image:-o-linear-gradient(top, #dd4b39, #b0281a);background-image:linear-gradient(top, #dd4b39, #b0281a);-webkit-box-shadow:0 1px 1px rgba(0, 0, 0, 0.2);-moz-box-shadow:0 1px 1px rgba(0, 0, 0, 0.2);box-shadow:0 1px 1px rgba(0, 0, 0, 0.2);-webkit-box-shadow:inset 0 1px 2px rgba(0, 0, 0, 0.2);-moz-box-shadow:inset 0 1px 2px rgba(0, 0, 0, 0.2);box-shadow:inset 0 1px 2px rgba(0, 0, 0, 0.2);}.GKJYXHBAS.GKJYXHBES.GKJYXHBIR{border-color:#b0281a;background-color:#d14836;}</style><meta content=\"text/html; charset=UTF-8\" http-equiv=\"content-type\" /><meta content=\"baseUrl=/flights/static/\" name=\"flights::gwt:property\" /><title>Vuelos de Barcelona a Madrid - B\u00fasqueda de Google</title>\n",
        "<meta content=\"La b\u00fasqueda de vuelos de Google te permite seleccionar un vuelo en una sencilla lista de resultados, explorar destinos en un mapa y buscar las fechas en las que se ofrecen las mejores ofertas de vuelos.\" name=\"description\" /><script type=\"text/javascript\" async=\"\" src=\"https://ssl.google-analytics.com/ga.js\" style=\"\"></script><script src=\"https://apis.google.com/_/scs/abc-static/_/js/k=gapi.gapi.en.3_mJ9Wvc9FU.O/m=gapi_iframes,googleapis_client,plusone/rt=j/sv=1/d=1/ed=1/rs=AItRSTPLYqq5loOR9078NjrWstRw2XtJlg/cb=gapi.loaded_0\" async=\"\"></script><script type=\"text/javascript\" language=\"javascript\">\n",
        "var __JS_ILT__ = new Date();\n",
        "</script>\n",
        "<style type=\"text/css\">@-moz-keyframes gb__a{0%{opacity:0}50%{opacity:1}}@keyframes gb__a{0%{opacity:0}50%{opacity:1}}.gb_Qb{display:none!important}.gb_Ic{left:0;min-width:1152px;position:absolute;top:0;-moz-user-select:-moz-none;width:100%}.gb_Pb{font:13px/27px Arial,sans-serif;position:relative;height:60px;width:100%}#gba{height:60px}#gba.gb_Jc{height:90px}.gb_Pb&gt;.gb_f{height:60px;line-height:58px;vertical-align:middle}.gb_Pb::before{background:#e5e5e5;bottom:0;content:'';display:none;height:1px;left:0;position:absolute;right:0}.gb_Pb{background:#f1f1f1}.gb_Kc .gb_Pb{background:#fff}.gb_Kc .gb_Pb::before{display:none}.gb_k .gb_Pb,.gb_l .gb_Pb{background:transparent}.gb_k .gb_Pb::before{background:#e1e1e1;background:rgba(0,0,0,.12)}.gb_l .gb_Pb::before{background:#333;background:rgba(255,255,255,.2)}.gb_f{display:inline-block;flex:0 0 auto;flex:0 0 main-size}.gb_f.gb_Lc{float:right;order:1}.gb_Mc{white-space:nowrap;display:-webkit-flex;display:flex;margin-left:0!important;margin-right:0!important}.gb_f{margin-left:0!important;margin-right:0!important}.gb_Na{background-image:url('//ssl.gstatic.com/gb/images/v1_4118d12d.png');background-size:134px 1238px}@media (min-resolution:1.25dppx),(-webkit-min-device-pixel-ratio:1.25),(min-device-pixel-ratio:1.25){.gb_Na{background-image:url('//ssl.gstatic.com/gb/images/v2_0cb9998e.png')}}.gb_db{display:inline-block;padding:0 0 0 15px;vertical-align:middle}.gb_db:first-child,#gbsfw:first-child+.gb_db{padding-left:0}.gb_Sa{position:relative}.gb_A{display:inline-block;outline:none;vertical-align:middle;-moz-border-radius:2px;border-radius:2px;-moz-box-sizing:border-box;box-sizing:border-box;height:30px;width:30px}#gb#gb a.gb_A{color:#404040;cursor:default;text-decoration:none}#gb#gb a.gb_A:hover,#gb#gb a.gb_A:focus{color:#000}.gb_ea{border-color:transparent;border-bottom-color:#fff;border-style:dashed dashed solid;border-width:0 8.5px 8.5px;display:none;position:absolute;left:6.5px;top:37px;z-index:1;height:0;width:0;-moz-animation:gb__a .2s;animation:gb__a .2s}.gb_fa{border-color:transparent;border-style:dashed dashed solid;border-width:0 8.5px 8.5px;display:none;position:absolute;left:6.5px;z-index:1;height:0;width:0;-moz-animation:gb__a .2s;animation:gb__a .2s;border-bottom-color:#ccc;border-bottom-color:rgba(0,0,0,.2);top:36px}x:-o-prefocus,div.gb_fa{border-bottom-color:#ccc}.gb_D{background:#fff;border:1px solid #ccc;border-color:rgba(0,0,0,.2);box-shadow:0 2px 10px rgba(0,0,0,.2);display:none;outline:none;overflow:hidden;position:absolute;right:0;top:44px;-moz-animation:gb__a .2s;animation:gb__a .2s;-moz-border-radius:2px;border-radius:2px;-moz-user-select:text}.gb_db.gb_Ea .gb_ea,.gb_db.gb_Ea .gb_fa,.gb_db.gb_Ea .gb_D{display:block}.gb_9b{position:absolute;right:0;top:44px;z-index:-1}.gb_B .gb_fa{border:0;border-left:1px solid rgba(0,0,0,.2);border-top:1px solid rgba(0,0,0,.2);height:14px;width:14px;-moz-transform:rotate(45deg);transform:rotate(45deg)}.gb_B .gb_ea{border:0;border-left:1px solid rgba(0,0,0,.2);border-top:1px solid rgba(0,0,0,.2);height:14px;width:14px;-moz-transform:rotate(45deg);transform:rotate(45deg);border-color:#fff;background:#fff}.gb_Pb ::-webkit-scrollbar{height:15px;width:15px}.gb_Pb ::-webkit-scrollbar-button{height:0;width:0}.gb_Pb ::-webkit-scrollbar-thumb{background-clip:padding-box;background-color:rgba(0,0,0,.3);border:5px solid transparent;border-radius:10px;min-height:20px;min-width:20px;height:5px;width:5px}.gb_Pb ::-webkit-scrollbar-thumb:hover,.gb_Pb ::-webkit-scrollbar-thumb:active{background-color:rgba(0,0,0,.4)}#gb#gb a.gb_c,#gb#gb a.gb_d{color:#404040;text-decoration:none}#gb#gb a.gb_d:hover,#gb#gb a.gb_d:focus{color:#000;text-decoration:underline}.gb_e.gb_f{display:none;padding-left:15px;vertical-align:middle}.gb_e.gb_f:first-child{padding-left:0}.gb_g.gb_f{display:inline-block;flex:0 1 auto;flex:0 1 main-size;display:-webkit-flex;display:flex}.gb_h .gb_g{display:none}.gb_e .gb_d{display:inline-block;line-height:24px;outline:none;vertical-align:middle}.gb_g .gb_d{min-width:60px;overflow:hidden;flex:0 1 auto;flex:0 1 main-size;text-overflow:ellipsis}.gb_i .gb_g .gb_d{min-width:0}.gb_j .gb_g .gb_d{width:0!important}.gb_k .gb_d{font-weight:bold;text-shadow:0 1px 1px rgba(255,255,255,.9)}.gb_l .gb_d{font-weight:bold;text-shadow:0 1px 1px rgba(0,0,0,.6)}#gb#gb.gb_l a.gb_d{color:#fff}.gb_z .gb_A{background-position:-69px -467px;opacity:.55}.gb_k .gb_z .gb_A{background-position:-94px -363px;opacity:.7}.gb_l .gb_z .gb_A{background-position:-69px -666px;opacity:1}.gb_b .gb_z .gb_A::before{left:-69px;top:-467px}.gb_b.gb_k .gb_z .gb_A::before{left:-94px;top:-363px}.gb_b.gb_l .gb_z .gb_A::before{left:-69px;top:-666px}.gb_B .gb_C{position:relative}.gb_a.gb_a{background-size:64px 64px}#gb2 .gb_a{background-image:url('//ssl.gstatic.com/gb/images/a/3a1e625196.png')}.gb_b #gb2 .gb_a::before{content:url('//ssl.gstatic.com/gb/images/a/3a1e625196.png')}#gb22 .gb_a{background-image:url('//ssl.gstatic.com/gb/images/a/45e593839c.png')}.gb_b #gb22 .gb_a::before{content:url('//ssl.gstatic.com/gb/images/a/45e593839c.png')}#gb45 .gb_a{background-image:url('//ssl.gstatic.com/gb/images/a/f420d06f66.png')}.gb_b #gb45 .gb_a::before{content:url('//ssl.gstatic.com/gb/images/a/f420d06f66.png')}#gb72 .gb_a{background-image:url('//ssl.gstatic.com/gb/images/a/86c8ced049.png')}.gb_b #gb72 .gb_a::before{content:url('//ssl.gstatic.com/gb/images/a/86c8ced049.png')}#gb117 .gb_a{background-image:url('//ssl.gstatic.com/gb/images/a/142da27578.png')}.gb_b #gb117 .gb_a::before{content:url('//ssl.gstatic.com/gb/images/a/142da27578.png')}#gb136 .gb_a{background-image:url('//ssl.gstatic.com/gb/images/a/cdd18852d7.png')}.gb_b #gb136 .gb_a::before{content:url('//ssl.gstatic.com/gb/images/a/cdd18852d7.png')}#gb166 .gb_a{background-image:url('//ssl.gstatic.com/gb/images/a/f4aea5a8b1.png')}.gb_b #gb166 .gb_a::before{content:url('//ssl.gstatic.com/gb/images/a/f4aea5a8b1.png')}#gb171 .gb_a{background-image:url('//ssl.gstatic.com/gb/images/a/c80a7322a3.png')}.gb_b #gb171 .gb_a::before{content:url('//ssl.gstatic.com/gb/images/a/c80a7322a3.png')}#gb177 .gb_a{background-image:url('//ssl.gstatic.com/gb/images/a/4653513b7d.png')}.gb_b #gb177 .gb_a::before{content:url('//ssl.gstatic.com/gb/images/a/4653513b7d.png')}#gb206 .gb_a{background-image:url('//ssl.gstatic.com/gb/images/a/a031540067.png')}.gb_b #gb206 .gb_a::before{content:url('//ssl.gstatic.com/gb/images/a/a031540067.png')}#gb207 .gb_a{background-image:url('//ssl.gstatic.com/gb/images/a/e57927daa5.png')}.gb_b #gb207 .gb_a::before{content:url('//ssl.gstatic.com/gb/images/a/e57927daa5.png')}#gb211 .gb_a{background-image:url('//ssl.gstatic.com/gb/images/a/c03dda0b34.png')}.gb_b #gb211 .gb_a::before{content:url('//ssl.gstatic.com/gb/images/a/c03dda0b34.png')}#gb217 .gb_a{background-image:url('//ssl.gstatic.com/gb/images/a/71060be5b3.png')}.gb_b #gb217 .gb_a::before{content:url('//ssl.gstatic.com/gb/images/a/71060be5b3.png')}#gb228 .gb_a{background-image:url('//ssl.gstatic.com/gb/images/a/5d18651966.png')}.gb_b #gb228 .gb_a::before{content:url('//ssl.gstatic.com/gb/images/a/5d18651966.png')}#gb249 .gb_a{background-image:url('//ssl.gstatic.com/gb/images/a/afa40f6e42.png')}.gb_b #gb249 .gb_a::before{content:url('//ssl.gstatic.com/gb/images/a/afa40f6e42.png')}#gb260 .gb_a{background-image:url('//ssl.gstatic.com/gb/images/a/29adc12d690.png')}.gb_b #gb260 .gb_a::before{content:url('//ssl.gstatic.com/gb/images/a/29adc12d690.png')}#gb261 .gb_a{background-image:url('//ssl.gstatic.com/gb/images/a/0b26f6f8e4.png')}.gb_b #gb261 .gb_a::before{content:url('//ssl.gstatic.com/gb/images/a/0b26f6f8e4.png')}@media (min-resolution:1.25dppx),(-webkit-min-device-pixel-ratio:1.25),(min-device-pixel-ratio:1.25){#gb2 .gb_a{background-image:url('//ssl.gstatic.com/gb/images/a/438087d3df.png')}.gb_b #gb2 .gb_a::before{content:url('//ssl.gstatic.com/gb/images/a/438087d3df.png')}#gb22 .gb_a{background-image:url('//ssl.gstatic.com/gb/images/a/95b1579b0a.png')}.gb_b #gb22 .gb_a::before{content:url('//ssl.gstatic.com/gb/images/a/95b1579b0a.png')}#gb45 .gb_a{background-image:url('//ssl.gstatic.com/gb/images/a/9c561d4392.png')}.gb_b #gb45 .gb_a::before{content:url('//ssl.gstatic.com/gb/images/a/9c561d4392.png')}#gb72 .gb_a{background-image:url('//ssl.gstatic.com/gb/images/a/80beb1dc89.png')}.gb_b #gb72 .gb_a::before{content:url('//ssl.gstatic.com/gb/images/a/80beb1dc89.png')}#gb117 .gb_a{background-image:url('//ssl.gstatic.com/gb/images/a/e3cbb9b858.png')}.gb_b #gb117 .gb_a::before{content:url('//ssl.gstatic.com/gb/images/a/e3cbb9b858.png')}#gb136 .gb_a{background-image:url('//ssl.gstatic.com/gb/images/a/3a44871813.png')}.gb_b #gb136 .gb_a::before{content:url('//ssl.gstatic.com/gb/images/a/3a44871813.png')}#gb166 .gb_a{background-image:url('//ssl.gstatic.com/gb/images/a/a19cb6b9a2.png')}.gb_b #gb166 .gb_a::before{content:url('//ssl.gstatic.com/gb/images/a/a19cb6b9a2.png')}#gb171 .gb_a{background-image:url('//ssl.gstatic.com/gb/images/a/fe7edf2498.png')}.gb_b #gb171 .gb_a::before{content:url('//ssl.gstatic.com/gb/images/a/fe7edf2498.png')}#gb177 .gb_a{background-image:url('//ssl.gstatic.com/gb/images/a/188f0d697b.png')}.gb_b #gb177 .gb_a::before{content:url('//ssl.gstatic.com/gb/images/a/188f0d697b.png')}#gb206 .gb_a{background-image:url('//ssl.gstatic.com/gb/images/a/dfd7906be0.png')}.gb_b #gb206 .gb_a::before{content:url('//ssl.gstatic.com/gb/images/a/dfd7906be0.png')}#gb207 .gb_a{background-image:url('//ssl.gstatic.com/gb/images/a/25c96bb17c.png')}.gb_b #gb207 .gb_a::before{content:url('//ssl.gstatic.com/gb/images/a/25c96bb17c.png')}#gb211 .gb_a{background-image:url('//ssl.gstatic.com/gb/images/a/2d7fffa981.png')}.gb_b #gb211 .gb_a::before{content:url('//ssl.gstatic.com/gb/images/a/2d7fffa981.png')}#gb217 .gb_a{background-image:url('//ssl.gstatic.com/gb/images/a/e2c0b463b4.png')}.gb_b #gb217 .gb_a::before{content:url('//ssl.gstatic.com/gb/images/a/e2c0b463b4.png')}#gb228 .gb_a{background-image:url('//ssl.gstatic.com/gb/images/a/e6fe9b7e22.png')}.gb_b #gb228 .gb_a::before{content:url('//ssl.gstatic.com/gb/images/a/e6fe9b7e22.png')}#gb249 .gb_a{background-image:url('//ssl.gstatic.com/gb/images/a/d54db42004.png')}.gb_b #gb249 .gb_a::before{content:url('//ssl.gstatic.com/gb/images/a/d54db42004.png')}#gb260 .gb_a{background-image:url('//ssl.gstatic.com/gb/images/a/0d21a180fe0.png')}.gb_b #gb260 .gb_a::before{content:url('//ssl.gstatic.com/gb/images/a/0d21a180fe0.png')}#gb261 .gb_a{background-image:url('//ssl.gstatic.com/gb/images/a/9001dae971.png')}.gb_b #gb261 .gb_a::before{content:url('//ssl.gstatic.com/gb/images/a/9001dae971.png')}}.gb_m{border:1px solid #fff;border-radius:2px;display:inline-block;vertical-align:top;height:100px;width:86px}.gb_m[aria-grabbed=true]{visibility:hidden}.gb_m:hover:not(.gb_n){border:1px solid #e5e5e5}.gb_m.gb_o:not(.gb_n){border:1px solid #e5e5e5;-moz-box-shadow:0 1px 2px rgba(0,0,0,0.1);box-shadow:0 1px 2px rgba(0,0,0,0.1)}.gb_m.gb_o{background:#fff;cursor:-moz-grabbing;cursor:-webkit-grabbing;margin:-1px;visibility:visible;z-index:1001}.gb_p{opacity:.5}.gb_m.gb_o a{color:#404040!important;cursor:-moz-grabbing;cursor:-webkit-grabbing;font:13px/27px Arial,sans-serif;text-decoration:none!important}.gb_c{display:inline-block;font-size:13px;margin:8px 2px;text-align:center;outline:none}.gb_c .gb_q,.gb_c .gb_a{display:inline-block;vertical-align:top;height:64px;width:64px}.gb_r{display:block;line-height:20px;overflow:hidden;white-space:nowrap;width:84px;text-overflow:ellipsis}.gb_m:hover .gb_c{z-index:1}.gb_m:hover .gb_r{background:rgba(255,255,255,.9);white-space:normal;overflow-wrap:break-word;word-wrap:break-word}.gb_c.gb_n{cursor:default;filter:url(\"data:image/svg+xml;utf8,\\00003csvg xmlns=\\000027http://www.w3.org/2000/svg\\000027\\00003e\\00003cfilter id=\\000027g\\000027\\00003e\\00003cfeColorMatrix values=\\0000270.3333 0.3333 0.3333 0 0 0.3333 0.3333 0.3333 0 0 0.3333 0.3333 0.3333 0 0 0 0 0 1 0\\000027/\\00003e\\00003c/filter\\00003e\\00003c/svg\\00003e#g\");opacity:.4}.gb_c .gb_q{background-image:url('//ssl.gstatic.com/gb/images/v1_4118d12d.png');background-size:134px 1238px}.gb_b .gb_c .gb_q,.gb_b .gb_s.gb_q{background-image:none;overflow:hidden;position:relative}.gb_b .gb_c .gb_q::before,.gb_b .gb_s.gb_q::before{content:url('//ssl.gstatic.com/gb/images/v1_4118d12d.png');position:absolute}.gb_b .gb_a{background-image:none!important;position:relative}.gb_b .gb_a::before{left:0;position:absolute;top:0}@media (min-resolution:1.25dppx),(-webkit-min-device-pixel-ratio:1.25),(min-device-pixel-ratio:1.25){.gb_c .gb_q{background-image:url('//ssl.gstatic.com/gb/images/v2_0cb9998e.png')}.gb_b .gb_c .gb_q::before{content:url('//ssl.gstatic.com/gb/images/v2_0cb9998e.png');-moz-transform:scale(.5);transform:scale(.5);-moz-transform-origin:0 0;transform-origin:0 0}.gb_b .gb_c .gb_a::before{-moz-transform:scale(.5);transform:scale(.5);-moz-transform-origin:0 0;transform-origin:0 0}}#gb#gb .gb_t a.gb_c:focus{text-decoration:underline}.gb_m[aria-grabbed=true].gb_u{visibility:visible}.gb_v,.gb_w{position:relative;top:27px;visibility:hidden}.gb_v{float:left;width:0;height:0;border-top:5px solid transparent;border-bottom:5px solid transparent;border-right:5px solid #4273db}.gb_w{float:right;width:0;height:0;border-top:5px solid transparent;border-bottom:5px solid transparent;border-left:5px solid #4273db}ul.gb_x li.gb_u:not(:first-child) .gb_v,ul.gb_x li.gb_u .gb_w,ul.gb_y li.gb_u .gb_v,ul.gb_y li.gb_u:not(:last-child) .gb_w{visibility:visible}.gb_z .gb_A:hover,.gb_z .gb_A:focus{opacity:.85}.gb_z .gb_D{min-height:196px;overflow-y:auto;width:320px}.gb_E{-moz-transition:height .2s ease-in-out;transition:height .2s ease-in-out}.gb_F{background:#fff;margin:0;min-height:100px;padding:28px;padding-right:27px;text-align:left;white-space:normal;width:265px}.gb_C{background:#f5f5f5;cursor:pointer;height:40px;overflow:hidden}.gb_H{position:relative}.gb_C{display:block;line-height:40px;text-align:center;width:320px}.gb_H{display:block;line-height:40px;text-align:center}.gb_H.gb_I{line-height:0}#gb a.gb_C,#gb a.gb_C:visited,#gb a.gb_C:active,#gb a.gb_H,#gb a.gb_H:visited{color:#737373;text-decoration:none}#gb a.gb_H:active{color:#737373}.gb_H,.gb_F{display:none}.gb_x,.gb_x+.gb_H,.gb_J .gb_H,.gb_J .gb_F{display:block}#gb a.gb_H:hover,#gb a.gb_H:active{text-decoration:underline}.gb_H{border-bottom:1px solid #ebebeb;left:28px;width:264px}.gb_J .gb_C{display:none}.gb_H:last-child{border-bottom-width:0}.gb_K.gb_L{height:100px;text-align:center}.gb_K.gb_L img{padding:34px 0;height:32px;width:32px}.gb_K .gb_q{background-image:url('//ssl.gstatic.com/gb/images/v1_4118d12d.png');background-size:134px 1238px;background-position:0 -1518px}.gb_K .gb_q+img{border:0;margin:8px;height:48px;width:48px}.gb_K div.gb_M{background:#ffa;border-radius:5px;padding:5px;text-align:center}.gb_N .gb_C{margin-top:0;position:static}.gb_O{display:inline-block}.gb_P{margin:-12px 28px 28px;position:relative;width:264px;-moz-border-radius:2px;border-radius:2px;-moz-box-shadow:0 1px 2px rgba(0,0,0,0.1),0 0 1px rgba(0,0,0,0.1);box-shadow:0 1px 2px rgba(0,0,0,0.1),0 0 1px rgba(0,0,0,0.1)}.gb_s{background-image:url('//ssl.gstatic.com/gb/images/v1_4118d12d.png');background-size:134px 1238px;display:inline-block;margin:8px;vertical-align:middle;height:64px;width:64px}.gb_Q{color:#262626;display:inline-block;font:13px/18px Arial,sans-serif;margin-right:80px;padding:10px 10px 10px 0;vertical-align:middle;white-space:normal}.gb_R{font:16px/24px Arial,sans-serif}#gb#gb .gb_S{color:#427fed;text-decoration:none}#gb#gb .gb_S:hover{text-decoration:underline}.gb_T .gb_F{position:relative}.gb_T .gb_c{position:absolute;top:28px;left:28px}.gb_C.gb_U{display:none;height:0}.gb_l .gb_z .gb_A:hover,.gb_l .gb_z .gb_A:focus{opacity:1}@media (min-resolution:1.25dppx),(-webkit-min-device-pixel-ratio:1.25),(min-device-pixel-ratio:1.25){.gb_K .gb_q{background-image:url('//ssl.gstatic.com/gb/images/v2_0cb9998e.png')}}.gb_V{background:#f8f8f8;border:1px solid #c6c6c6;display:inline-block;line-height:28px;padding:0 12px;-moz-border-radius:2px;border-radius:2px}#gb a.gb_V.gb_V{color:#666;cursor:default;text-decoration:none}.gb_W{border:1px solid #4285f4;font-weight:bold;outline:none;background:#4285f4;background:-moz-linear-gradient(top,#4387fd,#4683ea);background:linear-gradient(top,#4387fd,#4683ea);filter:progid:DXImageTransform.Microsoft.gradient(startColorstr=#4387fd,endColorstr=#4683ea,GradientType=0)}#gb a.gb_W.gb_W{color:#fff}.gb_W:hover{-moz-box-shadow:0 1px 0 rgba(0,0,0,.15);box-shadow:0 1px 0 rgba(0,0,0,.15)}.gb_W:active{-moz-box-shadow:inset 0 2px 0 rgba(0,0,0,.15);box-shadow:inset 0 2px 0 rgba(0,0,0,.15);background:#3c78dc;background:-moz-linear-gradient(top,#3c7ae4,#3f76d3);background:linear-gradient(top,#3c7ae4,#3f76d3);filter:progid:DXImageTransform.Microsoft.gradient(startColorstr=#3c7ae4,endColorstr=#3f76d3,GradientType=0)}.gb_X{display:inline-block;line-height:normal;position:relative;z-index:987}.gb_4{background-size:32px 32px;border-radius:50%;display:block;margin:-1px;height:32px;width:32px}.gb_4:hover,.gb_4:focus{-moz-box-shadow:0 1px 0 rgba(0,0,0,.15);box-shadow:0 1px 0 rgba(0,0,0,.15)}.gb_4:active{-moz-box-shadow:inset 0 2px 0 rgba(0,0,0,.15);box-shadow:inset 0 2px 0 rgba(0,0,0,.15)}.gb_4:active::after{background:rgba(0,0,0,.1);border-radius:50%;content:'';display:block;height:100%}.gb_5:not(.gb_b) .gb_4::before,.gb_5:not(.gb_b) .gb_6::before{content:none}.gb_7{cursor:pointer;line-height:30px;min-width:30px;overflow:hidden;vertical-align:middle;width:auto;text-overflow:ellipsis}.gb_8{border-top:4px solid #404040;border-left:4px dashed transparent;border-right:4px dashed transparent;display:inline-block;margin-left:6px;vertical-align:middle}.gb_k .gb_7{font-weight:bold;text-shadow:0 1px 1px rgba(255,255,255,.9)}.gb_l .gb_7{font-weight:bold;text-shadow:0 1px 1px rgba(0,0,0,.6)}#gb#gb.gb_l a.gb_7{color:#fff}.gb_k .gb_4,.gb_l .gb_4{-moz-box-shadow:0 1px 2px rgba(0,0,0,.2);box-shadow:0 1px 2px rgba(0,0,0,.2)}.gb_k .gb_4:hover,.gb_l .gb_4:hover,.gb_k .gb_4:focus,.gb_l .gb_4:focus{-moz-box-shadow:0 1px 0 rgba(0,0,0,.15),0 1px 2px rgba(0,0,0,.2);box-shadow:0 1px 0 rgba(0,0,0,.15),0 1px 2px rgba(0,0,0,.2)}.gb_9 .gb_aa,.gb_ba .gb_aa{position:absolute;right:1px}.gb_aa.gb_f,.gb_ca.gb_f,.gb_da.gb_f{flex:0 1 auto;flex:0 1 main-size}.gb_5.gb_j .gb_7{width:30px!important}.gb_7~.gb_ea,.gb_7~.gb_fa{left:auto;right:6.5px}.gb_ga{outline:none}.gb_da:hover .gb_8{border-top-color:#000}#gb a.gb_ha.gb_ha,#gb .gb_ia.gb_ia a{color:#36c;text-decoration:none}#gb a.gb_ha:active,#gb a.gb_ha:hover,#gb .gb_ia a:active,#gb .gb_ia a:hover{text-decoration:underline}.gb_ja{margin:20px}.gb_ka,.gb_la{display:inline-block;vertical-align:top}.gb_ka{margin-right:20px;position:relative}.gb_6{background-size:96px 96px;border:none;vertical-align:top;height:96px;width:96px}.gb_ma{background:rgba(78,144,254,.7);bottom:0;color:#fff;font-size:9px;font-weight:bold;left:0;line-height:9px;position:absolute;padding:7px 0;text-align:center;width:96px}.gb_na{font-weight:bold;margin:-4px 0 1px 0}.gb_oa{color:#666}.gb_ia{color:#ccc;margin:6px 0}.gb_ia a{margin:0 10px}.gb_ia a:first-child{margin-left:0}.gb_ia a:last-child{margin-right:0}.gb_la .gb_V{background:#4d90fe;border-color:#3079ed;font-weight:bold;margin:10px 0 0 0}#gb .gb_la a.gb_V.gb_V{color:#fff}.gb_la .gb_V:hover{background:#357ae8;border-color:#2f5bb7}.gb_pa{background:#f5f5f5;border-top:1px solid #ccc;border-color:rgba(0,0,0,.2);padding:10px 0;width:100%;display:table}.gb_pa .gb_V{margin:0 20px}.gb_pa&gt;div{display:table-cell;text-align:right}.gb_pa&gt;div:first-child{text-align:left}.gb_pa .gb_qa{display:block;text-align:center}.gb_ra .gb_ea{border-bottom-color:#fef9db}.gb_sa{background:#fef9db;font-size:11px;padding:10px 20px;white-space:normal}.gb_sa b,.gb_ha{white-space:nowrap}.gb_ta{background:#f5f5f5;border-top:1px solid #ccc;border-top-color:rgba(0,0,0,.2);max-height:230px;overflow:auto}.gb_ua{border-top:1px solid #ccc;border-top-color:rgba(0,0,0,.2);display:block;padding:10px 20px}.gb_B .gb_ua:focus .gb_va{outline:1px dotted #fff}.gb_ua:hover{background:#eee}.gb_ua:first-child,.gb_wa:first-child+.gb_ua{border-top:0}.gb_wa{display:none}.gb_xa{cursor:default}.gb_xa:hover{background:transparent}.gb_ya{border:none;vertical-align:top;height:48px;width:48px}.gb_va{display:inline-block;margin:6px 0 0 10px}.gb_xa .gb_ya,.gb_xa .gb_va{opacity:.4}.gb_za{color:#000}.gb_xa .gb_za{color:#666}.gb_Aa{color:#666}.gb_Ba{background:#f5f5f5;border-top:1px solid #ccc;border-top-color:rgba(0,0,0,.2);display:block}.gb_Ca{background-position:-35px -155px;display:inline-block;margin:11px 10px 11px 20px;vertical-align:middle;height:25px;width:25px}.gb_b .gb_Ca::before{left:-35px;top:-155px}#gbsfw{min-width:400px;overflow:visible}.gb_Da,#gbsfw.gb_Ea{display:block;outline:none}#gbsfw.gb_M iframe{display:none}.gb_Fa{padding:118px 0;text-align:center}.gb_Ha{background:no-repeat center 0;color:#aaa;font-size:16px;padding-top:76px;background-image:url('//ssl.gstatic.com/gb/images/a/f5cdd88b65.png')}.gb_Ia{min-width:127px;overflow:hidden;position:relative;z-index:987}.gb_Ja{position:absolute;padding:0 20px 0 15px}.gb_Ka .gb_Ja{right:100%;margin-right:-127px}.gb_La{display:inline-block;outline:none;vertical-align:middle}.gb_Ma .gb_La{position:relative;top:2px}.gb_La .gb_Na,.gb_Oa{display:block}.gb_Pa{border:none;display:block;visibility:hidden}.gb_La .gb_Na{background-position:-38px -57px;height:33px;width:92px}.gb_Oa{background-repeat:no-repeat}.gb_l .gb_La .gb_Na{background-position:0 -1186px;margin:-3px 0 0 -10px;height:52px;width:112px}.gb_k .gb_La .gb_Na{margin:-3px 0 0 -10px;height:52px;width:112px;background-position:0 0}.gb_b .gb_La .gb_Na::before{left:-38px;top:-57px}.gb_b.gb_l .gb_La .gb_Na::before{left:0;top:-1186px}.gb_b.gb_k .gb_La .gb_Na::before{left:0;top:0}.gb_b .gb_Oa{background-image:none!important}.gb_b .gb_Pa{visibility:visible}.gb_B .gb_Qa span{background:transparent}@-moz-keyframes gb__nb{0%{-moz-transform:scale(0,0);transform:scale(0,0)}20%{-moz-transform:scale(1.4,1.4);transform:scale(1.4,1.4)}50%{-moz-transform:scale(.8,.8);transform:scale(.8,.8)}85%{-moz-transform:scale(1.1,1.1);transform:scale(1.1,1.1)}to{-moz-transform:scale(1.0,1.0);transform:scale(1.0,1.0)}}@keyframes gb__nb{0%{-moz-transform:scale(0,0);transform:scale(0,0)}20%{-moz-transform:scale(1.4,1.4);transform:scale(1.4,1.4)}50%{-moz-transform:scale(.8,.8);transform:scale(.8,.8)}85%{-moz-transform:scale(1.1,1.1);transform:scale(1.1,1.1)}to{-moz-transform:scale(1.0,1.0);transform:scale(1.0,1.0)}}.gb_Ra .gb_Sa{font-size:14px;font-weight:bold;top:0;right:0}.gb_Ra .gb_A{display:inline-block;vertical-align:middle;-moz-box-sizing:border-box;box-sizing:border-box;height:30px;width:30px}.gb_Ta{background-position:-35px -1151px;opacity:.55;height:100%;width:100%}.gb_A:hover .gb_Ta,.gb_A:focus .gb_Ta{opacity:.85}.gb_Ua .gb_Ta{background-position:0 -1151px}.gb_Va{background-color:#cb4437;border-radius:8px;font:bold 11px Arial;color:#fff;line-height:16px;min-width:14px;padding:0 1px;position:absolute;right:0;text-align:center;text-shadow:0 1px 0 rgba(0,0,0,0.1);top:0;visibility:hidden;z-index:990}.gb_Wa .gb_Va,.gb_Wa .gb_Xa,.gb_Wa .gb_Xa.gb_Za{visibility:visible}.gb_Xa{padding:0 2px;visibility:hidden}.gb_Ra:not(.gb_0a) .gb_fa,.gb_Ra:not(.gb_0a) .gb_ea{left:3px}.gb_Ra .gb_ea{border-bottom-color:#e5e5e5}.gb_Va.gb_1a{-moz-animation:gb__nb .6s 1s both ease-in-out;animation:gb__nb .6s 1s both ease-in-out;-moz-perspective-origin:top right;perspective-origin:top right;-moz-transform:scale(1,1);transform:scale(1,1);-moz-transform-origin:top right;transform-origin:top right}.gb_1a .gb_Xa{visibility:visible}.gb_2a{background-color:rgba(0,0,0,.55);color:#fff;font-size:12px;font-weight:bold;line-height:20px;margin:5px;padding:0 2px;text-align:center;-moz-box-sizing:border-box;box-sizing:border-box;-moz-border-radius:50%;border-radius:50%;height:20px;width:20px}.gb_2a.gb_3a{background-position:0 -604px}.gb_2a.gb_4a{background-position:-86px -641px}.gb_A:hover .gb_2a,.gb_A:focus .gb_2a{background-color:rgba(0,0,0,.85)}#gbsfw.gb_5a{background:#e5e5e5;border-color:#ccc}.gb_k .gb_A .gb_Ta{background-position:-69px -874px;opacity:.7}.gb_k .gb_Ua .gb_Ta{background-position:-104px -839px}.gb_k .gb_A:hover .gb_Ta,.gb_k .gb_A:focus .gb_Ta{opacity:.85}.gb_l .gb_A .gb_Ta{background-position:-104px -537px;opacity:1}.gb_l .gb_Ua .gb_Ta{background-position:0 -155px}.gb_k .gb_Va,.gb_l .gb_Va{border:none;-moz-box-shadow:-1px 1px 1px rgba(0,0,0,.2);box-shadow:-1px 1px 1px rgba(0,0,0,.2)}.gb_k .gb_2a{background-color:rgba(0,0,0,.7);-moz-box-shadow:0 1px 2px rgba(255,255,255,.9);box-shadow:0 1px 2px rgba(255,255,255,.9)}.gb_l .gb_2a.gb_2a{background-color:#fff;color:#404040;-moz-box-shadow:0 1px 2px rgba(0,0,0,.2);box-shadow:0 1px 2px rgba(0,0,0,.2)}.gb_l .gb_2a.gb_3a{background-position:0 -130px}.gb_l .gb_2a.gb_4a{background-position:-69px -363px}.gb_Wa .gb_2a.gb_2a{background-color:#db4437;color:#fff}.gb_Wa .gb_A:hover .gb_2a,.gb_Wa .gb_A:focus .gb_2a{background-color:#a52714}.gb_Wa .gb_2a.gb_4a{background-position:-86px -641px}.gb_b .gb_Ta::before{left:-35px;top:-1151px}.gb_b .gb_Ua .gb_Ta::before{left:0;top:-1151px}.gb_b.gb_k .gb_A .gb_Ta::before{left:-69px;top:-874px}.gb_b.gb_k .gb_Ua .gb_Ta::before{left:-104px;top:-839px}.gb_b.gb_l .gb_A .gb_Ta::before{left:-104px;top:-537px}.gb_b.gb_l .gb_Ua .gb_Ta::before{left:0;top:-155px}.gb_B .gb_2a{border:1px solid #fff;color:#fff}.gb_B.gb_k .gb_2a{border-color:#000;color:#000}.gb_b .gb_2a.gb_3a::before,.gb_B.gb_b.gb_l .gb_2a.gb_3a::before{left:0;top:-604px}.gb_b .gb_2a.gb_4a::before,.gb_B.gb_b.gb_l .gb_2a.gb_4a::before{left:-86px;top:-641px}.gb_b.gb_l .gb_2a.gb_3a::before,.gb_B.gb_b.gb_k .gb_2a.gb_3a::before{left:0;top:-130px}.gb_b.gb_l .gb_2a.gb_4a::before,.gb_B.gb_b.gb_k .gb_2a.gb_4a::before{left:-69px;top:-363px}.gb_7a{display:none;margin:28px;margin-bottom:-12px;outline:none;position:relative;width:264px;z-index:1;-moz-border-radius:2px;border-radius:2px;-moz-box-shadow:0 1px 2px rgba(0,0,0,0.1),0 0 1px rgba(0,0,0,0.1);box-shadow:0 1px 2px rgba(0,0,0,0.1),0 0 1px rgba(0,0,0,0.1)}.gb_7a.gb_Ea{display:block}.gb_6a{background-size:64px 64px;display:inline-block;margin:12px;vertical-align:top;height:64px;width:64px}.gb_9a{display:inline-block;padding:16px 16px 16px 0;vertical-align:top;white-space:normal}.gb_6a~.gb_9a{margin-right:88px}.gb_9a:first-child{padding-left:16px}.gb_ab{color:#262626;font:16px/24px Arial,sans-serif}.gb_bb{color:#737373;font:13px/18px Arial,sans-serif}#gb#gb .gb_7a .gb_cb{color:#427fed;text-decoration:none}#gb#gb .gb_7a .gb_cb:hover{text-decoration:underline}.gb_7a .gb_8a{background-position:-69px -641px;cursor:pointer;opacity:.27;outline:none;position:absolute;right:4px;top:4px;height:12px;width:12px}.gb_7a .gb_8a:hover{opacity:.55}.gb_db.gb_eb{padding:0}.gb_eb .gb_D{padding:26px 26px 22px;background:#ffffff}.gb_fb.gb_eb .gb_D{background:#4d90fe}a.gb_gb{color:#666666!important;font-size:22px;height:9px;opacity:.8;position:absolute;right:14px;top:4px;text-decoration:none!important;width:9px}.gb_fb a.gb_gb{color:#c1d1f4!important}a.gb_gb:hover,a.gb_gb:active{opacity:1}.gb_hb{padding:0;width:258px;white-space:normal}.gb_fb .gb_hb{width:200px}.gb_ib{color:#333333;font-size:16px;line-height:20px;margin:0;margin-bottom:16px}.gb_fb .gb_ib{color:#ffffff}.gb_jb{color:#666666;line-height:17px;margin:0;margin-bottom:5px}.gb_fb .gb_jb{color:#ffffff}.gb_kb{position:absolute;background:transparent;top:-999px;z-index:-1;visibility:hidden;margin-top:1px;margin-left:1px}#gb .gb_eb{margin:0}.gb_eb .gb_V{background:#4d90fe;border-color:#3079ed;margin-top:15px}#gb .gb_eb a.gb_V.gb_V{color:#ffffff}.gb_eb .gb_V:hover{background:#357ae8;border-color:#2f5bb7}.gb_lb .gb_Sa .gb_ea{border-bottom-color:#ffffff;display:block}.gb_mb .gb_Sa .gb_ea{border-bottom-color:#4d90fe;display:block}.gb_lb .gb_Sa .gb_fa,.gb_mb .gb_Sa .gb_fa{display:block}.gb_nb{margin-bottom:32px;font-size:small}.gb_nb .gb_ob{margin-right:5px}.gb_nb .gb_pb{color:red}.gb_qb{color:#ffffff;font-size:13px;font-weight:bold;height:25px;line-height:19px;padding-top:5px;padding-left:12px;position:relative;background-color:#4d90fe}.gb_qb .gb_8a{color:#ffffff;cursor:default;font-size:22px;font-weight:normal;position:absolute;right:12px;top:5px}.gb_qb .gb_cb,.gb_qb .gb_rb{color:#ffffff;display:inline-block;font-size:11px;margin-left:16px;padding:0 8px;white-space:nowrap}.gb_sb{background:none;background-image:linear-gradient(top,rgba(0,0,0,0.16),rgba(0,0,0,0.2));background-image:-moz-linear-gradient(top,rgba(0,0,0,0.16),rgba(0,0,0,0.2));border-radius:2px;border:1px solid #dcdcdc;border:1px solid rgba(0,0,0,0.1);cursor:default!important;filter:progid:DXImageTransform.Microsoft.gradient(startColorstr=#160000ff,endColorstr=#220000ff);text-decoration:none!important}.gb_sb:hover{background:none;background-image:linear-gradient(top,rgba(0,0,0,0.14),rgba(0,0,0,0.2));background-image:-moz-linear-gradient(top,rgba(0,0,0,0.14),rgba(0,0,0,0.2));border:1px solid rgba(0,0,0,0.2);box-shadow:0 1px 1px rgba(0,0,0,0.1);-moz-box-shadow:0 1px 1px rgba(0,0,0,0.1);filter:progid:DXImageTransform.Microsoft.gradient(startColorstr=#14000000,endColorstr=#22000000)}.gb_sb:active{box-shadow:inset 0 1px 2px rgba(0,0,0,0.3);-moz-box-shadow:inset 0 1px 2px rgba(0,0,0,0.3)}.gb_tb{display:none}.gb_tb.gb_Ea{display:block}.gb_b .gb_6a{background-image:none!important}.gb_b .gb_6a::before{display:inline-block;-moz-transform:scale(.5);transform:scale(.5);-moz-transform-origin:0 0;transform-origin:0 0}.gb_b .gb_7a .gb_8a{position:absolute}.gb_b .gb_7a .gb_8a::before{left:-69px;top:-641px}.gbqfb,.gbqfba,.gbqfbb{cursor:default!important;display:inline-block;font-weight:bold;height:29px;line-height:29px;min-width:54px;padding:0 8px;text-align:center;text-decoration:none!important;-moz-border-radius:2px;border-radius:2px;-moz-user-select:-moz-none}.gbqfba:focus{border:1px solid #4d90fe;outline:none;-moz-box-shadow:inset 0 0 0 1px #fff;box-shadow:inset 0 0 0 1px #fff}.gbqfba:hover{border-color:#c6c6c6;color:#222!important;-moz-box-shadow:0 1px 0 rgba(0,0,0,.15);box-shadow:0 1px 0 rgba(0,0,0,.15);background:#f8f8f8;background:-moz-linear-gradient(top,#f8f8f8,#f1f1f1);background:linear-gradient(top,#f8f8f8,#f1f1f1);filter:progid:DXImageTransform.Microsoft.gradient(startColorstr=#f8f8f8,endColorstr=#f1f1f1,GradientType=1)}.gbqfba:hover:focus{-moz-box-shadow:0 1px 0 rgba(0,0,0,.15),inset 0 0 0 1px #fff;box-shadow:0 1px 0 rgba(0,0,0,.15),inset 0 0 0 1px #fff}.gbqfb::-moz-focus-inner{border:0}.gbqfba::-moz-focus-inner{border:0}.gbqfba{border:1px solid #dcdcdc;border-color:rgba(0,0,0,0.1);color:#444!important;font-size:11px;background:#f5f5f5;background:-moz-linear-gradient(top,#f5f5f5,#f1f1f1);background:linear-gradient(top,#f5f5f5,#f1f1f1);filter:progid:DXImageTransform.Microsoft.gradient(startColorstr=#f5f5f5,endColorstr=#f1f1f1,GradientType=1)}.gbqfba:active{-moz-box-shadow:inset 0 1px 2px rgba(0,0,0,0.1);box-shadow:inset 0 1px 2px rgba(0,0,0,0.1)}.gb_xb{position:relative;width:650px;z-index:986}#gbq2{padding-top:15px}.gb_yb .gb_xb{min-width:200px;flex:0 2 auto;flex:0 2 main-size}.gb_i~.gb_xb{min-width:0}.gb_yb #gbqf{margin-right:0;display:-webkit-flex;display:flex}.gb_yb .gbqff{min-width:0;flex:1 1 auto;flex:1 1 main-size}.gb_b .gbqfi::before{left:-69px;top:-502px}.gb_B .gbqfb:focus .gbqfi{outline:1px dotted #fff}#gbq2{display:block}#gbqf{display:block;margin:0;margin-right:60px;white-space:nowrap}.gbqff{border:none;display:inline-block;margin:0;padding:0;vertical-align:top;width:100%}.gbqfqw,#gbqfb,.gbqfwa{vertical-align:top}#gbqfaa,#gbqfab,#gbqfqwb{position:absolute}#gbqfaa{left:0}#gbqfab{right:0}.gbqfqwb,.gbqfqwc{right:0;left:0;height:100%}.gbqfqwb{padding:0 8px}#gbqfbw{display:inline-block;vertical-align:top}#gbqfb{border:1px solid transparent;border-bottom-left-radius:0;border-top-left-radius:0;height:30px;margin:0;outline:none;padding:0 0;width:60px;-moz-box-shadow:none;box-shadow:none;-moz-box-sizing:border-box;box-sizing:border-box;background:#4285f4;background:-moz-linear-gradient(top,#4387fd,#4683ea);background:linear-gradient(top,#4387fd,#4683ea);filter:progid:DXImageTransform.Microsoft.gradient(startColorstr=#4387fd,endColorstr=#4683ea,GradientType=1)}#gbqfb:hover{-moz-box-shadow:0 1px 0 rgba(0,0,0,.15);box-shadow:0 1px 0 rgba(0,0,0,.15)}#gbqfb:focus{-moz-box-shadow:inset 0 0 0 1px #fff;box-shadow:inset 0 0 0 1px #fff}#gbqfb:hover:focus{-moz-box-shadow:0 1px 0 rgba(0,0,0,.15),inset 0 0 0 1px #fff;box-shadow:0 1px 0 rgba(0,0,0,.15),inset 0 0 0 1px #fff}#gbqfb:active:active{border:1px solid transparent;-moz-box-shadow:inset 0 2px 0 rgba(0,0,0,.15);box-shadow:inset 0 2px 0 rgba(0,0,0,.15);background:#3c78dc;background:-moz-linear-gradient(top,#3c7ae4,#3f76d3);background:linear-gradient(top,#3c7ae4,#3f76d3);filter:progid:DXImageTransform.Microsoft.gradient(startColorstr=#3c7ae4,endColorstr=#3f76d3,GradientType=1)}.gbqfi{background-position:-69px -502px;display:inline-block;margin:-1px;height:30px;width:30px}.gbqfqw{background:#fff;background-clip:padding-box;border:1px solid #cdcdcd;border-color:rgba(0,0,0,.15);border-right-width:0;height:30px;-moz-box-sizing:border-box;box-sizing:border-box}#gbfwc .gbqfqw{border-right-width:1px}#gbqfqw{position:relative}.gbqfqw.gbqfqw:hover{border-color:#a9a9a9;border-color:rgba(0,0,0,.3)}.gbqfwa{display:inline-block;width:100%}.gbqfwb{width:40%}.gbqfwc{width:60%}.gbqfwb .gbqfqw{margin-left:10px}.gbqfqw.gbqfqw:active,.gbqfqw.gbqfqwf.gbqfqwf{border-color:#4285f4}#gbqfq,#gbqfqb,#gbqfqc{background:transparent;border:none;height:20px;margin-top:4px;padding:0;vertical-align:top;width:100%}#gbqfq:focus,#gbqfqb:focus,#gbqfqc:focus{outline:none}.gbqfif,.gbqfsf{color:#222;font:16px arial,sans-serif}#gbqfbwa{display:none;text-align:center;height:0}#gbqfbwa .gbqfba{margin:16px 8px}#gbqfsa,#gbqfsb{font:bold 11px/27px Arial,sans-serif!important;vertical-align:top}.gb_k .gbqfqw.gbqfqw,.gb_l .gbqfqw.gbqfqw{border-color:rgba(255,255,255,1);-moz-box-shadow:0 1px 2px rgba(0,0,0,.2);box-shadow:0 1px 2px rgba(0,0,0,.2)}.gb_k #gbqfb,.gb_l #gbqfb{-moz-box-shadow:0 1px 2px rgba(0,0,0,.2);box-shadow:0 1px 2px rgba(0,0,0,.2)}.gb_k #gbqfb:hover,.gb_l #gbqfb:hover{-moz-box-shadow:0 1px 0 rgba(0,0,0,.15),0 1px 2px rgba(0,0,0,.2);box-shadow:0 1px 0 rgba(0,0,0,.15),0 1px 2px rgba(0,0,0,.2)}.gb_k #gbqfb:active,.gb_l #gbqfb:active{-moz-box-shadow:inset 0 2px 0 rgba(0,0,0,.15),0 1px 2px rgba(0,0,0,.2);box-shadow:inset 0 2px 0 rgba(0,0,0,.15),0 1px 2px rgba(0,0,0,.2)}.gb_Lb .gb_A{background-position:-35px -1116px;opacity:.55;height:30px;width:30px}.gb_Lb .gb_A:hover,.gb_Lb .gb_A:focus{opacity:.85}.gb_Lb .gb_ea{border-bottom-color:#f5f5f5}#gbsfw.gb_Mb{background:#f5f5f5;border-color:#ccc}.gb_l .gb_Lb .gb_A{background-position:-65px -155px;opacity:1}.gb_k .gb_Lb .gb_A{background-position:-69px -328px;opacity:.7}.gb_k .gb_Lb .gb_A:hover,.gb_k .gb_Lb .gb_A:focus{opacity:.85}.gb_b .gb_Lb .gb_A::before{left:-35px;top:-1116px}.gb_b.gb_k .gb_Lb .gb_A::before{left:-69px;top:-328px}.gb_b.gb_l .gb_Lb .gb_A::before{left:-65px;top:-155px}.gb_ac{width:480px}.gb_bc{background:#e7e7e7;background:rgba(0,0,0,.04);border-bottom-right-radius:0;line-height:30px;position:relative;text-align:center;width:100%}.gb_bc:hover{background:#dbdbdb;background:rgba(0,0,0,.08)}.gb_bc .gb_cc{margin:0 10px}.gb_dc{position:relative;z-index:1}.gb_ec{background:#eee;border-bottom:1px solid #e3e3e3;border-left:1px solid #e3e3e3;display:inline-block;line-height:32px;text-align:center;width:160px}.gb_dc .gb_ec:first-child{border-left:none}.gb_dc .gb_Ea{background:#fff;border-bottom:none}.gb_fc{display:none;text-align:center}.gb_fc.gb_Ea{display:block}.gb_gc{color:inherit;display:inline-block;padding:15px;text-decoration:none}.gb_hc{background-clip:content-box;background-origin:content-box;display:inherit;height:64px;width:64px}.gb_ic{display:block;text-align:center}.gb_jc{border-top:none;top:78px;z-index:1;-moz-border-radius:0 0 2px 2px;border-radius:0 0 2px 2px}.gb_kc{display:inline-block;vertical-align:middle}.gb_lc{display:inline-block;vertical-align:middle;background-size:100%;height:20px;width:20px}.gb_mc{background-image:url('//ssl.gstatic.com/gb/images/a/5a1c013d3d.png')}.gb_nc{background-image:url('//ssl.gstatic.com/gb/images/a/de580e5330.png')}.gb_oc{background-image:url('//ssl.gstatic.com/gb/images/a/451603daf6.png')}.gb_kc{margin-left:4px}.gb_pc{margin:5px;width:470px}.gb_qc{border:none;display:block;margin:0 5px;outline:none;padding:0 5px;height:30px;width:450px}.gb_rc{border:none;display:block;margin:0 5px;outline:none;padding:0 5px;height:30px;width:450px;border-top:1px solid #e3e3e3}.gb_sc{border-color:#e3e3e3;display:block;font:inherit;margin:0 5px;outline:none;padding:5px;text-align:left;height:320px;width:450px}.gb_tc,.gb_uc{border:1px solid #e3e3e3;border-radius:2px;cursor:pointer;line-height:27px;margin:5px;padding:0 8px;width:54px}.gb_tc{float:left}.gb_uc{float:right}.gb_5{min-width:315px;padding-left:30px;padding-right:30px;position:relative;text-align:right;z-index:986;align-items:center;justify-content:flex-end}.gb_5.gb_f{flex:1 1 auto;flex:1 1 main-size}.gb_vc{line-height:normal;position:relative;text-align:left}.gb_vc.gb_f,.gb_wc.gb_f,.gb_xc.gb_f{flex:0 1 auto;flex:0 1 main-size}.gb_yc,.gb_zc{display:inline-block;padding:0 0 0 15px;position:relative;vertical-align:middle}.gb_wc{line-height:normal;padding-right:15px}.gb_5 .gb_wc.gb_h{padding-right:0}.gb_xc{color:#404040;line-height:30px;min-width:30px;overflow:hidden;vertical-align:middle;text-overflow:ellipsis}.gb_5.gb_i{padding-left:0;padding-right:29px}.gb_5.gb_Ac{max-width:400px}.gb_Bc{background-clip:content-box;background-origin:content-box;opacity:.27;padding:22px;height:16px;width:16px}.gb_Bc.gb_f{display:none}.gb_Bc:hover,.gb_Bc:focus{opacity:.55}.gb_Cc{background-position:-25px -604px}.gb_Dc{background-position:-17px -57px;padding-left:30px;padding-right:14px;position:absolute;right:0;top:0;z-index:990}.gb_9:not(.gb_ba) .gb_Dc,.gb_i .gb_Cc{display:inline-block}.gb_9 .gb_Cc{padding-left:30px;padding-right:0;width:0}.gb_9:not(.gb_ba) .gb_Ec{display:none}.gb_5.gb_f.gb_i,.gb_i:not(.gb_ba) .gb_vc{flex:0 0 auto;flex:0 0 main-size}.gb_Bc,.gb_i .gb_wc,.gb_ba .gb_vc{overflow:hidden}.gb_9 .gb_wc{padding-right:0}.gb_i .gb_vc{padding:1px 1px 1px 0}.gb_9 .gb_vc{width:75px}.gb_5.gb_Fc,.gb_5.gb_Fc .gb_Cc,.gb_5.gb_Fc .gb_Cc::before,.gb_5.gb_Fc .gb_wc,.gb_5.gb_Fc .gb_vc{-moz-transition:width .5s ease-in-out,min-width .5s ease-in-out,max-width .5s ease-in-out,padding .5s ease-in-out,left .5s ease-in-out;transition:width .5s ease-in-out,min-width .5s ease-in-out,max-width .5s ease-in-out,padding .5s ease-in-out,left .5s ease-in-out}.gb_yb .gb_5{min-width:0}.gb_5.gb_j,.gb_5.gb_j .gb_vc,.gb_5.gb_Hc,.gb_5.gb_Hc .gb_vc{min-width:0!important}.gb_5.gb_j,.gb_5.gb_j .gb_f{flex:0 0 auto!important}.gb_5.gb_j .gb_xc{width:30px!important}.gb_k .gb_xc{font-weight:bold;text-shadow:0 1px 1px rgba(255,255,255,.9)}.gb_l .gb_xc{color:#fff;font-weight:bold;text-shadow:0 1px 1px rgba(0,0,0,.6)}.gb_b .gb_Cc::before{clip:rect(604px 41px 620px 25px);left:-3px;top:-582px}.gb_b .gb_Na.gb_Dc{position:absolute}.gb_b .gb_Dc::before{clip:rect(57px 33px 73px 17px);left:13px;top:-35px}.gb_b .gb_9 .gb_Cc::before{left:5px}@media (min-resolution:1.25dppx),(-webkit-min-device-pixel-ratio:1.25),(min-device-pixel-ratio:1.25){.gb_b .gb_Cc::before{clip:rect(1208px 82px 1240px 50px)}.gb_b .gb_Dc::before{clip:rect(114px 66px 146px 34px)}}.gb_b .gb_Na,.gb_b .gbii,.gb_b .gbip{background-image:none;overflow:hidden;position:relative}.gb_b .gb_Na::before{content:url('//ssl.gstatic.com/gb/images/v1_4118d12d.png');position:absolute}@media (min-resolution:1.25dppx),(-webkit-min-device-pixel-ratio:1.25),(min-device-pixel-ratio:1.25){.gb_b .gb_Na::before{content:url('//ssl.gstatic.com/gb/images/v2_0cb9998e.png');-moz-transform:scale(.5);transform:scale(.5);-moz-transform-origin:0 0;transform-origin:0 0}}.gb_B a:focus{outline:1px dotted #fff!important}#gb.gb_Pc{min-width:980px}#gb.gb_Pc .gb_xb{min-width:0;position:static;width:0}.gb_Pc .gb_Pb{background:transparent;border-bottom-color:transparent}.gb_Pc .gb_Pb::before{display:none}.gb_Pc.gb_Pc .gb_e{display:inline-block}.gb_Pc.gb_5 .gb_wc.gb_h{padding-right:15px}.gb_Pc .gb_g.gb_Mc{display:-webkit-flex;display:flex}.gb_Pc.gb_yb #gbqf{display:block}.gb_Pc #gbq{height:0;position:absolute}.gb_Pc.gb_5{z-index:987}.gb_Ja.gb_Qc{padding-left:30px}.gb_Ka .gb_Qc{margin-right:-142px}sentinel{}.gbii{background-image:url(//ssl.gstatic.com/gb/images/silhouette_27.png)}.gbip{background-image:url()}.gbii::before{content:url(//ssl.gstatic.com/gb/images/silhouette_27.png);position:absolute}.gbip::before{content:url();position:absolute}@media (min-resolution:1.25dppx),(-o-min-device-pixel-ratio:5/4),(-webkit-min-device-pixel-ratio:1.25),(min-device-pixel-ratio:1.25){.gbii{background-image:url(//ssl.gstatic.com/gb/images/silhouette_27.png)}.gbii::before{content:url(//ssl.gstatic.com/gb/images/silhouette_27.png)}.gbip{background-image:url()}.gbip::before{content:url()}.gbii::before,.gbip::before{-webkit-transform:scale(.5);-moz-transform:scale(.5);-ms-transform:scale(.5);-o-transform:scale(.5);transform:scale(.5);-webkit-transform-origin:0 0;-moz-transform-origin:0 0;-ms-transform-origin:0 0;-o-transform-origin:0 0;transform-origin:0 0}}#gbq .gbgt-hvr,#gbq .gbgt:focus{background-color:transparent;background-image:none}.gbqfh#gbq1{display:none}.gbxx{display:none !important}#gbq{line-height:normal;position:relative;top:0px;white-space:nowrap}#gbq{left:0;width:100%}#gbq2{top:0px;z-index:986}#gbq4{display:inline-block;max-height:29px;overflow:hidden;position:relative}.gbqfh#gbq2{z-index:985}.gbqfh#gbq2{margin:0;margin-left:0 !important;padding-top:0;position:relative;top:310px}.gbqfh #gbqf{margin:auto;min-width:534px;padding:0 !important}.gbqfh #gbqfbw{display:none}.gbqfh #gbqfbwa{display:block}.gbqfh #gbqf{max-width:572px;min-width:572px}.gbqfh .gbqfqw{border-right-width:1px}.gsfe_a.gsfe_a{border-right-width:0;-moz-box-shadow:none;-webkit-box-shadow:none;box-shadow:none}.gsfe_b.gsfe_b{border-right-width:0;border-color:#4285f4;-moz-box-shadow:none;-webkit-box-shadow:none;box-shadow:none}.gbqfh .gsfe_a,.gbqfh .gsfe_b{border-width:1px}.gbm{background:#fff;border:1px solid #bebebe;box-shadow:0 2px 4px rgba(0,0,0,.2);-moz-box-shadow:-1px 1px 1px rgba(0,0,0,.2);-webkit-box-shadow:0 2px 4px rgba(0,0,0,.2);position:absolute;top:-999px;visibility:hidden;z-index:999}</style><script type=\"text/javascript\" language=\"javascript\">\n",
        "var __JS_INI__ = \"[,[,[,[1258,1173,1262,1263,1260,1280,1282,1264,1259,1275,1105,1266,1174,1144,1199,1281,1278,9,15,16,10]],[,\\42EUR\\42,\\42\\\\u20ac\\42,\\42#,##0\\\\u00a0\\\\u00a4\\42,\\42#,##0.00\\\\u00a0\\\\u00a4\\42,\\42#,##0\\42,1],[,1,1000.0,\\42#,##0\\42,\\42#,##0.0\\42],[,1,1.0,\\42#,##0\\42],\\42google-travel\\42,\\42typeId:72275\\42,\\42ADS25WP4f5Ynf4cvssAUrm2tqojBX91JQq-g-OfCSX9elCEGzkJdvc7RXpix3QsOyUEXUI0qp4l2lyRKa8ooDFvDtCbPDk9RALKZI8GNztUg4GN-aLyksz4pA-t4Vx6FlcZsayXQmoq9Z8BTZLg2\\42,\\42.es\\42,\\42es\\42,\\42ES\\42,,,,\\42UA-36265199-1\\42,,,\\42https://accounts.google.com/ServiceLogin?cd\\\\u003dES\\\\u0026continue\\\\u003d_CONTINUE_\\42],[,\\42BCN\\42,\\42Barcelona\\42,41.2969444,2.07833333,[\\42BCN\\42,\\42YJB\\42],[\\42BCN\\42],\\42Espa\\\\u00f1a\\42,\\42SP\\42,\\42ES\\42,,,41.3850639,2.1734035],[[,\\42BCN\\42,\\42Aeropuerto de Barcelona-El Prat\\42,\\42Barcelona\\42,\\42BCN\\42,\\42Espa\\\\u00f1a\\42,41.2969444,2.07833333,\\42SP\\42,\\42ES\\42]],[[,\\42SKYTEAM\\42,\\42SkyTeam\\42],[,\\42ONEWORLD\\42,\\42Oneworld\\42],[,\\42STAR_ALLIANCE\\42,\\42Star Alliance\\42]],,[[,\\42_fli\\42,\\42Vuelos\\42],[,\\42_mor\\42,\\42M\\\\u00e1s\\42],[,\\42_web\\42,\\42Web\\42],[,\\42shop\\42,\\42Shopping\\42],[,\\42nws\\42,\\42Noticias\\42],[,\\42#map\\42,\\42Maps\\42],[,\\42isch\\42,\\42Im\\\\u00e1genes\\42],[,\\42vid\\42,\\42V\\\\u00eddeos\\42],[,\\42bks\\42,\\42Libros\\42],[,\\42app\\42,\\42Aplicaciones\\42]],0,,\\42euro\\42,0]\";\n",
        "</script>\n",
        "<script>(function(){var gs=document.createElement('script');var wmm=window.matchMedia;var hires=!!wmm &amp;&amp; !wmm('(-webkit-device-pixel-ratio:1.0)').matches &amp;&amp; !wmm('(-moz-device-pixel-ratio:1.0)').matches;gs.src=!hires?'static/AA35F62DA9670CFBD898327D6F522A8D.cache.js':'static/4CCF4E3B5168F5EB93F9E7428E52B6D5.cache.js';gs.type='text/javascript';gs.async=true;document.getElementsByTagName('head')[0].appendChild(gs);})();</script><script src=\"static/AA35F62DA9670CFBD898327D6F522A8D.cache.js\" type=\"text/javascript\" async=\"\"></script><script type=\"text/javascript\" language=\"javascript\">(window['gbar']=window['gbar']||{})._CONFIG=[[[0,\"www.gstatic.com\",\"og.og.en_US.qBe7nK5b5p4.O\",\"es\",\"es\",\"206\",1,[3,2,\".64.40.36.36.40.36.36.\",\"r_qf.\",\"0\",\"1413914306\",\"0\"],\"40400\",\"NCZJVJHjLserafCrgYAJ\",0,0,\"og.og.-1ly7masjk7o0n.L.F4.O\",\"AItRSTOf4RsnXT5NDCU0fUfcRjN0Stg1Ng\",\"AItRSTNmMi9zfyUMSfHTQrSiJz0ng8fEOg\",\"\",2,0,200,\"ESP\"],null,0,[\"m;/_/scs/abc-static/_/js/k=gapi.gapi.en.3_mJ9Wvc9FU.O/m=__features__/rt=j/d=1/rs=AItRSTPLYqq5loOR9078NjrWstRw2XtJlg\",\"https://apis.google.com\",\"\",\"\",\"\",\"\",\"\",1,\"es_plusone_gc_20141016.0_p0\",\"es\"],[\"1\",\"gci_91f30755d6a6b787dcc2a4062e6e9824.js\",\"googleapis.client:plusone:gapi.iframes\",\"\",\"es\"],null,null,null,[0.009999999776482582,\"es\",\"206\",[null,\"\",\"w\",null,1,5184000,1,0],[[\"5076933\",\"4061130\",\"6\",50,5,2592000,\"\",\"\"],\"https://www.google.com/intl/es/policies/technologies/cookies/\",[\"#ffffff\",\"#d9d9d9\",\"#a0a0a0\"],1,1],[[\"\",\"\",\"\",0,0,-1]],[null,0,0],0],null,[0,0,0,0,\"\",\"\",\"\"],[1,0.001000000047497451,1],[1,0.1000000014901161,2,1],[0,\"\",null,\"\",0,\"Se ha producido un error al cargar tus aplicaciones de Marketplace.\",\"No tienes aplicaciones de Marketplace.\",0,[206,\"https://www.google.es/flights/?hl=es\",\"Vuelos\",\"\",\"\",null,0],0,0,1],[],[0,0,[\"lg\"],0,[\"lat\"]],[[\"ld\",\"gl\",\"is\",\"id\",\"nb\",\"nw\",\"sb\",\"sd\",\"p\",\"vd\",\"awd\",\"st\",\"lod\",\"eld\",\"ip\",\"dp\",\"cpd\",\"\",\"\",\"\",\"\",\"\",\"\",\"\"],[\"\"]],null,null,null,[30,152,1,980],null,null,null,null,null,[1,1]]];(window['gbar']=window['gbar']||{})._DPG=[{'aw':['sy22','sy8'],'awd':['st','sy0','sy15','sy17','sy18','sy19','sy2','sy20','sy21','sy22','sy23','sy24','sy26','sy27','sy31','sy32','sy4','sy40','sy41','sy42','sy5','sy6','sy7'],'base':['gi','sy0','sy1','sy14','sy15','sy17','sy18','sy19','sy2','sy20','sy21','sy22','sy23','sy3','sy4','sy5','sy6','sy7','sy8'],'cpd':['sy0','sy1','sy17','sy2','sy3','sy4','sy5','sy6','sy7'],'d':['sy0','sy1','sy15','sy17','sy18','sy19','sy2','sy20','sy21','sy22','sy23','sy24','sy25','sy26','sy27','sy28','sy29','sy3','sy30','sy31','sy32','sy33','sy34','sy35','sy36','sy37','sy38','sy4','sy5','sy6','sy7'],'dbg':['sy1','sy15','sy17','sy18','sy2','sy20','sy24','sy25','sy26','sy27','sy28','sy3','sy30','sy31','sy32','sy38','sy4','sy41','sy42','sy43','sy44','sy45','sy46','sy5','sy6'],'dd':['sy21'],'dp':['sy17','sy3','sy37','sy46','sy6'],'drt':['sy1','sy17','sy2','sy24','sy25','sy26','sy3','sy30','sy31','sy35','sy37','sy4','sy46','sy47','sy48','sy5','sy6'],'el':['sy14','sy15','sy2','sy22','sy49'],'eld':['sy0','sy1','sy2','sy3','sy4','sy6'],'eq':['sy8'],'gl':['d','sy15','sy17','sy20','sy24','sy25','sy26','sy28','sy3','sy4','sy5','sy50'],'id':['sy0','sy1','sy15','sy17','sy18','sy19','sy2','sy20','sy21','sy22','sy23','sy24','sy25','sy26','sy27','sy28','sy29','sy3','sy30','sy31','sy33','sy37','sy38','sy4','sy40','sy42','sy43','sy44','sy45','sy5','sy50','sy6','sy7'],'ip':['sy3','sy6'],'is':['d','sy17','sy22','sy33','sy34','sy50'],'iw':['sy22','sy8'],'jb':['sy1','sy17','sy2','sy24','sy25','sy26','sy3','sy30','sy31','sy35','sy37','sy4','sy46','sy47','sy48','sy5','sy6'],'lo':['sy22'],'lod':['sy0','sy1','sy15','sy17','sy18','sy19','sy2','sy22','sy3','sy4','sy5','sy6','sy7'],'nb':['d','sy15','sy17','sy2','sy26','sy28','sy3','sy4','sy6'],'ni':['sy22','sy8'],'nw':['is','nb','sy15','sy17','sy22','sy23','sy24','sy26','sy28','sy33','sy34','sy6'],'p':['awd','d','sy0','sy15','sy17','sy19','sy2','sy20','sy22','sy23','sy25','sy26','sy3','sy31','sy33','sy4','sy43','sy46','sy47','sy6','sy7'],'sb':['is','sy17','sy22','sy23','sy33','sy34'],'sbi':['sy22','sy8'],'sd':['bn','d','sf','sy15','sy17','sy19','sy33','sy4','sy7'],'sf':['sy22'],'st':['sy1','sy24','sy3','sy30','sy35','sy36'],'sy0':['sy3','sy4','sy6'],'sy14':['sy15'],'sy17':['sy3','sy6'],'sy18':['sy17','sy3'],'sy19':['sy17','sy18','sy3','sy4','sy5'],'sy20':['sy17','sy3'],'sy23':['sy15','sy17','sy18','sy19','sy20','sy21','sy22','sy3','sy4','sy7'],'sy24':['sy3'],'sy25':['sy24','sy6'],'sy26':['sy4'],'sy28':['sy17','sy20','sy26','sy27','sy38','sy5'],'sy29':['sy17','sy20','sy6'],'sy30':['sy1','sy3'],'sy31':['sy26','sy30'],'sy32':['sy31'],'sy33':['sy17','sy26','sy28','sy29','sy3','sy37','sy4','sy6'],'sy34':['sy17','sy22','sy24','sy29'],'sy36':['sy24','sy30','sy35'],'sy37':['sy6'],'sy4':['sy1','sy2','sy3'],'sy40':['sy17','sy20','sy26','sy3','sy4','sy42','sy5','sy6'],'sy41':['sy20','sy26','sy3','sy32','sy4','sy42','sy6'],'sy42':['sy17','sy20','sy3'],'sy43':['sy3'],'sy44':['sy17','sy20','sy28','sy38','sy42'],'sy45':['sy26','sy3','sy4'],'sy46':['sy6'],'sy48':['sy1','sy24','sy26','sy3','sy31','sy35','sy4','sy46','sy47','sy5','sy6'],'sy49':['sy14','sy15','sy2','sy22'],'sy5':['sy4'],'sy50':['sy30','sy33'],'sy6':['sy3'],'sy7':['sy0','sy5'],'sy8':['sy22'],'uc':['sy22','sy8'],'ucd':['sy0','sy1','sy15','sy17','sy18','sy19','sy2','sy20','sy21','sy22','sy23','sy24','sy29','sy3','sy34','sy38','sy4','sy5','sy6','sy7'],'up':['sy0','sy1','sy14','sy15','sy17','sy18','sy19','sy2','sy20','sy22','sy26','sy3','sy4','sy45','sy49','sy5','sy6','sy7'],'vd':['sy0','sy1','sy15','sy17','sy2','sy20','sy22','sy3','sy4','sy5','sy6','sy7'],'vi':['sy22']}];(window['gbar']=window['gbar']||{})._LDD=[\"bt\",\"base\",\"bn\",\"bu\",\"cp\",\"el\",\"lo\",\"sbi\",\"ni\",\"sf\",\"up\",\"dd\",\"aw\",\"iw\",\"if\",\"gi\",\"vi\",\"pi\",\"eq\",\"uc\"];this.gbar_=this.gbar_||{};(function(_){var window=this;\n",
        "try{\n",
        "var ea,fa;_.aa=_.aa||{};_.m=this;_.n=function(a){return void 0!==a};_.p=function(a,c){for(var d=a.split(\".\"),e=c||_.m,f;f=d.shift();)if(null!=e[f])e=e[f];else return null;return e};_.ba=function(){};_.ca=function(a){a.J=function(){return a.Je?a.Je:a.Je=new a}};_.s=function(a){return\"string\"==typeof a};_.da=\"closure_uid_\"+(1E9*Math.random()&gt;&gt;&gt;0);ea=function(a,c,d){return a.call.apply(a.bind,arguments)};\n",
        "fa=function(a,c,d){if(!a)throw Error();if(2&lt;arguments.length){var e=Array.prototype.slice.call(arguments,2);return function(){var d=Array.prototype.slice.call(arguments);Array.prototype.unshift.apply(d,e);return a.apply(c,d)}}return function(){return a.apply(c,arguments)}};_.t=function(a,c,d){_.t=Function.prototype.bind&amp;&amp;-1!=Function.prototype.bind.toString().indexOf(\"native code\")?ea:fa;return _.t.apply(null,arguments)};_.ga=Date.now||function(){return+new Date};\n",
        "_.u=function(a,c){var d=a.split(\".\"),e=_.m;d[0]in e||!e.execScript||e.execScript(\"var \"+d[0]);for(var f;d.length&amp;&amp;(f=d.shift());)!d.length&amp;&amp;_.n(c)?e[f]=c:e[f]?e=e[f]:e=e[f]={}};_.v=function(a,c){function d(){}d.prototype=c.prototype;a.F=c.prototype;a.prototype=new d;a.prototype.constructor=a;a.hi=function(a,d,g){return c.prototype[d].apply(a,Array.prototype.slice.call(arguments,2))}};\n",
        "_.ha=function(a){if(Error.captureStackTrace)Error.captureStackTrace(this,_.ha);else{var c=Error().stack;c&amp;&amp;(this.stack=c)}a&amp;&amp;(this.message=String(a))};_.v(_.ha,Error);_.ha.prototype.name=\"CustomError\";var ia;ia=\"constructor hasOwnProperty isPrototypeOf propertyIsEnumerable toLocaleString toString valueOf\".split(\" \");_.ja=function(a,c){for(var d,e,f=1;f&lt;arguments.length;f++){e=arguments[f];for(d in e)a[d]=e[d];for(var g=0;g&lt;ia.length;g++)d=ia[g],Object.prototype.hasOwnProperty.call(e,d)&amp;&amp;(a[d]=e[d])}};\n",
        "_.ka=String.prototype.trim?function(a){return a.trim()}:function(a){return a.replace(/^[\\s\\xa0]+|[\\s\\xa0]+$/g,\"\")};_.la=Array.prototype;_.ma=_.la.indexOf?function(a,c,d){return _.la.indexOf.call(a,c,d)}:function(a,c,d){d=null==d?0:0&gt;d?Math.max(0,a.length+d):d;if(_.s(a))return _.s(c)&amp;&amp;1==c.length?a.indexOf(c,d):-1;for(;d&lt;a.length;d++)if(d in a&amp;&amp;a[d]===c)return d;return-1};_.na=_.la.forEach?function(a,c,d){_.la.forEach.call(a,c,d)}:function(a,c,d){for(var e=a.length,f=_.s(a)?a.split(\"\"):a,g=0;g&lt;e;g++)g in f&amp;&amp;c.call(d,f[g],g,a)};\n",
        "_.oa=_.la.filter?function(a,c,d){return _.la.filter.call(a,c,d)}:function(a,c,d){for(var e=a.length,f=[],g=0,h=_.s(a)?a.split(\"\"):a,l=0;l&lt;e;l++)if(l in h){var q=h[l];c.call(d,q,l,a)&amp;&amp;(f[g++]=q)}return f};_.pa=_.la.map?function(a,c,d){return _.la.map.call(a,c,d)}:function(a,c,d){for(var e=a.length,f=Array(e),g=_.s(a)?a.split(\"\"):a,h=0;h&lt;e;h++)h in g&amp;&amp;(f[h]=c.call(d,g[h],h,a));return f};\n",
        "_.qa=_.la.reduce?function(a,c,d,e){e&amp;&amp;(c=(0,_.t)(c,e));return _.la.reduce.call(a,c,d)}:function(a,c,d,e){var f=d;(0,_.na)(a,function(d,h){f=c.call(e,f,d,h,a)});return f};_.ra=_.la.some?function(a,c,d){return _.la.some.call(a,c,d)}:function(a,c,d){for(var e=a.length,f=_.s(a)?a.split(\"\"):a,g=0;g&lt;e;g++)if(g in f&amp;&amp;c.call(d,f[g],g,a))return!0;return!1};_.sa=function(a,c){return 0&lt;=(0,_.ma)(a,c)};\n",
        "var za;_.ta=function(){this.b={};this.d={}};_.ca(_.ta);_.va=function(a,c){a.J=function(){return _.ua(_.ta.J(),c)};a.Nh=function(){return _.ta.J().b[c]||null}};_.w=function(a){return _.ua(_.ta.J(),a)};_.xa=function(a,c){var d=_.ta.J();if(a in d.b){if(d.b[a]!=c)throw new wa(a);}else{d.b[a]=c;var e=d.d[a];if(e)for(var f=0,g=e.length;f&lt;g;f++)e[f].b(d.b,a);delete d.d[a]}};_.ua=function(a,c){if(c in a.b)return a.b[c];throw new ya(c);};za=function(a){_.ha.call(this);this.aa=a};_.v(za,_.ha); var wa=function(a){za.call(this,a)};_.v(wa,za);var ya=function(a){za.call(this,a)};_.v(ya,za);\n",
        "_.x=function(a,c){return null!=a?a:!!c};_.y=function(a){var c;void 0==c&amp;&amp;(c=\"\");return null!=a?a:c};_.A=function(a,c){void 0==c&amp;&amp;(c=0);return null!=a?a:c};_.Aa=/\\uffff/.test(\"\\uffff\")?/[\\\\\\\"\\x00-\\x1f\\x7f-\\uffff]/g:/[\\\\\\\"\\x00-\\x1f\\x7f-\\xff]/g;_.B=function(){};_.C=function(a,c,d,e){a.d={};c||(c=d?[d]:[]);a.A=d?String(d):void 0;a.k=0===d?-1:0;a.b=c;t:{if(a.b.length&amp;&amp;(c=a.b.length-1,(d=a.b[c])&amp;&amp;\"object\"==typeof d&amp;&amp;\"number\"!=typeof d.length)){a.w=c-a.k;a.o=d;break t}a.w=Number.MAX_VALUE}if(e)for(c=0;c&lt;e.length;c++)d=e[c],d&lt;a.w?(d+=a.k,a.b[d]=a.b[d]||[]):a.o[d]=a.o[d]||[]};_.D=function(a,c){return c&lt;a.w?a.b[c+a.k]:a.o[c]};_.E=function(a,c,d){if(!a.d[d]){var e=_.D(a,d);e&amp;&amp;(a.d[d]=new c(e))}return a.d[d]};_.B.prototype.ab=function(){return this.b}; _.B.prototype.toString=function(){return this.b.toString()};\n",
        "_.Ba=function(a){_.C(this,a,0,[])};_.v(_.Ba,_.B);var Ca=function(a){_.C(this,a,0,[])};_.v(Ca,_.B);var Da=function(a){_.C(this,a,0,[])};_.v(Da,_.B);_.Ea=function(a){return _.D(a,5)};_.Fa=function(a){return _.D(a,10)};_.Ga=function(a){_.C(this,a,0,[])};_.v(_.Ga,_.B);var Ha=function(a){_.C(this,a,0,[])};_.v(Ha,_.B);_.Ia=function(a){_.C(this,a,0,[])};_.v(_.Ia,_.B);_.Ja=function(a){_.C(this,a,0,[])};_.v(_.Ja,_.B);var Ka=function(a){_.C(this,a,0,[])};_.v(Ka,_.B);var La=function(a){_.C(this,a,0,[])};_.v(La,_.B);var Ma=function(a){_.C(this,a,0,[])},Oa,Qa;_.v(Ma,_.B);Ma.prototype.qc=function(){return _.E(this,_.Ba,14)};_.Na=function(){var a=_.G(_.H.J());return _.E(a,_.Ja,6)};Oa=function(){var a=_.G(_.H.J());return _.E(a,La,13)};_.Pa=function(){var a=_.G(_.H.J());return _.E(a,_.Ia,5)};Qa=function(){var a=_.G(_.H.J());return _.E(a,Ka,12)};_.Ra=function(){var a=_.G(_.H.J());return _.E(a,_.Ga,11)};\n",
        "var Sa;Sa=new Ma(window.gbar&amp;&amp;window.gbar._CONFIG?window.gbar._CONFIG[0]:[[,,,,,,,[]],[],[],[],[],[],[],[],[],[],[],[],[],[],[],[],[],[],[]]);_.Ta=_.x(_.D(Sa,3));_.I=function(){};_.u(\"gbar_._DumpException\",function(a){if(_.Ta)throw a;_.I(a)});var Ua;Ua=function(){this.d=!1;this.b=[]};_.Wa=function(a){var c=_.Va;c.d?a():c.b.push(a)};Ua.prototype.k=function(a){if(!this.d){this.d=!0;for(var c=0;c&lt;this.b.length;c++)try{this.b[c]()}catch(d){a(d)}this.b=null;try{_.w(\"api\").Wa()}catch(e){}}};_.Va=new Ua;\n",
        "_.u(\"gbar.ldb\",(0,_.t)(_.Va.k,_.Va));_.J=function(){this.Ka=this.Ka;this.La=this.La};_.J.prototype.Ka=!1;_.J.prototype.X=function(){this.Ka||(this.Ka=!0,this.M())};_.J.prototype.M=function(){if(this.La)for(;this.La.length;)this.La.shift()()};_.H=function(){_.J.call(this);this.b=Sa};_.v(_.H,_.J);_.va(_.H,\"cs\");_.G=function(a){return a.b};_.Xa=function(){var a=_.G(_.H.J());return _.E(a,Da,1)||new Da};_.Ya=function(){var a=_.G(_.H.J());return _.E(a,Ha,4)||new Ha};_.xa(\"cs\",new _.H);var Za,bb,ab;_.$a=function(a){var c=\"//www.google.com/gen_204?\",c=c+a.d(2040-c.length);Za(c)};Za=function(a){var c=new window.Image,d=ab;c.onerror=c.onload=c.onabort=function(){d in bb&amp;&amp;delete bb[d]};bb[ab++]=c;c.src=a};bb=[];ab=0;_.cb=function(){this.data={}};_.cb.prototype.b=function(){window.console&amp;&amp;window.console.log&amp;&amp;window.console.log(\"Log data: \",this.data)};_.cb.prototype.d=function(a){var c=[],d;for(d in this.data)c.push((0,window.encodeURIComponent)(d)+\"=\"+(0,window.encodeURIComponent)(String(this.data[d])));return(\"atyp=i&amp;zx=\"+(new Date).getTime()+\"&amp;\"+c.join(\"&amp;\")).substr(0,a)};\n",
        "var db=function(a){this.b=a};db.prototype.log=function(a,c){try{if(this.w(a)){var d=this.k(a,c);this.d(d)}}catch(e){}};db.prototype.d=function(a){this.b?a.b():_.$a(a)};var eb,fb,lb,mb;eb=_.Xa();fb=_.E(eb,Ca,8)||new Ca;_.gb=_.A(_.D(fb,2));_.hb=_.y(_.D(fb,4));_.ib=_.y(_.D(fb,3));_.jb=_.y(_.D(fb,5));_.kb=_.A(null!=_.D(fb,1)?_.D(fb,1):1,1);lb=_.y(_.D(fb,6));mb=_.y(_.D(fb,7));var nb=function(){this.data={};var a=_.Xa(),c=_.Ya(),d=this.data,e=_.y(_.Fa(a)),f;window.google&amp;&amp;window.google.sn?f=/.*hp$/.test(window.google.sn)?!1:!0:(f=_.Xa(),f=_.x(_.D(f,7)));_.ja(d,{ei:e,ogf:_.ib,ogrp:f?\"1\":\"\",ogv:lb+\".\"+mb,ogd:_.y(_.D(a,21)),ogc:_.y(_.D(a,20)),ogl:_.y(_.Ea(a))});(a=_.D(c,9))&amp;&amp;(this.data.oggv=a)};_.v(nb,_.cb);\n",
        "_.ob=function(a,c){nb.call(this);var d=_.Xa(),e=Oa()||new La;_.ja(this.data,{jexpid:_.y(_.D(d,9)),srcpg:\"prop=\"+_.y(_.D(d,6)),jsr:Math.round(1/_.A(null!=_.D(e,2)?_.D(e,2):.001)),emsg:a.name+\":\"+a.message});if(c){c._sn&amp;&amp;(c._sn=\"og.\"+c._sn);for(var f in c)this.data[(0,window.encodeURIComponent)(f)]=c[f]}};_.v(_.ob,nb);\n",
        "var pb=function(a){this.b=a;a=Oa()||new La;this.K=_.A(null!=_.D(a,2)?_.D(a,2):.001,.001);this.B=_.x(_.D(a,1))&amp;&amp;Math.random()&lt;this.K;this.A=_.A(null!=_.D(a,3)?_.D(a,3):1,1);this.o=0;this.C=_.x(null!=_.D(a,4)?_.D(a,4):!0,!0)};_.v(pb,db);pb.prototype.log=function(a,c){pb.F.log.call(this,a,c);if(this.b&amp;&amp;this.C)throw a;};pb.prototype.w=function(){return this.b||this.B&amp;&amp;this.o&lt;this.A};pb.prototype.k=function(a,c){try{return _.ua(_.ta.J(),\"lm\").wf(a,c)}catch(d){return new _.ob(a,c)}}; pb.prototype.d=function(a){pb.F.d.call(this,a);this.o++};\n",
        "var qb;qb=null;_.I=function(a,c){qb||(qb=new pb(_.Ta));qb.log(a,c)};var rb=[1,2,3,4,5,6,9,10,11,13,14,28,29,30,34,35,37,38,39,40,41,42,43,48,49,50,51,52,53,500],ub=function(a,c,d){nb.call(this);var e=_.Xa(),f=Qa()||new Ka;_.ja(this.data,{oge:a,ogex:_.y(_.D(e,9)),ogp:_.y(_.D(e,6)),ogsr:Math.round(1/(sb(a)?_.A(null!=_.D(f,3)?_.D(f,3):1):_.A(null!=_.D(f,2)?_.D(f,2):1E-4))),ogus:c});if(d){\"ogw\"in d&amp;&amp;(this.data.ogw=d.ogw,delete d.ogw);\"ved\"in d&amp;&amp;(this.data.ved=d.ved,delete d.ved);a=[];for(var g in d)0!=a.length&amp;&amp;a.push(\",\"),a.push(tb(g)),a.push(\".\"),a.push(tb(d[g]));d= a.join(\"\");\"\"!=d&amp;&amp;(this.data.ogad=d)}};_.v(ub,nb);var tb=function(a){return(a+\"\").replace(\".\",\"%2E\").replace(\",\",\"%2C\")},vb=null,sb=function(a){if(!vb){vb={};for(var c=0;c&lt;rb.length;c++)vb[rb[c]]=!0}return!!vb[a]};\n",
        "var wb=function(a){this.b=a;a=Qa()||new Ka;this.B=_.A(null!=_.D(a,2)?_.D(a,2):1E-4,1E-4);this.A=_.A(null!=_.D(a,3)?_.D(a,3):1,1);var c=Math.random();this.C=_.x(_.D(a,1))&amp;&amp;c&lt;this.B;this.o=_.x(_.D(a,1))&amp;&amp;c&lt;this.A;a=0;c=_.Ra()||new _.Ga;_.x(_.D(c,1))&amp;&amp;(a|=1);_.x(_.D(c,2))&amp;&amp;(a|=2);_.x(_.D(c,3))&amp;&amp;(a|=4);_.x(_.D(c,4))&amp;&amp;(a|=8);this.K=a};_.v(wb,db);wb.prototype.w=function(a){return this.b||(sb(a)?this.o:this.C)};wb.prototype.k=function(a,c){return new ub(a,this.K,c)};\n",
        "var xb;xb=null;_.K=function(a,c){xb||(xb=new wb(_.Ta));xb.log(a,c)};_.K(8,{m:\"BackCompat\"==window.document.compatMode?\"q\":\"s\"});var yb,Ab,Bb,Db;\n",
        "_.zb=function(a,c,d,e){_.J.call(this);this.K=c;this.G=!1;this.k={\"\":!0};this.N={\"\":!0};this.w=[];this.o=[];this.V=[\"//\"+_.y(_.D(a,2)),\"og/_/js\",\"k=\"+_.y(_.D(a,3)),\"rt=j\"];this.B=\"\"==_.y(_.D(a,14))?null:_.D(a,14);this.Q=[\"//\"+_.y(_.D(a,2)),\"og/_/ss\",\"k=\"+_.y(_.D(a,13))];this.C=\"\"==_.y(_.D(a,15))?null:_.D(a,15);this.P=_.x(_.D(a,1))?\"?host=www.gstatic.com&amp;bust=\"+_.y(_.D(a,16)):\"\";this.H=_.x(_.D(a,1))?\"?host=www.gstatic.com&amp;bust=\"+1E11*Math.random():\"\";this.d=d;this.U=_.x(_.D(a,18),!0);this.L=_.A(_.D(a,\n",
        "19),200);this.b=_.A(null!=_.D(a,17)?_.D(a,17):1,1);a=0;for(c=e[a];a&lt;e.length;a++,c=e[a])yb(this,c,!0)};_.v(_.zb,_.J);_.va(_.zb,\"m\");yb=function(a,c,d){if(!a.k[c]&amp;&amp;(a.k[c]=!0,d&amp;&amp;a.d[c]))for(var e=0;e&lt;a.d[c].length;e++)yb(a,a.d[c][e],d)};Ab=function(a,c){for(var d=[],e=0;e&lt;c.length;e++){var f=c[e];if(!a.k[f]){var g=a.d[f];g&amp;&amp;(g=Ab(a,g),d=d.concat(g));d.push(f);a.k[f]=!0}}return d};\n",
        "_.Cb=function(a,c,d){c=Ab(a,c);0&lt;c.length&amp;&amp;(c=a.V.join(\"/\")+\"/\"+(\"m=\"+c.join(\",\")),a.B&amp;&amp;(c+=\"/rs=\"+a.B),c=c+a.P,Bb(a,c,(0,_.t)(a.S,a,d)),a.w.push(c))};_.zb.prototype.S=function(a){_.w(\"api\").Wa();for(var c=0;c&lt;this.o.length;c++)this.o[c].call(null);a&amp;&amp;a.call(null)};\n",
        "Bb=function(a,c,d,e){var f=window.document.createElement(\"SCRIPT\");f.async=!0;f.type=\"text/javascript\";f.charset=\"UTF-8\";f.src=c;var g=!0,h=e||1,l=function(){g&amp;&amp;(_.K(46,{att:h,max:a.b,url:c}),g=!1,d&amp;&amp;d.call(null))},q=function(a){\"loaded\"==a.readyState||\"complete\"==a.readyState?l():g&amp;&amp;window.setTimeout(function(){q(a)},100)};\"undefined\"!==typeof f.addEventListener?f.onload=function(){l()}:f.onreadystatechange=function(){f.onreadystatechange=null;q(f)};f.onerror=function(){g=!1;_.K(47,{att:h,max:a.b,\n",
        "url:c});h&lt;a.b?Bb(a,c,d,h+1):_.I(Error(\"e`\"+h+\"`\"+a.b),{url:c})};_.K(45,{att:h,max:a.b,url:c});window.document.getElementsByTagName(\"HEAD\")[0].appendChild(f)};_.Eb=function(a,c,d){for(var e=[],f=0,g=c[f];f&lt;c.length;f++,g=c[f])a.N[g]||(e.push(g),a.N[g]=!0);0&lt;e.length&amp;&amp;(c=a.Q.join(\"/\")+\"/\"+(\"m=\"+e.join(\",\")),a.C&amp;&amp;(c+=\"/rs=\"+a.C),c+=a.H,Db(c,d))};\n",
        "Db=function(a,c){var d=window.document.createElement(\"LINK\");d.setAttribute(\"rel\",\"stylesheet\");d.setAttribute(\"type\",\"text/css\");d.setAttribute(\"href\",a);d.onload=d.onreadystatechange=function(){d.readyState&amp;&amp;\"loaded\"!=d.readyState&amp;&amp;\"complete\"!=d.readyState||c&amp;&amp;c.call(null)};window.document.getElementsByTagName(\"HEAD\")[0].appendChild(d)};_.zb.prototype.A=function(a){this.G||(void 0!=a?window.setTimeout((0,_.t)(this.A,this,void 0),a):(_.Cb(this,_.D(this.K,1),Fb),_.Eb(this,_.D(this.K,2)),this.G=!0))}; _.zb.prototype.init=function(){if(this.U)this.A();else{var a=(0,_.t)(this.A,this,this.L);_.Wa(a)}};var Fb=function(){_.u(\"gbar.qm\",function(a){try{a()}catch(c){_.I(c)}})};\n",
        "\n",
        "}catch(e){_._DumpException(e)}\n",
        "try{\n",
        "var Qb=function(){_.J.call(this);this.ge=[];this.gd=[]};_.v(Qb,_.J);Qb.prototype.b=function(a,c){this.ge.push({mc:a,options:c})};Qb.prototype.init=function(){window.gapi={};var a=_.Ya(),c=window.___jsl={};c.h=_.y(_.D(a,1));c.ms=_.y(_.D(a,2));c.m=_.y(_.D(a,3));c.l=[];a=_.Pa()||new _.Ia;_.D(a,1)&amp;&amp;(a=_.D(a,3))&amp;&amp;this.gd.push(a);a=_.Na()||new _.Ja;_.D(a,1)&amp;&amp;(a=_.D(a,2))&amp;&amp;this.gd.push(a);_.u(\"gapi.load\",(0,_.t)(this.b,this));return this};\n",
        "var Rb=_.Ya();window.__PVT=_.y(_.D(Rb,7));_.xa(\"gs\",(new Qb).init());\n",
        "}catch(e){_._DumpException(e)}\n",
        "try{\n",
        "var Ub;\n",
        "_.Sb=function(a){var c=typeof a;if(\"object\"==c)if(a){if(a instanceof Array)return\"array\";if(a instanceof Object)return c;var d=Object.prototype.toString.call(a);if(\"[object Window]\"==d)return\"object\";if(\"[object Array]\"==d||\"number\"==typeof a.length&amp;&amp;\"undefined\"!=typeof a.splice&amp;&amp;\"undefined\"!=typeof a.propertyIsEnumerable&amp;&amp;!a.propertyIsEnumerable(\"splice\"))return\"array\";if(\"[object Function]\"==d||\"undefined\"!=typeof a.call&amp;&amp;\"undefined\"!=typeof a.propertyIsEnumerable&amp;&amp;!a.propertyIsEnumerable(\"call\"))return\"function\"}else return\"null\";else if(\"function\"==\n",
        "c&amp;&amp;\"undefined\"==typeof a.call)return\"object\";return c};_.Tb=function(a){return\"array\"==_.Sb(a)};Ub=function(a,c){return a&lt;c?-1:a&gt;c?1:0};_.Vb=function(a,c){return-1!=a.indexOf(c)};\n",
        "_.Wb=function(a,c){for(var d=0,e=(0,_.ka)(String(a)).split(\".\"),f=(0,_.ka)(String(c)).split(\".\"),g=Math.max(e.length,f.length),h=0;0==d&amp;&amp;h&lt;g;h++){var l=e[h]||\"\",q=f[h]||\"\",r=RegExp(\"(\\\\d*)(\\\\D*)\",\"g\"),z=RegExp(\"(\\\\d*)(\\\\D*)\",\"g\");do{var F=r.exec(l)||[\"\",\"\",\"\"],T=z.exec(q)||[\"\",\"\",\"\"];if(0==F[0].length&amp;&amp;0==T[0].length)break;d=Ub(0==F[1].length?0:(0,window.parseInt)(F[1],10),0==T[1].length?0:(0,window.parseInt)(T[1],10))||Ub(0==F[2].length,0==T[2].length)||Ub(F[2],T[2])}while(0==d)}return d};\n",
        "_.Xb=function(a,c,d){for(var e in a)c.call(d,a[e],e,a)};_.Yb=function(a){var c=typeof a;return\"object\"==c&amp;&amp;null!=a||\"function\"==c};_.Zb=function(a){return\"function\"==_.Sb(a)};_.$b=function(a){return\"number\"==typeof a};t:{var bc=_.m.navigator;if(bc){var cc=bc.userAgent;if(cc){_.ac=cc;break t}}_.ac=\"\"};\n",
        "var ic,lc,nc,pc,qc;_.fc=_.Vb(_.ac,\"Opera\")||_.Vb(_.ac,\"OPR\");_.L=_.Vb(_.ac,\"Trident\")||_.Vb(_.ac,\"MSIE\");_.gc=_.Vb(_.ac,\"Gecko\")&amp;&amp;!_.Vb(_.ac.toLowerCase(),\"webkit\")&amp;&amp;!(_.Vb(_.ac,\"Trident\")||_.Vb(_.ac,\"MSIE\"));_.M=_.Vb(_.ac.toLowerCase(),\"webkit\");_.hc=_.M&amp;&amp;_.Vb(_.ac,\"Mobile\");ic=_.m.navigator||null;_.jc=ic&amp;&amp;ic.platform||\"\";_.dc=_.Vb(_.jc,\"Mac\");_.ec=_.Vb(_.jc,\"Win\");_.kc=_.Vb(_.jc,\"Linux\");lc=_.m.navigator||null;_.mc=!!lc&amp;&amp;_.Vb(lc.appVersion||\"\",\"X11\");\n",
        "nc=function(){var a=_.m.document;return a?a.documentMode:void 0};_.oc=function(){var a=\"\",c;if(_.fc&amp;&amp;_.m.opera)return a=_.m.opera.version,_.Zb(a)?a():a;_.gc?c=/rv\\:([^\\);]+)(\\)|;)/:_.L?c=/\\b(?:MSIE|rv)[: ]([^\\);]+)(\\)|;)/:_.M&amp;&amp;(c=/WebKit\\/(\\S+)/);c&amp;&amp;(a=(a=c.exec(_.ac))?a[1]:\"\");return _.L&amp;&amp;(c=nc(),c&gt;(0,window.parseFloat)(a))?String(c):a}();pc={};_.N=function(a){return pc[a]||(pc[a]=0&lt;=_.Wb(_.oc,a))};qc=_.m.document;_.rc=qc&amp;&amp;_.L?nc()||(\"CSS1Compat\"==qc.compatMode?(0,window.parseInt)(_.oc,10):5):void 0;\n",
        "\n",
        "}catch(e){_._DumpException(e)}\n",
        "try{\n",
        "var tc;_.sc=function(a){var c=a.length;if(0&lt;c){for(var d=Array(c),e=0;e&lt;c;e++)d[e]=a[e];return d}return[]};tc=function(a){var c=[],d=0,e;for(e in a)c[d++]=e;return c};_.uc=function(a){var c=[],d=0,e;for(e in a)c[d++]=a[e];return c};_.vc=function(a){var c=_.Sb(a);return\"array\"==c||\"object\"==c&amp;&amp;\"number\"==typeof a.length};\n",
        "_.wc=function(a,c,d){return Math.min(Math.max(a,c),d)};_.xc=\"StopIteration\"in _.m?_.m.StopIteration:Error(\"g\");_.yc=function(){};_.yc.prototype.next=function(){throw _.xc;};_.yc.prototype.Kb=function(){return this};_.zc=function(a,c){this.d={};this.b=[];this.o=this.k=0;var d=arguments.length;if(1&lt;d){if(d%2)throw Error(\"b\");for(var e=0;e&lt;d;e+=2)this.set(arguments[e],arguments[e+1])}else if(a){\"undefined\"!=typeof _.zc&amp;&amp;a instanceof _.zc?(d=a.Fa(),e=a.Ga()):(d=tc(a),e=_.uc(a));for(var f=0;f&lt;d.length;f++)this.set(d[f],e[f])}};_.k=_.zc.prototype;_.k.Ga=function(){Ac(this);for(var a=[],c=0;c&lt;this.b.length;c++)a.push(this.d[this.b[c]]);return a};_.k.Fa=function(){Ac(this);return this.b.concat()};\n",
        "_.k.Zb=function(){return 0==this.k};_.k.clear=function(){this.d={};this.o=this.k=this.b.length=0};_.k.remove=function(a){return _.Bc(this.d,a)?(delete this.d[a],this.k--,this.o++,this.b.length&gt;2*this.k&amp;&amp;Ac(this),!0):!1};var Ac=function(a){if(a.k!=a.b.length){for(var c=0,d=0;c&lt;a.b.length;){var e=a.b[c];_.Bc(a.d,e)&amp;&amp;(a.b[d++]=e);c++}a.b.length=d}if(a.k!=a.b.length){for(var f={},d=c=0;c&lt;a.b.length;)e=a.b[c],_.Bc(f,e)||(a.b[d++]=e,f[e]=1),c++;a.b.length=d}};_.k=_.zc.prototype;\n",
        "_.k.get=function(a,c){return _.Bc(this.d,a)?this.d[a]:c};_.k.set=function(a,c){_.Bc(this.d,a)||(this.k++,this.b.push(a),this.o++);this.d[a]=c};_.k.forEach=function(a,c){for(var d=this.Fa(),e=0;e&lt;d.length;e++){var f=d[e],g=this.get(f);a.call(c,g,f,this)}};_.k.clone=function(){return new _.zc(this)};_.k.Kb=function(a){Ac(this);var c=0,d=this.b,e=this.d,f=this.o,g=this,h=new _.yc;h.next=function(){for(;;){if(f!=g.o)throw Error(\"i\");if(c&gt;=d.length)throw _.xc;var h=d[c++];return a?h:e[h]}};return h}; _.Bc=function(a,c){return Object.prototype.hasOwnProperty.call(a,c)};\n",
        "_.Ec=function(a){if(\"function\"==typeof a.Ga)return a.Ga();if(_.s(a))return a.split(\"\");if(_.vc(a)){for(var c=[],d=a.length,e=0;e&lt;d;e++)c.push(a[e]);return c}return _.uc(a)};_.Fc=function(a){if(\"function\"==typeof a.Fa)return a.Fa();if(\"function\"!=typeof a.Ga){if(_.vc(a)||_.s(a)){var c=[];a=a.length;for(var d=0;d&lt;a;d++)c.push(d);return c}return tc(a)}}; _.Gc=function(a,c){if(\"function\"==typeof a.forEach)a.forEach(c,void 0);else if(_.vc(a)||_.s(a))(0,_.na)(a,c,void 0);else for(var d=_.Fc(a),e=_.Ec(a),f=e.length,g=0;g&lt;f;g++)c.call(void 0,e[g],d&amp;&amp;d[g],a)};\n",
        "\n",
        "}catch(e){_._DumpException(e)}\n",
        "try{\n",
        "_.Hc=function(a){_.Hc[\" \"](a);return a};_.Hc[\" \"]=_.ba;\n",
        "}catch(e){_._DumpException(e)}\n",
        "try{\n",
        "var Lc,Mc;_.Ic=function(a,c){try{return _.Hc(a[c]),!0}catch(d){}return!1};_.Jc=function(a,c){var d=(0,_.ma)(a,c),e;(e=0&lt;=d)&amp;&amp;_.la.splice.call(a,d,1);return e};_.Kc=!_.L||_.L&amp;&amp;9&lt;=_.rc;Lc=!_.L||_.L&amp;&amp;9&lt;=_.rc;Mc=_.L&amp;&amp;!_.N(\"9\");!_.M||_.N(\"528\");_.gc&amp;&amp;_.N(\"1.9b\")||_.L&amp;&amp;_.N(\"8\")||_.fc&amp;&amp;_.N(\"9.5\")||_.M&amp;&amp;_.N(\"528\");_.gc&amp;&amp;!_.N(\"8\")||_.L&amp;&amp;_.N(\"9\");\n",
        "_.Nc=function(a,c){this.type=a;this.k=this.target=c;this.A=!1;this.Ze=!0};_.Nc.prototype.X=function(){};_.Nc.prototype.stopPropagation=function(){this.A=!0};_.Nc.prototype.preventDefault=function(){this.Ze=!1};_.Oc=_.L?\"focusin\":\"DOMFocusIn\";_.Pc=_.M?\"webkitTransitionEnd\":_.fc?\"otransitionend\":\"transitionend\";_.Qc=function(a,c){_.Nc.call(this,a?a.type:\"\");this.o=this.k=this.target=null;this.C=this.keyCode=this.button=this.clientY=this.clientX=0;this.G=this.B=this.d=this.w=!1;this.b=this.state=null;a&amp;&amp;this.init(a,c)};_.v(_.Qc,_.Nc);\n",
        "_.Qc.prototype.init=function(a,c){var d=this.type=a.type;this.target=a.target||a.srcElement;this.k=c;var e=a.relatedTarget;e?_.gc&amp;&amp;(_.Ic(e,\"nodeName\")||(e=null)):\"mouseover\"==d?e=a.fromElement:\"mouseout\"==d&amp;&amp;(e=a.toElement);this.o=e;this.clientX=void 0!==a.clientX?a.clientX:a.pageX;this.clientY=void 0!==a.clientY?a.clientY:a.pageY;this.button=a.button;this.keyCode=a.keyCode||0;this.C=a.charCode||(\"keypress\"==d?a.keyCode:0);this.w=a.ctrlKey;this.d=a.altKey;this.B=a.shiftKey;this.G=a.metaKey;this.state=\n",
        "a.state;this.b=a;a.defaultPrevented&amp;&amp;this.preventDefault()};_.Qc.prototype.stopPropagation=function(){_.Qc.F.stopPropagation.call(this);this.b.stopPropagation?this.b.stopPropagation():this.b.cancelBubble=!0};_.Qc.prototype.preventDefault=function(){_.Qc.F.preventDefault.call(this);var a=this.b;if(a.preventDefault)a.preventDefault();else if(a.returnValue=!1,Mc)try{if(a.ctrlKey||112&lt;=a.keyCode&amp;&amp;123&gt;=a.keyCode)a.keyCode=-1}catch(c){}};_.Qc.prototype.N=function(){return this.b};\n",
        "var Tc;_.Rc=\"closure_listenable_\"+(1E6*Math.random()|0);_.Sc=function(a){return!(!a||!a[_.Rc])};Tc=0;var Uc;Uc=function(a,c,d,e,f){this.nb=a;this.b=null;this.src=c;this.type=d;this.ic=!!e;this.Dc=f;this.key=++Tc;this.Gb=this.hc=!1};_.Vc=function(a){a.Gb=!0;a.nb=null;a.b=null;a.src=null;a.Dc=null};_.Wc=function(a){this.src=a;this.b={};this.d=0};_.Wc.prototype.add=function(a,c,d,e,f){var g=a.toString();a=this.b[g];a||(a=this.b[g]=[],this.d++);var h=_.Xc(a,c,e,f);-1&lt;h?(c=a[h],d||(c.hc=!1)):(c=new Uc(c,this.src,g,!!e,f),c.hc=d,a.push(c));return c};_.Wc.prototype.remove=function(a,c,d,e){a=a.toString();if(!(a in this.b))return!1;var f=this.b[a];c=_.Xc(f,c,d,e);return-1&lt;c?(_.Vc(f[c]),_.la.splice.call(f,c,1),0==f.length&amp;&amp;(delete this.b[a],this.d--),!0):!1};\n",
        "_.Yc=function(a,c){var d=c.type;if(!(d in a.b))return!1;var e=_.Jc(a.b[d],c);e&amp;&amp;(_.Vc(c),0==a.b[d].length&amp;&amp;(delete a.b[d],a.d--));return e};_.Xc=function(a,c,d,e){for(var f=0;f&lt;a.length;++f){var g=a[f];if(!g.Gb&amp;&amp;g.nb==c&amp;&amp;g.ic==!!d&amp;&amp;g.Dc==e)return f}return-1};\n",
        "var Zc,$c,ad,ed,fd,jd,id,gd,kd;Zc=\"closure_lm_\"+(1E6*Math.random()|0);$c={};ad=0;_.O=function(a,c,d,e,f){if(_.Tb(c)){for(var g=0;g&lt;c.length;g++)_.O(a,c[g],d,e,f);return null}d=_.bd(d);return _.Sc(a)?a.Ra(c,d,e,f):_.cd(a,c,d,!1,e,f)};_.cd=function(a,c,d,e,f,g){if(!c)throw Error(\"j\");var h=!!f,l=_.dd(a);l||(a[Zc]=l=new _.Wc(a));d=l.add(c,d,e,f,g);if(d.b)return d;e=ed();d.b=e;e.src=a;e.nb=d;a.addEventListener?a.addEventListener(c.toString(),e,h):a.attachEvent(fd(c.toString()),e);ad++;return d};\n",
        "ed=function(){var a=gd,c=Lc?function(d){return a.call(c.src,c.nb,d)}:function(d){d=a.call(c.src,c.nb,d);if(!d)return d};return c};_.hd=function(a){if(_.$b(a)||!a||a.Gb)return!1;var c=a.src;if(_.Sc(c))return c.gc(a);var d=a.type,e=a.b;c.removeEventListener?c.removeEventListener(d,e,a.ic):c.detachEvent&amp;&amp;c.detachEvent(fd(d),e);ad--;(d=_.dd(c))?(_.Yc(d,a),0==d.d&amp;&amp;(d.src=null,c[Zc]=null)):_.Vc(a);return!0};fd=function(a){return a in $c?$c[a]:$c[a]=\"on\"+a};\n",
        "jd=function(a,c,d,e){var f=1;if(a=_.dd(a))if(c=a.b[c.toString()])for(c=c.concat(),a=0;a&lt;c.length;a++){var g=c[a];g&amp;&amp;g.ic==d&amp;&amp;!g.Gb&amp;&amp;(f&amp;=!1!==id(g,e))}return Boolean(f)};id=function(a,c){var d=a.nb,e=a.Dc||a.src;a.hc&amp;&amp;_.hd(a);return d.call(e,c)};\n",
        "gd=function(a,c){if(a.Gb)return!0;if(!Lc){var d=c||_.p(\"window.event\"),e=new _.Qc(d,this),f=!0;if(!(0&gt;d.keyCode||void 0!=d.returnValue)){t:{var g=!1;if(0==d.keyCode)try{d.keyCode=-1;break t}catch(h){g=!0}if(g||void 0==d.returnValue)d.returnValue=!0}d=[];for(g=e.k;g;g=g.parentNode)d.push(g);for(var g=a.type,l=d.length-1;!e.A&amp;&amp;0&lt;=l;l--)e.k=d[l],f&amp;=jd(d[l],g,!0,e);for(l=0;!e.A&amp;&amp;l&lt;d.length;l++)e.k=d[l],f&amp;=jd(d[l],g,!1,e)}return f}return id(a,new _.Qc(c,this))}; _.dd=function(a){a=a[Zc];return a instanceof _.Wc?a:null};kd=\"__closure_events_fn_\"+(1E9*Math.random()&gt;&gt;&gt;0);_.bd=function(a){if(_.Zb(a))return a;a[kd]||(a[kd]=function(c){return a.handleEvent(c)});return a[kd]};\n",
        "\n",
        "}catch(e){_._DumpException(e)}\n",
        "try{\n",
        "_.ld=function(a,c){return function(){try{return a.apply(c,arguments)}catch(d){_.I(d)}}};_.nd=function(a,c,d,e,f){d=_.ld(d,f);d=_.O(a,c,d,e,f);_.md(a,c);return d};_.md=function(a,c){if(a instanceof window.Element){var d=_.w(\"eq\").Ne(a,c);if(d)if(_.L&amp;&amp;d instanceof window.MouseEvent&amp;&amp;a.dispatchEvent){var e=window.document.createEvent(\"MouseEvent\");e.initMouseEvent(d.type,!0,!0,d.view,d.detail,d.screenX,d.screenY,d.clientX,d.clientY,d.ctrlKey,d.altKey,d.shiftKey,d.metaKey,d.button,d.relatedTarget);a.dispatchEvent(e)}else a.dispatchEvent&amp;&amp;a.dispatchEvent(d)}};\n",
        "\n",
        "}catch(e){_._DumpException(e)}\n",
        "try{\n",
        "var sd;_.od=function(a,c,d,e,f){if(_.Tb(c)){for(var g=0;g&lt;c.length;g++)_.od(a,c[g],d,e,f);return null}d=_.bd(d);return _.Sc(a)?a.rd(c,d,e,f):_.cd(a,c,d,!0,e,f)};_.pd=function(a){_.J.call(this);this.C=a;this.U={}};_.v(_.pd,_.J);var qd=[];_.pd.prototype.b=function(a,c,d,e){return rd(this,a,c,d,e)};_.pd.prototype.N=function(a,c,d,e,f){return rd(this,a,c,d,e,f)};\n",
        "var rd=function(a,c,d,e,f,g){_.Tb(d)||(d&amp;&amp;(qd[0]=d.toString()),d=qd);for(var h=0;h&lt;d.length;h++){var l=_.O(c,d[h],e||a.handleEvent,f||!1,g||a.C||a);if(!l)break;a.U[l.key]=l}return a};_.pd.prototype.G=function(a,c,d,e){return sd(this,a,c,d,e)};sd=function(a,c,d,e,f,g){if(_.Tb(d))for(var h=0;h&lt;d.length;h++)sd(a,c,d[h],e,f,g);else{c=_.od(c,d,e||a.handleEvent,f,g||a.C||a);if(!c)return a;a.U[c.key]=c}return a};_.td=function(a,c,d,e){d.b(c,e,void 0,a.C||a,a)};_.ud=function(a){_.Xb(a.U,_.hd);a.U={}}; _.pd.prototype.M=function(){_.pd.F.M.call(this);_.ud(this)};_.pd.prototype.handleEvent=function(){throw Error(\"k\");};\n",
        "\n",
        "}catch(e){_._DumpException(e)}\n",
        "try{\n",
        "_.vd=function(a){_.pd.call(this,a);this.Ua=a||this};_.v(_.vd,_.pd);_.vd.prototype.b=function(a,c,d,e){if(d){if(\"function\"!=typeof d)throw new TypeError(\"Function expected\");d=_.ld(d,this.Ua);d=_.vd.F.b.call(this,a,c,d,e);_.md(a,wd(c));return d}return _.vd.F.b.call(this,a,c,d,e)};_.vd.prototype.N=function(a,c,d,e,f){if(d){if(\"function\"!=typeof d)throw new TypeError(\"Function expected\");d=_.ld(d,f||this.Ua);d=_.vd.F.N.call(this,a,c,d,e,f);_.md(a,wd(c));return d}return _.vd.F.N.call(this,a,c,d,e,f)};\n",
        "_.vd.prototype.G=function(a,c,d,e){if(d){if(\"function\"!=typeof d)throw new TypeError(\"Function expected\");d=_.ld(d,this.Ua);d=_.vd.F.G.call(this,a,c,d,e);_.md(a,wd(c));return d}return _.vd.F.G.call(this,a,c,d,e)};var wd=function(a){return _.Tb(a)?(0,_.pa)(a,wd):_.s(a)?a:a?a.toString():a};\n",
        "_.xd=function(a){_.vd.call(this);this.d=a};_.v(_.xd,_.vd);_.xd.prototype.M=function(){this.d=null;_.xd.F.M.call(this)};\n",
        "}catch(e){_._DumpException(e)}\n",
        "try{\n",
        "var yd=function(){_.J.call(this);this.k=this.b=null;this.w=0;this.o={};this.d=!1;var a=window.navigator.userAgent;0&lt;=a.indexOf(\"MSIE\")&amp;&amp;0&lt;=a.indexOf(\"Trident\")&amp;&amp;(a=/\\b(?:MSIE|rv)[: ]([^\\);]+)(\\)|;)/.exec(a))&amp;&amp;a[1]&amp;&amp;9&gt;(0,window.parseFloat)(a[1])&amp;&amp;(this.d=!0)};_.v(yd,_.J);\n",
        "yd.prototype.Qd=function(a,c){if(!this.d)if(c instanceof Array)for(var d in c)this.Qd(a,c[d]);else{d=(0,_.t)(this.A,this,a);var e=this.w+c;this.w++;a.setAttribute(\"data-eqid\",e);this.o[e]=d;a&amp;&amp;a.addEventListener?a.addEventListener(c,d,!1):a&amp;&amp;a.attachEvent?a.attachEvent(\"on\"+c,d):_.I(Error(\"l`\"+a))}};\n",
        "yd.prototype.Ne=function(a,c){if(this.d)return null;if(c instanceof Array){var d=null,e;for(e in c){var f=this.Ne(a,c[e]);f&amp;&amp;(d=f)}return d}d=null;this.b&amp;&amp;this.b.type==c&amp;&amp;this.k==a&amp;&amp;(d=this.b,this.b=null);if(e=a.getAttribute(\"data-eqid\"))a.removeAttribute(\"data-eqid\"),(e=this.o[e])?a.removeEventListener?a.removeEventListener(c,e,!1):a.detachEvent&amp;&amp;a.detachEvent(\"on\"+c,e):_.I(Error(\"m`\"+a));return d};yd.prototype.A=function(a,c){this.b=c;this.k=a;c.preventDefault?c.preventDefault():c.returnValue=!1};\n",
        "_.xa(\"eq\",new yd);_.zd=function(a){_.Wa(function(){var c=window.document.querySelector(\".\"+a);c&amp;&amp;(c=c.querySelector(\".gb_A\"))&amp;&amp;_.w(\"eq\").Qd(c,\"click\")})};\n",
        "}catch(e){_._DumpException(e)}\n",
        "try{\n",
        "var Ad;Ad=function(a){if(a.classList)return a.classList;a=a.className;return _.s(a)&amp;&amp;a.match(/\\S+/g)||[]};_.P=function(a,c){return a.classList?a.classList.contains(c):_.sa(Ad(a),c)};_.Q=function(a,c){a.classList?a.classList.add(c):_.P(a,c)||(a.className+=0&lt;a.className.length?\" \"+c:c)};\n",
        "_.Bd=function(a,c){if(a.classList)(0,_.na)(c,function(c){_.Q(a,c)});else{var d={};(0,_.na)(Ad(a),function(a){d[a]=!0});(0,_.na)(c,function(a){d[a]=!0});a.className=\"\";for(var e in d)a.className+=0&lt;a.className.length?\" \"+e:e}};_.R=function(a,c){a.classList?a.classList.remove(c):_.P(a,c)&amp;&amp;(a.className=(0,_.oa)(Ad(a),function(a){return a!=c}).join(\" \"))};_.Cd=function(a,c){a.classList?(0,_.na)(c,function(c){_.R(a,c)}):a.className=(0,_.oa)(Ad(a),function(a){return!_.sa(c,a)}).join(\" \")}; _.Dd=function(a,c,d){d?_.Q(a,c):_.R(a,c)};\n",
        "\n",
        "}catch(e){_._DumpException(e)}\n",
        "try{\n",
        "var Fd,Gd,Hd,Id,Jd,Kd,Ld;_.Ed=function(a,c,d){return 2&gt;=arguments.length?_.la.slice.call(a,c):_.la.slice.call(a,c,d)};Fd=/[\\x00&amp;&lt;&gt;\"']/;Gd=/\\x00/g;Hd=/'/g;Id=/\"/g;Jd=/&gt;/g;Kd=/&lt;/g;Ld=/&amp;/g;\n",
        "_.Md=function(a){if(!Fd.test(a))return a;-1!=a.indexOf(\"&amp;\")&amp;&amp;(a=a.replace(Ld,\"&amp;amp;\"));-1!=a.indexOf(\"&lt;\")&amp;&amp;(a=a.replace(Kd,\"&amp;lt;\"));-1!=a.indexOf(\"&gt;\")&amp;&amp;(a=a.replace(Jd,\"&amp;gt;\"));-1!=a.indexOf('\"')&amp;&amp;(a=a.replace(Id,\"&amp;quot;\"));-1!=a.indexOf(\"'\")&amp;&amp;(a=a.replace(Hd,\"&amp;#39;\"));-1!=a.indexOf(\"\\x00\")&amp;&amp;(a=a.replace(Gd,\"&amp;#0;\"));return a};\n",
        "var Nd;Nd=!_.L||_.L&amp;&amp;9&lt;=_.rc;_.Od=!_.gc&amp;&amp;!_.L||_.L&amp;&amp;_.L&amp;&amp;9&lt;=_.rc||_.gc&amp;&amp;_.N(\"1.9.1\");_.Pd=_.L&amp;&amp;!_.N(\"9\");_.Qd=_.L||_.fc||_.M;var Sd,Vd,Wd;_.S=function(a,c){var d=c||window.document,e=null;d.querySelectorAll&amp;&amp;d.querySelector?e=d.querySelector(\".\"+a):e=_.Rd(a,c)[0];return e||null};\n",
        "_.Rd=function(a,c){var d,e,f,g;d=window.document;d=c||d;if(d.querySelectorAll&amp;&amp;d.querySelector&amp;&amp;a)return d.querySelectorAll(\"\"+(a?\".\"+a:\"\"));if(a&amp;&amp;d.getElementsByClassName){var h=d.getElementsByClassName(a);return h}h=d.getElementsByTagName(\"*\");if(a){g={};for(e=f=0;d=h[e];e++){var l=d.className;\"function\"==typeof l.split&amp;&amp;_.sa(l.split(/\\s+/),a)&amp;&amp;(g[f++]=d)}g.length=f;return g}return h};\n",
        "_.Td=function(a,c){_.Xb(c,function(c,e){\"style\"==e?a.style.cssText=c:\"class\"==e?a.className=c:\"for\"==e?a.htmlFor=c:e in Sd?a.setAttribute(Sd[e],c):0==e.lastIndexOf(\"aria-\",0)||0==e.lastIndexOf(\"data-\",0)?a.setAttribute(e,c):a[e]=c})};Sd={cellpadding:\"cellPadding\",cellspacing:\"cellSpacing\",colspan:\"colSpan\",frameborder:\"frameBorder\",height:\"height\",maxlength:\"maxLength\",role:\"role\",rowspan:\"rowSpan\",type:\"type\",usemap:\"useMap\",valign:\"vAlign\",width:\"width\"};\n",
        "_.U=function(a,c,d){return _.Ud(window.document,arguments)};_.Ud=function(a,c){var d=c[0],e=c[1];if(!Nd&amp;&amp;e&amp;&amp;(e.name||e.type)){d=[\"&lt;\",d];e.name&amp;&amp;d.push(' name=\"',_.Md(e.name),'\"');if(e.type){d.push(' type=\"',_.Md(e.type),'\"');var f={};_.ja(f,e);delete f.type;e=f}d.push(\"&gt;\");d=d.join(\"\")}d=a.createElement(d);e&amp;&amp;(_.s(e)?d.className=e:_.Tb(e)?d.className=e.join(\" \"):_.Td(d,e));2&lt;c.length&amp;&amp;Vd(a,d,c);return d};\n",
        "Vd=function(a,c,d){function e(d){d&amp;&amp;c.appendChild(_.s(d)?a.createTextNode(d):d)}for(var f=2;f&lt;d.length;f++){var g=d[f];!_.vc(g)||_.Yb(g)&amp;&amp;0&lt;g.nodeType?e(g):(0,_.na)(Wd(g)?_.sc(g):g,e)}};Wd=function(a){if(a&amp;&amp;\"number\"==typeof a.length){if(_.Yb(a))return\"function\"==typeof a.item||\"string\"==typeof a.item;if(_.Zb(a))return\"function\"==typeof a.item}return!1};\n",
        "\n",
        "}catch(e){_._DumpException(e)}\n",
        "try{\n",
        "var Yd;_.Xd=function(a){return _.Yb(a)&amp;&amp;1==a.nodeType};_.Zd=function(a,c,d){_.Tb(d)&amp;&amp;(d=d.join(\" \"));var e=\"aria-\"+c;\"\"===d||void 0==d?(Yd||(Yd={atomic:!1,autocomplete:\"none\",dropeffect:\"none\",haspopup:!1,live:\"off\",multiline:!1,multiselectable:!1,orientation:\"vertical\",readonly:!1,relevant:\"additions text\",required:!1,sort:\"none\",busy:!1,disabled:!1,hidden:!1,invalid:\"false\"}),d=Yd,c in d?a.setAttribute(e,d[c]):a.removeAttribute(e)):a.setAttribute(e,d)};\n",
        "var ce;_.be=function(a,c,d,e,f){if(!(_.L||_.M&amp;&amp;_.N(\"525\")))return!0;if(_.dc&amp;&amp;f)return _.$d(a);if(f&amp;&amp;!e)return!1;_.$b(c)&amp;&amp;(c=_.ae(c));if(!d&amp;&amp;(17==c||18==c||_.dc&amp;&amp;91==c))return!1;if(_.M&amp;&amp;e&amp;&amp;d)switch(a){case 220:case 219:case 221:case 192:case 186:case 189:case 187:case 188:case 190:case 191:case 192:case 222:return!1}if(_.L&amp;&amp;e&amp;&amp;c==a)return!1;switch(a){case 13:return!0;case 27:return!_.M}return _.$d(a)};\n",
        "_.$d=function(a){if(48&lt;=a&amp;&amp;57&gt;=a||96&lt;=a&amp;&amp;106&gt;=a||65&lt;=a&amp;&amp;90&gt;=a||_.M&amp;&amp;0==a)return!0;switch(a){case 32:case 63:case 107:case 109:case 110:case 111:case 186:case 59:case 189:case 187:case 61:case 188:case 190:case 191:case 192:case 222:case 219:case 220:case 221:return!0;default:return!1}};_.ae=function(a){if(_.gc)a=ce(a);else if(_.dc&amp;&amp;_.M)t:switch(a){case 93:a=91;break t}return a}; ce=function(a){switch(a){case 61:return 187;case 59:return 186;case 173:return 189;case 224:return 91;case 0:return 224;default:return a}};\n",
        "\n",
        "}catch(e){_._DumpException(e)}\n",
        "try{\n",
        "var de;de=[1,4,2];_.ee=function(a){return(_.Kc?0==a.b.button:\"click\"==a.type?!0:!!(a.b.button&amp;de[0]))&amp;&amp;!(_.M&amp;&amp;_.dc&amp;&amp;a.w)};var fe,he;fe=function(){};_.ge=new fe;he=[\"click\",_.gc?\"keypress\":\"keydown\",\"keyup\"];fe.prototype.b=function(a,c,d,e,f){var g=function(a){var d=_.bd(c),f=_.Xd(a.target)?a.target.getAttribute(\"role\")||null:null;\"click\"==a.type&amp;&amp;_.ee(a)?d.call(e,a):13!=a.keyCode&amp;&amp;3!=a.keyCode||\"keyup\"==a.type?32!=a.keyCode||\"keyup\"!=a.type||\"button\"!=f&amp;&amp;\"tab\"!=f||(d.call(e,a),a.preventDefault()):(a.type=\"keypress\",d.call(e,a))};g.d=c;g.b=e;f?f.b(a,he,g,d):_.O(a,he,g,d)};\n",
        "\n",
        "}catch(e){_._DumpException(e)}\n",
        "try{\n",
        "var te;_.ie=function(a,c){this.width=a;this.height=c};_.k=_.ie.prototype;_.k.clone=function(){return new _.ie(this.width,this.height)};_.k.Zb=function(){return!(this.width*this.height)};_.k.ceil=function(){this.width=Math.ceil(this.width);this.height=Math.ceil(this.height);return this};_.k.floor=function(){this.width=Math.floor(this.width);this.height=Math.floor(this.height);return this};_.k.round=function(){this.width=Math.round(this.width);this.height=Math.round(this.height);return this};\n",
        "_.je=function(a){return a.parentWindow||a.defaultView};_.ke=function(a){return _.M||\"CSS1Compat\"!=a.compatMode?a.body||a.documentElement:a.documentElement};_.V=function(a,c){this.x=_.n(a)?a:0;this.y=_.n(c)?c:0};_.V.prototype.clone=function(){return new _.V(this.x,this.y)};_.V.prototype.ceil=function(){this.x=Math.ceil(this.x);this.y=Math.ceil(this.y);return this};_.V.prototype.floor=function(){this.x=Math.floor(this.x);this.y=Math.floor(this.y);return this};\n",
        "_.V.prototype.round=function(){this.x=Math.round(this.x);this.y=Math.round(this.y);return this};_.le=function(a,c){if(a.contains&amp;&amp;1==c.nodeType)return a==c||a.contains(c);if(\"undefined\"!=typeof a.compareDocumentPosition)return a==c||Boolean(a.compareDocumentPosition(c)&amp;16);for(;c&amp;&amp;a!=c;)c=c.parentNode;return c==a};_.me=function(a){return a&amp;&amp;a.parentNode?a.parentNode.removeChild(a):null};_.ne=function(a){for(var c;c=a.firstChild;)a.removeChild(c)};_.oe=function(a){return a?_.je(a):window};\n",
        "_.pe=function(a){a=(a||window).document;a=\"CSS1Compat\"==a.compatMode?a.documentElement:a.body;return new _.ie(a.clientWidth,a.clientHeight)};_.qe=function(a){this.b=a||_.m.document||window.document};_.qe.prototype.O=function(a){return _.s(a)?this.b.getElementById(a):a};_.qe.prototype.d=function(a,c,d){return _.Ud(this.b,arguments)};\n",
        "_.re=function(a){var c=a.b;a=_.ke(c);c=_.je(c);return _.L&amp;&amp;_.N(\"10\")&amp;&amp;c.pageYOffset!=a.scrollTop?new _.V(a.scrollLeft,a.scrollTop):new _.V(c.pageXOffset||a.scrollLeft,c.pageYOffset||a.scrollTop)};_.qe.prototype.appendChild=function(a,c){a.appendChild(c)};_.qe.prototype.k=_.ne;_.qe.prototype.removeNode=_.me;_.qe.prototype.contains=_.le;_.se=function(a){return 9==a.nodeType?a:a.ownerDocument||a.document}; _.ue=function(a,c){var d=c||window.document;return d.querySelectorAll&amp;&amp;d.querySelector?d.querySelectorAll(\".\"+a):_.Rd(a,c)};_.ve=function(a){return a?new _.qe(_.se(a)):te||(te=new _.qe)};\n",
        "var ye,De;_.we=function(a,c){var d=_.se(a);return d.defaultView&amp;&amp;d.defaultView.getComputedStyle&amp;&amp;(d=d.defaultView.getComputedStyle(a,null))?d[c]||d.getPropertyValue(c)||\"\":\"\"};_.xe=function(a,c){return _.we(a,c)||(a.currentStyle?a.currentStyle[c]:null)||a.style&amp;&amp;a.style[c]};_.ze=function(a,c,d){var e,f=_.gc&amp;&amp;(_.dc||_.mc)&amp;&amp;_.N(\"1.9\");c instanceof _.V?(e=c.x,c=c.y):(e=c,c=d);a.style.left=ye(e,f);a.style.top=ye(c,f)};\n",
        "_.Ae=function(a){var c;try{c=a.getBoundingClientRect()}catch(d){return{left:0,top:0,right:0,bottom:0}}_.L&amp;&amp;a.ownerDocument.body&amp;&amp;(a=a.ownerDocument,c.left-=a.documentElement.clientLeft+a.body.clientLeft,c.top-=a.documentElement.clientTop+a.body.clientTop);return c};_.Ce=function(a,c,d){if(c instanceof _.ie)d=c.height,c=c.width;else if(void 0==d)throw Error(\"n\");a.style.width=ye(c,!0);_.Be(a,d)};ye=function(a,c){\"number\"==typeof a&amp;&amp;(a=(c?Math.round(a):a)+\"px\");return a};\n",
        "_.Be=function(a,c){a.style.height=ye(c,!0)};_.Ee=function(a){var c=De;if(\"none\"!=_.xe(a,\"display\"))return c(a);var d=a.style,e=d.display,f=d.visibility,g=d.position;d.visibility=\"hidden\";d.position=\"absolute\";d.display=\"inline\";a=c(a);d.display=e;d.position=g;d.visibility=f;return a};De=function(a){var c=a.offsetWidth,d=a.offsetHeight,e=_.M&amp;&amp;!c&amp;&amp;!d;return _.n(c)&amp;&amp;!e||!a.getBoundingClientRect?new _.ie(c,d):(a=_.Ae(a),new _.ie(a.right-a.left,a.bottom-a.top))}; _.Fe=function(a,c){a.style.display=c?\"\":\"none\"};_.Ge=_.gc?\"MozUserSelect\":_.M?\"WebkitUserSelect\":null;\n",
        "\n",
        "}catch(e){_._DumpException(e)}\n",
        "try{\n",
        "_.He=function(a){return _.Od&amp;&amp;void 0!=a.children?a.children:(0,_.oa)(a.childNodes,function(a){return 1==a.nodeType})};_.Ie=function(a,c,d,e,f){_.ge.b(c,d,e,f||a.C||a,a)};_.Je=function(a){return _.s(a)?window.document.getElementById(a):a};_.Ke=function(a,c){for(;a&amp;&amp;1!=a.nodeType;)a=c?a.nextSibling:a.previousSibling;return a};\n",
        "_.Le=function(a,c,d){_.xd.call(this,a);this.H=this.K=null;this.aa=c;this.k=_.S(\"gb_D\",this.d);this.w=_.S(\"gb_A\",this.d);this.T=!1;this.A=_.w(\"dd\");this.A.ih(this);this.k.setAttribute(\"aria-hidden\",\"true\");d||this.ra()};_.v(_.Le,_.xd);_.k=_.Le.prototype;\n",
        "_.k.ra=function(){this.w&amp;&amp;(_.Ie(this,this.w,this.Cc,!1,this),this.w.setAttribute(\"aria-expanded\",\"false\"));this.k&amp;&amp;_.Ie(this,this.k,this.eg,!1,this);_.Ie(this,window.document,this.Be,!0,this);this.N(window.document,_.be(27)?\"keypress\":\"keyup\",this.Na,!1,this);this.N(this.d,\"mouseover\",this.vg,!1,this);this.N(this.d,\"mouseout\",this.ug,!1,this)};_.k.getId=function(){return this.aa};_.k.Cc=function(a){_.P(this.d,\"gb_Ea\")?this.close():this.open();a.preventDefault();a.stopPropagation()};\n",
        "_.k.eg=function(a){for(a=a.target;a&amp;&amp;a!=this.k;){if(\"A\"==a.tagName&amp;&amp;!_.P(a,\"gb_Zb\")){this.close(!0);this.w&amp;&amp;(0,window.setTimeout)((0,_.t)(this.w.focus,this.w),0);break}a=a.parentNode}};_.k.Be=function(a){_.le(this.d,a.target)||this.close()};_.k.vg=function(a){Me(this,(0,_.t)(this.Vb,this),a)};_.k.ug=function(a){Me(this,(0,_.t)(this.xd,this),a)};var Me=function(a,c,d){var e=d.o&amp;&amp;_.le(a.d,d.o),f=d.o&amp;&amp;Ne(a,d.o);a=Ne(a,d.target);e||c(0,d);e&amp;&amp;!f||a||c(1,d);!f&amp;&amp;a&amp;&amp;c(2,d)};\n",
        "_.Le.prototype.Na=function(a){27==a.keyCode&amp;&amp;this.close()};_.Le.prototype.Vb=_.ba;_.Le.prototype.xd=_.ba;var Ne=function(a,c){return c&amp;&amp;a.k?_.P(c,\"gb_ea\")||_.P(c,\"gb_fa\")||!!a.k&amp;&amp;_.le(a.k,c):!1};_.Le.prototype.M=function(){_.Le.F.M.call(this);this.k=null};var Oe=function(a){if(a.w&amp;&amp;(a=a.w.getAttribute(\"data-ved\")))return{ved:a}};\n",
        "_.Le.prototype.open=function(){if(!_.P(this.d,\"gb_Ea\")){this.A.cd(0,this);this.A.$e(this);_.Q(this.d,\"gb_Ea\");this.k.setAttribute(\"aria-hidden\",\"false\");this.w&amp;&amp;this.w.setAttribute(\"aria-expanded\",\"true\");if(_.L&amp;&amp;this.k){var a=_.S(\"gb_9b\");if(!a){var a=_.U(\"IFRAME\",{\"class\":\"gb_9b\",src:'javascript:\"\"',frameBorder:0}),c=_.S(\"gb_vc\");c&amp;&amp;c.appendChild(a)}_.R(a,\"gb_Qb\");this.va()}this.K&amp;&amp;_.K(this.K,Oe(this));this.A.cd(1,this);this.te()}};_.Le.prototype.te=function(){this.k.focus()};\n",
        "_.Le.prototype.va=function(){if(_.L&amp;&amp;this.k){var a=_.S(\"gb_9b\");a&amp;&amp;_.Ce(a,_.Ee(this.k))}};_.Le.prototype.close=function(a){if(_.P(this.d,\"gb_Ea\")&amp;&amp;this.A.tf(this)){this.A.Me(this)&amp;&amp;this.A.$e(null);_.R(this.d,\"gb_Ea\");this.k.setAttribute(\"aria-hidden\",\"true\");this.w&amp;&amp;this.w.setAttribute(\"aria-expanded\",\"false\");if(_.L){var c=_.S(\"gb_9b\");c&amp;&amp;_.Q(c,\"gb_Qb\")}!a&amp;&amp;this.H&amp;&amp;_.K(this.H,Oe(this));this.A.cd(2,this);return!0}return!1};\n",
        "\n",
        "}catch(e){_._DumpException(e)}\n",
        "try{\n",
        "var Pe=function(){_.Va.k(_.I)};var Qe=function(a,c){var d=_.ld(Pe);a.addEventListener?a.addEventListener(c,d):a.attachEvent(\"on\"+c,d)};var Re=function(a){_.C(this,a,0,[1,2])};_.v(Re,_.B);var Se;window.gbar&amp;&amp;window.gbar._DPG?Se=window.gbar._DPG[0]||{}:Se={};var Te;window.gbar&amp;&amp;window.gbar._LDD?Te=window.gbar._LDD:Te=[];var Ue=_.Xa(),Ve,We=_.G(_.H.J());Ve=_.E(We,Re,17);var Xe=new _.zb(Ue,Ve||new Re,Se,Te);_.xa(\"m\",Xe);Xe.init();Qe(window.document,\"DOMContentLoaded\");Qe(window,\"load\");\n",
        "_.u(\"gbar.mls\",function(){});_.u(\"gbar.bv\",{n:_.gb,r:_.hb,f:_.ib,e:_.jb,m:_.kb});_.u(\"gbar.kn\",function(){return!0});_.u(\"gbar.sb\",function(){return!1});\n",
        "}catch(e){_._DumpException(e)}\n",
        "try{\n",
        "var Gb=function(a,c){a.o.push(c)},Hb=function(a,c,d){this.o=a;this.d=!1;this.b=c;this.k=d};Hb.prototype.Wa=function(a){if(this.d)throw Error(\"f`\"+this.b);try{a.apply(this.o,this.k),this.d=!0}catch(c){}};var Ib=function(a){_.J.call(this);this.k=a;this.b=[];this.d={}};_.v(Ib,_.J);Ib.prototype.o=function(a){var c=(0,_.t)(function(){this.b.push(new Hb(this.k,a,Array.prototype.slice.call(arguments)))},this);return this.d[a]=c};\n",
        "Ib.prototype.Wa=function(){for(var a=this.b.length,c=this.b,d=[],e=0;e&lt;a;++e){var f=c[e].b,g;t:{g=this.k;for(var h=f.split(\".\"),l=h.length,q=0;q&lt;l;++q)if(g[h[q]])g=g[h[q]];else{g=null;break t}g=g instanceof Function?g:null}if(g&amp;&amp;g!=this.d[f])try{c[e].Wa(g)}catch(r){}else d.push(c[e])}this.b=d.concat(c.slice(a))};\n",
        "var Jb=\"bbh bbr bbs has prm sngw so\".split(\" \"),Kb=new Ib(_.m);_.xa(\"api\",Kb);\n",
        "for(var Mb=\"addExtraLink addLink aomc asmc close cp.c cp.l cp.me cp.ml cp.rc cp.rel ela elc elh gpca gpcr lGC lPWF ldb mls noam paa pc pca pcm pw.clk pw.hvr qfaae qfaas qfaau qfae qfas qfau qfhi qm qs qsi rtl sa setContinueCb snaw sncw som sp spd spn spp sps tsl tst up.aeh up.aop up.dpc up.iic up.nap up.r up.sl up.spd up.tp upel upes upet\".split(\" \").concat(Jb),Nb=(0,_.t)(Kb.o,Kb),Ob=0;Ob&lt;Mb.length;Ob++){var Pb=\"gbar.\"+Mb[Ob];null==_.p(Pb,window)&amp;&amp;_.u(Pb,Nb(Pb))}_.u(\"gbar.up.gpd\",function(){return\"\"});\n",
        "(function(){for(var a=function(a){return function(){_.K(44,{n:a})}},c=0;c&lt;Jb.length;c++){var d=\"gbar.\"+Jb[c];_.u(d,a(d))}var e=_.ta.J();_.ua(e,\"api\").Wa();Gb(_.ua(e,\"m\"),function(){_.ua(e,\"api\").Wa()})})();\n",
        "}catch(e){_._DumpException(e)}\n",
        "try{\n",
        "var Tn=function(a){_.C(this,a,0,[])};_.v(Tn,_.B);var Un=function(a){var c=window.document.getElementById(\"gbqld\");c&amp;&amp;(c.style.display=a?\"none\":\"block\",c=window.document.getElementById(\"gbql\"))&amp;&amp;(c.style.display=a?\"block\":\"none\")},Vn=[\"gbq1\",\"gbq2\",\"gbqfbwa\"],Wn=function(a,c){var d={};d._sn=[\"v.gas\",c].join(\".\");_.I(a,d)};\n",
        "var Xn=function(){};var Yn=function(a,c,d){this.d=a;this.C=c;this.b=d||_.m};var Zn=function(){this.b=[]};Zn.prototype.A=function(a,c,d){this.G(a,c,d);this.b.push(new Yn(a,c,d))};Zn.prototype.G=function(a,c,d){d=d||_.m;for(var e=0,f=this.b.length;e&lt;f;e++){var g=this.b[e];if(g.d==a&amp;&amp;g.C==c&amp;&amp;g.b==d){this.b.splice(e,1);break}}};Zn.prototype.w=function(a){for(var c=0,d=this.b.length;c&lt;d;c++){var e=this.b[c];\"hrc\"==e.d&amp;&amp;e.C.call(e.b,a)}};\n",
        "var $n,bo,co,eo,fo;$n=null;_.ao=function(){if(null!=$n)return $n;var a=window.document.body.style;if(!(a=\"flexGrow\"in a||\"webkitFlexGrow\"in a))t:{if(a=window.navigator.userAgent){var c=/Trident\\/(\\d+)/.exec(a);if(c&amp;&amp;7&lt;=Number(c[1])){a=/\\bMSIE (\\d+)/.exec(a);a=!a||\"10\"==a[1];break t}}a=!1}return $n=a};\n",
        "bo=function(a,c,d){var e=window.NaN;window.getComputedStyle&amp;&amp;(a=window.getComputedStyle(a,null).getPropertyValue(c))&amp;&amp;\"px\"==a.substr(a.length-2)&amp;&amp;(e=d?(0,window.parseFloat)(a.substr(0,a.length-2)):(0,window.parseInt)(a.substr(0,a.length-2),10));return e};\n",
        "co=function(a){var c=a.offsetWidth,d=bo(a,\"width\");if(!(0,window.isNaN)(d))return c-d;var e=a.style.padding,f=a.style.paddingLeft,g=a.style.paddingRight;a.style.padding=a.style.paddingLeft=a.style.paddingRight=0;d=a.clientWidth;a.style.padding=e;a.style.paddingLeft=f;a.style.paddingRight=g;return c-d};\n",
        "eo=function(a){var c=bo(a,\"min-width\");if(!(0,window.isNaN)(c))return c;var d=a.style.width,e=a.style.padding,f=a.style.paddingLeft,g=a.style.paddingRight;a.style.width=a.style.padding=a.style.paddingLeft=a.style.paddingRight=0;c=a.clientWidth;a.style.width=d;a.style.padding=e;a.style.paddingLeft=f;a.style.paddingRight=g;return c};fo=function(a,c){c||-.5!=a-Math.round(a)||(a-=.5);return Math.round(a)}; _.go=function(a){if(a){var c=a.style.opacity;a.style.opacity=\".99\";_.Hc(a.offsetWidth);a.style.opacity=c}};\n",
        "var ho=function(a){_.J.call(this);this.b=a;this.d=[];this.k=[]};_.v(ho,_.J);ho.prototype.M=function(){ho.F.M.call(this);this.b=null;for(var a=0;a&lt;this.d.length;a++)this.d[a].X();for(a=0;a&lt;this.k.length;a++)this.k[a].X();this.d=this.k=null};\n",
        "ho.prototype.Ia=function(a){void 0==a&amp;&amp;(a=this.b.offsetWidth);for(var c=co(this.b),d=[],e=0,f=0,g=0,h=0,l=0;l&lt;this.d.length;l++){var q=this.d[l],r=io(q),z=co(q.b);d.push({item:q,hb:r,sh:z,lc:0});e+=r.Bc;f+=r.Qc;g+=r.Pb;h+=z}a=a-h-c-g;e=0&lt;a?e:f;f=a;c=d;do{g=!0;h=[];for(l=q=0;l&lt;c.length;l++){var r=c[l],z=0&lt;f?r.hb.Bc:r.hb.Qc,F=0==e?0:z/e*f+r.lc,F=fo(F,g),g=!g;r.lc=jo(r.item,F,r.sh,r.hb.Pb);0&lt;z&amp;&amp;F==r.lc&amp;&amp;(h.push(r),q+=z)}c=h;f=a-(0,_.qa)(d,function(a,c){return a+c.lc},0);e=q}while(0!=f&amp;&amp;0!=c.length);\n",
        "for(l=0;l&lt;this.k.length;l++)this.k[l].Ia()};var lo=function(a){var c={};c.items=(0,_.pa)(a.d,function(a){return ko(a)});c.children=(0,_.pa)(a.k,function(a){return lo(a)});return c},mo=function(a,c){for(var d=0;d&lt;a.d.length;d++)a.d[d].b.style.width=c.items[d];for(d=0;d&lt;a.k.length;d++)mo(a.k[d],c.children[d])};ho.prototype.O=function(){return this.b};\n",
        "var no=function(a,c,d,e){ho.call(this,a);this.w=c;this.A=d;this.o=e};_.v(no,ho);\n",
        "var io=function(a,c){var d=a.w,e=a.A,f;if(-1==a.o){var g=c;void 0==g&amp;&amp;(g=co(a.b));f=ko(a);var h=lo(a),l=bo(a.b,\"width\",!0);(0,window.isNaN)(l)&amp;&amp;(l=a.b.offsetWidth-g);g=Math.ceil(l);a.b.style.width=f;mo(a,h);f=g}else f=a.o;return{Bc:d,Qc:e,Pb:f}},jo=function(a,c,d,e){void 0==d&amp;&amp;(d=co(a.b));void 0==e&amp;&amp;(e=io(a,d).Pb);c=e+c;0&gt;c&amp;&amp;(c=0);a.b.style.width=c+\"px\";d=a.b.offsetWidth-d;a.b.style.width=d+\"px\";return d-e},ko=function(a){var c=a.b.style.width;a.b.style.width=\"\";return c};\n",
        "var oo=function(a,c,d){var e;void 0==e&amp;&amp;(e=-1);return{className:a,hb:{Bc:c||0,Qc:d||0,Pb:e}}},po={className:\"gb_Pb\",items:[oo(\"gb_Ia\"),oo(\"gb_4b\"),oo(\"gb_xb\",0,2),oo(\"gb_5b\"),oo(\"gb_5\",1,1)],fb:[{className:\"gb_5\",items:[oo(\"gb_wc\",0,1),oo(\"gb_vc\",0,1)],fb:[function(a){a=a.gb_wc;var c;if(a)c=a.O();else{c=window.document.querySelector(\".gb_wc\");if(!c)return null;a=new ho(c)}c=c.querySelectorAll(\".gb_e\");for(var d=0;d&lt;c.length;d++){var e;if(_.P(c[d],\"gb_g\")){e=new no(c[d],0,1,-1);var f=c[d].querySelector(\".gb_d\");\n",
        "f&amp;&amp;(f=new no(f,0,1,-1),e.d.push(f),a.k.push(e))}else e=new no(c[d],0,0,-1);a.d.push(e)}return a},{className:\"gb_vc\",items:[oo(\"gb_z\"),oo(\"gb_Ra\"),oo(\"gb_Lb\"),oo(\"gb_aa\",0,1),oo(\"gb_yc\"),oo(\"gb_xc\",0,1),oo(\"gb_zc\"),oo(\"gb_7b\")],fb:[{className:\"gb_aa\",items:[oo(\"gb_ca\",0,1)],fb:[{className:\"gb_ca\",items:[oo(\"gb_da\",0,1)],fb:[]}]}]}]},{className:\"gb_1b\",items:[oo(\"gbqff\",1,1),oo(\"gb_0b\")],fb:[]}]},qo=function(a,c){var d=c;if(!d){d=window.document.querySelector(\".\"+a.className);if(!d)return null;d=new ho(d)}for(var e=\n",
        "{},f=0;f&lt;a.items.length;f++){var g=a.items[f],h;h=g;var l=window.document.querySelector(\".\"+h.className);if(h=l?new no(l,h.hb.Bc,h.hb.Qc,h.hb.Pb):null)d.d.push(h),e[g.className]=h}for(f=0;f&lt;a.fb.length;f++){var g=a.fb[f],q;\"function\"==typeof g?q=g(e):q=qo(g,e[g.className]);q&amp;&amp;d.k.push(q)}return d};\n",
        "var so=function(a){_.J.call(this);this.B=new Zn;this.d=window.document.getElementById(\"gb\");this.K=(this.b=window.document.querySelector(\".gb_5\"))?this.b.querySelector(\".gb_vc\"):null;this.C=[];this.he=60;this.N=_.D(a,4);this.Ch=_.A(_.D(a,2),152);this.Kf=_.A(_.D(a,1),30);this.k=null;this.Ke=_.x(_.D(a,3),!0);this.o=1;this.d&amp;&amp;this.N&amp;&amp;(this.d.style.minWidth=this.N+\"px\");this.ff();this.Ke&amp;&amp;(this.d&amp;&amp;(ro(this),_.Q(this.d,\"gb_yb\"),_.ao()||(this.k=qo(po))),this.Ia(),window.setTimeout((0,_.t)(this.Ia,this),\n",
        "0));_.u(\"gbar.elc\",(0,_.t)(this.zh,this));_.u(\"gbar.ela\",_.ba);_.u(\"gbar.elh\",(0,_.t)(this.qf,this))};_.v(so,_.J);_.va(so,\"el\");var to=function(){var a=so.Nh();return{es:a?{f:a.Ch,h:a.he,m:a.Kf}:{f:152,h:60,m:30},mo:\"md\",vh:window.innerHeight||0,vw:window.innerWidth||0}};_.k=so.prototype;_.k.M=function(){so.F.M.call(this)};_.k.Ia=function(a){a&amp;&amp;ro(this);this.k&amp;&amp;this.k.Ia(Math.max(window.document.documentElement.clientWidth,eo(this.d)));_.go(this.b)};\n",
        "_.k.Kg=function(){try{var a=window.document.getElementById(\"gb\"),c=a.querySelector(\".gb_5\");_.R(a,\"gb_Pc\");c&amp;&amp;_.R(c,\"gb_Pc\");for(var a=0,d;d=Vn[a];a++)_.R(window.document.getElementById(d),\"gbqfh\");Un(!1)}catch(e){Wn(e,\"rhcc\")}this.Ia(!0)};_.k.Dh=function(){try{var a=window.document.getElementById(\"gb\"),c=a.querySelector(\".gb_5\");_.Q(a,\"gb_Pc\");c&amp;&amp;_.Q(c,\"gb_Pc\");for(var a=0,d;d=Vn[a];a++)_.Q(window.document.getElementById(d),\"gbqfh\");Un(!0)}catch(e){Wn(e,\"ahcc\")}this.Ia(!0)};\n",
        "_.k.ff=function(){if(this.d){var a=this.d.offsetWidth;0==this.o?900&lt;=a&amp;&amp;(this.o=1,this.w(new Xn)):900&gt;a&amp;&amp;(this.o=0,this.w(new Xn))}};_.k.zh=function(a){this.C.push(a)};_.k.qf=function(a){var c=to().es.h;this.he=c+a;for(a=0;a&lt;this.C.length;a++)try{this.C[a](to())}catch(d){_.I(d)}};var ro=function(a){if(a.b){var c;a.k&amp;&amp;(c=lo(a.k));_.Q(a.b,\"gb_j\");a.b.style.minWidth=a.b.offsetWidth-co(a.b)+\"px\";a.K.style.minWidth=a.K.offsetWidth-co(a.K)+\"px\";_.R(a.b,\"gb_j\");c&amp;&amp;mo(a.k,c)}}; so.prototype.A=function(a,c,d){this.B.A(a,c,d)};so.prototype.G=function(a,c){this.B.G(a,c)};so.prototype.w=function(a){this.B.w(a)};\n",
        "_.Wa(function(){var a=_.G(_.H.J()),a=_.E(a,Tn,21)||new Tn,a=new so(a);_.xa(\"el\",a);_.u(\"gbar.gpca\",(0,_.t)(a.Dh,a));_.u(\"gbar.gpcr\",(0,_.t)(a.Kg,a))});_.u(\"gbar.elr\",to);\n",
        "}catch(e){_._DumpException(e)}\n",
        "try{\n",
        "_.Wa(function(){var a=window.document.querySelector(\".gb_La\");a&amp;&amp;_.w(\"eq\").Qd(a,\"click\")});\n",
        "}catch(e){_._DumpException(e)}\n",
        "try{\n",
        "_.zd(\"gb_Lb\");\n",
        "}catch(e){_._DumpException(e)}\n",
        "try{\n",
        "_.zd(\"gb_Ra\");\n",
        "}catch(e){_._DumpException(e)}\n",
        "try{\n",
        "_.u(\"gbar.qfgw\",(0,_.t)(window.document.getElementById,window.document,\"gbqfqw\"));_.u(\"gbar.qfgq\",(0,_.t)(window.document.getElementById,window.document,\"gbqfq\"));_.u(\"gbar.qfgf\",(0,_.t)(window.document.getElementById,window.document,\"gbqf\"));_.u(\"gbar.qfsb\",(0,_.t)(window.document.getElementById,window.document,\"gbqfb\"));\n",
        "\n",
        "}catch(e){_._DumpException(e)}\n",
        "try{\n",
        "_.Df=function(a,c,d,e,f){a=a.b[c.toString()];c=-1;a&amp;&amp;(c=_.Xc(a,d,e,f));return-1&lt;c?a[c]:null};_.Ef=function(a,c){var d=Array.prototype.slice.call(arguments,1);return function(){var c=d.slice();c.push.apply(c,arguments);return a.apply(this,c)}};_.Ff=function(a,c,d,e,f){if(_.Tb(c))for(var g=0;g&lt;c.length;g++)_.Ff(a,c[g],d,e,f);else d=_.bd(d),_.Sc(a)?a.sd(c,d,e,f):a&amp;&amp;(a=_.dd(a))&amp;&amp;(c=_.Df(a,c,d,!!e,f))&amp;&amp;_.hd(c)};_.W=function(){_.J.call(this);this.K=new _.Wc(this);this.Oa=this;this.ba=null};_.v(_.W,_.J);\n",
        "_.W.prototype[_.Rc]=!0;_.k=_.W.prototype;_.k.wc=function(){return this.ba};_.k.Vd=function(a){this.ba=a};_.k.addEventListener=function(a,c,d,e){_.O(this,a,c,d,e)};_.k.removeEventListener=function(a,c,d,e){_.Ff(this,a,c,d,e)};\n",
        "_.k.dispatchEvent=function(a){var c,d=this.wc();if(d)for(c=[];d;d=d.wc())c.push(d);var d=this.Oa,e=a.type||a;if(_.s(a))a=new _.Nc(a,d);else if(a instanceof _.Nc)a.target=a.target||d;else{var f=a;a=new _.Nc(e,d);_.ja(a,f)}var f=!0,g;if(c)for(var h=c.length-1;!a.A&amp;&amp;0&lt;=h;h--)g=a.k=c[h],f=g.vb(e,!0,a)&amp;&amp;f;a.A||(g=a.k=d,f=g.vb(e,!0,a)&amp;&amp;f,a.A||(f=g.vb(e,!1,a)&amp;&amp;f));if(c)for(h=0;!a.A&amp;&amp;h&lt;c.length;h++)g=a.k=c[h],f=g.vb(e,!1,a)&amp;&amp;f;return f};_.k.M=function(){_.W.F.M.call(this);this.Nc();this.ba=null};\n",
        "_.k.Ra=function(a,c,d,e){return this.K.add(String(a),c,!1,d,e)};_.k.rd=function(a,c,d,e){return this.K.add(String(a),c,!0,d,e)};_.k.sd=function(a,c,d,e){return this.K.remove(String(a),c,d,e)};_.k.gc=function(a){return _.Yc(this.K,a)};_.k.Nc=function(a){var c;if(this.K){c=this.K;a=a&amp;&amp;a.toString();var d=0,e;for(e in c.b)if(!a||e==a){for(var f=c.b[e],g=0;g&lt;f.length;g++)++d,_.Vc(f[g]);delete c.b[e];c.d--}c=d}else c=0;return c};\n",
        "_.k.vb=function(a,c,d){a=this.K.b[String(a)];if(!a)return!0;a=a.concat();for(var e=!0,f=0;f&lt;a.length;++f){var g=a[f];if(g&amp;&amp;!g.Gb&amp;&amp;g.ic==c){var h=g.nb,l=g.Dc||g.src;g.hc&amp;&amp;this.gc(g);e=!1!==h.call(l,d)&amp;&amp;e}}return e&amp;&amp;0!=d.Ze};_.k.qd=function(a,c,d,e){return _.Df(this.K,String(a),c,d,e)};\n",
        "\n",
        "}catch(e){_._DumpException(e)}\n",
        "try{\n",
        "_.Ck=function(a){_.W.call(this);this.D=a;a=_.L?\"focusout\":\"blur\";this.b=_.O(this.D,_.L?\"focusin\":\"focus\",this,!_.L);this.d=_.O(this.D,a,this,!_.L)};_.v(_.Ck,_.W);_.Ck.prototype.handleEvent=function(a){var c=new _.Qc(a.b);c.type=\"focusin\"==a.type||\"focus\"==a.type?\"focusin\":\"focusout\";this.dispatchEvent(c)};_.Ck.prototype.M=function(){_.Ck.F.M.call(this);_.hd(this.b);_.hd(this.d);delete this.D};\n",
        "\n",
        "}catch(e){_._DumpException(e)}\n",
        "try{\n",
        "var ov=function(a){_.C(this,a,0,[3,5])};_.v(ov,_.B);var pv=function(){var a=_.G(_.H.J());return _.E(a,ov,16)},qv=function(){this.k=_.w(\"el\");this.d=pv()||new ov};qv.prototype.b=function(a,c){0==this.k.o?(_.Q(a,\"gb_i\"),c?(_.R(a,\"gb_9\"),_.Q(a,\"gb_Ac\")):(_.R(a,\"gb_Ac\"),_.Q(a,\"gb_9\"))):_.Cd(a,[\"gb_i\",\"gb_9\",\"gb_Ac\"])};_.u(\"gbar.sos\",function(){return window.document.querySelectorAll(\".gb_3b\")});_.u(\"gbar.si\",function(){return window.document.querySelector(\".gb_2b\")});\n",
        "_.Wa(function(){if(pv()){var a=window.document.querySelector(\".gb_5\"),c=new qv;a&amp;&amp;_.x(_.D(c.d,1),!1)&amp;&amp;c.b(a,!1)}});var tv=function(a){_.xd.call(this,a);this.o=new qv;this.H=_.w(\"el\");this.w=_.S(\"gb_vc\",this.d);if(_.x(_.D(this.o.d,1),!1)){this.k=!1;if(_.ao()){_.R(this.d,\"gb_9\");_.Bd(this.d,[\"gb_Hc\",\"gb_i\",\"gb_Ac\"]);this.V=_.we(this.d,\"width\");this.ba=_.we(this.w,\"width\");var c=this.d;_.R(c,\"gb_Ac\");_.Q(c,\"gb_9\");this.L=_.we(this.d,\"width\");this.W=_.we(this.w,\"width\");_.Cd(this.d,[\"gb_Hc\",\"gb_i\",\"gb_9\"])}rv(this);this.H.A(\"hrc\",this.R,this);c=_.S(\"gb_Cc\",this.d);this.b(c,\"click\",this.P);c=_.S(\"gb_Dc\",this.d);this.b(c,\n",
        "\"click\",this.T)}c=pv()||new ov;this.K=_.x(_.D(c,2),!1);this.Q=_.x(_.D(c,4),!1);if(this.K||this.Q)this.G(a,[\"mouseover\",\"touchstart\"],this.B),a=new _.Ck(a),this.G(a,\"focusin\",this.B);(a=_.S(\"gb_2b\",this.d))&amp;&amp;_.td(this,a,_.ge,sv)};_.v(tv,_.xd);var sv=function(){_.K(9,{l:\"i\"})};tv.prototype.R=function(){rv(this)};tv.prototype.P=function(){0!=this.k&amp;&amp;(this.k=!1,rv(this,!0))};tv.prototype.T=function(){1!=this.k&amp;&amp;(this.k=!0,rv(this,!0))};\n",
        "tv.prototype.B=function(){if(this.K){var a;a=pv()||new ov;a=_.D(a,3);_.Eb(_.zb.J(),a,void 0)}this.Q&amp;&amp;this.d.setAttribute(\"activated\",\"1\")};var rv=function(a,c){var d=c&amp;&amp;_.ao();0==a.o.k.o?d?(_.Bd(a.d,[\"gb_Fc\",\"gb_ba\"]),_.go(a.d),a.G(a.d,_.Pc,a.S),a.A(!0),(0,window.setTimeout)((0,_.t)(a.o.b,a.o,a.d,a.k),0),(0,window.setTimeout)((0,_.t)(a.A,a,!1),0)):(a.o.b(a.d,a.k),_.ao()&amp;&amp;a.A(!1)):(_.R(a.d,\"gb_Fc\"),a.o.b(a.d,a.k),uv(a.d,\"\"),uv(a.w,\"\"),a.H.Ia(!0))}; tv.prototype.A=function(a){a=this.k?!a:a;uv(this.d,a?this.V:this.L);uv(this.w,a?this.ba:this.W)};tv.prototype.S=function(){_.R(this.d,\"gb_ba\")};var uv=function(a,c){a.style.minWidth=a.style.maxWidth=c};\n",
        "_.Wa(function(){var a=pv()||new ov;if(a){var c=_.S(\"gb_5\");c&amp;&amp;new tv(c);if(_.D(a,4)){var d=function(){var c=_.D(a,5);_.Cb(_.zb.J(),c,void 0)};\"1\"==c.getAttribute(\"activated\")?d():(_.od(c,[\"mouseover\",\"touchstart\"],d),c=new _.Ck(c),_.od(c,\"focusin\",d))}}});\n",
        "\n",
        "}catch(e){_._DumpException(e)}\n",
        "try{\n",
        "var Rn=function(){_.J.call(this);this.o=this.b=null;this.d={};this.w={};this.k={}};_.v(Rn,_.J);_.k=Rn.prototype;_.k.$e=function(a){a&amp;&amp;this.b&amp;&amp;a!=this.b&amp;&amp;this.b.close();this.b=a};_.k.Me=function(a){a=this.k[a]||a;return this.b==a};_.k.Hh=function(a){this.o=a};_.k.Le=function(a){return this.o==a};_.k.fd=function(){this.b&amp;&amp;this.b.close();this.b=null};_.k.vf=function(a){this.b&amp;&amp;this.b.getId()==a&amp;&amp;this.fd()};_.k.Mb=function(a,c,d){this.d[a]=this.d[a]||{};this.d[a][c]=this.d[a][c]||[];this.d[a][c].push(d)};\n",
        "_.k.cd=function(a,c){var d=c.getId();if(this.d[a]&amp;&amp;this.d[a][d])for(var e=0;e&lt;this.d[a][d].length;e++)try{this.d[a][d][e]()}catch(f){_.I(f)}};_.k.Jh=function(a,c){this.w[a]=c};_.k.tf=function(a){return!this.w[a.getId()]};_.k.Sg=function(){return!!this.b&amp;&amp;this.b.T};_.k.sf=function(){return!!this.b};_.k.Re=function(){this.b&amp;&amp;this.b.va()};_.k.df=function(a){this.k[a]&amp;&amp;(this.b&amp;&amp;this.b.getId()==a||this.k[a].open())};_.k.ih=function(a){this.k[a.getId()]=a};var Sn=new Rn;_.xa(\"dd\",Sn);\n",
        "_.u(\"gbar.close\",(0,_.t)(Sn.fd,Sn));_.u(\"gbar.cls\",(0,_.t)(Sn.vf,Sn));_.u(\"gbar.abh\",(0,_.t)(Sn.Mb,Sn,0));_.u(\"gbar.adh\",(0,_.t)(Sn.Mb,Sn,1));_.u(\"gbar.ach\",(0,_.t)(Sn.Mb,Sn,2));_.u(\"gbar.aeh\",(0,_.t)(Sn.Jh,Sn));_.u(\"gbar.bsy\",(0,_.t)(Sn.Sg,Sn));_.u(\"gbar.op\",(0,_.t)(Sn.sf,Sn));\n",
        "\n",
        "}catch(e){_._DumpException(e)}\n",
        "try{\n",
        "_.zd(\"gb_z\");\n",
        "}catch(e){_._DumpException(e)}\n",
        "try{\n",
        "_.zd(\"gb_aa\");\n",
        "}catch(e){_._DumpException(e)}\n",
        "try{\n",
        "_.zd(\"gb_7b\");\n",
        "}catch(e){_._DumpException(e)}\n",
        "})(this.gbar_);\n",
        "// Google Inc.\n",
        "</script>\n",
        "<link href=\"/favicon.ico\" rel=\"shortcut icon\" /><meta value=\"notranslate\" name=\"google\" /><script async=\"\" type=\"text/javascript\" charset=\"UTF-8\" src=\"//www.gstatic.com/og/_/js/k=og.og.en_US.qBe7nK5b5p4.O/rt=j/m=ld,sy24,sy25,sy27,sy38,sy28,sy29,sy30,sy31,sy32,sy37,sy33,sy34,sy35,sy36,d,sy50,gl,is,sy42,sy40,sy43,sy44,id,nb,nw,sb,sd,st,sy41,awd,sy46,sy47,p,vd,lod,eld,ip,dp,cpd/rs=AItRSTOf4RsnXT5NDCU0fUfcRjN0Stg1Ng\"></script><style type=\"text/css\">#gb119 .gb_q::before{left:0px;top:-259px}</style><style>.GKJYXHBDJ,.GKJYXHBDJ input{-webkit-user-select:none;-moz-user-select:-moz-none;-o-user-select:none;user-select:none;}.GKJYXHBDJ input:focus{-webkit-user-select:text;-moz-user-select:text;-o-user-select:text;user-select:text;}.GKJYXHBCTC{background-color:rgba(255, 255, 255, 0.8);z-index:2;}.GKJYXHBETC{z-index:2;}.GKJYXHBHSC{background:#fff;border:1px solid #d8d8d8;box-shadow:0 4px 16px rgba(0, 0, 0, 0.2);width:300px;}.GKJYXHBDTC{background-color:#f5f5f5;font-size:15px;font-weight:bold;height:17px;padding:15px 19px;}.GKJYXHBGSC{position:absolute;right:20px;top:20px;cursor:pointer;height:11px;width:11px;overflow:hidden;background:url(\"data:image/png;base64,iVBORw0KGgoAAAANSUhEUgAAAAsAAAALCAYAAACprHcmAAAAUUlEQVQoz2OIjo5uAOIrQCz6//9/BnQMEofKNzBAGf+xaUBSCJbHEIBpwCbOgENCA5sBuKz8js1p6J7RQFIIojWQ5Uk3mWg3kxQapIYz0TEIAPNo+h1Sqs4rAAAAAElFTkSuQmCC\") -0px -0px  no-repeat;}.GKJYXHBFTC{padding:18px;}.GKJYXHBFTC table{border-collapse:collapse;}.GKJYXHBMTC{border-top:1px solid #bbb;}.GKJYXHBGTC{font-size:14px;font-weight:bold;padding-bottom:14px;color:grayTextColor;}.GKJYXHBHTC{color:#777;padding-bottom:10px;}.GKJYXHBKTC{padding:7px;border:1px solid #808080;width:202px;color:#888;font-size:14px;font-family:inherit;font-weight:bold;}.GKJYXHBKTC:focus,.GKJYXHBATC:focus,.GKJYXHBOSC:focus{border:1px solid #498dff;outline:0;}.GKJYXHBATC{padding:7px;border:1px solid #d0d0d0;width:202px;}.GKJYXHBOSC{padding:7px;border:1px solid #d0d0d0;width:202px;height:50px;font-size:12px;font-family:inherit;}.GKJYXHBATC span{padding-top:10px;}.GKJYXHBLSC{min-width:42px;}.GKJYXHBBTC{margin-bottom:8px;}.GKJYXHBATC{margin-bottom:10px;vertical-align:top;}.GKJYXHBOSC{margin-bottom:0;}.GKJYXHBJSC{background-color:#f5f5f5;border:solid #d0d0d0;border-width:0 1px 1px 1px;margin-bottom:14px;padding:7px 10px;color:#777;}.GKJYXHBKSC{font-weight:bold;padding-bottom:3px;}.GKJYXHBMSC{padding:2px 0;}.GKJYXHBMSC img{vertical-align:middle;padding-right:9px;}.GKJYXHBNSC{padding-top:5px;}.GKJYXHBITC{font-weight:bold;}.GKJYXHBJTC{padding:10px 0;}.GKJYXHBOQC{width:100%;}.GKJYXHBMRC{height:21px;width:21px;overflow:hidden;background:url(\"data:image/png;base64,iVBORw0KGgoAAAANSUhEUgAAABUAAAAVCAYAAACpF6WWAAAAKUlEQVR42mNgGAUEwH80TBVDCOGBM5Ru4UgVV44aOmroqKGDOt8PTgAAymiJd8X7VisAAAAASUVORK5CYII=\") -0px -0px  no-repeat;opacity:0.6;position:absolute;right:0;top:0;width:30px;height:30px;background-position:center;}.GKJYXHBMRC:hover{opacity:1;}.GKJYXHBGRC{padding:50px 0 10px;text-align:center;color:#888;font-style:italic;}.GKJYXHBHRC{opacity:0.6;margin-top:14px;}.GKJYXHBHRC:first-child{margin-top:0;}.GKJYXHBIRC{font-size:18px;padding:9px;}.GKJYXHBFRC{font-size:16px;}.GKJYXHBIQC{padding:0 0 20px 0;cursor:pointer;background-color:#fff;border-top:1px solid #eee;border-left:2px solid transparent;min-height:80px;white-space:nowrap;}.GKJYXHBHRC .GKJYXHBIQC{cursor:default;cursor:default;}.GKJYXHBNQC{display:block;background-color:inherit;color:inherit;text-decoration:inherit;}.GKJYXHBNQC:active{color:inherit;text-decoration:inherit;}.GKJYXHBDRC{margin-bottom:24px;background:white;border:1px solid #eee;}.GKJYXHBNRC,.GKJYXHBPRC{color:#777;line-height:16px;float:right;position:relative;padding-left:23px;margin-left:20px;cursor:pointer;}.GKJYXHBNRC:before{height:21px;width:21px;overflow:hidden;background:url(\"data:image/png;base64,iVBORw0KGgoAAAANSUhEUgAAABUAAAAVCAYAAACpF6WWAAAAKUlEQVR42mNgGAUEwH80TBVDCOGBM5Ru4UgVV44aOmroqKGDOt8PTgAAymiJd8X7VisAAAAASUVORK5CYII=\") -0px -0px  no-repeat;}.GKJYXHBPRC:before{height:12px;width:12px;overflow:hidden;background:url(\"data:image/png;base64,iVBORw0KGgoAAAANSUhEUgAAAAwAAAAMCAYAAABWdVznAAAAtklEQVR42mNgoCZQUFBoAFKcpGg4A8SHlJSU+Akq5uXlFQYqvg5U/B9In+fh4RHDpo5JTk4uHajgAkghMlZUVLwlISGhAFcpLCwsDVS4F10hMgbK7wQrBurUAnLe4FMMtOEkHx+fEEg9O8g6oOAPoKaNsrKyidLS0o5AQ7SB4pdBiuXl5XcD1fGATQe6ORcUGkJCQrLYQgmoeA2QyQYXBArMBlIc2EIAKJcFpJhRBIHWWzLQEgAA/gY6UrjoPZEAAAAASUVORK5CYII=\") -0px -0px  no-repeat;}.GKJYXHBNRC:before,.GKJYXHBPRC:before{content:\"\";position:absolute;top:0;height:100%;background-position:center;opacity:0.5;left:0;}.GKJYXHBNRC:hover,.GKJYXHBPRC:hover{text-decoration:underline;}.GKJYXHBKQC{padding:14px 14px 6px;}.GKJYXHBMQC{font-weight:bold;}.GKJYXHBLQC,.GKJYXHBASC{color:#777;}.GKJYXHBJQC{position:relative;}.GKJYXHBBRC{background-color:inherit;}.GKJYXHBBRC .GKJYXHBCGC{border-bottom:none !important;}.GKJYXHBJRC{position:absolute;left:12px;z-index:2;}.GKJYXHBORC{position:relative;padding-left:15px;line-height:28px;}.GKJYXHBCRC{font-weight:bold;font-size:18px;}.GKJYXHBLRC{color:#dd4b39;}.GKJYXHBKRC{color:#3d9400;}.GKJYXHBLRC:before{height:9px;width:9px;overflow:hidden;background:url(\"data:image/png;base64,iVBORw0KGgoAAAANSUhEUgAAAAkAAAAJCAYAAADgkQYQAAAARElEQVR42mNgQAPPU7waGPCB5yk+Ds+SPP+DaNyKkjwPgBUBabymwDBW02CmwBWhm4ZuClbT0E3BMA2XKSim4TIF2TQAKTt1Xv04KI0AAAAASUVORK5CYII=\") -0px -0px  no-repeat;}.GKJYXHBKRC:before{height:9px;width:9px;overflow:hidden;background:url(\"data:image/png;base64,iVBORw0KGgoAAAANSUhEUgAAAAkAAAAJCAYAAADgkQYQAAAARklEQVR42mPwWsRwwGshw3+cGCjP4LOYwQGfIpA8AwjgNA1kCgzgMg1uCgxgmIZsCi7TMEzBMA2bKeim4TQFrnAhQwO6GAAmkFWG8/dfIgAAAABJRU5ErkJggg==\") -0px -0px  no-repeat;}.GKJYXHBLRC:before,.GKJYXHBKRC:before{content:\"\";position:absolute;left:0;top:0;height:100%;background-position:center;}.GKJYXHBGQC{cursor:pointer;position:relative;color:#777;font-size:15px;padding:19px 39px;}.GKJYXHBGQC:before{height:21px;width:21px;overflow:hidden;background:url(\"data:image/png;base64,iVBORw0KGgoAAAANSUhEUgAAABUAAAAVCAYAAACpF6WWAAAAP0lEQVR42mNgGAXDApRT28AGIP5PCwP/08LA/9QKw/9kYLyggxaGYjMYHyApiBpoYSixSYqsyGwYzf+jgDQAAJylMNOnx10yAAAAAElFTkSuQmCC\") -0px -0px  no-repeat;content:\"\";position:absolute;top:0;height:100%;background-position:center;opacity:0.5;left:16px;}.GKJYXHBPQC{padding:12px 16px;border-top:4px solid;border-color:#519bf7;}.GKJYXHBIRC{padding:12px 16px;border-top:4px solid;border-color:#ddd;}.GKJYXHBARC{font-size:18px;color:#333;}.GKJYXHBIQC:hover,.GKJYXHBIQC.GKJYXHBNFC{background-color:#f7f7f7;}.GKJYXHBERC{padding:14px 12px 12px 14px;}.GKJYXHBCRC{font-size:15px;}.GKJYXHBBRC{position:relative;line-height:16px;padding:4px 0;}.GKJYXHBA2 .GKJYXHBASC{font-size:8px;font-weight:bold;text-transform:uppercase;}.GKJYXHBJRC{top:16px;}.GKJYXHBIQC .GKJYXHBDGC{border-width:0 !important;}.GKJYXHBIQC .GKJYXHBCGC{-webkit-box-shadow:none !important;box-shadow:none !important;}.GKJYXHBKN{padding:0 8px;color:#444;font-weight:bold;height:27px;line-height:27px;min-width:22px;text-align:center;background-color:#f6f6f6;background-image:-webkit-gradient(linear, left top, left bottom, from(#f6f6f6), to(#f1f1f1));background-image:-moz-linear-gradient(top, #f6f6f6, #f1f1f1);background-image:-ms-linear-gradient(top, #f6f6f6, #f1f1f1);background-image:-o-linear-gradient(top, #f6f6f6, #f1f1f1);background-image:linear-gradient(top, #f6f6f6, #f1f1f1);border:1px solid #dcdcdc;-webkit-border-radius:2px;border-radius:2px;-webkit-tap-highlight-color:rgba(0, 0, 0, 0);-webkit-border-radius:2px;-moz-border-radius:2px;border-radius:2px;font-size:11px;cursor:pointer;-webkit-transition:background 0.218s, border 0.218s, color 0.218s;-moz-transition:background 0.218s, border 0.218s, color 0.218s;-o-transition:background 0.218s, border 0.218s, color 0.218s;transition:background 0.218s, border 0.218s, color 0.218s;white-space:normal;-moz-user-select:none;-webkit-user-select:none;}.GKJYXHBKN:focus{outline:0;}.GKJYXHBKN::-moz-focus-inner{border:0;}.GKJYXHBKN:hover{-webkit-box-shadow:0 1px 1px rgba(0, 0, 0, 0.1);-moz-box-shadow:0 1px 1px rgba(0, 0, 0, 0.1);box-shadow:0 1px 1px rgba(0, 0, 0, 0.1);}.GKJYXHBKN:active{-webkit-box-shadow:inset 0 1px 2px rgba(0, 0, 0, 0.1);-moz-box-shadow:inset 0 1px 2px rgba(0, 0, 0, 0.1);box-shadow:inset 0 1px 2px rgba(0, 0, 0, 0.1);}.GKJYXHBKN:hover{border:1px solid #c6c6c6;color:#333;background-color:#f5f5f5;background-image:-webkit-gradient(linear, left top, left bottom, from(#f5f5f5), to(#f1f1f1));background-image:-moz-linear-gradient(top, #f5f5f5, #f1f1f1);background-image:-ms-linear-gradient(top, #f5f5f5, #f1f1f1);background-image:-o-linear-gradient(top, #f5f5f5, #f1f1f1);background-image:linear-gradient(top, #f5f5f5, #f1f1f1);-webkit-box-shadow:0 1px 1px rgba(0, 0, 0, 0.1);-moz-box-shadow:0 1px 1px rgba(0, 0, 0, 0.1);box-shadow:0 1px 1px rgba(0, 0, 0, 0.1);-webkit-transition:background 0, border 0, color 0;-moz-transition:background 0, border 0, color 0;-o-transition:background 0, border 0, color 0;transition:background 0, border 0, color 0;}.GKJYXHBKN.GKJYXHBMN:hover{border:1px solid #2f5bb7;color:#fff;background-color:#357ae8;background-image:-webkit-gradient(linear, left top, left bottom, from(#4d90fe), to(#357ae8));background-image:-moz-linear-gradient(top, #4d90fe, #357ae8);background-image:-ms-linear-gradient(top, #4d90fe, #357ae8);background-image:-o-linear-gradient(top, #4d90fe, #357ae8);background-image:linear-gradient(top, #4d90fe, #357ae8);}.GKJYXHBKN.GKJYXHBNN:hover{border-color:#b0281a;border-bottom-color:#af301f;background-color:#c53727;background-image:-webkit-gradient(linear, left top, left bottom, from(#dd4b39), to(#c53727));background-image:-webkit-linear-gradient(top, #dd4b39, #c53727);background-image:-moz-linear-gradient(top, #dd4b39, #c53727);background-image:-ms-linear-gradient(top, #dd4b39, #c53727);background-image:-o-linear-gradient(top, #dd4b39, #c53727);background-image:linear-gradient(top, #dd4b39, #c53727);}.GKJYXHBKN:focus{border:1px solid #ccc;color:#333;background-color:#eee;background-image:-webkit-gradient(linear, left top, left bottom, from(#eee), to(#e0e0e0));background-image:-moz-linear-gradient(top, #eee, #e0e0e0);background-image:-ms-linear-gradient(top, #eee, #e0e0e0);background-image:-o-linear-gradient(top, #eee, #e0e0e0);background-image:linear-gradient(top, #eee, #e0e0e0);border:1px solid #ccc;color:#333;background-color:#eee;background-image:-webkit-gradient(linear, left top, left bottom, from(#eee), to(#e0e0e0));background-image:-moz-linear-gradient(top, #eee, #e0e0e0);background-image:-ms-linear-gradient(top, #eee, #e0e0e0);background-image:-o-linear-gradient(top, #eee, #e0e0e0);background-image:linear-gradient(top, #eee, #e0e0e0);}.GKJYXHBKN.GKJYXHBNN:active,.GKJYXHBKN.GKJYXHBNN:focus:active,.GKJYXHBKN.GKJYXHBNN:focus{border:1px solid #992a1b;background-color:#b0281a;background-image:-webkit-gradient(linear, left top, left bottom, from(#dd4b39), to(#b0281a));background-image:-webkit-linear-gradient(top, #dd4b39, #b0281a);background-image:-moz-linear-gradient(top, #dd4b39, #b0281a);background-image:-ms-linear-gradient(top, #dd4b39, #b0281a);background-image:-o-linear-gradient(top, #dd4b39, #b0281a);background-image:linear-gradient(top, #dd4b39, #b0281a);}.GKJYXHBKN.GKJYXHBMN:active,.GKJYXHBKN.GKJYXHBMN:focus:active,.GKJYXHBKN.GKJYXHBMN:focus{-webkit-box-shadow:inset 0 1px 2px rgba(0, 0, 0, 0.3);-moz-box-shadow:inset 0 1px 2px rgba(0, 0, 0, 0.3);box-shadow:inset 0 1px 2px rgba(0, 0, 0, 0.3);}.GKJYXHBKN.GKJYXHBNN{color:#fff;background-color:#d14836;background-image:-webkit-gradient(linear, left top, left bottom, from(#dd4b39), to(#d14836));background-image:-moz-linear-gradient(top, #dd4b39, #d14836);background-image:-ms-linear-gradient(top, #dd4b39, #d14836);background-image:-o-linear-gradient(top, #dd4b39, #d14836);background-image:linear-gradient(top, #dd4b39, #d14836);border:1px solid transparent;}.GKJYXHBKN.GKJYXHBNN.GKJYXHBIN{border-color:#b0281a;background-color:#c53727;background-image:-webkit-gradient(linear, left top, left bottom, from(#dd4b39), to(#c53727));background-image:-moz-linear-gradient(top, #dd4b39, #c53727);background-image:-ms-linear-gradient(top, #dd4b39, #c53727);background-image:-o-linear-gradient(top, #dd4b39, #c53727);background-image:linear-gradient(top, #dd4b39, #c53727);}.GKJYXHBKN.GKJYXHBMN{color:#fff;background-color:#357ae8;background-image:-webkit-gradient(linear, left top, left bottom, from(#4d90fe), to(#357ae8));background-image:-moz-linear-gradient(top, #4d90fe, #357ae8);background-image:-ms-linear-gradient(top, #4d90fe, #357ae8);background-image:-o-linear-gradient(top, #4d90fe, #357ae8);background-image:linear-gradient(top, #4d90fe, #357ae8);border:1px solid transparent;}.GKJYXHBKN.GKJYXHBMN.GKJYXHBIN{border-color:#2f5bb7;background-color:#357ae8;background-image:-webkit-gradient(linear, left top, left bottom, from(#4d90fe), to(#357ae8));background-image:-moz-linear-gradient(top, #4d90fe, #357ae8);background-image:-ms-linear-gradient(top, #4d90fe, #357ae8);background-image:-o-linear-gradient(top, #4d90fe, #357ae8);background-image:linear-gradient(top, #4d90fe, #357ae8);}.GKJYXHBKN.GKJYXHBHN{-webkit-box-shadow:inset 0 1px 2px rgba(0, 0, 0, 0.1);-moz-box-shadow:inset 0 1px 2px rgba(0, 0, 0, 0.1);box-shadow:inset 0 1px 2px rgba(0, 0, 0, 0.1);}.GKJYXHBKN.GKJYXHBIN{border:1px solid #ccc;background-color:#eee;background-image:-webkit-gradient(linear, left top, left bottom, from(#eee), to(#e0e0e0));background-image:-moz-linear-gradient(top, #eee, #e0e0e0);background-image:-ms-linear-gradient(top, #eee, #e0e0e0);background-image:-o-linear-gradient(top, #eee, #e0e0e0);background-image:linear-gradient(top, #eee, #e0e0e0);-webkit-box-shadow:inset 0 1px 2px rgba(0, 0, 0, 0.1);-moz-box-shadow:inset 0 1px 2px rgba(0, 0, 0, 0.1);box-shadow:inset 0 1px 2px rgba(0, 0, 0, 0.1);}.GKJYXHBKN[disabled]{background:white;border:1px solid #f3f3f3;color:#b8b8b8;}.GKJYXHBN3{height:10px;width:10px;overflow:hidden;background:url(\"data:image/png;base64,iVBORw0KGgoAAAANSUhEUgAAAAoAAAAKCAYAAACNMs+9AAAAN0lEQVR42mNgAIIdO3b8Z8AB4HIgBgxjU4Qih00xTgOQJfDZglUxAz6Hk2waQfeR5GO8igkFOAAfyZdRKltHKQAAAABJRU5ErkJggg==\") -0px -0px  no-repeat;cursor:pointer;}.GKJYXHBN3:hover{height:10px;width:10px;overflow:hidden;background:url(\"data:image/png;base64,iVBORw0KGgoAAAANSUhEUgAAAAoAAAAKCAYAAACNMs+9AAAAN0lEQVR42mNgAALPrs//GXAAuByIAcPYFKHIYVOM0wBkCXy2YFXMgM/hJJtG0H0k+RivYkIBDgA++ITxesZvDwAAAABJRU5ErkJggg==\") -0px -0px  no-repeat;}.GKJYXHBM4{display:inline-block;margin:0 10px -2px 0;width:15px;height:15px;border:1px solid #c6c6c6;-webkit-border-radius:50%;-moz-border-radius:50%;border-radius:50%;-webkit-box-sizing:border-box;-moz-box-sizing:border-box;box-sizing:border-box;cursor:default;position:relative;}.GKJYXHBM4 input{display:none;}.GKJYXHBM4:active{border-color:#666;background:#ebebeb;}.GKJYXHBM4:hover{border-color:#666;-webkit-box-shadow:inset 0 1px 1px rgba(0, 0, 0, 0.1);-moz-box-shadow:inset 0 1px 1px rgba(0, 0, 0, 0.1);box-shadow:inset 0 1px 1px rgba(0, 0, 0, 0.1);}.GKJYXHBL3 .GKJYXHBM4:after{content:\"\";display:block;position:relative;top:3px;left:3px;width:7px;height:7px;background:#666;border-radius:50%;}.GKJYXHBK3,.GKJYXHBJ4{position:relative;}.GKJYXHBO3.GKJYXHBK3,.GKJYXHBO3.GKJYXHBJ4{cursor:default;color:#aaa;}.GKJYXHBK3:before{content:\"\";position:absolute;width:13px;height:13px;border:1px solid #c6c6c6;-webkit-border-radius:1px;-moz-border-radius:1px;border-radius:1px;-webkit-box-sizing:border-box;-moz-box-sizing:border-box;box-sizing:border-box;}.GKJYXHBL3.GKJYXHBK3:after,.GKJYXHBL3.GKJYXHBJ4:after{content:\"\";position:absolute;height:21px;width:21px;overflow:hidden;background:url(\"data:image/png;base64,iVBORw0KGgoAAAANSUhEUgAAABUAAAAVCAYAAACpF6WWAAAAk0lEQVR42mNgGAUjArQDcQO1DGME4mlA/B+I26hhIAsQL4YaOIkaBrID8QaogfOgLqYIcAPxHqiBK4GYmVIDBYD4ONTALUDMSqoB24BYE4kvDsQXoAbuBWIOclw1AYh/QyPBAIhvQg0EuZSHXK8yAfFaqEEwfB4aBBQBTiA+BjXwOhCLUiuBiwDxTiCWHi04hikAAE2QHWHp6N56AAAAAElFTkSuQmCC\") -0px -0px  no-repeat;top:4px;left:8px;}.GKJYXHBK3,.GKJYXHBJ4{cursor:pointer;padding:7px 20px 7px 32px;}.GKJYXHBK3:before{top:9px;left:10px;}.GKJYXHBK3:hover,.GKJYXHBJ4:hover{background-color:#f5f5f5;}.GKJYXHBD4{float:left;padding-top:10px;}.GKJYXHBD4 img{border:0 none;width:114px;height:42px;}.GKJYXHBE4{background:#f5f5f5;width:100%;padding:7px;}.GKJYXHBM3{padding:14px;height:38px;width:38px;overflow:hidden;background:url(\"data:image/png;base64,iVBORw0KGgoAAAANSUhEUgAAACYAAAAmCAMAAACf4xmcAAABPlBMVEX///8AAAAAAAAAAAAAAAAAAAAAAAAAAAAAAAAAAAAAAAAAAAAAAAAAAAAAAAAAAAAAAAAAAAAAAAAAAAAAAAAAAAAAAAAAAAAAAAD+/v7///8AAAAAAAD9/f0AAAD8/PwAAAAAAAD39/f6+vr19fX5+fnm5uYKCgrq6urp6eni4uL8/PwXFxfm5ubb29shISH9/f0MDAwaGhri4uLx8fHR0dG1tbXe3t7CwsLHx8fk5OQAAADl5eU2NjYKCgq5ubnNzc1GRkY8PDzHx8fV1dXs7OxAQEDY2NhJSUlCQkL7+/sdHR0fHx/FxcXu7u4ICAjl5eUJCQnPz886Ojq7u7vz8/P///8AAAAkJCRlZWVKSkqTk5Pl5eWHh4cMDAwBAQHZ2dkEBAQCAgLi4uIODg6zs7Pj4+OdnZ1xcXGSkpJOnsA2AAAAVnRSTlMAAQQCCxAJBgcDBQ8MCBMNFgoVFA4SGRgR9P4XHOwe5x0byN/K4JAZlY6C7SGYhhfmFR6TsWRWhFBpmRqAJhpUZh0iTmKUIGEcH+gaGU+zH5EeZSNTr6nlW1gAAAKtSURBVHheddTlkuMwDABgN42TNA403G55keGW8ZgZnXKX4f1f4CR3Z7O5y+pfZr6RZDkWuYscRKEg6aqqQaiqqktSPp/LkVQIpOuaojgyhqOYmipgGuUFkg2fsVKJUuYbjoIQEqYUIMOnJct1ixCeFVBfVjQdXaIk3XR8Gqy9ejM5VS5PTc7vfXYtasuaeu9QqYrBghdHNX4ftcW3rsUgIbgHilrv1nkqGtuRxQzh7pRp0CcLEwDOe932cNju9s7BTczOedRQVHTYPao/gK46p/FdnHauAG49BWfCOQgmc5i1AOryIn4QF5fgZiPPdzRg2JhtvYaKt2dxKs5uoe7zKPChLDBNZu/XIReqtIN8jZculTWJiGRH0FdSMakL/e2GFqQjmGwN5tWJM6ID89vAdEQyjdIXmMT4jDf9wQjAaNC/EeeFuTyrBIZGdKg5z3kvFtHn/HoUj64574vvHucrWJWoCvMmOe+O2YCDQ8UHgnU5n27BTIgm0+IU5+0xE+JEWMHanM80i1QWrMz5ME5couIh5+UMBg5znYC6Z/UKsKRoVjYsKpgqMxePkN0bHqHqUofAvbs4kMyT4kAOWi5ziG7a1h6ON2tuON6d0LJNcQuf8LIybgEva2m5UjJMcafFxcevfhVb00hBVezgQ+OxH+njcRjYik4Kkgkj2X7st9yvwnA1neREusps9k++2YwwWQGYbsrMmtvKejJfv4UekzVkY+fNff//AW7+CD2KKk/wBeJr9sKfDZ6Kxn498iiWxPcMZSXhol+7tQQtrR63hBKvGRk60/CDYrjxe2V6plyemT7YWa6GbsBkVFAycY5NrWJ02Go26/Vq9TASG8lMlHC432Sb4X6rVHC/lZiN+w1VErhJVIQ2oxjMN2QFUonu0w6hibvXMBzHSe/ev1MUC1b7Dck8AAAAAElFTkSuQmCC\") -0px -0px  no-repeat;background-position:center;}.GKJYXHBK4{position:absolute;top:0;right:0;left:0;bottom:0;opacity:0.8;filter:alpha(opacity=80);background-color:#fff;z-index:98;}.GKJYXHBB4{-webkit-transition:opacity 218ms ease;-moz-transition:opacity 218ms ease;-ms-transition:opacity 218ms ease;-o-transition:opacity 218ms ease;transition:opacity 218ms ease;}.GKJYXHBF4{background:white;border:1px solid #d9d9d9;border-top:1px solid #c0c0c0;-moz-box-sizing:border-box;-webkit-box-sizing:border-box;box-sizing:border-box;cursor:text;font-size:13px;height:32px;line-height:18px;overflow:hidden;padding:6px 8px;position:relative;}.GKJYXHBF4:hover{border:1px solid #b9b9b9;border-top:1px solid #a0a0a0;-webkit-box-shadow:inputHoverBoxShadow;-moz-box-shadow:inputHoverBoxShadow;box-shadow:inputHoverBoxShadow;}.GKJYXHBC4{border:1px solid #4d90fe !important;-webkit-box-shadow:inset 0 1px 2px rgba(0, 0, 0, 0.3) !important;-moz-box-shadow:inset 0 1px 2px rgba(0, 0, 0, 0.3) !important;box-shadow:inset 0 1px 2px rgba(0, 0, 0, 0.3) !important;z-index:2;}.GKJYXHBP-{display:inline-block;position:relative;cursor:pointer;margin-right:12px;min-width:0 !important;}.GKJYXHBA0{display:inline-block;top:7px;position:absolute;}.GKJYXHBB0{padding-left:17px;padding-right:8px;display:inline-block;}.GKJYXHBP-{padding-left:11px !important;padding-right:4px !important;}.GKJYXHBB0{padding-left:17px;}.GKJYXHBAPC{height:12px;width:12px;overflow:hidden;background:url(\"data:image/png;base64,iVBORw0KGgoAAAANSUhEUgAAAAwAAAAMCAYAAABWdVznAAAAnklEQVR42mNgwAKMjIw0QZiBWKCrq1sDwqRouADCRCk2NjZWBir+D8IgNjb36gElj+np6d0CYSD7GUwDiI0kfgykFqzJ0NBQCii4F0khCgbJgdSg2FRfX88ElGzHoqEdJIfV/UCTCrCYXoDTw0DJw1BFy0EYyj6MVbGpqakEUMEnfX39RJgYiA0SA8lhaDAwMLAGmqaOxVZ1kBwDuQAA+5VL1ajt9AkAAAAASUVORK5CYII=\") -0px -0px  no-repeat;}.GKJYXHBEQC{z-index:2;-webkit-box-shadow:0 1px 4px rgba(0, 0, 0, 0.2);-moz-box-shadow:0 1px 4px rgba(0, 0, 0, 0.2);box-shadow:1px 2px 4px rgba(0, 0, 0, 0.2);}.GKJYXHBAQC{min-width:150px;background:#f8ebc0;border:1px solid #ecc886;padding:12px;}.GKJYXHBFQC{color:#666;}.GKJYXHBCQC{display:block;position:absolute;right:25px;top:-8px;height:9px;width:16px;overflow:hidden;background:url(\"data:image/png;base64,iVBORw0KGgoAAAANSUhEUgAAABAAAAAJCAYAAAA7KqwyAAAAsElEQVR42pWQTQrCMBSE5y7iD/WCbrR7qaIuPUXjCQSJRxAldJPuzMpFi7uYaWiKaLV9MPB4b77JD9BSKkF0P80spdaYok+pHSJzXtgiP9jSiT1nneBbgomRc1toYZ/mWIk9Z9z9hK8bjI3kyWmAQ4ibcUfPVzhbYURDmYsPuBZ39ND7Dm8x9HDaCjch/iZk/IctMahg/R8OIdqHkIWRsRuIznATwufEFo/Lvjdci+wLoIhMUAcY3UQAAAAASUVORK5CYII=\") -0px -0px  no-repeat;}.GKJYXHBBQC{opacity:0;}.GKJYXHBPCC{background:white;-webkit-box-shadow:1px 2px 5px rgba(0, 0, 0, 0.1);box-shadow:1px 2px 5px rgba(0, 0, 0, 0.1);z-index:20001;border:1px solid #ccc;}.GKJYXHBNCC{padding:7px 36px 7px 32px;}.GKJYXHBNCC img{vertical-align:middle;margin-right:6px;width:16px;height:16px;}.GKJYXHBOCC{text-align:center;min-width:150px;padding:10px 0;}.GKJYXHBOCC .GKJYXHBJY{display:inline-block;}.GKJYXHBJY{position:relative;width:20px;height:20px;-webkit-backface-visibility:hidden;}.GKJYXHBJY.GKJYXHBC-{width:15px;height:15px;}.GKJYXHBJY.GKJYXHBNY{width:24px;height:24px;}.GKJYXHBDY,.GKJYXHBOY,.GKJYXHBCY,.GKJYXHBPY{display:block;position:absolute;}.GKJYXHBJY .GKJYXHBDY{width:100%;height:100%;-webkit-border-radius:50%;-moz-border-radius:50%;border-radius:50%;opacity:0;overflow:hidden;}.GKJYXHBJY .GKJYXHBOY{height:100%;width:100%;opacity:0;overflow:hidden;}.GKJYXHBJY .GKJYXHBOY.GKJYXHBGY{-webkit-transition-property:border-color;-webkit-transition-duration:0;-webkit-transition-delay:0.22s;-moz-transition-property:border-color;-moz-transition-duration:0;-moz-transition-delay:0.22s;transition-property:border-color;transition-duration:0;transition-delay:0.22s;}.GKJYXHBJY .GKJYXHBDY.GKJYXHBMY .GKJYXHBOY{top:0;height:50%;}.GKJYXHBJY .GKJYXHBDY.GKJYXHBHY .GKJYXHBOY.GKJYXHBGY{top:0;height:50%;border-bottom:1px solid #555;}.GKJYXHBJY .GKJYXHBDY.GKJYXHBHY .GKJYXHBOY.GKJYXHBA-{bottom:0;height:50%;}.GKJYXHBJY .GKJYXHBDY.GKJYXHBB- .GKJYXHBOY.GKJYXHBGY{right:0;width:50%;border-left:1px solid #888;}.GKJYXHBJY .GKJYXHBDY.GKJYXHBB- .GKJYXHBOY.GKJYXHBA-{left:0;width:50%;}.GKJYXHBJY .GKJYXHBDY.GKJYXHBF- .GKJYXHBOY.GKJYXHBGY{bottom:0;height:50%;border-top:1px solid #555;}.GKJYXHBJY .GKJYXHBDY.GKJYXHBF- .GKJYXHBOY.GKJYXHBA-{top:0;height:50%;}.GKJYXHBJY .GKJYXHBDY.GKJYXHBKY .GKJYXHBOY.GKJYXHBGY{left:0;width:50%;border-right:1px solid #888;}.GKJYXHBJY .GKJYXHBDY.GKJYXHBKY .GKJYXHBOY.GKJYXHBA-{right:0;width:50%;}.GKJYXHBJY .GKJYXHBDY .GKJYXHBOY .GKJYXHBCY{height:100%;width:100%;opacity:0;-webkit-border-radius:50%;-moz-border-radius:50%;border-radius:50%;-webkit-transition-property:opacity;-webkit-transition-timing-function:linear;-webkit-transition-duration:0;-webkit-transition-delay:0;-moz-transition-property:opacity;-moz-transition-timing-function:linear;-moz-transition-duration:0;-moz-transition-delay:0;transition-property:opacity;transition-timing-function:linear;transition-duration:0;transition-delay:0;}.GKJYXHBJY .GKJYXHBDY .GKJYXHBOY .GKJYXHBPY{height:100%;width:100%;-webkit-border-radius:50%;-moz-border-radius:50%;border-radius:50%;-webkit-transition-property:background-color, left, top, right, bottom, width, height;-webkit-transition-timing-function:ease-in;-webkit-transition-duration:0.22s;-webkit-transition-delay:0;-moz-transition-property:background-color, left, top, right, bottom, width, height;-moz-transition-timing-function:ease-in;-moz-transition-duration:0.22s;-moz-transition-delay:0;transition-property:background-color, left, top, right, bottom, width, height;transition-timing-function:ease-in;transition-duration:0.22s;transition-delay:0;}.GKJYXHBJY .GKJYXHBDY .GKJYXHBOY.GKJYXHBA- .GKJYXHBPY,.GKJYXHBJY .GKJYXHBDY.GKJYXHBMY .GKJYXHBOY .GKJYXHBPY{-webkit-transition-timing-function:ease-out;-webkit-transition-delay:0.22s;-moz-transition-timing-function:ease-out;-moz-transition-delay:0.22s;transition-timing-function:ease-out;transition-delay:0.22s;}.GKJYXHBJY .GKJYXHBDY.GKJYXHBHY .GKJYXHBOY.GKJYXHBGY .GKJYXHBCY{top:0;height:200%;background-color:#888;}.GKJYXHBJY .GKJYXHBDY.GKJYXHBHY .GKJYXHBOY.GKJYXHBA- .GKJYXHBCY{bottom:0;height:200%;background-color:#555;}.GKJYXHBJY .GKJYXHBDY.GKJYXHBB- .GKJYXHBOY.GKJYXHBGY .GKJYXHBCY{right:0;width:200%;background-color:#555;}.GKJYXHBJY .GKJYXHBDY.GKJYXHBB- .GKJYXHBOY.GKJYXHBA- .GKJYXHBCY{left:0;width:200%;background-color:#888;}.GKJYXHBJY .GKJYXHBDY.GKJYXHBF- .GKJYXHBOY.GKJYXHBGY .GKJYXHBCY{bottom:0;height:200%;background-color:#888;}.GKJYXHBJY .GKJYXHBDY.GKJYXHBF- .GKJYXHBOY.GKJYXHBA- .GKJYXHBCY{top:0;height:200%;background-color:#555;}.GKJYXHBJY .GKJYXHBDY.GKJYXHBKY .GKJYXHBOY.GKJYXHBGY .GKJYXHBCY{left:0;width:200%;background-color:#555;}.GKJYXHBJY .GKJYXHBDY.GKJYXHBKY .GKJYXHBOY.GKJYXHBA- .GKJYXHBCY{right:0;width:200%;background-color:#888;}.GKJYXHBJY .GKJYXHBDY.GKJYXHBMY .GKJYXHBOY .GKJYXHBPY{top:100%;height:0;background-color:#363636;}.GKJYXHBJY .GKJYXHBDY.GKJYXHBHY .GKJYXHBOY.GKJYXHBGY .GKJYXHBPY{top:0;height:200%;background-color:#555;}.GKJYXHBJY .GKJYXHBDY.GKJYXHBHY .GKJYXHBOY.GKJYXHBA- .GKJYXHBPY{bottom:100%;height:0;background-color:#6a6a6a;}.GKJYXHBJY .GKJYXHBDY.GKJYXHBB- .GKJYXHBOY.GKJYXHBGY .GKJYXHBPY{right:0;width:200%;background-color:#888;}.GKJYXHBJY .GKJYXHBDY.GKJYXHBB- .GKJYXHBOY.GKJYXHBA- .GKJYXHBPY{left:100%;width:0;background-color:#363636;}.GKJYXHBJY .GKJYXHBDY.GKJYXHBF- .GKJYXHBOY.GKJYXHBGY .GKJYXHBPY{bottom:0;height:200%;background-color:#555;}.GKJYXHBJY .GKJYXHBDY.GKJYXHBF- .GKJYXHBOY.GKJYXHBA- .GKJYXHBPY{top:100%;height:0;background-color:#6a6a6a;}.GKJYXHBJY .GKJYXHBDY.GKJYXHBKY .GKJYXHBOY.GKJYXHBGY .GKJYXHBPY{left:0;width:200%;background-color:#888;}.GKJYXHBJY .GKJYXHBDY.GKJYXHBKY .GKJYXHBOY.GKJYXHBA- .GKJYXHBPY{right:100%;width:0;background-color:#363636;}.GKJYXHBJY.GKJYXHBMY .GKJYXHBDY.GKJYXHBMY,.GKJYXHBJY.GKJYXHBMY .GKJYXHBDY.GKJYXHBMY .GKJYXHBOY,.GKJYXHBJY.GKJYXHBB- .GKJYXHBDY.GKJYXHBB-,.GKJYXHBJY.GKJYXHBB- .GKJYXHBDY.GKJYXHBB- .GKJYXHBOY,.GKJYXHBJY.GKJYXHBB- .GKJYXHBDY.GKJYXHBB- .GKJYXHBOY .GKJYXHBCY,.GKJYXHBJY.GKJYXHBF- .GKJYXHBDY.GKJYXHBF-,.GKJYXHBJY.GKJYXHBF- .GKJYXHBDY.GKJYXHBF- .GKJYXHBOY,.GKJYXHBJY.GKJYXHBF- .GKJYXHBDY.GKJYXHBF- .GKJYXHBOY .GKJYXHBCY,.GKJYXHBJY.GKJYXHBKY .GKJYXHBDY.GKJYXHBKY,.GKJYXHBJY.GKJYXHBKY .GKJYXHBDY.GKJYXHBKY .GKJYXHBOY,.GKJYXHBJY.GKJYXHBKY .GKJYXHBDY.GKJYXHBKY .GKJYXHBOY .GKJYXHBCY,.GKJYXHBJY.GKJYXHBHY .GKJYXHBDY.GKJYXHBHY,.GKJYXHBJY.GKJYXHBHY .GKJYXHBDY.GKJYXHBHY .GKJYXHBOY,.GKJYXHBJY.GKJYXHBHY .GKJYXHBDY.GKJYXHBHY .GKJYXHBOY .GKJYXHBCY{opacity:1;}.GKJYXHBJY.GKJYXHBMY .GKJYXHBDY.GKJYXHBMY .GKJYXHBOY .GKJYXHBPY{top:0;height:200%;background-color:#555;}.GKJYXHBJY.GKJYXHBB- .GKJYXHBDY.GKJYXHBB- .GKJYXHBOY.GKJYXHBGY{border-color:#555;}.GKJYXHBJY.GKJYXHBB- .GKJYXHBDY.GKJYXHBB- .GKJYXHBOY.GKJYXHBGY .GKJYXHBPY{right:100%;width:0;background-color:#6a6a6a;}.GKJYXHBJY.GKJYXHBB- .GKJYXHBDY.GKJYXHBB- .GKJYXHBOY.GKJYXHBA- .GKJYXHBPY{left:0;width:200%;background-color:#555;}.GKJYXHBJY.GKJYXHBF- .GKJYXHBDY.GKJYXHBF- .GKJYXHBOY.GKJYXHBGY{border-color:#888;}.GKJYXHBJY.GKJYXHBF- .GKJYXHBDY.GKJYXHBF- .GKJYXHBOY.GKJYXHBGY .GKJYXHBPY{bottom:100%;height:0;background-color:#363636;}.GKJYXHBJY.GKJYXHBF- .GKJYXHBDY.GKJYXHBF- .GKJYXHBOY.GKJYXHBA- .GKJYXHBPY{top:0;height:200%;background-color:#888;}.GKJYXHBJY.GKJYXHBKY .GKJYXHBDY.GKJYXHBKY .GKJYXHBOY.GKJYXHBGY{border-color:#555;}.GKJYXHBJY.GKJYXHBKY .GKJYXHBDY.GKJYXHBKY .GKJYXHBOY.GKJYXHBGY .GKJYXHBPY{left:100%;width:0;background-color:#6a6a6a;}.GKJYXHBJY.GKJYXHBKY .GKJYXHBDY.GKJYXHBKY .GKJYXHBOY.GKJYXHBA- .GKJYXHBPY{right:0;width:200%;background-color:#555;}.GKJYXHBJY.GKJYXHBHY.GKJYXHBIY .GKJYXHBDY.GKJYXHBHY .GKJYXHBOY.GKJYXHBA- .GKJYXHBCY{opacity:0;}.GKJYXHBJY.GKJYXHBHY .GKJYXHBDY.GKJYXHBHY .GKJYXHBOY.GKJYXHBGY{border-color:#888;}.GKJYXHBJY.GKJYXHBHY .GKJYXHBDY.GKJYXHBHY .GKJYXHBOY.GKJYXHBGY .GKJYXHBPY{top:100%;height:0;background-color:#363636;}.GKJYXHBJY.GKJYXHBHY .GKJYXHBDY.GKJYXHBHY .GKJYXHBOY.GKJYXHBA- .GKJYXHBPY{bottom:0;height:200%;background-color:#888;}.GKJYXHBJY.GKJYXHBD- .GKJYXHBOY.GKJYXHBGY .GKJYXHBCY,.GKJYXHBJY.GKJYXHBFY .GKJYXHBOY.GKJYXHBGY .GKJYXHBCY,.GKJYXHBJY.GKJYXHBFY .GKJYXHBOY.GKJYXHBA- .GKJYXHBCY,.GKJYXHBJY.GKJYXHBFY .GKJYXHBOY.GKJYXHBGY .GKJYXHBPY{opacity:0 !important;}.GKJYXHBJY.GKJYXHBFY .GKJYXHBOY.GKJYXHBGY{border-color:transparent !important;}.GKJYXHBJY.GKJYXHBFY.GKJYXHBKY .GKJYXHBDY.GKJYXHBKY .GKJYXHBOY.GKJYXHBA- .GKJYXHBPY{width:0;right:100%;}.GKJYXHBJY.GKJYXHBFY.GKJYXHBF- .GKJYXHBDY.GKJYXHBF- .GKJYXHBOY.GKJYXHBA- .GKJYXHBPY{height:0;top:100%;}.GKJYXHBJY.GKJYXHBFY.GKJYXHBB- .GKJYXHBDY.GKJYXHBB- .GKJYXHBOY.GKJYXHBA- .GKJYXHBPY{width:0;left:100%;}.GKJYXHBJY.GKJYXHBFY.GKJYXHBHY .GKJYXHBDY.GKJYXHBHY .GKJYXHBOY.GKJYXHBA- .GKJYXHBPY{height:0;bottom:100%;}.GKJYXHBJY.GKJYXHBFY .GKJYXHBPY{-webkit-transition-delay:0 !important;-moz-transition-delay:0 !important;transition-delay:0 !important;}.GKJYXHBJY.GKJYXHBEY .GKJYXHBDY.GKJYXHBHY .GKJYXHBOY.GKJYXHBGY{border-bottom-color:#3c78f8;}.GKJYXHBJY.GKJYXHBEY .GKJYXHBDY.GKJYXHBB- .GKJYXHBOY.GKJYXHBGY{border-left-color:#fa2424;}.GKJYXHBJY.GKJYXHBEY .GKJYXHBDY.GKJYXHBF- .GKJYXHBOY.GKJYXHBGY{border-top-color:#ffd34b;}.GKJYXHBJY.GKJYXHBEY .GKJYXHBDY.GKJYXHBKY .GKJYXHBOY.GKJYXHBGY{border-right-color:#00b15f;}.GKJYXHBJY.GKJYXHBEY .GKJYXHBDY.GKJYXHBHY .GKJYXHBOY.GKJYXHBGY .GKJYXHBCY{background-color:#fa2424;}.GKJYXHBJY.GKJYXHBEY .GKJYXHBDY.GKJYXHBHY .GKJYXHBOY.GKJYXHBA- .GKJYXHBCY{background-color:#3c78f8;}.GKJYXHBJY.GKJYXHBEY .GKJYXHBDY.GKJYXHBB- .GKJYXHBOY.GKJYXHBGY .GKJYXHBCY{background-color:#ffd34b;}.GKJYXHBJY.GKJYXHBEY .GKJYXHBDY.GKJYXHBB- .GKJYXHBOY.GKJYXHBA- .GKJYXHBCY{background-color:#fa2424;}.GKJYXHBJY.GKJYXHBEY .GKJYXHBDY.GKJYXHBF- .GKJYXHBOY.GKJYXHBGY .GKJYXHBCY{background-color:#00b15f;}.GKJYXHBJY.GKJYXHBEY .GKJYXHBDY.GKJYXHBF- .GKJYXHBOY.GKJYXHBA- .GKJYXHBCY{background-color:#ffd34b;}.GKJYXHBJY.GKJYXHBEY .GKJYXHBDY.GKJYXHBKY .GKJYXHBOY.GKJYXHBGY .GKJYXHBCY{background-color:#3c78f8;}.GKJYXHBJY.GKJYXHBEY .GKJYXHBDY.GKJYXHBKY .GKJYXHBOY.GKJYXHBA- .GKJYXHBCY{background-color:#00b15f;}.GKJYXHBJY.GKJYXHBEY .GKJYXHBDY.GKJYXHBMY .GKJYXHBOY .GKJYXHBPY{background-color:#2159bd;}.GKJYXHBJY.GKJYXHBEY .GKJYXHBDY.GKJYXHBHY .GKJYXHBOY.GKJYXHBGY .GKJYXHBPY{background-color:#3c78f8;}.GKJYXHBJY.GKJYXHBEY .GKJYXHBDY.GKJYXHBHY .GKJYXHBOY.GKJYXHBA- .GKJYXHBPY{background-color:#9e1212;}.GKJYXHBJY.GKJYXHBEY .GKJYXHBDY.GKJYXHBB- .GKJYXHBOY.GKJYXHBGY .GKJYXHBPY{background-color:#fa2424;}.GKJYXHBJY.GKJYXHBEY .GKJYXHBDY.GKJYXHBB- .GKJYXHBOY.GKJYXHBA- .GKJYXHBPY{background-color:#dea11a;}.GKJYXHBJY.GKJYXHBEY .GKJYXHBDY.GKJYXHBF- .GKJYXHBOY.GKJYXHBGY .GKJYXHBPY{background-color:#ffd34b;}.GKJYXHBJY.GKJYXHBEY .GKJYXHBDY.GKJYXHBF- .GKJYXHBOY.GKJYXHBA- .GKJYXHBPY{background-color:#008948;}.GKJYXHBJY.GKJYXHBEY .GKJYXHBDY.GKJYXHBKY .GKJYXHBOY.GKJYXHBGY .GKJYXHBPY{background-color:#00b15f;}.GKJYXHBJY.GKJYXHBEY .GKJYXHBDY.GKJYXHBKY .GKJYXHBOY.GKJYXHBA- .GKJYXHBPY{background-color:#2159bd;}.GKJYXHBJY.GKJYXHBEY.GKJYXHBMY .GKJYXHBDY.GKJYXHBMY .GKJYXHBOY .GKJYXHBPY{background-color:#3c78f8;}.GKJYXHBJY.GKJYXHBEY.GKJYXHBB- .GKJYXHBDY.GKJYXHBB- .GKJYXHBOY.GKJYXHBGY{border-color:#ffd34b;}.GKJYXHBJY.GKJYXHBEY.GKJYXHBB- .GKJYXHBDY.GKJYXHBB- .GKJYXHBOY.GKJYXHBGY .GKJYXHBPY{background-color:#9e1212;}.GKJYXHBJY.GKJYXHBEY.GKJYXHBB- .GKJYXHBDY.GKJYXHBB- .GKJYXHBOY.GKJYXHBA- .GKJYXHBPY{background-color:#ffd34b;}.GKJYXHBJY.GKJYXHBEY.GKJYXHBF- .GKJYXHBDY.GKJYXHBF- .GKJYXHBOY.GKJYXHBGY{border-color:#00b15f;}.GKJYXHBJY.GKJYXHBEY.GKJYXHBF- .GKJYXHBDY.GKJYXHBF- .GKJYXHBOY.GKJYXHBGY .GKJYXHBPY{background-color:#dea11a;}.GKJYXHBJY.GKJYXHBEY.GKJYXHBF- .GKJYXHBDY.GKJYXHBF- .GKJYXHBOY.GKJYXHBA- .GKJYXHBPY{background-color:#00b15f;}.GKJYXHBJY.GKJYXHBEY.GKJYXHBKY .GKJYXHBDY.GKJYXHBKY .GKJYXHBOY.GKJYXHBGY{border-color:#3c78f8;}.GKJYXHBJY.GKJYXHBEY.GKJYXHBKY .GKJYXHBDY.GKJYXHBKY .GKJYXHBOY.GKJYXHBGY .GKJYXHBPY{background-color:#008948;}.GKJYXHBJY.GKJYXHBEY.GKJYXHBKY .GKJYXHBDY.GKJYXHBKY .GKJYXHBOY.GKJYXHBA- .GKJYXHBPY{background-color:#3c78f8;}.GKJYXHBJY.GKJYXHBEY.GKJYXHBHY .GKJYXHBDY.GKJYXHBHY .GKJYXHBOY.GKJYXHBGY{border-color:#fa2424;}.GKJYXHBJY.GKJYXHBEY.GKJYXHBHY .GKJYXHBDY.GKJYXHBHY .GKJYXHBOY.GKJYXHBGY .GKJYXHBPY{background-color:#2159bd;}.GKJYXHBJY.GKJYXHBEY.GKJYXHBHY .GKJYXHBDY.GKJYXHBHY .GKJYXHBOY.GKJYXHBA- .GKJYXHBPY{background-color:#fa2424;}.GKJYXHBLY{display:none !important;}.GKJYXHBEMC{line-height:18px;padding:11px 12px;background-color:#3367d6;color:rgba(255, 255, 255, 0.7);}.GKJYXHBDMC{text-decoration:underline;cursor:pointer;display:inline;white-space:nowrap;}.GKJYXHBFMC{float:right;margin-left:10px;line-height:18px;position:relative;}.GKJYXHBFMC .GKJYXHBBEB{color:rgba(255, 255, 255, 0.7);}.GKJYXHBFMC .GKJYXHBAEB{background:none;}.GKJYXHBFMC .GKJYXHBAEB:before{content:\"(i)\";color:rgba(255, 255, 255, 0.7);position:absolute;top:0;}.GKJYXHBFEB{line-height:20px;position:relative;text-align:left;}.GKJYXHBGEB{color:#aaa;padding-top:5px;font-size:11px;line-height:1.3;}.GKJYXHBHEB{color:#aaa;}.GKJYXHBEEB{color:#777;font-weight:bold;padding-bottom:3px;}.GKJYXHBIEB{color:#777;border-spacing:0;}.GKJYXHBLEB{white-space:nowrap;}.GKJYXHBMEB{color:#aaa;}.GKJYXHBFFB{width:100%;line-height:18px;display:inline-block;-moz-box-sizing:border-box;-webkit-box-sizing:border-box;box-sizing:border-box;text-align:left;}.GKJYXHBGFB{color:#777;font-weight:bold;}.GKJYXHBCFB{font-style:italic;}.GKJYXHBHFB{color:#dd4b39;}.GKJYXHBBFB{color:#777;margin:6px 4px 20px 0;}.GKJYXHBBFB:last-child{margin-bottom:0;}.GKJYXHBBFB a{color:#777;}.GKJYXHBOEB{color:#aaa;padding-top:5px;font-size:11px;line-height:1;}.GKJYXHBPEB{margin-right:5px;}.GKJYXHBAFB .GKJYXHBDFB a{color:#aaa;}.GKJYXHBGGB{min-height:35px;position:relative;}.GKJYXHBHHB{text-align:center;color:red;padding:15px;}.GKJYXHBLHB{padding:15px;font-size:18px;color:#777;font-weight:bold;}.GKJYXHBJGB{color:#777;padding:16px 11px;border-top:3px solid #ebebeb;}.GKJYXHBLGB{color:#222;font-size:16px;}.GKJYXHBCGB .GKJYXHBJGB{border:none;background:#4285f4;position:relative;padding-top:19px;padding-left:75px;min-height:44px;}.GKJYXHBCGB .GKJYXHBJGB:before{content:\"\";position:absolute;z-index:2;top:17px;left:17px;height:45px;width:45px;overflow:hidden;background:url(\"data:image/png;base64,iVBORw0KGgoAAAANSUhEUgAAAC0AAAAtCAYAAAA6GuKaAAAB+0lEQVR42tWZO27CQBCG3SC6NEggwSm4RSruwEHQHgCO4FzDUkpERWP6VKGijFwgQ+PJLBoREz9nZzDekX4h2ezsp9V6dx5BIDQAmKCWqBAVoWLUCXWl35ieh/S/SfAKw4lnqBVqj8qAZxmNs+NnXcCOUGtUCjqWkr/RM2AHtDIJPMcS8j/QAh6jdtCN2XnGUuA56gjdmp1v7gq8QJ3hNWbnXbis8KuA8+Bzzh4+Qj/s2LjH6ZSQfHQX1HeJLsKPc1AHvRKuzLbC71bod1V3cSQ9hU5KLyC6maCn0NbWZbFE2nPo9CFWUdjLXUA/7m2KunyA3ufj4cwT6OwWj1NgDp5AW1tahx+eQYcBpUI+QUfW4cFh4BdqI4TekB+uxQEln1zgKcEYR2hDz6cO4KeAsmY2cA7IMKHNv3dc8CtnpQvAJeBN0KbiPQf8ttJxyz9/ooY1EaJpgDY1Y4fkv/We5pweUQP4O+d5Djjinh4h98ipA2emdUOHIzd0vRHF4I7A9xvRNfZwBhcAZ/daoCDKY4MLgP+iPIV4ujW4ELgQT0szl0ZwBeC0UGVVyBErwRWAizmiYjZeAFcCTirLwUq54h1cCbi67qFUYcqDvykB7xrr1oq1vJ9OanneVk29rU972wnwtufibXfL2z6i1x3blr3xAzz2xg+g3Bv/BRAJJKnUChNWAAAAAElFTkSuQmCC\") -0px -0px  no-repeat;}.GKJYXHBKGB{line-height:20px;}.GKJYXHBCGB .GKJYXHBLGB{font-size:20px;color:white;}.GKJYXHBCGB .GKJYXHBKGB{color:white;}.GKJYXHBNFB{float:right;}.GKJYXHBKHB{margin-bottom:4px;}.GKJYXHBKHB .GKJYXHBBEB{color:rgba(255, 255, 255, 0.7);}.GKJYXHBKHB .GKJYXHBAEB{background-color:inherit;}.GKJYXHBOGB{padding:16px 11px;border-bottom:1px solid #ebebeb;min-height:34px;line-height:34px;border-left:1px solid #cbcbcb;border-right:1px solid #cbcbcb;}.GKJYXHBJGB+.GKJYXHBOGB,.GKJYXHBKHB+.GKJYXHBOGB{border-top:1px solid #cbcbcb;}.GKJYXHBOGB:last-child{border-bottom-color:#cbcbcb;}.GKJYXHBOGB[act=\"bl\"]{cursor:pointer;}.GKJYXHBFHB{float:right;line-height:normal;}.GKJYXHBHGB{line-height:1.4;color:#777;}.GKJYXHBEHB{font-weight:bold;color:#000;padding:8px 14px;border:1px solid transparent;font-size:14px;}.GKJYXHBMGB,.GKJYXHBMHB{font-size:inherit;}.GKJYXHBOFB{float:right;color:#777;font-size:11px;margin-right:8px;margin-left:8px;line-height:34px;}.GKJYXHBCHB{line-height:1.5;text-align:left;padding:7px 0;}.GKJYXHBDGB{display:inline-block;line-height:normal;height:auto;}.GKJYXHBIGB{color:#222;font-size:16px;}.GKJYXHBIGB:last-child{line-height:34px;}.GKJYXHBAHB{font-weight:bold;color:#000;}.GKJYXHBPGB,.GKJYXHBPGB .GKJYXHBAHB{color:#15c;}.GKJYXHBOGB[act=\"bl\"]:hover{background:#f7f7f7;}.GKJYXHBOGB[act=\"bl\"]:hover .GKJYXHBPGB{text-decoration:underline;}.GKJYXHBBHB{color:inherit;text-decoration:none;}.GKJYXHBJHB{color:#aaa;}.GKJYXHBOHB{padding-left:17px;position:relative;}.GKJYXHBOHB:before{content:\"\";position:absolute;left:0;height:14px;width:13px;overflow:hidden;background:url(\"data:image/png;base64,iVBORw0KGgoAAAANSUhEUgAAAA0AAAAOCAYAAAD0f5bSAAACN0lEQVR42mNgQAL/67XYXjSa9b1pN3KCiYnPj7YQnhf1R3xB7DOHVVk8DOjgbrn57jvuVv/vRtv9/7RVqe//fwZGwTlhvvxzw/+DsPyS5CQMTXcqzZff9XX4f8fb7v/tZqX/33dLrVCZ5MkuMDv8LUiT+PzYDWCFfp2f1D07vwY41P9n2e/gwHIl0P7jTS/7/zeTTf6/Wsv5/9tO8XbB2eErBOZG/BedH/UGrMmj88sb944v/0Mmfb2SNOO9/g0fu+k3ve3/X/e3//9yNff/r9s4/ngsDpsN0gTCUssiRRgcmt5dcwNq8ur68t+/59ObfUnZvXdAmjys/79YIPDv+3bW/1MX6j8AaQA5UWxhpB6DQ/19AZfmN/OANv736Pj0v6pg2as7Xrb/73ja/H88Ve7Qzx2s/5fNk/kvMDMMbJPIgihjeCA4N72e7db+6X9l5vz/V9ys/9/xsPn/oE0j6OcOlv+L58v/558aArZJYG64PlyTef1tPpeWdx+mJDT/v+Jq+f+Wm+XPM8bGrJ82sdzqmqfxn3966H/+OeH/uWdHiqMEuWvto00n/AP+X3ex+H/D1eIoSOzNGub5yfOs/gOD/T//7LD3GPE0MWfKidtAW24ANV12scgFid1awtGsPi8Y7DTJOWG7MDTNTajdedvV4v9RT/d/Z3yNuUBincudVsJShMmCgDIMTTPTZrLOSGmdMiW9xw4mVrXEKldoVuh/tdl+/zKX2ggyEAuaVplZ1q+3UIDxAS7xFCN5a7h9AAAAAElFTkSuQmCC\") -0px -0px  no-repeat;}.GKJYXHBAGB+.GKJYXHBAGB:before{content:\"\u00a0\u00b7\u00a0\";}.GKJYXHBPFB{font-weight:bold;}.GKJYXHBIFB{margin-top:20px;}.GKJYXHBCGB .GKJYXHBIFB{margin-top:4px;}.GKJYXHBLFB{padding:16px 11px;}.GKJYXHBCGB .GKJYXHBJFB{background:white;margin-bottom:4px;}.GKJYXHBLFB{background:#fafafa;border-bottom:1px solid #ebebeb;}.GKJYXHBCGB .GKJYXHBJFB{border:1px solid #cbcbcb;}.GKJYXHBLFB:last-child{border-bottom:none;}.GKJYXHBLFB.GKJYXHBIHB{line-height:27px;}.GKJYXHBMFB,.GKJYXHBEEB,.GKJYXHBGFB{font-weight:normal;color:#222;font-size:16px;}.GKJYXHBKFB{color:#777;line-height:20px;}.GKJYXHBFGB{float:right;margin-left:8px;}.GKJYXHBNHB{cursor:pointer;color:#15c;line-height:20px;}.GKJYXHBNHB:hover{text-decoration:underline;}.GKJYXHBGHB .GKJYXHBNGB,.GKJYXHBNGB .GKJYXHBGHB{display:none;}.GKJYXHBLFB .GKJYXHBP-{margin-right:0;}.GKJYXHBAEB{vertical-align:top;height:12px;width:12px;overflow:hidden;background:url(\"data:image/png;base64,iVBORw0KGgoAAAANSUhEUgAAAAwAAAAMCAYAAABWdVznAAAA6ElEQVQoz2NggALB0DNsQJzjXX/jv1jkWTAGsUFiIDkGZAAUkAbi86VzH/4/cvXT/5+//4IxiA0SA8mB1CCbfKln7bP/MLDr3If/By9/hPNBciA1YJtAVoJMQQZ2pVf/e9XdQBGD2pTD4Fl74//x65//EwIgNSC1DCDPgdyLDGZsffm/ZA6qrSA1ILVYNST33/1vWXgFRezz9z//ZWLP/Wdwq77+/+TNzwQ1gNSA1II8nV8x/xFBDSA1ILVYg3X76ff/5+x4iT1YkSLuEsgUUGQhhwzU5EvwiENLGvnQ5ADGoGAEiSEnDQCJvJMP6NAbwAAAAABJRU5ErkJggg==\") -0px -0px  no-repeat;}.GKJYXHBBEB{vertical-align:top;display:inline-block;color:#777;margin-right:4px;}.GKJYXHBAEB{background-color:#fff;background-position:right;background-size:12px 12px;display:inline-block;height:12px;width:12px;padding-top:3px;}.GKJYXHBAEB:hover{cursor:pointer;}.GKJYXHBOT{z-index:10000;position:relative;}.GKJYXHBPT{width:230px;z-index:10000;background:#fff;border:1px solid rgba(0, 0, 0, 0.2);-webkit-box-shadow:0 2px 4px rgba(0, 0, 0, 0.2);-moz-box-shadow:0 2px 4px rgba(0, 0, 0, 0.2);box-shadow:0 2px 4px rgba(0, 0, 0, 0.2);padding:16px;-webkit-border-radius:2px;-moz-border-radius:2px;border-radius:2px;font-size:13px;color:#777;}.GKJYXHBPT .GKJYXHBAU{height:11px;width:17px;overflow:hidden;background:url(\"data:image/png;base64,iVBORw0KGgoAAAANSUhEUgAAABEAAAALCAYAAACZIGYHAAAAa0lEQVR42r3PwQnAIAxAUQfrWoVuUCh0sETPnh3DgJKag1BEwVjov+SUR2LMHznntk8AIp7ee7bW7stACIFjjCxTDQHAJYspJZbUUAVyzvxuGhoBLVRePZaAGhH1oXLiPQMMIS3QhVaAFnoADXVsQk0Y2DwAAAAASUVORK5CYII=\") -0px -0px  no-repeat;outline:none;display:block;position:absolute;top:-10px;width:17px;height:11px;z-index:10001;}.GKJYXHBMT .GKJYXHBAU{left:30px;}.GKJYXHBNT .GKJYXHBAU{margin-left:-5px;right:30px;}.GKJYXHBBSC{background:white;-webkit-box-shadow:1px 2px 5px rgba(0, 0, 0, 0.1);-moz-box-shadow:1px 2px 5px rgba(0, 0, 0, 0.1);box-shadow:1px 2px 5px rgba(0, 0, 0, 0.1);border:1px solid #ccc;width:260px;}.GKJYXHBDSC{padding:15px 15px 0;font-weight:bold;}.GKJYXHBCSC{padding:15px 15px 0;}.GKJYXHBESC{padding:5px 15px 15px;cursor:pointer;color:#15c;display:block;}.GKJYXHBFUC{white-space:nowrap;border-bottom:1px solid #e5e5e5;}.GKJYXHBIUC{float:right;margin-top:6px;margin-right:30px;padding-right:20px;background-repeat:no-repeat !important;background-position:87% center !important;font-size:11px !important;min-width:38px !important;background-image:url('data:image/png;base64,iVBORw0KGgoAAAANSUhEUgAAAAcAAAAECAYAAABCxiV9AAAAP0lEQVR42mOYPHnyhEmTJv1HxyBxhv///zMBGWvRJNaCxBlAYNWqVZxAgWNQiWMgPgMymDlzpghQYhuIhokBAOJmNvPOHeVQAAAAAElFTkSuQmCC') !important;}.GKJYXHBOUC{line-height:29px;text-decoration:none;outline:0;cursor:pointer;display:inline-block;}.GKJYXHBGUC .GKJYXHBPUC{color:#dd4b39 !important;}.GKJYXHBOUC:active .GKJYXHBPUC{color:#c11 !important;}.GKJYXHBNUC{cursor:pointer;}.GKJYXHBGUC{display:inline-block;border-bottom:3px solid #dd4b39;}.GKJYXHBNUC{display:inline-block;background:no-repeat right center;background-image:url('data:image/png;base64,iVBORw0KGgoAAAANSUhEUgAAAAcAAAAECAYAAABCxiV9AAAAP0lEQVR42mOYPHnyhEmTJv1HxyBxhv///zMBGWvRJNaCxBlAYNWqVZxAgWNQiWMgPgMymDlzpghQYhuIhokBAOJmNvPOHeVQAAAAAElFTkSuQmCC');}.GKJYXHBNUC:hover,.GKJYXHBNUC:focus,.GKJYXHBNUC:active{background-image:url('data:image/png;base64,iVBORw0KGgoAAAANSUhEUgAAAAcAAAAECAYAAABCxiV9AAAAPElEQVR42mMwNjaeYGRk9B8dg8QZ6uvrmYCctWiSa0HiDCBgaWnJCRQ4BpU4BuIzIAOgMSJAiW0gGiYGAAh9HNqEh1lXAAAAAElFTkSuQmCC');}.GKJYXHBLUC{z-index:2;margin-top:14px;}.GKJYXHBLUC .GKJYXHBKUC{whitespace:normal;-webkit-box-shadow:0 2px 4px #d6d6d6;-moz-box-shadow:0 2px 4px #d6d6d6;box-shadow:0 2px 4px #d6d6d6;background-color:white;border:1px solid #d6d6d6;z-index:50;padding:5px 0;min-width:120px;}.GKJYXHBLUC .GKJYXHBKUC .GKJYXHBOUC{display:block;padding:6px 16px;cursor:pointer;color:#777;line-height:inherit;}.GKJYXHBFUC{font-size:13px;padding-left:122px;height:59px;position:relative;}.GKJYXHBOUC{padding:0 16px;line-height:inherit;}.GKJYXHBPUC,.GKJYXHBNUC{color:#777;}.GKJYXHBOUC:hover .GKJYXHBPUC,.GKJYXHBOUC.GKJYXHBNUC:hover{color:#222;}.GKJYXHBGUC{margin:21px 12px;padding:0 4px 20px;font-weight:bold;}.GKJYXHBKUC .GKJYXHBOUC:hover{background-color:#f1f1f1;}.GKJYXHBIUC{margin-top:16px;}.GKJYXHBII{z-index:20000;}.GKJYXHBJI{display:block;position:relative;background:#2d2d2d;color:#fff;font-weight:bold;text-align:center;min-height:29px;line-height:29px;margin-left:-24px;padding:0 10px;font-size:11px;white-space:nowrap;-webkit-box-shadow:0 1px 4px rgba(0, 0, 0, 0.2);-moz-box-shadow:0 1px 4px rgba(0, 0, 0, 0.2);box-shadow:1px 2px 4px rgba(0, 0, 0, 0.2);-webkit-box-sizing:border-box;-moz-box-sizing:border-box;box-sizing:border-box;}.GKJYXHBGI{outline:none;display:block;position:absolute;top:-5px;left:24px;margin:0 0 0 -5px;width:0;height:0;line-height:0;font-size:0;border-top:transparent;border-left:5px solid transparent;border-right:5px solid transparent;border-bottom:5px solid #2d2d2d;}.GKJYXHBFI .GKJYXHBGI{border-top:5px solid #2d2d2d;border-left:5px solid transparent;border-right:5px solid transparent;border-bottom:transparent;top:auto;bottom:-5px;}.tooltipContent{display:none;}.GKJYXHBOW{display:table;min-width:240px;width:100%;background:#fff;}.GKJYXHBPW{max-height:420px;overflow:auto;white-space:nowrap;}.GKJYXHBAX{display:table-caption;caption-side:bottom;font-size:11px;color:#777;padding:10px;padding-left:32px;}.GKJYXHBBX{background-image:url('data:image/png;base64,iVBORw0KGgoAAAANSUhEUgAAAAcAAAAECAYAAABCxiV9AAAAP0lEQVR42mOYPHnyhEmTJv1HxyBxhv///zMBGWvRJNaCxBlAYNWqVZxAgWNQiWMgPgMymDlzpghQYhuIhokBAOJmNvPOHeVQAAAAAElFTkSuQmCC') !important;}.GKJYXHBIN.GKJYXHBBX,.GKJYXHBBX:hover,.GKJYXHBBX:focus,.GKJYXHBBX:active{background-image:url('data:image/png;base64,iVBORw0KGgoAAAANSUhEUgAAAAcAAAAECAYAAABCxiV9AAAAPElEQVR42mMwNjaeYGRk9B8dg8QZ6uvrmYCctWiSa0HiDCBgaWnJCRQ4BpU4BuIzIAOgMSJAiW0gGiYGAAh9HNqEh1lXAAAAAElFTkSuQmCC') !important;}.GKJYXHBGSB.GKJYXHBKN{display:inline-block;background-color:transparent;background-image:none;border:none;font-size:13px;font-weight:normal;color:#aaa;-moz-box-shadow:none;-webkit-box-shadow:none;box-shadow:none;padding-left:11px;padding-right:6px;height:29px;}.GKJYXHBGSB.GKJYXHBKN.GKJYXHBIN,.GKJYXHBGSB.GKJYXHBKN:hover{color:#777;}.GKJYXHBISB{margin-right:3px;margin-top:2px;text-align:left;display:inline-block;}.GKJYXHBFSB{background:no-repeat right center;padding-right:11px;}.GKJYXHBESB .GKJYXHBISB{color:#dd4b39 !important;}.GKJYXHBHSB{z-index:1002;border:1px solid #ccc;}.GKJYXHBHSB .popupContent{background:white;-moz-box-shadow:1px 2px 5px rgba(0, 0, 0, 0.1);box-shadow:1px 2px 5px rgba(0, 0, 0, 0.1);}.GKJYXHBFSB{background-image:url('data:image/png;base64,iVBORw0KGgoAAAANSUhEUgAAAAcAAAAECAYAAABCxiV9AAAAP0lEQVR42mM4ePDghAMHDvxHxyBxhv///zMBGWvRJNaCxBlA4NixY5xAgWNQiWMgPgMyOHPmjAhQYhuIhokBAKZFQW3BX2UmAAAAAElFTkSuQmCC');}.GKJYXHBGSB.GKJYXHBKN:hover .GKJYXHBFSB,.GKJYXHBGSB.GKJYXHBKN:focus .GKJYXHBFSB,.GKJYXHBGSB.GKJYXHBKN:active .GKJYXHBFSB,.GKJYXHBGSB.GKJYXHBKN.GKJYXHBIN .GKJYXHBFSB{background-image:url('data:image/png;base64,iVBORw0KGgoAAAANSUhEUgAAAAcAAAAECAYAAABCxiV9AAAAP0lEQVR42mOYPHnyhEmTJv1HxyBxhv///zMBGWvRJNaCxBlAYNWqVZxAgWNQiWMgPgMymDlzpghQYhuIhokBAOJmNvPOHeVQAAAAAElFTkSuQmCC');}.GKJYXHBESB .GKJYXHBFSB{background-image:url('data:image/png;base64,iVBORw0KGgoAAAANSUhEUgAAAAcAAAAECAYAAABCxiV9AAAAQUlEQVR42mPYFmo1YVuI5X8MDBRn+F9fz7Q9xHItsgSIDxJnAIFjoaGc20OtjoElgDSIz4AM9kc6iAAlt4FomBgA88QruIW4dE0AAAAASUVORK5CYII=') !important;}.GKJYXHBJSB{z-index:1001;}.GKJYXHBJ-{position:absolute;bottom:0;left:0;right:0;margin-top:16px;display:block;border-top:1px solid #e4e4e4;background:#f2f2f2;padding-left:135px;line-height:40px;}.GKJYXHBM-{white-space:nowrap;font-size:small;}.GKJYXHBN-{text-decoration:none;display:inline-block;cursor:pointer;color:#777;margin-right:31px;}.GKJYXHBN-:hover{text-decoration:underline;color:#222;}.GKJYXHBK-{color:#777;white-space:normal;line-height:normal;padding-top:10px;padding-bottom:10px;}.GKJYXHBI-{color:#777;white-space:normal;font-size:smaller;line-height:normal;padding-bottom:6px;width:80%;}.GKJYXHBCKC{position:relative;margin:0;padding-top:0px;padding-bottom:0;padding-left:0;padding-right:0;padding-bottom:0;}.GKJYXHBFKC{position:relative;z-index:99;width:100%;text-align:center;margin-top:125px;margin-bottom:50px;}.GKJYXHBEKC .GKJYXHBFKC{position:absolute;top:225px;margin-top:0;}.GKJYXHBFKC&gt;.GKJYXHBJY{display:inline-block;}.GKJYXHBHKC{min-height:350px;}.GKJYXHBDKC{position:absolute;background:white;z-index:4;}.GKJYXHBGKC{z-index:5;}form.GKJYXHBI2{max-width:561px !important;min-width:561px !important;width:561px !important;}.GKJYXHBJOB::-webkit-scrollbar{width:6px;}.GKJYXHBJOB::-webkit-scrollbar-button:start:decrement,.GKJYXHBJOB::-webkit-scrollbar-button:end:increment{height:3px;display:block;background-color:transparent;}.GKJYXHBJOB::-webkit-scrollbar-track-piece{background-color:#eee;}.GKJYXHBJOB::-webkit-scrollbar-thumb:vertical{height:50px;background-color:#999;}.GKJYXHBLOB{width:16px;margin:15px auto 0;}.GKJYXHBHOB{position:relative;background-color:#fff;padding:6px 6px 7px 6px;font-size:12px;cursor:pointer;}.GKJYXHBHOB:hover{background-color:#f5f5f5;}.GKJYXHBJOB .GKJYXHBK3{position:absolute;left:4px;top:-3px;}.GKJYXHBIOB{position:relative;overflow:hidden;width:220px;padding-left:32px;}.GKJYXHBOOB{position:absolute;right:4px;top:6px;background:inherit;padding-left:2px;padding-right:10px;}.GKJYXHBNOB{color:#093;}.GKJYXHBKOB{color:#777;font-size:10px;padding-left:32px;}.GKJYXHBMOB{display:none;}.GKJYXHBBPB{background-color:#fff;border:1px solid #b4b4b4;position:relative;z-index:100;width:320px;-webkit-box-shadow:1px 1px 2px rgba(0, 0, 0, 0.15);-moz-box-shadow:1px 1px 2px rgba(0, 0, 0, 0.15);box-shadow:1px 1px 2px rgba(0, 0, 0, 0.15);}.GKJYXHBDPB{padding:11px 0 11px 14px;color:#777;border-bottom:1px solid #efefef;}.GKJYXHBPOB{overflow-y:auto;max-height:400px;min-height:50px;clear:both;}.GKJYXHBCPB{border-top:1px solid #efefef;padding:11px 0 11px 36px;color:#15c;cursor:pointer;}.GKJYXHBCPB:hover{text-decoration:underline;}.GKJYXHBBV{width:100%;text-align:center;position:relative;border-bottom:1px solid #d6d6d6;}.GKJYXHBGV.GKJYXHBBV{border-bottom:none;}.GKJYXHBHU{color:#222;display:inline-block;width:50%;padding:5px 0;}.GKJYXHBDV{position:absolute;background-position:center;background-repeat:no-repeat;background-size:6px 9px;left:0;width:18px;height:18px;top:2px;padding:0;background-image:url('data:image/png;base64,iVBORw0KGgoAAAANSUhEUgAAAAYAAAAJCAYAAAARml2dAAAAOklEQVR42mNgQAMqKir+6GIMSkpK/YqKiv9RJGGCIBouqKysvBGbYCtU8CyG2UAJTB147cDrKnR/AAClFhiSAhi0YAAAAABJRU5ErkJggg==') !important;}.GKJYXHBCV{position:absolute;background-position:center;background-repeat:no-repeat;background-size:6px 9px;right:0;width:18px;height:18px;top:2px;padding:0;}.GKJYXHBOU .GKJYXHBDV{color:#aaa;background-image:url('data:image/png;base64,iVBORw0KGgoAAAANSUhEUgAAAAYAAAAJCAYAAAARml2dAAAANElEQVR42mNgQAP79u3zRxdj2Lt3bz8Q/0eRhAmCaGTtG7EJtkIFz2IzG1MHXjvwugrdHwDl3kJlQ4mXbAAAAABJRU5ErkJggg==') !important;}.GKJYXHBAV .GKJYXHBCV{color:#aaa;}.GKJYXHBCV{background-image:url('data:image/png;base64,iVBORw0KGgoAAAANSUhEUgAAAAYAAAAJCAYAAAARml2dAAAAOElEQVR42mNgAAIVFRV/BnQAElRUVPyvpKTUjyEJEiQoqaysvBGb5FmoZCuGDiDeiN8OvK7C5g8A0YIYkkgYmAIAAAAASUVORK5CYII=') !important;}.GKJYXHBAV .GKJYXHBCV{background-image:url('data:image/png;base64,iVBORw0KGgoAAAANSUhEUgAAAAYAAAAJCAYAAAARml2dAAAANUlEQVR42mNgAIJ9+/b5M6ADkODevXv/A3E/hiRIkKAk0ISN2CTPQiVbsRm3Eb8deF2FzR8AfpVCZb0HmpUAAAAASUVORK5CYII=') !important;}.GKJYXHBIU{color:#ddd !important;}.GKJYXHBGU{font-size:13px;color:#777;-webkit-tap-highlight-color:rgba(0, 0, 0, 0);}.GKJYXHBPU{margin-top:-30px;padding-top:30px;width:100%;border-spacing:0;}.GKJYXHBGV .GKJYXHBPU{padding-right:10px;border-right:1px solid #ebebeb;display:inline-table;width:50%;box-sizing:border-box;-moz-box-sizing:border-box;-webkit-box-sizing:border-box;vertical-align:top;}.GKJYXHBEV{border-spacing:0;display:inline-table;width:50%;box-sizing:border-box;-moz-box-sizing:border-box;-webkit-box-sizing:border-box;vertical-align:top;padding-left:10px;border-left:1px solid #ebebeb;margin-left:-1px;}.GKJYXHBKU{text-align:center;background:white;border:1px solid transparent;cursor:pointer;}.GKJYXHBMU{text-align:center;color:#aaa;padding-top:15px;}.GKJYXHBNU{position:relative;}.GKJYXHBJU{padding:3px 0;}.GKJYXHBKU:hover{background-color:#ebebeb;}.GKJYXHBIU{background-color:white !important;}.GKJYXHBFV.GKJYXHBKU{background-color:#ebebeb;color:#d14836;}.GKJYXHBLU{color:#aaa;font-size:12px;position:absolute;bottom:0;width:100%;text-align:center;display:none;}.GKJYXHBIU .GKJYXHBLU{display:none;}.GKJYXHBPIB{background:#f9f9f9;border-top:1px #ebebeb;padding:6px 0;}.GKJYXHBFJB{display:inline-block;white-space:nowrap;vertical-align:middle;}.GKJYXHBEJB{color:#777;padding-left:15px;font-size:11px;}.GKJYXHBCJB{font-weight:bold;}.GKJYXHBGJB{height:7px;width:4px;overflow:hidden;background:url(\"data:image/png;base64,iVBORw0KGgoAAAANSUhEUgAAAAQAAAAHCAYAAAAvZezQAAAAN0lEQVQYV2P4//8/AxQzdXV1TQBz+vr6OLu7u9cCBf4z9PT0iAA5x0AcsACQsw3Gwa4Cwwx0WwBjfUZlp39N/AAAAABJRU5ErkJggg==\") -0px -0px  no-repeat;}.GKJYXHBHJB{height:7px;width:4px;overflow:hidden;background:url(\"data:image/png;base64,iVBORw0KGgoAAAANSUhEUgAAAAQAAAAHCAYAAAAvZezQAAAAM0lEQVR42mPo6uqa8P//fyYGGAAK/O/u7l7b19fHCReACh7r6ekRgQtABbdhV4FuBootAIYVNHf/NvQcAAAAAElFTkSuQmCC\") -0px -0px  no-repeat;}.GKJYXHBGJB.GKJYXHBAJB{height:7px;width:4px;overflow:hidden;background:url(\"data:image/png;base64,iVBORw0KGgoAAAANSUhEUgAAAAQAAAAHCAYAAAAvZezQAAAAOElEQVR42mNggIL///8z9vT0GIM59fX1LF1dXbZAHMkwadIkdiDDDcQBC3R3dzvAONhVYJiBbgsA2NQrNdrBD+oAAAAASUVORK5CYII=\") -0px -0px  no-repeat;}.GKJYXHBHJB.GKJYXHBAJB{height:7px;width:4px;overflow:hidden;background:url(\"data:image/png;base64,iVBORw0KGgoAAAANSUhEUgAAAAQAAAAHCAYAAAAvZezQAAAANUlEQVR42mPo6ekx/v//PyMDDHR1dUUCsW19fT0LsgAIu02aNIkdWSCyu7vbAacKhBnotgAAVgMrNXlhSLwAAAAASUVORK5CYII=\") -0px -0px  no-repeat;}.GKJYXHBGJB,.GKJYXHBHJB,.GKJYXHBGJB.GKJYXHBAJB,.GKJYXHBHJB.GKJYXHBAJB{display:inline-block;vertical-align:middle;background-size:4px 7px;background-position:center;border:1px solid #dcdcdc;background-color:#f6f6f6;border-radius:2px;}.GKJYXHBGJB{margin-left:8px;border-top-right-radius:0;border-bottom-right-radius:0;width:4px;height:7px;padding:3px 6px;cursor:pointer;}.GKJYXHBHJB{border-top-left-radius:0;border-bottom-left-radius:0;margin-left:-1px;width:4px;height:7px;padding:3px 6px;cursor:pointer;}.GKJYXHBGJB.GKJYXHBAJB,.GKJYXHBHJB.GKJYXHBAJB{width:4px;height:7px;}.GKJYXHBAJB{cursor:auto;}.GKJYXHBGJB:hover,.GKJYXHBHJB:hover{-webkit-box-shadow:0 1px 1px rgba(0, 0, 0, 0.1);-moz-box-shadow:0 1px 1px rgba(0, 0, 0, 0.1);box-shadow:0 1px 1px rgba(0, 0, 0, 0.1);border:1px solid #c6c6c6;background-color:#f5f5f5;}.GKJYXHBGJB.GKJYXHBAJB:hover,.GKJYXHBHJB.GKJYXHBAJB:hover{-webkit-box-shadow:none;-moz-box-shadow:none;box-shadow:none;border:1px solid #dcdcdc;background-color:#f6f6f6;}.GKJYXHBBJB{cursor:pointer;float:right;margin-right:8px;color:#15c;padding-right:19px;background-position:right center;background-repeat:no-repeat;background-size:12px;font-size:11px;font-weight:bold;line-height:17px;background-image:url('data:image/png;base64,iVBORw0KGgoAAAANSUhEUgAAAAwAAAAMCAYAAABWdVznAAAAcElEQVR42mMQDDnzHwl3MDD8Z2RAAiAxZDUMSJyFDDgASA5Fg0DImdWCwWceCQefMUdXDBIDyYHVgDQAGT0gZ8AkkDWhiv1nBGqYzoDsZpCEQMjZehgfxEa1FdV/dACEnQQJsukkeZrkYCUr4khJGgBpPocNOvgrrgAAAABJRU5ErkJggg==');}.GKJYXHBBJB:hover{text-decoration:underline;}.GKJYXHBDJB .GKJYXHBFJB{visibility:hidden;}.GKJYXHBNVB{margin:10px 17px;}.GKJYXHBOVB{display:inline-block;padding:10px 10px;cursor:pointer;border:solid 1px #dedede;margin-left:-1px;}.GKJYXHBPVB{background-color:#f5f5f5;border-color:#bbb;position:relative;z-index:1;}.GKJYXHBOVB:hover{background-color:#f5f5f5;}.GKJYXHBKSB{padding-top:10px;margin-bottom:2px;color:#777;padding-left:13px;}.GKJYXHBLSB{border-top:1px solid #ccc;}.GKJYXHBGVB{border-top:1px solid #ccc;min-width:150px;}.GKJYXHBGVB.GKJYXHBJVB{border-top:none;}.GKJYXHBFVB.GKJYXHBGVB{color:gray;}.GKJYXHBHVB.GKJYXHBGVB{color:inherit;}.GKJYXHBIVB.GKJYXHBGVB{margin-bottom:6px;}.GKJYXHBKVB{padding:7px 13px;}.GKJYXHBHVB .GKJYXHBKVB:hover{cursor:pointer;background-color:#f5f5f5;}.GKJYXHBLVB{font-weight:bold;display:inline-block;margin-right:8px;}.GKJYXHBMVB{display:inline-block;}.GKJYXHBIVB .GKJYXHBMVB{display:none;}.GKJYXHBDVB{overflow-y:auto;max-height:200px;margin-right:1px;padding-right:9px;}.GKJYXHBBVB .GKJYXHBCVB{display:none;}.GKJYXHBDVB::-webkit-scrollbar{width:8px;}.GKJYXHBDVB::-webkit-scrollbar-button:start:decrement,.GKJYXHBDVB::-webkit-scrollbar-button:end:increment{height:3px;display:block;background-color:transparent;}.GKJYXHBDVB::-webkit-scrollbar-track-piece{background-color:#eee;}.GKJYXHBDVB::-webkit-scrollbar-thumb:vertical{height:90px;background-color:#999;}.GKJYXHBEVB{padding:11px 13px 9px 13px;min-width:200px;}.GKJYXHBKUB{color:#15c;text-decoration:none;float:right;padding-left:10px;}.GKJYXHBPUB{margin-top:5px;cursor:pointer;}.GKJYXHBAVB{display:inline;}.GKJYXHBDT{cursor:col-resize;}.GKJYXHBAT{position:relative;height:25px;width:100%;cursor:pointer;}.GKJYXHBFT{position:absolute;height:5px;top:10px;left:0;right:9px;-webkit-border-radius:3px;-moz-border-radius:3px;border-radius:3px;background-color:#e5e5e5;}.GKJYXHBKT{position:absolute;height:5px;top:10px;left:0;right:9px;-webkit-border-radius:3px;-moz-border-radius:3px;border-radius:3px;background-color:#c6c6c6;}.GKJYXHBAT.GKJYXHBPS .GKJYXHBFT{background-color:#d1d1d1;}.GKJYXHBAT.GKJYXHBPS .GKJYXHBKT{background-color:#aaa;}.GKJYXHBAT:hover .GKJYXHBFT{background-color:#d1d1d1;}.GKJYXHBAT:hover .GKJYXHBKT{background-color:#aaa;}.GKJYXHBDT{position:absolute;height:25px !important;width:25px !important;background-position:center !important;}.GKJYXHBDT.GKJYXHBCT,.GKJYXHBBT .GKJYXHBKT,.GKJYXHBBT .GKJYXHBDT{display:none;}.GKJYXHBDT.GKJYXHBJT.GKJYXHBET{height:21px;width:19px;overflow:hidden;background:url(\"data:image/png;base64,iVBORw0KGgoAAAANSUhEUgAAABMAAAAVCAYAAACkCdXRAAAA4ElEQVR42mNgGFKgrKyMt6mpKa+lpWVHc3PzIyD9HyjMRKo5jI2NjcFAA16ADEDGQDlWkgwCuqYK3RAkw9iJNqihoSEKl0EkGZaWlsYP9NpTahjGWFdXl4vPIFIMYwaG1V5qGcaCLfbINYwNqPgn1QwDuuwl1QwDJov9VAuz6urqIqrFprOzszghrxKdzkAKS0pKkqmSA0CuA2JuoHdbqZI3QWEHxDyFhYWJQC+/ocQwZAO5TU1NZYFlWnV9ff0BWFiSahjMQGaoRh4gFgBiISDmI7U8w2YoyAA2KE2wpAUAauJE2TLPky0AAAAASUVORK5CYII=\") -0px -0px  no-repeat;}.GKJYXHBDT.GKJYXHBJT.GKJYXHBIT{height:21px;width:19px;overflow:hidden;background:url(\"data:image/png;base64,iVBORw0KGgoAAAANSUhEUgAAABMAAAAVCAYAAACkCdXRAAAA4klEQVR42mNgGMqAqaWl5X9zc/MjIL2jqakpr6ysjJdcw1hBhiFjoMEvGhsbg4FyjKQaxo5uGJKhtaQaiNMwEK6rqwsnxUC8hgFd9zQtLY2fKoZBXZdLrOsIGgaM4b1AdcxUMQwUu0B1LFQxDIh/AtWxUctlL6lmWH19/SGqGVZdXV0EyinUSGcvnZ2dxakSmyUlJckgNRSnM6D3WoHy3MS6CqthQK+9KSwsTATK8UDTF2l5ExQ2wFg7ACzLqk1NTWWhLmIhtdQAxRIfEAsBsQDUNexQr5FcnjFBDWSD0jgNAQBpx0TXhu6a1QAAAABJRU5ErkJggg==\") -0px -0px  no-repeat;}.GKJYXHBDT.GKJYXHBJT.GKJYXHBLT{height:21px;width:19px;overflow:hidden;background:url(\"data:image/png;base64,iVBORw0KGgoAAAANSUhEUgAAABMAAAAVCAYAAACkCdXRAAABO0lEQVR42tWUTYrCQBCFDSaThYqiC1ceIyfIEVwIsxuE7BzIELIwmP/cKZvBwaMIgoIXcDXWk+qgaGJMrwwUTarrff36t9V6q8913V4cx99pmuZJkmyp/ec2Rx79dThKFEVTEu4BKAv0ow71pSAadVkFeQBdPQIqYRh+vgIS4fv+7AZoWVafRtk1gUEHfeGK6IsmoCt3C+GuTWv1KwODHhzA1Ge7V2Oqe3AA+6DESQYGPTgXGJEPks4OBYyOxVoGFgTBRsBUz/N+ZGDQE0e77KZpmuOmU4UOerGbOB+64zjzJjDooL++BaB2yG724vQy6ISr4hbwOenatv1F1o9PpnZEHepZd3/ZuaNjGMaE3iyPdulPrCVa/COPfnakVj5DbFnnUQcUQ4oRtwPO61yn1HokuVjj8yNCq4KcAZ9cXXl8jDbrAAAAAElFTkSuQmCC\") -0px -0px  no-repeat;}.GKJYXHBDT.GKJYXHBJT.GKJYXHBET.GKJYXHBHT{height:21px;width:19px;overflow:hidden;background:url(\"data:image/png;base64,iVBORw0KGgoAAAANSUhEUgAAABMAAAAVCAYAAACkCdXRAAAA1klEQVR42mNgGFLA2tqa18bGJs/W1nYHED8C4v9AYSZSzWEEagwGGvQCZAAyBsqxkmpQFbohSIaxE20Q0DVRuAwiyTBjY2N+oIan1DCM0crKKhefQaQYxgyMvb3UMowFW+yRaxgbUPFPahr2kmqGAcNsP9XCzMLCoohqsamoqChOyKtEpzOQQjMzs2Sq5ACQ64CYG+jdVqrkTVDYATGPqalpIlDzG0oMQzaQW0pKShboympgNjsAC0tSDYMZyAzVyAPEAkAsBMR8pJZn2AwFGcAGpQmWtAA6kdglHJMytQAAAABJRU5ErkJggg==\") -0px -0px  no-repeat;}.GKJYXHBDT.GKJYXHBJT.GKJYXHBIT.GKJYXHBHT{height:21px;width:19px;overflow:hidden;background:url(\"data:image/png;base64,iVBORw0KGgoAAAANSUhEUgAAABMAAAAVCAYAAACkCdXRAAAA2klEQVR42mNgGMqAydbW9j8QPwLiHTY2NnnW1ta85BrGCjUMjoEGvgDSwUA5RlINY0c3DIaBLqwl1UCchkENDCfFQLyGAfFTY2NjfmoZ9t/KyiqXWNcRNAzo1b1AdcxUMQwUu0B1LFQxDIh/AtWxUcuwl1QzDBhmh6hmmIWFRREop1DDsJeKioriVIlNMzOzZJAaitMZ0HutQHluYl2Fy7A3pqamiUA5Hmj6IjlvvgRmmwNA11RLSUnJQl3EQmqpAYolPiAWAmIBqGvYoV4juTxjghrIBqVxGgIACurYIH4uNtoAAAAASUVORK5CYII=\") -0px -0px  no-repeat;}.GKJYXHBDT.GKJYXHBJT.GKJYXHBLT.GKJYXHBHT{height:21px;width:19px;overflow:hidden;background:url(\"data:image/png;base64,iVBORw0KGgoAAAANSUhEUgAAABMAAAAVCAYAAACkCdXRAAABLUlEQVR42tWUvYrCQBSFDSamUFlxCyFgkWcICSE/T2Eh2C3WWlgqlr6TjSg+ysLCBnwBKz1H7oS4K4lmKgOHIXPv+ebOb6PxVl8cx90kSeZpmm6hb+gi7Zb9jD/DMWAYwfArgIeS+Ij5ZaBlGeSvUOH6EdDAaJNXQAXg+A7oed4HAj91YPTRn1cVRdGsJugm+lV1TZS604HRTw5hZtXuVYl+cghroeOsA6OfHAXLNGFZDsOc95prdlQwMwzDhQ6MfnCs2266rjvQmGpGv9pNng87CIJpHRh99BdvAaltlLt5cXob+lRV+S2Qc9Lxff8LiacK0Il5zBff/8sugbbjOEOMusI1ORTWMuM/+xmXiszSZ0hKtmXUHtSHPqXtSb8tecZTj6QkW3J+lKwyyBXFr5JCmISGqQAAAABJRU5ErkJggg==\") -0px -0px  no-repeat;}.GKJYXHBDT.GKJYXHBJT.GKJYXHBET:hover{height:21px;width:19px;overflow:hidden;background:url(\"data:image/png;base64,iVBORw0KGgoAAAANSUhEUgAAABMAAAAVCAYAAACkCdXRAAAA2UlEQVR42mNgGFLAz8+PNz4+Pi8hIWEHED8C4v9AYSZSzWEEGhIM1PwCZAAyBsqxkmRQXFxcFbohSIaxk2JQFC6DSDIsNDSUH6jhKTUMA7kqF59BpBjGDDRsL7UMY8EWe+QaxgZU/JNqhgHT1kuqGRYbG7ufamEWHh5eRLXYNDc3FyfkVaLTGUghMOEmUyUHgFwHxNwRERGtVMmboLADYp6QkJBEoJffUGIYsoHcOjo6ssBIqQbG8gFYWJJqGMxAZqhGHiAWAGIhIOYjtTzDZijIADYoTbCkBQCP4g3pfUOG+AAAAABJRU5ErkJggg==\") -0px -0px  no-repeat;}.GKJYXHBDT.GKJYXHBJT.GKJYXHBIT:hover{height:21px;width:19px;overflow:hidden;background:url(\"data:image/png;base64,iVBORw0KGgoAAAANSUhEUgAAABMAAAAVCAYAAACkCdXRAAAA3ElEQVR42mNgGMqAKSEh4T8QPwLiHfHx8Xl+fn685BrGCjUMGb8AGhoMlGMk1TB2LIaBcVxcXC2pBuI0DGpgOCkG4jUMiJ+GhobyU8swkOtyiXUdMYbtBapjpophoNgFqmOhlmE/gerYqGIYMM29pJphsbGxh6hmWHh4eBEop1BsGMiL5ubm4lSJTWCCTQapoTidRUREtALluYl1FVbDgF57ExISkgiU44GmL9LyJihsgLF2ABjY1To6OrJQF7GQWmqAYokPiIWAWADqGnao10guz5igBrJBaZyGAACiNQ3tIkLUwAAAAABJRU5ErkJggg==\") -0px -0px  no-repeat;}.GKJYXHBDT.GKJYXHBJT.GKJYXHBLT:hover{height:21px;width:19px;overflow:hidden;background:url(\"data:image/png;base64,iVBORw0KGgoAAAANSUhEUgAAABMAAAAVCAYAAACkCdXRAAABMUlEQVR42tWUvYrCQBSFlU1MobKixVa+Qfq8RRoTEoT8iHUstlQsfScbUXwUQciCL2C1e47ckYg/iZlqA5dhZs75cmfmzjQa/+pzXbebJMksTdM14oD4lXbNcc5X4TQhHsGUC+BZ5NRR/xQUx/G8BHIT0C8fAQkavwMqAIMboO/7n5g41oHRR38xq6wmSGWXqew+0NlowjbkEGZUOL2yyMkhrIXOWRN2JucCQ8386MDov8KiKNrqwODfK5gRBMG3Dox+cMzLaTqO81V3qfTRr06T9WGh8KZ1YPTRX7wFpLbDMFy9A6KePpXV9RZInXQ8z5sg9VPJ0k7UUS+++8suE23btofY1AVOaaf2ki37HOe8ZGS8fIYkZUv+2kP0EQNpezJuia5Z6ZEUsSn1o8J8BfkDqC/2vF+eI+QAAAAASUVORK5CYII=\") -0px -0px  no-repeat;}.GKJYXHBDT.GKJYXHBGT.GKJYXHBET{height:23px;width:19px;overflow:hidden;background:url(\"data:image/png;base64,iVBORw0KGgoAAAANSUhEUgAAABMAAAAXCAYAAADpwXTaAAAAmklEQVR42u3UyQmAMBAFUHdxKU8tI0sNSSFWKB70rF8wB8VoFsGLA/8WHgMzmSD4y7k454UQopdSDshyDp5Epla4Q4sueJOaYgmw4QHLTbHsDvoUy3/MfgBYjfktLGWMNXegDbZ9lZJS2gKcfLEQiZGKENJddWiDqdKCLti5w8kH04Ku2AHchzJu6+NzLxVYIrXNPXtam9jk0q4FLBy3bJoQTAAAAABJRU5ErkJggg==\") -0px -0px  no-repeat;}.GKJYXHBDT.GKJYXHBGT.GKJYXHBIT{height:23px;width:19px;overflow:hidden;background:url(\"data:image/png;base64,iVBORw0KGgoAAAANSUhEUgAAABMAAAAXCAYAAADpwXTaAAAApElEQVR42mNgGAW0AEwtLS3/seB3zc3NCwoLCzmh6tiJMYwVh2FgDDIQqIaRWMPYCRj2DqiGhSqGgTBQDdugNYx91DCSksZXqkQAyKCCgoIQUMKmyDCgQV/y8/NDgfJcoCxHtmEgF+Xl5YUB5biBmJns7ITFIAZSMjo7stewuIh0wwgYRLRhbECDPkADG5dBxJdnQMwDjTVcBhFtGBPUECZCwQEAsH0dPJaTlAYAAAAASUVORK5CYII=\") -0px -0px  no-repeat;}.GKJYXHBDT.GKJYXHBGT.GKJYXHBLT{height:23px;width:19px;overflow:hidden;background:url(\"data:image/png;base64,iVBORw0KGgoAAAANSUhEUgAAABMAAAAXCAYAAADpwXTaAAAA2UlEQVR42u3TQQ6CMBAFUASECImnU9fqAdpCwgVoD6IHlLDA6A5nTJsUUlqocaWTDIum/2Wa0iD4l3cVRbHhnF+EEA10P6NvuB9zkkjVZyWhfmnXdX3FvI7FgDU+GOYwr2OJD6Qa81/D0g+x9AexBK747vlrPMcXsGaM7ZaCsP9RVdUR8zoWQmeU0j1s6OZOBE/pBLkcOho8J7mQE0IOrgkRKsvyLKF4/JxUOUE8mgEKTNh4ws5yNB0yYpMgTmSBJrEBKC+ldUBWTAcz6K0DcmKqQolEFujtvAAQ/g8Ep2hJ9gAAAABJRU5ErkJggg==\") -0px -0px  no-repeat;}.GKJYXHBDT.GKJYXHBGT.GKJYXHBET.GKJYXHBHT{height:23px;width:19px;overflow:hidden;background:url(\"data:image/png;base64,iVBORw0KGgoAAAANSUhEUgAAABMAAAAXCAYAAADpwXTaAAAAmElEQVR42mNgGAVkA0tLS05bW9sFQPwOiP+jY6ASJmLNYoQa9B8XBqphJdYwFlwuQjKMnVjD2PAZNKCGsY8aRlYEfKWWYawmJiYh+AwkxTBQVuEyNjYOBWr8QqlhjEDMDMTcRkZGYdhcSIphMIDTQHIMQ3fhF0oMw2kguYahGAiNlA+g5ENJeQkzkAuIeUgpzwglG2ZiSloAdoO+Lscx10kAAAAASUVORK5CYII=\") -0px -0px  no-repeat;}.GKJYXHBDT.GKJYXHBGT.GKJYXHBIT.GKJYXHBHT{height:23px;width:19px;overflow:hidden;background:url(\"data:image/png;base64,iVBORw0KGgoAAAANSUhEUgAAABMAAAAXCAYAAADpwXTaAAAAnElEQVR42mNgGAW0AEy2trb/seB3QLzA0tKSE6qOnRjDWHEYBsMLgGoYiTWMnYBh74BqWKhl2H+gGrZBaxj7qGEkGfaVWhHw1cTEJASUsCk17IuxsXEoUJ4LlOUoMeyrkZFRGFCOG4iZKclO6AYxkJLRkQ37gsVFZBmGzyCiDWMDGvQBGti4DCK+PANiHmis4TKIaMOYoIYwEQoOAG4SvrMeJPhIAAAAAElFTkSuQmCC\") -0px -0px  no-repeat;}.GKJYXHBDT.GKJYXHBGT.GKJYXHBLT.GKJYXHBHT{height:23px;width:19px;overflow:hidden;background:url(\"data:image/png;base64,iVBORw0KGgoAAAANSUhEUgAAABMAAAAXCAYAAADpwXTaAAAAzklEQVR42u3TzQ6CMAwHcNDpIiQ+DB8HEvYW6ll9Mn1AiQcM3LA1JSnL3MaMJ13yv5D2ly5lUfQ/waeqqo1S6gJpIINHbliPfUTI0YoJGuamrusr9nNMzJhIT4P9HFsHQq9g/9cw+SEmfxDDBTwCsV5fwKooil0A2JVlecR+ji0gSZ7neyhofScC6AR9KWQ5eU70Ic2y7OAxYQ83ORMk9Oc0Hh+wM0CRCdMnbC1X45ARs4GdBXqLTUBayt0BWTEOJpCtA3Ji/LcRBMeWOvkEWs5fjZCLjgMAAAAASUVORK5CYII=\") -0px -0px  no-repeat;}.GKJYXHBDT.GKJYXHBGT.GKJYXHBET:hover{height:23px;width:19px;overflow:hidden;background:url(\"data:image/png;base64,iVBORw0KGgoAAAANSUhEUgAAABMAAAAXCAYAAADpwXTaAAAAlklEQVR42u3UTQqAIBAG0Mwssg6nkq09WieMFra2CQpKsvwJ2jTw7fQx4DhZ9ld0SSlrpdQAGSHGDhzJfS20QcYVOEN8scLV0QGrfLHyDvoUq34s6gHmtzAihOjuwBBs/SqUcy7hok7FEARDGsZYf9VhCLaXE4zB7A51CuYEY7ETuD3KtI5Pyr7cQQppQ/bZ09hgn027ACEf7NtqlaywAAAAAElFTkSuQmCC\") -0px -0px  no-repeat;}.GKJYXHBDT.GKJYXHBGT.GKJYXHBIT:hover{height:23px;width:19px;overflow:hidden;background:url(\"data:image/png;base64,iVBORw0KGgoAAAANSUhEUgAAABMAAAAXCAYAAADpwXTaAAAAmklEQVR42u3UwQqEIBAGYNe2pK2HU8nOPlpPGB3yXH9gEJE1ZcEeEv6Tw4c4joy964nFrbXDRlqkMcbkvk5QsDSAzWlQ86Fi4gBrUfO9CxtQk/0tJl7sFObuaoDTWlfTw47FeqWUwf5vGrkYzEkpa+wVSBIzTmuInRn0JdZvnOgStgeRsQxQ5y87BNH/M6T0XQtBZIx7hB9dxwh/u+1gOud0MwAAAABJRU5ErkJggg==\") -0px -0px  no-repeat;}.GKJYXHBDT.GKJYXHBGT.GKJYXHBLT:hover{height:23px;width:19px;overflow:hidden;background:url(\"data:image/png;base64,iVBORw0KGgoAAAANSUhEUgAAABMAAAAXCAYAAADpwXTaAAAAyklEQVR42u3TUQ+CIBAHcC2KpVufTQV6hfpk9QFzPdj0Te8absgIkNZT3fZ/cdxvx/Cy7F/JJYQ4KKWukBYyRuSO57FPE3S2cg2NayOlvGG/iZEVE9lpsd/E9onQK9j/NYx+iNEfxPABnonYYD/ArmkangD2sAEK+01sAynquhZwoIudiHN+hr4Ssl2sk/5QVlV1iphwYIxdNETsdZorBuwdUObC7Ak7z9VMyIn5wN4DvcUWoH6URwDyYiZYQI4BKIiZvw3RcO45Ryc1ubYGI961WAAAAABJRU5ErkJggg==\") -0px -0px  no-repeat;}.GKJYXHBAT.GKJYXHBBT:hover .GKJYXHBFT{background-color:#e5e5e5;}.GKJYXHBDSB{padding:11px 13px 9px 13px;min-width:200px;}.GKJYXHBBXB{padding:9px 13px 9px;}.GKJYXHBBXB .GKJYXHBAT{width:192px;}.GKJYXHBJWB{float:left;margin-bottom:7px;}.GKJYXHBCXB{float:left;margin-bottom:7px;margin-left:5px;margin-top:2px;}.GKJYXHBMWB{margin-top:2px;float:right;color:#15c;text-decoration:none;padding-left:10px;}.GKJYXHBKN.GKJYXHBDWB{display:inline-block;margin-right:-1px;height:17px;line-height:17px;padding:0 5px;border-radius:1px;}.GKJYXHBKN.GKJYXHBBWB{display:inline-block;margin:0 -1px;height:17px;line-height:17px;padding:0 5px;border-radius:1px;}.GKJYXHBBXB .GKJYXHBAT{clear:both;margin-left:8px;}.GKJYXHBBXB .GKJYXHBDT{cursor:col-resize;}.GKJYXHBCTB{background-color:white;}.GKJYXHBI1 .GKJYXHBCTB{border:none;}.GKJYXHBGTB{border-spacing:0;border-collapse:collapse;}.GKJYXHBGTB td{padding:0;}.GKJYXHBDTB{min-height:35px;padding-top:4px;padding-left:3px;}.GKJYXHBHTB,.GKJYXHBITB{display:inline-block;}.GKJYXHBKKB{background-color:white;width:auto;border:1px solid #b4b4b4;-webkit-box-shadow:0 0 30px rgba(0, 0, 0, 0.3);-moz-box-shadow:0 0 30px rgba(0, 0, 0, 0.3);box-shadow:0 0 30px rgba(0, 0, 0, 0.3);z-index:100;-webkit-transition:opacity 0.218s;box-sizing:border-box;width:650px;padding-top:50px;border-color:#d9d9d9;-webkit-box-shadow:1px 2px 5px rgba(0, 0, 0, 0.1);-moz-box-shadow:1px 2px 5px rgba(0, 0, 0, 0.1);box-shadow:1px 2px 5px rgba(0, 0, 0, 0.1);}.GKJYXHBKKB.GKJYXHBGKB{padding-top:0;}.GKJYXHBKKB.GKJYXHBHKB{width:300px;padding-top:0;box-shadow:none;-webkit-box-shadow:none;}.GKJYXHBKKB.GKJYXHBHKB .datePickerNextButton,.GKJYXHBKKB.GKJYXHBHKB .datePickerPreviousButton{top:130px;}.GKJYXHBKJB{background-color:white;cursor:default;width:100%;padding:0 15px 7px;margin-bottom:10px;padding-top:9px;border-top:1px solid #ebebeb;}.GKJYXHBGKB .GKJYXHBKJB,.GKJYXHBKKB.GKJYXHBHKB datePicker{border-top:none;}.GKJYXHBBV{position:static;}.datePickerPreviousButton{top:185px;height:50px;width:26px;background-size:21px;left:-14px;background-image:url('data:image/png;base64,iVBORw0KGgoAAAANSUhEUgAAABUAAAAVCAYAAACpF6WWAAAAPklEQVR42mNgGAUDDRSAeD+UppqB94H4P9Rgqhp4nxouHYEGMkAj4z8UO9Aitu/TKhmNGkzdHEWzvD8KiAMAv40iXuMnqXsAAAAASUVORK5CYII=') !important;}.datePickerNextButton{top:185px;height:50px;width:26px;background-size:21px;right:-14px;background-image:url('data:image/png;base64,iVBORw0KGgoAAAANSUhEUgAAABUAAAAVCAYAAACpF6WWAAAAO0lEQVR42mNgGAX0BgpAvB9KUw2ADPwPxPepabAC1MBRg2lnsAPU0P/QSBx8Lh2BBtI0R1E9748C0gEAj7UiXkZY720AAAAASUVORK5CYII=') !important;}.GKJYXHBGKB .datePickerPreviousButton,.GKJYXHBGKB .datePickerNextButton{top:135px;}.GKJYXHBOU .datePickerPreviousButton{background-image:url('data:image/png;base64,iVBORw0KGgoAAAANSUhEUgAAABUAAAAVCAYAAACpF6WWAAAAPElEQVQ4y2NgGAUDDTiB2BBKU81ASyB2gBpMVQMtqeHSEWggAzQyHKBYkBaxTTWXjhpM2xxFs7w/CogDALO5CM8CH+QQAAAAAElFTkSuQmCC') !important;}.GKJYXHBAV .datePickerNextButton{background-image:url('data:image/png;base64,iVBORw0KGgoAAAANSUhEUgAAABUAAAAVCAYAAACpF6WWAAAAO0lEQVQ4y2NgGAX0BpxAbAilqQZABjoAsSU1DeaEGjhqMO0MFoQaCsKGg9KlI9BAEKBZjqJ63h8FpAMAp7EIz2CICj4AAAAASUVORK5CYII=') !important;}.GKJYXHBPU{margin-top:-17px;padding-top:17px;}.GKJYXHBKJB .datePickerMonth{position:absolute;top:18px;left:21px;font-size:13px;}.GKJYXHBKJB .datePickerWeekdayLabel,.GKJYXHBKJB .datePickerWeekendLabel{width:20px;height:20px;text-align:center;vertical-align:middle;font-size:11px;}.GKJYXHBKJB .datePickerDays{background-color:white;}.GKJYXHBKJB .datePickerDayIsDisabled{color:#aaa;}.GKJYXHBKJB .GKJYXHBLJB,.GKJYXHBKJB .datePickerDayIsValue{border-color:#ebebeb;}.GKJYXHBOJB .GKJYXHBKJB .datePickerDayIsValue{border-color:#5498fb;}.GKJYXHBKJB .datePickerDayIsHighlighted{background-color:#f0f0f0 !important;}.GKJYXHBNJB{opacity:0;}.GKJYXHBDKB{border-top:1px solid #ebebeb;}.GKJYXHBFV.GKJYXHBKU{color:#222;background-color:transparent;}.GKJYXHBJJB{font-weight:bold !important;color:#4cb770 !important;}.GKJYXHBIJB{color:#4cb770 !important;}.GKJYXHBLU{display:block;font-size:10px;bottom:2px;}.GKJYXHBKU{padding-top:0;padding-bottom:0;}.GKJYXHBNU{padding-top:9px;padding-bottom:11px;}.GKJYXHBMU{padding-bottom:9px;}.GKJYXHBJU{font-weight:bold;color:#000;}.GKJYXHBIU .GKJYXHBJU{color:#aaa;}.GKJYXHBGV .GKJYXHBPU{padding-right:15px;border-right:none;}.GKJYXHBEV{padding-left:15px;border-left:none;}.GKJYXHBNKB{position:absolute;padding:11px;background:#519bf7;color:white;font-weight:bold;white-space:nowrap;}.GKJYXHBNKB:after{height:10px;width:20px;overflow:hidden;background:url(\"data:image/png;base64,iVBORw0KGgoAAAANSUhEUgAAABQAAAAKCAYAAAC0VX7mAAAARUlEQVR42mMImv29IXD29//UwCCzGECAGobCDYMBSgzFMIwSQ3EaRo6hBA0jxVCiDSPGUJINw2co2YZhM5Riw5ANJdYwAE7iM1S/jtG5AAAAAElFTkSuQmCC\") -0px -0px  no-repeat;content:\"\";position:absolute;bottom:-10px;left:19px;}.GKJYXHBBLB.GKJYXHBNKB:after{left:auto;right:19px;}.GKJYXHBBKB{position:absolute;height:50px;width:100%;padding-top:40px;text-align:center;background:rgba(255, 255, 255, 0.6);z-index:2;}.GKJYXHBPJB{display:inline-block;vertical-align:middle;margin-right:6px;}.GKJYXHBCKB{display:inline-block;vertical-align:middle;}.GKJYXHBAKB .GKJYXHBDKB{min-height:90px;}.GKJYXHBFKB{color:#15c;float:right;font-weight:bold;cursor:pointer;}.GKJYXHBFKB:hover{text-decoration:underline;}.GKJYXHBCLB{background:#f9f9f9;border-top:1px #ebebeb;color:#777;font-size:11px;padding:9px 0 9px 15px;}.GKJYXHBFKB{font-size:11px;padding:9px 15px 9px 0;}.GKJYXHBEKB{display:none;}.GKJYXHBOJB .GKJYXHBEKB{display:block;}.GKJYXHBOJB .GKJYXHBCLB,.GKJYXHBOJB .GKJYXHBFKB,.GKJYXHBAKB .GKJYXHBFLB{display:none;}.GKJYXHBAKB .GKJYXHBEKB,.GKJYXHBAKB .GKJYXHBCLB,.GKJYXHBAKB .GKJYXHBFKB{opacity:0.4;}.GKJYXHBELB{position:absolute;z-index:2;margin-top:5px;}.GKJYXHBFLB{color:#777;text-align:center;height:90px;border-top:1px solid #ddd;-moz-box-sizing:border-box;box-sizing:border-box;}.GKJYXHBFLB div{padding-top:38px;}.GKJYXHBILB{position:relative;}.GKJYXHBPLB{position:absolute;left:0;width:55px;padding-left:15px;padding-right:8px;-moz-box-sizing:border-box;box-sizing:border-box;color:#aaa;font-size:10px;top:5px;}.GKJYXHBAMB{position:absolute;left:0;width:55px;padding-left:15px;padding-right:8px;-moz-box-sizing:border-box;box-sizing:border-box;color:#aaa;font-size:10px;bottom:5px;}.GKJYXHBLLB{height:90px;margin-left:55px;margin-right:5px;position:relative;}.GKJYXHBIMB{position:absolute;z-index:100;top:70px;margin-top:18px;}.GKJYXHBBMB,.GKJYXHBCMB,.GKJYXHBFMB{position:absolute;}.GKJYXHBJMB{position:absolute;left:20px;bottom:100%;width:0;height:0;margin-left:-3px;border-bottom:5px solid #2c2c2c;border-left:5px solid transparent;border-right:5px solid transparent;z-index:3;}.GKJYXHBKMB{padding:7px 9px;background-color:#2c2c2c;color:white;white-space:nowrap;font-size:11px;}.GKJYXHBJLB{font-weight:bold;}.GKJYXHBBMB{width:1px;background:#f1f1f1;top:0;bottom:0;}.GKJYXHBCMB{color:#aaa;font-size:10px;font-weight:bold;top:5px;margin-left:6px;z-index:1;background:rgba(255, 255, 255, 0.4);}.GKJYXHBFMB{width:8px;background:#c7ddfc;bottom:7px;cursor:pointer;}.GKJYXHBFMB.GKJYXHBMMB{background:#afcefa;}.GKJYXHBFMB.GKJYXHBHMB{background:#416cd3;}.GKJYXHBFMB.GKJYXHBNLB{background:#90b8f7;}.GKJYXHBFMB.GKJYXHBKLB{height:3px;background:#ccc;}.GKJYXHBC0{border:1px solid #ccb;background:#fffdcc;z-index:3;width:280px;}.GKJYXHBL-B{background:white;z-index:2;position:relative;width:650px;margin-top:22px;-moz-box-sizing:border-box;-webkit-box-sizing:border-box;box-sizing:border-box;}.GKJYXHBL-B.GKJYXHBD-B{padding-right:16px;}.GKJYXHBI4 .GKJYXHBI-B{-moz-transition:all 0;-ms-transition:all 0;-o-transition:all 0;-webkit-transition:all 0;transition:all 0;}.GKJYXHBL-B .GKJYXHBC-B{padding:0 15px;font-family:arial, sans-serif;}.GKJYXHBI-B{font-size:11px;padding-right:4px;}.GKJYXHBI-B:hover{color:#222;}.GKJYXHBI-B{color:#444;display:inline-block;}.GKJYXHBA0B.GKJYXHBD-B{margin-left:3px;}.GKJYXHBA0B.GKJYXHBD-B .GKJYXHBJ-B{padding-left:13px;font-size:14px;font-weight:normal;}.GKJYXHBN-B.GKJYXHBD-B .GKJYXHBJ-B{padding-left:11px;font-size:14px;font-weight:normal;}.GKJYXHBG-B.GKJYXHBD-B.GKJYXHBH-B{margin-left:20px;}.GKJYXHBG-B.GKJYXHBD-B .GKJYXHBJ-B{font-size:14px;font-weight:normal;}.GKJYXHBN-B,.GKJYXHBG-B{float:right;}.GKJYXHBH-B{height:11px;width:11px;overflow:hidden;background:url(\"data:image/png;base64,iVBORw0KGgoAAAANSUhEUgAAAAsAAAALCAYAAACprHcmAAAAcUlEQVQY02NgQAWaQHwAiD9BaU0GHIAViO8C8X8kfBcqjgH00RTCsD42xRJA/A9N4T+oOFbQgaa4g4EAcADiYihNELABsSSUxgpUgXgSEN9Ccvc/KH8SVB4MsoH4J5pb0fFPqDqGzwQUwjBIHVEKwRgACGE83bgdoIQAAAAASUVORK5CYII=\") -0px -0px  no-repeat;}.GKJYXHBJ-B{background:no-repeat right center;margin-right:3px;text-align:left;white-space:nowrap;padding-right:19px;background-image:url('data:image/png;base64,iVBORw0KGgoAAAANSUhEUgAAAAcAAAALCAYAAACzkJeoAAAATElEQVR42mNggIKGhgaRioqKbSCaARn09fVxVlZWHgNK/gfRID5Yor6+ngkosBYkAcMgPkicAciZgCyBhCcw0AjgtROva/H6E18IAQAKkluXr0n4aQAAAABJRU5ErkJggg==');}.GKJYXHBK-B{background:white;border:1px solid #ccc;-webkit-box-shadow:1px 2px 5px rgba(0, 0, 0, 0.1);-moz-box-shadow:1px 2px 5px rgba(0, 0, 0, 0.1);box-shadow:1px 2px 5px rgba(0, 0, 0, 0.1);z-index:99;padding:7px 0;}.GKJYXHBB-B{background:white;text-align:center;height:16px;border-top:1px solid #c6c6c6;border-bottom:1px solid #dedede;position:relative;padding:8px 9px;color:#777;}.GKJYXHBE-B{float:right;margin-top:9px;}.GKJYXHBA-B{-webkit-transition:left 130ms ease, right 130ms ease;-moz-transition:left 130ms ease, right 130ms ease;-ms-transition:left 130ms ease, right 130ms ease;-o-transition:left 130ms ease, right 130ms ease;transition:left 130ms ease, right 130ms ease;z-index:2;}.GKJYXHBO-B{float:right;text-align:right;padding-left:10px;font-weight:bold;min-width:40px;opacity:0;}.GKJYXHBP-B .GKJYXHBO-B{max-width:1000px;-webkit-transition:opacity 218ms ease, max-width 218ms ease;-moz-transition:opacity 218ms ease, max-width 218ms ease;-ms-transition:opacity 218ms ease, max-width 218ms ease;-o-transition:opacity 218ms ease, max-width 218ms ease;transition:opacity 218ms ease, max-width 218ms ease;opacity:1;}.GKJYXHBE1B{position:relative;box-sizing:border-box;}.GKJYXHBL0B{width:100%;border-spacing:0 6px;margin-bottom:-6px;}.GKJYXHBL0B td{padding:0;}.GKJYXHBA1B,.GKJYXHBF0B{margin-right:16px;}.GKJYXHBA1B.GKJYXHBN0B{margin-right:0;}.GKJYXHBG0B,.GKJYXHBD1B{margin-left:3px;}.GKJYXHBK0B{z-index:101;position:relative;}.GKJYXHBJ0B{border:1px solid #ccb;background:#fffdcc;z-index:3;width:280px;}.GKJYXHBM0B,.GKJYXHBM0B:hover{border:1px solid #dd4b39;}.GKJYXHBPNB{width:auto;}.GKJYXHBNNB{position:absolute;left:8px;right:8px;overflow:hidden;margin-right:30px;}.GKJYXHBNNB.GKJYXHBFOB{left:0;}.GKJYXHBDOB{position:absolute;right:0;top:0;}.GKJYXHBNNB.GKJYXHBGOB{margin-right:0;}.GKJYXHBDOB{margin:6px;width:8px;height:9px;padding:4px 6px;cursor:pointer;z-index:2;}.GKJYXHBEOB{height:8px;width:8px;overflow:hidden;background:url(\"data:image/png;base64,iVBORw0KGgoAAAANSUhEUgAAAAgAAAAICAYAAADED76LAAAAH0lEQVR42mNgQAIZGRn/QZgBFyBPAUwQFyasgPaOBADkIz4FCsNjAAAAAABJRU5ErkJggg==\") -0px -0px  no-repeat;}.GKJYXHBCOB,.GKJYXHBCOB:hover{border:1px solid #dd4b39;}.GKJYXHBC4 .GKJYXHBNNB,.GKJYXHBC4 .GKJYXHBNNB *,.GKJYXHBBOB{color:#ccc;}.GKJYXHBC4.GKJYXHBONB .GKJYXHBNNB{display:none;}.GKJYXHBPNB .GKJYXHBAOB{position:absolute;left:6px;top:6px;}.GKJYXHBOMB{background-color:#fff;white-space:nowrap;min-height:20px;}.GKJYXHBNMB{color:#777;}.GKJYXHBFNB{padding:0;margin:0;background:transparent;border:none;width:100%;-webkit-appearance:none;text-align:left;}.GKJYXHBFNB.GKJYXHBANB{position:absolute;z-index:-1;width:1px;height:1px;left:-10px;}.GKJYXHBPMB,.GKJYXHBBNB{color:#777;}.GKJYXHBCNB,.GKJYXHBGNB,.GKJYXHBHNB,.GKJYXHBJNB{cursor:pointer;line-height:27px;padding:0 4px 0 8px;white-space:nowrap;}.GKJYXHBDNB{color:#777;display:inline-block;width:48px;}.GKJYXHBMNB .GKJYXHBGNB{background:#eee;}.GKJYXHBHNB,.GKJYXHBJNB{padding-left:34px;color:#777;position:relative;}.GKJYXHBHNB:before{left:9px;height:15px;width:15px;overflow:hidden;background:url(\"data:image/png;base64,iVBORw0KGgoAAAANSUhEUgAAAA8AAAAPCAYAAAA71pVKAAAAt0lEQVR42qVTOw7CMAzNzCE4AktGxAVRfmvu0aUngSFXiLKzBD/0iirRAJUjWe7z79V2YszgpJROzrkObfacEMJF5IpkaOCfScJy9N7PTKry3aCBYYf/W2ITucUYz2sfMOzwbxZAZQTknA/CZEUmkUJtYWeB+aNH/BoYECgBD+BFiC39/T0DTJNDqcBk6hsykagi/rWFVfXG5DJILmyvLTYds6pn9bT/2bMUuA/3rLph6ru991U9AQF3PL3PYxq6AAAAAElFTkSuQmCC\") -0px -0px  no-repeat;}.GKJYXHBJNB:before{left:10px;height:11px;width:11px;overflow:hidden;background:url(\"data:image/png;base64,iVBORw0KGgoAAAANSUhEUgAAAAsAAAALCAYAAACprHcmAAAAMUlEQVR42mNgQAPd3d3Purq6/oNoBkJggBSDBJExUOFfkGIQjS7HAJUgCpNm8hAMOgA6jJIu5Gar7AAAAABJRU5ErkJggg==\") -0px -0px  no-repeat;}.GKJYXHBHNB:before,.GKJYXHBJNB:before{content:\"\";position:absolute;height:100%;background-position:left center;top:0;}.GKJYXHBBNB strong{font-weight:normal;}.GKJYXHBENB{height:13px;width:8px;overflow:hidden;background:url(\"data:image/png;base64,iVBORw0KGgoAAAANSUhEUgAAAAgAAAANCAYAAACUwi84AAAAe0lEQVR42mNggAA5IK4B4k1QXA0VAwN5IN4CxPvR8BaoHEMdkkAUFMM0gEyFc0IZECAMKrYZxNmARUEoVGw9iNOIxPGH4vVQsQaQAj0sDoRhPZiRfVgke5CsZDDCosCQAQ10I0l2MmAByG7RYcABVgDxMgY8wAGI7ZAFAILiKeFvuUE+AAAAAElFTkSuQmCC\") -0px -0px  no-repeat;opacity:0.75;float:left;margin:6px 31px 0 9px;}.GKJYXHBKNB{background:white;z-index:200;position:absolute;border:1px solid #b9b9b9;-webkit-box-shadow:1px 2px 5px rgba(0, 0, 0, 0.1);-moz-box-shadow:1px 2px 5px rgba(0, 0, 0, 0.1);box-shadow:1px 2px 5px rgba(0, 0, 0, 0.1);min-width:178px;}.GKJYXHBMNB,.GKJYXHBHNB:hover,.GKJYXHBJNB:hover{background-color:#eee;}.GKJYXHBINB{margin-left:41px;position:relative;}.GKJYXHBLYB{color:#777 !important;text-decoration:underline;}.GKJYXHBMYB .GKJYXHBLYB{color:#fff !important;}.GKJYXHBKYB{background:white;border:solid 1px #d9d9d9;border-top:1px solid #c0c0c0;position:relative;vertical-align:middle;height:30px;line-height:29px;}.GKJYXHBKYB.GKJYXHBAYB{background-color:#fbfbfb;border:1px solid #e8e8e8;-webkit-box-shadow:none;-moz-box-shadow:none;box-shadow:none;}.GKJYXHBAYB{opacity:0.4;}.GKJYXHBKYB.GKJYXHBMYB{border:1px solid #4d90fe;}.GKJYXHBBP{cursor:pointer !important;pointer-events:auto !important;}.GKJYXHBMYB .GKJYXHBMO,.GKJYXHBMYB .GKJYXHBNO{opacity:1 !important;}.GKJYXHBHYB{border:1px solid #dd4b39;}.GKJYXHBPP{height:14px;width:14px;overflow:hidden;background:url(\"data:image/png;base64,iVBORw0KGgoAAAANSUhEUgAAAA4AAAAOCAMAAAAolt3jAAAAPFBMVEWrq6v///+1tbX5+fn19fXv7+/W1tbBwcG7u7vf39+5ubmwsLCxsbH09PTV1dXq6uqysrLm5ubR0dHS0tJ0+oIfAAAAaUlEQVR4Xl3POQ4DMQxD0U959+zJ/e8awkg16l5BkEJSqW3fWy2SzDFZN4epsfG/bYgy4RsQH5iFCqeOiEMnRoOelLNSx9hZXjJMIks5Fhs4l5LzGBUe55x/MFx0Xx36dbvoNeM18vXCD0OJAyZUVtf8AAAAAElFTkSuQmCC\") -0px -0px  no-repeat;cursor:pointer;position:absolute;right:57px;top:6px;}.GKJYXHBPP:hover{height:14px;width:14px;overflow:hidden;background:url(\"data:image/png;base64,iVBORw0KGgoAAAANSUhEUgAAAA4AAAAOCAMAAAAolt3jAAAAQlBMVEWTk5P////5+fmcnJzJycm+vr7e3t6oqKj19fWioqKgoKCYmJiZmZn09PS7u7uamprq6urV1dXm5ua1tbXS0tLR0dEB2hirAAAAbUlEQVQYV13PyQEDIQzFUH0bY2BgtiT9t5pLLhlV8ISkGjlnRpWEVAYAjCKhsvFrK6IOeDv4B0Yl4NJyX7ogSOim1mQdkgnsJlkHJhN4Nak5MEnwJTMthyTglu276YagDo6zQz8PRn0ynsi/hS9PHgNBwP+t3gAAAABJRU5ErkJggg==\") -0px -0px  no-repeat;cursor:pointer;}.GKJYXHBOP{vertical-align:middle;}.GKJYXHBOO{background:white;display:inline-block;position:relative;white-space:nowrap;line-height:17px;}.GKJYXHBOO .GKJYXHBPO,.GKJYXHBOO .GKJYXHBBP{vertical-align:middle;display:inline-block;}.GKJYXHBNP{width:auto;}.GKJYXHBOO.GKJYXHBAQ .GKJYXHBDP{border-right-color:#4d90fe;}.GKJYXHBOO.GKJYXHBAQ .GKJYXHBEP{border-left-color:#4d90fe;}.GKJYXHBPO{display:inline-block;-moz-box-sizing:border-box;-webkit-box-sizing:border-box;box-sizing:border-box;position:relative;overflow:hidden;}.GKJYXHBOO .GKJYXHBPO{border:1px solid #dadada;border:1px solid rgba(0, 0, 0, 0.1);margin:0 -1px;}.GKJYXHBNP .GKJYXHBPO,.GKJYXHBNP .GKJYXHBMP{width:100%;}.GKJYXHBMP{display:inline-block;}.GKJYXHBKP .GKJYXHBMP{padding-left:18px;}.GKJYXHBOP input{border:0;margin:0;padding:0;width:100%;-webkit-appearance:none;}.GKJYXHBJP{background-position:center;background-repeat:no-repeat;position:absolute;height:18px;right:auto;left:0;top:0;cursor:pointer;display:none;}.GKJYXHBKP .GKJYXHBJP{display:inline-block;}.GKJYXHBGP .GKJYXHBJP{right:0;}.GKJYXHBFP{position:absolute;vertical-align:middle;right:6px;top:4px;}.GKJYXHBOP:hover .GKJYXHBBQ{text-decoration:underline;cursor:pointer;}.GKJYXHBGP .GKJYXHBFP{visibility:hidden;}.GKJYXHBHP .GKJYXHBFP,.GKJYXHBOP.GKJYXHBAP input,.GKJYXHBOP.GKJYXHBAP .GKJYXHBFP{display:none;}.GKJYXHBBP{z-index:2;cursor:pointer;text-align:center;color:#555;font-size:11px;font-weight:bold;}.GKJYXHBNP .GKJYXHBBP{position:absolute;margin-left:-1px;}.GKJYXHBEP{top:0;right:0;}.GKJYXHBDP{top:0;}.GKJYXHBMO{height:21px;width:21px;overflow:hidden;background:url(\"data:image/png;base64,iVBORw0KGgoAAAANSUhEUgAAABUAAAAVCAQAAAADHm0dAAAAPklEQVQYGe3BMQ2AQBQFsELYbkACdgkekHEk6EDQQwDLn5iuNfxodihZ3aJg84go6CKioLlElCxOUTTZDR8vMHkN3j8hwokAAAAASUVORK5CYII=\") -0px -0px  no-repeat;}.GKJYXHBNO{height:21px;width:21px;overflow:hidden;background:url(\"data:image/png;base64,iVBORw0KGgoAAAANSUhEUgAAABUAAAAVCAYAAACpF6WWAAAAQUlEQVR42mNgGAWjYPiALiBmorah/4F4JxDzU9tQEL4MxPLUNhSEt1Lb0G1AzE1NQ+cCMQs1w7QDiBlHM8EoIAwA40QN3vttr5gAAAAASUVORK5CYII=\") -0px -0px  no-repeat;}.GKJYXHBOO .GKJYXHBDP{left:0;}.GKJYXHBNP .GKJYXHBDP{right:23px;}.GKJYXHBBP:hover{color:#333;z-index:2;}.GKJYXHBCP,.GKJYXHBCP:hover,.GKJYXHBCP:active,.GKJYXHBCP:active:focus,.GKJYXHBNP.GKJYXHBAQ .GKJYXHBBP,.GKJYXHBNP.GKJYXHBAQ .GKJYXHBBP:active,.GKJYXHBNP.GKJYXHBAQ .GKJYXHBBP:active:focus{color:#b8b8b8;cursor:default;pointer-events:none;z-index:1;}.GKJYXHBCP .GKJYXHBMO,.GKJYXHBCP .GKJYXHBNO,.GKJYXHBNP.GKJYXHBAQ .GKJYXHBBP .GKJYXHBMO,.GKJYXHBNP.GKJYXHBAQ .GKJYXHBBP .GKJYXHBNO{opacity:0.3;filter:alpha(opacity=30);}.GKJYXHBIP{position:absolute;}.GKJYXHBKP .GKJYXHBIP{left:18px;}.GKJYXHBOO .GKJYXHBIP{text-align:center;width:100%;}.GKJYXHBOO input{text-align:center;width:100%;text-indent:0 !important;}.GKJYXHBOP.GKJYXHBAP,.GKJYXHBOP.GKJYXHBAP:hover{background-color:#fbfbfb;border:1px solid #e8e8e8;-webkit-box-shadow:none;-moz-box-shadow:none;box-shadow:none;}.GKJYXHBLP{background:white;border:1px solid #d9d9d9;border-top:1px solid #c0c0c0;-moz-box-sizing:border-box;-webkit-box-sizing:border-box;box-sizing:border-box;cursor:text;font-size:13px;height:32px;line-height:18px;overflow:hidden;padding:6px 8px;position:relative;}.GKJYXHBNYB{height:18px;}.GKJYXHBEXB{padding-bottom:6px;border-bottom:1px solid #eee;}.GKJYXHBLXB{width:100%;border-spacing:0 6px;}.GKJYXHBA2 .GKJYXHBLXB{width:102%;}.GKJYXHBLXB td{padding:0;}.GKJYXHBKXB{padding-top:19px;}.GKJYXHBHXB{width:218px;}.GKJYXHBFXB{width:162px;}.GKJYXHBGXB{z-index:101;position:relative;}.GKJYXHBGXB .GKJYXHBHXB{opacity:0.6;}.GKJYXHBIXB{box-sizing:border-box;-moz-box-sizing:border-box;-webkit-box-sizing:border-box;cursor:pointer;height:32px !important;height:11px;width:11px;overflow:hidden;background:url(\"data:image/png;base64,iVBORw0KGgoAAAANSUhEUgAAAAsAAAALCAYAAACprHcmAAAAXUlEQVR42mNgoDk4d+6c6JkzZ1aBaHxiYAASPH369H8gvgKSBGEQGyQGkkNRfPHiRTEkyetA+jqyZlxOgSkC4etYFcIUI5kItgGnqTBngDQg2XCFcg+iBxM2MaIBAA4ipm+tGvVRAAAAAElFTkSuQmCC\") -0px -0px  no-repeat;}.GKJYXHBIXB.GKJYXHBJXB{cursor:default;}.GKJYXHBIXB:hover{height:11px;width:11px;overflow:hidden;background:url(\"data:image/png;base64,iVBORw0KGgoAAAANSUhEUgAAAAsAAAALCAYAAACprHcmAAAAUElEQVR42mNgoDmYNGmSaFdX1yoQjU8MDECCQPwfiK+AJKEKr0DFVqEo7u7uFoNJAtnXQRhZM1anICkCa8KqkCTFyG4k6AxyPIgSTNjEiAYAlZV8jdeZM/8AAAAASUVORK5CYII=\") -0px -0px  no-repeat;}.GKJYXHBKN .GKJYXHBIXB{height:11px;width:11px;overflow:hidden;background:url(\"data:image/png;base64,iVBORw0KGgoAAAANSUhEUgAAAAsAAAALCAYAAACprHcmAAAAXElEQVR42mNgAILq6uqstrY2UQYsACQOkmeAKayqqvoPpK+ga4AqvAKVz0IXgGvAJY5NQgOrQhxWfsepEEmDBpLC7yA+Ax5fEzaZaDeTFBokhTOhGGxoaBCDKQQANJOmrWl1YdoAAAAASUVORK5CYII=\") -0px -0px  no-repeat;display:inline-block;}.GKJYXHBKN:hover .GKJYXHBIXB{height:11px;width:11px;overflow:hidden;background:url(\"data:image/png;base64,iVBORw0KGgoAAAANSUhEUgAAAAsAAAALCAYAAACprHcmAAAAXklEQVR42mNgAIKgoKCs0NBQUQYsACQOkmeAKQwMDPwPpK+ga4AqvAKVz0IXgGvAJY4hERwcrIFVIQ4rv+NUCANQE2EKv4P4DHh8Tdhkot1MUmiQFM6EYhCoUAymEADchn0QzSzFbgAAAABJRU5ErkJggg==\") -0px -0px  no-repeat;}.GKJYXHBKN.GKJYXHBJXB .GKJYXHBIXB{height:11px;width:11px;overflow:hidden;background:url(\"data:image/png;base64,iVBORw0KGgoAAAANSUhEUgAAAAsAAAALCAYAAACprHcmAAAAY0lEQVR42mNgAIITJ05knTt3TpQBCwCJg+QZYAqPHz/+H0hfQdcAVXgFKp+FLgDXgEscQ+LMmTMaWBVisxKIv+NUCAMgE2EKQTSIz4DH14RNJtrNJIUGSeFMKAYvXrwoBlMIAE5P7hcRacoCAAAAAElFTkSuQmCC\") -0px -0px  no-repeat;}.GKJYXHBJXB:hover{background-image:none;-webkit-box-shadow:none;box-shadow:none;}.GKJYXHBIXB{background-position:center !important;width:20px !important;}.GKJYXHBJXB{background-image:none !important;}.GKJYXHBLXB .GKJYXHBKN{min-width:0;padding:0;border-top-left-radius:0;border-bottom-left-radius:0;height:30px;}.GKJYXHBKN .GKJYXHBIXB{height:30px !important;}.GKJYXHBDXB{color:#444;white-space:nowrap;}.GKJYXHBDXB:hover{color:#222;}.GKJYXHBAIB{cursor:pointer;display:inline-block;}.GKJYXHBAIB.GKJYXHBCIB{color:#dd4b39 !important;}.GKJYXHBAIB:hover{color:#222 !important;}.GKJYXHBAIB.GKJYXHBCIB:hover{color:#dd4b39 !important;}.GKJYXHBIIB{background:white;border:1px solid #ccc;-webkit-box-shadow:1px 2px 5px rgba(0, 0, 0, 0.1);-moz-box-shadow:1px 2px 5px rgba(0, 0, 0, 0.1);box-shadow:1px 2px 5px rgba(0, 0, 0, 0.1);z-index:99;}.GKJYXHBLIB{white-space:nowrap;}.GKJYXHBGIB{vertical-align:middle;font-weight:bold;}.GKJYXHBEIB{color:#222;font-weight:normal;}.GKJYXHBDIB{margin-top:4px;box-sizing:border-box;padding:8px 8px 4px;}.GKJYXHBMIB{margin-top:4px;box-sizing:border-box;padding:8px 8px 4px;color:#777;font-size:11px;}.GKJYXHBDIB{color:#dd4b39;font-size:11px;}.GKJYXHBFIB .GKJYXHBGIB{color:#dd4b39 !important;}.GKJYXHBJIB{padding:4px 0;}.GKJYXHBLIB{padding:4px 12px 4px 8px;}.GKJYXHBJIB{padding:15px 11px;position:relative;}.GKJYXHBIIB .GKJYXHBBP{padding:0;}.GKJYXHBIIB .GKJYXHBBP .GKJYXHBMO{height:8px;width:8px;overflow:hidden;background:url(\"data:image/png;base64,iVBORw0KGgoAAAANSUhEUgAAAAgAAAAICAYAAADED76LAAAAFklEQVR42mNgoD1QUlL6jw8TVkB7AABuNRZRbe3augAAAABJRU5ErkJggg==\") -0px -0px  no-repeat;}.GKJYXHBIIB .GKJYXHBBP .GKJYXHBNO{height:8px;width:8px;overflow:hidden;background:url(\"data:image/png;base64,iVBORw0KGgoAAAANSUhEUgAAAAgAAAAICAYAAADED76LAAAAH0lEQVR42mNgQAJKSkr/QZgBFyBPAUwQFyasgPaOBAAAIicNYuR+VwAAAABJRU5ErkJggg==\") -0px -0px  no-repeat;}.GKJYXHBIIB .GKJYXHBBP,.GKJYXHBIIB .GKJYXHBBP .GKJYXHBMO,.GKJYXHBIIB .GKJYXHBBP .GKJYXHBNO{width:26px;height:22px;background-position:center;}.GKJYXHBIIB .GKJYXHBPO{height:24px;line-height:22px;}.GKJYXHBJIB .GKJYXHBM3{position:absolute;right:-30px;top:-31px;}.GKJYXHBHCC{border-top:1px solid #ddd;position:relative;}.GKJYXHBJCC{background:#fafafa;height:29px;padding:16px 12px;}.GKJYXHBICC{border:1px solid #eee;position:relative;}.GKJYXHBKCC{color:#333;}.GKJYXHBLCC{display:inline-block;font-size:inherit !important;vertical-align:bottom !important;margin:0 6px -8px !important;width:125px;}.GKJYXHBGCC{position:absolute;right:15px;z-index:2;top:20px;}.GKJYXHBMCC{float:right;}.GKJYXHBHCC .GKJYXHBM3{display:none;}.GKJYXHBPQB{background:no-repeat right center;padding-right:11px;background-image:url('data:image/png;base64,iVBORw0KGgoAAAANSUhEUgAAAAcAAAAECAYAAABCxiV9AAAAPElEQVR42mMwNjaeYGRk9B8dg8QZ6uvrmYCctWiSa0HiDCBgaWnJCRQ4BpU4BuIzIAOgMSJAiW0gGiYGAAh9HNqEh1lXAAAAAElFTkSuQmCC');}.GKJYXHBARB{background:white;-webkit-box-shadow:1px 2px 5px rgba(0, 0, 0, 0.1);-moz-box-shadow:1px 2px 5px rgba(0, 0, 0, 0.1);box-shadow:1px 2px 5px rgba(0, 0, 0, 0.1);border:1px solid #ccc;z-index:2;}.GKJYXHBKQB{background:no-repeat right center;padding-right:11px;background-image:url('data:image/png;base64,iVBORw0KGgoAAAANSUhEUgAAAAcAAAAECAYAAABCxiV9AAAAPElEQVR42mMwNjaeYGRk9B8dg8QZ6uvrmYCctWiSa0HiDCBgaWnJCRQ4BpU4BuIzIAOgMSJAiW0gGiYGAAh9HNqEh1lXAAAAAElFTkSuQmCC');}.GKJYXHBLQB{background:white;-webkit-box-shadow:1px 2px 5px rgba(0, 0, 0, 0.1);-moz-box-shadow:1px 2px 5px rgba(0, 0, 0, 0.1);box-shadow:1px 2px 5px rgba(0, 0, 0, 0.1);z-index:102;border:1px solid #ccc;}.GKJYXHBMQB{display:inline-block;margin-right:6px;height:32px;vertical-align:top;box-sizing:border-box;}.GKJYXHBJAC{position:absolute;z-index:1;top:88px;left:46px;}.GKJYXHBJAC.GKJYXHBKAC{top:128px;}.GKJYXHBBBC{width:300px;background-color:white;-webkit-box-shadow:0 2px 3px rgba(0, 0, 0, 0.2);-moz-box-shadow:0 2px 3px rgba(0, 0, 0, 0.2);box-shadow:0 2px 3px rgba(0, 0, 0, 0.2);}.GKJYXHBPAC{position:relative;background:#eee;height:180px;}.GKJYXHBNAC{height:180px;}.GKJYXHBOAC{position:absolute;bottom:8px;right:8px;color:#aaa;font-size:9px;text-shadow:1px 1px 1px #222;display:none;}.GKJYXHBOAC a{color:#aaa;text-decoration:underline;}.GKJYXHBPAC:hover .GKJYXHBOAC{display:block;}.GKJYXHBLAC{padding:13px;}.GKJYXHBFBC{position:absolute;left:15px;top:135px;}.GKJYXHBLAC .GKJYXHBFBC{position:static;display:inline-block;margin-bottom:12px;}.GKJYXHBCBC{font-weight:bold;color:#15c;cursor:pointer;}.GKJYXHBCBC:hover{text-decoration:underline;}.GKJYXHBEBC{font-size:11px;color:#777;line-height:1.7;}.GKJYXHBHAC{width:294px;padding-bottom:8px;}.GKJYXHBHAC .GKJYXHBAMB,.GKJYXHBHAC .GKJYXHBPLB{padding-left:13px;}.GKJYXHBMAC .GKJYXHBEBC,.GKJYXHBMAC .GKJYXHBHAC{display:none;}.GKJYXHBFPB{display:inline-block;cursor:pointer;vertical-align:top;text-align:left;-moz-box-sizing:border-box;box-sizing:border-box;padding:0 1px 1px 0;}.GKJYXHBHPB{color:#fff;background:#eee;position:relative;height:190px;}.GKJYXHBKPB{position:relative;}.GKJYXHBIPB{width:100%;height:190px;}.GKJYXHBCQB{background:url('data:image/png;base64,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') no-repeat center;}.GKJYXHBJPB{position:absolute;bottom:8px;left:8px;color:#aaa;font-size:9px;text-shadow:1px 1px 1px #222;display:none;}.GKJYXHBJPB a{color:#aaa;text-decoration:underline;}.GKJYXHBKPB:hover .GKJYXHBJPB{display:block;}.GKJYXHBNPB{float:left;}.GKJYXHBOPB{float:right;}.GKJYXHBFPB{width:33%;}.GKJYXHBMPB{width:67%;}.GKJYXHBMPB .GKJYXHBIPB,.GKJYXHBMPB .GKJYXHBHPB{height:381px;}.GKJYXHBFPB.GKJYXHBBQB{width:100%;padding-right:0;}.GKJYXHBFPB.GKJYXHBGQB{width:50%;}.GKJYXHBFPB.GKJYXHBFQB{width:33%;}.GKJYXHBFPB.GKJYXHBFQB:nth-child(2){width:34%;}.GKJYXHBAQB{position:absolute;top:10px;left:0;padding:11px 16px;font-size:11px;background:rgba(0, 0, 0, 0.7);border-top-right-radius:1px;border-bottom-right-radius:1px;}.GKJYXHBPPB{font-size:13px;font-weight:bold;}.GKJYXHBDQB{font-weight:bold;}.GKJYXHBHPB:hover .GKJYXHBPPB{text-decoration:underline;}.GKJYXHBJ5B{position:absolute;left:0;z-index:2;top:52px;}.GKJYXHBI5B{height:10px;width:15px;overflow:hidden;background:url(\"data:image/png;base64,iVBORw0KGgoAAAANSUhEUgAAAA8AAAAKCAYAAABrGwT5AAAAMklEQVR42mNgQAP///9vYCAHgDQC8X+yNZKsGVkjSZrRNZICKNNMkbMpDjCKo4qcRAIAIBHCQ7/QzwMAAAAASUVORK5CYII=\") -0px -0px  no-repeat;background-color:rgba(0, 0, 0, 0.7);background-position:center;cursor:pointer;display:inline-block;vertical-align:top;width:38px;}.GKJYXHBP5B{display:inline-block;vertical-align:top;border-color:#c0c0c0;width:300px;}.GKJYXHBDAC{display:inline-block;vertical-align:top;margin-top:0 !important;-moz-box-sizing:border-box;box-sizing:border-box;margin-left:-1px;z-index:2;position:relative;}.GKJYXHBN5B,.GKJYXHBM5B{display:inline-block;vertical-align:top;}.GKJYXHBAAC+.GKJYXHBAAC{border-left:none;}.GKJYXHBA2 .GKJYXHBN5B{display:none;}.GKJYXHBI5B,.GKJYXHBDAC{height:32px;-moz-box-sizing:border-box;box-sizing:border-box;margin-right:8px;}.GKJYXHBN5B{height:32px;-moz-box-sizing:border-box;box-sizing:border-box;padding-left:12px;padding-right:12px;line-height:30px;margin-right:8px;}.GKJYXHBP5B.GKJYXHBAAC{width:150px;}.GKJYXHBO5B{margin-left:8px;}.GKJYXHBM5B .GKJYXHBNQB{margin-right:7px;}.GKJYXHBL5B{margin-top:5px;}.GKJYXHBK5B{width:150px;display:inline-block;margin-top:5px;margin-left:46px;-webkit-box-shadow:0 1px 2px rgba(0, 0, 0, 0.1) !important;-moz-box-shadow:0 1px 2px rgba(0, 0, 0, 0.1) !important;box-shadow:0 1px 2px rgba(0, 0, 0, 0.1) !important;border-color:#c0c0c0;}.GKJYXHBK5B.GKJYXHBBAC,.GKJYXHBCAC.GKJYXHBBAC{overflow:visible;}.GKJYXHBCAC{width:150px;display:inline-block;margin-top:5px;border-left:none !important;-webkit-box-shadow:0 1px 2px rgba(0, 0, 0, 0.1) !important;-moz-box-shadow:0 1px 2px rgba(0, 0, 0, 0.1) !important;box-shadow:0 1px 2px rgba(0, 0, 0, 0.1) !important;border-color:#c0c0c0;}.GKJYXHBI5B,.GKJYXHBP5B,.GKJYXHBDAC,.GKJYXHBN5B{-webkit-box-shadow:0 1px 2px rgba(0, 0, 0, 0.1) !important;-moz-box-shadow:0 1px 2px rgba(0, 0, 0, 0.1) !important;box-shadow:0 1px 2px rgba(0, 0, 0, 0.1) !important;}.GKJYXHBF4B{position:absolute;z-index:2;padding-right:2px;padding-bottom:2px;}.GKJYXHBF4B.GKJYXHBG4B{-moz-transform:scale(1.3);-moz-transition:-moz-transform 0.1s linear;-webkit-transform:scale(1.3);-webkit-transition:-moz-transform 0.1s linear;}.GKJYXHBF4B.GKJYXHBA5B{margin-top:-2px;margin-left:-2px;}.GKJYXHBF4B.GKJYXHBO4B{margin-top:-7px;margin-left:-7px;z-index:3;}.GKJYXHBJ4B.GKJYXHBF4B.GKJYXHBC5B,.GKJYXHBJ4B.GKJYXHBF4B.GKJYXHBD5B{margin-top:-6px;margin-left:-6px;z-index:3;}.GKJYXHBJ4B.GKJYXHBF4B.GKJYXHBE5B,.GKJYXHBJ4B.GKJYXHBF4B.GKJYXHBF5B,.GKJYXHBJ4B.GKJYXHBF4B.GKJYXHBG5B,.GKJYXHBJ4B.GKJYXHBF4B.GKJYXHBH5B{margin-top:-8px;margin-left:-6px;z-index:3;}.GKJYXHBF4B.GKJYXHBL4B,.GKJYXHBF4B.GKJYXHBE4B{margin-top:-7px !important;margin-left:-7px !important;z-index:3;}.GKJYXHBM4B.GKJYXHBF4B{height:2px;width:2px;overflow:hidden;background:url(\"data:image/png;base64,iVBORw0KGgoAAAANSUhEUgAAAAIAAAACCAYAAABytg0kAAAAFklEQVR42mN4M6V3BwgzgIhXU3q3AwBlAwsS4ekHLwAAAABJRU5ErkJggg==\") -0px -0px  no-repeat;}.GKJYXHBA5B.GKJYXHBF4B.GKJYXHBP3B.GKJYXHBC5B,.GKJYXHBA5B.GKJYXHBF4B.GKJYXHBP3B.GKJYXHBD5B{height:4px;width:4px;overflow:hidden;background:url(\"data:image/png;base64,iVBORw0KGgoAAAANSUhEUgAAAAQAAAAECAYAAACp8Z5+AAAAT0lEQVR42gFEALv/APagnDv3lYy28npztvJwYzsA9HtztvFtZMzwYFbM7lRItwDwYVW27lNHzetNQdToSDzEAOpPQz3oSD3E4Dsw0943LEYkViRnItXplQAAAABJRU5ErkJggg==\") -0px -0px  no-repeat;}.GKJYXHBA5B.GKJYXHBF4B.GKJYXHBB5B.GKJYXHBC5B,.GKJYXHBA5B.GKJYXHBF4B.GKJYXHBB5B.GKJYXHBD5B{height:4px;width:4px;overflow:hidden;background:url(\"data:image/png;base64,iVBORw0KGgoAAAANSUhEUgAAAAQAAAAECAYAAACp8Z5+AAAATUlEQVQYGWP4eepEzO/L52/9PLz/xre1S8IZQIyf+3Y9/bFt05PvK5dcZfixad3V72tXPPmyZN7zTzMn32L4MLEjDMR409n06EVxViQAp5QwFlfI9nkAAAAASUVORK5CYII=\") -0px -0px  no-repeat;}.GKJYXHBA5B.GKJYXHBF4B.GKJYXHBP3B.GKJYXHBE5B,.GKJYXHBA5B.GKJYXHBF4B.GKJYXHBP3B.GKJYXHBF5B,.GKJYXHBA5B.GKJYXHBF4B.GKJYXHBP3B.GKJYXHBG5B,.GKJYXHBA5B.GKJYXHBF4B.GKJYXHBP3B.GKJYXHBH5B{height:5px;width:5px;overflow:hidden;background:url(\"data:image/png;base64,iVBORw0KGgoAAAANSUhEUgAAAAUAAAAFCAYAAACNbyblAAAAdElEQVR42gFpAJb/AP+qnxj2lI2W84V/w/N6cpb0dWoYAPWIf5byenLM8W5kzPBhVszwY1eWAPFtZcPwYVbM8GBWzO1UR8zqTUHLAPBVR5buU0fN6U5C1edHO9ziQTeoAOtSRxnnRzyh40A22t87MK7cNSwdYEU44YWWCj8AAAAASUVORK5CYII=\") -0px -0px  no-repeat;}.GKJYXHBA5B.GKJYXHBF4B.GKJYXHBB5B.GKJYXHBE5B,.GKJYXHBA5B.GKJYXHBF4B.GKJYXHBB5B.GKJYXHBF5B,.GKJYXHBA5B.GKJYXHBF4B.GKJYXHBB5B.GKJYXHBG5B,.GKJYXHBA5B.GKJYXHBF4B.GKJYXHBB5B.GKJYXHBH5B{height:5px;width:5px;overflow:hidden;background:url(\"data:image/png;base64,iVBORw0KGgoAAAANSUhEUgAAAAUAAAAFCAYAAACNbyblAAAAdElEQVQIHQFpAJb/Af/Mxij8AgSZ//4AIADz8d3+7+1oAfrHw8D//wAmAPr4//739wAA+PbWBP729h8A+vn+AP8AAAD39f/99fUmBP/o5dsACAoq/vn4A/329gP88fDYBPrs7GsBAwSZ/f7+Kvvy8tv76+tlcEhC5JOG8JYAAAAASUVORK5CYII=\") -0px -0px  no-repeat;}.GKJYXHBA5B.GKJYXHBF4B.GKJYXHBH4B.GKJYXHBC5B,.GKJYXHBA5B.GKJYXHBF4B.GKJYXHBH4B.GKJYXHBD5B{height:4px;width:4px;overflow:hidden;background:url(\"data:image/png;base64,iVBORw0KGgoAAAANSUhEUgAAAAQAAAAECAYAAACp8Z5+AAAAS0lEQVR42mPYtWuX9aZNm7YtXLhw25w5c6wZFi9evG3WrFlnJk2adKarq2s7w+TJk7cBGWfb29uvNDc3H2EAcmxBjOrq6ssVFRVuADS7JZihDXKAAAAAAElFTkSuQmCC\") -0px -0px  no-repeat;}.GKJYXHBA5B.GKJYXHBF4B.GKJYXHBH4B.GKJYXHBE5B,.GKJYXHBA5B.GKJYXHBF4B.GKJYXHBH4B.GKJYXHBF5B,.GKJYXHBA5B.GKJYXHBF4B.GKJYXHBH4B.GKJYXHBG5B,.GKJYXHBA5B.GKJYXHBF4B.GKJYXHBH4B.GKJYXHBH5B{height:5px;width:5px;overflow:hidden;background:url(\"data:image/png;base64,iVBORw0KGgoAAAANSUhEUgAAAAUAAAAFCAYAAACNbyblAAAAbElEQVR42hXHIQ7EIBBA0TlGV/SkCAQJJCBIIBmBIRNMQdRwAERlZ+WaTQ+zs+In/8Faa5tzYu/9aq1hrXWDMQYSEZdSOOfMKSUEwSXzB4cQ2Fp7gwx679/OuY8x5tFaHxBjfAlI8FVKndL+A48SOs4m0JnwAAAAAElFTkSuQmCC\") -0px -0px  no-repeat;}.GKJYXHBO4B.GKJYXHBF4B.GKJYXHBP3B,.GKJYXHBJ4B.GKJYXHBF4B.GKJYXHBP3B.GKJYXHBC5B,.GKJYXHBJ4B.GKJYXHBF4B.GKJYXHBP3B.GKJYXHBD5B,.GKJYXHBJ4B.GKJYXHBF4B.GKJYXHBP3B.GKJYXHBE5B{height:13px;width:13px;overflow:hidden;background:url(\"data:image/png;base64,iVBORw0KGgoAAAANSUhEUgAAAA0AAAANCAYAAABy6+R8AAABdElEQVR42pWSu0sDQRDGA/rvCDY2xkItTKUWiqCVwlkaJaXio4uN2FgGBQmkss8DLvGR4kCiYCMGw6HRgMEkd+eZeyWfO6NeEgXBhWEf85udb3Y2EOgamUxmIJVKxZLJZEHMxtcco/PAzwGgL51Ob8qy7KiqCk3T4Louz7Snc/IT5weJG7cURYFlWYDnofWgwr26RKt0L/Yun5OfOF8S3USOdv0VVvwQzYM9mNEdGOsRmPu7aD2XOZA4lkqaSQJlsONHeItuM0ymh5ehhSWxXgNch6UST9IKpN0r3sLYiLARqAtrLM6hLqw2G4Kt5LlG4imTQUU7FzloKxIHNJY6cHVqHNXJMZgnCX4c4v1M7s01w7WZkA+/CLgSGkFlIohm/qwn02dNjgNtVeqCgxzwODqEp/lpwLY7NXW/nqeWUJUW+OaygNXhQQ6wi3e9r/erT46N9/Mc9MQxzFMZbZHhu0/UYL+52Wy2nwL/+hHk7/kR//17Hw3Y0EAGr8ZrAAAAAElFTkSuQmCC\") -0px -0px  no-repeat;}.GKJYXHBO4B.GKJYXHBF4B.GKJYXHBB5B,.GKJYXHBJ4B.GKJYXHBF4B.GKJYXHBB5B{height:15px;width:15px;overflow:hidden;background:url(\"data:image/png;base64,iVBORw0KGgoAAAANSUhEUgAAAA8AAAAPCAYAAAA71pVKAAABXklEQVQoz6yRS0vDQBSFC/4ef6IuBMH6gCiCEQoGNxU3SsHaJhAXghotcVV0UTFWihstrU2TzEzice5tqZHUnQOHYe6cb+5jSqX/XI7jLDabzUqj0fD1PpruFYr/CQFYsG17yXVdGQQBhsMhlFK805nidE++AqwzLHuehyRJgDRF1nuFemgj677os+I43ZOvUCq9TIavQR/y8gLStSHOa4hPjpGcnSJ76/ED5PvVAvVEpVFGpcFkCrGODhFpxVULUJJbIH++ZJ96S587M4gBAg/2MdYKTQPivsUzIH8+84iGI/07RNVJpsj6gUa7W6zIqfMQyV/IrB7bDIV7xgz61BoY61plJC1vbuZJz1JibJk5qMxgf3MVH9sbgBDFnvPTTrv6j80dBgl6X1thUDx15k+78M9SIL69RlivIbq5wvf+AW2ExTMooWAkkv3797OADMCXwkDyWFMYRWmbHAAAmz/oBlfd6usAAAAASUVORK5CYII=\") -0px -0px  no-repeat;}.GKJYXHBJ4B.GKJYXHBF4B.GKJYXHBP3B.GKJYXHBF5B,.GKJYXHBJ4B.GKJYXHBF4B.GKJYXHBP3B.GKJYXHBG5B,.GKJYXHBJ4B.GKJYXHBF4B.GKJYXHBP3B.GKJYXHBH5B{height:17px;width:17px;overflow:hidden;background:url(\"data:image/png;base64,iVBORw0KGgoAAAANSUhEUgAAABEAAAARCAYAAAA7bUf6AAAB+klEQVR42q2Uy0sbURTGs/efEReiEcWQINYHSsRKBR8QSFUIiuLCB/iA1kK1oFmIFUXqwo375rGQLFyJEHAlbnwmTnxkXmZm0k6+3nNnEvIQN/XAYZg553fPN9+9Mw5HWYTD4SqWgVAoFGWZZGnY1yg9p7rjrYhEIr2sSYjH4xAEAbquwzRNfqV7ek516nt1AVacicVikCQJbwXVqY/6KxRQwTAMq9PQ8eeY3R8eQNvagLa/i2z0N6BleJmUUX9Bke2BkFdgJm6h/9qGFlxFZu0r1JUFKEszUOamoC7P4u/FeUERcdwjMove1RqhQdvZxMvqlxJYng5AnvgMaWwY8uQIcqrK222PAg5ynUyjyB5F8LKyCHVplsMKg6VxP6TRIYi+T0gPeCGyzOxt8X7iiKdFkvSOFNrPYNFkP0QbFge9fIHnvnY8eVsgMjV5b4inRQzaRgplforLLofTNvzY7UGqw4WUt9Xyj3HElyghHzhsT+XZw+AuN1KdLtx/aEKypQGpkeEKJQVPMvs7BZhPLoPv3HW4ddUivf691JPi3ckpMtK+Pku2DScI9ljwVWMNbjrcMGWpdHfKz0n2LI6H/m4brufwNYMvndW4amuGdnpSeU6KT2zemxybJAbXcO/rx7XHicTQRzz9+AZTEl8/se/27bzbV/w//5N/DKcPEFFc2V0AAAAASUVORK5CYII=\") -0px -0px  no-repeat;}.GKJYXHBO4B.GKJYXHBF4B.GKJYXHBH4B,.GKJYXHBJ4B.GKJYXHBF4B.GKJYXHBH4B{height:13px;width:13px;overflow:hidden;background:url(\"data:image/png;base64,iVBORw0KGgoAAAANSUhEUgAAAA0AAAANCAYAAABy6+R8AAABQElEQVR42pWSwYuCUBDGhd1/Z//E3VvHbgaBXRQPdikCizJIPUrgVQSRgggUCyKE2JJv/YZNsmBhHwyPN/Obme+9eYrysJbL5cdisRjM5/Ow3s+/+4B+5XkBeHMc53O1Wn1vNhucTidcr1fZeaafcXJNUl3xKwgCXC4XVFWF4/GI3W6HoijkTD/j5BpJrMRAWZZYr9fwfR+1H7Ztw/M86cg4OZFKzZTAiky4w7TxeIzRaITZbIbb7SZSyVNayEp5nmM6nYoRpFmWJabrOrbbrXQkz05nXjpN0xfYMAxomiYWhqE8Dvmm036/hzUcCvgIq6qKXq+HJElaneRO1DyZTFowrdvtot/vS5fmTo+vdzgcYJqmVCbc6XQkIcuy9us9z4kV4ziWuURRJOf7nDjgZriu674z8a8fwXjrR/z37/0APubeVF1jV70AAAAASUVORK5CYII=\") -0px -0px  no-repeat;}.GKJYXHBL4B.GKJYXHBF4B.GKJYXHBB4B,.GKJYXHBE4B.GKJYXHBF4B.GKJYXHBB4B{z-index:31 !important;}.GKJYXHBL4B.GKJYXHBF4B,.GKJYXHBE4B.GKJYXHBF4B{z-index:32 !important;}.GKJYXHBL4B.GKJYXHBF4B.GKJYXHBC5B,.GKJYXHBE4B.GKJYXHBF4B.GKJYXHBC5B,.GKJYXHBL4B.GKJYXHBF4B.GKJYXHBD5B,.GKJYXHBE4B.GKJYXHBF4B.GKJYXHBD5B{margin-top:-4px;margin-left:-5px;}.GKJYXHBL4B.GKJYXHBF4B.GKJYXHBE5B,.GKJYXHBE4B.GKJYXHBF4B.GKJYXHBE5B,.GKJYXHBL4B.GKJYXHBF4B.GKJYXHBF5B,.GKJYXHBE4B.GKJYXHBF4B.GKJYXHBF5B,.GKJYXHBL4B.GKJYXHBF4B.GKJYXHBG5B,.GKJYXHBE4B.GKJYXHBF4B.GKJYXHBG5B,.GKJYXHBL4B.GKJYXHBF4B.GKJYXHBH5B,.GKJYXHBE4B.GKJYXHBF4B.GKJYXHBH5B,.GKJYXHBL4B.GKJYXHBF4B.GKJYXHBE5B,.GKJYXHBE4B.GKJYXHBF4B.GKJYXHBE5B,.GKJYXHBL4B.GKJYXHBF4B.GKJYXHBF5B,.GKJYXHBE4B.GKJYXHBF4B.GKJYXHBF5B,.GKJYXHBL4B.GKJYXHBF4B.GKJYXHBG5B,.GKJYXHBE4B.GKJYXHBF4B.GKJYXHBG5B,.GKJYXHBL4B.GKJYXHBF4B.GKJYXHBH5B,.GKJYXHBE4B.GKJYXHBF4B.GKJYXHBH5B{margin-top:-5px;margin-left:-6px;}.GKJYXHBC4B.GKJYXHBL4B.GKJYXHBF4B.GKJYXHBE5B.GKJYXHBJ4B,.GKJYXHBC4B.GKJYXHBE4B.GKJYXHBF4B.GKJYXHBE5B.GKJYXHBJ4B,.GKJYXHBC4B.GKJYXHBL4B.GKJYXHBF4B.GKJYXHBE5B.GKJYXHBO4B,.GKJYXHBC4B.GKJYXHBE4B.GKJYXHBF4B.GKJYXHBE5B.GKJYXHBO4B,.GKJYXHBC4B.GKJYXHBL4B.GKJYXHBF4B.GKJYXHBF5B.GKJYXHBJ4B,.GKJYXHBC4B.GKJYXHBE4B.GKJYXHBF4B.GKJYXHBF5B.GKJYXHBJ4B,.GKJYXHBC4B.GKJYXHBL4B.GKJYXHBF4B.GKJYXHBF5B.GKJYXHBO4B,.GKJYXHBC4B.GKJYXHBE4B.GKJYXHBF4B.GKJYXHBF5B.GKJYXHBO4B,.GKJYXHBC4B.GKJYXHBL4B.GKJYXHBF4B.GKJYXHBG5B.GKJYXHBJ4B,.GKJYXHBC4B.GKJYXHBE4B.GKJYXHBF4B.GKJYXHBG5B.GKJYXHBJ4B,.GKJYXHBC4B.GKJYXHBL4B.GKJYXHBF4B.GKJYXHBG5B.GKJYXHBO4B,.GKJYXHBC4B.GKJYXHBE4B.GKJYXHBF4B.GKJYXHBG5B.GKJYXHBO4B,.GKJYXHBC4B.GKJYXHBL4B.GKJYXHBF4B.GKJYXHBH5B.GKJYXHBJ4B,.GKJYXHBC4B.GKJYXHBE4B.GKJYXHBF4B.GKJYXHBH5B.GKJYXHBJ4B,.GKJYXHBC4B.GKJYXHBL4B.GKJYXHBF4B.GKJYXHBF5B.GKJYXHBO4B,.GKJYXHBC4B.GKJYXHBE4B.GKJYXHBF4B.GKJYXHBH5B.GKJYXHBO4B{margin-top:-6px;margin-left:-7px;}.GKJYXHBF4B.GKJYXHBL4B.GKJYXHBC5B,.GKJYXHBF4B.GKJYXHBE4B.GKJYXHBC5B,.GKJYXHBF4B.GKJYXHBL4B.GKJYXHBD5B,.GKJYXHBF4B.GKJYXHBE4B.GKJYXHBD5B{height:12px;width:12px;overflow:hidden;background:url(\"data:image/png;base64,iVBORw0KGgoAAAANSUhEUgAAAAwAAAAMCAYAAABWdVznAAAAp0lEQVQoU51SyQ0DIQyEMtIF1EApyNVAPfz2iUQJeWwN+ew34HhWEKFoE4lYGskaz9jmUKoHM2sBCYrg6Cid02oOIW6CLed8J6KHc+4JIAeHGjRz5y3GuBtjmoBnWGsbat2kYSB0QQEC7z2nlE4gH6Y+iWAoGD3ErTUeUWt9m6CBFoYD+4JE188Ahxo00P5l+LoS8quVlg99XmsIYR+mn9e6/HCrX+MFwbpyzx8NLjoAAAAASUVORK5CYII=\") -0px -0px  no-repeat;}.GKJYXHBF4B.GKJYXHBL4B.GKJYXHBE5B,.GKJYXHBF4B.GKJYXHBE4B.GKJYXHBE5B,.GKJYXHBF4B.GKJYXHBL4B.GKJYXHBF5B,.GKJYXHBF4B.GKJYXHBE4B.GKJYXHBF5B,.GKJYXHBF4B.GKJYXHBL4B.GKJYXHBG5B,.GKJYXHBF4B.GKJYXHBE4B.GKJYXHBG5B,.GKJYXHBF4B.GKJYXHBL4B.GKJYXHBH5B,.GKJYXHBF4B.GKJYXHBE4B.GKJYXHBH5B,.GKJYXHBA4B.GKJYXHBF4B.GKJYXHBL4B.GKJYXHBE5B.GKJYXHBA5B,.GKJYXHBA4B.GKJYXHBF4B.GKJYXHBE4B.GKJYXHBE5B.GKJYXHBA5B,.GKJYXHBA4B.GKJYXHBF4B.GKJYXHBL4B.GKJYXHBF5B.GKJYXHBA5B,.GKJYXHBA4B.GKJYXHBF4B.GKJYXHBE4B.GKJYXHBF5B.GKJYXHBA5B,.GKJYXHBA4B.GKJYXHBF4B.GKJYXHBL4B.GKJYXHBG5B.GKJYXHBA5B,.GKJYXHBA4B.GKJYXHBF4B.GKJYXHBE4B.GKJYXHBG5B.GKJYXHBA5B,.GKJYXHBA4B.GKJYXHBF4B.GKJYXHBL4B.GKJYXHBH5B.GKJYXHBA5B,.GKJYXHBA4B.GKJYXHBF4B.GKJYXHBE4B.GKJYXHBH5B.GKJYXHBA5B,.GKJYXHBA4B.GKJYXHBF4B.GKJYXHBL4B.GKJYXHBE5B.GKJYXHBO4B,.GKJYXHBA4B.GKJYXHBF4B.GKJYXHBE4B.GKJYXHBE5B.GKJYXHBO4B,.GKJYXHBA4B.GKJYXHBF4B.GKJYXHBL4B.GKJYXHBF5B.GKJYXHBO4B,.GKJYXHBA4B.GKJYXHBF4B.GKJYXHBE4B.GKJYXHBF5B.GKJYXHBO4B,.GKJYXHBA4B.GKJYXHBF4B.GKJYXHBL4B.GKJYXHBG5B.GKJYXHBO4B,.GKJYXHBA4B.GKJYXHBF4B.GKJYXHBE4B.GKJYXHBG5B.GKJYXHBO4B,.GKJYXHBA4B.GKJYXHBF4B.GKJYXHBL4B.GKJYXHBH5B.GKJYXHBO4B,.GKJYXHBA4B.GKJYXHBF4B.GKJYXHBE4B.GKJYXHBH5B.GKJYXHBO4B,.GKJYXHBA4B.GKJYXHBF4B.GKJYXHBL4B.GKJYXHBE5B.GKJYXHBJ4B,.GKJYXHBA4B.GKJYXHBF4B.GKJYXHBE4B.GKJYXHBE5B.GKJYXHBJ4B,.GKJYXHBA4B.GKJYXHBF4B.GKJYXHBL4B.GKJYXHBF5B.GKJYXHBJ4B,.GKJYXHBA4B.GKJYXHBF4B.GKJYXHBE4B.GKJYXHBF5B.GKJYXHBJ4B,.GKJYXHBA4B.GKJYXHBF4B.GKJYXHBL4B.GKJYXHBG5B.GKJYXHBJ4B,.GKJYXHBA4B.GKJYXHBF4B.GKJYXHBE4B.GKJYXHBG5B.GKJYXHBJ4B,.GKJYXHBA4B.GKJYXHBF4B.GKJYXHBL4B.GKJYXHBH5B.GKJYXHBJ4B,.GKJYXHBA4B.GKJYXHBF4B.GKJYXHBE4B.GKJYXHBH5B.GKJYXHBJ4B{height:14px;width:14px;overflow:hidden;background:url(\"data:image/png;base64,iVBORw0KGgoAAAANSUhEUgAAAA4AAAAOCAYAAAAfSC3RAAAAwElEQVQokaWSMQ6DMAxFuUDuwpq1IwfIlqMwwEG4Emwdu5a1qFKyxM1DpIrUUCSw9CXL///YGFdVFiKiIrqIMWLZMG41VZUiErcQwmMYhrsx5q21DoCcGhyaH9M8z09r7auuaykBDs3XzAi8lpuappG+71eQ5+ats8LYMUoi27YV772kcM6ttcSjxYNx4jtSp9yUm1NntCwM48ISKDLaXsChQYvnkvFwVGqlUf8uh3xvOed+x+kDuHRyhSOfjo78A1gR4D3jx06EAAAAAElFTkSuQmCC\") -0px -0px  no-repeat;}.GKJYXHBF4B.GKJYXHBC4B.GKJYXHBE5B,.GKJYXHBF4B.GKJYXHBC4B.GKJYXHBF5B,.GKJYXHBF4B.GKJYXHBC4B.GKJYXHBG5B,.GKJYXHBF4B.GKJYXHBC4B.GKJYXHBH5B{height:14px;width:14px;overflow:hidden;background:url(\"data:image/png;base64,iVBORw0KGgoAAAANSUhEUgAAAA4AAAAOCAYAAAAfSC3RAAAAv0lEQVQokaSSMQ6DMAxFc4HcJWvWDhyBLUfJwEU4BjNSDgBbx67NWtQ1bh4iFWozhS99yfj7Y2Os1AkiojOHzCVzO7gcOa1qyMItpfQYx/He9/3bWpsgMTk0av5MMcanc+5ljJEa0aj5mhmBt51N3nuZpmkn8dl8dNYYB0Yp4jzP8gtyRacWD8aV7yidQAhBuq7bSQxKZ2pZGMaNJZBkNIChdCAGaDxTi+eSsXnU5uW0/Y7mA7h0cpUjXz8jlMgBoqTPw4BaBXAAAAAASUVORK5CYII=\") -0px -0px  no-repeat;}.GKJYXHBI4B{text-align:left;position:absolute;text-shadow:0 0 2px #fff;white-space:nowrap;z-index:3;text-shadow:1px 0 2px #fff, -1px 0 2px #fff;}.GKJYXHBI4B.GKJYXHBK4B .GKJYXHBO4B,.GKJYXHBI4B.GKJYXHBK4B .GKJYXHBJ4B{text-align:right;position:absolute;right:10px;}.GKJYXHBI4B .GKJYXHBJ4B .GKJYXHBP4B{font-size:13px;color:#000;}.GKJYXHBI4B .GKJYXHBO4B .GKJYXHBP4B,.GKJYXHBI4B .GKJYXHBJ4B .GKJYXHBN4B{font-size:11px;}.GKJYXHBI4B .GKJYXHBO4B .GKJYXHBN4B{font-size:9px;}.GKJYXHBI4B .GKJYXHBP4B{font-weight:bold;}.GKJYXHBI4B .GKJYXHBO4B{color:#222;}.GKJYXHBH4B.GKJYXHBI4B .GKJYXHBJ4B,.GKJYXHBH4B.GKJYXHBI4B .GKJYXHBO4B{color:#777;}.GKJYXHBL4B.GKJYXHBI4B.GKJYXHBC5B .GKJYXHBJ4B,.GKJYXHBE4B.GKJYXHBI4B.GKJYXHBC5B .GKJYXHBJ4B,.GKJYXHBL4B.GKJYXHBI4B.GKJYXHBD5B .GKJYXHBJ4B,.GKJYXHBE4B.GKJYXHBI4B.GKJYXHBD5B .GKJYXHBJ4B,.GKJYXHBL4B.GKJYXHBI4B.GKJYXHBC5B .GKJYXHBO4B,.GKJYXHBE4B.GKJYXHBI4B.GKJYXHBC5B .GKJYXHBO4B,.GKJYXHBL4B.GKJYXHBI4B.GKJYXHBD5B .GKJYXHBO4B,.GKJYXHBE4B.GKJYXHBI4B.GKJYXHBD5B .GKJYXHBO4B{margin-top:-8px;margin-left:6px;}.GKJYXHBL4B.GKJYXHBI4B.GKJYXHBE5B .GKJYXHBJ4B,.GKJYXHBE4B.GKJYXHBI4B.GKJYXHBE5B .GKJYXHBJ4B,.GKJYXHBL4B.GKJYXHBI4B.GKJYXHBF5B .GKJYXHBJ4B,.GKJYXHBE4B.GKJYXHBI4B.GKJYXHBF5B .GKJYXHBJ4B,.GKJYXHBL4B.GKJYXHBI4B.GKJYXHBG5B .GKJYXHBJ4B,.GKJYXHBE4B.GKJYXHBI4B.GKJYXHBG5B .GKJYXHBJ4B,.GKJYXHBL4B.GKJYXHBI4B.GKJYXHBH5B .GKJYXHBJ4B,.GKJYXHBE4B.GKJYXHBI4B.GKJYXHBH5B .GKJYXHBJ4B,.GKJYXHBL4B.GKJYXHBI4B.GKJYXHBE5B .GKJYXHBO4B,.GKJYXHBE4B.GKJYXHBI4B.GKJYXHBE5B .GKJYXHBO4B,.GKJYXHBL4B.GKJYXHBI4B.GKJYXHBF5B .GKJYXHBO4B,.GKJYXHBE4B.GKJYXHBI4B.GKJYXHBF5B .GKJYXHBO4B,.GKJYXHBL4B.GKJYXHBI4B.GKJYXHBG5B .GKJYXHBO4B,.GKJYXHBE4B.GKJYXHBI4B.GKJYXHBG5B .GKJYXHBO4B,.GKJYXHBL4B.GKJYXHBI4B.GKJYXHBH5B .GKJYXHBO4B,.GKJYXHBE4B.GKJYXHBI4B.GKJYXHBH5B .GKJYXHBO4B{margin-top:-7px;margin-left:8px;}.GKJYXHBI4B.GKJYXHBC5B .GKJYXHBO4B,.GKJYXHBI4B.GKJYXHBD5B .GKJYXHBO4B,.GKJYXHBI4B.GKJYXHBE5B .GKJYXHBO4B,.GKJYXHBI4B.GKJYXHBF5B .GKJYXHBO4B,.GKJYXHBI4B.GKJYXHBG5B .GKJYXHBO4B,.GKJYXHBI4B.GKJYXHBH5B .GKJYXHBO4B{margin-top:-8px;margin-left:9px;}.GKJYXHBI4B.GKJYXHBC5B .GKJYXHBJ4B,.GKJYXHBI4B.GKJYXHBD5B .GKJYXHBJ4B{margin-top:-9px;margin-left:9px;}.GKJYXHBI4B.GKJYXHBE5B .GKJYXHBJ4B{margin-top:-11px;margin-left:10px;}.GKJYXHBI4B.GKJYXHBF5B .GKJYXHBJ4B,.GKJYXHBI4B.GKJYXHBG5B .GKJYXHBJ4B,.GKJYXHBI4B.GKJYXHBH5B .GKJYXHBJ4B{margin-top:-9px;margin-left:13px;}.GKJYXHBI4B .GKJYXHBJ4B .GKJYXHBN4B{margin-top:-4px;}.GKJYXHBL4B,.GKJYXHBE4B{z-index:32;}.GKJYXHBD4B{position:absolute;cursor:pointer;}.GKJYXHBA5B.GKJYXHBD4B{margin-top:-5px;margin-left:-5px;height:11px;width:11px;z-index:224;}.GKJYXHBO4B.GKJYXHBD4B{margin-top:-7px;margin-left:-7px;height:15px;width:15px;z-index:225;}.GKJYXHBL4B.GKJYXHBD4B,.GKJYXHBE4B.GKJYXHBD4B,.GKJYXHBJ4B.GKJYXHBD4B{margin-top:-9px;margin-left:-9px;height:19px;width:19px;z-index:226;}.GKJYXHBJBC{border:1px solid #ddd;position:relative;}.GKJYXHBI1.GKJYXHBJBC{border:none;}.GKJYXHBMBC{position:relative;}.GKJYXHBJBC .GKJYXHBM3{display:none;}.GKJYXHBKBC{position:absolute !important;top:0;left:0;right:0;z-index:1;background:rgba(255, 255, 255, 0.9);padding-left:40px;}.GKJYXHBKBC .GKJYXHBDTB{padding-top:0;}.GKJYXHBKBC .GKJYXHBDTB .GKJYXHBKN{line-height:31px;}.GKJYXHBIDB{width:340px;}.GKJYXHBP3 .GKJYXHBIDB{width:230px;}.GKJYXHBA4 .GKJYXHBIDB{width:180px;}.GKJYXHBODB{position:relative;}.GKJYXHBLDB{opacity:0.3;}.GKJYXHBHDB{margin-top:20px;margin-right:8px;line-height:16px;}div&gt;.GKJYXHBHDB:first-child{margin-top:19px;}.GKJYXHBKDB{color:#093;font-size:13px;font-style:normal;font-weight:normal;text-decoration:none;word-wrap:break-word;}.GKJYXHBPDB{color:#15c;font-size:15px;font-weight:normal;text-decoration:none;}.GKJYXHBPDB:hover{text-decoration:underline;}.GKJYXHBJDB{color:#222;font-size:13px;}.GKJYXHBMDB{float:left;width:90px;height:70px;margin:8px 6px 0 0;}.GKJYXHBNDB{border-bottom-width:1px;border-bottom-style:solid;border-bottom-color:#e5e5e5;line-height:1.2;padding-bottom:16px;clear:both;}.GKJYXHBC5{margin-right:8px;margin-top:19px;margin-bottom:20px;line-height:16px;width:340px;}.GKJYXHBP3 .GKJYXHBC5{width:230px;}.GKJYXHBA4 .GKJYXHBC5{width:180px;}.GKJYXHBB5{margin-top:-3px;}.GKJYXHBA5{background:#fff;padding-right:4px;}.GKJYXHBO4 .GKJYXHBC5{opacity:0.3;}.GKJYXHBP4{float:right;position:relative;top:-2px;}.GKJYXHBEDB{position:relative;top:-3px;}.GKJYXHBDDB{color:#15c;font-size:15px;font-weight:normal;line-height:18px;text-decoration:none;}.GKJYXHBDDB:hover{text-decoration:underline;}.GKJYXHBFDB{white-space:nowrap;font-weight:bold;}.GKJYXHBNBB{white-space:nowrap;}.GKJYXHBIBB{color:#093;font-size:13px;font-style:normal;font-weight:normal;text-decoration:none;margin-bottom:2px;}.GKJYXHBHBB{width:100%;margin-top:5px;}.GKJYXHBNCB{width:100%;display:inline-block;text-decoration:none;}.GKJYXHBMCB{width:100%;position:relative;padding:5px 0;}.GKJYXHBCCB{display:none;}.GKJYXHBECB{color:#15c;font-size:14px;font-weight:normal;overflow:hidden;text-overflow:ellipsis;display:inline-block;white-space:nowrap;max-width:150px;}.GKJYXHBMBB{color:#222;display:inline-block;text-align:right;float:right;}.GKJYXHBJBB{position:relative;}.GKJYXHBOBB{position:relative;float:left;margin-right:8px;}.GKJYXHBPBB{height:60px;}.GKJYXHBBCB{width:60px;}.GKJYXHBACB{width:85px;}.GKJYXHBKBB{display:block;color:#888;padding:4px 13px 2px 0;line-height:18px;}.GKJYXHBDCB{color:#15c;font-size:13px;font-weight:normal;overflow:hidden;text-overflow:ellipsis;white-space:nowrap;max-width:160px;}.GKJYXHBDCB&gt;a{color:#15c;text-decoration:none;}.GKJYXHBDCB&gt;a:hover{text-decoration:underline;}.GKJYXHBLBB{color:#222;display:inline-block;font-weight:bold;}.GKJYXHBGDB{color:#e7711b;margin-right:5px;}.GKJYXHBADB{display:inline-block;margin-right:8px;}.GKJYXHBOCB{height:11px;width:11px;overflow:hidden;background:url(\"data:image/png;base64,iVBORw0KGgoAAAANSUhEUgAAAAsAAAALCAYAAACprHcmAAAAwUlEQVQYlWNgwAKeFUo3YxNHVVQgBVN86XmhtB1BDc8LpNiBCv8DcSMxin2gik9ic98UoMRKoBMWPi+UmvusQPoqSPGzQqmvQHopEAPFpRcD8VoGICH2vEB6E9Q0TFwA1vgRyPZA9lwuUPADSBJZMdBmkEESUEXSyO5di2qy1AOgmBGmxwqllYEmnwMqACm8h6QpGcmDUjBn+IMUAmmQZ1SB4lFQJ80BYg5k9zICBVqBdB8Q88DEgNgLKL4RZCtIDAC2bZMGkbmz1AAAAABJRU5ErkJggg==\") -0px -0px  no-repeat;}.GKJYXHBPCB{height:11px;width:11px;overflow:hidden;background:url(\"data:image/png;base64,iVBORw0KGgoAAAANSUhEUgAAAAsAAAALCAYAAACprHcmAAAArElEQVQYlWNgwALOnDnTjE0cXRGYPn369CUg244YDexA/B+IG4lR7ANSDDT9JIYkUHAKUHIlkF4IxHOB+CpU8VcgXgpkLwTixUC8FmSSGBBvglqNgYEaQPRHIPZAtiEXiD9AJZExyCAJmCJk965FU/gAKG+EzWPKQHwOavI9JA3JyIpgtD/UjSDPqALpKKjiOUDMgexeRqBAK5DuA2IeqGZGINsLSG8E0sogMQCqh9XdWyoiSwAAAABJRU5ErkJggg==\") -0px -0px  no-repeat;}.GKJYXHBOCB,.GKJYXHBPCB{height:12px;width:12px;background-position:center;background-repeat:no-repeat;background-size:11px;margin-right:1px;display:inline-block;}.GKJYXHBJCB{white-space:nowrap;}.GKJYXHBGBB{position:relative;}.GKJYXHBLCB{width:100%;z-index:-1;}.GKJYXHBGCB{color:#15c;text-decoration:none;}.GKJYXHBDCB:hover,.GKJYXHBECB:hover,.GKJYXHBGCB:hover{text-decoration:underline;cursor:pointer;}.GKJYXHBP3 .GKJYXHBCCB,.GKJYXHBA4 .GKJYXHBCCB{padding:0 6px;display:block;}.GKJYXHBA4 .GKJYXHBECB{color:#15c;font-size:13px;font-weight:normal;overflow:hidden;text-overflow:ellipsis;display:inline-block;white-space:nowrap;max-width:100px;}.GKJYXHBBCB,.GKJYXHBA4 .GKJYXHBPBB{display:none;}.GKJYXHBP3 .GKJYXHBBCB{display:inline;}.GKJYXHBP3 .GKJYXHBACB{display:none;}.GKJYXHBA4 .GKJYXHBKBB{display:block;color:#888;}.GKJYXHBA4 .GKJYXHBJCB,.GKJYXHBP3 .GKJYXHBJCB,.GKJYXHBKCB{display:none;}.GKJYXHBA4 .GKJYXHBKCB,.GKJYXHBP3 .GKJYXHBKCB{display:inline;}.GKJYXHBH5{padding-left:15px;}.GKJYXHBF5{padding-top:1px;}.GKJYXHBF5 .GKJYXHBBEB{background-color:#efc439;border-radius:2px;color:#fff;font-size:12px;padding:0 2px;line-height:14px;vertical-align:baseline;}.GKJYXHBP3 .GKJYXHBF5{width:230px;}.GKJYXHBA4 .GKJYXHBF5{width:180px;}.GKJYXHBG5{display:inline-block;}.GKJYXHBJ5{padding-top:12px;}.GKJYXHBI5{color:#15c;}.GKJYXHBI5:hover{text-decoration:underline;}.GKJYXHBACC{height:161px;position:relative;cursor:pointer;width:350px;margin:0 8px 20px 15px;}.GKJYXHBBCC{position:absolute;padding:10px 14px;color:#fff;background:rgba(0, 0, 0, 0.7);bottom:0;right:0;}.GKJYXHBACC:hover .GKJYXHBBCC{text-decoration:underline;background:#000;}.GKJYXHBCCC{position:absolute;}.GKJYXHBP3 .GKJYXHBACC{width:230px;}.GKJYXHBA4 .GKJYXHBACC{width:180px;}.GKJYXHBPRB{position:relative;padding:0 1px 1px 0;-moz-box-sizing:border-box;box-sizing:border-box;float:left;cursor:pointer;width:67%;}.GKJYXHBASB{position:absolute;top:10px;left:0;padding:10px 14px;color:#fff;background:rgba(0, 0, 0, 0.7);border-top-right-radius:1px;border-bottom-right-radius:1px;}.GKJYXHBPRB:hover .GKJYXHBASB{text-decoration:underline;background:#000;}.GKJYXHBCRB{position:relative;border-top:3px solid #4995fb;}.GKJYXHBHRB{padding:12px 13px;}.GKJYXHBGRB{float:right;}.GKJYXHBBRB{border-bottom:3px solid #ebebeb;}.GKJYXHBIRB,.GKJYXHBORB{font-size:20px;}.GKJYXHBMRB.GKJYXHBD0{background:none;color:#aaa;cursor:pointer;text-decoration:underline;width:auto;height:auto;display:inline;vertical-align:baseline;margin-left:12px;}.GKJYXHBORB{padding-bottom:1px;display:none;}.GKJYXHBNRB .GKJYXHBERB .GKJYXHBORB{display:block;}.GKJYXHBNRB .GKJYXHBERB .GKJYXHBIRB{font-size:inherit;color:#777;}.GKJYXHBNRB .GKJYXHBERB .GKJYXHBMRB.GKJYXHBD0{margin-left:7px;}.GKJYXHBNRB .GKJYXHBBRB,.GKJYXHBNRB .GKJYXHBKRB,.GKJYXHBNRB .GKJYXHBJRB{display:none;}.GKJYXHBCRB .GKJYXHBOQB.GKJYXHBKN,.GKJYXHBCRB .GKJYXHBJQB.GKJYXHBKN{display:inline-block;background-color:transparent;background-image:none;border:none;font-size:13px;font-weight:normal;color:#222;-moz-box-shadow:none;-webkit-box-shadow:none;box-shadow:none;padding-left:0;}.GKJYXHBFRB{min-height:381px;}.GKJYXHBJRB{padding-bottom:15px;border-bottom:1px solid #eee;}.GKJYXHBLRB{color:inherit;text-decoration:none;}.GKJYXHBLRB:hover{border-bottom:1px #666 dashed;}.GKJYXHBDRB{margin-right:-1px;padding-bottom:20px;}.GKJYXHBG0{cursor:pointer;}.GKJYXHBE0{z-index:10000;position:relative;}.GKJYXHBF0{max-width:360px;z-index:10000;background:#fff;border:1px solid rgba(0, 0, 0, 0.2);-webkit-box-shadow:0 4px 16px rgba(0, 0, 0, 0.2);-moz-box-shadow:0 4px 16px rgba(0, 0, 0, 0.2);box-shadow:0 4px 16px rgba(0, 0, 0, 0.2);padding:16px;-webkit-border-radius:2px;-moz-border-radius:2px;border-radius:2px;}.GKJYXHBF0 .GKJYXHBH0{height:11px;width:17px;overflow:hidden;background:url(\"data:image/png;base64,iVBORw0KGgoAAAANSUhEUgAAABEAAAALCAYAAACZIGYHAAAAa0lEQVR42r3PwQnAIAxAUQfrWoVuUCh0sETPnh3DgJKag1BEwVjov+SUR2LMHznntk8AIp7ee7bW7stACIFjjCxTDQHAJYspJZbUUAVyzvxuGhoBLVRePZaAGhH1oXLiPQMMIS3QhVaAFnoADXVsQk0Y2DwAAAAASUVORK5CYII=\") -0px -0px  no-repeat;outline:none;display:block;position:absolute;top:-10px;right:30px;margin-left:-5px;width:17px;height:11px;z-index:10001;}.GKJYXHBD0{display:inline-block;vertical-align:middle;margin-bottom:1px;height:12px;width:12px;overflow:hidden;background:url(\"data:image/png;base64,iVBORw0KGgoAAAANSUhEUgAAAAwAAAAMCAYAAABWdVznAAAAsElEQVR42pWSQQrDIBBF7b4n7aGEiLhw4cJNT9CF2XgHb9CAq1JsnjQhSQ3SgQEZ/5/541eIb5RSLsMw3IwxD6XUk+RMTRzDWnvVWo/e+ymlVHLONTlTm4n3HUFKWUIIr3ISM+m9khjpnMtbAA3IA2mq8tDJ6F6AAStYDr29CWDA/k9oSWoRVkkswkI9Ag9Tl8YwPNg+a4yx5hLc0WBnHAW6tIybGwYwP46ffQ1ULJgPi8mn4tWpJ7YAAAAASUVORK5CYII=\") -0px -0px  no-repeat;}html{min-height:100%;}body{font:13px arial, sans-serif;color:#222;background:white;margin:0;position:relative;-moz-box-sizing:border-box;box-sizing:border-box;}body.GKJYXHBG4{font-family:\"Helvetica Neue\", arial, sans-serif;}.GKJYXHBP0{clear:both;width:100% !important;}.popupContent input[type=\"text\"],.GKJYXHBP0 input[type=\"text\"]{outline:0 none;color:#222;font-family:arial, sans-serif !important;font-size:13px;cursor:text !important;text-indent:-1px;}.GKJYXHBI1 input[type=\"text\"]{outline:0 none;color:#222;font-family:arial, sans-serif !important;font-size:13px;cursor:text !important;}.GKJYXHBG4 .popupContent input[type=\"text\"],.GKJYXHBG4 .GKJYXHBP0 input[type=\"text\"],.GKJYXHBG4 .GKJYXHBI1 input[type=\"text\"]{font-family:\"Helvetica Neue\", arial, sans-serif !important;}.GKJYXHBE1{vertical-align:top;}.GKJYXHBD1{width:650px;}.GKJYXHBC1{position:relative;width:100%;}.GKJYXHBN1{white-space:nowrap;height:40px;}.GKJYXHBC2{background-image:url('data:image/png;base64,iVBORw0KGgoAAAANSUhEUgAAAA4AAAARCAYAAADtyJ2fAAAAIElEQVR42mPQ1dX9j4wZiAXDUCOGusGhkSixUY0jWyMAyYbzwVCf5aIAAAAASUVORK5CYII=');background-repeat:no-repeat;display:inline-block;background-position:center;opacity:0.4;cursor:pointer;width:44px;height:40px;}.GKJYXHBH2{background-image:url('data:image/png;base64,iVBORw0KGgoAAAANSUhEUgAAABEAAAAOCAYAAADJ7fe0AAAAKUlEQVR42mNgGGzgPxZMjJr/VDeEYUiEDclOp4ohgzdciPEm7QwZGAAAkkE5x4psk38AAAAASUVORK5CYII=');background-repeat:no-repeat;display:inline-block;background-position:center;opacity:0.4;cursor:pointer;width:44px;height:40px;}.GKJYXHBG2{background-image:url('data:image/png;base64,iVBORw0KGgoAAAANSUhEUgAAABIAAAARCAYAAADQWvz5AAABBElEQVR42qWSOwrCQBiEozZiYWOvXiAvAkmb0gvkDHqLvYBnSBnQKxisbTyBrWAhBFSIWMUZMLJKslnNwpDl35kv/z4Mo2G4rmtTRtthWdaSagWJoqhnmuaJ4rxNNzNACorzNqBEAiV/QYIgGCKcS6CctdqA4zhTmLYwH/A94ptB9xJQIa5lLy8zWzLKK56gsFeEK8UMsx+dhWHYx2L8Ayhmpnartm3PYXooAA96tA4a5rUCtNKCCCG62PtZcS5nenTeTvAVvkBXuYat+TogIYU2nueNKc6lroQOaAfzDX9dVFzEgmv0KCG+749gSt8PrP4Bp/TWgrCFQVEUnaau6aFXrj0BB/eylUQQ4n8AAAAASUVORK5CYII=');background-repeat:no-repeat;display:inline-block;background-position:center;opacity:0.4;cursor:pointer;width:44px;height:40px;}.GKJYXHBC2.GKJYXHBP1,.GKJYXHBH2.GKJYXHBP1,.GKJYXHBG2.GKJYXHBP1,.GKJYXHBC2:hover,.GKJYXHBH2:hover,.GKJYXHBG2:hover{opacity:1;}.GKJYXHBD2{position:relative;}.GKJYXHBB1 .GKJYXHBD2,.GKJYXHBB1 .GKJYXHBE2{opacity:0.1;}.GKJYXHBB2{font-size:16px;text-align:center;color:#aaa;margin:50px 10px;}.GKJYXHBH1{width:100%;width:840px;}.GKJYXHBM1{vertical-align:top;min-width:126px;}.GKJYXHBF2{vertical-align:top;min-height:400px;width:340px;padding-left:17px;}.GKJYXHBP3 .GKJYXHBF2{width:230px;}.GKJYXHBA4 .GKJYXHBF2{width:180px;}.GKJYXHBE2{height:100%;}.GKJYXHBN0{padding-left:122px;width:auto;border-bottom:none;height:40px;display:inline-block;}.GKJYXHBO0{width:100%;border-bottom:solid 1px #ebebeb;margin-bottom:22px;}.GKJYXHBJ1{float:right;margin:6px 30px 8px 0;padding-right:20px;background-repeat:no-repeat !important;background-position:87% center !important;font-size:11px !important;min-width:38px !important;background-image:url('data:image/png;base64,iVBORw0KGgoAAAANSUhEUgAAAAcAAAAECAYAAABCxiV9AAAAP0lEQVR42mOYPHnyhEmTJv1HxyBxhv///zMBGWvRJNaCxBlAYNWqVZxAgWNQiWMgPgMymDlzpghQYhuIhokBAOJmNvPOHeVQAAAAAElFTkSuQmCC') !important;}.GKJYXHBK1 .GKJYXHBM0{display:none;}.GKJYXHBF1,.GKJYXHBL1{min-height:0 !important;padding-bottom:0 !important;}</style><style>.GKJYXHBBKC{color:#222;background:white;text-align:center;font-size:16px;padding:50px 0;border-top:1px solid #eee;}.GKJYXHBPTC{margin-top:12px;-webkit-box-sizing:border-box;-moz-box-sizing:border-box;box-sizing:border-box;z-index:2;position:relative;-webkit-transition:opacity 0.2s linear;-moz-transition:opacity 0.2s linear;-ms-transition:opacity 0.2s linear;-o-transition:opacity 0.2s linear;transition:opacity 0.2s linear;}.GKJYXHBNTC{margin-left:15px;color:#777;}.GKJYXHBOTC{background:#efc439;color:white;border-radius:2px;font-size:12px;padding:0 2px;line-height:14px;vertical-align:baseline;}table.GKJYXHBAUC{width:100%;padding:10px 0;text-align:center;}.GKJYXHBPTC{width:650px;border:1px solid #e5e5e5;font-size:13px;}div.GKJYXHBAUC{margin:15px 0;}.GKJYXHBNTC{font-size:10px;}.GKJYXHBEUC{margin-left:10px;color:#333;}.GKJYXHBCUC{text-align:center;border-right:1px solid #ebebeb;}.GKJYXHBCUC:last-child{border-right:none;}.GKJYXHBBUC{color:#15c;text-decoration:none;}.GKJYXHBBUC:hover{text-decoration:underline;}.GKJYXHBDUC{color:#333;}.GKJYXHBJX{width:100%;overflow:hidden;white-space:normal;position:relative;padding:0;z-index:2;}.GKJYXHBMX.GKJYXHBJX{cursor:auto;background-color:#fff !important;}.GKJYXHBLX .GKJYXHBKX{border-bottom:1px solid #ddd;border-top:none;}.GKJYXHBJX .GKJYXHBKX{padding-right:40px;line-height:18px;}.GKJYXHBJX .GKJYXHBPX{color:#888;background-color:#fafafa;}.GKJYXHBLX .GKJYXHBKX{padding-left:13px;font-size:13px;color:#8a8a8a;}.GKJYXHBMX .GKJYXHBKX{position:relative;white-space:normal;}.GKJYXHBJX .GKJYXHBKX{padding:12px;padding-right:30px;}.GKJYXHBJX .GKJYXHBPX{padding:6px 12px;}.GKJYXHBJX.GKJYXHBLX .GKJYXHBPX{padding-left:18px;}.GKJYXHBIX{display:inline-block;margin:6px 2px 0;vertical-align:bottom;width:16px;height:16px;}.GKJYXHBMX .GKJYXHBIX{margin-top:0;}.GKJYXHBOX{margin-right:8px;}.GKJYXHBAY{display:inline-block;padding-left:5px;color:#15c;cursor:pointer;}.GKJYXHBJX .GKJYXHBNX{position:absolute;top:13px;right:13px;}.GKJYXHBJX.GKJYXHBLX{font-size:13px;}.GKJYXHBKIC{padding-bottom:0;-moz-box-sizing:border-box;box-sizing:border-box;cursor:pointer;background:white;position:relative;}.GKJYXHBDGC{display:block;border-top:1px solid #ebebeb;border-right:1px solid #ebebeb;border-left:1px solid #ebebeb;padding:12px 12px 12px 13px;color:inherit;}.GKJYXHBDGC:active{color:inherit;}.GKJYXHBCGC:last-child,.GKJYXHBBEC:last-child,.GKJYXHBBEC.GKJYXHBCHC{border-bottom:1px solid #ebebeb;}.GKJYXHBBEC{color:#777;padding:18px 13px;border-left-color:#ebebeb;border-right-color:#ebebeb;}.GKJYXHBBEC .GKJYXHBAHC{color:#15c;}.GKJYXHBBEC .GKJYXHBAHC:hover{text-decoration:underline;}.GKJYXHBEEC{float:left;background-color:#e5e5e5;height:3px;position:relative;width:30px;margin-right:16px;bottom:-9px;}.GKJYXHBCEC{float:left;background-color:#e5e5e5;height:3px;position:relative;width:30px;margin-right:16px;top:2px;}.GKJYXHBCEC:after{border-left:15px solid rgba(229, 229, 229, 0);border-right:15px solid rgba(229, 229, 229, 0);content:\" \";height:0;left:0;position:absolute;width:0;}.GKJYXHBCEC:before{border-left:15px solid rgba(229, 229, 229, 0);border-right:15px solid rgba(229, 229, 229, 0);content:\" \";height:0;left:0;position:absolute;width:0;border-top:7px solid #e5e5e5;top:3px;}.GKJYXHBEEC:after{border-left:15px solid rgba(229, 229, 229, 0);border-right:15px solid rgba(229, 229, 229, 0);content:\" \";height:0;left:0;position:absolute;width:0;}.GKJYXHBEEC:before{border-left:15px solid rgba(229, 229, 229, 0);border-right:15px solid rgba(229, 229, 229, 0);content:\" \";height:0;left:0;position:absolute;width:0;border-bottom:7px solid #e5e5e5;bottom:3px;}.GKJYXHBCEC:after{border-top:7px solid #fff;top:0;}.GKJYXHBEEC:after{border-bottom:7px solid #fff;bottom:0;}.GKJYXHBBEC:hover .GKJYXHBCEC:after{border-top-color:#f7f7f7;}.GKJYXHBBEC:hover .GKJYXHBEEC:after{border-bottom-color:#f7f7f7;}.GKJYXHBDEC{margin-left:42px;}.GKJYXHBHJC{font-size:16px;color:#777;padding:15px 13px;margin-top:10px;cursor:default;border-right:1px solid #ccc;border-left:1px solid #ccc;border-top:1px solid #ccc;}.GKJYXHBMFC{color:inherit;text-decoration:none;}.GKJYXHBMFC:hover{border-bottom:1px #666 dashed;}.GKJYXHBGJC,.GKJYXHBHJC{background:white;}.GKJYXHBAGC{cursor:pointer;display:inline-block;position:relative;padding-left:5px;bottom:1px;font-size:13px;}.GKJYXHBAGC .GKJYXHBD0{background:none;color:#aaa;cursor:pointer;text-decoration:underline;width:auto;height:auto;margin-left:6px;font-weight:normal;}.GKJYXHBBIC .GKJYXHBDGC{border-top-color:#ebebeb;}.GKJYXHBLFC .GKJYXHBEGC{margin-bottom:10px;border-bottom:1px solid #ccc;}.GKJYXHBDIC{display:inline-block;vertical-align:top;padding-top:2px;width:19.2%;}.GKJYXHBFJC,.GKJYXHBIIC,.GKJYXHBNIC{display:inline-block;vertical-align:top;line-height:16px;overflow:hidden;white-space:nowrap;position:relative;}.GKJYXHBOIC{display:inline-block;vertical-align:top;}.GKJYXHBPGC{display:inline-block;vertical-align:top;width:19.2%;}.GKJYXHBLGC,.GKJYXHBMGC{display:inline-block;vertical-align:top;}.GKJYXHBA2 .GKJYXHBDIC{margin-top:-1px;width:21.2%;}.GKJYXHBA2 .GKJYXHBPGC,.GKJYXHBPJC .GKJYXHBIIC:after{display:none;}.GKJYXHBKFC .GKJYXHBDIC{visibility:hidden;}.GKJYXHBOFC:hover .GKJYXHBKFC .GKJYXHBDIC{visibility:visible;}.GKJYXHBHGC{line-height:16px;overflow:hidden;white-space:nowrap;}.GKJYXHBOIC{line-height:16px;overflow:hidden;white-space:nowrap;position:relative;}.GKJYXHBEJC{margin-right:20px;overflow:hidden;}.GKJYXHBPJC .GKJYXHBIFC{position:relative;}.GKJYXHBFJC:after,.GKJYXHBIIC:after,.GKJYXHBNIC:after,.GKJYXHBOIC:after,.GKJYXHBPJC .GKJYXHBIFC:after{content:\"\";position:absolute;top:0;right:0;height:100%;width:20px;background-image:-webkit-gradient(linear, left top, right top, from(rgba(255, 255, 255, 0)), to(#fff));background-image:-moz-linear-gradient(left, rgba(255, 255, 255, 0), #fff);background-image:-ms-linear-gradient(left, rgba(255, 255, 255, 0), #fff);background-image:linear-gradient(left, rgba(255, 255, 255, 0), #fff);border-right-color:white;}.GKJYXHBHFC .GKJYXHBFJC:after,.GKJYXHBHFC .GKJYXHBIIC:after,.GKJYXHBHFC .GKJYXHBNIC:after,.GKJYXHBHFC .GKJYXHBOIC:after,.GKJYXHBHFC.GKJYXHBPJC .GKJYXHBIFC:after,.GKJYXHBOFC:hover .GKJYXHBFJC:after,.GKJYXHBOFC.GKJYXHBNFC .GKJYXHBFJC:after,.GKJYXHBOFC:hover .GKJYXHBIIC:after,.GKJYXHBOFC.GKJYXHBNFC .GKJYXHBIIC:after,.GKJYXHBOFC:hover .GKJYXHBOIC:after,.GKJYXHBOFC.GKJYXHBNFC .GKJYXHBOIC:after,.GKJYXHBOFC:hover.GKJYXHBPJC .GKJYXHBIFC:after,.GKJYXHBOFC.GKJYXHBNFC.GKJYXHBPJC .GKJYXHBIFC:after{background-image:-webkit-gradient(linear, left top, right top, from(rgba(247, 247, 247, 0)), to(#f7f7f7));background-image:-moz-linear-gradient(left, rgba(247, 247, 247, 0), #f7f7f7);background-image:-ms-linear-gradient(left, rgba(247, 247, 247, 0), #f7f7f7);background-image:linear-gradient(left, rgba(247, 247, 247, 0), #f7f7f7);border-right-color:#f7f7f7;}.GKJYXHBPEC .GKJYXHBFJC:after,.GKJYXHBPEC .GKJYXHBIIC:after,.GKJYXHBPEC .GKJYXHBNIC:after,.GKJYXHBPEC .GKJYXHBOIC:after,.GKJYXHBPEC .GKJYXHBPJC .GKJYXHBIFC:after{background-image:-webkit-gradient(linear, left top, right top, from(rgba(255, 255, 255, 0)), to(#fff)) !important;background-image:-moz-linear-gradient(left, rgba(255, 255, 255, 0), #fff) !important;background-image:-ms-linear-gradient(left, rgba(255, 255, 255, 0), #fff) !important;background-image:linear-gradient(left, rgba(255, 255, 255, 0), #fff) !important;border-right-color:white !important;}.GKJYXHBFJC{width:39.2%;}.GKJYXHBLGC{width:59.8%;}.GKJYXHBPJC .GKJYXHBFJC{width:33%;}.GKJYXHBIIC{width:20.5%;}.GKJYXHBPJC .GKJYXHBIIC{width:52%;}.GKJYXHBOIC{width:21.1%;}.GKJYXHBNIC{width:22.1%;}.GKJYXHBMGC{width:20.7%;}.GKJYXHBA2 .GKJYXHBMGC{width:27.8%;}.GKJYXHBCIC{font-weight:bold;color:#000;font-size:18px;}.GKJYXHBIJC{white-space:nowrap;overflow-x:hidden;text-overflow:ellipsis;}.GKJYXHBBHC .GKJYXHBCIC{font-size:15px;line-height:21px;}.GKJYXHBIJC{font-size:15px;line-height:21px;padding-top:0;margin-top:-4px;}.GKJYXHBA2 .GKJYXHBIJC,.GKJYXHBMEC{white-space:normal;}.GKJYXHBIEC{font-size:11px;line-height:9px;color:#aaa;padding-top:3px;}.GKJYXHBGIC,.GKJYXHBJGC{font-size:11px;line-height:9px;color:#aaa;}.GKJYXHBIEC:hover{text-decoration:underline;}.GKJYXHBJGC .GKJYXHBD0{background:none;width:auto;height:auto;cursor:pointer;text-decoration:underline;margin-left:0;line-height:11px;}.GKJYXHBJEC{float:left;width:35px;height:35px;margin-right:12px;}.GKJYXHBA2 .GKJYXHBJEC{width:16px;height:16px;margin-right:6px;margin-top:2px;}.GKJYXHBLGC .GKJYXHBJEC{margin-right:11px;margin-left:1px;}.GKJYXHBEJC,.GKJYXHBIFC,.GKJYXHBMIC{line-height:19px;}.GKJYXHBHIC{color:#777;}.GKJYXHBJIC{margin-left:47px;}.GKJYXHBA2 .GKJYXHBJIC{margin-left:22px;}.GKJYXHBIIC .GKJYXHBHIC{color:#aaa;max-width:50px;overflow:visible;}.GKJYXHBNIC .GKJYXHBIFC,.GKJYXHBKEC,.GKJYXHBFGC{color:#aaa;}.GKJYXHBFJC .GKJYXHBKEC,.GKJYXHBOIC .GKJYXHBFGC{max-width:50px;overflow:visible;}.GKJYXHBNHC{margin:0 0 0 22px;}.GKJYXHBOHC{line-height:10px;margin-bottom:10px;}.GKJYXHBKEC{margin-left:28px;white-space:nowrap;color:#777;}.GKJYXHBA2 .GKJYXHBKEC{margin-left:22px;}.GKJYXHBKEC span{color:#aaa;}.GKJYXHBLEC{line-height:1.5;text-align:left;padding:7px 0;}.GKJYXHBNEC{float:right;margin-right:6px;z-index:1;position:relative;}.GKJYXHBA2 .GKJYXHBNEC{float:left;}.GKJYXHBKJC{float:right;margin-top:3px;margin-right:6px;z-index:1;position:relative;}.GKJYXHBPJC .GKJYXHBKJC{float:none;display:inline-block;margin-top:3px;margin-right:2px;}.GKJYXHBLJC{height:10px;width:14px;overflow:hidden;background:url(\"data:image/png;base64,iVBORw0KGgoAAAANSUhEUgAAAA4AAAAKCAYAAACE2W/HAAAAg0lEQVR42mNgwAQiQOwGxD5Q7AYVwwl0gXgSEO/HgSdB1aCAVCQF04E4DsnGOKgYTD4VpkkAiFdCsRkeF5kgqROACYoBsRCULQvEWVCnTYKyZaFyQlC1GMAZiHdAnbQFivdDxZzxBRDItG60QNCFikkyEAlUoJgkwI0UENykahbD5zwA1gEbl0JMjtoAAAAASUVORK5CYII=\") -0px -0px  no-repeat;}.GKJYXHBOJC{height:10px;width:14px;overflow:hidden;background:url(\"data:image/png;base64,iVBORw0KGgoAAAANSUhEUgAAAA4AAAAKCAYAAACE2W/HAAAAiElEQVR42pXQMQqAIBgFYJdKcIgaioIgorXBpsbA23SVtm7R3tDW1XrDE4xK6sEH8vw1SYh7IsihpJzda2LQML7QnLmkcQZ6qJ0v1uzsfmMPBTBQ6nlR4swFtpQQcl3BBAtN7ARn5NOtBnY4YKODnfH9oAxm6JyuY1eIj2npVxSspP4eznzPOwFFtRBCb3FnsgAAAABJRU5ErkJggg==\") -0px -0px  no-repeat;}.GKJYXHBMJC{float:left;height:11px;width:14px;overflow:hidden;background:url(\"data:image/png;base64,iVBORw0KGgoAAAANSUhEUgAAAA4AAAALCAYAAABPhbxiAAAA+UlEQVR42mNgwAFUVFTYgRQzAyGgpaXFpqysHK6kpDQPiC8A8X0gvgcUOwXEE4FsF2ym2wMlj0AVg/AJIF4HxJuQDLkPVLMBiFXAmlRVVRNBJgPxHSBu09TUVEUzlwkobgrE86EGXAZqtgLZlgRknFNQUDCH2u4GMgBkG1B8JZCuU1NT0wfJQb1yBajGEuZUUQ0NDWGgxAwk595HcuJdIF0JCgcglkBxD1DCC6rwPMgV6urqeiBXADWVAcVuAfENoLeUsIYsyCkg22VkZDiBtD/I2SBxoGt0gXLWhGIGFBiXoRjkgp0MxAKgkxKgmm6AQ5AUANVsg0seAPGuTftTAtVpAAAAAElFTkSuQmCC\") -0px -0px  no-repeat;margin-top:6px;}.GKJYXHBGHC{float:left;height:11px;width:14px;overflow:hidden;background:url(\"data:image/png;base64,iVBORw0KGgoAAAANSUhEUgAAAA4AAAALCAYAAABPhbxiAAAA50lEQVR42o2R2QqCYBCFtS7yoigqWgjCfSUwpCAKkhDbrn0eX71zRE2xrIGD/zJn5vtHQfgSSZJ08RGFX5GmaUdV1bVpmjtd12Osn5RhGBH2W0VR5g2Tpmkz6FIkQxH2R3xP1SLcW5Y1yExYKPnhA9qUF+8QPc8bg2TPPBS6Yj3NjKxq2/aEWa7rLlgg73aAPN/3R7zjU0Byy4wMWZYlJPRwGFSwasJbHc4hDEOpxuM4zjJHiUnBLqRAdZvPQNE7aPofJ0sUduavgGFFbJ4HQTAs8VpC5AConOAs/BvFpIn3T6eGuc30AhIiNgm/DqkcAAAAAElFTkSuQmCC\") -0px -0px  no-repeat;margin-top:6px;}.GKJYXHBPFC{float:left;height:7px;width:13px;overflow:hidden;background:url(\"data:image/png;base64,iVBORw0KGgoAAAANSUhEUgAAAA0AAAAHCAYAAADTcMcaAAAASElEQVR42mNgQAJqamrSioqKS5SUlK4C8X1kzIALQDXcJ4QZFBQUEmEYqOkWLoWqqqpRMMxAjMkYziPLJrL8hAxUVFRkiAk9AIsBUE44GAn9AAAAAElFTkSuQmCC\") -0px -0px  no-repeat;margin-top:8px;}.GKJYXHBEHC{float:left;height:7px;width:13px;overflow:hidden;background:url(\"data:image/png;base64,iVBORw0KGgoAAAANSUhEUgAAAA0AAAAHCAYAAADTcMcaAAAARElEQVR42mNgQALGxsZc8vLylkpKSl4qKiq+yJgBFwBpQFeMDTPIyckpwTAQ+OBSqKmpKQ/DDMSYjOE8smwiy0/khB4AMFUvlzdpRRYAAAAASUVORK5CYII=\") -0px -0px  no-repeat;margin-top:8px;}.GKJYXHBMHC{float:left;height:15px;width:13px;overflow:hidden;background:url(\"data:image/png;base64,iVBORw0KGgoAAAANSUhEUgAAAA0AAAAPCAYAAAA/I0V3AAAAfklEQVR42mNgQAIqKioyDFgALnEGBQUFCyUlpfsgmhhxnAoIasCiMRGnBhkZGQdFRcVjIAWEMFDdcZB6BhCDGA3IGhlgHAYiAFwtNk1A02aJiIhIkqQJKnZVXl4+CchlJkXTfWjotdHOJrL8RDD0yIonaWlpR2I1glIOKEUAAEmUfy1YKveZAAAAAElFTkSuQmCC\") -0px -0px  no-repeat;margin-top:3px;}.GKJYXHBFHC{float:left;height:15px;width:13px;overflow:hidden;background:url(\"data:image/png;base64,iVBORw0KGgoAAAANSUhEUgAAAA0AAAAPCAYAAAA/I0V3AAAArUlEQVR42rVSywoCMQwMePMgggelBenr1LM3j11YsOr+/9+YWVIp6xaqYGBIk5lpaVMiiRjjyRizp5VA31p7bBHPEMKu7qNGv7XhW1CMy7oZSqmtcy4zzsioP0Ra6wMfPfJuE8DrSUwzUFfcCD0xkRi3QhRjnQugYwwwZTSoI8SYV03e+yunzVcmudeds+k2FZKf+8H58r+TfrpTz+sNyzm1IHNK84+QAecOJOhfHChJ75yzOKQAAAAASUVORK5CYII=\") -0px -0px  no-repeat;margin-top:3px;}.GKJYXHBPIC{vertical-align:text-top;font-size:10px;line-height:10px;}.GKJYXHBBFC .GKJYXHBCIC{color:#093;}.GKJYXHBKHC .GKJYXHBCIC{color:#dd4b39 !important;}.GKJYXHBLHC .GKJYXHBCIC{text-decoration:line-through;}.GKJYXHBHFC .GKJYXHBDGC,.GKJYXHBOFC.GKJYXHBNFC,.GKJYXHBOFC:hover,.GKJYXHBOFC:hover .GKJYXHBOFC,.GKJYXHBOFC.GKJYXHBNFC .GKJYXHBOFC,.GKJYXHBHFC .GKJYXHBOFC:hover{background-color:#f7f7f7;}.GKJYXHBHJC.GKJYXHBOFC:hover{cursor:default;background-color:white;}.GKJYXHBOFC:hover .GKJYXHBCIC{text-decoration:underline;}.GKJYXHBKFC.GKJYXHBDGC{border-left-color:#cfcece;border-right-color:#cfcece;}.GKJYXHBJHC.GKJYXHBDGC{border-top-color:#cfcece;border-left-color:#cfcece;border-right-color:#cfcece;}.GKJYXHBAIC .GKJYXHBDGC{border-top-color:#cfcece;}.GKJYXHBLFC .GKJYXHBGJC .GKJYXHBDGC{border-left-color:#ccc;border-right-color:#ccc;}.GKJYXHBPEC .GKJYXHBDGC{border:none !important;background:white !important;color:#222 !important;padding-top:5px;padding-bottom:12px;}.GKJYXHBAJC{width:330px;height:7px;margin:5px;}.GKJYXHBDJC,.GKJYXHBCJC,.GKJYXHBBJC{display:inline-block;float:left;height:100%;}.GKJYXHBCJC{background:#929292;border-top:1px solid #c9c9c9;border-bottom:1px solid #c9c9c9;height:5px;}.GKJYXHBBJC{height:7px;width:4px;overflow:hidden;background:url(\"data:image/png;base64,iVBORw0KGgoAAAANSUhEUgAAAAQAAAAHCAIAAACgB3uHAAAAKUlEQVQYGR3BQQ0AMBDDsPJ/htVwHJBMir3Ly1SijpgBBpghU4m6l8sH6/1DD7uuWI4AAAAASUVORK5CYII=\") -0px -0px  no-repeat;background-repeat:repeat-x;}.GKJYXHBKGC{margin:0 13px 24px;line-height:18px;}.GKJYXHBOGC{border-top:#ebebeb 1px dashed;border-bottom:#ebebeb 1px dashed;}.GKJYXHBA2 .GKJYXHBOGC{margin-left:22px;}.GKJYXHBOGC{margin-left:19.2%;}.GKJYXHBPGC{white-space:normal;line-height:17px;}.GKJYXHBLGC,.GKJYXHBMGC{white-space:normal;}.GKJYXHBKGC:last-child{margin-bottom:0;}.GKJYXHBKGC .GKJYXHBEJC{white-space:nowrap;font-weight:bold;}.GKJYXHBKGC .GKJYXHBIFC{white-space:nowrap;}.GKJYXHBJFC{color:#777;padding-left:48px;}.GKJYXHBGFC,.GKJYXHBFEC{padding-left:48px;color:#777;}.GKJYXHBJJC{padding-left:48px;}.GKJYXHBJFC .GKJYXHBJJC{padding-left:0;margin-left:0;}.GKJYXHBA2 .GKJYXHBJFC,.GKJYXHBA2 .GKJYXHBGFC,.GKJYXHBA2 .GKJYXHBFEC,.GKJYXHBA2 .GKJYXHBJJC{padding-left:22px;}.GKJYXHBA2 .GKJYXHBJFC .GKJYXHBJJC{padding-left:0;margin-left:0;}.GKJYXHBA2 .GKJYXHBKGC .GKJYXHBIFC,.GKJYXHBA2 .GKJYXHBGGC{float:right;margin-right:6px;}.GKJYXHBNJC{color:#777;}.GKJYXHBDHC{font-size:11px;line-height:11px;margin-top:7px;margin-left:21px;color:#777;}.GKJYXHBAKC{font-size:11px;line-height:11px;margin-top:7px;margin-left:21px;color:blackTextColor;}.GKJYXHBA2 .GKJYXHBDHC,.GKJYXHBA2 .GKJYXHBAKC{font-size:inherit;display:inline-block;margin-left:0;color:#777;}.GKJYXHBGEC{cursor:pointer;clear:both;position:relative;padding-top:10px;}.GKJYXHBHEC{text-decoration:none;color:white;top:10px;left:5px;position:absolute;text-shadow:1px 0 2px #000, -1px 0 2px #000;}.GKJYXHBNGC{color:#777;width:74.1%;padding-top:10px;padding-bottom:10px;display:inline-block;vertical-align:top;}.GKJYXHBHGC{width:20.7%;padding-top:10px;padding-bottom:10px;display:inline-block;vertical-align:top;}.GKJYXHBA2 .GKJYXHBNGC{margin-left:0;width:72.2%;}.GKJYXHBA2 .GKJYXHBHGC{width:27.8%;}.GKJYXHBIGC,.GKJYXHBJJC{color:#dd4b39;}.GKJYXHBA2 .GKJYXHBIGC{display:block;}.GKJYXHBA2 .GKJYXHBJJC{margin-left:0;}.GKJYXHBFEC .GKJYXHBJJC{margin-left:0;padding-left:0;}.GKJYXHBLIC{height:11px;width:12px;overflow:hidden;background:url(\"data:image/png;base64,iVBORw0KGgoAAAANSUhEUgAAAAwAAAALCAYAAABLcGxfAAAAoUlEQVR42mNgwAIMDQ31jYyM9BiIBXp6ej0gTJTi0NBQZl1d3ecgDGITY7oHUPF/EAaxsbnXBCh5HSj5Hkj/gClGwj+gctdBasGa9PX11YCCV7Aohtl0BaQG3SncQLwZi+LNIDms7gcqmITFhkk4PQyUvA019SwIQzXcxqoYGFEqQEW/gG6tc3BwYAFhEBskBpLD0GBgYOAAimFssQ6Sg/EBa1tQncBCiuoAAAAASUVORK5CYII=\") -0px -0px  no-repeat;position:absolute;right:16px;top:13px;z-index:2;}.GKJYXHBOEC .GKJYXHBCGC{z-index:2;position:relative;-webkit-transition:-webkit-transform 500ms ease;-moz-transition:-moz-transform 500ms ease;-ms-transition:-ms-transform 500ms ease;-o-transition:-o-transform 500ms ease;transition:transform 500ms ease;-webkit-transition:-webkit-transform 500ms ease;-moz-transition:-moz-transform 500ms ease;-ms-transition:-ms-transform 500ms ease;-o-transition:-o-transform 500ms ease;transition:transform 500ms ease;}.GKJYXHBOEC .GKJYXHBCGC.GKJYXHBAFC{z-index:1;}.GKJYXHBPHC .GKJYXHBCGC{z-index:2;position:relative;}.GKJYXHBJKC{padding-top:40px;}.GKJYXHBMKC{position:relative;}.GKJYXHBJKC.GKJYXHBLKC{padding-top:0;}.GKJYXHBFLC{background:#4285f4;color:white !important;}.GKJYXHBGLC{background:#4285f4;color:white !important;border-top:2px solid #4285f4;position:relative;}.GKJYXHBCLC{background:#4285f4;color:#d4dffb !important;}.GKJYXHBELC{overflow:hidden;margin-right:35px;margin-left:75px;vertical-align:bottom;}.GKJYXHBELC:after{content:\"\";position:absolute;top:0;right:35px;height:100%;width:20px;background-image:-webkit-gradient(linear, left top, right top, from(rgba(96, 155, 228, 0)), to(#4285f4));background-image:-moz-linear-gradient(left, rgba(96, 155, 228, 0), #4285f4);background-image:-ms-linear-gradient(left, rgba(96, 155, 228, 0), #4285f4);background-image:linear-gradient(left, rgba(96, 155, 228, 0), #4285f4);}.GKJYXHBKKC{display:inline-block;}.GKJYXHBOKC{position:absolute;z-index:2;top:18px;right:15px;}.GKJYXHBBLC{display:inline-block;margin-left:8px;}.GKJYXHBPKC{position:relative;}.GKJYXHBNKC{border-top:1px solid #ebebeb;}.GKJYXHBIKC{color:white;background:#4285f4;padding:19px 16px 0 75px;position:relative;font-size:20px;font-weight:normal;}.GKJYXHBALC .GKJYXHBIKC{margin-top:-18px;}.GKJYXHBIKC:before{content:\"\";position:absolute;top:17px;z-index:2;left:17px;height:45px;width:45px;overflow:hidden;background:url(\"data:image/png;base64,iVBORw0KGgoAAAANSUhEUgAAAC0AAAAtCAYAAAA6GuKaAAAB+0lEQVR42tWZO27CQBCG3SC6NEggwSm4RSruwEHQHgCO4FzDUkpERWP6VKGijFwgQ+PJLBoREz9nZzDekX4h2ezsp9V6dx5BIDQAmKCWqBAVoWLUCXWl35ieh/S/SfAKw4lnqBVqj8qAZxmNs+NnXcCOUGtUCjqWkr/RM2AHtDIJPMcS8j/QAh6jdtCN2XnGUuA56gjdmp1v7gq8QJ3hNWbnXbis8KuA8+Bzzh4+Qj/s2LjH6ZSQfHQX1HeJLsKPc1AHvRKuzLbC71bod1V3cSQ9hU5KLyC6maCn0NbWZbFE2nPo9CFWUdjLXUA/7m2KunyA3ufj4cwT6OwWj1NgDp5AW1tahx+eQYcBpUI+QUfW4cFh4BdqI4TekB+uxQEln1zgKcEYR2hDz6cO4KeAsmY2cA7IMKHNv3dc8CtnpQvAJeBN0KbiPQf8ttJxyz9/ooY1EaJpgDY1Y4fkv/We5pweUQP4O+d5Djjinh4h98ipA2emdUOHIzd0vRHF4I7A9xvRNfZwBhcAZ/daoCDKY4MLgP+iPIV4ujW4ELgQT0szl0ZwBeC0UGVVyBErwRWAizmiYjZeAFcCTirLwUq54h1cCbi67qFUYcqDvykB7xrr1oq1vJ9OanneVk29rU972wnwtufibXfL2z6i1x3blr3xAzz2xg+g3Bv/BRAJJKnUChNWAAAAAElFTkSuQmCC\") -0px -0px  no-repeat;}.GKJYXHBCLC{color:#777;padding-right:15px;padding-left:14px;cursor:pointer;z-index:1;position:relative;display:inline-block;margin-left:61px;height:37px;line-height:25px;}.GKJYXHBDLC{background-image:url('data:image/png;base64,iVBORw0KGgoAAAANSUhEUgAAAAcAAAAECAYAAABCxiV9AAAAP0lEQVR42mOYPHnyhEmTJv1HxyBxhv///zMBGWvRJNaCxBlAYNWqVZxAgWNQiWMgPgMymDlzpghQYhuIhokBAOJmNvPOHeVQAAAAAElFTkSuQmCC') !important;font-weight:normal;font-size:inherit;display:inline-block;vertical-align:middle;line-height:normal;margin-top:0;margin-bottom:5px;}.GKJYXHBCLC .GKJYXHBDLC{background-image:url('data:image/png;base64,iVBORw0KGgoAAAANSUhEUgAAAAcAAAAECAYAAABCxiV9AAAAQ0lEQVR42mO4++zvhDvP/vxHxyBxhv///zPdff5nLYoEkA8SZwCBx///c955/ucYWBJIg/gMyODZp/8iQB3bQDRMDAA7/EtId/tLNQAAAABJRU5ErkJggg==') !important;}.GKJYXHBGX{color:#ccc;font-style:italic;}.GKJYXHBCX{color:#000;font-size:15px;padding-top:42px;}.GKJYXHBFX{font-weight:bold;}.GKJYXHBEX{color:#15c;cursor:pointer;}.GKJYXHBEX:hover{text-decoration:underline;}.GKJYXHBHX{padding:11px;color:#dd4b39;font-weight:bold;font-size:11px;}.GKJYXHBBNC{display:block;background:white;border-top:1px solid #e6e6e6;border-right:1px solid transparent;border-left:1px solid transparent;text-decoration:none;position:relative;padding:12px 12px 11px 13px;border-color:#e6e6e6;color:#777;}.GKJYXHBBNC:active{color:#777;}.GKJYXHBBNC:hover{background-color:#f7f7f7;}.GKJYXHBHNC{border-bottom:1px solid #e6e6e6;}.GKJYXHBPHC .GKJYXHBBNC{z-index:2;position:relative;}.GKJYXHBOEC .GKJYXHBBNC{-webkit-transition:-webkit-transform 500ms ease;-moz-transition:-moz-transform 500ms ease;-ms-transition:-ms-transform 500ms ease;-o-transition:-o-transform 500ms ease;transition:transform 500ms ease;}.GKJYXHBJNC{display:inline-block;vertical-align:top;padding-top:2px;width:19.2%;}.GKJYXHBKNC{display:inline-block;vertical-align:top;}.GKJYXHBMNC{font-weight:bold;font-size:18px;}.GKJYXHBGNC .GKJYXHBMNC{font-size:15px;}.GKJYXHBBNC:hover .GKJYXHBMNC{text-decoration:underline;}.GKJYXHBNNC{font-size:11px;line-height:9px;color:#aaa;}.GKJYXHBKNC{-moz-box-sizing:border-box;box-sizing:border-box;white-space:normal;overflow-y:hidden;line-height:16px;padding-left:48px;width:80.8%;height:36px;}.GKJYXHBPNC{right:80.8%;font-weight:bold;position:absolute;text-align:right;margin-right:-45px;font-size:12px;line-height:30px;border-right:1px dashed #b8b8b8;padding-right:10px;max-width:15%;}.GKJYXHBAOC{font-weight:bold;}.GKJYXHBBOC{display:inline;}.GKJYXHBONC,.GKJYXHBBOC{line-height:19px;}.GKJYXHBFNC{color:#ccc !important;}.GKJYXHBLNC{color:#aaa;}.GKJYXHBINC{border-bottom:1px solid #ebebeb;}</style><script type=\"text/javascript\" charset=\"UTF-8\" src=\"https://maps.gstatic.com/cat_js/maps-api-v3/api/js/17/17/intl/es_ALL/%7Bcommon,map,overlay,util,marker,poly%7D.js\"></script><script type=\"text/javascript\" charset=\"UTF-8\" src=\"https://maps.gstatic.com/cat_js/maps-api-v3/api/js/17/17/intl/es_ALL/%7Bonion%7D.js\"></script><script type=\"text/javascript\" charset=\"UTF-8\" src=\"https://maps.gstatic.com/cat_js/maps-api-v3/api/js/17/17/intl/es_ALL/%7Bcontrols%7D.js\"></script><script type=\"text/javascript\" charset=\"UTF-8\" src=\"https://maps.gstatic.com/cat_js/maps-api-v3/api/js/17/17/intl/es_ALL/%7Bstats%7D.js\"></script><script type=\"text/javascript\" charset=\"UTF-8\" src=\"https://maps.googleapis.com/maps/api/js/AuthenticationService.Authenticate?1shttps%3A%2F%2Fwww.google.es%2Fflights%2F%23search%3Bf%3DBCN%3Bt%3DMAD%3Bd%3D2014-08-15%3Br%3D2014-08-20%3Btt%3Do%3Bsel%3DBCNMAD0VY1019&amp;2sgoogle-travel&amp;5e1&amp;callback=_xdc_._et72rk&amp;token=118321\"></script><script type=\"text/javascript\" charset=\"UTF-8\" src=\"https://maps.gstatic.com/cat_js/maps-api-v3/api/js/17/17/intl/es_ALL/%7Busage%7D.js\"></script></head><body style=\"min-height: 465px; padding-bottom: 97px;\">\n",
        "<script type=\"text/javascript\" language=\"javascript\">(function() {  var script = document.createElement('script');  script.type = 'text/javascript';  script.src = 'https://ssl.gstatic.com/feedback/api.js';  document.body.appendChild(script);})();</script><script type=\"text/javascript\" src=\"https://ssl.gstatic.com/feedback/api.js\" gapi_processed=\"true\"></script>\n",
        "<div id=\"gb\" class=\"gb_Ic gb_yb\" style=\"min-width: 980px;\"><div style=\"behavior:url(#default#homePage) url(#default#userData);background-color:#5a5a5a\" data-ved=\"0CAEQ_EE\" class=\"gb_qb gb_tb gb_Ea\"><div><span style=\"color:#ffffff\">Las cookies nos permiten ofrecer nuestros servicios. Al utilizar nuestros servicios, aceptas el uso que hacemos de las cookies.</span><a style=\"color:#ffffff;background-color:#303030\" data-ved=\"0CAIQ_UE\" role=\"button\" tabindex=\"0\" class=\"gb_sb gb_cb\">M\u00e1s informaci\u00f3n</a><a style=\"color:#ffffff;background-color:#303030\" data-ved=\"0CAMQ_kE\" role=\"button\" tabindex=\"0\" class=\"gb_sb gb_rb\">Entendido</a></div></div><div class=\"gb_Pb gb_Mc\"><div class=\"gb_5 gb_Mc gb_f gb_Lc\" style=\"min-width: 155px;\"><div class=\"gb_vc gb_Mc gb_f\" style=\"min-width: 155px;\"><div id=\"gbsfw\" class=\"gb_D\"></div><div id=\"gbwa\" class=\"gb_z gb_db gb_f\"><div class=\"gb_Sa\"><a data-ved=\"0CAUQvSc\" aria-expanded=\"false\" aria-haspopup=\"true\" title=\"Aplicaciones\" href=\"http://www.google.es/intl/es/options/\" class=\"gb_A gb_Na\"></a><div class=\"gb_fa\"></div><div class=\"gb_ea\"></div></div><div tabindex=\"0\" aria-hidden=\"true\" role=\"region\" aria-label=\"Aplicaciones\" class=\"gb_Rb gb_D gb_N\"><ul aria-dropeffect=\"move\" class=\"gb_F gb_x\"><li aria-grabbed=\"false\" class=\"gb_m\"><a data-ved=\"0CAYQwS4oAA\" data-pid=\"119\" href=\"https://plus.google.com/?gpsrc=ogpy0\" id=\"gb119\" class=\"gb_c\"><span style=\"background-position:0 -259px\" class=\"gb_q\"></span><span class=\"gb_r\">+T\u00fa</span></a></li><li aria-grabbed=\"false\" class=\"gb_m\"><a data-pid=\"1\" href=\"https://www.google.es/webhp?ei=NCZJVJHjLserafCrgYAJ&amp;ved=0CAcQqS4oAQ\" id=\"gb1\" class=\"gb_c\"><span style=\"background-position:0 -190px\" class=\"gb_q\"></span><span class=\"gb_r\">B\u00fasqueda</span></a></li><li aria-grabbed=\"false\" class=\"gb_m\"><a data-ved=\"0CAgQwS4oAg\" data-pid=\"36\" href=\"https://www.youtube.com/?gl=ES\" id=\"gb36\" class=\"gb_c\"><span style=\"background-position:-70px -1116px\" class=\"gb_q\"></span><span class=\"gb_r\">YouTube</span></a></li><li aria-grabbed=\"false\" class=\"gb_m\"><a data-ved=\"0CAkQwS4oAw\" data-pid=\"8\" href=\"https://maps.google.es/maps?hl=es\" id=\"gb8\" class=\"gb_c\"><span style=\"background-position:0 -466px\" class=\"gb_q\"></span><span class=\"gb_r\">Maps</span></a></li><li aria-grabbed=\"false\" class=\"gb_m\"><a data-ved=\"0CAoQwS4oBA\" data-pid=\"78\" href=\"https://play.google.com/?hl=es\" id=\"gb78\" class=\"gb_c\"><span style=\"background-position:0 -328px\" class=\"gb_q\"></span><span class=\"gb_r\">Play</span></a></li><li aria-grabbed=\"false\" class=\"gb_m\"><a data-pid=\"5\" href=\"https://news.google.es/nwshp?hl=es&amp;ei=NCZJVJHjLserafCrgYAJ&amp;ved=0CAsQqS4oBQ\" id=\"gb5\" class=\"gb_c\"><span style=\"background-position:-69px -770px\" class=\"gb_q\"></span><span class=\"gb_r\">Noticias</span></a></li><li aria-grabbed=\"false\" class=\"gb_m\"><a data-ved=\"0CAwQwS4oBg\" data-pid=\"23\" href=\"https://mail.google.com/mail/\" id=\"gb23\" class=\"gb_c\"><span style=\"background-position:0 -836px\" class=\"gb_q\"></span><span class=\"gb_r\">Gmail</span></a></li><li aria-grabbed=\"false\" class=\"gb_m\"><a data-ved=\"0CA0QwS4oBw\" data-pid=\"49\" href=\"https://drive.google.com/\" id=\"gb49\" class=\"gb_c\"><span style=\"background-position:0 -397px\" class=\"gb_q\"></span><span class=\"gb_r\">Drive</span></a></li><li aria-grabbed=\"false\" class=\"gb_m\"><a data-ved=\"0CA4QwS4oCA\" data-pid=\"24\" href=\"https://www.google.com/calendar\" id=\"gb24\" class=\"gb_c\"><span style=\"background-position:0 -905px\" class=\"gb_q\"></span><span class=\"gb_r\">Calendar</span></a></li></ul><a href=\"http://www.google.es/intl/es/options/\" class=\"gb_C gb_Zb\" aria-expanded=\"false\" aria-hidden=\"true\">M\u00e1s</a><span class=\"gb_H\"></span><ul aria-dropeffect=\"move\" class=\"gb_F gb_y\" aria-hidden=\"true\"><li aria-grabbed=\"false\" class=\"gb_m\"><a data-ved=\"0CA8QwS4oCQ\" data-pid=\"51\" href=\"https://translate.google.es/?hl=es\" id=\"gb51\" class=\"gb_c\"><span style=\"background-position:0 -974px\" class=\"gb_q\"></span><span class=\"gb_r\">Traductor</span></a></li><li aria-grabbed=\"false\" class=\"gb_m\"><a data-pid=\"10\" href=\"http://books.google.es/bkshp?hl=es&amp;ei=NCZJVJHjLserafCrgYAJ&amp;ved=0CBAQqS4oCg\" id=\"gb10\" class=\"gb_c\"><span style=\"background-position:-69px -572px\" class=\"gb_q\"></span><span class=\"gb_r\">Libros</span></a></li><li aria-grabbed=\"false\" class=\"gb_m\"><a data-pid=\"6\" href=\"http://www.google.es/shopping?hl=es&amp;ei=NCZJVJHjLserafCrgYAJ&amp;ved=0CBEQqS4oCw\" id=\"gb6\" class=\"gb_c\"><span style=\"background-position:0 -535px\" class=\"gb_q\"></span><span class=\"gb_r\">Shopping</span></a></li><li aria-grabbed=\"false\" class=\"gb_m\"><a data-ved=\"0CBIQwS4oDA\" data-pid=\"30\" href=\"https://www.blogger.com/\" id=\"gb30\" class=\"gb_c\"><span style=\"background-position:-69px -259px\" class=\"gb_q\"></span><span class=\"gb_r\">Blogger</span></a></li><li aria-grabbed=\"false\" class=\"gb_m\"><a data-ved=\"0CBMQwS4oDQ\" data-pid=\"31\" href=\"https://plus.google.com/photos\" id=\"gb31\" class=\"gb_c\"><span style=\"background-position:0 -629px\" class=\"gb_q\"></span><span class=\"gb_r\">Fotos</span></a></li></ul><a href=\"http://www.google.es/intl/es/options/\" class=\"gb_H gb_Sb\" aria-hidden=\"true\">A\u00fan m\u00e1s de Google</a></div></div><div class=\"gb_yc gb_f\"><div class=\"gb_Sa\"><a target=\"_top\" href=\"https://www.google.com/accounts/ServiceLogin?passive=1209600&amp;continue=https://www.google.es/flights/&amp;followup=https://www.google.es/flights/\" id=\"gb_70\" class=\"gb_2b gb_W gb_V\">Iniciar sesi\u00f3n</a><div class=\"gb_fa\"></div><div class=\"gb_ea\"></div></div></div></div></div><div style=\"max-width:152px;min-width:152px\" id=\"gbq1\" class=\"gb_Ia gb_f gb_Ma\"><div class=\"gb_Ja\"><a title=\"Ve a la p\u00e1gina principal de Google\" href=\"/?ei=NCZJVJHjLserafCrgYAJ&amp;ved=0CBQQ1S4\" class=\"gb_Qa gb_La\"><span class=\"gb_Na\"></span></a></div></div><div class=\"gb_f gb_xb\"><div id=\"gbq\"><div id=\"gbq2\" class=\"gbt\"><div id=\"gbqfw\" class=\"gbqfr\"><form data-ved=\"0CBUQuyc\" method=\"get\" name=\"gbqf\" id=\"gbqf\" target=\"\" onsubmit=\"\" action=\"https://www.google.es/search\" class=\"gb_1b GKJYXHBI2\"><fieldset class=\"gbxx\"><legend class=\"gbxx\">Campos ocultos</legend><div id=\"gbqffd\"></div></fieldset><fieldset id=\"gbqff\" class=\"gbqff gb_f\"><legend class=\"gbxx\"></legend><div class=\"gbqfwa \" id=\"gbfwa\"><div class=\"gbqfqw\" id=\"gbqfqw\"><div id=\"gbqfaa\"></div><div class=\"gbqfqwb\" id=\"gbqfqwb\"><input type=\"text\" spellcheck=\"&quot;false&quot;\" x-webkit-grammar=\"&quot;builtin:search&quot;\" x-webkit-speech=\"\" value=\"\" autocomplete=\"off\" name=\"q\" class=\"gbqfif\" id=\"gbqfq\" /></div><div id=\"gbqfab\"></div></div></div></fieldset><div id=\"gbqfbw\" class=\"gb_f gb_0b\"><button id=\"gbqfb\" name=\"btnG\" aria-label=\"Buscar con Google\" class=\"gbqfb\"><span class=\"gbqfi gb_Na\"></span></button></div><div id=\"gbqfbwa\" class=\"jsb\"><button name=\"btnK\" id=\"gbqfba\" aria-label=\"Buscar con Google\" class=\"gbqfba\"><span id=\"gbqfsa\">Buscar con Google</span></button><button name=\"btnI\" id=\"gbqfbb\" onclick=\"if(this.form.q.value)this.checked=1;else window.top.location='/doodles/'\" aria-label=\"Voy a tener suerte\" class=\"gbqfba\"><span id=\"gbqfsb\">Voy a tener suerte</span></button></div></form></div></div></div></div></div><div id=\"gbw\"></div></div><div id=\"gba\" class=\"gb_Jc\"></div><div id=\"root\"><div class=\"GKJYXHBA4\"><table cellspacing=\"0\" cellpadding=\"0\" class=\"GKJYXHBP0\"><tbody><tr><td align=\"left\" style=\"vertical-align: top;\"><div class=\"GKJYXHBFUC\"><div class=\"GKJYXHBKN GKJYXHBIUC\">Ayuda</div><a class=\"GKJYXHBOUC\" href=\"http://www.google.es/search?hl=es&amp;q=&amp;prmdo=1&amp;tbm=\"><span class=\"GKJYXHBPUC\">Web</span></a><div class=\"GKJYXHBOUC GKJYXHBGUC\"><span class=\"GKJYXHBPUC\">Vuelos</span></div><div class=\"GKJYXHBOUC GKJYXHBNUC\"><div class=\"gwt-HTML\">M\u00e1s</div></div></div></td></tr><tr><td align=\"left\" style=\"vertical-align: top;\"><table cellspacing=\"0\" cellpadding=\"0\" class=\"GKJYXHBH1\"><colgroup><col /><col /><col /></colgroup><tbody><tr><td class=\"GKJYXHBM1\">\u00a0</td><td class=\"GKJYXHBE1\"><div class=\"GKJYXHBD1\"><div class=\"GKJYXHBC1\"><div class=\"GKJYXHBL-B GKJYXHBDJ\"><div class=\"GKJYXHBKN GKJYXHBAIB GKJYXHBI-B GKJYXHBG-B\"><div class=\"GKJYXHBJ-B\">1 adulto</div></div><div class=\"GKJYXHBKN GKJYXHBI-B GKJYXHBN-B\"><div class=\"GKJYXHBJ-B\">Turista</div></div><div style=\"visibility: visible;\"><button type=\"button\" class=\"GKJYXHBAS GKJYXHBDJ GKJYXHBNR GKJYXHBC-B GKJYXHBFS GKJYXHBLR\"><div style=\"display: none;\" aria-hidden=\"true\"></div><span class=\"GKJYXHBHR\">Ida y vuelta</span></button><button type=\"button\" class=\"GKJYXHBAS GKJYXHBDJ GKJYXHBNR GKJYXHBC-B GKJYXHBFS GKJYXHBCS GKJYXHBGS\"><div style=\"display: none;\" aria-hidden=\"true\"></div><span class=\"GKJYXHBHR\">S\u00f3lo ida</span></button><button type=\"button\" class=\"GKJYXHBAS GKJYXHBDJ GKJYXHBNR GKJYXHBC-B GKJYXHBFS GKJYXHBBS\"><div style=\"display: none;\" aria-hidden=\"true\"></div><span class=\"GKJYXHBHR\">Varias ciudades</span></button></div><div class=\"GKJYXHBKN GKJYXHBI-B GKJYXHBA0B\" style=\"visibility: hidden; display: none;\" aria-hidden=\"true\"><div class=\"GKJYXHBJ-B\" style=\"width: 92px;\">S\u00f3lo ida</div></div><div class=\"GKJYXHBE1B\"><table class=\"GKJYXHBL0B\"><colgroup><col /><col /></colgroup><tbody><tr><td><div class=\"GKJYXHBPNB GKJYXHBF4 GKJYXHBA1B\"><div class=\"GKJYXHBNNB\"><div class=\"GKJYXHBOMB\"><span class=\"GKJYXHBNMB\">BCN</span> Barcelona</div></div><input type=\"text\" class=\"GKJYXHBFNB GKJYXHBANB\" tabindex=\"1\" /><div class=\"GKJYXHBDOB\" style=\"\"><div class=\"GKJYXHBEOB\"></div></div><div class=\"GKJYXHBAOB\"><div class=\"GKJYXHBJY\"><div class=\"GKJYXHBDY GKJYXHBMY\"><span class=\"GKJYXHBOY\"><span class=\"GKJYXHBPY\"></span></span></div><div class=\"GKJYXHBDY GKJYXHBHY\"><span class=\"GKJYXHBOY GKJYXHBGY\"><span class=\"GKJYXHBCY\"></span><span class=\"GKJYXHBPY\"></span></span><span class=\"GKJYXHBOY GKJYXHBA-\"><span class=\"GKJYXHBCY\"></span><span class=\"GKJYXHBPY\"></span></span></div><div class=\"GKJYXHBDY GKJYXHBB-\"><span class=\"GKJYXHBOY GKJYXHBGY\"><span class=\"GKJYXHBCY\"></span><span class=\"GKJYXHBPY\"></span></span><span class=\"GKJYXHBOY GKJYXHBA-\"><span class=\"GKJYXHBCY\"></span><span class=\"GKJYXHBPY\"></span></span></div><div class=\"GKJYXHBDY GKJYXHBF-\"><span class=\"GKJYXHBOY GKJYXHBGY\"><span class=\"GKJYXHBCY\"></span><span class=\"GKJYXHBPY\"></span></span><span class=\"GKJYXHBOY GKJYXHBA-\"><span class=\"GKJYXHBCY\"></span><span class=\"GKJYXHBPY\"></span></span></div><div class=\"GKJYXHBDY GKJYXHBKY\"><span class=\"GKJYXHBOY GKJYXHBGY\"><span class=\"GKJYXHBCY\"></span><span class=\"GKJYXHBPY\"></span></span><span class=\"GKJYXHBOY GKJYXHBA-\"><span class=\"GKJYXHBCY\"></span><span class=\"GKJYXHBPY\"></span></span></div></div></div></div></td><td><div class=\"GKJYXHBPNB GKJYXHBF4 GKJYXHBG0B\"><div class=\"GKJYXHBNNB\"><div class=\"GKJYXHBOMB\"><span class=\"GKJYXHBNMB\">MAD</span> Madrid</div></div><input type=\"text\" class=\"GKJYXHBFNB GKJYXHBANB\" tabindex=\"2\" /><div class=\"GKJYXHBDOB\" style=\"\"><div class=\"GKJYXHBEOB\"></div></div><div class=\"GKJYXHBAOB\"><div class=\"GKJYXHBJY\"><div class=\"GKJYXHBDY GKJYXHBMY\"><span class=\"GKJYXHBOY\"><span class=\"GKJYXHBPY\"></span></span></div><div class=\"GKJYXHBDY GKJYXHBHY\"><span class=\"GKJYXHBOY GKJYXHBGY\"><span class=\"GKJYXHBCY\"></span><span class=\"GKJYXHBPY\"></span></span><span class=\"GKJYXHBOY GKJYXHBA-\"><span class=\"GKJYXHBCY\"></span><span class=\"GKJYXHBPY\"></span></span></div><div class=\"GKJYXHBDY GKJYXHBB-\"><span class=\"GKJYXHBOY GKJYXHBGY\"><span class=\"GKJYXHBCY\"></span><span class=\"GKJYXHBPY\"></span></span><span class=\"GKJYXHBOY GKJYXHBA-\"><span class=\"GKJYXHBCY\"></span><span class=\"GKJYXHBPY\"></span></span></div><div class=\"GKJYXHBDY GKJYXHBF-\"><span class=\"GKJYXHBOY GKJYXHBGY\"><span class=\"GKJYXHBCY\"></span><span class=\"GKJYXHBPY\"></span></span><span class=\"GKJYXHBOY GKJYXHBA-\"><span class=\"GKJYXHBCY\"></span><span class=\"GKJYXHBPY\"></span></span></div><div class=\"GKJYXHBDY GKJYXHBKY\"><span class=\"GKJYXHBOY GKJYXHBGY\"><span class=\"GKJYXHBCY\"></span><span class=\"GKJYXHBPY\"></span></span><span class=\"GKJYXHBOY GKJYXHBA-\"><span class=\"GKJYXHBCY\"></span><span class=\"GKJYXHBPY\"></span></span></div></div></div></div></td></tr><tr><td><div class=\"GKJYXHBOP GKJYXHBNP GKJYXHBF4 GKJYXHBF0B\"><div class=\"GKJYXHBPO GKJYXHBKP\"><div class=\"GKJYXHBIP\">jue 23 octubre</div><div class=\"GKJYXHBMP\"><input type=\"text\" class=\"gwt-TextBox\" tabindex=\"3\" /></div><div class=\"GKJYXHBJP GKJYXHBNYB\" style=\"width: 12px; background-image: url(&quot;data:image/png;base64,iVBORw0KGgoAAAANSUhEUgAAAAwAAAAMCAQAAAD8fJRsAAAAOklEQVQYlWNg2MfwHwvcw4BVGARBCAsgLAHSvBdKY+j4AxNClfjPsBW7BA4dILMP4tJBrHMPY/X3QQB4lUPtUnsODQAAAABJRU5ErkJggg==&quot;);\"></div></div><div class=\"GKJYXHBFP\"><div class=\"GKJYXHBBP GKJYXHBDP GKJYXHBCP\"><div class=\"gwt-HTML GKJYXHBMO\"></div></div><div class=\"GKJYXHBBP GKJYXHBEP\"><div class=\"gwt-HTML GKJYXHBNO\"></div></div></div></div></td><td><div class=\"GKJYXHBOP GKJYXHBNP GKJYXHBF4 GKJYXHBD1B GKJYXHBGP\"><div class=\"GKJYXHBPO GKJYXHBKP\"><div class=\"GKJYXHBIP GKJYXHBLYB\">A\u00f1adir fecha de vuelta</div><div class=\"GKJYXHBMP\"><input type=\"text\" class=\"gwt-TextBox\" tabindex=\"4\" /></div><div class=\"GKJYXHBJP GKJYXHBNYB\" style=\"width: 12px; background-image: url(&quot;data:image/png;base64,iVBORw0KGgoAAAANSUhEUgAAAAwAAAAMCAQAAAD8fJRsAAAAOklEQVQYlWNg2MfwHwvcw4BVGARBCAsgLAHSvBdKY+j4AxNClfjPsBW7BA4dILMP4tJBrHMPY/X3QQB4lUPtUnsODQAAAABJRU5ErkJggg==&quot;);\"></div></div><div class=\"GKJYXHBFP\"><div class=\"GKJYXHBBP GKJYXHBDP\"><div class=\"gwt-HTML GKJYXHBMO\"></div></div><div class=\"GKJYXHBBP GKJYXHBEP\"><div class=\"gwt-HTML GKJYXHBNO\"></div></div></div></div></td></tr></tbody></table></div><div class=\"GKJYXHBEXB\" style=\"display: none;\" aria-hidden=\"true\"><table class=\"GKJYXHBLXB\"><colgroup><col /><col /><col /><col /></colgroup><tbody><tr style=\"display: none;\" aria-hidden=\"true\"><td>\u00a0</td><td>\u00a0</td><td>\u00a0</td><td>\u00a0</td></tr><tr style=\"display: none;\" aria-hidden=\"true\"><td>\u00a0</td><td>\u00a0</td><td>\u00a0</td><td>\u00a0</td></tr><tr style=\"display: none;\" aria-hidden=\"true\"><td>\u00a0</td><td>\u00a0</td><td>\u00a0</td><td>\u00a0</td></tr><tr style=\"display: none;\" aria-hidden=\"true\"><td>\u00a0</td><td>\u00a0</td><td>\u00a0</td><td>\u00a0</td></tr><tr style=\"display: none;\" aria-hidden=\"true\"><td>\u00a0</td><td>\u00a0</td><td>\u00a0</td><td>\u00a0</td></tr></tbody></table><button type=\"button\" class=\"GKJYXHBAS GKJYXHBNR GKJYXHBDXB GKJYXHBKN\" style=\"width: 87px;\"><div style=\"display: none;\" aria-hidden=\"true\"></div><span class=\"GKJYXHBHR\">A\u00f1adir un vuelo</span></button></div></div><div class=\"GKJYXHBCTB GKJYXHBDJ\"><table class=\"GKJYXHBGTB\"><colgroup><col /><col /></colgroup><tbody><tr><td width=\"100%\"><div class=\"GKJYXHBDTB\"><div class=\"GKJYXHBKN GKJYXHBGSB\"><div class=\"gwt-HTML GKJYXHBISB GKJYXHBFSB\">Escalas</div></div><div class=\"GKJYXHBKN GKJYXHBGSB\"><div class=\"gwt-HTML GKJYXHBISB GKJYXHBFSB\">Precio</div></div><div class=\"GKJYXHBKN GKJYXHBGSB\"><div class=\"gwt-HTML GKJYXHBISB GKJYXHBFSB\">Compa\u00f1\u00eda a\u00e9rea</div></div><div class=\"GKJYXHBKN GKJYXHBGSB\" style=\"display: none;\" aria-hidden=\"true\"><div class=\"gwt-HTML GKJYXHBISB GKJYXHBFSB\">Horarios</div></div><div class=\"GKJYXHBKN GKJYXHBGSB\"><div class=\"gwt-HTML GKJYXHBISB GKJYXHBFSB\">Horarios</div></div><div class=\"GKJYXHBKN GKJYXHBGSB\"><div class=\"gwt-HTML GKJYXHBISB GKJYXHBFSB\">M\u00e1s</div></div><div class=\"GKJYXHBKN GKJYXHBGSB\" style=\"display: none;\" aria-hidden=\"true\"><div class=\"gwt-Label GKJYXHBISB\">Borrar</div></div></div></td><td><div class=\"GKJYXHBN1\"><div style=\"display: none;\" aria-hidden=\"true\" class=\"GKJYXHBG2\" tooltip=\"Vuelos guardados\"></div><div class=\"GKJYXHBC2\" tooltip=\"Tarifas m\u00e1s econ\u00f3micas\"></div></div></td></tr></tbody></table></div><div><div class=\"GKJYXHBD2\"><div class=\"GKJYXHBCKC\"><div class=\"GKJYXHBFKC\" style=\"display: none;\" aria-hidden=\"true\"><div class=\"GKJYXHBJY GKJYXHBE-\"><div class=\"GKJYXHBDY GKJYXHBMY\"><span class=\"GKJYXHBOY\"><span class=\"GKJYXHBPY\"></span></span></div><div class=\"GKJYXHBDY GKJYXHBHY\"><span class=\"GKJYXHBOY GKJYXHBGY\"><span class=\"GKJYXHBCY\"></span><span class=\"GKJYXHBPY\"></span></span><span class=\"GKJYXHBOY GKJYXHBA-\"><span class=\"GKJYXHBCY\"></span><span class=\"GKJYXHBPY\"></span></span></div><div class=\"GKJYXHBDY GKJYXHBB-\"><span class=\"GKJYXHBOY GKJYXHBGY\"><span class=\"GKJYXHBCY\"></span><span class=\"GKJYXHBPY\"></span></span><span class=\"GKJYXHBOY GKJYXHBA-\"><span class=\"GKJYXHBCY\"></span><span class=\"GKJYXHBPY\"></span></span></div><div class=\"GKJYXHBDY GKJYXHBF-\"><span class=\"GKJYXHBOY GKJYXHBGY\"><span class=\"GKJYXHBCY\"></span><span class=\"GKJYXHBPY\"></span></span><span class=\"GKJYXHBOY GKJYXHBA-\"><span class=\"GKJYXHBCY\"></span><span class=\"GKJYXHBPY\"></span></span></div><div class=\"GKJYXHBDY GKJYXHBKY\"><span class=\"GKJYXHBOY GKJYXHBGY\"><span class=\"GKJYXHBCY\"></span><span class=\"GKJYXHBPY\"></span></span><span class=\"GKJYXHBOY GKJYXHBA-\"><span class=\"GKJYXHBCY\"></span><span class=\"GKJYXHBPY\"></span></span></div></div></div><div class=\"GKJYXHBJKC GKJYXHBLKC\" style=\"\"><div class=\"GKJYXHBMKC\"><div class=\"GKJYXHBOKC\"><div class=\"GKJYXHBJY GKJYXHBE-\"><div class=\"GKJYXHBDY GKJYXHBMY\"><span class=\"GKJYXHBOY\"><span class=\"GKJYXHBPY\"></span></span></div><div class=\"GKJYXHBDY GKJYXHBHY\"><span class=\"GKJYXHBOY GKJYXHBGY\"><span class=\"GKJYXHBCY\"></span><span class=\"GKJYXHBPY\"></span></span><span class=\"GKJYXHBOY GKJYXHBA-\"><span class=\"GKJYXHBCY\"></span><span class=\"GKJYXHBPY\"></span></span></div><div class=\"GKJYXHBDY GKJYXHBB-\"><span class=\"GKJYXHBOY GKJYXHBGY\"><span class=\"GKJYXHBCY\"></span><span class=\"GKJYXHBPY\"></span></span><span class=\"GKJYXHBOY GKJYXHBA-\"><span class=\"GKJYXHBCY\"></span><span class=\"GKJYXHBPY\"></span></span></div><div class=\"GKJYXHBDY GKJYXHBF-\"><span class=\"GKJYXHBOY GKJYXHBGY\"><span class=\"GKJYXHBCY\"></span><span class=\"GKJYXHBPY\"></span></span><span class=\"GKJYXHBOY GKJYXHBA-\"><span class=\"GKJYXHBCY\"></span><span class=\"GKJYXHBPY\"></span></span></div><div class=\"GKJYXHBDY GKJYXHBKY\"><span class=\"GKJYXHBOY GKJYXHBGY\"><span class=\"GKJYXHBCY\"></span><span class=\"GKJYXHBPY\"></span></span><span class=\"GKJYXHBOY GKJYXHBA-\"><span class=\"GKJYXHBCY\"></span><span class=\"GKJYXHBPY\"></span></span></div></div></div><div class=\"GKJYXHBIKC\">Selecciona un vuelo</div><div class=\"GKJYXHBFLC\"><div class=\"GKJYXHBGLC\"><div class=\"GKJYXHBELC\"><div class=\"GKJYXHBKKC\">jueves 23 octubre:</div><div class=\"GKJYXHBBLC\">Barcelona \u2013 Madrid</div></div></div><div class=\"GKJYXHBGSB GKJYXHBCLC\"><div class=\"gwt-HTML GKJYXHBISB GKJYXHBFSB GKJYXHBDLC\">Ordenar por precio y mejor vuelo</div></div></div><div class=\"GKJYXHBEMC\">Precio solo ida (1 adulto, Turista). Es posible que se apliquen <span elt=\"bfp\"><div class=\"GKJYXHBDMC\"><div class=\"GKJYXHBDMC\">tarifas por equipaje adicional</div></div></span>.</div><div class=\"GKJYXHBJX GKJYXHBCGC GKJYXHBKIC GKJYXHBMX\" style=\"transition: max-height 300ms ease 0s; max-height: 0px; border-width: 0px;\"></div></div><div class=\"GKJYXHBPKC\"><div class=\"gwt-HTML GKJYXHBLFC\"><a class=\"GKJYXHBBNC GKJYXHBHNC\" href=\"https://www.google.es/flights/#search;f=BCN;t=MAD;d=2014-10-25;r=2014-10-27;tt=o\"><div class=\"GKJYXHBJNC\"><div class=\"GKJYXHBMNC\">65\u00a0\u20ac</div><div class=\"GKJYXHBNNC\">solo ida</div></div><div class=\"GKJYXHBKNC\"><span class=\"GKJYXHBAOC\">Sugerencia:</span> <div class=\"GKJYXHBBOC\">Si sales el s\u00e1b 25 oct, te ahorras 23\u00a0\u20ac</div><div class=\"GKJYXHBLNC\">Sal 2 d\u00edas m\u00e1s tarde</div></div></a><div class=\"GKJYXHBCGC GKJYXHBHJC GKJYXHBKIC GKJYXHBOFC\">Mejores vuelos<div class=\"GKJYXHBAGC\" elm=\"ii\"><span class=\"gwt-InlineLabel GKJYXHBD0 GKJYXHBG0\">M\u00e1s informaci\u00f3n</span></div></div><div iti=\"0\" class=\"GKJYXHBCGC GKJYXHBKIC GKJYXHBOFC GKJYXHBCHC GKJYXHBGJC\"><a elm=\"il\" class=\"GKJYXHBDGC GKJYXHBBFC\" href=\"https://www.google.es/flights/#search;f=BCN;t=MAD;d=2014-10-23;r=2014-10-27;tt=o;sel=BCNMAD0UX2159\"><div class=\"GKJYXHBDIC\"><div elm=\"p\"><div class=\"GKJYXHBCIC\">88\u00a0\u20ac</div><div class=\"GKJYXHBGIC\">solo ida</div></div></div><div class=\"GKJYXHBFJC\"><img src=\"//www.gstatic.com/flights/airline_logos/35px/UX.png\" class=\"GKJYXHBJEC\" /><div class=\"GKJYXHBEJC\"><span tooltip=\"A las 20:35 del jueves, 23 de octubre de 2014\">20:35</span> \u2013 <span tooltip=\"A las 21:55 del jueves, 23 de octubre de 2014\">21:55</span></div><div class=\"GKJYXHBKEC\">Air Europa</div></div><div class=\"GKJYXHBIIC\"><div class=\"GKJYXHBIFC\">1 h 20 min</div><div class=\"GKJYXHBHIC\"></div></div><div class=\"GKJYXHBOIC\"><div class=\"GKJYXHBMIC\">Directo</div></div></a></div><div iti=\"1\" class=\"GKJYXHBCGC GKJYXHBKIC GKJYXHBOFC GKJYXHBBIC GKJYXHBCHC GKJYXHBGJC\"><a elm=\"il\" class=\"GKJYXHBDGC\" href=\"https://www.google.es/flights/#search;f=BCN;t=MAD;d=2014-10-23;r=2014-10-27;tt=o;sel=BCNMAD0VY1019\"><div class=\"GKJYXHBDIC\"><div elm=\"p\"><div class=\"GKJYXHBCIC\">95\u00a0\u20ac</div><div class=\"GKJYXHBGIC\">solo ida</div></div></div><div class=\"GKJYXHBFJC\"><img src=\"//www.gstatic.com/flights/airline_logos/35px/VY.png\" class=\"GKJYXHBJEC\" /><div class=\"GKJYXHBEJC\"><span tooltip=\"A las 19:45 del jueves, 23 de octubre de 2014\">19:45</span> \u2013 <span tooltip=\"A las 21:05 del jueves, 23 de octubre de 2014\">21:05</span></div><div class=\"GKJYXHBKEC\">Vueling</div></div><div class=\"GKJYXHBIIC\"><div class=\"GKJYXHBIFC\">1 h 20 min</div><div class=\"GKJYXHBHIC\"></div></div><div class=\"GKJYXHBOIC\"><div class=\"GKJYXHBMIC\">Directo</div></div></a></div><div iti=\"2\" class=\"GKJYXHBCGC GKJYXHBKIC GKJYXHBOFC GKJYXHBBIC GKJYXHBCHC GKJYXHBGJC\"><a elm=\"il\" class=\"GKJYXHBDGC\" href=\"https://www.google.es/flights/#search;f=BCN;t=MAD;d=2014-10-23;r=2014-10-27;tt=o;sel=BCNMAD0VY1029\"><div class=\"GKJYXHBDIC\"><div elm=\"p\"><div class=\"GKJYXHBCIC\">95\u00a0\u20ac</div><div class=\"GKJYXHBGIC\">solo ida</div></div></div><div class=\"GKJYXHBFJC\"><img src=\"//www.gstatic.com/flights/airline_logos/35px/VY.png\" class=\"GKJYXHBJEC\" /><div class=\"GKJYXHBEJC\"><span tooltip=\"A las 20:15 del jueves, 23 de octubre de 2014\">20:15</span> \u2013 <span tooltip=\"A las 21:35 del jueves, 23 de octubre de 2014\">21:35</span></div><div class=\"GKJYXHBKEC\">Vueling</div></div><div class=\"GKJYXHBIIC\"><div class=\"GKJYXHBIFC\">1 h 20 min</div><div class=\"GKJYXHBHIC\"></div></div><div class=\"GKJYXHBOIC\"><div class=\"GKJYXHBMIC\">Directo</div></div></a></div><div iti=\"3\" class=\"GKJYXHBCGC GKJYXHBKIC GKJYXHBOFC GKJYXHBBIC GKJYXHBCHC GKJYXHBGJC\"><a elm=\"il\" class=\"GKJYXHBDGC\" href=\"https://www.google.es/flights/#search;f=BCN;t=MAD;d=2014-10-23;r=2014-10-27;tt=o;sel=BCNMAD0VY1023\"><div class=\"GKJYXHBDIC\"><div elm=\"p\"><div class=\"GKJYXHBCIC\">95\u00a0\u20ac</div><div class=\"GKJYXHBGIC\">solo ida</div></div></div><div class=\"GKJYXHBFJC\"><img src=\"//www.gstatic.com/flights/airline_logos/35px/VY.png\" class=\"GKJYXHBJEC\" /><div class=\"GKJYXHBEJC\"><span tooltip=\"A las 22:30 del jueves, 23 de octubre de 2014\">22:30</span> \u2013 <span tooltip=\"A las 23:50 del jueves, 23 de octubre de 2014\">23:50</span></div><div class=\"GKJYXHBKEC\">Vueling</div></div><div class=\"GKJYXHBIIC\"><div class=\"GKJYXHBIFC\">1 h 20 min</div><div class=\"GKJYXHBHIC\"></div></div><div class=\"GKJYXHBOIC\"><div class=\"GKJYXHBMIC\">Directo</div></div></a></div><div iti=\"4\" class=\"GKJYXHBCGC GKJYXHBKIC GKJYXHBOFC GKJYXHBBIC GKJYXHBEGC GKJYXHBGJC\"><a elm=\"il\" class=\"GKJYXHBDGC\" href=\"https://www.google.es/flights/#search;f=BCN;t=MAD;d=2014-10-23;r=2014-10-27;tt=o;sel=BCNMAD0VY1017\"><div class=\"GKJYXHBDIC\"><div elm=\"p\"><div class=\"GKJYXHBCIC\">105\u00a0\u20ac</div><div class=\"GKJYXHBGIC\">solo ida</div></div></div><div class=\"GKJYXHBFJC\"><img src=\"//www.gstatic.com/flights/airline_logos/35px/VY.png\" class=\"GKJYXHBJEC\" /><div class=\"GKJYXHBEJC\"><span tooltip=\"A las 18:45 del jueves, 23 de octubre de 2014\">18:45</span> \u2013 <span tooltip=\"A las 20:05 del jueves, 23 de octubre de 2014\">20:05</span></div><div class=\"GKJYXHBKEC\">Vueling</div></div><div class=\"GKJYXHBIIC\"><div class=\"GKJYXHBIFC\">1 h 20 min</div><div class=\"GKJYXHBHIC\"></div></div><div class=\"GKJYXHBOIC\"><div class=\"GKJYXHBMIC\">Directo</div></div></a></div><div iti=\"5\" class=\"GKJYXHBCGC GKJYXHBKIC GKJYXHBOFC GKJYXHBBIC\"><a elm=\"il\" class=\"GKJYXHBDGC\" href=\"https://www.google.es/flights/#search;f=BCN;t=MAD;d=2014-10-23;r=2014-10-27;tt=o;sel=BCNMAD0IB2733\"><div class=\"GKJYXHBDIC\"><div elm=\"p\"><div class=\"GKJYXHBCIC\">168\u00a0\u20ac</div><div class=\"GKJYXHBGIC\">solo ida</div></div></div><div class=\"GKJYXHBFJC\"><img src=\"//www.gstatic.com/flights/airline_logos/35px/IB.png\" class=\"GKJYXHBJEC\" /><div class=\"GKJYXHBEJC\"><span tooltip=\"A las 21:30 del jueves, 23 de octubre de 2014\">21:30</span> \u2013 <span tooltip=\"A las 22:55 del jueves, 23 de octubre de 2014\">22:55</span></div><div class=\"GKJYXHBKEC\">Iberia</div></div><div class=\"GKJYXHBIIC\"><div class=\"GKJYXHBIFC\">1 h 25 min</div><div class=\"GKJYXHBHIC\"></div></div><div class=\"GKJYXHBOIC\"><div class=\"GKJYXHBMIC\">Directo</div></div></a></div><div iti=\"6\" class=\"GKJYXHBCGC GKJYXHBKIC GKJYXHBOFC\"><a elm=\"il\" class=\"GKJYXHBDGC\" href=\"https://www.google.es/flights/#search;f=BCN;t=MAD;d=2014-10-23;r=2014-10-27;tt=o;sel=BCNMAD0IB2713\"><div class=\"GKJYXHBDIC\"><div elm=\"p\"><div class=\"GKJYXHBCIC\">232\u00a0\u20ac</div><div class=\"GKJYXHBGIC\">solo ida</div></div></div><div class=\"GKJYXHBFJC\"><img src=\"//www.gstatic.com/flights/airline_logos/35px/IB.png\" class=\"GKJYXHBJEC\" /><div class=\"GKJYXHBEJC\"><span tooltip=\"A las 18:10 del jueves, 23 de octubre de 2014\">18:10</span> \u2013 <span tooltip=\"A las 19:35 del jueves, 23 de octubre de 2014\">19:35</span></div><div class=\"GKJYXHBKEC\">Iberia</div></div><div class=\"GKJYXHBIIC\"><div class=\"GKJYXHBIFC\">1 h 25 min</div><div class=\"GKJYXHBHIC\"></div></div><div class=\"GKJYXHBOIC\"><div class=\"GKJYXHBMIC\">Directo</div></div></a></div><div iti=\"7\" class=\"GKJYXHBCGC GKJYXHBKIC GKJYXHBOFC\"><a elm=\"il\" class=\"GKJYXHBDGC\" href=\"https://www.google.es/flights/#search;f=BCN;t=MAD;d=2014-10-23;r=2014-10-27;tt=o;sel=BCNMAD0IB2719\"><div class=\"GKJYXHBDIC\"><div elm=\"p\"><div class=\"GKJYXHBCIC\">232\u00a0\u20ac</div><div class=\"GKJYXHBGIC\">solo ida</div></div></div><div class=\"GKJYXHBFJC\"><img src=\"//www.gstatic.com/flights/airline_logos/35px/IB.png\" class=\"GKJYXHBJEC\" /><div class=\"GKJYXHBEJC\"><span tooltip=\"A las 20:10 del jueves, 23 de octubre de 2014\">20:10</span> \u2013 <span tooltip=\"A las 21:40 del jueves, 23 de octubre de 2014\">21:40</span></div><div class=\"GKJYXHBKEC\">Iberia</div></div><div class=\"GKJYXHBIIC\"><div class=\"GKJYXHBIFC\">1 h 30 min</div><div class=\"GKJYXHBHIC\"></div></div><div class=\"GKJYXHBOIC\"><div class=\"GKJYXHBMIC\">Directo</div></div></a></div><div class=\"GKJYXHBCGC GKJYXHBBEC GKJYXHBKIC GKJYXHBOFC GKJYXHBDGC\"><div class=\"GKJYXHBCEC\"></div><div class=\"GKJYXHBDEC\">Mostrar 131 vuelos m\u00e1s largos o m\u00e1s caros</div></div></div><div class=\"GKJYXHBBKC\" style=\"display: none;\" aria-hidden=\"true\"><div class=\"gwt-HTML\"></div><div></div></div><div class=\"GKJYXHBPTC GKJYXHBM0\" style=\"\"><div class=\"GKJYXHBAUC\"><span class=\"GKJYXHBNTC\">Anuncios</span><span class=\"GKJYXHBEUC\">Prueba esta b\u00fasqueda</span> <a target=\"_blank\" pid=\"0\" class=\"GKJYXHBBUC\" href=\"https://www.google.com/travel/clk/f?su=CaNzFg7seGuZEm8KEwiZ-dfbksPBAhUSaHwKHd0qABQoBjogCAESA0JDThoDTUFEIgoyMDE0LTEwLTIzKgAyBAgDEAFABEoyCgJFUxIFZXMtRVMaFnN5RkJicTBnTDlVS3cwSVVuR2oxcXciA0VVUigAQAxAC0gAUAAaB0VYUEVESUEiB0V4cGVkaWEqsgFodHRwOi8vd3d3LmV4cGVkaWEuZXMvcHVic3BlYy9zY3JpcHRzL2VhcC5hc3A_TnVtQWR1bHQ9MSZOdW1DaGlsZD0wJlRyaXBUeXBlPU9uZVdheSZGckFpcnBvcnQ9QkNOJlRvQWlycG9ydD1NQUQmRnJvbURhdGU9MTAvMjMvMjAxNCZHT1RPPUVYUEZMVFdJWiZsb2FkPTEmZWFwaWQ9NjUxNjcmc2VtY2lkPW5pLmZz\">Expedia</a><span class=\"GKJYXHBDUC\"> - </span><a target=\"_blank\" pid=\"1\" class=\"GKJYXHBBUC\" href=\"https://www.google.com/travel/clk/f?su=CaNzFg7seGuZEm8KEwiZ-dfbksPBAhUSaHwKHd0qABQoBjogCAESA0JDThoDTUFEIgoyMDE0LTEwLTIzKgAyBAgDEAFABEoyCgJFUxIFZXMtRVMaFnN5RkJicTBnTDlVS3cwSVVuR2oxcXciA0VVUigAQAxAC0gAUAAaB1VOSVNURVIiCnZ1ZWxvMjQuZXMqjwJodHRwOi8vYWQuemFub3guY29tL3BwYy8_MjkxNTU4MzVDOTIwMTUzODExVCZVTFA9aHR0cDovL3d3dy52dWVsbzI0LmVzL21ldGEvZXhhbXBsZT9zRmxpZ2h0SW5wdXRbcGF4QWR0XT0xJnNGbGlnaHRJbnB1dFtwYXhDaGRdPTAmc0ZsaWdodElucHV0W3BheEluZl09MCZzRmxpZ2h0SW5wdXRbZmxpZ2h0VHlwZV09T1cmc0ZsaWdodElucHV0W2RlcENpdHldPUJDTiZzRmxpZ2h0SW5wdXRbYXJyQ2l0eV09TUFEJnNGbGlnaHRJbnB1dFtkZXBhcnR1cmVEYXRlXT0yMDE0LTEwLTIz\">vuelo24.es</a><span class=\"GKJYXHBDUC\"> - </span><a target=\"_blank\" pid=\"2\" class=\"GKJYXHBBUC\" href=\"https://www.google.com/travel/clk/f?su=CaNzFg7seGuZEm8KEwiZ-dfbksPBAhUSaHwKHd0qABQoBjogCAESA0JDThoDTUFEIgoyMDE0LTEwLTIzKgAyBAgDEAFABEoyCgJFUxIFZXMtRVMaFnN5RkJicTBnTDlVS3cwSVVuR2oxcXciA0VVUigAQAxAC0gAUAAaB0VEUkVBTVMiB2VEcmVhbXMqkAJodHRwOi8vd3d3LmVkcmVhbXMuZXMvZW5naW5lL0l0aW5lcmFyeVNlYXJjaC9zZWFyY2g_c2VhcmNoTWFpblByb2R1Y3RUeXBlTmFtZT1GTElHSFQmbnVtQWR1bHRzPTEmdHJpcFR5cGVOYW1lPU9ORV9XQVkmZGVwYXJ0dXJlTG9jYXRpb249QkNOJmFycml2YWxMb2NhdGlvbj1NQUQmZGVwYXJ0dXJlRGF0ZT0yMy8xMC8yMDE0JnV0bV9zb3VyY2U9Z29vZ2xlJnV0bV9tZWRpdW09ZGlzcGxheSZ1dG1fY2FtcGFpZ249R0dPVEktRS1FUy1GTC1CQ04mdXRtX2NvbnRlbnQ9QkNOLU1BRA\">eDreams</a><span class=\"GKJYXHBDUC\"> - </span><a target=\"_blank\" pid=\"3\" class=\"GKJYXHBBUC\" href=\"https://www.google.com/travel/clk/f?su=CaNzFg7seGuZEm8KEwiZ-dfbksPBAhUSaHwKHd0qABQoBjogCAESA0JDThoDTUFEIgoyMDE0LTEwLTIzKgAyBAgDEAFABEoyCgJFUxIFZXMtRVMaFnN5RkJicTBnTDlVS3cwSVVuR2oxcXciA0VVUigAQAxAC0gAUAAaCEJSQVZPRkxZIghCcmF2b2ZseSrzAWh0dHA6Ly93d3cuYnJhdm9mbHkuZXMvdmcxL3NlYXJjaGluZy5kbz9DT0JSQU5ERUQ9R0ZMSUdIVFNFUyZjdXJyZW5jeT1FVVImYWR1bHRzPTEmY2hpbGRzPTAmaW5mYW50cz0wJnJvdW5kdHJpcD1mYWxzZSZkZXBhcnR1cmVBaXJwb3J0PUJDTiZhcnJpdmFsQWlycG9ydD1NQUQmb3V0Ym91bmREYXk9MjMmb3V0Ym91bmRNb250aFllYXI9MTAyMDE0JmJmX3N1YnNvdXJjZT1XMDAmY2xhc3NGbGlnaHQ9QyZ1cmw9c2VhcmNoMy5kbw\">Bravofly</a></div></div><div class=\"GKJYXHBK4\" style=\"display: none;\" aria-hidden=\"true\"></div></div></div><div class=\"GKJYXHBGGB\" style=\"display: none;\" aria-hidden=\"true\"><div class=\"GKJYXHBK4\" style=\"display: none;\" aria-hidden=\"true\"></div><div></div><div class=\"GKJYXHBHHB\">Error del servidor. Int\u00e9ntalo m\u00e1s tarde.</div></div></div></div><div class=\"GKJYXHBB2\" style=\"display: none;\" aria-hidden=\"true\">\u00bfListo para despegar? Elige un destino.</div></div></div></div></td><td class=\"GKJYXHBF2\"><div class=\"GKJYXHBE2\"><div class=\"GKJYXHBACC\"><div style=\"width: 100%; height: 161px; background-color: rgb(229, 227, 223); overflow: hidden;\" class=\"GKJYXHBCCC\"><div style=\"position: absolute; left: 0px; top: 0px; overflow: hidden; width: 100%; height: 100%; z-index: 0;\" class=\"gm-style\"><div style=\"position: absolute; left: 0px; top: 0px; overflow: hidden; width: 100%; height: 100%; z-index: 0;\"><div style=\"position: absolute; left: 0px; top: 0px; z-index: 1; width: 100%;\"><div style=\"position: absolute; left: 0px; top: 0px; z-index: 100; width: 100%;\"><div style=\"position: absolute; left: 0px; top: 0px; z-index: 0;\"><div style=\"position: absolute; left: 0px; top: 0px; z-index: 1;\"><div style=\"width: 256px; height: 256px; position: absolute; left: -85px; top: -190px;\"></div><div style=\"width: 256px; height: 256px; position: absolute; left: -85px; top: 66px;\"></div><div style=\"width: 256px; height: 256px; position: absolute; left: 171px; top: -190px;\"></div><div style=\"width: 256px; height: 256px; position: absolute; left: 171px; top: 66px;\"></div></div></div></div><div style=\"position: absolute; left: 0px; top: 0px; z-index: 101; width: 100%;\"><div style=\"position: absolute; left: 0px; top: 0px; z-index: 30;\"><div style=\"position: absolute; left: 0px; top: 0px; z-index: 1;\"><div style=\"width: 256px; height: 256px; overflow: hidden; position: absolute; left: -85px; top: -190px;\"><canvas width=\"256\" height=\"256\" draggable=\"false\" style=\"-moz-user-select: none; position: absolute; left: 0px; top: 0px;\"></canvas></div><div style=\"width: 256px; height: 256px; overflow: hidden; position: absolute; left: -85px; top: 66px;\"><canvas width=\"256\" height=\"256\" draggable=\"false\" style=\"-moz-user-select: none; position: absolute; left: 0px; top: 0px;\"></canvas></div><div style=\"width: 256px; height: 256px; overflow: hidden; position: absolute; left: 171px; top: -190px;\"><canvas width=\"256\" height=\"256\" draggable=\"false\" style=\"-moz-user-select: none; position: absolute; left: 0px; top: 0px;\"></canvas></div><div style=\"width: 256px; height: 256px; overflow: hidden; position: absolute; left: 171px; top: 66px;\"><canvas width=\"256\" height=\"256\" draggable=\"false\" style=\"-moz-user-select: none; position: absolute; left: 0px; top: 0px;\"></canvas></div></div></div><div><div elt=\"od\" ic=\"BCN\" class=\"GKJYXHBF4B GKJYXHBJ4B GKJYXHBF5B GKJYXHBH4B GKJYXHBL4B  GKJYXHBC4B\" style=\"left:220px;top:53px\"></div><div elt=\"l\" ic=\"BCN\" class=\"GKJYXHBI4B GKJYXHBL4B GKJYXHBF5B GKJYXHBH4B\" style=\"left:220px;top:53px\"><div class=\"GKJYXHBJ4B\"><div class=\"GKJYXHBP4B\">Barcelona</div></div></div><div elt=\"od\" ic=\"MAD\" class=\"GKJYXHBF4B GKJYXHBJ4B GKJYXHBF5B GKJYXHBH4B GKJYXHBE4B GKJYXHBC4B\" style=\"left:86px;top:82px\"></div><div elt=\"l\" ic=\"MAD\" class=\"GKJYXHBI4B GKJYXHBE4B GKJYXHBF5B GKJYXHBH4B\" style=\"left:86px;top:82px\"><div class=\"GKJYXHBJ4B\"><div class=\"GKJYXHBP4B\">Madrid</div></div></div><div elt=\"od\" ic=\"EAS\" class=\"GKJYXHBF4B GKJYXHBM4B GKJYXHBF5B GKJYXHBB5B GKJYXHBB4B\" style=\"left:125px;top:-5px\"></div><div elt=\"od\" ic=\"VLC\" class=\"GKJYXHBF4B GKJYXHBA5B GKJYXHBF5B GKJYXHBP3B\" style=\"left:162px;top:111px\"></div><div elt=\"od\" ic=\"LDE\" class=\"GKJYXHBF4B GKJYXHBM4B GKJYXHBF5B GKJYXHBB5B GKJYXHBB4B\" style=\"left:169px;top:1px\"></div><div elt=\"od\" ic=\"VIT\" class=\"GKJYXHBF4B GKJYXHBM4B GKJYXHBF5B GKJYXHBB5B GKJYXHBB4B\" style=\"left:109px;top:8px\"></div><div elt=\"od\" ic=\"RJL\" class=\"GKJYXHBF4B GKJYXHBA5B GKJYXHBF5B GKJYXHBP3B\" style=\"left:115px;top:20px\"></div><div elt=\"od\" ic=\"PUF\" class=\"GKJYXHBF4B GKJYXHBA5B GKJYXHBF5B GKJYXHBP3B\" style=\"left:162px;top:-5px\"></div><div elt=\"od\" ic=\"BJZ\" class=\"GKJYXHBF4B GKJYXHBA5B GKJYXHBF5B GKJYXHBP3B\" style=\"left:12px;top:128px\"></div><div elt=\"od\" ic=\"SLM\" class=\"GKJYXHBF4B GKJYXHBA5B GKJYXHBF5B GKJYXHBH4B\" style=\"left:42px;top:66px\"></div><div elt=\"od\" ic=\"LEN\" class=\"GKJYXHBF4B GKJYXHBO4B GKJYXHBF5B GKJYXHBP3B\" style=\"left:44px;top:16px\"></div><div elt=\"l\" ic=\"LEN\" class=\"GKJYXHBI4B GKJYXHBF5B GKJYXHBP3B\" style=\"left:44px;top:16px\"><div class=\"GKJYXHBO4B\"><div class=\"GKJYXHBP4B\">Le\u00f3n</div></div></div><div elt=\"od\" ic=\"ZAZ\" class=\"GKJYXHBF4B GKJYXHBA5B GKJYXHBF5B GKJYXHBP3B\" style=\"left:150px;top:45px\"></div><div elt=\"od\" ic=\"BIO\" class=\"GKJYXHBF4B GKJYXHBA5B GKJYXHBF5B GKJYXHBP3B\" style=\"left:104px;top:-4px\"></div><div elt=\"od\" ic=\"ALC\" class=\"GKJYXHBF4B GKJYXHBO4B GKJYXHBF5B GKJYXHBP3B\" style=\"left:159px;top:143px\"></div><div elt=\"l\" ic=\"ALC\" class=\"GKJYXHBI4B GKJYXHBF5B GKJYXHBP3B\" style=\"left:159px;top:143px\"><div class=\"GKJYXHBO4B\"><div class=\"GKJYXHBP4B\">Alicante</div><div class=\"GKJYXHBN4B\">114\u00a0\u20ac</div></div></div><div elt=\"od\" ic=\"MJV\" class=\"GKJYXHBF4B GKJYXHBA5B GKJYXHBF5B GKJYXHBP3B\" style=\"left:145px;top:154px\"></div><div elt=\"od\" ic=\"PNA\" class=\"GKJYXHBF4B GKJYXHBA5B GKJYXHBF5B GKJYXHBP3B\" style=\"left:133px;top:9px\"></div><div elt=\"od\" ic=\"ILD\" class=\"GKJYXHBF4B GKJYXHBA5B GKJYXHBF5B GKJYXHBP3B\" style=\"left:185px;top:46px\"></div><div elt=\"od\" ic=\"VLL\" class=\"GKJYXHBF4B GKJYXHBO4B GKJYXHBF5B GKJYXHBP3B\" style=\"left:63px;top:45px\"></div><div elt=\"l\" ic=\"VLL\" class=\"GKJYXHBI4B GKJYXHBF5B GKJYXHBP3B\" style=\"left:63px;top:45px\"><div class=\"GKJYXHBO4B\"><div class=\"GKJYXHBP4B\">Valladolid</div></div></div><div elt=\"od\" ic=\"RGS\" class=\"GKJYXHBF4B GKJYXHBA5B GKJYXHBF5B GKJYXHBH4B\" style=\"left:86px;top:24px\"></div></div></div><div style=\"position: absolute; left: 0px; top: 0px; z-index: 102; width: 100%;\"></div><div style=\"position: absolute; left: 0px; top: 0px; z-index: 103; width: 100%;\"><div style=\"position: absolute; left: 0px; top: 0px; z-index: -1;\"><div style=\"position: absolute; left: 0px; top: 0px; z-index: 1;\"><div style=\"width: 256px; height: 256px; overflow: hidden; position: absolute; left: -85px; top: -190px;\"></div><div style=\"width: 256px; height: 256px; overflow: hidden; position: absolute; left: -85px; top: 66px;\"></div><div style=\"width: 256px; height: 256px; overflow: hidden; position: absolute; left: 171px; top: -190px;\"></div><div style=\"width: 256px; height: 256px; overflow: hidden; position: absolute; left: 171px; top: 66px;\"></div></div></div><div style=\"width: 16px; height: 29px; overflow: hidden; position: absolute; left: 79px; top: 55px; z-index: 83;\"><img style=\"position: absolute; left: 0px; top: 0px; width: 16px; height: 29px; -moz-user-select: none; border: 0px none; padding: 0px; margin: 0px;\" src=\"static/pin.png\" draggable=\"false\" /></div></div><div style=\"position: absolute; z-index: 0; left: 0px; top: 0px;\"><div style=\"overflow: hidden;\"></div></div><div style=\"position: absolute; left: 0px; top: 0px; z-index: 0;\"><div style=\"position: absolute; left: 0px; top: 0px; z-index: 1;\"><div style=\"width: 256px; height: 256px; position: absolute; left: 171px; top: -190px; opacity: 1; transition: opacity 200ms ease-out 0s;\"><img style=\"width: 256px; height: 256px; -moz-user-select: none; border: 0px none; padding: 0px; margin: 0px;\" src=\"https://mt0.google.com/mapslt?gl=ES&amp;lyrs=m&amp;apistyle=s.t:2%7Cp.v:off,s.t:6%7Cs.e:l%7Cp.v:off,s.t:19%7Cs.e:l%7Cp.v:off,s.t:5%7Cs.e:l%7Cp.v:off,s.t:1%7Cs.e:l%7Cp.v:off,s.t:3%7Cp.v:off,s.t:18%7Cs.e:l%7Cp.v:off,s.t:82%7Cs.e:l%7Cp.v:off,s.t:1313%7Cp.v:off&amp;x=16&amp;y=11&amp;z=5\" draggable=\"false\" /></div><div style=\"width: 256px; height: 256px; position: absolute; left: -85px; top: -190px; opacity: 1; transition: opacity 200ms ease-out 0s;\"><img style=\"width: 256px; height: 256px; -moz-user-select: none; border: 0px none; padding: 0px; margin: 0px;\" src=\"https://mt3.google.com/mapslt?gl=ES&amp;lyrs=m&amp;apistyle=s.t:2%7Cp.v:off,s.t:6%7Cs.e:l%7Cp.v:off,s.t:19%7Cs.e:l%7Cp.v:off,s.t:5%7Cs.e:l%7Cp.v:off,s.t:1%7Cs.e:l%7Cp.v:off,s.t:3%7Cp.v:off,s.t:18%7Cs.e:l%7Cp.v:off,s.t:82%7Cs.e:l%7Cp.v:off,s.t:1313%7Cp.v:off&amp;x=15&amp;y=11&amp;z=5\" draggable=\"false\" /></div><div style=\"width: 256px; height: 256px; position: absolute; left: -85px; top: 66px; opacity: 1; transition: opacity 200ms ease-out 0s;\"><img style=\"width: 256px; height: 256px; -moz-user-select: none; border: 0px none; padding: 0px; margin: 0px;\" src=\"https://mt3.google.com/mapslt?gl=ES&amp;lyrs=m&amp;apistyle=s.t:2%7Cp.v:off,s.t:6%7Cs.e:l%7Cp.v:off,s.t:19%7Cs.e:l%7Cp.v:off,s.t:5%7Cs.e:l%7Cp.v:off,s.t:1%7Cs.e:l%7Cp.v:off,s.t:3%7Cp.v:off,s.t:18%7Cs.e:l%7Cp.v:off,s.t:82%7Cs.e:l%7Cp.v:off,s.t:1313%7Cp.v:off&amp;x=15&amp;y=12&amp;z=5\" draggable=\"false\" /></div><div style=\"width: 256px; height: 256px; position: absolute; left: 171px; top: 66px; opacity: 1; transition: opacity 200ms ease-out 0s;\"><img style=\"width: 256px; height: 256px; -moz-user-select: none; border: 0px none; padding: 0px; margin: 0px;\" src=\"https://mt3.google.com/mapslt?gl=ES&amp;lyrs=m&amp;apistyle=s.t:2%7Cp.v:off,s.t:6%7Cs.e:l%7Cp.v:off,s.t:19%7Cs.e:l%7Cp.v:off,s.t:5%7Cs.e:l%7Cp.v:off,s.t:1%7Cs.e:l%7Cp.v:off,s.t:3%7Cp.v:off,s.t:18%7Cs.e:l%7Cp.v:off,s.t:82%7Cs.e:l%7Cp.v:off,s.t:1313%7Cp.v:off&amp;x=16&amp;y=12&amp;z=5\" draggable=\"false\" /></div></div></div></div><div style=\"position: absolute; left: 0px; top: 0px; z-index: 2; width: 100%; height: 100%;\"></div><div style=\"position: absolute; left: 0px; top: 0px; z-index: 3; width: 100%;\"><div style=\"position: absolute; left: 0px; top: 0px; z-index: 104; width: 100%;\"></div><div style=\"position: absolute; left: 0px; top: 0px; z-index: 105; width: 100%;\"></div><div style=\"position: absolute; left: 0px; top: 0px; z-index: 106; width: 100%;\"><div></div><div style=\"width: 16px; height: 29px; overflow: hidden; position: absolute; opacity: 0.01; cursor: pointer; left: 79px; top: 55px; z-index: 83;\" class=\"gmnoprint\" title=\"\"><img style=\"position: absolute; left: 0px; top: 0px; width: 16px; height: 29px; -moz-user-select: none; border: 0px none; padding: 0px; margin: 0px;\" src=\"static/pin.png\" draggable=\"false\" /></div></div><div style=\"position: absolute; left: 0px; top: 0px; z-index: 107; width: 100%;\"><div style=\"z-index: -202; cursor: pointer; display: none;\"><div style=\"width: 30px; height: 27px; overflow: hidden; position: absolute;\"><img style=\"position: absolute; left: 0px; top: 0px; -moz-user-select: none; border: 0px none; padding: 0px; margin: 0px; width: 90px; height: 27px;\" src=\"https://maps.gstatic.com/mapfiles/undo_poly.png\" draggable=\"false\" /></div></div></div></div></div><div class=\"gmnoprint\" style=\"z-index: 1000001; position: absolute; right: 87px; bottom: 0px; width: 82px;\"><div draggable=\"false\" style=\"-moz-user-select: none;\" class=\"gm-style-cc\"><div style=\"opacity: 0.7; width: 100%; height: 100%; position: absolute;\"><div style=\"width: 1px;\"></div><div style=\"background-color: rgb(245, 245, 245); width: auto; height: 100%; margin-left: 1px;\"></div></div><div style=\"position: relative; padding-right: 6px; padding-left: 6px; font-family: Roboto,Arial,sans-serif; font-size: 10px; color: rgb(68, 68, 68); white-space: nowrap; direction: ltr; text-align: right;\"><span>\u00a92014 Google - </span><a style=\"color: rgb(68, 68, 68); text-decoration: none; cursor: pointer; display: none;\">Datos de mapa</a><span style=\"display: none;\"></span></div></div></div><div style=\"background-color: white; padding: 15px 21px; border: 1px solid rgb(171, 171, 171); font-family: Roboto,Arial,sans-serif; color: rgb(34, 34, 34); box-shadow: 0px 4px 16px rgba(0, 0, 0, 0.2); z-index: 10000002; display: none; width: 126px; height: 119px; position: absolute; left: 5px; top: 5px;\"><div style=\"padding: 0px 0px 10px; font-size: 16px;\">Datos de mapa</div><div style=\"font-size: 13px;\"></div><div style=\"width: 13px; height: 13px; overflow: hidden; position: absolute; opacity: 0.7; right: 12px; top: 12px; z-index: 10000; cursor: pointer;\"><img style=\"position: absolute; left: -2px; top: -336px; width: 59px; height: 492px; -moz-user-select: none; border: 0px none; padding: 0px; margin: 0px;\" src=\"https://maps.gstatic.com/mapfiles/api-3/images/mapcnt3.png\" draggable=\"false\" /></div></div><div class=\"gmnoscreen\" style=\"position: absolute; right: 0px; bottom: 0px;\"><div style=\"font-family: Roboto,Arial,sans-serif; font-size: 11px; color: rgb(68, 68, 68); direction: ltr; text-align: right; background-color: rgb(245, 245, 245);\"></div></div><div class=\"gmnoprint gm-style-cc\" style=\"z-index: 1000001; position: absolute; -moz-user-select: none; right: 0px; bottom: 0px;\" draggable=\"false\"><div style=\"opacity: 0.7; width: 100%; height: 100%; position: absolute;\"><div style=\"width: 1px;\"></div><div style=\"background-color: rgb(245, 245, 245); width: auto; height: 100%; margin-left: 1px;\"></div></div><div style=\"position: relative; padding-right: 6px; padding-left: 6px; font-family: Roboto,Arial,sans-serif; font-size: 10px; color: rgb(68, 68, 68); white-space: nowrap; direction: ltr; text-align: right;\"><a style=\"text-decoration: none; cursor: pointer; color: rgb(68, 68, 68);\" href=\"http://www.google.com/intl/es_US/help/terms_maps.html\" target=\"_blank\">T\u00e9rminos de uso</a></div></div><div draggable=\"false\" style=\"-moz-user-select: none; display: none; position: absolute; right: 0px; bottom: 0px;\" class=\"gm-style-cc\"><div style=\"opacity: 0.7; width: 100%; height: 100%; position: absolute;\"><div style=\"width: 1px;\"></div><div style=\"background-color: rgb(245, 245, 245); width: auto; height: 100%; margin-left: 1px;\"></div></div><div style=\"position: relative; padding-right: 6px; padding-left: 6px; font-family: Roboto,Arial,sans-serif; font-size: 10px; color: rgb(68, 68, 68); white-space: nowrap; direction: ltr; text-align: right;\"><a target=\"_new\" title=\"Informar a Google acerca de errores en las im\u00e1genes o en el mapa de carreteras\" style=\"font-family: Roboto,Arial,sans-serif; font-size: 10px; color: rgb(68, 68, 68); text-decoration: none; position: relative;\" href=\"http://maps.google.com/maps?ll=40.493611,-3.566667&amp;z=5&amp;hl=es&amp;gl=US&amp;mapclient=apiv3&amp;skstate=action:mps_dialog$apiref:1&amp;output=classic\">Informar de un error de Maps</a></div></div></div></div><div class=\"GKJYXHBBCC\">Mostrar mapa \u00bb</div></div><div class=\"GKJYXHBH5 GKJYXHBM0\" style=\"\"><div class=\"GKJYXHBF5\" style=\"\"><div class=\"GKJYXHBG5\"><div class=\"GKJYXHBBEB\">Anuncios</div><div act=\"i\" elt=\"i\" class=\"GKJYXHBAEB\"></div></div></div><div class=\"GKJYXHBIDB\"><div class=\"GKJYXHBODB\"><div class=\"gwt-HTML\" id=\"adcontainer\" style=\"\"><div><div class=\"GKJYXHBHDB\"><a href=\"//www.google.com/travel/clk/a?u=CSavg6B_Qx6UEAEYACDsBygAMrkCLy93d3cuZ29vZ2xlLmNvbS9hY2xrP3NhPWwmYWk9Q0RaRmNPQ1pKVk5PTkxJS01qQWJmN1lIZ0I1U1p6Yk1GdkpPOTQ3QUJxYURjM0U4UUFTQ0E2OEluS0FKUXZaMkM3UHpfX19fX0FXRFZ0ZGVDN0FpZ0FiR295TTREeUFFQnFRS1Utb2sxSWptMVBxb0VLRV9RUWF5cXJ2ZTJydDlWcEJ4UzFTRC04bC1nUkZDT0ZUU3M3Qmcza01VaDJQMGJmcHI1SXJXQUItejNweS1RQndHb0I2YS1HdyZudW09MSZzaWc9QU9ENjRfM2hMZEtkWlJVX3F5aFNMbE1ma0RhOGxIeHQ3dyZhZHVybD1odHRwOi8vd3d3LmliZXJpYS5jb20vdnVlbG9zLWJhcmF0b3MvTWFkcmlkLzoQCLyTveOwARICGAAYnOiPaQ\" class=\"GKJYXHBPDB\"><b>Vuelos a Madrid</b> 29\u20ac</a><br /><cite class=\"GKJYXHBKDB\">www.iberia.com/<b>Vuelo</b>-<b>Madrid</b></cite><br /><span class=\"GKJYXHBJDB\"><b>Vuelo Madrid</b>.<br />\u00a1Reserva Online en Iberia.com!<br /></span></div><div class=\"GKJYXHBHDB\"><a href=\"//www.google.com/travel/clk/a?u=CSavg6B_Qx6UEAEYASDsBygAMoUFLy93d3cuZ29vZ2xlLmNvbS9hY2xrP3NhPWwmYWk9Q3ozaE5PQ1pKVk5PTkxJS01qQWJmN1lIZ0I4eThuclFGakwyWDhyNEI5SjNTaVJBUUFpQ0E2OEluS0FKUXFiNzVfd2RnMWJYWGd1d0lvQUhTeFlyX0E4Z0JBYWtDMXl1TFRrWTR0VDZxQkNkUDBFSEgwYTcwdHE3ZlZhUWNVdFVndnFnRm9FUlFqaFUwck93WU41REZJZGo5RzM3UXBKT0FCNWE2ZFpBSEFhZ0hwcjRiJm51bT0yJmdnbGFkZ3JwPTQ4MzY1ODY1MTEyMzM3NDUxMSZnZ2xjcmVhdD02MTY2OTA1NTUzMTg3NzAwOTY1JnNpZz1BT0Q2NF8zb1FfYXlNUzBNZ2p1RmExYTFKQ3diOHQ5NTh3JmFkdXJsPWh0dHA6Ly81MDE0LnhnNGtlbi5jb20vbWVkaWEvcmVkaXIucGhwJTNGcHJvZiUzRDglMjZjYW1wJTNENDI2JTI2YWZmY29kZSUzRGt3OTQ4Mjg0OCUyNmluaFVSTCUzRCUyNmtfaW5uZXJfdXJsX2VuY29kZWQlM0QxJTI2Y2lkJTNENTEzNDUwMjEwMjAlMjZuZXR3b3JrVHlwZSUzRHNlYXJjaCUyNmtkdiUzRGMlMjZ1cmwlNUIlNUQlM0RodHRwJTI1M0ElMjUyRiUyNTJGd3d3LmVkcmVhbXMuZXMlMjUyRiUyNTNGbWt0cG9ydGFsJTI1M0Rnb29nbGUlMjUyNm1vYmlsZURvbWFpbklnbm9yZSUyNTNEMCUyNTI2aXBMb29rdXBJZ25vcmUlMjUzRDAlMjUyNmF3c2VhcmNoY3BjJTI1M0QxOhAIjL2X8r4BEgIYABjqxPAB\" class=\"GKJYXHBPDB\"><b>Vuelos</b> m\u00e1s baratos</a><br /><cite class=\"GKJYXHBKDB\">www.edreams.es/Especial-<b>Vuelos</b></cite><br /><span class=\"GKJYXHBJDB\">Desde 20\u20ac solo Este Mes.<br />Reserva Tu <b>Vuelo</b> Hoy Mismo!<br /></span></div></div></div></div></div><div style=\"display: none;\" aria-hidden=\"true\" class=\"GKJYXHBO4\"><div class=\"GKJYXHBC5\"><div class=\"GKJYXHBD5\"><div class=\"GKJYXHBE5\" elt=\"h\"><div><span act=\"t\" elt=\"t\" class=\"GKJYXHBA5\"></span></div></div><div class=\"GKJYXHBB5\" elt=\"ad\"><div></div></div></div></div></div></div></div></td></tr></tbody></table></td></tr></tbody></table></div></div><iframe src='javascript:\"\"' id=\"flights\" style=\"position: absolute; width: 0px; height: 0px; border: medium none; left: -1000px; top: -1000px;\" tabindex=\"-1\"></iframe><div class=\"GKJYXHBDKC\" style=\"display: none;\" aria-hidden=\"true\"></div><div class=\"GKJYXHBJ-\"><div style=\"display: none;\" aria-hidden=\"true\"><div class=\"GKJYXHBM- GKJYXHBK-\">Las monedas que se muestran pueden variar de las monedas que se utilizan para comprar vuelos. \u2013 <a class=\"GKJYXHBN-\" href=\"https://www.google.es/intl/es/help/currency_disclaimer.html\">Renuncia de responsabilidad</a></div></div><div class=\"GKJYXHBL-\"><div class=\"GKJYXHBN- GKJYXHBM-\"><div class=\"GKJYXHBBX GKJYXHBFSB\">Cambiar moneda \u2013 euro</div></div><div class=\"GKJYXHBN- GKJYXHBM-\">Ayuda</div><div class=\"GKJYXHBN- GKJYXHBM-\">Danos tu opini\u00f3n</div><a class=\"GKJYXHBN- GKJYXHBM-\" href=\"https://www.google.es/intl/es/policies/\">Privacidad y condiciones</a><a class=\"GKJYXHBN- GKJYXHBM-\" href=\"https://www.google.es/intl/es/about/\">Acerca de</a><a class=\"GKJYXHBN- GKJYXHBM-\" href=\"https://www.google.com/flights/?gl=US#search;f=BCN;t=MAD;d=2014-08-15;r=2014-08-20;tt=o;sel=BCNMAD0VY1019\">Vuelos en Google.com</a></div></div><script src=\"//maps.google.com/maps/api/js?v=3&amp;sensor=false&amp;client=google-travel&amp;libraries=geometry&amp;language=es&amp;callback=window.maps_apiv3_load_callback\" type=\"text/javascript\"></script><script src=\"https://maps.gstatic.com/cat_js/maps-api-v3/api/js/17/17/intl/es_ALL/%7Bmain,geometry%7D.js\"></script></body></html>\n"
       ]
      }
     ],
     "prompt_number": 16
    },
    {
     "cell_type": "code",
     "collapsed": true,
     "input": [
      "#Use basic string manipulation to retrieve the price.\n",
      "euro = html.find(u'\u20ac')\n",
      "html[euro-5:euro-1]"
     ],
     "language": "python",
     "metadata": {},
     "outputs": [
      {
       "metadata": {},
       "output_type": "pyout",
       "prompt_number": 17,
       "text": [
        "u'\">65'"
       ]
      }
     ],
     "prompt_number": 17
    },
    {
     "cell_type": "markdown",
     "metadata": {},
     "source": [
      "<div class = \"alert alert-info\" style = \"border-radius:10px;border-width:3px;border-color:darkblue;font-family:Verdana,sans-serif;font-size:16px;\">**Element manipulation in Selenium:**\n",
      "<p>\n",
      "Consider the result of a selection, e.g. \n",
      "\n",
      "<span style = \"font-family:Courier;\">element = browser.find_element_by_css_selector('div')</span>\n",
      "\n",
      "We can do several things on it.\n",
      "<ul>\n",
      "<li>element**.click()** - click on a selected element</li>\n",
      "<li>Element properties:\n",
      "<ul>\n",
      "<li>element**.location**: x, y location</li>\n",
      "<li>element**.parent**: parent element</li>\n",
      "<li>element**.tag_name**: The tag of the element</li>\n",
      "<li>element**.text**: text of the element and childs</li>\n",
      "</ul>\n",
      "</li>\n",
      "   \n",
      "</ul>\n",
      "\n",
      "\n"
     ]
    },
    {
     "cell_type": "markdown",
     "metadata": {},
     "source": [
      "<div class = \"alert alert-success\" style = \"border-radius:10px;border-width:3px;border-color:darkgreen;font-family:Verdana,sans-serif;font-size:16px;\">\n",
      "**A more elaborate exercise:** Go to Amazon, look for the film \"Ip Man\". Retrieve the list of all movies bought by customers who also bought \"Ip Man\". With this list go to Internet Movie Data Base and sort the list according to the score of the movie.\n",
      "</div>"
     ]
    },
    {
     "cell_type": "markdown",
     "metadata": {},
     "source": [
      "<div class = \"alert alert-info\" style = \"border-radius:10px;border-width:3px;border-color:darkblue;font-family:Verdana,sans-serif;font-size:16px;\">**Form input with Selenium:**\n",
      "<ul>\n",
      "<li> element**.send_keys()** - Keys, commands, arrows, etc </li>\n",
      "<li> element**.clear()** - clear the element</li>\n",
      "</ul>\n",
      "<p>\n",
      "\n",
      "**Example.**\n",
      "\n",
      "<p style=\"font-family:Courier;\">\n",
      "from selenium.webdriver.common.keys import Keys\n",
      "<br>input.send_keys('Ip Man',Keys.RETURN)\n",
      "</p>\n",
      "</div>"
     ]
    },
    {
     "cell_type": "markdown",
     "metadata": {},
     "source": [
      "<div class = \"alert alert-info\" style = \"border-radius:10px;border-width:3px;border-color:darkblue;font-family:Verdana,sans-serif;font-size:16px;\">**Scrolling and moving:**\n",
      "Moving around the page is tricky, be prepared for displaying a little patience.\n",
      "\n",
      "ActionChains provide a way of stringing together one or more actions and then implementing them.\n",
      "<ul>\n",
      "<li>move_by_offset(x,y)</li>\n",
      "<li>move_to_element() - for highlighting, hovering, rollover, etc.</li>\n",
      "<li>move_to_elemnte_by_offset(elem, x, y)</li>\n",
      "</ul>\n",
      "\n",
      "\n",
      "</div>"
     ]
    },
    {
     "cell_type": "code",
     "collapsed": true,
     "input": [
      "from selenium.webdriver.common.keys import Keys\n",
      "\n",
      "amazon = 'http://www.amazon.es/'\n",
      "imbd = 'http://www.imdb.com/'\n",
      "\n",
      "# Open a browser\n",
      "browser = webdriver.Firefox()\n",
      "\n",
      "# Go to amazon\n",
      "browser.get(amazon)\n",
      "browser.implicitly_wait(3)\n",
      "\n",
      "\n",
      "# Find the search text box\n",
      "amazon_search_bar = browser.find_element_by_id('twotabsearchtextbox')\n",
      "\n",
      "# Clear it, input the query and send it\n",
      "amazon_search_bar.clear()\n",
      "amazon_search_bar.send_keys('Ip Man', Keys.RETURN)\n",
      "browser.implicitly_wait(3)\n",
      "\n",
      "# Click on the first result obtained\n",
      "first_result = browser.find_element_by_css_selector('#result_0 a')\n",
      "first_result.click()\n",
      "browser.implicitly_wait(3)\n",
      "\n",
      "# Find the similar purchases\n",
      "#and use an Action chain to scroll down to them using move_to_element\n",
      "also_bought_div = browser.find_element_by_id('purchase-sims-feature')\n",
      "scroll = webdriver.ActionChains(browser)\n",
      "scroll.move_to_element(also_bought_div)\n",
      "scroll.perform()\n",
      "\n",
      "# Get the texts of all the films in that area\n",
      "raw_movies = []\n",
      "raw_movies.append(browser.find_element_by_class_name('shoveler-content')) #.get_attribute('textContent'))\n",
      "\n",
      "num_pages = browser.find_element_by_css_selector('div.shoveler-pagination span.num-pages')\n",
      "pages = int(num_pages.get_attribute('textContent'))\n",
      "\n",
      "# Click on the next button and repeat retrieving the name of the films\n",
      "for i in range(1, pages):\n",
      "    nextbtn = browser.find_element_by_css_selector('a.next-button')\n",
      "    nextbtn.click()\n",
      "    browser.implicitly_wait(10)\n",
      "    raw_movies.append(browser.find_element_by_class_name('shoveler-content')) #.get_attribute('textContent'))\n",
      "    \n",
      "print raw_movies\n",
      "print pages"
     ],
     "language": "python",
     "metadata": {},
     "outputs": [
      {
       "output_type": "stream",
       "stream": "stdout",
       "text": [
        "[<selenium.webdriver.remote.webelement.WebElement object at 0x0000000003C47CC0>, <selenium.webdriver.remote.webelement.WebElement object at 0x0000000003C47D30>, <selenium.webdriver.remote.webelement.WebElement object at 0x0000000003C47E48>, <selenium.webdriver.remote.webelement.WebElement object at 0x0000000003C47B38>, <selenium.webdriver.remote.webelement.WebElement object at 0x0000000003C47DD8>]\n",
        "5\n"
       ]
      }
     ],
     "prompt_number": 23
    },
    {
     "cell_type": "code",
     "collapsed": false,
     "input": [
      "raw_movies[0]."
     ],
     "language": "python",
     "metadata": {},
     "outputs": [
      {
       "metadata": {},
       "output_type": "pyout",
       "prompt_number": 27,
       "text": [
        "<selenium.webdriver.remote.webelement.WebElement at 0x3c47cc0>"
       ]
      }
     ],
     "prompt_number": 27
    },
    {
     "cell_type": "markdown",
     "metadata": {},
     "source": [
      "<div class = \"alert alert-info\" style = \"border-radius:10px;border-width:3px;border-color:darkblue;font-family:Verdana,sans-serif;font-size:16px;\"> **Wait**\n",
      "\n",
      "We can distinguish two types of waiting strategies, namely, implicit and explicit waits.\n",
      "\n",
      "*Implicit waits* set up a timeout that will last for the full life of the web driver. On the other hand, *explicit waits* tell the driver to poll the DOM until some condition is met, e.g. a certain element has finished loading on the page. \n",
      "\n",
      "Example:\n",
      "<p style=\"font-family:Courier;\">\n",
      "try: <br>\n",
      "movie_info = webdriverwait(browser,10).until(EC.element_to_be_clickable((By.ID,'BotMovie')))<br>\n",
      "title = movie_info.find_element_by_class_name('title').text<br>\n",
      "link = movie_info.find_element_by_class_name('mdpLink').get_attribute('href')<br>\n",
      "except:<br>\n",
      " print 'taking too long!!'<br>\n",
      " </p>\n",
      " \n",
      "*EC* stands for Expected Condition and are the basis of explicit waits (see http://selenium-python.readthedocs.org for more information)\n",
      "</div>"
     ]
    },
    {
     "cell_type": "markdown",
     "metadata": {},
     "source": [
      "<div class = \"alert alert-info\" style = \"border-radius:10px;border-width:3px;border-color:darkblue;font-family:Verdana,sans-serif;font-size:16px;\"> **Wrap-up**\n",
      "<ul>\n",
      "<li>We understood how data is usually stored in the web site and how to access it using different kinds of accessors, namely API and direct selectors.</li>\n",
      "<li>We have seen how to capture different kinds of data types(text, audio and pictures).</li>\n",
      "<li>We are now familiar with JSON data and basic No-SQL databases.</li>\n",
      "</ul>\n",
      "</div>"
     ]
    }
   ],
   "metadata": {}
  }
 ]
}