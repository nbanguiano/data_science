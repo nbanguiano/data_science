{
 "metadata": {
  "name": "",
  "signature": "sha256:b5142f9723b488a834326235b32c373c0c8a9f148d283ff8617e7c2e52ad8d58"
 },
 "nbformat": 3,
 "nbformat_minor": 0,
 "worksheets": [
  {
   "cells": [
    {
     "cell_type": "code",
     "collapsed": false,
     "input": [
      "from IPython.core.display import HTML\n",
      "def css_styling():\n",
      "    styles = open(\"styles/custom.css\", \"r\").read()\n",
      "    return HTML(styles)\n",
      "css_styling()"
     ],
     "language": "python",
     "metadata": {},
     "outputs": [
      {
       "html": [
        "<style>\r\n",
        "    @font-face {\r\n",
        "        font-family: \"Computer Modern\";\r\n",
        "        src: url('http://9dbb143991406a7c655e-aa5fcb0a5a4ec34cff238a2d56ca4144.r56.cf5.rackcdn.com/cmunss.otf');\r\n",
        "    }\r\n",
        "    @font-face {\r\n",
        "        font-family: \"Computer Modern\";\r\n",
        "        font-weight: bold;\r\n",
        "        src: url('http://9dbb143991406a7c655e-aa5fcb0a5a4ec34cff238a2d56ca4144.r56.cf5.rackcdn.com/cmunsx.otf');\r\n",
        "    }\r\n",
        "    @font-face {\r\n",
        "        font-family: \"Computer Modern\";\r\n",
        "        font-style: oblique;\r\n",
        "        src: url('http://9dbb143991406a7c655e-aa5fcb0a5a4ec34cff238a2d56ca4144.r56.cf5.rackcdn.com/cmunsi.otf');\r\n",
        "    }\r\n",
        "    @font-face {\r\n",
        "        font-family: \"Computer Modern\";\r\n",
        "        font-weight: bold;\r\n",
        "        font-style: oblique;\r\n",
        "        src: url('http://9dbb143991406a7c655e-aa5fcb0a5a4ec34cff238a2d56ca4144.r56.cf5.rackcdn.com/cmunso.otf');\r\n",
        "    }\r\n",
        "    div.cell{\r\n",
        "        width:800px;\r\n",
        "        margin-left:16% !important;\r\n",
        "        margin-right:auto;\r\n",
        "    }\r\n",
        "    h1 {\r\n",
        "        font-family: Helvetica, serif;\r\n",
        "    }\r\n",
        "    h4{\r\n",
        "        margin-top:12px;\r\n",
        "        margin-bottom: 3px;\r\n",
        "       }\r\n",
        "    div.text_cell_render{\r\n",
        "        font-family: Computer Modern, \"Helvetica Neue\", Arial, Helvetica, Geneva, sans-serif;\r\n",
        "        line-height: 145%;\r\n",
        "        font-size: 130%;\r\n",
        "        width:800px;\r\n",
        "        margin-left:auto;\r\n",
        "        margin-right:auto;\r\n",
        "    }\r\n",
        "    .CodeMirror{\r\n",
        "            font-family: \"Source Code Pro\", source-code-pro,Consolas, monospace;\r\n",
        "    }\r\n",
        "    .prompt{\r\n",
        "        display: None;\r\n",
        "    }\r\n",
        "    .text_cell_render h5 {\r\n",
        "        font-weight: 300;\r\n",
        "        font-size: 22pt;\r\n",
        "        color: #4057A1;\r\n",
        "        font-style: italic;\r\n",
        "        margin-bottom: .5em;\r\n",
        "        margin-top: 0.5em;\r\n",
        "        display: block;\r\n",
        "    }\r\n",
        "    \r\n",
        "    .warning{\r\n",
        "        color: rgb( 240, 20, 20 )\r\n",
        "        }  \r\n",
        "</style>\r\n",
        "<script>\r\n",
        "    MathJax.Hub.Config({\r\n",
        "                        TeX: {\r\n",
        "                           extensions: [\"AMSmath.js\"]\r\n",
        "                           },\r\n",
        "                tex2jax: {\r\n",
        "                    inlineMath: [ ['$','$'], [\"\\\\(\",\"\\\\)\"] ],\r\n",
        "                    displayMath: [ ['$$','$$'], [\"\\\\[\",\"\\\\]\"] ]\r\n",
        "                },\r\n",
        "                displayAlign: 'center', // Change this to 'center' to center equations.\r\n",
        "                \"HTML-CSS\": {\r\n",
        "                    styles: {'.MathJax_Display': {\"margin\": 4}}\r\n",
        "                }\r\n",
        "        });\r\n",
        "</script>\r\n"
       ],
       "metadata": {},
       "output_type": "pyout",
       "prompt_number": 1,
       "text": [
        "<IPython.core.display.HTML at 0x10438c590>"
       ]
      }
     ],
     "prompt_number": 1
    },
    {
     "cell_type": "markdown",
     "metadata": {
      "slideshow": {
       "slide_type": "slide"
      }
     },
     "source": [
      "# Course: Introduction to Data Science & Big Data."
     ]
    },
    {
     "cell_type": "markdown",
     "metadata": {},
     "source": [
      "## Syllabus\n",
      "\n",
      "+ A practical introduction to Data Science using IPython: Python, IPython.\n",
      "+ Data Science Toolbox: numpy, pandas.\n",
      "+ Data Gathering and Storage: Web Scraping, NoSQL Data Bases.\n",
      "+ Software Carpentry: Git, Testing, Profiling.\n",
      "+ Data Cleaning and Natural Language Analysis.\n",
      "+ Computational Statistics.\n",
      "+ Assessment of predictions.\n",
      "+ Regression.\n",
      "+ Bayesian Statistics.\n",
      "+ Master Class BBVA\n",
      "+ Machine Learning I: Supervised Methods.\n",
      "+ Machine Learning II Non Supervised Methods.\n",
      "+ Master Class Anaxomics\n",
      "+ Big Data I: Multicore Processing.\n",
      "+ Big Data II: Distributed Processing.\n",
      "+ Recommenders.\n",
      "+ Master Class Synergic Partners.\n",
      "+ Graph Analysis.\n",
      "+ Visualization.\n",
      "+ Master Class e-Dreams.\n",
      "+ Master Class Barcelona Media.\n",
      "+ CAPSTONE PROJECT."
     ]
    },
    {
     "cell_type": "markdown",
     "metadata": {
      "slideshow": {
       "slide_type": "subslide"
      }
     },
     "source": [
      "Today:  A practical introduction to Data Science using IPython \n",
      "\n",
      "+ Install Party\n",
      "+ What is Data Science?\n",
      "+ Python and its Applications to Data Analysis"
     ]
    },
    {
     "cell_type": "markdown",
     "metadata": {
      "slideshow": {
       "slide_type": "slide"
      }
     },
     "source": [
      "## About this course\n",
      "\n",
      "+ This is an introduction to **data science**, a new discipline whose aim is to tell data driven stories for understanding data.\n",
      "\n",
      "+ Data driven stories include data, code, images and videos, equations, plots, schemes, etc. \n",
      "\n",
      "+ To tell data driven stories we need a complex set of tools (R, Matlab, Python, LaTex, Hadoop, PowerPoint, etc.) to be combined in complex pipelines. This is a painful activity! \n",
      "\n",
      "+ To minimize pain, we will use IPython notebooks.\n",
      "\n",
      "+ The IPython Notebook is an open source (BSD) tool for telling stories with code and data that are **interactive, exploratory, collaborative, open and reproducible**.\n",
      "\n",
      "<center><img src=\"files/images/ipython.png\"></center>\n",
      "\n",
      "* A notebook is a document, written in an open, JSON based format, that can be stored in your local directory. The documents can include code in a variety of languages (Python, Julia, etc.), text (Markdown), equations (LaTex), images, videos and web pages. \n",
      "\n",
      "* A notebook document can be viewed in a browser if you install IPython in your computer (http://ipython.org/install.html) or even without IPython installed if the notebook is available as a URL (http://nbviewer.ipython.org/). It can also be exported to several formats (HTML, LaTex, etc.) and it can be viewed as slideshows with live computations. \n",
      "\n",
      "\n"
     ]
    },
    {
     "cell_type": "markdown",
     "metadata": {
      "slideshow": {
       "slide_type": "slide"
      }
     },
     "source": [
      "## IPython Installation\n",
      "\n",
      "+ The recommended method to install the Python scienti\ufb01c stack is to use *Continuum Analytics' Anaconda*.\n",
      "\n",
      "+ Anaconda, a free product of Continuum Analytics (www.continuum.io), is a virtually complete scienti\ufb01c\n",
      "stack for Python. It includes both the core Python interpreter and standard libraries as well as most\n",
      "modules required for data analysis.\n",
      "\n",
      "+ Go to http://continuum.io/downloads, scroll down to the downloads section and download the installer for the appropriate architecture (64bit or 32bit).\n",
      "\n",
      "+ To start the IPython Notebook server, run the following commmand from a new terminal/command prompt from a directory of your choice: <br>\n",
      "<code>ipython notebook</code>\n",
      "\n",
      "+ Go to your default browser. IPython Notebook should be running at  <br> http://127.0.0.1:8888/\n",
      "\n",
      "+ If you want to start a new notebook, click the ``New Notebook`` button on the right. Otherwise, select the notebook you want to edit.\n",
      "\n",
      "+ If you want to open up an IPython Notebook you have dowloaded, just copy the notebook on the active directory and the notebook list will be automatically actualized. "
     ]
    },
    {
     "cell_type": "markdown",
     "metadata": {
      "slideshow": {
       "slide_type": "slide"
      }
     },
     "source": [
      "## Why IPython?\n",
      "\n",
      "> \"Programs must be written for people to read, and only incidentally for machines to execute.\"\n",
      "*Abelson & Sussman, SICP*\n",
      "\n",
      "+ Students can write programs as a way of developing and testing their understanding.\n",
      "+ It is very easy to run real-world experiments.\n",
      "+ You can even run R programs!\n"
     ]
    },
    {
     "cell_type": "markdown",
     "metadata": {
      "slideshow": {
       "slide_type": "slide"
      }
     },
     "source": [
      "## What is this course about?\n",
      "\n",
      "<center><img src=\"files/images/jobgraph.png\"></center>\n",
      "\n",
      "Our objective is to introduce the **data scientist** toolbox and an associated methodology for understanding data."
     ]
    },
    {
     "cell_type": "markdown",
     "metadata": {
      "slideshow": {
       "slide_type": "slide"
      }
     },
     "source": [
      "## Data Scientists, Data Engineers, etc.\n",
      "\n",
      "> Adapted from Skimlinks (www.skimlinks.com) job offers. \n",
      "\n",
      "+ Data scientists responsabilitites include: data analysis, coding up prototpyes, performing large scale experiments to test hypothesis, designing and scaling up prototypes, iterative product development, etc.\n",
      "\n",
      "+ Data engineers responsabilities include: developing systems to process and aggregate (massive) data sets, supporting and monitoring distributed systems, supporting data scientists, scaling up algorithms developed by data scientists, etc. "
     ]
    },
    {
     "cell_type": "markdown",
     "metadata": {
      "slideshow": {
       "slide_type": "slide"
      }
     },
     "source": [
      "## Reading List\n",
      "\n",
      "### Basics\n",
      "\n",
      "-\tGareth James, Daniela Witten, Trevor Hastie and Robert Tibshirani. An Introduction to Statistical Learning with Applications in R. Springer (June 2013).\n",
      "-\tCyrille Rossant, Learning IPython for Interactive Computing and Data Visualization. Packt Publishing, 2013.\n",
      "-\tPaul Barry, Head First Python, O'Reilly Media, November 2010.\n",
      "-   Rajaraman, Anand, and Jeffrey David Ullman. Mining of massive datasets. Cambridge University Press, 2012.\n",
      "-  David M Diez, Christopher D Barr, Mine \u00c7etinkaya-Rundel, OpenIntro Statistics: Second Edition, http://www.openintro.org/stat/\n",
      "- Hans Petter Langtangen. A Primer on Scientific Programming with Python. Springer, 2012.\n",
      "\n",
      "### IPython Stack\n",
      "\n",
      "-\tFernando P\u00e9rez, Brian E. Granger, IPython: A System for Interactive Scientific Computing, Computing in Science and Engineering, vol. 9, no. 3, pp. 21-29, May/June 2007, doi:10.1109/MCSE.2007.53. URL: http://ipython.org\n",
      "-\tWes McKinney, Python for Data Analysis: Data Wrangling with Pandas, NumPy, and IPython. O'Reilly Media, October 2012.\n",
      "-\tEli Bressert, SciPy and NumPy: Examples to Jumpstart your Scientific Python Programming. O'Reilly Media. November 2012.\n",
      "\n",
      "\n",
      "### Data Science\n",
      "\n",
      "-\tAllen B. Downey, Think Stats, O'Reilly Media. July 2011.\n",
      "-\tApplied Statistics course at Stanford, http://www.stanford.edu/class/stats191/\n",
      "-\tRachel Schutt, Cathy O'Neil. Doing Data Science. O'Reilly Media. October 2013.\n",
      "-\tCameron Davidson-Pilon, Probabilistic Programming and Bayesian Methods for Hackers. Frre book available at: https://github.com/CamDavidsonPilon/Probabilistic-Programming-and-Bayesian-Methods-for-Hackers, 2013.\n",
      "-\tWilli Richert, Luis Pedro Coelho. Building Machine Learning Systems with Python.  Packt Publishing (July 26, 2013).\n",
      "-\tToby Segaran, Programming Collective Intelligence: Building Smart Web 2.0 Applications, O'Reilly Media, August 2007.\n",
      "-\tBishop, Christopher M., and Nasser M. Nasrabadi. Pattern recognition and machine learning. Vol. 1. New York: Springer, 2006.\n",
      "-\tJo\u00e3o Gama and Mohamed Medhat Gaber (Eds.), Learning from Data Streams: Processing Techniques in Sensor Networks, Springer, 2007.\n"
     ]
    },
    {
     "cell_type": "markdown",
     "metadata": {
      "slideshow": {
       "slide_type": "slide"
      }
     },
     "source": [
      "<center><img src=\"files/images/ISLTextbook.jpg\">   <img src=\"files/images/ipythonbook2.jpg\"></center> \\\\\n",
      "\n",
      "<center><img src=\"files/images/py2.jpg\"> <img src=\"files/images/mining3.jpg\"></center>\n",
      "\n",
      "<img src=\"files/images/open.jpg\"></center>\n",
      "\n"
     ]
    },
    {
     "cell_type": "markdown",
     "metadata": {},
     "source": [
      "## Courses\n",
      "\n",
      "#### Data Science\n",
      "\n",
      "+ UC Berkeley: Introduction to Data Science.\n",
      "+ How to Process, Analyze and Visualize Data.\n",
      "+ Coursera: Introduction to Data Science.\n",
      "+ Columbia: Introduction to Data Science.\n",
      "+ Columbia: Applied Data Science.\n",
      "+ Coursera: Data Analysis.\n",
      "+ Udacity: Intro to Data Science, Learn What It Takes to Become a Data Scientist.\n",
      "\n",
      "#### Statistics\n",
      "\n",
      "+ edx: Introduction to Statistics.\n",
      "+ Coursera: Statistics, Making sense of Data.\n",
      "+ MIT: Statistical Thinking and Data Analysis.\n",
      "\n",
      "#### Machine Learning\n",
      "\n",
      "+ Coursera: Machine Learning.\n",
      "+ Coursera: Computational Methods for Data Analysis.\n",
      "+ MIT: Data Mining.\n",
      "+ edx: Introduction to Artificial Intelligence.\n",
      "+ edx: Introduction to Computer Science and Programming.\n",
      "\n",
      "#### Data Cleaning\n",
      "\n",
      "+ School of Data: A gentle introduction to cleaning data.\n",
      "\n",
      "#### Visualization\n",
      "\n",
      "+ UC Berkeley: Visualization.\n",
      "+ Rice: Data Visualization.\n",
      "+ Harvard: Introduction to Computing, Modeling, and Visualization.\n",
      "\n",
      "#### Big Data\n",
      "\n",
      "+ UC Berkeley: Analyzing Big Data with Twitter.\n",
      "+ Coursera: Web Intelligence and Big Data.\n",
      "+ CMU: Machine Learning with Large Datasets.\n",
      "+ U of Chicago: Large Scale Learning.\n",
      "+ UC Berkeley: Scalable Machine Learning."
     ]
    }
   ],
   "metadata": {}
  }
 ]
}