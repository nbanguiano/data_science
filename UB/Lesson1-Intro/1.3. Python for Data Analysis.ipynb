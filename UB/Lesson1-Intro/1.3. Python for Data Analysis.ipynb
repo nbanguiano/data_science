{
 "metadata": {
  "name": "",
  "signature": "sha256:b05c625d8a537e47eaad3824475cbbb2d0c4bd9849bccdc5fc11591830f59f72"
 },
 "nbformat": 3,
 "nbformat_minor": 0,
 "worksheets": [
  {
   "cells": [
    {
     "cell_type": "code",
     "collapsed": false,
     "input": [
      "from IPython.core.display import HTML\n",
      "def css_styling():\n",
      "    styles = open(\"styles/custom.css\", \"r\").read()\n",
      "    return HTML(styles)\n",
      "css_styling()"
     ],
     "language": "python",
     "metadata": {},
     "outputs": [
      {
       "html": [
        "<style>\n",
        "    @font-face {\n",
        "        font-family: \"Computer Modern\";\n",
        "        src: url('http://9dbb143991406a7c655e-aa5fcb0a5a4ec34cff238a2d56ca4144.r56.cf5.rackcdn.com/cmunss.otf');\n",
        "    }\n",
        "    @font-face {\n",
        "        font-family: \"Computer Modern\";\n",
        "        font-weight: bold;\n",
        "        src: url('http://9dbb143991406a7c655e-aa5fcb0a5a4ec34cff238a2d56ca4144.r56.cf5.rackcdn.com/cmunsx.otf');\n",
        "    }\n",
        "    @font-face {\n",
        "        font-family: \"Computer Modern\";\n",
        "        font-style: oblique;\n",
        "        src: url('http://9dbb143991406a7c655e-aa5fcb0a5a4ec34cff238a2d56ca4144.r56.cf5.rackcdn.com/cmunsi.otf');\n",
        "    }\n",
        "    @font-face {\n",
        "        font-family: \"Computer Modern\";\n",
        "        font-weight: bold;\n",
        "        font-style: oblique;\n",
        "        src: url('http://9dbb143991406a7c655e-aa5fcb0a5a4ec34cff238a2d56ca4144.r56.cf5.rackcdn.com/cmunso.otf');\n",
        "    }\n",
        "    div.cell{\n",
        "        width:800px;\n",
        "        margin-left:16% !important;\n",
        "        margin-right:auto;\n",
        "    }\n",
        "    h1 {\n",
        "        font-family: Helvetica, serif;\n",
        "    }\n",
        "    h4{\n",
        "        margin-top:12px;\n",
        "        margin-bottom: 3px;\n",
        "       }\n",
        "    div.text_cell_render{\n",
        "        font-family: Computer Modern, \"Helvetica Neue\", Arial, Helvetica, Geneva, sans-serif;\n",
        "        line-height: 145%;\n",
        "        font-size: 130%;\n",
        "        width:800px;\n",
        "        margin-left:auto;\n",
        "        margin-right:auto;\n",
        "    }\n",
        "    .CodeMirror{\n",
        "            font-family: \"Source Code Pro\", source-code-pro,Consolas, monospace;\n",
        "    }\n",
        "    .prompt{\n",
        "        display: None;\n",
        "    }\n",
        "    .text_cell_render h5 {\n",
        "        font-weight: 300;\n",
        "        font-size: 22pt;\n",
        "        color: #4057A1;\n",
        "        font-style: italic;\n",
        "        margin-bottom: .5em;\n",
        "        margin-top: 0.5em;\n",
        "        display: block;\n",
        "    }\n",
        "    \n",
        "    .warning{\n",
        "        color: rgb( 240, 20, 20 )\n",
        "        }  \n",
        "</style>\n",
        "<script>\n",
        "    MathJax.Hub.Config({\n",
        "                        TeX: {\n",
        "                           extensions: [\"AMSmath.js\"]\n",
        "                           },\n",
        "                tex2jax: {\n",
        "                    inlineMath: [ ['$','$'], [\"\\\\(\",\"\\\\)\"] ],\n",
        "                    displayMath: [ ['$$','$$'], [\"\\\\[\",\"\\\\]\"] ]\n",
        "                },\n",
        "                displayAlign: 'center', // Change this to 'center' to center equations.\n",
        "                \"HTML-CSS\": {\n",
        "                    styles: {'.MathJax_Display': {\"margin\": 4}}\n",
        "                }\n",
        "        });\n",
        "</script>\n"
       ],
       "metadata": {},
       "output_type": "pyout",
       "prompt_number": 1,
       "text": [
        "<IPython.core.display.HTML at 0x9a1a978>"
       ]
      }
     ],
     "prompt_number": 1
    },
    {
     "cell_type": "markdown",
     "metadata": {
      "slideshow": {
       "slide_type": "slide"
      }
     },
     "source": [
      "# Programming for Data Science in a Box."
     ]
    },
    {
     "cell_type": "markdown",
     "metadata": {
      "slideshow": {
       "slide_type": "slide"
      }
     },
     "source": [
      "## What is Python?\n",
      "\n",
      "- Python is a modern, open source, object-oriented programming language, created by a Dutch programmer, Guido van Rossum, in 1991. \n",
      "\n",
      "- Officially, it is an interpreted scripting language. There are several implementations (Jython, Cython, PyPy, etc.), being the most used the one implemented in C. \n",
      "\n",
      "- It offers the power and flexibility of lower level (i.e. compiled) languages, without the steep learning curve, and without most of the associated debugging pitfalls. \n",
      "\n",
      "- The language is very clean and readable, and it is available for almost every modern computing platform.\n",
      "\n",
      "- It is widely used for prototyping, product development and product deployment: Google, DropBox, Deutsche Borse, NASA, etc.\n"
     ]
    },
    {
     "cell_type": "markdown",
     "metadata": {
      "slideshow": {
       "slide_type": "slide"
      }
     },
     "source": [
      "## Why use Python for data analysis?\n",
      "\n",
      "In Data Science, programming is mostly about **discovering solutions** by writting code and using a language to express them. \n",
      "\n",
      "Python offers a number of advantages to data scientists:\n",
      "\n",
      "* Powerful and easy to use. \n",
      "    * Anything that can be coded in C, FORTRAN, or Java can be done in Python, almost always in fewer lines of code, and with fewer debugging headaches. \n",
      "    * Its standard library is extremely rich, including modules for string manipulation, regular expressions, file compression, mathematics, scientific programming, profiling and debugging. \n",
      "    * Unnecessary language constructs, such as END statements and brackets are absent, making the code efficient and easy to read.\n",
      "    * Python is object-oriented, which allows data structures to be abstracted in a natural way."
     ]
    },
    {
     "cell_type": "markdown",
     "metadata": {},
     "source": [
      "* Interactive\n",
      "    * Python may be run interactively on the command line. Commands may entered serially followed by the <code>Return</code> key. \n",
      "    * This is useful for exploratory programming.\n",
      "    \n",
      "    \n",
      "* Extensible\n",
      "    * Python is often referred to as a \u201cglue\u201d language, meaning that it is a useful in a mixed-language environment. C or FORTRAN code can be compiled directly into Python programs.\n",
      "    * Sometimes, it can be slow relative to compiled languages. In many cases this performance deficit is due to a short loop of code that runs thousands or millions of times. Such bottlenecks may be **easily** removed by coding a function in C or Cython that can be compiled into a Python module.\n",
      "\n"
     ]
    },
    {
     "cell_type": "markdown",
     "metadata": {},
     "source": [
      "* Third-party modules\n",
      "    * There is a vast body of Python modules:\n",
      "        * NumPy: Numerical Python (NumPy) is a set of extensions that provides the ability to specify and manipulate array data structures. \n",
      "        * SciPy: An open source library of scientific tools for Python, SciPy supplements the NumPy module. SciPy includes modules for graphics and plotting, optimization, integration, special functions, signal and image processing, genetic algorithms, ODE solvers, and others.\n",
      "        * Matplotlib: Matplotlib is a python 2D plotting library which produces publication-quality figures.\n",
      "        * pandas: A module that provides high-performance, easy-to-use data structures and data analysis tools. In particular, the DataFrame class is useful for spreadsheet-like representation and mannipulation of data. \n",
      "        * IPython: An enhanced Python shell, designed to increase the efficiency and usability of coding, testing and debugging Python.         \n",
      "        \n",
      "        \n",
      "* Free and open:\n",
      "    * Python is released on all platforms under the GNU public license, meaning that the language and its source is freely distributable. "
     ]
    },
    {
     "cell_type": "markdown",
     "metadata": {},
     "source": [
      "<div class=\"alert alert-error\"><strong>IPython Installation:</strong> For new users who want to get up and running with minimal effort, we suggest you to download and install Anaconda (http://docs.continuum.io/anaconda/) which provide a setup based on Python 2.7. Anaconda is a free collection of powerful packages for Python that enables large-scale data management, analysis, and visualization for Business Intelligence, Scientific Analysis, Engineering, Machine Learning, and more.\n",
      "</div>"
     ]
    },
    {
     "cell_type": "markdown",
     "metadata": {},
     "source": [
      "<div class=\"alert alert-error\"><strong>Running IPython:</strong> To run IPython, (1) Using the command line, navigate to the directory you want to store notebooks, and (2) start running a notebook server from the command line using the following command: `ipython notebook`\n",
      "\n",
      "</div>"
     ]
    },
    {
     "cell_type": "markdown",
     "metadata": {
      "slideshow": {
       "slide_type": "slide"
      }
     },
     "source": [
      "## Python\n",
      "\n",
      "Once you have IPython installed, you are ready to perform all sorts of operations. \n",
      "\n",
      "The software program that you use to invoke operators is called an **interpreter**. You enter your commands as a \u2018dialog\u2019 between you and the interpreter. Commands can be entered as part of a script (a text file with a list of commands to perform) or directly at the *cell*. \n",
      "\n",
      "In order to ask to the interpreter what to do, you must **invoke** an operator:"
     ]
    },
    {
     "cell_type": "code",
     "collapsed": false,
     "input": [
      "3 + 4 + 9"
     ],
     "language": "python",
     "metadata": {
      "slideshow": {
       "slide_type": "subslide"
      }
     },
     "outputs": [
      {
       "metadata": {},
       "output_type": "pyout",
       "prompt_number": 3,
       "text": [
        "16"
       ]
      }
     ],
     "prompt_number": 3
    },
    {
     "cell_type": "code",
     "collapsed": false,
     "input": [
      "range(10)"
     ],
     "language": "python",
     "metadata": {
      "slideshow": {
       "slide_type": "slide"
      }
     },
     "outputs": [
      {
       "metadata": {},
       "output_type": "pyout",
       "prompt_number": 4,
       "text": [
        "[0, 1, 2, 3, 4, 5, 6, 7, 8, 9]"
       ]
      }
     ],
     "prompt_number": 4
    },
    {
     "cell_type": "markdown",
     "metadata": {
      "slideshow": {
       "slide_type": "slide"
      }
     },
     "source": [
      "It\u2019s helpful to think of the computation carried out by an operator as involving four parts:\n",
      "\n",
      "+ The name of the operator\n",
      "+ The input arguments\n",
      "+ The output value\n",
      "+ Side effects\n",
      "\n",
      "A typical operation takes one or more input arguments and uses the information in these to produce an output value. Along the way, the computer might take some action: display a graph, store a file, make a sound, etc. These actions are called side effects."
     ]
    },
    {
     "cell_type": "markdown",
     "metadata": {},
     "source": [
      "Python is a general-purpose programming language, so when we want to use more specific commands (such as statistical operators or string processing oeprators) we usually need to import them before we can use them. For Scientific Python, one of the most important libraries that we need is numpy (Numerical Python), which can be loaded like this:"
     ]
    },
    {
     "cell_type": "code",
     "collapsed": false,
     "input": [
      "import numpy as np\n",
      "np.sqrt(25)"
     ],
     "language": "python",
     "metadata": {},
     "outputs": [
      {
       "metadata": {},
       "output_type": "pyout",
       "prompt_number": 5,
       "text": [
        "5.0"
       ]
      }
     ],
     "prompt_number": 5
    },
    {
     "cell_type": "code",
     "collapsed": false,
     "input": [
      "np.arange(10)"
     ],
     "language": "python",
     "metadata": {},
     "outputs": [
      {
       "metadata": {},
       "output_type": "pyout",
       "prompt_number": 6,
       "text": [
        "array([0, 1, 2, 3, 4, 5, 6, 7, 8, 9])"
       ]
      }
     ],
     "prompt_number": 6
    },
    {
     "cell_type": "markdown",
     "metadata": {},
     "source": [
      "Access to the functions, variables and classes of a module depends on the way the module was imported:"
     ]
    },
    {
     "cell_type": "code",
     "collapsed": false,
     "input": [
      "import math\n",
      "math.cos(math.pi)"
     ],
     "language": "python",
     "metadata": {},
     "outputs": [
      {
       "metadata": {},
       "output_type": "pyout",
       "prompt_number": 7,
       "text": [
        "-1.0"
       ]
      }
     ],
     "prompt_number": 7
    },
    {
     "cell_type": "code",
     "collapsed": false,
     "input": [
      "import math as m  # import using an alias\n",
      "m.cos(m.pi)"
     ],
     "language": "python",
     "metadata": {},
     "outputs": [
      {
       "metadata": {},
       "output_type": "pyout",
       "prompt_number": 8,
       "text": [
        "-1.0"
       ]
      }
     ],
     "prompt_number": 8
    },
    {
     "cell_type": "code",
     "collapsed": false,
     "input": [
      "from math import cos,pi # import only some functions\n",
      "cos(pi)"
     ],
     "language": "python",
     "metadata": {},
     "outputs": [
      {
       "metadata": {},
       "output_type": "pyout",
       "prompt_number": 9,
       "text": [
        "-1.0"
       ]
      }
     ],
     "prompt_number": 9
    },
    {
     "cell_type": "code",
     "collapsed": false,
     "input": [
      "from math import *   # global import\n",
      "cos(pi)"
     ],
     "language": "python",
     "metadata": {},
     "outputs": [
      {
       "metadata": {},
       "output_type": "pyout",
       "prompt_number": 10,
       "text": [
        "-1.0"
       ]
      }
     ],
     "prompt_number": 10
    },
    {
     "cell_type": "markdown",
     "metadata": {},
     "source": [
      "Often the value returned by an operation will be used later on. Values can be stored for later use with the **assignment operator**:"
     ]
    },
    {
     "cell_type": "code",
     "collapsed": false,
     "input": [
      "a = 101"
     ],
     "language": "python",
     "metadata": {},
     "outputs": [],
     "prompt_number": 11
    },
    {
     "cell_type": "markdown",
     "metadata": {},
     "source": [
      "The command has stored the value 101 under the name <code>a</code>. Such stored values are called **objects**. \n",
      "\n",
      "Making an assignment to an object defines the object. Once an object has been defined, it can be referred to and used in later computations. \n",
      "\n",
      "To refer to the value stored in the object, just use the object\u2019s name itself. For instance:"
     ]
    },
    {
     "cell_type": "code",
     "collapsed": false,
     "input": [
      "b = np.sqrt(a)\n",
      "b"
     ],
     "language": "python",
     "metadata": {},
     "outputs": [
      {
       "metadata": {},
       "output_type": "pyout",
       "prompt_number": 12,
       "text": [
        "10.04987562112089"
       ]
      }
     ],
     "prompt_number": 12
    },
    {
     "cell_type": "markdown",
     "metadata": {},
     "source": [
      "There are some general rules for object names:\n",
      "\n",
      "+ Use only letters and numbers and \u2018underscores\u2019 (_)\n",
      "+ Do NOT use spaces anywhere in the name\n",
      "+ A number cannot be the first character in the name\n",
      "+ Capital letters are treated as distinct from lower-case letters (i.e., Python is case-sensitive)"
     ]
    },
    {
     "cell_type": "code",
     "collapsed": false,
     "input": [
      "3a = 10"
     ],
     "language": "python",
     "metadata": {},
     "outputs": [
      {
       "ename": "SyntaxError",
       "evalue": "invalid syntax (<ipython-input-13-276e317fa324>, line 1)",
       "output_type": "pyerr",
       "traceback": [
        "\u001b[0;36m  File \u001b[0;32m\"<ipython-input-13-276e317fa324>\"\u001b[0;36m, line \u001b[0;32m1\u001b[0m\n\u001b[0;31m    3a = 10\u001b[0m\n\u001b[0m     ^\u001b[0m\n\u001b[0;31mSyntaxError\u001b[0m\u001b[0;31m:\u001b[0m invalid syntax\n"
       ]
      }
     ],
     "prompt_number": 13
    },
    {
     "cell_type": "markdown",
     "metadata": {},
     "source": [
      "When you assign a new value to an existing object (*dynamic typing*), the former values of that object is erased from the computer memory. The former value of b was 10.0498756211, but after a new assignment:"
     ]
    },
    {
     "cell_type": "code",
     "collapsed": false,
     "input": [
      "b = 'a'\n",
      "print b"
     ],
     "language": "python",
     "metadata": {},
     "outputs": [
      {
       "output_type": "stream",
       "stream": "stdout",
       "text": [
        "a\n"
       ]
      }
     ],
     "prompt_number": 14
    },
    {
     "cell_type": "markdown",
     "metadata": {},
     "source": [
      "The value of an object is changed only via the assignment operator. Using an object in a computation does not change the value. "
     ]
    },
    {
     "cell_type": "markdown",
     "metadata": {},
     "source": [
      "The brilliant thing about organizing operators in terms of input arguments and output values is that the output of one operator can be used as an input to another. This lets complicated computations be built out of simpler ones.\n",
      "\n",
      "One way to connect the computations is by using objects to store the intermediate outputs:"
     ]
    },
    {
     "cell_type": "code",
     "collapsed": false,
     "input": [
      "a = np.arange(5)\n",
      "np.sqrt(a)"
     ],
     "language": "python",
     "metadata": {},
     "outputs": [
      {
       "metadata": {},
       "output_type": "pyout",
       "prompt_number": 15,
       "text": [
        "array([ 0.        ,  1.        ,  1.41421356,  1.73205081,  2.        ])"
       ]
      }
     ],
     "prompt_number": 15
    },
    {
     "cell_type": "markdown",
     "metadata": {},
     "source": [
      "You can also pass the output of an operator directly as an argument to another operator:"
     ]
    },
    {
     "cell_type": "code",
     "collapsed": false,
     "input": [
      "np.sqrt(np.arange(5))"
     ],
     "language": "python",
     "metadata": {},
     "outputs": [
      {
       "metadata": {},
       "output_type": "pyout",
       "prompt_number": 16,
       "text": [
        "array([ 0.        ,  1.        ,  1.41421356,  1.73205081,  2.        ])"
       ]
      }
     ],
     "prompt_number": 16
    },
    {
     "cell_type": "markdown",
     "metadata": {},
     "source": [
      "### Data Types\n",
      "\n",
      "Most of the examples used so far have dealt with numbers. But computers work with other kinds of information as well: text, photographs, sounds, sets of data, and so on. The word *type* is used to refer to the kind of information. \n",
      "\n",
      "It\u2019s important to know about the types of data because operators expect their input arguments to be of specific types. When you use the wrong type of input, the computer might not be able to process your command."
     ]
    },
    {
     "cell_type": "markdown",
     "metadata": {},
     "source": [
      "For our purposes, it\u2019s important to distinguish among several basic types:\n",
      "\n",
      "+ Numeric (positive and negative) data: \n",
      "    + decimal and fractional numbers (**floats**), <code>a = 3.5</code>\n",
      "    + whole numbers (**integers**), <code> b = -12560</code>, and \n",
      "    + arbitrary length whole numbers (**longs**):  <code>c=1809109863596239561236235625629561L</code>\n",
      "+ **Strings** of textual data - you indicate string data to the computer by enclosing the text in quotation marks (e.g., <code>name = \"python\"</code>).\n",
      "+ **Boolean** data: <code>a = True</code> or <code>a = False</code>.\n",
      "+ **Complex** numbers: <code>a = 2+3j</code>\n",
      "+ Sequence types: **tuples, lists, sets, dictionaries** and **files**."
     ]
    },
    {
     "cell_type": "code",
     "collapsed": false,
     "input": [
      "a = 10"
     ],
     "language": "python",
     "metadata": {},
     "outputs": [],
     "prompt_number": 17
    },
    {
     "cell_type": "code",
     "collapsed": false,
     "input": [
      "a = 'a'\n",
      "print a"
     ],
     "language": "python",
     "metadata": {},
     "outputs": [
      {
       "output_type": "stream",
       "stream": "stdout",
       "text": [
        "a\n"
       ]
      }
     ],
     "prompt_number": 18
    },
    {
     "cell_type": "markdown",
     "metadata": {},
     "source": [
      "### Operators\n",
      "\n",
      "+ Addition (also string, tuple and list concatenation) <code>a + b</code>\n",
      "+ Subtraction (also set difference): <code>a - b</code>\n",
      "+ Multiplication (also string, tuple and list replication): <code>a * b</code>\n",
      "+ Division: <code>a / b</code>\n",
      "+ Truncated integer division (rounded towards minus infinity): <code>a // b</code>\n",
      "+ Modulus or remainder: <code>a % b</code>\n",
      "+ Exponentiation: <code>a ** b</code>\n",
      "+ Assignment: <code>=</code>, <code>-=</code>, <code>+=</code>,<code>/=</code>,<code>*=</code>, <code>%=</code>, <code>//=</code>, <code>**=</code>\n",
      "+ Boolean comparisons: <code>==</code>, <code>!=</code>, <code><</code>,<code>></code>,<code><=</code>, <code>>=</code>\n",
      "+ Boolean operators: <code>and</code>, <code>or</code>, <code>not</code>\n",
      "+ Membership test operators: <code>in</code>, <code>not in</code>\n",
      "+ Object identity operators: <code>is</code>, <code>is not</code>\n",
      "+ Bitwise operators (or, xor, and, complement): <code>|</code>, <code>^</code>, <code>&</code>, <code>~</code>\n",
      "+ Left and right bit shift: <code><<</code>, <code>>></code>"
     ]
    },
    {
     "cell_type": "markdown",
     "metadata": {},
     "source": [
      "### Python as a calculator\n",
      "\n",
      "The Python language has a concise notation for arithmetic that looks very much like the traditional one."
     ]
    },
    {
     "cell_type": "code",
     "collapsed": false,
     "input": [
      "a = 3+2\n",
      "b= 3.5 * -8\n",
      "c = 10/6\n",
      "print a, b, c, 10./6."
     ],
     "language": "python",
     "metadata": {},
     "outputs": [
      {
       "output_type": "stream",
       "stream": "stdout",
       "text": [
        "5 -28.0 1 1.66666666667\n"
       ]
      }
     ],
     "prompt_number": 19
    },
    {
     "cell_type": "markdown",
     "metadata": {},
     "source": [
      "Some math functions are not available in the basic Python module, and they need to be imported from a specific module:"
     ]
    },
    {
     "cell_type": "code",
     "collapsed": false,
     "input": [
      "import math   # this instruction is not executed if the module has already been imported\n",
      "print math.pi + math.sin(100) + math.ceil(2.3)"
     ],
     "language": "python",
     "metadata": {},
     "outputs": [
      {
       "output_type": "stream",
       "stream": "stdout",
       "text": [
        "5.63522701248\n"
       ]
      }
     ],
     "prompt_number": 20
    },
    {
     "cell_type": "markdown",
     "metadata": {},
     "source": [
      "### A program in Python\n",
      "\n",
      "General Rules:\n",
      "\n",
      "+ All text from a <code>#</code> simbol to the end of a line are considered as comments.\n",
      "+ Code must be **indented** and sometimes delineated by colons. The Python standard for indentation is four spaces. Never use tabs: it can produce hard to find errors. Set you editor to convert tabs to spaces.\n",
      "+ Typically, a statement must be on a line. You can use a backslash <code>\\</code> at the end of a line to continue a statement on to the next line.\n"
     ]
    },
    {
     "cell_type": "code",
     "collapsed": false,
     "input": [
      "# This program computes the factorial of 100.\n",
      "\n",
      "fact = 1L\n",
      "n= 100\n",
      "for factor in range(n,0,-1):\n",
      "    fact = fact * factor \n",
      "print fact    "
     ],
     "language": "python",
     "metadata": {},
     "outputs": [
      {
       "output_type": "stream",
       "stream": "stdout",
       "text": [
        "93326215443944152681699238856266700490715968264381621468592963895217599993229915608941463976156518286253697920827223758251185210916864000000000000000000000000\n"
       ]
      }
     ],
     "prompt_number": 21
    },
    {
     "cell_type": "code",
     "collapsed": false,
     "input": [
      "range(10,0,-1)"
     ],
     "language": "python",
     "metadata": {},
     "outputs": [
      {
       "metadata": {},
       "output_type": "pyout",
       "prompt_number": 22,
       "text": [
        "[10, 9, 8, 7, 6, 5, 4, 3, 2, 1]"
       ]
      }
     ],
     "prompt_number": 22
    },
    {
     "cell_type": "markdown",
     "metadata": {},
     "source": [
      "<div class=\"alert alert-error\"> When we write a colon at the end of an iteration, all lines indented at the next level are considered *part* of the iteration. \n",
      "\n",
      "When we write a line at the same indentation as the iteration, we are closing the iteration.</div>"
     ]
    },
    {
     "cell_type": "markdown",
     "metadata": {},
     "source": [
      "### A function in Python\n",
      "\n"
     ]
    },
    {
     "cell_type": "markdown",
     "metadata": {},
     "source": [
      "#### Factorial\n",
      "\n",
      "The factorial of a non-negative integer $n$, denoted by $n!$, is the product of all positive integers less than or equal to $n$.  "
     ]
    },
    {
     "cell_type": "code",
     "collapsed": false,
     "input": [
      "def factorial(n):\n",
      "    fact = 1L\n",
      "    for factor in range(n,0,-1):\n",
      "        fact = fact * factor\n",
      "    return fact"
     ],
     "language": "python",
     "metadata": {},
     "outputs": [],
     "prompt_number": 23
    },
    {
     "cell_type": "code",
     "collapsed": false,
     "input": [
      "factorial(n)"
     ],
     "language": "python",
     "metadata": {},
     "outputs": [
      {
       "metadata": {},
       "output_type": "pyout",
       "prompt_number": 24,
       "text": [
        "93326215443944152681699238856266700490715968264381621468592963895217599993229915608941463976156518286253697920827223758251185210916864000000000000000000000000L"
       ]
      }
     ],
     "prompt_number": 24
    },
    {
     "cell_type": "markdown",
     "metadata": {},
     "source": [
      "#### Fibonacci\n",
      "\n",
      "The Fibonacci Sequence is the series of numbers: 0, 1, 1, 2, 3, 5, 8, 13, 21, 34, ...\n",
      "\n",
      "The general rule to compute the sequence is very simple: The next number is found by adding up the two numbers before it."
     ]
    },
    {
     "cell_type": "code",
     "collapsed": false,
     "input": [
      "def fib1(n):\n",
      "    if n==1:\n",
      "        return 1\n",
      "    if n==0:\n",
      "        return 0\n",
      "    return fib1(n-1) + fib1(n-2)\n",
      "\n",
      "fib1(20)\n",
      "\n",
      "# this function cannot compute fib(100)"
     ],
     "language": "python",
     "metadata": {},
     "outputs": [
      {
       "metadata": {},
       "output_type": "pyout",
       "prompt_number": 25,
       "text": [
        "6765"
       ]
      }
     ],
     "prompt_number": 25
    },
    {
     "cell_type": "code",
     "collapsed": false,
     "input": [
      "def fib2(n):\n",
      "    a, b = 0, 1\n",
      "    for i in range(1,n+1):\n",
      "        a, b = b, a + b\n",
      "    return a\n",
      "\n",
      "n = 1000\n",
      "if n<15:\n",
      "    print fib1(n)\n",
      "else: \n",
      "    print fib2(n)"
     ],
     "language": "python",
     "metadata": {},
     "outputs": [
      {
       "output_type": "stream",
       "stream": "stdout",
       "text": [
        "43466557686937456435688527675040625802564660517371780402481729089536555417949051890403879840079255169295922593080322634775209689623239873322471161642996440906533187938298969649928516003704476137795166849228875\n"
       ]
      }
     ],
     "prompt_number": 26
    },
    {
     "cell_type": "markdown",
     "metadata": {},
     "source": [
      "#### Greatest Common Divisor\n",
      "\n",
      "The greatest common divisor of two positive integers $a$ and $b$ is the largest divisor common to $a$ and $b$.  The Euclidean algorithm, or Euclid's algorithm, is an interative method for computing the greatest common divisor of two integers. \n",
      "\n",
      "+ If $a<b$, exchange $a$ and $b$.\n",
      "+ Divide $a$ by $b$ and get the remainder, $r$. If $r=0$, report $b$ as the GCD of $a$ and $b$.\n",
      "+ Replace $a$ by $b$ and replace $b$ by $r$. If $r \\neq 0$ iterate.\n",
      "\n"
     ]
    },
    {
     "cell_type": "code",
     "collapsed": false,
     "input": [
      "def gcd(a,b): # Euclides algorithm v1.0: pseudocode translation\n",
      "    r = 1\n",
      "    while r != 0:\n",
      "        if a<b:\n",
      "            c=a\n",
      "            a=b\n",
      "            b=c\n",
      "        r = a%b \n",
      "        if r == 0:\n",
      "            return b\n",
      "        else:\n",
      "            a = b\n",
      "            b = r\n",
      "\n",
      "gcd(100,16)"
     ],
     "language": "python",
     "metadata": {},
     "outputs": [
      {
       "metadata": {},
       "output_type": "pyout",
       "prompt_number": 27,
       "text": [
        "4"
       ]
      }
     ],
     "prompt_number": 27
    },
    {
     "cell_type": "code",
     "collapsed": false,
     "input": [
      "def gcd(a,b):   # Euclides algorithm v2.0: idiomatic Python\n",
      "    while a:\n",
      "        a, b = b%a, a\n",
      "    return b\n",
      "\n",
      "gcd(100,16)"
     ],
     "language": "python",
     "metadata": {},
     "outputs": [
      {
       "metadata": {},
       "output_type": "pyout",
       "prompt_number": 28,
       "text": [
        "4"
       ]
      }
     ],
     "prompt_number": 28
    },
    {
     "cell_type": "code",
     "collapsed": false,
     "input": [
      "a = 0\n",
      "a == False"
     ],
     "language": "python",
     "metadata": {},
     "outputs": [
      {
       "metadata": {},
       "output_type": "pyout",
       "prompt_number": 29,
       "text": [
        "True"
       ]
      }
     ],
     "prompt_number": 29
    },
    {
     "cell_type": "markdown",
     "metadata": {},
     "source": [
      "### String processing with Python\n",
      "\n",
      "Strings are list of characters:"
     ]
    },
    {
     "cell_type": "code",
     "collapsed": false,
     "input": [
      "a = 'python'\n",
      "type(a)"
     ],
     "language": "python",
     "metadata": {},
     "outputs": [
      {
       "metadata": {},
       "output_type": "pyout",
       "prompt_number": 30,
       "text": [
        "str"
       ]
      }
     ],
     "prompt_number": 30
    },
    {
     "cell_type": "code",
     "collapsed": false,
     "input": [
      "print \"Hello\""
     ],
     "language": "python",
     "metadata": {},
     "outputs": [
      {
       "output_type": "stream",
       "stream": "stdout",
       "text": [
        "Hello\n"
       ]
      }
     ],
     "prompt_number": 31
    },
    {
     "cell_type": "code",
     "collapsed": false,
     "input": [
      "print \"This is 'an example' of the use of quotes and double quotes\"\n",
      "print 'This is \"another example\" of the use of quotes and double quotes'"
     ],
     "language": "python",
     "metadata": {},
     "outputs": [
      {
       "output_type": "stream",
       "stream": "stdout",
       "text": [
        "This is 'an example' of the use of quotes and double quotes\n",
        "This is \"another example\" of the use of quotes and double quotes\n"
       ]
      }
     ],
     "prompt_number": 32
    },
    {
     "cell_type": "markdown",
     "metadata": {},
     "source": [
      "We can use the operator ``+`` to concatenate strings:"
     ]
    },
    {
     "cell_type": "code",
     "collapsed": false,
     "input": [
      "a = 'He'\n",
      "b = 'llo'\n",
      "c = a+b+'!'\n",
      "print c"
     ],
     "language": "python",
     "metadata": {},
     "outputs": [
      {
       "output_type": "stream",
       "stream": "stdout",
       "text": [
        "Hello!\n"
       ]
      }
     ],
     "prompt_number": 33
    },
    {
     "cell_type": "markdown",
     "metadata": {},
     "source": [
      "Substrings within a string can be accessed using **slicing**. Slicing uses ``[]`` to contain the indices of the characters in a string, where the first index is $0$, and the last is $n - 1$ (assuming the string has $n$ characters). "
     ]
    },
    {
     "cell_type": "code",
     "collapsed": false,
     "input": [
      "a = 'Python'\n",
      "print a[:], a[1], a[2:], a[:3], a[2:4], a[::2], a[1::2]"
     ],
     "language": "python",
     "metadata": {},
     "outputs": [
      {
       "output_type": "stream",
       "stream": "stdout",
       "text": [
        "Python y thon Pyt th Pto yhn\n"
       ]
      }
     ],
     "prompt_number": 34
    },
    {
     "cell_type": "markdown",
     "metadata": {},
     "source": [
      "The most advanced string functiona are stored in an external module called ``string``"
     ]
    },
    {
     "cell_type": "code",
     "collapsed": false,
     "input": [
      "import string as st\n",
      "help(st)"
     ],
     "language": "python",
     "metadata": {},
     "outputs": [
      {
       "output_type": "stream",
       "stream": "stdout",
       "text": [
        "Help on module string:\n",
        "\n",
        "NAME\n",
        "    string - A collection of string operations (most are no longer used).\n",
        "\n",
        "FILE\n",
        "    //anaconda/python.app/Contents/lib/python2.7/string.py\n",
        "\n",
        "DESCRIPTION\n",
        "    Warning: most of the code you see here isn't normally used nowadays.\n",
        "    Beginning with Python 1.6, many of these functions are implemented as\n",
        "    methods on the standard string object. They used to be implemented by\n",
        "    a built-in module called strop, but strop is now obsolete itself.\n",
        "    \n",
        "    Public module variables:\n",
        "    \n",
        "    whitespace -- a string containing all characters considered whitespace\n",
        "    lowercase -- a string containing all characters considered lowercase letters\n",
        "    uppercase -- a string containing all characters considered uppercase letters\n",
        "    letters -- a string containing all characters considered letters\n",
        "    digits -- a string containing all characters considered decimal digits\n",
        "    hexdigits -- a string containing all characters considered hexadecimal digits\n",
        "    octdigits -- a string containing all characters considered octal digits\n",
        "    punctuation -- a string containing all characters considered punctuation\n",
        "    printable -- a string containing all characters considered printable\n",
        "\n",
        "CLASSES\n",
        "    __builtin__.object\n",
        "        Formatter\n",
        "        Template\n",
        "    \n",
        "    class Formatter(__builtin__.object)\n",
        "     |  Methods defined here:\n",
        "     |  \n",
        "     |  check_unused_args(self, used_args, args, kwargs)\n",
        "     |  \n",
        "     |  convert_field(self, value, conversion)\n",
        "     |  \n",
        "     |  format(self, format_string, *args, **kwargs)\n",
        "     |  \n",
        "     |  format_field(self, value, format_spec)\n",
        "     |  \n",
        "     |  get_field(self, field_name, args, kwargs)\n",
        "     |      # given a field_name, find the object it references.\n",
        "     |      #  field_name:   the field being looked up, e.g. \"0.name\"\n",
        "     |      #                 or \"lookup[3]\"\n",
        "     |      #  used_args:    a set of which args have been used\n",
        "     |      #  args, kwargs: as passed in to vformat\n",
        "     |  \n",
        "     |  get_value(self, key, args, kwargs)\n",
        "     |  \n",
        "     |  parse(self, format_string)\n",
        "     |      # returns an iterable that contains tuples of the form:\n",
        "     |      # (literal_text, field_name, format_spec, conversion)\n",
        "     |      # literal_text can be zero length\n",
        "     |      # field_name can be None, in which case there's no\n",
        "     |      #  object to format and output\n",
        "     |      # if field_name is not None, it is looked up, formatted\n",
        "     |      #  with format_spec and conversion and then used\n",
        "     |  \n",
        "     |  vformat(self, format_string, args, kwargs)\n",
        "     |  \n",
        "     |  ----------------------------------------------------------------------\n",
        "     |  Data descriptors defined here:\n",
        "     |  \n",
        "     |  __dict__\n",
        "     |      dictionary for instance variables (if defined)\n",
        "     |  \n",
        "     |  __weakref__\n",
        "     |      list of weak references to the object (if defined)\n",
        "    \n",
        "    class Template(__builtin__.object)\n",
        "     |  A string class for supporting $-substitutions.\n",
        "     |  \n",
        "     |  Methods defined here:\n",
        "     |  \n",
        "     |  __init__(self, template)\n",
        "     |  \n",
        "     |  safe_substitute(self, *args, **kws)\n",
        "     |  \n",
        "     |  substitute(self, *args, **kws)\n",
        "     |  \n",
        "     |  ----------------------------------------------------------------------\n",
        "     |  Data descriptors defined here:\n",
        "     |  \n",
        "     |  __dict__\n",
        "     |      dictionary for instance variables (if defined)\n",
        "     |  \n",
        "     |  __weakref__\n",
        "     |      list of weak references to the object (if defined)\n",
        "     |  \n",
        "     |  ----------------------------------------------------------------------\n",
        "     |  Data and other attributes defined here:\n",
        "     |  \n",
        "     |  __metaclass__ = <class 'string._TemplateMetaclass'>\n",
        "     |  \n",
        "     |  \n",
        "     |  delimiter = '$'\n",
        "     |  \n",
        "     |  idpattern = '[_a-z][_a-z0-9]*'\n",
        "     |  \n",
        "     |  pattern = <_sre.SRE_Pattern object>\n",
        "\n",
        "FUNCTIONS\n",
        "    atof(s)\n",
        "        atof(s) -> float\n",
        "        \n",
        "        Return the floating point number represented by the string s.\n",
        "    \n",
        "    atoi(s, base=10)\n",
        "        atoi(s [,base]) -> int\n",
        "        \n",
        "        Return the integer represented by the string s in the given\n",
        "        base, which defaults to 10.  The string s must consist of one\n",
        "        or more digits, possibly preceded by a sign.  If base is 0, it\n",
        "        is chosen from the leading characters of s, 0 for octal, 0x or\n",
        "        0X for hexadecimal.  If base is 16, a preceding 0x or 0X is\n",
        "        accepted.\n",
        "    \n",
        "    atol(s, base=10)\n",
        "        atol(s [,base]) -> long\n",
        "        \n",
        "        Return the long integer represented by the string s in the\n",
        "        given base, which defaults to 10.  The string s must consist\n",
        "        of one or more digits, possibly preceded by a sign.  If base\n",
        "        is 0, it is chosen from the leading characters of s, 0 for\n",
        "        octal, 0x or 0X for hexadecimal.  If base is 16, a preceding\n",
        "        0x or 0X is accepted.  A trailing L or l is not accepted,\n",
        "        unless base is 0.\n",
        "    \n",
        "    capitalize(s)\n",
        "        capitalize(s) -> string\n",
        "        \n",
        "        Return a copy of the string s with only its first character\n",
        "        capitalized.\n",
        "    \n",
        "    capwords(s, sep=None)\n",
        "        capwords(s [,sep]) -> string\n",
        "        \n",
        "        Split the argument into words using split, capitalize each\n",
        "        word using capitalize, and join the capitalized words using\n",
        "        join.  If the optional second argument sep is absent or None,\n",
        "        runs of whitespace characters are replaced by a single space\n",
        "        and leading and trailing whitespace are removed, otherwise\n",
        "        sep is used to split and join the words.\n",
        "    \n",
        "    center(s, width, *args)\n",
        "        center(s, width[, fillchar]) -> string\n",
        "        \n",
        "        Return a center version of s, in a field of the specified\n",
        "        width. padded with spaces as needed.  The string is never\n",
        "        truncated.  If specified the fillchar is used instead of spaces.\n",
        "    \n",
        "    count(s, *args)\n",
        "        count(s, sub[, start[,end]]) -> int\n",
        "        \n",
        "        Return the number of occurrences of substring sub in string\n",
        "        s[start:end].  Optional arguments start and end are\n",
        "        interpreted as in slice notation.\n",
        "    \n",
        "    expandtabs(s, tabsize=8)\n",
        "        expandtabs(s [,tabsize]) -> string\n",
        "        \n",
        "        Return a copy of the string s with all tab characters replaced\n",
        "        by the appropriate number of spaces, depending on the current\n",
        "        column, and the tabsize (default 8).\n",
        "    \n",
        "    find(s, *args)\n",
        "        find(s, sub [,start [,end]]) -> in\n",
        "        \n",
        "        Return the lowest index in s where substring sub is found,\n",
        "        such that sub is contained within s[start,end].  Optional\n",
        "        arguments start and end are interpreted as in slice notation.\n",
        "        \n",
        "        Return -1 on failure.\n",
        "    \n",
        "    index(s, *args)\n",
        "        index(s, sub [,start [,end]]) -> int\n",
        "        \n",
        "        Like find but raises ValueError when the substring is not found.\n",
        "    \n",
        "    join(words, sep=' ')\n",
        "        join(list [,sep]) -> string\n",
        "        \n",
        "        Return a string composed of the words in list, with\n",
        "        intervening occurrences of sep.  The default separator is a\n",
        "        single space.\n",
        "        \n",
        "        (joinfields and join are synonymous)\n",
        "    \n",
        "    joinfields = join(words, sep=' ')\n",
        "        join(list [,sep]) -> string\n",
        "        \n",
        "        Return a string composed of the words in list, with\n",
        "        intervening occurrences of sep.  The default separator is a\n",
        "        single space.\n",
        "        \n",
        "        (joinfields and join are synonymous)\n",
        "    \n",
        "    ljust(s, width, *args)\n",
        "        ljust(s, width[, fillchar]) -> string\n",
        "        \n",
        "        Return a left-justified version of s, in a field of the\n",
        "        specified width, padded with spaces as needed.  The string is\n",
        "        never truncated.  If specified the fillchar is used instead of spaces.\n",
        "    \n",
        "    lower(s)\n",
        "        lower(s) -> string\n",
        "        \n",
        "        Return a copy of the string s converted to lowercase.\n",
        "    \n",
        "    lstrip(s, chars=None)\n",
        "        lstrip(s [,chars]) -> string\n",
        "        \n",
        "        Return a copy of the string s with leading whitespace removed.\n",
        "        If chars is given and not None, remove characters in chars instead.\n",
        "    \n",
        "    maketrans(...)\n",
        "        maketrans(frm, to) -> string\n",
        "        \n",
        "        Return a translation table (a string of 256 bytes long)\n",
        "        suitable for use in string.translate.  The strings frm and to\n",
        "        must be of the same length.\n",
        "    \n",
        "    replace(s, old, new, maxreplace=-1)\n",
        "        replace (str, old, new[, maxreplace]) -> string\n",
        "        \n",
        "        Return a copy of string str with all occurrences of substring\n",
        "        old replaced by new. If the optional argument maxreplace is\n",
        "        given, only the first maxreplace occurrences are replaced.\n",
        "    \n",
        "    rfind(s, *args)\n",
        "        rfind(s, sub [,start [,end]]) -> int\n",
        "        \n",
        "        Return the highest index in s where substring sub is found,\n",
        "        such that sub is contained within s[start,end].  Optional\n",
        "        arguments start and end are interpreted as in slice notation.\n",
        "        \n",
        "        Return -1 on failure.\n",
        "    \n",
        "    rindex(s, *args)\n",
        "        rindex(s, sub [,start [,end]]) -> int\n",
        "        \n",
        "        Like rfind but raises ValueError when the substring is not found.\n",
        "    \n",
        "    rjust(s, width, *args)\n",
        "        rjust(s, width[, fillchar]) -> string\n",
        "        \n",
        "        Return a right-justified version of s, in a field of the\n",
        "        specified width, padded with spaces as needed.  The string is\n",
        "        never truncated.  If specified the fillchar is used instead of spaces.\n",
        "    \n",
        "    rsplit(s, sep=None, maxsplit=-1)\n",
        "        rsplit(s [,sep [,maxsplit]]) -> list of strings\n",
        "        \n",
        "        Return a list of the words in the string s, using sep as the\n",
        "        delimiter string, starting at the end of the string and working\n",
        "        to the front.  If maxsplit is given, at most maxsplit splits are\n",
        "        done. If sep is not specified or is None, any whitespace string\n",
        "        is a separator.\n",
        "    \n",
        "    rstrip(s, chars=None)\n",
        "        rstrip(s [,chars]) -> string\n",
        "        \n",
        "        Return a copy of the string s with trailing whitespace removed.\n",
        "        If chars is given and not None, remove characters in chars instead.\n",
        "    \n",
        "    split(s, sep=None, maxsplit=-1)\n",
        "        split(s [,sep [,maxsplit]]) -> list of strings\n",
        "        \n",
        "        Return a list of the words in the string s, using sep as the\n",
        "        delimiter string.  If maxsplit is given, splits at no more than\n",
        "        maxsplit places (resulting in at most maxsplit+1 words).  If sep\n",
        "        is not specified or is None, any whitespace string is a separator.\n",
        "        \n",
        "        (split and splitfields are synonymous)\n",
        "    \n",
        "    splitfields = split(s, sep=None, maxsplit=-1)\n",
        "        split(s [,sep [,maxsplit]]) -> list of strings\n",
        "        \n",
        "        Return a list of the words in the string s, using sep as the\n",
        "        delimiter string.  If maxsplit is given, splits at no more than\n",
        "        maxsplit places (resulting in at most maxsplit+1 words).  If sep\n",
        "        is not specified or is None, any whitespace string is a separator.\n",
        "        \n",
        "        (split and splitfields are synonymous)\n",
        "    \n",
        "    strip(s, chars=None)\n",
        "        strip(s [,chars]) -> string\n",
        "        \n",
        "        Return a copy of the string s with leading and trailing\n",
        "        whitespace removed.\n",
        "        If chars is given and not None, remove characters in chars instead.\n",
        "        If chars is unicode, S will be converted to unicode before stripping.\n",
        "    \n",
        "    swapcase(s)\n",
        "        swapcase(s) -> string\n",
        "        \n",
        "        Return a copy of the string s with upper case characters\n",
        "        converted to lowercase and vice versa.\n",
        "    \n",
        "    translate(s, table, deletions='')\n",
        "        translate(s,table [,deletions]) -> string\n",
        "        \n",
        "        Return a copy of the string s, where all characters occurring\n",
        "        in the optional argument deletions are removed, and the\n",
        "        remaining characters have been mapped through the given\n",
        "        translation table, which must be a string of length 256.  The\n",
        "        deletions argument is not allowed for Unicode strings.\n",
        "    \n",
        "    upper(s)\n",
        "        upper(s) -> string\n",
        "        \n",
        "        Return a copy of the string s converted to uppercase.\n",
        "    \n",
        "    zfill(x, width)\n",
        "        zfill(x, width) -> string\n",
        "        \n",
        "        Pad a numeric string x with zeros on the left, to fill a field\n",
        "        of the specified width.  The string x is never truncated.\n",
        "\n",
        "DATA\n",
        "    ascii_letters = 'abcdefghijklmnopqrstuvwxyzABCDEFGHIJKLMNOPQRSTUVWXYZ'\n",
        "    ascii_lowercase = 'abcdefghijklmnopqrstuvwxyz'\n",
        "    ascii_uppercase = 'ABCDEFGHIJKLMNOPQRSTUVWXYZ'\n",
        "    digits = '0123456789'\n",
        "    hexdigits = '0123456789abcdefABCDEF'\n",
        "    letters = 'ABCDEFGHIJKLMNOPQRSTUVWXYZabcdefghijklmnopqrstuvwxyz'\n",
        "    lowercase = 'abcdefghijklmnopqrstuvwxyz'\n",
        "    octdigits = '01234567'\n",
        "    printable = '0123456789abcdefghijklmnopqrstuvwxyzABCDEFGHIJKLMNOPQRSTU...\n",
        "    punctuation = '!\"#$%&\\'()*+,-./:;<=>?@[\\\\]^_`{|}~'\n",
        "    uppercase = 'ABCDEFGHIJKLMNOPQRSTUVWXYZ'\n",
        "    whitespace = '\\t\\n\\x0b\\x0c\\r '\n",
        "\n",
        "\n"
       ]
      }
     ],
     "prompt_number": 35
    },
    {
     "cell_type": "code",
     "collapsed": false,
     "input": [
      "type(st.atof('10.3'))"
     ],
     "language": "python",
     "metadata": {},
     "outputs": [
      {
       "metadata": {},
       "output_type": "pyout",
       "prompt_number": 36,
       "text": [
        "float"
       ]
      }
     ],
     "prompt_number": 36
    },
    {
     "cell_type": "code",
     "collapsed": false,
     "input": [
      "a = 'a'"
     ],
     "language": "python",
     "metadata": {},
     "outputs": [],
     "prompt_number": 2
    },
    {
     "cell_type": "code",
     "collapsed": false,
     "input": [
      "# press tab\n",
      "a."
     ],
     "language": "python",
     "metadata": {},
     "outputs": [
      {
       "metadata": {},
       "output_type": "pyout",
       "prompt_number": 38,
       "text": [
        "<function center>"
       ]
      }
     ],
     "prompt_number": 38
    },
    {
     "cell_type": "code",
     "collapsed": false,
     "input": [
      "a='Hello'\n",
      "b = a.lower()\n",
      "print b"
     ],
     "language": "python",
     "metadata": {},
     "outputs": [
      {
       "output_type": "stream",
       "stream": "stdout",
       "text": [
        "hello\n"
       ]
      }
     ],
     "prompt_number": 41
    },
    {
     "cell_type": "code",
     "collapsed": false,
     "input": [
      "print st.ascii_letters\n",
      "'a' in st.ascii_letters"
     ],
     "language": "python",
     "metadata": {},
     "outputs": [
      {
       "output_type": "stream",
       "stream": "stdout",
       "text": [
        "abcdefghijklmnopqrstuvwxyzABCDEFGHIJKLMNOPQRSTUVWXYZ\n"
       ]
      },
      {
       "metadata": {},
       "output_type": "pyout",
       "prompt_number": 42,
       "text": [
        "True"
       ]
      }
     ],
     "prompt_number": 42
    },
    {
     "cell_type": "markdown",
     "metadata": {},
     "source": [
      "### Lists\n",
      "\n",
      "Lists are a built-in data type which require other data types to be useful. A list is a collection of other objects \u2013 floats, integers, complex numbers, strings or even other lists.\n",
      "\n",
      "Lists also support slicing to retrieve one or more elements. Basic lists are constructed using square braces, ``[]``, and values are separated using\n",
      "commas."
     ]
    },
    {
     "cell_type": "code",
     "collapsed": false,
     "input": [
      "l=[]\n",
      "type(l)"
     ],
     "language": "python",
     "metadata": {},
     "outputs": [
      {
       "metadata": {},
       "output_type": "pyout",
       "prompt_number": 43,
       "text": [
        "list"
       ]
      }
     ],
     "prompt_number": 43
    },
    {
     "cell_type": "code",
     "collapsed": false,
     "input": [
      "x=[1,2,3,4,[1,2,3,4],'jordi']\n",
      "print x[4:], x[0], x[5]"
     ],
     "language": "python",
     "metadata": {},
     "outputs": [
      {
       "output_type": "stream",
       "stream": "stdout",
       "text": [
        "[[1, 2, 3, 4], 'jordi'] 1 jordi\n"
       ]
      }
     ],
     "prompt_number": 44
    },
    {
     "cell_type": "code",
     "collapsed": false,
     "input": [
      "x[-2:]  # The stride can also be negative which can be used to select the\n",
      "        # elements of a list in reverse order."
     ],
     "language": "python",
     "metadata": {},
     "outputs": [
      {
       "metadata": {},
       "output_type": "pyout",
       "prompt_number": 45,
       "text": [
        "[[1, 2, 3, 4], 'jordi']"
       ]
      }
     ],
     "prompt_number": 45
    },
    {
     "cell_type": "markdown",
     "metadata": {},
     "source": [
      "Lists can be multidimensional and slicing can be done directly in higher dimensions:"
     ]
    },
    {
     "cell_type": "code",
     "collapsed": false,
     "input": [
      "x = [[1,2,3,4], [5,6,7,8]]\n",
      "print x[0], x[0][0]"
     ],
     "language": "python",
     "metadata": {},
     "outputs": [
      {
       "output_type": "stream",
       "stream": "stdout",
       "text": [
        "[1, 2, 3, 4] 1\n"
       ]
      }
     ],
     "prompt_number": 46
    },
    {
     "cell_type": "markdown",
     "metadata": {},
     "source": [
      "### Help: Python Tutorial"
     ]
    },
    {
     "cell_type": "code",
     "collapsed": false,
     "input": [
      "from IPython.display import HTML\n",
      "HTML('<iframe src=http://docs.python.org/3/tutorial/index.html?useformat=mobile width=780 height=350></iframe>')"
     ],
     "language": "python",
     "metadata": {},
     "outputs": [
      {
       "html": [
        "<iframe src=http://docs.python.org/3/tutorial/index.html?useformat=mobile width=780 height=350></iframe>"
       ],
       "metadata": {},
       "output_type": "pyout",
       "prompt_number": 47,
       "text": [
        "<IPython.core.display.HTML at 0x104d93ed0>"
       ]
      }
     ],
     "prompt_number": 47
    },
    {
     "cell_type": "markdown",
     "metadata": {},
     "source": [
      "### Conditionals\n",
      "\n",
      "The conditional structure in Python is <code>If</code>. It is usally combined with \n",
      "relational operators: <code> <, <=, ==, >=, >, != </code>."
     ]
    },
    {
     "cell_type": "code",
     "collapsed": false,
     "input": [
      "def main(celsius):\n",
      "    fahrenheit = 9.0 /5.0 * celsius + 32\n",
      "    print \"The temperature in Fahrenheit is\", fahrenheit\n",
      "    if fahrenheit > 90:\n",
      "        print \"It's really hot out there.\"\n",
      "    elif fahrenheit < 30:\n",
      "        print \"It's really cold out there.\"\n",
      "    else: pass\n",
      "        \n",
      "main(35)"
     ],
     "language": "python",
     "metadata": {},
     "outputs": [
      {
       "output_type": "stream",
       "stream": "stdout",
       "text": [
        "The temperature in Fahrenheit is 95.0\n",
        "It's really hot out there.\n"
       ]
      }
     ],
     "prompt_number": 48
    },
    {
     "cell_type": "markdown",
     "metadata": {},
     "source": [
      "``If`` statesments can be combined with loops (``for``, ``while``):"
     ]
    },
    {
     "cell_type": "code",
     "collapsed": false,
     "input": [
      "numbers = [-5, 3,2,-1,9,6]\n",
      "total = 0\n",
      "for n in numbers:\n",
      "    if n >= 0:\n",
      "        total += n\n",
      "print total"
     ],
     "language": "python",
     "metadata": {},
     "outputs": [
      {
       "output_type": "stream",
       "stream": "stdout",
       "text": [
        "20\n"
       ]
      }
     ],
     "prompt_number": 49
    },
    {
     "cell_type": "code",
     "collapsed": false,
     "input": [
      "def average(a):\n",
      "    sum = 0.0\n",
      "    for i in a:\n",
      "        sum = sum + i\n",
      "    return sum/len(a)\n",
      "\n",
      "average([1,2,3,4])"
     ],
     "language": "python",
     "metadata": {},
     "outputs": [
      {
       "metadata": {},
       "output_type": "pyout",
       "prompt_number": 50,
       "text": [
        "2.5"
       ]
      }
     ],
     "prompt_number": 50
    },
    {
     "cell_type": "code",
     "collapsed": false,
     "input": [
      "def sumdif(x,y):\n",
      "    sum, dif = x+y, x-y\n",
      "    return sum, dif\n",
      "\n",
      "a, b = sumdif(2,2)\n",
      "print a, b"
     ],
     "language": "python",
     "metadata": {},
     "outputs": [
      {
       "output_type": "stream",
       "stream": "stdout",
       "text": [
        "4 0\n"
       ]
      }
     ],
     "prompt_number": 51
    },
    {
     "cell_type": "code",
     "collapsed": false,
     "input": [
      "def main(n):\n",
      "    cont = 0\n",
      "    while (int(n) > 0):\n",
      "        cont += 1\n",
      "        n = n/2\n",
      "#        print n\n",
      "    return cont-1\n",
      "\n",
      "main(10)\n",
      "# main(10.3)"
     ],
     "language": "python",
     "metadata": {},
     "outputs": [
      {
       "metadata": {},
       "output_type": "pyout",
       "prompt_number": 52,
       "text": [
        "3"
       ]
      }
     ],
     "prompt_number": 52
    },
    {
     "cell_type": "markdown",
     "metadata": {},
     "source": [
      "### Boolean operators."
     ]
    },
    {
     "cell_type": "code",
     "collapsed": false,
     "input": [
      "a = 4\n",
      "b = 40\n",
      "(a>2) and (b>30)"
     ],
     "language": "python",
     "metadata": {},
     "outputs": [
      {
       "metadata": {},
       "output_type": "pyout",
       "prompt_number": 53,
       "text": [
        "True"
       ]
      }
     ],
     "prompt_number": 53
    },
    {
     "cell_type": "code",
     "collapsed": false,
     "input": [
      "(a>2) or (b>100)"
     ],
     "language": "python",
     "metadata": {},
     "outputs": [
      {
       "metadata": {},
       "output_type": "pyout",
       "prompt_number": 54,
       "text": [
        "True"
       ]
      }
     ],
     "prompt_number": 54
    },
    {
     "cell_type": "code",
     "collapsed": false,
     "input": [
      "not(a>2)"
     ],
     "language": "python",
     "metadata": {},
     "outputs": [
      {
       "metadata": {},
       "output_type": "pyout",
       "prompt_number": 55,
       "text": [
        "False"
       ]
      }
     ],
     "prompt_number": 55
    },
    {
     "cell_type": "markdown",
     "metadata": {},
     "source": [
      "### Data Collections\n",
      "\n",
      "We need to represent data collections: words in a text, students in a course, experimental data, etc., or to store intermediate results. The most simple data collection is the <code>list</code> (an ordered sequence of objects):"
     ]
    },
    {
     "cell_type": "code",
     "collapsed": false,
     "input": [
      "range(10)"
     ],
     "language": "python",
     "metadata": {},
     "outputs": [
      {
       "metadata": {},
       "output_type": "pyout",
       "prompt_number": 56,
       "text": [
        "[0, 1, 2, 3, 4, 5, 6, 7, 8, 9]"
       ]
      }
     ],
     "prompt_number": 56
    },
    {
     "cell_type": "code",
     "collapsed": false,
     "input": [
      "import string\n",
      "b = string.split(\"This is an example\")\n",
      "print b"
     ],
     "language": "python",
     "metadata": {},
     "outputs": [
      {
       "output_type": "stream",
       "stream": "stdout",
       "text": [
        "['This', 'is', 'an', 'example']\n"
       ]
      }
     ],
     "prompt_number": 57
    },
    {
     "cell_type": "markdown",
     "metadata": {},
     "source": [
      "Lists are *mutable, dynamic and non-homogeneous* objects:"
     ]
    },
    {
     "cell_type": "code",
     "collapsed": false,
     "input": [
      "a = [1,2,3,4]\n",
      "a[1] = 1\n",
      "print a"
     ],
     "language": "python",
     "metadata": {},
     "outputs": [
      {
       "output_type": "stream",
       "stream": "stdout",
       "text": [
        "[1, 1, 3, 4]\n"
       ]
      }
     ],
     "prompt_number": 58
    },
    {
     "cell_type": "code",
     "collapsed": false,
     "input": [
      "c = a + b\n",
      "print c"
     ],
     "language": "python",
     "metadata": {},
     "outputs": [
      {
       "output_type": "stream",
       "stream": "stdout",
       "text": [
        "[1, 1, 3, 4, 'This', 'is', 'an', 'example']\n"
       ]
      }
     ],
     "prompt_number": 59
    },
    {
     "cell_type": "code",
     "collapsed": false,
     "input": [
      "zeroes = [0] * 10\n",
      "del zeroes[5:]\n",
      "print zeroes"
     ],
     "language": "python",
     "metadata": {},
     "outputs": [
      {
       "output_type": "stream",
       "stream": "stdout",
       "text": [
        "[0, 0, 0, 0, 0]\n"
       ]
      }
     ],
     "prompt_number": 60
    },
    {
     "cell_type": "code",
     "collapsed": false,
     "input": [
      "zeroes.append(1)\n",
      "print zeroes"
     ],
     "language": "python",
     "metadata": {},
     "outputs": [
      {
       "output_type": "stream",
       "stream": "stdout",
       "text": [
        "[0, 0, 0, 0, 0, 1]\n"
       ]
      }
     ],
     "prompt_number": 61
    },
    {
     "cell_type": "code",
     "collapsed": false,
     "input": [
      "zeroes.remove(1)\n",
      "print zeroes"
     ],
     "language": "python",
     "metadata": {},
     "outputs": [
      {
       "output_type": "stream",
       "stream": "stdout",
       "text": [
        "[0, 0, 0, 0, 0]\n"
       ]
      }
     ],
     "prompt_number": 62
    },
    {
     "cell_type": "code",
     "collapsed": false,
     "input": [
      "if 1 in zeroes:\n",
      "    print False\n",
      "else: \n",
      "    print True"
     ],
     "language": "python",
     "metadata": {},
     "outputs": [
      {
       "output_type": "stream",
       "stream": "stdout",
       "text": [
        "True\n"
       ]
      }
     ],
     "prompt_number": 63
    },
    {
     "cell_type": "markdown",
     "metadata": {},
     "source": [
      "### References\n",
      "\n",
      "We can inspect the reference of an object:"
     ]
    },
    {
     "cell_type": "code",
     "collapsed": false,
     "input": [
      "a ='hello'\n",
      "print id(a)"
     ],
     "language": "python",
     "metadata": {},
     "outputs": [
      {
       "output_type": "stream",
       "stream": "stdout",
       "text": [
        "4375823200\n"
       ]
      }
     ],
     "prompt_number": 64
    },
    {
     "cell_type": "markdown",
     "metadata": {},
     "source": [
      "Two different objects:"
     ]
    },
    {
     "cell_type": "code",
     "collapsed": false,
     "input": [
      "a = [1,2,3]\n",
      "b = [1,2,3]\n",
      "print id(a), id(b)"
     ],
     "language": "python",
     "metadata": {},
     "outputs": [
      {
       "output_type": "stream",
       "stream": "stdout",
       "text": [
        "4375743736 4375744024\n"
       ]
      }
     ],
     "prompt_number": 65
    },
    {
     "cell_type": "markdown",
     "metadata": {},
     "source": [
      "Object alias:"
     ]
    },
    {
     "cell_type": "code",
     "collapsed": false,
     "input": [
      "a = [1,2,3]\n",
      "b = a                     # alias\n",
      "print id(a), id(b)"
     ],
     "language": "python",
     "metadata": {},
     "outputs": [
      {
       "output_type": "stream",
       "stream": "stdout",
       "text": [
        "4375741936 4375741936\n"
       ]
      }
     ],
     "prompt_number": 66
    },
    {
     "cell_type": "markdown",
     "metadata": {},
     "source": [
      "Cloning:"
     ]
    },
    {
     "cell_type": "code",
     "collapsed": false,
     "input": [
      "a = [1,2,3]\n",
      "b = a[:]                  # cloning with :\n",
      "\n",
      "print a, b, b[1:], id(a), id(b), id(b[1:])"
     ],
     "language": "python",
     "metadata": {},
     "outputs": [
      {
       "output_type": "stream",
       "stream": "stdout",
       "text": [
        "[1, 2, 3] [1, 2, 3] [2, 3] 4376284192 4375741432 4375789936\n"
       ]
      }
     ],
     "prompt_number": 67
    },
    {
     "cell_type": "markdown",
     "metadata": {},
     "source": [
      "When a list is an argument of a function, we are sending the *reference*, not a *copy*"
     ]
    },
    {
     "cell_type": "code",
     "collapsed": false,
     "input": [
      "def head(list):\n",
      "    return list[0]\n",
      "\n",
      "numbers=[1,2,3,4]\n",
      "print head(numbers), numbers"
     ],
     "language": "python",
     "metadata": {},
     "outputs": [
      {
       "output_type": "stream",
       "stream": "stdout",
       "text": [
        "1 [1, 2, 3, 4]\n"
       ]
      }
     ],
     "prompt_number": 68
    },
    {
     "cell_type": "code",
     "collapsed": false,
     "input": [
      "def change_first_element(list):\n",
      "    list[0]=0\n",
      "    \n",
      "numbers=[1,2,3,4]\n",
      "change_first_element(numbers)\n",
      "print numbers"
     ],
     "language": "python",
     "metadata": {},
     "outputs": [
      {
       "output_type": "stream",
       "stream": "stdout",
       "text": [
        "[0, 2, 3, 4]\n"
       ]
      }
     ],
     "prompt_number": 69
    },
    {
     "cell_type": "markdown",
     "metadata": {},
     "source": [
      "If we return a list we are returning a reference:"
     ]
    },
    {
     "cell_type": "code",
     "collapsed": false,
     "input": [
      "def tail(list):\n",
      "    return list[1:]     # we are creating a new list\n",
      "\n",
      "numbers=[1,2,3,4]\n",
      "rest = tail(numbers)\n",
      "print rest, numbers\n",
      "print id(rest), id(numbers)"
     ],
     "language": "python",
     "metadata": {},
     "outputs": [
      {
       "output_type": "stream",
       "stream": "stdout",
       "text": [
        "[2, 3, 4] [1, 2, 3, 4]\n",
        "4375791304 4375741000\n"
       ]
      }
     ],
     "prompt_number": 70
    },
    {
     "cell_type": "code",
     "collapsed": false,
     "input": [
      "# Press tab\n",
      "numbers."
     ],
     "language": "python",
     "metadata": {},
     "outputs": [
      {
       "ename": "SyntaxError",
       "evalue": "invalid syntax (<ipython-input-71-1dba14706474>, line 2)",
       "output_type": "pyerr",
       "traceback": [
        "\u001b[0;36m  File \u001b[0;32m\"<ipython-input-71-1dba14706474>\"\u001b[0;36m, line \u001b[0;32m2\u001b[0m\n\u001b[0;31m    numbers.\u001b[0m\n\u001b[0m            ^\u001b[0m\n\u001b[0;31mSyntaxError\u001b[0m\u001b[0;31m:\u001b[0m invalid syntax\n"
       ]
      }
     ],
     "prompt_number": 71
    },
    {
     "cell_type": "markdown",
     "metadata": {},
     "source": [
      "Sometimes it is important to perform a *sanity check* about what is doing a pre-defined function:"
     ]
    },
    {
     "cell_type": "code",
     "collapsed": false,
     "input": [
      "numbers=[1,2,3,4]\n",
      "def test(l):\n",
      "    return l.reverse()\n",
      "\n",
      "test(numbers)\n",
      "print numbers, numbers.reverse(), numbers"
     ],
     "language": "python",
     "metadata": {},
     "outputs": [
      {
       "output_type": "stream",
       "stream": "stdout",
       "text": [
        "[4, 3, 2, 1] None [1, 2, 3, 4]\n"
       ]
      }
     ],
     "prompt_number": 72
    },
    {
     "cell_type": "markdown",
     "metadata": {},
     "source": [
      "### Dictionaries\n",
      "\n",
      "A dictionary is a collection that allows the access of an *element* by using a *key*:"
     ]
    },
    {
     "cell_type": "code",
     "collapsed": false,
     "input": [
      "dict = {\"d\": \"D\", \"b\":\"B\", \"c\":\"C\"}\n",
      "dict[\"d\"]"
     ],
     "language": "python",
     "metadata": {},
     "outputs": [
      {
       "metadata": {},
       "output_type": "pyout",
       "prompt_number": 73,
       "text": [
        "'D'"
       ]
      }
     ],
     "prompt_number": 73
    },
    {
     "cell_type": "markdown",
     "metadata": {},
     "source": [
      "Dictionaries are **mutable** and **unordered**:"
     ]
    },
    {
     "cell_type": "code",
     "collapsed": false,
     "input": [
      "dict[\"a\"]=\"A\"\n",
      "dict"
     ],
     "language": "python",
     "metadata": {},
     "outputs": [
      {
       "metadata": {},
       "output_type": "pyout",
       "prompt_number": 74,
       "text": [
        "{'a': 'A', 'b': 'B', 'c': 'C', 'd': 'D'}"
       ]
      }
     ],
     "prompt_number": 74
    },
    {
     "cell_type": "code",
     "collapsed": false,
     "input": [
      "dict.has_key(\"a\")"
     ],
     "language": "python",
     "metadata": {},
     "outputs": [
      {
       "metadata": {},
       "output_type": "pyout",
       "prompt_number": 75,
       "text": [
        "True"
       ]
      }
     ],
     "prompt_number": 75
    },
    {
     "cell_type": "code",
     "collapsed": false,
     "input": [
      "del dict[\"a\"]\n",
      "print dict"
     ],
     "language": "python",
     "metadata": {},
     "outputs": [
      {
       "output_type": "stream",
       "stream": "stdout",
       "text": [
        "{'c': 'C', 'b': 'B', 'd': 'D'}\n"
       ]
      }
     ],
     "prompt_number": 76
    },
    {
     "cell_type": "code",
     "collapsed": false,
     "input": [
      "dict = {\"d\": \"D\", \"b\":\"B\", \"c\":\"C\"}\n",
      "dict.items()"
     ],
     "language": "python",
     "metadata": {},
     "outputs": [
      {
       "metadata": {},
       "output_type": "pyout",
       "prompt_number": 77,
       "text": [
        "[('c', 'C'), ('b', 'B'), ('d', 'D')]"
       ]
      }
     ],
     "prompt_number": 77
    },
    {
     "cell_type": "markdown",
     "metadata": {},
     "source": [
      "### Tuples\n",
      "\n",
      "Tuples are **non-mutable** lists:"
     ]
    },
    {
     "cell_type": "code",
     "collapsed": false,
     "input": [
      "tup = ('a', 'b', 'c')\n",
      "print type(tup), tup[1:3]"
     ],
     "language": "python",
     "metadata": {},
     "outputs": [
      {
       "output_type": "stream",
       "stream": "stdout",
       "text": [
        "<type 'tuple'> ('b', 'c')\n"
       ]
      }
     ],
     "prompt_number": 78
    },
    {
     "cell_type": "code",
     "collapsed": false,
     "input": [
      "tup[0]='d'"
     ],
     "language": "python",
     "metadata": {},
     "outputs": [
      {
       "ename": "TypeError",
       "evalue": "'tuple' object does not support item assignment",
       "output_type": "pyerr",
       "traceback": [
        "\u001b[0;31m---------------------------------------------------------------------------\u001b[0m\n\u001b[0;31mTypeError\u001b[0m                                 Traceback (most recent call last)",
        "\u001b[0;32m<ipython-input-79-fe55ce642cf0>\u001b[0m in \u001b[0;36m<module>\u001b[0;34m()\u001b[0m\n\u001b[0;32m----> 1\u001b[0;31m \u001b[0mtup\u001b[0m\u001b[0;34m[\u001b[0m\u001b[0;36m0\u001b[0m\u001b[0;34m]\u001b[0m\u001b[0;34m=\u001b[0m\u001b[0;34m'd'\u001b[0m\u001b[0;34m\u001b[0m\u001b[0m\n\u001b[0m",
        "\u001b[0;31mTypeError\u001b[0m: 'tuple' object does not support item assignment"
       ]
      }
     ],
     "prompt_number": 79
    },
    {
     "cell_type": "markdown",
     "metadata": {},
     "source": [
      "**Example**: How to compute the statistics of words in a document."
     ]
    },
    {
     "cell_type": "code",
     "collapsed": false,
     "input": [
      "# We can read a file in a list of line strings or as a string\n",
      "text = open(\"files/text.txt\",'r').readlines()\n",
      "for l in text:\n",
      "    print l,"
     ],
     "language": "python",
     "metadata": {},
     "outputs": [
      {
       "output_type": "stream",
       "stream": "stdout",
       "text": [
        "\n",
        "                 BORGES....... SU ULTIMO POEMA\n",
        "\n",
        "\tSi pudiera vivir nuevamente mi vida...\n",
        "\tEn la proxima cometeria mas errores.\n",
        "\tNo intentaria ser tan perfecto, \n",
        "\tme relajaria mas.\n",
        "\tSeria mas tonto de lo que he sido, \n",
        "\tde hecho tomaria muy pocas cosas con seriedad.\n",
        "\tSeria menos higienico.\n",
        "\tCorreria mas riesgos, \n",
        "\tharia mas viajes, \n",
        "\tcontemplaria mas atardeceres,\n",
        "\tsubiria mas montanas, \n",
        "\tnadaria mas rios.\n",
        "\tIria a mas lugares adonde nunca he ido, \n",
        "\tcomeria mas helados y menos  habas, \n",
        "\ttendria mas problemas reales \n",
        "\ty menos IMAGINARIOS.\n",
        "\tYo fui de esas personas que vivio \n",
        "\tsensata y prolificamente cada minuto de su vida; \n",
        "\tclaro que tuve alegrias.\n",
        "\tPero si pudiera volver atras trataria de tener\n",
        "\tsolamente buenos momentos.\n",
        "\tPor si no lo saben, \n",
        "\tde eso esta hecha la vida,\n",
        "\tsolo de momentos; \n",
        "\tno! no te pierdas el ahora.\n",
        "\tYo era uno de esos que nunca iban a ninguna parte\n",
        "\tsin un termometro, una bolsa de agua caliente, un\n",
        "\tparaguas y un paracaidas.\n",
        "\tSi pudiera volver a vivir \n",
        "\tcomenzaria a andar descalzo a principios de la\n",
        "\tprimavera y seguiria asi hasta conclur el oton~o.\n",
        "\tdaria mas vueltas en calesita; \n",
        "\tcontemplaria mas amaneceres y \n",
        "\tjugaria mas con los ninyos, \n",
        "\tsi tuviera otra vida por delante...\n",
        "\n",
        "\tPero ya ven, tengo 85 an~os y se que me estoy\n",
        "\tmuriendo...\n",
        "\n",
        "\n",
        "\tPero ya ven, tengo 85 an~os y se que me estoy\n",
        "\tmuriendo...\n"
       ]
      }
     ],
     "prompt_number": 3
    },
    {
     "cell_type": "code",
     "collapsed": false,
     "input": [
      "import string\n",
      "\n",
      "def compare((w1,c1),(w2,c2)):\n",
      "# A sorting funtion returns negative if x<y, zero if x==y, positive if x>y.\n",
      "    if c1 < c2:\n",
      "        return -1\n",
      "    elif c1 == c2:\n",
      "        return 0\n",
      "    else:\n",
      "        return 1\n",
      "    \n",
      "def main():\n",
      "    \n",
      "# We read the file in a string\n",
      "    text = open(\"files/text.txt\",'r').read()\n",
      "    text = string.lower(text)\n",
      "    for ch in '!\"#$%&/()=?\u00bf^*`+\u00a8[]{}-:;,.':\n",
      "        text = string.replace(text, ch, ' ')\n",
      "# We build a list with all words (blank separation)\n",
      "    words = string.split(text)\n",
      "\n",
      "# We use a dictionary for counting words\n",
      "    counts = {}\n",
      "    for w in words:\n",
      "        try:\n",
      "            counts[w] = counts[w] + 1\n",
      "        except KeyError:\n",
      "            counts[w] = 1\n",
      "            \n",
      "# We create a sorted list\n",
      "    items = counts.items()\n",
      "    items.sort(compare)\n",
      "    \n",
      "# We print the list\n",
      "    for i in range(len(items)):\n",
      "        print \"%-2s%3d\" % items[i],'|' ,\n",
      "\n",
      "main()    "
     ],
     "language": "python",
     "metadata": {},
     "outputs": [
      {
       "output_type": "stream",
       "stream": "stdout",
       "text": [
        "montanas  1 | tener  1 | paracaidas  1 | oton~o  1 | calesita  1 | borges  1 | otra  1 | comeria  1 | iban  1 | personas  1 | te  1 | atardeceres  1 | termometro  1 | sensata  1 | buenos  1 | vueltas  1 | agua  1 | perfecto  1 | andar  1 | haria  1 | bolsa  1 | una  1 | cosas  1 | ninguna  1 | tendria  1 | sido  1 | ser  1 | esos  1 | pocas  1 | tuve  1 | muy  1 | errores  1 | riesgos  1 | jugaria  1 | eso  1 | solo  1 | nadaria  1 | poema  1 | descalzo  1 | problemas  1 | prolificamente  1 | asi  1 | pierdas  1 | subiria  1 | ahora  1 | ido  1 | iria  1 | tomaria  1 | claro  1 | helados  1 | intentaria  1 | cada  1 | amaneceres  1 | relajaria  1 | tonto  1 | principios  1 | viajes  1 | esas  1 | vivio  1 | los  1 | solamente  1 | ninyos  1 | atras  1 | rios  1 | lugares  1 | comenzaria  1 | reales  1 | cometeria  1 | seriedad  1 | saben  1 | ultimo  1 | daria  1 | mi  1 | era  1 | habas  1 | tuviera  1 | fui  1 | esta  1 | adonde  1 | paraguas  1 | tan  1 | proxima  1 | conclur  1 | parte  1 | caliente  1 | hecho  1 | hecha  1 | alegrias  1 | sin  1 | nuevamente  1 | imaginarios  1 | higienico  1 | delante  1 | primavera  1 | seguiria  1 | hasta  1 | correria  1 | minuto  1 | trataria  1 | uno  1 | estoy  2 | an~os  2 | lo  2 | ven  2 | yo  2 | ya  2 | volver  2 | el  2 | momentos  2 | en  2 | contemplaria  2 | 85  2 | nunca  2 | con  2 | por  2 | vivir  2 | seria  2 | he  2 | tengo  2 | muriendo  2 | su  2 | se  2 | menos  3 | la  3 | pudiera  3 | pero  3 | me  3 | un  3 | vida  4 | no  4 | a   5 | si  5 | que  6 | y   8 | de 10 | mas 14 |\n"
       ]
      }
     ],
     "prompt_number": 4
    },
    {
     "cell_type": "markdown",
     "metadata": {},
     "source": [
      "### Lists (and dictionary) comprehensions\n",
      "\n",
      "Lists comprehensions are a way to fit a ``for`` loop, an ``if`` statement, and an assignment all in one line.\n",
      "\n",
      "A list comprehension consists of the following parts:\n",
      "\n",
      "+ An input sequence.\n",
      "+ A variable representing members of the input sequence.\n",
      "+ An optional expression.\n",
      "+ An output expression producing elements of the output list from members of the input sequence that satisfy the predicate."
     ]
    },
    {
     "cell_type": "code",
     "collapsed": false,
     "input": [
      "num = [1, 4, -5, 10, -7, 2, 3, -1]\n",
      "squared = [ x**2 for x in num if x > 0]\n",
      "print type(squared), squared"
     ],
     "language": "python",
     "metadata": {},
     "outputs": [
      {
       "output_type": "stream",
       "stream": "stdout",
       "text": [
        "<type 'list'> [1, 16, 100, 4, 9]\n"
       ]
      }
     ],
     "prompt_number": 5
    },
    {
     "cell_type": "markdown",
     "metadata": {},
     "source": [
      "There is a downside to list comprehensions: the entire list has to be stored in memory at once. This isn\u2019t a problem for small lists like the ones in the above examples, or even of lists several orders of magnitude larger. But we can use **<font color=\"red\">generators</font>** to solve this problem.\n",
      "\n",
      "Generator expressions do not load the whole list into memory at once, but instead create a *generator object* so only one list element has to be loaded at any time.\n",
      "\n",
      "Generator expressions have the same syntax as list comprehensions, but with parentheses around the outside instead of brackets:"
     ]
    },
    {
     "cell_type": "code",
     "collapsed": false,
     "input": [
      "num = [1, 4, -5, 10, -7, 2, 3, -1]\n",
      "squared = ( x**2 for x in num if x > 0 )\n",
      "print type(squared), squared"
     ],
     "language": "python",
     "metadata": {},
     "outputs": [
      {
       "output_type": "stream",
       "stream": "stdout",
       "text": [
        "<type 'generator'> <generator object <genexpr> at 0x0000000009A15438>\n"
       ]
      }
     ],
     "prompt_number": 6
    },
    {
     "cell_type": "markdown",
     "metadata": {},
     "source": [
      "The elements of the generator must be accessed by an iterator because they are generated when needed:"
     ]
    },
    {
     "cell_type": "code",
     "collapsed": false,
     "input": [
      "lis = []\n",
      "for item in squared:\n",
      "    lis = lis + [item]\n",
      "print lis"
     ],
     "language": "python",
     "metadata": {},
     "outputs": [
      {
       "output_type": "stream",
       "stream": "stdout",
       "text": [
        "[1, 16, 100, 4, 9]\n"
       ]
      }
     ],
     "prompt_number": 7
    },
    {
     "cell_type": "markdown",
     "metadata": {},
     "source": [
      "We can define our own generators with the ``yield`` statesment. For example, let's build a generator for the binary representation of a number between 0 and 1 with arbitrary precision."
     ]
    },
    {
     "cell_type": "code",
     "collapsed": false,
     "input": [
      "# binary representation of a number between 0 and 1 (b bits precision).\n",
      "\n",
      "def res(n,b):\n",
      "    bin_a = '.'\n",
      "    for i in range(b):\n",
      "        n *= 2\n",
      "        bin_a +=  str(int(n))\n",
      "        n = n % 1\n",
      "    return bin_a\n",
      "\n",
      "print res(1/3.0,10)"
     ],
     "language": "python",
     "metadata": {},
     "outputs": [
      {
       "output_type": "stream",
       "stream": "stdout",
       "text": [
        ".0101010101\n"
       ]
      }
     ],
     "prompt_number": 8
    },
    {
     "cell_type": "code",
     "collapsed": false,
     "input": [
      "# binary representation of a number between 0 and 1 (precision as needed).\n",
      "\n",
      "def binRep(n):\n",
      "    while True:\n",
      "        n *= 2\n",
      "        yield int(n)\n",
      "        n = n % 1\n",
      "\n",
      "a = binRep(1/3.) \n",
      "a_bin = '.'\n",
      "for i in range(50):\n",
      "    a_bin +=  str(a.next())\n",
      "    \n",
      "print a_bin"
     ],
     "language": "python",
     "metadata": {},
     "outputs": [
      {
       "output_type": "stream",
       "stream": "stdout",
       "text": [
        ".01010101010101010101010101010101010101010101010101\n"
       ]
      }
     ],
     "prompt_number": 9
    },
    {
     "cell_type": "markdown",
     "metadata": {},
     "source": [
      "** Exercise **\n",
      "\n",
      "+ Write a function with two parameters <code>a</code> and <code>b</code>, to compute the final amount we get if we deposite 1000\u20ac during <code>a</code> years in a bank account with an interest rate of <code>b</code> per cent.\n",
      "+ What is the result for ``a``=10, ``b``=10"
     ]
    },
    {
     "cell_type": "code",
     "collapsed": false,
     "input": [
      "# Your solution here"
     ],
     "language": "python",
     "metadata": {},
     "outputs": [],
     "prompt_number": 10
    },
    {
     "cell_type": "code",
     "collapsed": false,
     "input": [
      "# My solution\n",
      "\n",
      "def amount(a,b):\n",
      "    am = 1000.0\n",
      "    for i in range(a):\n",
      "        am = am + am* b/100.\n",
      "    return am\n",
      "\n",
      "amount(10,10)"
     ],
     "language": "python",
     "metadata": {},
     "outputs": [
      {
       "metadata": {},
       "output_type": "pyout",
       "prompt_number": 11,
       "text": [
        "2593.7424601"
       ]
      }
     ],
     "prompt_number": 11
    },
    {
     "cell_type": "markdown",
     "metadata": {},
     "source": [
      "**Exercise**\n",
      "\n",
      "+ Write a function with one parameter <code>a</code>, to compute the minimum period we need to double the amount in an account with an interest rate of <code>a</code> per cent.\n",
      "+ What is the result for ``a``=3?"
     ]
    },
    {
     "cell_type": "code",
     "collapsed": false,
     "input": [
      "# Your solution here"
     ],
     "language": "python",
     "metadata": {},
     "outputs": [],
     "prompt_number": 12
    },
    {
     "cell_type": "code",
     "collapsed": false,
     "input": [
      "# My solution\n",
      "\n",
      "def double(a):\n",
      "    amount = 1.0\n",
      "    c = 1\n",
      "    while amount<2.0:\n",
      "        amount += amount * a/100.\n",
      "        c += 1\n",
      "    return c-1\n",
      "\n",
      "double(3)"
     ],
     "language": "python",
     "metadata": {},
     "outputs": [
      {
       "metadata": {},
       "output_type": "pyout",
       "prompt_number": 13,
       "text": [
        "24"
       ]
      }
     ],
     "prompt_number": 13
    },
    {
     "cell_type": "markdown",
     "metadata": {},
     "source": [
      "** Exercise**\n",
      "\n",
      "> (...) In mathematics, the sieve of Eratosthenes, one of a number of prime number sieves, is a simple, ancient algorithm for finding all prime numbers up to any given limit. A prime number is a natural number which has exactly two distinct natural number divisors: 1 and itself. To find all the prime numbers less than or equal to a given integer $n$ by Eratosthenes' method.\n",
      "> (Source: *Wikipedia*)\n",
      "\n",
      "+ Write a program to implement the Eratostenes algorithm. First create a list of consecutive integers from 2 through $n$: (2, 3, 4, ..., n). Then,    \n",
      "    - Initially, let $p$ equal 2, the first prime number.\n",
      "    - Starting from $p$, enumerate its multiples by counting to $n$ in increments of $p$, and mark them in the list (these will be 2p, 3p, 4p, etc.; the $p$ itself should not be marked).\n",
      "    - Find the first number greater than $p$ in the list that is not marked. If there was no such number, stop. Otherwise, let $p$ now equal this new number (which is the next prime), and repeat from step 2.\n",
      "    - When the algorithm terminates, all the numbers in the list that are not marked are prime. (...)"
     ]
    },
    {
     "cell_type": "code",
     "collapsed": false,
     "input": [
      "# Your solution here"
     ],
     "language": "python",
     "metadata": {},
     "outputs": [],
     "prompt_number": 91
    },
    {
     "cell_type": "code",
     "collapsed": false,
     "input": [
      "\n",
      "# My solution\n",
      "def eras(n):\n",
      "  siv=range(n+1)\n",
      "  # 1 is not prime\n",
      "  siv[1]=0\n",
      "  # The last possible factor is sqrt(n)\n",
      "  sqn=int(round(n**0.5))\n",
      "  for i in range(2,sqn+1):\n",
      "    if siv[i]!=0:\n",
      "        siv[2*i:n/i*i+1:i]=[0]*(n/i-1)\n",
      "  return filter(None,siv)\n",
      "    \n",
      "print eras(50)\n",
      "\n",
      "%timeit eras(10000)"
     ],
     "language": "python",
     "metadata": {},
     "outputs": [
      {
       "output_type": "stream",
       "stream": "stdout",
       "text": [
        "[2, 3, 5, 7, 11, 13, 17, 19, 23, 29, 31, 37, 41, 43, 47]\n",
        "1000 loops, best of 3: 448 \u00b5s per loop"
       ]
      },
      {
       "output_type": "stream",
       "stream": "stdout",
       "text": [
        "\n"
       ]
      }
     ],
     "prompt_number": 92
    },
    {
     "cell_type": "markdown",
     "metadata": {},
     "source": [
      "**Exercise:** \n",
      "\n",
      "+ Compute the set of bigrams of a string. (``'hola'->'ho'+'ol'+'la'``) "
     ]
    },
    {
     "cell_type": "code",
     "collapsed": false,
     "input": [
      "# Your solution here"
     ],
     "language": "python",
     "metadata": {},
     "outputs": [],
     "prompt_number": 93
    },
    {
     "cell_type": "code",
     "collapsed": false,
     "input": [
      "%%writefile -a solution.py\n",
      "\n",
      "\n",
      "# My solution\n",
      "\n",
      "def bigrams(a):\n",
      "    s = set()\n",
      "    for i in range(len(a)-1):\n",
      "        s.add(a[i:i+2])\n",
      "    return s\n",
      "\n",
      "print bigrams(\"llangardaix\")\n",
      "print bigrams(\"setze jutges d'un jutjat\")"
     ],
     "language": "python",
     "metadata": {},
     "outputs": [
      {
       "output_type": "stream",
       "stream": "stdout",
       "text": [
        "Writing solution.py\n"
       ]
      }
     ],
     "prompt_number": 94
    },
    {
     "cell_type": "code",
     "collapsed": false,
     "input": [
      "%load solution.py"
     ],
     "language": "python",
     "metadata": {},
     "outputs": [],
     "prompt_number": 95
    },
    {
     "cell_type": "markdown",
     "metadata": {},
     "source": [
      "### Objects\n",
      "\n",
      "You can define your own classes and objects."
     ]
    },
    {
     "cell_type": "code",
     "collapsed": false,
     "input": [
      "#creating a class\n",
      "\n",
      "class Rectangle:\n",
      "    def __init__(self,x,y):\n",
      "        self.x = x\n",
      "        self.y = y\n",
      "    description = \"This shape has not been described yet\"\n",
      "    author = \"Nobody has claimed to make this shape yet\"\n",
      "    def area(self):\n",
      "        return self.x * self.y\n",
      "    def perimeter(self):\n",
      "        return 2 * self.x + 2 * self.y\n",
      "    def describe(self,text):\n",
      "        self.description = text\n",
      "    def authorName(self,text):\n",
      "        self.author = text\n",
      "    def scaleSize(self,scale):\n",
      "        self.x = self.x * scale\n",
      "        self.y = self.y * scale\n",
      "\n",
      "#creating objects\n",
      "a = Rectangle(100, 45)\n",
      "b = Rectangle(10,230)\n",
      "\n",
      "#describing the rectangles\n",
      "a.describe(\"A fat rectangle\")\n",
      "b.describe(\"A thin rectangle\")"
     ],
     "language": "python",
     "metadata": {},
     "outputs": [],
     "prompt_number": 97
    },
    {
     "cell_type": "code",
     "collapsed": false,
     "input": [
      "#finding the area of your rectangle:\n",
      "print a.area()\n",
      " \n",
      "#finding the perimeter of your rectangle:\n",
      "print a.perimeter()\n",
      "\n",
      "#getting the description\n",
      "print a.description\n",
      "print a.author"
     ],
     "language": "python",
     "metadata": {},
     "outputs": [
      {
       "output_type": "stream",
       "stream": "stdout",
       "text": [
        "4500\n",
        "290\n",
        "A fat rectangle\n",
        "Nobody has claimed to make this shape yet\n"
       ]
      }
     ],
     "prompt_number": 98
    },
    {
     "cell_type": "code",
     "collapsed": false,
     "input": [
      "#finding the area of your rectangle:\n",
      "print b.area()\n",
      "print b.description\n",
      "\n",
      "#making the rectangle 50% smaller\n",
      "b.scaleSize(0.5)\n",
      "b.describe(\"A small thin rectangle\")\n",
      " \n",
      "#re-printing the new area of the rectangle\n",
      "print b.area()\n",
      "print b.description"
     ],
     "language": "python",
     "metadata": {},
     "outputs": [
      {
       "output_type": "stream",
       "stream": "stdout",
       "text": [
        "2300\n",
        "A thin rectangle\n",
        "575.0\n",
        "A small thin rectangle\n"
       ]
      }
     ],
     "prompt_number": 99
    }
   ],
   "metadata": {}
  }
 ]
}